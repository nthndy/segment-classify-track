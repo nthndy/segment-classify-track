{
 "cells": [
  {
   "cell_type": "markdown",
   "id": "a4cf9a6b",
   "metadata": {},
   "source": [
    "# Napari image viewer\n",
    "\n",
    "Uses the octopuslite dask image loader to automatically sort and load images from multichannel time lapse experiments. Can also use btrack to load associated tracks and segmentation images."
   ]
  },
  {
   "cell_type": "code",
   "execution_count": 2,
   "id": "3a23b02f",
   "metadata": {},
   "outputs": [],
   "source": [
    "import napari\n",
    "from octopuslite import DaskOctopusLiteLoader\n",
    "import glob\n",
    "import numpy as np"
   ]
  },
  {
   "cell_type": "markdown",
   "id": "9cc54637",
   "metadata": {},
   "source": [
    "# Load images"
   ]
  },
  {
   "cell_type": "code",
   "execution_count": 3,
   "id": "5206859a",
   "metadata": {
    "scrolled": true
   },
   "outputs": [
    {
     "name": "stdout",
     "output_type": "stream",
     "text": [
      "['/home/nathan/data/kraken/ras/ND0013/Pos1/mask_reversed_transform_tensor.npy', '/home/nathan/data/kraken/ras/ND0013/Pos1/mask_reversed_clipped_transform_tensor.npy', '/home/nathan/data/kraken/ras/ND0013/Pos1/gfp_transform_tensor.npy', '/home/nathan/data/kraken/ras/ND0013/Pos1/gfp_transform_tensor_clipped.npy']\n"
     ]
    }
   ],
   "source": [
    "# define experiment ID and select a position\n",
    "expt = 'ND0013'\n",
    "pos = 'Pos1'\n",
    "# point to where the data is\n",
    "root_dir = '/home/nathan/data/kraken/ras'\n",
    "image_path = f'{root_dir}/{expt}/{pos}/{pos}_images'\n",
    "transform_paths = glob.glob(f'{root_dir}/{expt}/{pos}/*.npy')\n",
    "print(transform_paths)\n",
    "#tracks_path = f'{root_dir}/{expt}/{pos}/tracks.h5'"
   ]
  },
  {
   "cell_type": "code",
   "execution_count": 4,
   "id": "fd0b530b",
   "metadata": {},
   "outputs": [],
   "source": [
    "transform_path = transform_paths[1] #'/home/nathan/data/kraken/ras/ND0019/Pos2/mask_reversed_clipped_transform_tensor.npy'"
   ]
  },
  {
   "cell_type": "code",
   "execution_count": 5,
   "id": "72347393",
   "metadata": {},
   "outputs": [
    {
     "name": "stdout",
     "output_type": "stream",
     "text": [
      "Using cropping: (1200, 1600)\n"
     ]
    },
    {
     "data": {
      "text/plain": [
       "[<Channels.BRIGHTFIELD: 0>,\n",
       " <Channels.GFP: 1>,\n",
       " <Channels.RFP: 2>,\n",
       " <Channels.IRFP: 3>,\n",
       " <Channels.MASK_2CH: 99>]"
      ]
     },
     "execution_count": 5,
     "metadata": {},
     "output_type": "execute_result"
    }
   ],
   "source": [
    "# lazily load images\n",
    "images = DaskOctopusLiteLoader(image_path, \n",
    "                              # transforms = transform_path,\n",
    "                               crop = (1200,1600),\n",
    "                               remove_background = True)\n",
    "images.channels"
   ]
  },
  {
   "cell_type": "code",
   "execution_count": 6,
   "id": "6921a651",
   "metadata": {},
   "outputs": [],
   "source": [
    "gfp = images['gfp']\n",
    "rfp = images['rfp']\n",
    "irfp = images['irfp']\n",
    "# ras_masks = images['mask_gfp'].astype(int)\n",
    "# nuc_masks = images['mask'].astype(int)"
   ]
  },
  {
   "cell_type": "markdown",
   "id": "5c17659d",
   "metadata": {},
   "source": [
    "### Add tracks"
   ]
  },
  {
   "cell_type": "code",
   "execution_count": null,
   "id": "568a2f65",
   "metadata": {},
   "outputs": [],
   "source": [
    "import btrack\n",
    "from btrack.utils import tracks_to_napari"
   ]
  },
  {
   "cell_type": "markdown",
   "id": "bc41789f",
   "metadata": {},
   "source": [
    "#### iRFP tracks"
   ]
  },
  {
   "cell_type": "code",
   "execution_count": null,
   "id": "0612ea14",
   "metadata": {
    "scrolled": true
   },
   "outputs": [],
   "source": [
    "with btrack.dataio.HDF5FileHandler(tracks_path, \n",
    "                                   'r', obj_type='obj_type_1'\n",
    "                                  ) as h:\n",
    "    irfp_tracks = h.tracks"
   ]
  },
  {
   "cell_type": "code",
   "execution_count": null,
   "id": "2b98d28c",
   "metadata": {},
   "outputs": [],
   "source": [
    "irfp_tracks, irfp_properties, irfp_graph = tracks_to_napari(irfp_tracks, ndim = 2)"
   ]
  },
  {
   "cell_type": "markdown",
   "id": "4b0d99aa",
   "metadata": {},
   "source": [
    "#### RFP tracks"
   ]
  },
  {
   "cell_type": "code",
   "execution_count": null,
   "id": "8be591f3",
   "metadata": {
    "scrolled": true
   },
   "outputs": [],
   "source": [
    "with btrack.dataio.HDF5FileHandler(tracks_path, \n",
    "                                   'r', obj_type='obj_type_2'\n",
    "                                  ) as h:\n",
    "    rfp_tracks = h.tracks"
   ]
  },
  {
   "cell_type": "code",
   "execution_count": null,
   "id": "43a9ba3c",
   "metadata": {},
   "outputs": [],
   "source": [
    "rfp_tracks, rfp_properties, rfp_graph = tracks_to_napari(rfp_tracks, ndim = 2)"
   ]
  },
  {
   "cell_type": "markdown",
   "id": "603b486b",
   "metadata": {},
   "source": [
    "# Launch viewer"
   ]
  },
  {
   "cell_type": "code",
   "execution_count": 6,
   "id": "0a15cefe",
   "metadata": {},
   "outputs": [],
   "source": [
    "N = 1200 ## number of frames to load"
   ]
  },
  {
   "cell_type": "code",
   "execution_count": 7,
   "id": "8ffa3640",
   "metadata": {},
   "outputs": [
    {
     "name": "stderr",
     "output_type": "stream",
     "text": [
      "WARNING: inotify_add_watch(/home/nathan/.config/ibus/bus/c26a8917fc1f49d3ac0c4008c27ee56f-unix-1) failed: (No space left on device)\n"
     ]
    },
    {
     "name": "stdout",
     "output_type": "stream",
     "text": [
      "Assistant skips harvesting pyclesperanto as it's not installed.\n"
     ]
    },
    {
     "name": "stderr",
     "output_type": "stream",
     "text": [
      "__init__.py (165): Public access to Window.qt_viewer is deprecated and will be removed in\n",
      "v0.5.0. It is considered an \"implementation detail\" of the napari\n",
      "application, not part of the napari viewer model. If your use case\n",
      "requires access to qt_viewer, please open an issue to discuss.\n"
     ]
    },
    {
     "data": {
      "text/plain": [
       "<Image layer 'irfp' at 0x7f37eddb62e0>"
      ]
     },
     "execution_count": 7,
     "metadata": {},
     "output_type": "execute_result"
    }
   ],
   "source": [
    "viewer = napari.Viewer()\n",
    "viewer.add_image(gfp[0:1200].astype(np.uint8), name=\"gfp\", \n",
    "                 contrast_limits=[0,255],\n",
    "                 blending = 'additive', colormap = 'green')#, is_pyramid=False)\n",
    "viewer.add_image(rfp[0:1200].astype(np.uint8), name=\"rfp\", \n",
    "                 contrast_limits=[0,55], \n",
    "                 blending = 'additive', colormap = 'magenta')#, is_pyramid=False)\n",
    "viewer.add_image(irfp[0:1200].astype(np.uint8), name=\"irfp\", \n",
    "                 contrast_limits=[0,255], \n",
    "                 blending = 'additive', colormap = 'cyan')#\n",
    "# viewer.add_labels(nuc_masks[0:1200].astype(int), name = 'masks',\n",
    "# #                 contrast_limits=[0,255],\n",
    "#                blending = 'additive',)\n",
    "# viewer.add_labels(ras_masks[0:1200].astype(int), name = 'cyto masks',\n",
    "# #                 contrast_limits=[0,255],\n",
    "#                blending = 'additive',)\n",
    "# viewer.add_tracks(irfp_tracks)\n",
    "# viewer.add_tracks(rfp_tracks)"
   ]
  },
  {
   "cell_type": "markdown",
   "id": "1d57ee09",
   "metadata": {},
   "source": [
    "# Ras mask tidier"
   ]
  },
  {
   "cell_type": "code",
   "execution_count": 113,
   "id": "263150ff",
   "metadata": {},
   "outputs": [
    {
     "data": {
      "text/plain": [
       "(219, 1200, 1600)"
      ]
     },
     "execution_count": 113,
     "metadata": {},
     "output_type": "execute_result"
    }
   ],
   "source": [
    "ras_masks.shape"
   ]
  },
  {
   "cell_type": "code",
   "execution_count": null,
   "id": "2ca3d4f2",
   "metadata": {},
   "outputs": [],
   "source": [
    "for cell_ID, class_label in enumerate(details['class_id'], 1):\n",
    "    #needs erosion step to stop merging of labels\n",
    "    segment = nd.binary_erosion(labels==cell_ID)\n",
    "    mask[segment] = class_label\n",
    "    # set background to zero\n",
    "    mask[labels == 0] = 0"
   ]
  }
 ],
 "metadata": {
  "kernelspec": {
   "display_name": "CellX",
   "language": "python",
   "name": "cellx"
  },
  "language_info": {
   "codemirror_mode": {
    "name": "ipython",
    "version": 3
   },
   "file_extension": ".py",
   "mimetype": "text/x-python",
   "name": "python",
   "nbconvert_exporter": "python",
   "pygments_lexer": "ipython3",
   "version": "3.9.7"
  }
 },
 "nbformat": 4,
 "nbformat_minor": 5
}
