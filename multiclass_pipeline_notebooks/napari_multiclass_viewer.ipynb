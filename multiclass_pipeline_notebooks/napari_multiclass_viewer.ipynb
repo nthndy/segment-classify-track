{
 "cells": [
  {
   "cell_type": "markdown",
   "id": "a4cf9a6b",
   "metadata": {},
   "source": [
    "# Napari image viewer\n",
    "\n",
    "Uses the octopuslite dask image loader to automatically sort and load images from multichannel time lapse experiments. Can also use btrack to load associated tracks and segmentation images."
   ]
  },
  {
   "cell_type": "code",
   "execution_count": 1,
   "id": "3a23b02f",
   "metadata": {},
   "outputs": [],
   "source": [
    "import napari\n",
    "from octopuslite import DaskOctopusLiteLoader"
   ]
  },
  {
   "cell_type": "markdown",
   "id": "1a8cf419",
   "metadata": {},
   "source": [
    "# batch testing transform implementation"
   ]
  },
  {
   "cell_type": "code",
   "execution_count": null,
   "id": "92e9a662",
   "metadata": {},
   "outputs": [
    {
     "name": "stdout",
     "output_type": "stream",
     "text": [
      "ND0010 Pos0\n",
      "Using cropping: (1200, 1600)\n"
     ]
    },
    {
     "name": "stderr",
     "output_type": "stream",
     "text": [
      "/home/nathan/analysis/miniconda3/envs/cellx/lib/python3.9/site-packages/dask/array/core.py:2857: RuntimeWarning: coroutine 'get_msg' was never awaited\n",
      "  return tuple(tuple(int(x) if not math.isnan(x) else x for x in c) for c in chunks)\n",
      "RuntimeWarning: Enable tracemalloc to get the object allocation traceback\n"
     ]
    },
    {
     "name": "stdout",
     "output_type": "stream",
     "text": [
      "ND0010 Pos1\n",
      "Using cropping: (1200, 1600)\n"
     ]
    },
    {
     "name": "stderr",
     "output_type": "stream",
     "text": [
      "Exception in callback BaseAsyncIOLoop._handle_events(566, 1)\n",
      "handle: <Handle BaseAsyncIOLoop._handle_events(566, 1)>\n",
      "Traceback (most recent call last):\n",
      "  File \"/home/nathan/analysis/miniconda3/envs/cellx/lib/python3.9/asyncio/events.py\", line 80, in _run\n",
      "    self._context.run(self._callback, *self._args)\n",
      "  File \"/home/nathan/analysis/miniconda3/envs/cellx/lib/python3.9/site-packages/tornado/platform/asyncio.py\", line 189, in _handle_events\n",
      "    handler_func(fileobj, events)\n",
      "  File \"/home/nathan/analysis/miniconda3/envs/cellx/lib/python3.9/site-packages/zmq/eventloop/zmqstream.py\", line 452, in _handle_events\n",
      "    self._handle_recv()\n",
      "  File \"/home/nathan/analysis/miniconda3/envs/cellx/lib/python3.9/site-packages/zmq/eventloop/zmqstream.py\", line 481, in _handle_recv\n",
      "    self._run_callback(callback, msg)\n",
      "  File \"/home/nathan/analysis/miniconda3/envs/cellx/lib/python3.9/site-packages/zmq/eventloop/zmqstream.py\", line 431, in _run_callback\n",
      "    callback(*args, **kwargs)\n",
      "  File \"/home/nathan/analysis/miniconda3/envs/cellx/lib/python3.9/site-packages/jupyter_client/threaded.py\", line 121, in _handle_recv\n",
      "    msg_list = self.ioloop._asyncio_event_loop.run_until_complete(get_msg(future_msg))\n",
      "  File \"/home/nathan/analysis/miniconda3/envs/cellx/lib/python3.9/asyncio/base_events.py\", line 618, in run_until_complete\n",
      "    self._check_running()\n",
      "  File \"/home/nathan/analysis/miniconda3/envs/cellx/lib/python3.9/asyncio/base_events.py\", line 580, in _check_running\n",
      "    raise RuntimeError(\n",
      "RuntimeError: Cannot run the event loop while another loop is running\n",
      "/home/nathan/analysis/miniconda3/envs/cellx/lib/python3.9/site-packages/dask/array/core.py:3643: RuntimeWarning: coroutine 'get_msg' was never awaited\n",
      "  arrays, inds = zip(*arginds)\n",
      "RuntimeWarning: Enable tracemalloc to get the object allocation traceback\n"
     ]
    },
    {
     "name": "stdout",
     "output_type": "stream",
     "text": [
      "ND0010 Pos2\n",
      "Using cropping: (1200, 1600)\n"
     ]
    },
    {
     "name": "stderr",
     "output_type": "stream",
     "text": [
      "Exception in callback BaseAsyncIOLoop._handle_events(596, 1)\n",
      "handle: <Handle BaseAsyncIOLoop._handle_events(596, 1)>\n",
      "Traceback (most recent call last):\n",
      "  File \"/home/nathan/analysis/miniconda3/envs/cellx/lib/python3.9/asyncio/events.py\", line 80, in _run\n",
      "    self._context.run(self._callback, *self._args)\n",
      "  File \"/home/nathan/analysis/miniconda3/envs/cellx/lib/python3.9/site-packages/tornado/platform/asyncio.py\", line 189, in _handle_events\n",
      "    handler_func(fileobj, events)\n",
      "  File \"/home/nathan/analysis/miniconda3/envs/cellx/lib/python3.9/site-packages/zmq/eventloop/zmqstream.py\", line 452, in _handle_events\n",
      "    self._handle_recv()\n",
      "  File \"/home/nathan/analysis/miniconda3/envs/cellx/lib/python3.9/site-packages/zmq/eventloop/zmqstream.py\", line 481, in _handle_recv\n",
      "    self._run_callback(callback, msg)\n",
      "  File \"/home/nathan/analysis/miniconda3/envs/cellx/lib/python3.9/site-packages/zmq/eventloop/zmqstream.py\", line 431, in _run_callback\n",
      "    callback(*args, **kwargs)\n",
      "  File \"/home/nathan/analysis/miniconda3/envs/cellx/lib/python3.9/site-packages/jupyter_client/threaded.py\", line 121, in _handle_recv\n",
      "    msg_list = self.ioloop._asyncio_event_loop.run_until_complete(get_msg(future_msg))\n",
      "  File \"/home/nathan/analysis/miniconda3/envs/cellx/lib/python3.9/asyncio/base_events.py\", line 618, in run_until_complete\n",
      "    self._check_running()\n",
      "  File \"/home/nathan/analysis/miniconda3/envs/cellx/lib/python3.9/asyncio/base_events.py\", line 580, in _check_running\n",
      "    raise RuntimeError(\n",
      "RuntimeError: Cannot run the event loop while another loop is running\n",
      "/home/nathan/analysis/miniconda3/envs/cellx/lib/python3.9/site-packages/dask/highlevelgraph.py:914: RuntimeWarning: coroutine 'get_msg' was never awaited\n",
      "  reverse_deps = {k: [] for k in self.dependencies}\n",
      "RuntimeWarning: Enable tracemalloc to get the object allocation traceback\n",
      "Exception in callback BaseAsyncIOLoop._handle_events(626, 1)\n",
      "handle: <Handle BaseAsyncIOLoop._handle_events(626, 1)>\n",
      "Traceback (most recent call last):\n",
      "  File \"/home/nathan/analysis/miniconda3/envs/cellx/lib/python3.9/asyncio/events.py\", line 80, in _run\n",
      "    self._context.run(self._callback, *self._args)\n",
      "  File \"/home/nathan/analysis/miniconda3/envs/cellx/lib/python3.9/site-packages/tornado/platform/asyncio.py\", line 189, in _handle_events\n",
      "    handler_func(fileobj, events)\n",
      "  File \"/home/nathan/analysis/miniconda3/envs/cellx/lib/python3.9/site-packages/zmq/eventloop/zmqstream.py\", line 452, in _handle_events\n",
      "    self._handle_recv()\n",
      "  File \"/home/nathan/analysis/miniconda3/envs/cellx/lib/python3.9/site-packages/zmq/eventloop/zmqstream.py\", line 481, in _handle_recv\n",
      "    self._run_callback(callback, msg)\n",
      "  File \"/home/nathan/analysis/miniconda3/envs/cellx/lib/python3.9/site-packages/zmq/eventloop/zmqstream.py\", line 431, in _run_callback\n",
      "    callback(*args, **kwargs)\n",
      "  File \"/home/nathan/analysis/miniconda3/envs/cellx/lib/python3.9/site-packages/jupyter_client/threaded.py\", line 121, in _handle_recv\n",
      "    msg_list = self.ioloop._asyncio_event_loop.run_until_complete(get_msg(future_msg))\n",
      "  File \"/home/nathan/analysis/miniconda3/envs/cellx/lib/python3.9/asyncio/base_events.py\", line 618, in run_until_complete\n",
      "    self._check_running()\n",
      "  File \"/home/nathan/analysis/miniconda3/envs/cellx/lib/python3.9/asyncio/base_events.py\", line 580, in _check_running\n",
      "    raise RuntimeError(\n",
      "RuntimeError: Cannot run the event loop while another loop is running\n",
      "/home/nathan/analysis/miniconda3/envs/cellx/lib/python3.9/site-packages/dask/core.py:315: RuntimeWarning: coroutine 'get_msg' was never awaited\n",
      "  _add(result[val], k)\n",
      "RuntimeWarning: Enable tracemalloc to get the object allocation traceback\n"
     ]
    },
    {
     "name": "stdout",
     "output_type": "stream",
     "text": [
      "ND0010 Pos3\n",
      "Using cropping: (1200, 1600)\n",
      "ND0010 Pos4\n",
      "Using cropping: (1200, 1600)\n"
     ]
    },
    {
     "name": "stderr",
     "output_type": "stream",
     "text": [
      "Exception in callback BaseAsyncIOLoop._handle_events(658, 1)\n",
      "handle: <Handle BaseAsyncIOLoop._handle_events(658, 1)>\n",
      "Traceback (most recent call last):\n",
      "  File \"/home/nathan/analysis/miniconda3/envs/cellx/lib/python3.9/asyncio/events.py\", line 80, in _run\n",
      "    self._context.run(self._callback, *self._args)\n",
      "  File \"/home/nathan/analysis/miniconda3/envs/cellx/lib/python3.9/site-packages/tornado/platform/asyncio.py\", line 189, in _handle_events\n",
      "    handler_func(fileobj, events)\n",
      "  File \"/home/nathan/analysis/miniconda3/envs/cellx/lib/python3.9/site-packages/zmq/eventloop/zmqstream.py\", line 452, in _handle_events\n",
      "    self._handle_recv()\n",
      "  File \"/home/nathan/analysis/miniconda3/envs/cellx/lib/python3.9/site-packages/zmq/eventloop/zmqstream.py\", line 481, in _handle_recv\n",
      "    self._run_callback(callback, msg)\n",
      "  File \"/home/nathan/analysis/miniconda3/envs/cellx/lib/python3.9/site-packages/zmq/eventloop/zmqstream.py\", line 431, in _run_callback\n",
      "    callback(*args, **kwargs)\n",
      "  File \"/home/nathan/analysis/miniconda3/envs/cellx/lib/python3.9/site-packages/jupyter_client/threaded.py\", line 121, in _handle_recv\n",
      "    msg_list = self.ioloop._asyncio_event_loop.run_until_complete(get_msg(future_msg))\n",
      "  File \"/home/nathan/analysis/miniconda3/envs/cellx/lib/python3.9/asyncio/base_events.py\", line 618, in run_until_complete\n",
      "    self._check_running()\n",
      "  File \"/home/nathan/analysis/miniconda3/envs/cellx/lib/python3.9/asyncio/base_events.py\", line 580, in _check_running\n",
      "    raise RuntimeError(\n",
      "RuntimeError: Cannot run the event loop while another loop is running\n"
     ]
    }
   ],
   "source": [
    "import os, glob\n",
    "\n",
    "for transform in [8, 13]:\n",
    "    expt = 'ND0010'\n",
    "    pos = 'Pos0'\n",
    "    for pos in range(0,12):\n",
    "        pos = 'Pos'+str(pos)\n",
    "        image_path = f'/home/nathan/data/kraken/ras/{expt}/{pos}/{pos}_images'\n",
    "        transform_path = glob.glob(f'/home/nathan/data/kraken/ras/{expt}/{pos}/*transform_tensor_{transform}.npy')[0]\n",
    "        if os.path.exists(image_path):\n",
    "            print(expt, pos)\n",
    "        #         trans = numpy.load(transform_path)\n",
    "        #         if len(trans.shape) == 4:\n",
    "        #             print('reshape')\n",
    "        #             numpy.save(transform_path, numpy.reshape(trans, (len(trans)*len(trans[0]), 3, 3)))\n",
    "            images = DaskOctopusLiteLoader(image_path, remove_background=False, \n",
    "                                           transforms=transform_path,\n",
    "                                           crop = (1200, 1600))\n",
    "            gfp = images['gfp']\n",
    "        #     rfp = images['rfp']\n",
    "        #     irfp = images['irfp']\n",
    "        #     masks = images['mask']\n",
    "            viewer = napari.Viewer()\n",
    "            viewer.add_image(gfp,\n",
    "                             contrast_limits=[0,255],\n",
    "                             blending = 'additive', \n",
    "                             colormap = 'green',\n",
    "                            name = f'transform_{transform}')#, is_pyramid=False)\n",
    "        #     viewer.add_image(rfp, name=\"rfp\", \n",
    "        #                      contrast_limits=[0,55], \n",
    "        #                      blending = 'additive', colormap = 'magenta')#, is_pyramid=False)\n",
    "        #     viewer.add_image(irfp, name=\"irfp\", \n",
    "        #          contrast_limits=[0,255], \n",
    "        #          blending = 'additive', colormap = 'cyan')#\n",
    "        #     viewer.add_image(masks, name = f'trans {expt}/{pos}',\n",
    "        #                     contrast_limits=[0,2],\n",
    "        #                    blending = 'additive',)\n",
    "            viewer.show(block=True)"
   ]
  },
  {
   "cell_type": "code",
   "execution_count": 35,
   "id": "42e33298",
   "metadata": {},
   "outputs": [
    {
     "data": {
      "text/plain": [
       "array([[[[ 1.00000000e+00,  0.00000000e+00,  0.00000000e+00],\n",
       "         [ 0.00000000e+00,  1.00000000e+00,  0.00000000e+00],\n",
       "         [ 0.00000000e+00,  0.00000000e+00,  1.00000000e+00]],\n",
       "\n",
       "        [[ 1.00000000e+00,  0.00000000e+00, -1.89492439e+02],\n",
       "         [ 0.00000000e+00,  1.00000000e+00,  9.49814865e+01],\n",
       "         [ 0.00000000e+00,  0.00000000e+00,  1.00000000e+00]],\n",
       "\n",
       "        [[ 1.00000000e+00,  0.00000000e+00, -6.04458164e+01],\n",
       "         [ 0.00000000e+00,  1.00000000e+00,  3.90185511e+01],\n",
       "         [ 0.00000000e+00,  0.00000000e+00,  1.00000000e+00]],\n",
       "\n",
       "        ...,\n",
       "\n",
       "        [[ 1.00000000e+00,  0.00000000e+00, -1.74360709e+00],\n",
       "         [ 0.00000000e+00,  1.00000000e+00,  1.26813950e+01],\n",
       "         [ 0.00000000e+00,  0.00000000e+00,  1.00000000e+00]],\n",
       "\n",
       "        [[ 1.00000000e+00,  0.00000000e+00, -1.87293586e+02],\n",
       "         [ 0.00000000e+00,  1.00000000e+00,  1.00358695e+02],\n",
       "         [ 0.00000000e+00,  0.00000000e+00,  1.00000000e+00]],\n",
       "\n",
       "        [[ 1.00000000e+00,  0.00000000e+00, -1.63066944e+02],\n",
       "         [ 0.00000000e+00,  1.00000000e+00,  1.08868908e+02],\n",
       "         [ 0.00000000e+00,  0.00000000e+00,  1.00000000e+00]]],\n",
       "\n",
       "\n",
       "       [[[ 1.00000000e+00,  0.00000000e+00,  0.00000000e+00],\n",
       "         [ 0.00000000e+00,  1.00000000e+00,  0.00000000e+00],\n",
       "         [ 0.00000000e+00,  0.00000000e+00,  1.00000000e+00]],\n",
       "\n",
       "        [[ 1.00000000e+00,  0.00000000e+00,  2.16850699e+00],\n",
       "         [ 0.00000000e+00,  1.00000000e+00, -9.41519685e-01],\n",
       "         [ 0.00000000e+00,  0.00000000e+00,  1.00000000e+00]],\n",
       "\n",
       "        [[ 1.00000000e+00,  0.00000000e+00, -2.99093506e+00],\n",
       "         [ 0.00000000e+00,  1.00000000e+00,  4.70843926e+00],\n",
       "         [ 0.00000000e+00,  0.00000000e+00,  1.00000000e+00]],\n",
       "\n",
       "        ...,\n",
       "\n",
       "        [[ 1.00000000e+00,  0.00000000e+00, -1.23327051e+02],\n",
       "         [ 0.00000000e+00,  1.00000000e+00,  9.26895961e+01],\n",
       "         [ 0.00000000e+00,  0.00000000e+00,  1.00000000e+00]],\n",
       "\n",
       "        [[ 1.00000000e+00,  0.00000000e+00, -1.43652359e+02],\n",
       "         [ 0.00000000e+00,  1.00000000e+00,  1.07257069e+02],\n",
       "         [ 0.00000000e+00,  0.00000000e+00,  1.00000000e+00]],\n",
       "\n",
       "        [[ 1.00000000e+00,  0.00000000e+00,  5.26051222e+00],\n",
       "         [ 0.00000000e+00,  1.00000000e+00, -6.88351419e+00],\n",
       "         [ 0.00000000e+00,  0.00000000e+00,  1.00000000e+00]]],\n",
       "\n",
       "\n",
       "       [[[ 1.00000000e+00,  0.00000000e+00,  0.00000000e+00],\n",
       "         [ 0.00000000e+00,  1.00000000e+00,  0.00000000e+00],\n",
       "         [ 0.00000000e+00,  0.00000000e+00,  1.00000000e+00]],\n",
       "\n",
       "        [[ 1.00000000e+00,  0.00000000e+00, -2.64790792e+00],\n",
       "         [ 0.00000000e+00,  1.00000000e+00, -2.20028856e+00],\n",
       "         [ 0.00000000e+00,  0.00000000e+00,  1.00000000e+00]],\n",
       "\n",
       "        [[ 1.00000000e+00,  0.00000000e+00,  2.00046563e+00],\n",
       "         [ 0.00000000e+00,  1.00000000e+00, -2.17609669e+00],\n",
       "         [ 0.00000000e+00,  0.00000000e+00,  1.00000000e+00]],\n",
       "\n",
       "        ...,\n",
       "\n",
       "        [[ 1.00000000e+00,  0.00000000e+00, -1.01377441e+02],\n",
       "         [ 0.00000000e+00,  1.00000000e+00,  9.40310453e+01],\n",
       "         [ 0.00000000e+00,  0.00000000e+00,  1.00000000e+00]],\n",
       "\n",
       "        [[ 1.00000000e+00,  0.00000000e+00,  3.26438207e+01],\n",
       "         [ 0.00000000e+00,  1.00000000e+00, -1.91292406e+01],\n",
       "         [ 0.00000000e+00,  0.00000000e+00,  1.00000000e+00]],\n",
       "\n",
       "        [[ 1.00000000e+00,  0.00000000e+00,  3.51806841e+01],\n",
       "         [ 0.00000000e+00,  1.00000000e+00, -1.71491796e+01],\n",
       "         [ 0.00000000e+00,  0.00000000e+00,  1.00000000e+00]]],\n",
       "\n",
       "\n",
       "       ...,\n",
       "\n",
       "\n",
       "       [[[ 1.00000000e+00,  0.00000000e+00,  0.00000000e+00],\n",
       "         [ 0.00000000e+00,  1.00000000e+00,  0.00000000e+00],\n",
       "         [ 0.00000000e+00,  0.00000000e+00,  1.00000000e+00]],\n",
       "\n",
       "        [[ 1.00000000e+00,  0.00000000e+00,  1.33548945e+00],\n",
       "         [ 0.00000000e+00,  1.00000000e+00, -2.29124355e-01],\n",
       "         [ 0.00000000e+00,  0.00000000e+00,  1.00000000e+00]],\n",
       "\n",
       "        [[ 1.00000000e+00,  0.00000000e+00,  1.00217417e+00],\n",
       "         [ 0.00000000e+00,  1.00000000e+00, -2.42994127e-01],\n",
       "         [ 0.00000000e+00,  0.00000000e+00,  1.00000000e+00]],\n",
       "\n",
       "        ...,\n",
       "\n",
       "        [[ 1.00000000e+00,  0.00000000e+00,  4.94354013e+01],\n",
       "         [ 0.00000000e+00,  1.00000000e+00, -5.47523366e+00],\n",
       "         [ 0.00000000e+00,  0.00000000e+00,  1.00000000e+00]],\n",
       "\n",
       "        [[ 1.00000000e+00,  0.00000000e+00,  4.42561665e+01],\n",
       "         [ 0.00000000e+00,  1.00000000e+00, -9.27827273e+00],\n",
       "         [ 0.00000000e+00,  0.00000000e+00,  1.00000000e+00]],\n",
       "\n",
       "        [[ 1.00000000e+00,  0.00000000e+00,  4.79331343e+01],\n",
       "         [ 0.00000000e+00,  1.00000000e+00, -8.31569662e+00],\n",
       "         [ 0.00000000e+00,  0.00000000e+00,  1.00000000e+00]]],\n",
       "\n",
       "\n",
       "       [[[ 1.00000000e+00,  0.00000000e+00,  0.00000000e+00],\n",
       "         [ 0.00000000e+00,  1.00000000e+00,  0.00000000e+00],\n",
       "         [ 0.00000000e+00,  0.00000000e+00,  1.00000000e+00]],\n",
       "\n",
       "        [[ 1.00000000e+00,  0.00000000e+00,  1.33456013e+00],\n",
       "         [ 0.00000000e+00,  1.00000000e+00, -6.74556497e-03],\n",
       "         [ 0.00000000e+00,  0.00000000e+00,  1.00000000e+00]],\n",
       "\n",
       "        [[ 1.00000000e+00,  0.00000000e+00, -3.57223177e+00],\n",
       "         [ 0.00000000e+00,  1.00000000e+00, -3.92906006e-01],\n",
       "         [ 0.00000000e+00,  0.00000000e+00,  1.00000000e+00]],\n",
       "\n",
       "        ...,\n",
       "\n",
       "        [[ 1.00000000e+00,  0.00000000e+00,  8.55389452e+00],\n",
       "         [ 0.00000000e+00,  1.00000000e+00, -7.22342918e+00],\n",
       "         [ 0.00000000e+00,  0.00000000e+00,  1.00000000e+00]],\n",
       "\n",
       "        [[ 1.00000000e+00,  0.00000000e+00,  1.05658300e+01],\n",
       "         [ 0.00000000e+00,  1.00000000e+00, -7.07280833e+00],\n",
       "         [ 0.00000000e+00,  0.00000000e+00,  1.00000000e+00]],\n",
       "\n",
       "        [[ 1.00000000e+00,  0.00000000e+00,  1.19093156e+01],\n",
       "         [ 0.00000000e+00,  1.00000000e+00, -7.09446571e+00],\n",
       "         [ 0.00000000e+00,  0.00000000e+00,  1.00000000e+00]]],\n",
       "\n",
       "\n",
       "       [[[ 1.00000000e+00,  0.00000000e+00,  0.00000000e+00],\n",
       "         [ 0.00000000e+00,  1.00000000e+00,  0.00000000e+00],\n",
       "         [ 0.00000000e+00,  0.00000000e+00,  1.00000000e+00]],\n",
       "\n",
       "        [[ 1.00000000e+00,  0.00000000e+00,  6.35477481e-01],\n",
       "         [ 0.00000000e+00,  1.00000000e+00, -1.81259295e-01],\n",
       "         [ 0.00000000e+00,  0.00000000e+00,  1.00000000e+00]],\n",
       "\n",
       "        [[ 1.00000000e+00,  0.00000000e+00,  6.35776566e+00],\n",
       "         [ 0.00000000e+00,  1.00000000e+00,  2.09134226e-01],\n",
       "         [ 0.00000000e+00,  0.00000000e+00,  1.00000000e+00]],\n",
       "\n",
       "        ...,\n",
       "\n",
       "        [[ 1.00000000e+00,  0.00000000e+00,  1.85308859e+01],\n",
       "         [ 0.00000000e+00,  1.00000000e+00,  2.99109121e+00],\n",
       "         [ 0.00000000e+00,  0.00000000e+00,  1.00000000e+00]],\n",
       "\n",
       "        [[ 1.00000000e+00,  0.00000000e+00,  1.58413273e+01],\n",
       "         [ 0.00000000e+00,  1.00000000e+00,  2.72973152e+00],\n",
       "         [ 0.00000000e+00,  0.00000000e+00,  1.00000000e+00]],\n",
       "\n",
       "        [[ 1.00000000e+00,  0.00000000e+00,  1.77462294e+01],\n",
       "         [ 0.00000000e+00,  1.00000000e+00,  3.44644383e+00],\n",
       "         [ 0.00000000e+00,  0.00000000e+00,  1.00000000e+00]]]])"
      ]
     },
     "execution_count": 35,
     "metadata": {},
     "output_type": "execute_result"
    }
   ],
   "source": [
    "trans"
   ]
  },
  {
   "cell_type": "code",
   "execution_count": 3,
   "id": "a2352705",
   "metadata": {},
   "outputs": [],
   "source": [
    "transform_path = f'/home/nathan/data/kraken/ras/{expt}/{pos}/gfp_transform_tensor_{transform}.npy'"
   ]
  },
  {
   "cell_type": "code",
   "execution_count": 7,
   "id": "a6d4ca21",
   "metadata": {},
   "outputs": [],
   "source": [
    "import numpy"
   ]
  },
  {
   "cell_type": "code",
   "execution_count": 14,
   "id": "1e99edd3",
   "metadata": {},
   "outputs": [],
   "source": [
    "trans = numpy.load(transform_path)"
   ]
  },
  {
   "cell_type": "code",
   "execution_count": 27,
   "id": "b503e4ab",
   "metadata": {},
   "outputs": [
    {
     "data": {
      "text/plain": [
       "4"
      ]
     },
     "execution_count": 27,
     "metadata": {},
     "output_type": "execute_result"
    }
   ],
   "source": [
    "len(trans.shape)"
   ]
  },
  {
   "cell_type": "code",
   "execution_count": 26,
   "id": "05948ac9",
   "metadata": {},
   "outputs": [
    {
     "data": {
      "text/plain": [
       "(1190, 3, 3)"
      ]
     },
     "execution_count": 26,
     "metadata": {},
     "output_type": "execute_result"
    }
   ],
   "source": [
    "trans_0.shape"
   ]
  },
  {
   "cell_type": "code",
   "execution_count": 32,
   "id": "31489292",
   "metadata": {},
   "outputs": [
    {
     "data": {
      "text/plain": [
       "array([[[   1.        ,    0.        ,    0.        ],\n",
       "        [   0.        ,    1.        ,    0.        ],\n",
       "        [   0.        ,    0.        ,    1.        ]],\n",
       "\n",
       "       [[   1.        ,    0.        , -189.49243866],\n",
       "        [   0.        ,    1.        ,   94.98148654],\n",
       "        [   0.        ,    0.        ,    1.        ]],\n",
       "\n",
       "       [[   1.        ,    0.        ,  -60.44581643],\n",
       "        [   0.        ,    1.        ,   39.0185511 ],\n",
       "        [   0.        ,    0.        ,    1.        ]],\n",
       "\n",
       "       ...,\n",
       "\n",
       "       [[   1.        ,    0.        ,   18.53088588],\n",
       "        [   0.        ,    1.        ,    2.99109121],\n",
       "        [   0.        ,    0.        ,    1.        ]],\n",
       "\n",
       "       [[   1.        ,    0.        ,   15.84132734],\n",
       "        [   0.        ,    1.        ,    2.72973152],\n",
       "        [   0.        ,    0.        ,    1.        ]],\n",
       "\n",
       "       [[   1.        ,    0.        ,   17.74622942],\n",
       "        [   0.        ,    1.        ,    3.44644383],\n",
       "        [   0.        ,    0.        ,    1.        ]]])"
      ]
     },
     "execution_count": 32,
     "metadata": {},
     "output_type": "execute_result"
    }
   ],
   "source": [
    "numpy.reshape(trans, (len(trans)*len(trans[0]), 3, 3))"
   ]
  },
  {
   "cell_type": "code",
   "execution_count": null,
   "id": "27acd80a",
   "metadata": {},
   "outputs": [],
   "source": [
    "if len(trans.shape) == 4:\n",
    "    np.save(transform_path, numpy.reshape(trans, (len(trans)*len(trans[0]), 3, 3))"
   ]
  },
  {
   "cell_type": "code",
   "execution_count": 19,
   "id": "94d257f3",
   "metadata": {},
   "outputs": [
    {
     "data": {
      "text/plain": [
       "array([[[[ 1.00000000e+00,  0.00000000e+00,  0.00000000e+00],\n",
       "         [ 0.00000000e+00,  1.00000000e+00,  0.00000000e+00],\n",
       "         [ 0.00000000e+00,  0.00000000e+00,  1.00000000e+00]],\n",
       "\n",
       "        [[ 1.00000000e+00,  0.00000000e+00, -1.89492439e+02],\n",
       "         [ 0.00000000e+00,  1.00000000e+00,  9.49814865e+01],\n",
       "         [ 0.00000000e+00,  0.00000000e+00,  1.00000000e+00]],\n",
       "\n",
       "        [[ 1.00000000e+00,  0.00000000e+00, -6.04458164e+01],\n",
       "         [ 0.00000000e+00,  1.00000000e+00,  3.90185511e+01],\n",
       "         [ 0.00000000e+00,  0.00000000e+00,  1.00000000e+00]],\n",
       "\n",
       "        ...,\n",
       "\n",
       "        [[ 1.00000000e+00,  0.00000000e+00, -1.74360709e+00],\n",
       "         [ 0.00000000e+00,  1.00000000e+00,  1.26813950e+01],\n",
       "         [ 0.00000000e+00,  0.00000000e+00,  1.00000000e+00]],\n",
       "\n",
       "        [[ 1.00000000e+00,  0.00000000e+00, -1.87293586e+02],\n",
       "         [ 0.00000000e+00,  1.00000000e+00,  1.00358695e+02],\n",
       "         [ 0.00000000e+00,  0.00000000e+00,  1.00000000e+00]],\n",
       "\n",
       "        [[ 1.00000000e+00,  0.00000000e+00, -1.63066944e+02],\n",
       "         [ 0.00000000e+00,  1.00000000e+00,  1.08868908e+02],\n",
       "         [ 0.00000000e+00,  0.00000000e+00,  1.00000000e+00]]],\n",
       "\n",
       "\n",
       "       [[[ 1.00000000e+00,  0.00000000e+00,  0.00000000e+00],\n",
       "         [ 0.00000000e+00,  1.00000000e+00,  0.00000000e+00],\n",
       "         [ 0.00000000e+00,  0.00000000e+00,  1.00000000e+00]],\n",
       "\n",
       "        [[ 1.00000000e+00,  0.00000000e+00,  2.16850699e+00],\n",
       "         [ 0.00000000e+00,  1.00000000e+00, -9.41519685e-01],\n",
       "         [ 0.00000000e+00,  0.00000000e+00,  1.00000000e+00]],\n",
       "\n",
       "        [[ 1.00000000e+00,  0.00000000e+00, -2.99093506e+00],\n",
       "         [ 0.00000000e+00,  1.00000000e+00,  4.70843926e+00],\n",
       "         [ 0.00000000e+00,  0.00000000e+00,  1.00000000e+00]],\n",
       "\n",
       "        ...,\n",
       "\n",
       "        [[ 1.00000000e+00,  0.00000000e+00, -1.23327051e+02],\n",
       "         [ 0.00000000e+00,  1.00000000e+00,  9.26895961e+01],\n",
       "         [ 0.00000000e+00,  0.00000000e+00,  1.00000000e+00]],\n",
       "\n",
       "        [[ 1.00000000e+00,  0.00000000e+00, -1.43652359e+02],\n",
       "         [ 0.00000000e+00,  1.00000000e+00,  1.07257069e+02],\n",
       "         [ 0.00000000e+00,  0.00000000e+00,  1.00000000e+00]],\n",
       "\n",
       "        [[ 1.00000000e+00,  0.00000000e+00,  5.26051222e+00],\n",
       "         [ 0.00000000e+00,  1.00000000e+00, -6.88351419e+00],\n",
       "         [ 0.00000000e+00,  0.00000000e+00,  1.00000000e+00]]],\n",
       "\n",
       "\n",
       "       [[[ 1.00000000e+00,  0.00000000e+00,  0.00000000e+00],\n",
       "         [ 0.00000000e+00,  1.00000000e+00,  0.00000000e+00],\n",
       "         [ 0.00000000e+00,  0.00000000e+00,  1.00000000e+00]],\n",
       "\n",
       "        [[ 1.00000000e+00,  0.00000000e+00, -2.64790792e+00],\n",
       "         [ 0.00000000e+00,  1.00000000e+00, -2.20028856e+00],\n",
       "         [ 0.00000000e+00,  0.00000000e+00,  1.00000000e+00]],\n",
       "\n",
       "        [[ 1.00000000e+00,  0.00000000e+00,  2.00046563e+00],\n",
       "         [ 0.00000000e+00,  1.00000000e+00, -2.17609669e+00],\n",
       "         [ 0.00000000e+00,  0.00000000e+00,  1.00000000e+00]],\n",
       "\n",
       "        ...,\n",
       "\n",
       "        [[ 1.00000000e+00,  0.00000000e+00, -1.01377441e+02],\n",
       "         [ 0.00000000e+00,  1.00000000e+00,  9.40310453e+01],\n",
       "         [ 0.00000000e+00,  0.00000000e+00,  1.00000000e+00]],\n",
       "\n",
       "        [[ 1.00000000e+00,  0.00000000e+00,  3.26438207e+01],\n",
       "         [ 0.00000000e+00,  1.00000000e+00, -1.91292406e+01],\n",
       "         [ 0.00000000e+00,  0.00000000e+00,  1.00000000e+00]],\n",
       "\n",
       "        [[ 1.00000000e+00,  0.00000000e+00,  3.51806841e+01],\n",
       "         [ 0.00000000e+00,  1.00000000e+00, -1.71491796e+01],\n",
       "         [ 0.00000000e+00,  0.00000000e+00,  1.00000000e+00]]],\n",
       "\n",
       "\n",
       "       ...,\n",
       "\n",
       "\n",
       "       [[[ 1.00000000e+00,  0.00000000e+00,  0.00000000e+00],\n",
       "         [ 0.00000000e+00,  1.00000000e+00,  0.00000000e+00],\n",
       "         [ 0.00000000e+00,  0.00000000e+00,  1.00000000e+00]],\n",
       "\n",
       "        [[ 1.00000000e+00,  0.00000000e+00,  1.33548945e+00],\n",
       "         [ 0.00000000e+00,  1.00000000e+00, -2.29124355e-01],\n",
       "         [ 0.00000000e+00,  0.00000000e+00,  1.00000000e+00]],\n",
       "\n",
       "        [[ 1.00000000e+00,  0.00000000e+00,  1.00217417e+00],\n",
       "         [ 0.00000000e+00,  1.00000000e+00, -2.42994127e-01],\n",
       "         [ 0.00000000e+00,  0.00000000e+00,  1.00000000e+00]],\n",
       "\n",
       "        ...,\n",
       "\n",
       "        [[ 1.00000000e+00,  0.00000000e+00,  4.94354013e+01],\n",
       "         [ 0.00000000e+00,  1.00000000e+00, -5.47523366e+00],\n",
       "         [ 0.00000000e+00,  0.00000000e+00,  1.00000000e+00]],\n",
       "\n",
       "        [[ 1.00000000e+00,  0.00000000e+00,  4.42561665e+01],\n",
       "         [ 0.00000000e+00,  1.00000000e+00, -9.27827273e+00],\n",
       "         [ 0.00000000e+00,  0.00000000e+00,  1.00000000e+00]],\n",
       "\n",
       "        [[ 1.00000000e+00,  0.00000000e+00,  4.79331343e+01],\n",
       "         [ 0.00000000e+00,  1.00000000e+00, -8.31569662e+00],\n",
       "         [ 0.00000000e+00,  0.00000000e+00,  1.00000000e+00]]],\n",
       "\n",
       "\n",
       "       [[[ 1.00000000e+00,  0.00000000e+00,  0.00000000e+00],\n",
       "         [ 0.00000000e+00,  1.00000000e+00,  0.00000000e+00],\n",
       "         [ 0.00000000e+00,  0.00000000e+00,  1.00000000e+00]],\n",
       "\n",
       "        [[ 1.00000000e+00,  0.00000000e+00,  1.33456013e+00],\n",
       "         [ 0.00000000e+00,  1.00000000e+00, -6.74556497e-03],\n",
       "         [ 0.00000000e+00,  0.00000000e+00,  1.00000000e+00]],\n",
       "\n",
       "        [[ 1.00000000e+00,  0.00000000e+00, -3.57223177e+00],\n",
       "         [ 0.00000000e+00,  1.00000000e+00, -3.92906006e-01],\n",
       "         [ 0.00000000e+00,  0.00000000e+00,  1.00000000e+00]],\n",
       "\n",
       "        ...,\n",
       "\n",
       "        [[ 1.00000000e+00,  0.00000000e+00,  8.55389452e+00],\n",
       "         [ 0.00000000e+00,  1.00000000e+00, -7.22342918e+00],\n",
       "         [ 0.00000000e+00,  0.00000000e+00,  1.00000000e+00]],\n",
       "\n",
       "        [[ 1.00000000e+00,  0.00000000e+00,  1.05658300e+01],\n",
       "         [ 0.00000000e+00,  1.00000000e+00, -7.07280833e+00],\n",
       "         [ 0.00000000e+00,  0.00000000e+00,  1.00000000e+00]],\n",
       "\n",
       "        [[ 1.00000000e+00,  0.00000000e+00,  1.19093156e+01],\n",
       "         [ 0.00000000e+00,  1.00000000e+00, -7.09446571e+00],\n",
       "         [ 0.00000000e+00,  0.00000000e+00,  1.00000000e+00]]],\n",
       "\n",
       "\n",
       "       [[[ 1.00000000e+00,  0.00000000e+00,  0.00000000e+00],\n",
       "         [ 0.00000000e+00,  1.00000000e+00,  0.00000000e+00],\n",
       "         [ 0.00000000e+00,  0.00000000e+00,  1.00000000e+00]],\n",
       "\n",
       "        [[ 1.00000000e+00,  0.00000000e+00,  6.35477481e-01],\n",
       "         [ 0.00000000e+00,  1.00000000e+00, -1.81259295e-01],\n",
       "         [ 0.00000000e+00,  0.00000000e+00,  1.00000000e+00]],\n",
       "\n",
       "        [[ 1.00000000e+00,  0.00000000e+00,  6.35776566e+00],\n",
       "         [ 0.00000000e+00,  1.00000000e+00,  2.09134226e-01],\n",
       "         [ 0.00000000e+00,  0.00000000e+00,  1.00000000e+00]],\n",
       "\n",
       "        ...,\n",
       "\n",
       "        [[ 1.00000000e+00,  0.00000000e+00,  1.85308859e+01],\n",
       "         [ 0.00000000e+00,  1.00000000e+00,  2.99109121e+00],\n",
       "         [ 0.00000000e+00,  0.00000000e+00,  1.00000000e+00]],\n",
       "\n",
       "        [[ 1.00000000e+00,  0.00000000e+00,  1.58413273e+01],\n",
       "         [ 0.00000000e+00,  1.00000000e+00,  2.72973152e+00],\n",
       "         [ 0.00000000e+00,  0.00000000e+00,  1.00000000e+00]],\n",
       "\n",
       "        [[ 1.00000000e+00,  0.00000000e+00,  1.77462294e+01],\n",
       "         [ 0.00000000e+00,  1.00000000e+00,  3.44644383e+00],\n",
       "         [ 0.00000000e+00,  0.00000000e+00,  1.00000000e+00]]]])"
      ]
     },
     "execution_count": 19,
     "metadata": {},
     "output_type": "execute_result"
    }
   ],
   "source": [
    "trans"
   ]
  },
  {
   "cell_type": "code",
   "execution_count": 18,
   "id": "b393844d",
   "metadata": {},
   "outputs": [
    {
     "data": {
      "text/plain": [
       "array([[[   1.        ,    0.        ,    0.        ],\n",
       "        [   0.        ,    1.        ,    0.        ],\n",
       "        [   0.        ,    0.        ,    1.        ]],\n",
       "\n",
       "       [[   1.        ,    0.        , -189.49243866],\n",
       "        [   0.        ,    1.        ,   94.98148654],\n",
       "        [   0.        ,    0.        ,    1.        ]],\n",
       "\n",
       "       [[   1.        ,    0.        ,  -60.44581643],\n",
       "        [   0.        ,    1.        ,   39.0185511 ],\n",
       "        [   0.        ,    0.        ,    1.        ]],\n",
       "\n",
       "       ...,\n",
       "\n",
       "       [[   1.        ,    0.        ,   18.53088588],\n",
       "        [   0.        ,    1.        ,    2.99109121],\n",
       "        [   0.        ,    0.        ,    1.        ]],\n",
       "\n",
       "       [[   1.        ,    0.        ,   15.84132734],\n",
       "        [   0.        ,    1.        ,    2.72973152],\n",
       "        [   0.        ,    0.        ,    1.        ]],\n",
       "\n",
       "       [[   1.        ,    0.        ,   17.74622942],\n",
       "        [   0.        ,    1.        ,    3.44644383],\n",
       "        [   0.        ,    0.        ,    1.        ]]])"
      ]
     },
     "execution_count": 18,
     "metadata": {},
     "output_type": "execute_result"
    }
   ],
   "source": [
    "numpy.reshape(trans, (1190, 3, 3))"
   ]
  },
  {
   "cell_type": "code",
   "execution_count": 9,
   "id": "c1c1c122",
   "metadata": {},
   "outputs": [],
   "source": [
    "transform_path_0 = f'/home/nathan/data/kraken/ras/{expt}/{pos}/gfp_transform_tensor.npy'"
   ]
  },
  {
   "cell_type": "code",
   "execution_count": 23,
   "id": "68c39179",
   "metadata": {},
   "outputs": [
    {
     "data": {
      "text/plain": [
       "(1190, 3, 3)"
      ]
     },
     "execution_count": 23,
     "metadata": {},
     "output_type": "execute_result"
    }
   ],
   "source": [
    "numpy.load(transform_path_0).shape"
   ]
  },
  {
   "cell_type": "code",
   "execution_count": 25,
   "id": "13179a88",
   "metadata": {},
   "outputs": [],
   "source": [
    "trans_0 = numpy.load(transform_path_0)"
   ]
  },
  {
   "cell_type": "markdown",
   "id": "9cc54637",
   "metadata": {},
   "source": [
    "# Load images"
   ]
  },
  {
   "cell_type": "code",
   "execution_count": null,
   "id": "5206859a",
   "metadata": {
    "scrolled": true
   },
   "outputs": [],
   "source": [
    "# define experiment ID and select a position\n",
    "expt = 'ND0010'\n",
    "pos = 'Pos0'\n",
    "# point to where the data is\n",
    "root_dir = '/home/nathan/data/kraken/ras'\n",
    "image_path = f'{root_dir}/{expt}/{pos}/{pos}_images'\n",
    "transform_path = f'{root_dir}/{expt}/{pos}/gfp_transform_tensor.npy'\n",
    "tracks_path = f'{root_dir}/{expt}/{pos}/tracks.h5'\n",
    "# lazily load images\n",
    "images = DaskOctopusLiteLoader(image_path, \n",
    "                               transforms = transform_path,\n",
    "                               crop = (1200,1600),\n",
    "                               remove_background = False)\n",
    "images.channels"
   ]
  },
  {
   "cell_type": "code",
   "execution_count": null,
   "id": "6921a651",
   "metadata": {},
   "outputs": [],
   "source": [
    "gfp = images['gfp']\n",
    "rfp = images['rfp']\n",
    "irfp = images['irfp']\n",
    "masks = images['mask']"
   ]
  },
  {
   "cell_type": "code",
   "execution_count": null,
   "id": "7594100e",
   "metadata": {},
   "outputs": [],
   "source": [
    "import numpy as np\n",
    "for i in rfp[1109:1113]:\n",
    "    print(np.mean(i.compute()))"
   ]
  },
  {
   "cell_type": "markdown",
   "id": "5c17659d",
   "metadata": {},
   "source": [
    "### Add tracks"
   ]
  },
  {
   "cell_type": "code",
   "execution_count": null,
   "id": "568a2f65",
   "metadata": {},
   "outputs": [],
   "source": [
    "import btrack\n",
    "from btrack.utils import tracks_to_napari"
   ]
  },
  {
   "cell_type": "markdown",
   "id": "bc41789f",
   "metadata": {},
   "source": [
    "#### iRFP tracks"
   ]
  },
  {
   "cell_type": "code",
   "execution_count": null,
   "id": "0612ea14",
   "metadata": {
    "scrolled": true
   },
   "outputs": [],
   "source": [
    "with btrack.dataio.HDF5FileHandler(tracks_path, \n",
    "                                   'r', obj_type='obj_type_1'\n",
    "                                  ) as h:\n",
    "    irfp_tracks = h.tracks"
   ]
  },
  {
   "cell_type": "code",
   "execution_count": null,
   "id": "2b98d28c",
   "metadata": {},
   "outputs": [],
   "source": [
    "irfp_tracks, irfp_properties, irfp_graph = tracks_to_napari(irfp_tracks, ndim = 2)"
   ]
  },
  {
   "cell_type": "markdown",
   "id": "4b0d99aa",
   "metadata": {},
   "source": [
    "#### RFP tracks"
   ]
  },
  {
   "cell_type": "code",
   "execution_count": null,
   "id": "8be591f3",
   "metadata": {
    "scrolled": true
   },
   "outputs": [],
   "source": [
    "with btrack.dataio.HDF5FileHandler(tracks_path, \n",
    "                                   'r', obj_type='obj_type_2'\n",
    "                                  ) as h:\n",
    "    rfp_tracks = h.tracks"
   ]
  },
  {
   "cell_type": "code",
   "execution_count": null,
   "id": "43a9ba3c",
   "metadata": {},
   "outputs": [],
   "source": [
    "rfp_tracks, rfp_properties, rfp_graph = tracks_to_napari(rfp_tracks, ndim = 2)"
   ]
  },
  {
   "cell_type": "markdown",
   "id": "603b486b",
   "metadata": {},
   "source": [
    "# Launch viewer"
   ]
  },
  {
   "cell_type": "code",
   "execution_count": null,
   "id": "8ffa3640",
   "metadata": {},
   "outputs": [],
   "source": [
    "viewer = napari.Viewer()\n",
    "viewer.add_image(gfp, name=\"gfp\", \n",
    "                 contrast_limits=[0,255],\n",
    "                 blending = 'additive', colormap = 'green')#, is_pyramid=False)\n",
    "viewer.add_image(rfp, name=\"rfp\", \n",
    "                 contrast_limits=[0,55], \n",
    "                 blending = 'additive', colormap = 'magenta')#, is_pyramid=False)\n",
    "viewer.add_image(irfp, name=\"irfp\", \n",
    "                 contrast_limits=[0,255], \n",
    "                 blending = 'additive', colormap = 'cyan')#\n",
    "viewer.add_image(masks, name = 'masks',\n",
    "                contrast_limits=[0,255],\n",
    "               blending = 'additive',)\n",
    "viewer.add_tracks(irfp_tracks)\n",
    "viewer.add_tracks(rfp_tracks)"
   ]
  }
 ],
 "metadata": {
  "kernelspec": {
   "display_name": "CellX",
   "language": "python",
   "name": "cellx"
  },
  "language_info": {
   "codemirror_mode": {
    "name": "ipython",
    "version": 3
   },
   "file_extension": ".py",
   "mimetype": "text/x-python",
   "name": "python",
   "nbconvert_exporter": "python",
   "pygments_lexer": "ipython3",
   "version": "3.9.7"
  }
 },
 "nbformat": 4,
 "nbformat_minor": 5
}
