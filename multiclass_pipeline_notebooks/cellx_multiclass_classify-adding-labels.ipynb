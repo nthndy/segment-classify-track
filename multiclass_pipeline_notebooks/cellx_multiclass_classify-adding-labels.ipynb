{
 "cells": [
  {
   "cell_type": "markdown",
   "id": "1cada0f4",
   "metadata": {},
   "source": [
    "# Phenotype classifcation using CellX \n",
    "\n",
    "This notebook shows how to take segmented time lapse microscopy images and use h2b fluorescence markers to classfiy mitotic state of the cell cycle. \n",
    "\n",
    "The sections of this notebook are as follows:\n",
    "\n",
    "1. Load images\n",
    "2. Localise the objects\n",
    "3. Classify the objects\n",
    "4. Batch process\n",
    "\n",
    "The data used in this notebook is timelapse microscopy data with h2b-gfp/rfp markers that show the spatial extent of the nucleus and it's mitotic state. \n",
    "\n",
    "This notebook uses the dask octopuslite image loader from the CellX/Lowe lab project."
   ]
  },
  {
   "cell_type": "code",
   "execution_count": 1,
   "id": "c311e3db",
   "metadata": {},
   "outputs": [],
   "source": [
    "from octopuslite import DaskOctopusLiteLoader\n",
    "import btrack\n",
    "from tqdm.auto import tqdm\n",
    "import numpy as np\n",
    "from scipy.special import softmax\n",
    "import os\n",
    "import matplotlib.pyplot as plt\n",
    "from skimage.io import imread, imshow\n",
    "from cellx import load_model\n",
    "from cellx.tools.image import InfinitePaddedImage\n",
    "from skimage.transform import resize\n",
    "import glob\n",
    "%matplotlib inline\n",
    "plt.rcParams['figure.figsize'] = [18,8]"
   ]
  },
  {
   "cell_type": "markdown",
   "id": "28a5906f",
   "metadata": {},
   "source": [
    "## 1. Load segmentation images\n",
    "\n",
    "#### *Important:* from this point on you will need to be consistent with the use of cropping and alignment. \n",
    "Using a previously generated alignment transformation will aid greatly in the tracking notebook, which depends on the object localisation performed in this notebook. Cropping your images will ensure that no border effects from the translational shift are seen. "
   ]
  },
  {
   "cell_type": "code",
   "execution_count": 2,
   "id": "67ee9d2e",
   "metadata": {},
   "outputs": [
    {
     "name": "stdout",
     "output_type": "stream",
     "text": [
      "Using cropping: (1200, 1600)\n"
     ]
    }
   ],
   "source": [
    "# load images\n",
    "expt = 'ND0012'\n",
    "pos = 'Pos5'\n",
    "root_dir = '/home/nathan/data/kraken/ras'\n",
    "image_path = f'{root_dir}/{expt}/{pos}/{pos}_images'\n",
    "transform_path = f'{root_dir}/{expt}/{pos}/gfp_transform_tensor.npy'\n",
    "images = DaskOctopusLiteLoader(image_path, \n",
    "                               transforms=transform_path,\n",
    "                               crop=(1200,1600), \n",
    "                               remove_background=False)"
   ]
  },
  {
   "cell_type": "markdown",
   "id": "dfccac2e",
   "metadata": {},
   "source": [
    "## 2. Localise the objects\n",
    "We need to also measure the mean intensity regionprops parameter in order to differentiate object class, for which we need to provide an image to measure. This means we need to provide the segmentation images twice: once to find the centroid and once to measure the pixel intensity. "
   ]
  },
  {
   "cell_type": "code",
   "execution_count": 3,
   "id": "e331e054",
   "metadata": {},
   "outputs": [
    {
     "name": "stderr",
     "output_type": "stream",
     "text": [
      "/home/nathan/analysis/miniconda3/envs/cellx/lib/python3.9/site-packages/skimage/io/_plugins/matplotlib_plugin.py:150: UserWarning: Float image out of standard range; displaying image with stretched contrast.\n",
      "  lo, hi, cmap = _get_display_range(image)\n"
     ]
    },
    {
     "data": {
      "text/plain": [
       "<matplotlib.image.AxesImage at 0x7f869e443be0>"
      ]
     },
     "execution_count": 3,
     "metadata": {},
     "output_type": "execute_result"
    },
    {
     "data": {
      "image/png": "[encoded data removed]",
      "text/plain": [
       "<Figure size 1296x576 with 2 Axes>"
      ]
     },
     "metadata": {
      "needs_background": "light"
     },
     "output_type": "display_data"
    }
   ],
   "source": [
    "imshow(images['mask'][0].compute())"
   ]
  },
  {
   "cell_type": "code",
   "execution_count": 4,
   "id": "86e7e1f8",
   "metadata": {},
   "outputs": [
    {
     "name": "stderr",
     "output_type": "stream",
     "text": [
      "[INFO][2022/02/07 09:06:06 PM] Localizing objects from segmentation...\n",
      "[INFO][2022/02/07 09:06:07 PM] Objects are of type: <class 'dict'>\n",
      "[INFO][2022/02/07 09:06:07 PM] ...Found 1274 objects in 10 frames.\n"
     ]
    }
   ],
   "source": [
    "objects = btrack.utils.segmentation_to_objects(\n",
    "    images['mask'][0:10],\n",
    "    properties = ('area',  ),\n",
    ")"
   ]
  },
  {
   "cell_type": "code",
   "execution_count": 5,
   "id": "2cd8ad00",
   "metadata": {},
   "outputs": [
    {
     "name": "stderr",
     "output_type": "stream",
     "text": [
      "[INFO][2022/02/07 09:06:07 PM] Localizing objects from segmentation...\n",
      "[INFO][2022/02/07 09:06:09 PM] Objects are of type: <class 'dict'>\n",
      "[INFO][2022/02/07 09:06:09 PM] ...Found 1274 objects in 10 frames.\n"
     ]
    }
   ],
   "source": [
    "objects = btrack.utils.segmentation_to_objects(\n",
    "    images['mask'][0:10],\n",
    "    properties = ('area',  ),\n",
    "    assign_class_ID=True\n",
    ")"
   ]
  },
  {
   "cell_type": "code",
   "execution_count": 6,
   "id": "aeab3df1",
   "metadata": {},
   "outputs": [
    {
     "data": {
      "text/plain": [
       "[1.0,\n",
       " 1.0,\n",
       " 1.0,\n",
       " 1.0,\n",
       " 1.0,\n",
       " 1.0,\n",
       " 1.0,\n",
       " 1.0,\n",
       " 1.0,\n",
       " 1.0,\n",
       " 1.0,\n",
       " 1.0,\n",
       " 1.0,\n",
       " 1.0,\n",
       " 1.0,\n",
       " 1.0,\n",
       " 1.0,\n",
       " 1.0,\n",
       " 1.0,\n",
       " 1.0,\n",
       " 1.0,\n",
       " 1.0,\n",
       " 1.0,\n",
       " 1.0,\n",
       " 1.0,\n",
       " 1.0,\n",
       " 1.0,\n",
       " 1.0,\n",
       " 1.0,\n",
       " 1.0,\n",
       " 1.0,\n",
       " 1.0,\n",
       " 1.0,\n",
       " 2.0,\n",
       " 1.0,\n",
       " 1.0,\n",
       " 1.0,\n",
       " 1.0,\n",
       " 1.0,\n",
       " 1.0,\n",
       " 1.0,\n",
       " 1.0,\n",
       " 1.0,\n",
       " 1.0,\n",
       " 1.0,\n",
       " 1.0,\n",
       " 1.0,\n",
       " 1.0,\n",
       " 1.0,\n",
       " 1.0,\n",
       " 1.0,\n",
       " 1.0,\n",
       " 1.0,\n",
       " 1.0,\n",
       " 1.0,\n",
       " 1.0,\n",
       " 1.0,\n",
       " 1.0,\n",
       " 1.0,\n",
       " 1.0,\n",
       " 1.0,\n",
       " 1.0,\n",
       " 1.0,\n",
       " 1.0,\n",
       " 1.0,\n",
       " 1.0,\n",
       " 1.0,\n",
       " 1.0,\n",
       " 1.0,\n",
       " 1.0,\n",
       " 1.0,\n",
       " 1.0,\n",
       " 1.0,\n",
       " 2.0,\n",
       " 1.0,\n",
       " 1.0,\n",
       " 1.0,\n",
       " 1.0,\n",
       " 1.0,\n",
       " 1.0,\n",
       " 1.0,\n",
       " 1.0,\n",
       " 1.0,\n",
       " 1.0,\n",
       " 1.0,\n",
       " 1.0,\n",
       " 1.0,\n",
       " 1.0,\n",
       " 1.0,\n",
       " 1.0,\n",
       " 1.0,\n",
       " 1.0,\n",
       " 1.0,\n",
       " 1.0,\n",
       " 1.0,\n",
       " 1.0,\n",
       " 1.0,\n",
       " 1.0,\n",
       " 1.0,\n",
       " 1.0,\n",
       " 1.0,\n",
       " 1.0,\n",
       " 1.0,\n",
       " 1.0,\n",
       " 1.0,\n",
       " 1.0,\n",
       " 1.0,\n",
       " 1.0,\n",
       " 1.0,\n",
       " 1.0,\n",
       " 1.0,\n",
       " 1.0,\n",
       " 1.0,\n",
       " 1.0,\n",
       " 1.0,\n",
       " 1.0,\n",
       " 1.0,\n",
       " 1.0,\n",
       " 1.0,\n",
       " 1.0,\n",
       " 1.0,\n",
       " 1.0,\n",
       " 1.0,\n",
       " 1.0,\n",
       " 1.0,\n",
       " 1.0,\n",
       " 1.0,\n",
       " 1.0,\n",
       " 1.0,\n",
       " 1.0,\n",
       " 1.0,\n",
       " 1.0,\n",
       " 1.0,\n",
       " 1.0,\n",
       " 1.0,\n",
       " 1.0,\n",
       " 1.0,\n",
       " 1.0,\n",
       " 1.0,\n",
       " 1.0,\n",
       " 2.0,\n",
       " 1.0,\n",
       " 1.0,\n",
       " 1.0,\n",
       " 1.0,\n",
       " 1.0,\n",
       " 1.0,\n",
       " 1.0,\n",
       " 1.0,\n",
       " 1.0,\n",
       " 1.0,\n",
       " 1.0,\n",
       " 1.0,\n",
       " 1.0,\n",
       " 1.0,\n",
       " 1.0,\n",
       " 1.0,\n",
       " 1.0,\n",
       " 1.0,\n",
       " 1.0,\n",
       " 1.0,\n",
       " 1.0,\n",
       " 1.0,\n",
       " 1.0,\n",
       " 1.0,\n",
       " 1.0,\n",
       " 1.0,\n",
       " 1.0,\n",
       " 1.0,\n",
       " 1.0,\n",
       " 1.0,\n",
       " 1.0,\n",
       " 1.0,\n",
       " 1.0,\n",
       " 1.0,\n",
       " 1.0,\n",
       " 1.0,\n",
       " 1.0,\n",
       " 1.0,\n",
       " 1.0,\n",
       " 2.0,\n",
       " 1.0,\n",
       " 1.0,\n",
       " 1.0,\n",
       " 1.0,\n",
       " 1.0,\n",
       " 1.0,\n",
       " 1.0,\n",
       " 1.0,\n",
       " 1.0,\n",
       " 1.0,\n",
       " 1.0,\n",
       " 1.0,\n",
       " 1.0,\n",
       " 1.0,\n",
       " 1.0,\n",
       " 1.0,\n",
       " 1.0,\n",
       " 1.0,\n",
       " 1.0,\n",
       " 1.0,\n",
       " 1.0,\n",
       " 1.0,\n",
       " 1.0,\n",
       " 1.0,\n",
       " 1.0,\n",
       " 1.0,\n",
       " 1.0,\n",
       " 1.0,\n",
       " 1.0,\n",
       " 1.0,\n",
       " 1.0,\n",
       " 1.0,\n",
       " 1.0,\n",
       " 1.0,\n",
       " 1.0,\n",
       " 1.0,\n",
       " 1.0,\n",
       " 1.0,\n",
       " 1.0,\n",
       " 1.0,\n",
       " 1.0,\n",
       " 1.0,\n",
       " 1.0,\n",
       " 1.0,\n",
       " 1.0,\n",
       " 1.0,\n",
       " 1.0,\n",
       " 1.0,\n",
       " 1.0,\n",
       " 1.0,\n",
       " 1.0,\n",
       " 1.0,\n",
       " 1.0,\n",
       " 1.0,\n",
       " 1.0,\n",
       " 1.0,\n",
       " 1.0,\n",
       " 1.0,\n",
       " 1.0,\n",
       " 1.0,\n",
       " 1.0,\n",
       " 1.0,\n",
       " 1.0,\n",
       " 1.0,\n",
       " 1.0,\n",
       " 1.0,\n",
       " 1.0,\n",
       " 1.0,\n",
       " 1.0,\n",
       " 1.0,\n",
       " 1.0,\n",
       " 1.0,\n",
       " 1.0,\n",
       " 1.0,\n",
       " 1.0,\n",
       " 1.0,\n",
       " 1.0,\n",
       " 1.0,\n",
       " 2.0,\n",
       " 1.0,\n",
       " 1.0,\n",
       " 1.0,\n",
       " 1.0,\n",
       " 1.0,\n",
       " 1.0,\n",
       " 1.0,\n",
       " 1.0,\n",
       " 1.0,\n",
       " 1.0,\n",
       " 1.0,\n",
       " 1.0,\n",
       " 1.0,\n",
       " 1.0,\n",
       " 1.0,\n",
       " 1.0,\n",
       " 1.0,\n",
       " 1.0,\n",
       " 1.0,\n",
       " 1.0,\n",
       " 1.0,\n",
       " 1.0,\n",
       " 1.0,\n",
       " 1.0,\n",
       " 1.0,\n",
       " 1.0,\n",
       " 1.0,\n",
       " 1.0,\n",
       " 1.0,\n",
       " 1.0,\n",
       " 1.0,\n",
       " 1.0,\n",
       " 1.0,\n",
       " 1.0,\n",
       " 1.0,\n",
       " 1.0,\n",
       " 1.0,\n",
       " 2.0,\n",
       " 1.0,\n",
       " 1.0,\n",
       " 1.0,\n",
       " 1.0,\n",
       " 1.0,\n",
       " 1.0,\n",
       " 1.0,\n",
       " 1.0,\n",
       " 1.0,\n",
       " 1.0,\n",
       " 1.0,\n",
       " 1.0,\n",
       " 1.0,\n",
       " 1.0,\n",
       " 1.0,\n",
       " 1.0,\n",
       " 1.0,\n",
       " 1.0,\n",
       " 1.0,\n",
       " 1.0,\n",
       " 1.0,\n",
       " 1.0,\n",
       " 1.0,\n",
       " 1.0,\n",
       " 1.0,\n",
       " 1.0,\n",
       " 1.0,\n",
       " 1.0,\n",
       " 1.0,\n",
       " 1.0,\n",
       " 1.0,\n",
       " 1.0,\n",
       " 1.0,\n",
       " 1.0,\n",
       " 1.0,\n",
       " 1.0,\n",
       " 1.0,\n",
       " 1.0,\n",
       " 1.0,\n",
       " 1.0,\n",
       " 1.0,\n",
       " 1.0,\n",
       " 1.0,\n",
       " 1.0,\n",
       " 1.0,\n",
       " 1.0,\n",
       " 1.0,\n",
       " 1.0,\n",
       " 1.0,\n",
       " 1.0,\n",
       " 1.0,\n",
       " 1.0,\n",
       " 1.0,\n",
       " 1.0,\n",
       " 1.0,\n",
       " 1.0,\n",
       " 1.0,\n",
       " 1.0,\n",
       " 1.0,\n",
       " 1.0,\n",
       " 1.0,\n",
       " 1.0,\n",
       " 1.0,\n",
       " 1.0,\n",
       " 1.0,\n",
       " 1.0,\n",
       " 1.0,\n",
       " 1.0,\n",
       " 1.0,\n",
       " 1.0,\n",
       " 2.0,\n",
       " 1.0,\n",
       " 1.0,\n",
       " 1.0,\n",
       " 1.0,\n",
       " 1.0,\n",
       " 1.0,\n",
       " 1.0,\n",
       " 1.0,\n",
       " 1.0,\n",
       " 1.0,\n",
       " 1.0,\n",
       " 1.0,\n",
       " 1.0,\n",
       " 1.0,\n",
       " 1.0,\n",
       " 1.0,\n",
       " 1.0,\n",
       " 1.0,\n",
       " 1.0,\n",
       " 1.0,\n",
       " 1.0,\n",
       " 1.0,\n",
       " 1.0,\n",
       " 1.0,\n",
       " 1.0,\n",
       " 1.0,\n",
       " 1.0,\n",
       " 1.0,\n",
       " 1.0,\n",
       " 1.0,\n",
       " 1.0,\n",
       " 1.0,\n",
       " 1.0,\n",
       " 1.0,\n",
       " 1.0,\n",
       " 1.0,\n",
       " 1.0,\n",
       " 1.0,\n",
       " 1.0,\n",
       " 1.0,\n",
       " 2.0,\n",
       " 1.0,\n",
       " 1.0,\n",
       " 1.0,\n",
       " 1.0,\n",
       " 1.0,\n",
       " 1.0,\n",
       " 1.0,\n",
       " 1.0,\n",
       " 1.0,\n",
       " 1.0,\n",
       " 1.0,\n",
       " 1.0,\n",
       " 1.0,\n",
       " 1.0,\n",
       " 1.0,\n",
       " 1.0,\n",
       " 1.0,\n",
       " 1.0,\n",
       " 1.0,\n",
       " 1.0,\n",
       " 1.0,\n",
       " 1.0,\n",
       " 1.0,\n",
       " 1.0,\n",
       " 1.0,\n",
       " 1.0,\n",
       " 1.0,\n",
       " 1.0,\n",
       " 1.0,\n",
       " 1.0,\n",
       " 1.0,\n",
       " 1.0,\n",
       " 1.0,\n",
       " 1.0,\n",
       " 1.0,\n",
       " 1.0,\n",
       " 1.0,\n",
       " 1.0,\n",
       " 1.0,\n",
       " 1.0,\n",
       " 1.0,\n",
       " 1.0,\n",
       " 1.0,\n",
       " 1.0,\n",
       " 1.0,\n",
       " 1.0,\n",
       " 1.0,\n",
       " 1.0,\n",
       " 1.0,\n",
       " 1.0,\n",
       " 1.0,\n",
       " 1.0,\n",
       " 1.0,\n",
       " 1.0,\n",
       " 1.0,\n",
       " 1.0,\n",
       " 1.0,\n",
       " 1.0,\n",
       " 1.0,\n",
       " 1.0,\n",
       " 1.0,\n",
       " 1.0,\n",
       " 1.0,\n",
       " 1.0,\n",
       " 1.0,\n",
       " 1.0,\n",
       " 1.0,\n",
       " 1.0,\n",
       " 1.0,\n",
       " 1.0,\n",
       " 1.0,\n",
       " 1.0,\n",
       " 1.0,\n",
       " 1.0,\n",
       " 1.0,\n",
       " 1.0,\n",
       " 1.0,\n",
       " 2.0,\n",
       " 1.0,\n",
       " 1.0,\n",
       " 1.0,\n",
       " 1.0,\n",
       " 1.0,\n",
       " 1.0,\n",
       " 1.0,\n",
       " 1.0,\n",
       " 1.0,\n",
       " 1.0,\n",
       " 1.0,\n",
       " 1.0,\n",
       " 1.0,\n",
       " 1.0,\n",
       " 1.0,\n",
       " 1.0,\n",
       " 2.0,\n",
       " 1.0,\n",
       " 1.0,\n",
       " 1.0,\n",
       " 1.0,\n",
       " 1.0,\n",
       " 1.0,\n",
       " 1.0,\n",
       " 1.0,\n",
       " 1.0,\n",
       " 1.0,\n",
       " 1.0,\n",
       " 1.0,\n",
       " 1.0,\n",
       " 1.0,\n",
       " 1.0,\n",
       " 1.0,\n",
       " 1.0,\n",
       " 1.0,\n",
       " 1.0,\n",
       " 1.0,\n",
       " 1.0,\n",
       " 1.0,\n",
       " 1.0,\n",
       " 1.0,\n",
       " 1.0,\n",
       " 1.0,\n",
       " 1.0,\n",
       " 1.0,\n",
       " 1.0,\n",
       " 2.0,\n",
       " 1.0,\n",
       " 1.0,\n",
       " 1.0,\n",
       " 1.0,\n",
       " 1.0,\n",
       " 1.0,\n",
       " 1.0,\n",
       " 1.0,\n",
       " 1.0,\n",
       " 1.0,\n",
       " 1.0,\n",
       " 1.0,\n",
       " 1.0,\n",
       " 1.0,\n",
       " 1.0,\n",
       " 1.0,\n",
       " 1.0,\n",
       " 1.0,\n",
       " 1.0,\n",
       " 1.0,\n",
       " 1.0,\n",
       " 1.0,\n",
       " 1.0,\n",
       " 1.0,\n",
       " 1.0,\n",
       " 1.0,\n",
       " 1.0,\n",
       " 1.0,\n",
       " 1.0,\n",
       " 1.0,\n",
       " 1.0,\n",
       " 1.0,\n",
       " 1.0,\n",
       " 1.0,\n",
       " 1.0,\n",
       " 1.0,\n",
       " 1.0,\n",
       " 1.0,\n",
       " 1.0,\n",
       " 1.0,\n",
       " 1.0,\n",
       " 1.0,\n",
       " 1.0,\n",
       " 1.0,\n",
       " 1.0,\n",
       " 1.0,\n",
       " 1.0,\n",
       " 1.0,\n",
       " 1.0,\n",
       " 1.0,\n",
       " 1.0,\n",
       " 1.0,\n",
       " 1.0,\n",
       " 1.0,\n",
       " 1.0,\n",
       " 1.0,\n",
       " 1.0,\n",
       " 1.0,\n",
       " 1.0,\n",
       " 1.0,\n",
       " 1.0,\n",
       " 1.0,\n",
       " 1.0,\n",
       " 1.0,\n",
       " 1.0,\n",
       " 1.0,\n",
       " 1.0,\n",
       " 1.0,\n",
       " 1.0,\n",
       " 1.0,\n",
       " 2.0,\n",
       " 1.0,\n",
       " 1.0,\n",
       " 1.0,\n",
       " 1.0,\n",
       " 1.0,\n",
       " 1.0,\n",
       " 1.0,\n",
       " 1.0,\n",
       " 1.0,\n",
       " 1.0,\n",
       " 1.0,\n",
       " 1.0,\n",
       " 1.0,\n",
       " 2.0,\n",
       " 1.0,\n",
       " 1.0,\n",
       " 1.0,\n",
       " 1.0,\n",
       " 1.0,\n",
       " 1.0,\n",
       " 1.0,\n",
       " 1.0,\n",
       " 1.0,\n",
       " 1.0,\n",
       " 1.0,\n",
       " 1.0,\n",
       " 1.0,\n",
       " 1.0,\n",
       " 1.0,\n",
       " 1.0,\n",
       " 1.0,\n",
       " 1.0,\n",
       " 1.0,\n",
       " 1.0,\n",
       " 1.0,\n",
       " 1.0,\n",
       " 1.0,\n",
       " 1.0,\n",
       " 1.0,\n",
       " 1.0,\n",
       " 1.0,\n",
       " 1.0,\n",
       " 1.0,\n",
       " 1.0,\n",
       " 1.0,\n",
       " 1.0,\n",
       " 1.0,\n",
       " 1.0,\n",
       " 1.0,\n",
       " 1.0,\n",
       " 1.0,\n",
       " 1.0,\n",
       " 1.0,\n",
       " 1.0,\n",
       " 1.0,\n",
       " 1.0,\n",
       " 1.0,\n",
       " 1.0,\n",
       " 1.0,\n",
       " 1.0,\n",
       " 2.0,\n",
       " 1.0,\n",
       " 1.0,\n",
       " 1.0,\n",
       " 1.0,\n",
       " 1.0,\n",
       " 1.0,\n",
       " 1.0,\n",
       " 1.0,\n",
       " 1.0,\n",
       " 1.0,\n",
       " 1.0,\n",
       " 1.0,\n",
       " 1.0,\n",
       " 1.0,\n",
       " 1.0,\n",
       " 1.0,\n",
       " 1.0,\n",
       " 1.0,\n",
       " 1.0,\n",
       " 1.0,\n",
       " 1.0,\n",
       " 1.0,\n",
       " 1.0,\n",
       " 1.0,\n",
       " 1.0,\n",
       " 1.0,\n",
       " 1.0,\n",
       " 1.0,\n",
       " 1.0,\n",
       " 1.0,\n",
       " 1.0,\n",
       " 1.0,\n",
       " 1.0,\n",
       " 1.0,\n",
       " 1.0,\n",
       " 1.0,\n",
       " 1.0,\n",
       " 1.0,\n",
       " 1.0,\n",
       " 1.0,\n",
       " 1.0,\n",
       " 1.0,\n",
       " 1.0,\n",
       " 1.0,\n",
       " 1.0,\n",
       " 1.0,\n",
       " 1.0,\n",
       " 1.0,\n",
       " 1.0,\n",
       " 1.0,\n",
       " 1.0,\n",
       " 1.0,\n",
       " 1.0,\n",
       " 1.0,\n",
       " 1.0,\n",
       " 1.0,\n",
       " 1.0,\n",
       " 1.0,\n",
       " 1.0,\n",
       " 1.0,\n",
       " 1.0,\n",
       " 1.0,\n",
       " 1.0,\n",
       " 1.0,\n",
       " 1.0,\n",
       " 1.0,\n",
       " 1.0,\n",
       " 1.0,\n",
       " 1.0,\n",
       " 1.0,\n",
       " 1.0,\n",
       " 1.0,\n",
       " 1.0,\n",
       " 1.0,\n",
       " 1.0,\n",
       " 1.0,\n",
       " 1.0,\n",
       " 1.0,\n",
       " 1.0,\n",
       " 1.0,\n",
       " 1.0,\n",
       " 1.0,\n",
       " 1.0,\n",
       " 2.0,\n",
       " 1.0,\n",
       " 1.0,\n",
       " 1.0,\n",
       " 1.0,\n",
       " 1.0,\n",
       " 1.0,\n",
       " 1.0,\n",
       " 1.0,\n",
       " 1.0,\n",
       " 1.0,\n",
       " 1.0,\n",
       " 1.0,\n",
       " 1.0,\n",
       " 2.0,\n",
       " 1.0,\n",
       " 1.0,\n",
       " 1.0,\n",
       " 1.0,\n",
       " 1.0,\n",
       " 1.0,\n",
       " 1.0,\n",
       " 1.0,\n",
       " 1.0,\n",
       " 1.0,\n",
       " 1.0,\n",
       " 1.0,\n",
       " 1.0,\n",
       " 1.0,\n",
       " 2.0,\n",
       " 1.0,\n",
       " 1.0,\n",
       " 1.0,\n",
       " 1.0,\n",
       " 1.0,\n",
       " 1.0,\n",
       " 1.0,\n",
       " 1.0,\n",
       " 2.0,\n",
       " 1.0,\n",
       " 1.0,\n",
       " 1.0,\n",
       " 1.0,\n",
       " 1.0,\n",
       " 1.0,\n",
       " 1.0,\n",
       " 1.0,\n",
       " 1.0,\n",
       " 1.0,\n",
       " 1.0,\n",
       " 1.0,\n",
       " 1.0,\n",
       " 1.0,\n",
       " 1.0,\n",
       " 1.0,\n",
       " 1.0,\n",
       " 1.0,\n",
       " 1.0,\n",
       " 1.0,\n",
       " 1.0,\n",
       " 1.0,\n",
       " 1.0,\n",
       " 1.0,\n",
       " 1.0,\n",
       " 1.0,\n",
       " 1.0,\n",
       " 1.0,\n",
       " 1.0,\n",
       " 1.0,\n",
       " 1.0,\n",
       " 1.0,\n",
       " 1.0,\n",
       " 1.0,\n",
       " 1.0,\n",
       " 1.0,\n",
       " 1.0,\n",
       " 1.0,\n",
       " 2.0,\n",
       " 1.0,\n",
       " 1.0,\n",
       " 1.0,\n",
       " 1.0,\n",
       " 1.0,\n",
       " 1.0,\n",
       " 1.0,\n",
       " 1.0,\n",
       " 1.0,\n",
       " 1.0,\n",
       " 1.0,\n",
       " 1.0,\n",
       " 1.0,\n",
       " 1.0,\n",
       " 1.0,\n",
       " 1.0,\n",
       " 1.0,\n",
       " 1.0,\n",
       " 1.0,\n",
       " 1.0,\n",
       " 1.0,\n",
       " 1.0,\n",
       " 1.0,\n",
       " 1.0,\n",
       " 1.0,\n",
       " 1.0,\n",
       " 1.0,\n",
       " 1.0,\n",
       " 1.0,\n",
       " 1.0,\n",
       " 1.0,\n",
       " 1.0,\n",
       " 1.0,\n",
       " 1.0,\n",
       " 1.0,\n",
       " 1.0,\n",
       " 1.0,\n",
       " 1.0,\n",
       " 1.0,\n",
       " 1.0,\n",
       " 1.0,\n",
       " 1.0,\n",
       " 1.0,\n",
       " 1.0,\n",
       " 1.0,\n",
       " 1.0,\n",
       " 1.0,\n",
       " 1.0,\n",
       " 1.0,\n",
       " 1.0,\n",
       " 1.0,\n",
       " 1.0,\n",
       " 1.0,\n",
       " 1.0,\n",
       " 1.0,\n",
       " 1.0,\n",
       " 1.0,\n",
       " 1.0,\n",
       " 1.0,\n",
       " 1.0,\n",
       " 1.0,\n",
       " 1.0,\n",
       " 1.0,\n",
       " 1.0,\n",
       " 1.0,\n",
       " 1.0,\n",
       " 1.0,\n",
       " 1.0,\n",
       " 1.0,\n",
       " 1.0,\n",
       " 1.0,\n",
       " 1.0,\n",
       " 1.0,\n",
       " 1.0,\n",
       " 1.0,\n",
       " 1.0,\n",
       " 1.0,\n",
       " 1.0,\n",
       " 2.0,\n",
       " 1.0,\n",
       " 1.0,\n",
       " 1.0,\n",
       " 1.0,\n",
       " 1.0,\n",
       " 1.0,\n",
       " 1.0,\n",
       " 1.0,\n",
       " 1.0,\n",
       " 1.0,\n",
       " 1.0,\n",
       " 1.0,\n",
       " 1.0,\n",
       " 1.0,\n",
       " 2.0,\n",
       " 1.0,\n",
       " 1.0,\n",
       " 1.0,\n",
       " 1.0,\n",
       " 1.0,\n",
       " 2.0,\n",
       " 1.0,\n",
       " 1.0,\n",
       " 1.0,\n",
       " 1.0,\n",
       " 1.0,\n",
       " 1.0,\n",
       " 1.0,\n",
       " 1.0,\n",
       " 1.0,\n",
       " 1.0,\n",
       " 1.0,\n",
       " 1.0,\n",
       " 1.0,\n",
       " 1.0,\n",
       " 1.0,\n",
       " 1.0,\n",
       " 1.0,\n",
       " 1.0,\n",
       " 1.0,\n",
       " 1.0,\n",
       " 1.0,\n",
       " 1.0,\n",
       " 1.0,\n",
       " 1.0,\n",
       " 1.0,\n",
       " 1.0,\n",
       " 1.0,\n",
       " 1.0,\n",
       " 1.0,\n",
       " 1.0,\n",
       " 1.0,\n",
       " 2.0,\n",
       " 1.0,\n",
       " 1.0,\n",
       " 1.0,\n",
       " 1.0,\n",
       " 1.0,\n",
       " 1.0,\n",
       " 1.0,\n",
       " 1.0,\n",
       " 1.0,\n",
       " 1.0,\n",
       " 1.0,\n",
       " 1.0,\n",
       " 1.0,\n",
       " 1.0,\n",
       " 1.0,\n",
       " 1.0,\n",
       " 1.0,\n",
       " 1.0,\n",
       " 1.0,\n",
       " 1.0,\n",
       " 1.0,\n",
       " 1.0,\n",
       " 1.0,\n",
       " 1.0,\n",
       " 1.0,\n",
       " 1.0,\n",
       " 1.0,\n",
       " 1.0,\n",
       " 1.0,\n",
       " 1.0,\n",
       " 1.0,\n",
       " 1.0,\n",
       " 1.0,\n",
       " 1.0,\n",
       " 1.0,\n",
       " 1.0,\n",
       " 1.0,\n",
       " 1.0,\n",
       " 1.0,\n",
       " 1.0,\n",
       " ...]"
      ]
     },
     "execution_count": 6,
     "metadata": {},
     "output_type": "execute_result"
    }
   ],
   "source": [
    "[objects[i].properties['class id'] for i in range(len(objects))]"
   ]
  },
  {
   "cell_type": "markdown",
   "id": "e6931389",
   "metadata": {},
   "source": [
    "# synthetic one class one item data"
   ]
  },
  {
   "cell_type": "code",
   "execution_count": 37,
   "id": "30f77809",
   "metadata": {},
   "outputs": [],
   "source": [
    "def _is_unique(x: np.ndarray) -> bool:\n",
    "        if np.max(label(x)) > 1:\n",
    "            # check if image is not uniquely labelled (necessary for regionprops)\n",
    "            return not np.max(label(x)) != np.max(x)\n",
    "        else:\n",
    "            return False"
   ]
  },
  {
   "cell_type": "code",
   "execution_count": 14,
   "id": "4648b900",
   "metadata": {},
   "outputs": [],
   "source": [
    "ternary = images['mask'][0].compute()"
   ]
  },
  {
   "cell_type": "code",
   "execution_count": 15,
   "id": "8faab73c",
   "metadata": {},
   "outputs": [],
   "source": [
    "binary = ternary == 1"
   ]
  },
  {
   "cell_type": "code",
   "execution_count": 32,
   "id": "38646674",
   "metadata": {},
   "outputs": [],
   "source": [
    "import scipy.ndimage as nd\n",
    "from skimage.measure import label"
   ]
  },
  {
   "cell_type": "code",
   "execution_count": 27,
   "id": "7dd8582b",
   "metadata": {},
   "outputs": [],
   "source": [
    "single_seg = nd.label(binary)[0].astype(int) == 1"
   ]
  },
  {
   "cell_type": "code",
   "execution_count": 30,
   "id": "46212381",
   "metadata": {},
   "outputs": [],
   "source": [
    "single_seg = single_seg.astype(int)"
   ]
  },
  {
   "cell_type": "code",
   "execution_count": 41,
   "id": "5d1cc180",
   "metadata": {},
   "outputs": [
    {
     "data": {
      "text/plain": [
       "True"
      ]
     },
     "execution_count": 41,
     "metadata": {},
     "output_type": "execute_result"
    }
   ],
   "source": [
    "_is_unique(label(binary))"
   ]
  },
  {
   "cell_type": "code",
   "execution_count": 40,
   "id": "ea18111f",
   "metadata": {},
   "outputs": [
    {
     "data": {
      "text/plain": [
       "False"
      ]
     },
     "execution_count": 40,
     "metadata": {},
     "output_type": "execute_result"
    }
   ],
   "source": [
    "_is_unique(binary)"
   ]
  },
  {
   "cell_type": "code",
   "execution_count": 39,
   "id": "81a39b22",
   "metadata": {},
   "outputs": [
    {
     "data": {
      "text/plain": [
       "False"
      ]
     },
     "execution_count": 39,
     "metadata": {},
     "output_type": "execute_result"
    }
   ],
   "source": [
    "_is_unique(ternary)"
   ]
  },
  {
   "cell_type": "code",
   "execution_count": 38,
   "id": "7357b98c",
   "metadata": {},
   "outputs": [
    {
     "data": {
      "text/plain": [
       "False"
      ]
     },
     "execution_count": 38,
     "metadata": {},
     "output_type": "execute_result"
    }
   ],
   "source": [
    "_is_unique(single_seg)"
   ]
  },
  {
   "cell_type": "code",
   "execution_count": 29,
   "id": "9c8aaff1",
   "metadata": {},
   "outputs": [
    {
     "name": "stderr",
     "output_type": "stream",
     "text": [
      "/home/nathan/analysis/miniconda3/envs/cellx/lib/python3.9/site-packages/skimage/io/_plugins/matplotlib_plugin.py:150: UserWarning: Low image data range; displaying image with stretched contrast.\n",
      "  lo, hi, cmap = _get_display_range(image)\n"
     ]
    },
    {
     "data": {
      "text/plain": [
       "<matplotlib.image.AxesImage at 0x7f252cb3ec70>"
      ]
     },
     "execution_count": 29,
     "metadata": {},
     "output_type": "execute_result"
    },
    {
     "data": {
      "image/png": "[encoded data removed]",
      "text/plain": [
       "<Figure size 1296x576 with 2 Axes>"
      ]
     },
     "metadata": {
      "needs_background": "light"
     },
     "output_type": "display_data"
    }
   ],
   "source": [
    "imshow(single_seg.astype(int))"
   ]
  },
  {
   "cell_type": "code",
   "execution_count": 7,
   "id": "1ed9dae5",
   "metadata": {},
   "outputs": [
    {
     "name": "stderr",
     "output_type": "stream",
     "text": [
      "[INFO][2022/02/07 08:52:56 PM] Localizing objects from segmentation...\n",
      "[INFO][2022/02/07 08:52:58 PM] Objects are of type: <class 'dict'>\n",
      "[INFO][2022/02/07 08:52:58 PM] ...Found 1274 objects in 10 frames.\n"
     ]
    }
   ],
   "source": [
    "objects = btrack.utils.segmentation_to_objects(\n",
    "    images['mask'][0:10],\n",
    "    properties = ('area',  ),\n",
    "    assign_class_ID=True\n",
    ")"
   ]
  },
  {
   "cell_type": "code",
   "execution_count": 8,
   "id": "3d611df7",
   "metadata": {},
   "outputs": [
    {
     "ename": "NameError",
     "evalue": "name 'stop' is not defined",
     "output_type": "error",
     "traceback": [
      "\u001b[0;31m---------------------------------------------------------------------------\u001b[0m",
      "\u001b[0;31mNameError\u001b[0m                                 Traceback (most recent call last)",
      "\u001b[0;32m<ipython-input-8-4f76a9dad686>\u001b[0m in \u001b[0;36m<module>\u001b[0;34m\u001b[0m\n\u001b[0;32m----> 1\u001b[0;31m \u001b[0mstop\u001b[0m\u001b[0;34m\u001b[0m\u001b[0;34m\u001b[0m\u001b[0m\n\u001b[0m",
      "\u001b[0;31mNameError\u001b[0m: name 'stop' is not defined"
     ]
    }
   ],
   "source": [
    "stop"
   ]
  },
  {
   "cell_type": "code",
   "execution_count": null,
   "id": "22d1c690",
   "metadata": {},
   "outputs": [],
   "source": [
    "objects[0]"
   ]
  },
  {
   "cell_type": "code",
   "execution_count": null,
   "id": "675a6f46",
   "metadata": {},
   "outputs": [],
   "source": [
    "objects = btrack.utils.segmentation_to_objects(\n",
    "    images['mask'][0:10],\n",
    "    properties = ('area',  'label'),\n",
    ")"
   ]
  },
  {
   "cell_type": "code",
   "execution_count": null,
   "id": "757767d5",
   "metadata": {},
   "outputs": [],
   "source": [
    "objects[0]"
   ]
  },
  {
   "cell_type": "code",
   "execution_count": null,
   "id": "f7e25ddc",
   "metadata": {},
   "outputs": [],
   "source": [
    "names = [\"Eve\", \"Alice\", \"Bob\"]"
   ]
  },
  {
   "cell_type": "code",
   "execution_count": null,
   "id": "8b546c99",
   "metadata": {},
   "outputs": [],
   "source": [
    "type(names)"
   ]
  },
  {
   "cell_type": "code",
   "execution_count": null,
   "id": "2a209187",
   "metadata": {},
   "outputs": [],
   "source": [
    "from typing import Generator, Optional, Tuple, Union\n"
   ]
  },
  {
   "cell_type": "code",
   "execution_count": null,
   "id": "a3f38984",
   "metadata": {},
   "outputs": [],
   "source": [
    "def _centroids_from_single_arr(\n",
    "    segmentation: Union[np.ndarray, Generator],\n",
    "    properties: Optional[list[str]] = (),\n",
    ") -> list: \n",
    "    return print(properties)"
   ]
  },
  {
   "cell_type": "code",
   "execution_count": null,
   "id": "2f24d8e2",
   "metadata": {},
   "outputs": [],
   "source": [
    "_centroids_from_single_arr(images['mask'][0],)"
   ]
  },
  {
   "cell_type": "code",
   "execution_count": null,
   "id": "eab4cc61",
   "metadata": {},
   "outputs": [],
   "source": [
    "print(names.remove('Eve'))"
   ]
  },
  {
   "cell_type": "code",
   "execution_count": null,
   "id": "9e398755",
   "metadata": {},
   "outputs": [],
   "source": [
    "names = ['Alice', 'Bob']"
   ]
  },
  {
   "cell_type": "code",
   "execution_count": null,
   "id": "4c7749e1",
   "metadata": {},
   "outputs": [],
   "source": [
    "names"
   ]
  },
  {
   "cell_type": "code",
   "execution_count": null,
   "id": "c3ec94d2",
   "metadata": {},
   "outputs": [],
   "source": [
    "names += [\"centroid\"]"
   ]
  },
  {
   "cell_type": "code",
   "execution_count": null,
   "id": "a90b49d9",
   "metadata": {},
   "outputs": [],
   "source": [
    "names"
   ]
  },
  {
   "cell_type": "code",
   "execution_count": null,
   "id": "16604a92",
   "metadata": {},
   "outputs": [],
   "source": [
    "[objects[i].properties['label'] for i in range(len(objects))]"
   ]
  },
  {
   "cell_type": "code",
   "execution_count": null,
   "id": "7188efd3",
   "metadata": {},
   "outputs": [],
   "source": [
    "[objects[i].properties['class id'] for i in range(len(objects))]"
   ]
  },
  {
   "cell_type": "code",
   "execution_count": null,
   "id": "ebe898d9",
   "metadata": {},
   "outputs": [],
   "source": [
    "objects[0]"
   ]
  },
  {
   "cell_type": "code",
   "execution_count": null,
   "id": "5c327a4a",
   "metadata": {},
   "outputs": [],
   "source": [
    "objects[0].properties['area']"
   ]
  },
  {
   "cell_type": "code",
   "execution_count": null,
   "id": "b60b7cd0",
   "metadata": {},
   "outputs": [],
   "source": [
    "objects = btrack.utils.segmentation_to_objects(\n",
    "    images['mask'][0:10],\n",
    "    properties = ('area', 'max_intensity', 'label'),\n",
    ")"
   ]
  },
  {
   "cell_type": "code",
   "execution_count": null,
   "id": "87d8e957",
   "metadata": {},
   "outputs": [],
   "source": [
    "stop"
   ]
  },
  {
   "cell_type": "code",
   "execution_count": null,
   "id": "a9e5c170",
   "metadata": {},
   "outputs": [],
   "source": [
    "properties = ('area', 'max_intensity', 'class id')"
   ]
  },
  {
   "cell_type": "code",
   "execution_count": null,
   "id": "b84aebee",
   "metadata": {},
   "outputs": [],
   "source": [
    "type(properties)"
   ]
  },
  {
   "cell_type": "code",
   "execution_count": null,
   "id": "3154af2c",
   "metadata": {},
   "outputs": [],
   "source": [
    "list(properties).remove('class id')"
   ]
  },
  {
   "cell_type": "code",
   "execution_count": null,
   "id": "3f79f7a4",
   "metadata": {},
   "outputs": [],
   "source": [
    "properties"
   ]
  },
  {
   "cell_type": "code",
   "execution_count": null,
   "id": "b5f3d937",
   "metadata": {
    "scrolled": true
   },
   "outputs": [],
   "source": [
    "objects = btrack.utils.segmentation_to_objects(\n",
    "    images['mask'], images['mask'],\n",
    "    properties = ('area', 'max_intensity', ),\n",
    ")"
   ]
  },
  {
   "cell_type": "code",
   "execution_count": null,
   "id": "51114aca",
   "metadata": {},
   "outputs": [],
   "source": [
    "objects = btrack.utils.segmentation_to_objects(\n",
    "    images['mask'], images['mask'],\n",
    "    properties = ('area', 'max_intensity', ),\n",
    ")"
   ]
  },
  {
   "cell_type": "markdown",
   "id": "afe1f178",
   "metadata": {},
   "source": [
    "# 5 objects per frame doesnt sound right"
   ]
  },
  {
   "cell_type": "code",
   "execution_count": null,
   "id": "fcfd49f7",
   "metadata": {},
   "outputs": [],
   "source": [
    "9566/1738"
   ]
  },
  {
   "cell_type": "markdown",
   "id": "ac1f957b",
   "metadata": {},
   "source": [
    "# is it image crop and transform?"
   ]
  },
  {
   "cell_type": "code",
   "execution_count": null,
   "id": "fa3f9492",
   "metadata": {},
   "outputs": [],
   "source": [
    "import scipy.ndimage as nd"
   ]
  },
  {
   "cell_type": "code",
   "execution_count": null,
   "id": "f3d3654d",
   "metadata": {},
   "outputs": [],
   "source": [
    "count_gfp, count_rfp = 0, 0\n",
    "for i in images['mask']:\n",
    "        count_gfp += nd.label(i == 1)[-1]\n",
    "        count_rfp += nd.label(i == 2)[-1]"
   ]
  },
  {
   "cell_type": "code",
   "execution_count": null,
   "id": "903bd40b",
   "metadata": {},
   "outputs": [],
   "source": [
    "count_gfp, count_rfp"
   ]
  },
  {
   "cell_type": "markdown",
   "id": "94702801",
   "metadata": {},
   "source": [
    "# no it is not crop and transform"
   ]
  },
  {
   "cell_type": "markdown",
   "id": "c74f6632",
   "metadata": {},
   "source": [
    "# testing on ten frames"
   ]
  },
  {
   "cell_type": "code",
   "execution_count": null,
   "id": "78598e6e",
   "metadata": {},
   "outputs": [],
   "source": [
    "count_gfp, count_rfp = 0, 0\n",
    "for i in tqdm(images['mask'][0:10]):\n",
    "        count_gfp += nd.label(i == 1)[-1]\n",
    "        count_rfp += nd.label(i == 2)[-1]"
   ]
  },
  {
   "cell_type": "code",
   "execution_count": null,
   "id": "332eef85",
   "metadata": {},
   "outputs": [],
   "source": [
    "count_gfp, count_rfp"
   ]
  },
  {
   "cell_type": "markdown",
   "id": "c1931222",
   "metadata": {},
   "source": [
    "# trying with just single image, no props"
   ]
  },
  {
   "cell_type": "code",
   "execution_count": null,
   "id": "478d24c9",
   "metadata": {},
   "outputs": [],
   "source": [
    "objects = btrack.utils.segmentation_to_objects(\n",
    "    images['mask'][0:10],\n",
    "    properties = ('area', ),\n",
    ")"
   ]
  },
  {
   "cell_type": "markdown",
   "id": "0ab82ab8",
   "metadata": {},
   "source": [
    "# trying with unique id in each image segment"
   ]
  },
  {
   "cell_type": "code",
   "execution_count": null,
   "id": "00f37385",
   "metadata": {},
   "outputs": [],
   "source": [
    "unique_stack = []\n",
    "for i in images['mask'][0:10]:\n",
    "    unique = nd.label(images['mask'][0])[0]\n",
    "    unique_stack.append(unique)\n",
    "unique_stack = np.stack(unique_stack)"
   ]
  },
  {
   "cell_type": "code",
   "execution_count": null,
   "id": "d9b3115c",
   "metadata": {
    "scrolled": false
   },
   "outputs": [],
   "source": [
    "imshow(unique_stack[0])"
   ]
  },
  {
   "cell_type": "code",
   "execution_count": null,
   "id": "cf79467d",
   "metadata": {},
   "outputs": [],
   "source": [
    "objects = btrack.utils.segmentation_to_objects(\n",
    "    unique_stack,\n",
    "    properties = ('area', ),\n",
    ")"
   ]
  },
  {
   "cell_type": "markdown",
   "id": "d03c4d32",
   "metadata": {},
   "source": [
    "# seems like its either stack or uniqueness"
   ]
  },
  {
   "cell_type": "code",
   "execution_count": null,
   "id": "b4ca0b50",
   "metadata": {},
   "outputs": [],
   "source": [
    "stack = images['mask'][0:10].compute()"
   ]
  },
  {
   "cell_type": "code",
   "execution_count": null,
   "id": "e560b185",
   "metadata": {},
   "outputs": [],
   "source": [
    "stack = stack.astype(int)"
   ]
  },
  {
   "cell_type": "code",
   "execution_count": null,
   "id": "60f56acd",
   "metadata": {},
   "outputs": [],
   "source": [
    "objects = btrack.utils.segmentation_to_objects(\n",
    "    stack,\n",
    "    properties = ('area', ),\n",
    ")"
   ]
  },
  {
   "cell_type": "markdown",
   "id": "33a65d1e",
   "metadata": {},
   "source": [
    "# the issue is lack of ternary segmentation input in localisation"
   ]
  },
  {
   "cell_type": "code",
   "execution_count": null,
   "id": "8465e3a0",
   "metadata": {},
   "outputs": [],
   "source": [
    "segmentation = images['mask'][0:10]"
   ]
  },
  {
   "cell_type": "code",
   "execution_count": null,
   "id": "787a8bcf",
   "metadata": {},
   "outputs": [],
   "source": [
    "np.sum(segmentation).compute()"
   ]
  },
  {
   "cell_type": "code",
   "execution_count": null,
   "id": "53f2285e",
   "metadata": {},
   "outputs": [],
   "source": [
    "def _is_binary(x: np.ndarray) -> bool:\n",
    "        return ((x == 0) | (x == 1)).all()"
   ]
  },
  {
   "cell_type": "code",
   "execution_count": null,
   "id": "42785154",
   "metadata": {},
   "outputs": [],
   "source": [
    "def _is_ternary(x: np.ndarray) -> bool:\n",
    "        return ((x == 0) | (x == 1) | (x == 2)).all()"
   ]
  },
  {
   "cell_type": "code",
   "execution_count": null,
   "id": "bce7485e",
   "metadata": {},
   "outputs": [],
   "source": [
    "imshow(segmentation.compute()[0])"
   ]
  },
  {
   "cell_type": "code",
   "execution_count": null,
   "id": "8398637f",
   "metadata": {},
   "outputs": [],
   "source": [
    "_is_ternary(segmentation.compute())"
   ]
  },
  {
   "cell_type": "code",
   "execution_count": null,
   "id": "94c6c9fa",
   "metadata": {},
   "outputs": [],
   "source": [
    "from skimage.measure import label, regionprops_table"
   ]
  },
  {
   "cell_type": "code",
   "execution_count": null,
   "id": "db795096",
   "metadata": {},
   "outputs": [],
   "source": [
    "image = images['mask'][0].compute().astype(int)"
   ]
  },
  {
   "cell_type": "code",
   "execution_count": null,
   "id": "a9bae70e",
   "metadata": {},
   "outputs": [],
   "source": [
    "imshow(image)"
   ]
  },
  {
   "cell_type": "code",
   "execution_count": null,
   "id": "1cb392a9",
   "metadata": {},
   "outputs": [],
   "source": [
    "imshow(label(image))"
   ]
  },
  {
   "cell_type": "code",
   "execution_count": null,
   "id": "eda9cbbc",
   "metadata": {},
   "outputs": [],
   "source": [
    "_is_ternary(image)"
   ]
  },
  {
   "cell_type": "code",
   "execution_count": null,
   "id": "e31cd857",
   "metadata": {},
   "outputs": [],
   "source": [
    "_is_ternary(label(image))"
   ]
  },
  {
   "cell_type": "code",
   "execution_count": null,
   "id": "21bd8a05",
   "metadata": {},
   "outputs": [],
   "source": [
    "_is_binary(label(image))"
   ]
  },
  {
   "cell_type": "code",
   "execution_count": null,
   "id": "48f88eb5",
   "metadata": {},
   "outputs": [],
   "source": [
    "_is_binary(image)"
   ]
  },
  {
   "cell_type": "code",
   "execution_count": null,
   "id": "9a78e3ba",
   "metadata": {},
   "outputs": [],
   "source": [
    "imshow(label(label(image)))"
   ]
  },
  {
   "cell_type": "code",
   "execution_count": null,
   "id": "19a939c4",
   "metadata": {},
   "outputs": [],
   "source": [
    "regionprops_table(image)"
   ]
  },
  {
   "cell_type": "code",
   "execution_count": null,
   "id": "27ecc7ea",
   "metadata": {},
   "outputs": [],
   "source": [
    "imshow(image)"
   ]
  },
  {
   "cell_type": "code",
   "execution_count": null,
   "id": "225ae20f",
   "metadata": {},
   "outputs": [],
   "source": [
    "((image != 0) | (image != 1)).any()"
   ]
  },
  {
   "cell_type": "code",
   "execution_count": null,
   "id": "671a3f69",
   "metadata": {},
   "outputs": [],
   "source": [
    "# if more than one segment pixel value is similar "
   ]
  },
  {
   "cell_type": "code",
   "execution_count": null,
   "id": "0e74311e",
   "metadata": {},
   "outputs": [],
   "source": [
    "# max label value in image\n",
    "np.unique(image).max()"
   ]
  },
  {
   "cell_type": "code",
   "execution_count": null,
   "id": "5f6c7131",
   "metadata": {},
   "outputs": [],
   "source": [
    "np.unique(image, return_counts=True)"
   ]
  },
  {
   "cell_type": "code",
   "execution_count": null,
   "id": "b79f6298",
   "metadata": {},
   "outputs": [],
   "source": [
    "np.unique(label(image), return_counts=True)"
   ]
  },
  {
   "cell_type": "code",
   "execution_count": null,
   "id": "0ddb9386",
   "metadata": {},
   "outputs": [],
   "source": [
    "# number of segments in an image\n",
    "label(image, return_num=True)"
   ]
  },
  {
   "cell_type": "code",
   "execution_count": null,
   "id": "bd597699",
   "metadata": {},
   "outputs": [],
   "source": [
    "label(image).max() is not image.max()"
   ]
  },
  {
   "cell_type": "code",
   "execution_count": null,
   "id": "e217670c",
   "metadata": {},
   "outputs": [],
   "source": [
    "label(image).max()"
   ]
  },
  {
   "cell_type": "code",
   "execution_count": null,
   "id": "1ba398e0",
   "metadata": {},
   "outputs": [],
   "source": [
    "label(image, return_num=True)[-1]"
   ]
  },
  {
   "cell_type": "code",
   "execution_count": null,
   "id": "85a05339",
   "metadata": {},
   "outputs": [],
   "source": [
    "def _is_multiclass(x: np.ndarray) -> bool:\n",
    "        # check if image is not uniquely labelled \n",
    "        # test to see number unique labels is not the same as the max label\n",
    "        return np.max(label(x)) != np.max(x)"
   ]
  },
  {
   "cell_type": "code",
   "execution_count": null,
   "id": "e472aa2d",
   "metadata": {},
   "outputs": [],
   "source": [
    "_is_multiclass(label(image))"
   ]
  },
  {
   "cell_type": "code",
   "execution_count": null,
   "id": "f41c4bf7",
   "metadata": {},
   "outputs": [],
   "source": [
    "_is_multiclass(image)"
   ]
  },
  {
   "cell_type": "code",
   "execution_count": null,
   "id": "a7354ce5",
   "metadata": {},
   "outputs": [],
   "source": [
    "_is_multiclass(image==1)"
   ]
  },
  {
   "cell_type": "code",
   "execution_count": null,
   "id": "1023e044",
   "metadata": {},
   "outputs": [],
   "source": [
    "label(label(image)).max()"
   ]
  },
  {
   "cell_type": "code",
   "execution_count": null,
   "id": "17c3e753",
   "metadata": {},
   "outputs": [],
   "source": [
    "label(image).max()"
   ]
  },
  {
   "cell_type": "code",
   "execution_count": null,
   "id": "07d32551",
   "metadata": {},
   "outputs": [],
   "source": [
    "imshow(image)"
   ]
  },
  {
   "cell_type": "code",
   "execution_count": null,
   "id": "17c2ab6f",
   "metadata": {},
   "outputs": [],
   "source": [
    "_is_multiclass(image)"
   ]
  },
  {
   "cell_type": "code",
   "execution_count": null,
   "id": "1d938de8",
   "metadata": {},
   "outputs": [],
   "source": [
    "unique_image =[0] label(image)"
   ]
  },
  {
   "cell_type": "code",
   "execution_count": null,
   "id": "06816fb9",
   "metadata": {},
   "outputs": [],
   "source": [
    "imshow(label(image))"
   ]
  },
  {
   "cell_type": "code",
   "execution_count": null,
   "id": "3215ec07",
   "metadata": {},
   "outputs": [],
   "source": [
    "label(unique_image).max(), unique_image.max()"
   ]
  },
  {
   "cell_type": "code",
   "execution_count": null,
   "id": "c39d2d2a",
   "metadata": {},
   "outputs": [],
   "source": [
    "label(unique_image).max() is not unique_image.max()"
   ]
  },
  {
   "cell_type": "code",
   "execution_count": null,
   "id": "60834f1e",
   "metadata": {},
   "outputs": [],
   "source": [
    "label(unique_image).max() != unique_image.max()"
   ]
  },
  {
   "cell_type": "code",
   "execution_count": null,
   "id": "f140dd1a",
   "metadata": {},
   "outputs": [],
   "source": [
    "np.unique(image) != label(image)"
   ]
  },
  {
   "cell_type": "code",
   "execution_count": null,
   "id": "f98fcd27",
   "metadata": {},
   "outputs": [],
   "source": [
    "len(np.unique(label(image))), np.max(label(image))"
   ]
  },
  {
   "cell_type": "markdown",
   "id": "224a92e3",
   "metadata": {},
   "source": [
    "# adding class label to obj properties"
   ]
  },
  {
   "cell_type": "code",
   "execution_count": null,
   "id": "daf9d989",
   "metadata": {},
   "outputs": [],
   "source": [
    "labeled = label(image)"
   ]
  },
  {
   "cell_type": "code",
   "execution_count": null,
   "id": "7fda2377",
   "metadata": {},
   "outputs": [],
   "source": [
    "ternary = image"
   ]
  },
  {
   "cell_type": "code",
   "execution_count": null,
   "id": "66ab69a7",
   "metadata": {},
   "outputs": [],
   "source": [
    "intensity_image = labeled"
   ]
  },
  {
   "cell_type": "code",
   "execution_count": null,
   "id": "d84ce2b9",
   "metadata": {},
   "outputs": [],
   "source": [
    "regionprops_table(labeled, ternary, properties = ('area', 'max_intensity'))"
   ]
  },
  {
   "cell_type": "code",
   "execution_count": null,
   "id": "2ab11e9f",
   "metadata": {},
   "outputs": [],
   "source": [
    "_centroids = regionprops_table(labeled, ternary, properties = ('area', 'max_intensity'))"
   ]
  },
  {
   "cell_type": "code",
   "execution_count": null,
   "id": "6b9d8ca8",
   "metadata": {},
   "outputs": [],
   "source": [
    "_centroids['class_id'] = _centroids.pop('max_intensity')"
   ]
  },
  {
   "cell_type": "code",
   "execution_count": null,
   "id": "97dd3ae6",
   "metadata": {},
   "outputs": [],
   "source": [
    "_centroids"
   ]
  },
  {
   "cell_type": "code",
   "execution_count": null,
   "id": "2350a7d0",
   "metadata": {},
   "outputs": [],
   "source": [
    "def _is_multiclass(x: np.ndarray) -> bool:\n",
    "        # check if image is not uniquely labelled\n",
    "        # test to see number unique labels is not the same as the max label\n",
    "        return np.max(label(x)) != np.max(x)"
   ]
  },
  {
   "cell_type": "code",
   "execution_count": null,
   "id": "0680fd01",
   "metadata": {},
   "outputs": [],
   "source": [
    "properties = 'class_ID'"
   ]
  },
  {
   "cell_type": "code",
   "execution_count": null,
   "id": "e00ed0ef",
   "metadata": {},
   "outputs": [],
   "source": [
    "_is_multiclass(ternary)"
   ]
  },
  {
   "cell_type": "code",
   "execution_count": null,
   "id": "4ec9244c",
   "metadata": {},
   "outputs": [],
   "source": [
    "'class_ID' in properties"
   ]
  },
  {
   "cell_type": "code",
   "execution_count": null,
   "id": "161e61dc",
   "metadata": {},
   "outputs": [],
   "source": [
    "if 'class_ID' in properties and _is_multiclass(ternary):\n",
    "    _centroids = regionprops_table(\n",
    "            labeled, intensity_image=ternary, properties=('max_intensity', 'max_intensity')\n",
    "        )\n",
    "    _centroids['class ID'] = _centroids.pop('max_intensity')"
   ]
  },
  {
   "cell_type": "code",
   "execution_count": null,
   "id": "2458ca34",
   "metadata": {},
   "outputs": [],
   "source": [
    "_centroids"
   ]
  },
  {
   "cell_type": "code",
   "execution_count": null,
   "id": "b5ef3b0e",
   "metadata": {},
   "outputs": [],
   "source": [
    "_centroids"
   ]
  },
  {
   "cell_type": "code",
   "execution_count": null,
   "id": "688a1778",
   "metadata": {},
   "outputs": [],
   "source": [
    "_centroids.update(__centroids)"
   ]
  },
  {
   "cell_type": "code",
   "execution_count": null,
   "id": "2f3eda68",
   "metadata": {},
   "outputs": [],
   "source": [
    "_centroids"
   ]
  },
  {
   "cell_type": "code",
   "execution_count": null,
   "id": "bcf662ee",
   "metadata": {},
   "outputs": [],
   "source": [
    "_is_binary(binary)"
   ]
  },
  {
   "cell_type": "code",
   "execution_count": null,
   "id": "fd589ef1",
   "metadata": {},
   "outputs": [],
   "source": [
    "_is_multiclass(binary)"
   ]
  },
  {
   "cell_type": "code",
   "execution_count": null,
   "id": "820fa2f0",
   "metadata": {},
   "outputs": [],
   "source": [
    "_is_multiclass(label(binary))"
   ]
  },
  {
   "cell_type": "code",
   "execution_count": null,
   "id": "af4c204a",
   "metadata": {},
   "outputs": [],
   "source": [
    "binary = ternary == 1"
   ]
  },
  {
   "cell_type": "code",
   "execution_count": null,
   "id": "c1e36cf1",
   "metadata": {},
   "outputs": [],
   "source": [
    "np.max(label(binary))"
   ]
  },
  {
   "cell_type": "code",
   "execution_count": null,
   "id": "eb90f2be",
   "metadata": {},
   "outputs": [],
   "source": [
    "np.max(binary)"
   ]
  },
  {
   "cell_type": "code",
   "execution_count": null,
   "id": "d0435bc0",
   "metadata": {},
   "outputs": [],
   "source": [
    "binary"
   ]
  },
  {
   "cell_type": "code",
   "execution_count": null,
   "id": "12962148",
   "metadata": {},
   "outputs": [],
   "source": [
    "def _is_unique(x: np.ndarray) -> bool:\n",
    "        # check if image is not uniquely labelled\n",
    "        return not np.max(label(x)) != np.max(x)"
   ]
  },
  {
   "cell_type": "code",
   "execution_count": null,
   "id": "e76d8ce7",
   "metadata": {},
   "outputs": [],
   "source": [
    "_is_unique(ternary)"
   ]
  },
  {
   "cell_type": "markdown",
   "id": "4fa49b7b",
   "metadata": {},
   "source": [
    "#### Can also assign measured values from raw image to each segment using `skimage.measure.regionprops` parameters\n",
    "But also need to load the raw images to be measured first. Cannot currently save out `intensity_image` parameter to object file."
   ]
  },
  {
   "cell_type": "code",
   "execution_count": null,
   "id": "a4548905",
   "metadata": {},
   "outputs": [],
   "source": [
    "detailed_objects = btrack.utils.segmentation_to_objects(\n",
    "    images['mask'], \n",
    "    images['gfp'],\n",
    "    properties = ('area', 'mean_intensity', 'intensity_image'), \n",
    ")"
   ]
  },
  {
   "cell_type": "code",
   "execution_count": null,
   "id": "91e2efcf",
   "metadata": {},
   "outputs": [],
   "source": [
    "detailed_objects[0]"
   ]
  },
  {
   "cell_type": "markdown",
   "id": "63775a4c",
   "metadata": {},
   "source": [
    "Example image showing PCNA-iRFP morphology "
   ]
  },
  {
   "cell_type": "code",
   "execution_count": null,
   "id": "03d3a75b",
   "metadata": {},
   "outputs": [],
   "source": [
    "imshow(detailed_objects[0].properties['intensity_image'])"
   ]
  },
  {
   "cell_type": "markdown",
   "id": "08114355",
   "metadata": {},
   "source": [
    "## 2b. Differentiate the objects based on class ID"
   ]
  },
  {
   "cell_type": "code",
   "execution_count": null,
   "id": "583c2fdc",
   "metadata": {},
   "outputs": [],
   "source": [
    "objects_gfp = [obj for obj in objects if obj.properties['max_intensity'] == 1]\n",
    "objects_rfp = [obj for obj in objects if obj.properties['max_intensity'] == 2]"
   ]
  },
  {
   "cell_type": "markdown",
   "id": "cbc05b98",
   "metadata": {},
   "source": [
    "## 3. Classify the objects "
   ]
  },
  {
   "cell_type": "markdown",
   "id": "e1725583",
   "metadata": {},
   "source": [
    "Load model"
   ]
  },
  {
   "cell_type": "code",
   "execution_count": null,
   "id": "10cd85e0",
   "metadata": {},
   "outputs": [],
   "source": [
    "model = load_model('../models/cellx_classifier_stardist.h5')"
   ]
  },
  {
   "cell_type": "markdown",
   "id": "3bce619f",
   "metadata": {},
   "source": [
    "Define normalisation functions"
   ]
  },
  {
   "cell_type": "code",
   "execution_count": null,
   "id": "92d135ad",
   "metadata": {},
   "outputs": [],
   "source": [
    "def normalize_channels(x):\n",
    "\n",
    "    for dim in range(x.shape[-1]):\n",
    "        x[..., dim] = normalize(x[..., dim])\n",
    "        \n",
    "    return x\n",
    "\n",
    "def normalize(x):\n",
    "\n",
    "    xf = x.astype(np.float32)\n",
    "    mx = np.mean(xf)\n",
    "    sd = np.max([np.std(xf), 1./np.prod(x.shape)])\n",
    "\n",
    "    return (xf - mx) / sd"
   ]
  },
  {
   "cell_type": "markdown",
   "id": "3bb8428f",
   "metadata": {},
   "source": [
    "Define classifier function"
   ]
  },
  {
   "cell_type": "code",
   "execution_count": null,
   "id": "41184a4e",
   "metadata": {},
   "outputs": [],
   "source": [
    "def classify_objects(image, objects, obj_type):\n",
    "    \n",
    "    # define stages of cell cycle to classify (dependent on model type)\n",
    "    LABELS = [\"interphase\", \"prometaphase\", \"metaphase\", \"anaphase\", \"apoptosis\"]\n",
    "    \n",
    "    # iterate over frames\n",
    "    for n in tqdm(range(image.shape[0])):\n",
    "        \n",
    "        # only select objects if in frame\n",
    "        _objects = [o for o in objects if o.t == n]\n",
    "        \n",
    "        # empty placeholder arrays\n",
    "        crops = []\n",
    "        to_update = []\n",
    "        \n",
    "        # select h2b channel to aid in classification\n",
    "        fp = gfp if obj_type == 1 else rfp\n",
    "        \n",
    "        # create stack by computing each frame of dask array input\n",
    "        frame = np.stack(\n",
    "            [image[n, ...].compute(), fp[n, ...].compute()], \n",
    "            axis=-1,) \n",
    "        \n",
    "        # create padded image for network\n",
    "        vol = InfinitePaddedImage(frame, mode = 'reflect')\n",
    "        \n",
    "        # iterate over objects \n",
    "        for obj in _objects:\n",
    "            \n",
    "            # create coords for image slice\n",
    "            xs = slice(int(obj.x-40), int(obj.x+40), 1)\n",
    "            ys = slice(int(obj.y-40), int(obj.y+40), 1)\n",
    "            \n",
    "            # crop image\n",
    "            crop = vol[ys, xs, :]\n",
    "            crop = resize(crop, (64, 64), preserve_range=True).astype(np.float32)\n",
    "            \n",
    "            # normalise image\n",
    "            if crop.shape == (64 ,64, 2):\n",
    "                crops.append(normalize_channels(crop))\n",
    "                to_update.append(obj)\n",
    "            else:\n",
    "                print(crop.shape)\n",
    "                \n",
    "        if not crops:\n",
    "            continue\n",
    "            \n",
    "        # use classifcation model to predict\n",
    "        pred = model.predict(np.stack(crops, axis=0))\n",
    "        \n",
    "        # check correct number of predictions\n",
    "        assert pred.shape[0] == len(_objects)\n",
    "        \n",
    "        # assign labels to objects\n",
    "        for idx in range(pred.shape[0]):\n",
    "            obj = _objects[idx]\n",
    "            \n",
    "            # assigning details of prediction\n",
    "            pred_label = np.argmax(pred[idx, ...])\n",
    "            pred_softmax = softmax(pred[idx, ...])\n",
    "            logits = {f\"prob_{k}\": pred_softmax[ki] for ki, k in enumerate(LABELS)}\n",
    "            \n",
    "            # write out\n",
    "            obj.label = pred_label\n",
    "            obj.properties = logits\n",
    "\n",
    "    return objects"
   ]
  },
  {
   "cell_type": "markdown",
   "id": "db8781b4",
   "metadata": {},
   "source": [
    "#### Load raw images for classifier, a colour channel dependent on `obj_type` needed too (i.e. GFP is `obj_type = 1`, RFP is `obj_type = 2`"
   ]
  },
  {
   "cell_type": "code",
   "execution_count": null,
   "id": "657771d0",
   "metadata": {},
   "outputs": [],
   "source": [
    "bf = images['brightfield']\n",
    "gfp = images['gfp']\n",
    "rfp = images['rfp']"
   ]
  },
  {
   "cell_type": "markdown",
   "id": "30835a86",
   "metadata": {},
   "source": [
    "#### Classify objects"
   ]
  },
  {
   "cell_type": "code",
   "execution_count": null,
   "id": "420e84c8",
   "metadata": {},
   "outputs": [],
   "source": [
    "objects_gfp = classify_objects(bf, objects_gfp, obj_type = 1)\n",
    "objects_rfp = classify_objects(bf, objects_rfp, obj_type = 2)"
   ]
  },
  {
   "cell_type": "markdown",
   "id": "c70646be",
   "metadata": {},
   "source": [
    "#### Inspect an example object"
   ]
  },
  {
   "cell_type": "code",
   "execution_count": null,
   "id": "aec4f611",
   "metadata": {},
   "outputs": [],
   "source": [
    "objects_gfp[0]"
   ]
  },
  {
   "cell_type": "markdown",
   "id": "65c5c716",
   "metadata": {},
   "source": [
    "#### Save out classified GFP objects"
   ]
  },
  {
   "cell_type": "code",
   "execution_count": null,
   "id": "796afd43",
   "metadata": {},
   "outputs": [],
   "source": [
    "with btrack.dataio.HDF5FileHandler(\n",
    "    f'{root_dir}/{expt}/{pos}/objects_type_1.h5', 'w', obj_type='obj_type_1',\n",
    ") as hdf:\n",
    "    #hdf.write_segmentation(masks['mask'])\n",
    "    hdf.write_objects(objects_gfp)"
   ]
  },
  {
   "cell_type": "markdown",
   "id": "9fdb0274",
   "metadata": {},
   "source": [
    "#### Save out classified RFP objects"
   ]
  },
  {
   "cell_type": "code",
   "execution_count": null,
   "id": "71de0f83",
   "metadata": {},
   "outputs": [],
   "source": [
    "with btrack.dataio.HDF5FileHandler(\n",
    "    f'{root_dir}/{expt}/{pos}/objects_type_2.h5', 'w', obj_type='obj_type_2',\n",
    ") as hdf:\n",
    "    #hdf.write_segmentation(masks['mask'])\n",
    "    hdf.write_objects(objects_rfp)"
   ]
  },
  {
   "cell_type": "markdown",
   "id": "1b2e10e7",
   "metadata": {},
   "source": [
    "# 4. Batch process\n",
    "Iterate over many experiments and positions (need to ensure you define normalisation and classification functions above first)"
   ]
  },
  {
   "cell_type": "code",
   "execution_count": null,
   "id": "b1792133",
   "metadata": {
    "scrolled": true
   },
   "outputs": [],
   "source": [
    "root_dir = '/home/nathan/data/kraken/ras'\n",
    "expt_list = ['ND0010', 'ND0011', 'ND0012']\n",
    "pos_list = 'all'\n",
    "overwrite = True\n",
    "\n",
    "for expt in tqdm(expt_list, position = 0, leave = True):\n",
    "    \n",
    "        # Find all positions in that experiment, if pos_list is all then it finds all positions\n",
    "        if pos_list == 'all':\n",
    "            pos_list = [pos for pos in os.listdir(f'{root_dir}/{expt}') \n",
    "                    if 'Pos' in pos \n",
    "                    and os.path.isdir(f'{root_dir}/{expt}/{pos}')]  \n",
    "            \n",
    "            \n",
    "        ### Iterate over all positions in that experiment\n",
    "        for pos in tqdm(pos_list, position = 0, leave = True):\n",
    "            \n",
    "            ### check if overwrite param is false check if raw directory already created and if type of transform file already exists and decide whether to skip pos\n",
    "            if not overwrite and glob.glob(f'{root_dir}/{expt}/{pos}/*objects*.h5'):\n",
    "                print(glob.glob(f'{root_dir}/{expt}/{pos}/*objects*.h5'), f'file found, skipping {expt}/{pos}')\n",
    "                continue\n",
    "                \n",
    "            print(f'Starting {expt}/{pos}')\n",
    "            # load segmentation images and apply necessary transforms and crops\n",
    "            image_path = f'{root_dir}/{expt}/{pos}/{pos}_images'\n",
    "            transform_path = f'{root_dir}/{expt}/{pos}/gfp_transform_tensor.npy'\n",
    "            images = DaskOctopusLiteLoader(image_path, \n",
    "                               transforms=transform_path,\n",
    "                               crop=(1200,1600), \n",
    "                               remove_background=False)\n",
    "            \n",
    "            # ID the objects in each segmentation image and assign option properties to them\n",
    "            objects = btrack.utils.segmentation_to_objects(\n",
    "                images['mask'], images['mask'],\n",
    "                properties = ('area', 'max_intensity', ),\n",
    "            )\n",
    "            \n",
    "            # differentiate the objects based on class ID\n",
    "            objects_gfp = [obj for obj in objects if obj.properties['max_intensity'] == 1]\n",
    "            objects_rfp = [obj for obj in objects if obj.properties['max_intensity'] == 2]\n",
    "            \n",
    "            # load classifcation model and define labels\n",
    "            model = load_model('../models/cellx_classifier_stardist.h5')\n",
    "            LABELS = [\"interphase\", \"prometaphase\", \"metaphase\", \"anaphase\", \"apoptosis\"]\n",
    "\n",
    "            # load images for classifcation\n",
    "            bf = images['brightfield']\n",
    "            gfp = images['gfp']\n",
    "            rfp = images['rfp']\n",
    "            \n",
    "            # classify objects\n",
    "            print(\"Classifying objects\")\n",
    "            objects_gfp = classify_objects(bf, objects_gfp, obj_type = 1)\n",
    "            objects_rfp = classify_objects(bf, objects_rfp, obj_type = 2)\n",
    "            \n",
    "            # save out classified objects as segmentation h5 file\n",
    "            with btrack.dataio.HDF5FileHandler(\n",
    "                f'{root_dir}/{expt}/{pos}/objects_type_1.h5', 'w', obj_type='obj_type_1',\n",
    "            ) as hdf:\n",
    "                #hdf.write_segmentation(masks['mask'])\n",
    "                hdf.write_objects(objects_gfp)\n",
    "            with btrack.dataio.HDF5FileHandler(\n",
    "                f'{root_dir}/{expt}/{pos}/objects_type_2.h5', 'w', obj_type='obj_type_2',\n",
    "            ) as hdf:\n",
    "                #hdf.write_segmentation(masks['mask'])\n",
    "                hdf.write_objects(objects_rfp)     "
   ]
  },
  {
   "cell_type": "code",
   "execution_count": null,
   "id": "beda841a",
   "metadata": {},
   "outputs": [],
   "source": []
  }
 ],
 "metadata": {
  "kernelspec": {
   "display_name": "CellX",
   "language": "python",
   "name": "cellx"
  },
  "language_info": {
   "codemirror_mode": {
    "name": "ipython",
    "version": 3
   },
   "file_extension": ".py",
   "mimetype": "text/x-python",
   "name": "python",
   "nbconvert_exporter": "python",
   "pygments_lexer": "ipython3",
   "version": "3.9.7"
  }
 },
 "nbformat": 4,
 "nbformat_minor": 5
}
