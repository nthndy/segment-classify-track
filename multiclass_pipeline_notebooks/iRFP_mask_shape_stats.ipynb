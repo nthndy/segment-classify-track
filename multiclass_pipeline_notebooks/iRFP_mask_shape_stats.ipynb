{
 "cells": [
  {
   "cell_type": "markdown",
   "id": "a4cf9a6b",
   "metadata": {},
   "source": [
    "# iRFP mask shape stats\n",
    "\n",
    "Meausres of average iRFP nuclear mask shape and size for paramter tuning of H2B-GFP post-processing"
   ]
  },
  {
   "cell_type": "code",
   "execution_count": 1,
   "id": "3a23b02f",
   "metadata": {},
   "outputs": [],
   "source": [
    "import napari\n",
    "from octopuslite import DaskOctopusLiteLoader\n",
    "import glob\n",
    "import numpy as np\n",
    "\n",
    "import numpy as np\n",
    "from tqdm.auto import tqdm\n",
    "\n",
    "def compute(dask_image_stack, N = None):\n",
    "    \n",
    "    \"\"\"lazy hack to get around dask not loading transformed stacks in one go\"\"\"\n",
    "    \n",
    "    if N == None:\n",
    "        N = (0, len(dask_image_stack) )\n",
    "        \n",
    "    return np.stack([frame.compute().astype(np.uint8) for frame in tqdm(dask_image_stack[N[0]:N[1]], total = N[1]-N[0])], axis = 0)"
   ]
  },
  {
   "cell_type": "markdown",
   "id": "9cc54637",
   "metadata": {},
   "source": [
    "# Load images"
   ]
  },
  {
   "cell_type": "code",
   "execution_count": 2,
   "id": "5206859a",
   "metadata": {
    "scrolled": true
   },
   "outputs": [
    {
     "name": "stdout",
     "output_type": "stream",
     "text": [
      "['/home/nathan/data/kraken/ras/ND0024/Pos13/transform_tensor.npy']\n"
     ]
    }
   ],
   "source": [
    "# define experiment ID and select a position\n",
    "expt = 'ND0024'\n",
    "pos = 'Pos13'\n",
    "# point to where the data is\n",
    "root_dir = '/home/nathan/data/kraken/ras'\n",
    "image_path = f'{root_dir}/{expt}/{pos}/{pos}_images'\n",
    "transform_paths = glob.glob(f'{root_dir}/{expt}/{pos}/*.npy')\n",
    "print(transform_paths)\n",
    "tracks_path = f'{root_dir}/{expt}/{pos}/tracks.h5'"
   ]
  },
  {
   "cell_type": "code",
   "execution_count": 3,
   "id": "fd0b530b",
   "metadata": {},
   "outputs": [],
   "source": [
    "transform_path = transform_paths[0] #'/home/nathan/data/kraken/ras/ND0019/Pos2/mask_reversed_clipped_transform_tensor.npy'"
   ]
  },
  {
   "cell_type": "code",
   "execution_count": 4,
   "id": "72347393",
   "metadata": {
    "scrolled": true
   },
   "outputs": [
    {
     "name": "stdout",
     "output_type": "stream",
     "text": [
      "Using cropping: (1200, 1600)\n"
     ]
    },
    {
     "data": {
      "text/plain": [
       "[<Channels.BRIGHTFIELD: 0>,\n",
       " <Channels.GFP: 1>,\n",
       " <Channels.RFP: 2>,\n",
       " <Channels.IRFP: 3>,\n",
       " <Channels.MASK: 99>]"
      ]
     },
     "execution_count": 4,
     "metadata": {},
     "output_type": "execute_result"
    }
   ],
   "source": [
    "# lazily load images\n",
    "images = DaskOctopusLiteLoader(image_path,\n",
    "                              transforms = transform_path,\n",
    "                              crop = (1200,1600),\n",
    "                              remove_background = True)\n",
    "                              \n",
    "images.channels"
   ]
  },
  {
   "cell_type": "code",
   "execution_count": 5,
   "id": "6921a651",
   "metadata": {},
   "outputs": [],
   "source": [
    "gfp = images['gfp']\n",
    "rfp = images['rfp']#.compute().astype(np.uint8)\n",
    "# irfp = images['irfp']\n",
    "masks = images['mask']#.compute().astype(np.uint8)\n",
    "#masks_old = images['mask_gfp']"
   ]
  },
  {
   "cell_type": "markdown",
   "id": "a77a3dd7",
   "metadata": {},
   "source": [
    "# iRFP masks\n",
    "\n",
    "Generating statistics about upper and lower bounds for area and ellipsivity of definitive GFP segments (found by iRFP segmentation)\n",
    "\n",
    "ND0022 Pos12"
   ]
  },
  {
   "cell_type": "code",
   "execution_count": 47,
   "id": "15fad1c3",
   "metadata": {},
   "outputs": [],
   "source": [
    "irfp_masks = DaskOctopusLiteLoader('/home/nathan/data/kraken/ras/ND0022/Pos12/Pos12_images/')['mask_irfp']"
   ]
  },
  {
   "cell_type": "code",
   "execution_count": 48,
   "id": "21a37b76",
   "metadata": {},
   "outputs": [],
   "source": [
    "from tqdm.auto import tqdm"
   ]
  },
  {
   "cell_type": "code",
   "execution_count": 49,
   "id": "4111585a",
   "metadata": {},
   "outputs": [],
   "source": [
    "mask = (label(irfp_masks[282])[0])"
   ]
  },
  {
   "cell_type": "code",
   "execution_count": 50,
   "id": "4852765f",
   "metadata": {},
   "outputs": [
    {
     "name": "stderr",
     "output_type": "stream",
     "text": [
      "matplotlib_plugin.py (150): Low image data range; displaying image with stretched contrast.\n"
     ]
    },
    {
     "data": {
      "text/plain": [
       "<matplotlib.image.AxesImage at 0x7f8bc06900d0>"
      ]
     },
     "execution_count": 50,
     "metadata": {},
     "output_type": "execute_result"
    },
    {
     "data": {
      "image/png": "[encoded data removed]",
      "text/plain": [
       "<Figure size 432x288 with 2 Axes>"
      ]
     },
     "metadata": {
      "needs_background": "light"
     },
     "output_type": "display_data"
    }
   ],
   "source": [
    "imshow((mask==169).astype(int))"
   ]
  },
  {
   "cell_type": "code",
   "execution_count": 51,
   "id": "38c7f635",
   "metadata": {},
   "outputs": [
    {
     "data": {
      "application/vnd.jupyter.widget-view+json": {
       "model_id": "5e21268e58374f4993d7a0a15c6efeba",
       "version_major": 2,
       "version_minor": 0
      },
      "text/plain": [
       "  0%|          | 0/1098 [00:00<?, ?it/s]"
      ]
     },
     "metadata": {},
     "output_type": "display_data"
    }
   ],
   "source": [
    "props = [] # list of image region props\n",
    "area_dist = []\n",
    "ecc_dist = []\n",
    "for mask in tqdm(irfp_masks):\n",
    "    mask_props = measure.regionprops(label(mask)[0])\n",
    "    #props.append(mask_props)\n",
    "    for segment in mask_props:\n",
    "        area_dist.append(segment.area)\n",
    "        ecc_dist.append(segment.eccentricity)"
   ]
  },
  {
   "cell_type": "code",
   "execution_count": 54,
   "id": "776c29ff",
   "metadata": {},
   "outputs": [
    {
     "data": {
      "text/plain": [
       "(array([1.7000e+01, 1.5770e+03, 4.2860e+03, 3.1940e+03, 2.0070e+03,\n",
       "        1.5220e+03, 1.5010e+03, 1.1960e+03, 1.2700e+03, 1.2730e+03,\n",
       "        1.3480e+03, 1.4360e+03, 1.5840e+03, 1.7810e+03, 1.9950e+03,\n",
       "        2.3780e+03, 2.9130e+03, 3.5860e+03, 4.5930e+03, 5.5700e+03,\n",
       "        6.7850e+03, 7.2440e+03, 7.8390e+03, 8.3830e+03, 9.2730e+03,\n",
       "        9.7340e+03, 1.0392e+04, 1.0899e+04, 1.1307e+04, 1.0992e+04,\n",
       "        1.1554e+04, 1.2005e+04, 1.2458e+04, 1.1370e+04, 1.0383e+04,\n",
       "        1.0062e+04, 9.8840e+03, 9.0050e+03, 8.4170e+03, 7.9740e+03,\n",
       "        7.9760e+03, 7.2380e+03, 6.7050e+03, 6.2910e+03, 6.1850e+03,\n",
       "        5.6900e+03, 5.6320e+03, 5.3110e+03, 5.2010e+03, 5.0250e+03,\n",
       "        4.5680e+03, 4.4230e+03, 4.3270e+03, 3.7280e+03, 3.4750e+03,\n",
       "        3.1420e+03, 2.9960e+03, 2.5590e+03, 2.2110e+03, 1.9400e+03,\n",
       "        1.8700e+03, 1.7010e+03, 1.5830e+03, 1.5820e+03, 1.4790e+03,\n",
       "        1.3880e+03, 1.2360e+03, 1.2560e+03, 1.0920e+03, 1.0110e+03,\n",
       "        9.8500e+02, 8.6400e+02, 8.1800e+02, 6.8900e+02, 6.6900e+02,\n",
       "        6.1800e+02, 5.0300e+02, 4.7900e+02, 3.9600e+02, 3.6700e+02,\n",
       "        3.5000e+02, 3.3700e+02, 3.1000e+02, 2.9800e+02, 2.8400e+02,\n",
       "        2.5900e+02, 2.4600e+02, 2.3400e+02, 2.1400e+02, 1.9200e+02,\n",
       "        1.6800e+02, 1.4800e+02, 1.5500e+02, 1.6000e+02, 1.2700e+02,\n",
       "        1.1900e+02, 7.6000e+01, 1.1300e+02, 8.7000e+01, 7.6000e+01,\n",
       "        7.8000e+01, 8.4000e+01, 8.2000e+01, 8.9000e+01, 8.0000e+01,\n",
       "        8.2000e+01, 6.2000e+01, 5.5000e+01, 5.0000e+01, 5.7000e+01,\n",
       "        5.2000e+01, 5.5000e+01, 4.7000e+01, 4.2000e+01, 5.0000e+01,\n",
       "        4.1000e+01, 2.9000e+01, 3.9000e+01, 4.4000e+01, 3.7000e+01,\n",
       "        3.6000e+01, 3.6000e+01, 3.9000e+01, 3.2000e+01, 4.2000e+01,\n",
       "        3.2000e+01, 2.6000e+01, 3.6000e+01, 3.6000e+01, 3.1000e+01,\n",
       "        2.8000e+01, 3.2000e+01, 3.1000e+01, 2.5000e+01, 3.6000e+01,\n",
       "        2.5000e+01, 2.7000e+01, 3.7000e+01, 2.3000e+01, 1.5000e+01,\n",
       "        2.6000e+01, 1.5000e+01, 2.1000e+01, 1.3000e+01, 1.4000e+01,\n",
       "        2.3000e+01, 1.6000e+01, 9.0000e+00, 2.3000e+01, 1.2000e+01,\n",
       "        1.5000e+01, 1.0000e+01, 1.5000e+01, 1.4000e+01, 1.0000e+00,\n",
       "        9.0000e+00, 1.4000e+01, 1.0000e+01, 1.0000e+01, 7.0000e+00,\n",
       "        1.2000e+01, 9.0000e+00, 4.0000e+00, 6.0000e+00, 9.0000e+00,\n",
       "        7.0000e+00, 7.0000e+00, 5.0000e+00, 7.0000e+00, 6.0000e+00,\n",
       "        8.0000e+00, 9.0000e+00, 1.2000e+01, 5.0000e+00, 9.0000e+00,\n",
       "        4.0000e+00, 6.0000e+00, 5.0000e+00, 7.0000e+00, 8.0000e+00,\n",
       "        4.0000e+00, 3.0000e+00, 7.0000e+00, 8.0000e+00, 4.0000e+00,\n",
       "        3.0000e+00, 2.0000e+00, 2.0000e+00, 4.0000e+00, 3.0000e+00,\n",
       "        3.0000e+00, 2.0000e+00, 2.0000e+00, 1.0000e+00, 3.0000e+00,\n",
       "        0.0000e+00, 3.0000e+00, 0.0000e+00, 3.0000e+00, 2.0000e+00,\n",
       "        2.0000e+00, 2.0000e+00, 0.0000e+00, 0.0000e+00, 0.0000e+00,\n",
       "        1.0000e+00, 0.0000e+00, 1.0000e+00, 0.0000e+00, 1.0000e+00,\n",
       "        1.0000e+00, 1.0000e+00, 0.0000e+00, 1.0000e+00, 0.0000e+00,\n",
       "        0.0000e+00, 0.0000e+00, 1.0000e+00, 1.0000e+00, 0.0000e+00,\n",
       "        0.0000e+00, 0.0000e+00, 1.0000e+00, 0.0000e+00, 0.0000e+00,\n",
       "        0.0000e+00, 1.0000e+00, 1.0000e+00, 0.0000e+00, 1.0000e+00,\n",
       "        0.0000e+00, 1.0000e+00, 0.0000e+00, 1.0000e+00, 2.0000e+00,\n",
       "        0.0000e+00, 1.0000e+00, 0.0000e+00, 0.0000e+00, 1.0000e+00,\n",
       "        0.0000e+00, 0.0000e+00, 0.0000e+00, 1.0000e+00, 0.0000e+00,\n",
       "        0.0000e+00, 1.0000e+00, 0.0000e+00, 0.0000e+00, 0.0000e+00,\n",
       "        0.0000e+00, 0.0000e+00, 0.0000e+00, 0.0000e+00, 0.0000e+00,\n",
       "        0.0000e+00, 1.0000e+00, 0.0000e+00, 0.0000e+00, 0.0000e+00,\n",
       "        1.0000e+00, 1.0000e+00, 1.0000e+00, 0.0000e+00, 0.0000e+00,\n",
       "        0.0000e+00, 2.0000e+00, 0.0000e+00, 0.0000e+00, 0.0000e+00,\n",
       "        0.0000e+00, 0.0000e+00, 0.0000e+00, 1.0000e+00, 0.0000e+00,\n",
       "        1.0000e+00, 0.0000e+00, 0.0000e+00, 1.0000e+00, 1.0000e+00,\n",
       "        1.0000e+00, 0.0000e+00, 1.0000e+00, 0.0000e+00, 0.0000e+00,\n",
       "        1.0000e+00, 1.0000e+00, 2.0000e+00, 1.0000e+00, 0.0000e+00,\n",
       "        0.0000e+00, 0.0000e+00, 0.0000e+00, 0.0000e+00, 0.0000e+00,\n",
       "        0.0000e+00, 0.0000e+00, 0.0000e+00, 0.0000e+00, 1.0000e+00]),\n",
       " array([1.00000000e+00, 2.92466667e+01, 5.74933333e+01, 8.57400000e+01,\n",
       "        1.13986667e+02, 1.42233333e+02, 1.70480000e+02, 1.98726667e+02,\n",
       "        2.26973333e+02, 2.55220000e+02, 2.83466667e+02, 3.11713333e+02,\n",
       "        3.39960000e+02, 3.68206667e+02, 3.96453333e+02, 4.24700000e+02,\n",
       "        4.52946667e+02, 4.81193333e+02, 5.09440000e+02, 5.37686667e+02,\n",
       "        5.65933333e+02, 5.94180000e+02, 6.22426667e+02, 6.50673333e+02,\n",
       "        6.78920000e+02, 7.07166667e+02, 7.35413333e+02, 7.63660000e+02,\n",
       "        7.91906667e+02, 8.20153333e+02, 8.48400000e+02, 8.76646667e+02,\n",
       "        9.04893333e+02, 9.33140000e+02, 9.61386667e+02, 9.89633333e+02,\n",
       "        1.01788000e+03, 1.04612667e+03, 1.07437333e+03, 1.10262000e+03,\n",
       "        1.13086667e+03, 1.15911333e+03, 1.18736000e+03, 1.21560667e+03,\n",
       "        1.24385333e+03, 1.27210000e+03, 1.30034667e+03, 1.32859333e+03,\n",
       "        1.35684000e+03, 1.38508667e+03, 1.41333333e+03, 1.44158000e+03,\n",
       "        1.46982667e+03, 1.49807333e+03, 1.52632000e+03, 1.55456667e+03,\n",
       "        1.58281333e+03, 1.61106000e+03, 1.63930667e+03, 1.66755333e+03,\n",
       "        1.69580000e+03, 1.72404667e+03, 1.75229333e+03, 1.78054000e+03,\n",
       "        1.80878667e+03, 1.83703333e+03, 1.86528000e+03, 1.89352667e+03,\n",
       "        1.92177333e+03, 1.95002000e+03, 1.97826667e+03, 2.00651333e+03,\n",
       "        2.03476000e+03, 2.06300667e+03, 2.09125333e+03, 2.11950000e+03,\n",
       "        2.14774667e+03, 2.17599333e+03, 2.20424000e+03, 2.23248667e+03,\n",
       "        2.26073333e+03, 2.28898000e+03, 2.31722667e+03, 2.34547333e+03,\n",
       "        2.37372000e+03, 2.40196667e+03, 2.43021333e+03, 2.45846000e+03,\n",
       "        2.48670667e+03, 2.51495333e+03, 2.54320000e+03, 2.57144667e+03,\n",
       "        2.59969333e+03, 2.62794000e+03, 2.65618667e+03, 2.68443333e+03,\n",
       "        2.71268000e+03, 2.74092667e+03, 2.76917333e+03, 2.79742000e+03,\n",
       "        2.82566667e+03, 2.85391333e+03, 2.88216000e+03, 2.91040667e+03,\n",
       "        2.93865333e+03, 2.96690000e+03, 2.99514667e+03, 3.02339333e+03,\n",
       "        3.05164000e+03, 3.07988667e+03, 3.10813333e+03, 3.13638000e+03,\n",
       "        3.16462667e+03, 3.19287333e+03, 3.22112000e+03, 3.24936667e+03,\n",
       "        3.27761333e+03, 3.30586000e+03, 3.33410667e+03, 3.36235333e+03,\n",
       "        3.39060000e+03, 3.41884667e+03, 3.44709333e+03, 3.47534000e+03,\n",
       "        3.50358667e+03, 3.53183333e+03, 3.56008000e+03, 3.58832667e+03,\n",
       "        3.61657333e+03, 3.64482000e+03, 3.67306667e+03, 3.70131333e+03,\n",
       "        3.72956000e+03, 3.75780667e+03, 3.78605333e+03, 3.81430000e+03,\n",
       "        3.84254667e+03, 3.87079333e+03, 3.89904000e+03, 3.92728667e+03,\n",
       "        3.95553333e+03, 3.98378000e+03, 4.01202667e+03, 4.04027333e+03,\n",
       "        4.06852000e+03, 4.09676667e+03, 4.12501333e+03, 4.15326000e+03,\n",
       "        4.18150667e+03, 4.20975333e+03, 4.23800000e+03, 4.26624667e+03,\n",
       "        4.29449333e+03, 4.32274000e+03, 4.35098667e+03, 4.37923333e+03,\n",
       "        4.40748000e+03, 4.43572667e+03, 4.46397333e+03, 4.49222000e+03,\n",
       "        4.52046667e+03, 4.54871333e+03, 4.57696000e+03, 4.60520667e+03,\n",
       "        4.63345333e+03, 4.66170000e+03, 4.68994667e+03, 4.71819333e+03,\n",
       "        4.74644000e+03, 4.77468667e+03, 4.80293333e+03, 4.83118000e+03,\n",
       "        4.85942667e+03, 4.88767333e+03, 4.91592000e+03, 4.94416667e+03,\n",
       "        4.97241333e+03, 5.00066000e+03, 5.02890667e+03, 5.05715333e+03,\n",
       "        5.08540000e+03, 5.11364667e+03, 5.14189333e+03, 5.17014000e+03,\n",
       "        5.19838667e+03, 5.22663333e+03, 5.25488000e+03, 5.28312667e+03,\n",
       "        5.31137333e+03, 5.33962000e+03, 5.36786667e+03, 5.39611333e+03,\n",
       "        5.42436000e+03, 5.45260667e+03, 5.48085333e+03, 5.50910000e+03,\n",
       "        5.53734667e+03, 5.56559333e+03, 5.59384000e+03, 5.62208667e+03,\n",
       "        5.65033333e+03, 5.67858000e+03, 5.70682667e+03, 5.73507333e+03,\n",
       "        5.76332000e+03, 5.79156667e+03, 5.81981333e+03, 5.84806000e+03,\n",
       "        5.87630667e+03, 5.90455333e+03, 5.93280000e+03, 5.96104667e+03,\n",
       "        5.98929333e+03, 6.01754000e+03, 6.04578667e+03, 6.07403333e+03,\n",
       "        6.10228000e+03, 6.13052667e+03, 6.15877333e+03, 6.18702000e+03,\n",
       "        6.21526667e+03, 6.24351333e+03, 6.27176000e+03, 6.30000667e+03,\n",
       "        6.32825333e+03, 6.35650000e+03, 6.38474667e+03, 6.41299333e+03,\n",
       "        6.44124000e+03, 6.46948667e+03, 6.49773333e+03, 6.52598000e+03,\n",
       "        6.55422667e+03, 6.58247333e+03, 6.61072000e+03, 6.63896667e+03,\n",
       "        6.66721333e+03, 6.69546000e+03, 6.72370667e+03, 6.75195333e+03,\n",
       "        6.78020000e+03, 6.80844667e+03, 6.83669333e+03, 6.86494000e+03,\n",
       "        6.89318667e+03, 6.92143333e+03, 6.94968000e+03, 6.97792667e+03,\n",
       "        7.00617333e+03, 7.03442000e+03, 7.06266667e+03, 7.09091333e+03,\n",
       "        7.11916000e+03, 7.14740667e+03, 7.17565333e+03, 7.20390000e+03,\n",
       "        7.23214667e+03, 7.26039333e+03, 7.28864000e+03, 7.31688667e+03,\n",
       "        7.34513333e+03, 7.37338000e+03, 7.40162667e+03, 7.42987333e+03,\n",
       "        7.45812000e+03, 7.48636667e+03, 7.51461333e+03, 7.54286000e+03,\n",
       "        7.57110667e+03, 7.59935333e+03, 7.62760000e+03, 7.65584667e+03,\n",
       "        7.68409333e+03, 7.71234000e+03, 7.74058667e+03, 7.76883333e+03,\n",
       "        7.79708000e+03, 7.82532667e+03, 7.85357333e+03, 7.88182000e+03,\n",
       "        7.91006667e+03, 7.93831333e+03, 7.96656000e+03, 7.99480667e+03,\n",
       "        8.02305333e+03, 8.05130000e+03, 8.07954667e+03, 8.10779333e+03,\n",
       "        8.13604000e+03, 8.16428667e+03, 8.19253333e+03, 8.22078000e+03,\n",
       "        8.24902667e+03, 8.27727333e+03, 8.30552000e+03, 8.33376667e+03,\n",
       "        8.36201333e+03, 8.39026000e+03, 8.41850667e+03, 8.44675333e+03,\n",
       "        8.47500000e+03]),\n",
       " <BarContainer object of 300 artists>)"
      ]
     },
     "execution_count": 54,
     "metadata": {},
     "output_type": "execute_result"
    },
    {
     "data": {
      "image/png": "[encoded data removed]",
      "text/plain": [
       "<Figure size 432x288 with 1 Axes>"
      ]
     },
     "metadata": {
      "needs_background": "light"
     },
     "output_type": "display_data"
    }
   ],
   "source": [
    "plt.hist(area_dist, bins = 300)"
   ]
  },
  {
   "cell_type": "code",
   "execution_count": 70,
   "id": "c71a46a6",
   "metadata": {},
   "outputs": [
    {
     "data": {
      "text/plain": [
       "([<matplotlib.axis.XTick at 0x7f8bb39d3bb0>,\n",
       "  <matplotlib.axis.XTick at 0x7f8bb39d3b80>,\n",
       "  <matplotlib.axis.XTick at 0x7f8bb39d31c0>,\n",
       "  <matplotlib.axis.XTick at 0x7f8bb359cb80>,\n",
       "  <matplotlib.axis.XTick at 0x7f8bb35af310>,\n",
       "  <matplotlib.axis.XTick at 0x7f8bb359cb50>,\n",
       "  <matplotlib.axis.XTick at 0x7f8bb35afb80>,\n",
       "  <matplotlib.axis.XTick at 0x7f8bb35a9310>,\n",
       "  <matplotlib.axis.XTick at 0x7f8bb35a9a60>,\n",
       "  <matplotlib.axis.XTick at 0x7f8bb35b51f0>,\n",
       "  <matplotlib.axis.XTick at 0x7f8bb35b5940>,\n",
       "  <matplotlib.axis.XTick at 0x7f8bb35bb0d0>,\n",
       "  <matplotlib.axis.XTick at 0x7f8bb35b55b0>,\n",
       "  <matplotlib.axis.XTick at 0x7f8bb35aff40>,\n",
       "  <matplotlib.axis.XTick at 0x7f8bb35bb5e0>,\n",
       "  <matplotlib.axis.XTick at 0x7f8bb35bbd60>,\n",
       "  <matplotlib.axis.XTick at 0x7f8bb35434f0>,\n",
       "  <matplotlib.axis.XTick at 0x7f8bb3543c40>,\n",
       "  <matplotlib.axis.XTick at 0x7f8bb3543d00>,\n",
       "  <matplotlib.axis.XTick at 0x7f8bb35bbe50>],\n",
       " [Text(0, 0, ''),\n",
       "  Text(0, 0, ''),\n",
       "  Text(0, 0, ''),\n",
       "  Text(0, 0, ''),\n",
       "  Text(0, 0, ''),\n",
       "  Text(0, 0, ''),\n",
       "  Text(0, 0, ''),\n",
       "  Text(0, 0, ''),\n",
       "  Text(0, 0, ''),\n",
       "  Text(0, 0, ''),\n",
       "  Text(0, 0, ''),\n",
       "  Text(0, 0, ''),\n",
       "  Text(0, 0, ''),\n",
       "  Text(0, 0, ''),\n",
       "  Text(0, 0, ''),\n",
       "  Text(0, 0, ''),\n",
       "  Text(0, 0, ''),\n",
       "  Text(0, 0, ''),\n",
       "  Text(0, 0, ''),\n",
       "  Text(0, 0, '')])"
      ]
     },
     "execution_count": 70,
     "metadata": {},
     "output_type": "execute_result"
    },
    {
     "data": {
      "image/png": "[encoded data removed]",
      "text/plain": [
       "<Figure size 432x288 with 1 Axes>"
      ]
     },
     "metadata": {
      "needs_background": "light"
     },
     "output_type": "display_data"
    }
   ],
   "source": [
    "plt.hist(area_dist, bins = 600,)\n",
    "plt.xlim(0,4000)\n",
    "plt.title('Distribution of iRFP nuclear mask areas')\n",
    "plt.xlabel('Mask area')\n",
    "plt.xticks([i for i in range(0,4000, 200)], rotation = 'vertical')"
   ]
  },
  {
   "cell_type": "code",
   "execution_count": 68,
   "id": "44d8a71c",
   "metadata": {},
   "outputs": [
    {
     "data": {
      "text/plain": [
       "([<matplotlib.axis.XTick at 0x7f8bb86772e0>,\n",
       "  <matplotlib.axis.XTick at 0x7f8bb86772b0>,\n",
       "  <matplotlib.axis.XTick at 0x7f8bb8675ca0>,\n",
       "  <matplotlib.axis.XTick at 0x7f8bab9600a0>,\n",
       "  <matplotlib.axis.XTick at 0x7f8bab960760>,\n",
       "  <matplotlib.axis.XTick at 0x7f8bab963040>,\n",
       "  <matplotlib.axis.XTick at 0x7f8bab960f10>,\n",
       "  <matplotlib.axis.XTick at 0x7f8bab978d60>,\n",
       "  <matplotlib.axis.XTick at 0x7f8bab963be0>,\n",
       "  <matplotlib.axis.XTick at 0x7f8bab967370>,\n",
       "  <matplotlib.axis.XTick at 0x7f8bab967ac0>,\n",
       "  <matplotlib.axis.XTick at 0x7f8bab96a250>,\n",
       "  <matplotlib.axis.XTick at 0x7f8bab96a9a0>,\n",
       "  <matplotlib.axis.XTick at 0x7f8bab967b20>,\n",
       "  <matplotlib.axis.XTick at 0x7f8bab960520>,\n",
       "  <matplotlib.axis.XTick at 0x7f8bab95c040>,\n",
       "  <matplotlib.axis.XTick at 0x7f8bab95c640>,\n",
       "  <matplotlib.axis.XTick at 0x7f8bab95cd90>,\n",
       "  <matplotlib.axis.XTick at 0x7f8bab958520>,\n",
       "  <matplotlib.axis.XTick at 0x7f8bab95cdf0>],\n",
       " [Text(0, 0, ''),\n",
       "  Text(0, 0, ''),\n",
       "  Text(0, 0, ''),\n",
       "  Text(0, 0, ''),\n",
       "  Text(0, 0, ''),\n",
       "  Text(0, 0, ''),\n",
       "  Text(0, 0, ''),\n",
       "  Text(0, 0, ''),\n",
       "  Text(0, 0, ''),\n",
       "  Text(0, 0, ''),\n",
       "  Text(0, 0, ''),\n",
       "  Text(0, 0, ''),\n",
       "  Text(0, 0, ''),\n",
       "  Text(0, 0, ''),\n",
       "  Text(0, 0, ''),\n",
       "  Text(0, 0, ''),\n",
       "  Text(0, 0, ''),\n",
       "  Text(0, 0, ''),\n",
       "  Text(0, 0, ''),\n",
       "  Text(0, 0, '')])"
      ]
     },
     "execution_count": 68,
     "metadata": {},
     "output_type": "execute_result"
    },
    {
     "data": {
      "image/png": "[encoded data removed]",
      "text/plain": [
       "<Figure size 432x288 with 1 Axes>"
      ]
     },
     "metadata": {
      "needs_background": "light"
     },
     "output_type": "display_data"
    }
   ],
   "source": [
    "plt.hist(area_dist, bins = 600,)\n",
    "plt.xlim(0,1000)\n",
    "plt.title('Distribution of iRFP nuclear mask areas')\n",
    "plt.xlabel('Mask area')\n",
    "plt.xticks([i for i in range(0,2000, 100)], rotation = 'vertical')"
   ]
  },
  {
   "cell_type": "code",
   "execution_count": 56,
   "id": "7b92e957",
   "metadata": {},
   "outputs": [
    {
     "data": {
      "text/plain": [
       "490.2299756669125"
      ]
     },
     "execution_count": 56,
     "metadata": {},
     "output_type": "execute_result"
    }
   ],
   "source": [
    "np.std(area_dist)"
   ]
  },
  {
   "cell_type": "code",
   "execution_count": 71,
   "id": "c6a24ac1",
   "metadata": {},
   "outputs": [
    {
     "data": {
      "text/plain": [
       "Text(0.5, 0, 'Eccentricity')"
      ]
     },
     "execution_count": 71,
     "metadata": {},
     "output_type": "execute_result"
    },
    {
     "data": {
      "image/png": "[encoded data removed]",
      "text/plain": [
       "<Figure size 432x288 with 1 Axes>"
      ]
     },
     "metadata": {
      "needs_background": "light"
     },
     "output_type": "display_data"
    }
   ],
   "source": [
    "plt.hist(ecc_dist, bins = 300)\n",
    "plt.title('Eccentricity of iRFP nuclear masks')\n",
    "plt.xlabel('Eccentricity')"
   ]
  },
  {
   "cell_type": "code",
   "execution_count": 58,
   "id": "04754dc4",
   "metadata": {},
   "outputs": [
    {
     "data": {
      "text/plain": [
       "0.150951598884306"
      ]
     },
     "execution_count": 58,
     "metadata": {},
     "output_type": "execute_result"
    }
   ],
   "source": [
    "np.std(ecc_dist)"
   ]
  },
  {
   "cell_type": "code",
   "execution_count": 59,
   "id": "2ad88462",
   "metadata": {},
   "outputs": [],
   "source": [
    "import pandas as pd"
   ]
  },
  {
   "cell_type": "code",
   "execution_count": 60,
   "id": "2df0381e",
   "metadata": {},
   "outputs": [],
   "source": [
    "area_df = pd.DataFrame(area_dist)\n",
    "ecc_df = pd.DataFrame(ecc_dist)"
   ]
  },
  {
   "cell_type": "code",
   "execution_count": 61,
   "id": "b4279182",
   "metadata": {},
   "outputs": [
    {
     "data": {
      "text/plain": [
       "0    2190.0\n",
       "Name: 0.98, dtype: float64"
      ]
     },
     "execution_count": 61,
     "metadata": {},
     "output_type": "execute_result"
    }
   ],
   "source": [
    "area_df.quantile(0.98)"
   ]
  },
  {
   "cell_type": "code",
   "execution_count": 62,
   "id": "9719f597",
   "metadata": {},
   "outputs": [
    {
     "data": {
      "text/plain": [
       "0    96.0\n",
       "Name: 0.02, dtype: float64"
      ]
     },
     "execution_count": 62,
     "metadata": {},
     "output_type": "execute_result"
    }
   ],
   "source": [
    "area_df.quantile(0.02)"
   ]
  },
  {
   "cell_type": "markdown",
   "id": "eb5b355f",
   "metadata": {},
   "source": [
    "Check irfp masks"
   ]
  },
  {
   "cell_type": "code",
   "execution_count": null,
   "id": "49bb4934",
   "metadata": {},
   "outputs": [],
   "source": [
    "irfp_ = DaskOctopusLiteLoader('/home/nathan/data/kraken/ras/ND0022/Pos12/Pos12_images/')['irfp']\n",
    "gfp_ = DaskOctopusLiteLoader('/home/nathan/data/kraken/ras/ND0022/Pos12/Pos12_images/')['gfp']"
   ]
  },
  {
   "cell_type": "code",
   "execution_count": null,
   "id": "6553d8cb",
   "metadata": {
    "scrolled": true
   },
   "outputs": [],
   "source": [
    "viewer = napari.Viewer()\n",
    "viewer.add_image(irfp_.astype(np.uint8), name=\"irfp\", \n",
    "                 contrast_limits=[0,255],\n",
    "                 blending = 'additive', colormap = 'red')\n",
    "viewer.add_image(gfp_.astype(np.uint8), name=\"gfp\", \n",
    "                 contrast_limits=[0,255],\n",
    "                 blending = 'additive', colormap = 'green')#, is_pyramid=False)\n",
    "viewer.add_labels(irfp_masks.astype(np.uint16), name = 'masks',\n",
    "               blending = 'additive',)\n"
   ]
  }
 ],
 "metadata": {
  "kernelspec": {
   "display_name": "CellX",
   "language": "python",
   "name": "cellx"
  },
  "language_info": {
   "codemirror_mode": {
    "name": "ipython",
    "version": 3
   },
   "file_extension": ".py",
   "mimetype": "text/x-python",
   "name": "python",
   "nbconvert_exporter": "python",
   "pygments_lexer": "ipython3",
   "version": "3.9.7"
  }
 },
 "nbformat": 4,
 "nbformat_minor": 5
}
