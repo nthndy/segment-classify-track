{
 "cells": [
  {
   "cell_type": "markdown",
   "id": "1cada0f4",
   "metadata": {},
   "source": [
    "# Phenotype classifcation using CellX \n",
    "\n",
    "This notebook shows how to take segmented time lapse microscopy images and use h2b fluorescence markers to classfiy mitotic state of the cell cycle. \n",
    "\n",
    "The sections of this notebook are as follows:\n",
    "\n",
    "1. Load images\n",
    "2. Localise the objects\n",
    "3. Classify the objects\n",
    "4. Batch process\n",
    "\n",
    "The data used in this notebook is timelapse microscopy data with h2b-gfp/rfp markers that show the spatial extent of the nucleus and it's mitotic state. \n",
    "\n",
    "This notebook uses the dask octopuslite image loader from the CellX/Lowe lab project."
   ]
  },
  {
   "cell_type": "code",
   "execution_count": 1,
   "id": "c311e3db",
   "metadata": {},
   "outputs": [],
   "source": [
    "from octopuslite import DaskOctopusLiteLoader\n",
    "import btrack\n",
    "from tqdm.auto import tqdm\n",
    "import numpy as np\n",
    "from scipy.special import softmax\n",
    "import os\n",
    "import matplotlib.pyplot as plt\n",
    "from skimage.io import imread, imshow\n",
    "from cellx import load_model\n",
    "from cellx.tools.image import InfinitePaddedImage\n",
    "from skimage.transform import resize\n",
    "import glob\n",
    "%matplotlib inline\n",
    "plt.rcParams['figure.figsize'] = [18,8]"
   ]
  },
  {
   "cell_type": "markdown",
   "id": "28a5906f",
   "metadata": {},
   "source": [
    "## 1. Load segmentation images\n",
    "\n",
    "#### *Important:* from this point on you will need to be consistent with the use of cropping and alignment. \n",
    "Using a previously generated alignment transformation will aid greatly in the tracking notebook, which depends on the object localisation performed in this notebook. Cropping your images will ensure that no border effects from the translational shift are seen. "
   ]
  },
  {
   "cell_type": "code",
   "execution_count": 7,
   "id": "67ee9d2e",
   "metadata": {},
   "outputs": [
    {
     "name": "stdout",
     "output_type": "stream",
     "text": [
      "Using cropping: (1200, 1600)\n"
     ]
    }
   ],
   "source": [
    "# load images\n",
    "expt = 'ND0012'\n",
    "pos = 'Pos5'\n",
    "root_dir = '/home/nathan/data/kraken/ras'\n",
    "image_path = f'{root_dir}/{expt}/{pos}/{pos}_images'\n",
    "transform_path = f'{root_dir}/{expt}/{pos}/gfp_transform_tensor.npy'\n",
    "images = DaskOctopusLiteLoader(image_path, \n",
    "                               transforms=transform_path,\n",
    "                               crop=(1200,1600), \n",
    "                               remove_background=False)"
   ]
  },
  {
   "cell_type": "markdown",
   "id": "dfccac2e",
   "metadata": {},
   "source": [
    "## 2. Localise the objects\n",
    "We need to also measure the mean intensity regionprops parameter in order to differentiate object class, for which we need to provide an image to measure. This means we need to provide the segmentation images twice: once to find the centroid and once to measure the pixel intensity. "
   ]
  },
  {
   "cell_type": "code",
   "execution_count": 7,
   "id": "b5f3d937",
   "metadata": {
    "scrolled": true
   },
   "outputs": [
    {
     "name": "stderr",
     "output_type": "stream",
     "text": [
      "[INFO][2022/02/04 10:18:09 AM] Localizing objects from segmentation...\n",
      "[INFO][2022/02/04 10:18:09 AM] Found intensity_image data\n",
      "[INFO][2022/02/04 10:18:09 AM] Calculating weighted centroids using intensity_image\n",
      "[INFO][2022/02/04 10:28:10 AM] Objects are of type: <class 'dict'>\n",
      "[INFO][2022/02/04 10:28:10 AM] ...Found 9566 objects in 1738 frames.\n"
     ]
    }
   ],
   "source": [
    "objects = btrack.utils.segmentation_to_objects(\n",
    "    images['mask'], images['mask'],\n",
    "    properties = ('area', 'max_intensity', ),\n",
    ")"
   ]
  },
  {
   "cell_type": "markdown",
   "id": "4fa49b7b",
   "metadata": {},
   "source": [
    "#### Can also assign measured values from raw image to each segment using `skimage.measure.regionprops` parameters\n",
    "But also need to load the raw images to be measured first. Cannot currently save out `intensity_image` parameter to object file."
   ]
  },
  {
   "cell_type": "code",
   "execution_count": null,
   "id": "a4548905",
   "metadata": {},
   "outputs": [],
   "source": [
    "detailed_objects = btrack.utils.segmentation_to_objects(\n",
    "    images['mask'], \n",
    "    images['gfp'],\n",
    "    properties = ('area', 'mean_intensity', 'intensity_image'), \n",
    ")"
   ]
  },
  {
   "cell_type": "code",
   "execution_count": null,
   "id": "91e2efcf",
   "metadata": {},
   "outputs": [],
   "source": [
    "detailed_objects[0]"
   ]
  },
  {
   "cell_type": "markdown",
   "id": "63775a4c",
   "metadata": {},
   "source": [
    "Example image showing PCNA-iRFP morphology "
   ]
  },
  {
   "cell_type": "code",
   "execution_count": null,
   "id": "03d3a75b",
   "metadata": {},
   "outputs": [],
   "source": [
    "imshow(detailed_objects[0].properties['intensity_image'])"
   ]
  },
  {
   "cell_type": "markdown",
   "id": "08114355",
   "metadata": {},
   "source": [
    "## 2b. Differentiate the objects based on class ID"
   ]
  },
  {
   "cell_type": "code",
   "execution_count": null,
   "id": "583c2fdc",
   "metadata": {},
   "outputs": [],
   "source": [
    "objects_gfp = [obj for obj in objects if obj.properties['max_intensity'] == 1]\n",
    "objects_rfp = [obj for obj in objects if obj.properties['max_intensity'] == 2]"
   ]
  },
  {
   "cell_type": "markdown",
   "id": "cbc05b98",
   "metadata": {},
   "source": [
    "## 3. Classify the objects "
   ]
  },
  {
   "cell_type": "markdown",
   "id": "e1725583",
   "metadata": {},
   "source": [
    "Load model"
   ]
  },
  {
   "cell_type": "code",
   "execution_count": 2,
   "id": "10cd85e0",
   "metadata": {},
   "outputs": [],
   "source": [
    "model = load_model('../models/cellx_classifier_stardist.h5')"
   ]
  },
  {
   "cell_type": "markdown",
   "id": "3bce619f",
   "metadata": {},
   "source": [
    "Define normalisation functions"
   ]
  },
  {
   "cell_type": "code",
   "execution_count": 3,
   "id": "92d135ad",
   "metadata": {},
   "outputs": [],
   "source": [
    "def normalize_channels(x):\n",
    "\n",
    "    for dim in range(x.shape[-1]):\n",
    "        x[..., dim] = normalize(x[..., dim])\n",
    "        \n",
    "    return x\n",
    "\n",
    "def normalize(x):\n",
    "\n",
    "    xf = x.astype(np.float32)\n",
    "    mx = np.mean(xf)\n",
    "    sd = np.max([np.std(xf), 1./np.prod(x.shape)])\n",
    "\n",
    "    return (xf - mx) / sd"
   ]
  },
  {
   "cell_type": "markdown",
   "id": "3bb8428f",
   "metadata": {},
   "source": [
    "Define classifier function"
   ]
  },
  {
   "cell_type": "code",
   "execution_count": 4,
   "id": "41184a4e",
   "metadata": {},
   "outputs": [],
   "source": [
    "def classify_objects(image,  gfp, rfp, objects, obj_type):\n",
    "    \n",
    "    # define stages of cell cycle to classify (dependent on model type)\n",
    "    LABELS = [\"interphase\", \"prometaphase\", \"metaphase\", \"anaphase\", \"apoptosis\"]\n",
    "    \n",
    "    # iterate over frames\n",
    "    for n in tqdm(range(image.shape[0])):\n",
    "        \n",
    "        # only select objects if in frame\n",
    "        _objects = [o for o in objects if o.t == n]\n",
    "        \n",
    "        # empty placeholder arrays\n",
    "        crops = []\n",
    "        to_update = []\n",
    "        \n",
    "        # select h2b channel to aid in classification\n",
    "        fp = gfp if obj_type == 1 else rfp\n",
    "        \n",
    "        # create stack by computing each frame of dask array input\n",
    "        frame = np.stack(\n",
    "            [image[n, ...].compute(), fp[n, ...].compute()], \n",
    "            axis=-1,) \n",
    "        \n",
    "        # create padded image for network\n",
    "        vol = InfinitePaddedImage(frame, mode = 'reflect')\n",
    "        \n",
    "        # iterate over objects \n",
    "        for obj in _objects:\n",
    "            \n",
    "            # create coords for image slice\n",
    "            xs = slice(int(obj.x-40), int(obj.x+40), 1)\n",
    "            ys = slice(int(obj.y-40), int(obj.y+40), 1)\n",
    "            \n",
    "            # crop image\n",
    "            crop = vol[ys, xs, :]\n",
    "            crop = resize(crop, (64, 64), preserve_range=True).astype(np.float32)\n",
    "            \n",
    "            # normalise image\n",
    "            if crop.shape == (64 ,64, 2):\n",
    "                crops.append(normalize_channels(crop))\n",
    "                to_update.append(obj)\n",
    "            else:\n",
    "                print(crop.shape)\n",
    "                \n",
    "        if not crops:\n",
    "            continue\n",
    "            \n",
    "        # use classifcation model to predict\n",
    "        pred = model.predict(np.stack(crops, axis=0))\n",
    "        \n",
    "        # check correct number of predictions\n",
    "        assert pred.shape[0] == len(_objects)\n",
    "        \n",
    "        # assign labels to objects\n",
    "        for idx in range(pred.shape[0]):\n",
    "            obj = _objects[idx]\n",
    "            \n",
    "            # assigning details of prediction\n",
    "            pred_label = np.argmax(pred[idx, ...])\n",
    "            pred_softmax = softmax(pred[idx, ...])\n",
    "            logits = {f\"prob_{k}\": pred_softmax[ki] for ki, k in enumerate(LABELS)}\n",
    "            \n",
    "            # write out\n",
    "            obj.label = pred_label\n",
    "            obj.properties = logits\n",
    "\n",
    "    return objects"
   ]
  },
  {
   "cell_type": "markdown",
   "id": "db8781b4",
   "metadata": {},
   "source": [
    "#### Load raw images for classifier, a colour channel dependent on `obj_type` needed too (i.e. GFP is `obj_type = 1`, RFP is `obj_type = 2`"
   ]
  },
  {
   "cell_type": "code",
   "execution_count": null,
   "id": "657771d0",
   "metadata": {},
   "outputs": [],
   "source": [
    "bf = images['brightfield']\n",
    "gfp = images['gfp']\n",
    "rfp = images['rfp']"
   ]
  },
  {
   "cell_type": "markdown",
   "id": "30835a86",
   "metadata": {},
   "source": [
    "#### Classify objects"
   ]
  },
  {
   "cell_type": "code",
   "execution_count": null,
   "id": "420e84c8",
   "metadata": {},
   "outputs": [],
   "source": [
    "objects_gfp = classify_objects(bf, objects_gfp, obj_type = 1)\n",
    "objects_rfp = classify_objects(bf, objects_rfp, obj_type = 2)"
   ]
  },
  {
   "cell_type": "markdown",
   "id": "c70646be",
   "metadata": {},
   "source": [
    "#### Inspect an example object"
   ]
  },
  {
   "cell_type": "code",
   "execution_count": null,
   "id": "aec4f611",
   "metadata": {},
   "outputs": [],
   "source": [
    "objects_gfp[0]"
   ]
  },
  {
   "cell_type": "markdown",
   "id": "65c5c716",
   "metadata": {},
   "source": [
    "#### Save out classified GFP objects"
   ]
  },
  {
   "cell_type": "code",
   "execution_count": null,
   "id": "796afd43",
   "metadata": {},
   "outputs": [],
   "source": [
    "with btrack.dataio.HDF5FileHandler(\n",
    "    f'{root_dir}/{expt}/{pos}/objects_type_1.h5', 'w', obj_type='obj_type_1',\n",
    ") as hdf:\n",
    "    #hdf.write_segmentation(masks['mask'])\n",
    "    hdf.write_objects(objects_gfp)"
   ]
  },
  {
   "cell_type": "markdown",
   "id": "9fdb0274",
   "metadata": {},
   "source": [
    "#### Save out classified RFP objects"
   ]
  },
  {
   "cell_type": "code",
   "execution_count": null,
   "id": "71de0f83",
   "metadata": {},
   "outputs": [],
   "source": [
    "with btrack.dataio.HDF5FileHandler(\n",
    "    f'{root_dir}/{expt}/{pos}/objects_type_2.h5', 'w', obj_type='obj_type_2',\n",
    ") as hdf:\n",
    "    #hdf.write_segmentation(masks['mask'])\n",
    "    hdf.write_objects(objects_rfp)"
   ]
  },
  {
   "cell_type": "markdown",
   "id": "1b2e10e7",
   "metadata": {},
   "source": [
    "# 4. Batch process\n",
    "Iterate over many experiments and positions (need to ensure you define normalisation and classification functions above first)"
   ]
  },
  {
   "cell_type": "code",
   "execution_count": 7,
   "id": "b1792133",
   "metadata": {
    "scrolled": true
   },
   "outputs": [
    {
     "data": {
      "application/vnd.jupyter.widget-view+json": {
       "model_id": "2b28c5c77c2b4df28978d0b5f238de01",
       "version_major": 2,
       "version_minor": 0
      },
      "text/plain": [
       "  0%|          | 0/5 [00:00<?, ?it/s]"
      ]
     },
     "metadata": {},
     "output_type": "display_data"
    },
    {
     "data": {
      "application/vnd.jupyter.widget-view+json": {
       "model_id": "501f613ea8e3455c9020c7e4162ed032",
       "version_major": 2,
       "version_minor": 0
      },
      "text/plain": [
       "  0%|          | 0/15 [00:00<?, ?it/s]"
      ]
     },
     "metadata": {},
     "output_type": "display_data"
    },
    {
     "name": "stdout",
     "output_type": "stream",
     "text": [
      "['/home/nathan/data/kraken/ras/ND0013/Pos13/untrans_objects_type_2.h5', '/home/nathan/data/kraken/ras/ND0013/Pos13/untrans_no_bg_objects_type_2.h5', '/home/nathan/data/kraken/ras/ND0013/Pos13/untrans_objects_type_1.h5', '/home/nathan/data/kraken/ras/ND0013/Pos13/untrans_no_bg_objects_type_1.h5'] file found, skipping ND0013/Pos13\n",
      "['/home/nathan/data/kraken/ras/ND0013/Pos5/untrans_objects_type_2.h5', '/home/nathan/data/kraken/ras/ND0013/Pos5/untrans_no_bg_objects_type_2.h5', '/home/nathan/data/kraken/ras/ND0013/Pos5/untrans_objects_type_1.h5', '/home/nathan/data/kraken/ras/ND0013/Pos5/untrans_no_bg_objects_type_1.h5'] file found, skipping ND0013/Pos5\n",
      "['/home/nathan/data/kraken/ras/ND0013/Pos11/untrans_objects_type_2.h5', '/home/nathan/data/kraken/ras/ND0013/Pos11/untrans_no_bg_objects_type_2.h5', '/home/nathan/data/kraken/ras/ND0013/Pos11/untrans_objects_type_1.h5', '/home/nathan/data/kraken/ras/ND0013/Pos11/untrans_no_bg_objects_type_1.h5'] file found, skipping ND0013/Pos11\n",
      "['/home/nathan/data/kraken/ras/ND0013/Pos14/untrans_objects_type_2.h5', '/home/nathan/data/kraken/ras/ND0013/Pos14/untrans_no_bg_objects_type_2.h5', '/home/nathan/data/kraken/ras/ND0013/Pos14/untrans_objects_type_1.h5', '/home/nathan/data/kraken/ras/ND0013/Pos14/untrans_no_bg_objects_type_1.h5'] file found, skipping ND0013/Pos14\n",
      "['/home/nathan/data/kraken/ras/ND0013/Pos3/untrans_objects_type_2.h5', '/home/nathan/data/kraken/ras/ND0013/Pos3/untrans_no_bg_objects_type_2.h5', '/home/nathan/data/kraken/ras/ND0013/Pos3/untrans_objects_type_1.h5', '/home/nathan/data/kraken/ras/ND0013/Pos3/untrans_no_bg_objects_type_1.h5'] file found, skipping ND0013/Pos3\n",
      "['/home/nathan/data/kraken/ras/ND0013/Pos1/untrans_objects_type_2.h5', '/home/nathan/data/kraken/ras/ND0013/Pos1/untrans_no_bg_objects_type_2.h5', '/home/nathan/data/kraken/ras/ND0013/Pos1/untrans_objects_type_1.h5', '/home/nathan/data/kraken/ras/ND0013/Pos1/untrans_no_bg_objects_type_1.h5'] file found, skipping ND0013/Pos1\n",
      "['/home/nathan/data/kraken/ras/ND0013/Pos8/untrans_objects_type_2.h5', '/home/nathan/data/kraken/ras/ND0013/Pos8/untrans_no_bg_objects_type_2.h5', '/home/nathan/data/kraken/ras/ND0013/Pos8/untrans_objects_type_1.h5', '/home/nathan/data/kraken/ras/ND0013/Pos8/untrans_no_bg_objects_type_1.h5'] file found, skipping ND0013/Pos8\n",
      "['/home/nathan/data/kraken/ras/ND0013/Pos10/untrans_objects_type_2.h5', '/home/nathan/data/kraken/ras/ND0013/Pos10/untrans_no_bg_objects_type_2.h5', '/home/nathan/data/kraken/ras/ND0013/Pos10/untrans_objects_type_1.h5', '/home/nathan/data/kraken/ras/ND0013/Pos10/untrans_no_bg_objects_type_1.h5'] file found, skipping ND0013/Pos10\n",
      "['/home/nathan/data/kraken/ras/ND0013/Pos0/untrans_objects_type_2.h5', '/home/nathan/data/kraken/ras/ND0013/Pos0/untrans_no_bg_objects_type_2.h5', '/home/nathan/data/kraken/ras/ND0013/Pos0/untrans_objects_type_1.h5', '/home/nathan/data/kraken/ras/ND0013/Pos0/untrans_no_bg_objects_type_1.h5'] file found, skipping ND0013/Pos0\n",
      "['/home/nathan/data/kraken/ras/ND0013/Pos2/untrans_objects_type_2.h5', '/home/nathan/data/kraken/ras/ND0013/Pos2/untrans_no_bg_objects_type_2.h5', '/home/nathan/data/kraken/ras/ND0013/Pos2/untrans_objects_type_1.h5', '/home/nathan/data/kraken/ras/ND0013/Pos2/untrans_no_bg_objects_type_1.h5'] file found, skipping ND0013/Pos2\n",
      "['/home/nathan/data/kraken/ras/ND0013/Pos6/untrans_objects_type_2.h5', '/home/nathan/data/kraken/ras/ND0013/Pos6/untrans_no_bg_objects_type_2.h5', '/home/nathan/data/kraken/ras/ND0013/Pos6/untrans_objects_type_1.h5', '/home/nathan/data/kraken/ras/ND0013/Pos6/untrans_no_bg_objects_type_1.h5'] file found, skipping ND0013/Pos6\n",
      "['/home/nathan/data/kraken/ras/ND0013/Pos7/untrans_objects_type_2.h5', '/home/nathan/data/kraken/ras/ND0013/Pos7/untrans_no_bg_objects_type_2.h5', '/home/nathan/data/kraken/ras/ND0013/Pos7/untrans_objects_type_1.h5', '/home/nathan/data/kraken/ras/ND0013/Pos7/untrans_no_bg_objects_type_1.h5'] file found, skipping ND0013/Pos7\n",
      "['/home/nathan/data/kraken/ras/ND0013/Pos9/untrans_objects_type_2.h5', '/home/nathan/data/kraken/ras/ND0013/Pos9/untrans_no_bg_objects_type_2.h5', '/home/nathan/data/kraken/ras/ND0013/Pos9/untrans_objects_type_1.h5', '/home/nathan/data/kraken/ras/ND0013/Pos9/untrans_no_bg_objects_type_1.h5'] file found, skipping ND0013/Pos9\n",
      "['/home/nathan/data/kraken/ras/ND0013/Pos4/untrans_objects_type_2.h5', '/home/nathan/data/kraken/ras/ND0013/Pos4/untrans_no_bg_objects_type_2.h5', '/home/nathan/data/kraken/ras/ND0013/Pos4/untrans_objects_type_1.h5', '/home/nathan/data/kraken/ras/ND0013/Pos4/untrans_no_bg_objects_type_1.h5'] file found, skipping ND0013/Pos4\n",
      "['/home/nathan/data/kraken/ras/ND0013/Pos12/untrans_objects_type_2.h5', '/home/nathan/data/kraken/ras/ND0013/Pos12/untrans_no_bg_objects_type_2.h5', '/home/nathan/data/kraken/ras/ND0013/Pos12/untrans_objects_type_1.h5', '/home/nathan/data/kraken/ras/ND0013/Pos12/untrans_no_bg_objects_type_1.h5'] file found, skipping ND0013/Pos12\n"
     ]
    },
    {
     "data": {
      "application/vnd.jupyter.widget-view+json": {
       "model_id": "7ab7844953a3477ba9f2e5e64b3db80d",
       "version_major": 2,
       "version_minor": 0
      },
      "text/plain": [
       "  0%|          | 0/15 [00:00<?, ?it/s]"
      ]
     },
     "metadata": {},
     "output_type": "display_data"
    },
    {
     "name": "stdout",
     "output_type": "stream",
     "text": [
      "['/home/nathan/data/kraken/ras/ND0014/Pos13/untrans_objects_type_2.h5', '/home/nathan/data/kraken/ras/ND0014/Pos13/untrans_no_bg_objects_type_2.h5', '/home/nathan/data/kraken/ras/ND0014/Pos13/untrans_objects_type_1.h5', '/home/nathan/data/kraken/ras/ND0014/Pos13/untrans_no_bg_objects_type_1.h5'] file found, skipping ND0014/Pos13\n",
      "['/home/nathan/data/kraken/ras/ND0014/Pos5/untrans_objects_type_2.h5', '/home/nathan/data/kraken/ras/ND0014/Pos5/untrans_no_bg_objects_type_2.h5', '/home/nathan/data/kraken/ras/ND0014/Pos5/untrans_objects_type_1.h5', '/home/nathan/data/kraken/ras/ND0014/Pos5/untrans_no_bg_objects_type_1.h5'] file found, skipping ND0014/Pos5\n",
      "['/home/nathan/data/kraken/ras/ND0014/Pos11/untrans_objects_type_2.h5', '/home/nathan/data/kraken/ras/ND0014/Pos11/untrans_no_bg_objects_type_2.h5', '/home/nathan/data/kraken/ras/ND0014/Pos11/untrans_objects_type_1.h5', '/home/nathan/data/kraken/ras/ND0014/Pos11/untrans_no_bg_objects_type_1.h5'] file found, skipping ND0014/Pos11\n",
      "['/home/nathan/data/kraken/ras/ND0014/Pos3/untrans_objects_type_2.h5', '/home/nathan/data/kraken/ras/ND0014/Pos3/untrans_no_bg_objects_type_2.h5', '/home/nathan/data/kraken/ras/ND0014/Pos3/untrans_objects_type_1.h5', '/home/nathan/data/kraken/ras/ND0014/Pos3/untrans_no_bg_objects_type_1.h5'] file found, skipping ND0014/Pos3\n",
      "['/home/nathan/data/kraken/ras/ND0014/Pos1/untrans_objects_type_2.h5', '/home/nathan/data/kraken/ras/ND0014/Pos1/untrans_no_bg_objects_type_2.h5', '/home/nathan/data/kraken/ras/ND0014/Pos1/untrans_objects_type_1.h5', '/home/nathan/data/kraken/ras/ND0014/Pos1/untrans_no_bg_objects_type_1.h5'] file found, skipping ND0014/Pos1\n",
      "['/home/nathan/data/kraken/ras/ND0014/Pos8/untrans_objects_type_2.h5', '/home/nathan/data/kraken/ras/ND0014/Pos8/untrans_no_bg_objects_type_2.h5', '/home/nathan/data/kraken/ras/ND0014/Pos8/untrans_objects_type_1.h5', '/home/nathan/data/kraken/ras/ND0014/Pos8/untrans_no_bg_objects_type_1.h5'] file found, skipping ND0014/Pos8\n",
      "['/home/nathan/data/kraken/ras/ND0014/Pos10/untrans_objects_type_2.h5', '/home/nathan/data/kraken/ras/ND0014/Pos10/untrans_no_bg_objects_type_2.h5', '/home/nathan/data/kraken/ras/ND0014/Pos10/untrans_objects_type_1.h5', '/home/nathan/data/kraken/ras/ND0014/Pos10/untrans_no_bg_objects_type_1.h5'] file found, skipping ND0014/Pos10\n",
      "['/home/nathan/data/kraken/ras/ND0014/Pos0/untrans_objects_type_2.h5', '/home/nathan/data/kraken/ras/ND0014/Pos0/untrans_no_bg_objects_type_2.h5', '/home/nathan/data/kraken/ras/ND0014/Pos0/untrans_objects_type_1.h5', '/home/nathan/data/kraken/ras/ND0014/Pos0/untrans_no_bg_objects_type_1.h5'] file found, skipping ND0014/Pos0\n",
      "['/home/nathan/data/kraken/ras/ND0014/Pos2/untrans_objects_type_2.h5', '/home/nathan/data/kraken/ras/ND0014/Pos2/untrans_no_bg_objects_type_2.h5', '/home/nathan/data/kraken/ras/ND0014/Pos2/untrans_objects_type_1.h5', '/home/nathan/data/kraken/ras/ND0014/Pos2/untrans_no_bg_objects_type_1.h5'] file found, skipping ND0014/Pos2\n",
      "['/home/nathan/data/kraken/ras/ND0014/Pos6/untrans_objects_type_2.h5', '/home/nathan/data/kraken/ras/ND0014/Pos6/untrans_no_bg_objects_type_2.h5', '/home/nathan/data/kraken/ras/ND0014/Pos6/untrans_objects_type_1.h5', '/home/nathan/data/kraken/ras/ND0014/Pos6/untrans_no_bg_objects_type_1.h5'] file found, skipping ND0014/Pos6\n",
      "['/home/nathan/data/kraken/ras/ND0014/Pos7/untrans_objects_type_2.h5', '/home/nathan/data/kraken/ras/ND0014/Pos7/untrans_no_bg_objects_type_2.h5', '/home/nathan/data/kraken/ras/ND0014/Pos7/untrans_objects_type_1.h5', '/home/nathan/data/kraken/ras/ND0014/Pos7/untrans_no_bg_objects_type_1.h5'] file found, skipping ND0014/Pos7\n",
      "['/home/nathan/data/kraken/ras/ND0014/Pos9/untrans_objects_type_2.h5', '/home/nathan/data/kraken/ras/ND0014/Pos9/untrans_no_bg_objects_type_2.h5', '/home/nathan/data/kraken/ras/ND0014/Pos9/untrans_objects_type_1.h5', '/home/nathan/data/kraken/ras/ND0014/Pos9/untrans_no_bg_objects_type_1.h5'] file found, skipping ND0014/Pos9\n",
      "['/home/nathan/data/kraken/ras/ND0014/Pos4/untrans_objects_type_2.h5', '/home/nathan/data/kraken/ras/ND0014/Pos4/untrans_no_bg_objects_type_2.h5', '/home/nathan/data/kraken/ras/ND0014/Pos4/untrans_objects_type_1.h5', '/home/nathan/data/kraken/ras/ND0014/Pos4/untrans_no_bg_objects_type_1.h5'] file found, skipping ND0014/Pos4\n",
      "['/home/nathan/data/kraken/ras/ND0014/Pos12/untrans_objects_type_2.h5', '/home/nathan/data/kraken/ras/ND0014/Pos12/untrans_no_bg_objects_type_2.h5', '/home/nathan/data/kraken/ras/ND0014/Pos12/untrans_objects_type_1.h5', '/home/nathan/data/kraken/ras/ND0014/Pos12/untrans_no_bg_objects_type_1.h5'] file found, skipping ND0014/Pos12\n"
     ]
    },
    {
     "data": {
      "application/vnd.jupyter.widget-view+json": {
       "model_id": "bddc35b674ab4c4cb9b60ec9a9319aa8",
       "version_major": 2,
       "version_minor": 0
      },
      "text/plain": [
       "  0%|          | 0/15 [00:00<?, ?it/s]"
      ]
     },
     "metadata": {},
     "output_type": "display_data"
    },
    {
     "name": "stdout",
     "output_type": "stream",
     "text": [
      "['/home/nathan/data/kraken/ras/ND0010/Pos5/objects.h5', '/home/nathan/data/kraken/ras/ND0010/Pos5/untrans_objects_type_2.h5', '/home/nathan/data/kraken/ras/ND0010/Pos5/objects_type_1.h5', '/home/nathan/data/kraken/ras/ND0010/Pos5/objects_type_2.h5', '/home/nathan/data/kraken/ras/ND0010/Pos5/untrans_no_bg_objects_type_2.h5', '/home/nathan/data/kraken/ras/ND0010/Pos5/untrans_objects_type_1.h5', '/home/nathan/data/kraken/ras/ND0010/Pos5/untrans_no_bg_objects_type_1.h5'] file found, skipping ND0010/Pos5\n",
      "['/home/nathan/data/kraken/ras/ND0010/Pos11/objects.h5', '/home/nathan/data/kraken/ras/ND0010/Pos11/untrans_objects_type_2.h5', '/home/nathan/data/kraken/ras/ND0010/Pos11/objects_type_1.h5', '/home/nathan/data/kraken/ras/ND0010/Pos11/objects_type_2.h5', '/home/nathan/data/kraken/ras/ND0010/Pos11/untrans_no_bg_objects_type_2.h5', '/home/nathan/data/kraken/ras/ND0010/Pos11/untrans_objects_type_1.h5', '/home/nathan/data/kraken/ras/ND0010/Pos11/untrans_no_bg_objects_type_1.h5'] file found, skipping ND0010/Pos11\n",
      "['/home/nathan/data/kraken/ras/ND0010/Pos3/objects.h5', '/home/nathan/data/kraken/ras/ND0010/Pos3/objects_type_1.h5', '/home/nathan/data/kraken/ras/ND0010/Pos3/objects_type_2.h5', '/home/nathan/data/kraken/ras/ND0010/Pos3/untrans_objects_type_1.h5', '/home/nathan/data/kraken/ras/ND0010/Pos3/untrans_no_bg_objects_type_1.h5'] file found, skipping ND0010/Pos3\n",
      "Starting ND0010/Pos1\n"
     ]
    },
    {
     "name": "stderr",
     "output_type": "stream",
     "text": [
      "[INFO][2022/02/22 04:34:32 PM] Localizing objects from segmentation...\n",
      "[INFO][2022/02/22 04:37:03 PM] Objects are of type: <class 'dict'>\n",
      "[INFO][2022/02/22 04:37:06 PM] ...Found 657657 objects in 1193 frames.\n"
     ]
    },
    {
     "name": "stdout",
     "output_type": "stream",
     "text": [
      "Classifying objects\n"
     ]
    },
    {
     "data": {
      "application/vnd.jupyter.widget-view+json": {
       "model_id": "85f290c940894d5e9b609606d8428b98",
       "version_major": 2,
       "version_minor": 0
      },
      "text/plain": [
       "  0%|          | 0/1193 [00:00<?, ?it/s]"
      ]
     },
     "metadata": {},
     "output_type": "display_data"
    },
    {
     "data": {
      "application/vnd.jupyter.widget-view+json": {
       "model_id": "6ce32e399d8442a899ff2ffa2bbbe651",
       "version_major": 2,
       "version_minor": 0
      },
      "text/plain": [
       "  0%|          | 0/1193 [00:00<?, ?it/s]"
      ]
     },
     "metadata": {},
     "output_type": "display_data"
    },
    {
     "name": "stderr",
     "output_type": "stream",
     "text": [
      "[INFO][2022/02/22 05:48:51 PM] Opening HDF file: /home/nathan/data/kraken/ras/ND0010/Pos1/untrans_no_bg_objects_type_1.h5...\n",
      "[INFO][2022/02/22 05:48:51 PM] Writing objects/obj_type_1\n",
      "[INFO][2022/02/22 05:48:51 PM] Writing labels/obj_type_1\n",
      "[INFO][2022/02/22 05:48:51 PM] Loading objects/obj_type_1 (1218, 5) (1218 filtered: None)\n",
      "[INFO][2022/02/22 05:48:51 PM] Writing properties/obj_type_1/area (1218,)\n",
      "[INFO][2022/02/22 05:48:51 PM] Writing properties/obj_type_1/class id (1218,)\n",
      "[INFO][2022/02/22 05:48:51 PM] Writing properties/obj_type_1/prob_interphase (1218,)\n",
      "[INFO][2022/02/22 05:48:51 PM] Writing properties/obj_type_1/prob_prometaphase (1218,)\n",
      "[INFO][2022/02/22 05:48:51 PM] Writing properties/obj_type_1/prob_metaphase (1218,)\n",
      "[INFO][2022/02/22 05:48:51 PM] Writing properties/obj_type_1/prob_anaphase (1218,)\n",
      "[INFO][2022/02/22 05:48:51 PM] Writing properties/obj_type_1/prob_apoptosis (1218,)\n",
      "[INFO][2022/02/22 05:48:51 PM] Closing HDF file: /home/nathan/data/kraken/ras/ND0010/Pos1/untrans_no_bg_objects_type_1.h5\n",
      "[INFO][2022/02/22 05:48:51 PM] Opening HDF file: /home/nathan/data/kraken/ras/ND0010/Pos1/untrans_no_bg_objects_type_2.h5...\n",
      "[INFO][2022/02/22 05:48:56 PM] Writing objects/obj_type_2\n",
      "[INFO][2022/02/22 05:48:56 PM] Writing labels/obj_type_2\n",
      "[INFO][2022/02/22 05:48:56 PM] Loading objects/obj_type_2 (656439, 5) (656439 filtered: None)\n",
      "[INFO][2022/02/22 05:49:03 PM] Writing properties/obj_type_2/area (656439,)\n",
      "[INFO][2022/02/22 05:49:03 PM] Writing properties/obj_type_2/class id (656439,)\n",
      "[INFO][2022/02/22 05:49:03 PM] Writing properties/obj_type_2/prob_interphase (656439,)\n",
      "[INFO][2022/02/22 05:49:03 PM] Writing properties/obj_type_2/prob_prometaphase (656439,)\n",
      "[INFO][2022/02/22 05:49:03 PM] Writing properties/obj_type_2/prob_metaphase (656439,)\n",
      "[INFO][2022/02/22 05:49:03 PM] Writing properties/obj_type_2/prob_anaphase (656439,)\n",
      "[INFO][2022/02/22 05:49:03 PM] Writing properties/obj_type_2/prob_apoptosis (656439,)\n",
      "[INFO][2022/02/22 05:49:04 PM] Closing HDF file: /home/nathan/data/kraken/ras/ND0010/Pos1/untrans_no_bg_objects_type_2.h5\n"
     ]
    },
    {
     "name": "stdout",
     "output_type": "stream",
     "text": [
      "Starting ND0010/Pos8\n"
     ]
    },
    {
     "name": "stderr",
     "output_type": "stream",
     "text": [
      "[INFO][2022/02/22 05:49:05 PM] Localizing objects from segmentation...\n",
      "[INFO][2022/02/22 05:51:21 PM] Objects are of type: <class 'dict'>\n",
      "[INFO][2022/02/22 05:51:22 PM] ...Found 228939 objects in 1193 frames.\n"
     ]
    },
    {
     "name": "stdout",
     "output_type": "stream",
     "text": [
      "Classifying objects\n"
     ]
    },
    {
     "data": {
      "application/vnd.jupyter.widget-view+json": {
       "model_id": "cd289ab3b38e42efb0b9bc940312ce2e",
       "version_major": 2,
       "version_minor": 0
      },
      "text/plain": [
       "  0%|          | 0/1193 [00:00<?, ?it/s]"
      ]
     },
     "metadata": {},
     "output_type": "display_data"
    },
    {
     "data": {
      "application/vnd.jupyter.widget-view+json": {
       "model_id": "f022b2cdb78a4fd18e620c76c90db0a2",
       "version_major": 2,
       "version_minor": 0
      },
      "text/plain": [
       "  0%|          | 0/1193 [00:00<?, ?it/s]"
      ]
     },
     "metadata": {},
     "output_type": "display_data"
    },
    {
     "name": "stderr",
     "output_type": "stream",
     "text": [
      "[INFO][2022/02/22 06:43:17 PM] Opening HDF file: /home/nathan/data/kraken/ras/ND0010/Pos8/untrans_no_bg_objects_type_1.h5...\n",
      "[INFO][2022/02/22 06:43:19 PM] Writing objects/obj_type_1\n",
      "[INFO][2022/02/22 06:43:19 PM] Writing labels/obj_type_1\n",
      "[INFO][2022/02/22 06:43:19 PM] Loading objects/obj_type_1 (155338, 5) (155338 filtered: None)\n",
      "[INFO][2022/02/22 06:43:20 PM] Writing properties/obj_type_1/area (155338,)\n",
      "[INFO][2022/02/22 06:43:20 PM] Writing properties/obj_type_1/class id (155338,)\n",
      "[INFO][2022/02/22 06:43:20 PM] Writing properties/obj_type_1/prob_interphase (155338,)\n",
      "[INFO][2022/02/22 06:43:20 PM] Writing properties/obj_type_1/prob_prometaphase (155338,)\n",
      "[INFO][2022/02/22 06:43:20 PM] Writing properties/obj_type_1/prob_metaphase (155338,)\n",
      "[INFO][2022/02/22 06:43:20 PM] Writing properties/obj_type_1/prob_anaphase (155338,)\n",
      "[INFO][2022/02/22 06:43:20 PM] Writing properties/obj_type_1/prob_apoptosis (155338,)\n",
      "[INFO][2022/02/22 06:43:20 PM] Closing HDF file: /home/nathan/data/kraken/ras/ND0010/Pos8/untrans_no_bg_objects_type_1.h5\n",
      "[INFO][2022/02/22 06:43:20 PM] Opening HDF file: /home/nathan/data/kraken/ras/ND0010/Pos8/untrans_no_bg_objects_type_2.h5...\n",
      "[INFO][2022/02/22 06:43:21 PM] Writing objects/obj_type_2\n",
      "[INFO][2022/02/22 06:43:21 PM] Writing labels/obj_type_2\n",
      "[INFO][2022/02/22 06:43:21 PM] Loading objects/obj_type_2 (73601, 5) (73601 filtered: None)\n",
      "[INFO][2022/02/22 06:43:22 PM] Writing properties/obj_type_2/area (73601,)\n",
      "[INFO][2022/02/22 06:43:22 PM] Writing properties/obj_type_2/class id (73601,)\n",
      "[INFO][2022/02/22 06:43:22 PM] Writing properties/obj_type_2/prob_interphase (73601,)\n",
      "[INFO][2022/02/22 06:43:22 PM] Writing properties/obj_type_2/prob_prometaphase (73601,)\n",
      "[INFO][2022/02/22 06:43:22 PM] Writing properties/obj_type_2/prob_metaphase (73601,)\n",
      "[INFO][2022/02/22 06:43:22 PM] Writing properties/obj_type_2/prob_anaphase (73601,)\n",
      "[INFO][2022/02/22 06:43:22 PM] Writing properties/obj_type_2/prob_apoptosis (73601,)\n",
      "[INFO][2022/02/22 06:43:22 PM] Closing HDF file: /home/nathan/data/kraken/ras/ND0010/Pos8/untrans_no_bg_objects_type_2.h5\n"
     ]
    },
    {
     "name": "stdout",
     "output_type": "stream",
     "text": [
      "Starting ND0010/Pos10\n"
     ]
    },
    {
     "name": "stderr",
     "output_type": "stream",
     "text": [
      "[INFO][2022/02/22 06:43:23 PM] Localizing objects from segmentation...\n",
      "[INFO][2022/02/22 06:45:03 PM] Objects are of type: <class 'dict'>\n",
      "[INFO][2022/02/22 06:45:04 PM] ...Found 177841 objects in 1194 frames.\n"
     ]
    },
    {
     "name": "stdout",
     "output_type": "stream",
     "text": [
      "Classifying objects\n"
     ]
    },
    {
     "data": {
      "application/vnd.jupyter.widget-view+json": {
       "model_id": "e8b32f664dda4ae4bb082a584aedd8db",
       "version_major": 2,
       "version_minor": 0
      },
      "text/plain": [
       "  0%|          | 0/1194 [00:00<?, ?it/s]"
      ]
     },
     "metadata": {},
     "output_type": "display_data"
    },
    {
     "data": {
      "application/vnd.jupyter.widget-view+json": {
       "model_id": "cd2bc05265104cd3ad0936a9ff4486b0",
       "version_major": 2,
       "version_minor": 0
      },
      "text/plain": [
       "  0%|          | 0/1194 [00:00<?, ?it/s]"
      ]
     },
     "metadata": {},
     "output_type": "display_data"
    },
    {
     "name": "stderr",
     "output_type": "stream",
     "text": [
      "[INFO][2022/02/22 07:33:35 PM] Opening HDF file: /home/nathan/data/kraken/ras/ND0010/Pos10/untrans_no_bg_objects_type_1.h5...\n",
      "[INFO][2022/02/22 07:33:36 PM] Writing objects/obj_type_1\n",
      "[INFO][2022/02/22 07:33:36 PM] Writing labels/obj_type_1\n",
      "[INFO][2022/02/22 07:33:36 PM] Loading objects/obj_type_1 (161216, 5) (161216 filtered: None)\n",
      "[INFO][2022/02/22 07:33:38 PM] Writing properties/obj_type_1/area (161216,)\n",
      "[INFO][2022/02/22 07:33:38 PM] Writing properties/obj_type_1/class id (161216,)\n",
      "[INFO][2022/02/22 07:33:38 PM] Writing properties/obj_type_1/prob_interphase (161216,)\n",
      "[INFO][2022/02/22 07:33:38 PM] Writing properties/obj_type_1/prob_prometaphase (161216,)\n",
      "[INFO][2022/02/22 07:33:38 PM] Writing properties/obj_type_1/prob_metaphase (161216,)\n",
      "[INFO][2022/02/22 07:33:38 PM] Writing properties/obj_type_1/prob_anaphase (161216,)\n",
      "[INFO][2022/02/22 07:33:38 PM] Writing properties/obj_type_1/prob_apoptosis (161216,)\n",
      "[INFO][2022/02/22 07:33:38 PM] Closing HDF file: /home/nathan/data/kraken/ras/ND0010/Pos10/untrans_no_bg_objects_type_1.h5\n",
      "[INFO][2022/02/22 07:33:38 PM] Opening HDF file: /home/nathan/data/kraken/ras/ND0010/Pos10/untrans_no_bg_objects_type_2.h5...\n",
      "[INFO][2022/02/22 07:33:38 PM] Writing objects/obj_type_2\n",
      "[INFO][2022/02/22 07:33:38 PM] Writing labels/obj_type_2\n",
      "[INFO][2022/02/22 07:33:38 PM] Loading objects/obj_type_2 (16625, 5) (16625 filtered: None)\n",
      "[INFO][2022/02/22 07:33:39 PM] Writing properties/obj_type_2/area (16625,)\n",
      "[INFO][2022/02/22 07:33:39 PM] Writing properties/obj_type_2/class id (16625,)\n",
      "[INFO][2022/02/22 07:33:39 PM] Writing properties/obj_type_2/prob_interphase (16625,)\n",
      "[INFO][2022/02/22 07:33:39 PM] Writing properties/obj_type_2/prob_prometaphase (16625,)\n",
      "[INFO][2022/02/22 07:33:39 PM] Writing properties/obj_type_2/prob_metaphase (16625,)\n",
      "[INFO][2022/02/22 07:33:39 PM] Writing properties/obj_type_2/prob_anaphase (16625,)\n",
      "[INFO][2022/02/22 07:33:39 PM] Writing properties/obj_type_2/prob_apoptosis (16625,)\n",
      "[INFO][2022/02/22 07:33:39 PM] Closing HDF file: /home/nathan/data/kraken/ras/ND0010/Pos10/untrans_no_bg_objects_type_2.h5\n"
     ]
    },
    {
     "name": "stdout",
     "output_type": "stream",
     "text": [
      "Starting ND0010/Pos0\n"
     ]
    },
    {
     "name": "stderr",
     "output_type": "stream",
     "text": [
      "[INFO][2022/02/22 07:33:39 PM] Localizing objects from segmentation...\n",
      "[INFO][2022/02/22 07:36:44 PM] Objects are of type: <class 'dict'>\n",
      "[INFO][2022/02/22 07:36:46 PM] ...Found 296470 objects in 1190 frames.\n"
     ]
    },
    {
     "name": "stdout",
     "output_type": "stream",
     "text": [
      "Classifying objects\n"
     ]
    },
    {
     "data": {
      "application/vnd.jupyter.widget-view+json": {
       "model_id": "971c7007a71e492c81633c7eb18c7520",
       "version_major": 2,
       "version_minor": 0
      },
      "text/plain": [
       "  0%|          | 0/1190 [00:00<?, ?it/s]"
      ]
     },
     "metadata": {},
     "output_type": "display_data"
    },
    {
     "data": {
      "application/vnd.jupyter.widget-view+json": {
       "model_id": "43fcb90ab9eb410a81f5cb625380a360",
       "version_major": 2,
       "version_minor": 0
      },
      "text/plain": [
       "  0%|          | 0/1190 [00:00<?, ?it/s]"
      ]
     },
     "metadata": {},
     "output_type": "display_data"
    },
    {
     "name": "stderr",
     "output_type": "stream",
     "text": [
      "[INFO][2022/02/22 08:28:58 PM] Opening HDF file: /home/nathan/data/kraken/ras/ND0010/Pos0/untrans_no_bg_objects_type_1.h5...\n",
      "[INFO][2022/02/22 08:28:58 PM] Writing objects/obj_type_1\n",
      "[INFO][2022/02/22 08:28:58 PM] Writing labels/obj_type_1\n",
      "[INFO][2022/02/22 08:28:58 PM] Loading objects/obj_type_1 (678, 5) (678 filtered: None)\n",
      "[INFO][2022/02/22 08:28:58 PM] Writing properties/obj_type_1/area (678,)\n",
      "[INFO][2022/02/22 08:28:58 PM] Writing properties/obj_type_1/class id (678,)\n",
      "[INFO][2022/02/22 08:28:58 PM] Writing properties/obj_type_1/prob_interphase (678,)\n",
      "[INFO][2022/02/22 08:28:58 PM] Writing properties/obj_type_1/prob_prometaphase (678,)\n",
      "[INFO][2022/02/22 08:28:58 PM] Writing properties/obj_type_1/prob_metaphase (678,)\n",
      "[INFO][2022/02/22 08:28:58 PM] Writing properties/obj_type_1/prob_anaphase (678,)\n",
      "[INFO][2022/02/22 08:28:58 PM] Writing properties/obj_type_1/prob_apoptosis (678,)\n",
      "[INFO][2022/02/22 08:28:58 PM] Closing HDF file: /home/nathan/data/kraken/ras/ND0010/Pos0/untrans_no_bg_objects_type_1.h5\n",
      "[INFO][2022/02/22 08:28:58 PM] Opening HDF file: /home/nathan/data/kraken/ras/ND0010/Pos0/untrans_no_bg_objects_type_2.h5...\n",
      "[INFO][2022/02/22 08:29:00 PM] Writing objects/obj_type_2\n",
      "[INFO][2022/02/22 08:29:00 PM] Writing labels/obj_type_2\n",
      "[INFO][2022/02/22 08:29:00 PM] Loading objects/obj_type_2 (295792, 5) (295792 filtered: None)\n",
      "[INFO][2022/02/22 08:29:03 PM] Writing properties/obj_type_2/area (295792,)\n",
      "[INFO][2022/02/22 08:29:03 PM] Writing properties/obj_type_2/class id (295792,)\n",
      "[INFO][2022/02/22 08:29:04 PM] Writing properties/obj_type_2/prob_interphase (295792,)\n",
      "[INFO][2022/02/22 08:29:04 PM] Writing properties/obj_type_2/prob_prometaphase (295792,)\n",
      "[INFO][2022/02/22 08:29:04 PM] Writing properties/obj_type_2/prob_metaphase (295792,)\n",
      "[INFO][2022/02/22 08:29:04 PM] Writing properties/obj_type_2/prob_anaphase (295792,)\n",
      "[INFO][2022/02/22 08:29:04 PM] Writing properties/obj_type_2/prob_apoptosis (295792,)\n",
      "[INFO][2022/02/22 08:29:04 PM] Closing HDF file: /home/nathan/data/kraken/ras/ND0010/Pos0/untrans_no_bg_objects_type_2.h5\n"
     ]
    },
    {
     "name": "stdout",
     "output_type": "stream",
     "text": [
      "Starting ND0010/Pos2\n"
     ]
    },
    {
     "name": "stderr",
     "output_type": "stream",
     "text": [
      "[INFO][2022/02/22 08:29:05 PM] Localizing objects from segmentation...\n",
      "[INFO][2022/02/22 08:31:10 PM] Objects are of type: <class 'dict'>\n",
      "[INFO][2022/02/22 08:31:13 PM] ...Found 350725 objects in 1189 frames.\n"
     ]
    },
    {
     "name": "stdout",
     "output_type": "stream",
     "text": [
      "Classifying objects\n"
     ]
    },
    {
     "data": {
      "application/vnd.jupyter.widget-view+json": {
       "model_id": "cc2a5e23420f4a7196aebd3ef207e70b",
       "version_major": 2,
       "version_minor": 0
      },
      "text/plain": [
       "  0%|          | 0/1189 [00:00<?, ?it/s]"
      ]
     },
     "metadata": {},
     "output_type": "display_data"
    },
    {
     "data": {
      "application/vnd.jupyter.widget-view+json": {
       "model_id": "423bce58bba8434faa6c51169a8cce19",
       "version_major": 2,
       "version_minor": 0
      },
      "text/plain": [
       "  0%|          | 0/1189 [00:00<?, ?it/s]"
      ]
     },
     "metadata": {},
     "output_type": "display_data"
    },
    {
     "name": "stderr",
     "output_type": "stream",
     "text": [
      "[INFO][2022/02/22 09:25:18 PM] Opening HDF file: /home/nathan/data/kraken/ras/ND0010/Pos2/untrans_no_bg_objects_type_1.h5...\n",
      "[INFO][2022/02/22 09:25:18 PM] Writing objects/obj_type_1\n",
      "[INFO][2022/02/22 09:25:18 PM] Writing labels/obj_type_1\n",
      "[INFO][2022/02/22 09:25:18 PM] Loading objects/obj_type_1 (640, 5) (640 filtered: None)\n",
      "[INFO][2022/02/22 09:25:18 PM] Writing properties/obj_type_1/area (640,)\n",
      "[INFO][2022/02/22 09:25:18 PM] Writing properties/obj_type_1/class id (640,)\n",
      "[INFO][2022/02/22 09:25:18 PM] Writing properties/obj_type_1/prob_interphase (640,)\n",
      "[INFO][2022/02/22 09:25:18 PM] Writing properties/obj_type_1/prob_prometaphase (640,)\n",
      "[INFO][2022/02/22 09:25:18 PM] Writing properties/obj_type_1/prob_metaphase (640,)\n",
      "[INFO][2022/02/22 09:25:18 PM] Writing properties/obj_type_1/prob_anaphase (640,)\n",
      "[INFO][2022/02/22 09:25:18 PM] Writing properties/obj_type_1/prob_apoptosis (640,)\n",
      "[INFO][2022/02/22 09:25:18 PM] Closing HDF file: /home/nathan/data/kraken/ras/ND0010/Pos2/untrans_no_bg_objects_type_1.h5\n",
      "[INFO][2022/02/22 09:25:18 PM] Opening HDF file: /home/nathan/data/kraken/ras/ND0010/Pos2/untrans_no_bg_objects_type_2.h5...\n",
      "[INFO][2022/02/22 09:25:21 PM] Writing objects/obj_type_2\n",
      "[INFO][2022/02/22 09:25:21 PM] Writing labels/obj_type_2\n",
      "[INFO][2022/02/22 09:25:21 PM] Loading objects/obj_type_2 (350085, 5) (350085 filtered: None)\n",
      "[INFO][2022/02/22 09:25:26 PM] Writing properties/obj_type_2/area (350085,)\n",
      "[INFO][2022/02/22 09:25:26 PM] Writing properties/obj_type_2/class id (350085,)\n",
      "[INFO][2022/02/22 09:25:26 PM] Writing properties/obj_type_2/prob_interphase (350085,)\n",
      "[INFO][2022/02/22 09:25:26 PM] Writing properties/obj_type_2/prob_prometaphase (350085,)\n",
      "[INFO][2022/02/22 09:25:26 PM] Writing properties/obj_type_2/prob_metaphase (350085,)\n",
      "[INFO][2022/02/22 09:25:26 PM] Writing properties/obj_type_2/prob_anaphase (350085,)\n",
      "[INFO][2022/02/22 09:25:26 PM] Writing properties/obj_type_2/prob_apoptosis (350085,)\n",
      "[INFO][2022/02/22 09:25:26 PM] Closing HDF file: /home/nathan/data/kraken/ras/ND0010/Pos2/untrans_no_bg_objects_type_2.h5\n"
     ]
    },
    {
     "name": "stdout",
     "output_type": "stream",
     "text": [
      "Starting ND0010/Pos6\n"
     ]
    },
    {
     "name": "stderr",
     "output_type": "stream",
     "text": [
      "[INFO][2022/02/22 09:25:27 PM] Localizing objects from segmentation...\n",
      "[INFO][2022/02/22 09:27:13 PM] Objects are of type: <class 'dict'>\n",
      "[INFO][2022/02/22 09:27:15 PM] ...Found 273891 objects in 1188 frames.\n"
     ]
    },
    {
     "name": "stdout",
     "output_type": "stream",
     "text": [
      "Classifying objects\n"
     ]
    },
    {
     "data": {
      "application/vnd.jupyter.widget-view+json": {
       "model_id": "1d303541638344f1b866344392b2c877",
       "version_major": 2,
       "version_minor": 0
      },
      "text/plain": [
       "  0%|          | 0/1188 [00:00<?, ?it/s]"
      ]
     },
     "metadata": {},
     "output_type": "display_data"
    },
    {
     "data": {
      "application/vnd.jupyter.widget-view+json": {
       "model_id": "c8135aca723446988d9530e4d86f74ad",
       "version_major": 2,
       "version_minor": 0
      },
      "text/plain": [
       "  0%|          | 0/1188 [00:00<?, ?it/s]"
      ]
     },
     "metadata": {},
     "output_type": "display_data"
    },
    {
     "name": "stderr",
     "output_type": "stream",
     "text": [
      "[INFO][2022/02/22 10:21:00 PM] Opening HDF file: /home/nathan/data/kraken/ras/ND0010/Pos6/untrans_no_bg_objects_type_1.h5...\n",
      "[INFO][2022/02/22 10:21:02 PM] Writing objects/obj_type_1\n",
      "[INFO][2022/02/22 10:21:02 PM] Writing labels/obj_type_1\n",
      "[INFO][2022/02/22 10:21:02 PM] Loading objects/obj_type_1 (259908, 5) (259908 filtered: None)\n",
      "[INFO][2022/02/22 10:21:05 PM] Writing properties/obj_type_1/area (259908,)\n",
      "[INFO][2022/02/22 10:21:05 PM] Writing properties/obj_type_1/class id (259908,)\n",
      "[INFO][2022/02/22 10:21:05 PM] Writing properties/obj_type_1/prob_interphase (259908,)\n",
      "[INFO][2022/02/22 10:21:05 PM] Writing properties/obj_type_1/prob_prometaphase (259908,)\n",
      "[INFO][2022/02/22 10:21:05 PM] Writing properties/obj_type_1/prob_metaphase (259908,)\n",
      "[INFO][2022/02/22 10:21:05 PM] Writing properties/obj_type_1/prob_anaphase (259908,)\n",
      "[INFO][2022/02/22 10:21:05 PM] Writing properties/obj_type_1/prob_apoptosis (259908,)\n",
      "[INFO][2022/02/22 10:21:05 PM] Closing HDF file: /home/nathan/data/kraken/ras/ND0010/Pos6/untrans_no_bg_objects_type_1.h5\n",
      "[INFO][2022/02/22 10:21:05 PM] Opening HDF file: /home/nathan/data/kraken/ras/ND0010/Pos6/untrans_no_bg_objects_type_2.h5...\n",
      "[INFO][2022/02/22 10:21:05 PM] Writing objects/obj_type_2\n",
      "[INFO][2022/02/22 10:21:05 PM] Writing labels/obj_type_2\n",
      "[INFO][2022/02/22 10:21:05 PM] Loading objects/obj_type_2 (13983, 5) (13983 filtered: None)\n",
      "[INFO][2022/02/22 10:21:05 PM] Writing properties/obj_type_2/area (13983,)\n",
      "[INFO][2022/02/22 10:21:05 PM] Writing properties/obj_type_2/class id (13983,)\n",
      "[INFO][2022/02/22 10:21:05 PM] Writing properties/obj_type_2/prob_interphase (13983,)\n",
      "[INFO][2022/02/22 10:21:05 PM] Writing properties/obj_type_2/prob_prometaphase (13983,)\n",
      "[INFO][2022/02/22 10:21:05 PM] Writing properties/obj_type_2/prob_metaphase (13983,)\n",
      "[INFO][2022/02/22 10:21:05 PM] Writing properties/obj_type_2/prob_anaphase (13983,)\n",
      "[INFO][2022/02/22 10:21:05 PM] Writing properties/obj_type_2/prob_apoptosis (13983,)\n",
      "[INFO][2022/02/22 10:21:05 PM] Closing HDF file: /home/nathan/data/kraken/ras/ND0010/Pos6/untrans_no_bg_objects_type_2.h5\n"
     ]
    },
    {
     "name": "stdout",
     "output_type": "stream",
     "text": [
      "Starting ND0010/Pos7\n"
     ]
    },
    {
     "name": "stderr",
     "output_type": "stream",
     "text": [
      "[INFO][2022/02/22 10:21:06 PM] Localizing objects from segmentation...\n",
      "[INFO][2022/02/22 10:22:54 PM] Objects are of type: <class 'dict'>\n",
      "[INFO][2022/02/22 10:22:56 PM] ...Found 265208 objects in 1195 frames.\n"
     ]
    },
    {
     "name": "stdout",
     "output_type": "stream",
     "text": [
      "Classifying objects\n"
     ]
    },
    {
     "data": {
      "application/vnd.jupyter.widget-view+json": {
       "model_id": "93a2018500874dcd9b27eade42a36c35",
       "version_major": 2,
       "version_minor": 0
      },
      "text/plain": [
       "  0%|          | 0/1195 [00:00<?, ?it/s]"
      ]
     },
     "metadata": {},
     "output_type": "display_data"
    },
    {
     "data": {
      "application/vnd.jupyter.widget-view+json": {
       "model_id": "72dfe84a52b745c7b83ff36d5fb67d13",
       "version_major": 2,
       "version_minor": 0
      },
      "text/plain": [
       "  0%|          | 0/1195 [00:00<?, ?it/s]"
      ]
     },
     "metadata": {},
     "output_type": "display_data"
    },
    {
     "name": "stderr",
     "output_type": "stream",
     "text": [
      "[INFO][2022/02/22 11:15:07 PM] Opening HDF file: /home/nathan/data/kraken/ras/ND0010/Pos7/untrans_no_bg_objects_type_1.h5...\n",
      "[INFO][2022/02/22 11:15:09 PM] Writing objects/obj_type_1\n",
      "[INFO][2022/02/22 11:15:09 PM] Writing labels/obj_type_1\n",
      "[INFO][2022/02/22 11:15:09 PM] Loading objects/obj_type_1 (258031, 5) (258031 filtered: None)\n",
      "[INFO][2022/02/22 11:15:13 PM] Writing properties/obj_type_1/area (258031,)\n",
      "[INFO][2022/02/22 11:15:13 PM] Writing properties/obj_type_1/class id (258031,)\n",
      "[INFO][2022/02/22 11:15:13 PM] Writing properties/obj_type_1/prob_interphase (258031,)\n",
      "[INFO][2022/02/22 11:15:13 PM] Writing properties/obj_type_1/prob_prometaphase (258031,)\n",
      "[INFO][2022/02/22 11:15:13 PM] Writing properties/obj_type_1/prob_metaphase (258031,)\n",
      "[INFO][2022/02/22 11:15:13 PM] Writing properties/obj_type_1/prob_anaphase (258031,)\n",
      "[INFO][2022/02/22 11:15:13 PM] Writing properties/obj_type_1/prob_apoptosis (258031,)\n",
      "[INFO][2022/02/22 11:15:13 PM] Closing HDF file: /home/nathan/data/kraken/ras/ND0010/Pos7/untrans_no_bg_objects_type_1.h5\n",
      "[INFO][2022/02/22 11:15:13 PM] Opening HDF file: /home/nathan/data/kraken/ras/ND0010/Pos7/untrans_no_bg_objects_type_2.h5...\n",
      "[INFO][2022/02/22 11:15:13 PM] Writing objects/obj_type_2\n",
      "[INFO][2022/02/22 11:15:13 PM] Writing labels/obj_type_2\n",
      "[INFO][2022/02/22 11:15:13 PM] Loading objects/obj_type_2 (7177, 5) (7177 filtered: None)\n",
      "[INFO][2022/02/22 11:15:13 PM] Writing properties/obj_type_2/area (7177,)\n",
      "[INFO][2022/02/22 11:15:13 PM] Writing properties/obj_type_2/class id (7177,)\n",
      "[INFO][2022/02/22 11:15:13 PM] Writing properties/obj_type_2/prob_interphase (7177,)\n",
      "[INFO][2022/02/22 11:15:13 PM] Writing properties/obj_type_2/prob_prometaphase (7177,)\n",
      "[INFO][2022/02/22 11:15:13 PM] Writing properties/obj_type_2/prob_metaphase (7177,)\n",
      "[INFO][2022/02/22 11:15:13 PM] Writing properties/obj_type_2/prob_anaphase (7177,)\n",
      "[INFO][2022/02/22 11:15:13 PM] Writing properties/obj_type_2/prob_apoptosis (7177,)\n",
      "[INFO][2022/02/22 11:15:13 PM] Closing HDF file: /home/nathan/data/kraken/ras/ND0010/Pos7/untrans_no_bg_objects_type_2.h5\n"
     ]
    },
    {
     "name": "stdout",
     "output_type": "stream",
     "text": [
      "Starting ND0010/Pos9\n"
     ]
    },
    {
     "name": "stderr",
     "output_type": "stream",
     "text": [
      "[INFO][2022/02/22 11:15:14 PM] Localizing objects from segmentation...\n",
      "[INFO][2022/02/22 11:17:11 PM] Objects are of type: <class 'dict'>\n",
      "[INFO][2022/02/22 11:17:12 PM] ...Found 156345 objects in 1190 frames.\n"
     ]
    },
    {
     "name": "stdout",
     "output_type": "stream",
     "text": [
      "Classifying objects\n"
     ]
    },
    {
     "data": {
      "application/vnd.jupyter.widget-view+json": {
       "model_id": "b81c3528ed064081872b5201d2eeb6b1",
       "version_major": 2,
       "version_minor": 0
      },
      "text/plain": [
       "  0%|          | 0/1190 [00:00<?, ?it/s]"
      ]
     },
     "metadata": {},
     "output_type": "display_data"
    },
    {
     "data": {
      "application/vnd.jupyter.widget-view+json": {
       "model_id": "84b4310ccf544b0bbe223a55f7105cbc",
       "version_major": 2,
       "version_minor": 0
      },
      "text/plain": [
       "  0%|          | 0/1190 [00:00<?, ?it/s]"
      ]
     },
     "metadata": {},
     "output_type": "display_data"
    },
    {
     "name": "stderr",
     "output_type": "stream",
     "text": [
      "[INFO][2022/02/23 12:05:29 AM] Opening HDF file: /home/nathan/data/kraken/ras/ND0010/Pos9/untrans_no_bg_objects_type_1.h5...\n",
      "[INFO][2022/02/23 12:05:30 AM] Writing objects/obj_type_1\n",
      "[INFO][2022/02/23 12:05:30 AM] Writing labels/obj_type_1\n",
      "[INFO][2022/02/23 12:05:30 AM] Loading objects/obj_type_1 (148145, 5) (148145 filtered: None)\n",
      "[INFO][2022/02/23 12:05:32 AM] Writing properties/obj_type_1/area (148145,)\n",
      "[INFO][2022/02/23 12:05:32 AM] Writing properties/obj_type_1/class id (148145,)\n",
      "[INFO][2022/02/23 12:05:32 AM] Writing properties/obj_type_1/prob_interphase (148145,)\n",
      "[INFO][2022/02/23 12:05:32 AM] Writing properties/obj_type_1/prob_prometaphase (148145,)\n",
      "[INFO][2022/02/23 12:05:32 AM] Writing properties/obj_type_1/prob_metaphase (148145,)\n",
      "[INFO][2022/02/23 12:05:32 AM] Writing properties/obj_type_1/prob_anaphase (148145,)\n",
      "[INFO][2022/02/23 12:05:32 AM] Writing properties/obj_type_1/prob_apoptosis (148145,)\n",
      "[INFO][2022/02/23 12:05:32 AM] Closing HDF file: /home/nathan/data/kraken/ras/ND0010/Pos9/untrans_no_bg_objects_type_1.h5\n",
      "[INFO][2022/02/23 12:05:32 AM] Opening HDF file: /home/nathan/data/kraken/ras/ND0010/Pos9/untrans_no_bg_objects_type_2.h5...\n",
      "[INFO][2022/02/23 12:05:32 AM] Writing objects/obj_type_2\n",
      "[INFO][2022/02/23 12:05:32 AM] Writing labels/obj_type_2\n",
      "[INFO][2022/02/23 12:05:32 AM] Loading objects/obj_type_2 (8200, 5) (8200 filtered: None)\n",
      "[INFO][2022/02/23 12:05:32 AM] Writing properties/obj_type_2/area (8200,)\n",
      "[INFO][2022/02/23 12:05:32 AM] Writing properties/obj_type_2/class id (8200,)\n",
      "[INFO][2022/02/23 12:05:32 AM] Writing properties/obj_type_2/prob_interphase (8200,)\n",
      "[INFO][2022/02/23 12:05:32 AM] Writing properties/obj_type_2/prob_prometaphase (8200,)\n",
      "[INFO][2022/02/23 12:05:32 AM] Writing properties/obj_type_2/prob_metaphase (8200,)\n",
      "[INFO][2022/02/23 12:05:32 AM] Writing properties/obj_type_2/prob_anaphase (8200,)\n",
      "[INFO][2022/02/23 12:05:32 AM] Writing properties/obj_type_2/prob_apoptosis (8200,)\n",
      "[INFO][2022/02/23 12:05:32 AM] Closing HDF file: /home/nathan/data/kraken/ras/ND0010/Pos9/untrans_no_bg_objects_type_2.h5\n"
     ]
    },
    {
     "name": "stdout",
     "output_type": "stream",
     "text": [
      "Starting ND0010/Pos4\n"
     ]
    },
    {
     "name": "stderr",
     "output_type": "stream",
     "text": [
      "[INFO][2022/02/23 12:05:33 AM] Localizing objects from segmentation...\n",
      "[INFO][2022/02/23 12:08:14 AM] Objects are of type: <class 'dict'>\n",
      "[INFO][2022/02/23 12:08:17 AM] ...Found 387111 objects in 1191 frames.\n"
     ]
    },
    {
     "name": "stdout",
     "output_type": "stream",
     "text": [
      "Classifying objects\n"
     ]
    },
    {
     "data": {
      "application/vnd.jupyter.widget-view+json": {
       "model_id": "3bff12cca810492c89c0aba3e15b3841",
       "version_major": 2,
       "version_minor": 0
      },
      "text/plain": [
       "  0%|          | 0/1191 [00:00<?, ?it/s]"
      ]
     },
     "metadata": {},
     "output_type": "display_data"
    },
    {
     "data": {
      "application/vnd.jupyter.widget-view+json": {
       "model_id": "dddc537dfe8043f8b4a4db01d435a163",
       "version_major": 2,
       "version_minor": 0
      },
      "text/plain": [
       "  0%|          | 0/1191 [00:00<?, ?it/s]"
      ]
     },
     "metadata": {},
     "output_type": "display_data"
    },
    {
     "name": "stderr",
     "output_type": "stream",
     "text": [
      "[INFO][2022/02/23 01:06:17 AM] Opening HDF file: /home/nathan/data/kraken/ras/ND0010/Pos4/untrans_no_bg_objects_type_1.h5...\n",
      "[INFO][2022/02/23 01:06:20 AM] Writing objects/obj_type_1\n",
      "[INFO][2022/02/23 01:06:20 AM] Writing labels/obj_type_1\n",
      "[INFO][2022/02/23 01:06:20 AM] Loading objects/obj_type_1 (370480, 5) (370480 filtered: None)\n",
      "[INFO][2022/02/23 01:06:25 AM] Writing properties/obj_type_1/area (370480,)\n",
      "[INFO][2022/02/23 01:06:25 AM] Writing properties/obj_type_1/class id (370480,)\n",
      "[INFO][2022/02/23 01:06:25 AM] Writing properties/obj_type_1/prob_interphase (370480,)\n",
      "[INFO][2022/02/23 01:06:25 AM] Writing properties/obj_type_1/prob_prometaphase (370480,)\n",
      "[INFO][2022/02/23 01:06:25 AM] Writing properties/obj_type_1/prob_metaphase (370480,)\n",
      "[INFO][2022/02/23 01:06:25 AM] Writing properties/obj_type_1/prob_anaphase (370480,)\n",
      "[INFO][2022/02/23 01:06:25 AM] Writing properties/obj_type_1/prob_apoptosis (370480,)\n",
      "[INFO][2022/02/23 01:06:25 AM] Closing HDF file: /home/nathan/data/kraken/ras/ND0010/Pos4/untrans_no_bg_objects_type_1.h5\n",
      "[INFO][2022/02/23 01:06:25 AM] Opening HDF file: /home/nathan/data/kraken/ras/ND0010/Pos4/untrans_no_bg_objects_type_2.h5...\n",
      "[INFO][2022/02/23 01:06:25 AM] Writing objects/obj_type_2\n",
      "[INFO][2022/02/23 01:06:25 AM] Writing labels/obj_type_2\n",
      "[INFO][2022/02/23 01:06:25 AM] Loading objects/obj_type_2 (16631, 5) (16631 filtered: None)\n",
      "[INFO][2022/02/23 01:06:25 AM] Writing properties/obj_type_2/area (16631,)\n",
      "[INFO][2022/02/23 01:06:25 AM] Writing properties/obj_type_2/class id (16631,)\n",
      "[INFO][2022/02/23 01:06:25 AM] Writing properties/obj_type_2/prob_interphase (16631,)\n",
      "[INFO][2022/02/23 01:06:25 AM] Writing properties/obj_type_2/prob_prometaphase (16631,)\n",
      "[INFO][2022/02/23 01:06:25 AM] Writing properties/obj_type_2/prob_metaphase (16631,)\n",
      "[INFO][2022/02/23 01:06:25 AM] Writing properties/obj_type_2/prob_anaphase (16631,)\n",
      "[INFO][2022/02/23 01:06:25 AM] Writing properties/obj_type_2/prob_apoptosis (16631,)\n",
      "[INFO][2022/02/23 01:06:25 AM] Closing HDF file: /home/nathan/data/kraken/ras/ND0010/Pos4/untrans_no_bg_objects_type_2.h5\n"
     ]
    },
    {
     "data": {
      "application/vnd.jupyter.widget-view+json": {
       "model_id": "4ac330ad56cc476ba2ae2ff1659b2fd6",
       "version_major": 2,
       "version_minor": 0
      },
      "text/plain": [
       "  0%|          | 0/15 [00:00<?, ?it/s]"
      ]
     },
     "metadata": {},
     "output_type": "display_data"
    },
    {
     "name": "stdout",
     "output_type": "stream",
     "text": [
      "Starting ND0012/Pos5\n"
     ]
    },
    {
     "name": "stderr",
     "output_type": "stream",
     "text": [
      "[INFO][2022/02/23 01:06:27 AM] Localizing objects from segmentation...\n",
      "[INFO][2022/02/23 01:11:42 AM] Objects are of type: <class 'dict'>\n",
      "[INFO][2022/02/23 01:11:51 AM] ...Found 1333244 objects in 1738 frames.\n"
     ]
    },
    {
     "name": "stdout",
     "output_type": "stream",
     "text": [
      "Classifying objects\n"
     ]
    },
    {
     "data": {
      "application/vnd.jupyter.widget-view+json": {
       "model_id": "7a505134b0234b9f85ef160790408c81",
       "version_major": 2,
       "version_minor": 0
      },
      "text/plain": [
       "  0%|          | 0/1738 [00:00<?, ?it/s]"
      ]
     },
     "metadata": {},
     "output_type": "display_data"
    },
    {
     "data": {
      "application/vnd.jupyter.widget-view+json": {
       "model_id": "b64670d615bb47a7bbf57d7d42fd1bad",
       "version_major": 2,
       "version_minor": 0
      },
      "text/plain": [
       "  0%|          | 0/1738 [00:00<?, ?it/s]"
      ]
     },
     "metadata": {},
     "output_type": "display_data"
    },
    {
     "name": "stderr",
     "output_type": "stream",
     "text": [
      "[INFO][2022/02/23 03:15:08 AM] Opening HDF file: /home/nathan/data/kraken/ras/ND0012/Pos5/untrans_no_bg_objects_type_1.h5...\n",
      "[INFO][2022/02/23 03:15:17 AM] Writing objects/obj_type_1\n",
      "[INFO][2022/02/23 03:15:17 AM] Writing labels/obj_type_1\n",
      "[INFO][2022/02/23 03:15:17 AM] Loading objects/obj_type_1 (1297003, 5) (1297003 filtered: None)\n",
      "[INFO][2022/02/23 03:15:32 AM] Writing properties/obj_type_1/area (1297003,)\n",
      "[INFO][2022/02/23 03:15:32 AM] Writing properties/obj_type_1/class id (1297003,)\n",
      "[INFO][2022/02/23 03:15:32 AM] Writing properties/obj_type_1/prob_interphase (1297003,)\n",
      "[INFO][2022/02/23 03:15:32 AM] Writing properties/obj_type_1/prob_prometaphase (1297003,)\n",
      "[INFO][2022/02/23 03:15:33 AM] Writing properties/obj_type_1/prob_metaphase (1297003,)\n",
      "[INFO][2022/02/23 03:15:33 AM] Writing properties/obj_type_1/prob_anaphase (1297003,)\n",
      "[INFO][2022/02/23 03:15:33 AM] Writing properties/obj_type_1/prob_apoptosis (1297003,)\n",
      "[INFO][2022/02/23 03:15:33 AM] Closing HDF file: /home/nathan/data/kraken/ras/ND0012/Pos5/untrans_no_bg_objects_type_1.h5\n",
      "[INFO][2022/02/23 03:15:33 AM] Opening HDF file: /home/nathan/data/kraken/ras/ND0012/Pos5/untrans_no_bg_objects_type_2.h5...\n",
      "[INFO][2022/02/23 03:15:34 AM] Writing objects/obj_type_2\n",
      "[INFO][2022/02/23 03:15:34 AM] Writing labels/obj_type_2\n",
      "[INFO][2022/02/23 03:15:34 AM] Loading objects/obj_type_2 (36241, 5) (36241 filtered: None)\n",
      "[INFO][2022/02/23 03:15:34 AM] Writing properties/obj_type_2/area (36241,)\n",
      "[INFO][2022/02/23 03:15:34 AM] Writing properties/obj_type_2/class id (36241,)\n",
      "[INFO][2022/02/23 03:15:34 AM] Writing properties/obj_type_2/prob_interphase (36241,)\n",
      "[INFO][2022/02/23 03:15:34 AM] Writing properties/obj_type_2/prob_prometaphase (36241,)\n",
      "[INFO][2022/02/23 03:15:34 AM] Writing properties/obj_type_2/prob_metaphase (36241,)\n",
      "[INFO][2022/02/23 03:15:34 AM] Writing properties/obj_type_2/prob_anaphase (36241,)\n",
      "[INFO][2022/02/23 03:15:34 AM] Writing properties/obj_type_2/prob_apoptosis (36241,)\n",
      "[INFO][2022/02/23 03:15:34 AM] Closing HDF file: /home/nathan/data/kraken/ras/ND0012/Pos5/untrans_no_bg_objects_type_2.h5\n"
     ]
    },
    {
     "name": "stdout",
     "output_type": "stream",
     "text": [
      "Starting ND0012/Pos11\n"
     ]
    },
    {
     "name": "stderr",
     "output_type": "stream",
     "text": [
      "[INFO][2022/02/23 03:15:35 AM] Localizing objects from segmentation...\n",
      "[INFO][2022/02/23 03:18:36 AM] Objects are of type: <class 'dict'>\n",
      "[INFO][2022/02/23 03:18:37 AM] ...Found 13666 objects in 1740 frames.\n"
     ]
    },
    {
     "name": "stdout",
     "output_type": "stream",
     "text": [
      "Classifying objects\n"
     ]
    },
    {
     "data": {
      "application/vnd.jupyter.widget-view+json": {
       "model_id": "83db4ed311634fd5b97beecf584aa1ce",
       "version_major": 2,
       "version_minor": 0
      },
      "text/plain": [
       "  0%|          | 0/1740 [00:00<?, ?it/s]"
      ]
     },
     "metadata": {},
     "output_type": "display_data"
    },
    {
     "data": {
      "application/vnd.jupyter.widget-view+json": {
       "model_id": "25d8cef9b07e463b877a2ac5fa9fe4c0",
       "version_major": 2,
       "version_minor": 0
      },
      "text/plain": [
       "  0%|          | 0/1740 [00:00<?, ?it/s]"
      ]
     },
     "metadata": {},
     "output_type": "display_data"
    },
    {
     "name": "stderr",
     "output_type": "stream",
     "text": [
      "[INFO][2022/02/23 04:14:31 AM] Opening HDF file: /home/nathan/data/kraken/ras/ND0012/Pos11/untrans_no_bg_objects_type_1.h5...\n",
      "[INFO][2022/02/23 04:14:31 AM] Writing objects/obj_type_1\n",
      "[INFO][2022/02/23 04:14:31 AM] Writing labels/obj_type_1\n",
      "[INFO][2022/02/23 04:14:31 AM] Loading objects/obj_type_1 (13628, 5) (13628 filtered: None)\n",
      "[INFO][2022/02/23 04:14:31 AM] Writing properties/obj_type_1/area (13628,)\n",
      "[INFO][2022/02/23 04:14:31 AM] Writing properties/obj_type_1/class id (13628,)\n",
      "[INFO][2022/02/23 04:14:31 AM] Writing properties/obj_type_1/prob_interphase (13628,)\n",
      "[INFO][2022/02/23 04:14:31 AM] Writing properties/obj_type_1/prob_prometaphase (13628,)\n",
      "[INFO][2022/02/23 04:14:31 AM] Writing properties/obj_type_1/prob_metaphase (13628,)\n",
      "[INFO][2022/02/23 04:14:31 AM] Writing properties/obj_type_1/prob_anaphase (13628,)\n",
      "[INFO][2022/02/23 04:14:31 AM] Writing properties/obj_type_1/prob_apoptosis (13628,)\n",
      "[INFO][2022/02/23 04:14:31 AM] Closing HDF file: /home/nathan/data/kraken/ras/ND0012/Pos11/untrans_no_bg_objects_type_1.h5\n",
      "[INFO][2022/02/23 04:14:31 AM] Opening HDF file: /home/nathan/data/kraken/ras/ND0012/Pos11/untrans_no_bg_objects_type_2.h5...\n",
      "[INFO][2022/02/23 04:14:31 AM] Writing objects/obj_type_2\n",
      "[INFO][2022/02/23 04:14:31 AM] Writing labels/obj_type_2\n",
      "[INFO][2022/02/23 04:14:31 AM] Loading objects/obj_type_2 (38, 5) (38 filtered: None)\n",
      "[INFO][2022/02/23 04:14:31 AM] Writing properties/obj_type_2/area (38,)\n",
      "[INFO][2022/02/23 04:14:31 AM] Writing properties/obj_type_2/class id (38,)\n",
      "[INFO][2022/02/23 04:14:31 AM] Writing properties/obj_type_2/prob_interphase (38,)\n",
      "[INFO][2022/02/23 04:14:31 AM] Writing properties/obj_type_2/prob_prometaphase (38,)\n",
      "[INFO][2022/02/23 04:14:31 AM] Writing properties/obj_type_2/prob_metaphase (38,)\n",
      "[INFO][2022/02/23 04:14:31 AM] Writing properties/obj_type_2/prob_anaphase (38,)\n",
      "[INFO][2022/02/23 04:14:31 AM] Writing properties/obj_type_2/prob_apoptosis (38,)\n",
      "[INFO][2022/02/23 04:14:31 AM] Closing HDF file: /home/nathan/data/kraken/ras/ND0012/Pos11/untrans_no_bg_objects_type_2.h5\n"
     ]
    },
    {
     "name": "stdout",
     "output_type": "stream",
     "text": [
      "Starting ND0012/Pos3\n"
     ]
    },
    {
     "name": "stderr",
     "output_type": "stream",
     "text": [
      "[INFO][2022/02/23 04:14:32 AM] Localizing objects from segmentation...\n",
      "[INFO][2022/02/23 04:19:34 AM] Objects are of type: <class 'dict'>\n",
      "[INFO][2022/02/23 04:19:37 AM] ...Found 501340 objects in 1744 frames.\n"
     ]
    },
    {
     "name": "stdout",
     "output_type": "stream",
     "text": [
      "Classifying objects\n"
     ]
    },
    {
     "data": {
      "application/vnd.jupyter.widget-view+json": {
       "model_id": "9c2cca2a900341a79fefaeab00d0d629",
       "version_major": 2,
       "version_minor": 0
      },
      "text/plain": [
       "  0%|          | 0/1744 [00:00<?, ?it/s]"
      ]
     },
     "metadata": {},
     "output_type": "display_data"
    },
    {
     "data": {
      "application/vnd.jupyter.widget-view+json": {
       "model_id": "c387cf91028c470bace9d12f1b421f31",
       "version_major": 2,
       "version_minor": 0
      },
      "text/plain": [
       "  0%|          | 0/1744 [00:00<?, ?it/s]"
      ]
     },
     "metadata": {},
     "output_type": "display_data"
    },
    {
     "name": "stderr",
     "output_type": "stream",
     "text": [
      "[INFO][2022/02/23 05:45:07 AM] Opening HDF file: /home/nathan/data/kraken/ras/ND0012/Pos3/untrans_no_bg_objects_type_1.h5...\n",
      "[INFO][2022/02/23 05:45:10 AM] Writing objects/obj_type_1\n",
      "[INFO][2022/02/23 05:45:10 AM] Writing labels/obj_type_1\n",
      "[INFO][2022/02/23 05:45:10 AM] Loading objects/obj_type_1 (326890, 5) (326890 filtered: None)\n",
      "[INFO][2022/02/23 05:45:13 AM] Writing properties/obj_type_1/area (326890,)\n",
      "[INFO][2022/02/23 05:45:13 AM] Writing properties/obj_type_1/class id (326890,)\n",
      "[INFO][2022/02/23 05:45:13 AM] Writing properties/obj_type_1/prob_interphase (326890,)\n",
      "[INFO][2022/02/23 05:45:14 AM] Writing properties/obj_type_1/prob_prometaphase (326890,)\n",
      "[INFO][2022/02/23 05:45:14 AM] Writing properties/obj_type_1/prob_metaphase (326890,)\n",
      "[INFO][2022/02/23 05:45:14 AM] Writing properties/obj_type_1/prob_anaphase (326890,)\n",
      "[INFO][2022/02/23 05:45:14 AM] Writing properties/obj_type_1/prob_apoptosis (326890,)\n",
      "[INFO][2022/02/23 05:45:14 AM] Closing HDF file: /home/nathan/data/kraken/ras/ND0012/Pos3/untrans_no_bg_objects_type_1.h5\n",
      "[INFO][2022/02/23 05:45:14 AM] Opening HDF file: /home/nathan/data/kraken/ras/ND0012/Pos3/untrans_no_bg_objects_type_2.h5...\n",
      "[INFO][2022/02/23 05:45:15 AM] Writing objects/obj_type_2\n",
      "[INFO][2022/02/23 05:45:15 AM] Writing labels/obj_type_2\n",
      "[INFO][2022/02/23 05:45:15 AM] Loading objects/obj_type_2 (174450, 5) (174450 filtered: None)\n",
      "[INFO][2022/02/23 05:45:17 AM] Writing properties/obj_type_2/area (174450,)\n",
      "[INFO][2022/02/23 05:45:17 AM] Writing properties/obj_type_2/class id (174450,)\n",
      "[INFO][2022/02/23 05:45:17 AM] Writing properties/obj_type_2/prob_interphase (174450,)\n",
      "[INFO][2022/02/23 05:45:17 AM] Writing properties/obj_type_2/prob_prometaphase (174450,)\n",
      "[INFO][2022/02/23 05:45:17 AM] Writing properties/obj_type_2/prob_metaphase (174450,)\n",
      "[INFO][2022/02/23 05:45:17 AM] Writing properties/obj_type_2/prob_anaphase (174450,)\n",
      "[INFO][2022/02/23 05:45:17 AM] Writing properties/obj_type_2/prob_apoptosis (174450,)\n",
      "[INFO][2022/02/23 05:45:17 AM] Closing HDF file: /home/nathan/data/kraken/ras/ND0012/Pos3/untrans_no_bg_objects_type_2.h5\n"
     ]
    },
    {
     "name": "stdout",
     "output_type": "stream",
     "text": [
      "Starting ND0012/Pos1\n"
     ]
    },
    {
     "name": "stderr",
     "output_type": "stream",
     "text": [
      "[INFO][2022/02/23 05:45:18 AM] Localizing objects from segmentation...\n",
      "[INFO][2022/02/23 05:49:22 AM] Objects are of type: <class 'dict'>\n",
      "[INFO][2022/02/23 05:49:25 AM] ...Found 465927 objects in 1735 frames.\n"
     ]
    },
    {
     "name": "stdout",
     "output_type": "stream",
     "text": [
      "Classifying objects\n"
     ]
    },
    {
     "data": {
      "application/vnd.jupyter.widget-view+json": {
       "model_id": "aecc3654a393404fb74beff1c62ac33e",
       "version_major": 2,
       "version_minor": 0
      },
      "text/plain": [
       "  0%|          | 0/1735 [00:00<?, ?it/s]"
      ]
     },
     "metadata": {},
     "output_type": "display_data"
    },
    {
     "data": {
      "application/vnd.jupyter.widget-view+json": {
       "model_id": "b089047654eb4434a667f05078d78256",
       "version_major": 2,
       "version_minor": 0
      },
      "text/plain": [
       "  0%|          | 0/1735 [00:00<?, ?it/s]"
      ]
     },
     "metadata": {},
     "output_type": "display_data"
    },
    {
     "name": "stderr",
     "output_type": "stream",
     "text": [
      "[INFO][2022/02/23 07:13:44 AM] Opening HDF file: /home/nathan/data/kraken/ras/ND0012/Pos1/untrans_no_bg_objects_type_1.h5...\n",
      "[INFO][2022/02/23 07:13:47 AM] Writing objects/obj_type_1\n",
      "[INFO][2022/02/23 07:13:47 AM] Writing labels/obj_type_1\n",
      "[INFO][2022/02/23 07:13:47 AM] Loading objects/obj_type_1 (354509, 5) (354509 filtered: None)\n",
      "[INFO][2022/02/23 07:13:51 AM] Writing properties/obj_type_1/area (354509,)\n",
      "[INFO][2022/02/23 07:13:51 AM] Writing properties/obj_type_1/class id (354509,)\n",
      "[INFO][2022/02/23 07:13:51 AM] Writing properties/obj_type_1/prob_interphase (354509,)\n",
      "[INFO][2022/02/23 07:13:51 AM] Writing properties/obj_type_1/prob_prometaphase (354509,)\n",
      "[INFO][2022/02/23 07:13:51 AM] Writing properties/obj_type_1/prob_metaphase (354509,)\n",
      "[INFO][2022/02/23 07:13:51 AM] Writing properties/obj_type_1/prob_anaphase (354509,)\n",
      "[INFO][2022/02/23 07:13:51 AM] Writing properties/obj_type_1/prob_apoptosis (354509,)\n",
      "[INFO][2022/02/23 07:13:51 AM] Closing HDF file: /home/nathan/data/kraken/ras/ND0012/Pos1/untrans_no_bg_objects_type_1.h5\n",
      "[INFO][2022/02/23 07:13:51 AM] Opening HDF file: /home/nathan/data/kraken/ras/ND0012/Pos1/untrans_no_bg_objects_type_2.h5...\n",
      "[INFO][2022/02/23 07:13:52 AM] Writing objects/obj_type_2\n",
      "[INFO][2022/02/23 07:13:52 AM] Writing labels/obj_type_2\n",
      "[INFO][2022/02/23 07:13:52 AM] Loading objects/obj_type_2 (111418, 5) (111418 filtered: None)\n",
      "[INFO][2022/02/23 07:13:54 AM] Writing properties/obj_type_2/area (111418,)\n",
      "[INFO][2022/02/23 07:13:54 AM] Writing properties/obj_type_2/class id (111418,)\n",
      "[INFO][2022/02/23 07:13:54 AM] Writing properties/obj_type_2/prob_interphase (111418,)\n",
      "[INFO][2022/02/23 07:13:54 AM] Writing properties/obj_type_2/prob_prometaphase (111418,)\n",
      "[INFO][2022/02/23 07:13:54 AM] Writing properties/obj_type_2/prob_metaphase (111418,)\n",
      "[INFO][2022/02/23 07:13:54 AM] Writing properties/obj_type_2/prob_anaphase (111418,)\n",
      "[INFO][2022/02/23 07:13:54 AM] Writing properties/obj_type_2/prob_apoptosis (111418,)\n",
      "[INFO][2022/02/23 07:13:54 AM] Closing HDF file: /home/nathan/data/kraken/ras/ND0012/Pos1/untrans_no_bg_objects_type_2.h5\n"
     ]
    },
    {
     "name": "stdout",
     "output_type": "stream",
     "text": [
      "Starting ND0012/Pos8\n"
     ]
    },
    {
     "name": "stderr",
     "output_type": "stream",
     "text": [
      "[INFO][2022/02/23 07:13:55 AM] Localizing objects from segmentation...\n",
      "[INFO][2022/02/23 07:17:35 AM] Objects are of type: <class 'dict'>\n",
      "[INFO][2022/02/23 07:17:37 AM] ...Found 344813 objects in 1737 frames.\n"
     ]
    },
    {
     "name": "stdout",
     "output_type": "stream",
     "text": [
      "Classifying objects\n"
     ]
    },
    {
     "data": {
      "application/vnd.jupyter.widget-view+json": {
       "model_id": "b93deeb981f842bfaf9f3567af621274",
       "version_major": 2,
       "version_minor": 0
      },
      "text/plain": [
       "  0%|          | 0/1737 [00:00<?, ?it/s]"
      ]
     },
     "metadata": {},
     "output_type": "display_data"
    },
    {
     "data": {
      "application/vnd.jupyter.widget-view+json": {
       "model_id": "80ec0615f7a94115adab26784d316048",
       "version_major": 2,
       "version_minor": 0
      },
      "text/plain": [
       "  0%|          | 0/1737 [00:00<?, ?it/s]"
      ]
     },
     "metadata": {},
     "output_type": "display_data"
    },
    {
     "name": "stderr",
     "output_type": "stream",
     "text": [
      "[INFO][2022/02/23 08:33:50 AM] Opening HDF file: /home/nathan/data/kraken/ras/ND0012/Pos8/untrans_no_bg_objects_type_1.h5...\n",
      "[INFO][2022/02/23 08:33:52 AM] Writing objects/obj_type_1\n",
      "[INFO][2022/02/23 08:33:52 AM] Writing labels/obj_type_1\n",
      "[INFO][2022/02/23 08:33:52 AM] Loading objects/obj_type_1 (267156, 5) (267156 filtered: None)\n",
      "[INFO][2022/02/23 08:33:55 AM] Writing properties/obj_type_1/area (267156,)\n",
      "[INFO][2022/02/23 08:33:55 AM] Writing properties/obj_type_1/class id (267156,)\n",
      "[INFO][2022/02/23 08:33:55 AM] Writing properties/obj_type_1/prob_interphase (267156,)\n",
      "[INFO][2022/02/23 08:33:55 AM] Writing properties/obj_type_1/prob_prometaphase (267156,)\n",
      "[INFO][2022/02/23 08:33:55 AM] Writing properties/obj_type_1/prob_metaphase (267156,)\n",
      "[INFO][2022/02/23 08:33:55 AM] Writing properties/obj_type_1/prob_anaphase (267156,)\n",
      "[INFO][2022/02/23 08:33:55 AM] Writing properties/obj_type_1/prob_apoptosis (267156,)\n",
      "[INFO][2022/02/23 08:33:55 AM] Closing HDF file: /home/nathan/data/kraken/ras/ND0012/Pos8/untrans_no_bg_objects_type_1.h5\n",
      "[INFO][2022/02/23 08:33:55 AM] Opening HDF file: /home/nathan/data/kraken/ras/ND0012/Pos8/untrans_no_bg_objects_type_2.h5...\n",
      "[INFO][2022/02/23 08:33:56 AM] Writing objects/obj_type_2\n",
      "[INFO][2022/02/23 08:33:56 AM] Writing labels/obj_type_2\n",
      "[INFO][2022/02/23 08:33:56 AM] Loading objects/obj_type_2 (77657, 5) (77657 filtered: None)\n",
      "[INFO][2022/02/23 08:33:57 AM] Writing properties/obj_type_2/area (77657,)\n",
      "[INFO][2022/02/23 08:33:57 AM] Writing properties/obj_type_2/class id (77657,)\n",
      "[INFO][2022/02/23 08:33:57 AM] Writing properties/obj_type_2/prob_interphase (77657,)\n",
      "[INFO][2022/02/23 08:33:57 AM] Writing properties/obj_type_2/prob_prometaphase (77657,)\n",
      "[INFO][2022/02/23 08:33:57 AM] Writing properties/obj_type_2/prob_metaphase (77657,)\n",
      "[INFO][2022/02/23 08:33:57 AM] Writing properties/obj_type_2/prob_anaphase (77657,)\n",
      "[INFO][2022/02/23 08:33:57 AM] Writing properties/obj_type_2/prob_apoptosis (77657,)\n",
      "[INFO][2022/02/23 08:33:57 AM] Closing HDF file: /home/nathan/data/kraken/ras/ND0012/Pos8/untrans_no_bg_objects_type_2.h5\n"
     ]
    },
    {
     "name": "stdout",
     "output_type": "stream",
     "text": [
      "Starting ND0012/Pos10\n"
     ]
    },
    {
     "name": "stderr",
     "output_type": "stream",
     "text": [
      "[INFO][2022/02/23 08:33:58 AM] Localizing objects from segmentation...\n",
      "[INFO][2022/02/23 08:38:10 AM] Objects are of type: <class 'dict'>\n",
      "[INFO][2022/02/23 08:38:10 AM] ...Found 3344 objects in 1735 frames.\n"
     ]
    },
    {
     "name": "stdout",
     "output_type": "stream",
     "text": [
      "Classifying objects\n"
     ]
    },
    {
     "data": {
      "application/vnd.jupyter.widget-view+json": {
       "model_id": "d52b64875ca54065a1a7d1cc01af2244",
       "version_major": 2,
       "version_minor": 0
      },
      "text/plain": [
       "  0%|          | 0/1735 [00:00<?, ?it/s]"
      ]
     },
     "metadata": {},
     "output_type": "display_data"
    },
    {
     "data": {
      "application/vnd.jupyter.widget-view+json": {
       "model_id": "01815d2e58ac4668bcbf397fe6d48bb1",
       "version_major": 2,
       "version_minor": 0
      },
      "text/plain": [
       "  0%|          | 0/1735 [00:00<?, ?it/s]"
      ]
     },
     "metadata": {},
     "output_type": "display_data"
    },
    {
     "name": "stderr",
     "output_type": "stream",
     "text": [
      "[INFO][2022/02/23 09:35:26 AM] Opening HDF file: /home/nathan/data/kraken/ras/ND0012/Pos10/untrans_no_bg_objects_type_1.h5...\n",
      "[INFO][2022/02/23 09:35:26 AM] Writing objects/obj_type_1\n",
      "[INFO][2022/02/23 09:35:26 AM] Writing labels/obj_type_1\n",
      "[INFO][2022/02/23 09:35:26 AM] Loading objects/obj_type_1 (3324, 5) (3324 filtered: None)\n",
      "[INFO][2022/02/23 09:35:26 AM] Writing properties/obj_type_1/area (3324,)\n",
      "[INFO][2022/02/23 09:35:26 AM] Writing properties/obj_type_1/class id (3324,)\n",
      "[INFO][2022/02/23 09:35:26 AM] Writing properties/obj_type_1/prob_interphase (3324,)\n",
      "[INFO][2022/02/23 09:35:27 AM] Writing properties/obj_type_1/prob_prometaphase (3324,)\n",
      "[INFO][2022/02/23 09:35:27 AM] Writing properties/obj_type_1/prob_metaphase (3324,)\n",
      "[INFO][2022/02/23 09:35:27 AM] Writing properties/obj_type_1/prob_anaphase (3324,)\n",
      "[INFO][2022/02/23 09:35:27 AM] Writing properties/obj_type_1/prob_apoptosis (3324,)\n",
      "[INFO][2022/02/23 09:35:27 AM] Closing HDF file: /home/nathan/data/kraken/ras/ND0012/Pos10/untrans_no_bg_objects_type_1.h5\n",
      "[INFO][2022/02/23 09:35:27 AM] Opening HDF file: /home/nathan/data/kraken/ras/ND0012/Pos10/untrans_no_bg_objects_type_2.h5...\n",
      "[INFO][2022/02/23 09:35:27 AM] Writing objects/obj_type_2\n",
      "[INFO][2022/02/23 09:35:27 AM] Writing labels/obj_type_2\n",
      "[INFO][2022/02/23 09:35:27 AM] Loading objects/obj_type_2 (20, 5) (20 filtered: None)\n",
      "[INFO][2022/02/23 09:35:27 AM] Writing properties/obj_type_2/area (20,)\n",
      "[INFO][2022/02/23 09:35:27 AM] Writing properties/obj_type_2/class id (20,)\n",
      "[INFO][2022/02/23 09:35:27 AM] Writing properties/obj_type_2/prob_interphase (20,)\n",
      "[INFO][2022/02/23 09:35:27 AM] Writing properties/obj_type_2/prob_prometaphase (20,)\n",
      "[INFO][2022/02/23 09:35:27 AM] Writing properties/obj_type_2/prob_metaphase (20,)\n",
      "[INFO][2022/02/23 09:35:27 AM] Writing properties/obj_type_2/prob_anaphase (20,)\n",
      "[INFO][2022/02/23 09:35:27 AM] Writing properties/obj_type_2/prob_apoptosis (20,)\n",
      "[INFO][2022/02/23 09:35:27 AM] Closing HDF file: /home/nathan/data/kraken/ras/ND0012/Pos10/untrans_no_bg_objects_type_2.h5\n"
     ]
    },
    {
     "name": "stdout",
     "output_type": "stream",
     "text": [
      "Starting ND0012/Pos0\n"
     ]
    },
    {
     "name": "stderr",
     "output_type": "stream",
     "text": [
      "[INFO][2022/02/23 09:35:28 AM] Localizing objects from segmentation...\n",
      "[INFO][2022/02/23 09:41:20 AM] Objects are of type: <class 'dict'>\n",
      "[INFO][2022/02/23 09:41:25 AM] ...Found 821666 objects in 1735 frames.\n"
     ]
    },
    {
     "name": "stdout",
     "output_type": "stream",
     "text": [
      "Classifying objects\n"
     ]
    },
    {
     "data": {
      "application/vnd.jupyter.widget-view+json": {
       "model_id": "546d7ae9ed6045c19616414825ae3c03",
       "version_major": 2,
       "version_minor": 0
      },
      "text/plain": [
       "  0%|          | 0/1735 [00:00<?, ?it/s]"
      ]
     },
     "metadata": {},
     "output_type": "display_data"
    },
    {
     "data": {
      "application/vnd.jupyter.widget-view+json": {
       "model_id": "29d74dcfa584400786c193a9dd631f8d",
       "version_major": 2,
       "version_minor": 0
      },
      "text/plain": [
       "  0%|          | 0/1735 [00:00<?, ?it/s]"
      ]
     },
     "metadata": {},
     "output_type": "display_data"
    },
    {
     "name": "stderr",
     "output_type": "stream",
     "text": [
      "[INFO][2022/02/23 11:12:18 AM] Opening HDF file: /home/nathan/data/kraken/ras/ND0012/Pos0/untrans_no_bg_objects_type_1.h5...\n",
      "[INFO][2022/02/23 11:12:18 AM] Writing objects/obj_type_1\n",
      "[INFO][2022/02/23 11:12:18 AM] Writing labels/obj_type_1\n",
      "[INFO][2022/02/23 11:12:18 AM] Loading objects/obj_type_1 (1834, 5) (1834 filtered: None)\n",
      "[INFO][2022/02/23 11:12:18 AM] Writing properties/obj_type_1/area (1834,)\n",
      "[INFO][2022/02/23 11:12:18 AM] Writing properties/obj_type_1/class id (1834,)\n",
      "[INFO][2022/02/23 11:12:18 AM] Writing properties/obj_type_1/prob_interphase (1834,)\n",
      "[INFO][2022/02/23 11:12:18 AM] Writing properties/obj_type_1/prob_prometaphase (1834,)\n",
      "[INFO][2022/02/23 11:12:18 AM] Writing properties/obj_type_1/prob_metaphase (1834,)\n",
      "[INFO][2022/02/23 11:12:18 AM] Writing properties/obj_type_1/prob_anaphase (1834,)\n",
      "[INFO][2022/02/23 11:12:18 AM] Writing properties/obj_type_1/prob_apoptosis (1834,)\n",
      "[INFO][2022/02/23 11:12:18 AM] Closing HDF file: /home/nathan/data/kraken/ras/ND0012/Pos0/untrans_no_bg_objects_type_1.h5\n",
      "[INFO][2022/02/23 11:12:18 AM] Opening HDF file: /home/nathan/data/kraken/ras/ND0012/Pos0/untrans_no_bg_objects_type_2.h5...\n",
      "[INFO][2022/02/23 11:12:25 AM] Writing objects/obj_type_2\n",
      "[INFO][2022/02/23 11:12:25 AM] Writing labels/obj_type_2\n",
      "[INFO][2022/02/23 11:12:25 AM] Loading objects/obj_type_2 (819832, 5) (819832 filtered: None)\n",
      "[INFO][2022/02/23 11:12:33 AM] Writing properties/obj_type_2/area (819832,)\n",
      "[INFO][2022/02/23 11:12:33 AM] Writing properties/obj_type_2/class id (819832,)\n",
      "[INFO][2022/02/23 11:12:34 AM] Writing properties/obj_type_2/prob_interphase (819832,)\n",
      "[INFO][2022/02/23 11:12:34 AM] Writing properties/obj_type_2/prob_prometaphase (819832,)\n",
      "[INFO][2022/02/23 11:12:34 AM] Writing properties/obj_type_2/prob_metaphase (819832,)\n",
      "[INFO][2022/02/23 11:12:34 AM] Writing properties/obj_type_2/prob_anaphase (819832,)\n",
      "[INFO][2022/02/23 11:12:34 AM] Writing properties/obj_type_2/prob_apoptosis (819832,)\n",
      "[INFO][2022/02/23 11:12:34 AM] Closing HDF file: /home/nathan/data/kraken/ras/ND0012/Pos0/untrans_no_bg_objects_type_2.h5\n"
     ]
    },
    {
     "name": "stdout",
     "output_type": "stream",
     "text": [
      "Starting ND0012/Pos2\n"
     ]
    },
    {
     "name": "stderr",
     "output_type": "stream",
     "text": [
      "[INFO][2022/02/23 11:12:35 AM] Localizing objects from segmentation...\n",
      "[INFO][2022/02/23 11:16:17 AM] Objects are of type: <class 'dict'>\n",
      "[INFO][2022/02/23 11:16:20 AM] ...Found 478183 objects in 1738 frames.\n"
     ]
    },
    {
     "name": "stdout",
     "output_type": "stream",
     "text": [
      "Classifying objects\n"
     ]
    },
    {
     "data": {
      "application/vnd.jupyter.widget-view+json": {
       "model_id": "7e6deadf64e74fc28cab36b5a11958f3",
       "version_major": 2,
       "version_minor": 0
      },
      "text/plain": [
       "  0%|          | 0/1738 [00:00<?, ?it/s]"
      ]
     },
     "metadata": {},
     "output_type": "display_data"
    },
    {
     "data": {
      "application/vnd.jupyter.widget-view+json": {
       "model_id": "65061ac53ca747719007974517ca9b55",
       "version_major": 2,
       "version_minor": 0
      },
      "text/plain": [
       "  0%|          | 0/1738 [00:00<?, ?it/s]"
      ]
     },
     "metadata": {},
     "output_type": "display_data"
    },
    {
     "name": "stderr",
     "output_type": "stream",
     "text": [
      "[INFO][2022/02/23 12:37:27 PM] Opening HDF file: /home/nathan/data/kraken/ras/ND0012/Pos2/untrans_no_bg_objects_type_1.h5...\n",
      "[INFO][2022/02/23 12:37:30 PM] Writing objects/obj_type_1\n",
      "[INFO][2022/02/23 12:37:30 PM] Writing labels/obj_type_1\n",
      "[INFO][2022/02/23 12:37:30 PM] Loading objects/obj_type_1 (402085, 5) (402085 filtered: None)\n",
      "[INFO][2022/02/23 12:37:35 PM] Writing properties/obj_type_1/area (402085,)\n",
      "[INFO][2022/02/23 12:37:35 PM] Writing properties/obj_type_1/class id (402085,)\n",
      "[INFO][2022/02/23 12:37:35 PM] Writing properties/obj_type_1/prob_interphase (402085,)\n",
      "[INFO][2022/02/23 12:37:35 PM] Writing properties/obj_type_1/prob_prometaphase (402085,)\n",
      "[INFO][2022/02/23 12:37:35 PM] Writing properties/obj_type_1/prob_metaphase (402085,)\n",
      "[INFO][2022/02/23 12:37:35 PM] Writing properties/obj_type_1/prob_anaphase (402085,)\n",
      "[INFO][2022/02/23 12:37:35 PM] Writing properties/obj_type_1/prob_apoptosis (402085,)\n",
      "[INFO][2022/02/23 12:37:36 PM] Closing HDF file: /home/nathan/data/kraken/ras/ND0012/Pos2/untrans_no_bg_objects_type_1.h5\n",
      "[INFO][2022/02/23 12:37:36 PM] Opening HDF file: /home/nathan/data/kraken/ras/ND0012/Pos2/untrans_no_bg_objects_type_2.h5...\n",
      "[INFO][2022/02/23 12:37:36 PM] Writing objects/obj_type_2\n",
      "[INFO][2022/02/23 12:37:36 PM] Writing labels/obj_type_2\n",
      "[INFO][2022/02/23 12:37:36 PM] Loading objects/obj_type_2 (76098, 5) (76098 filtered: None)\n",
      "[INFO][2022/02/23 12:37:37 PM] Writing properties/obj_type_2/area (76098,)\n",
      "[INFO][2022/02/23 12:37:37 PM] Writing properties/obj_type_2/class id (76098,)\n",
      "[INFO][2022/02/23 12:37:37 PM] Writing properties/obj_type_2/prob_interphase (76098,)\n",
      "[INFO][2022/02/23 12:37:37 PM] Writing properties/obj_type_2/prob_prometaphase (76098,)\n",
      "[INFO][2022/02/23 12:37:37 PM] Writing properties/obj_type_2/prob_metaphase (76098,)\n",
      "[INFO][2022/02/23 12:37:37 PM] Writing properties/obj_type_2/prob_anaphase (76098,)\n",
      "[INFO][2022/02/23 12:37:37 PM] Writing properties/obj_type_2/prob_apoptosis (76098,)\n",
      "[INFO][2022/02/23 12:37:37 PM] Closing HDF file: /home/nathan/data/kraken/ras/ND0012/Pos2/untrans_no_bg_objects_type_2.h5\n"
     ]
    },
    {
     "name": "stdout",
     "output_type": "stream",
     "text": [
      "Starting ND0012/Pos6\n"
     ]
    },
    {
     "name": "stderr",
     "output_type": "stream",
     "text": [
      "[INFO][2022/02/23 12:37:39 PM] Localizing objects from segmentation...\n",
      "[INFO][2022/02/23 12:41:10 PM] Objects are of type: <class 'dict'>\n",
      "[INFO][2022/02/23 12:41:12 PM] ...Found 171930 objects in 1744 frames.\n"
     ]
    },
    {
     "name": "stdout",
     "output_type": "stream",
     "text": [
      "Classifying objects\n"
     ]
    },
    {
     "data": {
      "application/vnd.jupyter.widget-view+json": {
       "model_id": "82ed0922ad3b450cbb4d447e70c4bbce",
       "version_major": 2,
       "version_minor": 0
      },
      "text/plain": [
       "  0%|          | 0/1744 [00:00<?, ?it/s]"
      ]
     },
     "metadata": {},
     "output_type": "display_data"
    },
    {
     "data": {
      "application/vnd.jupyter.widget-view+json": {
       "model_id": "b03926c94fd64881aaee48087c255b27",
       "version_major": 2,
       "version_minor": 0
      },
      "text/plain": [
       "  0%|          | 0/1744 [00:00<?, ?it/s]"
      ]
     },
     "metadata": {},
     "output_type": "display_data"
    },
    {
     "name": "stderr",
     "output_type": "stream",
     "text": [
      "[INFO][2022/02/23 01:54:03 PM] Opening HDF file: /home/nathan/data/kraken/ras/ND0012/Pos6/untrans_no_bg_objects_type_1.h5...\n",
      "[INFO][2022/02/23 01:54:04 PM] Writing objects/obj_type_1\n",
      "[INFO][2022/02/23 01:54:04 PM] Writing labels/obj_type_1\n",
      "[INFO][2022/02/23 01:54:04 PM] Loading objects/obj_type_1 (148023, 5) (148023 filtered: None)\n",
      "[INFO][2022/02/23 01:54:06 PM] Writing properties/obj_type_1/area (148023,)\n",
      "[INFO][2022/02/23 01:54:06 PM] Writing properties/obj_type_1/class id (148023,)\n",
      "[INFO][2022/02/23 01:54:06 PM] Writing properties/obj_type_1/prob_interphase (148023,)\n",
      "[INFO][2022/02/23 01:54:06 PM] Writing properties/obj_type_1/prob_prometaphase (148023,)\n",
      "[INFO][2022/02/23 01:54:06 PM] Writing properties/obj_type_1/prob_metaphase (148023,)\n",
      "[INFO][2022/02/23 01:54:06 PM] Writing properties/obj_type_1/prob_anaphase (148023,)\n",
      "[INFO][2022/02/23 01:54:06 PM] Writing properties/obj_type_1/prob_apoptosis (148023,)\n",
      "[INFO][2022/02/23 01:54:06 PM] Closing HDF file: /home/nathan/data/kraken/ras/ND0012/Pos6/untrans_no_bg_objects_type_1.h5\n",
      "[INFO][2022/02/23 01:54:06 PM] Opening HDF file: /home/nathan/data/kraken/ras/ND0012/Pos6/untrans_no_bg_objects_type_2.h5...\n",
      "[INFO][2022/02/23 01:54:06 PM] Writing objects/obj_type_2\n",
      "[INFO][2022/02/23 01:54:06 PM] Writing labels/obj_type_2\n",
      "[INFO][2022/02/23 01:54:06 PM] Loading objects/obj_type_2 (23907, 5) (23907 filtered: None)\n",
      "[INFO][2022/02/23 01:54:07 PM] Writing properties/obj_type_2/area (23907,)\n",
      "[INFO][2022/02/23 01:54:07 PM] Writing properties/obj_type_2/class id (23907,)\n",
      "[INFO][2022/02/23 01:54:07 PM] Writing properties/obj_type_2/prob_interphase (23907,)\n",
      "[INFO][2022/02/23 01:54:07 PM] Writing properties/obj_type_2/prob_prometaphase (23907,)\n",
      "[INFO][2022/02/23 01:54:07 PM] Writing properties/obj_type_2/prob_metaphase (23907,)\n",
      "[INFO][2022/02/23 01:54:07 PM] Writing properties/obj_type_2/prob_anaphase (23907,)\n",
      "[INFO][2022/02/23 01:54:07 PM] Writing properties/obj_type_2/prob_apoptosis (23907,)\n",
      "[INFO][2022/02/23 01:54:07 PM] Closing HDF file: /home/nathan/data/kraken/ras/ND0012/Pos6/untrans_no_bg_objects_type_2.h5\n"
     ]
    },
    {
     "name": "stdout",
     "output_type": "stream",
     "text": [
      "Starting ND0012/Pos7\n"
     ]
    },
    {
     "name": "stderr",
     "output_type": "stream",
     "text": [
      "[INFO][2022/02/23 01:54:09 PM] Localizing objects from segmentation...\n",
      "[INFO][2022/02/23 01:57:29 PM] Objects are of type: <class 'dict'>\n",
      "[INFO][2022/02/23 01:57:30 PM] ...Found 161508 objects in 1741 frames.\n"
     ]
    },
    {
     "name": "stdout",
     "output_type": "stream",
     "text": [
      "Classifying objects\n"
     ]
    },
    {
     "data": {
      "application/vnd.jupyter.widget-view+json": {
       "model_id": "7a858a3424134699974b5d7be67abaa4",
       "version_major": 2,
       "version_minor": 0
      },
      "text/plain": [
       "  0%|          | 0/1741 [00:00<?, ?it/s]"
      ]
     },
     "metadata": {},
     "output_type": "display_data"
    },
    {
     "data": {
      "application/vnd.jupyter.widget-view+json": {
       "model_id": "f9fbe2646f384047bfc0f0ad0de7f239",
       "version_major": 2,
       "version_minor": 0
      },
      "text/plain": [
       "  0%|          | 0/1741 [00:00<?, ?it/s]"
      ]
     },
     "metadata": {},
     "output_type": "display_data"
    },
    {
     "name": "stderr",
     "output_type": "stream",
     "text": [
      "[INFO][2022/02/23 03:09:34 PM] Opening HDF file: /home/nathan/data/kraken/ras/ND0012/Pos7/untrans_no_bg_objects_type_1.h5...\n",
      "[INFO][2022/02/23 03:09:35 PM] Writing objects/obj_type_1\n",
      "[INFO][2022/02/23 03:09:35 PM] Writing labels/obj_type_1\n",
      "[INFO][2022/02/23 03:09:35 PM] Loading objects/obj_type_1 (140437, 5) (140437 filtered: None)\n",
      "[INFO][2022/02/23 03:09:36 PM] Writing properties/obj_type_1/area (140437,)\n",
      "[INFO][2022/02/23 03:09:36 PM] Writing properties/obj_type_1/class id (140437,)\n",
      "[INFO][2022/02/23 03:09:36 PM] Writing properties/obj_type_1/prob_interphase (140437,)\n",
      "[INFO][2022/02/23 03:09:37 PM] Writing properties/obj_type_1/prob_prometaphase (140437,)\n",
      "[INFO][2022/02/23 03:09:37 PM] Writing properties/obj_type_1/prob_metaphase (140437,)\n",
      "[INFO][2022/02/23 03:09:37 PM] Writing properties/obj_type_1/prob_anaphase (140437,)\n",
      "[INFO][2022/02/23 03:09:37 PM] Writing properties/obj_type_1/prob_apoptosis (140437,)\n",
      "[INFO][2022/02/23 03:09:37 PM] Closing HDF file: /home/nathan/data/kraken/ras/ND0012/Pos7/untrans_no_bg_objects_type_1.h5\n",
      "[INFO][2022/02/23 03:09:37 PM] Opening HDF file: /home/nathan/data/kraken/ras/ND0012/Pos7/untrans_no_bg_objects_type_2.h5...\n",
      "[INFO][2022/02/23 03:09:37 PM] Writing objects/obj_type_2\n",
      "[INFO][2022/02/23 03:09:37 PM] Writing labels/obj_type_2\n",
      "[INFO][2022/02/23 03:09:37 PM] Loading objects/obj_type_2 (21071, 5) (21071 filtered: None)\n",
      "[INFO][2022/02/23 03:09:37 PM] Writing properties/obj_type_2/area (21071,)\n",
      "[INFO][2022/02/23 03:09:37 PM] Writing properties/obj_type_2/class id (21071,)\n",
      "[INFO][2022/02/23 03:09:37 PM] Writing properties/obj_type_2/prob_interphase (21071,)\n",
      "[INFO][2022/02/23 03:09:37 PM] Writing properties/obj_type_2/prob_prometaphase (21071,)\n",
      "[INFO][2022/02/23 03:09:37 PM] Writing properties/obj_type_2/prob_metaphase (21071,)\n",
      "[INFO][2022/02/23 03:09:37 PM] Writing properties/obj_type_2/prob_anaphase (21071,)\n",
      "[INFO][2022/02/23 03:09:37 PM] Writing properties/obj_type_2/prob_apoptosis (21071,)\n",
      "[INFO][2022/02/23 03:09:37 PM] Closing HDF file: /home/nathan/data/kraken/ras/ND0012/Pos7/untrans_no_bg_objects_type_2.h5\n"
     ]
    },
    {
     "name": "stdout",
     "output_type": "stream",
     "text": [
      "Starting ND0012/Pos9\n"
     ]
    },
    {
     "name": "stderr",
     "output_type": "stream",
     "text": [
      "[INFO][2022/02/23 03:09:39 PM] Localizing objects from segmentation...\n",
      "[INFO][2022/02/23 03:14:08 PM] Objects are of type: <class 'dict'>\n",
      "[INFO][2022/02/23 03:14:13 PM] ...Found 679446 objects in 1740 frames.\n"
     ]
    },
    {
     "name": "stdout",
     "output_type": "stream",
     "text": [
      "Classifying objects\n"
     ]
    },
    {
     "data": {
      "application/vnd.jupyter.widget-view+json": {
       "model_id": "250e578e5cf542f7af0105852afb0f1c",
       "version_major": 2,
       "version_minor": 0
      },
      "text/plain": [
       "  0%|          | 0/1740 [00:00<?, ?it/s]"
      ]
     },
     "metadata": {},
     "output_type": "display_data"
    },
    {
     "data": {
      "application/vnd.jupyter.widget-view+json": {
       "model_id": "8b4cb48458a143aebebf19836e85535d",
       "version_major": 2,
       "version_minor": 0
      },
      "text/plain": [
       "  0%|          | 0/1740 [00:00<?, ?it/s]"
      ]
     },
     "metadata": {},
     "output_type": "display_data"
    },
    {
     "name": "stderr",
     "output_type": "stream",
     "text": [
      "[INFO][2022/02/23 04:48:04 PM] Opening HDF file: /home/nathan/data/kraken/ras/ND0012/Pos9/untrans_no_bg_objects_type_1.h5...\n",
      "[INFO][2022/02/23 04:48:08 PM] Writing objects/obj_type_1\n",
      "[INFO][2022/02/23 04:48:08 PM] Writing labels/obj_type_1\n",
      "[INFO][2022/02/23 04:48:08 PM] Loading objects/obj_type_1 (499755, 5) (499755 filtered: None)\n",
      "[INFO][2022/02/23 04:48:14 PM] Writing properties/obj_type_1/area (499755,)\n",
      "[INFO][2022/02/23 04:48:14 PM] Writing properties/obj_type_1/class id (499755,)\n",
      "[INFO][2022/02/23 04:48:14 PM] Writing properties/obj_type_1/prob_interphase (499755,)\n",
      "[INFO][2022/02/23 04:48:14 PM] Writing properties/obj_type_1/prob_prometaphase (499755,)\n",
      "[INFO][2022/02/23 04:48:14 PM] Writing properties/obj_type_1/prob_metaphase (499755,)\n",
      "[INFO][2022/02/23 04:48:14 PM] Writing properties/obj_type_1/prob_anaphase (499755,)\n",
      "[INFO][2022/02/23 04:48:14 PM] Writing properties/obj_type_1/prob_apoptosis (499755,)\n",
      "[INFO][2022/02/23 04:48:14 PM] Closing HDF file: /home/nathan/data/kraken/ras/ND0012/Pos9/untrans_no_bg_objects_type_1.h5\n",
      "[INFO][2022/02/23 04:48:14 PM] Opening HDF file: /home/nathan/data/kraken/ras/ND0012/Pos9/untrans_no_bg_objects_type_2.h5...\n",
      "[INFO][2022/02/23 04:48:16 PM] Writing objects/obj_type_2\n",
      "[INFO][2022/02/23 04:48:16 PM] Writing labels/obj_type_2\n",
      "[INFO][2022/02/23 04:48:16 PM] Loading objects/obj_type_2 (179691, 5) (179691 filtered: None)\n",
      "[INFO][2022/02/23 04:48:18 PM] Writing properties/obj_type_2/area (179691,)\n",
      "[INFO][2022/02/23 04:48:18 PM] Writing properties/obj_type_2/class id (179691,)\n",
      "[INFO][2022/02/23 04:48:18 PM] Writing properties/obj_type_2/prob_interphase (179691,)\n",
      "[INFO][2022/02/23 04:48:18 PM] Writing properties/obj_type_2/prob_prometaphase (179691,)\n",
      "[INFO][2022/02/23 04:48:18 PM] Writing properties/obj_type_2/prob_metaphase (179691,)\n",
      "[INFO][2022/02/23 04:48:18 PM] Writing properties/obj_type_2/prob_anaphase (179691,)\n",
      "[INFO][2022/02/23 04:48:18 PM] Writing properties/obj_type_2/prob_apoptosis (179691,)\n",
      "[INFO][2022/02/23 04:48:18 PM] Closing HDF file: /home/nathan/data/kraken/ras/ND0012/Pos9/untrans_no_bg_objects_type_2.h5\n"
     ]
    },
    {
     "name": "stdout",
     "output_type": "stream",
     "text": [
      "Starting ND0012/Pos4\n"
     ]
    },
    {
     "name": "stderr",
     "output_type": "stream",
     "text": [
      "[INFO][2022/02/23 04:48:19 PM] Localizing objects from segmentation...\n",
      "[INFO][2022/02/23 04:52:21 PM] Objects are of type: <class 'dict'>\n",
      "[INFO][2022/02/23 04:52:24 PM] ...Found 463361 objects in 1742 frames.\n"
     ]
    },
    {
     "name": "stdout",
     "output_type": "stream",
     "text": [
      "Classifying objects\n"
     ]
    },
    {
     "data": {
      "application/vnd.jupyter.widget-view+json": {
       "model_id": "e9f9023eb1f343b0a1e29c9e50000ddc",
       "version_major": 2,
       "version_minor": 0
      },
      "text/plain": [
       "  0%|          | 0/1742 [00:00<?, ?it/s]"
      ]
     },
     "metadata": {},
     "output_type": "display_data"
    },
    {
     "data": {
      "application/vnd.jupyter.widget-view+json": {
       "model_id": "1715d59211df49dabfea7de0f44b6a1b",
       "version_major": 2,
       "version_minor": 0
      },
      "text/plain": [
       "  0%|          | 0/1742 [00:00<?, ?it/s]"
      ]
     },
     "metadata": {},
     "output_type": "display_data"
    },
    {
     "name": "stderr",
     "output_type": "stream",
     "text": [
      "[INFO][2022/02/23 06:24:41 PM] Opening HDF file: /home/nathan/data/kraken/ras/ND0012/Pos4/untrans_no_bg_objects_type_1.h5...\n",
      "[INFO][2022/02/23 06:24:44 PM] Writing objects/obj_type_1\n",
      "[INFO][2022/02/23 06:24:44 PM] Writing labels/obj_type_1\n",
      "[INFO][2022/02/23 06:24:44 PM] Loading objects/obj_type_1 (353635, 5) (353635 filtered: None)\n",
      "[INFO][2022/02/23 06:24:48 PM] Writing properties/obj_type_1/area (353635,)\n",
      "[INFO][2022/02/23 06:24:48 PM] Writing properties/obj_type_1/class id (353635,)\n",
      "[INFO][2022/02/23 06:24:48 PM] Writing properties/obj_type_1/prob_interphase (353635,)\n",
      "[INFO][2022/02/23 06:24:48 PM] Writing properties/obj_type_1/prob_prometaphase (353635,)\n",
      "[INFO][2022/02/23 06:24:48 PM] Writing properties/obj_type_1/prob_metaphase (353635,)\n",
      "[INFO][2022/02/23 06:24:48 PM] Writing properties/obj_type_1/prob_anaphase (353635,)\n",
      "[INFO][2022/02/23 06:24:48 PM] Writing properties/obj_type_1/prob_apoptosis (353635,)\n",
      "[INFO][2022/02/23 06:24:48 PM] Closing HDF file: /home/nathan/data/kraken/ras/ND0012/Pos4/untrans_no_bg_objects_type_1.h5\n",
      "[INFO][2022/02/23 06:24:48 PM] Opening HDF file: /home/nathan/data/kraken/ras/ND0012/Pos4/untrans_no_bg_objects_type_2.h5...\n",
      "[INFO][2022/02/23 06:24:50 PM] Writing objects/obj_type_2\n",
      "[INFO][2022/02/23 06:24:50 PM] Writing labels/obj_type_2\n",
      "[INFO][2022/02/23 06:24:50 PM] Loading objects/obj_type_2 (109726, 5) (109726 filtered: None)\n",
      "[INFO][2022/02/23 06:24:51 PM] Writing properties/obj_type_2/area (109726,)\n",
      "[INFO][2022/02/23 06:24:51 PM] Writing properties/obj_type_2/class id (109726,)\n",
      "[INFO][2022/02/23 06:24:51 PM] Writing properties/obj_type_2/prob_interphase (109726,)\n",
      "[INFO][2022/02/23 06:24:51 PM] Writing properties/obj_type_2/prob_prometaphase (109726,)\n",
      "[INFO][2022/02/23 06:24:51 PM] Writing properties/obj_type_2/prob_metaphase (109726,)\n",
      "[INFO][2022/02/23 06:24:51 PM] Writing properties/obj_type_2/prob_anaphase (109726,)\n",
      "[INFO][2022/02/23 06:24:51 PM] Writing properties/obj_type_2/prob_apoptosis (109726,)\n",
      "[INFO][2022/02/23 06:24:51 PM] Closing HDF file: /home/nathan/data/kraken/ras/ND0012/Pos4/untrans_no_bg_objects_type_2.h5\n"
     ]
    },
    {
     "data": {
      "application/vnd.jupyter.widget-view+json": {
       "model_id": "7d07f4d6ba024286b56118f896de25a5",
       "version_major": 2,
       "version_minor": 0
      },
      "text/plain": [
       "  0%|          | 0/15 [00:00<?, ?it/s]"
      ]
     },
     "metadata": {},
     "output_type": "display_data"
    },
    {
     "name": "stdout",
     "output_type": "stream",
     "text": [
      "Starting ND0011/Pos5\n"
     ]
    },
    {
     "name": "stderr",
     "output_type": "stream",
     "text": [
      "[INFO][2022/02/23 06:24:53 PM] Localizing objects from segmentation...\n",
      "[INFO][2022/02/23 06:29:27 PM] Objects are of type: <class 'dict'>\n",
      "[INFO][2022/02/23 06:29:32 PM] ...Found 702135 objects in 1639 frames.\n"
     ]
    },
    {
     "name": "stdout",
     "output_type": "stream",
     "text": [
      "Classifying objects\n"
     ]
    },
    {
     "data": {
      "application/vnd.jupyter.widget-view+json": {
       "model_id": "9711074205c940e49418920131f64c78",
       "version_major": 2,
       "version_minor": 0
      },
      "text/plain": [
       "  0%|          | 0/1639 [00:00<?, ?it/s]"
      ]
     },
     "metadata": {},
     "output_type": "display_data"
    },
    {
     "data": {
      "application/vnd.jupyter.widget-view+json": {
       "model_id": "71d19a7618ec40279e271957dd55ce85",
       "version_major": 2,
       "version_minor": 0
      },
      "text/plain": [
       "  0%|          | 0/1639 [00:00<?, ?it/s]"
      ]
     },
     "metadata": {},
     "output_type": "display_data"
    },
    {
     "name": "stderr",
     "output_type": "stream",
     "text": [
      "[INFO][2022/02/23 08:06:27 PM] Opening HDF file: /home/nathan/data/kraken/ras/ND0011/Pos5/untrans_no_bg_objects_type_1.h5...\n",
      "[INFO][2022/02/23 08:06:33 PM] Writing objects/obj_type_1\n",
      "[INFO][2022/02/23 08:06:33 PM] Writing labels/obj_type_1\n",
      "[INFO][2022/02/23 08:06:33 PM] Loading objects/obj_type_1 (675850, 5) (675850 filtered: None)\n",
      "[INFO][2022/02/23 08:06:41 PM] Writing properties/obj_type_1/area (675850,)\n",
      "[INFO][2022/02/23 08:06:41 PM] Writing properties/obj_type_1/class id (675850,)\n",
      "[INFO][2022/02/23 08:06:41 PM] Writing properties/obj_type_1/prob_interphase (675850,)\n",
      "[INFO][2022/02/23 08:06:41 PM] Writing properties/obj_type_1/prob_prometaphase (675850,)\n",
      "[INFO][2022/02/23 08:06:42 PM] Writing properties/obj_type_1/prob_metaphase (675850,)\n",
      "[INFO][2022/02/23 08:06:42 PM] Writing properties/obj_type_1/prob_anaphase (675850,)\n",
      "[INFO][2022/02/23 08:06:42 PM] Writing properties/obj_type_1/prob_apoptosis (675850,)\n",
      "[INFO][2022/02/23 08:06:42 PM] Closing HDF file: /home/nathan/data/kraken/ras/ND0011/Pos5/untrans_no_bg_objects_type_1.h5\n",
      "[INFO][2022/02/23 08:06:42 PM] Opening HDF file: /home/nathan/data/kraken/ras/ND0011/Pos5/untrans_no_bg_objects_type_2.h5...\n",
      "[INFO][2022/02/23 08:06:42 PM] Writing objects/obj_type_2\n",
      "[INFO][2022/02/23 08:06:42 PM] Writing labels/obj_type_2\n",
      "[INFO][2022/02/23 08:06:42 PM] Loading objects/obj_type_2 (26285, 5) (26285 filtered: None)\n",
      "[INFO][2022/02/23 08:06:42 PM] Writing properties/obj_type_2/area (26285,)\n",
      "[INFO][2022/02/23 08:06:42 PM] Writing properties/obj_type_2/class id (26285,)\n",
      "[INFO][2022/02/23 08:06:42 PM] Writing properties/obj_type_2/prob_interphase (26285,)\n",
      "[INFO][2022/02/23 08:06:42 PM] Writing properties/obj_type_2/prob_prometaphase (26285,)\n",
      "[INFO][2022/02/23 08:06:42 PM] Writing properties/obj_type_2/prob_metaphase (26285,)\n",
      "[INFO][2022/02/23 08:06:42 PM] Writing properties/obj_type_2/prob_anaphase (26285,)\n",
      "[INFO][2022/02/23 08:06:42 PM] Writing properties/obj_type_2/prob_apoptosis (26285,)\n",
      "[INFO][2022/02/23 08:06:42 PM] Closing HDF file: /home/nathan/data/kraken/ras/ND0011/Pos5/untrans_no_bg_objects_type_2.h5\n"
     ]
    },
    {
     "name": "stdout",
     "output_type": "stream",
     "text": [
      "Starting ND0011/Pos11\n"
     ]
    },
    {
     "name": "stderr",
     "output_type": "stream",
     "text": [
      "[INFO][2022/02/23 08:06:44 PM] Localizing objects from segmentation...\n",
      "[INFO][2022/02/23 08:10:13 PM] Objects are of type: <class 'dict'>\n",
      "[INFO][2022/02/23 08:10:13 PM] ...Found 2411 objects in 1644 frames.\n"
     ]
    },
    {
     "name": "stdout",
     "output_type": "stream",
     "text": [
      "Classifying objects\n"
     ]
    },
    {
     "data": {
      "application/vnd.jupyter.widget-view+json": {
       "model_id": "3013cf84b5004b4b94ba6f0ac5f05b53",
       "version_major": 2,
       "version_minor": 0
      },
      "text/plain": [
       "  0%|          | 0/1644 [00:00<?, ?it/s]"
      ]
     },
     "metadata": {},
     "output_type": "display_data"
    },
    {
     "data": {
      "application/vnd.jupyter.widget-view+json": {
       "model_id": "0d17bbc1d4954093a4f7f2b355e6f0f8",
       "version_major": 2,
       "version_minor": 0
      },
      "text/plain": [
       "  0%|          | 0/1644 [00:00<?, ?it/s]"
      ]
     },
     "metadata": {},
     "output_type": "display_data"
    },
    {
     "name": "stderr",
     "output_type": "stream",
     "text": [
      "[INFO][2022/02/23 09:06:27 PM] Opening HDF file: /home/nathan/data/kraken/ras/ND0011/Pos11/untrans_no_bg_objects_type_1.h5...\n",
      "[INFO][2022/02/23 09:06:27 PM] Writing objects/obj_type_1\n",
      "[INFO][2022/02/23 09:06:27 PM] Writing labels/obj_type_1\n",
      "[INFO][2022/02/23 09:06:27 PM] Loading objects/obj_type_1 (2399, 5) (2399 filtered: None)\n",
      "[INFO][2022/02/23 09:06:27 PM] Writing properties/obj_type_1/area (2399,)\n",
      "[INFO][2022/02/23 09:06:27 PM] Writing properties/obj_type_1/class id (2399,)\n",
      "[INFO][2022/02/23 09:06:27 PM] Writing properties/obj_type_1/prob_interphase (2399,)\n",
      "[INFO][2022/02/23 09:06:27 PM] Writing properties/obj_type_1/prob_prometaphase (2399,)\n",
      "[INFO][2022/02/23 09:06:27 PM] Writing properties/obj_type_1/prob_metaphase (2399,)\n",
      "[INFO][2022/02/23 09:06:27 PM] Writing properties/obj_type_1/prob_anaphase (2399,)\n",
      "[INFO][2022/02/23 09:06:27 PM] Writing properties/obj_type_1/prob_apoptosis (2399,)\n",
      "[INFO][2022/02/23 09:06:27 PM] Closing HDF file: /home/nathan/data/kraken/ras/ND0011/Pos11/untrans_no_bg_objects_type_1.h5\n",
      "[INFO][2022/02/23 09:06:27 PM] Opening HDF file: /home/nathan/data/kraken/ras/ND0011/Pos11/untrans_no_bg_objects_type_2.h5...\n",
      "[INFO][2022/02/23 09:06:27 PM] Writing objects/obj_type_2\n",
      "[INFO][2022/02/23 09:06:27 PM] Writing labels/obj_type_2\n",
      "[INFO][2022/02/23 09:06:27 PM] Loading objects/obj_type_2 (12, 5) (12 filtered: None)\n",
      "[INFO][2022/02/23 09:06:27 PM] Writing properties/obj_type_2/area (12,)\n",
      "[INFO][2022/02/23 09:06:27 PM] Writing properties/obj_type_2/class id (12,)\n",
      "[INFO][2022/02/23 09:06:27 PM] Writing properties/obj_type_2/prob_interphase (12,)\n",
      "[INFO][2022/02/23 09:06:27 PM] Writing properties/obj_type_2/prob_prometaphase (12,)\n",
      "[INFO][2022/02/23 09:06:27 PM] Writing properties/obj_type_2/prob_metaphase (12,)\n",
      "[INFO][2022/02/23 09:06:27 PM] Writing properties/obj_type_2/prob_anaphase (12,)\n",
      "[INFO][2022/02/23 09:06:27 PM] Writing properties/obj_type_2/prob_apoptosis (12,)\n",
      "[INFO][2022/02/23 09:06:27 PM] Closing HDF file: /home/nathan/data/kraken/ras/ND0011/Pos11/untrans_no_bg_objects_type_2.h5\n"
     ]
    },
    {
     "name": "stdout",
     "output_type": "stream",
     "text": [
      "Starting ND0011/Pos1\n"
     ]
    },
    {
     "name": "stderr",
     "output_type": "stream",
     "text": [
      "[INFO][2022/02/23 09:06:28 PM] Localizing objects from segmentation...\n",
      "[INFO][2022/02/23 09:09:44 PM] Objects are of type: <class 'dict'>\n",
      "[INFO][2022/02/23 09:09:46 PM] ...Found 281844 objects in 1640 frames.\n"
     ]
    },
    {
     "name": "stdout",
     "output_type": "stream",
     "text": [
      "Classifying objects\n"
     ]
    },
    {
     "data": {
      "application/vnd.jupyter.widget-view+json": {
       "model_id": "5556d6b68c9841ad81aed86cb019281d",
       "version_major": 2,
       "version_minor": 0
      },
      "text/plain": [
       "  0%|          | 0/1640 [00:00<?, ?it/s]"
      ]
     },
     "metadata": {},
     "output_type": "display_data"
    },
    {
     "data": {
      "application/vnd.jupyter.widget-view+json": {
       "model_id": "5835950ebc354d8593cc0d3d14682230",
       "version_major": 2,
       "version_minor": 0
      },
      "text/plain": [
       "  0%|          | 0/1640 [00:00<?, ?it/s]"
      ]
     },
     "metadata": {},
     "output_type": "display_data"
    },
    {
     "name": "stderr",
     "output_type": "stream",
     "text": [
      "[INFO][2022/02/23 10:20:31 PM] Opening HDF file: /home/nathan/data/kraken/ras/ND0011/Pos1/untrans_no_bg_objects_type_1.h5...\n",
      "[INFO][2022/02/23 10:20:31 PM] Writing objects/obj_type_1\n",
      "[INFO][2022/02/23 10:20:31 PM] Writing labels/obj_type_1\n",
      "[INFO][2022/02/23 10:20:31 PM] Loading objects/obj_type_1 (542, 5) (542 filtered: None)\n",
      "[INFO][2022/02/23 10:20:31 PM] Writing properties/obj_type_1/area (542,)\n",
      "[INFO][2022/02/23 10:20:31 PM] Writing properties/obj_type_1/class id (542,)\n",
      "[INFO][2022/02/23 10:20:31 PM] Writing properties/obj_type_1/prob_interphase (542,)\n",
      "[INFO][2022/02/23 10:20:31 PM] Writing properties/obj_type_1/prob_prometaphase (542,)\n",
      "[INFO][2022/02/23 10:20:31 PM] Writing properties/obj_type_1/prob_metaphase (542,)\n",
      "[INFO][2022/02/23 10:20:31 PM] Writing properties/obj_type_1/prob_anaphase (542,)\n",
      "[INFO][2022/02/23 10:20:31 PM] Writing properties/obj_type_1/prob_apoptosis (542,)\n",
      "[INFO][2022/02/23 10:20:31 PM] Closing HDF file: /home/nathan/data/kraken/ras/ND0011/Pos1/untrans_no_bg_objects_type_1.h5\n",
      "[INFO][2022/02/23 10:20:31 PM] Opening HDF file: /home/nathan/data/kraken/ras/ND0011/Pos1/untrans_no_bg_objects_type_2.h5...\n",
      "[INFO][2022/02/23 10:20:34 PM] Writing objects/obj_type_2\n",
      "[INFO][2022/02/23 10:20:34 PM] Writing labels/obj_type_2\n",
      "[INFO][2022/02/23 10:20:34 PM] Loading objects/obj_type_2 (281302, 5) (281302 filtered: None)\n",
      "[INFO][2022/02/23 10:20:37 PM] Writing properties/obj_type_2/area (281302,)\n",
      "[INFO][2022/02/23 10:20:37 PM] Writing properties/obj_type_2/class id (281302,)\n",
      "[INFO][2022/02/23 10:20:37 PM] Writing properties/obj_type_2/prob_interphase (281302,)\n",
      "[INFO][2022/02/23 10:20:37 PM] Writing properties/obj_type_2/prob_prometaphase (281302,)\n",
      "[INFO][2022/02/23 10:20:37 PM] Writing properties/obj_type_2/prob_metaphase (281302,)\n",
      "[INFO][2022/02/23 10:20:37 PM] Writing properties/obj_type_2/prob_anaphase (281302,)\n",
      "[INFO][2022/02/23 10:20:37 PM] Writing properties/obj_type_2/prob_apoptosis (281302,)\n",
      "[INFO][2022/02/23 10:20:37 PM] Closing HDF file: /home/nathan/data/kraken/ras/ND0011/Pos1/untrans_no_bg_objects_type_2.h5\n"
     ]
    },
    {
     "name": "stdout",
     "output_type": "stream",
     "text": [
      "Starting ND0011/Pos8\n"
     ]
    },
    {
     "name": "stderr",
     "output_type": "stream",
     "text": [
      "[INFO][2022/02/23 10:20:40 PM] Localizing objects from segmentation...\n",
      "[INFO][2022/02/23 10:23:03 PM] Objects are of type: <class 'dict'>\n",
      "[INFO][2022/02/23 10:23:03 PM] ...Found 2502 objects in 1645 frames.\n"
     ]
    },
    {
     "name": "stdout",
     "output_type": "stream",
     "text": [
      "Classifying objects\n"
     ]
    },
    {
     "data": {
      "application/vnd.jupyter.widget-view+json": {
       "model_id": "f51fa0e1d94540dcbc5a9bd477067f19",
       "version_major": 2,
       "version_minor": 0
      },
      "text/plain": [
       "  0%|          | 0/1645 [00:00<?, ?it/s]"
      ]
     },
     "metadata": {},
     "output_type": "display_data"
    },
    {
     "data": {
      "application/vnd.jupyter.widget-view+json": {
       "model_id": "e424b4d20f4c406d8d5c8cec9e1163ed",
       "version_major": 2,
       "version_minor": 0
      },
      "text/plain": [
       "  0%|          | 0/1645 [00:00<?, ?it/s]"
      ]
     },
     "metadata": {},
     "output_type": "display_data"
    },
    {
     "name": "stderr",
     "output_type": "stream",
     "text": [
      "[INFO][2022/02/23 11:19:31 PM] Opening HDF file: /home/nathan/data/kraken/ras/ND0011/Pos8/untrans_no_bg_objects_type_1.h5...\n",
      "[INFO][2022/02/23 11:19:31 PM] Writing objects/obj_type_1\n",
      "[INFO][2022/02/23 11:19:31 PM] Writing labels/obj_type_1\n",
      "[INFO][2022/02/23 11:19:31 PM] Loading objects/obj_type_1 (2491, 5) (2491 filtered: None)\n",
      "[INFO][2022/02/23 11:19:31 PM] Writing properties/obj_type_1/area (2491,)\n",
      "[INFO][2022/02/23 11:19:31 PM] Writing properties/obj_type_1/class id (2491,)\n",
      "[INFO][2022/02/23 11:19:31 PM] Writing properties/obj_type_1/prob_interphase (2491,)\n",
      "[INFO][2022/02/23 11:19:31 PM] Writing properties/obj_type_1/prob_prometaphase (2491,)\n",
      "[INFO][2022/02/23 11:19:31 PM] Writing properties/obj_type_1/prob_metaphase (2491,)\n",
      "[INFO][2022/02/23 11:19:31 PM] Writing properties/obj_type_1/prob_anaphase (2491,)\n",
      "[INFO][2022/02/23 11:19:31 PM] Writing properties/obj_type_1/prob_apoptosis (2491,)\n",
      "[INFO][2022/02/23 11:19:31 PM] Closing HDF file: /home/nathan/data/kraken/ras/ND0011/Pos8/untrans_no_bg_objects_type_1.h5\n",
      "[INFO][2022/02/23 11:19:31 PM] Opening HDF file: /home/nathan/data/kraken/ras/ND0011/Pos8/untrans_no_bg_objects_type_2.h5...\n",
      "[INFO][2022/02/23 11:19:31 PM] Writing objects/obj_type_2\n",
      "[INFO][2022/02/23 11:19:31 PM] Writing labels/obj_type_2\n",
      "[INFO][2022/02/23 11:19:31 PM] Loading objects/obj_type_2 (11, 5) (11 filtered: None)\n",
      "[INFO][2022/02/23 11:19:31 PM] Writing properties/obj_type_2/area (11,)\n",
      "[INFO][2022/02/23 11:19:31 PM] Writing properties/obj_type_2/class id (11,)\n",
      "[INFO][2022/02/23 11:19:31 PM] Writing properties/obj_type_2/prob_interphase (11,)\n",
      "[INFO][2022/02/23 11:19:31 PM] Writing properties/obj_type_2/prob_prometaphase (11,)\n",
      "[INFO][2022/02/23 11:19:31 PM] Writing properties/obj_type_2/prob_metaphase (11,)\n",
      "[INFO][2022/02/23 11:19:31 PM] Writing properties/obj_type_2/prob_anaphase (11,)\n",
      "[INFO][2022/02/23 11:19:31 PM] Writing properties/obj_type_2/prob_apoptosis (11,)\n",
      "[INFO][2022/02/23 11:19:31 PM] Closing HDF file: /home/nathan/data/kraken/ras/ND0011/Pos8/untrans_no_bg_objects_type_2.h5\n"
     ]
    },
    {
     "name": "stdout",
     "output_type": "stream",
     "text": [
      "Starting ND0011/Pos10\n"
     ]
    },
    {
     "name": "stderr",
     "output_type": "stream",
     "text": [
      "[INFO][2022/02/23 11:19:33 PM] Localizing objects from segmentation...\n",
      "[INFO][2022/02/23 11:21:59 PM] Objects are of type: <class 'dict'>\n",
      "[INFO][2022/02/23 11:21:59 PM] ...Found 1174 objects in 1615 frames.\n"
     ]
    },
    {
     "name": "stdout",
     "output_type": "stream",
     "text": [
      "Classifying objects\n"
     ]
    },
    {
     "data": {
      "application/vnd.jupyter.widget-view+json": {
       "model_id": "a75a63b419bd4287bf91c8b920ebf631",
       "version_major": 2,
       "version_minor": 0
      },
      "text/plain": [
       "  0%|          | 0/1640 [00:00<?, ?it/s]"
      ]
     },
     "metadata": {},
     "output_type": "display_data"
    },
    {
     "data": {
      "application/vnd.jupyter.widget-view+json": {
       "model_id": "702329da36f5417e81f95cce81360458",
       "version_major": 2,
       "version_minor": 0
      },
      "text/plain": [
       "  0%|          | 0/1640 [00:00<?, ?it/s]"
      ]
     },
     "metadata": {},
     "output_type": "display_data"
    },
    {
     "name": "stderr",
     "output_type": "stream",
     "text": [
      "[INFO][2022/02/24 12:18:27 AM] Opening HDF file: /home/nathan/data/kraken/ras/ND0011/Pos10/untrans_no_bg_objects_type_1.h5...\n",
      "[INFO][2022/02/24 12:18:27 AM] Writing objects/obj_type_1\n",
      "[INFO][2022/02/24 12:18:27 AM] Writing labels/obj_type_1\n",
      "[INFO][2022/02/24 12:18:27 AM] Loading objects/obj_type_1 (1168, 5) (1168 filtered: None)\n",
      "[INFO][2022/02/24 12:18:27 AM] Writing properties/obj_type_1/area (1168,)\n",
      "[INFO][2022/02/24 12:18:27 AM] Writing properties/obj_type_1/class id (1168,)\n",
      "[INFO][2022/02/24 12:18:27 AM] Writing properties/obj_type_1/prob_interphase (1168,)\n",
      "[INFO][2022/02/24 12:18:27 AM] Writing properties/obj_type_1/prob_prometaphase (1168,)\n",
      "[INFO][2022/02/24 12:18:27 AM] Writing properties/obj_type_1/prob_metaphase (1168,)\n",
      "[INFO][2022/02/24 12:18:27 AM] Writing properties/obj_type_1/prob_anaphase (1168,)\n",
      "[INFO][2022/02/24 12:18:27 AM] Writing properties/obj_type_1/prob_apoptosis (1168,)\n",
      "[INFO][2022/02/24 12:18:27 AM] Closing HDF file: /home/nathan/data/kraken/ras/ND0011/Pos10/untrans_no_bg_objects_type_1.h5\n",
      "[INFO][2022/02/24 12:18:27 AM] Opening HDF file: /home/nathan/data/kraken/ras/ND0011/Pos10/untrans_no_bg_objects_type_2.h5...\n",
      "[INFO][2022/02/24 12:18:27 AM] Writing objects/obj_type_2\n",
      "[INFO][2022/02/24 12:18:27 AM] Writing labels/obj_type_2\n",
      "[INFO][2022/02/24 12:18:27 AM] Loading objects/obj_type_2 (6, 5) (6 filtered: None)\n",
      "[INFO][2022/02/24 12:18:27 AM] Writing properties/obj_type_2/area (6,)\n",
      "[INFO][2022/02/24 12:18:27 AM] Writing properties/obj_type_2/class id (6,)\n",
      "[INFO][2022/02/24 12:18:27 AM] Writing properties/obj_type_2/prob_interphase (6,)\n",
      "[INFO][2022/02/24 12:18:27 AM] Writing properties/obj_type_2/prob_prometaphase (6,)\n",
      "[INFO][2022/02/24 12:18:27 AM] Writing properties/obj_type_2/prob_metaphase (6,)\n",
      "[INFO][2022/02/24 12:18:27 AM] Writing properties/obj_type_2/prob_anaphase (6,)\n",
      "[INFO][2022/02/24 12:18:27 AM] Writing properties/obj_type_2/prob_apoptosis (6,)\n",
      "[INFO][2022/02/24 12:18:27 AM] Closing HDF file: /home/nathan/data/kraken/ras/ND0011/Pos10/untrans_no_bg_objects_type_2.h5\n"
     ]
    },
    {
     "name": "stdout",
     "output_type": "stream",
     "text": [
      "Starting ND0011/Pos0\n"
     ]
    },
    {
     "name": "stderr",
     "output_type": "stream",
     "text": [
      "[INFO][2022/02/24 12:18:28 AM] Localizing objects from segmentation...\n",
      "[INFO][2022/02/24 12:21:48 AM] Objects are of type: <class 'dict'>\n",
      "[INFO][2022/02/24 12:21:49 AM] ...Found 222287 objects in 1637 frames.\n"
     ]
    },
    {
     "name": "stdout",
     "output_type": "stream",
     "text": [
      "Classifying objects\n"
     ]
    },
    {
     "data": {
      "application/vnd.jupyter.widget-view+json": {
       "model_id": "1f6a5610f170457f9e26ad7da79a9266",
       "version_major": 2,
       "version_minor": 0
      },
      "text/plain": [
       "  0%|          | 0/1637 [00:00<?, ?it/s]"
      ]
     },
     "metadata": {},
     "output_type": "display_data"
    },
    {
     "data": {
      "application/vnd.jupyter.widget-view+json": {
       "model_id": "7a2bf91e8fa3462bb814c4cc30f33df6",
       "version_major": 2,
       "version_minor": 0
      },
      "text/plain": [
       "  0%|          | 0/1637 [00:00<?, ?it/s]"
      ]
     },
     "metadata": {},
     "output_type": "display_data"
    },
    {
     "name": "stderr",
     "output_type": "stream",
     "text": [
      "[INFO][2022/02/24 01:28:23 AM] Opening HDF file: /home/nathan/data/kraken/ras/ND0011/Pos0/untrans_no_bg_objects_type_1.h5...\n",
      "[INFO][2022/02/24 01:28:23 AM] Writing objects/obj_type_1\n",
      "[INFO][2022/02/24 01:28:23 AM] Writing labels/obj_type_1\n",
      "[INFO][2022/02/24 01:28:23 AM] Loading objects/obj_type_1 (866, 5) (866 filtered: None)\n",
      "[INFO][2022/02/24 01:28:23 AM] Writing properties/obj_type_1/area (866,)\n",
      "[INFO][2022/02/24 01:28:23 AM] Writing properties/obj_type_1/class id (866,)\n",
      "[INFO][2022/02/24 01:28:23 AM] Writing properties/obj_type_1/prob_interphase (866,)\n",
      "[INFO][2022/02/24 01:28:23 AM] Writing properties/obj_type_1/prob_prometaphase (866,)\n",
      "[INFO][2022/02/24 01:28:23 AM] Writing properties/obj_type_1/prob_metaphase (866,)\n",
      "[INFO][2022/02/24 01:28:23 AM] Writing properties/obj_type_1/prob_anaphase (866,)\n",
      "[INFO][2022/02/24 01:28:23 AM] Writing properties/obj_type_1/prob_apoptosis (866,)\n",
      "[INFO][2022/02/24 01:28:23 AM] Closing HDF file: /home/nathan/data/kraken/ras/ND0011/Pos0/untrans_no_bg_objects_type_1.h5\n",
      "[INFO][2022/02/24 01:28:23 AM] Opening HDF file: /home/nathan/data/kraken/ras/ND0011/Pos0/untrans_no_bg_objects_type_2.h5...\n",
      "[INFO][2022/02/24 01:28:24 AM] Writing objects/obj_type_2\n",
      "[INFO][2022/02/24 01:28:24 AM] Writing labels/obj_type_2\n",
      "[INFO][2022/02/24 01:28:24 AM] Loading objects/obj_type_2 (221421, 5) (221421 filtered: None)\n",
      "[INFO][2022/02/24 01:28:27 AM] Writing properties/obj_type_2/area (221421,)\n",
      "[INFO][2022/02/24 01:28:27 AM] Writing properties/obj_type_2/class id (221421,)\n",
      "[INFO][2022/02/24 01:28:27 AM] Writing properties/obj_type_2/prob_interphase (221421,)\n",
      "[INFO][2022/02/24 01:28:27 AM] Writing properties/obj_type_2/prob_prometaphase (221421,)\n",
      "[INFO][2022/02/24 01:28:27 AM] Writing properties/obj_type_2/prob_metaphase (221421,)\n",
      "[INFO][2022/02/24 01:28:27 AM] Writing properties/obj_type_2/prob_anaphase (221421,)\n",
      "[INFO][2022/02/24 01:28:27 AM] Writing properties/obj_type_2/prob_apoptosis (221421,)\n",
      "[INFO][2022/02/24 01:28:27 AM] Closing HDF file: /home/nathan/data/kraken/ras/ND0011/Pos0/untrans_no_bg_objects_type_2.h5\n"
     ]
    },
    {
     "name": "stdout",
     "output_type": "stream",
     "text": [
      "Starting ND0011/Pos2\n"
     ]
    },
    {
     "name": "stderr",
     "output_type": "stream",
     "text": [
      "[INFO][2022/02/24 01:28:29 AM] Localizing objects from segmentation...\n",
      "[INFO][2022/02/24 01:31:58 AM] Objects are of type: <class 'dict'>\n",
      "[INFO][2022/02/24 01:32:03 AM] ...Found 678907 objects in 1636 frames.\n"
     ]
    },
    {
     "name": "stdout",
     "output_type": "stream",
     "text": [
      "Classifying objects\n"
     ]
    },
    {
     "data": {
      "application/vnd.jupyter.widget-view+json": {
       "model_id": "407318747e7547edb1f3ca3dc4c13241",
       "version_major": 2,
       "version_minor": 0
      },
      "text/plain": [
       "  0%|          | 0/1636 [00:00<?, ?it/s]"
      ]
     },
     "metadata": {},
     "output_type": "display_data"
    },
    {
     "data": {
      "application/vnd.jupyter.widget-view+json": {
       "model_id": "30e82ea438744fef9b41f99c322004a7",
       "version_major": 2,
       "version_minor": 0
      },
      "text/plain": [
       "  0%|          | 0/1636 [00:00<?, ?it/s]"
      ]
     },
     "metadata": {},
     "output_type": "display_data"
    },
    {
     "name": "stderr",
     "output_type": "stream",
     "text": [
      "[INFO][2022/02/24 03:02:13 AM] Opening HDF file: /home/nathan/data/kraken/ras/ND0011/Pos2/untrans_no_bg_objects_type_1.h5...\n",
      "[INFO][2022/02/24 03:02:13 AM] Writing objects/obj_type_1\n",
      "[INFO][2022/02/24 03:02:13 AM] Writing labels/obj_type_1\n",
      "[INFO][2022/02/24 03:02:13 AM] Loading objects/obj_type_1 (1208, 5) (1208 filtered: None)\n",
      "[INFO][2022/02/24 03:02:13 AM] Writing properties/obj_type_1/area (1208,)\n",
      "[INFO][2022/02/24 03:02:13 AM] Writing properties/obj_type_1/class id (1208,)\n",
      "[INFO][2022/02/24 03:02:13 AM] Writing properties/obj_type_1/prob_interphase (1208,)\n",
      "[INFO][2022/02/24 03:02:13 AM] Writing properties/obj_type_1/prob_prometaphase (1208,)\n",
      "[INFO][2022/02/24 03:02:13 AM] Writing properties/obj_type_1/prob_metaphase (1208,)\n",
      "[INFO][2022/02/24 03:02:13 AM] Writing properties/obj_type_1/prob_anaphase (1208,)\n",
      "[INFO][2022/02/24 03:02:13 AM] Writing properties/obj_type_1/prob_apoptosis (1208,)\n",
      "[INFO][2022/02/24 03:02:13 AM] Closing HDF file: /home/nathan/data/kraken/ras/ND0011/Pos2/untrans_no_bg_objects_type_1.h5\n",
      "[INFO][2022/02/24 03:02:13 AM] Opening HDF file: /home/nathan/data/kraken/ras/ND0011/Pos2/untrans_no_bg_objects_type_2.h5...\n",
      "[INFO][2022/02/24 03:02:18 AM] Writing objects/obj_type_2\n",
      "[INFO][2022/02/24 03:02:19 AM] Writing labels/obj_type_2\n",
      "[INFO][2022/02/24 03:02:19 AM] Loading objects/obj_type_2 (677699, 5) (677699 filtered: None)\n",
      "[INFO][2022/02/24 03:02:26 AM] Writing properties/obj_type_2/area (677699,)\n",
      "[INFO][2022/02/24 03:02:26 AM] Writing properties/obj_type_2/class id (677699,)\n",
      "[INFO][2022/02/24 03:02:26 AM] Writing properties/obj_type_2/prob_interphase (677699,)\n",
      "[INFO][2022/02/24 03:02:26 AM] Writing properties/obj_type_2/prob_prometaphase (677699,)\n",
      "[INFO][2022/02/24 03:02:26 AM] Writing properties/obj_type_2/prob_metaphase (677699,)\n",
      "[INFO][2022/02/24 03:02:27 AM] Writing properties/obj_type_2/prob_anaphase (677699,)\n",
      "[INFO][2022/02/24 03:02:27 AM] Writing properties/obj_type_2/prob_apoptosis (677699,)\n",
      "[INFO][2022/02/24 03:02:27 AM] Closing HDF file: /home/nathan/data/kraken/ras/ND0011/Pos2/untrans_no_bg_objects_type_2.h5\n"
     ]
    },
    {
     "name": "stdout",
     "output_type": "stream",
     "text": [
      "Starting ND0011/Pos6\n"
     ]
    },
    {
     "name": "stderr",
     "output_type": "stream",
     "text": [
      "[INFO][2022/02/24 03:02:28 AM] Localizing objects from segmentation...\n",
      "[INFO][2022/02/24 03:06:07 AM] Objects are of type: <class 'dict'>\n",
      "[INFO][2022/02/24 03:06:09 AM] ...Found 314385 objects in 1638 frames.\n"
     ]
    },
    {
     "name": "stdout",
     "output_type": "stream",
     "text": [
      "Classifying objects\n"
     ]
    },
    {
     "data": {
      "application/vnd.jupyter.widget-view+json": {
       "model_id": "4ff9fca10bfa435bb1bb055622e0d346",
       "version_major": 2,
       "version_minor": 0
      },
      "text/plain": [
       "  0%|          | 0/1638 [00:00<?, ?it/s]"
      ]
     },
     "metadata": {},
     "output_type": "display_data"
    },
    {
     "data": {
      "application/vnd.jupyter.widget-view+json": {
       "model_id": "fedd382edde24f6b9f8ccba60561f388",
       "version_major": 2,
       "version_minor": 0
      },
      "text/plain": [
       "  0%|          | 0/1638 [00:00<?, ?it/s]"
      ]
     },
     "metadata": {},
     "output_type": "display_data"
    },
    {
     "name": "stderr",
     "output_type": "stream",
     "text": [
      "[INFO][2022/02/24 04:19:56 AM] Opening HDF file: /home/nathan/data/kraken/ras/ND0011/Pos6/untrans_no_bg_objects_type_1.h5...\n",
      "[INFO][2022/02/24 04:19:59 AM] Writing objects/obj_type_1\n",
      "[INFO][2022/02/24 04:19:59 AM] Writing labels/obj_type_1\n",
      "[INFO][2022/02/24 04:19:59 AM] Loading objects/obj_type_1 (275452, 5) (275452 filtered: None)\n",
      "[INFO][2022/02/24 04:20:02 AM] Writing properties/obj_type_1/area (275452,)\n",
      "[INFO][2022/02/24 04:20:02 AM] Writing properties/obj_type_1/class id (275452,)\n",
      "[INFO][2022/02/24 04:20:02 AM] Writing properties/obj_type_1/prob_interphase (275452,)\n",
      "[INFO][2022/02/24 04:20:02 AM] Writing properties/obj_type_1/prob_prometaphase (275452,)\n",
      "[INFO][2022/02/24 04:20:02 AM] Writing properties/obj_type_1/prob_metaphase (275452,)\n",
      "[INFO][2022/02/24 04:20:02 AM] Writing properties/obj_type_1/prob_anaphase (275452,)\n",
      "[INFO][2022/02/24 04:20:02 AM] Writing properties/obj_type_1/prob_apoptosis (275452,)\n",
      "[INFO][2022/02/24 04:20:03 AM] Closing HDF file: /home/nathan/data/kraken/ras/ND0011/Pos6/untrans_no_bg_objects_type_1.h5\n",
      "[INFO][2022/02/24 04:20:03 AM] Opening HDF file: /home/nathan/data/kraken/ras/ND0011/Pos6/untrans_no_bg_objects_type_2.h5...\n",
      "[INFO][2022/02/24 04:20:03 AM] Writing objects/obj_type_2\n",
      "[INFO][2022/02/24 04:20:03 AM] Writing labels/obj_type_2\n",
      "[INFO][2022/02/24 04:20:03 AM] Loading objects/obj_type_2 (38933, 5) (38933 filtered: None)\n",
      "[INFO][2022/02/24 04:20:03 AM] Writing properties/obj_type_2/area (38933,)\n",
      "[INFO][2022/02/24 04:20:03 AM] Writing properties/obj_type_2/class id (38933,)\n",
      "[INFO][2022/02/24 04:20:03 AM] Writing properties/obj_type_2/prob_interphase (38933,)\n",
      "[INFO][2022/02/24 04:20:03 AM] Writing properties/obj_type_2/prob_prometaphase (38933,)\n",
      "[INFO][2022/02/24 04:20:03 AM] Writing properties/obj_type_2/prob_metaphase (38933,)\n",
      "[INFO][2022/02/24 04:20:03 AM] Writing properties/obj_type_2/prob_anaphase (38933,)\n",
      "[INFO][2022/02/24 04:20:03 AM] Writing properties/obj_type_2/prob_apoptosis (38933,)\n",
      "[INFO][2022/02/24 04:20:03 AM] Closing HDF file: /home/nathan/data/kraken/ras/ND0011/Pos6/untrans_no_bg_objects_type_2.h5\n"
     ]
    },
    {
     "name": "stdout",
     "output_type": "stream",
     "text": [
      "Starting ND0011/Pos7\n"
     ]
    },
    {
     "name": "stderr",
     "output_type": "stream",
     "text": [
      "[INFO][2022/02/24 04:20:04 AM] Localizing objects from segmentation...\n",
      "[INFO][2022/02/24 04:23:00 AM] Objects are of type: <class 'dict'>\n",
      "[INFO][2022/02/24 04:23:02 AM] ...Found 358794 objects in 1646 frames.\n"
     ]
    },
    {
     "name": "stdout",
     "output_type": "stream",
     "text": [
      "Classifying objects\n"
     ]
    },
    {
     "data": {
      "application/vnd.jupyter.widget-view+json": {
       "model_id": "c6fb8d74da404f1b94ef6b6d645c44db",
       "version_major": 2,
       "version_minor": 0
      },
      "text/plain": [
       "  0%|          | 0/1646 [00:00<?, ?it/s]"
      ]
     },
     "metadata": {},
     "output_type": "display_data"
    },
    {
     "data": {
      "application/vnd.jupyter.widget-view+json": {
       "model_id": "f7e80b403bd340848ec31dc549c82c07",
       "version_major": 2,
       "version_minor": 0
      },
      "text/plain": [
       "  0%|          | 0/1646 [00:00<?, ?it/s]"
      ]
     },
     "metadata": {},
     "output_type": "display_data"
    },
    {
     "name": "stderr",
     "output_type": "stream",
     "text": [
      "[INFO][2022/02/24 05:39:29 AM] Opening HDF file: /home/nathan/data/kraken/ras/ND0011/Pos7/untrans_no_bg_objects_type_1.h5...\n",
      "[INFO][2022/02/24 05:39:31 AM] Writing objects/obj_type_1\n",
      "[INFO][2022/02/24 05:39:31 AM] Writing labels/obj_type_1\n",
      "[INFO][2022/02/24 05:39:31 AM] Loading objects/obj_type_1 (326972, 5) (326972 filtered: None)\n",
      "[INFO][2022/02/24 05:39:35 AM] Writing properties/obj_type_1/area (326972,)\n",
      "[INFO][2022/02/24 05:39:35 AM] Writing properties/obj_type_1/class id (326972,)\n",
      "[INFO][2022/02/24 05:39:35 AM] Writing properties/obj_type_1/prob_interphase (326972,)\n",
      "[INFO][2022/02/24 05:39:35 AM] Writing properties/obj_type_1/prob_prometaphase (326972,)\n",
      "[INFO][2022/02/24 05:39:35 AM] Writing properties/obj_type_1/prob_metaphase (326972,)\n",
      "[INFO][2022/02/24 05:39:35 AM] Writing properties/obj_type_1/prob_anaphase (326972,)\n",
      "[INFO][2022/02/24 05:39:36 AM] Writing properties/obj_type_1/prob_apoptosis (326972,)\n",
      "[INFO][2022/02/24 05:39:36 AM] Closing HDF file: /home/nathan/data/kraken/ras/ND0011/Pos7/untrans_no_bg_objects_type_1.h5\n",
      "[INFO][2022/02/24 05:39:36 AM] Opening HDF file: /home/nathan/data/kraken/ras/ND0011/Pos7/untrans_no_bg_objects_type_2.h5...\n",
      "[INFO][2022/02/24 05:39:36 AM] Writing objects/obj_type_2\n",
      "[INFO][2022/02/24 05:39:36 AM] Writing labels/obj_type_2\n",
      "[INFO][2022/02/24 05:39:36 AM] Loading objects/obj_type_2 (31822, 5) (31822 filtered: None)\n",
      "[INFO][2022/02/24 05:39:36 AM] Writing properties/obj_type_2/area (31822,)\n",
      "[INFO][2022/02/24 05:39:36 AM] Writing properties/obj_type_2/class id (31822,)\n",
      "[INFO][2022/02/24 05:39:36 AM] Writing properties/obj_type_2/prob_interphase (31822,)\n",
      "[INFO][2022/02/24 05:39:36 AM] Writing properties/obj_type_2/prob_prometaphase (31822,)\n",
      "[INFO][2022/02/24 05:39:36 AM] Writing properties/obj_type_2/prob_metaphase (31822,)\n",
      "[INFO][2022/02/24 05:39:36 AM] Writing properties/obj_type_2/prob_anaphase (31822,)\n",
      "[INFO][2022/02/24 05:39:36 AM] Writing properties/obj_type_2/prob_apoptosis (31822,)\n",
      "[INFO][2022/02/24 05:39:36 AM] Closing HDF file: /home/nathan/data/kraken/ras/ND0011/Pos7/untrans_no_bg_objects_type_2.h5\n"
     ]
    },
    {
     "name": "stdout",
     "output_type": "stream",
     "text": [
      "Starting ND0011/Pos9\n"
     ]
    },
    {
     "name": "stderr",
     "output_type": "stream",
     "text": [
      "[INFO][2022/02/24 05:39:37 AM] Localizing objects from segmentation...\n",
      "[INFO][2022/02/24 05:41:43 AM] Objects are of type: <class 'dict'>\n",
      "[INFO][2022/02/24 05:41:43 AM] ...Found 2761 objects in 1646 frames.\n"
     ]
    },
    {
     "name": "stdout",
     "output_type": "stream",
     "text": [
      "Classifying objects\n"
     ]
    },
    {
     "data": {
      "application/vnd.jupyter.widget-view+json": {
       "model_id": "8647c919681044b6a18255585f2856d2",
       "version_major": 2,
       "version_minor": 0
      },
      "text/plain": [
       "  0%|          | 0/1646 [00:00<?, ?it/s]"
      ]
     },
     "metadata": {},
     "output_type": "display_data"
    },
    {
     "data": {
      "application/vnd.jupyter.widget-view+json": {
       "model_id": "d47e603d6bd14a7cbf0c91268577c0d4",
       "version_major": 2,
       "version_minor": 0
      },
      "text/plain": [
       "  0%|          | 0/1646 [00:00<?, ?it/s]"
      ]
     },
     "metadata": {},
     "output_type": "display_data"
    },
    {
     "name": "stderr",
     "output_type": "stream",
     "text": [
      "[INFO][2022/02/24 06:38:19 AM] Opening HDF file: /home/nathan/data/kraken/ras/ND0011/Pos9/untrans_no_bg_objects_type_1.h5...\n",
      "[INFO][2022/02/24 06:38:20 AM] Writing objects/obj_type_1\n",
      "[INFO][2022/02/24 06:38:20 AM] Writing labels/obj_type_1\n",
      "[INFO][2022/02/24 06:38:20 AM] Loading objects/obj_type_1 (2754, 5) (2754 filtered: None)\n",
      "[INFO][2022/02/24 06:38:20 AM] Writing properties/obj_type_1/area (2754,)\n",
      "[INFO][2022/02/24 06:38:20 AM] Writing properties/obj_type_1/class id (2754,)\n",
      "[INFO][2022/02/24 06:38:20 AM] Writing properties/obj_type_1/prob_interphase (2754,)\n",
      "[INFO][2022/02/24 06:38:20 AM] Writing properties/obj_type_1/prob_prometaphase (2754,)\n",
      "[INFO][2022/02/24 06:38:20 AM] Writing properties/obj_type_1/prob_metaphase (2754,)\n",
      "[INFO][2022/02/24 06:38:20 AM] Writing properties/obj_type_1/prob_anaphase (2754,)\n",
      "[INFO][2022/02/24 06:38:20 AM] Writing properties/obj_type_1/prob_apoptosis (2754,)\n",
      "[INFO][2022/02/24 06:38:20 AM] Closing HDF file: /home/nathan/data/kraken/ras/ND0011/Pos9/untrans_no_bg_objects_type_1.h5\n",
      "[INFO][2022/02/24 06:38:20 AM] Opening HDF file: /home/nathan/data/kraken/ras/ND0011/Pos9/untrans_no_bg_objects_type_2.h5...\n",
      "[INFO][2022/02/24 06:38:20 AM] Writing objects/obj_type_2\n",
      "[INFO][2022/02/24 06:38:20 AM] Writing labels/obj_type_2\n",
      "[INFO][2022/02/24 06:38:20 AM] Loading objects/obj_type_2 (7, 5) (7 filtered: None)\n",
      "[INFO][2022/02/24 06:38:20 AM] Writing properties/obj_type_2/area (7,)\n",
      "[INFO][2022/02/24 06:38:20 AM] Writing properties/obj_type_2/class id (7,)\n",
      "[INFO][2022/02/24 06:38:20 AM] Writing properties/obj_type_2/prob_interphase (7,)\n",
      "[INFO][2022/02/24 06:38:20 AM] Writing properties/obj_type_2/prob_prometaphase (7,)\n",
      "[INFO][2022/02/24 06:38:20 AM] Writing properties/obj_type_2/prob_metaphase (7,)\n",
      "[INFO][2022/02/24 06:38:20 AM] Writing properties/obj_type_2/prob_anaphase (7,)\n",
      "[INFO][2022/02/24 06:38:20 AM] Writing properties/obj_type_2/prob_apoptosis (7,)\n",
      "[INFO][2022/02/24 06:38:20 AM] Closing HDF file: /home/nathan/data/kraken/ras/ND0011/Pos9/untrans_no_bg_objects_type_2.h5\n"
     ]
    },
    {
     "name": "stdout",
     "output_type": "stream",
     "text": [
      "Starting ND0011/Pos4\n"
     ]
    },
    {
     "name": "stderr",
     "output_type": "stream",
     "text": [
      "[INFO][2022/02/24 06:38:21 AM] Localizing objects from segmentation...\n",
      "[INFO][2022/02/24 06:41:03 AM] Objects are of type: <class 'dict'>\n",
      "[INFO][2022/02/24 06:41:08 AM] ...Found 619816 objects in 1640 frames.\n"
     ]
    },
    {
     "name": "stdout",
     "output_type": "stream",
     "text": [
      "Classifying objects\n"
     ]
    },
    {
     "data": {
      "application/vnd.jupyter.widget-view+json": {
       "model_id": "0f44b0d5246b408fa857fe03e3d66624",
       "version_major": 2,
       "version_minor": 0
      },
      "text/plain": [
       "  0%|          | 0/1640 [00:00<?, ?it/s]"
      ]
     },
     "metadata": {},
     "output_type": "display_data"
    },
    {
     "data": {
      "application/vnd.jupyter.widget-view+json": {
       "model_id": "a5e9df81d38442f1a63aff74ee055516",
       "version_major": 2,
       "version_minor": 0
      },
      "text/plain": [
       "  0%|          | 0/1640 [00:00<?, ?it/s]"
      ]
     },
     "metadata": {},
     "output_type": "display_data"
    },
    {
     "name": "stderr",
     "output_type": "stream",
     "text": [
      "[INFO][2022/02/24 08:08:20 AM] Opening HDF file: /home/nathan/data/kraken/ras/ND0011/Pos4/untrans_no_bg_objects_type_1.h5...\n",
      "[INFO][2022/02/24 08:08:25 AM] Writing objects/obj_type_1\n",
      "[INFO][2022/02/24 08:08:26 AM] Writing labels/obj_type_1\n",
      "[INFO][2022/02/24 08:08:26 AM] Loading objects/obj_type_1 (553131, 5) (553131 filtered: None)\n",
      "[INFO][2022/02/24 08:08:32 AM] Writing properties/obj_type_1/area (553131,)\n",
      "[INFO][2022/02/24 08:08:32 AM] Writing properties/obj_type_1/class id (553131,)\n",
      "[INFO][2022/02/24 08:08:32 AM] Writing properties/obj_type_1/prob_interphase (553131,)\n",
      "[INFO][2022/02/24 08:08:32 AM] Writing properties/obj_type_1/prob_prometaphase (553131,)\n",
      "[INFO][2022/02/24 08:08:32 AM] Writing properties/obj_type_1/prob_metaphase (553131,)\n",
      "[INFO][2022/02/24 08:08:33 AM] Writing properties/obj_type_1/prob_anaphase (553131,)\n",
      "[INFO][2022/02/24 08:08:33 AM] Writing properties/obj_type_1/prob_apoptosis (553131,)\n",
      "[INFO][2022/02/24 08:08:33 AM] Closing HDF file: /home/nathan/data/kraken/ras/ND0011/Pos4/untrans_no_bg_objects_type_1.h5\n",
      "[INFO][2022/02/24 08:08:33 AM] Opening HDF file: /home/nathan/data/kraken/ras/ND0011/Pos4/untrans_no_bg_objects_type_2.h5...\n",
      "[INFO][2022/02/24 08:08:33 AM] Writing objects/obj_type_2\n",
      "[INFO][2022/02/24 08:08:33 AM] Writing labels/obj_type_2\n",
      "[INFO][2022/02/24 08:08:33 AM] Loading objects/obj_type_2 (66685, 5) (66685 filtered: None)\n",
      "[INFO][2022/02/24 08:08:34 AM] Writing properties/obj_type_2/area (66685,)\n",
      "[INFO][2022/02/24 08:08:34 AM] Writing properties/obj_type_2/class id (66685,)\n",
      "[INFO][2022/02/24 08:08:34 AM] Writing properties/obj_type_2/prob_interphase (66685,)\n",
      "[INFO][2022/02/24 08:08:34 AM] Writing properties/obj_type_2/prob_prometaphase (66685,)\n",
      "[INFO][2022/02/24 08:08:34 AM] Writing properties/obj_type_2/prob_metaphase (66685,)\n",
      "[INFO][2022/02/24 08:08:34 AM] Writing properties/obj_type_2/prob_anaphase (66685,)\n",
      "[INFO][2022/02/24 08:08:34 AM] Writing properties/obj_type_2/prob_apoptosis (66685,)\n",
      "[INFO][2022/02/24 08:08:34 AM] Closing HDF file: /home/nathan/data/kraken/ras/ND0011/Pos4/untrans_no_bg_objects_type_2.h5\n"
     ]
    },
    {
     "data": {
      "application/vnd.jupyter.widget-view+json": {
       "model_id": "0a675a1c04a94b2385042be7a587c324",
       "version_major": 2,
       "version_minor": 0
      },
      "text/plain": [
       "  0%|          | 0/5 [00:00<?, ?it/s]"
      ]
     },
     "metadata": {},
     "output_type": "display_data"
    },
    {
     "data": {
      "application/vnd.jupyter.widget-view+json": {
       "model_id": "131fea35828e418f8c0d9c9f33e98eae",
       "version_major": 2,
       "version_minor": 0
      },
      "text/plain": [
       "  0%|          | 0/15 [00:00<?, ?it/s]"
      ]
     },
     "metadata": {},
     "output_type": "display_data"
    },
    {
     "name": "stdout",
     "output_type": "stream",
     "text": [
      "['/home/nathan/data/kraken/ras/ND0013/Pos13/untrans_objects_type_2.h5', '/home/nathan/data/kraken/ras/ND0013/Pos13/untrans_no_bg_objects_type_2.h5', '/home/nathan/data/kraken/ras/ND0013/Pos13/untrans_objects_type_1.h5', '/home/nathan/data/kraken/ras/ND0013/Pos13/untrans_no_bg_objects_type_1.h5'] file found, skipping ND0013/Pos13\n",
      "['/home/nathan/data/kraken/ras/ND0013/Pos5/untrans_objects_type_2.h5', '/home/nathan/data/kraken/ras/ND0013/Pos5/untrans_no_bg_objects_type_2.h5', '/home/nathan/data/kraken/ras/ND0013/Pos5/untrans_objects_type_1.h5', '/home/nathan/data/kraken/ras/ND0013/Pos5/untrans_no_bg_objects_type_1.h5'] file found, skipping ND0013/Pos5\n",
      "['/home/nathan/data/kraken/ras/ND0013/Pos11/untrans_objects_type_2.h5', '/home/nathan/data/kraken/ras/ND0013/Pos11/untrans_no_bg_objects_type_2.h5', '/home/nathan/data/kraken/ras/ND0013/Pos11/untrans_objects_type_1.h5', '/home/nathan/data/kraken/ras/ND0013/Pos11/untrans_no_bg_objects_type_1.h5'] file found, skipping ND0013/Pos11\n",
      "['/home/nathan/data/kraken/ras/ND0013/Pos14/untrans_objects_type_2.h5', '/home/nathan/data/kraken/ras/ND0013/Pos14/untrans_no_bg_objects_type_2.h5', '/home/nathan/data/kraken/ras/ND0013/Pos14/untrans_objects_type_1.h5', '/home/nathan/data/kraken/ras/ND0013/Pos14/untrans_no_bg_objects_type_1.h5'] file found, skipping ND0013/Pos14\n",
      "['/home/nathan/data/kraken/ras/ND0013/Pos3/untrans_objects_type_2.h5', '/home/nathan/data/kraken/ras/ND0013/Pos3/untrans_no_bg_objects_type_2.h5', '/home/nathan/data/kraken/ras/ND0013/Pos3/untrans_objects_type_1.h5', '/home/nathan/data/kraken/ras/ND0013/Pos3/untrans_no_bg_objects_type_1.h5'] file found, skipping ND0013/Pos3\n",
      "['/home/nathan/data/kraken/ras/ND0013/Pos1/untrans_objects_type_2.h5', '/home/nathan/data/kraken/ras/ND0013/Pos1/untrans_no_bg_objects_type_2.h5', '/home/nathan/data/kraken/ras/ND0013/Pos1/untrans_objects_type_1.h5', '/home/nathan/data/kraken/ras/ND0013/Pos1/untrans_no_bg_objects_type_1.h5'] file found, skipping ND0013/Pos1\n",
      "['/home/nathan/data/kraken/ras/ND0013/Pos8/untrans_objects_type_2.h5', '/home/nathan/data/kraken/ras/ND0013/Pos8/untrans_no_bg_objects_type_2.h5', '/home/nathan/data/kraken/ras/ND0013/Pos8/untrans_objects_type_1.h5', '/home/nathan/data/kraken/ras/ND0013/Pos8/untrans_no_bg_objects_type_1.h5'] file found, skipping ND0013/Pos8\n",
      "['/home/nathan/data/kraken/ras/ND0013/Pos10/untrans_objects_type_2.h5', '/home/nathan/data/kraken/ras/ND0013/Pos10/untrans_no_bg_objects_type_2.h5', '/home/nathan/data/kraken/ras/ND0013/Pos10/untrans_objects_type_1.h5', '/home/nathan/data/kraken/ras/ND0013/Pos10/untrans_no_bg_objects_type_1.h5'] file found, skipping ND0013/Pos10\n",
      "['/home/nathan/data/kraken/ras/ND0013/Pos0/untrans_objects_type_2.h5', '/home/nathan/data/kraken/ras/ND0013/Pos0/untrans_no_bg_objects_type_2.h5', '/home/nathan/data/kraken/ras/ND0013/Pos0/untrans_objects_type_1.h5', '/home/nathan/data/kraken/ras/ND0013/Pos0/untrans_no_bg_objects_type_1.h5'] file found, skipping ND0013/Pos0\n",
      "['/home/nathan/data/kraken/ras/ND0013/Pos2/untrans_objects_type_2.h5', '/home/nathan/data/kraken/ras/ND0013/Pos2/untrans_no_bg_objects_type_2.h5', '/home/nathan/data/kraken/ras/ND0013/Pos2/untrans_objects_type_1.h5', '/home/nathan/data/kraken/ras/ND0013/Pos2/untrans_no_bg_objects_type_1.h5'] file found, skipping ND0013/Pos2\n",
      "['/home/nathan/data/kraken/ras/ND0013/Pos6/untrans_objects_type_2.h5', '/home/nathan/data/kraken/ras/ND0013/Pos6/untrans_no_bg_objects_type_2.h5', '/home/nathan/data/kraken/ras/ND0013/Pos6/untrans_objects_type_1.h5', '/home/nathan/data/kraken/ras/ND0013/Pos6/untrans_no_bg_objects_type_1.h5'] file found, skipping ND0013/Pos6\n",
      "['/home/nathan/data/kraken/ras/ND0013/Pos7/untrans_objects_type_2.h5', '/home/nathan/data/kraken/ras/ND0013/Pos7/untrans_no_bg_objects_type_2.h5', '/home/nathan/data/kraken/ras/ND0013/Pos7/untrans_objects_type_1.h5', '/home/nathan/data/kraken/ras/ND0013/Pos7/untrans_no_bg_objects_type_1.h5'] file found, skipping ND0013/Pos7\n",
      "['/home/nathan/data/kraken/ras/ND0013/Pos9/untrans_objects_type_2.h5', '/home/nathan/data/kraken/ras/ND0013/Pos9/untrans_no_bg_objects_type_2.h5', '/home/nathan/data/kraken/ras/ND0013/Pos9/untrans_objects_type_1.h5', '/home/nathan/data/kraken/ras/ND0013/Pos9/untrans_no_bg_objects_type_1.h5'] file found, skipping ND0013/Pos9\n",
      "['/home/nathan/data/kraken/ras/ND0013/Pos4/untrans_objects_type_2.h5', '/home/nathan/data/kraken/ras/ND0013/Pos4/untrans_no_bg_objects_type_2.h5', '/home/nathan/data/kraken/ras/ND0013/Pos4/untrans_objects_type_1.h5', '/home/nathan/data/kraken/ras/ND0013/Pos4/untrans_no_bg_objects_type_1.h5'] file found, skipping ND0013/Pos4\n",
      "['/home/nathan/data/kraken/ras/ND0013/Pos12/untrans_objects_type_2.h5', '/home/nathan/data/kraken/ras/ND0013/Pos12/untrans_no_bg_objects_type_2.h5', '/home/nathan/data/kraken/ras/ND0013/Pos12/untrans_objects_type_1.h5', '/home/nathan/data/kraken/ras/ND0013/Pos12/untrans_no_bg_objects_type_1.h5'] file found, skipping ND0013/Pos12\n"
     ]
    },
    {
     "data": {
      "application/vnd.jupyter.widget-view+json": {
       "model_id": "2ae2b041829c440285b536649e6972bf",
       "version_major": 2,
       "version_minor": 0
      },
      "text/plain": [
       "  0%|          | 0/15 [00:00<?, ?it/s]"
      ]
     },
     "metadata": {},
     "output_type": "display_data"
    },
    {
     "name": "stdout",
     "output_type": "stream",
     "text": [
      "['/home/nathan/data/kraken/ras/ND0014/Pos13/untrans_objects_type_2.h5', '/home/nathan/data/kraken/ras/ND0014/Pos13/untrans_no_bg_objects_type_2.h5', '/home/nathan/data/kraken/ras/ND0014/Pos13/untrans_objects_type_1.h5', '/home/nathan/data/kraken/ras/ND0014/Pos13/untrans_no_bg_objects_type_1.h5'] file found, skipping ND0014/Pos13\n",
      "['/home/nathan/data/kraken/ras/ND0014/Pos5/untrans_objects_type_2.h5', '/home/nathan/data/kraken/ras/ND0014/Pos5/untrans_no_bg_objects_type_2.h5', '/home/nathan/data/kraken/ras/ND0014/Pos5/untrans_objects_type_1.h5', '/home/nathan/data/kraken/ras/ND0014/Pos5/untrans_no_bg_objects_type_1.h5'] file found, skipping ND0014/Pos5\n",
      "['/home/nathan/data/kraken/ras/ND0014/Pos11/untrans_objects_type_2.h5', '/home/nathan/data/kraken/ras/ND0014/Pos11/untrans_no_bg_objects_type_2.h5', '/home/nathan/data/kraken/ras/ND0014/Pos11/untrans_objects_type_1.h5', '/home/nathan/data/kraken/ras/ND0014/Pos11/untrans_no_bg_objects_type_1.h5'] file found, skipping ND0014/Pos11\n",
      "['/home/nathan/data/kraken/ras/ND0014/Pos3/untrans_objects_type_2.h5', '/home/nathan/data/kraken/ras/ND0014/Pos3/untrans_no_bg_objects_type_2.h5', '/home/nathan/data/kraken/ras/ND0014/Pos3/untrans_objects_type_1.h5', '/home/nathan/data/kraken/ras/ND0014/Pos3/untrans_no_bg_objects_type_1.h5'] file found, skipping ND0014/Pos3\n",
      "['/home/nathan/data/kraken/ras/ND0014/Pos1/untrans_objects_type_2.h5', '/home/nathan/data/kraken/ras/ND0014/Pos1/untrans_no_bg_objects_type_2.h5', '/home/nathan/data/kraken/ras/ND0014/Pos1/untrans_objects_type_1.h5', '/home/nathan/data/kraken/ras/ND0014/Pos1/untrans_no_bg_objects_type_1.h5'] file found, skipping ND0014/Pos1\n",
      "['/home/nathan/data/kraken/ras/ND0014/Pos8/untrans_objects_type_2.h5', '/home/nathan/data/kraken/ras/ND0014/Pos8/untrans_no_bg_objects_type_2.h5', '/home/nathan/data/kraken/ras/ND0014/Pos8/untrans_objects_type_1.h5', '/home/nathan/data/kraken/ras/ND0014/Pos8/untrans_no_bg_objects_type_1.h5'] file found, skipping ND0014/Pos8\n",
      "['/home/nathan/data/kraken/ras/ND0014/Pos10/untrans_objects_type_2.h5', '/home/nathan/data/kraken/ras/ND0014/Pos10/untrans_no_bg_objects_type_2.h5', '/home/nathan/data/kraken/ras/ND0014/Pos10/untrans_objects_type_1.h5', '/home/nathan/data/kraken/ras/ND0014/Pos10/untrans_no_bg_objects_type_1.h5'] file found, skipping ND0014/Pos10\n",
      "['/home/nathan/data/kraken/ras/ND0014/Pos0/untrans_objects_type_2.h5', '/home/nathan/data/kraken/ras/ND0014/Pos0/untrans_no_bg_objects_type_2.h5', '/home/nathan/data/kraken/ras/ND0014/Pos0/untrans_objects_type_1.h5', '/home/nathan/data/kraken/ras/ND0014/Pos0/untrans_no_bg_objects_type_1.h5'] file found, skipping ND0014/Pos0\n",
      "['/home/nathan/data/kraken/ras/ND0014/Pos2/untrans_objects_type_2.h5', '/home/nathan/data/kraken/ras/ND0014/Pos2/untrans_no_bg_objects_type_2.h5', '/home/nathan/data/kraken/ras/ND0014/Pos2/untrans_objects_type_1.h5', '/home/nathan/data/kraken/ras/ND0014/Pos2/untrans_no_bg_objects_type_1.h5'] file found, skipping ND0014/Pos2\n",
      "['/home/nathan/data/kraken/ras/ND0014/Pos6/untrans_objects_type_2.h5', '/home/nathan/data/kraken/ras/ND0014/Pos6/untrans_no_bg_objects_type_2.h5', '/home/nathan/data/kraken/ras/ND0014/Pos6/untrans_objects_type_1.h5', '/home/nathan/data/kraken/ras/ND0014/Pos6/untrans_no_bg_objects_type_1.h5'] file found, skipping ND0014/Pos6\n",
      "['/home/nathan/data/kraken/ras/ND0014/Pos7/untrans_objects_type_2.h5', '/home/nathan/data/kraken/ras/ND0014/Pos7/untrans_no_bg_objects_type_2.h5', '/home/nathan/data/kraken/ras/ND0014/Pos7/untrans_objects_type_1.h5', '/home/nathan/data/kraken/ras/ND0014/Pos7/untrans_no_bg_objects_type_1.h5'] file found, skipping ND0014/Pos7\n",
      "['/home/nathan/data/kraken/ras/ND0014/Pos9/untrans_objects_type_2.h5', '/home/nathan/data/kraken/ras/ND0014/Pos9/untrans_no_bg_objects_type_2.h5', '/home/nathan/data/kraken/ras/ND0014/Pos9/untrans_objects_type_1.h5', '/home/nathan/data/kraken/ras/ND0014/Pos9/untrans_no_bg_objects_type_1.h5'] file found, skipping ND0014/Pos9\n",
      "['/home/nathan/data/kraken/ras/ND0014/Pos4/untrans_objects_type_2.h5', '/home/nathan/data/kraken/ras/ND0014/Pos4/untrans_no_bg_objects_type_2.h5', '/home/nathan/data/kraken/ras/ND0014/Pos4/untrans_objects_type_1.h5', '/home/nathan/data/kraken/ras/ND0014/Pos4/untrans_no_bg_objects_type_1.h5'] file found, skipping ND0014/Pos4\n",
      "['/home/nathan/data/kraken/ras/ND0014/Pos12/untrans_objects_type_2.h5', '/home/nathan/data/kraken/ras/ND0014/Pos12/untrans_no_bg_objects_type_2.h5', '/home/nathan/data/kraken/ras/ND0014/Pos12/untrans_objects_type_1.h5', '/home/nathan/data/kraken/ras/ND0014/Pos12/untrans_no_bg_objects_type_1.h5'] file found, skipping ND0014/Pos12\n"
     ]
    },
    {
     "data": {
      "application/vnd.jupyter.widget-view+json": {
       "model_id": "82059de79d39407c9ba0411cda7a74d8",
       "version_major": 2,
       "version_minor": 0
      },
      "text/plain": [
       "  0%|          | 0/15 [00:00<?, ?it/s]"
      ]
     },
     "metadata": {},
     "output_type": "display_data"
    },
    {
     "name": "stdout",
     "output_type": "stream",
     "text": [
      "['/home/nathan/data/kraken/ras/ND0010/Pos5/objects.h5', '/home/nathan/data/kraken/ras/ND0010/Pos5/untrans_objects_type_2.h5', '/home/nathan/data/kraken/ras/ND0010/Pos5/objects_type_1.h5', '/home/nathan/data/kraken/ras/ND0010/Pos5/objects_type_2.h5', '/home/nathan/data/kraken/ras/ND0010/Pos5/untrans_no_bg_objects_type_2.h5', '/home/nathan/data/kraken/ras/ND0010/Pos5/untrans_objects_type_1.h5', '/home/nathan/data/kraken/ras/ND0010/Pos5/untrans_no_bg_objects_type_1.h5'] file found, skipping ND0010/Pos5\n",
      "['/home/nathan/data/kraken/ras/ND0010/Pos11/objects.h5', '/home/nathan/data/kraken/ras/ND0010/Pos11/untrans_objects_type_2.h5', '/home/nathan/data/kraken/ras/ND0010/Pos11/objects_type_1.h5', '/home/nathan/data/kraken/ras/ND0010/Pos11/objects_type_2.h5', '/home/nathan/data/kraken/ras/ND0010/Pos11/untrans_no_bg_objects_type_2.h5', '/home/nathan/data/kraken/ras/ND0010/Pos11/untrans_objects_type_1.h5', '/home/nathan/data/kraken/ras/ND0010/Pos11/untrans_no_bg_objects_type_1.h5'] file found, skipping ND0010/Pos11\n",
      "['/home/nathan/data/kraken/ras/ND0010/Pos3/objects.h5', '/home/nathan/data/kraken/ras/ND0010/Pos3/objects_type_1.h5', '/home/nathan/data/kraken/ras/ND0010/Pos3/objects_type_2.h5', '/home/nathan/data/kraken/ras/ND0010/Pos3/untrans_objects_type_1.h5', '/home/nathan/data/kraken/ras/ND0010/Pos3/untrans_no_bg_objects_type_1.h5'] file found, skipping ND0010/Pos3\n",
      "['/home/nathan/data/kraken/ras/ND0010/Pos1/objects.h5', '/home/nathan/data/kraken/ras/ND0010/Pos1/untrans_objects_type_2.h5', '/home/nathan/data/kraken/ras/ND0010/Pos1/objects_type_1.h5', '/home/nathan/data/kraken/ras/ND0010/Pos1/objects_type_2.h5', '/home/nathan/data/kraken/ras/ND0010/Pos1/untrans_no_bg_objects_type_2.h5', '/home/nathan/data/kraken/ras/ND0010/Pos1/untrans_objects_type_1.h5', '/home/nathan/data/kraken/ras/ND0010/Pos1/untrans_no_bg_objects_type_1.h5'] file found, skipping ND0010/Pos1\n",
      "['/home/nathan/data/kraken/ras/ND0010/Pos8/objects.h5', '/home/nathan/data/kraken/ras/ND0010/Pos8/untrans_objects_type_2.h5', '/home/nathan/data/kraken/ras/ND0010/Pos8/objects_type_1.h5', '/home/nathan/data/kraken/ras/ND0010/Pos8/objects_type_2.h5', '/home/nathan/data/kraken/ras/ND0010/Pos8/untrans_no_bg_objects_type_2.h5', '/home/nathan/data/kraken/ras/ND0010/Pos8/untrans_objects_type_1.h5', '/home/nathan/data/kraken/ras/ND0010/Pos8/untrans_no_bg_objects_type_1.h5'] file found, skipping ND0010/Pos8\n",
      "['/home/nathan/data/kraken/ras/ND0010/Pos10/objects.h5', '/home/nathan/data/kraken/ras/ND0010/Pos10/untrans_objects_type_2.h5', '/home/nathan/data/kraken/ras/ND0010/Pos10/objects_type_1.h5', '/home/nathan/data/kraken/ras/ND0010/Pos10/objects_type_2.h5', '/home/nathan/data/kraken/ras/ND0010/Pos10/untrans_no_bg_objects_type_2.h5', '/home/nathan/data/kraken/ras/ND0010/Pos10/untrans_objects_type_1.h5', '/home/nathan/data/kraken/ras/ND0010/Pos10/untrans_no_bg_objects_type_1.h5'] file found, skipping ND0010/Pos10\n",
      "['/home/nathan/data/kraken/ras/ND0010/Pos0/objects.h5', '/home/nathan/data/kraken/ras/ND0010/Pos0/untrans_objects_type_2.h5', '/home/nathan/data/kraken/ras/ND0010/Pos0/objects_type_1.h5', '/home/nathan/data/kraken/ras/ND0010/Pos0/objects_type_2.h5', '/home/nathan/data/kraken/ras/ND0010/Pos0/untrans_no_bg_objects_type_2.h5', '/home/nathan/data/kraken/ras/ND0010/Pos0/untrans_objects_type_1.h5', '/home/nathan/data/kraken/ras/ND0010/Pos0/untrans_no_bg_objects_type_1.h5'] file found, skipping ND0010/Pos0\n",
      "['/home/nathan/data/kraken/ras/ND0010/Pos2/untrans_objects_type_2.h5', '/home/nathan/data/kraken/ras/ND0010/Pos2/objects_type_1.h5', '/home/nathan/data/kraken/ras/ND0010/Pos2/objects_type_2.h5', '/home/nathan/data/kraken/ras/ND0010/Pos2/untrans_no_bg_objects_type_2.h5', '/home/nathan/data/kraken/ras/ND0010/Pos2/untrans_objects_type_1.h5', '/home/nathan/data/kraken/ras/ND0010/Pos2/untrans_no_bg_objects_type_1.h5'] file found, skipping ND0010/Pos2\n",
      "['/home/nathan/data/kraken/ras/ND0010/Pos6/untrans_objects_type_2.h5', '/home/nathan/data/kraken/ras/ND0010/Pos6/objects_type_1.h5', '/home/nathan/data/kraken/ras/ND0010/Pos6/objects_type_2.h5', '/home/nathan/data/kraken/ras/ND0010/Pos6/untrans_no_bg_objects_type_2.h5', '/home/nathan/data/kraken/ras/ND0010/Pos6/untrans_objects_type_1.h5', '/home/nathan/data/kraken/ras/ND0010/Pos6/untrans_no_bg_objects_type_1.h5'] file found, skipping ND0010/Pos6\n",
      "['/home/nathan/data/kraken/ras/ND0010/Pos7/untrans_objects_type_2.h5', '/home/nathan/data/kraken/ras/ND0010/Pos7/objects_type_1.h5', '/home/nathan/data/kraken/ras/ND0010/Pos7/objects_type_2.h5', '/home/nathan/data/kraken/ras/ND0010/Pos7/untrans_no_bg_objects_type_2.h5', '/home/nathan/data/kraken/ras/ND0010/Pos7/untrans_objects_type_1.h5', '/home/nathan/data/kraken/ras/ND0010/Pos7/untrans_no_bg_objects_type_1.h5'] file found, skipping ND0010/Pos7\n",
      "['/home/nathan/data/kraken/ras/ND0010/Pos9/untrans_objects_type_2.h5', '/home/nathan/data/kraken/ras/ND0010/Pos9/objects_type_1.h5', '/home/nathan/data/kraken/ras/ND0010/Pos9/objects_type_2.h5', '/home/nathan/data/kraken/ras/ND0010/Pos9/untrans_no_bg_objects_type_2.h5', '/home/nathan/data/kraken/ras/ND0010/Pos9/untrans_objects_type_1.h5', '/home/nathan/data/kraken/ras/ND0010/Pos9/untrans_no_bg_objects_type_1.h5'] file found, skipping ND0010/Pos9\n",
      "['/home/nathan/data/kraken/ras/ND0010/Pos4/untrans_objects_type_2.h5', '/home/nathan/data/kraken/ras/ND0010/Pos4/objects_type_1.h5', '/home/nathan/data/kraken/ras/ND0010/Pos4/objects_type_2.h5', '/home/nathan/data/kraken/ras/ND0010/Pos4/untrans_no_bg_objects_type_2.h5', '/home/nathan/data/kraken/ras/ND0010/Pos4/untrans_objects_type_1.h5', '/home/nathan/data/kraken/ras/ND0010/Pos4/untrans_no_bg_objects_type_1.h5'] file found, skipping ND0010/Pos4\n"
     ]
    },
    {
     "data": {
      "application/vnd.jupyter.widget-view+json": {
       "model_id": "860b91e552b24d62ab62fdcb9a3c06b3",
       "version_major": 2,
       "version_minor": 0
      },
      "text/plain": [
       "  0%|          | 0/15 [00:00<?, ?it/s]"
      ]
     },
     "metadata": {},
     "output_type": "display_data"
    },
    {
     "name": "stdout",
     "output_type": "stream",
     "text": [
      "['/home/nathan/data/kraken/ras/ND0012/Pos5/untrans_objects_type_2.h5', '/home/nathan/data/kraken/ras/ND0012/Pos5/objects_type_1.h5', '/home/nathan/data/kraken/ras/ND0012/Pos5/objects_type_2.h5', '/home/nathan/data/kraken/ras/ND0012/Pos5/untrans_no_bg_objects_type_2.h5', '/home/nathan/data/kraken/ras/ND0012/Pos5/untrans_objects_type_1.h5', '/home/nathan/data/kraken/ras/ND0012/Pos5/untrans_no_bg_objects_type_1.h5'] file found, skipping ND0012/Pos5\n",
      "['/home/nathan/data/kraken/ras/ND0012/Pos11/untrans_objects_type_2.h5', '/home/nathan/data/kraken/ras/ND0012/Pos11/objects_type_1.h5', '/home/nathan/data/kraken/ras/ND0012/Pos11/objects_type_2.h5', '/home/nathan/data/kraken/ras/ND0012/Pos11/untrans_no_bg_objects_type_2.h5', '/home/nathan/data/kraken/ras/ND0012/Pos11/untrans_objects_type_1.h5', '/home/nathan/data/kraken/ras/ND0012/Pos11/untrans_no_bg_objects_type_1.h5'] file found, skipping ND0012/Pos11\n",
      "['/home/nathan/data/kraken/ras/ND0012/Pos3/untrans_objects_type_2.h5', '/home/nathan/data/kraken/ras/ND0012/Pos3/untrans_no_bg_objects_type_2.h5', '/home/nathan/data/kraken/ras/ND0012/Pos3/untrans_objects_type_1.h5', '/home/nathan/data/kraken/ras/ND0012/Pos3/untrans_no_bg_objects_type_1.h5'] file found, skipping ND0012/Pos3\n",
      "['/home/nathan/data/kraken/ras/ND0012/Pos1/untrans_objects_type_2.h5', '/home/nathan/data/kraken/ras/ND0012/Pos1/untrans_no_bg_objects_type_2.h5', '/home/nathan/data/kraken/ras/ND0012/Pos1/untrans_objects_type_1.h5', '/home/nathan/data/kraken/ras/ND0012/Pos1/untrans_no_bg_objects_type_1.h5'] file found, skipping ND0012/Pos1\n",
      "['/home/nathan/data/kraken/ras/ND0012/Pos8/untrans_objects_type_2.h5', '/home/nathan/data/kraken/ras/ND0012/Pos8/untrans_no_bg_objects_type_2.h5', '/home/nathan/data/kraken/ras/ND0012/Pos8/untrans_objects_type_1.h5', '/home/nathan/data/kraken/ras/ND0012/Pos8/untrans_no_bg_objects_type_1.h5'] file found, skipping ND0012/Pos8\n",
      "['/home/nathan/data/kraken/ras/ND0012/Pos10/untrans_objects_type_2.h5', '/home/nathan/data/kraken/ras/ND0012/Pos10/untrans_no_bg_objects_type_2.h5', '/home/nathan/data/kraken/ras/ND0012/Pos10/untrans_objects_type_1.h5', '/home/nathan/data/kraken/ras/ND0012/Pos10/untrans_no_bg_objects_type_1.h5'] file found, skipping ND0012/Pos10\n",
      "['/home/nathan/data/kraken/ras/ND0012/Pos0/untrans_objects_type_2.h5', '/home/nathan/data/kraken/ras/ND0012/Pos0/untrans_no_bg_objects_type_2.h5', '/home/nathan/data/kraken/ras/ND0012/Pos0/untrans_objects_type_1.h5', '/home/nathan/data/kraken/ras/ND0012/Pos0/untrans_no_bg_objects_type_1.h5'] file found, skipping ND0012/Pos0\n",
      "['/home/nathan/data/kraken/ras/ND0012/Pos2/untrans_objects_type_2.h5', '/home/nathan/data/kraken/ras/ND0012/Pos2/untrans_no_bg_objects_type_2.h5', '/home/nathan/data/kraken/ras/ND0012/Pos2/untrans_objects_type_1.h5', '/home/nathan/data/kraken/ras/ND0012/Pos2/untrans_no_bg_objects_type_1.h5'] file found, skipping ND0012/Pos2\n",
      "['/home/nathan/data/kraken/ras/ND0012/Pos6/untrans_objects_type_2.h5', '/home/nathan/data/kraken/ras/ND0012/Pos6/untrans_no_bg_objects_type_2.h5', '/home/nathan/data/kraken/ras/ND0012/Pos6/untrans_objects_type_1.h5', '/home/nathan/data/kraken/ras/ND0012/Pos6/untrans_no_bg_objects_type_1.h5'] file found, skipping ND0012/Pos6\n",
      "['/home/nathan/data/kraken/ras/ND0012/Pos7/untrans_objects_type_2.h5', '/home/nathan/data/kraken/ras/ND0012/Pos7/untrans_no_bg_objects_type_2.h5', '/home/nathan/data/kraken/ras/ND0012/Pos7/untrans_objects_type_1.h5', '/home/nathan/data/kraken/ras/ND0012/Pos7/untrans_no_bg_objects_type_1.h5'] file found, skipping ND0012/Pos7\n",
      "['/home/nathan/data/kraken/ras/ND0012/Pos9/untrans_objects_type_2.h5', '/home/nathan/data/kraken/ras/ND0012/Pos9/untrans_no_bg_objects_type_2.h5', '/home/nathan/data/kraken/ras/ND0012/Pos9/untrans_objects_type_1.h5', '/home/nathan/data/kraken/ras/ND0012/Pos9/untrans_no_bg_objects_type_1.h5'] file found, skipping ND0012/Pos9\n",
      "['/home/nathan/data/kraken/ras/ND0012/Pos4/untrans_objects_type_2.h5', '/home/nathan/data/kraken/ras/ND0012/Pos4/untrans_no_bg_objects_type_2.h5', '/home/nathan/data/kraken/ras/ND0012/Pos4/untrans_objects_type_1.h5', '/home/nathan/data/kraken/ras/ND0012/Pos4/untrans_no_bg_objects_type_1.h5'] file found, skipping ND0012/Pos4\n"
     ]
    },
    {
     "data": {
      "application/vnd.jupyter.widget-view+json": {
       "model_id": "e4ccc795205a4bb0a2a862ea54a33ab6",
       "version_major": 2,
       "version_minor": 0
      },
      "text/plain": [
       "  0%|          | 0/15 [00:00<?, ?it/s]"
      ]
     },
     "metadata": {},
     "output_type": "display_data"
    },
    {
     "name": "stdout",
     "output_type": "stream",
     "text": [
      "['/home/nathan/data/kraken/ras/ND0011/Pos5/untrans_objects_type_2.h5', '/home/nathan/data/kraken/ras/ND0011/Pos5/objects_type_1.h5', '/home/nathan/data/kraken/ras/ND0011/Pos5/objects_type_2.h5', '/home/nathan/data/kraken/ras/ND0011/Pos5/untrans_no_bg_objects_type_2.h5', '/home/nathan/data/kraken/ras/ND0011/Pos5/untrans_objects_type_1.h5', '/home/nathan/data/kraken/ras/ND0011/Pos5/untrans_no_bg_objects_type_1.h5'] file found, skipping ND0011/Pos5\n",
      "['/home/nathan/data/kraken/ras/ND0011/Pos11/untrans_objects_type_2.h5', '/home/nathan/data/kraken/ras/ND0011/Pos11/objects_type_1.h5', '/home/nathan/data/kraken/ras/ND0011/Pos11/objects_type_2.h5', '/home/nathan/data/kraken/ras/ND0011/Pos11/untrans_no_bg_objects_type_2.h5', '/home/nathan/data/kraken/ras/ND0011/Pos11/untrans_objects_type_1.h5', '/home/nathan/data/kraken/ras/ND0011/Pos11/untrans_no_bg_objects_type_1.h5'] file found, skipping ND0011/Pos11\n",
      "['/home/nathan/data/kraken/ras/ND0011/Pos1/untrans_objects_type_2.h5', '/home/nathan/data/kraken/ras/ND0011/Pos1/objects_type_1.h5', '/home/nathan/data/kraken/ras/ND0011/Pos1/objects_type_2.h5', '/home/nathan/data/kraken/ras/ND0011/Pos1/untrans_no_bg_objects_type_2.h5', '/home/nathan/data/kraken/ras/ND0011/Pos1/untrans_objects_type_1.h5', '/home/nathan/data/kraken/ras/ND0011/Pos1/untrans_no_bg_objects_type_1.h5'] file found, skipping ND0011/Pos1\n",
      "['/home/nathan/data/kraken/ras/ND0011/Pos8/untrans_objects_type_2.h5', '/home/nathan/data/kraken/ras/ND0011/Pos8/objects_type_1.h5', '/home/nathan/data/kraken/ras/ND0011/Pos8/objects_type_2.h5', '/home/nathan/data/kraken/ras/ND0011/Pos8/untrans_no_bg_objects_type_2.h5', '/home/nathan/data/kraken/ras/ND0011/Pos8/untrans_objects_type_1.h5', '/home/nathan/data/kraken/ras/ND0011/Pos8/untrans_no_bg_objects_type_1.h5'] file found, skipping ND0011/Pos8\n",
      "['/home/nathan/data/kraken/ras/ND0011/Pos10/untrans_objects_type_2.h5', '/home/nathan/data/kraken/ras/ND0011/Pos10/objects_type_1.h5', '/home/nathan/data/kraken/ras/ND0011/Pos10/objects_type_2.h5', '/home/nathan/data/kraken/ras/ND0011/Pos10/untrans_no_bg_objects_type_2.h5', '/home/nathan/data/kraken/ras/ND0011/Pos10/untrans_objects_type_1.h5', '/home/nathan/data/kraken/ras/ND0011/Pos10/untrans_no_bg_objects_type_1.h5'] file found, skipping ND0011/Pos10\n",
      "['/home/nathan/data/kraken/ras/ND0011/Pos0/untrans_objects_type_2.h5', '/home/nathan/data/kraken/ras/ND0011/Pos0/objects_type_1.h5', '/home/nathan/data/kraken/ras/ND0011/Pos0/objects_type_2.h5', '/home/nathan/data/kraken/ras/ND0011/Pos0/untrans_no_bg_objects_type_2.h5', '/home/nathan/data/kraken/ras/ND0011/Pos0/untrans_objects_type_1.h5', '/home/nathan/data/kraken/ras/ND0011/Pos0/untrans_no_bg_objects_type_1.h5'] file found, skipping ND0011/Pos0\n",
      "['/home/nathan/data/kraken/ras/ND0011/Pos2/untrans_objects_type_2.h5', '/home/nathan/data/kraken/ras/ND0011/Pos2/objects_type_1.h5', '/home/nathan/data/kraken/ras/ND0011/Pos2/objects_type_2.h5', '/home/nathan/data/kraken/ras/ND0011/Pos2/untrans_no_bg_objects_type_2.h5', '/home/nathan/data/kraken/ras/ND0011/Pos2/untrans_objects_type_1.h5', '/home/nathan/data/kraken/ras/ND0011/Pos2/untrans_no_bg_objects_type_1.h5'] file found, skipping ND0011/Pos2\n",
      "['/home/nathan/data/kraken/ras/ND0011/Pos6/untrans_objects_type_2.h5', '/home/nathan/data/kraken/ras/ND0011/Pos6/objects_type_1.h5', '/home/nathan/data/kraken/ras/ND0011/Pos6/objects_type_2.h5', '/home/nathan/data/kraken/ras/ND0011/Pos6/untrans_no_bg_objects_type_2.h5', '/home/nathan/data/kraken/ras/ND0011/Pos6/untrans_objects_type_1.h5', '/home/nathan/data/kraken/ras/ND0011/Pos6/untrans_no_bg_objects_type_1.h5'] file found, skipping ND0011/Pos6\n",
      "['/home/nathan/data/kraken/ras/ND0011/Pos7/untrans_objects_type_2.h5', '/home/nathan/data/kraken/ras/ND0011/Pos7/objects_type_1.h5', '/home/nathan/data/kraken/ras/ND0011/Pos7/objects_type_2.h5', '/home/nathan/data/kraken/ras/ND0011/Pos7/untrans_no_bg_objects_type_2.h5', '/home/nathan/data/kraken/ras/ND0011/Pos7/untrans_objects_type_1.h5', '/home/nathan/data/kraken/ras/ND0011/Pos7/untrans_no_bg_objects_type_1.h5'] file found, skipping ND0011/Pos7\n",
      "['/home/nathan/data/kraken/ras/ND0011/Pos9/untrans_objects_type_2.h5', '/home/nathan/data/kraken/ras/ND0011/Pos9/objects_type_1.h5', '/home/nathan/data/kraken/ras/ND0011/Pos9/objects_type_2.h5', '/home/nathan/data/kraken/ras/ND0011/Pos9/untrans_no_bg_objects_type_2.h5', '/home/nathan/data/kraken/ras/ND0011/Pos9/untrans_objects_type_1.h5', '/home/nathan/data/kraken/ras/ND0011/Pos9/untrans_no_bg_objects_type_1.h5'] file found, skipping ND0011/Pos9\n",
      "['/home/nathan/data/kraken/ras/ND0011/Pos4/untrans_objects_type_2.h5', '/home/nathan/data/kraken/ras/ND0011/Pos4/objects_type_1.h5', '/home/nathan/data/kraken/ras/ND0011/Pos4/objects_type_2.h5', '/home/nathan/data/kraken/ras/ND0011/Pos4/untrans_no_bg_objects_type_2.h5', '/home/nathan/data/kraken/ras/ND0011/Pos4/untrans_objects_type_1.h5', '/home/nathan/data/kraken/ras/ND0011/Pos4/untrans_no_bg_objects_type_1.h5'] file found, skipping ND0011/Pos4\n"
     ]
    },
    {
     "data": {
      "application/vnd.jupyter.widget-view+json": {
       "model_id": "55807eca049c45ada76f0503ceba6999",
       "version_major": 2,
       "version_minor": 0
      },
      "text/plain": [
       "  0%|          | 0/5 [00:00<?, ?it/s]"
      ]
     },
     "metadata": {},
     "output_type": "display_data"
    },
    {
     "data": {
      "application/vnd.jupyter.widget-view+json": {
       "model_id": "2966f86696b447458d9ec862afe5c162",
       "version_major": 2,
       "version_minor": 0
      },
      "text/plain": [
       "  0%|          | 0/15 [00:00<?, ?it/s]"
      ]
     },
     "metadata": {},
     "output_type": "display_data"
    },
    {
     "name": "stdout",
     "output_type": "stream",
     "text": [
      "['/home/nathan/data/kraken/ras/ND0013/Pos13/untrans_objects_type_2.h5', '/home/nathan/data/kraken/ras/ND0013/Pos13/untrans_no_bg_objects_type_2.h5', '/home/nathan/data/kraken/ras/ND0013/Pos13/untrans_objects_type_1.h5', '/home/nathan/data/kraken/ras/ND0013/Pos13/untrans_no_bg_objects_type_1.h5'] file found, skipping ND0013/Pos13\n",
      "['/home/nathan/data/kraken/ras/ND0013/Pos5/untrans_objects_type_2.h5', '/home/nathan/data/kraken/ras/ND0013/Pos5/untrans_no_bg_objects_type_2.h5', '/home/nathan/data/kraken/ras/ND0013/Pos5/untrans_objects_type_1.h5', '/home/nathan/data/kraken/ras/ND0013/Pos5/untrans_no_bg_objects_type_1.h5'] file found, skipping ND0013/Pos5\n",
      "['/home/nathan/data/kraken/ras/ND0013/Pos11/untrans_objects_type_2.h5', '/home/nathan/data/kraken/ras/ND0013/Pos11/untrans_no_bg_objects_type_2.h5', '/home/nathan/data/kraken/ras/ND0013/Pos11/untrans_objects_type_1.h5', '/home/nathan/data/kraken/ras/ND0013/Pos11/untrans_no_bg_objects_type_1.h5'] file found, skipping ND0013/Pos11\n",
      "['/home/nathan/data/kraken/ras/ND0013/Pos14/untrans_objects_type_2.h5', '/home/nathan/data/kraken/ras/ND0013/Pos14/untrans_no_bg_objects_type_2.h5', '/home/nathan/data/kraken/ras/ND0013/Pos14/untrans_objects_type_1.h5', '/home/nathan/data/kraken/ras/ND0013/Pos14/untrans_no_bg_objects_type_1.h5'] file found, skipping ND0013/Pos14\n",
      "['/home/nathan/data/kraken/ras/ND0013/Pos3/untrans_objects_type_2.h5', '/home/nathan/data/kraken/ras/ND0013/Pos3/untrans_no_bg_objects_type_2.h5', '/home/nathan/data/kraken/ras/ND0013/Pos3/untrans_objects_type_1.h5', '/home/nathan/data/kraken/ras/ND0013/Pos3/untrans_no_bg_objects_type_1.h5'] file found, skipping ND0013/Pos3\n",
      "['/home/nathan/data/kraken/ras/ND0013/Pos1/untrans_objects_type_2.h5', '/home/nathan/data/kraken/ras/ND0013/Pos1/untrans_no_bg_objects_type_2.h5', '/home/nathan/data/kraken/ras/ND0013/Pos1/untrans_objects_type_1.h5', '/home/nathan/data/kraken/ras/ND0013/Pos1/untrans_no_bg_objects_type_1.h5'] file found, skipping ND0013/Pos1\n",
      "['/home/nathan/data/kraken/ras/ND0013/Pos8/untrans_objects_type_2.h5', '/home/nathan/data/kraken/ras/ND0013/Pos8/untrans_no_bg_objects_type_2.h5', '/home/nathan/data/kraken/ras/ND0013/Pos8/untrans_objects_type_1.h5', '/home/nathan/data/kraken/ras/ND0013/Pos8/untrans_no_bg_objects_type_1.h5'] file found, skipping ND0013/Pos8\n",
      "['/home/nathan/data/kraken/ras/ND0013/Pos10/untrans_objects_type_2.h5', '/home/nathan/data/kraken/ras/ND0013/Pos10/untrans_no_bg_objects_type_2.h5', '/home/nathan/data/kraken/ras/ND0013/Pos10/untrans_objects_type_1.h5', '/home/nathan/data/kraken/ras/ND0013/Pos10/untrans_no_bg_objects_type_1.h5'] file found, skipping ND0013/Pos10\n",
      "['/home/nathan/data/kraken/ras/ND0013/Pos0/untrans_objects_type_2.h5', '/home/nathan/data/kraken/ras/ND0013/Pos0/untrans_no_bg_objects_type_2.h5', '/home/nathan/data/kraken/ras/ND0013/Pos0/untrans_objects_type_1.h5', '/home/nathan/data/kraken/ras/ND0013/Pos0/untrans_no_bg_objects_type_1.h5'] file found, skipping ND0013/Pos0\n",
      "['/home/nathan/data/kraken/ras/ND0013/Pos2/untrans_objects_type_2.h5', '/home/nathan/data/kraken/ras/ND0013/Pos2/untrans_no_bg_objects_type_2.h5', '/home/nathan/data/kraken/ras/ND0013/Pos2/untrans_objects_type_1.h5', '/home/nathan/data/kraken/ras/ND0013/Pos2/untrans_no_bg_objects_type_1.h5'] file found, skipping ND0013/Pos2\n",
      "['/home/nathan/data/kraken/ras/ND0013/Pos6/untrans_objects_type_2.h5', '/home/nathan/data/kraken/ras/ND0013/Pos6/untrans_no_bg_objects_type_2.h5', '/home/nathan/data/kraken/ras/ND0013/Pos6/untrans_objects_type_1.h5', '/home/nathan/data/kraken/ras/ND0013/Pos6/untrans_no_bg_objects_type_1.h5'] file found, skipping ND0013/Pos6\n",
      "['/home/nathan/data/kraken/ras/ND0013/Pos7/untrans_objects_type_2.h5', '/home/nathan/data/kraken/ras/ND0013/Pos7/untrans_no_bg_objects_type_2.h5', '/home/nathan/data/kraken/ras/ND0013/Pos7/untrans_objects_type_1.h5', '/home/nathan/data/kraken/ras/ND0013/Pos7/untrans_no_bg_objects_type_1.h5'] file found, skipping ND0013/Pos7\n",
      "['/home/nathan/data/kraken/ras/ND0013/Pos9/untrans_objects_type_2.h5', '/home/nathan/data/kraken/ras/ND0013/Pos9/untrans_no_bg_objects_type_2.h5', '/home/nathan/data/kraken/ras/ND0013/Pos9/untrans_objects_type_1.h5', '/home/nathan/data/kraken/ras/ND0013/Pos9/untrans_no_bg_objects_type_1.h5'] file found, skipping ND0013/Pos9\n",
      "['/home/nathan/data/kraken/ras/ND0013/Pos4/untrans_objects_type_2.h5', '/home/nathan/data/kraken/ras/ND0013/Pos4/untrans_no_bg_objects_type_2.h5', '/home/nathan/data/kraken/ras/ND0013/Pos4/untrans_objects_type_1.h5', '/home/nathan/data/kraken/ras/ND0013/Pos4/untrans_no_bg_objects_type_1.h5'] file found, skipping ND0013/Pos4\n",
      "['/home/nathan/data/kraken/ras/ND0013/Pos12/untrans_objects_type_2.h5', '/home/nathan/data/kraken/ras/ND0013/Pos12/untrans_no_bg_objects_type_2.h5', '/home/nathan/data/kraken/ras/ND0013/Pos12/untrans_objects_type_1.h5', '/home/nathan/data/kraken/ras/ND0013/Pos12/untrans_no_bg_objects_type_1.h5'] file found, skipping ND0013/Pos12\n"
     ]
    },
    {
     "data": {
      "application/vnd.jupyter.widget-view+json": {
       "model_id": "550ba19178d14346889aca41be3b2dc3",
       "version_major": 2,
       "version_minor": 0
      },
      "text/plain": [
       "  0%|          | 0/15 [00:00<?, ?it/s]"
      ]
     },
     "metadata": {},
     "output_type": "display_data"
    },
    {
     "name": "stdout",
     "output_type": "stream",
     "text": [
      "['/home/nathan/data/kraken/ras/ND0014/Pos13/untrans_objects_type_2.h5', '/home/nathan/data/kraken/ras/ND0014/Pos13/untrans_no_bg_objects_type_2.h5', '/home/nathan/data/kraken/ras/ND0014/Pos13/untrans_objects_type_1.h5', '/home/nathan/data/kraken/ras/ND0014/Pos13/untrans_no_bg_objects_type_1.h5'] file found, skipping ND0014/Pos13\n",
      "['/home/nathan/data/kraken/ras/ND0014/Pos5/untrans_objects_type_2.h5', '/home/nathan/data/kraken/ras/ND0014/Pos5/untrans_no_bg_objects_type_2.h5', '/home/nathan/data/kraken/ras/ND0014/Pos5/untrans_objects_type_1.h5', '/home/nathan/data/kraken/ras/ND0014/Pos5/untrans_no_bg_objects_type_1.h5'] file found, skipping ND0014/Pos5\n",
      "['/home/nathan/data/kraken/ras/ND0014/Pos11/untrans_objects_type_2.h5', '/home/nathan/data/kraken/ras/ND0014/Pos11/untrans_no_bg_objects_type_2.h5', '/home/nathan/data/kraken/ras/ND0014/Pos11/untrans_objects_type_1.h5', '/home/nathan/data/kraken/ras/ND0014/Pos11/untrans_no_bg_objects_type_1.h5'] file found, skipping ND0014/Pos11\n",
      "['/home/nathan/data/kraken/ras/ND0014/Pos3/untrans_objects_type_2.h5', '/home/nathan/data/kraken/ras/ND0014/Pos3/untrans_no_bg_objects_type_2.h5', '/home/nathan/data/kraken/ras/ND0014/Pos3/untrans_objects_type_1.h5', '/home/nathan/data/kraken/ras/ND0014/Pos3/untrans_no_bg_objects_type_1.h5'] file found, skipping ND0014/Pos3\n",
      "['/home/nathan/data/kraken/ras/ND0014/Pos1/untrans_objects_type_2.h5', '/home/nathan/data/kraken/ras/ND0014/Pos1/untrans_no_bg_objects_type_2.h5', '/home/nathan/data/kraken/ras/ND0014/Pos1/untrans_objects_type_1.h5', '/home/nathan/data/kraken/ras/ND0014/Pos1/untrans_no_bg_objects_type_1.h5'] file found, skipping ND0014/Pos1\n",
      "['/home/nathan/data/kraken/ras/ND0014/Pos8/untrans_objects_type_2.h5', '/home/nathan/data/kraken/ras/ND0014/Pos8/untrans_no_bg_objects_type_2.h5', '/home/nathan/data/kraken/ras/ND0014/Pos8/untrans_objects_type_1.h5', '/home/nathan/data/kraken/ras/ND0014/Pos8/untrans_no_bg_objects_type_1.h5'] file found, skipping ND0014/Pos8\n",
      "['/home/nathan/data/kraken/ras/ND0014/Pos10/untrans_objects_type_2.h5', '/home/nathan/data/kraken/ras/ND0014/Pos10/untrans_no_bg_objects_type_2.h5', '/home/nathan/data/kraken/ras/ND0014/Pos10/untrans_objects_type_1.h5', '/home/nathan/data/kraken/ras/ND0014/Pos10/untrans_no_bg_objects_type_1.h5'] file found, skipping ND0014/Pos10\n",
      "['/home/nathan/data/kraken/ras/ND0014/Pos0/untrans_objects_type_2.h5', '/home/nathan/data/kraken/ras/ND0014/Pos0/untrans_no_bg_objects_type_2.h5', '/home/nathan/data/kraken/ras/ND0014/Pos0/untrans_objects_type_1.h5', '/home/nathan/data/kraken/ras/ND0014/Pos0/untrans_no_bg_objects_type_1.h5'] file found, skipping ND0014/Pos0\n",
      "['/home/nathan/data/kraken/ras/ND0014/Pos2/untrans_objects_type_2.h5', '/home/nathan/data/kraken/ras/ND0014/Pos2/untrans_no_bg_objects_type_2.h5', '/home/nathan/data/kraken/ras/ND0014/Pos2/untrans_objects_type_1.h5', '/home/nathan/data/kraken/ras/ND0014/Pos2/untrans_no_bg_objects_type_1.h5'] file found, skipping ND0014/Pos2\n",
      "['/home/nathan/data/kraken/ras/ND0014/Pos6/untrans_objects_type_2.h5', '/home/nathan/data/kraken/ras/ND0014/Pos6/untrans_no_bg_objects_type_2.h5', '/home/nathan/data/kraken/ras/ND0014/Pos6/untrans_objects_type_1.h5', '/home/nathan/data/kraken/ras/ND0014/Pos6/untrans_no_bg_objects_type_1.h5'] file found, skipping ND0014/Pos6\n",
      "['/home/nathan/data/kraken/ras/ND0014/Pos7/untrans_objects_type_2.h5', '/home/nathan/data/kraken/ras/ND0014/Pos7/untrans_no_bg_objects_type_2.h5', '/home/nathan/data/kraken/ras/ND0014/Pos7/untrans_objects_type_1.h5', '/home/nathan/data/kraken/ras/ND0014/Pos7/untrans_no_bg_objects_type_1.h5'] file found, skipping ND0014/Pos7\n",
      "['/home/nathan/data/kraken/ras/ND0014/Pos9/untrans_objects_type_2.h5', '/home/nathan/data/kraken/ras/ND0014/Pos9/untrans_no_bg_objects_type_2.h5', '/home/nathan/data/kraken/ras/ND0014/Pos9/untrans_objects_type_1.h5', '/home/nathan/data/kraken/ras/ND0014/Pos9/untrans_no_bg_objects_type_1.h5'] file found, skipping ND0014/Pos9\n",
      "['/home/nathan/data/kraken/ras/ND0014/Pos4/untrans_objects_type_2.h5', '/home/nathan/data/kraken/ras/ND0014/Pos4/untrans_no_bg_objects_type_2.h5', '/home/nathan/data/kraken/ras/ND0014/Pos4/untrans_objects_type_1.h5', '/home/nathan/data/kraken/ras/ND0014/Pos4/untrans_no_bg_objects_type_1.h5'] file found, skipping ND0014/Pos4\n",
      "['/home/nathan/data/kraken/ras/ND0014/Pos12/untrans_objects_type_2.h5', '/home/nathan/data/kraken/ras/ND0014/Pos12/untrans_no_bg_objects_type_2.h5', '/home/nathan/data/kraken/ras/ND0014/Pos12/untrans_objects_type_1.h5', '/home/nathan/data/kraken/ras/ND0014/Pos12/untrans_no_bg_objects_type_1.h5'] file found, skipping ND0014/Pos12\n"
     ]
    },
    {
     "data": {
      "application/vnd.jupyter.widget-view+json": {
       "model_id": "3382c3ee36f649d9b8706391e03be01f",
       "version_major": 2,
       "version_minor": 0
      },
      "text/plain": [
       "  0%|          | 0/15 [00:00<?, ?it/s]"
      ]
     },
     "metadata": {},
     "output_type": "display_data"
    },
    {
     "name": "stdout",
     "output_type": "stream",
     "text": [
      "['/home/nathan/data/kraken/ras/ND0010/Pos5/objects.h5', '/home/nathan/data/kraken/ras/ND0010/Pos5/untrans_objects_type_2.h5', '/home/nathan/data/kraken/ras/ND0010/Pos5/objects_type_1.h5', '/home/nathan/data/kraken/ras/ND0010/Pos5/objects_type_2.h5', '/home/nathan/data/kraken/ras/ND0010/Pos5/untrans_no_bg_objects_type_2.h5', '/home/nathan/data/kraken/ras/ND0010/Pos5/untrans_objects_type_1.h5', '/home/nathan/data/kraken/ras/ND0010/Pos5/untrans_no_bg_objects_type_1.h5'] file found, skipping ND0010/Pos5\n",
      "['/home/nathan/data/kraken/ras/ND0010/Pos11/objects.h5', '/home/nathan/data/kraken/ras/ND0010/Pos11/untrans_objects_type_2.h5', '/home/nathan/data/kraken/ras/ND0010/Pos11/objects_type_1.h5', '/home/nathan/data/kraken/ras/ND0010/Pos11/objects_type_2.h5', '/home/nathan/data/kraken/ras/ND0010/Pos11/untrans_no_bg_objects_type_2.h5', '/home/nathan/data/kraken/ras/ND0010/Pos11/untrans_objects_type_1.h5', '/home/nathan/data/kraken/ras/ND0010/Pos11/untrans_no_bg_objects_type_1.h5'] file found, skipping ND0010/Pos11\n",
      "['/home/nathan/data/kraken/ras/ND0010/Pos3/objects.h5', '/home/nathan/data/kraken/ras/ND0010/Pos3/objects_type_1.h5', '/home/nathan/data/kraken/ras/ND0010/Pos3/objects_type_2.h5', '/home/nathan/data/kraken/ras/ND0010/Pos3/untrans_objects_type_1.h5', '/home/nathan/data/kraken/ras/ND0010/Pos3/untrans_no_bg_objects_type_1.h5'] file found, skipping ND0010/Pos3\n",
      "['/home/nathan/data/kraken/ras/ND0010/Pos1/objects.h5', '/home/nathan/data/kraken/ras/ND0010/Pos1/untrans_objects_type_2.h5', '/home/nathan/data/kraken/ras/ND0010/Pos1/objects_type_1.h5', '/home/nathan/data/kraken/ras/ND0010/Pos1/objects_type_2.h5', '/home/nathan/data/kraken/ras/ND0010/Pos1/untrans_no_bg_objects_type_2.h5', '/home/nathan/data/kraken/ras/ND0010/Pos1/untrans_objects_type_1.h5', '/home/nathan/data/kraken/ras/ND0010/Pos1/untrans_no_bg_objects_type_1.h5'] file found, skipping ND0010/Pos1\n",
      "['/home/nathan/data/kraken/ras/ND0010/Pos8/objects.h5', '/home/nathan/data/kraken/ras/ND0010/Pos8/untrans_objects_type_2.h5', '/home/nathan/data/kraken/ras/ND0010/Pos8/objects_type_1.h5', '/home/nathan/data/kraken/ras/ND0010/Pos8/objects_type_2.h5', '/home/nathan/data/kraken/ras/ND0010/Pos8/untrans_no_bg_objects_type_2.h5', '/home/nathan/data/kraken/ras/ND0010/Pos8/untrans_objects_type_1.h5', '/home/nathan/data/kraken/ras/ND0010/Pos8/untrans_no_bg_objects_type_1.h5'] file found, skipping ND0010/Pos8\n",
      "['/home/nathan/data/kraken/ras/ND0010/Pos10/objects.h5', '/home/nathan/data/kraken/ras/ND0010/Pos10/untrans_objects_type_2.h5', '/home/nathan/data/kraken/ras/ND0010/Pos10/objects_type_1.h5', '/home/nathan/data/kraken/ras/ND0010/Pos10/objects_type_2.h5', '/home/nathan/data/kraken/ras/ND0010/Pos10/untrans_no_bg_objects_type_2.h5', '/home/nathan/data/kraken/ras/ND0010/Pos10/untrans_objects_type_1.h5', '/home/nathan/data/kraken/ras/ND0010/Pos10/untrans_no_bg_objects_type_1.h5'] file found, skipping ND0010/Pos10\n",
      "['/home/nathan/data/kraken/ras/ND0010/Pos0/objects.h5', '/home/nathan/data/kraken/ras/ND0010/Pos0/untrans_objects_type_2.h5', '/home/nathan/data/kraken/ras/ND0010/Pos0/objects_type_1.h5', '/home/nathan/data/kraken/ras/ND0010/Pos0/objects_type_2.h5', '/home/nathan/data/kraken/ras/ND0010/Pos0/untrans_no_bg_objects_type_2.h5', '/home/nathan/data/kraken/ras/ND0010/Pos0/untrans_objects_type_1.h5', '/home/nathan/data/kraken/ras/ND0010/Pos0/untrans_no_bg_objects_type_1.h5'] file found, skipping ND0010/Pos0\n",
      "['/home/nathan/data/kraken/ras/ND0010/Pos2/untrans_objects_type_2.h5', '/home/nathan/data/kraken/ras/ND0010/Pos2/objects_type_1.h5', '/home/nathan/data/kraken/ras/ND0010/Pos2/objects_type_2.h5', '/home/nathan/data/kraken/ras/ND0010/Pos2/untrans_no_bg_objects_type_2.h5', '/home/nathan/data/kraken/ras/ND0010/Pos2/untrans_objects_type_1.h5', '/home/nathan/data/kraken/ras/ND0010/Pos2/untrans_no_bg_objects_type_1.h5'] file found, skipping ND0010/Pos2\n",
      "['/home/nathan/data/kraken/ras/ND0010/Pos6/untrans_objects_type_2.h5', '/home/nathan/data/kraken/ras/ND0010/Pos6/objects_type_1.h5', '/home/nathan/data/kraken/ras/ND0010/Pos6/objects_type_2.h5', '/home/nathan/data/kraken/ras/ND0010/Pos6/untrans_no_bg_objects_type_2.h5', '/home/nathan/data/kraken/ras/ND0010/Pos6/untrans_objects_type_1.h5', '/home/nathan/data/kraken/ras/ND0010/Pos6/untrans_no_bg_objects_type_1.h5'] file found, skipping ND0010/Pos6\n",
      "['/home/nathan/data/kraken/ras/ND0010/Pos7/untrans_objects_type_2.h5', '/home/nathan/data/kraken/ras/ND0010/Pos7/objects_type_1.h5', '/home/nathan/data/kraken/ras/ND0010/Pos7/objects_type_2.h5', '/home/nathan/data/kraken/ras/ND0010/Pos7/untrans_no_bg_objects_type_2.h5', '/home/nathan/data/kraken/ras/ND0010/Pos7/untrans_objects_type_1.h5', '/home/nathan/data/kraken/ras/ND0010/Pos7/untrans_no_bg_objects_type_1.h5'] file found, skipping ND0010/Pos7\n",
      "['/home/nathan/data/kraken/ras/ND0010/Pos9/untrans_objects_type_2.h5', '/home/nathan/data/kraken/ras/ND0010/Pos9/objects_type_1.h5', '/home/nathan/data/kraken/ras/ND0010/Pos9/objects_type_2.h5', '/home/nathan/data/kraken/ras/ND0010/Pos9/untrans_no_bg_objects_type_2.h5', '/home/nathan/data/kraken/ras/ND0010/Pos9/untrans_objects_type_1.h5', '/home/nathan/data/kraken/ras/ND0010/Pos9/untrans_no_bg_objects_type_1.h5'] file found, skipping ND0010/Pos9\n",
      "['/home/nathan/data/kraken/ras/ND0010/Pos4/untrans_objects_type_2.h5', '/home/nathan/data/kraken/ras/ND0010/Pos4/objects_type_1.h5', '/home/nathan/data/kraken/ras/ND0010/Pos4/objects_type_2.h5', '/home/nathan/data/kraken/ras/ND0010/Pos4/untrans_no_bg_objects_type_2.h5', '/home/nathan/data/kraken/ras/ND0010/Pos4/untrans_objects_type_1.h5', '/home/nathan/data/kraken/ras/ND0010/Pos4/untrans_no_bg_objects_type_1.h5'] file found, skipping ND0010/Pos4\n"
     ]
    },
    {
     "data": {
      "application/vnd.jupyter.widget-view+json": {
       "model_id": "f9a43a1ed3134a6d90f425700aac69b4",
       "version_major": 2,
       "version_minor": 0
      },
      "text/plain": [
       "  0%|          | 0/15 [00:00<?, ?it/s]"
      ]
     },
     "metadata": {},
     "output_type": "display_data"
    },
    {
     "name": "stdout",
     "output_type": "stream",
     "text": [
      "['/home/nathan/data/kraken/ras/ND0012/Pos5/untrans_objects_type_2.h5', '/home/nathan/data/kraken/ras/ND0012/Pos5/objects_type_1.h5', '/home/nathan/data/kraken/ras/ND0012/Pos5/objects_type_2.h5', '/home/nathan/data/kraken/ras/ND0012/Pos5/untrans_no_bg_objects_type_2.h5', '/home/nathan/data/kraken/ras/ND0012/Pos5/untrans_objects_type_1.h5', '/home/nathan/data/kraken/ras/ND0012/Pos5/untrans_no_bg_objects_type_1.h5'] file found, skipping ND0012/Pos5\n",
      "['/home/nathan/data/kraken/ras/ND0012/Pos11/untrans_objects_type_2.h5', '/home/nathan/data/kraken/ras/ND0012/Pos11/objects_type_1.h5', '/home/nathan/data/kraken/ras/ND0012/Pos11/objects_type_2.h5', '/home/nathan/data/kraken/ras/ND0012/Pos11/untrans_no_bg_objects_type_2.h5', '/home/nathan/data/kraken/ras/ND0012/Pos11/untrans_objects_type_1.h5', '/home/nathan/data/kraken/ras/ND0012/Pos11/untrans_no_bg_objects_type_1.h5'] file found, skipping ND0012/Pos11\n",
      "['/home/nathan/data/kraken/ras/ND0012/Pos3/untrans_objects_type_2.h5', '/home/nathan/data/kraken/ras/ND0012/Pos3/untrans_no_bg_objects_type_2.h5', '/home/nathan/data/kraken/ras/ND0012/Pos3/untrans_objects_type_1.h5', '/home/nathan/data/kraken/ras/ND0012/Pos3/untrans_no_bg_objects_type_1.h5'] file found, skipping ND0012/Pos3\n",
      "['/home/nathan/data/kraken/ras/ND0012/Pos1/untrans_objects_type_2.h5', '/home/nathan/data/kraken/ras/ND0012/Pos1/untrans_no_bg_objects_type_2.h5', '/home/nathan/data/kraken/ras/ND0012/Pos1/untrans_objects_type_1.h5', '/home/nathan/data/kraken/ras/ND0012/Pos1/untrans_no_bg_objects_type_1.h5'] file found, skipping ND0012/Pos1\n",
      "['/home/nathan/data/kraken/ras/ND0012/Pos8/untrans_objects_type_2.h5', '/home/nathan/data/kraken/ras/ND0012/Pos8/untrans_no_bg_objects_type_2.h5', '/home/nathan/data/kraken/ras/ND0012/Pos8/untrans_objects_type_1.h5', '/home/nathan/data/kraken/ras/ND0012/Pos8/untrans_no_bg_objects_type_1.h5'] file found, skipping ND0012/Pos8\n",
      "['/home/nathan/data/kraken/ras/ND0012/Pos10/untrans_objects_type_2.h5', '/home/nathan/data/kraken/ras/ND0012/Pos10/untrans_no_bg_objects_type_2.h5', '/home/nathan/data/kraken/ras/ND0012/Pos10/untrans_objects_type_1.h5', '/home/nathan/data/kraken/ras/ND0012/Pos10/untrans_no_bg_objects_type_1.h5'] file found, skipping ND0012/Pos10\n",
      "['/home/nathan/data/kraken/ras/ND0012/Pos0/untrans_objects_type_2.h5', '/home/nathan/data/kraken/ras/ND0012/Pos0/untrans_no_bg_objects_type_2.h5', '/home/nathan/data/kraken/ras/ND0012/Pos0/untrans_objects_type_1.h5', '/home/nathan/data/kraken/ras/ND0012/Pos0/untrans_no_bg_objects_type_1.h5'] file found, skipping ND0012/Pos0\n",
      "['/home/nathan/data/kraken/ras/ND0012/Pos2/untrans_objects_type_2.h5', '/home/nathan/data/kraken/ras/ND0012/Pos2/untrans_no_bg_objects_type_2.h5', '/home/nathan/data/kraken/ras/ND0012/Pos2/untrans_objects_type_1.h5', '/home/nathan/data/kraken/ras/ND0012/Pos2/untrans_no_bg_objects_type_1.h5'] file found, skipping ND0012/Pos2\n",
      "['/home/nathan/data/kraken/ras/ND0012/Pos6/untrans_objects_type_2.h5', '/home/nathan/data/kraken/ras/ND0012/Pos6/untrans_no_bg_objects_type_2.h5', '/home/nathan/data/kraken/ras/ND0012/Pos6/untrans_objects_type_1.h5', '/home/nathan/data/kraken/ras/ND0012/Pos6/untrans_no_bg_objects_type_1.h5'] file found, skipping ND0012/Pos6\n",
      "['/home/nathan/data/kraken/ras/ND0012/Pos7/untrans_objects_type_2.h5', '/home/nathan/data/kraken/ras/ND0012/Pos7/untrans_no_bg_objects_type_2.h5', '/home/nathan/data/kraken/ras/ND0012/Pos7/untrans_objects_type_1.h5', '/home/nathan/data/kraken/ras/ND0012/Pos7/untrans_no_bg_objects_type_1.h5'] file found, skipping ND0012/Pos7\n",
      "['/home/nathan/data/kraken/ras/ND0012/Pos9/untrans_objects_type_2.h5', '/home/nathan/data/kraken/ras/ND0012/Pos9/untrans_no_bg_objects_type_2.h5', '/home/nathan/data/kraken/ras/ND0012/Pos9/untrans_objects_type_1.h5', '/home/nathan/data/kraken/ras/ND0012/Pos9/untrans_no_bg_objects_type_1.h5'] file found, skipping ND0012/Pos9\n",
      "['/home/nathan/data/kraken/ras/ND0012/Pos4/untrans_objects_type_2.h5', '/home/nathan/data/kraken/ras/ND0012/Pos4/untrans_no_bg_objects_type_2.h5', '/home/nathan/data/kraken/ras/ND0012/Pos4/untrans_objects_type_1.h5', '/home/nathan/data/kraken/ras/ND0012/Pos4/untrans_no_bg_objects_type_1.h5'] file found, skipping ND0012/Pos4\n"
     ]
    },
    {
     "data": {
      "application/vnd.jupyter.widget-view+json": {
       "model_id": "0131a88adf7a4eba8cf49ec9ee55fd40",
       "version_major": 2,
       "version_minor": 0
      },
      "text/plain": [
       "  0%|          | 0/15 [00:00<?, ?it/s]"
      ]
     },
     "metadata": {},
     "output_type": "display_data"
    },
    {
     "name": "stdout",
     "output_type": "stream",
     "text": [
      "['/home/nathan/data/kraken/ras/ND0011/Pos5/untrans_objects_type_2.h5', '/home/nathan/data/kraken/ras/ND0011/Pos5/objects_type_1.h5', '/home/nathan/data/kraken/ras/ND0011/Pos5/objects_type_2.h5', '/home/nathan/data/kraken/ras/ND0011/Pos5/untrans_no_bg_objects_type_2.h5', '/home/nathan/data/kraken/ras/ND0011/Pos5/untrans_objects_type_1.h5', '/home/nathan/data/kraken/ras/ND0011/Pos5/untrans_no_bg_objects_type_1.h5'] file found, skipping ND0011/Pos5\n",
      "['/home/nathan/data/kraken/ras/ND0011/Pos11/untrans_objects_type_2.h5', '/home/nathan/data/kraken/ras/ND0011/Pos11/objects_type_1.h5', '/home/nathan/data/kraken/ras/ND0011/Pos11/objects_type_2.h5', '/home/nathan/data/kraken/ras/ND0011/Pos11/untrans_no_bg_objects_type_2.h5', '/home/nathan/data/kraken/ras/ND0011/Pos11/untrans_objects_type_1.h5', '/home/nathan/data/kraken/ras/ND0011/Pos11/untrans_no_bg_objects_type_1.h5'] file found, skipping ND0011/Pos11\n",
      "['/home/nathan/data/kraken/ras/ND0011/Pos1/untrans_objects_type_2.h5', '/home/nathan/data/kraken/ras/ND0011/Pos1/objects_type_1.h5', '/home/nathan/data/kraken/ras/ND0011/Pos1/objects_type_2.h5', '/home/nathan/data/kraken/ras/ND0011/Pos1/untrans_no_bg_objects_type_2.h5', '/home/nathan/data/kraken/ras/ND0011/Pos1/untrans_objects_type_1.h5', '/home/nathan/data/kraken/ras/ND0011/Pos1/untrans_no_bg_objects_type_1.h5'] file found, skipping ND0011/Pos1\n",
      "['/home/nathan/data/kraken/ras/ND0011/Pos8/untrans_objects_type_2.h5', '/home/nathan/data/kraken/ras/ND0011/Pos8/objects_type_1.h5', '/home/nathan/data/kraken/ras/ND0011/Pos8/objects_type_2.h5', '/home/nathan/data/kraken/ras/ND0011/Pos8/untrans_no_bg_objects_type_2.h5', '/home/nathan/data/kraken/ras/ND0011/Pos8/untrans_objects_type_1.h5', '/home/nathan/data/kraken/ras/ND0011/Pos8/untrans_no_bg_objects_type_1.h5'] file found, skipping ND0011/Pos8\n",
      "['/home/nathan/data/kraken/ras/ND0011/Pos10/untrans_objects_type_2.h5', '/home/nathan/data/kraken/ras/ND0011/Pos10/objects_type_1.h5', '/home/nathan/data/kraken/ras/ND0011/Pos10/objects_type_2.h5', '/home/nathan/data/kraken/ras/ND0011/Pos10/untrans_no_bg_objects_type_2.h5', '/home/nathan/data/kraken/ras/ND0011/Pos10/untrans_objects_type_1.h5', '/home/nathan/data/kraken/ras/ND0011/Pos10/untrans_no_bg_objects_type_1.h5'] file found, skipping ND0011/Pos10\n",
      "['/home/nathan/data/kraken/ras/ND0011/Pos0/untrans_objects_type_2.h5', '/home/nathan/data/kraken/ras/ND0011/Pos0/objects_type_1.h5', '/home/nathan/data/kraken/ras/ND0011/Pos0/objects_type_2.h5', '/home/nathan/data/kraken/ras/ND0011/Pos0/untrans_no_bg_objects_type_2.h5', '/home/nathan/data/kraken/ras/ND0011/Pos0/untrans_objects_type_1.h5', '/home/nathan/data/kraken/ras/ND0011/Pos0/untrans_no_bg_objects_type_1.h5'] file found, skipping ND0011/Pos0\n",
      "['/home/nathan/data/kraken/ras/ND0011/Pos2/untrans_objects_type_2.h5', '/home/nathan/data/kraken/ras/ND0011/Pos2/objects_type_1.h5', '/home/nathan/data/kraken/ras/ND0011/Pos2/objects_type_2.h5', '/home/nathan/data/kraken/ras/ND0011/Pos2/untrans_no_bg_objects_type_2.h5', '/home/nathan/data/kraken/ras/ND0011/Pos2/untrans_objects_type_1.h5', '/home/nathan/data/kraken/ras/ND0011/Pos2/untrans_no_bg_objects_type_1.h5'] file found, skipping ND0011/Pos2\n",
      "['/home/nathan/data/kraken/ras/ND0011/Pos6/untrans_objects_type_2.h5', '/home/nathan/data/kraken/ras/ND0011/Pos6/objects_type_1.h5', '/home/nathan/data/kraken/ras/ND0011/Pos6/objects_type_2.h5', '/home/nathan/data/kraken/ras/ND0011/Pos6/untrans_no_bg_objects_type_2.h5', '/home/nathan/data/kraken/ras/ND0011/Pos6/untrans_objects_type_1.h5', '/home/nathan/data/kraken/ras/ND0011/Pos6/untrans_no_bg_objects_type_1.h5'] file found, skipping ND0011/Pos6\n",
      "['/home/nathan/data/kraken/ras/ND0011/Pos7/untrans_objects_type_2.h5', '/home/nathan/data/kraken/ras/ND0011/Pos7/objects_type_1.h5', '/home/nathan/data/kraken/ras/ND0011/Pos7/objects_type_2.h5', '/home/nathan/data/kraken/ras/ND0011/Pos7/untrans_no_bg_objects_type_2.h5', '/home/nathan/data/kraken/ras/ND0011/Pos7/untrans_objects_type_1.h5', '/home/nathan/data/kraken/ras/ND0011/Pos7/untrans_no_bg_objects_type_1.h5'] file found, skipping ND0011/Pos7\n",
      "['/home/nathan/data/kraken/ras/ND0011/Pos9/untrans_objects_type_2.h5', '/home/nathan/data/kraken/ras/ND0011/Pos9/objects_type_1.h5', '/home/nathan/data/kraken/ras/ND0011/Pos9/objects_type_2.h5', '/home/nathan/data/kraken/ras/ND0011/Pos9/untrans_no_bg_objects_type_2.h5', '/home/nathan/data/kraken/ras/ND0011/Pos9/untrans_objects_type_1.h5', '/home/nathan/data/kraken/ras/ND0011/Pos9/untrans_no_bg_objects_type_1.h5'] file found, skipping ND0011/Pos9\n",
      "['/home/nathan/data/kraken/ras/ND0011/Pos4/untrans_objects_type_2.h5', '/home/nathan/data/kraken/ras/ND0011/Pos4/objects_type_1.h5', '/home/nathan/data/kraken/ras/ND0011/Pos4/objects_type_2.h5', '/home/nathan/data/kraken/ras/ND0011/Pos4/untrans_no_bg_objects_type_2.h5', '/home/nathan/data/kraken/ras/ND0011/Pos4/untrans_objects_type_1.h5', '/home/nathan/data/kraken/ras/ND0011/Pos4/untrans_no_bg_objects_type_1.h5'] file found, skipping ND0011/Pos4\n"
     ]
    },
    {
     "data": {
      "application/vnd.jupyter.widget-view+json": {
       "model_id": "44fe10019e274cc4954d18b93951687d",
       "version_major": 2,
       "version_minor": 0
      },
      "text/plain": [
       "  0%|          | 0/5 [00:00<?, ?it/s]"
      ]
     },
     "metadata": {},
     "output_type": "display_data"
    },
    {
     "data": {
      "application/vnd.jupyter.widget-view+json": {
       "model_id": "fa213716d267437684dda4d803b065ba",
       "version_major": 2,
       "version_minor": 0
      },
      "text/plain": [
       "  0%|          | 0/15 [00:00<?, ?it/s]"
      ]
     },
     "metadata": {},
     "output_type": "display_data"
    },
    {
     "name": "stdout",
     "output_type": "stream",
     "text": [
      "['/home/nathan/data/kraken/ras/ND0013/Pos13/untrans_objects_type_2.h5', '/home/nathan/data/kraken/ras/ND0013/Pos13/untrans_no_bg_objects_type_2.h5', '/home/nathan/data/kraken/ras/ND0013/Pos13/untrans_objects_type_1.h5', '/home/nathan/data/kraken/ras/ND0013/Pos13/untrans_no_bg_objects_type_1.h5'] file found, skipping ND0013/Pos13\n",
      "['/home/nathan/data/kraken/ras/ND0013/Pos5/untrans_objects_type_2.h5', '/home/nathan/data/kraken/ras/ND0013/Pos5/untrans_no_bg_objects_type_2.h5', '/home/nathan/data/kraken/ras/ND0013/Pos5/untrans_objects_type_1.h5', '/home/nathan/data/kraken/ras/ND0013/Pos5/untrans_no_bg_objects_type_1.h5'] file found, skipping ND0013/Pos5\n",
      "['/home/nathan/data/kraken/ras/ND0013/Pos11/untrans_objects_type_2.h5', '/home/nathan/data/kraken/ras/ND0013/Pos11/untrans_no_bg_objects_type_2.h5', '/home/nathan/data/kraken/ras/ND0013/Pos11/untrans_objects_type_1.h5', '/home/nathan/data/kraken/ras/ND0013/Pos11/untrans_no_bg_objects_type_1.h5'] file found, skipping ND0013/Pos11\n",
      "['/home/nathan/data/kraken/ras/ND0013/Pos14/untrans_objects_type_2.h5', '/home/nathan/data/kraken/ras/ND0013/Pos14/untrans_no_bg_objects_type_2.h5', '/home/nathan/data/kraken/ras/ND0013/Pos14/untrans_objects_type_1.h5', '/home/nathan/data/kraken/ras/ND0013/Pos14/untrans_no_bg_objects_type_1.h5'] file found, skipping ND0013/Pos14\n",
      "['/home/nathan/data/kraken/ras/ND0013/Pos3/untrans_objects_type_2.h5', '/home/nathan/data/kraken/ras/ND0013/Pos3/untrans_no_bg_objects_type_2.h5', '/home/nathan/data/kraken/ras/ND0013/Pos3/untrans_objects_type_1.h5', '/home/nathan/data/kraken/ras/ND0013/Pos3/untrans_no_bg_objects_type_1.h5'] file found, skipping ND0013/Pos3\n",
      "['/home/nathan/data/kraken/ras/ND0013/Pos1/untrans_objects_type_2.h5', '/home/nathan/data/kraken/ras/ND0013/Pos1/untrans_no_bg_objects_type_2.h5', '/home/nathan/data/kraken/ras/ND0013/Pos1/untrans_objects_type_1.h5', '/home/nathan/data/kraken/ras/ND0013/Pos1/untrans_no_bg_objects_type_1.h5'] file found, skipping ND0013/Pos1\n",
      "['/home/nathan/data/kraken/ras/ND0013/Pos8/untrans_objects_type_2.h5', '/home/nathan/data/kraken/ras/ND0013/Pos8/untrans_no_bg_objects_type_2.h5', '/home/nathan/data/kraken/ras/ND0013/Pos8/untrans_objects_type_1.h5', '/home/nathan/data/kraken/ras/ND0013/Pos8/untrans_no_bg_objects_type_1.h5'] file found, skipping ND0013/Pos8\n",
      "['/home/nathan/data/kraken/ras/ND0013/Pos10/untrans_objects_type_2.h5', '/home/nathan/data/kraken/ras/ND0013/Pos10/untrans_no_bg_objects_type_2.h5', '/home/nathan/data/kraken/ras/ND0013/Pos10/untrans_objects_type_1.h5', '/home/nathan/data/kraken/ras/ND0013/Pos10/untrans_no_bg_objects_type_1.h5'] file found, skipping ND0013/Pos10\n",
      "['/home/nathan/data/kraken/ras/ND0013/Pos0/untrans_objects_type_2.h5', '/home/nathan/data/kraken/ras/ND0013/Pos0/untrans_no_bg_objects_type_2.h5', '/home/nathan/data/kraken/ras/ND0013/Pos0/untrans_objects_type_1.h5', '/home/nathan/data/kraken/ras/ND0013/Pos0/untrans_no_bg_objects_type_1.h5'] file found, skipping ND0013/Pos0\n",
      "['/home/nathan/data/kraken/ras/ND0013/Pos2/untrans_objects_type_2.h5', '/home/nathan/data/kraken/ras/ND0013/Pos2/untrans_no_bg_objects_type_2.h5', '/home/nathan/data/kraken/ras/ND0013/Pos2/untrans_objects_type_1.h5', '/home/nathan/data/kraken/ras/ND0013/Pos2/untrans_no_bg_objects_type_1.h5'] file found, skipping ND0013/Pos2\n",
      "['/home/nathan/data/kraken/ras/ND0013/Pos6/untrans_objects_type_2.h5', '/home/nathan/data/kraken/ras/ND0013/Pos6/untrans_no_bg_objects_type_2.h5', '/home/nathan/data/kraken/ras/ND0013/Pos6/untrans_objects_type_1.h5', '/home/nathan/data/kraken/ras/ND0013/Pos6/untrans_no_bg_objects_type_1.h5'] file found, skipping ND0013/Pos6\n",
      "['/home/nathan/data/kraken/ras/ND0013/Pos7/untrans_objects_type_2.h5', '/home/nathan/data/kraken/ras/ND0013/Pos7/untrans_no_bg_objects_type_2.h5', '/home/nathan/data/kraken/ras/ND0013/Pos7/untrans_objects_type_1.h5', '/home/nathan/data/kraken/ras/ND0013/Pos7/untrans_no_bg_objects_type_1.h5'] file found, skipping ND0013/Pos7\n",
      "['/home/nathan/data/kraken/ras/ND0013/Pos9/untrans_objects_type_2.h5', '/home/nathan/data/kraken/ras/ND0013/Pos9/untrans_no_bg_objects_type_2.h5', '/home/nathan/data/kraken/ras/ND0013/Pos9/untrans_objects_type_1.h5', '/home/nathan/data/kraken/ras/ND0013/Pos9/untrans_no_bg_objects_type_1.h5'] file found, skipping ND0013/Pos9\n",
      "['/home/nathan/data/kraken/ras/ND0013/Pos4/untrans_objects_type_2.h5', '/home/nathan/data/kraken/ras/ND0013/Pos4/untrans_no_bg_objects_type_2.h5', '/home/nathan/data/kraken/ras/ND0013/Pos4/untrans_objects_type_1.h5', '/home/nathan/data/kraken/ras/ND0013/Pos4/untrans_no_bg_objects_type_1.h5'] file found, skipping ND0013/Pos4\n",
      "['/home/nathan/data/kraken/ras/ND0013/Pos12/untrans_objects_type_2.h5', '/home/nathan/data/kraken/ras/ND0013/Pos12/untrans_no_bg_objects_type_2.h5', '/home/nathan/data/kraken/ras/ND0013/Pos12/untrans_objects_type_1.h5', '/home/nathan/data/kraken/ras/ND0013/Pos12/untrans_no_bg_objects_type_1.h5'] file found, skipping ND0013/Pos12\n"
     ]
    },
    {
     "data": {
      "application/vnd.jupyter.widget-view+json": {
       "model_id": "f4654e0a3cd54a41927e4fca21115131",
       "version_major": 2,
       "version_minor": 0
      },
      "text/plain": [
       "  0%|          | 0/15 [00:00<?, ?it/s]"
      ]
     },
     "metadata": {},
     "output_type": "display_data"
    },
    {
     "name": "stdout",
     "output_type": "stream",
     "text": [
      "['/home/nathan/data/kraken/ras/ND0014/Pos13/untrans_objects_type_2.h5', '/home/nathan/data/kraken/ras/ND0014/Pos13/untrans_no_bg_objects_type_2.h5', '/home/nathan/data/kraken/ras/ND0014/Pos13/untrans_objects_type_1.h5', '/home/nathan/data/kraken/ras/ND0014/Pos13/untrans_no_bg_objects_type_1.h5'] file found, skipping ND0014/Pos13\n",
      "['/home/nathan/data/kraken/ras/ND0014/Pos5/untrans_objects_type_2.h5', '/home/nathan/data/kraken/ras/ND0014/Pos5/untrans_no_bg_objects_type_2.h5', '/home/nathan/data/kraken/ras/ND0014/Pos5/untrans_objects_type_1.h5', '/home/nathan/data/kraken/ras/ND0014/Pos5/untrans_no_bg_objects_type_1.h5'] file found, skipping ND0014/Pos5\n",
      "['/home/nathan/data/kraken/ras/ND0014/Pos11/untrans_objects_type_2.h5', '/home/nathan/data/kraken/ras/ND0014/Pos11/untrans_no_bg_objects_type_2.h5', '/home/nathan/data/kraken/ras/ND0014/Pos11/untrans_objects_type_1.h5', '/home/nathan/data/kraken/ras/ND0014/Pos11/untrans_no_bg_objects_type_1.h5'] file found, skipping ND0014/Pos11\n",
      "['/home/nathan/data/kraken/ras/ND0014/Pos3/untrans_objects_type_2.h5', '/home/nathan/data/kraken/ras/ND0014/Pos3/untrans_no_bg_objects_type_2.h5', '/home/nathan/data/kraken/ras/ND0014/Pos3/untrans_objects_type_1.h5', '/home/nathan/data/kraken/ras/ND0014/Pos3/untrans_no_bg_objects_type_1.h5'] file found, skipping ND0014/Pos3\n",
      "['/home/nathan/data/kraken/ras/ND0014/Pos1/untrans_objects_type_2.h5', '/home/nathan/data/kraken/ras/ND0014/Pos1/untrans_no_bg_objects_type_2.h5', '/home/nathan/data/kraken/ras/ND0014/Pos1/untrans_objects_type_1.h5', '/home/nathan/data/kraken/ras/ND0014/Pos1/untrans_no_bg_objects_type_1.h5'] file found, skipping ND0014/Pos1\n",
      "['/home/nathan/data/kraken/ras/ND0014/Pos8/untrans_objects_type_2.h5', '/home/nathan/data/kraken/ras/ND0014/Pos8/untrans_no_bg_objects_type_2.h5', '/home/nathan/data/kraken/ras/ND0014/Pos8/untrans_objects_type_1.h5', '/home/nathan/data/kraken/ras/ND0014/Pos8/untrans_no_bg_objects_type_1.h5'] file found, skipping ND0014/Pos8\n",
      "['/home/nathan/data/kraken/ras/ND0014/Pos10/untrans_objects_type_2.h5', '/home/nathan/data/kraken/ras/ND0014/Pos10/untrans_no_bg_objects_type_2.h5', '/home/nathan/data/kraken/ras/ND0014/Pos10/untrans_objects_type_1.h5', '/home/nathan/data/kraken/ras/ND0014/Pos10/untrans_no_bg_objects_type_1.h5'] file found, skipping ND0014/Pos10\n",
      "['/home/nathan/data/kraken/ras/ND0014/Pos0/untrans_objects_type_2.h5', '/home/nathan/data/kraken/ras/ND0014/Pos0/untrans_no_bg_objects_type_2.h5', '/home/nathan/data/kraken/ras/ND0014/Pos0/untrans_objects_type_1.h5', '/home/nathan/data/kraken/ras/ND0014/Pos0/untrans_no_bg_objects_type_1.h5'] file found, skipping ND0014/Pos0\n",
      "['/home/nathan/data/kraken/ras/ND0014/Pos2/untrans_objects_type_2.h5', '/home/nathan/data/kraken/ras/ND0014/Pos2/untrans_no_bg_objects_type_2.h5', '/home/nathan/data/kraken/ras/ND0014/Pos2/untrans_objects_type_1.h5', '/home/nathan/data/kraken/ras/ND0014/Pos2/untrans_no_bg_objects_type_1.h5'] file found, skipping ND0014/Pos2\n",
      "['/home/nathan/data/kraken/ras/ND0014/Pos6/untrans_objects_type_2.h5', '/home/nathan/data/kraken/ras/ND0014/Pos6/untrans_no_bg_objects_type_2.h5', '/home/nathan/data/kraken/ras/ND0014/Pos6/untrans_objects_type_1.h5', '/home/nathan/data/kraken/ras/ND0014/Pos6/untrans_no_bg_objects_type_1.h5'] file found, skipping ND0014/Pos6\n",
      "['/home/nathan/data/kraken/ras/ND0014/Pos7/untrans_objects_type_2.h5', '/home/nathan/data/kraken/ras/ND0014/Pos7/untrans_no_bg_objects_type_2.h5', '/home/nathan/data/kraken/ras/ND0014/Pos7/untrans_objects_type_1.h5', '/home/nathan/data/kraken/ras/ND0014/Pos7/untrans_no_bg_objects_type_1.h5'] file found, skipping ND0014/Pos7\n",
      "['/home/nathan/data/kraken/ras/ND0014/Pos9/untrans_objects_type_2.h5', '/home/nathan/data/kraken/ras/ND0014/Pos9/untrans_no_bg_objects_type_2.h5', '/home/nathan/data/kraken/ras/ND0014/Pos9/untrans_objects_type_1.h5', '/home/nathan/data/kraken/ras/ND0014/Pos9/untrans_no_bg_objects_type_1.h5'] file found, skipping ND0014/Pos9\n",
      "['/home/nathan/data/kraken/ras/ND0014/Pos4/untrans_objects_type_2.h5', '/home/nathan/data/kraken/ras/ND0014/Pos4/untrans_no_bg_objects_type_2.h5', '/home/nathan/data/kraken/ras/ND0014/Pos4/untrans_objects_type_1.h5', '/home/nathan/data/kraken/ras/ND0014/Pos4/untrans_no_bg_objects_type_1.h5'] file found, skipping ND0014/Pos4\n",
      "['/home/nathan/data/kraken/ras/ND0014/Pos12/untrans_objects_type_2.h5', '/home/nathan/data/kraken/ras/ND0014/Pos12/untrans_no_bg_objects_type_2.h5', '/home/nathan/data/kraken/ras/ND0014/Pos12/untrans_objects_type_1.h5', '/home/nathan/data/kraken/ras/ND0014/Pos12/untrans_no_bg_objects_type_1.h5'] file found, skipping ND0014/Pos12\n"
     ]
    },
    {
     "data": {
      "application/vnd.jupyter.widget-view+json": {
       "model_id": "a5b43e0f1ece4435878e3a8858ce427e",
       "version_major": 2,
       "version_minor": 0
      },
      "text/plain": [
       "  0%|          | 0/15 [00:00<?, ?it/s]"
      ]
     },
     "metadata": {},
     "output_type": "display_data"
    },
    {
     "name": "stdout",
     "output_type": "stream",
     "text": [
      "['/home/nathan/data/kraken/ras/ND0010/Pos5/objects.h5', '/home/nathan/data/kraken/ras/ND0010/Pos5/untrans_objects_type_2.h5', '/home/nathan/data/kraken/ras/ND0010/Pos5/objects_type_1.h5', '/home/nathan/data/kraken/ras/ND0010/Pos5/objects_type_2.h5', '/home/nathan/data/kraken/ras/ND0010/Pos5/untrans_no_bg_objects_type_2.h5', '/home/nathan/data/kraken/ras/ND0010/Pos5/untrans_objects_type_1.h5', '/home/nathan/data/kraken/ras/ND0010/Pos5/untrans_no_bg_objects_type_1.h5'] file found, skipping ND0010/Pos5\n",
      "['/home/nathan/data/kraken/ras/ND0010/Pos11/objects.h5', '/home/nathan/data/kraken/ras/ND0010/Pos11/untrans_objects_type_2.h5', '/home/nathan/data/kraken/ras/ND0010/Pos11/objects_type_1.h5', '/home/nathan/data/kraken/ras/ND0010/Pos11/objects_type_2.h5', '/home/nathan/data/kraken/ras/ND0010/Pos11/untrans_no_bg_objects_type_2.h5', '/home/nathan/data/kraken/ras/ND0010/Pos11/untrans_objects_type_1.h5', '/home/nathan/data/kraken/ras/ND0010/Pos11/untrans_no_bg_objects_type_1.h5'] file found, skipping ND0010/Pos11\n",
      "['/home/nathan/data/kraken/ras/ND0010/Pos3/objects.h5', '/home/nathan/data/kraken/ras/ND0010/Pos3/objects_type_1.h5', '/home/nathan/data/kraken/ras/ND0010/Pos3/objects_type_2.h5', '/home/nathan/data/kraken/ras/ND0010/Pos3/untrans_objects_type_1.h5', '/home/nathan/data/kraken/ras/ND0010/Pos3/untrans_no_bg_objects_type_1.h5'] file found, skipping ND0010/Pos3\n",
      "['/home/nathan/data/kraken/ras/ND0010/Pos1/objects.h5', '/home/nathan/data/kraken/ras/ND0010/Pos1/untrans_objects_type_2.h5', '/home/nathan/data/kraken/ras/ND0010/Pos1/objects_type_1.h5', '/home/nathan/data/kraken/ras/ND0010/Pos1/objects_type_2.h5', '/home/nathan/data/kraken/ras/ND0010/Pos1/untrans_no_bg_objects_type_2.h5', '/home/nathan/data/kraken/ras/ND0010/Pos1/untrans_objects_type_1.h5', '/home/nathan/data/kraken/ras/ND0010/Pos1/untrans_no_bg_objects_type_1.h5'] file found, skipping ND0010/Pos1\n",
      "['/home/nathan/data/kraken/ras/ND0010/Pos8/objects.h5', '/home/nathan/data/kraken/ras/ND0010/Pos8/untrans_objects_type_2.h5', '/home/nathan/data/kraken/ras/ND0010/Pos8/objects_type_1.h5', '/home/nathan/data/kraken/ras/ND0010/Pos8/objects_type_2.h5', '/home/nathan/data/kraken/ras/ND0010/Pos8/untrans_no_bg_objects_type_2.h5', '/home/nathan/data/kraken/ras/ND0010/Pos8/untrans_objects_type_1.h5', '/home/nathan/data/kraken/ras/ND0010/Pos8/untrans_no_bg_objects_type_1.h5'] file found, skipping ND0010/Pos8\n",
      "['/home/nathan/data/kraken/ras/ND0010/Pos10/objects.h5', '/home/nathan/data/kraken/ras/ND0010/Pos10/untrans_objects_type_2.h5', '/home/nathan/data/kraken/ras/ND0010/Pos10/objects_type_1.h5', '/home/nathan/data/kraken/ras/ND0010/Pos10/objects_type_2.h5', '/home/nathan/data/kraken/ras/ND0010/Pos10/untrans_no_bg_objects_type_2.h5', '/home/nathan/data/kraken/ras/ND0010/Pos10/untrans_objects_type_1.h5', '/home/nathan/data/kraken/ras/ND0010/Pos10/untrans_no_bg_objects_type_1.h5'] file found, skipping ND0010/Pos10\n",
      "['/home/nathan/data/kraken/ras/ND0010/Pos0/objects.h5', '/home/nathan/data/kraken/ras/ND0010/Pos0/untrans_objects_type_2.h5', '/home/nathan/data/kraken/ras/ND0010/Pos0/objects_type_1.h5', '/home/nathan/data/kraken/ras/ND0010/Pos0/objects_type_2.h5', '/home/nathan/data/kraken/ras/ND0010/Pos0/untrans_no_bg_objects_type_2.h5', '/home/nathan/data/kraken/ras/ND0010/Pos0/untrans_objects_type_1.h5', '/home/nathan/data/kraken/ras/ND0010/Pos0/untrans_no_bg_objects_type_1.h5'] file found, skipping ND0010/Pos0\n",
      "['/home/nathan/data/kraken/ras/ND0010/Pos2/untrans_objects_type_2.h5', '/home/nathan/data/kraken/ras/ND0010/Pos2/objects_type_1.h5', '/home/nathan/data/kraken/ras/ND0010/Pos2/objects_type_2.h5', '/home/nathan/data/kraken/ras/ND0010/Pos2/untrans_no_bg_objects_type_2.h5', '/home/nathan/data/kraken/ras/ND0010/Pos2/untrans_objects_type_1.h5', '/home/nathan/data/kraken/ras/ND0010/Pos2/untrans_no_bg_objects_type_1.h5'] file found, skipping ND0010/Pos2\n",
      "['/home/nathan/data/kraken/ras/ND0010/Pos6/untrans_objects_type_2.h5', '/home/nathan/data/kraken/ras/ND0010/Pos6/objects_type_1.h5', '/home/nathan/data/kraken/ras/ND0010/Pos6/objects_type_2.h5', '/home/nathan/data/kraken/ras/ND0010/Pos6/untrans_no_bg_objects_type_2.h5', '/home/nathan/data/kraken/ras/ND0010/Pos6/untrans_objects_type_1.h5', '/home/nathan/data/kraken/ras/ND0010/Pos6/untrans_no_bg_objects_type_1.h5'] file found, skipping ND0010/Pos6\n",
      "['/home/nathan/data/kraken/ras/ND0010/Pos7/untrans_objects_type_2.h5', '/home/nathan/data/kraken/ras/ND0010/Pos7/objects_type_1.h5', '/home/nathan/data/kraken/ras/ND0010/Pos7/objects_type_2.h5', '/home/nathan/data/kraken/ras/ND0010/Pos7/untrans_no_bg_objects_type_2.h5', '/home/nathan/data/kraken/ras/ND0010/Pos7/untrans_objects_type_1.h5', '/home/nathan/data/kraken/ras/ND0010/Pos7/untrans_no_bg_objects_type_1.h5'] file found, skipping ND0010/Pos7\n",
      "['/home/nathan/data/kraken/ras/ND0010/Pos9/untrans_objects_type_2.h5', '/home/nathan/data/kraken/ras/ND0010/Pos9/objects_type_1.h5', '/home/nathan/data/kraken/ras/ND0010/Pos9/objects_type_2.h5', '/home/nathan/data/kraken/ras/ND0010/Pos9/untrans_no_bg_objects_type_2.h5', '/home/nathan/data/kraken/ras/ND0010/Pos9/untrans_objects_type_1.h5', '/home/nathan/data/kraken/ras/ND0010/Pos9/untrans_no_bg_objects_type_1.h5'] file found, skipping ND0010/Pos9\n",
      "['/home/nathan/data/kraken/ras/ND0010/Pos4/untrans_objects_type_2.h5', '/home/nathan/data/kraken/ras/ND0010/Pos4/objects_type_1.h5', '/home/nathan/data/kraken/ras/ND0010/Pos4/objects_type_2.h5', '/home/nathan/data/kraken/ras/ND0010/Pos4/untrans_no_bg_objects_type_2.h5', '/home/nathan/data/kraken/ras/ND0010/Pos4/untrans_objects_type_1.h5', '/home/nathan/data/kraken/ras/ND0010/Pos4/untrans_no_bg_objects_type_1.h5'] file found, skipping ND0010/Pos4\n"
     ]
    },
    {
     "data": {
      "application/vnd.jupyter.widget-view+json": {
       "model_id": "3cee0dca4516406f8eedbbc200c7e1d5",
       "version_major": 2,
       "version_minor": 0
      },
      "text/plain": [
       "  0%|          | 0/15 [00:00<?, ?it/s]"
      ]
     },
     "metadata": {},
     "output_type": "display_data"
    },
    {
     "name": "stdout",
     "output_type": "stream",
     "text": [
      "['/home/nathan/data/kraken/ras/ND0012/Pos5/untrans_objects_type_2.h5', '/home/nathan/data/kraken/ras/ND0012/Pos5/objects_type_1.h5', '/home/nathan/data/kraken/ras/ND0012/Pos5/objects_type_2.h5', '/home/nathan/data/kraken/ras/ND0012/Pos5/untrans_no_bg_objects_type_2.h5', '/home/nathan/data/kraken/ras/ND0012/Pos5/untrans_objects_type_1.h5', '/home/nathan/data/kraken/ras/ND0012/Pos5/untrans_no_bg_objects_type_1.h5'] file found, skipping ND0012/Pos5\n",
      "['/home/nathan/data/kraken/ras/ND0012/Pos11/untrans_objects_type_2.h5', '/home/nathan/data/kraken/ras/ND0012/Pos11/objects_type_1.h5', '/home/nathan/data/kraken/ras/ND0012/Pos11/objects_type_2.h5', '/home/nathan/data/kraken/ras/ND0012/Pos11/untrans_no_bg_objects_type_2.h5', '/home/nathan/data/kraken/ras/ND0012/Pos11/untrans_objects_type_1.h5', '/home/nathan/data/kraken/ras/ND0012/Pos11/untrans_no_bg_objects_type_1.h5'] file found, skipping ND0012/Pos11\n",
      "['/home/nathan/data/kraken/ras/ND0012/Pos3/untrans_objects_type_2.h5', '/home/nathan/data/kraken/ras/ND0012/Pos3/untrans_no_bg_objects_type_2.h5', '/home/nathan/data/kraken/ras/ND0012/Pos3/untrans_objects_type_1.h5', '/home/nathan/data/kraken/ras/ND0012/Pos3/untrans_no_bg_objects_type_1.h5'] file found, skipping ND0012/Pos3\n",
      "['/home/nathan/data/kraken/ras/ND0012/Pos1/untrans_objects_type_2.h5', '/home/nathan/data/kraken/ras/ND0012/Pos1/untrans_no_bg_objects_type_2.h5', '/home/nathan/data/kraken/ras/ND0012/Pos1/untrans_objects_type_1.h5', '/home/nathan/data/kraken/ras/ND0012/Pos1/untrans_no_bg_objects_type_1.h5'] file found, skipping ND0012/Pos1\n",
      "['/home/nathan/data/kraken/ras/ND0012/Pos8/untrans_objects_type_2.h5', '/home/nathan/data/kraken/ras/ND0012/Pos8/untrans_no_bg_objects_type_2.h5', '/home/nathan/data/kraken/ras/ND0012/Pos8/untrans_objects_type_1.h5', '/home/nathan/data/kraken/ras/ND0012/Pos8/untrans_no_bg_objects_type_1.h5'] file found, skipping ND0012/Pos8\n",
      "['/home/nathan/data/kraken/ras/ND0012/Pos10/untrans_objects_type_2.h5', '/home/nathan/data/kraken/ras/ND0012/Pos10/untrans_no_bg_objects_type_2.h5', '/home/nathan/data/kraken/ras/ND0012/Pos10/untrans_objects_type_1.h5', '/home/nathan/data/kraken/ras/ND0012/Pos10/untrans_no_bg_objects_type_1.h5'] file found, skipping ND0012/Pos10\n",
      "['/home/nathan/data/kraken/ras/ND0012/Pos0/untrans_objects_type_2.h5', '/home/nathan/data/kraken/ras/ND0012/Pos0/untrans_no_bg_objects_type_2.h5', '/home/nathan/data/kraken/ras/ND0012/Pos0/untrans_objects_type_1.h5', '/home/nathan/data/kraken/ras/ND0012/Pos0/untrans_no_bg_objects_type_1.h5'] file found, skipping ND0012/Pos0\n",
      "['/home/nathan/data/kraken/ras/ND0012/Pos2/untrans_objects_type_2.h5', '/home/nathan/data/kraken/ras/ND0012/Pos2/untrans_no_bg_objects_type_2.h5', '/home/nathan/data/kraken/ras/ND0012/Pos2/untrans_objects_type_1.h5', '/home/nathan/data/kraken/ras/ND0012/Pos2/untrans_no_bg_objects_type_1.h5'] file found, skipping ND0012/Pos2\n",
      "['/home/nathan/data/kraken/ras/ND0012/Pos6/untrans_objects_type_2.h5', '/home/nathan/data/kraken/ras/ND0012/Pos6/untrans_no_bg_objects_type_2.h5', '/home/nathan/data/kraken/ras/ND0012/Pos6/untrans_objects_type_1.h5', '/home/nathan/data/kraken/ras/ND0012/Pos6/untrans_no_bg_objects_type_1.h5'] file found, skipping ND0012/Pos6\n",
      "['/home/nathan/data/kraken/ras/ND0012/Pos7/untrans_objects_type_2.h5', '/home/nathan/data/kraken/ras/ND0012/Pos7/untrans_no_bg_objects_type_2.h5', '/home/nathan/data/kraken/ras/ND0012/Pos7/untrans_objects_type_1.h5', '/home/nathan/data/kraken/ras/ND0012/Pos7/untrans_no_bg_objects_type_1.h5'] file found, skipping ND0012/Pos7\n",
      "['/home/nathan/data/kraken/ras/ND0012/Pos9/untrans_objects_type_2.h5', '/home/nathan/data/kraken/ras/ND0012/Pos9/untrans_no_bg_objects_type_2.h5', '/home/nathan/data/kraken/ras/ND0012/Pos9/untrans_objects_type_1.h5', '/home/nathan/data/kraken/ras/ND0012/Pos9/untrans_no_bg_objects_type_1.h5'] file found, skipping ND0012/Pos9\n",
      "['/home/nathan/data/kraken/ras/ND0012/Pos4/untrans_objects_type_2.h5', '/home/nathan/data/kraken/ras/ND0012/Pos4/untrans_no_bg_objects_type_2.h5', '/home/nathan/data/kraken/ras/ND0012/Pos4/untrans_objects_type_1.h5', '/home/nathan/data/kraken/ras/ND0012/Pos4/untrans_no_bg_objects_type_1.h5'] file found, skipping ND0012/Pos4\n"
     ]
    },
    {
     "data": {
      "application/vnd.jupyter.widget-view+json": {
       "model_id": "af1ac6108b364f9098286b1a5bda6a5e",
       "version_major": 2,
       "version_minor": 0
      },
      "text/plain": [
       "  0%|          | 0/15 [00:00<?, ?it/s]"
      ]
     },
     "metadata": {},
     "output_type": "display_data"
    },
    {
     "name": "stdout",
     "output_type": "stream",
     "text": [
      "['/home/nathan/data/kraken/ras/ND0011/Pos5/untrans_objects_type_2.h5', '/home/nathan/data/kraken/ras/ND0011/Pos5/objects_type_1.h5', '/home/nathan/data/kraken/ras/ND0011/Pos5/objects_type_2.h5', '/home/nathan/data/kraken/ras/ND0011/Pos5/untrans_no_bg_objects_type_2.h5', '/home/nathan/data/kraken/ras/ND0011/Pos5/untrans_objects_type_1.h5', '/home/nathan/data/kraken/ras/ND0011/Pos5/untrans_no_bg_objects_type_1.h5'] file found, skipping ND0011/Pos5\n",
      "['/home/nathan/data/kraken/ras/ND0011/Pos11/untrans_objects_type_2.h5', '/home/nathan/data/kraken/ras/ND0011/Pos11/objects_type_1.h5', '/home/nathan/data/kraken/ras/ND0011/Pos11/objects_type_2.h5', '/home/nathan/data/kraken/ras/ND0011/Pos11/untrans_no_bg_objects_type_2.h5', '/home/nathan/data/kraken/ras/ND0011/Pos11/untrans_objects_type_1.h5', '/home/nathan/data/kraken/ras/ND0011/Pos11/untrans_no_bg_objects_type_1.h5'] file found, skipping ND0011/Pos11\n",
      "['/home/nathan/data/kraken/ras/ND0011/Pos1/untrans_objects_type_2.h5', '/home/nathan/data/kraken/ras/ND0011/Pos1/objects_type_1.h5', '/home/nathan/data/kraken/ras/ND0011/Pos1/objects_type_2.h5', '/home/nathan/data/kraken/ras/ND0011/Pos1/untrans_no_bg_objects_type_2.h5', '/home/nathan/data/kraken/ras/ND0011/Pos1/untrans_objects_type_1.h5', '/home/nathan/data/kraken/ras/ND0011/Pos1/untrans_no_bg_objects_type_1.h5'] file found, skipping ND0011/Pos1\n",
      "['/home/nathan/data/kraken/ras/ND0011/Pos8/untrans_objects_type_2.h5', '/home/nathan/data/kraken/ras/ND0011/Pos8/objects_type_1.h5', '/home/nathan/data/kraken/ras/ND0011/Pos8/objects_type_2.h5', '/home/nathan/data/kraken/ras/ND0011/Pos8/untrans_no_bg_objects_type_2.h5', '/home/nathan/data/kraken/ras/ND0011/Pos8/untrans_objects_type_1.h5', '/home/nathan/data/kraken/ras/ND0011/Pos8/untrans_no_bg_objects_type_1.h5'] file found, skipping ND0011/Pos8\n",
      "['/home/nathan/data/kraken/ras/ND0011/Pos10/untrans_objects_type_2.h5', '/home/nathan/data/kraken/ras/ND0011/Pos10/objects_type_1.h5', '/home/nathan/data/kraken/ras/ND0011/Pos10/objects_type_2.h5', '/home/nathan/data/kraken/ras/ND0011/Pos10/untrans_no_bg_objects_type_2.h5', '/home/nathan/data/kraken/ras/ND0011/Pos10/untrans_objects_type_1.h5', '/home/nathan/data/kraken/ras/ND0011/Pos10/untrans_no_bg_objects_type_1.h5'] file found, skipping ND0011/Pos10\n",
      "['/home/nathan/data/kraken/ras/ND0011/Pos0/untrans_objects_type_2.h5', '/home/nathan/data/kraken/ras/ND0011/Pos0/objects_type_1.h5', '/home/nathan/data/kraken/ras/ND0011/Pos0/objects_type_2.h5', '/home/nathan/data/kraken/ras/ND0011/Pos0/untrans_no_bg_objects_type_2.h5', '/home/nathan/data/kraken/ras/ND0011/Pos0/untrans_objects_type_1.h5', '/home/nathan/data/kraken/ras/ND0011/Pos0/untrans_no_bg_objects_type_1.h5'] file found, skipping ND0011/Pos0\n",
      "['/home/nathan/data/kraken/ras/ND0011/Pos2/untrans_objects_type_2.h5', '/home/nathan/data/kraken/ras/ND0011/Pos2/objects_type_1.h5', '/home/nathan/data/kraken/ras/ND0011/Pos2/objects_type_2.h5', '/home/nathan/data/kraken/ras/ND0011/Pos2/untrans_no_bg_objects_type_2.h5', '/home/nathan/data/kraken/ras/ND0011/Pos2/untrans_objects_type_1.h5', '/home/nathan/data/kraken/ras/ND0011/Pos2/untrans_no_bg_objects_type_1.h5'] file found, skipping ND0011/Pos2\n",
      "['/home/nathan/data/kraken/ras/ND0011/Pos6/untrans_objects_type_2.h5', '/home/nathan/data/kraken/ras/ND0011/Pos6/objects_type_1.h5', '/home/nathan/data/kraken/ras/ND0011/Pos6/objects_type_2.h5', '/home/nathan/data/kraken/ras/ND0011/Pos6/untrans_no_bg_objects_type_2.h5', '/home/nathan/data/kraken/ras/ND0011/Pos6/untrans_objects_type_1.h5', '/home/nathan/data/kraken/ras/ND0011/Pos6/untrans_no_bg_objects_type_1.h5'] file found, skipping ND0011/Pos6\n",
      "['/home/nathan/data/kraken/ras/ND0011/Pos7/untrans_objects_type_2.h5', '/home/nathan/data/kraken/ras/ND0011/Pos7/objects_type_1.h5', '/home/nathan/data/kraken/ras/ND0011/Pos7/objects_type_2.h5', '/home/nathan/data/kraken/ras/ND0011/Pos7/untrans_no_bg_objects_type_2.h5', '/home/nathan/data/kraken/ras/ND0011/Pos7/untrans_objects_type_1.h5', '/home/nathan/data/kraken/ras/ND0011/Pos7/untrans_no_bg_objects_type_1.h5'] file found, skipping ND0011/Pos7\n",
      "['/home/nathan/data/kraken/ras/ND0011/Pos9/untrans_objects_type_2.h5', '/home/nathan/data/kraken/ras/ND0011/Pos9/objects_type_1.h5', '/home/nathan/data/kraken/ras/ND0011/Pos9/objects_type_2.h5', '/home/nathan/data/kraken/ras/ND0011/Pos9/untrans_no_bg_objects_type_2.h5', '/home/nathan/data/kraken/ras/ND0011/Pos9/untrans_objects_type_1.h5', '/home/nathan/data/kraken/ras/ND0011/Pos9/untrans_no_bg_objects_type_1.h5'] file found, skipping ND0011/Pos9\n",
      "['/home/nathan/data/kraken/ras/ND0011/Pos4/untrans_objects_type_2.h5', '/home/nathan/data/kraken/ras/ND0011/Pos4/objects_type_1.h5', '/home/nathan/data/kraken/ras/ND0011/Pos4/objects_type_2.h5', '/home/nathan/data/kraken/ras/ND0011/Pos4/untrans_no_bg_objects_type_2.h5', '/home/nathan/data/kraken/ras/ND0011/Pos4/untrans_objects_type_1.h5', '/home/nathan/data/kraken/ras/ND0011/Pos4/untrans_no_bg_objects_type_1.h5'] file found, skipping ND0011/Pos4\n"
     ]
    },
    {
     "data": {
      "application/vnd.jupyter.widget-view+json": {
       "model_id": "ad3bde18effa4f6e8223ad49b3935faa",
       "version_major": 2,
       "version_minor": 0
      },
      "text/plain": [
       "  0%|          | 0/5 [00:00<?, ?it/s]"
      ]
     },
     "metadata": {},
     "output_type": "display_data"
    },
    {
     "data": {
      "application/vnd.jupyter.widget-view+json": {
       "model_id": "0f3601865e7b4237a720577a9c398746",
       "version_major": 2,
       "version_minor": 0
      },
      "text/plain": [
       "  0%|          | 0/15 [00:00<?, ?it/s]"
      ]
     },
     "metadata": {},
     "output_type": "display_data"
    },
    {
     "name": "stdout",
     "output_type": "stream",
     "text": [
      "['/home/nathan/data/kraken/ras/ND0013/Pos13/untrans_objects_type_2.h5', '/home/nathan/data/kraken/ras/ND0013/Pos13/untrans_no_bg_objects_type_2.h5', '/home/nathan/data/kraken/ras/ND0013/Pos13/untrans_objects_type_1.h5', '/home/nathan/data/kraken/ras/ND0013/Pos13/untrans_no_bg_objects_type_1.h5'] file found, skipping ND0013/Pos13\n",
      "['/home/nathan/data/kraken/ras/ND0013/Pos5/untrans_objects_type_2.h5', '/home/nathan/data/kraken/ras/ND0013/Pos5/untrans_no_bg_objects_type_2.h5', '/home/nathan/data/kraken/ras/ND0013/Pos5/untrans_objects_type_1.h5', '/home/nathan/data/kraken/ras/ND0013/Pos5/untrans_no_bg_objects_type_1.h5'] file found, skipping ND0013/Pos5\n",
      "['/home/nathan/data/kraken/ras/ND0013/Pos11/untrans_objects_type_2.h5', '/home/nathan/data/kraken/ras/ND0013/Pos11/untrans_no_bg_objects_type_2.h5', '/home/nathan/data/kraken/ras/ND0013/Pos11/untrans_objects_type_1.h5', '/home/nathan/data/kraken/ras/ND0013/Pos11/untrans_no_bg_objects_type_1.h5'] file found, skipping ND0013/Pos11\n",
      "['/home/nathan/data/kraken/ras/ND0013/Pos14/untrans_objects_type_2.h5', '/home/nathan/data/kraken/ras/ND0013/Pos14/untrans_no_bg_objects_type_2.h5', '/home/nathan/data/kraken/ras/ND0013/Pos14/untrans_objects_type_1.h5', '/home/nathan/data/kraken/ras/ND0013/Pos14/untrans_no_bg_objects_type_1.h5'] file found, skipping ND0013/Pos14\n",
      "['/home/nathan/data/kraken/ras/ND0013/Pos3/untrans_objects_type_2.h5', '/home/nathan/data/kraken/ras/ND0013/Pos3/untrans_no_bg_objects_type_2.h5', '/home/nathan/data/kraken/ras/ND0013/Pos3/untrans_objects_type_1.h5', '/home/nathan/data/kraken/ras/ND0013/Pos3/untrans_no_bg_objects_type_1.h5'] file found, skipping ND0013/Pos3\n",
      "['/home/nathan/data/kraken/ras/ND0013/Pos1/untrans_objects_type_2.h5', '/home/nathan/data/kraken/ras/ND0013/Pos1/untrans_no_bg_objects_type_2.h5', '/home/nathan/data/kraken/ras/ND0013/Pos1/untrans_objects_type_1.h5', '/home/nathan/data/kraken/ras/ND0013/Pos1/untrans_no_bg_objects_type_1.h5'] file found, skipping ND0013/Pos1\n",
      "['/home/nathan/data/kraken/ras/ND0013/Pos8/untrans_objects_type_2.h5', '/home/nathan/data/kraken/ras/ND0013/Pos8/untrans_no_bg_objects_type_2.h5', '/home/nathan/data/kraken/ras/ND0013/Pos8/untrans_objects_type_1.h5', '/home/nathan/data/kraken/ras/ND0013/Pos8/untrans_no_bg_objects_type_1.h5'] file found, skipping ND0013/Pos8\n",
      "['/home/nathan/data/kraken/ras/ND0013/Pos10/untrans_objects_type_2.h5', '/home/nathan/data/kraken/ras/ND0013/Pos10/untrans_no_bg_objects_type_2.h5', '/home/nathan/data/kraken/ras/ND0013/Pos10/untrans_objects_type_1.h5', '/home/nathan/data/kraken/ras/ND0013/Pos10/untrans_no_bg_objects_type_1.h5'] file found, skipping ND0013/Pos10\n",
      "['/home/nathan/data/kraken/ras/ND0013/Pos0/untrans_objects_type_2.h5', '/home/nathan/data/kraken/ras/ND0013/Pos0/untrans_no_bg_objects_type_2.h5', '/home/nathan/data/kraken/ras/ND0013/Pos0/untrans_objects_type_1.h5', '/home/nathan/data/kraken/ras/ND0013/Pos0/untrans_no_bg_objects_type_1.h5'] file found, skipping ND0013/Pos0\n",
      "['/home/nathan/data/kraken/ras/ND0013/Pos2/untrans_objects_type_2.h5', '/home/nathan/data/kraken/ras/ND0013/Pos2/untrans_no_bg_objects_type_2.h5', '/home/nathan/data/kraken/ras/ND0013/Pos2/untrans_objects_type_1.h5', '/home/nathan/data/kraken/ras/ND0013/Pos2/untrans_no_bg_objects_type_1.h5'] file found, skipping ND0013/Pos2\n",
      "['/home/nathan/data/kraken/ras/ND0013/Pos6/untrans_objects_type_2.h5', '/home/nathan/data/kraken/ras/ND0013/Pos6/untrans_no_bg_objects_type_2.h5', '/home/nathan/data/kraken/ras/ND0013/Pos6/untrans_objects_type_1.h5', '/home/nathan/data/kraken/ras/ND0013/Pos6/untrans_no_bg_objects_type_1.h5'] file found, skipping ND0013/Pos6\n",
      "['/home/nathan/data/kraken/ras/ND0013/Pos7/untrans_objects_type_2.h5', '/home/nathan/data/kraken/ras/ND0013/Pos7/untrans_no_bg_objects_type_2.h5', '/home/nathan/data/kraken/ras/ND0013/Pos7/untrans_objects_type_1.h5', '/home/nathan/data/kraken/ras/ND0013/Pos7/untrans_no_bg_objects_type_1.h5'] file found, skipping ND0013/Pos7\n",
      "['/home/nathan/data/kraken/ras/ND0013/Pos9/untrans_objects_type_2.h5', '/home/nathan/data/kraken/ras/ND0013/Pos9/untrans_no_bg_objects_type_2.h5', '/home/nathan/data/kraken/ras/ND0013/Pos9/untrans_objects_type_1.h5', '/home/nathan/data/kraken/ras/ND0013/Pos9/untrans_no_bg_objects_type_1.h5'] file found, skipping ND0013/Pos9\n",
      "['/home/nathan/data/kraken/ras/ND0013/Pos4/untrans_objects_type_2.h5', '/home/nathan/data/kraken/ras/ND0013/Pos4/untrans_no_bg_objects_type_2.h5', '/home/nathan/data/kraken/ras/ND0013/Pos4/untrans_objects_type_1.h5', '/home/nathan/data/kraken/ras/ND0013/Pos4/untrans_no_bg_objects_type_1.h5'] file found, skipping ND0013/Pos4\n",
      "['/home/nathan/data/kraken/ras/ND0013/Pos12/untrans_objects_type_2.h5', '/home/nathan/data/kraken/ras/ND0013/Pos12/untrans_no_bg_objects_type_2.h5', '/home/nathan/data/kraken/ras/ND0013/Pos12/untrans_objects_type_1.h5', '/home/nathan/data/kraken/ras/ND0013/Pos12/untrans_no_bg_objects_type_1.h5'] file found, skipping ND0013/Pos12\n"
     ]
    },
    {
     "data": {
      "application/vnd.jupyter.widget-view+json": {
       "model_id": "6ebc43393ca84847bbde65f957a93e6b",
       "version_major": 2,
       "version_minor": 0
      },
      "text/plain": [
       "  0%|          | 0/15 [00:00<?, ?it/s]"
      ]
     },
     "metadata": {},
     "output_type": "display_data"
    },
    {
     "name": "stdout",
     "output_type": "stream",
     "text": [
      "['/home/nathan/data/kraken/ras/ND0014/Pos13/untrans_objects_type_2.h5', '/home/nathan/data/kraken/ras/ND0014/Pos13/untrans_no_bg_objects_type_2.h5', '/home/nathan/data/kraken/ras/ND0014/Pos13/untrans_objects_type_1.h5', '/home/nathan/data/kraken/ras/ND0014/Pos13/untrans_no_bg_objects_type_1.h5'] file found, skipping ND0014/Pos13\n",
      "['/home/nathan/data/kraken/ras/ND0014/Pos5/untrans_objects_type_2.h5', '/home/nathan/data/kraken/ras/ND0014/Pos5/untrans_no_bg_objects_type_2.h5', '/home/nathan/data/kraken/ras/ND0014/Pos5/untrans_objects_type_1.h5', '/home/nathan/data/kraken/ras/ND0014/Pos5/untrans_no_bg_objects_type_1.h5'] file found, skipping ND0014/Pos5\n",
      "['/home/nathan/data/kraken/ras/ND0014/Pos11/untrans_objects_type_2.h5', '/home/nathan/data/kraken/ras/ND0014/Pos11/untrans_no_bg_objects_type_2.h5', '/home/nathan/data/kraken/ras/ND0014/Pos11/untrans_objects_type_1.h5', '/home/nathan/data/kraken/ras/ND0014/Pos11/untrans_no_bg_objects_type_1.h5'] file found, skipping ND0014/Pos11\n",
      "['/home/nathan/data/kraken/ras/ND0014/Pos3/untrans_objects_type_2.h5', '/home/nathan/data/kraken/ras/ND0014/Pos3/untrans_no_bg_objects_type_2.h5', '/home/nathan/data/kraken/ras/ND0014/Pos3/untrans_objects_type_1.h5', '/home/nathan/data/kraken/ras/ND0014/Pos3/untrans_no_bg_objects_type_1.h5'] file found, skipping ND0014/Pos3\n",
      "['/home/nathan/data/kraken/ras/ND0014/Pos1/untrans_objects_type_2.h5', '/home/nathan/data/kraken/ras/ND0014/Pos1/untrans_no_bg_objects_type_2.h5', '/home/nathan/data/kraken/ras/ND0014/Pos1/untrans_objects_type_1.h5', '/home/nathan/data/kraken/ras/ND0014/Pos1/untrans_no_bg_objects_type_1.h5'] file found, skipping ND0014/Pos1\n",
      "['/home/nathan/data/kraken/ras/ND0014/Pos8/untrans_objects_type_2.h5', '/home/nathan/data/kraken/ras/ND0014/Pos8/untrans_no_bg_objects_type_2.h5', '/home/nathan/data/kraken/ras/ND0014/Pos8/untrans_objects_type_1.h5', '/home/nathan/data/kraken/ras/ND0014/Pos8/untrans_no_bg_objects_type_1.h5'] file found, skipping ND0014/Pos8\n",
      "['/home/nathan/data/kraken/ras/ND0014/Pos10/untrans_objects_type_2.h5', '/home/nathan/data/kraken/ras/ND0014/Pos10/untrans_no_bg_objects_type_2.h5', '/home/nathan/data/kraken/ras/ND0014/Pos10/untrans_objects_type_1.h5', '/home/nathan/data/kraken/ras/ND0014/Pos10/untrans_no_bg_objects_type_1.h5'] file found, skipping ND0014/Pos10\n",
      "['/home/nathan/data/kraken/ras/ND0014/Pos0/untrans_objects_type_2.h5', '/home/nathan/data/kraken/ras/ND0014/Pos0/untrans_no_bg_objects_type_2.h5', '/home/nathan/data/kraken/ras/ND0014/Pos0/untrans_objects_type_1.h5', '/home/nathan/data/kraken/ras/ND0014/Pos0/untrans_no_bg_objects_type_1.h5'] file found, skipping ND0014/Pos0\n",
      "['/home/nathan/data/kraken/ras/ND0014/Pos2/untrans_objects_type_2.h5', '/home/nathan/data/kraken/ras/ND0014/Pos2/untrans_no_bg_objects_type_2.h5', '/home/nathan/data/kraken/ras/ND0014/Pos2/untrans_objects_type_1.h5', '/home/nathan/data/kraken/ras/ND0014/Pos2/untrans_no_bg_objects_type_1.h5'] file found, skipping ND0014/Pos2\n",
      "['/home/nathan/data/kraken/ras/ND0014/Pos6/untrans_objects_type_2.h5', '/home/nathan/data/kraken/ras/ND0014/Pos6/untrans_no_bg_objects_type_2.h5', '/home/nathan/data/kraken/ras/ND0014/Pos6/untrans_objects_type_1.h5', '/home/nathan/data/kraken/ras/ND0014/Pos6/untrans_no_bg_objects_type_1.h5'] file found, skipping ND0014/Pos6\n",
      "['/home/nathan/data/kraken/ras/ND0014/Pos7/untrans_objects_type_2.h5', '/home/nathan/data/kraken/ras/ND0014/Pos7/untrans_no_bg_objects_type_2.h5', '/home/nathan/data/kraken/ras/ND0014/Pos7/untrans_objects_type_1.h5', '/home/nathan/data/kraken/ras/ND0014/Pos7/untrans_no_bg_objects_type_1.h5'] file found, skipping ND0014/Pos7\n",
      "['/home/nathan/data/kraken/ras/ND0014/Pos9/untrans_objects_type_2.h5', '/home/nathan/data/kraken/ras/ND0014/Pos9/untrans_no_bg_objects_type_2.h5', '/home/nathan/data/kraken/ras/ND0014/Pos9/untrans_objects_type_1.h5', '/home/nathan/data/kraken/ras/ND0014/Pos9/untrans_no_bg_objects_type_1.h5'] file found, skipping ND0014/Pos9\n",
      "['/home/nathan/data/kraken/ras/ND0014/Pos4/untrans_objects_type_2.h5', '/home/nathan/data/kraken/ras/ND0014/Pos4/untrans_no_bg_objects_type_2.h5', '/home/nathan/data/kraken/ras/ND0014/Pos4/untrans_objects_type_1.h5', '/home/nathan/data/kraken/ras/ND0014/Pos4/untrans_no_bg_objects_type_1.h5'] file found, skipping ND0014/Pos4\n",
      "['/home/nathan/data/kraken/ras/ND0014/Pos12/untrans_objects_type_2.h5', '/home/nathan/data/kraken/ras/ND0014/Pos12/untrans_no_bg_objects_type_2.h5', '/home/nathan/data/kraken/ras/ND0014/Pos12/untrans_objects_type_1.h5', '/home/nathan/data/kraken/ras/ND0014/Pos12/untrans_no_bg_objects_type_1.h5'] file found, skipping ND0014/Pos12\n"
     ]
    },
    {
     "data": {
      "application/vnd.jupyter.widget-view+json": {
       "model_id": "f55fbd1711fd4b7b842d7a3b67c156ac",
       "version_major": 2,
       "version_minor": 0
      },
      "text/plain": [
       "  0%|          | 0/15 [00:00<?, ?it/s]"
      ]
     },
     "metadata": {},
     "output_type": "display_data"
    },
    {
     "name": "stdout",
     "output_type": "stream",
     "text": [
      "['/home/nathan/data/kraken/ras/ND0010/Pos5/objects.h5', '/home/nathan/data/kraken/ras/ND0010/Pos5/untrans_objects_type_2.h5', '/home/nathan/data/kraken/ras/ND0010/Pos5/objects_type_1.h5', '/home/nathan/data/kraken/ras/ND0010/Pos5/objects_type_2.h5', '/home/nathan/data/kraken/ras/ND0010/Pos5/untrans_no_bg_objects_type_2.h5', '/home/nathan/data/kraken/ras/ND0010/Pos5/untrans_objects_type_1.h5', '/home/nathan/data/kraken/ras/ND0010/Pos5/untrans_no_bg_objects_type_1.h5'] file found, skipping ND0010/Pos5\n",
      "['/home/nathan/data/kraken/ras/ND0010/Pos11/objects.h5', '/home/nathan/data/kraken/ras/ND0010/Pos11/untrans_objects_type_2.h5', '/home/nathan/data/kraken/ras/ND0010/Pos11/objects_type_1.h5', '/home/nathan/data/kraken/ras/ND0010/Pos11/objects_type_2.h5', '/home/nathan/data/kraken/ras/ND0010/Pos11/untrans_no_bg_objects_type_2.h5', '/home/nathan/data/kraken/ras/ND0010/Pos11/untrans_objects_type_1.h5', '/home/nathan/data/kraken/ras/ND0010/Pos11/untrans_no_bg_objects_type_1.h5'] file found, skipping ND0010/Pos11\n",
      "['/home/nathan/data/kraken/ras/ND0010/Pos3/objects.h5', '/home/nathan/data/kraken/ras/ND0010/Pos3/objects_type_1.h5', '/home/nathan/data/kraken/ras/ND0010/Pos3/objects_type_2.h5', '/home/nathan/data/kraken/ras/ND0010/Pos3/untrans_objects_type_1.h5', '/home/nathan/data/kraken/ras/ND0010/Pos3/untrans_no_bg_objects_type_1.h5'] file found, skipping ND0010/Pos3\n",
      "['/home/nathan/data/kraken/ras/ND0010/Pos1/objects.h5', '/home/nathan/data/kraken/ras/ND0010/Pos1/untrans_objects_type_2.h5', '/home/nathan/data/kraken/ras/ND0010/Pos1/objects_type_1.h5', '/home/nathan/data/kraken/ras/ND0010/Pos1/objects_type_2.h5', '/home/nathan/data/kraken/ras/ND0010/Pos1/untrans_no_bg_objects_type_2.h5', '/home/nathan/data/kraken/ras/ND0010/Pos1/untrans_objects_type_1.h5', '/home/nathan/data/kraken/ras/ND0010/Pos1/untrans_no_bg_objects_type_1.h5'] file found, skipping ND0010/Pos1\n",
      "['/home/nathan/data/kraken/ras/ND0010/Pos8/objects.h5', '/home/nathan/data/kraken/ras/ND0010/Pos8/untrans_objects_type_2.h5', '/home/nathan/data/kraken/ras/ND0010/Pos8/objects_type_1.h5', '/home/nathan/data/kraken/ras/ND0010/Pos8/objects_type_2.h5', '/home/nathan/data/kraken/ras/ND0010/Pos8/untrans_no_bg_objects_type_2.h5', '/home/nathan/data/kraken/ras/ND0010/Pos8/untrans_objects_type_1.h5', '/home/nathan/data/kraken/ras/ND0010/Pos8/untrans_no_bg_objects_type_1.h5'] file found, skipping ND0010/Pos8\n",
      "['/home/nathan/data/kraken/ras/ND0010/Pos10/objects.h5', '/home/nathan/data/kraken/ras/ND0010/Pos10/untrans_objects_type_2.h5', '/home/nathan/data/kraken/ras/ND0010/Pos10/objects_type_1.h5', '/home/nathan/data/kraken/ras/ND0010/Pos10/objects_type_2.h5', '/home/nathan/data/kraken/ras/ND0010/Pos10/untrans_no_bg_objects_type_2.h5', '/home/nathan/data/kraken/ras/ND0010/Pos10/untrans_objects_type_1.h5', '/home/nathan/data/kraken/ras/ND0010/Pos10/untrans_no_bg_objects_type_1.h5'] file found, skipping ND0010/Pos10\n",
      "['/home/nathan/data/kraken/ras/ND0010/Pos0/objects.h5', '/home/nathan/data/kraken/ras/ND0010/Pos0/untrans_objects_type_2.h5', '/home/nathan/data/kraken/ras/ND0010/Pos0/objects_type_1.h5', '/home/nathan/data/kraken/ras/ND0010/Pos0/objects_type_2.h5', '/home/nathan/data/kraken/ras/ND0010/Pos0/untrans_no_bg_objects_type_2.h5', '/home/nathan/data/kraken/ras/ND0010/Pos0/untrans_objects_type_1.h5', '/home/nathan/data/kraken/ras/ND0010/Pos0/untrans_no_bg_objects_type_1.h5'] file found, skipping ND0010/Pos0\n",
      "['/home/nathan/data/kraken/ras/ND0010/Pos2/untrans_objects_type_2.h5', '/home/nathan/data/kraken/ras/ND0010/Pos2/objects_type_1.h5', '/home/nathan/data/kraken/ras/ND0010/Pos2/objects_type_2.h5', '/home/nathan/data/kraken/ras/ND0010/Pos2/untrans_no_bg_objects_type_2.h5', '/home/nathan/data/kraken/ras/ND0010/Pos2/untrans_objects_type_1.h5', '/home/nathan/data/kraken/ras/ND0010/Pos2/untrans_no_bg_objects_type_1.h5'] file found, skipping ND0010/Pos2\n",
      "['/home/nathan/data/kraken/ras/ND0010/Pos6/untrans_objects_type_2.h5', '/home/nathan/data/kraken/ras/ND0010/Pos6/objects_type_1.h5', '/home/nathan/data/kraken/ras/ND0010/Pos6/objects_type_2.h5', '/home/nathan/data/kraken/ras/ND0010/Pos6/untrans_no_bg_objects_type_2.h5', '/home/nathan/data/kraken/ras/ND0010/Pos6/untrans_objects_type_1.h5', '/home/nathan/data/kraken/ras/ND0010/Pos6/untrans_no_bg_objects_type_1.h5'] file found, skipping ND0010/Pos6\n",
      "['/home/nathan/data/kraken/ras/ND0010/Pos7/untrans_objects_type_2.h5', '/home/nathan/data/kraken/ras/ND0010/Pos7/objects_type_1.h5', '/home/nathan/data/kraken/ras/ND0010/Pos7/objects_type_2.h5', '/home/nathan/data/kraken/ras/ND0010/Pos7/untrans_no_bg_objects_type_2.h5', '/home/nathan/data/kraken/ras/ND0010/Pos7/untrans_objects_type_1.h5', '/home/nathan/data/kraken/ras/ND0010/Pos7/untrans_no_bg_objects_type_1.h5'] file found, skipping ND0010/Pos7\n",
      "['/home/nathan/data/kraken/ras/ND0010/Pos9/untrans_objects_type_2.h5', '/home/nathan/data/kraken/ras/ND0010/Pos9/objects_type_1.h5', '/home/nathan/data/kraken/ras/ND0010/Pos9/objects_type_2.h5', '/home/nathan/data/kraken/ras/ND0010/Pos9/untrans_no_bg_objects_type_2.h5', '/home/nathan/data/kraken/ras/ND0010/Pos9/untrans_objects_type_1.h5', '/home/nathan/data/kraken/ras/ND0010/Pos9/untrans_no_bg_objects_type_1.h5'] file found, skipping ND0010/Pos9\n",
      "['/home/nathan/data/kraken/ras/ND0010/Pos4/untrans_objects_type_2.h5', '/home/nathan/data/kraken/ras/ND0010/Pos4/objects_type_1.h5', '/home/nathan/data/kraken/ras/ND0010/Pos4/objects_type_2.h5', '/home/nathan/data/kraken/ras/ND0010/Pos4/untrans_no_bg_objects_type_2.h5', '/home/nathan/data/kraken/ras/ND0010/Pos4/untrans_objects_type_1.h5', '/home/nathan/data/kraken/ras/ND0010/Pos4/untrans_no_bg_objects_type_1.h5'] file found, skipping ND0010/Pos4\n"
     ]
    },
    {
     "data": {
      "application/vnd.jupyter.widget-view+json": {
       "model_id": "77d8460130744180bd989b555cfabf35",
       "version_major": 2,
       "version_minor": 0
      },
      "text/plain": [
       "  0%|          | 0/15 [00:00<?, ?it/s]"
      ]
     },
     "metadata": {},
     "output_type": "display_data"
    },
    {
     "name": "stdout",
     "output_type": "stream",
     "text": [
      "['/home/nathan/data/kraken/ras/ND0012/Pos5/untrans_objects_type_2.h5', '/home/nathan/data/kraken/ras/ND0012/Pos5/objects_type_1.h5', '/home/nathan/data/kraken/ras/ND0012/Pos5/objects_type_2.h5', '/home/nathan/data/kraken/ras/ND0012/Pos5/untrans_no_bg_objects_type_2.h5', '/home/nathan/data/kraken/ras/ND0012/Pos5/untrans_objects_type_1.h5', '/home/nathan/data/kraken/ras/ND0012/Pos5/untrans_no_bg_objects_type_1.h5'] file found, skipping ND0012/Pos5\n",
      "['/home/nathan/data/kraken/ras/ND0012/Pos11/untrans_objects_type_2.h5', '/home/nathan/data/kraken/ras/ND0012/Pos11/objects_type_1.h5', '/home/nathan/data/kraken/ras/ND0012/Pos11/objects_type_2.h5', '/home/nathan/data/kraken/ras/ND0012/Pos11/untrans_no_bg_objects_type_2.h5', '/home/nathan/data/kraken/ras/ND0012/Pos11/untrans_objects_type_1.h5', '/home/nathan/data/kraken/ras/ND0012/Pos11/untrans_no_bg_objects_type_1.h5'] file found, skipping ND0012/Pos11\n",
      "['/home/nathan/data/kraken/ras/ND0012/Pos3/untrans_objects_type_2.h5', '/home/nathan/data/kraken/ras/ND0012/Pos3/untrans_no_bg_objects_type_2.h5', '/home/nathan/data/kraken/ras/ND0012/Pos3/untrans_objects_type_1.h5', '/home/nathan/data/kraken/ras/ND0012/Pos3/untrans_no_bg_objects_type_1.h5'] file found, skipping ND0012/Pos3\n",
      "['/home/nathan/data/kraken/ras/ND0012/Pos1/untrans_objects_type_2.h5', '/home/nathan/data/kraken/ras/ND0012/Pos1/untrans_no_bg_objects_type_2.h5', '/home/nathan/data/kraken/ras/ND0012/Pos1/untrans_objects_type_1.h5', '/home/nathan/data/kraken/ras/ND0012/Pos1/untrans_no_bg_objects_type_1.h5'] file found, skipping ND0012/Pos1\n",
      "['/home/nathan/data/kraken/ras/ND0012/Pos8/untrans_objects_type_2.h5', '/home/nathan/data/kraken/ras/ND0012/Pos8/untrans_no_bg_objects_type_2.h5', '/home/nathan/data/kraken/ras/ND0012/Pos8/untrans_objects_type_1.h5', '/home/nathan/data/kraken/ras/ND0012/Pos8/untrans_no_bg_objects_type_1.h5'] file found, skipping ND0012/Pos8\n",
      "['/home/nathan/data/kraken/ras/ND0012/Pos10/untrans_objects_type_2.h5', '/home/nathan/data/kraken/ras/ND0012/Pos10/untrans_no_bg_objects_type_2.h5', '/home/nathan/data/kraken/ras/ND0012/Pos10/untrans_objects_type_1.h5', '/home/nathan/data/kraken/ras/ND0012/Pos10/untrans_no_bg_objects_type_1.h5'] file found, skipping ND0012/Pos10\n",
      "['/home/nathan/data/kraken/ras/ND0012/Pos0/untrans_objects_type_2.h5', '/home/nathan/data/kraken/ras/ND0012/Pos0/untrans_no_bg_objects_type_2.h5', '/home/nathan/data/kraken/ras/ND0012/Pos0/untrans_objects_type_1.h5', '/home/nathan/data/kraken/ras/ND0012/Pos0/untrans_no_bg_objects_type_1.h5'] file found, skipping ND0012/Pos0\n",
      "['/home/nathan/data/kraken/ras/ND0012/Pos2/untrans_objects_type_2.h5', '/home/nathan/data/kraken/ras/ND0012/Pos2/untrans_no_bg_objects_type_2.h5', '/home/nathan/data/kraken/ras/ND0012/Pos2/untrans_objects_type_1.h5', '/home/nathan/data/kraken/ras/ND0012/Pos2/untrans_no_bg_objects_type_1.h5'] file found, skipping ND0012/Pos2\n",
      "['/home/nathan/data/kraken/ras/ND0012/Pos6/untrans_objects_type_2.h5', '/home/nathan/data/kraken/ras/ND0012/Pos6/untrans_no_bg_objects_type_2.h5', '/home/nathan/data/kraken/ras/ND0012/Pos6/untrans_objects_type_1.h5', '/home/nathan/data/kraken/ras/ND0012/Pos6/untrans_no_bg_objects_type_1.h5'] file found, skipping ND0012/Pos6\n",
      "['/home/nathan/data/kraken/ras/ND0012/Pos7/untrans_objects_type_2.h5', '/home/nathan/data/kraken/ras/ND0012/Pos7/untrans_no_bg_objects_type_2.h5', '/home/nathan/data/kraken/ras/ND0012/Pos7/untrans_objects_type_1.h5', '/home/nathan/data/kraken/ras/ND0012/Pos7/untrans_no_bg_objects_type_1.h5'] file found, skipping ND0012/Pos7\n",
      "['/home/nathan/data/kraken/ras/ND0012/Pos9/untrans_objects_type_2.h5', '/home/nathan/data/kraken/ras/ND0012/Pos9/untrans_no_bg_objects_type_2.h5', '/home/nathan/data/kraken/ras/ND0012/Pos9/untrans_objects_type_1.h5', '/home/nathan/data/kraken/ras/ND0012/Pos9/untrans_no_bg_objects_type_1.h5'] file found, skipping ND0012/Pos9\n",
      "['/home/nathan/data/kraken/ras/ND0012/Pos4/untrans_objects_type_2.h5', '/home/nathan/data/kraken/ras/ND0012/Pos4/untrans_no_bg_objects_type_2.h5', '/home/nathan/data/kraken/ras/ND0012/Pos4/untrans_objects_type_1.h5', '/home/nathan/data/kraken/ras/ND0012/Pos4/untrans_no_bg_objects_type_1.h5'] file found, skipping ND0012/Pos4\n"
     ]
    },
    {
     "data": {
      "application/vnd.jupyter.widget-view+json": {
       "model_id": "6b3620fe991f4ce781b9a5baa77ee600",
       "version_major": 2,
       "version_minor": 0
      },
      "text/plain": [
       "  0%|          | 0/15 [00:00<?, ?it/s]"
      ]
     },
     "metadata": {},
     "output_type": "display_data"
    },
    {
     "name": "stdout",
     "output_type": "stream",
     "text": [
      "['/home/nathan/data/kraken/ras/ND0011/Pos5/untrans_objects_type_2.h5', '/home/nathan/data/kraken/ras/ND0011/Pos5/objects_type_1.h5', '/home/nathan/data/kraken/ras/ND0011/Pos5/objects_type_2.h5', '/home/nathan/data/kraken/ras/ND0011/Pos5/untrans_no_bg_objects_type_2.h5', '/home/nathan/data/kraken/ras/ND0011/Pos5/untrans_objects_type_1.h5', '/home/nathan/data/kraken/ras/ND0011/Pos5/untrans_no_bg_objects_type_1.h5'] file found, skipping ND0011/Pos5\n",
      "['/home/nathan/data/kraken/ras/ND0011/Pos11/untrans_objects_type_2.h5', '/home/nathan/data/kraken/ras/ND0011/Pos11/objects_type_1.h5', '/home/nathan/data/kraken/ras/ND0011/Pos11/objects_type_2.h5', '/home/nathan/data/kraken/ras/ND0011/Pos11/untrans_no_bg_objects_type_2.h5', '/home/nathan/data/kraken/ras/ND0011/Pos11/untrans_objects_type_1.h5', '/home/nathan/data/kraken/ras/ND0011/Pos11/untrans_no_bg_objects_type_1.h5'] file found, skipping ND0011/Pos11\n",
      "['/home/nathan/data/kraken/ras/ND0011/Pos1/untrans_objects_type_2.h5', '/home/nathan/data/kraken/ras/ND0011/Pos1/objects_type_1.h5', '/home/nathan/data/kraken/ras/ND0011/Pos1/objects_type_2.h5', '/home/nathan/data/kraken/ras/ND0011/Pos1/untrans_no_bg_objects_type_2.h5', '/home/nathan/data/kraken/ras/ND0011/Pos1/untrans_objects_type_1.h5', '/home/nathan/data/kraken/ras/ND0011/Pos1/untrans_no_bg_objects_type_1.h5'] file found, skipping ND0011/Pos1\n",
      "['/home/nathan/data/kraken/ras/ND0011/Pos8/untrans_objects_type_2.h5', '/home/nathan/data/kraken/ras/ND0011/Pos8/objects_type_1.h5', '/home/nathan/data/kraken/ras/ND0011/Pos8/objects_type_2.h5', '/home/nathan/data/kraken/ras/ND0011/Pos8/untrans_no_bg_objects_type_2.h5', '/home/nathan/data/kraken/ras/ND0011/Pos8/untrans_objects_type_1.h5', '/home/nathan/data/kraken/ras/ND0011/Pos8/untrans_no_bg_objects_type_1.h5'] file found, skipping ND0011/Pos8\n",
      "['/home/nathan/data/kraken/ras/ND0011/Pos10/untrans_objects_type_2.h5', '/home/nathan/data/kraken/ras/ND0011/Pos10/objects_type_1.h5', '/home/nathan/data/kraken/ras/ND0011/Pos10/objects_type_2.h5', '/home/nathan/data/kraken/ras/ND0011/Pos10/untrans_no_bg_objects_type_2.h5', '/home/nathan/data/kraken/ras/ND0011/Pos10/untrans_objects_type_1.h5', '/home/nathan/data/kraken/ras/ND0011/Pos10/untrans_no_bg_objects_type_1.h5'] file found, skipping ND0011/Pos10\n",
      "['/home/nathan/data/kraken/ras/ND0011/Pos0/untrans_objects_type_2.h5', '/home/nathan/data/kraken/ras/ND0011/Pos0/objects_type_1.h5', '/home/nathan/data/kraken/ras/ND0011/Pos0/objects_type_2.h5', '/home/nathan/data/kraken/ras/ND0011/Pos0/untrans_no_bg_objects_type_2.h5', '/home/nathan/data/kraken/ras/ND0011/Pos0/untrans_objects_type_1.h5', '/home/nathan/data/kraken/ras/ND0011/Pos0/untrans_no_bg_objects_type_1.h5'] file found, skipping ND0011/Pos0\n",
      "['/home/nathan/data/kraken/ras/ND0011/Pos2/untrans_objects_type_2.h5', '/home/nathan/data/kraken/ras/ND0011/Pos2/objects_type_1.h5', '/home/nathan/data/kraken/ras/ND0011/Pos2/objects_type_2.h5', '/home/nathan/data/kraken/ras/ND0011/Pos2/untrans_no_bg_objects_type_2.h5', '/home/nathan/data/kraken/ras/ND0011/Pos2/untrans_objects_type_1.h5', '/home/nathan/data/kraken/ras/ND0011/Pos2/untrans_no_bg_objects_type_1.h5'] file found, skipping ND0011/Pos2\n",
      "['/home/nathan/data/kraken/ras/ND0011/Pos6/untrans_objects_type_2.h5', '/home/nathan/data/kraken/ras/ND0011/Pos6/objects_type_1.h5', '/home/nathan/data/kraken/ras/ND0011/Pos6/objects_type_2.h5', '/home/nathan/data/kraken/ras/ND0011/Pos6/untrans_no_bg_objects_type_2.h5', '/home/nathan/data/kraken/ras/ND0011/Pos6/untrans_objects_type_1.h5', '/home/nathan/data/kraken/ras/ND0011/Pos6/untrans_no_bg_objects_type_1.h5'] file found, skipping ND0011/Pos6\n",
      "['/home/nathan/data/kraken/ras/ND0011/Pos7/untrans_objects_type_2.h5', '/home/nathan/data/kraken/ras/ND0011/Pos7/objects_type_1.h5', '/home/nathan/data/kraken/ras/ND0011/Pos7/objects_type_2.h5', '/home/nathan/data/kraken/ras/ND0011/Pos7/untrans_no_bg_objects_type_2.h5', '/home/nathan/data/kraken/ras/ND0011/Pos7/untrans_objects_type_1.h5', '/home/nathan/data/kraken/ras/ND0011/Pos7/untrans_no_bg_objects_type_1.h5'] file found, skipping ND0011/Pos7\n",
      "['/home/nathan/data/kraken/ras/ND0011/Pos9/untrans_objects_type_2.h5', '/home/nathan/data/kraken/ras/ND0011/Pos9/objects_type_1.h5', '/home/nathan/data/kraken/ras/ND0011/Pos9/objects_type_2.h5', '/home/nathan/data/kraken/ras/ND0011/Pos9/untrans_no_bg_objects_type_2.h5', '/home/nathan/data/kraken/ras/ND0011/Pos9/untrans_objects_type_1.h5', '/home/nathan/data/kraken/ras/ND0011/Pos9/untrans_no_bg_objects_type_1.h5'] file found, skipping ND0011/Pos9\n",
      "['/home/nathan/data/kraken/ras/ND0011/Pos4/untrans_objects_type_2.h5', '/home/nathan/data/kraken/ras/ND0011/Pos4/objects_type_1.h5', '/home/nathan/data/kraken/ras/ND0011/Pos4/objects_type_2.h5', '/home/nathan/data/kraken/ras/ND0011/Pos4/untrans_no_bg_objects_type_2.h5', '/home/nathan/data/kraken/ras/ND0011/Pos4/untrans_objects_type_1.h5', '/home/nathan/data/kraken/ras/ND0011/Pos4/untrans_no_bg_objects_type_1.h5'] file found, skipping ND0011/Pos4\n"
     ]
    },
    {
     "data": {
      "application/vnd.jupyter.widget-view+json": {
       "model_id": "d06cbd20a585407b8e2899fb5dc563f0",
       "version_major": 2,
       "version_minor": 0
      },
      "text/plain": [
       "  0%|          | 0/5 [00:00<?, ?it/s]"
      ]
     },
     "metadata": {},
     "output_type": "display_data"
    },
    {
     "data": {
      "application/vnd.jupyter.widget-view+json": {
       "model_id": "a5a41f402af94ea8b678d5082591f4a0",
       "version_major": 2,
       "version_minor": 0
      },
      "text/plain": [
       "  0%|          | 0/15 [00:00<?, ?it/s]"
      ]
     },
     "metadata": {},
     "output_type": "display_data"
    },
    {
     "name": "stdout",
     "output_type": "stream",
     "text": [
      "['/home/nathan/data/kraken/ras/ND0013/Pos13/untrans_objects_type_2.h5', '/home/nathan/data/kraken/ras/ND0013/Pos13/untrans_no_bg_objects_type_2.h5', '/home/nathan/data/kraken/ras/ND0013/Pos13/untrans_objects_type_1.h5', '/home/nathan/data/kraken/ras/ND0013/Pos13/untrans_no_bg_objects_type_1.h5'] file found, skipping ND0013/Pos13\n",
      "['/home/nathan/data/kraken/ras/ND0013/Pos5/untrans_objects_type_2.h5', '/home/nathan/data/kraken/ras/ND0013/Pos5/untrans_no_bg_objects_type_2.h5', '/home/nathan/data/kraken/ras/ND0013/Pos5/untrans_objects_type_1.h5', '/home/nathan/data/kraken/ras/ND0013/Pos5/untrans_no_bg_objects_type_1.h5'] file found, skipping ND0013/Pos5\n",
      "['/home/nathan/data/kraken/ras/ND0013/Pos11/untrans_objects_type_2.h5', '/home/nathan/data/kraken/ras/ND0013/Pos11/untrans_no_bg_objects_type_2.h5', '/home/nathan/data/kraken/ras/ND0013/Pos11/untrans_objects_type_1.h5', '/home/nathan/data/kraken/ras/ND0013/Pos11/untrans_no_bg_objects_type_1.h5'] file found, skipping ND0013/Pos11\n",
      "['/home/nathan/data/kraken/ras/ND0013/Pos14/untrans_objects_type_2.h5', '/home/nathan/data/kraken/ras/ND0013/Pos14/untrans_no_bg_objects_type_2.h5', '/home/nathan/data/kraken/ras/ND0013/Pos14/untrans_objects_type_1.h5', '/home/nathan/data/kraken/ras/ND0013/Pos14/untrans_no_bg_objects_type_1.h5'] file found, skipping ND0013/Pos14\n",
      "['/home/nathan/data/kraken/ras/ND0013/Pos3/untrans_objects_type_2.h5', '/home/nathan/data/kraken/ras/ND0013/Pos3/untrans_no_bg_objects_type_2.h5', '/home/nathan/data/kraken/ras/ND0013/Pos3/untrans_objects_type_1.h5', '/home/nathan/data/kraken/ras/ND0013/Pos3/untrans_no_bg_objects_type_1.h5'] file found, skipping ND0013/Pos3\n",
      "['/home/nathan/data/kraken/ras/ND0013/Pos1/untrans_objects_type_2.h5', '/home/nathan/data/kraken/ras/ND0013/Pos1/untrans_no_bg_objects_type_2.h5', '/home/nathan/data/kraken/ras/ND0013/Pos1/untrans_objects_type_1.h5', '/home/nathan/data/kraken/ras/ND0013/Pos1/untrans_no_bg_objects_type_1.h5'] file found, skipping ND0013/Pos1\n",
      "['/home/nathan/data/kraken/ras/ND0013/Pos8/untrans_objects_type_2.h5', '/home/nathan/data/kraken/ras/ND0013/Pos8/untrans_no_bg_objects_type_2.h5', '/home/nathan/data/kraken/ras/ND0013/Pos8/untrans_objects_type_1.h5', '/home/nathan/data/kraken/ras/ND0013/Pos8/untrans_no_bg_objects_type_1.h5'] file found, skipping ND0013/Pos8\n",
      "['/home/nathan/data/kraken/ras/ND0013/Pos10/untrans_objects_type_2.h5', '/home/nathan/data/kraken/ras/ND0013/Pos10/untrans_no_bg_objects_type_2.h5', '/home/nathan/data/kraken/ras/ND0013/Pos10/untrans_objects_type_1.h5', '/home/nathan/data/kraken/ras/ND0013/Pos10/untrans_no_bg_objects_type_1.h5'] file found, skipping ND0013/Pos10\n",
      "['/home/nathan/data/kraken/ras/ND0013/Pos0/untrans_objects_type_2.h5', '/home/nathan/data/kraken/ras/ND0013/Pos0/untrans_no_bg_objects_type_2.h5', '/home/nathan/data/kraken/ras/ND0013/Pos0/untrans_objects_type_1.h5', '/home/nathan/data/kraken/ras/ND0013/Pos0/untrans_no_bg_objects_type_1.h5'] file found, skipping ND0013/Pos0\n",
      "['/home/nathan/data/kraken/ras/ND0013/Pos2/untrans_objects_type_2.h5', '/home/nathan/data/kraken/ras/ND0013/Pos2/untrans_no_bg_objects_type_2.h5', '/home/nathan/data/kraken/ras/ND0013/Pos2/untrans_objects_type_1.h5', '/home/nathan/data/kraken/ras/ND0013/Pos2/untrans_no_bg_objects_type_1.h5'] file found, skipping ND0013/Pos2\n",
      "['/home/nathan/data/kraken/ras/ND0013/Pos6/untrans_objects_type_2.h5', '/home/nathan/data/kraken/ras/ND0013/Pos6/untrans_no_bg_objects_type_2.h5', '/home/nathan/data/kraken/ras/ND0013/Pos6/untrans_objects_type_1.h5', '/home/nathan/data/kraken/ras/ND0013/Pos6/untrans_no_bg_objects_type_1.h5'] file found, skipping ND0013/Pos6\n",
      "['/home/nathan/data/kraken/ras/ND0013/Pos7/untrans_objects_type_2.h5', '/home/nathan/data/kraken/ras/ND0013/Pos7/untrans_no_bg_objects_type_2.h5', '/home/nathan/data/kraken/ras/ND0013/Pos7/untrans_objects_type_1.h5', '/home/nathan/data/kraken/ras/ND0013/Pos7/untrans_no_bg_objects_type_1.h5'] file found, skipping ND0013/Pos7\n",
      "['/home/nathan/data/kraken/ras/ND0013/Pos9/untrans_objects_type_2.h5', '/home/nathan/data/kraken/ras/ND0013/Pos9/untrans_no_bg_objects_type_2.h5', '/home/nathan/data/kraken/ras/ND0013/Pos9/untrans_objects_type_1.h5', '/home/nathan/data/kraken/ras/ND0013/Pos9/untrans_no_bg_objects_type_1.h5'] file found, skipping ND0013/Pos9\n",
      "['/home/nathan/data/kraken/ras/ND0013/Pos4/untrans_objects_type_2.h5', '/home/nathan/data/kraken/ras/ND0013/Pos4/untrans_no_bg_objects_type_2.h5', '/home/nathan/data/kraken/ras/ND0013/Pos4/untrans_objects_type_1.h5', '/home/nathan/data/kraken/ras/ND0013/Pos4/untrans_no_bg_objects_type_1.h5'] file found, skipping ND0013/Pos4\n",
      "['/home/nathan/data/kraken/ras/ND0013/Pos12/untrans_objects_type_2.h5', '/home/nathan/data/kraken/ras/ND0013/Pos12/untrans_no_bg_objects_type_2.h5', '/home/nathan/data/kraken/ras/ND0013/Pos12/untrans_objects_type_1.h5', '/home/nathan/data/kraken/ras/ND0013/Pos12/untrans_no_bg_objects_type_1.h5'] file found, skipping ND0013/Pos12\n"
     ]
    },
    {
     "data": {
      "application/vnd.jupyter.widget-view+json": {
       "model_id": "c611feaddfc64d568e71477904239f23",
       "version_major": 2,
       "version_minor": 0
      },
      "text/plain": [
       "  0%|          | 0/15 [00:00<?, ?it/s]"
      ]
     },
     "metadata": {},
     "output_type": "display_data"
    },
    {
     "name": "stdout",
     "output_type": "stream",
     "text": [
      "['/home/nathan/data/kraken/ras/ND0014/Pos13/untrans_objects_type_2.h5', '/home/nathan/data/kraken/ras/ND0014/Pos13/untrans_no_bg_objects_type_2.h5', '/home/nathan/data/kraken/ras/ND0014/Pos13/untrans_objects_type_1.h5', '/home/nathan/data/kraken/ras/ND0014/Pos13/untrans_no_bg_objects_type_1.h5'] file found, skipping ND0014/Pos13\n",
      "['/home/nathan/data/kraken/ras/ND0014/Pos5/untrans_objects_type_2.h5', '/home/nathan/data/kraken/ras/ND0014/Pos5/untrans_no_bg_objects_type_2.h5', '/home/nathan/data/kraken/ras/ND0014/Pos5/untrans_objects_type_1.h5', '/home/nathan/data/kraken/ras/ND0014/Pos5/untrans_no_bg_objects_type_1.h5'] file found, skipping ND0014/Pos5\n",
      "['/home/nathan/data/kraken/ras/ND0014/Pos11/untrans_objects_type_2.h5', '/home/nathan/data/kraken/ras/ND0014/Pos11/untrans_no_bg_objects_type_2.h5', '/home/nathan/data/kraken/ras/ND0014/Pos11/untrans_objects_type_1.h5', '/home/nathan/data/kraken/ras/ND0014/Pos11/untrans_no_bg_objects_type_1.h5'] file found, skipping ND0014/Pos11\n",
      "['/home/nathan/data/kraken/ras/ND0014/Pos3/untrans_objects_type_2.h5', '/home/nathan/data/kraken/ras/ND0014/Pos3/untrans_no_bg_objects_type_2.h5', '/home/nathan/data/kraken/ras/ND0014/Pos3/untrans_objects_type_1.h5', '/home/nathan/data/kraken/ras/ND0014/Pos3/untrans_no_bg_objects_type_1.h5'] file found, skipping ND0014/Pos3\n",
      "['/home/nathan/data/kraken/ras/ND0014/Pos1/untrans_objects_type_2.h5', '/home/nathan/data/kraken/ras/ND0014/Pos1/untrans_no_bg_objects_type_2.h5', '/home/nathan/data/kraken/ras/ND0014/Pos1/untrans_objects_type_1.h5', '/home/nathan/data/kraken/ras/ND0014/Pos1/untrans_no_bg_objects_type_1.h5'] file found, skipping ND0014/Pos1\n",
      "['/home/nathan/data/kraken/ras/ND0014/Pos8/untrans_objects_type_2.h5', '/home/nathan/data/kraken/ras/ND0014/Pos8/untrans_no_bg_objects_type_2.h5', '/home/nathan/data/kraken/ras/ND0014/Pos8/untrans_objects_type_1.h5', '/home/nathan/data/kraken/ras/ND0014/Pos8/untrans_no_bg_objects_type_1.h5'] file found, skipping ND0014/Pos8\n",
      "['/home/nathan/data/kraken/ras/ND0014/Pos10/untrans_objects_type_2.h5', '/home/nathan/data/kraken/ras/ND0014/Pos10/untrans_no_bg_objects_type_2.h5', '/home/nathan/data/kraken/ras/ND0014/Pos10/untrans_objects_type_1.h5', '/home/nathan/data/kraken/ras/ND0014/Pos10/untrans_no_bg_objects_type_1.h5'] file found, skipping ND0014/Pos10\n",
      "['/home/nathan/data/kraken/ras/ND0014/Pos0/untrans_objects_type_2.h5', '/home/nathan/data/kraken/ras/ND0014/Pos0/untrans_no_bg_objects_type_2.h5', '/home/nathan/data/kraken/ras/ND0014/Pos0/untrans_objects_type_1.h5', '/home/nathan/data/kraken/ras/ND0014/Pos0/untrans_no_bg_objects_type_1.h5'] file found, skipping ND0014/Pos0\n",
      "['/home/nathan/data/kraken/ras/ND0014/Pos2/untrans_objects_type_2.h5', '/home/nathan/data/kraken/ras/ND0014/Pos2/untrans_no_bg_objects_type_2.h5', '/home/nathan/data/kraken/ras/ND0014/Pos2/untrans_objects_type_1.h5', '/home/nathan/data/kraken/ras/ND0014/Pos2/untrans_no_bg_objects_type_1.h5'] file found, skipping ND0014/Pos2\n",
      "['/home/nathan/data/kraken/ras/ND0014/Pos6/untrans_objects_type_2.h5', '/home/nathan/data/kraken/ras/ND0014/Pos6/untrans_no_bg_objects_type_2.h5', '/home/nathan/data/kraken/ras/ND0014/Pos6/untrans_objects_type_1.h5', '/home/nathan/data/kraken/ras/ND0014/Pos6/untrans_no_bg_objects_type_1.h5'] file found, skipping ND0014/Pos6\n",
      "['/home/nathan/data/kraken/ras/ND0014/Pos7/untrans_objects_type_2.h5', '/home/nathan/data/kraken/ras/ND0014/Pos7/untrans_no_bg_objects_type_2.h5', '/home/nathan/data/kraken/ras/ND0014/Pos7/untrans_objects_type_1.h5', '/home/nathan/data/kraken/ras/ND0014/Pos7/untrans_no_bg_objects_type_1.h5'] file found, skipping ND0014/Pos7\n",
      "['/home/nathan/data/kraken/ras/ND0014/Pos9/untrans_objects_type_2.h5', '/home/nathan/data/kraken/ras/ND0014/Pos9/untrans_no_bg_objects_type_2.h5', '/home/nathan/data/kraken/ras/ND0014/Pos9/untrans_objects_type_1.h5', '/home/nathan/data/kraken/ras/ND0014/Pos9/untrans_no_bg_objects_type_1.h5'] file found, skipping ND0014/Pos9\n",
      "['/home/nathan/data/kraken/ras/ND0014/Pos4/untrans_objects_type_2.h5', '/home/nathan/data/kraken/ras/ND0014/Pos4/untrans_no_bg_objects_type_2.h5', '/home/nathan/data/kraken/ras/ND0014/Pos4/untrans_objects_type_1.h5', '/home/nathan/data/kraken/ras/ND0014/Pos4/untrans_no_bg_objects_type_1.h5'] file found, skipping ND0014/Pos4\n",
      "['/home/nathan/data/kraken/ras/ND0014/Pos12/untrans_objects_type_2.h5', '/home/nathan/data/kraken/ras/ND0014/Pos12/untrans_no_bg_objects_type_2.h5', '/home/nathan/data/kraken/ras/ND0014/Pos12/untrans_objects_type_1.h5', '/home/nathan/data/kraken/ras/ND0014/Pos12/untrans_no_bg_objects_type_1.h5'] file found, skipping ND0014/Pos12\n"
     ]
    },
    {
     "data": {
      "application/vnd.jupyter.widget-view+json": {
       "model_id": "8e5ddb53b031495da8bebc374ce8da50",
       "version_major": 2,
       "version_minor": 0
      },
      "text/plain": [
       "  0%|          | 0/15 [00:00<?, ?it/s]"
      ]
     },
     "metadata": {},
     "output_type": "display_data"
    },
    {
     "name": "stdout",
     "output_type": "stream",
     "text": [
      "['/home/nathan/data/kraken/ras/ND0010/Pos5/objects.h5', '/home/nathan/data/kraken/ras/ND0010/Pos5/untrans_objects_type_2.h5', '/home/nathan/data/kraken/ras/ND0010/Pos5/objects_type_1.h5', '/home/nathan/data/kraken/ras/ND0010/Pos5/objects_type_2.h5', '/home/nathan/data/kraken/ras/ND0010/Pos5/untrans_no_bg_objects_type_2.h5', '/home/nathan/data/kraken/ras/ND0010/Pos5/untrans_objects_type_1.h5', '/home/nathan/data/kraken/ras/ND0010/Pos5/untrans_no_bg_objects_type_1.h5'] file found, skipping ND0010/Pos5\n",
      "['/home/nathan/data/kraken/ras/ND0010/Pos11/objects.h5', '/home/nathan/data/kraken/ras/ND0010/Pos11/untrans_objects_type_2.h5', '/home/nathan/data/kraken/ras/ND0010/Pos11/objects_type_1.h5', '/home/nathan/data/kraken/ras/ND0010/Pos11/objects_type_2.h5', '/home/nathan/data/kraken/ras/ND0010/Pos11/untrans_no_bg_objects_type_2.h5', '/home/nathan/data/kraken/ras/ND0010/Pos11/untrans_objects_type_1.h5', '/home/nathan/data/kraken/ras/ND0010/Pos11/untrans_no_bg_objects_type_1.h5'] file found, skipping ND0010/Pos11\n",
      "['/home/nathan/data/kraken/ras/ND0010/Pos3/objects.h5', '/home/nathan/data/kraken/ras/ND0010/Pos3/objects_type_1.h5', '/home/nathan/data/kraken/ras/ND0010/Pos3/objects_type_2.h5', '/home/nathan/data/kraken/ras/ND0010/Pos3/untrans_objects_type_1.h5', '/home/nathan/data/kraken/ras/ND0010/Pos3/untrans_no_bg_objects_type_1.h5'] file found, skipping ND0010/Pos3\n",
      "['/home/nathan/data/kraken/ras/ND0010/Pos1/objects.h5', '/home/nathan/data/kraken/ras/ND0010/Pos1/untrans_objects_type_2.h5', '/home/nathan/data/kraken/ras/ND0010/Pos1/objects_type_1.h5', '/home/nathan/data/kraken/ras/ND0010/Pos1/objects_type_2.h5', '/home/nathan/data/kraken/ras/ND0010/Pos1/untrans_no_bg_objects_type_2.h5', '/home/nathan/data/kraken/ras/ND0010/Pos1/untrans_objects_type_1.h5', '/home/nathan/data/kraken/ras/ND0010/Pos1/untrans_no_bg_objects_type_1.h5'] file found, skipping ND0010/Pos1\n",
      "['/home/nathan/data/kraken/ras/ND0010/Pos8/objects.h5', '/home/nathan/data/kraken/ras/ND0010/Pos8/untrans_objects_type_2.h5', '/home/nathan/data/kraken/ras/ND0010/Pos8/objects_type_1.h5', '/home/nathan/data/kraken/ras/ND0010/Pos8/objects_type_2.h5', '/home/nathan/data/kraken/ras/ND0010/Pos8/untrans_no_bg_objects_type_2.h5', '/home/nathan/data/kraken/ras/ND0010/Pos8/untrans_objects_type_1.h5', '/home/nathan/data/kraken/ras/ND0010/Pos8/untrans_no_bg_objects_type_1.h5'] file found, skipping ND0010/Pos8\n",
      "['/home/nathan/data/kraken/ras/ND0010/Pos10/objects.h5', '/home/nathan/data/kraken/ras/ND0010/Pos10/untrans_objects_type_2.h5', '/home/nathan/data/kraken/ras/ND0010/Pos10/objects_type_1.h5', '/home/nathan/data/kraken/ras/ND0010/Pos10/objects_type_2.h5', '/home/nathan/data/kraken/ras/ND0010/Pos10/untrans_no_bg_objects_type_2.h5', '/home/nathan/data/kraken/ras/ND0010/Pos10/untrans_objects_type_1.h5', '/home/nathan/data/kraken/ras/ND0010/Pos10/untrans_no_bg_objects_type_1.h5'] file found, skipping ND0010/Pos10\n",
      "['/home/nathan/data/kraken/ras/ND0010/Pos0/objects.h5', '/home/nathan/data/kraken/ras/ND0010/Pos0/untrans_objects_type_2.h5', '/home/nathan/data/kraken/ras/ND0010/Pos0/objects_type_1.h5', '/home/nathan/data/kraken/ras/ND0010/Pos0/objects_type_2.h5', '/home/nathan/data/kraken/ras/ND0010/Pos0/untrans_no_bg_objects_type_2.h5', '/home/nathan/data/kraken/ras/ND0010/Pos0/untrans_objects_type_1.h5', '/home/nathan/data/kraken/ras/ND0010/Pos0/untrans_no_bg_objects_type_1.h5'] file found, skipping ND0010/Pos0\n",
      "['/home/nathan/data/kraken/ras/ND0010/Pos2/untrans_objects_type_2.h5', '/home/nathan/data/kraken/ras/ND0010/Pos2/objects_type_1.h5', '/home/nathan/data/kraken/ras/ND0010/Pos2/objects_type_2.h5', '/home/nathan/data/kraken/ras/ND0010/Pos2/untrans_no_bg_objects_type_2.h5', '/home/nathan/data/kraken/ras/ND0010/Pos2/untrans_objects_type_1.h5', '/home/nathan/data/kraken/ras/ND0010/Pos2/untrans_no_bg_objects_type_1.h5'] file found, skipping ND0010/Pos2\n",
      "['/home/nathan/data/kraken/ras/ND0010/Pos6/untrans_objects_type_2.h5', '/home/nathan/data/kraken/ras/ND0010/Pos6/objects_type_1.h5', '/home/nathan/data/kraken/ras/ND0010/Pos6/objects_type_2.h5', '/home/nathan/data/kraken/ras/ND0010/Pos6/untrans_no_bg_objects_type_2.h5', '/home/nathan/data/kraken/ras/ND0010/Pos6/untrans_objects_type_1.h5', '/home/nathan/data/kraken/ras/ND0010/Pos6/untrans_no_bg_objects_type_1.h5'] file found, skipping ND0010/Pos6\n",
      "['/home/nathan/data/kraken/ras/ND0010/Pos7/untrans_objects_type_2.h5', '/home/nathan/data/kraken/ras/ND0010/Pos7/objects_type_1.h5', '/home/nathan/data/kraken/ras/ND0010/Pos7/objects_type_2.h5', '/home/nathan/data/kraken/ras/ND0010/Pos7/untrans_no_bg_objects_type_2.h5', '/home/nathan/data/kraken/ras/ND0010/Pos7/untrans_objects_type_1.h5', '/home/nathan/data/kraken/ras/ND0010/Pos7/untrans_no_bg_objects_type_1.h5'] file found, skipping ND0010/Pos7\n",
      "['/home/nathan/data/kraken/ras/ND0010/Pos9/untrans_objects_type_2.h5', '/home/nathan/data/kraken/ras/ND0010/Pos9/objects_type_1.h5', '/home/nathan/data/kraken/ras/ND0010/Pos9/objects_type_2.h5', '/home/nathan/data/kraken/ras/ND0010/Pos9/untrans_no_bg_objects_type_2.h5', '/home/nathan/data/kraken/ras/ND0010/Pos9/untrans_objects_type_1.h5', '/home/nathan/data/kraken/ras/ND0010/Pos9/untrans_no_bg_objects_type_1.h5'] file found, skipping ND0010/Pos9\n",
      "['/home/nathan/data/kraken/ras/ND0010/Pos4/untrans_objects_type_2.h5', '/home/nathan/data/kraken/ras/ND0010/Pos4/objects_type_1.h5', '/home/nathan/data/kraken/ras/ND0010/Pos4/objects_type_2.h5', '/home/nathan/data/kraken/ras/ND0010/Pos4/untrans_no_bg_objects_type_2.h5', '/home/nathan/data/kraken/ras/ND0010/Pos4/untrans_objects_type_1.h5', '/home/nathan/data/kraken/ras/ND0010/Pos4/untrans_no_bg_objects_type_1.h5'] file found, skipping ND0010/Pos4\n"
     ]
    },
    {
     "data": {
      "application/vnd.jupyter.widget-view+json": {
       "model_id": "8508128ee59748d4a30d8579a95cee58",
       "version_major": 2,
       "version_minor": 0
      },
      "text/plain": [
       "  0%|          | 0/15 [00:00<?, ?it/s]"
      ]
     },
     "metadata": {},
     "output_type": "display_data"
    },
    {
     "name": "stdout",
     "output_type": "stream",
     "text": [
      "['/home/nathan/data/kraken/ras/ND0012/Pos5/untrans_objects_type_2.h5', '/home/nathan/data/kraken/ras/ND0012/Pos5/objects_type_1.h5', '/home/nathan/data/kraken/ras/ND0012/Pos5/objects_type_2.h5', '/home/nathan/data/kraken/ras/ND0012/Pos5/untrans_no_bg_objects_type_2.h5', '/home/nathan/data/kraken/ras/ND0012/Pos5/untrans_objects_type_1.h5', '/home/nathan/data/kraken/ras/ND0012/Pos5/untrans_no_bg_objects_type_1.h5'] file found, skipping ND0012/Pos5\n",
      "['/home/nathan/data/kraken/ras/ND0012/Pos11/untrans_objects_type_2.h5', '/home/nathan/data/kraken/ras/ND0012/Pos11/objects_type_1.h5', '/home/nathan/data/kraken/ras/ND0012/Pos11/objects_type_2.h5', '/home/nathan/data/kraken/ras/ND0012/Pos11/untrans_no_bg_objects_type_2.h5', '/home/nathan/data/kraken/ras/ND0012/Pos11/untrans_objects_type_1.h5', '/home/nathan/data/kraken/ras/ND0012/Pos11/untrans_no_bg_objects_type_1.h5'] file found, skipping ND0012/Pos11\n",
      "['/home/nathan/data/kraken/ras/ND0012/Pos3/untrans_objects_type_2.h5', '/home/nathan/data/kraken/ras/ND0012/Pos3/untrans_no_bg_objects_type_2.h5', '/home/nathan/data/kraken/ras/ND0012/Pos3/untrans_objects_type_1.h5', '/home/nathan/data/kraken/ras/ND0012/Pos3/untrans_no_bg_objects_type_1.h5'] file found, skipping ND0012/Pos3\n",
      "['/home/nathan/data/kraken/ras/ND0012/Pos1/untrans_objects_type_2.h5', '/home/nathan/data/kraken/ras/ND0012/Pos1/untrans_no_bg_objects_type_2.h5', '/home/nathan/data/kraken/ras/ND0012/Pos1/untrans_objects_type_1.h5', '/home/nathan/data/kraken/ras/ND0012/Pos1/untrans_no_bg_objects_type_1.h5'] file found, skipping ND0012/Pos1\n",
      "['/home/nathan/data/kraken/ras/ND0012/Pos8/untrans_objects_type_2.h5', '/home/nathan/data/kraken/ras/ND0012/Pos8/untrans_no_bg_objects_type_2.h5', '/home/nathan/data/kraken/ras/ND0012/Pos8/untrans_objects_type_1.h5', '/home/nathan/data/kraken/ras/ND0012/Pos8/untrans_no_bg_objects_type_1.h5'] file found, skipping ND0012/Pos8\n",
      "['/home/nathan/data/kraken/ras/ND0012/Pos10/untrans_objects_type_2.h5', '/home/nathan/data/kraken/ras/ND0012/Pos10/untrans_no_bg_objects_type_2.h5', '/home/nathan/data/kraken/ras/ND0012/Pos10/untrans_objects_type_1.h5', '/home/nathan/data/kraken/ras/ND0012/Pos10/untrans_no_bg_objects_type_1.h5'] file found, skipping ND0012/Pos10\n",
      "['/home/nathan/data/kraken/ras/ND0012/Pos0/untrans_objects_type_2.h5', '/home/nathan/data/kraken/ras/ND0012/Pos0/untrans_no_bg_objects_type_2.h5', '/home/nathan/data/kraken/ras/ND0012/Pos0/untrans_objects_type_1.h5', '/home/nathan/data/kraken/ras/ND0012/Pos0/untrans_no_bg_objects_type_1.h5'] file found, skipping ND0012/Pos0\n",
      "['/home/nathan/data/kraken/ras/ND0012/Pos2/untrans_objects_type_2.h5', '/home/nathan/data/kraken/ras/ND0012/Pos2/untrans_no_bg_objects_type_2.h5', '/home/nathan/data/kraken/ras/ND0012/Pos2/untrans_objects_type_1.h5', '/home/nathan/data/kraken/ras/ND0012/Pos2/untrans_no_bg_objects_type_1.h5'] file found, skipping ND0012/Pos2\n",
      "['/home/nathan/data/kraken/ras/ND0012/Pos6/untrans_objects_type_2.h5', '/home/nathan/data/kraken/ras/ND0012/Pos6/untrans_no_bg_objects_type_2.h5', '/home/nathan/data/kraken/ras/ND0012/Pos6/untrans_objects_type_1.h5', '/home/nathan/data/kraken/ras/ND0012/Pos6/untrans_no_bg_objects_type_1.h5'] file found, skipping ND0012/Pos6\n",
      "['/home/nathan/data/kraken/ras/ND0012/Pos7/untrans_objects_type_2.h5', '/home/nathan/data/kraken/ras/ND0012/Pos7/untrans_no_bg_objects_type_2.h5', '/home/nathan/data/kraken/ras/ND0012/Pos7/untrans_objects_type_1.h5', '/home/nathan/data/kraken/ras/ND0012/Pos7/untrans_no_bg_objects_type_1.h5'] file found, skipping ND0012/Pos7\n",
      "['/home/nathan/data/kraken/ras/ND0012/Pos9/untrans_objects_type_2.h5', '/home/nathan/data/kraken/ras/ND0012/Pos9/untrans_no_bg_objects_type_2.h5', '/home/nathan/data/kraken/ras/ND0012/Pos9/untrans_objects_type_1.h5', '/home/nathan/data/kraken/ras/ND0012/Pos9/untrans_no_bg_objects_type_1.h5'] file found, skipping ND0012/Pos9\n",
      "['/home/nathan/data/kraken/ras/ND0012/Pos4/untrans_objects_type_2.h5', '/home/nathan/data/kraken/ras/ND0012/Pos4/untrans_no_bg_objects_type_2.h5', '/home/nathan/data/kraken/ras/ND0012/Pos4/untrans_objects_type_1.h5', '/home/nathan/data/kraken/ras/ND0012/Pos4/untrans_no_bg_objects_type_1.h5'] file found, skipping ND0012/Pos4\n"
     ]
    },
    {
     "data": {
      "application/vnd.jupyter.widget-view+json": {
       "model_id": "502ae71f19b4465cbc71370cd56560a0",
       "version_major": 2,
       "version_minor": 0
      },
      "text/plain": [
       "  0%|          | 0/15 [00:00<?, ?it/s]"
      ]
     },
     "metadata": {},
     "output_type": "display_data"
    },
    {
     "name": "stdout",
     "output_type": "stream",
     "text": [
      "['/home/nathan/data/kraken/ras/ND0011/Pos5/untrans_objects_type_2.h5', '/home/nathan/data/kraken/ras/ND0011/Pos5/objects_type_1.h5', '/home/nathan/data/kraken/ras/ND0011/Pos5/objects_type_2.h5', '/home/nathan/data/kraken/ras/ND0011/Pos5/untrans_no_bg_objects_type_2.h5', '/home/nathan/data/kraken/ras/ND0011/Pos5/untrans_objects_type_1.h5', '/home/nathan/data/kraken/ras/ND0011/Pos5/untrans_no_bg_objects_type_1.h5'] file found, skipping ND0011/Pos5\n",
      "['/home/nathan/data/kraken/ras/ND0011/Pos11/untrans_objects_type_2.h5', '/home/nathan/data/kraken/ras/ND0011/Pos11/objects_type_1.h5', '/home/nathan/data/kraken/ras/ND0011/Pos11/objects_type_2.h5', '/home/nathan/data/kraken/ras/ND0011/Pos11/untrans_no_bg_objects_type_2.h5', '/home/nathan/data/kraken/ras/ND0011/Pos11/untrans_objects_type_1.h5', '/home/nathan/data/kraken/ras/ND0011/Pos11/untrans_no_bg_objects_type_1.h5'] file found, skipping ND0011/Pos11\n",
      "['/home/nathan/data/kraken/ras/ND0011/Pos1/untrans_objects_type_2.h5', '/home/nathan/data/kraken/ras/ND0011/Pos1/objects_type_1.h5', '/home/nathan/data/kraken/ras/ND0011/Pos1/objects_type_2.h5', '/home/nathan/data/kraken/ras/ND0011/Pos1/untrans_no_bg_objects_type_2.h5', '/home/nathan/data/kraken/ras/ND0011/Pos1/untrans_objects_type_1.h5', '/home/nathan/data/kraken/ras/ND0011/Pos1/untrans_no_bg_objects_type_1.h5'] file found, skipping ND0011/Pos1\n",
      "['/home/nathan/data/kraken/ras/ND0011/Pos8/untrans_objects_type_2.h5', '/home/nathan/data/kraken/ras/ND0011/Pos8/objects_type_1.h5', '/home/nathan/data/kraken/ras/ND0011/Pos8/objects_type_2.h5', '/home/nathan/data/kraken/ras/ND0011/Pos8/untrans_no_bg_objects_type_2.h5', '/home/nathan/data/kraken/ras/ND0011/Pos8/untrans_objects_type_1.h5', '/home/nathan/data/kraken/ras/ND0011/Pos8/untrans_no_bg_objects_type_1.h5'] file found, skipping ND0011/Pos8\n",
      "['/home/nathan/data/kraken/ras/ND0011/Pos10/untrans_objects_type_2.h5', '/home/nathan/data/kraken/ras/ND0011/Pos10/objects_type_1.h5', '/home/nathan/data/kraken/ras/ND0011/Pos10/objects_type_2.h5', '/home/nathan/data/kraken/ras/ND0011/Pos10/untrans_no_bg_objects_type_2.h5', '/home/nathan/data/kraken/ras/ND0011/Pos10/untrans_objects_type_1.h5', '/home/nathan/data/kraken/ras/ND0011/Pos10/untrans_no_bg_objects_type_1.h5'] file found, skipping ND0011/Pos10\n",
      "['/home/nathan/data/kraken/ras/ND0011/Pos0/untrans_objects_type_2.h5', '/home/nathan/data/kraken/ras/ND0011/Pos0/objects_type_1.h5', '/home/nathan/data/kraken/ras/ND0011/Pos0/objects_type_2.h5', '/home/nathan/data/kraken/ras/ND0011/Pos0/untrans_no_bg_objects_type_2.h5', '/home/nathan/data/kraken/ras/ND0011/Pos0/untrans_objects_type_1.h5', '/home/nathan/data/kraken/ras/ND0011/Pos0/untrans_no_bg_objects_type_1.h5'] file found, skipping ND0011/Pos0\n",
      "['/home/nathan/data/kraken/ras/ND0011/Pos2/untrans_objects_type_2.h5', '/home/nathan/data/kraken/ras/ND0011/Pos2/objects_type_1.h5', '/home/nathan/data/kraken/ras/ND0011/Pos2/objects_type_2.h5', '/home/nathan/data/kraken/ras/ND0011/Pos2/untrans_no_bg_objects_type_2.h5', '/home/nathan/data/kraken/ras/ND0011/Pos2/untrans_objects_type_1.h5', '/home/nathan/data/kraken/ras/ND0011/Pos2/untrans_no_bg_objects_type_1.h5'] file found, skipping ND0011/Pos2\n",
      "['/home/nathan/data/kraken/ras/ND0011/Pos6/untrans_objects_type_2.h5', '/home/nathan/data/kraken/ras/ND0011/Pos6/objects_type_1.h5', '/home/nathan/data/kraken/ras/ND0011/Pos6/objects_type_2.h5', '/home/nathan/data/kraken/ras/ND0011/Pos6/untrans_no_bg_objects_type_2.h5', '/home/nathan/data/kraken/ras/ND0011/Pos6/untrans_objects_type_1.h5', '/home/nathan/data/kraken/ras/ND0011/Pos6/untrans_no_bg_objects_type_1.h5'] file found, skipping ND0011/Pos6\n",
      "['/home/nathan/data/kraken/ras/ND0011/Pos7/untrans_objects_type_2.h5', '/home/nathan/data/kraken/ras/ND0011/Pos7/objects_type_1.h5', '/home/nathan/data/kraken/ras/ND0011/Pos7/objects_type_2.h5', '/home/nathan/data/kraken/ras/ND0011/Pos7/untrans_no_bg_objects_type_2.h5', '/home/nathan/data/kraken/ras/ND0011/Pos7/untrans_objects_type_1.h5', '/home/nathan/data/kraken/ras/ND0011/Pos7/untrans_no_bg_objects_type_1.h5'] file found, skipping ND0011/Pos7\n",
      "['/home/nathan/data/kraken/ras/ND0011/Pos9/untrans_objects_type_2.h5', '/home/nathan/data/kraken/ras/ND0011/Pos9/objects_type_1.h5', '/home/nathan/data/kraken/ras/ND0011/Pos9/objects_type_2.h5', '/home/nathan/data/kraken/ras/ND0011/Pos9/untrans_no_bg_objects_type_2.h5', '/home/nathan/data/kraken/ras/ND0011/Pos9/untrans_objects_type_1.h5', '/home/nathan/data/kraken/ras/ND0011/Pos9/untrans_no_bg_objects_type_1.h5'] file found, skipping ND0011/Pos9\n",
      "['/home/nathan/data/kraken/ras/ND0011/Pos4/untrans_objects_type_2.h5', '/home/nathan/data/kraken/ras/ND0011/Pos4/objects_type_1.h5', '/home/nathan/data/kraken/ras/ND0011/Pos4/objects_type_2.h5', '/home/nathan/data/kraken/ras/ND0011/Pos4/untrans_no_bg_objects_type_2.h5', '/home/nathan/data/kraken/ras/ND0011/Pos4/untrans_objects_type_1.h5', '/home/nathan/data/kraken/ras/ND0011/Pos4/untrans_no_bg_objects_type_1.h5'] file found, skipping ND0011/Pos4\n"
     ]
    },
    {
     "data": {
      "application/vnd.jupyter.widget-view+json": {
       "model_id": "85a59bd08a164422ac8969a825689f6a",
       "version_major": 2,
       "version_minor": 0
      },
      "text/plain": [
       "  0%|          | 0/5 [00:00<?, ?it/s]"
      ]
     },
     "metadata": {},
     "output_type": "display_data"
    },
    {
     "data": {
      "application/vnd.jupyter.widget-view+json": {
       "model_id": "963a78d2e623418d841cd25e5f60385b",
       "version_major": 2,
       "version_minor": 0
      },
      "text/plain": [
       "  0%|          | 0/15 [00:00<?, ?it/s]"
      ]
     },
     "metadata": {},
     "output_type": "display_data"
    },
    {
     "name": "stdout",
     "output_type": "stream",
     "text": [
      "['/home/nathan/data/kraken/ras/ND0013/Pos13/untrans_objects_type_2.h5', '/home/nathan/data/kraken/ras/ND0013/Pos13/untrans_no_bg_objects_type_2.h5', '/home/nathan/data/kraken/ras/ND0013/Pos13/untrans_objects_type_1.h5', '/home/nathan/data/kraken/ras/ND0013/Pos13/untrans_no_bg_objects_type_1.h5'] file found, skipping ND0013/Pos13\n",
      "['/home/nathan/data/kraken/ras/ND0013/Pos5/untrans_objects_type_2.h5', '/home/nathan/data/kraken/ras/ND0013/Pos5/untrans_no_bg_objects_type_2.h5', '/home/nathan/data/kraken/ras/ND0013/Pos5/untrans_objects_type_1.h5', '/home/nathan/data/kraken/ras/ND0013/Pos5/untrans_no_bg_objects_type_1.h5'] file found, skipping ND0013/Pos5\n",
      "['/home/nathan/data/kraken/ras/ND0013/Pos11/untrans_objects_type_2.h5', '/home/nathan/data/kraken/ras/ND0013/Pos11/untrans_no_bg_objects_type_2.h5', '/home/nathan/data/kraken/ras/ND0013/Pos11/untrans_objects_type_1.h5', '/home/nathan/data/kraken/ras/ND0013/Pos11/untrans_no_bg_objects_type_1.h5'] file found, skipping ND0013/Pos11\n",
      "['/home/nathan/data/kraken/ras/ND0013/Pos14/untrans_objects_type_2.h5', '/home/nathan/data/kraken/ras/ND0013/Pos14/untrans_no_bg_objects_type_2.h5', '/home/nathan/data/kraken/ras/ND0013/Pos14/untrans_objects_type_1.h5', '/home/nathan/data/kraken/ras/ND0013/Pos14/untrans_no_bg_objects_type_1.h5'] file found, skipping ND0013/Pos14\n",
      "['/home/nathan/data/kraken/ras/ND0013/Pos3/untrans_objects_type_2.h5', '/home/nathan/data/kraken/ras/ND0013/Pos3/untrans_no_bg_objects_type_2.h5', '/home/nathan/data/kraken/ras/ND0013/Pos3/untrans_objects_type_1.h5', '/home/nathan/data/kraken/ras/ND0013/Pos3/untrans_no_bg_objects_type_1.h5'] file found, skipping ND0013/Pos3\n",
      "['/home/nathan/data/kraken/ras/ND0013/Pos1/untrans_objects_type_2.h5', '/home/nathan/data/kraken/ras/ND0013/Pos1/untrans_no_bg_objects_type_2.h5', '/home/nathan/data/kraken/ras/ND0013/Pos1/untrans_objects_type_1.h5', '/home/nathan/data/kraken/ras/ND0013/Pos1/untrans_no_bg_objects_type_1.h5'] file found, skipping ND0013/Pos1\n",
      "['/home/nathan/data/kraken/ras/ND0013/Pos8/untrans_objects_type_2.h5', '/home/nathan/data/kraken/ras/ND0013/Pos8/untrans_no_bg_objects_type_2.h5', '/home/nathan/data/kraken/ras/ND0013/Pos8/untrans_objects_type_1.h5', '/home/nathan/data/kraken/ras/ND0013/Pos8/untrans_no_bg_objects_type_1.h5'] file found, skipping ND0013/Pos8\n",
      "['/home/nathan/data/kraken/ras/ND0013/Pos10/untrans_objects_type_2.h5', '/home/nathan/data/kraken/ras/ND0013/Pos10/untrans_no_bg_objects_type_2.h5', '/home/nathan/data/kraken/ras/ND0013/Pos10/untrans_objects_type_1.h5', '/home/nathan/data/kraken/ras/ND0013/Pos10/untrans_no_bg_objects_type_1.h5'] file found, skipping ND0013/Pos10\n",
      "['/home/nathan/data/kraken/ras/ND0013/Pos0/untrans_objects_type_2.h5', '/home/nathan/data/kraken/ras/ND0013/Pos0/untrans_no_bg_objects_type_2.h5', '/home/nathan/data/kraken/ras/ND0013/Pos0/untrans_objects_type_1.h5', '/home/nathan/data/kraken/ras/ND0013/Pos0/untrans_no_bg_objects_type_1.h5'] file found, skipping ND0013/Pos0\n",
      "['/home/nathan/data/kraken/ras/ND0013/Pos2/untrans_objects_type_2.h5', '/home/nathan/data/kraken/ras/ND0013/Pos2/untrans_no_bg_objects_type_2.h5', '/home/nathan/data/kraken/ras/ND0013/Pos2/untrans_objects_type_1.h5', '/home/nathan/data/kraken/ras/ND0013/Pos2/untrans_no_bg_objects_type_1.h5'] file found, skipping ND0013/Pos2\n",
      "['/home/nathan/data/kraken/ras/ND0013/Pos6/untrans_objects_type_2.h5', '/home/nathan/data/kraken/ras/ND0013/Pos6/untrans_no_bg_objects_type_2.h5', '/home/nathan/data/kraken/ras/ND0013/Pos6/untrans_objects_type_1.h5', '/home/nathan/data/kraken/ras/ND0013/Pos6/untrans_no_bg_objects_type_1.h5'] file found, skipping ND0013/Pos6\n",
      "['/home/nathan/data/kraken/ras/ND0013/Pos7/untrans_objects_type_2.h5', '/home/nathan/data/kraken/ras/ND0013/Pos7/untrans_no_bg_objects_type_2.h5', '/home/nathan/data/kraken/ras/ND0013/Pos7/untrans_objects_type_1.h5', '/home/nathan/data/kraken/ras/ND0013/Pos7/untrans_no_bg_objects_type_1.h5'] file found, skipping ND0013/Pos7\n",
      "['/home/nathan/data/kraken/ras/ND0013/Pos9/untrans_objects_type_2.h5', '/home/nathan/data/kraken/ras/ND0013/Pos9/untrans_no_bg_objects_type_2.h5', '/home/nathan/data/kraken/ras/ND0013/Pos9/untrans_objects_type_1.h5', '/home/nathan/data/kraken/ras/ND0013/Pos9/untrans_no_bg_objects_type_1.h5'] file found, skipping ND0013/Pos9\n",
      "['/home/nathan/data/kraken/ras/ND0013/Pos4/untrans_objects_type_2.h5', '/home/nathan/data/kraken/ras/ND0013/Pos4/untrans_no_bg_objects_type_2.h5', '/home/nathan/data/kraken/ras/ND0013/Pos4/untrans_objects_type_1.h5', '/home/nathan/data/kraken/ras/ND0013/Pos4/untrans_no_bg_objects_type_1.h5'] file found, skipping ND0013/Pos4\n",
      "['/home/nathan/data/kraken/ras/ND0013/Pos12/untrans_objects_type_2.h5', '/home/nathan/data/kraken/ras/ND0013/Pos12/untrans_no_bg_objects_type_2.h5', '/home/nathan/data/kraken/ras/ND0013/Pos12/untrans_objects_type_1.h5', '/home/nathan/data/kraken/ras/ND0013/Pos12/untrans_no_bg_objects_type_1.h5'] file found, skipping ND0013/Pos12\n"
     ]
    },
    {
     "data": {
      "application/vnd.jupyter.widget-view+json": {
       "model_id": "50667bca870041078e5461b0a1dd0aa5",
       "version_major": 2,
       "version_minor": 0
      },
      "text/plain": [
       "  0%|          | 0/15 [00:00<?, ?it/s]"
      ]
     },
     "metadata": {},
     "output_type": "display_data"
    },
    {
     "name": "stdout",
     "output_type": "stream",
     "text": [
      "['/home/nathan/data/kraken/ras/ND0014/Pos13/untrans_objects_type_2.h5', '/home/nathan/data/kraken/ras/ND0014/Pos13/untrans_no_bg_objects_type_2.h5', '/home/nathan/data/kraken/ras/ND0014/Pos13/untrans_objects_type_1.h5', '/home/nathan/data/kraken/ras/ND0014/Pos13/untrans_no_bg_objects_type_1.h5'] file found, skipping ND0014/Pos13\n",
      "['/home/nathan/data/kraken/ras/ND0014/Pos5/untrans_objects_type_2.h5', '/home/nathan/data/kraken/ras/ND0014/Pos5/untrans_no_bg_objects_type_2.h5', '/home/nathan/data/kraken/ras/ND0014/Pos5/untrans_objects_type_1.h5', '/home/nathan/data/kraken/ras/ND0014/Pos5/untrans_no_bg_objects_type_1.h5'] file found, skipping ND0014/Pos5\n",
      "['/home/nathan/data/kraken/ras/ND0014/Pos11/untrans_objects_type_2.h5', '/home/nathan/data/kraken/ras/ND0014/Pos11/untrans_no_bg_objects_type_2.h5', '/home/nathan/data/kraken/ras/ND0014/Pos11/untrans_objects_type_1.h5', '/home/nathan/data/kraken/ras/ND0014/Pos11/untrans_no_bg_objects_type_1.h5'] file found, skipping ND0014/Pos11\n",
      "['/home/nathan/data/kraken/ras/ND0014/Pos3/untrans_objects_type_2.h5', '/home/nathan/data/kraken/ras/ND0014/Pos3/untrans_no_bg_objects_type_2.h5', '/home/nathan/data/kraken/ras/ND0014/Pos3/untrans_objects_type_1.h5', '/home/nathan/data/kraken/ras/ND0014/Pos3/untrans_no_bg_objects_type_1.h5'] file found, skipping ND0014/Pos3\n",
      "['/home/nathan/data/kraken/ras/ND0014/Pos1/untrans_objects_type_2.h5', '/home/nathan/data/kraken/ras/ND0014/Pos1/untrans_no_bg_objects_type_2.h5', '/home/nathan/data/kraken/ras/ND0014/Pos1/untrans_objects_type_1.h5', '/home/nathan/data/kraken/ras/ND0014/Pos1/untrans_no_bg_objects_type_1.h5'] file found, skipping ND0014/Pos1\n",
      "['/home/nathan/data/kraken/ras/ND0014/Pos8/untrans_objects_type_2.h5', '/home/nathan/data/kraken/ras/ND0014/Pos8/untrans_no_bg_objects_type_2.h5', '/home/nathan/data/kraken/ras/ND0014/Pos8/untrans_objects_type_1.h5', '/home/nathan/data/kraken/ras/ND0014/Pos8/untrans_no_bg_objects_type_1.h5'] file found, skipping ND0014/Pos8\n",
      "['/home/nathan/data/kraken/ras/ND0014/Pos10/untrans_objects_type_2.h5', '/home/nathan/data/kraken/ras/ND0014/Pos10/untrans_no_bg_objects_type_2.h5', '/home/nathan/data/kraken/ras/ND0014/Pos10/untrans_objects_type_1.h5', '/home/nathan/data/kraken/ras/ND0014/Pos10/untrans_no_bg_objects_type_1.h5'] file found, skipping ND0014/Pos10\n",
      "['/home/nathan/data/kraken/ras/ND0014/Pos0/untrans_objects_type_2.h5', '/home/nathan/data/kraken/ras/ND0014/Pos0/untrans_no_bg_objects_type_2.h5', '/home/nathan/data/kraken/ras/ND0014/Pos0/untrans_objects_type_1.h5', '/home/nathan/data/kraken/ras/ND0014/Pos0/untrans_no_bg_objects_type_1.h5'] file found, skipping ND0014/Pos0\n",
      "['/home/nathan/data/kraken/ras/ND0014/Pos2/untrans_objects_type_2.h5', '/home/nathan/data/kraken/ras/ND0014/Pos2/untrans_no_bg_objects_type_2.h5', '/home/nathan/data/kraken/ras/ND0014/Pos2/untrans_objects_type_1.h5', '/home/nathan/data/kraken/ras/ND0014/Pos2/untrans_no_bg_objects_type_1.h5'] file found, skipping ND0014/Pos2\n",
      "['/home/nathan/data/kraken/ras/ND0014/Pos6/untrans_objects_type_2.h5', '/home/nathan/data/kraken/ras/ND0014/Pos6/untrans_no_bg_objects_type_2.h5', '/home/nathan/data/kraken/ras/ND0014/Pos6/untrans_objects_type_1.h5', '/home/nathan/data/kraken/ras/ND0014/Pos6/untrans_no_bg_objects_type_1.h5'] file found, skipping ND0014/Pos6\n",
      "['/home/nathan/data/kraken/ras/ND0014/Pos7/untrans_objects_type_2.h5', '/home/nathan/data/kraken/ras/ND0014/Pos7/untrans_no_bg_objects_type_2.h5', '/home/nathan/data/kraken/ras/ND0014/Pos7/untrans_objects_type_1.h5', '/home/nathan/data/kraken/ras/ND0014/Pos7/untrans_no_bg_objects_type_1.h5'] file found, skipping ND0014/Pos7\n",
      "['/home/nathan/data/kraken/ras/ND0014/Pos9/untrans_objects_type_2.h5', '/home/nathan/data/kraken/ras/ND0014/Pos9/untrans_no_bg_objects_type_2.h5', '/home/nathan/data/kraken/ras/ND0014/Pos9/untrans_objects_type_1.h5', '/home/nathan/data/kraken/ras/ND0014/Pos9/untrans_no_bg_objects_type_1.h5'] file found, skipping ND0014/Pos9\n",
      "['/home/nathan/data/kraken/ras/ND0014/Pos4/untrans_objects_type_2.h5', '/home/nathan/data/kraken/ras/ND0014/Pos4/untrans_no_bg_objects_type_2.h5', '/home/nathan/data/kraken/ras/ND0014/Pos4/untrans_objects_type_1.h5', '/home/nathan/data/kraken/ras/ND0014/Pos4/untrans_no_bg_objects_type_1.h5'] file found, skipping ND0014/Pos4\n",
      "['/home/nathan/data/kraken/ras/ND0014/Pos12/untrans_objects_type_2.h5', '/home/nathan/data/kraken/ras/ND0014/Pos12/untrans_no_bg_objects_type_2.h5', '/home/nathan/data/kraken/ras/ND0014/Pos12/untrans_objects_type_1.h5', '/home/nathan/data/kraken/ras/ND0014/Pos12/untrans_no_bg_objects_type_1.h5'] file found, skipping ND0014/Pos12\n"
     ]
    },
    {
     "data": {
      "application/vnd.jupyter.widget-view+json": {
       "model_id": "b2ec64b16ce24299a4274fdfd933b9ab",
       "version_major": 2,
       "version_minor": 0
      },
      "text/plain": [
       "  0%|          | 0/15 [00:00<?, ?it/s]"
      ]
     },
     "metadata": {},
     "output_type": "display_data"
    },
    {
     "name": "stdout",
     "output_type": "stream",
     "text": [
      "['/home/nathan/data/kraken/ras/ND0010/Pos5/objects.h5', '/home/nathan/data/kraken/ras/ND0010/Pos5/untrans_objects_type_2.h5', '/home/nathan/data/kraken/ras/ND0010/Pos5/objects_type_1.h5', '/home/nathan/data/kraken/ras/ND0010/Pos5/objects_type_2.h5', '/home/nathan/data/kraken/ras/ND0010/Pos5/untrans_no_bg_objects_type_2.h5', '/home/nathan/data/kraken/ras/ND0010/Pos5/untrans_objects_type_1.h5', '/home/nathan/data/kraken/ras/ND0010/Pos5/untrans_no_bg_objects_type_1.h5'] file found, skipping ND0010/Pos5\n",
      "['/home/nathan/data/kraken/ras/ND0010/Pos11/objects.h5', '/home/nathan/data/kraken/ras/ND0010/Pos11/untrans_objects_type_2.h5', '/home/nathan/data/kraken/ras/ND0010/Pos11/objects_type_1.h5', '/home/nathan/data/kraken/ras/ND0010/Pos11/objects_type_2.h5', '/home/nathan/data/kraken/ras/ND0010/Pos11/untrans_no_bg_objects_type_2.h5', '/home/nathan/data/kraken/ras/ND0010/Pos11/untrans_objects_type_1.h5', '/home/nathan/data/kraken/ras/ND0010/Pos11/untrans_no_bg_objects_type_1.h5'] file found, skipping ND0010/Pos11\n",
      "['/home/nathan/data/kraken/ras/ND0010/Pos3/objects.h5', '/home/nathan/data/kraken/ras/ND0010/Pos3/objects_type_1.h5', '/home/nathan/data/kraken/ras/ND0010/Pos3/objects_type_2.h5', '/home/nathan/data/kraken/ras/ND0010/Pos3/untrans_objects_type_1.h5', '/home/nathan/data/kraken/ras/ND0010/Pos3/untrans_no_bg_objects_type_1.h5'] file found, skipping ND0010/Pos3\n",
      "['/home/nathan/data/kraken/ras/ND0010/Pos1/objects.h5', '/home/nathan/data/kraken/ras/ND0010/Pos1/untrans_objects_type_2.h5', '/home/nathan/data/kraken/ras/ND0010/Pos1/objects_type_1.h5', '/home/nathan/data/kraken/ras/ND0010/Pos1/objects_type_2.h5', '/home/nathan/data/kraken/ras/ND0010/Pos1/untrans_no_bg_objects_type_2.h5', '/home/nathan/data/kraken/ras/ND0010/Pos1/untrans_objects_type_1.h5', '/home/nathan/data/kraken/ras/ND0010/Pos1/untrans_no_bg_objects_type_1.h5'] file found, skipping ND0010/Pos1\n",
      "['/home/nathan/data/kraken/ras/ND0010/Pos8/objects.h5', '/home/nathan/data/kraken/ras/ND0010/Pos8/untrans_objects_type_2.h5', '/home/nathan/data/kraken/ras/ND0010/Pos8/objects_type_1.h5', '/home/nathan/data/kraken/ras/ND0010/Pos8/objects_type_2.h5', '/home/nathan/data/kraken/ras/ND0010/Pos8/untrans_no_bg_objects_type_2.h5', '/home/nathan/data/kraken/ras/ND0010/Pos8/untrans_objects_type_1.h5', '/home/nathan/data/kraken/ras/ND0010/Pos8/untrans_no_bg_objects_type_1.h5'] file found, skipping ND0010/Pos8\n",
      "['/home/nathan/data/kraken/ras/ND0010/Pos10/objects.h5', '/home/nathan/data/kraken/ras/ND0010/Pos10/untrans_objects_type_2.h5', '/home/nathan/data/kraken/ras/ND0010/Pos10/objects_type_1.h5', '/home/nathan/data/kraken/ras/ND0010/Pos10/objects_type_2.h5', '/home/nathan/data/kraken/ras/ND0010/Pos10/untrans_no_bg_objects_type_2.h5', '/home/nathan/data/kraken/ras/ND0010/Pos10/untrans_objects_type_1.h5', '/home/nathan/data/kraken/ras/ND0010/Pos10/untrans_no_bg_objects_type_1.h5'] file found, skipping ND0010/Pos10\n",
      "['/home/nathan/data/kraken/ras/ND0010/Pos0/objects.h5', '/home/nathan/data/kraken/ras/ND0010/Pos0/untrans_objects_type_2.h5', '/home/nathan/data/kraken/ras/ND0010/Pos0/objects_type_1.h5', '/home/nathan/data/kraken/ras/ND0010/Pos0/objects_type_2.h5', '/home/nathan/data/kraken/ras/ND0010/Pos0/untrans_no_bg_objects_type_2.h5', '/home/nathan/data/kraken/ras/ND0010/Pos0/untrans_objects_type_1.h5', '/home/nathan/data/kraken/ras/ND0010/Pos0/untrans_no_bg_objects_type_1.h5'] file found, skipping ND0010/Pos0\n",
      "['/home/nathan/data/kraken/ras/ND0010/Pos2/untrans_objects_type_2.h5', '/home/nathan/data/kraken/ras/ND0010/Pos2/objects_type_1.h5', '/home/nathan/data/kraken/ras/ND0010/Pos2/objects_type_2.h5', '/home/nathan/data/kraken/ras/ND0010/Pos2/untrans_no_bg_objects_type_2.h5', '/home/nathan/data/kraken/ras/ND0010/Pos2/untrans_objects_type_1.h5', '/home/nathan/data/kraken/ras/ND0010/Pos2/untrans_no_bg_objects_type_1.h5'] file found, skipping ND0010/Pos2\n",
      "['/home/nathan/data/kraken/ras/ND0010/Pos6/untrans_objects_type_2.h5', '/home/nathan/data/kraken/ras/ND0010/Pos6/objects_type_1.h5', '/home/nathan/data/kraken/ras/ND0010/Pos6/objects_type_2.h5', '/home/nathan/data/kraken/ras/ND0010/Pos6/untrans_no_bg_objects_type_2.h5', '/home/nathan/data/kraken/ras/ND0010/Pos6/untrans_objects_type_1.h5', '/home/nathan/data/kraken/ras/ND0010/Pos6/untrans_no_bg_objects_type_1.h5'] file found, skipping ND0010/Pos6\n",
      "['/home/nathan/data/kraken/ras/ND0010/Pos7/untrans_objects_type_2.h5', '/home/nathan/data/kraken/ras/ND0010/Pos7/objects_type_1.h5', '/home/nathan/data/kraken/ras/ND0010/Pos7/objects_type_2.h5', '/home/nathan/data/kraken/ras/ND0010/Pos7/untrans_no_bg_objects_type_2.h5', '/home/nathan/data/kraken/ras/ND0010/Pos7/untrans_objects_type_1.h5', '/home/nathan/data/kraken/ras/ND0010/Pos7/untrans_no_bg_objects_type_1.h5'] file found, skipping ND0010/Pos7\n",
      "['/home/nathan/data/kraken/ras/ND0010/Pos9/untrans_objects_type_2.h5', '/home/nathan/data/kraken/ras/ND0010/Pos9/objects_type_1.h5', '/home/nathan/data/kraken/ras/ND0010/Pos9/objects_type_2.h5', '/home/nathan/data/kraken/ras/ND0010/Pos9/untrans_no_bg_objects_type_2.h5', '/home/nathan/data/kraken/ras/ND0010/Pos9/untrans_objects_type_1.h5', '/home/nathan/data/kraken/ras/ND0010/Pos9/untrans_no_bg_objects_type_1.h5'] file found, skipping ND0010/Pos9\n",
      "['/home/nathan/data/kraken/ras/ND0010/Pos4/untrans_objects_type_2.h5', '/home/nathan/data/kraken/ras/ND0010/Pos4/objects_type_1.h5', '/home/nathan/data/kraken/ras/ND0010/Pos4/objects_type_2.h5', '/home/nathan/data/kraken/ras/ND0010/Pos4/untrans_no_bg_objects_type_2.h5', '/home/nathan/data/kraken/ras/ND0010/Pos4/untrans_objects_type_1.h5', '/home/nathan/data/kraken/ras/ND0010/Pos4/untrans_no_bg_objects_type_1.h5'] file found, skipping ND0010/Pos4\n"
     ]
    },
    {
     "data": {
      "application/vnd.jupyter.widget-view+json": {
       "model_id": "d3f97faca6c747b58d38bc3b93e3b803",
       "version_major": 2,
       "version_minor": 0
      },
      "text/plain": [
       "  0%|          | 0/15 [00:00<?, ?it/s]"
      ]
     },
     "metadata": {},
     "output_type": "display_data"
    },
    {
     "name": "stdout",
     "output_type": "stream",
     "text": [
      "['/home/nathan/data/kraken/ras/ND0012/Pos5/untrans_objects_type_2.h5', '/home/nathan/data/kraken/ras/ND0012/Pos5/objects_type_1.h5', '/home/nathan/data/kraken/ras/ND0012/Pos5/objects_type_2.h5', '/home/nathan/data/kraken/ras/ND0012/Pos5/untrans_no_bg_objects_type_2.h5', '/home/nathan/data/kraken/ras/ND0012/Pos5/untrans_objects_type_1.h5', '/home/nathan/data/kraken/ras/ND0012/Pos5/untrans_no_bg_objects_type_1.h5'] file found, skipping ND0012/Pos5\n",
      "['/home/nathan/data/kraken/ras/ND0012/Pos11/untrans_objects_type_2.h5', '/home/nathan/data/kraken/ras/ND0012/Pos11/objects_type_1.h5', '/home/nathan/data/kraken/ras/ND0012/Pos11/objects_type_2.h5', '/home/nathan/data/kraken/ras/ND0012/Pos11/untrans_no_bg_objects_type_2.h5', '/home/nathan/data/kraken/ras/ND0012/Pos11/untrans_objects_type_1.h5', '/home/nathan/data/kraken/ras/ND0012/Pos11/untrans_no_bg_objects_type_1.h5'] file found, skipping ND0012/Pos11\n",
      "['/home/nathan/data/kraken/ras/ND0012/Pos3/untrans_objects_type_2.h5', '/home/nathan/data/kraken/ras/ND0012/Pos3/untrans_no_bg_objects_type_2.h5', '/home/nathan/data/kraken/ras/ND0012/Pos3/untrans_objects_type_1.h5', '/home/nathan/data/kraken/ras/ND0012/Pos3/untrans_no_bg_objects_type_1.h5'] file found, skipping ND0012/Pos3\n",
      "['/home/nathan/data/kraken/ras/ND0012/Pos1/untrans_objects_type_2.h5', '/home/nathan/data/kraken/ras/ND0012/Pos1/untrans_no_bg_objects_type_2.h5', '/home/nathan/data/kraken/ras/ND0012/Pos1/untrans_objects_type_1.h5', '/home/nathan/data/kraken/ras/ND0012/Pos1/untrans_no_bg_objects_type_1.h5'] file found, skipping ND0012/Pos1\n",
      "['/home/nathan/data/kraken/ras/ND0012/Pos8/untrans_objects_type_2.h5', '/home/nathan/data/kraken/ras/ND0012/Pos8/untrans_no_bg_objects_type_2.h5', '/home/nathan/data/kraken/ras/ND0012/Pos8/untrans_objects_type_1.h5', '/home/nathan/data/kraken/ras/ND0012/Pos8/untrans_no_bg_objects_type_1.h5'] file found, skipping ND0012/Pos8\n",
      "['/home/nathan/data/kraken/ras/ND0012/Pos10/untrans_objects_type_2.h5', '/home/nathan/data/kraken/ras/ND0012/Pos10/untrans_no_bg_objects_type_2.h5', '/home/nathan/data/kraken/ras/ND0012/Pos10/untrans_objects_type_1.h5', '/home/nathan/data/kraken/ras/ND0012/Pos10/untrans_no_bg_objects_type_1.h5'] file found, skipping ND0012/Pos10\n",
      "['/home/nathan/data/kraken/ras/ND0012/Pos0/untrans_objects_type_2.h5', '/home/nathan/data/kraken/ras/ND0012/Pos0/untrans_no_bg_objects_type_2.h5', '/home/nathan/data/kraken/ras/ND0012/Pos0/untrans_objects_type_1.h5', '/home/nathan/data/kraken/ras/ND0012/Pos0/untrans_no_bg_objects_type_1.h5'] file found, skipping ND0012/Pos0\n",
      "['/home/nathan/data/kraken/ras/ND0012/Pos2/untrans_objects_type_2.h5', '/home/nathan/data/kraken/ras/ND0012/Pos2/untrans_no_bg_objects_type_2.h5', '/home/nathan/data/kraken/ras/ND0012/Pos2/untrans_objects_type_1.h5', '/home/nathan/data/kraken/ras/ND0012/Pos2/untrans_no_bg_objects_type_1.h5'] file found, skipping ND0012/Pos2\n",
      "['/home/nathan/data/kraken/ras/ND0012/Pos6/untrans_objects_type_2.h5', '/home/nathan/data/kraken/ras/ND0012/Pos6/untrans_no_bg_objects_type_2.h5', '/home/nathan/data/kraken/ras/ND0012/Pos6/untrans_objects_type_1.h5', '/home/nathan/data/kraken/ras/ND0012/Pos6/untrans_no_bg_objects_type_1.h5'] file found, skipping ND0012/Pos6\n",
      "['/home/nathan/data/kraken/ras/ND0012/Pos7/untrans_objects_type_2.h5', '/home/nathan/data/kraken/ras/ND0012/Pos7/untrans_no_bg_objects_type_2.h5', '/home/nathan/data/kraken/ras/ND0012/Pos7/untrans_objects_type_1.h5', '/home/nathan/data/kraken/ras/ND0012/Pos7/untrans_no_bg_objects_type_1.h5'] file found, skipping ND0012/Pos7\n",
      "['/home/nathan/data/kraken/ras/ND0012/Pos9/untrans_objects_type_2.h5', '/home/nathan/data/kraken/ras/ND0012/Pos9/untrans_no_bg_objects_type_2.h5', '/home/nathan/data/kraken/ras/ND0012/Pos9/untrans_objects_type_1.h5', '/home/nathan/data/kraken/ras/ND0012/Pos9/untrans_no_bg_objects_type_1.h5'] file found, skipping ND0012/Pos9\n",
      "['/home/nathan/data/kraken/ras/ND0012/Pos4/untrans_objects_type_2.h5', '/home/nathan/data/kraken/ras/ND0012/Pos4/untrans_no_bg_objects_type_2.h5', '/home/nathan/data/kraken/ras/ND0012/Pos4/untrans_objects_type_1.h5', '/home/nathan/data/kraken/ras/ND0012/Pos4/untrans_no_bg_objects_type_1.h5'] file found, skipping ND0012/Pos4\n"
     ]
    },
    {
     "data": {
      "application/vnd.jupyter.widget-view+json": {
       "model_id": "f0f449dcbed24ebbb790018c80a2c81f",
       "version_major": 2,
       "version_minor": 0
      },
      "text/plain": [
       "  0%|          | 0/15 [00:00<?, ?it/s]"
      ]
     },
     "metadata": {},
     "output_type": "display_data"
    },
    {
     "name": "stdout",
     "output_type": "stream",
     "text": [
      "['/home/nathan/data/kraken/ras/ND0011/Pos5/untrans_objects_type_2.h5', '/home/nathan/data/kraken/ras/ND0011/Pos5/objects_type_1.h5', '/home/nathan/data/kraken/ras/ND0011/Pos5/objects_type_2.h5', '/home/nathan/data/kraken/ras/ND0011/Pos5/untrans_no_bg_objects_type_2.h5', '/home/nathan/data/kraken/ras/ND0011/Pos5/untrans_objects_type_1.h5', '/home/nathan/data/kraken/ras/ND0011/Pos5/untrans_no_bg_objects_type_1.h5'] file found, skipping ND0011/Pos5\n",
      "['/home/nathan/data/kraken/ras/ND0011/Pos11/untrans_objects_type_2.h5', '/home/nathan/data/kraken/ras/ND0011/Pos11/objects_type_1.h5', '/home/nathan/data/kraken/ras/ND0011/Pos11/objects_type_2.h5', '/home/nathan/data/kraken/ras/ND0011/Pos11/untrans_no_bg_objects_type_2.h5', '/home/nathan/data/kraken/ras/ND0011/Pos11/untrans_objects_type_1.h5', '/home/nathan/data/kraken/ras/ND0011/Pos11/untrans_no_bg_objects_type_1.h5'] file found, skipping ND0011/Pos11\n",
      "['/home/nathan/data/kraken/ras/ND0011/Pos1/untrans_objects_type_2.h5', '/home/nathan/data/kraken/ras/ND0011/Pos1/objects_type_1.h5', '/home/nathan/data/kraken/ras/ND0011/Pos1/objects_type_2.h5', '/home/nathan/data/kraken/ras/ND0011/Pos1/untrans_no_bg_objects_type_2.h5', '/home/nathan/data/kraken/ras/ND0011/Pos1/untrans_objects_type_1.h5', '/home/nathan/data/kraken/ras/ND0011/Pos1/untrans_no_bg_objects_type_1.h5'] file found, skipping ND0011/Pos1\n",
      "['/home/nathan/data/kraken/ras/ND0011/Pos8/untrans_objects_type_2.h5', '/home/nathan/data/kraken/ras/ND0011/Pos8/objects_type_1.h5', '/home/nathan/data/kraken/ras/ND0011/Pos8/objects_type_2.h5', '/home/nathan/data/kraken/ras/ND0011/Pos8/untrans_no_bg_objects_type_2.h5', '/home/nathan/data/kraken/ras/ND0011/Pos8/untrans_objects_type_1.h5', '/home/nathan/data/kraken/ras/ND0011/Pos8/untrans_no_bg_objects_type_1.h5'] file found, skipping ND0011/Pos8\n",
      "['/home/nathan/data/kraken/ras/ND0011/Pos10/untrans_objects_type_2.h5', '/home/nathan/data/kraken/ras/ND0011/Pos10/objects_type_1.h5', '/home/nathan/data/kraken/ras/ND0011/Pos10/objects_type_2.h5', '/home/nathan/data/kraken/ras/ND0011/Pos10/untrans_no_bg_objects_type_2.h5', '/home/nathan/data/kraken/ras/ND0011/Pos10/untrans_objects_type_1.h5', '/home/nathan/data/kraken/ras/ND0011/Pos10/untrans_no_bg_objects_type_1.h5'] file found, skipping ND0011/Pos10\n",
      "['/home/nathan/data/kraken/ras/ND0011/Pos0/untrans_objects_type_2.h5', '/home/nathan/data/kraken/ras/ND0011/Pos0/objects_type_1.h5', '/home/nathan/data/kraken/ras/ND0011/Pos0/objects_type_2.h5', '/home/nathan/data/kraken/ras/ND0011/Pos0/untrans_no_bg_objects_type_2.h5', '/home/nathan/data/kraken/ras/ND0011/Pos0/untrans_objects_type_1.h5', '/home/nathan/data/kraken/ras/ND0011/Pos0/untrans_no_bg_objects_type_1.h5'] file found, skipping ND0011/Pos0\n",
      "['/home/nathan/data/kraken/ras/ND0011/Pos2/untrans_objects_type_2.h5', '/home/nathan/data/kraken/ras/ND0011/Pos2/objects_type_1.h5', '/home/nathan/data/kraken/ras/ND0011/Pos2/objects_type_2.h5', '/home/nathan/data/kraken/ras/ND0011/Pos2/untrans_no_bg_objects_type_2.h5', '/home/nathan/data/kraken/ras/ND0011/Pos2/untrans_objects_type_1.h5', '/home/nathan/data/kraken/ras/ND0011/Pos2/untrans_no_bg_objects_type_1.h5'] file found, skipping ND0011/Pos2\n",
      "['/home/nathan/data/kraken/ras/ND0011/Pos6/untrans_objects_type_2.h5', '/home/nathan/data/kraken/ras/ND0011/Pos6/objects_type_1.h5', '/home/nathan/data/kraken/ras/ND0011/Pos6/objects_type_2.h5', '/home/nathan/data/kraken/ras/ND0011/Pos6/untrans_no_bg_objects_type_2.h5', '/home/nathan/data/kraken/ras/ND0011/Pos6/untrans_objects_type_1.h5', '/home/nathan/data/kraken/ras/ND0011/Pos6/untrans_no_bg_objects_type_1.h5'] file found, skipping ND0011/Pos6\n",
      "['/home/nathan/data/kraken/ras/ND0011/Pos7/untrans_objects_type_2.h5', '/home/nathan/data/kraken/ras/ND0011/Pos7/objects_type_1.h5', '/home/nathan/data/kraken/ras/ND0011/Pos7/objects_type_2.h5', '/home/nathan/data/kraken/ras/ND0011/Pos7/untrans_no_bg_objects_type_2.h5', '/home/nathan/data/kraken/ras/ND0011/Pos7/untrans_objects_type_1.h5', '/home/nathan/data/kraken/ras/ND0011/Pos7/untrans_no_bg_objects_type_1.h5'] file found, skipping ND0011/Pos7\n",
      "['/home/nathan/data/kraken/ras/ND0011/Pos9/untrans_objects_type_2.h5', '/home/nathan/data/kraken/ras/ND0011/Pos9/objects_type_1.h5', '/home/nathan/data/kraken/ras/ND0011/Pos9/objects_type_2.h5', '/home/nathan/data/kraken/ras/ND0011/Pos9/untrans_no_bg_objects_type_2.h5', '/home/nathan/data/kraken/ras/ND0011/Pos9/untrans_objects_type_1.h5', '/home/nathan/data/kraken/ras/ND0011/Pos9/untrans_no_bg_objects_type_1.h5'] file found, skipping ND0011/Pos9\n",
      "['/home/nathan/data/kraken/ras/ND0011/Pos4/untrans_objects_type_2.h5', '/home/nathan/data/kraken/ras/ND0011/Pos4/objects_type_1.h5', '/home/nathan/data/kraken/ras/ND0011/Pos4/objects_type_2.h5', '/home/nathan/data/kraken/ras/ND0011/Pos4/untrans_no_bg_objects_type_2.h5', '/home/nathan/data/kraken/ras/ND0011/Pos4/untrans_objects_type_1.h5', '/home/nathan/data/kraken/ras/ND0011/Pos4/untrans_no_bg_objects_type_1.h5'] file found, skipping ND0011/Pos4\n"
     ]
    },
    {
     "data": {
      "application/vnd.jupyter.widget-view+json": {
       "model_id": "004f112c1f494b6a9d395a3575251809",
       "version_major": 2,
       "version_minor": 0
      },
      "text/plain": [
       "  0%|          | 0/5 [00:00<?, ?it/s]"
      ]
     },
     "metadata": {},
     "output_type": "display_data"
    },
    {
     "data": {
      "application/vnd.jupyter.widget-view+json": {
       "model_id": "9628feb5ddae4db0be5be5e5ed9a7f6f",
       "version_major": 2,
       "version_minor": 0
      },
      "text/plain": [
       "  0%|          | 0/15 [00:00<?, ?it/s]"
      ]
     },
     "metadata": {},
     "output_type": "display_data"
    },
    {
     "name": "stdout",
     "output_type": "stream",
     "text": [
      "['/home/nathan/data/kraken/ras/ND0013/Pos13/untrans_objects_type_2.h5', '/home/nathan/data/kraken/ras/ND0013/Pos13/untrans_no_bg_objects_type_2.h5', '/home/nathan/data/kraken/ras/ND0013/Pos13/untrans_objects_type_1.h5', '/home/nathan/data/kraken/ras/ND0013/Pos13/untrans_no_bg_objects_type_1.h5'] file found, skipping ND0013/Pos13\n",
      "['/home/nathan/data/kraken/ras/ND0013/Pos5/untrans_objects_type_2.h5', '/home/nathan/data/kraken/ras/ND0013/Pos5/untrans_no_bg_objects_type_2.h5', '/home/nathan/data/kraken/ras/ND0013/Pos5/untrans_objects_type_1.h5', '/home/nathan/data/kraken/ras/ND0013/Pos5/untrans_no_bg_objects_type_1.h5'] file found, skipping ND0013/Pos5\n",
      "['/home/nathan/data/kraken/ras/ND0013/Pos11/untrans_objects_type_2.h5', '/home/nathan/data/kraken/ras/ND0013/Pos11/untrans_no_bg_objects_type_2.h5', '/home/nathan/data/kraken/ras/ND0013/Pos11/untrans_objects_type_1.h5', '/home/nathan/data/kraken/ras/ND0013/Pos11/untrans_no_bg_objects_type_1.h5'] file found, skipping ND0013/Pos11\n",
      "['/home/nathan/data/kraken/ras/ND0013/Pos14/untrans_objects_type_2.h5', '/home/nathan/data/kraken/ras/ND0013/Pos14/untrans_no_bg_objects_type_2.h5', '/home/nathan/data/kraken/ras/ND0013/Pos14/untrans_objects_type_1.h5', '/home/nathan/data/kraken/ras/ND0013/Pos14/untrans_no_bg_objects_type_1.h5'] file found, skipping ND0013/Pos14\n",
      "['/home/nathan/data/kraken/ras/ND0013/Pos3/untrans_objects_type_2.h5', '/home/nathan/data/kraken/ras/ND0013/Pos3/untrans_no_bg_objects_type_2.h5', '/home/nathan/data/kraken/ras/ND0013/Pos3/untrans_objects_type_1.h5', '/home/nathan/data/kraken/ras/ND0013/Pos3/untrans_no_bg_objects_type_1.h5'] file found, skipping ND0013/Pos3\n",
      "['/home/nathan/data/kraken/ras/ND0013/Pos1/untrans_objects_type_2.h5', '/home/nathan/data/kraken/ras/ND0013/Pos1/untrans_no_bg_objects_type_2.h5', '/home/nathan/data/kraken/ras/ND0013/Pos1/untrans_objects_type_1.h5', '/home/nathan/data/kraken/ras/ND0013/Pos1/untrans_no_bg_objects_type_1.h5'] file found, skipping ND0013/Pos1\n",
      "['/home/nathan/data/kraken/ras/ND0013/Pos8/untrans_objects_type_2.h5', '/home/nathan/data/kraken/ras/ND0013/Pos8/untrans_no_bg_objects_type_2.h5', '/home/nathan/data/kraken/ras/ND0013/Pos8/untrans_objects_type_1.h5', '/home/nathan/data/kraken/ras/ND0013/Pos8/untrans_no_bg_objects_type_1.h5'] file found, skipping ND0013/Pos8\n",
      "['/home/nathan/data/kraken/ras/ND0013/Pos10/untrans_objects_type_2.h5', '/home/nathan/data/kraken/ras/ND0013/Pos10/untrans_no_bg_objects_type_2.h5', '/home/nathan/data/kraken/ras/ND0013/Pos10/untrans_objects_type_1.h5', '/home/nathan/data/kraken/ras/ND0013/Pos10/untrans_no_bg_objects_type_1.h5'] file found, skipping ND0013/Pos10\n",
      "['/home/nathan/data/kraken/ras/ND0013/Pos0/untrans_objects_type_2.h5', '/home/nathan/data/kraken/ras/ND0013/Pos0/untrans_no_bg_objects_type_2.h5', '/home/nathan/data/kraken/ras/ND0013/Pos0/untrans_objects_type_1.h5', '/home/nathan/data/kraken/ras/ND0013/Pos0/untrans_no_bg_objects_type_1.h5'] file found, skipping ND0013/Pos0\n",
      "['/home/nathan/data/kraken/ras/ND0013/Pos2/untrans_objects_type_2.h5', '/home/nathan/data/kraken/ras/ND0013/Pos2/untrans_no_bg_objects_type_2.h5', '/home/nathan/data/kraken/ras/ND0013/Pos2/untrans_objects_type_1.h5', '/home/nathan/data/kraken/ras/ND0013/Pos2/untrans_no_bg_objects_type_1.h5'] file found, skipping ND0013/Pos2\n",
      "['/home/nathan/data/kraken/ras/ND0013/Pos6/untrans_objects_type_2.h5', '/home/nathan/data/kraken/ras/ND0013/Pos6/untrans_no_bg_objects_type_2.h5', '/home/nathan/data/kraken/ras/ND0013/Pos6/untrans_objects_type_1.h5', '/home/nathan/data/kraken/ras/ND0013/Pos6/untrans_no_bg_objects_type_1.h5'] file found, skipping ND0013/Pos6\n",
      "['/home/nathan/data/kraken/ras/ND0013/Pos7/untrans_objects_type_2.h5', '/home/nathan/data/kraken/ras/ND0013/Pos7/untrans_no_bg_objects_type_2.h5', '/home/nathan/data/kraken/ras/ND0013/Pos7/untrans_objects_type_1.h5', '/home/nathan/data/kraken/ras/ND0013/Pos7/untrans_no_bg_objects_type_1.h5'] file found, skipping ND0013/Pos7\n",
      "['/home/nathan/data/kraken/ras/ND0013/Pos9/untrans_objects_type_2.h5', '/home/nathan/data/kraken/ras/ND0013/Pos9/untrans_no_bg_objects_type_2.h5', '/home/nathan/data/kraken/ras/ND0013/Pos9/untrans_objects_type_1.h5', '/home/nathan/data/kraken/ras/ND0013/Pos9/untrans_no_bg_objects_type_1.h5'] file found, skipping ND0013/Pos9\n",
      "['/home/nathan/data/kraken/ras/ND0013/Pos4/untrans_objects_type_2.h5', '/home/nathan/data/kraken/ras/ND0013/Pos4/untrans_no_bg_objects_type_2.h5', '/home/nathan/data/kraken/ras/ND0013/Pos4/untrans_objects_type_1.h5', '/home/nathan/data/kraken/ras/ND0013/Pos4/untrans_no_bg_objects_type_1.h5'] file found, skipping ND0013/Pos4\n",
      "['/home/nathan/data/kraken/ras/ND0013/Pos12/untrans_objects_type_2.h5', '/home/nathan/data/kraken/ras/ND0013/Pos12/untrans_no_bg_objects_type_2.h5', '/home/nathan/data/kraken/ras/ND0013/Pos12/untrans_objects_type_1.h5', '/home/nathan/data/kraken/ras/ND0013/Pos12/untrans_no_bg_objects_type_1.h5'] file found, skipping ND0013/Pos12\n"
     ]
    },
    {
     "data": {
      "application/vnd.jupyter.widget-view+json": {
       "model_id": "08717d73c4414ba0b969f3138c7864fd",
       "version_major": 2,
       "version_minor": 0
      },
      "text/plain": [
       "  0%|          | 0/15 [00:00<?, ?it/s]"
      ]
     },
     "metadata": {},
     "output_type": "display_data"
    },
    {
     "name": "stdout",
     "output_type": "stream",
     "text": [
      "['/home/nathan/data/kraken/ras/ND0014/Pos13/untrans_objects_type_2.h5', '/home/nathan/data/kraken/ras/ND0014/Pos13/untrans_no_bg_objects_type_2.h5', '/home/nathan/data/kraken/ras/ND0014/Pos13/untrans_objects_type_1.h5', '/home/nathan/data/kraken/ras/ND0014/Pos13/untrans_no_bg_objects_type_1.h5'] file found, skipping ND0014/Pos13\n",
      "['/home/nathan/data/kraken/ras/ND0014/Pos5/untrans_objects_type_2.h5', '/home/nathan/data/kraken/ras/ND0014/Pos5/untrans_no_bg_objects_type_2.h5', '/home/nathan/data/kraken/ras/ND0014/Pos5/untrans_objects_type_1.h5', '/home/nathan/data/kraken/ras/ND0014/Pos5/untrans_no_bg_objects_type_1.h5'] file found, skipping ND0014/Pos5\n",
      "['/home/nathan/data/kraken/ras/ND0014/Pos11/untrans_objects_type_2.h5', '/home/nathan/data/kraken/ras/ND0014/Pos11/untrans_no_bg_objects_type_2.h5', '/home/nathan/data/kraken/ras/ND0014/Pos11/untrans_objects_type_1.h5', '/home/nathan/data/kraken/ras/ND0014/Pos11/untrans_no_bg_objects_type_1.h5'] file found, skipping ND0014/Pos11\n",
      "['/home/nathan/data/kraken/ras/ND0014/Pos3/untrans_objects_type_2.h5', '/home/nathan/data/kraken/ras/ND0014/Pos3/untrans_no_bg_objects_type_2.h5', '/home/nathan/data/kraken/ras/ND0014/Pos3/untrans_objects_type_1.h5', '/home/nathan/data/kraken/ras/ND0014/Pos3/untrans_no_bg_objects_type_1.h5'] file found, skipping ND0014/Pos3\n",
      "['/home/nathan/data/kraken/ras/ND0014/Pos1/untrans_objects_type_2.h5', '/home/nathan/data/kraken/ras/ND0014/Pos1/untrans_no_bg_objects_type_2.h5', '/home/nathan/data/kraken/ras/ND0014/Pos1/untrans_objects_type_1.h5', '/home/nathan/data/kraken/ras/ND0014/Pos1/untrans_no_bg_objects_type_1.h5'] file found, skipping ND0014/Pos1\n",
      "['/home/nathan/data/kraken/ras/ND0014/Pos8/untrans_objects_type_2.h5', '/home/nathan/data/kraken/ras/ND0014/Pos8/untrans_no_bg_objects_type_2.h5', '/home/nathan/data/kraken/ras/ND0014/Pos8/untrans_objects_type_1.h5', '/home/nathan/data/kraken/ras/ND0014/Pos8/untrans_no_bg_objects_type_1.h5'] file found, skipping ND0014/Pos8\n",
      "['/home/nathan/data/kraken/ras/ND0014/Pos10/untrans_objects_type_2.h5', '/home/nathan/data/kraken/ras/ND0014/Pos10/untrans_no_bg_objects_type_2.h5', '/home/nathan/data/kraken/ras/ND0014/Pos10/untrans_objects_type_1.h5', '/home/nathan/data/kraken/ras/ND0014/Pos10/untrans_no_bg_objects_type_1.h5'] file found, skipping ND0014/Pos10\n",
      "['/home/nathan/data/kraken/ras/ND0014/Pos0/untrans_objects_type_2.h5', '/home/nathan/data/kraken/ras/ND0014/Pos0/untrans_no_bg_objects_type_2.h5', '/home/nathan/data/kraken/ras/ND0014/Pos0/untrans_objects_type_1.h5', '/home/nathan/data/kraken/ras/ND0014/Pos0/untrans_no_bg_objects_type_1.h5'] file found, skipping ND0014/Pos0\n",
      "['/home/nathan/data/kraken/ras/ND0014/Pos2/untrans_objects_type_2.h5', '/home/nathan/data/kraken/ras/ND0014/Pos2/untrans_no_bg_objects_type_2.h5', '/home/nathan/data/kraken/ras/ND0014/Pos2/untrans_objects_type_1.h5', '/home/nathan/data/kraken/ras/ND0014/Pos2/untrans_no_bg_objects_type_1.h5'] file found, skipping ND0014/Pos2\n",
      "['/home/nathan/data/kraken/ras/ND0014/Pos6/untrans_objects_type_2.h5', '/home/nathan/data/kraken/ras/ND0014/Pos6/untrans_no_bg_objects_type_2.h5', '/home/nathan/data/kraken/ras/ND0014/Pos6/untrans_objects_type_1.h5', '/home/nathan/data/kraken/ras/ND0014/Pos6/untrans_no_bg_objects_type_1.h5'] file found, skipping ND0014/Pos6\n",
      "['/home/nathan/data/kraken/ras/ND0014/Pos7/untrans_objects_type_2.h5', '/home/nathan/data/kraken/ras/ND0014/Pos7/untrans_no_bg_objects_type_2.h5', '/home/nathan/data/kraken/ras/ND0014/Pos7/untrans_objects_type_1.h5', '/home/nathan/data/kraken/ras/ND0014/Pos7/untrans_no_bg_objects_type_1.h5'] file found, skipping ND0014/Pos7\n",
      "['/home/nathan/data/kraken/ras/ND0014/Pos9/untrans_objects_type_2.h5', '/home/nathan/data/kraken/ras/ND0014/Pos9/untrans_no_bg_objects_type_2.h5', '/home/nathan/data/kraken/ras/ND0014/Pos9/untrans_objects_type_1.h5', '/home/nathan/data/kraken/ras/ND0014/Pos9/untrans_no_bg_objects_type_1.h5'] file found, skipping ND0014/Pos9\n",
      "['/home/nathan/data/kraken/ras/ND0014/Pos4/untrans_objects_type_2.h5', '/home/nathan/data/kraken/ras/ND0014/Pos4/untrans_no_bg_objects_type_2.h5', '/home/nathan/data/kraken/ras/ND0014/Pos4/untrans_objects_type_1.h5', '/home/nathan/data/kraken/ras/ND0014/Pos4/untrans_no_bg_objects_type_1.h5'] file found, skipping ND0014/Pos4\n",
      "['/home/nathan/data/kraken/ras/ND0014/Pos12/untrans_objects_type_2.h5', '/home/nathan/data/kraken/ras/ND0014/Pos12/untrans_no_bg_objects_type_2.h5', '/home/nathan/data/kraken/ras/ND0014/Pos12/untrans_objects_type_1.h5', '/home/nathan/data/kraken/ras/ND0014/Pos12/untrans_no_bg_objects_type_1.h5'] file found, skipping ND0014/Pos12\n"
     ]
    },
    {
     "data": {
      "application/vnd.jupyter.widget-view+json": {
       "model_id": "cd57d2756b96429ea862b23019347b08",
       "version_major": 2,
       "version_minor": 0
      },
      "text/plain": [
       "  0%|          | 0/15 [00:00<?, ?it/s]"
      ]
     },
     "metadata": {},
     "output_type": "display_data"
    },
    {
     "name": "stdout",
     "output_type": "stream",
     "text": [
      "['/home/nathan/data/kraken/ras/ND0010/Pos5/objects.h5', '/home/nathan/data/kraken/ras/ND0010/Pos5/untrans_objects_type_2.h5', '/home/nathan/data/kraken/ras/ND0010/Pos5/objects_type_1.h5', '/home/nathan/data/kraken/ras/ND0010/Pos5/objects_type_2.h5', '/home/nathan/data/kraken/ras/ND0010/Pos5/untrans_no_bg_objects_type_2.h5', '/home/nathan/data/kraken/ras/ND0010/Pos5/untrans_objects_type_1.h5', '/home/nathan/data/kraken/ras/ND0010/Pos5/untrans_no_bg_objects_type_1.h5'] file found, skipping ND0010/Pos5\n",
      "['/home/nathan/data/kraken/ras/ND0010/Pos11/objects.h5', '/home/nathan/data/kraken/ras/ND0010/Pos11/untrans_objects_type_2.h5', '/home/nathan/data/kraken/ras/ND0010/Pos11/objects_type_1.h5', '/home/nathan/data/kraken/ras/ND0010/Pos11/objects_type_2.h5', '/home/nathan/data/kraken/ras/ND0010/Pos11/untrans_no_bg_objects_type_2.h5', '/home/nathan/data/kraken/ras/ND0010/Pos11/untrans_objects_type_1.h5', '/home/nathan/data/kraken/ras/ND0010/Pos11/untrans_no_bg_objects_type_1.h5'] file found, skipping ND0010/Pos11\n",
      "['/home/nathan/data/kraken/ras/ND0010/Pos3/objects.h5', '/home/nathan/data/kraken/ras/ND0010/Pos3/objects_type_1.h5', '/home/nathan/data/kraken/ras/ND0010/Pos3/objects_type_2.h5', '/home/nathan/data/kraken/ras/ND0010/Pos3/untrans_objects_type_1.h5', '/home/nathan/data/kraken/ras/ND0010/Pos3/untrans_no_bg_objects_type_1.h5'] file found, skipping ND0010/Pos3\n",
      "['/home/nathan/data/kraken/ras/ND0010/Pos1/objects.h5', '/home/nathan/data/kraken/ras/ND0010/Pos1/untrans_objects_type_2.h5', '/home/nathan/data/kraken/ras/ND0010/Pos1/objects_type_1.h5', '/home/nathan/data/kraken/ras/ND0010/Pos1/objects_type_2.h5', '/home/nathan/data/kraken/ras/ND0010/Pos1/untrans_no_bg_objects_type_2.h5', '/home/nathan/data/kraken/ras/ND0010/Pos1/untrans_objects_type_1.h5', '/home/nathan/data/kraken/ras/ND0010/Pos1/untrans_no_bg_objects_type_1.h5'] file found, skipping ND0010/Pos1\n",
      "['/home/nathan/data/kraken/ras/ND0010/Pos8/objects.h5', '/home/nathan/data/kraken/ras/ND0010/Pos8/untrans_objects_type_2.h5', '/home/nathan/data/kraken/ras/ND0010/Pos8/objects_type_1.h5', '/home/nathan/data/kraken/ras/ND0010/Pos8/objects_type_2.h5', '/home/nathan/data/kraken/ras/ND0010/Pos8/untrans_no_bg_objects_type_2.h5', '/home/nathan/data/kraken/ras/ND0010/Pos8/untrans_objects_type_1.h5', '/home/nathan/data/kraken/ras/ND0010/Pos8/untrans_no_bg_objects_type_1.h5'] file found, skipping ND0010/Pos8\n",
      "['/home/nathan/data/kraken/ras/ND0010/Pos10/objects.h5', '/home/nathan/data/kraken/ras/ND0010/Pos10/untrans_objects_type_2.h5', '/home/nathan/data/kraken/ras/ND0010/Pos10/objects_type_1.h5', '/home/nathan/data/kraken/ras/ND0010/Pos10/objects_type_2.h5', '/home/nathan/data/kraken/ras/ND0010/Pos10/untrans_no_bg_objects_type_2.h5', '/home/nathan/data/kraken/ras/ND0010/Pos10/untrans_objects_type_1.h5', '/home/nathan/data/kraken/ras/ND0010/Pos10/untrans_no_bg_objects_type_1.h5'] file found, skipping ND0010/Pos10\n",
      "['/home/nathan/data/kraken/ras/ND0010/Pos0/objects.h5', '/home/nathan/data/kraken/ras/ND0010/Pos0/untrans_objects_type_2.h5', '/home/nathan/data/kraken/ras/ND0010/Pos0/objects_type_1.h5', '/home/nathan/data/kraken/ras/ND0010/Pos0/objects_type_2.h5', '/home/nathan/data/kraken/ras/ND0010/Pos0/untrans_no_bg_objects_type_2.h5', '/home/nathan/data/kraken/ras/ND0010/Pos0/untrans_objects_type_1.h5', '/home/nathan/data/kraken/ras/ND0010/Pos0/untrans_no_bg_objects_type_1.h5'] file found, skipping ND0010/Pos0\n",
      "['/home/nathan/data/kraken/ras/ND0010/Pos2/untrans_objects_type_2.h5', '/home/nathan/data/kraken/ras/ND0010/Pos2/objects_type_1.h5', '/home/nathan/data/kraken/ras/ND0010/Pos2/objects_type_2.h5', '/home/nathan/data/kraken/ras/ND0010/Pos2/untrans_no_bg_objects_type_2.h5', '/home/nathan/data/kraken/ras/ND0010/Pos2/untrans_objects_type_1.h5', '/home/nathan/data/kraken/ras/ND0010/Pos2/untrans_no_bg_objects_type_1.h5'] file found, skipping ND0010/Pos2\n",
      "['/home/nathan/data/kraken/ras/ND0010/Pos6/untrans_objects_type_2.h5', '/home/nathan/data/kraken/ras/ND0010/Pos6/objects_type_1.h5', '/home/nathan/data/kraken/ras/ND0010/Pos6/objects_type_2.h5', '/home/nathan/data/kraken/ras/ND0010/Pos6/untrans_no_bg_objects_type_2.h5', '/home/nathan/data/kraken/ras/ND0010/Pos6/untrans_objects_type_1.h5', '/home/nathan/data/kraken/ras/ND0010/Pos6/untrans_no_bg_objects_type_1.h5'] file found, skipping ND0010/Pos6\n",
      "['/home/nathan/data/kraken/ras/ND0010/Pos7/untrans_objects_type_2.h5', '/home/nathan/data/kraken/ras/ND0010/Pos7/objects_type_1.h5', '/home/nathan/data/kraken/ras/ND0010/Pos7/objects_type_2.h5', '/home/nathan/data/kraken/ras/ND0010/Pos7/untrans_no_bg_objects_type_2.h5', '/home/nathan/data/kraken/ras/ND0010/Pos7/untrans_objects_type_1.h5', '/home/nathan/data/kraken/ras/ND0010/Pos7/untrans_no_bg_objects_type_1.h5'] file found, skipping ND0010/Pos7\n",
      "['/home/nathan/data/kraken/ras/ND0010/Pos9/untrans_objects_type_2.h5', '/home/nathan/data/kraken/ras/ND0010/Pos9/objects_type_1.h5', '/home/nathan/data/kraken/ras/ND0010/Pos9/objects_type_2.h5', '/home/nathan/data/kraken/ras/ND0010/Pos9/untrans_no_bg_objects_type_2.h5', '/home/nathan/data/kraken/ras/ND0010/Pos9/untrans_objects_type_1.h5', '/home/nathan/data/kraken/ras/ND0010/Pos9/untrans_no_bg_objects_type_1.h5'] file found, skipping ND0010/Pos9\n",
      "['/home/nathan/data/kraken/ras/ND0010/Pos4/untrans_objects_type_2.h5', '/home/nathan/data/kraken/ras/ND0010/Pos4/objects_type_1.h5', '/home/nathan/data/kraken/ras/ND0010/Pos4/objects_type_2.h5', '/home/nathan/data/kraken/ras/ND0010/Pos4/untrans_no_bg_objects_type_2.h5', '/home/nathan/data/kraken/ras/ND0010/Pos4/untrans_objects_type_1.h5', '/home/nathan/data/kraken/ras/ND0010/Pos4/untrans_no_bg_objects_type_1.h5'] file found, skipping ND0010/Pos4\n"
     ]
    },
    {
     "data": {
      "application/vnd.jupyter.widget-view+json": {
       "model_id": "cd27c7f540774f568173cd47892b1f5e",
       "version_major": 2,
       "version_minor": 0
      },
      "text/plain": [
       "  0%|          | 0/15 [00:00<?, ?it/s]"
      ]
     },
     "metadata": {},
     "output_type": "display_data"
    },
    {
     "name": "stdout",
     "output_type": "stream",
     "text": [
      "['/home/nathan/data/kraken/ras/ND0012/Pos5/untrans_objects_type_2.h5', '/home/nathan/data/kraken/ras/ND0012/Pos5/objects_type_1.h5', '/home/nathan/data/kraken/ras/ND0012/Pos5/objects_type_2.h5', '/home/nathan/data/kraken/ras/ND0012/Pos5/untrans_no_bg_objects_type_2.h5', '/home/nathan/data/kraken/ras/ND0012/Pos5/untrans_objects_type_1.h5', '/home/nathan/data/kraken/ras/ND0012/Pos5/untrans_no_bg_objects_type_1.h5'] file found, skipping ND0012/Pos5\n",
      "['/home/nathan/data/kraken/ras/ND0012/Pos11/untrans_objects_type_2.h5', '/home/nathan/data/kraken/ras/ND0012/Pos11/objects_type_1.h5', '/home/nathan/data/kraken/ras/ND0012/Pos11/objects_type_2.h5', '/home/nathan/data/kraken/ras/ND0012/Pos11/untrans_no_bg_objects_type_2.h5', '/home/nathan/data/kraken/ras/ND0012/Pos11/untrans_objects_type_1.h5', '/home/nathan/data/kraken/ras/ND0012/Pos11/untrans_no_bg_objects_type_1.h5'] file found, skipping ND0012/Pos11\n",
      "['/home/nathan/data/kraken/ras/ND0012/Pos3/untrans_objects_type_2.h5', '/home/nathan/data/kraken/ras/ND0012/Pos3/untrans_no_bg_objects_type_2.h5', '/home/nathan/data/kraken/ras/ND0012/Pos3/untrans_objects_type_1.h5', '/home/nathan/data/kraken/ras/ND0012/Pos3/untrans_no_bg_objects_type_1.h5'] file found, skipping ND0012/Pos3\n",
      "['/home/nathan/data/kraken/ras/ND0012/Pos1/untrans_objects_type_2.h5', '/home/nathan/data/kraken/ras/ND0012/Pos1/untrans_no_bg_objects_type_2.h5', '/home/nathan/data/kraken/ras/ND0012/Pos1/untrans_objects_type_1.h5', '/home/nathan/data/kraken/ras/ND0012/Pos1/untrans_no_bg_objects_type_1.h5'] file found, skipping ND0012/Pos1\n",
      "['/home/nathan/data/kraken/ras/ND0012/Pos8/untrans_objects_type_2.h5', '/home/nathan/data/kraken/ras/ND0012/Pos8/untrans_no_bg_objects_type_2.h5', '/home/nathan/data/kraken/ras/ND0012/Pos8/untrans_objects_type_1.h5', '/home/nathan/data/kraken/ras/ND0012/Pos8/untrans_no_bg_objects_type_1.h5'] file found, skipping ND0012/Pos8\n",
      "['/home/nathan/data/kraken/ras/ND0012/Pos10/untrans_objects_type_2.h5', '/home/nathan/data/kraken/ras/ND0012/Pos10/untrans_no_bg_objects_type_2.h5', '/home/nathan/data/kraken/ras/ND0012/Pos10/untrans_objects_type_1.h5', '/home/nathan/data/kraken/ras/ND0012/Pos10/untrans_no_bg_objects_type_1.h5'] file found, skipping ND0012/Pos10\n",
      "['/home/nathan/data/kraken/ras/ND0012/Pos0/untrans_objects_type_2.h5', '/home/nathan/data/kraken/ras/ND0012/Pos0/untrans_no_bg_objects_type_2.h5', '/home/nathan/data/kraken/ras/ND0012/Pos0/untrans_objects_type_1.h5', '/home/nathan/data/kraken/ras/ND0012/Pos0/untrans_no_bg_objects_type_1.h5'] file found, skipping ND0012/Pos0\n",
      "['/home/nathan/data/kraken/ras/ND0012/Pos2/untrans_objects_type_2.h5', '/home/nathan/data/kraken/ras/ND0012/Pos2/untrans_no_bg_objects_type_2.h5', '/home/nathan/data/kraken/ras/ND0012/Pos2/untrans_objects_type_1.h5', '/home/nathan/data/kraken/ras/ND0012/Pos2/untrans_no_bg_objects_type_1.h5'] file found, skipping ND0012/Pos2\n",
      "['/home/nathan/data/kraken/ras/ND0012/Pos6/untrans_objects_type_2.h5', '/home/nathan/data/kraken/ras/ND0012/Pos6/untrans_no_bg_objects_type_2.h5', '/home/nathan/data/kraken/ras/ND0012/Pos6/untrans_objects_type_1.h5', '/home/nathan/data/kraken/ras/ND0012/Pos6/untrans_no_bg_objects_type_1.h5'] file found, skipping ND0012/Pos6\n",
      "['/home/nathan/data/kraken/ras/ND0012/Pos7/untrans_objects_type_2.h5', '/home/nathan/data/kraken/ras/ND0012/Pos7/untrans_no_bg_objects_type_2.h5', '/home/nathan/data/kraken/ras/ND0012/Pos7/untrans_objects_type_1.h5', '/home/nathan/data/kraken/ras/ND0012/Pos7/untrans_no_bg_objects_type_1.h5'] file found, skipping ND0012/Pos7\n",
      "['/home/nathan/data/kraken/ras/ND0012/Pos9/untrans_objects_type_2.h5', '/home/nathan/data/kraken/ras/ND0012/Pos9/untrans_no_bg_objects_type_2.h5', '/home/nathan/data/kraken/ras/ND0012/Pos9/untrans_objects_type_1.h5', '/home/nathan/data/kraken/ras/ND0012/Pos9/untrans_no_bg_objects_type_1.h5'] file found, skipping ND0012/Pos9\n",
      "['/home/nathan/data/kraken/ras/ND0012/Pos4/untrans_objects_type_2.h5', '/home/nathan/data/kraken/ras/ND0012/Pos4/untrans_no_bg_objects_type_2.h5', '/home/nathan/data/kraken/ras/ND0012/Pos4/untrans_objects_type_1.h5', '/home/nathan/data/kraken/ras/ND0012/Pos4/untrans_no_bg_objects_type_1.h5'] file found, skipping ND0012/Pos4\n"
     ]
    },
    {
     "data": {
      "application/vnd.jupyter.widget-view+json": {
       "model_id": "e0bbab2d2ffe4e13b3c190ce62681b1b",
       "version_major": 2,
       "version_minor": 0
      },
      "text/plain": [
       "  0%|          | 0/15 [00:00<?, ?it/s]"
      ]
     },
     "metadata": {},
     "output_type": "display_data"
    },
    {
     "name": "stdout",
     "output_type": "stream",
     "text": [
      "['/home/nathan/data/kraken/ras/ND0011/Pos5/untrans_objects_type_2.h5', '/home/nathan/data/kraken/ras/ND0011/Pos5/objects_type_1.h5', '/home/nathan/data/kraken/ras/ND0011/Pos5/objects_type_2.h5', '/home/nathan/data/kraken/ras/ND0011/Pos5/untrans_no_bg_objects_type_2.h5', '/home/nathan/data/kraken/ras/ND0011/Pos5/untrans_objects_type_1.h5', '/home/nathan/data/kraken/ras/ND0011/Pos5/untrans_no_bg_objects_type_1.h5'] file found, skipping ND0011/Pos5\n",
      "['/home/nathan/data/kraken/ras/ND0011/Pos11/untrans_objects_type_2.h5', '/home/nathan/data/kraken/ras/ND0011/Pos11/objects_type_1.h5', '/home/nathan/data/kraken/ras/ND0011/Pos11/objects_type_2.h5', '/home/nathan/data/kraken/ras/ND0011/Pos11/untrans_no_bg_objects_type_2.h5', '/home/nathan/data/kraken/ras/ND0011/Pos11/untrans_objects_type_1.h5', '/home/nathan/data/kraken/ras/ND0011/Pos11/untrans_no_bg_objects_type_1.h5'] file found, skipping ND0011/Pos11\n",
      "['/home/nathan/data/kraken/ras/ND0011/Pos1/untrans_objects_type_2.h5', '/home/nathan/data/kraken/ras/ND0011/Pos1/objects_type_1.h5', '/home/nathan/data/kraken/ras/ND0011/Pos1/objects_type_2.h5', '/home/nathan/data/kraken/ras/ND0011/Pos1/untrans_no_bg_objects_type_2.h5', '/home/nathan/data/kraken/ras/ND0011/Pos1/untrans_objects_type_1.h5', '/home/nathan/data/kraken/ras/ND0011/Pos1/untrans_no_bg_objects_type_1.h5'] file found, skipping ND0011/Pos1\n",
      "['/home/nathan/data/kraken/ras/ND0011/Pos8/untrans_objects_type_2.h5', '/home/nathan/data/kraken/ras/ND0011/Pos8/objects_type_1.h5', '/home/nathan/data/kraken/ras/ND0011/Pos8/objects_type_2.h5', '/home/nathan/data/kraken/ras/ND0011/Pos8/untrans_no_bg_objects_type_2.h5', '/home/nathan/data/kraken/ras/ND0011/Pos8/untrans_objects_type_1.h5', '/home/nathan/data/kraken/ras/ND0011/Pos8/untrans_no_bg_objects_type_1.h5'] file found, skipping ND0011/Pos8\n",
      "['/home/nathan/data/kraken/ras/ND0011/Pos10/untrans_objects_type_2.h5', '/home/nathan/data/kraken/ras/ND0011/Pos10/objects_type_1.h5', '/home/nathan/data/kraken/ras/ND0011/Pos10/objects_type_2.h5', '/home/nathan/data/kraken/ras/ND0011/Pos10/untrans_no_bg_objects_type_2.h5', '/home/nathan/data/kraken/ras/ND0011/Pos10/untrans_objects_type_1.h5', '/home/nathan/data/kraken/ras/ND0011/Pos10/untrans_no_bg_objects_type_1.h5'] file found, skipping ND0011/Pos10\n",
      "['/home/nathan/data/kraken/ras/ND0011/Pos0/untrans_objects_type_2.h5', '/home/nathan/data/kraken/ras/ND0011/Pos0/objects_type_1.h5', '/home/nathan/data/kraken/ras/ND0011/Pos0/objects_type_2.h5', '/home/nathan/data/kraken/ras/ND0011/Pos0/untrans_no_bg_objects_type_2.h5', '/home/nathan/data/kraken/ras/ND0011/Pos0/untrans_objects_type_1.h5', '/home/nathan/data/kraken/ras/ND0011/Pos0/untrans_no_bg_objects_type_1.h5'] file found, skipping ND0011/Pos0\n",
      "['/home/nathan/data/kraken/ras/ND0011/Pos2/untrans_objects_type_2.h5', '/home/nathan/data/kraken/ras/ND0011/Pos2/objects_type_1.h5', '/home/nathan/data/kraken/ras/ND0011/Pos2/objects_type_2.h5', '/home/nathan/data/kraken/ras/ND0011/Pos2/untrans_no_bg_objects_type_2.h5', '/home/nathan/data/kraken/ras/ND0011/Pos2/untrans_objects_type_1.h5', '/home/nathan/data/kraken/ras/ND0011/Pos2/untrans_no_bg_objects_type_1.h5'] file found, skipping ND0011/Pos2\n",
      "['/home/nathan/data/kraken/ras/ND0011/Pos6/untrans_objects_type_2.h5', '/home/nathan/data/kraken/ras/ND0011/Pos6/objects_type_1.h5', '/home/nathan/data/kraken/ras/ND0011/Pos6/objects_type_2.h5', '/home/nathan/data/kraken/ras/ND0011/Pos6/untrans_no_bg_objects_type_2.h5', '/home/nathan/data/kraken/ras/ND0011/Pos6/untrans_objects_type_1.h5', '/home/nathan/data/kraken/ras/ND0011/Pos6/untrans_no_bg_objects_type_1.h5'] file found, skipping ND0011/Pos6\n",
      "['/home/nathan/data/kraken/ras/ND0011/Pos7/untrans_objects_type_2.h5', '/home/nathan/data/kraken/ras/ND0011/Pos7/objects_type_1.h5', '/home/nathan/data/kraken/ras/ND0011/Pos7/objects_type_2.h5', '/home/nathan/data/kraken/ras/ND0011/Pos7/untrans_no_bg_objects_type_2.h5', '/home/nathan/data/kraken/ras/ND0011/Pos7/untrans_objects_type_1.h5', '/home/nathan/data/kraken/ras/ND0011/Pos7/untrans_no_bg_objects_type_1.h5'] file found, skipping ND0011/Pos7\n",
      "['/home/nathan/data/kraken/ras/ND0011/Pos9/untrans_objects_type_2.h5', '/home/nathan/data/kraken/ras/ND0011/Pos9/objects_type_1.h5', '/home/nathan/data/kraken/ras/ND0011/Pos9/objects_type_2.h5', '/home/nathan/data/kraken/ras/ND0011/Pos9/untrans_no_bg_objects_type_2.h5', '/home/nathan/data/kraken/ras/ND0011/Pos9/untrans_objects_type_1.h5', '/home/nathan/data/kraken/ras/ND0011/Pos9/untrans_no_bg_objects_type_1.h5'] file found, skipping ND0011/Pos9\n",
      "['/home/nathan/data/kraken/ras/ND0011/Pos4/untrans_objects_type_2.h5', '/home/nathan/data/kraken/ras/ND0011/Pos4/objects_type_1.h5', '/home/nathan/data/kraken/ras/ND0011/Pos4/objects_type_2.h5', '/home/nathan/data/kraken/ras/ND0011/Pos4/untrans_no_bg_objects_type_2.h5', '/home/nathan/data/kraken/ras/ND0011/Pos4/untrans_objects_type_1.h5', '/home/nathan/data/kraken/ras/ND0011/Pos4/untrans_no_bg_objects_type_1.h5'] file found, skipping ND0011/Pos4\n",
      "The slowest run took 56.55 times longer than the fastest. This could mean that an intermediate result is being cached.\n",
      "1.56 s ± 3.33 s per loop (mean ± std. dev. of 7 runs, 1 loop each)\n"
     ]
    }
   ],
   "source": [
    "%%timeit\n",
    "root_dir = '/home/nathan/data/kraken/ras'\n",
    "expt_list = ['ND0010', 'ND0011', 'ND0012', 'ND0013']\n",
    "expt_list = [expt for expt in os.listdir(root_dir) if len(expt) == 6]\n",
    "\n",
    "pos_list = 'all'\n",
    "overwrite = False\n",
    "\n",
    "for expt in tqdm(expt_list):\n",
    "    try:\n",
    "        # Find all positions in that experiment, if pos_list is all then it finds all positions\n",
    "        if pos_list == 'all':\n",
    "            pos_list = [pos for pos in os.listdir(f'{root_dir}/{expt}') \n",
    "                    if 'Pos' in pos \n",
    "                    and os.path.isdir(f'{root_dir}/{expt}/{pos}')]  \n",
    "\n",
    "        ### Iterate over all positions in that experiment\n",
    "        for pos in tqdm(pos_list):\n",
    "\n",
    "            ### check if overwrite param is false check if raw directory already created and if type of transform file already exists and decide whether to skip pos\n",
    "            if not overwrite and glob.glob(f'{root_dir}/{expt}/{pos}/*untrans_no_bg_objects*.h5'):\n",
    "                print(glob.glob(f'{root_dir}/{expt}/{pos}/*objects*.h5'), f'file found, skipping {expt}/{pos}')\n",
    "                continue\n",
    "\n",
    "            #check seg is complete\n",
    "            mask_path = f'{root_dir}/{expt}/{pos}/{pos}_images/*channel099*'\n",
    "            if glob.glob(mask_path) and len(glob.glob(mask_path)) == len(glob.glob(f'{root_dir}/{expt}/{pos}/{pos}_images/*channel001*')):\n",
    "\n",
    "                print(f'Starting {expt}/{pos}')\n",
    "                # load segmentation images and apply necessary transforms and crops\n",
    "                image_path = f'{root_dir}/{expt}/{pos}/{pos}_images'\n",
    "                #transform_path = f'{root_dir}/{expt}/{pos}/gfp_transform_tensor.npy'\n",
    "                images = DaskOctopusLiteLoader(image_path, \n",
    "                                   #transforms=transform_path,\n",
    "                                   #crop=(1200,1600), \n",
    "                                   remove_background=True)\n",
    "\n",
    "                # ID the objects in each segmentation image and assign option properties to them\n",
    "                objects = btrack.utils.segmentation_to_objects(\n",
    "                    images['mask'], \n",
    "                    properties = ('area',),\n",
    "                    assign_class_ID = True\n",
    "                )\n",
    "\n",
    "                # differentiate the objects based on class ID\n",
    "                objects_gfp = [obj for obj in objects if obj.properties['class id'] == 1]\n",
    "                objects_rfp = [obj for obj in objects if obj.properties['class id'] == 2]\n",
    "\n",
    "                # load classifcation model and define labels\n",
    "                model = load_model('../models/cellx_classifier_stardist.h5')\n",
    "                LABELS = [\"interphase\", \"prometaphase\", \"metaphase\", \"anaphase\", \"apoptosis\"]\n",
    "\n",
    "                # load images for classifcation\n",
    "                bf = images['brightfield']\n",
    "                gfp = images['gfp']\n",
    "                rfp = images['rfp']\n",
    "\n",
    "                # classify objects\n",
    "                print(\"Classifying objects\")\n",
    "                objects_gfp = classify_objects(bf, gfp, rfp, objects_gfp, obj_type = 1)\n",
    "                objects_rfp = classify_objects(bf, gfp, rfp, objects_rfp, obj_type = 2)\n",
    "\n",
    "                # save out classified objects as segmentation h5 file\n",
    "                with btrack.dataio.HDF5FileHandler(\n",
    "                    f'{root_dir}/{expt}/{pos}/untrans_no_bg_objects_type_1.h5', 'w', obj_type='obj_type_1',\n",
    "                ) as hdf:\n",
    "                    #hdf.write_segmentation(masks['mask'])\n",
    "                    hdf.write_objects(objects_gfp)\n",
    "                with btrack.dataio.HDF5FileHandler(\n",
    "                    f'{root_dir}/{expt}/{pos}/untrans_no_bg_objects_type_2.h5', 'w', obj_type='obj_type_2',\n",
    "                ) as hdf:\n",
    "                    #hdf.write_segmentation(masks['mask'])\n",
    "                    hdf.write_objects(objects_rfp)     \n",
    "    except:\n",
    "        print(pos, expt, 'failed probably due to zero cell count')"
   ]
  },
  {
   "cell_type": "markdown",
   "id": "c8e99e9a",
   "metadata": {},
   "source": [
    "# Parallel batch process"
   ]
  },
  {
   "cell_type": "code",
   "execution_count": 5,
   "id": "4eb3bf55",
   "metadata": {},
   "outputs": [],
   "source": [
    "def classify(pos):\n",
    "    ### check if overwrite param is false check if raw directory already created and if type of transform file already exists and decide whether to skip pos\n",
    "    \n",
    "\n",
    "    print(f'Starting {expt}/{pos}')\n",
    "    # load segmentation images and apply necessary transforms and crops\n",
    "    image_path = f'{root_dir}/{expt}/{pos}/{pos}_images'\n",
    "    #transform_path = f'{root_dir}/{expt}/{pos}/gfp_transform_tensor.npy'\n",
    "    images = DaskOctopusLiteLoader(image_path, \n",
    "                       #transforms=transform_path,\n",
    "                       #crop=(1200,1600), \n",
    "                       remove_background=False)\n",
    "\n",
    "    # ID the objects in each segmentation image and assign option properties to them\n",
    "    objects = btrack.utils.segmentation_to_objects(\n",
    "        images['mask'], images['mask'],\n",
    "        properties = ('area', 'max_intensity', ),\n",
    "    )\n",
    "\n",
    "    # differentiate the objects based on class ID\n",
    "    objects_gfp = [obj for obj in objects if obj.properties['max_intensity'] == 1]\n",
    "    objects_rfp = [obj for obj in objects if obj.properties['max_intensity'] == 2]\n",
    "\n",
    "    # load classifcation model and define labels\n",
    "    model = load_model('../models/cellx_classifier_stardist.h5')\n",
    "    LABELS = [\"interphase\", \"prometaphase\", \"metaphase\", \"anaphase\", \"apoptosis\"]\n",
    "\n",
    "    # load images for classifcation\n",
    "    bf = images['brightfield']\n",
    "    gfp = images['gfp']\n",
    "    rfp = images['rfp']\n",
    "\n",
    "    # classify objects\n",
    "    print(\"Classifying objects\")\n",
    "    objects_gfp = classify_objects(bf, objects_gfp, obj_type = 1)\n",
    "    objects_rfp = classify_objects(bf, objects_rfp, obj_type = 2)\n",
    "\n",
    "    # save out classified objects as segmentation h5 file\n",
    "    with btrack.dataio.HDF5FileHandler(\n",
    "        f'{root_dir}/{expt}/{pos}/objects_type_1_untrans.h5', 'w', obj_type='obj_type_1',\n",
    "    ) as hdf:\n",
    "        #hdf.write_segmentation(masks['mask'])\n",
    "        hdf.write_objects(objects_gfp)\n",
    "    with btrack.dataio.HDF5FileHandler(\n",
    "        f'{root_dir}/{expt}/{pos}/objects_type_2_untrans.h5', 'w', obj_type='obj_type_2',\n",
    "    ) as hdf:\n",
    "        #hdf.write_segmentation(masks['mask'])\n",
    "        hdf.write_objects(objects_rfp)     \n",
    "\n",
    "    return"
   ]
  },
  {
   "cell_type": "code",
   "execution_count": 6,
   "id": "5bc24d95",
   "metadata": {},
   "outputs": [
    {
     "data": {
      "text/plain": [
       "12"
      ]
     },
     "execution_count": 6,
     "metadata": {},
     "output_type": "execute_result"
    }
   ],
   "source": [
    "from multiprocessing import Pool\n",
    "cpus = os.cpu_count()\n",
    "cpus"
   ]
  },
  {
   "cell_type": "code",
   "execution_count": 11,
   "id": "4e276356",
   "metadata": {},
   "outputs": [
    {
     "data": {
      "text/plain": [
       "['Pos5',\n",
       " 'Pos11',\n",
       " 'Pos3',\n",
       " 'Pos1',\n",
       " 'Pos8',\n",
       " 'Pos10',\n",
       " 'Pos0',\n",
       " 'Pos2',\n",
       " 'Pos6',\n",
       " 'Pos7',\n",
       " 'Pos9',\n",
       " 'Pos4']"
      ]
     },
     "execution_count": 11,
     "metadata": {},
     "output_type": "execute_result"
    }
   ],
   "source": [
    "pos_list = [pos for pos in os.listdir(f'{root_dir}/{expt}') \n",
    "                    if 'Pos' in pos \n",
    "                    and os.path.isdir(f'{root_dir}/{expt}/{pos}')]\n",
    "pos_list"
   ]
  },
  {
   "cell_type": "code",
   "execution_count": 10,
   "id": "74aeb131",
   "metadata": {
    "scrolled": true
   },
   "outputs": [
    {
     "name": "stdout",
     "output_type": "stream",
     "text": [
      "Starting ND0013/Pos13Starting ND0013/Pos11Starting ND0013/Pos8Starting ND0013/Pos1Starting ND0013/Pos10\n",
      "Starting ND0013/Pos0\n",
      "Starting ND0013/Pos2\n",
      "\n",
      "Starting ND0013/Pos5\n",
      "Starting ND0013/Pos3\n",
      "\n",
      "\n",
      "\n",
      "Starting ND0013/Pos7\n",
      "Starting ND0013/Pos6Starting ND0013/Pos14\n",
      "\n"
     ]
    },
    {
     "name": "stderr",
     "output_type": "stream",
     "text": [
      "[INFO][2022/02/12 02:53:37 PM] Localizing objects from segmentation...\n",
      "[INFO][2022/02/12 02:53:37 PM] Found intensity_image data\n",
      "[INFO][2022/02/12 02:53:37 PM] Calculating weighted centroids using intensity_image\n",
      "[INFO][2022/02/12 02:53:38 PM] Objects are of type: <class 'dict'>\n",
      "[INFO][2022/02/12 02:53:38 PM] ...Found 46 objects in 2 frames.\n",
      "[INFO][2022/02/12 02:53:39 PM] Localizing objects from segmentation...\n",
      "[INFO][2022/02/12 02:53:39 PM] Found intensity_image data\n",
      "[INFO][2022/02/12 02:53:39 PM] Calculating weighted centroids using intensity_image\n",
      "[INFO][2022/02/12 02:53:40 PM] Localizing objects from segmentation...\n",
      "[INFO][2022/02/12 02:53:40 PM] Found intensity_image data\n",
      "[INFO][2022/02/12 02:53:40 PM] Calculating weighted centroids using intensity_image\n",
      "[INFO][2022/02/12 02:53:41 PM] Localizing objects from segmentation...\n",
      "[INFO][2022/02/12 02:53:41 PM] Found intensity_image data\n",
      "[INFO][2022/02/12 02:53:41 PM] Calculating weighted centroids using intensity_image\n",
      "[INFO][2022/02/12 02:53:41 PM] Localizing objects from segmentation...\n",
      "[INFO][2022/02/12 02:53:42 PM] Found intensity_image data\n",
      "[INFO][2022/02/12 02:53:42 PM] Calculating weighted centroids using intensity_image\n",
      "[INFO][2022/02/12 02:53:42 PM] Localizing objects from segmentation...\n",
      "[INFO][2022/02/12 02:53:42 PM] Found intensity_image data\n",
      "[INFO][2022/02/12 02:53:42 PM] Calculating weighted centroids using intensity_image\n",
      "[INFO][2022/02/12 02:53:42 PM] Localizing objects from segmentation...\n",
      "[INFO][2022/02/12 02:53:42 PM] Found intensity_image data\n",
      "[INFO][2022/02/12 02:53:42 PM] Calculating weighted centroids using intensity_image\n",
      "[INFO][2022/02/12 02:53:42 PM] Localizing objects from segmentation...\n",
      "[INFO][2022/02/12 02:53:42 PM] Found intensity_image data\n",
      "[INFO][2022/02/12 02:53:42 PM] Calculating weighted centroids using intensity_image\n"
     ]
    },
    {
     "name": "stdout",
     "output_type": "stream",
     "text": [
      "Starting ND0013/Pos9\n"
     ]
    },
    {
     "name": "stderr",
     "output_type": "stream",
     "text": [
      "[INFO][2022/02/12 02:53:42 PM] Localizing objects from segmentation...\n",
      "[INFO][2022/02/12 02:53:42 PM] Found intensity_image data\n",
      "[INFO][2022/02/12 02:53:42 PM] Calculating weighted centroids using intensity_image\n",
      "[INFO][2022/02/12 02:53:43 PM] Localizing objects from segmentation...\n",
      "[INFO][2022/02/12 02:53:43 PM] Found intensity_image data\n",
      "[INFO][2022/02/12 02:53:43 PM] Calculating weighted centroids using intensity_image\n",
      "[INFO][2022/02/12 02:53:43 PM] Localizing objects from segmentation...\n",
      "[INFO][2022/02/12 02:53:43 PM] Found intensity_image data\n",
      "[INFO][2022/02/12 02:53:43 PM] Calculating weighted centroids using intensity_image\n",
      "[INFO][2022/02/12 02:53:56 PM] Localizing objects from segmentation...\n",
      "[INFO][2022/02/12 02:53:56 PM] Found intensity_image data\n",
      "[INFO][2022/02/12 02:53:56 PM] Calculating weighted centroids using intensity_image\n",
      "Process ForkPoolWorker-10:\n"
     ]
    },
    {
     "ename": "KeyboardInterrupt",
     "evalue": "",
     "output_type": "error",
     "traceback": [
      "\u001b[0;31m---------------------------------------------------------------------------\u001b[0m",
      "\u001b[0;31mKeyboardInterrupt\u001b[0m                         Traceback (most recent call last)",
      "\u001b[0;32m<ipython-input-10-23492c392ce4>\u001b[0m in \u001b[0;36m<module>\u001b[0;34m\u001b[0m\n\u001b[1;32m      9\u001b[0m         \u001b[0;32mwith\u001b[0m \u001b[0mPool\u001b[0m\u001b[0;34m(\u001b[0m\u001b[0mcpus\u001b[0m\u001b[0;34m)\u001b[0m \u001b[0;32mas\u001b[0m \u001b[0mp\u001b[0m\u001b[0;34m:\u001b[0m\u001b[0;34m\u001b[0m\u001b[0;34m\u001b[0m\u001b[0m\n\u001b[0;32m---> 10\u001b[0;31m             \u001b[0mp\u001b[0m\u001b[0;34m.\u001b[0m\u001b[0mmap\u001b[0m\u001b[0;34m(\u001b[0m\u001b[0mclassify\u001b[0m\u001b[0;34m,\u001b[0m \u001b[0mpos_list\u001b[0m\u001b[0;34m)\u001b[0m\u001b[0;34m\u001b[0m\u001b[0;34m\u001b[0m\u001b[0m\n\u001b[0m",
      "\u001b[0;32m~/analysis/miniconda3/envs/cellx/lib/python3.9/multiprocessing/pool.py\u001b[0m in \u001b[0;36mmap\u001b[0;34m(self, func, iterable, chunksize)\u001b[0m\n\u001b[1;32m    363\u001b[0m         '''\n\u001b[0;32m--> 364\u001b[0;31m         \u001b[0;32mreturn\u001b[0m \u001b[0mself\u001b[0m\u001b[0;34m.\u001b[0m\u001b[0m_map_async\u001b[0m\u001b[0;34m(\u001b[0m\u001b[0mfunc\u001b[0m\u001b[0;34m,\u001b[0m \u001b[0miterable\u001b[0m\u001b[0;34m,\u001b[0m \u001b[0mmapstar\u001b[0m\u001b[0;34m,\u001b[0m \u001b[0mchunksize\u001b[0m\u001b[0;34m)\u001b[0m\u001b[0;34m.\u001b[0m\u001b[0mget\u001b[0m\u001b[0;34m(\u001b[0m\u001b[0;34m)\u001b[0m\u001b[0;34m\u001b[0m\u001b[0;34m\u001b[0m\u001b[0m\n\u001b[0m\u001b[1;32m    365\u001b[0m \u001b[0;34m\u001b[0m\u001b[0m\n",
      "\u001b[0;32m~/analysis/miniconda3/envs/cellx/lib/python3.9/multiprocessing/pool.py\u001b[0m in \u001b[0;36mget\u001b[0;34m(self, timeout)\u001b[0m\n\u001b[1;32m    764\u001b[0m     \u001b[0;32mdef\u001b[0m \u001b[0mget\u001b[0m\u001b[0;34m(\u001b[0m\u001b[0mself\u001b[0m\u001b[0;34m,\u001b[0m \u001b[0mtimeout\u001b[0m\u001b[0;34m=\u001b[0m\u001b[0;32mNone\u001b[0m\u001b[0;34m)\u001b[0m\u001b[0;34m:\u001b[0m\u001b[0;34m\u001b[0m\u001b[0;34m\u001b[0m\u001b[0m\n\u001b[0;32m--> 765\u001b[0;31m         \u001b[0mself\u001b[0m\u001b[0;34m.\u001b[0m\u001b[0mwait\u001b[0m\u001b[0;34m(\u001b[0m\u001b[0mtimeout\u001b[0m\u001b[0;34m)\u001b[0m\u001b[0;34m\u001b[0m\u001b[0;34m\u001b[0m\u001b[0m\n\u001b[0m\u001b[1;32m    766\u001b[0m         \u001b[0;32mif\u001b[0m \u001b[0;32mnot\u001b[0m \u001b[0mself\u001b[0m\u001b[0;34m.\u001b[0m\u001b[0mready\u001b[0m\u001b[0;34m(\u001b[0m\u001b[0;34m)\u001b[0m\u001b[0;34m:\u001b[0m\u001b[0;34m\u001b[0m\u001b[0;34m\u001b[0m\u001b[0m\n",
      "\u001b[0;32m~/analysis/miniconda3/envs/cellx/lib/python3.9/multiprocessing/pool.py\u001b[0m in \u001b[0;36mwait\u001b[0;34m(self, timeout)\u001b[0m\n\u001b[1;32m    761\u001b[0m     \u001b[0;32mdef\u001b[0m \u001b[0mwait\u001b[0m\u001b[0;34m(\u001b[0m\u001b[0mself\u001b[0m\u001b[0;34m,\u001b[0m \u001b[0mtimeout\u001b[0m\u001b[0;34m=\u001b[0m\u001b[0;32mNone\u001b[0m\u001b[0;34m)\u001b[0m\u001b[0;34m:\u001b[0m\u001b[0;34m\u001b[0m\u001b[0;34m\u001b[0m\u001b[0m\n\u001b[0;32m--> 762\u001b[0;31m         \u001b[0mself\u001b[0m\u001b[0;34m.\u001b[0m\u001b[0m_event\u001b[0m\u001b[0;34m.\u001b[0m\u001b[0mwait\u001b[0m\u001b[0;34m(\u001b[0m\u001b[0mtimeout\u001b[0m\u001b[0;34m)\u001b[0m\u001b[0;34m\u001b[0m\u001b[0;34m\u001b[0m\u001b[0m\n\u001b[0m\u001b[1;32m    763\u001b[0m \u001b[0;34m\u001b[0m\u001b[0m\n",
      "\u001b[0;32m~/analysis/miniconda3/envs/cellx/lib/python3.9/threading.py\u001b[0m in \u001b[0;36mwait\u001b[0;34m(self, timeout)\u001b[0m\n\u001b[1;32m    573\u001b[0m             \u001b[0;32mif\u001b[0m \u001b[0;32mnot\u001b[0m \u001b[0msignaled\u001b[0m\u001b[0;34m:\u001b[0m\u001b[0;34m\u001b[0m\u001b[0;34m\u001b[0m\u001b[0m\n\u001b[0;32m--> 574\u001b[0;31m                 \u001b[0msignaled\u001b[0m \u001b[0;34m=\u001b[0m \u001b[0mself\u001b[0m\u001b[0;34m.\u001b[0m\u001b[0m_cond\u001b[0m\u001b[0;34m.\u001b[0m\u001b[0mwait\u001b[0m\u001b[0;34m(\u001b[0m\u001b[0mtimeout\u001b[0m\u001b[0;34m)\u001b[0m\u001b[0;34m\u001b[0m\u001b[0;34m\u001b[0m\u001b[0m\n\u001b[0m\u001b[1;32m    575\u001b[0m             \u001b[0;32mreturn\u001b[0m \u001b[0msignaled\u001b[0m\u001b[0;34m\u001b[0m\u001b[0;34m\u001b[0m\u001b[0m\n",
      "\u001b[0;32m~/analysis/miniconda3/envs/cellx/lib/python3.9/threading.py\u001b[0m in \u001b[0;36mwait\u001b[0;34m(self, timeout)\u001b[0m\n\u001b[1;32m    311\u001b[0m             \u001b[0;32mif\u001b[0m \u001b[0mtimeout\u001b[0m \u001b[0;32mis\u001b[0m \u001b[0;32mNone\u001b[0m\u001b[0;34m:\u001b[0m\u001b[0;34m\u001b[0m\u001b[0;34m\u001b[0m\u001b[0m\n\u001b[0;32m--> 312\u001b[0;31m                 \u001b[0mwaiter\u001b[0m\u001b[0;34m.\u001b[0m\u001b[0macquire\u001b[0m\u001b[0;34m(\u001b[0m\u001b[0;34m)\u001b[0m\u001b[0;34m\u001b[0m\u001b[0;34m\u001b[0m\u001b[0m\n\u001b[0m\u001b[1;32m    313\u001b[0m                 \u001b[0mgotit\u001b[0m \u001b[0;34m=\u001b[0m \u001b[0;32mTrue\u001b[0m\u001b[0;34m\u001b[0m\u001b[0;34m\u001b[0m\u001b[0m\n",
      "\u001b[0;31mKeyboardInterrupt\u001b[0m: ",
      "\nDuring handling of the above exception, another exception occurred:\n",
      "\u001b[0;31mKeyboardInterrupt\u001b[0m                         Traceback (most recent call last)",
      "    \u001b[0;31m[... skipping hidden 1 frame]\u001b[0m\n",
      "\u001b[0;32m<ipython-input-10-23492c392ce4>\u001b[0m in \u001b[0;36m<module>\u001b[0;34m\u001b[0m\n\u001b[1;32m      9\u001b[0m         \u001b[0;32mwith\u001b[0m \u001b[0mPool\u001b[0m\u001b[0;34m(\u001b[0m\u001b[0mcpus\u001b[0m\u001b[0;34m)\u001b[0m \u001b[0;32mas\u001b[0m \u001b[0mp\u001b[0m\u001b[0;34m:\u001b[0m\u001b[0;34m\u001b[0m\u001b[0;34m\u001b[0m\u001b[0m\n\u001b[0;32m---> 10\u001b[0;31m             \u001b[0mp\u001b[0m\u001b[0;34m.\u001b[0m\u001b[0mmap\u001b[0m\u001b[0;34m(\u001b[0m\u001b[0mclassify\u001b[0m\u001b[0;34m,\u001b[0m \u001b[0mpos_list\u001b[0m\u001b[0;34m)\u001b[0m\u001b[0;34m\u001b[0m\u001b[0;34m\u001b[0m\u001b[0m\n\u001b[0m",
      "\u001b[0;32m~/analysis/miniconda3/envs/cellx/lib/python3.9/multiprocessing/pool.py\u001b[0m in \u001b[0;36m__exit__\u001b[0;34m(self, exc_type, exc_val, exc_tb)\u001b[0m\n\u001b[1;32m    735\u001b[0m     \u001b[0;32mdef\u001b[0m \u001b[0m__exit__\u001b[0m\u001b[0;34m(\u001b[0m\u001b[0mself\u001b[0m\u001b[0;34m,\u001b[0m \u001b[0mexc_type\u001b[0m\u001b[0;34m,\u001b[0m \u001b[0mexc_val\u001b[0m\u001b[0;34m,\u001b[0m \u001b[0mexc_tb\u001b[0m\u001b[0;34m)\u001b[0m\u001b[0;34m:\u001b[0m\u001b[0;34m\u001b[0m\u001b[0;34m\u001b[0m\u001b[0m\n\u001b[0;32m--> 736\u001b[0;31m         \u001b[0mself\u001b[0m\u001b[0;34m.\u001b[0m\u001b[0mterminate\u001b[0m\u001b[0;34m(\u001b[0m\u001b[0;34m)\u001b[0m\u001b[0;34m\u001b[0m\u001b[0;34m\u001b[0m\u001b[0m\n\u001b[0m\u001b[1;32m    737\u001b[0m \u001b[0;34m\u001b[0m\u001b[0m\n",
      "\u001b[0;32m~/analysis/miniconda3/envs/cellx/lib/python3.9/multiprocessing/pool.py\u001b[0m in \u001b[0;36mterminate\u001b[0;34m(self)\u001b[0m\n\u001b[1;32m    653\u001b[0m         \u001b[0mself\u001b[0m\u001b[0;34m.\u001b[0m\u001b[0m_state\u001b[0m \u001b[0;34m=\u001b[0m \u001b[0mTERMINATE\u001b[0m\u001b[0;34m\u001b[0m\u001b[0;34m\u001b[0m\u001b[0m\n\u001b[0;32m--> 654\u001b[0;31m         \u001b[0mself\u001b[0m\u001b[0;34m.\u001b[0m\u001b[0m_terminate\u001b[0m\u001b[0;34m(\u001b[0m\u001b[0;34m)\u001b[0m\u001b[0;34m\u001b[0m\u001b[0;34m\u001b[0m\u001b[0m\n\u001b[0m\u001b[1;32m    655\u001b[0m \u001b[0;34m\u001b[0m\u001b[0m\n",
      "\u001b[0;32m~/analysis/miniconda3/envs/cellx/lib/python3.9/multiprocessing/util.py\u001b[0m in \u001b[0;36m__call__\u001b[0;34m(self, wr, _finalizer_registry, sub_debug, getpid)\u001b[0m\n\u001b[1;32m    223\u001b[0m                           self._callback, self._args, self._kwargs)\n\u001b[0;32m--> 224\u001b[0;31m                 \u001b[0mres\u001b[0m \u001b[0;34m=\u001b[0m \u001b[0mself\u001b[0m\u001b[0;34m.\u001b[0m\u001b[0m_callback\u001b[0m\u001b[0;34m(\u001b[0m\u001b[0;34m*\u001b[0m\u001b[0mself\u001b[0m\u001b[0;34m.\u001b[0m\u001b[0m_args\u001b[0m\u001b[0;34m,\u001b[0m \u001b[0;34m**\u001b[0m\u001b[0mself\u001b[0m\u001b[0;34m.\u001b[0m\u001b[0m_kwargs\u001b[0m\u001b[0;34m)\u001b[0m\u001b[0;34m\u001b[0m\u001b[0;34m\u001b[0m\u001b[0m\n\u001b[0m\u001b[1;32m    225\u001b[0m             \u001b[0mself\u001b[0m\u001b[0;34m.\u001b[0m\u001b[0m_weakref\u001b[0m \u001b[0;34m=\u001b[0m \u001b[0mself\u001b[0m\u001b[0;34m.\u001b[0m\u001b[0m_callback\u001b[0m \u001b[0;34m=\u001b[0m \u001b[0mself\u001b[0m\u001b[0;34m.\u001b[0m\u001b[0m_args\u001b[0m \u001b[0;34m=\u001b[0m\u001b[0;31m \u001b[0m\u001b[0;31m\\\u001b[0m\u001b[0;34m\u001b[0m\u001b[0;34m\u001b[0m\u001b[0m\n",
      "\u001b[0;32m~/analysis/miniconda3/envs/cellx/lib/python3.9/multiprocessing/pool.py\u001b[0m in \u001b[0;36m_terminate_pool\u001b[0;34m(cls, taskqueue, inqueue, outqueue, pool, change_notifier, worker_handler, task_handler, result_handler, cache)\u001b[0m\n\u001b[1;32m    686\u001b[0m         \u001b[0mworker_handler\u001b[0m\u001b[0;34m.\u001b[0m\u001b[0m_state\u001b[0m \u001b[0;34m=\u001b[0m \u001b[0mTERMINATE\u001b[0m\u001b[0;34m\u001b[0m\u001b[0;34m\u001b[0m\u001b[0m\n\u001b[0;32m--> 687\u001b[0;31m         \u001b[0mchange_notifier\u001b[0m\u001b[0;34m.\u001b[0m\u001b[0mput\u001b[0m\u001b[0;34m(\u001b[0m\u001b[0;32mNone\u001b[0m\u001b[0;34m)\u001b[0m\u001b[0;34m\u001b[0m\u001b[0;34m\u001b[0m\u001b[0m\n\u001b[0m\u001b[1;32m    688\u001b[0m \u001b[0;34m\u001b[0m\u001b[0m\n",
      "\u001b[0;32m~/analysis/miniconda3/envs/cellx/lib/python3.9/multiprocessing/queues.py\u001b[0m in \u001b[0;36mput\u001b[0;34m(self, obj)\u001b[0m\n\u001b[1;32m    371\u001b[0m         \u001b[0;31m# serialize the data before acquiring the lock\u001b[0m\u001b[0;34m\u001b[0m\u001b[0;34m\u001b[0m\u001b[0m\n\u001b[0;32m--> 372\u001b[0;31m         \u001b[0mobj\u001b[0m \u001b[0;34m=\u001b[0m \u001b[0m_ForkingPickler\u001b[0m\u001b[0;34m.\u001b[0m\u001b[0mdumps\u001b[0m\u001b[0;34m(\u001b[0m\u001b[0mobj\u001b[0m\u001b[0;34m)\u001b[0m\u001b[0;34m\u001b[0m\u001b[0;34m\u001b[0m\u001b[0m\n\u001b[0m\u001b[1;32m    373\u001b[0m         \u001b[0;32mif\u001b[0m \u001b[0mself\u001b[0m\u001b[0;34m.\u001b[0m\u001b[0m_wlock\u001b[0m \u001b[0;32mis\u001b[0m \u001b[0;32mNone\u001b[0m\u001b[0;34m:\u001b[0m\u001b[0;34m\u001b[0m\u001b[0;34m\u001b[0m\u001b[0m\n",
      "\u001b[0;31mKeyboardInterrupt\u001b[0m: ",
      "\nDuring handling of the above exception, another exception occurred:\n",
      "\u001b[0;31mKeyboardInterrupt\u001b[0m                         Traceback (most recent call last)",
      "\u001b[0;32m~/analysis/miniconda3/envs/cellx/lib/python3.9/site-packages/IPython/core/interactiveshell.py\u001b[0m in \u001b[0;36mrun_code\u001b[0;34m(self, code_obj, result, async_)\u001b[0m\n\u001b[1;32m   3458\u001b[0m         \u001b[0;32mexcept\u001b[0m\u001b[0;34m:\u001b[0m\u001b[0;34m\u001b[0m\u001b[0;34m\u001b[0m\u001b[0m\n\u001b[1;32m   3459\u001b[0m             \u001b[0;32mif\u001b[0m \u001b[0mresult\u001b[0m \u001b[0;32mis\u001b[0m \u001b[0;32mnot\u001b[0m \u001b[0;32mNone\u001b[0m\u001b[0;34m:\u001b[0m\u001b[0;34m\u001b[0m\u001b[0;34m\u001b[0m\u001b[0m\n\u001b[0;32m-> 3460\u001b[0;31m                 \u001b[0mresult\u001b[0m\u001b[0;34m.\u001b[0m\u001b[0merror_in_exec\u001b[0m \u001b[0;34m=\u001b[0m \u001b[0msys\u001b[0m\u001b[0;34m.\u001b[0m\u001b[0mexc_info\u001b[0m\u001b[0;34m(\u001b[0m\u001b[0;34m)\u001b[0m\u001b[0;34m[\u001b[0m\u001b[0;36m1\u001b[0m\u001b[0;34m]\u001b[0m\u001b[0;34m\u001b[0m\u001b[0;34m\u001b[0m\u001b[0m\n\u001b[0m\u001b[1;32m   3461\u001b[0m             \u001b[0mself\u001b[0m\u001b[0;34m.\u001b[0m\u001b[0mshowtraceback\u001b[0m\u001b[0;34m(\u001b[0m\u001b[0mrunning_compiled_code\u001b[0m\u001b[0;34m=\u001b[0m\u001b[0;32mTrue\u001b[0m\u001b[0;34m)\u001b[0m\u001b[0;34m\u001b[0m\u001b[0;34m\u001b[0m\u001b[0m\n\u001b[1;32m   3462\u001b[0m         \u001b[0;32melse\u001b[0m\u001b[0;34m:\u001b[0m\u001b[0;34m\u001b[0m\u001b[0;34m\u001b[0m\u001b[0m\n",
      "\u001b[0;31mKeyboardInterrupt\u001b[0m: "
     ]
    },
    {
     "name": "stderr",
     "output_type": "stream",
     "text": [
      "Traceback (most recent call last):\n",
      "  File \"/home/nathan/analysis/miniconda3/envs/cellx/lib/python3.9/threading.py\", line 312, in wait\n",
      "    waiter.acquire()\n",
      "KeyboardInterrupt\n",
      "\n",
      "During handling of the above exception, another exception occurred:\n",
      "\n",
      "Traceback (most recent call last):\n",
      "  File \"/home/nathan/analysis/miniconda3/envs/cellx/lib/python3.9/queue.py\", line 171, in get\n",
      "    self.not_empty.wait()\n",
      "  File \"/home/nathan/analysis/miniconda3/envs/cellx/lib/python3.9/threading.py\", line 312, in wait\n",
      "    waiter.acquire()\n",
      "KeyboardInterrupt\n",
      "\n",
      "During handling of the above exception, another exception occurred:\n",
      "\n",
      "Traceback (most recent call last):\n",
      "  File \"/home/nathan/analysis/miniconda3/envs/cellx/lib/python3.9/multiprocessing/pool.py\", line 125, in worker\n",
      "    result = (True, func(*args, **kwds))\n",
      "  File \"/home/nathan/analysis/miniconda3/envs/cellx/lib/python3.9/multiprocessing/pool.py\", line 48, in mapstar\n",
      "    return list(map(*args))\n",
      "  File \"<ipython-input-5-b55b09ea950c>\", line 15, in classify\n",
      "    objects = btrack.utils.segmentation_to_objects(\n",
      "  File \"/home/nathan/analysis/BayesianTracker/btrack/_localization.py\", line 258, in segmentation_to_objects\n",
      "    seg = segmentation[frame, ...].compute()\n",
      "  File \"/home/nathan/analysis/miniconda3/envs/cellx/lib/python3.9/site-packages/dask/base.py\", line 288, in compute\n",
      "    (result,) = compute(self, traverse=False, **kwargs)\n",
      "  File \"/home/nathan/analysis/miniconda3/envs/cellx/lib/python3.9/site-packages/dask/base.py\", line 570, in compute\n",
      "    results = schedule(dsk, keys, **kwargs)\n",
      "  File \"/home/nathan/analysis/miniconda3/envs/cellx/lib/python3.9/site-packages/dask/threaded.py\", line 79, in get\n",
      "    results = get_async(\n",
      "  File \"/home/nathan/analysis/miniconda3/envs/cellx/lib/python3.9/site-packages/dask/local.py\", line 496, in get_async\n",
      "    for key, res_info, failed in queue_get(queue).result():\n",
      "  File \"/home/nathan/analysis/miniconda3/envs/cellx/lib/python3.9/site-packages/dask/local.py\", line 134, in queue_get\n",
      "    return q.get()\n",
      "  File \"/home/nathan/analysis/miniconda3/envs/cellx/lib/python3.9/queue.py\", line 183, in get\n",
      "    return item\n",
      "  File \"/home/nathan/analysis/miniconda3/envs/cellx/lib/python3.9/threading.py\", line 260, in __exit__\n",
      "    return self._lock.__exit__(*args)\n",
      "RuntimeError: release unlocked lock\n",
      "\n",
      "During handling of the above exception, another exception occurred:\n",
      "\n",
      "Traceback (most recent call last):\n",
      "  File \"/home/nathan/analysis/miniconda3/envs/cellx/lib/python3.9/multiprocessing/process.py\", line 315, in _bootstrap\n",
      "    self.run()\n",
      "  File \"/home/nathan/analysis/miniconda3/envs/cellx/lib/python3.9/multiprocessing/process.py\", line 108, in run\n",
      "    self._target(*self._args, **self._kwargs)\n",
      "  File \"/home/nathan/analysis/miniconda3/envs/cellx/lib/python3.9/multiprocessing/pool.py\", line 128, in worker\n",
      "    e = ExceptionWithTraceback(e, e.__traceback__)\n",
      "  File \"/home/nathan/analysis/miniconda3/envs/cellx/lib/python3.9/multiprocessing/pool.py\", line 65, in __init__\n",
      "    tb = traceback.format_exception(type(exc), exc, tb)\n",
      "  File \"/home/nathan/analysis/miniconda3/envs/cellx/lib/python3.9/traceback.py\", line 120, in format_exception\n",
      "    return list(TracebackException(\n",
      "  File \"/home/nathan/analysis/miniconda3/envs/cellx/lib/python3.9/traceback.py\", line 468, in __init__\n",
      "    def __init__(self, exc_type, exc_value, exc_traceback, *, limit=None,\n",
      "KeyboardInterrupt\n",
      "\n",
      "During handling of the above exception, another exception occurred:\n",
      "\n",
      "Traceback (most recent call last):\n",
      "  File \"/home/nathan/analysis/miniconda3/envs/cellx/lib/python3.9/multiprocessing/process.py\", line 318, in _bootstrap\n",
      "    util._exit_function()\n",
      "KeyboardInterrupt\n"
     ]
    }
   ],
   "source": [
    "root_dir = '/home/nathan/data/kraken/ras'\n",
    "expt_list = [expt for expt in os.listdir(root_dir) if len(expt) == 6]\n",
    "\n",
    "for expt in expt_list:\n",
    "    pos_list = [pos for pos in os.listdir(f'{root_dir}/{expt}') \n",
    "                    if 'Pos' in pos \n",
    "                    and os.path.isdir(f'{root_dir}/{expt}/{pos}')]\n",
    "    if __name__ == '__main__':\n",
    "        with Pool(cpus) as p:\n",
    "            p.map(classify, pos_list)"
   ]
  },
  {
   "cell_type": "code",
   "execution_count": null,
   "id": "14e92b28",
   "metadata": {},
   "outputs": [],
   "source": []
  }
 ],
 "metadata": {
  "kernelspec": {
   "display_name": "CellX",
   "language": "python",
   "name": "cellx"
  },
  "language_info": {
   "codemirror_mode": {
    "name": "ipython",
    "version": 3
   },
   "file_extension": ".py",
   "mimetype": "text/x-python",
   "name": "python",
   "nbconvert_exporter": "python",
   "pygments_lexer": "ipython3",
   "version": "3.9.7"
  }
 },
 "nbformat": 4,
 "nbformat_minor": 5
}
