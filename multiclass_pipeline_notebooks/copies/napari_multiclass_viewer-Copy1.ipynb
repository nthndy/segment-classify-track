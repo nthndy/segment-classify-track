{
 "cells": [
  {
   "cell_type": "markdown",
   "id": "a4cf9a6b",
   "metadata": {},
   "source": [
    "# Napari image viewer\n",
    "\n",
    "Uses the octopuslite dask image loader to automatically sort and load images from multichannel time lapse experiments. Can also use btrack to load associated tracks and segmentation images."
   ]
  },
  {
   "cell_type": "code",
   "execution_count": 1,
   "id": "3a23b02f",
   "metadata": {},
   "outputs": [],
   "source": [
    "import napari\n",
    "from octopuslite import DaskOctopusLiteLoader\n",
    "import glob\n",
    "import numpy as np"
   ]
  },
  {
   "cell_type": "markdown",
   "id": "9cc54637",
   "metadata": {},
   "source": [
    "# Load images"
   ]
  },
  {
   "cell_type": "code",
   "execution_count": 3,
   "id": "5206859a",
   "metadata": {
    "scrolled": true
   },
   "outputs": [
    {
     "name": "stdout",
     "output_type": "stream",
     "text": [
      "['/home/nathan/data/kraken/ras/ND0013/Pos0/mask_reversed_transform_tensor.npy', '/home/nathan/data/kraken/ras/ND0013/Pos0/mask_reversed_clipped_transform_tensor.npy', '/home/nathan/data/kraken/ras/ND0013/Pos0/transform_tensor.npy', '/home/nathan/data/kraken/ras/ND0013/Pos0/gfp_transform_tensor.npy', '/home/nathan/data/kraken/ras/ND0013/Pos0/gfp_transform_tensor_clipped.npy']\n"
     ]
    }
   ],
   "source": [
    "# define experiment ID and select a position\n",
    "expt = 'ND0013'\n",
    "pos = 'Pos0'\n",
    "# point to where the data is\n",
    "root_dir = '/home/nathan/data/kraken/ras'\n",
    "image_path = f'{root_dir}/{expt}/{pos}/{pos}_images'\n",
    "transform_paths = glob.glob(f'{root_dir}/{expt}/{pos}/*.npy')\n",
    "print(transform_paths)\n",
    "#tracks_path = f'{root_dir}/{expt}/{pos}/tracks.h5'"
   ]
  },
  {
   "cell_type": "code",
   "execution_count": 4,
   "id": "fd0b530b",
   "metadata": {},
   "outputs": [
    {
     "name": "stdout",
     "output_type": "stream",
     "text": [
      "/home/nathan/data/kraken/ras/ND0013/Pos0/transform_tensor.npy\n"
     ]
    }
   ],
   "source": [
    "transform_path = transform_paths[2]\n",
    "print(transform_path)#'/home/nathan/data/kraken/ras/ND0019/Pos2/mask_reversed_clipped_transform_tensor.npy'"
   ]
  },
  {
   "cell_type": "code",
   "execution_count": 5,
   "id": "72347393",
   "metadata": {
    "scrolled": true
   },
   "outputs": [
    {
     "name": "stdout",
     "output_type": "stream",
     "text": [
      "Using cropping: (1200, 1600)\n"
     ]
    },
    {
     "data": {
      "text/plain": [
       "[<Channels.BRIGHTFIELD: 0>,\n",
       " <Channels.GFP: 1>,\n",
       " <Channels.RFP: 2>,\n",
       " <Channels.IRFP: 3>,\n",
       " <Channels.MASK: 99>]"
      ]
     },
     "execution_count": 5,
     "metadata": {},
     "output_type": "execute_result"
    }
   ],
   "source": [
    "# lazily load images\n",
    "images = DaskOctopusLiteLoader(image_path, \n",
    "                               transforms = transform_path,\n",
    "                               crop = (1200,1600),\n",
    "                               remove_background = True)\n",
    "images.channels"
   ]
  },
  {
   "cell_type": "code",
   "execution_count": 6,
   "id": "6921a651",
   "metadata": {},
   "outputs": [],
   "source": [
    "gfp = images['gfp']\n",
    "rfp = images['rfp']\n",
    "irfp = images['irfp']\n",
    "\n",
    "# mask_94 = images['MASK_B']\n",
    "# mask_95 = images['MASK_A']\n",
    "# mask_96 = images['MASK_IRFP']\n",
    "# mask_97 = images['MASK_RFP']\n",
    "# mask_98 = images['MASK_GFP']\n",
    "mask_99 = images['mask']"
   ]
  },
  {
   "cell_type": "markdown",
   "id": "603b486b",
   "metadata": {},
   "source": [
    "# Launch viewer"
   ]
  },
  {
   "cell_type": "code",
   "execution_count": 7,
   "id": "18349e98",
   "metadata": {
    "scrolled": true
   },
   "outputs": [
    {
     "name": "stdout",
     "output_type": "stream",
     "text": [
      "Assistant skips harvesting pyclesperanto as it's not installed.\n"
     ]
    },
    {
     "name": "stderr",
     "output_type": "stream",
     "text": [
      "__init__.py (165): Public access to Window.qt_viewer is deprecated and will be removed in\n",
      "v0.5.0. It is considered an \"implementation detail\" of the napari\n",
      "application, not part of the napari viewer model. If your use case\n",
      "requires access to qt_viewer, please open an issue to discuss.\n"
     ]
    },
    {
     "data": {
      "text/plain": [
       "<Labels layer '99 new trans' at 0x7f5ec64388e0>"
      ]
     },
     "execution_count": 7,
     "metadata": {},
     "output_type": "execute_result"
    },
    {
     "name": "stderr",
     "output_type": "stream",
     "text": [
      "keyframeslist_widget.py (156): Themes were changed to use evented model with Pydantic's color type rather than the `rgb(x, y, z)`. The `as_dict=True` option will be changed to `as_dict=False` in 0.4.15\n",
      "_asarray.py (102): Private attribute access ('ClippingPlaneList.__array_struct__') in this context (e.g. inside a plugin widget or dock widget) is deprecated and will be unavailable in version 0.5.0\n",
      "_asarray.py (102): Private attribute access ('ClippingPlaneList.__array_interface__') in this context (e.g. inside a plugin widget or dock widget) is deprecated and will be unavailable in version 0.5.0\n",
      "_asarray.py (102): Private attribute access ('ClippingPlaneList.__array__') in this context (e.g. inside a plugin widget or dock widget) is deprecated and will be unavailable in version 0.5.0\n",
      "_asarray.py (102): Private attribute access ('ClippingPlaneList.__array_struct__') in this context (e.g. inside a plugin widget or dock widget) is deprecated and will be unavailable in version 0.5.0\n",
      "_asarray.py (102): Private attribute access ('ClippingPlaneList.__array_interface__') in this context (e.g. inside a plugin widget or dock widget) is deprecated and will be unavailable in version 0.5.0\n",
      "_asarray.py (102): Private attribute access ('ClippingPlaneList.__array__') in this context (e.g. inside a plugin widget or dock widget) is deprecated and will be unavailable in version 0.5.0\n"
     ]
    },
    {
     "name": "stdout",
     "output_type": "stream",
     "text": [
      "Rendering frame  1 of 16\n"
     ]
    },
    {
     "name": "stderr",
     "output_type": "stream",
     "text": [
      "_asarray.py (102): Private attribute access ('ClippingPlaneList.__array_struct__') in this context (e.g. inside a plugin widget or dock widget) is deprecated and will be unavailable in version 0.5.0\n",
      "_asarray.py (102): Private attribute access ('ClippingPlaneList.__array_interface__') in this context (e.g. inside a plugin widget or dock widget) is deprecated and will be unavailable in version 0.5.0\n",
      "_asarray.py (102): Private attribute access ('ClippingPlaneList.__array__') in this context (e.g. inside a plugin widget or dock widget) is deprecated and will be unavailable in version 0.5.0\n",
      "_asarray.py (102): Private attribute access ('ClippingPlaneList.__array_struct__') in this context (e.g. inside a plugin widget or dock widget) is deprecated and will be unavailable in version 0.5.0\n",
      "_asarray.py (102): Private attribute access ('ClippingPlaneList.__array_interface__') in this context (e.g. inside a plugin widget or dock widget) is deprecated and will be unavailable in version 0.5.0\n",
      "_asarray.py (102): Private attribute access ('ClippingPlaneList.__array__') in this context (e.g. inside a plugin widget or dock widget) is deprecated and will be unavailable in version 0.5.0\n",
      "IMAGEIO FFMPEG_WRITER WARNING: input image is not divisible by macro_block_size=16, resizing from (1302, 1027) to (1312, 1040) to ensure video compatibility with most codecs and players. To prevent resizing, make your input image divisible by the macro_block_size or set the macro_block_size to 1 (risking incompatibility).\n"
     ]
    },
    {
     "name": "stdout",
     "output_type": "stream",
     "text": [
      "Rendering frame  2 of 16\n"
     ]
    },
    {
     "name": "stderr",
     "output_type": "stream",
     "text": [
      "_asarray.py (102): Private attribute access ('ClippingPlaneList.__array_struct__') in this context (e.g. inside a plugin widget or dock widget) is deprecated and will be unavailable in version 0.5.0\n",
      "_asarray.py (102): Private attribute access ('ClippingPlaneList.__array_interface__') in this context (e.g. inside a plugin widget or dock widget) is deprecated and will be unavailable in version 0.5.0\n",
      "_asarray.py (102): Private attribute access ('ClippingPlaneList.__array__') in this context (e.g. inside a plugin widget or dock widget) is deprecated and will be unavailable in version 0.5.0\n"
     ]
    },
    {
     "name": "stdout",
     "output_type": "stream",
     "text": [
      "Rendering frame  3 of 16\n"
     ]
    },
    {
     "name": "stderr",
     "output_type": "stream",
     "text": [
      "_asarray.py (102): Private attribute access ('ClippingPlaneList.__array_struct__') in this context (e.g. inside a plugin widget or dock widget) is deprecated and will be unavailable in version 0.5.0\n",
      "_asarray.py (102): Private attribute access ('ClippingPlaneList.__array_interface__') in this context (e.g. inside a plugin widget or dock widget) is deprecated and will be unavailable in version 0.5.0\n",
      "_asarray.py (102): Private attribute access ('ClippingPlaneList.__array__') in this context (e.g. inside a plugin widget or dock widget) is deprecated and will be unavailable in version 0.5.0\n"
     ]
    },
    {
     "name": "stdout",
     "output_type": "stream",
     "text": [
      "Rendering frame  4 of 16\n"
     ]
    },
    {
     "name": "stderr",
     "output_type": "stream",
     "text": [
      "_asarray.py (102): Private attribute access ('ClippingPlaneList.__array_struct__') in this context (e.g. inside a plugin widget or dock widget) is deprecated and will be unavailable in version 0.5.0\n",
      "_asarray.py (102): Private attribute access ('ClippingPlaneList.__array_interface__') in this context (e.g. inside a plugin widget or dock widget) is deprecated and will be unavailable in version 0.5.0\n",
      "_asarray.py (102): Private attribute access ('ClippingPlaneList.__array__') in this context (e.g. inside a plugin widget or dock widget) is deprecated and will be unavailable in version 0.5.0\n"
     ]
    },
    {
     "name": "stdout",
     "output_type": "stream",
     "text": [
      "Rendering frame  5 of 16\n"
     ]
    },
    {
     "name": "stderr",
     "output_type": "stream",
     "text": [
      "_asarray.py (102): Private attribute access ('ClippingPlaneList.__array_struct__') in this context (e.g. inside a plugin widget or dock widget) is deprecated and will be unavailable in version 0.5.0\n",
      "_asarray.py (102): Private attribute access ('ClippingPlaneList.__array_interface__') in this context (e.g. inside a plugin widget or dock widget) is deprecated and will be unavailable in version 0.5.0\n",
      "_asarray.py (102): Private attribute access ('ClippingPlaneList.__array__') in this context (e.g. inside a plugin widget or dock widget) is deprecated and will be unavailable in version 0.5.0\n"
     ]
    },
    {
     "name": "stdout",
     "output_type": "stream",
     "text": [
      "Rendering frame  6 of 16\n"
     ]
    },
    {
     "name": "stderr",
     "output_type": "stream",
     "text": [
      "_asarray.py (102): Private attribute access ('ClippingPlaneList.__array_struct__') in this context (e.g. inside a plugin widget or dock widget) is deprecated and will be unavailable in version 0.5.0\n",
      "_asarray.py (102): Private attribute access ('ClippingPlaneList.__array_interface__') in this context (e.g. inside a plugin widget or dock widget) is deprecated and will be unavailable in version 0.5.0\n",
      "_asarray.py (102): Private attribute access ('ClippingPlaneList.__array__') in this context (e.g. inside a plugin widget or dock widget) is deprecated and will be unavailable in version 0.5.0\n"
     ]
    },
    {
     "name": "stdout",
     "output_type": "stream",
     "text": [
      "Rendering frame  7 of 16\n"
     ]
    },
    {
     "name": "stderr",
     "output_type": "stream",
     "text": [
      "_asarray.py (102): Private attribute access ('ClippingPlaneList.__array_struct__') in this context (e.g. inside a plugin widget or dock widget) is deprecated and will be unavailable in version 0.5.0\n",
      "_asarray.py (102): Private attribute access ('ClippingPlaneList.__array_interface__') in this context (e.g. inside a plugin widget or dock widget) is deprecated and will be unavailable in version 0.5.0\n",
      "_asarray.py (102): Private attribute access ('ClippingPlaneList.__array__') in this context (e.g. inside a plugin widget or dock widget) is deprecated and will be unavailable in version 0.5.0\n"
     ]
    },
    {
     "name": "stdout",
     "output_type": "stream",
     "text": [
      "Rendering frame  8 of 16\n"
     ]
    },
    {
     "name": "stderr",
     "output_type": "stream",
     "text": [
      "_asarray.py (102): Private attribute access ('ClippingPlaneList.__array_struct__') in this context (e.g. inside a plugin widget or dock widget) is deprecated and will be unavailable in version 0.5.0\n",
      "_asarray.py (102): Private attribute access ('ClippingPlaneList.__array_interface__') in this context (e.g. inside a plugin widget or dock widget) is deprecated and will be unavailable in version 0.5.0\n",
      "_asarray.py (102): Private attribute access ('ClippingPlaneList.__array__') in this context (e.g. inside a plugin widget or dock widget) is deprecated and will be unavailable in version 0.5.0\n"
     ]
    },
    {
     "name": "stdout",
     "output_type": "stream",
     "text": [
      "Rendering frame  9 of 16\n"
     ]
    },
    {
     "name": "stderr",
     "output_type": "stream",
     "text": [
      "_asarray.py (102): Private attribute access ('ClippingPlaneList.__array_struct__') in this context (e.g. inside a plugin widget or dock widget) is deprecated and will be unavailable in version 0.5.0\n",
      "_asarray.py (102): Private attribute access ('ClippingPlaneList.__array_interface__') in this context (e.g. inside a plugin widget or dock widget) is deprecated and will be unavailable in version 0.5.0\n",
      "_asarray.py (102): Private attribute access ('ClippingPlaneList.__array__') in this context (e.g. inside a plugin widget or dock widget) is deprecated and will be unavailable in version 0.5.0\n"
     ]
    },
    {
     "name": "stdout",
     "output_type": "stream",
     "text": [
      "Rendering frame  10 of 16\n"
     ]
    },
    {
     "name": "stderr",
     "output_type": "stream",
     "text": [
      "_asarray.py (102): Private attribute access ('ClippingPlaneList.__array_struct__') in this context (e.g. inside a plugin widget or dock widget) is deprecated and will be unavailable in version 0.5.0\n",
      "_asarray.py (102): Private attribute access ('ClippingPlaneList.__array_interface__') in this context (e.g. inside a plugin widget or dock widget) is deprecated and will be unavailable in version 0.5.0\n",
      "_asarray.py (102): Private attribute access ('ClippingPlaneList.__array__') in this context (e.g. inside a plugin widget or dock widget) is deprecated and will be unavailable in version 0.5.0\n"
     ]
    },
    {
     "name": "stdout",
     "output_type": "stream",
     "text": [
      "Rendering frame  11 of 16\n"
     ]
    },
    {
     "name": "stderr",
     "output_type": "stream",
     "text": [
      "_asarray.py (102): Private attribute access ('ClippingPlaneList.__array_struct__') in this context (e.g. inside a plugin widget or dock widget) is deprecated and will be unavailable in version 0.5.0\n",
      "_asarray.py (102): Private attribute access ('ClippingPlaneList.__array_interface__') in this context (e.g. inside a plugin widget or dock widget) is deprecated and will be unavailable in version 0.5.0\n",
      "_asarray.py (102): Private attribute access ('ClippingPlaneList.__array__') in this context (e.g. inside a plugin widget or dock widget) is deprecated and will be unavailable in version 0.5.0\n"
     ]
    },
    {
     "name": "stdout",
     "output_type": "stream",
     "text": [
      "Rendering frame  12 of 16\n"
     ]
    },
    {
     "name": "stderr",
     "output_type": "stream",
     "text": [
      "_asarray.py (102): Private attribute access ('ClippingPlaneList.__array_struct__') in this context (e.g. inside a plugin widget or dock widget) is deprecated and will be unavailable in version 0.5.0\n",
      "_asarray.py (102): Private attribute access ('ClippingPlaneList.__array_interface__') in this context (e.g. inside a plugin widget or dock widget) is deprecated and will be unavailable in version 0.5.0\n",
      "_asarray.py (102): Private attribute access ('ClippingPlaneList.__array__') in this context (e.g. inside a plugin widget or dock widget) is deprecated and will be unavailable in version 0.5.0\n"
     ]
    },
    {
     "name": "stdout",
     "output_type": "stream",
     "text": [
      "Rendering frame  13 of 16\n"
     ]
    },
    {
     "name": "stderr",
     "output_type": "stream",
     "text": [
      "_asarray.py (102): Private attribute access ('ClippingPlaneList.__array_struct__') in this context (e.g. inside a plugin widget or dock widget) is deprecated and will be unavailable in version 0.5.0\n",
      "_asarray.py (102): Private attribute access ('ClippingPlaneList.__array_interface__') in this context (e.g. inside a plugin widget or dock widget) is deprecated and will be unavailable in version 0.5.0\n",
      "_asarray.py (102): Private attribute access ('ClippingPlaneList.__array__') in this context (e.g. inside a plugin widget or dock widget) is deprecated and will be unavailable in version 0.5.0\n"
     ]
    },
    {
     "name": "stdout",
     "output_type": "stream",
     "text": [
      "Rendering frame  14 of 16\n"
     ]
    },
    {
     "name": "stderr",
     "output_type": "stream",
     "text": [
      "_asarray.py (102): Private attribute access ('ClippingPlaneList.__array_struct__') in this context (e.g. inside a plugin widget or dock widget) is deprecated and will be unavailable in version 0.5.0\n",
      "_asarray.py (102): Private attribute access ('ClippingPlaneList.__array_interface__') in this context (e.g. inside a plugin widget or dock widget) is deprecated and will be unavailable in version 0.5.0\n",
      "_asarray.py (102): Private attribute access ('ClippingPlaneList.__array__') in this context (e.g. inside a plugin widget or dock widget) is deprecated and will be unavailable in version 0.5.0\n"
     ]
    },
    {
     "name": "stdout",
     "output_type": "stream",
     "text": [
      "Rendering frame  15 of 16\n"
     ]
    },
    {
     "name": "stderr",
     "output_type": "stream",
     "text": [
      "_asarray.py (102): Private attribute access ('ClippingPlaneList.__array_struct__') in this context (e.g. inside a plugin widget or dock widget) is deprecated and will be unavailable in version 0.5.0\n",
      "_asarray.py (102): Private attribute access ('ClippingPlaneList.__array_interface__') in this context (e.g. inside a plugin widget or dock widget) is deprecated and will be unavailable in version 0.5.0\n",
      "_asarray.py (102): Private attribute access ('ClippingPlaneList.__array__') in this context (e.g. inside a plugin widget or dock widget) is deprecated and will be unavailable in version 0.5.0\n"
     ]
    },
    {
     "name": "stdout",
     "output_type": "stream",
     "text": [
      "Rendering frame  16 of 16\n"
     ]
    },
    {
     "name": "stderr",
     "output_type": "stream",
     "text": [
      "_asarray.py (102): Private attribute access ('ClippingPlaneList.__array_struct__') in this context (e.g. inside a plugin widget or dock widget) is deprecated and will be unavailable in version 0.5.0\n",
      "_asarray.py (102): Private attribute access ('ClippingPlaneList.__array_interface__') in this context (e.g. inside a plugin widget or dock widget) is deprecated and will be unavailable in version 0.5.0\n",
      "_asarray.py (102): Private attribute access ('ClippingPlaneList.__array__') in this context (e.g. inside a plugin widget or dock widget) is deprecated and will be unavailable in version 0.5.0\n"
     ]
    }
   ],
   "source": [
    "viewer = napari.Viewer()\n",
    "# viewer.add_image(rgb, name=\"rgb C+E\", \n",
    "#                  contrast_limits=[0,255],\n",
    "#                  blending = 'additive', colormap = 'green')#, is_pyramid=False)\n",
    "# # viewer.add_image(bf, name=\"bf\", \n",
    "#                  contrast_limits=[0,255],\n",
    "#                  blending = 'additive',)\n",
    "viewer.add_image(gfp, name=\"gfp\", \n",
    "                 contrast_limits=[0,255],\n",
    "                 blending = 'additive', colormap = 'green')#, is_pyramid=False)\n",
    "viewer.add_image(rfp, name=\"rfp\", \n",
    "                 contrast_limits=[0,55], \n",
    "                 blending = 'additive', colormap = 'magenta')#, is_pyramid=False)\n",
    "# viewer.add_image(irfp, name=\"irfp\", \n",
    "#                  contrast_limits=[0,255], \n",
    "#                  blending = 'additive', colormap = 'cyan')\n",
    "\n",
    "# viewer.add_labels(mask_94.astype(int), name = '94')\n",
    "# # viewer.add_labels(mask_95.astype(int), name = '95')\n",
    "# #viewer.add_labels(mask_96.astype(int), name = '96')\n",
    "# viewer.add_labels(mask_97.astype(int), name = '97')\n",
    "# viewer.add_labels(mask_98.astype(int), name = '98')\n",
    "viewer.add_labels(mask_99.astype(int), name = '99 new trans')\n",
    "\n",
    "# viewer.add_tracks(rfp_tracks)"
   ]
  },
  {
   "cell_type": "code",
   "execution_count": 6,
   "id": "b687691d",
   "metadata": {},
   "outputs": [],
   "source": [
    "N = 10 ## number of frames to load"
   ]
  },
  {
   "cell_type": "code",
   "execution_count": 31,
   "id": "968ef085",
   "metadata": {},
   "outputs": [],
   "source": [
    "bf = images['brightfield'][1000].compute()"
   ]
  },
  {
   "cell_type": "code",
   "execution_count": 9,
   "id": "7c2b87eb",
   "metadata": {},
   "outputs": [],
   "source": [
    "gfp = images['gfp'][1000].compute()\n",
    "rfp = images['rfp'][1000].compute()\n",
    "irfp = images['irfp'][1000].compute()"
   ]
  },
  {
   "cell_type": "code",
   "execution_count": 58,
   "id": "7f67b40c",
   "metadata": {},
   "outputs": [],
   "source": [
    "rgb = np.reshape(rgb, (2,1200,1600))"
   ]
  },
  {
   "cell_type": "code",
   "execution_count": 51,
   "id": "693e5906",
   "metadata": {},
   "outputs": [],
   "source": [
    "ch1 = gfp\n",
    "ch2 = rfp\n",
    "\n",
    "r = ch1.astype(int) \n",
    "#g = np.zeros(ch1.shape).astype(int)\n",
    "b = ch2.astype(int)"
   ]
  },
  {
   "cell_type": "code",
   "execution_count": 52,
   "id": "004d8b67",
   "metadata": {},
   "outputs": [],
   "source": [
    "rgb = np.dstack((r,b))"
   ]
  },
  {
   "cell_type": "code",
   "execution_count": 12,
   "id": "ee029d68",
   "metadata": {},
   "outputs": [
    {
     "name": "stderr",
     "output_type": "stream",
     "text": [
      "__init__.py (165): Public access to Window.qt_viewer is deprecated and will be removed in\n",
      "v0.5.0. It is considered an \"implementation detail\" of the napari\n",
      "application, not part of the napari viewer model. If your use case\n",
      "requires access to qt_viewer, please open an issue to discuss.\n",
      "__init__.py (165): Public access to Window.qt_viewer is deprecated and will be removed in\n",
      "v0.5.0. It is considered an \"implementation detail\" of the napari\n",
      "application, not part of the napari viewer model. If your use case\n",
      "requires access to qt_viewer, please open an issue to discuss.\n",
      "__init__.py (165): Public access to Window.qt_viewer is deprecated and will be removed in\n",
      "v0.5.0. It is considered an \"implementation detail\" of the napari\n",
      "application, not part of the napari viewer model. If your use case\n",
      "requires access to qt_viewer, please open an issue to discuss.\n",
      "__init__.py (165): Public access to Window.qt_viewer is deprecated and will be removed in\n",
      "v0.5.0. It is considered an \"implementation detail\" of the napari\n",
      "application, not part of the napari viewer model. If your use case\n",
      "requires access to qt_viewer, please open an issue to discuss.\n",
      "__init__.py (165): Public access to Window.qt_viewer is deprecated and will be removed in\n",
      "v0.5.0. It is considered an \"implementation detail\" of the napari\n",
      "application, not part of the napari viewer model. If your use case\n",
      "requires access to qt_viewer, please open an issue to discuss.\n"
     ]
    },
    {
     "name": "stdout",
     "output_type": "stream",
     "text": [
      "Found model '2D_versatile_fluo' for 'StarDist2D'.\n",
      "Loading network weights from 'weights_best.h5'.\n",
      "Loading thresholds from 'thresholds.json'.\n",
      "Using default values: prob_thresh=0.479071, nms_thresh=0.3.\n",
      "Found model '2D_versatile_fluo' for 'StarDist2D'.\n",
      "Loading network weights from 'weights_best.h5'.\n",
      "Loading thresholds from 'thresholds.json'.\n",
      "Using default values: prob_thresh=0.479071, nms_thresh=0.3.\n",
      "Found model '2D_versatile_fluo' for 'StarDist2D'.\n",
      "Loading network weights from 'weights_best.h5'.\n",
      "Loading thresholds from 'thresholds.json'.\n",
      "Using default values: prob_thresh=0.479071, nms_thresh=0.3.\n",
      "Found model '2D_versatile_fluo' for 'StarDist2D'.\n",
      "Loading network weights from 'weights_best.h5'.\n",
      "Loading thresholds from 'thresholds.json'.\n",
      "Using default values: prob_thresh=0.479071, nms_thresh=0.3.\n",
      "Found model '2D_versatile_fluo' for 'StarDist2D'.\n",
      "Loading network weights from 'weights_best.h5'.\n",
      "Loading thresholds from 'thresholds.json'.\n",
      "Using default values: prob_thresh=0.479071, nms_thresh=0.3.\n",
      "Found model '2D_versatile_fluo' for 'StarDist2D'.\n",
      "Loading network weights from 'weights_best.h5'.\n",
      "Loading thresholds from 'thresholds.json'.\n",
      "Using default values: prob_thresh=0.479071, nms_thresh=0.3.\n",
      "WARNING:tensorflow:5 out of the last 13 calls to <function Model.make_predict_function.<locals>.predict_function at 0x7f2f1e66bdc0> triggered tf.function retracing. Tracing is expensive and the excessive number of tracings could be due to (1) creating @tf.function repeatedly in a loop, (2) passing tensors with different shapes, (3) passing Python objects instead of tensors. For (1), please define your @tf.function outside of the loop. For (2), @tf.function has experimental_relax_shapes=True option that relaxes argument shapes that can avoid unnecessary retracing. For (3), please refer to https://www.tensorflow.org/guide/function#controlling_retracing and https://www.tensorflow.org/api_docs/python/tf/function for  more details.\n",
      "Found model '2D_versatile_fluo' for 'StarDist2D'.\n",
      "Loading network weights from 'weights_best.h5'.\n",
      "Loading thresholds from 'thresholds.json'.\n",
      "Using default values: prob_thresh=0.479071, nms_thresh=0.3.\n",
      "WARNING:tensorflow:5 out of the last 14 calls to <function Model.make_predict_function.<locals>.predict_function at 0x7f2eff056af0> triggered tf.function retracing. Tracing is expensive and the excessive number of tracings could be due to (1) creating @tf.function repeatedly in a loop, (2) passing tensors with different shapes, (3) passing Python objects instead of tensors. For (1), please define your @tf.function outside of the loop. For (2), @tf.function has experimental_relax_shapes=True option that relaxes argument shapes that can avoid unnecessary retracing. For (3), please refer to https://www.tensorflow.org/guide/function#controlling_retracing and https://www.tensorflow.org/api_docs/python/tf/function for  more details.\n",
      "Found model '2D_versatile_fluo' for 'StarDist2D'.\n",
      "Loading network weights from 'weights_best.h5'.\n",
      "Loading thresholds from 'thresholds.json'.\n",
      "Using default values: prob_thresh=0.479071, nms_thresh=0.3.\n"
     ]
    }
   ],
   "source": [
    "for i in [0,250,500,750,1000]:\n",
    "    viewer = napari.Viewer()\n",
    "    # viewer.add_image(rgb, name=\"rgb C+E\", \n",
    "    #                  contrast_limits=[0,255],\n",
    "    #                  blending = 'additive', colormap = 'green')#, is_pyramid=False)\n",
    "    # # viewer.add_image(bf, name=\"bf\", \n",
    "    #                  contrast_limits=[0,255],\n",
    "    #                  blending = 'additive',)\n",
    "#     viewer.add_image(images['gfp'][i].compute(), name=f\"{i} gfp\", \n",
    "#                      contrast_limits=[0,255],\n",
    "#                      blending = 'additive', colormap = 'green')#, is_pyramid=False)\n",
    "#     viewer.add_image(images['rfp'][i].compute(), name=\"rfp\", \n",
    "#                      contrast_limits=[0,55], \n",
    "#                      blending = 'additive', colormap = 'magenta')#, is_pyramid=False)\n",
    "    viewer.add_image(irfp, name=\"irfp\", \n",
    "                     contrast_limits=[0,255], \n",
    "                     blending = 'additive', colormap = 'cyan')#\n",
    "    # # viewer.add_labels(ras_masks, name = 'ras_mask')"
   ]
  },
  {
   "cell_type": "code",
   "execution_count": 12,
   "id": "9a71a122",
   "metadata": {},
   "outputs": [],
   "source": [
    "from skimage.io import imread, imshow\n",
    "%matplotlib inline"
   ]
  },
  {
   "cell_type": "code",
   "execution_count": 13,
   "id": "7954d441",
   "metadata": {},
   "outputs": [],
   "source": [
    "im = imread('/home/nathan/data/kraken/ras/ND0022/Pos12/stardist_high_thresh_mask.tif')"
   ]
  },
  {
   "cell_type": "code",
   "execution_count": 14,
   "id": "aa92fcad",
   "metadata": {},
   "outputs": [
    {
     "name": "stderr",
     "output_type": "stream",
     "text": [
      "matplotlib_plugin.py (150): Low image data range; displaying image with stretched contrast.\n"
     ]
    },
    {
     "data": {
      "text/plain": [
       "<matplotlib.image.AxesImage at 0x7fcde035db20>"
      ]
     },
     "execution_count": 14,
     "metadata": {},
     "output_type": "execute_result"
    },
    {
     "data": {
      "image/png": "[encoded data removed]",
      "text/plain": [
       "<Figure size 432x288 with 2 Axes>"
      ]
     },
     "metadata": {
      "needs_background": "light"
     },
     "output_type": "display_data"
    }
   ],
   "source": [
    "imshow(im)"
   ]
  },
  {
   "cell_type": "code",
   "execution_count": 20,
   "id": "6e3acf3e",
   "metadata": {},
   "outputs": [],
   "source": [
    "mask = images['mask'][0].astype(int).compute()"
   ]
  },
  {
   "cell_type": "code",
   "execution_count": 23,
   "id": "08ae1b2e",
   "metadata": {},
   "outputs": [],
   "source": [
    "rfp = (mask ==2)"
   ]
  },
  {
   "cell_type": "code",
   "execution_count": 28,
   "id": "f1be8cd3",
   "metadata": {},
   "outputs": [
    {
     "data": {
      "text/plain": [
       "<matplotlib.image.AxesImage at 0x7fcdd5600a30>"
      ]
     },
     "execution_count": 28,
     "metadata": {},
     "output_type": "execute_result"
    },
    {
     "data": {
      "image/png": "[encoded data removed]",
      "text/plain": [
       "<Figure size 432x288 with 2 Axes>"
      ]
     },
     "metadata": {
      "needs_background": "light"
     },
     "output_type": "display_data"
    }
   ],
   "source": [
    "imshow(rfp.astype(int))"
   ]
  },
  {
   "cell_type": "code",
   "execution_count": 29,
   "id": "f4064194",
   "metadata": {},
   "outputs": [],
   "source": [
    "import skimage.measure as m"
   ]
  },
  {
   "cell_type": "code",
   "execution_count": 31,
   "id": "d721e31d",
   "metadata": {},
   "outputs": [
    {
     "data": {
      "text/plain": [
       "<matplotlib.image.AxesImage at 0x7fcdd55b57c0>"
      ]
     },
     "execution_count": 31,
     "metadata": {},
     "output_type": "execute_result"
    },
    {
     "data": {
      "image/png": "[encoded data removed]",
      "text/plain": [
       "<Figure size 432x288 with 2 Axes>"
      ]
     },
     "metadata": {
      "needs_background": "light"
     },
     "output_type": "display_data"
    }
   ],
   "source": [
    "imshow(m.label(im))"
   ]
  },
  {
   "cell_type": "code",
   "execution_count": 32,
   "id": "b4e4a4ac",
   "metadata": {},
   "outputs": [],
   "source": [
    "label = m.label(im)"
   ]
  },
  {
   "cell_type": "code",
   "execution_count": 35,
   "id": "3d50f6ed",
   "metadata": {},
   "outputs": [
    {
     "data": {
      "text/plain": [
       "<matplotlib.image.AxesImage at 0x7fcdd542f430>"
      ]
     },
     "execution_count": 35,
     "metadata": {},
     "output_type": "execute_result"
    },
    {
     "data": {
      "image/png": "[encoded data removed]",
      "text/plain": [
       "<Figure size 432x288 with 2 Axes>"
      ]
     },
     "metadata": {
      "needs_background": "light"
     },
     "output_type": "display_data"
    }
   ],
   "source": [
    "imshow(label+(-100*rfp))"
   ]
  },
  {
   "cell_type": "code",
   "execution_count": 33,
   "id": "0dcf2d7d",
   "metadata": {},
   "outputs": [
    {
     "data": {
      "text/plain": [
       "[array([0, 0, 0, ..., 0, 0, 0]),\n",
       " array([0, 0, 0, ..., 0, 0, 0]),\n",
       " array([ 0,  0,  0, ..., 11,  0,  0]),\n",
       " array([ 0,  0,  0, ..., 11,  0,  0]),\n",
       " array([ 0,  0,  0, ..., 11,  0,  0]),\n",
       " array([ 0,  0,  0, ..., 11,  0,  0]),\n",
       " array([ 0,  0,  0, ..., 11,  0,  0]),\n",
       " array([0, 0, 0, ..., 0, 0, 0]),\n",
       " array([0, 0, 0, ..., 0, 0, 0]),\n",
       " array([0, 0, 0, ..., 0, 0, 0]),\n",
       " array([0, 0, 0, ..., 0, 0, 0]),\n",
       " array([0, 0, 0, ..., 0, 0, 0]),\n",
       " array([0, 0, 0, ..., 0, 0, 0]),\n",
       " array([0, 0, 0, ..., 0, 0, 0]),\n",
       " array([0, 0, 0, ..., 0, 0, 0]),\n",
       " array([0, 0, 0, ..., 0, 0, 0]),\n",
       " array([0, 0, 0, ..., 0, 0, 0]),\n",
       " array([0, 0, 0, ..., 0, 0, 0]),\n",
       " array([0, 0, 0, ..., 0, 0, 0]),\n",
       " array([0, 0, 0, ..., 0, 0, 0]),\n",
       " array([0, 0, 0, ..., 0, 0, 0]),\n",
       " array([0, 0, 0, ..., 0, 0, 0]),\n",
       " array([0, 0, 0, ..., 0, 0, 0]),\n",
       " array([0, 0, 0, ..., 0, 0, 0]),\n",
       " array([0, 0, 0, ..., 0, 0, 0]),\n",
       " array([0, 0, 0, ..., 0, 0, 0]),\n",
       " array([0, 0, 0, ..., 0, 0, 0]),\n",
       " array([0, 0, 0, ..., 0, 0, 0]),\n",
       " array([0, 0, 0, ..., 0, 0, 0]),\n",
       " array([0, 0, 0, ..., 0, 0, 0]),\n",
       " array([0, 0, 0, ..., 0, 0, 0]),\n",
       " array([0, 0, 0, ..., 0, 0, 0]),\n",
       " array([0, 0, 0, ..., 0, 0, 0]),\n",
       " array([0, 0, 0, ..., 0, 0, 0]),\n",
       " array([0, 0, 0, ..., 0, 0, 0]),\n",
       " array([ 0,  0,  0, ..., 28,  0,  0]),\n",
       " array([ 0,  0,  0, ..., 28, 28,  0]),\n",
       " array([ 0,  0,  0, ..., 28, 28, 28]),\n",
       " array([ 0,  0,  0, ..., 28, 28, 28]),\n",
       " array([ 0,  0,  0, ..., 28, 28, 28]),\n",
       " array([ 0,  0,  0, ..., 28, 28, 28]),\n",
       " array([ 0,  0,  0, ..., 28, 28, 28]),\n",
       " array([ 0,  0,  0, ..., 28, 28, 28]),\n",
       " array([ 0,  0,  0, ..., 28, 28, 28]),\n",
       " array([ 0,  0,  0, ..., 28, 28, 28]),\n",
       " array([ 0,  0,  0, ..., 28, 28, 28]),\n",
       " array([ 0,  0,  0, ..., 28, 28, 28]),\n",
       " array([ 0,  0,  0, ..., 28, 28, 28]),\n",
       " array([ 0,  0,  0, ..., 28, 28, 28]),\n",
       " array([ 0, 36, 36, ..., 28, 28, 28]),\n",
       " array([ 0, 36, 36, ..., 28, 28, 28]),\n",
       " array([ 0, 36, 36, ..., 28, 28, 28]),\n",
       " array([36, 36, 36, ..., 28, 28, 28]),\n",
       " array([36, 36, 36, ..., 28, 28, 28]),\n",
       " array([36, 36, 36, ..., 28, 28, 28]),\n",
       " array([36, 36, 36, ..., 28, 28, 28]),\n",
       " array([36, 36, 36, ..., 28, 28, 28]),\n",
       " array([36, 36, 36, ..., 28, 28, 28]),\n",
       " array([36, 36, 36, ..., 28, 28, 28]),\n",
       " array([36, 36, 36, ..., 28, 28, 28]),\n",
       " array([36, 36, 36, ..., 28, 28, 28]),\n",
       " array([36, 36, 36, ..., 28, 28, 28]),\n",
       " array([36, 36, 36, ..., 28, 28, 28]),\n",
       " array([36, 36, 36, ..., 28, 28, 28]),\n",
       " array([36, 36, 36, ..., 28, 28, 28]),\n",
       " array([36, 36, 36, ..., 28, 28,  0]),\n",
       " array([36, 36, 36, ..., 28, 28,  0]),\n",
       " array([36, 36, 36, ..., 28,  0,  0]),\n",
       " array([36, 36, 36, ...,  0,  0,  0]),\n",
       " array([36, 36, 36, ...,  0,  0,  0]),\n",
       " array([36, 36, 36, ...,  0,  0,  0]),\n",
       " array([36, 36, 36, ...,  0,  0,  0]),\n",
       " array([36, 36, 36, ...,  0,  0,  0]),\n",
       " array([36, 36, 36, ...,  0,  0,  0]),\n",
       " array([36, 36, 36, ...,  0,  0,  0]),\n",
       " array([36, 36, 36, ...,  0,  0,  0]),\n",
       " array([36, 36, 36, ...,  0,  0,  0]),\n",
       " array([36, 36, 36, ...,  0,  0,  0]),\n",
       " array([36, 36, 36, ...,  0,  0,  0]),\n",
       " array([36, 36, 36, ...,  0,  0,  0]),\n",
       " array([36, 36, 36, ...,  0,  0,  0]),\n",
       " array([36, 36, 36, ...,  0,  0,  0]),\n",
       " array([36, 36, 36, ...,  0,  0,  0]),\n",
       " array([36, 36, 36, ...,  0,  0,  0]),\n",
       " array([36, 36, 36, ...,  0,  0,  0]),\n",
       " array([36, 36, 36, ...,  0,  0,  0]),\n",
       " array([ 0,  0, 36, ...,  0,  0,  0]),\n",
       " array([0, 0, 0, ..., 0, 0, 0]),\n",
       " array([0, 0, 0, ..., 0, 0, 0]),\n",
       " array([0, 0, 0, ..., 0, 0, 0]),\n",
       " array([0, 0, 0, ..., 0, 0, 0]),\n",
       " array([0, 0, 0, ..., 0, 0, 0]),\n",
       " array([0, 0, 0, ..., 0, 0, 0]),\n",
       " array([0, 0, 0, ..., 0, 0, 0]),\n",
       " array([0, 0, 0, ..., 0, 0, 0]),\n",
       " array([0, 0, 0, ..., 0, 0, 0]),\n",
       " array([0, 0, 0, ..., 0, 0, 0]),\n",
       " array([0, 0, 0, ..., 0, 0, 0]),\n",
       " array([0, 0, 0, ..., 0, 0, 0]),\n",
       " array([0, 0, 0, ..., 0, 0, 0]),\n",
       " array([0, 0, 0, ..., 0, 0, 0]),\n",
       " array([0, 0, 0, ..., 0, 0, 0]),\n",
       " array([0, 0, 0, ..., 0, 0, 0]),\n",
       " array([0, 0, 0, ..., 0, 0, 0]),\n",
       " array([0, 0, 0, ..., 0, 0, 0]),\n",
       " array([0, 0, 0, ..., 0, 0, 0]),\n",
       " array([0, 0, 0, ..., 0, 0, 0]),\n",
       " array([0, 0, 0, ..., 0, 0, 0]),\n",
       " array([0, 0, 0, ..., 0, 0, 0]),\n",
       " array([0, 0, 0, ..., 0, 0, 0]),\n",
       " array([0, 0, 0, ..., 0, 0, 0]),\n",
       " array([0, 0, 0, ..., 0, 0, 0]),\n",
       " array([0, 0, 0, ..., 0, 0, 0]),\n",
       " array([0, 0, 0, ..., 0, 0, 0]),\n",
       " array([0, 0, 0, ..., 0, 0, 0]),\n",
       " array([0, 0, 0, ..., 0, 0, 0]),\n",
       " array([0, 0, 0, ..., 0, 0, 0]),\n",
       " array([0, 0, 0, ..., 0, 0, 0]),\n",
       " array([0, 0, 0, ..., 0, 0, 0]),\n",
       " array([0, 0, 0, ..., 0, 0, 0]),\n",
       " array([0, 0, 0, ..., 0, 0, 0]),\n",
       " array([0, 0, 0, ..., 0, 0, 0]),\n",
       " array([0, 0, 0, ..., 0, 0, 0]),\n",
       " array([0, 0, 0, ..., 0, 0, 0]),\n",
       " array([0, 0, 0, ..., 0, 0, 0]),\n",
       " array([0, 0, 0, ..., 0, 0, 0]),\n",
       " array([0, 0, 0, ..., 0, 0, 0]),\n",
       " array([0, 0, 0, ..., 0, 0, 0]),\n",
       " array([0, 0, 0, ..., 0, 0, 0]),\n",
       " array([0, 0, 0, ..., 0, 0, 0]),\n",
       " array([0, 0, 0, ..., 0, 0, 0]),\n",
       " array([0, 0, 0, ..., 0, 0, 0]),\n",
       " array([0, 0, 0, ..., 0, 0, 0]),\n",
       " array([0, 0, 0, ..., 0, 0, 0]),\n",
       " array([0, 0, 0, ..., 0, 0, 0]),\n",
       " array([0, 0, 0, ..., 0, 0, 0]),\n",
       " array([0, 0, 0, ..., 0, 0, 0]),\n",
       " array([0, 0, 0, ..., 0, 0, 0]),\n",
       " array([0, 0, 0, ..., 0, 0, 0]),\n",
       " array([0, 0, 0, ..., 0, 0, 0]),\n",
       " array([0, 0, 0, ..., 0, 0, 0]),\n",
       " array([0, 0, 0, ..., 0, 0, 0]),\n",
       " array([0, 0, 0, ..., 0, 0, 0]),\n",
       " array([0, 0, 0, ..., 0, 0, 0]),\n",
       " array([0, 0, 0, ..., 0, 0, 0]),\n",
       " array([0, 0, 0, ..., 0, 0, 0]),\n",
       " array([0, 0, 0, ..., 0, 0, 0]),\n",
       " array([0, 0, 0, ..., 0, 0, 0]),\n",
       " array([0, 0, 0, ..., 0, 0, 0]),\n",
       " array([0, 0, 0, ..., 0, 0, 0]),\n",
       " array([0, 0, 0, ..., 0, 0, 0]),\n",
       " array([0, 0, 0, ..., 0, 0, 0]),\n",
       " array([0, 0, 0, ..., 0, 0, 0]),\n",
       " array([0, 0, 0, ..., 0, 0, 0]),\n",
       " array([0, 0, 0, ..., 0, 0, 0]),\n",
       " array([0, 0, 0, ..., 0, 0, 0]),\n",
       " array([0, 0, 0, ..., 0, 0, 0]),\n",
       " array([0, 0, 0, ..., 0, 0, 0]),\n",
       " array([0, 0, 0, ..., 0, 0, 0]),\n",
       " array([0, 0, 0, ..., 0, 0, 0]),\n",
       " array([0, 0, 0, ..., 0, 0, 0]),\n",
       " array([0, 0, 0, ..., 0, 0, 0]),\n",
       " array([0, 0, 0, ..., 0, 0, 0]),\n",
       " array([0, 0, 0, ..., 0, 0, 0]),\n",
       " array([0, 0, 0, ..., 0, 0, 0]),\n",
       " array([0, 0, 0, ..., 0, 0, 0]),\n",
       " array([0, 0, 0, ..., 0, 0, 0]),\n",
       " array([0, 0, 0, ..., 0, 0, 0]),\n",
       " array([0, 0, 0, ..., 0, 0, 0]),\n",
       " array([0, 0, 0, ..., 0, 0, 0]),\n",
       " array([0, 0, 0, ..., 0, 0, 0]),\n",
       " array([0, 0, 0, ..., 0, 0, 0]),\n",
       " array([0, 0, 0, ..., 0, 0, 0]),\n",
       " array([0, 0, 0, ..., 0, 0, 0]),\n",
       " array([0, 0, 0, ..., 0, 0, 0]),\n",
       " array([0, 0, 0, ..., 0, 0, 0]),\n",
       " array([0, 0, 0, ..., 0, 0, 0]),\n",
       " array([0, 0, 0, ..., 0, 0, 0]),\n",
       " array([0, 0, 0, ..., 0, 0, 0]),\n",
       " array([0, 0, 0, ..., 0, 0, 0]),\n",
       " array([0, 0, 0, ..., 0, 0, 0]),\n",
       " array([0, 0, 0, ..., 0, 0, 0]),\n",
       " array([0, 0, 0, ..., 0, 0, 0]),\n",
       " array([0, 0, 0, ..., 0, 0, 0]),\n",
       " array([0, 0, 0, ..., 0, 0, 0]),\n",
       " array([0, 0, 0, ..., 0, 0, 0]),\n",
       " array([0, 0, 0, ..., 0, 0, 0]),\n",
       " array([0, 0, 0, ..., 0, 0, 0]),\n",
       " array([0, 0, 0, ..., 0, 0, 0]),\n",
       " array([0, 0, 0, ..., 0, 0, 0]),\n",
       " array([0, 0, 0, ..., 0, 0, 0]),\n",
       " array([0, 0, 0, ..., 0, 0, 0]),\n",
       " array([0, 0, 0, ..., 0, 0, 0]),\n",
       " array([0, 0, 0, ..., 0, 0, 0]),\n",
       " array([0, 0, 0, ..., 0, 0, 0]),\n",
       " array([0, 0, 0, ..., 0, 0, 0]),\n",
       " array([0, 0, 0, ..., 0, 0, 0]),\n",
       " array([0, 0, 0, ..., 0, 0, 0]),\n",
       " array([0, 0, 0, ..., 0, 0, 0]),\n",
       " array([0, 0, 0, ..., 0, 0, 0]),\n",
       " array([ 0,  0,  0, ..., 98,  0,  0]),\n",
       " array([ 0,  0,  0, ..., 98,  0,  0]),\n",
       " array([ 0,  0,  0, ..., 98,  0,  0]),\n",
       " array([ 0,  0,  0, ..., 98, 98,  0]),\n",
       " array([ 0,  0,  0, ..., 98, 98,  0]),\n",
       " array([ 0,  0,  0, ..., 98, 98,  0]),\n",
       " array([ 0,  0,  0, ..., 98, 98, 98]),\n",
       " array([ 0,  0,  0, ..., 98, 98, 98]),\n",
       " array([ 0,  0,  0, ..., 98, 98, 98]),\n",
       " array([ 0,  0,  0, ..., 98, 98, 98]),\n",
       " array([ 0,  0,  0, ..., 98, 98, 98]),\n",
       " array([ 0,  0,  0, ..., 98, 98, 98]),\n",
       " array([ 0,  0,  0, ..., 98, 98, 98]),\n",
       " array([ 0,  0,  0, ..., 98, 98, 98]),\n",
       " array([ 0,  0,  0, ..., 98, 98, 98]),\n",
       " array([ 0,  0,  0, ..., 98, 98, 98]),\n",
       " array([ 0,  0,  0, ..., 98, 98,  0]),\n",
       " array([ 0,  0,  0, ..., 98, 98,  0]),\n",
       " array([ 0,  0,  0, ..., 98, 98,  0]),\n",
       " array([ 0,  0,  0, ..., 98,  0,  0]),\n",
       " array([0, 0, 0, ..., 0, 0, 0]),\n",
       " array([0, 0, 0, ..., 0, 0, 0]),\n",
       " array([0, 0, 0, ..., 0, 0, 0]),\n",
       " array([0, 0, 0, ..., 0, 0, 0]),\n",
       " array([0, 0, 0, ..., 0, 0, 0]),\n",
       " array([0, 0, 0, ..., 0, 0, 0]),\n",
       " array([0, 0, 0, ..., 0, 0, 0]),\n",
       " array([0, 0, 0, ..., 0, 0, 0]),\n",
       " array([  0,   0,   0, ..., 111,   0,   0]),\n",
       " array([  0,   0,   0, ..., 111, 111,   0]),\n",
       " array([  0,   0,   0, ..., 111, 111, 111]),\n",
       " array([  0,   0,   0, ..., 111, 111, 111]),\n",
       " array([  0,   0,   0, ..., 111, 111, 111]),\n",
       " array([  0,   0,   0, ..., 111, 111, 111]),\n",
       " array([  0,   0,   0, ..., 111, 111, 111]),\n",
       " array([  0,   0,   0, ..., 111, 111, 111]),\n",
       " array([  0,   0,   0, ..., 111, 111, 111]),\n",
       " array([  0,   0,   0, ..., 111, 111, 111]),\n",
       " array([  0,   0,   0, ..., 111, 111, 111]),\n",
       " array([  0,   0,   0, ..., 111, 111, 111]),\n",
       " array([  0,   0,   0, ..., 111, 111, 111]),\n",
       " array([  0,   0,   0, ..., 111, 111, 111]),\n",
       " array([  0,   0,   0, ..., 111, 111, 111]),\n",
       " array([  0,   0,   0, ..., 111, 111, 111]),\n",
       " array([  0,   0,   0, ..., 111, 111, 111]),\n",
       " array([  0,   0,   0, ..., 111, 111, 111]),\n",
       " array([  0,   0,   0, ..., 111, 111, 111]),\n",
       " array([  0,   0,   0, ..., 111, 111, 111]),\n",
       " array([  0,   0,   0, ..., 111, 111, 111]),\n",
       " array([  0,   0,   0, ..., 111, 111, 111]),\n",
       " array([  0,   0,   0, ..., 111, 111, 111]),\n",
       " array([  0,   0,   0, ..., 111, 111, 111]),\n",
       " array([  0,   0,   0, ..., 111, 111, 111]),\n",
       " array([  0,   0,   0, ..., 111, 111, 111]),\n",
       " array([  0,   0,   0, ..., 111, 111, 111]),\n",
       " array([  0,   0,   0, ..., 111, 111, 111]),\n",
       " array([  0,   0,   0, ..., 111, 111, 111]),\n",
       " array([  0,   0,   0, ..., 111, 111, 111]),\n",
       " array([  0,   0,   0, ..., 111, 111, 111]),\n",
       " array([  0,   0,   0, ..., 111, 111,   0]),\n",
       " array([  0,   0,   0, ..., 111,   0,   0]),\n",
       " array([0, 0, 0, ..., 0, 0, 0]),\n",
       " array([0, 0, 0, ..., 0, 0, 0]),\n",
       " array([0, 0, 0, ..., 0, 0, 0]),\n",
       " array([0, 0, 0, ..., 0, 0, 0]),\n",
       " array([0, 0, 0, ..., 0, 0, 0]),\n",
       " array([0, 0, 0, ..., 0, 0, 0]),\n",
       " array([0, 0, 0, ..., 0, 0, 0]),\n",
       " array([0, 0, 0, ..., 0, 0, 0]),\n",
       " array([0, 0, 0, ..., 0, 0, 0]),\n",
       " array([0, 0, 0, ..., 0, 0, 0]),\n",
       " array([0, 0, 0, ..., 0, 0, 0]),\n",
       " array([0, 0, 0, ..., 0, 0, 0]),\n",
       " array([0, 0, 0, ..., 0, 0, 0]),\n",
       " array([0, 0, 0, ..., 0, 0, 0]),\n",
       " array([0, 0, 0, ..., 0, 0, 0]),\n",
       " array([0, 0, 0, ..., 0, 0, 0]),\n",
       " array([0, 0, 0, ..., 0, 0, 0]),\n",
       " array([0, 0, 0, ..., 0, 0, 0]),\n",
       " array([0, 0, 0, ..., 0, 0, 0]),\n",
       " array([0, 0, 0, ..., 0, 0, 0]),\n",
       " array([0, 0, 0, ..., 0, 0, 0]),\n",
       " array([0, 0, 0, ..., 0, 0, 0]),\n",
       " array([0, 0, 0, ..., 0, 0, 0]),\n",
       " array([136, 136, 136, ...,   0,   0,   0]),\n",
       " array([136, 136, 136, ...,   0,   0,   0]),\n",
       " array([136, 136, 136, ...,   0,   0,   0]),\n",
       " array([136, 136, 136, ...,   0,   0,   0]),\n",
       " array([136, 136, 136, ...,   0,   0,   0]),\n",
       " array([136, 136, 136, ...,   0,   0,   0]),\n",
       " array([136, 136, 136, ...,   0,   0,   0]),\n",
       " array([136, 136, 136, ...,   0,   0,   0]),\n",
       " array([136, 136, 136, ...,   0,   0,   0]),\n",
       " array([136, 136, 136, ...,   0,   0,   0]),\n",
       " array([136, 136, 136, ...,   0,   0,   0]),\n",
       " array([136, 136, 136, ...,   0,   0,   0]),\n",
       " array([136, 136, 136, ...,   0,   0,   0]),\n",
       " array([136, 136, 136, ...,   0,   0,   0]),\n",
       " array([136, 136, 136, ...,   0,   0,   0]),\n",
       " array([  0, 136,   0, ...,   0,   0,   0]),\n",
       " array([0, 0, 0, ..., 0, 0, 0]),\n",
       " array([0, 0, 0, ..., 0, 0, 0]),\n",
       " array([0, 0, 0, ..., 0, 0, 0]),\n",
       " array([0, 0, 0, ..., 0, 0, 0]),\n",
       " array([0, 0, 0, ..., 0, 0, 0]),\n",
       " array([0, 0, 0, ..., 0, 0, 0]),\n",
       " array([0, 0, 0, ..., 0, 0, 0]),\n",
       " array([0, 0, 0, ..., 0, 0, 0]),\n",
       " array([0, 0, 0, ..., 0, 0, 0]),\n",
       " array([0, 0, 0, ..., 0, 0, 0]),\n",
       " array([0, 0, 0, ..., 0, 0, 0]),\n",
       " array([0, 0, 0, ..., 0, 0, 0]),\n",
       " array([0, 0, 0, ..., 0, 0, 0]),\n",
       " array([0, 0, 0, ..., 0, 0, 0]),\n",
       " array([0, 0, 0, ..., 0, 0, 0]),\n",
       " array([0, 0, 0, ..., 0, 0, 0]),\n",
       " array([0, 0, 0, ..., 0, 0, 0]),\n",
       " array([0, 0, 0, ..., 0, 0, 0]),\n",
       " array([0, 0, 0, ..., 0, 0, 0]),\n",
       " array([0, 0, 0, ..., 0, 0, 0]),\n",
       " array([0, 0, 0, ..., 0, 0, 0]),\n",
       " array([0, 0, 0, ..., 0, 0, 0]),\n",
       " array([0, 0, 0, ..., 0, 0, 0]),\n",
       " array([0, 0, 0, ..., 0, 0, 0]),\n",
       " array([0, 0, 0, ..., 0, 0, 0]),\n",
       " array([0, 0, 0, ..., 0, 0, 0]),\n",
       " array([0, 0, 0, ..., 0, 0, 0]),\n",
       " array([0, 0, 0, ..., 0, 0, 0]),\n",
       " array([0, 0, 0, ..., 0, 0, 0]),\n",
       " array([0, 0, 0, ..., 0, 0, 0]),\n",
       " array([0, 0, 0, ..., 0, 0, 0]),\n",
       " array([0, 0, 0, ..., 0, 0, 0]),\n",
       " array([0, 0, 0, ..., 0, 0, 0]),\n",
       " array([0, 0, 0, ..., 0, 0, 0]),\n",
       " array([0, 0, 0, ..., 0, 0, 0]),\n",
       " array([0, 0, 0, ..., 0, 0, 0]),\n",
       " array([0, 0, 0, ..., 0, 0, 0]),\n",
       " array([  0,   0, 150, ...,   0,   0,   0]),\n",
       " array([  0,   0, 150, ...,   0,   0,   0]),\n",
       " array([  0,   0, 150, ...,   0,   0,   0]),\n",
       " array([  0,   0, 150, ...,   0,   0,   0]),\n",
       " array([  0,   0, 150, ...,   0,   0,   0]),\n",
       " array([0, 0, 0, ..., 0, 0, 0]),\n",
       " array([0, 0, 0, ..., 0, 0, 0]),\n",
       " array([0, 0, 0, ..., 0, 0, 0]),\n",
       " array([0, 0, 0, ..., 0, 0, 0]),\n",
       " array([0, 0, 0, ..., 0, 0, 0]),\n",
       " array([0, 0, 0, ..., 0, 0, 0]),\n",
       " array([0, 0, 0, ..., 0, 0, 0]),\n",
       " array([0, 0, 0, ..., 0, 0, 0]),\n",
       " array([0, 0, 0, ..., 0, 0, 0]),\n",
       " array([0, 0, 0, ..., 0, 0, 0]),\n",
       " array([0, 0, 0, ..., 0, 0, 0]),\n",
       " array([0, 0, 0, ..., 0, 0, 0]),\n",
       " array([0, 0, 0, ..., 0, 0, 0]),\n",
       " array([0, 0, 0, ..., 0, 0, 0]),\n",
       " array([0, 0, 0, ..., 0, 0, 0]),\n",
       " array([0, 0, 0, ..., 0, 0, 0]),\n",
       " array([0, 0, 0, ..., 0, 0, 0]),\n",
       " array([0, 0, 0, ..., 0, 0, 0]),\n",
       " array([0, 0, 0, ..., 0, 0, 0]),\n",
       " array([0, 0, 0, ..., 0, 0, 0]),\n",
       " array([0, 0, 0, ..., 0, 0, 0]),\n",
       " array([0, 0, 0, ..., 0, 0, 0]),\n",
       " array([0, 0, 0, ..., 0, 0, 0]),\n",
       " array([0, 0, 0, ..., 0, 0, 0]),\n",
       " array([0, 0, 0, ..., 0, 0, 0]),\n",
       " array([0, 0, 0, ..., 0, 0, 0]),\n",
       " array([0, 0, 0, ..., 0, 0, 0]),\n",
       " array([0, 0, 0, ..., 0, 0, 0]),\n",
       " array([0, 0, 0, ..., 0, 0, 0]),\n",
       " array([0, 0, 0, ..., 0, 0, 0]),\n",
       " array([0, 0, 0, ..., 0, 0, 0]),\n",
       " array([0, 0, 0, ..., 0, 0, 0]),\n",
       " array([0, 0, 0, ..., 0, 0, 0]),\n",
       " array([0, 0, 0, ..., 0, 0, 0]),\n",
       " array([0, 0, 0, ..., 0, 0, 0]),\n",
       " array([0, 0, 0, ..., 0, 0, 0]),\n",
       " array([0, 0, 0, ..., 0, 0, 0]),\n",
       " array([0, 0, 0, ..., 0, 0, 0]),\n",
       " array([0, 0, 0, ..., 0, 0, 0]),\n",
       " array([0, 0, 0, ..., 0, 0, 0]),\n",
       " array([0, 0, 0, ..., 0, 0, 0]),\n",
       " array([0, 0, 0, ..., 0, 0, 0]),\n",
       " array([0, 0, 0, ..., 0, 0, 0]),\n",
       " array([0, 0, 0, ..., 0, 0, 0]),\n",
       " array([0, 0, 0, ..., 0, 0, 0]),\n",
       " array([0, 0, 0, ..., 0, 0, 0]),\n",
       " array([0, 0, 0, ..., 0, 0, 0]),\n",
       " array([0, 0, 0, ..., 0, 0, 0]),\n",
       " array([0, 0, 0, ..., 0, 0, 0]),\n",
       " array([0, 0, 0, ..., 0, 0, 0]),\n",
       " array([0, 0, 0, ..., 0, 0, 0]),\n",
       " array([0, 0, 0, ..., 0, 0, 0]),\n",
       " array([0, 0, 0, ..., 0, 0, 0]),\n",
       " array([0, 0, 0, ..., 0, 0, 0]),\n",
       " array([0, 0, 0, ..., 0, 0, 0]),\n",
       " array([0, 0, 0, ..., 0, 0, 0]),\n",
       " array([0, 0, 0, ..., 0, 0, 0]),\n",
       " array([0, 0, 0, ..., 0, 0, 0]),\n",
       " array([0, 0, 0, ..., 0, 0, 0]),\n",
       " array([  0,   0,   0, ..., 193, 193,   0]),\n",
       " array([  0,   0,   0, ..., 193, 193,   0]),\n",
       " array([  0,   0,   0, ..., 193, 193,   0]),\n",
       " array([  0,   0,   0, ..., 193, 193, 193]),\n",
       " array([  0,   0,   0, ..., 193, 193, 193]),\n",
       " array([  0,   0,   0, ..., 193, 193, 193]),\n",
       " array([  0,   0,   0, ..., 193, 193, 193]),\n",
       " array([  0,   0,   0, ..., 193, 193, 193]),\n",
       " array([  0,   0,   0, ..., 193, 193, 193]),\n",
       " array([  0,   0,   0, ..., 193, 193, 193]),\n",
       " array([  0,   0,   0, ..., 193, 193, 193]),\n",
       " array([  0,   0,   0, ..., 193, 193, 193]),\n",
       " array([  0,   0,   0, ..., 193, 193, 193]),\n",
       " array([  0,   0,   0, ..., 193, 193, 193]),\n",
       " array([  0,   0,   0, ..., 193, 193, 193]),\n",
       " array([  0,   0,   0, ..., 193, 193, 193]),\n",
       " array([  0,   0,   0, ..., 193, 193, 193]),\n",
       " array([  0,   0,   0, ..., 193, 193, 193]),\n",
       " array([  0,   0,   0, ..., 193, 193, 193]),\n",
       " array([  0,   0,   0, ..., 193, 193, 193]),\n",
       " array([  0,   0,   0, ..., 193, 193, 193]),\n",
       " array([  0,   0,   0, ..., 193, 193, 193]),\n",
       " array([  0,   0,   0, ..., 193, 193, 193]),\n",
       " array([  0,   0,   0, ..., 193, 193, 193]),\n",
       " array([  0,   0,   0, ..., 193, 193, 193]),\n",
       " array([  0,   0,   0, ..., 193, 193, 193]),\n",
       " array([  0,   0,   0, ..., 193, 193, 193]),\n",
       " array([  0,   0,   0, ..., 193, 193, 193]),\n",
       " array([  0,   0,   0, ..., 193, 193, 193]),\n",
       " array([  0,   0,   0, ..., 193, 193, 193]),\n",
       " array([  0,   0,   0, ..., 193, 193, 193]),\n",
       " array([  0,   0,   0, ..., 193, 193, 193]),\n",
       " array([  0,   0,   0, ..., 193, 193, 193]),\n",
       " array([  0,   0, 213, ..., 193, 193, 193]),\n",
       " array([  0, 213, 213, ..., 193, 193, 193]),\n",
       " array([  0, 213, 213, ..., 193, 193, 193]),\n",
       " array([  0, 213, 213, ..., 193, 193, 193]),\n",
       " array([213, 213, 213, ..., 193, 193, 193]),\n",
       " array([213, 213, 213, ..., 193, 193,   0]),\n",
       " array([213, 213, 213, ..., 193, 193,   0]),\n",
       " array([213, 213, 213, ..., 193, 193,   0]),\n",
       " array([213, 213, 213, ..., 193, 193,   0]),\n",
       " array([213, 213, 213, ...,   0,   0,   0]),\n",
       " array([213, 213, 213, ...,   0,   0,   0]),\n",
       " array([213, 213, 213, ...,   0,   0,   0]),\n",
       " array([213, 213, 213, ...,   0,   0,   0]),\n",
       " array([213, 213, 213, ...,   0,   0,   0]),\n",
       " array([213, 213, 213, ...,   0,   0,   0]),\n",
       " array([213, 213, 213, ...,   0,   0,   0]),\n",
       " array([213, 213, 213, ...,   0,   0,   0]),\n",
       " array([213, 213, 213, ...,   0,   0,   0]),\n",
       " array([213, 213, 213, ...,   0,   0,   0]),\n",
       " array([213, 213, 213, ...,   0,   0,   0]),\n",
       " array([213, 213, 213, ...,   0,   0,   0]),\n",
       " array([213, 213, 213, ...,   0,   0,   0]),\n",
       " array([213, 213, 213, ...,   0,   0,   0]),\n",
       " array([213, 213, 213, ...,   0,   0,   0]),\n",
       " array([213, 213, 213, ...,   0,   0,   0]),\n",
       " array([213, 213, 213, ...,   0,   0,   0]),\n",
       " array([213, 213, 213, ...,   0,   0,   0]),\n",
       " array([213, 213, 213, ...,   0,   0,   0]),\n",
       " array([213, 213, 213, ...,   0,   0,   0]),\n",
       " array([213, 213, 213, ...,   0,   0,   0]),\n",
       " array([213, 213, 213, ...,   0,   0,   0]),\n",
       " array([213, 213, 213, ...,   0,   0,   0]),\n",
       " array([213, 213, 213, ...,   0,   0,   0]),\n",
       " array([213, 213, 213, ...,   0,   0,   0]),\n",
       " array([213, 213, 213, ...,   0,   0,   0]),\n",
       " array([213, 213, 213, ...,   0,   0,   0]),\n",
       " array([213, 213, 213, ...,   0,   0,   0]),\n",
       " array([  0, 213, 213, ...,   0,   0,   0]),\n",
       " array([  0, 213, 213, ...,   0,   0,   0]),\n",
       " array([  0, 213, 213, ...,   0,   0,   0]),\n",
       " array([0, 0, 0, ..., 0, 0, 0]),\n",
       " array([0, 0, 0, ..., 0, 0, 0]),\n",
       " array([0, 0, 0, ..., 0, 0, 0]),\n",
       " array([0, 0, 0, ..., 0, 0, 0]),\n",
       " array([0, 0, 0, ..., 0, 0, 0]),\n",
       " array([0, 0, 0, ..., 0, 0, 0]),\n",
       " array([0, 0, 0, ..., 0, 0, 0]),\n",
       " array([0, 0, 0, ..., 0, 0, 0]),\n",
       " array([0, 0, 0, ..., 0, 0, 0]),\n",
       " array([0, 0, 0, ..., 0, 0, 0]),\n",
       " array([0, 0, 0, ..., 0, 0, 0]),\n",
       " array([0, 0, 0, ..., 0, 0, 0]),\n",
       " array([0, 0, 0, ..., 0, 0, 0]),\n",
       " array([0, 0, 0, ..., 0, 0, 0]),\n",
       " array([0, 0, 0, ..., 0, 0, 0]),\n",
       " array([0, 0, 0, ..., 0, 0, 0]),\n",
       " array([0, 0, 0, ..., 0, 0, 0]),\n",
       " array([0, 0, 0, ..., 0, 0, 0]),\n",
       " array([0, 0, 0, ..., 0, 0, 0]),\n",
       " array([0, 0, 0, ..., 0, 0, 0]),\n",
       " array([0, 0, 0, ..., 0, 0, 0]),\n",
       " array([0, 0, 0, ..., 0, 0, 0]),\n",
       " array([0, 0, 0, ..., 0, 0, 0]),\n",
       " array([0, 0, 0, ..., 0, 0, 0]),\n",
       " array([0, 0, 0, ..., 0, 0, 0]),\n",
       " array([0, 0, 0, ..., 0, 0, 0]),\n",
       " array([0, 0, 0, ..., 0, 0, 0]),\n",
       " array([0, 0, 0, ..., 0, 0, 0]),\n",
       " array([0, 0, 0, ..., 0, 0, 0]),\n",
       " array([0, 0, 0, ..., 0, 0, 0]),\n",
       " array([0, 0, 0, ..., 0, 0, 0]),\n",
       " array([0, 0, 0, ..., 0, 0, 0]),\n",
       " array([0, 0, 0, ..., 0, 0, 0]),\n",
       " array([0, 0, 0, ..., 0, 0, 0]),\n",
       " array([0, 0, 0, ..., 0, 0, 0]),\n",
       " array([0, 0, 0, ..., 0, 0, 0]),\n",
       " array([0, 0, 0, ..., 0, 0, 0]),\n",
       " array([0, 0, 0, ..., 0, 0, 0]),\n",
       " array([0, 0, 0, ..., 0, 0, 0]),\n",
       " array([0, 0, 0, ..., 0, 0, 0]),\n",
       " array([0, 0, 0, ..., 0, 0, 0]),\n",
       " array([0, 0, 0, ..., 0, 0, 0]),\n",
       " array([0, 0, 0, ..., 0, 0, 0]),\n",
       " array([0, 0, 0, ..., 0, 0, 0]),\n",
       " array([0, 0, 0, ..., 0, 0, 0]),\n",
       " array([0, 0, 0, ..., 0, 0, 0]),\n",
       " array([0, 0, 0, ..., 0, 0, 0]),\n",
       " array([0, 0, 0, ..., 0, 0, 0]),\n",
       " array([0, 0, 0, ..., 0, 0, 0]),\n",
       " array([0, 0, 0, ..., 0, 0, 0]),\n",
       " array([0, 0, 0, ..., 0, 0, 0]),\n",
       " array([0, 0, 0, ..., 0, 0, 0]),\n",
       " array([0, 0, 0, ..., 0, 0, 0]),\n",
       " array([  0,   0,   0, ..., 253, 253,   0]),\n",
       " array([  0,   0,   0, ..., 253, 253, 253]),\n",
       " array([  0,   0,   0, ..., 253, 253, 253]),\n",
       " array([  0,   0,   0, ..., 253, 253, 253]),\n",
       " array([  0,   0,   0, ..., 253, 253, 253]),\n",
       " array([  0,   0,   0, ..., 253, 253, 253]),\n",
       " array([  0,   0,   0, ..., 253, 253, 253]),\n",
       " array([  0,   0,   0, ..., 253, 253, 253]),\n",
       " array([  0,   0,   0, ..., 253, 253, 253]),\n",
       " array([  0,   0,   0, ..., 253, 253, 253]),\n",
       " array([  0,   0,   0, ..., 253, 253, 253]),\n",
       " array([  0,   0,   0, ..., 253, 253, 253]),\n",
       " array([  0,   0,   0, ..., 253, 253, 253]),\n",
       " array([  0,   0,   0, ..., 253, 253, 253]),\n",
       " array([  0,   0,   0, ..., 253, 253, 253]),\n",
       " array([  0,   0,   0, ..., 253, 253, 253]),\n",
       " array([  0,   0,   0, ..., 253, 253, 253]),\n",
       " array([  0,   0,   0, ..., 253, 253, 253]),\n",
       " array([  0,   0,   0, ..., 253, 253, 253]),\n",
       " array([  0,   0,   0, ..., 253, 253, 253]),\n",
       " array([  0,   0,   0, ..., 253, 253, 253]),\n",
       " array([  0,   0,   0, ..., 253, 253, 253]),\n",
       " array([  0,   0,   0, ..., 253, 253, 253]),\n",
       " array([  0,   0,   0, ..., 253, 253, 253]),\n",
       " array([  0,   0,   0, ..., 253, 253, 253]),\n",
       " array([  0,   0,   0, ..., 253, 253, 253]),\n",
       " array([  0,   0,   0, ..., 253, 253, 253]),\n",
       " array([  0,   0,   0, ..., 253, 253, 253]),\n",
       " array([  0,   0,   0, ..., 253, 253, 253]),\n",
       " array([  0,   0,   0, ..., 253, 253, 253]),\n",
       " array([0, 0, 0, ..., 0, 0, 0]),\n",
       " array([0, 0, 0, ..., 0, 0, 0]),\n",
       " array([0, 0, 0, ..., 0, 0, 0]),\n",
       " array([0, 0, 0, ..., 0, 0, 0]),\n",
       " array([0, 0, 0, ..., 0, 0, 0]),\n",
       " array([0, 0, 0, ..., 0, 0, 0]),\n",
       " array([0, 0, 0, ..., 0, 0, 0]),\n",
       " array([0, 0, 0, ..., 0, 0, 0]),\n",
       " array([0, 0, 0, ..., 0, 0, 0]),\n",
       " array([0, 0, 0, ..., 0, 0, 0]),\n",
       " array([0, 0, 0, ..., 0, 0, 0]),\n",
       " array([0, 0, 0, ..., 0, 0, 0]),\n",
       " array([0, 0, 0, ..., 0, 0, 0]),\n",
       " array([0, 0, 0, ..., 0, 0, 0]),\n",
       " array([0, 0, 0, ..., 0, 0, 0]),\n",
       " array([0, 0, 0, ..., 0, 0, 0]),\n",
       " array([0, 0, 0, ..., 0, 0, 0]),\n",
       " array([0, 0, 0, ..., 0, 0, 0]),\n",
       " array([0, 0, 0, ..., 0, 0, 0]),\n",
       " array([0, 0, 0, ..., 0, 0, 0]),\n",
       " array([0, 0, 0, ..., 0, 0, 0]),\n",
       " array([0, 0, 0, ..., 0, 0, 0]),\n",
       " array([0, 0, 0, ..., 0, 0, 0]),\n",
       " array([0, 0, 0, ..., 0, 0, 0]),\n",
       " array([0, 0, 0, ..., 0, 0, 0]),\n",
       " array([0, 0, 0, ..., 0, 0, 0]),\n",
       " array([0, 0, 0, ..., 0, 0, 0]),\n",
       " array([0, 0, 0, ..., 0, 0, 0]),\n",
       " array([0, 0, 0, ..., 0, 0, 0]),\n",
       " array([0, 0, 0, ..., 0, 0, 0]),\n",
       " array([0, 0, 0, ..., 0, 0, 0]),\n",
       " array([0, 0, 0, ..., 0, 0, 0]),\n",
       " array([  0, 283,   0, ...,   0,   0,   0]),\n",
       " array([283, 283, 283, ...,   0,   0,   0]),\n",
       " array([283, 283, 283, ...,   0,   0,   0]),\n",
       " array([283, 283, 283, ...,   0,   0,   0]),\n",
       " array([283, 283, 283, ...,   0,   0,   0]),\n",
       " array([283, 283, 283, ...,   0,   0,   0]),\n",
       " array([283, 283, 283, ...,   0,   0,   0]),\n",
       " array([283, 283, 283, ...,   0,   0,   0]),\n",
       " array([283, 283, 283, ...,   0,   0,   0]),\n",
       " array([283, 283, 283, ...,   0,   0,   0]),\n",
       " array([283, 283, 283, ...,   0,   0,   0]),\n",
       " array([283, 283, 283, ...,   0,   0,   0]),\n",
       " array([283, 283, 283, ...,   0,   0,   0]),\n",
       " array([283, 283, 283, ...,   0,   0,   0]),\n",
       " array([283, 283, 283, ...,   0,   0,   0]),\n",
       " array([283, 283, 283, ...,   0,   0,   0]),\n",
       " array([283, 283, 283, ...,   0,   0,   0]),\n",
       " array([283, 283, 283, ...,   0,   0,   0]),\n",
       " array([283, 283, 283, ...,   0,   0,   0]),\n",
       " array([283, 283, 283, ...,   0,   0,   0]),\n",
       " array([283, 283, 283, ...,   0,   0,   0]),\n",
       " array([283, 283, 283, ...,   0,   0,   0]),\n",
       " array([283, 283, 283, ...,   0,   0,   0]),\n",
       " array([283, 283, 283, ...,   0,   0,   0]),\n",
       " array([283, 283, 283, ...,   0,   0,   0]),\n",
       " array([283, 283, 283, ...,   0,   0,   0]),\n",
       " array([  0, 283, 283, ...,   0,   0,   0]),\n",
       " array([0, 0, 0, ..., 0, 0, 0]),\n",
       " array([0, 0, 0, ..., 0, 0, 0]),\n",
       " array([0, 0, 0, ..., 0, 0, 0]),\n",
       " array([0, 0, 0, ..., 0, 0, 0]),\n",
       " array([0, 0, 0, ..., 0, 0, 0]),\n",
       " array([0, 0, 0, ..., 0, 0, 0]),\n",
       " array([  0,   0,   0, ..., 299,   0,   0]),\n",
       " array([  0,   0,   0, ..., 299, 299,   0]),\n",
       " array([  0,   0,   0, ..., 299, 299,   0]),\n",
       " array([  0,   0,   0, ..., 299, 299,   0]),\n",
       " array([  0,   0,   0, ..., 299, 299, 299]),\n",
       " array([  0,   0,   0, ..., 299, 299, 299]),\n",
       " array([  0,   0,   0, ..., 299, 299, 299]),\n",
       " array([  0,   0,   0, ..., 299, 299, 299]),\n",
       " array([  0,   0,   0, ..., 299, 299, 299]),\n",
       " array([  0,   0,   0, ..., 299, 299, 299]),\n",
       " array([  0,   0,   0, ..., 299, 299, 299]),\n",
       " array([  0,   0,   0, ..., 299, 299, 299]),\n",
       " array([  0,   0,   0, ..., 299, 299, 299]),\n",
       " array([  0,   0,   0, ..., 299, 299, 299]),\n",
       " array([  0,   0,   0, ..., 299, 299, 299]),\n",
       " array([  0,   0,   0, ..., 299, 299, 299]),\n",
       " array([  0,   0,   0, ..., 299, 299, 299]),\n",
       " array([  0,   0,   0, ..., 299, 299, 299]),\n",
       " array([  0,   0,   0, ..., 299, 299, 299]),\n",
       " array([  0,   0,   0, ..., 299, 299, 299]),\n",
       " array([  0,   0,   0, ..., 299, 299, 299]),\n",
       " array([  0,   0,   0, ..., 299, 299, 299]),\n",
       " array([  0,   0,   0, ..., 299, 299, 299]),\n",
       " array([  0,   0,   0, ..., 299, 299, 299]),\n",
       " array([  0,   0,   0, ..., 299, 299, 299]),\n",
       " array([  0,   0,   0, ..., 299, 299, 299]),\n",
       " array([  0,   0,   0, ..., 299, 299, 299]),\n",
       " array([  0,   0,   0, ..., 299, 299, 299]),\n",
       " array([  0,   0,   0, ..., 299, 299, 299]),\n",
       " array([  0,   0,   0, ..., 299, 299, 299]),\n",
       " array([  0,   0,   0, ..., 299, 299, 299]),\n",
       " array([  0,   0,   0, ..., 299, 299, 299]),\n",
       " array([  0,   0,   0, ..., 299, 299, 299]),\n",
       " array([  0,   0,   0, ..., 299, 299, 299]),\n",
       " array([  0,   0,   0, ..., 299, 299, 299]),\n",
       " array([  0,   0,   0, ..., 299, 299, 299]),\n",
       " array([  0,   0,   0, ..., 299, 299, 299]),\n",
       " array([  0,   0,   0, ..., 299, 299, 299]),\n",
       " array([  0,   0,   0, ..., 299, 299, 299]),\n",
       " array([  0,   0, 302, ..., 299, 299, 299]),\n",
       " array([  0,   0, 302, ..., 299, 299, 299]),\n",
       " array([  0,   0, 302, ..., 299, 299, 299]),\n",
       " array([  0, 302, 302, ..., 299, 299,   0]),\n",
       " array([  0, 302, 302, ..., 299, 299,   0]),\n",
       " array([  0, 302, 302, ..., 299, 299,   0]),\n",
       " array([302, 302, 302, ...,   0, 299,   0]),\n",
       " array([302, 302, 302, ...,   0,   0,   0]),\n",
       " array([302, 302, 302, ...,   0,   0,   0]),\n",
       " array([302, 302, 302, ...,   0,   0,   0]),\n",
       " array([302, 302, 302, ...,   0,   0,   0]),\n",
       " array([302, 302, 302, ...,   0,   0,   0]),\n",
       " array([302, 302, 302, ...,   0,   0,   0]),\n",
       " array([302, 302, 302, ...,   0,   0,   0]),\n",
       " array([302, 302, 302, ...,   0,   0,   0]),\n",
       " array([302, 302, 302, ...,   0,   0,   0]),\n",
       " array([302, 302, 302, ...,   0,   0,   0]),\n",
       " array([302, 302, 302, ...,   0,   0,   0]),\n",
       " array([302, 302, 302, ...,   0,   0,   0]),\n",
       " array([302, 302, 302, ...,   0,   0,   0]),\n",
       " array([302, 302, 302, ...,   0,   0,   0]),\n",
       " array([  0, 302, 302, ...,   0,   0,   0]),\n",
       " array([  0, 302, 302, ...,   0,   0,   0]),\n",
       " array([  0,   0, 302, ...,   0,   0,   0]),\n",
       " array([  0,   0, 302, ...,   0,   0,   0]),\n",
       " array([0, 0, 0, ..., 0, 0, 0]),\n",
       " array([0, 0, 0, ..., 0, 0, 0]),\n",
       " array([0, 0, 0, ..., 0, 0, 0]),\n",
       " array([0, 0, 0, ..., 0, 0, 0]),\n",
       " array([0, 0, 0, ..., 0, 0, 0]),\n",
       " array([0, 0, 0, ..., 0, 0, 0]),\n",
       " array([0, 0, 0, ..., 0, 0, 0]),\n",
       " array([0, 0, 0, ..., 0, 0, 0]),\n",
       " array([0, 0, 0, ..., 0, 0, 0]),\n",
       " array([0, 0, 0, ..., 0, 0, 0]),\n",
       " array([0, 0, 0, ..., 0, 0, 0]),\n",
       " array([0, 0, 0, ..., 0, 0, 0]),\n",
       " array([0, 0, 0, ..., 0, 0, 0]),\n",
       " array([0, 0, 0, ..., 0, 0, 0]),\n",
       " array([0, 0, 0, ..., 0, 0, 0]),\n",
       " array([0, 0, 0, ..., 0, 0, 0]),\n",
       " array([0, 0, 0, ..., 0, 0, 0]),\n",
       " array([0, 0, 0, ..., 0, 0, 0]),\n",
       " array([0, 0, 0, ..., 0, 0, 0]),\n",
       " array([0, 0, 0, ..., 0, 0, 0]),\n",
       " array([0, 0, 0, ..., 0, 0, 0]),\n",
       " array([0, 0, 0, ..., 0, 0, 0]),\n",
       " array([0, 0, 0, ..., 0, 0, 0]),\n",
       " array([0, 0, 0, ..., 0, 0, 0]),\n",
       " array([  0,   0,   0, ..., 336, 336,   0]),\n",
       " array([  0,   0,   0, ..., 336, 336,   0]),\n",
       " array([  0,   0,   0, ..., 336, 336, 336]),\n",
       " array([  0,   0,   0, ..., 336, 336, 336]),\n",
       " array([  0,   0,   0, ..., 336, 336, 336]),\n",
       " array([  0,   0,   0, ..., 336, 336, 336]),\n",
       " array([  0,   0,   0, ..., 336, 336, 336]),\n",
       " array([  0,   0,   0, ..., 336, 336, 336]),\n",
       " array([  0,   0,   0, ..., 336, 336, 336]),\n",
       " array([  0,   0,   0, ..., 336, 336, 336]),\n",
       " array([  0,   0,   0, ..., 336, 336, 336]),\n",
       " array([  0,   0,   0, ..., 336, 336, 336]),\n",
       " array([  0,   0,   0, ..., 336, 336, 336]),\n",
       " array([  0,   0,   0, ..., 336, 336, 336]),\n",
       " array([  0,   0,   0, ..., 336, 336, 336]),\n",
       " array([  0,   0,   0, ..., 336, 336, 336]),\n",
       " array([  0,   0,   0, ..., 336, 336, 336]),\n",
       " array([  0,   0,   0, ..., 336, 336, 336]),\n",
       " array([  0,   0,   0, ..., 336, 336, 336]),\n",
       " array([  0,   0,   0, ..., 336, 336, 336]),\n",
       " array([  0,   0,   0, ..., 336, 336, 336]),\n",
       " array([  0,   0,   0, ..., 336, 336, 336]),\n",
       " array([  0,   0,   0, ..., 336, 336, 336]),\n",
       " array([  0,   0,   0, ..., 336, 336, 336]),\n",
       " array([  0,   0,   0, ..., 336, 336, 336]),\n",
       " array([  0,   0,   0, ..., 336, 336, 336]),\n",
       " array([  0,   0,   0, ..., 336, 336,   0]),\n",
       " array([0, 0, 0, ..., 0, 0, 0]),\n",
       " array([0, 0, 0, ..., 0, 0, 0]),\n",
       " array([0, 0, 0, ..., 0, 0, 0]),\n",
       " array([0, 0, 0, ..., 0, 0, 0]),\n",
       " array([0, 0, 0, ..., 0, 0, 0]),\n",
       " array([0, 0, 0, ..., 0, 0, 0]),\n",
       " array([0, 0, 0, ..., 0, 0, 0]),\n",
       " array([0, 0, 0, ..., 0, 0, 0]),\n",
       " array([0, 0, 0, ..., 0, 0, 0]),\n",
       " array([0, 0, 0, ..., 0, 0, 0]),\n",
       " array([0, 0, 0, ..., 0, 0, 0]),\n",
       " array([0, 0, 0, ..., 0, 0, 0]),\n",
       " array([0, 0, 0, ..., 0, 0, 0]),\n",
       " array([0, 0, 0, ..., 0, 0, 0]),\n",
       " array([0, 0, 0, ..., 0, 0, 0]),\n",
       " array([0, 0, 0, ..., 0, 0, 0]),\n",
       " array([0, 0, 0, ..., 0, 0, 0]),\n",
       " array([0, 0, 0, ..., 0, 0, 0]),\n",
       " array([0, 0, 0, ..., 0, 0, 0]),\n",
       " array([0, 0, 0, ..., 0, 0, 0]),\n",
       " array([0, 0, 0, ..., 0, 0, 0]),\n",
       " array([0, 0, 0, ..., 0, 0, 0]),\n",
       " array([0, 0, 0, ..., 0, 0, 0]),\n",
       " array([0, 0, 0, ..., 0, 0, 0]),\n",
       " array([0, 0, 0, ..., 0, 0, 0]),\n",
       " array([0, 0, 0, ..., 0, 0, 0]),\n",
       " array([0, 0, 0, ..., 0, 0, 0]),\n",
       " array([0, 0, 0, ..., 0, 0, 0]),\n",
       " array([0, 0, 0, ..., 0, 0, 0]),\n",
       " array([0, 0, 0, ..., 0, 0, 0]),\n",
       " array([0, 0, 0, ..., 0, 0, 0]),\n",
       " array([0, 0, 0, ..., 0, 0, 0]),\n",
       " array([0, 0, 0, ..., 0, 0, 0]),\n",
       " array([0, 0, 0, ..., 0, 0, 0]),\n",
       " array([0, 0, 0, ..., 0, 0, 0]),\n",
       " array([0, 0, 0, ..., 0, 0, 0]),\n",
       " array([0, 0, 0, ..., 0, 0, 0]),\n",
       " array([0, 0, 0, ..., 0, 0, 0]),\n",
       " array([0, 0, 0, ..., 0, 0, 0]),\n",
       " array([0, 0, 0, ..., 0, 0, 0]),\n",
       " array([0, 0, 0, ..., 0, 0, 0]),\n",
       " array([0, 0, 0, ..., 0, 0, 0]),\n",
       " array([0, 0, 0, ..., 0, 0, 0]),\n",
       " array([0, 0, 0, ..., 0, 0, 0]),\n",
       " array([0, 0, 0, ..., 0, 0, 0]),\n",
       " array([0, 0, 0, ..., 0, 0, 0]),\n",
       " array([0, 0, 0, ..., 0, 0, 0]),\n",
       " array([0, 0, 0, ..., 0, 0, 0]),\n",
       " array([0, 0, 0, ..., 0, 0, 0]),\n",
       " array([0, 0, 0, ..., 0, 0, 0]),\n",
       " array([0, 0, 0, ..., 0, 0, 0]),\n",
       " array([0, 0, 0, ..., 0, 0, 0]),\n",
       " array([0, 0, 0, ..., 0, 0, 0]),\n",
       " array([0, 0, 0, ..., 0, 0, 0]),\n",
       " array([0, 0, 0, ..., 0, 0, 0]),\n",
       " array([  0,   0,   0, ..., 369, 369,   0]),\n",
       " array([  0,   0,   0, ..., 369, 369, 369]),\n",
       " array([  0,   0,   0, ..., 369, 369, 369]),\n",
       " array([  0,   0,   0, ..., 369, 369, 369]),\n",
       " array([  0,   0,   0, ..., 369, 369, 369]),\n",
       " array([  0,   0,   0, ..., 369, 369, 369]),\n",
       " array([  0,   0,   0, ..., 369, 369, 369]),\n",
       " array([  0,   0,   0, ..., 369, 369, 369]),\n",
       " array([  0,   0,   0, ..., 369, 369, 369]),\n",
       " array([  0,   0,   0, ..., 369, 369, 369]),\n",
       " array([  0,   0,   0, ..., 369, 369, 369]),\n",
       " array([  0,   0,   0, ..., 369, 369, 369]),\n",
       " array([  0,   0,   0, ..., 369, 369, 369]),\n",
       " array([  0,   0,   0, ..., 369, 369, 369]),\n",
       " array([  0,   0,   0, ..., 369, 369, 369]),\n",
       " array([  0,   0,   0, ..., 369, 369, 369]),\n",
       " array([  0,   0,   0, ..., 369, 369, 369]),\n",
       " array([  0,   0,   0, ..., 369, 369, 369]),\n",
       " array([  0,   0,   0, ..., 369, 369, 369]),\n",
       " array([  0,   0,   0, ..., 369, 369, 369]),\n",
       " array([  0,   0,   0, ..., 369, 369, 369]),\n",
       " array([  0,   0,   0, ..., 369, 369, 369]),\n",
       " array([  0,   0,   0, ..., 369, 369, 369]),\n",
       " array([  0,   0,   0, ..., 369, 369, 369]),\n",
       " array([  0,   0,   0, ..., 369, 369, 369]),\n",
       " array([  0,   0,   0, ..., 369, 369, 369]),\n",
       " array([  0,   0,   0, ..., 369, 369,   0]),\n",
       " array([  0,   0,   0, ..., 369,   0,   0]),\n",
       " array([0, 0, 0, ..., 0, 0, 0]),\n",
       " array([0, 0, 0, ..., 0, 0, 0]),\n",
       " array([0, 0, 0, ..., 0, 0, 0]),\n",
       " array([0, 0, 0, ..., 0, 0, 0]),\n",
       " array([0, 0, 0, ..., 0, 0, 0]),\n",
       " array([0, 0, 0, ..., 0, 0, 0]),\n",
       " array([0, 0, 0, ..., 0, 0, 0]),\n",
       " array([0, 0, 0, ..., 0, 0, 0]),\n",
       " array([0, 0, 0, ..., 0, 0, 0]),\n",
       " array([0, 0, 0, ..., 0, 0, 0]),\n",
       " array([0, 0, 0, ..., 0, 0, 0]),\n",
       " array([0, 0, 0, ..., 0, 0, 0]),\n",
       " array([0, 0, 0, ..., 0, 0, 0]),\n",
       " array([0, 0, 0, ..., 0, 0, 0]),\n",
       " array([0, 0, 0, ..., 0, 0, 0]),\n",
       " array([0, 0, 0, ..., 0, 0, 0]),\n",
       " array([0, 0, 0, ..., 0, 0, 0]),\n",
       " array([0, 0, 0, ..., 0, 0, 0]),\n",
       " array([0, 0, 0, ..., 0, 0, 0]),\n",
       " array([0, 0, 0, ..., 0, 0, 0]),\n",
       " array([0, 0, 0, ..., 0, 0, 0]),\n",
       " array([0, 0, 0, ..., 0, 0, 0]),\n",
       " array([0, 0, 0, ..., 0, 0, 0]),\n",
       " array([0, 0, 0, ..., 0, 0, 0]),\n",
       " array([0, 0, 0, ..., 0, 0, 0]),\n",
       " array([0, 0, 0, ..., 0, 0, 0]),\n",
       " array([0, 0, 0, ..., 0, 0, 0]),\n",
       " array([0, 0, 0, ..., 0, 0, 0]),\n",
       " array([0, 0, 0, ..., 0, 0, 0]),\n",
       " array([0, 0, 0, ..., 0, 0, 0]),\n",
       " array([0, 0, 0, ..., 0, 0, 0]),\n",
       " array([0, 0, 0, ..., 0, 0, 0]),\n",
       " array([0, 0, 0, ..., 0, 0, 0]),\n",
       " array([0, 0, 0, ..., 0, 0, 0]),\n",
       " array([0, 0, 0, ..., 0, 0, 0]),\n",
       " array([0, 0, 0, ..., 0, 0, 0]),\n",
       " array([0, 0, 0, ..., 0, 0, 0]),\n",
       " array([0, 0, 0, ..., 0, 0, 0]),\n",
       " array([0, 0, 0, ..., 0, 0, 0]),\n",
       " array([0, 0, 0, ..., 0, 0, 0]),\n",
       " array([0, 0, 0, ..., 0, 0, 0]),\n",
       " array([0, 0, 0, ..., 0, 0, 0]),\n",
       " array([0, 0, 0, ..., 0, 0, 0]),\n",
       " array([0, 0, 0, ..., 0, 0, 0]),\n",
       " array([0, 0, 0, ..., 0, 0, 0]),\n",
       " array([0, 0, 0, ..., 0, 0, 0]),\n",
       " array([0, 0, 0, ..., 0, 0, 0]),\n",
       " array([0, 0, 0, ..., 0, 0, 0]),\n",
       " array([0, 0, 0, ..., 0, 0, 0]),\n",
       " array([0, 0, 0, ..., 0, 0, 0]),\n",
       " array([  0,   0,   0, ..., 400, 400, 400]),\n",
       " array([  0,   0,   0, ..., 400, 400, 400]),\n",
       " array([  0,   0,   0, ..., 400, 400, 400]),\n",
       " array([  0,   0,   0, ..., 400, 400, 400]),\n",
       " array([  0,   0,   0, ..., 400, 400, 400]),\n",
       " array([  0,   0,   0, ..., 400, 400, 400]),\n",
       " array([  0,   0,   0, ..., 400, 400, 400]),\n",
       " array([  0,   0,   0, ..., 400, 400, 400]),\n",
       " array([  0,   0,   0, ..., 400, 400, 400]),\n",
       " array([  0,   0,   0, ..., 400, 400, 400]),\n",
       " array([  0,   0,   0, ..., 400, 400, 400]),\n",
       " array([  0,   0,   0, ..., 400, 400, 400]),\n",
       " array([  0,   0,   0, ..., 400, 400, 400]),\n",
       " array([  0,   0,   0, ..., 400, 400, 400]),\n",
       " array([  0,   0,   0, ..., 400, 400, 400]),\n",
       " array([  0,   0,   0, ..., 400, 400, 400]),\n",
       " array([  0,   0,   0, ..., 400, 400, 400]),\n",
       " array([  0,   0,   0, ..., 400, 400, 400]),\n",
       " array([  0,   0,   0, ..., 400, 400, 400]),\n",
       " array([  0,   0,   0, ..., 400, 400, 400]),\n",
       " array([  0,   0,   0, ..., 400, 400, 400]),\n",
       " array([  0,   0,   0, ..., 400, 400, 400]),\n",
       " array([  0,   0,   0, ..., 400, 400, 400]),\n",
       " array([  0,   0,   0, ..., 400, 400, 400]),\n",
       " array([  0,   0,   0, ..., 400, 400, 400]),\n",
       " array([  0,   0,   0, ..., 400, 400, 400]),\n",
       " array([  0,   0,   0, ..., 400, 400, 400]),\n",
       " array([  0,   0,   0, ..., 400, 400, 400]),\n",
       " array([  0,   0,   0, ..., 400, 400,   0]),\n",
       " array([  0,   0,   0, ..., 400, 400,   0]),\n",
       " array([0, 0, 0, ..., 0, 0, 0]),\n",
       " array([0, 0, 0, ..., 0, 0, 0]),\n",
       " array([0, 0, 0, ..., 0, 0, 0]),\n",
       " array([0, 0, 0, ..., 0, 0, 0]),\n",
       " array([0, 0, 0, ..., 0, 0, 0]),\n",
       " array([0, 0, 0, ..., 0, 0, 0]),\n",
       " array([0, 0, 0, ..., 0, 0, 0]),\n",
       " array([0, 0, 0, ..., 0, 0, 0]),\n",
       " array([0, 0, 0, ..., 0, 0, 0]),\n",
       " array([0, 0, 0, ..., 0, 0, 0]),\n",
       " array([0, 0, 0, ..., 0, 0, 0]),\n",
       " array([0, 0, 0, ..., 0, 0, 0]),\n",
       " array([0, 0, 0, ..., 0, 0, 0]),\n",
       " array([0, 0, 0, ..., 0, 0, 0]),\n",
       " array([0, 0, 0, ..., 0, 0, 0]),\n",
       " array([0, 0, 0, ..., 0, 0, 0]),\n",
       " array([0, 0, 0, ..., 0, 0, 0]),\n",
       " array([0, 0, 0, ..., 0, 0, 0]),\n",
       " array([0, 0, 0, ..., 0, 0, 0]),\n",
       " array([0, 0, 0, ..., 0, 0, 0]),\n",
       " array([0, 0, 0, ..., 0, 0, 0]),\n",
       " array([0, 0, 0, ..., 0, 0, 0]),\n",
       " array([0, 0, 0, ..., 0, 0, 0]),\n",
       " array([0, 0, 0, ..., 0, 0, 0]),\n",
       " array([0, 0, 0, ..., 0, 0, 0]),\n",
       " array([0, 0, 0, ..., 0, 0, 0]),\n",
       " array([0, 0, 0, ..., 0, 0, 0]),\n",
       " array([0, 0, 0, ..., 0, 0, 0]),\n",
       " array([0, 0, 0, ..., 0, 0, 0]),\n",
       " array([0, 0, 0, ..., 0, 0, 0]),\n",
       " array([0, 0, 0, ..., 0, 0, 0]),\n",
       " array([0, 0, 0, ..., 0, 0, 0]),\n",
       " array([0, 0, 0, ..., 0, 0, 0]),\n",
       " array([0, 0, 0, ..., 0, 0, 0]),\n",
       " array([0, 0, 0, ..., 0, 0, 0]),\n",
       " array([0, 0, 0, ..., 0, 0, 0]),\n",
       " array([0, 0, 0, ..., 0, 0, 0]),\n",
       " array([0, 0, 0, ..., 0, 0, 0]),\n",
       " array([0, 0, 0, ..., 0, 0, 0]),\n",
       " array([0, 0, 0, ..., 0, 0, 0]),\n",
       " array([0, 0, 0, ..., 0, 0, 0]),\n",
       " array([0, 0, 0, ..., 0, 0, 0]),\n",
       " array([0, 0, 0, ..., 0, 0, 0]),\n",
       " array([0, 0, 0, ..., 0, 0, 0]),\n",
       " array([0, 0, 0, ..., 0, 0, 0]),\n",
       " array([0, 0, 0, ..., 0, 0, 0]),\n",
       " array([0, 0, 0, ..., 0, 0, 0]),\n",
       " array([0, 0, 0, ..., 0, 0, 0]),\n",
       " array([0, 0, 0, ..., 0, 0, 0]),\n",
       " array([0, 0, 0, ..., 0, 0, 0]),\n",
       " array([0, 0, 0, ..., 0, 0, 0]),\n",
       " array([0, 0, 0, ..., 0, 0, 0]),\n",
       " array([0, 0, 0, ..., 0, 0, 0]),\n",
       " array([0, 0, 0, ..., 0, 0, 0]),\n",
       " array([0, 0, 0, ..., 0, 0, 0]),\n",
       " array([0, 0, 0, ..., 0, 0, 0]),\n",
       " array([0, 0, 0, ..., 0, 0, 0]),\n",
       " array([0, 0, 0, ..., 0, 0, 0]),\n",
       " array([0, 0, 0, ..., 0, 0, 0]),\n",
       " array([0, 0, 0, ..., 0, 0, 0]),\n",
       " array([0, 0, 0, ..., 0, 0, 0]),\n",
       " array([0, 0, 0, ..., 0, 0, 0]),\n",
       " array([0, 0, 0, ..., 0, 0, 0]),\n",
       " array([0, 0, 0, ..., 0, 0, 0]),\n",
       " array([0, 0, 0, ..., 0, 0, 0]),\n",
       " array([0, 0, 0, ..., 0, 0, 0]),\n",
       " array([0, 0, 0, ..., 0, 0, 0]),\n",
       " array([0, 0, 0, ..., 0, 0, 0]),\n",
       " array([0, 0, 0, ..., 0, 0, 0]),\n",
       " array([0, 0, 0, ..., 0, 0, 0]),\n",
       " array([0, 0, 0, ..., 0, 0, 0]),\n",
       " array([0, 0, 0, ..., 0, 0, 0]),\n",
       " array([0, 0, 0, ..., 0, 0, 0]),\n",
       " array([0, 0, 0, ..., 0, 0, 0]),\n",
       " array([0, 0, 0, ..., 0, 0, 0]),\n",
       " array([0, 0, 0, ..., 0, 0, 0]),\n",
       " array([0, 0, 0, ..., 0, 0, 0]),\n",
       " array([0, 0, 0, ..., 0, 0, 0]),\n",
       " array([0, 0, 0, ..., 0, 0, 0]),\n",
       " array([0, 0, 0, ..., 0, 0, 0]),\n",
       " array([0, 0, 0, ..., 0, 0, 0]),\n",
       " array([0, 0, 0, ..., 0, 0, 0]),\n",
       " array([0, 0, 0, ..., 0, 0, 0]),\n",
       " array([0, 0, 0, ..., 0, 0, 0]),\n",
       " array([0, 0, 0, ..., 0, 0, 0]),\n",
       " array([0, 0, 0, ..., 0, 0, 0]),\n",
       " array([0, 0, 0, ..., 0, 0, 0]),\n",
       " array([0, 0, 0, ..., 0, 0, 0]),\n",
       " array([0, 0, 0, ..., 0, 0, 0]),\n",
       " array([0, 0, 0, ..., 0, 0, 0]),\n",
       " array([0, 0, 0, ..., 0, 0, 0]),\n",
       " array([0, 0, 0, ..., 0, 0, 0]),\n",
       " array([0, 0, 0, ..., 0, 0, 0]),\n",
       " array([0, 0, 0, ..., 0, 0, 0]),\n",
       " array([0, 0, 0, ..., 0, 0, 0]),\n",
       " array([0, 0, 0, ..., 0, 0, 0]),\n",
       " array([0, 0, 0, ..., 0, 0, 0]),\n",
       " array([0, 0, 0, ..., 0, 0, 0]),\n",
       " array([0, 0, 0, ..., 0, 0, 0]),\n",
       " array([0, 0, 0, ..., 0, 0, 0]),\n",
       " ...]"
      ]
     },
     "execution_count": 33,
     "metadata": {},
     "output_type": "execute_result"
    }
   ],
   "source": [
    "[roi for roi in label]"
   ]
  },
  {
   "cell_type": "code",
   "execution_count": 9,
   "id": "8ffa3640",
   "metadata": {},
   "outputs": [
    {
     "ename": "ValueError",
     "evalue": "'/home/nathan/data/kraken/ras/ND0022/Pos12/Pos12_images/img_channel001_position012_time000000006_z000.tif' is not in list",
     "output_type": "error",
     "traceback": [
      "\u001b[0;31m---------------------------------------------------------------------------\u001b[0m",
      "\u001b[0;31mValueError\u001b[0m                                Traceback (most recent call last)",
      "\u001b[0;32m<ipython-input-9-7117268e7018>\u001b[0m in \u001b[0;36m<module>\u001b[0;34m\u001b[0m\n\u001b[1;32m      1\u001b[0m \u001b[0mviewer\u001b[0m \u001b[0;34m=\u001b[0m \u001b[0mnapari\u001b[0m\u001b[0;34m.\u001b[0m\u001b[0mViewer\u001b[0m\u001b[0;34m(\u001b[0m\u001b[0;34m)\u001b[0m\u001b[0;34m\u001b[0m\u001b[0;34m\u001b[0m\u001b[0m\n\u001b[0;32m----> 2\u001b[0;31m viewer.add_image(gfp[0:N].compute(), name=\"gfp\", \n\u001b[0m\u001b[1;32m      3\u001b[0m                  \u001b[0mcontrast_limits\u001b[0m\u001b[0;34m=\u001b[0m\u001b[0;34m[\u001b[0m\u001b[0;36m0\u001b[0m\u001b[0;34m,\u001b[0m\u001b[0;36m255\u001b[0m\u001b[0;34m]\u001b[0m\u001b[0;34m,\u001b[0m\u001b[0;34m\u001b[0m\u001b[0;34m\u001b[0m\u001b[0m\n\u001b[1;32m      4\u001b[0m                  blending = 'additive', colormap = 'green')#, is_pyramid=False)\n\u001b[1;32m      5\u001b[0m viewer.add_image(rfp[0:N].astype(np.uint8), name=\"rfp\", \n",
      "\u001b[0;32m~/analysis/miniconda3/envs/cellx/lib/python3.9/site-packages/dask/base.py\u001b[0m in \u001b[0;36mcompute\u001b[0;34m(self, **kwargs)\u001b[0m\n\u001b[1;32m    286\u001b[0m         \u001b[0mdask\u001b[0m\u001b[0;34m.\u001b[0m\u001b[0mbase\u001b[0m\u001b[0;34m.\u001b[0m\u001b[0mcompute\u001b[0m\u001b[0;34m\u001b[0m\u001b[0;34m\u001b[0m\u001b[0m\n\u001b[1;32m    287\u001b[0m         \"\"\"\n\u001b[0;32m--> 288\u001b[0;31m         \u001b[0;34m(\u001b[0m\u001b[0mresult\u001b[0m\u001b[0;34m,\u001b[0m\u001b[0;34m)\u001b[0m \u001b[0;34m=\u001b[0m \u001b[0mcompute\u001b[0m\u001b[0;34m(\u001b[0m\u001b[0mself\u001b[0m\u001b[0;34m,\u001b[0m \u001b[0mtraverse\u001b[0m\u001b[0;34m=\u001b[0m\u001b[0;32mFalse\u001b[0m\u001b[0;34m,\u001b[0m \u001b[0;34m**\u001b[0m\u001b[0mkwargs\u001b[0m\u001b[0;34m)\u001b[0m\u001b[0;34m\u001b[0m\u001b[0;34m\u001b[0m\u001b[0m\n\u001b[0m\u001b[1;32m    289\u001b[0m         \u001b[0;32mreturn\u001b[0m \u001b[0mresult\u001b[0m\u001b[0;34m\u001b[0m\u001b[0;34m\u001b[0m\u001b[0m\n\u001b[1;32m    290\u001b[0m \u001b[0;34m\u001b[0m\u001b[0m\n",
      "\u001b[0;32m~/analysis/miniconda3/envs/cellx/lib/python3.9/site-packages/dask/base.py\u001b[0m in \u001b[0;36mcompute\u001b[0;34m(*args, **kwargs)\u001b[0m\n\u001b[1;32m    568\u001b[0m         \u001b[0mpostcomputes\u001b[0m\u001b[0;34m.\u001b[0m\u001b[0mappend\u001b[0m\u001b[0;34m(\u001b[0m\u001b[0mx\u001b[0m\u001b[0;34m.\u001b[0m\u001b[0m__dask_postcompute__\u001b[0m\u001b[0;34m(\u001b[0m\u001b[0;34m)\u001b[0m\u001b[0;34m)\u001b[0m\u001b[0;34m\u001b[0m\u001b[0;34m\u001b[0m\u001b[0m\n\u001b[1;32m    569\u001b[0m \u001b[0;34m\u001b[0m\u001b[0m\n\u001b[0;32m--> 570\u001b[0;31m     \u001b[0mresults\u001b[0m \u001b[0;34m=\u001b[0m \u001b[0mschedule\u001b[0m\u001b[0;34m(\u001b[0m\u001b[0mdsk\u001b[0m\u001b[0;34m,\u001b[0m \u001b[0mkeys\u001b[0m\u001b[0;34m,\u001b[0m \u001b[0;34m**\u001b[0m\u001b[0mkwargs\u001b[0m\u001b[0;34m)\u001b[0m\u001b[0;34m\u001b[0m\u001b[0;34m\u001b[0m\u001b[0m\n\u001b[0m\u001b[1;32m    571\u001b[0m     \u001b[0;32mreturn\u001b[0m \u001b[0mrepack\u001b[0m\u001b[0;34m(\u001b[0m\u001b[0;34m[\u001b[0m\u001b[0mf\u001b[0m\u001b[0;34m(\u001b[0m\u001b[0mr\u001b[0m\u001b[0;34m,\u001b[0m \u001b[0;34m*\u001b[0m\u001b[0ma\u001b[0m\u001b[0;34m)\u001b[0m \u001b[0;32mfor\u001b[0m \u001b[0mr\u001b[0m\u001b[0;34m,\u001b[0m \u001b[0;34m(\u001b[0m\u001b[0mf\u001b[0m\u001b[0;34m,\u001b[0m \u001b[0ma\u001b[0m\u001b[0;34m)\u001b[0m \u001b[0;32min\u001b[0m \u001b[0mzip\u001b[0m\u001b[0;34m(\u001b[0m\u001b[0mresults\u001b[0m\u001b[0;34m,\u001b[0m \u001b[0mpostcomputes\u001b[0m\u001b[0;34m)\u001b[0m\u001b[0;34m]\u001b[0m\u001b[0;34m)\u001b[0m\u001b[0;34m\u001b[0m\u001b[0;34m\u001b[0m\u001b[0m\n\u001b[1;32m    572\u001b[0m \u001b[0;34m\u001b[0m\u001b[0m\n",
      "\u001b[0;32m~/analysis/miniconda3/envs/cellx/lib/python3.9/site-packages/dask/threaded.py\u001b[0m in \u001b[0;36mget\u001b[0;34m(dsk, result, cache, num_workers, pool, **kwargs)\u001b[0m\n\u001b[1;32m     77\u001b[0m             \u001b[0mpool\u001b[0m \u001b[0;34m=\u001b[0m \u001b[0mMultiprocessingPoolExecutor\u001b[0m\u001b[0;34m(\u001b[0m\u001b[0mpool\u001b[0m\u001b[0;34m)\u001b[0m\u001b[0;34m\u001b[0m\u001b[0;34m\u001b[0m\u001b[0m\n\u001b[1;32m     78\u001b[0m \u001b[0;34m\u001b[0m\u001b[0m\n\u001b[0;32m---> 79\u001b[0;31m     results = get_async(\n\u001b[0m\u001b[1;32m     80\u001b[0m         \u001b[0mpool\u001b[0m\u001b[0;34m.\u001b[0m\u001b[0msubmit\u001b[0m\u001b[0;34m,\u001b[0m\u001b[0;34m\u001b[0m\u001b[0;34m\u001b[0m\u001b[0m\n\u001b[1;32m     81\u001b[0m         \u001b[0mpool\u001b[0m\u001b[0;34m.\u001b[0m\u001b[0m_max_workers\u001b[0m\u001b[0;34m,\u001b[0m\u001b[0;34m\u001b[0m\u001b[0;34m\u001b[0m\u001b[0m\n",
      "\u001b[0;32m~/analysis/miniconda3/envs/cellx/lib/python3.9/site-packages/dask/local.py\u001b[0m in \u001b[0;36mget_async\u001b[0;34m(submit, num_workers, dsk, result, cache, get_id, rerun_exceptions_locally, pack_exception, raise_exception, callbacks, dumps, loads, chunksize, **kwargs)\u001b[0m\n\u001b[1;32m    505\u001b[0m                             \u001b[0m_execute_task\u001b[0m\u001b[0;34m(\u001b[0m\u001b[0mtask\u001b[0m\u001b[0;34m,\u001b[0m \u001b[0mdata\u001b[0m\u001b[0;34m)\u001b[0m  \u001b[0;31m# Re-execute locally\u001b[0m\u001b[0;34m\u001b[0m\u001b[0;34m\u001b[0m\u001b[0m\n\u001b[1;32m    506\u001b[0m                         \u001b[0;32melse\u001b[0m\u001b[0;34m:\u001b[0m\u001b[0;34m\u001b[0m\u001b[0;34m\u001b[0m\u001b[0m\n\u001b[0;32m--> 507\u001b[0;31m                             \u001b[0mraise_exception\u001b[0m\u001b[0;34m(\u001b[0m\u001b[0mexc\u001b[0m\u001b[0;34m,\u001b[0m \u001b[0mtb\u001b[0m\u001b[0;34m)\u001b[0m\u001b[0;34m\u001b[0m\u001b[0;34m\u001b[0m\u001b[0m\n\u001b[0m\u001b[1;32m    508\u001b[0m                     \u001b[0mres\u001b[0m\u001b[0;34m,\u001b[0m \u001b[0mworker_id\u001b[0m \u001b[0;34m=\u001b[0m \u001b[0mloads\u001b[0m\u001b[0;34m(\u001b[0m\u001b[0mres_info\u001b[0m\u001b[0;34m)\u001b[0m\u001b[0;34m\u001b[0m\u001b[0;34m\u001b[0m\u001b[0m\n\u001b[1;32m    509\u001b[0m                     \u001b[0mstate\u001b[0m\u001b[0;34m[\u001b[0m\u001b[0;34m\"cache\"\u001b[0m\u001b[0;34m]\u001b[0m\u001b[0;34m[\u001b[0m\u001b[0mkey\u001b[0m\u001b[0;34m]\u001b[0m \u001b[0;34m=\u001b[0m \u001b[0mres\u001b[0m\u001b[0;34m\u001b[0m\u001b[0;34m\u001b[0m\u001b[0m\n",
      "\u001b[0;32m~/analysis/miniconda3/envs/cellx/lib/python3.9/site-packages/dask/local.py\u001b[0m in \u001b[0;36mreraise\u001b[0;34m(exc, tb)\u001b[0m\n\u001b[1;32m    313\u001b[0m     \u001b[0;32mif\u001b[0m \u001b[0mexc\u001b[0m\u001b[0;34m.\u001b[0m\u001b[0m__traceback__\u001b[0m \u001b[0;32mis\u001b[0m \u001b[0;32mnot\u001b[0m \u001b[0mtb\u001b[0m\u001b[0;34m:\u001b[0m\u001b[0;34m\u001b[0m\u001b[0;34m\u001b[0m\u001b[0m\n\u001b[1;32m    314\u001b[0m         \u001b[0;32mraise\u001b[0m \u001b[0mexc\u001b[0m\u001b[0;34m.\u001b[0m\u001b[0mwith_traceback\u001b[0m\u001b[0;34m(\u001b[0m\u001b[0mtb\u001b[0m\u001b[0;34m)\u001b[0m\u001b[0;34m\u001b[0m\u001b[0;34m\u001b[0m\u001b[0m\n\u001b[0;32m--> 315\u001b[0;31m     \u001b[0;32mraise\u001b[0m \u001b[0mexc\u001b[0m\u001b[0;34m\u001b[0m\u001b[0;34m\u001b[0m\u001b[0m\n\u001b[0m\u001b[1;32m    316\u001b[0m \u001b[0;34m\u001b[0m\u001b[0m\n\u001b[1;32m    317\u001b[0m \u001b[0;34m\u001b[0m\u001b[0m\n",
      "\u001b[0;32m~/analysis/miniconda3/envs/cellx/lib/python3.9/site-packages/dask/local.py\u001b[0m in \u001b[0;36mexecute_task\u001b[0;34m(key, task_info, dumps, loads, get_id, pack_exception)\u001b[0m\n\u001b[1;32m    218\u001b[0m     \u001b[0;32mtry\u001b[0m\u001b[0;34m:\u001b[0m\u001b[0;34m\u001b[0m\u001b[0;34m\u001b[0m\u001b[0m\n\u001b[1;32m    219\u001b[0m         \u001b[0mtask\u001b[0m\u001b[0;34m,\u001b[0m \u001b[0mdata\u001b[0m \u001b[0;34m=\u001b[0m \u001b[0mloads\u001b[0m\u001b[0;34m(\u001b[0m\u001b[0mtask_info\u001b[0m\u001b[0;34m)\u001b[0m\u001b[0;34m\u001b[0m\u001b[0;34m\u001b[0m\u001b[0m\n\u001b[0;32m--> 220\u001b[0;31m         \u001b[0mresult\u001b[0m \u001b[0;34m=\u001b[0m \u001b[0m_execute_task\u001b[0m\u001b[0;34m(\u001b[0m\u001b[0mtask\u001b[0m\u001b[0;34m,\u001b[0m \u001b[0mdata\u001b[0m\u001b[0;34m)\u001b[0m\u001b[0;34m\u001b[0m\u001b[0;34m\u001b[0m\u001b[0m\n\u001b[0m\u001b[1;32m    221\u001b[0m         \u001b[0mid\u001b[0m \u001b[0;34m=\u001b[0m \u001b[0mget_id\u001b[0m\u001b[0;34m(\u001b[0m\u001b[0;34m)\u001b[0m\u001b[0;34m\u001b[0m\u001b[0;34m\u001b[0m\u001b[0m\n\u001b[1;32m    222\u001b[0m         \u001b[0mresult\u001b[0m \u001b[0;34m=\u001b[0m \u001b[0mdumps\u001b[0m\u001b[0;34m(\u001b[0m\u001b[0;34m(\u001b[0m\u001b[0mresult\u001b[0m\u001b[0;34m,\u001b[0m \u001b[0mid\u001b[0m\u001b[0;34m)\u001b[0m\u001b[0;34m)\u001b[0m\u001b[0;34m\u001b[0m\u001b[0;34m\u001b[0m\u001b[0m\n",
      "\u001b[0;32m~/analysis/miniconda3/envs/cellx/lib/python3.9/site-packages/dask/core.py\u001b[0m in \u001b[0;36m_execute_task\u001b[0;34m(arg, cache, dsk)\u001b[0m\n\u001b[1;32m    117\u001b[0m         \u001b[0;31m# temporaries by their reference count and can execute certain\u001b[0m\u001b[0;34m\u001b[0m\u001b[0;34m\u001b[0m\u001b[0m\n\u001b[1;32m    118\u001b[0m         \u001b[0;31m# operations in-place.\u001b[0m\u001b[0;34m\u001b[0m\u001b[0;34m\u001b[0m\u001b[0m\n\u001b[0;32m--> 119\u001b[0;31m         \u001b[0;32mreturn\u001b[0m \u001b[0mfunc\u001b[0m\u001b[0;34m(\u001b[0m\u001b[0;34m*\u001b[0m\u001b[0;34m(\u001b[0m\u001b[0m_execute_task\u001b[0m\u001b[0;34m(\u001b[0m\u001b[0ma\u001b[0m\u001b[0;34m,\u001b[0m \u001b[0mcache\u001b[0m\u001b[0;34m)\u001b[0m \u001b[0;32mfor\u001b[0m \u001b[0ma\u001b[0m \u001b[0;32min\u001b[0m \u001b[0margs\u001b[0m\u001b[0;34m)\u001b[0m\u001b[0;34m)\u001b[0m\u001b[0;34m\u001b[0m\u001b[0;34m\u001b[0m\u001b[0m\n\u001b[0m\u001b[1;32m    120\u001b[0m     \u001b[0;32melif\u001b[0m \u001b[0;32mnot\u001b[0m \u001b[0mishashable\u001b[0m\u001b[0;34m(\u001b[0m\u001b[0marg\u001b[0m\u001b[0;34m)\u001b[0m\u001b[0;34m:\u001b[0m\u001b[0;34m\u001b[0m\u001b[0;34m\u001b[0m\u001b[0m\n\u001b[1;32m    121\u001b[0m         \u001b[0;32mreturn\u001b[0m \u001b[0marg\u001b[0m\u001b[0;34m\u001b[0m\u001b[0;34m\u001b[0m\u001b[0m\n",
      "\u001b[0;32m~/analysis/miniconda3/envs/cellx/lib/python3.9/site-packages/dask/core.py\u001b[0m in \u001b[0;36m<genexpr>\u001b[0;34m(.0)\u001b[0m\n\u001b[1;32m    117\u001b[0m         \u001b[0;31m# temporaries by their reference count and can execute certain\u001b[0m\u001b[0;34m\u001b[0m\u001b[0;34m\u001b[0m\u001b[0m\n\u001b[1;32m    118\u001b[0m         \u001b[0;31m# operations in-place.\u001b[0m\u001b[0;34m\u001b[0m\u001b[0;34m\u001b[0m\u001b[0m\n\u001b[0;32m--> 119\u001b[0;31m         \u001b[0;32mreturn\u001b[0m \u001b[0mfunc\u001b[0m\u001b[0;34m(\u001b[0m\u001b[0;34m*\u001b[0m\u001b[0;34m(\u001b[0m\u001b[0m_execute_task\u001b[0m\u001b[0;34m(\u001b[0m\u001b[0ma\u001b[0m\u001b[0;34m,\u001b[0m \u001b[0mcache\u001b[0m\u001b[0;34m)\u001b[0m \u001b[0;32mfor\u001b[0m \u001b[0ma\u001b[0m \u001b[0;32min\u001b[0m \u001b[0margs\u001b[0m\u001b[0;34m)\u001b[0m\u001b[0;34m)\u001b[0m\u001b[0;34m\u001b[0m\u001b[0;34m\u001b[0m\u001b[0m\n\u001b[0m\u001b[1;32m    120\u001b[0m     \u001b[0;32melif\u001b[0m \u001b[0;32mnot\u001b[0m \u001b[0mishashable\u001b[0m\u001b[0;34m(\u001b[0m\u001b[0marg\u001b[0m\u001b[0;34m)\u001b[0m\u001b[0;34m:\u001b[0m\u001b[0;34m\u001b[0m\u001b[0;34m\u001b[0m\u001b[0m\n\u001b[1;32m    121\u001b[0m         \u001b[0;32mreturn\u001b[0m \u001b[0marg\u001b[0m\u001b[0;34m\u001b[0m\u001b[0;34m\u001b[0m\u001b[0m\n",
      "\u001b[0;32m~/analysis/miniconda3/envs/cellx/lib/python3.9/site-packages/dask/core.py\u001b[0m in \u001b[0;36m_execute_task\u001b[0;34m(arg, cache, dsk)\u001b[0m\n\u001b[1;32m    117\u001b[0m         \u001b[0;31m# temporaries by their reference count and can execute certain\u001b[0m\u001b[0;34m\u001b[0m\u001b[0;34m\u001b[0m\u001b[0m\n\u001b[1;32m    118\u001b[0m         \u001b[0;31m# operations in-place.\u001b[0m\u001b[0;34m\u001b[0m\u001b[0;34m\u001b[0m\u001b[0m\n\u001b[0;32m--> 119\u001b[0;31m         \u001b[0;32mreturn\u001b[0m \u001b[0mfunc\u001b[0m\u001b[0;34m(\u001b[0m\u001b[0;34m*\u001b[0m\u001b[0;34m(\u001b[0m\u001b[0m_execute_task\u001b[0m\u001b[0;34m(\u001b[0m\u001b[0ma\u001b[0m\u001b[0;34m,\u001b[0m \u001b[0mcache\u001b[0m\u001b[0;34m)\u001b[0m \u001b[0;32mfor\u001b[0m \u001b[0ma\u001b[0m \u001b[0;32min\u001b[0m \u001b[0margs\u001b[0m\u001b[0;34m)\u001b[0m\u001b[0;34m)\u001b[0m\u001b[0;34m\u001b[0m\u001b[0;34m\u001b[0m\u001b[0m\n\u001b[0m\u001b[1;32m    120\u001b[0m     \u001b[0;32melif\u001b[0m \u001b[0;32mnot\u001b[0m \u001b[0mishashable\u001b[0m\u001b[0;34m(\u001b[0m\u001b[0marg\u001b[0m\u001b[0;34m)\u001b[0m\u001b[0;34m:\u001b[0m\u001b[0;34m\u001b[0m\u001b[0;34m\u001b[0m\u001b[0m\n\u001b[1;32m    121\u001b[0m         \u001b[0;32mreturn\u001b[0m \u001b[0marg\u001b[0m\u001b[0;34m\u001b[0m\u001b[0;34m\u001b[0m\u001b[0m\n",
      "\u001b[0;32m~/analysis/octopuslite-reader/octopuslite/reader.py\u001b[0m in \u001b[0;36m_load_and_process\u001b[0;34m(self, fn)\u001b[0m\n\u001b[1;32m    119\u001b[0m             \u001b[0mfiles\u001b[0m \u001b[0;34m=\u001b[0m \u001b[0mself\u001b[0m\u001b[0;34m.\u001b[0m\u001b[0mfiles\u001b[0m\u001b[0;34m(\u001b[0m\u001b[0mchannel\u001b[0m\u001b[0;34m.\u001b[0m\u001b[0mname\u001b[0m\u001b[0;34m)\u001b[0m\u001b[0;34m\u001b[0m\u001b[0;34m\u001b[0m\u001b[0m\n\u001b[1;32m    120\u001b[0m             \u001b[0mfiles\u001b[0m\u001b[0;34m.\u001b[0m\u001b[0msort\u001b[0m\u001b[0;34m(\u001b[0m\u001b[0mkey\u001b[0m\u001b[0;34m=\u001b[0m\u001b[0;32mlambda\u001b[0m \u001b[0mf\u001b[0m\u001b[0;34m:\u001b[0m \u001b[0mparse_filename\u001b[0m\u001b[0;34m(\u001b[0m\u001b[0mf\u001b[0m\u001b[0;34m)\u001b[0m\u001b[0;34m[\u001b[0m\u001b[0;34m\"time\"\u001b[0m\u001b[0;34m]\u001b[0m\u001b[0;34m)\u001b[0m\u001b[0;34m\u001b[0m\u001b[0;34m\u001b[0m\u001b[0m\n\u001b[0;32m--> 121\u001b[0;31m             \u001b[0midx\u001b[0m \u001b[0;34m=\u001b[0m \u001b[0mfiles\u001b[0m\u001b[0;34m.\u001b[0m\u001b[0mindex\u001b[0m\u001b[0;34m(\u001b[0m\u001b[0mfn\u001b[0m\u001b[0;34m)\u001b[0m\u001b[0;34m\u001b[0m\u001b[0;34m\u001b[0m\u001b[0m\n\u001b[0m\u001b[1;32m    122\u001b[0m             \u001b[0mimage\u001b[0m \u001b[0;34m=\u001b[0m \u001b[0mself\u001b[0m\u001b[0;34m.\u001b[0m\u001b[0m_transformer\u001b[0m\u001b[0;34m(\u001b[0m\u001b[0mimage\u001b[0m\u001b[0;34m,\u001b[0m \u001b[0midx\u001b[0m\u001b[0;34m)\u001b[0m\u001b[0;34m\u001b[0m\u001b[0;34m\u001b[0m\u001b[0m\n\u001b[1;32m    123\u001b[0m \u001b[0;34m\u001b[0m\u001b[0m\n",
      "\u001b[0;31mValueError\u001b[0m: '/home/nathan/data/kraken/ras/ND0022/Pos12/Pos12_images/img_channel001_position012_time000000006_z000.tif' is not in list"
     ]
    }
   ],
   "source": [
    "viewer = napari.Viewer()\n",
    "viewer.add_image(gfp[0:N].astype(np.uint8), name=\"gfp\", \n",
    "                 contrast_limits=[0,255],\n",
    "                 blending = 'additive', colormap = 'green')#, is_pyramid=False)\n",
    "viewer.add_image(rfp[0:N].astype(np.uint8), name=\"rfp\", \n",
    "                 contrast_limits=[0,55], \n",
    "                 blending = 'additive', colormap = 'magenta')#, is_pyramid=False)\n",
    "viewer.add_image(irfp[0:N].astype(np.uint8), name=\"irfp\", \n",
    "                 contrast_limits=[0,255], \n",
    "                 blending = 'additive', colormap = 'cyan')#\n",
    "viewer.add_labels(nuc_masks[0:N].astype(int), name = 'masks',\n",
    "#                 contrast_limits=[0,255],\n",
    "               blending = 'additive',)\n",
    "viewer.add_labels(ras_masks[0:N].astype(int), name = 'cyto masks',\n",
    "#                 contrast_limits=[0,255],\n",
    "               blending = 'additive',)\n",
    "# viewer.add_tracks(irfp_tracks)\n",
    "# viewer.add_tracks(rfp_tracks)"
   ]
  },
  {
   "cell_type": "markdown",
   "id": "1d57ee09",
   "metadata": {},
   "source": [
    "# Ras mask tidier"
   ]
  },
  {
   "cell_type": "code",
   "execution_count": 113,
   "id": "263150ff",
   "metadata": {},
   "outputs": [
    {
     "data": {
      "text/plain": [
       "(219, 1200, 1600)"
      ]
     },
     "execution_count": 113,
     "metadata": {},
     "output_type": "execute_result"
    }
   ],
   "source": [
    "ras_masks.shape"
   ]
  },
  {
   "cell_type": "code",
   "execution_count": null,
   "id": "2ca3d4f2",
   "metadata": {},
   "outputs": [],
   "source": [
    "for cell_ID, class_label in enumerate(details['class_id'], 1):\n",
    "    #needs erosion step to stop merging of labels\n",
    "    segment = nd.binary_erosion(labels==cell_ID)\n",
    "    mask[segment] = class_label\n",
    "    # set background to zero\n",
    "    mask[labels == 0] = 0"
   ]
  },
  {
   "cell_type": "markdown",
   "id": "5c17659d",
   "metadata": {},
   "source": [
    "### Add tracks"
   ]
  },
  {
   "cell_type": "code",
   "execution_count": 66,
   "id": "568a2f65",
   "metadata": {},
   "outputs": [],
   "source": [
    "import btrack\n",
    "from btrack.utils import tracks_to_napari"
   ]
  },
  {
   "cell_type": "code",
   "execution_count": 67,
   "id": "96367c06",
   "metadata": {},
   "outputs": [],
   "source": [
    "tracks_path = '/home/nathan/data/kraken/ras/ND0022/Pos12/tracks.h5'"
   ]
  },
  {
   "cell_type": "markdown",
   "id": "5167a264",
   "metadata": {},
   "source": [
    "#### GFP tracks"
   ]
  },
  {
   "cell_type": "code",
   "execution_count": 68,
   "id": "378b01b9",
   "metadata": {
    "scrolled": true
   },
   "outputs": [
    {
     "name": "stderr",
     "output_type": "stream",
     "text": [
      "[INFO][2022/03/30 07:23:36 pm] Opening HDF file: /home/nathan/data/kraken/ras/ND0022/Pos12/tracks.h5...\n",
      "[INFO][2022/03/30 07:23:36 pm] Loading tracks/obj_type_1\n",
      "[INFO][2022/03/30 07:23:37 pm] Loading objects/obj_type_1 (308903, 5) (308903 filtered: None)\n",
      "[INFO][2022/03/30 07:23:43 pm] Closing HDF file: /home/nathan/data/kraken/ras/ND0022/Pos12/tracks.h5\n"
     ]
    }
   ],
   "source": [
    "with btrack.dataio.HDF5FileHandler(tracks_path, \n",
    "                                   'r', obj_type='obj_type_1'\n",
    "                                  ) as h:\n",
    "    gfp_tracks = h.tracks"
   ]
  },
  {
   "cell_type": "code",
   "execution_count": 18,
   "id": "ab079149",
   "metadata": {},
   "outputs": [],
   "source": [
    "gfp_tracks, gfp_properties, gfp_graph = tracks_to_napari(gfp_tracks, ndim = 2)"
   ]
  },
  {
   "cell_type": "markdown",
   "id": "bc41789f",
   "metadata": {},
   "source": [
    "#### iRFP tracks"
   ]
  },
  {
   "cell_type": "code",
   "execution_count": null,
   "id": "0612ea14",
   "metadata": {
    "scrolled": true
   },
   "outputs": [],
   "source": [
    "with btrack.dataio.HDF5FileHandler(tracks_path, \n",
    "                                   'r', obj_type='obj_type_1'\n",
    "                                  ) as h:\n",
    "    irfp_tracks = h.tracks"
   ]
  },
  {
   "cell_type": "code",
   "execution_count": null,
   "id": "2b98d28c",
   "metadata": {},
   "outputs": [],
   "source": [
    "irfp_tracks, irfp_properties, irfp_graph = tracks_to_napari(irfp_tracks, ndim = 2)"
   ]
  },
  {
   "cell_type": "markdown",
   "id": "4b0d99aa",
   "metadata": {},
   "source": [
    "#### RFP tracks"
   ]
  },
  {
   "cell_type": "code",
   "execution_count": 69,
   "id": "8be591f3",
   "metadata": {
    "scrolled": true
   },
   "outputs": [
    {
     "name": "stderr",
     "output_type": "stream",
     "text": [
      "[INFO][2022/03/30 07:23:47 pm] Opening HDF file: /home/nathan/data/kraken/ras/ND0022/Pos12/tracks.h5...\n",
      "[INFO][2022/03/30 07:23:47 pm] Loading tracks/obj_type_2\n",
      "[INFO][2022/03/30 07:23:48 pm] Loading objects/obj_type_2 (38765, 5) (38765 filtered: None)\n",
      "[INFO][2022/03/30 07:23:49 pm] Closing HDF file: /home/nathan/data/kraken/ras/ND0022/Pos12/tracks.h5\n"
     ]
    }
   ],
   "source": [
    "with btrack.dataio.HDF5FileHandler(tracks_path, \n",
    "                                   'r', obj_type='obj_type_2'\n",
    "                                  ) as h:\n",
    "    rfp_tracks = h.tracks"
   ]
  },
  {
   "cell_type": "code",
   "execution_count": 21,
   "id": "43a9ba3c",
   "metadata": {},
   "outputs": [],
   "source": [
    "rfp_tracks, rfp_properties, rfp_graph = tracks_to_napari(rfp_tracks, ndim = 2)"
   ]
  }
 ],
 "metadata": {
  "kernelspec": {
   "display_name": "CellX",
   "language": "python",
   "name": "cellx"
  },
  "language_info": {
   "codemirror_mode": {
    "name": "ipython",
    "version": 3
   },
   "file_extension": ".py",
   "mimetype": "text/x-python",
   "name": "python",
   "nbconvert_exporter": "python",
   "pygments_lexer": "ipython3",
   "version": "3.9.7"
  }
 },
 "nbformat": 4,
 "nbformat_minor": 5
}
