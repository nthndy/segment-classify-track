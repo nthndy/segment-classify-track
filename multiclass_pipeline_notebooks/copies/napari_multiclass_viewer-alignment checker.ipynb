{
 "cells": [
  {
   "cell_type": "markdown",
   "id": "a4cf9a6b",
   "metadata": {},
   "source": [
    "# Napari image viewer\n",
    "\n",
    "Uses the octopuslite dask image loader to automatically sort and load images from multichannel time lapse experiments. Can also use btrack to load associated tracks and segmentation images."
   ]
  },
  {
   "cell_type": "code",
   "execution_count": 1,
   "id": "3a23b02f",
   "metadata": {},
   "outputs": [],
   "source": [
    "import napari\n",
    "from octopuslite import DaskOctopusLiteLoader"
   ]
  },
  {
   "cell_type": "code",
   "execution_count": 2,
   "id": "312ff47a",
   "metadata": {},
   "outputs": [],
   "source": [
    "import numpy as np\n",
    "import glob\n",
    "import os\n",
    "import re"
   ]
  },
  {
   "cell_type": "markdown",
   "id": "96c1a1c1",
   "metadata": {},
   "source": [
    "# testing transform implementation"
   ]
  },
  {
   "cell_type": "code",
   "execution_count": null,
   "id": "446cbb23",
   "metadata": {},
   "outputs": [
    {
     "name": "stdout",
     "output_type": "stream",
     "text": [
      "Loading ND0013 Pos0\n",
      "Using cropping: (1200, 1600)\n"
     ]
    },
    {
     "name": "stderr",
     "output_type": "stream",
     "text": [
      "/home/nathan/analysis/miniconda3/envs/cellx/lib/python3.9/site-packages/napari_tools_menu/__init__.py:165: FutureWarning: Public access to Window.qt_viewer is deprecated and will be removed in\n",
      "v0.5.0. It is considered an \"implementation detail\" of the napari\n",
      "application, not part of the napari viewer model. If your use case\n",
      "requires access to qt_viewer, please open an issue to discuss.\n",
      "  self.tools_menu = ToolsMenu(self, self.qt_viewer.viewer)\n"
     ]
    },
    {
     "name": "stdout",
     "output_type": "stream",
     "text": [
      "Loading ND0013 Pos1\n",
      "Using cropping: (1200, 1600)\n"
     ]
    },
    {
     "name": "stderr",
     "output_type": "stream",
     "text": [
      "/home/nathan/analysis/miniconda3/envs/cellx/lib/python3.9/site-packages/napari_tools_menu/__init__.py:165: FutureWarning: Public access to Window.qt_viewer is deprecated and will be removed in\n",
      "v0.5.0. It is considered an \"implementation detail\" of the napari\n",
      "application, not part of the napari viewer model. If your use case\n",
      "requires access to qt_viewer, please open an issue to discuss.\n",
      "  self.tools_menu = ToolsMenu(self, self.qt_viewer.viewer)\n"
     ]
    },
    {
     "name": "stdout",
     "output_type": "stream",
     "text": [
      "Loading ND0013 Pos2\n",
      "Using cropping: (1200, 1600)\n"
     ]
    },
    {
     "name": "stderr",
     "output_type": "stream",
     "text": [
      "/home/nathan/analysis/miniconda3/envs/cellx/lib/python3.9/site-packages/napari_tools_menu/__init__.py:165: FutureWarning: Public access to Window.qt_viewer is deprecated and will be removed in\n",
      "v0.5.0. It is considered an \"implementation detail\" of the napari\n",
      "application, not part of the napari viewer model. If your use case\n",
      "requires access to qt_viewer, please open an issue to discuss.\n",
      "  self.tools_menu = ToolsMenu(self, self.qt_viewer.viewer)\n"
     ]
    },
    {
     "name": "stdout",
     "output_type": "stream",
     "text": [
      "Loading ND0013 Pos3\n",
      "Using cropping: (1200, 1600)\n"
     ]
    },
    {
     "name": "stderr",
     "output_type": "stream",
     "text": [
      "/home/nathan/analysis/miniconda3/envs/cellx/lib/python3.9/site-packages/napari_tools_menu/__init__.py:165: FutureWarning: Public access to Window.qt_viewer is deprecated and will be removed in\n",
      "v0.5.0. It is considered an \"implementation detail\" of the napari\n",
      "application, not part of the napari viewer model. If your use case\n",
      "requires access to qt_viewer, please open an issue to discuss.\n",
      "  self.tools_menu = ToolsMenu(self, self.qt_viewer.viewer)\n"
     ]
    },
    {
     "name": "stdout",
     "output_type": "stream",
     "text": [
      "Loading ND0013 Pos4\n",
      "Using cropping: (1200, 1600)\n"
     ]
    },
    {
     "name": "stderr",
     "output_type": "stream",
     "text": [
      "/home/nathan/analysis/miniconda3/envs/cellx/lib/python3.9/site-packages/napari_tools_menu/__init__.py:165: FutureWarning: Public access to Window.qt_viewer is deprecated and will be removed in\n",
      "v0.5.0. It is considered an \"implementation detail\" of the napari\n",
      "application, not part of the napari viewer model. If your use case\n",
      "requires access to qt_viewer, please open an issue to discuss.\n",
      "  self.tools_menu = ToolsMenu(self, self.qt_viewer.viewer)\n"
     ]
    },
    {
     "name": "stdout",
     "output_type": "stream",
     "text": [
      "Loading ND0013 Pos5\n",
      "Using cropping: (1200, 1600)\n"
     ]
    },
    {
     "name": "stderr",
     "output_type": "stream",
     "text": [
      "/home/nathan/analysis/miniconda3/envs/cellx/lib/python3.9/site-packages/napari_tools_menu/__init__.py:165: FutureWarning: Public access to Window.qt_viewer is deprecated and will be removed in\n",
      "v0.5.0. It is considered an \"implementation detail\" of the napari\n",
      "application, not part of the napari viewer model. If your use case\n",
      "requires access to qt_viewer, please open an issue to discuss.\n",
      "  self.tools_menu = ToolsMenu(self, self.qt_viewer.viewer)\n"
     ]
    },
    {
     "name": "stdout",
     "output_type": "stream",
     "text": [
      "Loading ND0013 Pos6\n",
      "Using cropping: (1200, 1600)\n"
     ]
    },
    {
     "name": "stderr",
     "output_type": "stream",
     "text": [
      "/home/nathan/analysis/miniconda3/envs/cellx/lib/python3.9/site-packages/napari_tools_menu/__init__.py:165: FutureWarning: Public access to Window.qt_viewer is deprecated and will be removed in\n",
      "v0.5.0. It is considered an \"implementation detail\" of the napari\n",
      "application, not part of the napari viewer model. If your use case\n",
      "requires access to qt_viewer, please open an issue to discuss.\n",
      "  self.tools_menu = ToolsMenu(self, self.qt_viewer.viewer)\n",
      "/home/nathan/analysis/miniconda3/envs/cellx/lib/python3.9/site-packages/napari_animation/_qt/keyframeslist_widget.py:156: FutureWarning: Themes were changed to use evented model with Pydantic's color type rather than the `rgb(x, y, z)`. The `as_dict=True` option will be changed to `as_dict=False` in 0.4.15\n",
      "  self.setStyleSheet(template(qss_template, **get_theme(theme_name)))\n",
      "/home/nathan/analysis/miniconda3/envs/cellx/lib/python3.9/site-packages/numpy/core/_asarray.py:102: FutureWarning: Private attribute access ('ClippingPlaneList.__array_struct__') in this context (e.g. inside a plugin widget or dock widget) is deprecated and will be unavailable in version 0.5.0\n",
      "  return array(a, dtype, copy=False, order=order)\n",
      "/home/nathan/analysis/miniconda3/envs/cellx/lib/python3.9/site-packages/numpy/core/_asarray.py:102: FutureWarning: Private attribute access ('ClippingPlaneList.__array_interface__') in this context (e.g. inside a plugin widget or dock widget) is deprecated and will be unavailable in version 0.5.0\n",
      "  return array(a, dtype, copy=False, order=order)\n",
      "/home/nathan/analysis/miniconda3/envs/cellx/lib/python3.9/site-packages/numpy/core/_asarray.py:102: FutureWarning: Private attribute access ('ClippingPlaneList.__array__') in this context (e.g. inside a plugin widget or dock widget) is deprecated and will be unavailable in version 0.5.0\n",
      "  return array(a, dtype, copy=False, order=order)\n",
      "/home/nathan/analysis/miniconda3/envs/cellx/lib/python3.9/site-packages/numpy/core/_asarray.py:102: FutureWarning: Private attribute access ('ClippingPlaneList.__array_struct__') in this context (e.g. inside a plugin widget or dock widget) is deprecated and will be unavailable in version 0.5.0\n",
      "  return array(a, dtype, copy=False, order=order)\n",
      "/home/nathan/analysis/miniconda3/envs/cellx/lib/python3.9/site-packages/numpy/core/_asarray.py:102: FutureWarning: Private attribute access ('ClippingPlaneList.__array_interface__') in this context (e.g. inside a plugin widget or dock widget) is deprecated and will be unavailable in version 0.5.0\n",
      "  return array(a, dtype, copy=False, order=order)\n",
      "/home/nathan/analysis/miniconda3/envs/cellx/lib/python3.9/site-packages/numpy/core/_asarray.py:102: FutureWarning: Private attribute access ('ClippingPlaneList.__array__') in this context (e.g. inside a plugin widget or dock widget) is deprecated and will be unavailable in version 0.5.0\n",
      "  return array(a, dtype, copy=False, order=order)\n",
      "/home/nathan/analysis/miniconda3/envs/cellx/lib/python3.9/site-packages/numpy/core/_asarray.py:102: FutureWarning: Private attribute access ('ClippingPlaneList.__array_struct__') in this context (e.g. inside a plugin widget or dock widget) is deprecated and will be unavailable in version 0.5.0\n",
      "  return array(a, dtype, copy=False, order=order)\n",
      "/home/nathan/analysis/miniconda3/envs/cellx/lib/python3.9/site-packages/numpy/core/_asarray.py:102: FutureWarning: Private attribute access ('ClippingPlaneList.__array_interface__') in this context (e.g. inside a plugin widget or dock widget) is deprecated and will be unavailable in version 0.5.0\n",
      "  return array(a, dtype, copy=False, order=order)\n",
      "/home/nathan/analysis/miniconda3/envs/cellx/lib/python3.9/site-packages/numpy/core/_asarray.py:102: FutureWarning: Private attribute access ('ClippingPlaneList.__array__') in this context (e.g. inside a plugin widget or dock widget) is deprecated and will be unavailable in version 0.5.0\n",
      "  return array(a, dtype, copy=False, order=order)\n"
     ]
    },
    {
     "name": "stdout",
     "output_type": "stream",
     "text": [
      "Rendering frame  1 of 199\n"
     ]
    },
    {
     "name": "stderr",
     "output_type": "stream",
     "text": [
      "/home/nathan/analysis/miniconda3/envs/cellx/lib/python3.9/site-packages/numpy/core/_asarray.py:102: FutureWarning: Private attribute access ('ClippingPlaneList.__array_struct__') in this context (e.g. inside a plugin widget or dock widget) is deprecated and will be unavailable in version 0.5.0\n",
      "  return array(a, dtype, copy=False, order=order)\n",
      "/home/nathan/analysis/miniconda3/envs/cellx/lib/python3.9/site-packages/numpy/core/_asarray.py:102: FutureWarning: Private attribute access ('ClippingPlaneList.__array_interface__') in this context (e.g. inside a plugin widget or dock widget) is deprecated and will be unavailable in version 0.5.0\n",
      "  return array(a, dtype, copy=False, order=order)\n",
      "/home/nathan/analysis/miniconda3/envs/cellx/lib/python3.9/site-packages/numpy/core/_asarray.py:102: FutureWarning: Private attribute access ('ClippingPlaneList.__array__') in this context (e.g. inside a plugin widget or dock widget) is deprecated and will be unavailable in version 0.5.0\n",
      "  return array(a, dtype, copy=False, order=order)\n",
      "IMAGEIO FFMPEG_WRITER WARNING: input image is not divisible by macro_block_size=16, resizing from (763, 1027) to (768, 1040) to ensure video compatibility with most codecs and players. To prevent resizing, make your input image divisible by the macro_block_size or set the macro_block_size to 1 (risking incompatibility).\n"
     ]
    },
    {
     "name": "stdout",
     "output_type": "stream",
     "text": [
      "Rendering frame  2 of 199\n"
     ]
    },
    {
     "name": "stderr",
     "output_type": "stream",
     "text": [
      "/home/nathan/analysis/miniconda3/envs/cellx/lib/python3.9/site-packages/numpy/core/_asarray.py:102: FutureWarning: Private attribute access ('ClippingPlaneList.__array_struct__') in this context (e.g. inside a plugin widget or dock widget) is deprecated and will be unavailable in version 0.5.0\n",
      "  return array(a, dtype, copy=False, order=order)\n",
      "/home/nathan/analysis/miniconda3/envs/cellx/lib/python3.9/site-packages/numpy/core/_asarray.py:102: FutureWarning: Private attribute access ('ClippingPlaneList.__array_interface__') in this context (e.g. inside a plugin widget or dock widget) is deprecated and will be unavailable in version 0.5.0\n",
      "  return array(a, dtype, copy=False, order=order)\n",
      "/home/nathan/analysis/miniconda3/envs/cellx/lib/python3.9/site-packages/numpy/core/_asarray.py:102: FutureWarning: Private attribute access ('ClippingPlaneList.__array__') in this context (e.g. inside a plugin widget or dock widget) is deprecated and will be unavailable in version 0.5.0\n",
      "  return array(a, dtype, copy=False, order=order)\n"
     ]
    },
    {
     "name": "stdout",
     "output_type": "stream",
     "text": [
      "Rendering frame  3 of 199\n"
     ]
    },
    {
     "name": "stderr",
     "output_type": "stream",
     "text": [
      "/home/nathan/analysis/miniconda3/envs/cellx/lib/python3.9/site-packages/numpy/core/_asarray.py:102: FutureWarning: Private attribute access ('ClippingPlaneList.__array_struct__') in this context (e.g. inside a plugin widget or dock widget) is deprecated and will be unavailable in version 0.5.0\n",
      "  return array(a, dtype, copy=False, order=order)\n",
      "/home/nathan/analysis/miniconda3/envs/cellx/lib/python3.9/site-packages/numpy/core/_asarray.py:102: FutureWarning: Private attribute access ('ClippingPlaneList.__array_interface__') in this context (e.g. inside a plugin widget or dock widget) is deprecated and will be unavailable in version 0.5.0\n",
      "  return array(a, dtype, copy=False, order=order)\n",
      "/home/nathan/analysis/miniconda3/envs/cellx/lib/python3.9/site-packages/numpy/core/_asarray.py:102: FutureWarning: Private attribute access ('ClippingPlaneList.__array__') in this context (e.g. inside a plugin widget or dock widget) is deprecated and will be unavailable in version 0.5.0\n",
      "  return array(a, dtype, copy=False, order=order)\n"
     ]
    },
    {
     "name": "stdout",
     "output_type": "stream",
     "text": [
      "Rendering frame  4 of 199\n"
     ]
    },
    {
     "name": "stderr",
     "output_type": "stream",
     "text": [
      "/home/nathan/analysis/miniconda3/envs/cellx/lib/python3.9/site-packages/numpy/core/_asarray.py:102: FutureWarning: Private attribute access ('ClippingPlaneList.__array_struct__') in this context (e.g. inside a plugin widget or dock widget) is deprecated and will be unavailable in version 0.5.0\n",
      "  return array(a, dtype, copy=False, order=order)\n",
      "/home/nathan/analysis/miniconda3/envs/cellx/lib/python3.9/site-packages/numpy/core/_asarray.py:102: FutureWarning: Private attribute access ('ClippingPlaneList.__array_interface__') in this context (e.g. inside a plugin widget or dock widget) is deprecated and will be unavailable in version 0.5.0\n",
      "  return array(a, dtype, copy=False, order=order)\n",
      "/home/nathan/analysis/miniconda3/envs/cellx/lib/python3.9/site-packages/numpy/core/_asarray.py:102: FutureWarning: Private attribute access ('ClippingPlaneList.__array__') in this context (e.g. inside a plugin widget or dock widget) is deprecated and will be unavailable in version 0.5.0\n",
      "  return array(a, dtype, copy=False, order=order)\n"
     ]
    },
    {
     "name": "stdout",
     "output_type": "stream",
     "text": [
      "Rendering frame  5 of 199\n"
     ]
    },
    {
     "name": "stderr",
     "output_type": "stream",
     "text": [
      "/home/nathan/analysis/miniconda3/envs/cellx/lib/python3.9/site-packages/numpy/core/_asarray.py:102: FutureWarning: Private attribute access ('ClippingPlaneList.__array_struct__') in this context (e.g. inside a plugin widget or dock widget) is deprecated and will be unavailable in version 0.5.0\n",
      "  return array(a, dtype, copy=False, order=order)\n",
      "/home/nathan/analysis/miniconda3/envs/cellx/lib/python3.9/site-packages/numpy/core/_asarray.py:102: FutureWarning: Private attribute access ('ClippingPlaneList.__array_interface__') in this context (e.g. inside a plugin widget or dock widget) is deprecated and will be unavailable in version 0.5.0\n",
      "  return array(a, dtype, copy=False, order=order)\n",
      "/home/nathan/analysis/miniconda3/envs/cellx/lib/python3.9/site-packages/numpy/core/_asarray.py:102: FutureWarning: Private attribute access ('ClippingPlaneList.__array__') in this context (e.g. inside a plugin widget or dock widget) is deprecated and will be unavailable in version 0.5.0\n",
      "  return array(a, dtype, copy=False, order=order)\n"
     ]
    },
    {
     "name": "stdout",
     "output_type": "stream",
     "text": [
      "Rendering frame  6 of 199\n"
     ]
    },
    {
     "name": "stderr",
     "output_type": "stream",
     "text": [
      "/home/nathan/analysis/miniconda3/envs/cellx/lib/python3.9/site-packages/numpy/core/_asarray.py:102: FutureWarning: Private attribute access ('ClippingPlaneList.__array_struct__') in this context (e.g. inside a plugin widget or dock widget) is deprecated and will be unavailable in version 0.5.0\n",
      "  return array(a, dtype, copy=False, order=order)\n",
      "/home/nathan/analysis/miniconda3/envs/cellx/lib/python3.9/site-packages/numpy/core/_asarray.py:102: FutureWarning: Private attribute access ('ClippingPlaneList.__array_interface__') in this context (e.g. inside a plugin widget or dock widget) is deprecated and will be unavailable in version 0.5.0\n",
      "  return array(a, dtype, copy=False, order=order)\n",
      "/home/nathan/analysis/miniconda3/envs/cellx/lib/python3.9/site-packages/numpy/core/_asarray.py:102: FutureWarning: Private attribute access ('ClippingPlaneList.__array__') in this context (e.g. inside a plugin widget or dock widget) is deprecated and will be unavailable in version 0.5.0\n",
      "  return array(a, dtype, copy=False, order=order)\n"
     ]
    },
    {
     "name": "stdout",
     "output_type": "stream",
     "text": [
      "Rendering frame  7 of 199\n"
     ]
    },
    {
     "name": "stderr",
     "output_type": "stream",
     "text": [
      "/home/nathan/analysis/miniconda3/envs/cellx/lib/python3.9/site-packages/numpy/core/_asarray.py:102: FutureWarning: Private attribute access ('ClippingPlaneList.__array_struct__') in this context (e.g. inside a plugin widget or dock widget) is deprecated and will be unavailable in version 0.5.0\n",
      "  return array(a, dtype, copy=False, order=order)\n",
      "/home/nathan/analysis/miniconda3/envs/cellx/lib/python3.9/site-packages/numpy/core/_asarray.py:102: FutureWarning: Private attribute access ('ClippingPlaneList.__array_interface__') in this context (e.g. inside a plugin widget or dock widget) is deprecated and will be unavailable in version 0.5.0\n",
      "  return array(a, dtype, copy=False, order=order)\n",
      "/home/nathan/analysis/miniconda3/envs/cellx/lib/python3.9/site-packages/numpy/core/_asarray.py:102: FutureWarning: Private attribute access ('ClippingPlaneList.__array__') in this context (e.g. inside a plugin widget or dock widget) is deprecated and will be unavailable in version 0.5.0\n",
      "  return array(a, dtype, copy=False, order=order)\n"
     ]
    },
    {
     "name": "stdout",
     "output_type": "stream",
     "text": [
      "Rendering frame  8 of 199\n"
     ]
    },
    {
     "name": "stderr",
     "output_type": "stream",
     "text": [
      "/home/nathan/analysis/miniconda3/envs/cellx/lib/python3.9/site-packages/numpy/core/_asarray.py:102: FutureWarning: Private attribute access ('ClippingPlaneList.__array_struct__') in this context (e.g. inside a plugin widget or dock widget) is deprecated and will be unavailable in version 0.5.0\n",
      "  return array(a, dtype, copy=False, order=order)\n",
      "/home/nathan/analysis/miniconda3/envs/cellx/lib/python3.9/site-packages/numpy/core/_asarray.py:102: FutureWarning: Private attribute access ('ClippingPlaneList.__array_interface__') in this context (e.g. inside a plugin widget or dock widget) is deprecated and will be unavailable in version 0.5.0\n",
      "  return array(a, dtype, copy=False, order=order)\n",
      "/home/nathan/analysis/miniconda3/envs/cellx/lib/python3.9/site-packages/numpy/core/_asarray.py:102: FutureWarning: Private attribute access ('ClippingPlaneList.__array__') in this context (e.g. inside a plugin widget or dock widget) is deprecated and will be unavailable in version 0.5.0\n",
      "  return array(a, dtype, copy=False, order=order)\n"
     ]
    },
    {
     "name": "stdout",
     "output_type": "stream",
     "text": [
      "Rendering frame  9 of 199\n"
     ]
    },
    {
     "name": "stderr",
     "output_type": "stream",
     "text": [
      "/home/nathan/analysis/miniconda3/envs/cellx/lib/python3.9/site-packages/numpy/core/_asarray.py:102: FutureWarning: Private attribute access ('ClippingPlaneList.__array_struct__') in this context (e.g. inside a plugin widget or dock widget) is deprecated and will be unavailable in version 0.5.0\n",
      "  return array(a, dtype, copy=False, order=order)\n",
      "/home/nathan/analysis/miniconda3/envs/cellx/lib/python3.9/site-packages/numpy/core/_asarray.py:102: FutureWarning: Private attribute access ('ClippingPlaneList.__array_interface__') in this context (e.g. inside a plugin widget or dock widget) is deprecated and will be unavailable in version 0.5.0\n",
      "  return array(a, dtype, copy=False, order=order)\n",
      "/home/nathan/analysis/miniconda3/envs/cellx/lib/python3.9/site-packages/numpy/core/_asarray.py:102: FutureWarning: Private attribute access ('ClippingPlaneList.__array__') in this context (e.g. inside a plugin widget or dock widget) is deprecated and will be unavailable in version 0.5.0\n",
      "  return array(a, dtype, copy=False, order=order)\n"
     ]
    },
    {
     "name": "stdout",
     "output_type": "stream",
     "text": [
      "Rendering frame  10 of 199\n"
     ]
    },
    {
     "name": "stderr",
     "output_type": "stream",
     "text": [
      "/home/nathan/analysis/miniconda3/envs/cellx/lib/python3.9/site-packages/numpy/core/_asarray.py:102: FutureWarning: Private attribute access ('ClippingPlaneList.__array_struct__') in this context (e.g. inside a plugin widget or dock widget) is deprecated and will be unavailable in version 0.5.0\n",
      "  return array(a, dtype, copy=False, order=order)\n",
      "/home/nathan/analysis/miniconda3/envs/cellx/lib/python3.9/site-packages/numpy/core/_asarray.py:102: FutureWarning: Private attribute access ('ClippingPlaneList.__array_interface__') in this context (e.g. inside a plugin widget or dock widget) is deprecated and will be unavailable in version 0.5.0\n",
      "  return array(a, dtype, copy=False, order=order)\n",
      "/home/nathan/analysis/miniconda3/envs/cellx/lib/python3.9/site-packages/numpy/core/_asarray.py:102: FutureWarning: Private attribute access ('ClippingPlaneList.__array__') in this context (e.g. inside a plugin widget or dock widget) is deprecated and will be unavailable in version 0.5.0\n",
      "  return array(a, dtype, copy=False, order=order)\n"
     ]
    },
    {
     "name": "stdout",
     "output_type": "stream",
     "text": [
      "Rendering frame  11 of 199\n"
     ]
    },
    {
     "name": "stderr",
     "output_type": "stream",
     "text": [
      "/home/nathan/analysis/miniconda3/envs/cellx/lib/python3.9/site-packages/numpy/core/_asarray.py:102: FutureWarning: Private attribute access ('ClippingPlaneList.__array_struct__') in this context (e.g. inside a plugin widget or dock widget) is deprecated and will be unavailable in version 0.5.0\n",
      "  return array(a, dtype, copy=False, order=order)\n",
      "/home/nathan/analysis/miniconda3/envs/cellx/lib/python3.9/site-packages/numpy/core/_asarray.py:102: FutureWarning: Private attribute access ('ClippingPlaneList.__array_interface__') in this context (e.g. inside a plugin widget or dock widget) is deprecated and will be unavailable in version 0.5.0\n",
      "  return array(a, dtype, copy=False, order=order)\n",
      "/home/nathan/analysis/miniconda3/envs/cellx/lib/python3.9/site-packages/numpy/core/_asarray.py:102: FutureWarning: Private attribute access ('ClippingPlaneList.__array__') in this context (e.g. inside a plugin widget or dock widget) is deprecated and will be unavailable in version 0.5.0\n",
      "  return array(a, dtype, copy=False, order=order)\n"
     ]
    },
    {
     "name": "stdout",
     "output_type": "stream",
     "text": [
      "Rendering frame  12 of 199\n"
     ]
    },
    {
     "name": "stderr",
     "output_type": "stream",
     "text": [
      "/home/nathan/analysis/miniconda3/envs/cellx/lib/python3.9/site-packages/numpy/core/_asarray.py:102: FutureWarning: Private attribute access ('ClippingPlaneList.__array_struct__') in this context (e.g. inside a plugin widget or dock widget) is deprecated and will be unavailable in version 0.5.0\n",
      "  return array(a, dtype, copy=False, order=order)\n",
      "/home/nathan/analysis/miniconda3/envs/cellx/lib/python3.9/site-packages/numpy/core/_asarray.py:102: FutureWarning: Private attribute access ('ClippingPlaneList.__array_interface__') in this context (e.g. inside a plugin widget or dock widget) is deprecated and will be unavailable in version 0.5.0\n",
      "  return array(a, dtype, copy=False, order=order)\n",
      "/home/nathan/analysis/miniconda3/envs/cellx/lib/python3.9/site-packages/numpy/core/_asarray.py:102: FutureWarning: Private attribute access ('ClippingPlaneList.__array__') in this context (e.g. inside a plugin widget or dock widget) is deprecated and will be unavailable in version 0.5.0\n",
      "  return array(a, dtype, copy=False, order=order)\n"
     ]
    },
    {
     "name": "stdout",
     "output_type": "stream",
     "text": [
      "Rendering frame  13 of 199\n"
     ]
    },
    {
     "name": "stderr",
     "output_type": "stream",
     "text": [
      "/home/nathan/analysis/miniconda3/envs/cellx/lib/python3.9/site-packages/numpy/core/_asarray.py:102: FutureWarning: Private attribute access ('ClippingPlaneList.__array_struct__') in this context (e.g. inside a plugin widget or dock widget) is deprecated and will be unavailable in version 0.5.0\n",
      "  return array(a, dtype, copy=False, order=order)\n",
      "/home/nathan/analysis/miniconda3/envs/cellx/lib/python3.9/site-packages/numpy/core/_asarray.py:102: FutureWarning: Private attribute access ('ClippingPlaneList.__array_interface__') in this context (e.g. inside a plugin widget or dock widget) is deprecated and will be unavailable in version 0.5.0\n",
      "  return array(a, dtype, copy=False, order=order)\n",
      "/home/nathan/analysis/miniconda3/envs/cellx/lib/python3.9/site-packages/numpy/core/_asarray.py:102: FutureWarning: Private attribute access ('ClippingPlaneList.__array__') in this context (e.g. inside a plugin widget or dock widget) is deprecated and will be unavailable in version 0.5.0\n",
      "  return array(a, dtype, copy=False, order=order)\n"
     ]
    },
    {
     "name": "stdout",
     "output_type": "stream",
     "text": [
      "Rendering frame  14 of 199\n"
     ]
    },
    {
     "name": "stderr",
     "output_type": "stream",
     "text": [
      "/home/nathan/analysis/miniconda3/envs/cellx/lib/python3.9/site-packages/numpy/core/_asarray.py:102: FutureWarning: Private attribute access ('ClippingPlaneList.__array_struct__') in this context (e.g. inside a plugin widget or dock widget) is deprecated and will be unavailable in version 0.5.0\n",
      "  return array(a, dtype, copy=False, order=order)\n",
      "/home/nathan/analysis/miniconda3/envs/cellx/lib/python3.9/site-packages/numpy/core/_asarray.py:102: FutureWarning: Private attribute access ('ClippingPlaneList.__array_interface__') in this context (e.g. inside a plugin widget or dock widget) is deprecated and will be unavailable in version 0.5.0\n",
      "  return array(a, dtype, copy=False, order=order)\n",
      "/home/nathan/analysis/miniconda3/envs/cellx/lib/python3.9/site-packages/numpy/core/_asarray.py:102: FutureWarning: Private attribute access ('ClippingPlaneList.__array__') in this context (e.g. inside a plugin widget or dock widget) is deprecated and will be unavailable in version 0.5.0\n",
      "  return array(a, dtype, copy=False, order=order)\n"
     ]
    },
    {
     "name": "stdout",
     "output_type": "stream",
     "text": [
      "Rendering frame  15 of 199\n"
     ]
    },
    {
     "name": "stderr",
     "output_type": "stream",
     "text": [
      "/home/nathan/analysis/miniconda3/envs/cellx/lib/python3.9/site-packages/numpy/core/_asarray.py:102: FutureWarning: Private attribute access ('ClippingPlaneList.__array_struct__') in this context (e.g. inside a plugin widget or dock widget) is deprecated and will be unavailable in version 0.5.0\n",
      "  return array(a, dtype, copy=False, order=order)\n",
      "/home/nathan/analysis/miniconda3/envs/cellx/lib/python3.9/site-packages/numpy/core/_asarray.py:102: FutureWarning: Private attribute access ('ClippingPlaneList.__array_interface__') in this context (e.g. inside a plugin widget or dock widget) is deprecated and will be unavailable in version 0.5.0\n",
      "  return array(a, dtype, copy=False, order=order)\n",
      "/home/nathan/analysis/miniconda3/envs/cellx/lib/python3.9/site-packages/numpy/core/_asarray.py:102: FutureWarning: Private attribute access ('ClippingPlaneList.__array__') in this context (e.g. inside a plugin widget or dock widget) is deprecated and will be unavailable in version 0.5.0\n",
      "  return array(a, dtype, copy=False, order=order)\n"
     ]
    },
    {
     "name": "stdout",
     "output_type": "stream",
     "text": [
      "Rendering frame  16 of 199\n"
     ]
    },
    {
     "name": "stderr",
     "output_type": "stream",
     "text": [
      "/home/nathan/analysis/miniconda3/envs/cellx/lib/python3.9/site-packages/numpy/core/_asarray.py:102: FutureWarning: Private attribute access ('ClippingPlaneList.__array_struct__') in this context (e.g. inside a plugin widget or dock widget) is deprecated and will be unavailable in version 0.5.0\n",
      "  return array(a, dtype, copy=False, order=order)\n",
      "/home/nathan/analysis/miniconda3/envs/cellx/lib/python3.9/site-packages/numpy/core/_asarray.py:102: FutureWarning: Private attribute access ('ClippingPlaneList.__array_interface__') in this context (e.g. inside a plugin widget or dock widget) is deprecated and will be unavailable in version 0.5.0\n",
      "  return array(a, dtype, copy=False, order=order)\n",
      "/home/nathan/analysis/miniconda3/envs/cellx/lib/python3.9/site-packages/numpy/core/_asarray.py:102: FutureWarning: Private attribute access ('ClippingPlaneList.__array__') in this context (e.g. inside a plugin widget or dock widget) is deprecated and will be unavailable in version 0.5.0\n",
      "  return array(a, dtype, copy=False, order=order)\n"
     ]
    },
    {
     "name": "stdout",
     "output_type": "stream",
     "text": [
      "Rendering frame  17 of 199\n"
     ]
    },
    {
     "name": "stderr",
     "output_type": "stream",
     "text": [
      "/home/nathan/analysis/miniconda3/envs/cellx/lib/python3.9/site-packages/numpy/core/_asarray.py:102: FutureWarning: Private attribute access ('ClippingPlaneList.__array_struct__') in this context (e.g. inside a plugin widget or dock widget) is deprecated and will be unavailable in version 0.5.0\n",
      "  return array(a, dtype, copy=False, order=order)\n",
      "/home/nathan/analysis/miniconda3/envs/cellx/lib/python3.9/site-packages/numpy/core/_asarray.py:102: FutureWarning: Private attribute access ('ClippingPlaneList.__array_interface__') in this context (e.g. inside a plugin widget or dock widget) is deprecated and will be unavailable in version 0.5.0\n",
      "  return array(a, dtype, copy=False, order=order)\n",
      "/home/nathan/analysis/miniconda3/envs/cellx/lib/python3.9/site-packages/numpy/core/_asarray.py:102: FutureWarning: Private attribute access ('ClippingPlaneList.__array__') in this context (e.g. inside a plugin widget or dock widget) is deprecated and will be unavailable in version 0.5.0\n",
      "  return array(a, dtype, copy=False, order=order)\n"
     ]
    },
    {
     "name": "stdout",
     "output_type": "stream",
     "text": [
      "Rendering frame  18 of 199\n"
     ]
    },
    {
     "name": "stderr",
     "output_type": "stream",
     "text": [
      "/home/nathan/analysis/miniconda3/envs/cellx/lib/python3.9/site-packages/numpy/core/_asarray.py:102: FutureWarning: Private attribute access ('ClippingPlaneList.__array_struct__') in this context (e.g. inside a plugin widget or dock widget) is deprecated and will be unavailable in version 0.5.0\n",
      "  return array(a, dtype, copy=False, order=order)\n",
      "/home/nathan/analysis/miniconda3/envs/cellx/lib/python3.9/site-packages/numpy/core/_asarray.py:102: FutureWarning: Private attribute access ('ClippingPlaneList.__array_interface__') in this context (e.g. inside a plugin widget or dock widget) is deprecated and will be unavailable in version 0.5.0\n",
      "  return array(a, dtype, copy=False, order=order)\n",
      "/home/nathan/analysis/miniconda3/envs/cellx/lib/python3.9/site-packages/numpy/core/_asarray.py:102: FutureWarning: Private attribute access ('ClippingPlaneList.__array__') in this context (e.g. inside a plugin widget or dock widget) is deprecated and will be unavailable in version 0.5.0\n",
      "  return array(a, dtype, copy=False, order=order)\n"
     ]
    },
    {
     "name": "stdout",
     "output_type": "stream",
     "text": [
      "Rendering frame  19 of 199\n"
     ]
    },
    {
     "name": "stderr",
     "output_type": "stream",
     "text": [
      "/home/nathan/analysis/miniconda3/envs/cellx/lib/python3.9/site-packages/numpy/core/_asarray.py:102: FutureWarning: Private attribute access ('ClippingPlaneList.__array_struct__') in this context (e.g. inside a plugin widget or dock widget) is deprecated and will be unavailable in version 0.5.0\n",
      "  return array(a, dtype, copy=False, order=order)\n",
      "/home/nathan/analysis/miniconda3/envs/cellx/lib/python3.9/site-packages/numpy/core/_asarray.py:102: FutureWarning: Private attribute access ('ClippingPlaneList.__array_interface__') in this context (e.g. inside a plugin widget or dock widget) is deprecated and will be unavailable in version 0.5.0\n",
      "  return array(a, dtype, copy=False, order=order)\n",
      "/home/nathan/analysis/miniconda3/envs/cellx/lib/python3.9/site-packages/numpy/core/_asarray.py:102: FutureWarning: Private attribute access ('ClippingPlaneList.__array__') in this context (e.g. inside a plugin widget or dock widget) is deprecated and will be unavailable in version 0.5.0\n",
      "  return array(a, dtype, copy=False, order=order)\n"
     ]
    },
    {
     "name": "stdout",
     "output_type": "stream",
     "text": [
      "Rendering frame  20 of 199\n"
     ]
    },
    {
     "name": "stderr",
     "output_type": "stream",
     "text": [
      "/home/nathan/analysis/miniconda3/envs/cellx/lib/python3.9/site-packages/numpy/core/_asarray.py:102: FutureWarning: Private attribute access ('ClippingPlaneList.__array_struct__') in this context (e.g. inside a plugin widget or dock widget) is deprecated and will be unavailable in version 0.5.0\n",
      "  return array(a, dtype, copy=False, order=order)\n",
      "/home/nathan/analysis/miniconda3/envs/cellx/lib/python3.9/site-packages/numpy/core/_asarray.py:102: FutureWarning: Private attribute access ('ClippingPlaneList.__array_interface__') in this context (e.g. inside a plugin widget or dock widget) is deprecated and will be unavailable in version 0.5.0\n",
      "  return array(a, dtype, copy=False, order=order)\n",
      "/home/nathan/analysis/miniconda3/envs/cellx/lib/python3.9/site-packages/numpy/core/_asarray.py:102: FutureWarning: Private attribute access ('ClippingPlaneList.__array__') in this context (e.g. inside a plugin widget or dock widget) is deprecated and will be unavailable in version 0.5.0\n",
      "  return array(a, dtype, copy=False, order=order)\n"
     ]
    },
    {
     "name": "stdout",
     "output_type": "stream",
     "text": [
      "Rendering frame  21 of 199\n"
     ]
    },
    {
     "name": "stderr",
     "output_type": "stream",
     "text": [
      "/home/nathan/analysis/miniconda3/envs/cellx/lib/python3.9/site-packages/numpy/core/_asarray.py:102: FutureWarning: Private attribute access ('ClippingPlaneList.__array_struct__') in this context (e.g. inside a plugin widget or dock widget) is deprecated and will be unavailable in version 0.5.0\n",
      "  return array(a, dtype, copy=False, order=order)\n",
      "/home/nathan/analysis/miniconda3/envs/cellx/lib/python3.9/site-packages/numpy/core/_asarray.py:102: FutureWarning: Private attribute access ('ClippingPlaneList.__array_interface__') in this context (e.g. inside a plugin widget or dock widget) is deprecated and will be unavailable in version 0.5.0\n",
      "  return array(a, dtype, copy=False, order=order)\n",
      "/home/nathan/analysis/miniconda3/envs/cellx/lib/python3.9/site-packages/numpy/core/_asarray.py:102: FutureWarning: Private attribute access ('ClippingPlaneList.__array__') in this context (e.g. inside a plugin widget or dock widget) is deprecated and will be unavailable in version 0.5.0\n",
      "  return array(a, dtype, copy=False, order=order)\n"
     ]
    },
    {
     "name": "stdout",
     "output_type": "stream",
     "text": [
      "Rendering frame  22 of 199\n"
     ]
    },
    {
     "name": "stderr",
     "output_type": "stream",
     "text": [
      "/home/nathan/analysis/miniconda3/envs/cellx/lib/python3.9/site-packages/numpy/core/_asarray.py:102: FutureWarning: Private attribute access ('ClippingPlaneList.__array_struct__') in this context (e.g. inside a plugin widget or dock widget) is deprecated and will be unavailable in version 0.5.0\n",
      "  return array(a, dtype, copy=False, order=order)\n",
      "/home/nathan/analysis/miniconda3/envs/cellx/lib/python3.9/site-packages/numpy/core/_asarray.py:102: FutureWarning: Private attribute access ('ClippingPlaneList.__array_interface__') in this context (e.g. inside a plugin widget or dock widget) is deprecated and will be unavailable in version 0.5.0\n",
      "  return array(a, dtype, copy=False, order=order)\n",
      "/home/nathan/analysis/miniconda3/envs/cellx/lib/python3.9/site-packages/numpy/core/_asarray.py:102: FutureWarning: Private attribute access ('ClippingPlaneList.__array__') in this context (e.g. inside a plugin widget or dock widget) is deprecated and will be unavailable in version 0.5.0\n",
      "  return array(a, dtype, copy=False, order=order)\n"
     ]
    },
    {
     "name": "stdout",
     "output_type": "stream",
     "text": [
      "Rendering frame  23 of 199\n"
     ]
    },
    {
     "name": "stderr",
     "output_type": "stream",
     "text": [
      "/home/nathan/analysis/miniconda3/envs/cellx/lib/python3.9/site-packages/numpy/core/_asarray.py:102: FutureWarning: Private attribute access ('ClippingPlaneList.__array_struct__') in this context (e.g. inside a plugin widget or dock widget) is deprecated and will be unavailable in version 0.5.0\n",
      "  return array(a, dtype, copy=False, order=order)\n",
      "/home/nathan/analysis/miniconda3/envs/cellx/lib/python3.9/site-packages/numpy/core/_asarray.py:102: FutureWarning: Private attribute access ('ClippingPlaneList.__array_interface__') in this context (e.g. inside a plugin widget or dock widget) is deprecated and will be unavailable in version 0.5.0\n",
      "  return array(a, dtype, copy=False, order=order)\n",
      "/home/nathan/analysis/miniconda3/envs/cellx/lib/python3.9/site-packages/numpy/core/_asarray.py:102: FutureWarning: Private attribute access ('ClippingPlaneList.__array__') in this context (e.g. inside a plugin widget or dock widget) is deprecated and will be unavailable in version 0.5.0\n",
      "  return array(a, dtype, copy=False, order=order)\n"
     ]
    },
    {
     "name": "stdout",
     "output_type": "stream",
     "text": [
      "Rendering frame  24 of 199\n"
     ]
    },
    {
     "name": "stderr",
     "output_type": "stream",
     "text": [
      "/home/nathan/analysis/miniconda3/envs/cellx/lib/python3.9/site-packages/numpy/core/_asarray.py:102: FutureWarning: Private attribute access ('ClippingPlaneList.__array_struct__') in this context (e.g. inside a plugin widget or dock widget) is deprecated and will be unavailable in version 0.5.0\n",
      "  return array(a, dtype, copy=False, order=order)\n",
      "/home/nathan/analysis/miniconda3/envs/cellx/lib/python3.9/site-packages/numpy/core/_asarray.py:102: FutureWarning: Private attribute access ('ClippingPlaneList.__array_interface__') in this context (e.g. inside a plugin widget or dock widget) is deprecated and will be unavailable in version 0.5.0\n",
      "  return array(a, dtype, copy=False, order=order)\n",
      "/home/nathan/analysis/miniconda3/envs/cellx/lib/python3.9/site-packages/numpy/core/_asarray.py:102: FutureWarning: Private attribute access ('ClippingPlaneList.__array__') in this context (e.g. inside a plugin widget or dock widget) is deprecated and will be unavailable in version 0.5.0\n",
      "  return array(a, dtype, copy=False, order=order)\n"
     ]
    },
    {
     "name": "stdout",
     "output_type": "stream",
     "text": [
      "Rendering frame  25 of 199\n"
     ]
    },
    {
     "name": "stderr",
     "output_type": "stream",
     "text": [
      "/home/nathan/analysis/miniconda3/envs/cellx/lib/python3.9/site-packages/numpy/core/_asarray.py:102: FutureWarning: Private attribute access ('ClippingPlaneList.__array_struct__') in this context (e.g. inside a plugin widget or dock widget) is deprecated and will be unavailable in version 0.5.0\n",
      "  return array(a, dtype, copy=False, order=order)\n",
      "/home/nathan/analysis/miniconda3/envs/cellx/lib/python3.9/site-packages/numpy/core/_asarray.py:102: FutureWarning: Private attribute access ('ClippingPlaneList.__array_interface__') in this context (e.g. inside a plugin widget or dock widget) is deprecated and will be unavailable in version 0.5.0\n",
      "  return array(a, dtype, copy=False, order=order)\n",
      "/home/nathan/analysis/miniconda3/envs/cellx/lib/python3.9/site-packages/numpy/core/_asarray.py:102: FutureWarning: Private attribute access ('ClippingPlaneList.__array__') in this context (e.g. inside a plugin widget or dock widget) is deprecated and will be unavailable in version 0.5.0\n",
      "  return array(a, dtype, copy=False, order=order)\n"
     ]
    },
    {
     "name": "stdout",
     "output_type": "stream",
     "text": [
      "Rendering frame  26 of 199\n"
     ]
    },
    {
     "name": "stderr",
     "output_type": "stream",
     "text": [
      "/home/nathan/analysis/miniconda3/envs/cellx/lib/python3.9/site-packages/numpy/core/_asarray.py:102: FutureWarning: Private attribute access ('ClippingPlaneList.__array_struct__') in this context (e.g. inside a plugin widget or dock widget) is deprecated and will be unavailable in version 0.5.0\n",
      "  return array(a, dtype, copy=False, order=order)\n",
      "/home/nathan/analysis/miniconda3/envs/cellx/lib/python3.9/site-packages/numpy/core/_asarray.py:102: FutureWarning: Private attribute access ('ClippingPlaneList.__array_interface__') in this context (e.g. inside a plugin widget or dock widget) is deprecated and will be unavailable in version 0.5.0\n",
      "  return array(a, dtype, copy=False, order=order)\n",
      "/home/nathan/analysis/miniconda3/envs/cellx/lib/python3.9/site-packages/numpy/core/_asarray.py:102: FutureWarning: Private attribute access ('ClippingPlaneList.__array__') in this context (e.g. inside a plugin widget or dock widget) is deprecated and will be unavailable in version 0.5.0\n",
      "  return array(a, dtype, copy=False, order=order)\n"
     ]
    },
    {
     "name": "stdout",
     "output_type": "stream",
     "text": [
      "Rendering frame  27 of 199\n"
     ]
    },
    {
     "name": "stderr",
     "output_type": "stream",
     "text": [
      "/home/nathan/analysis/miniconda3/envs/cellx/lib/python3.9/site-packages/numpy/core/_asarray.py:102: FutureWarning: Private attribute access ('ClippingPlaneList.__array_struct__') in this context (e.g. inside a plugin widget or dock widget) is deprecated and will be unavailable in version 0.5.0\n",
      "  return array(a, dtype, copy=False, order=order)\n",
      "/home/nathan/analysis/miniconda3/envs/cellx/lib/python3.9/site-packages/numpy/core/_asarray.py:102: FutureWarning: Private attribute access ('ClippingPlaneList.__array_interface__') in this context (e.g. inside a plugin widget or dock widget) is deprecated and will be unavailable in version 0.5.0\n",
      "  return array(a, dtype, copy=False, order=order)\n",
      "/home/nathan/analysis/miniconda3/envs/cellx/lib/python3.9/site-packages/numpy/core/_asarray.py:102: FutureWarning: Private attribute access ('ClippingPlaneList.__array__') in this context (e.g. inside a plugin widget or dock widget) is deprecated and will be unavailable in version 0.5.0\n",
      "  return array(a, dtype, copy=False, order=order)\n"
     ]
    },
    {
     "name": "stdout",
     "output_type": "stream",
     "text": [
      "Rendering frame  28 of 199\n"
     ]
    },
    {
     "name": "stderr",
     "output_type": "stream",
     "text": [
      "/home/nathan/analysis/miniconda3/envs/cellx/lib/python3.9/site-packages/numpy/core/_asarray.py:102: FutureWarning: Private attribute access ('ClippingPlaneList.__array_struct__') in this context (e.g. inside a plugin widget or dock widget) is deprecated and will be unavailable in version 0.5.0\n",
      "  return array(a, dtype, copy=False, order=order)\n",
      "/home/nathan/analysis/miniconda3/envs/cellx/lib/python3.9/site-packages/numpy/core/_asarray.py:102: FutureWarning: Private attribute access ('ClippingPlaneList.__array_interface__') in this context (e.g. inside a plugin widget or dock widget) is deprecated and will be unavailable in version 0.5.0\n",
      "  return array(a, dtype, copy=False, order=order)\n",
      "/home/nathan/analysis/miniconda3/envs/cellx/lib/python3.9/site-packages/numpy/core/_asarray.py:102: FutureWarning: Private attribute access ('ClippingPlaneList.__array__') in this context (e.g. inside a plugin widget or dock widget) is deprecated and will be unavailable in version 0.5.0\n",
      "  return array(a, dtype, copy=False, order=order)\n"
     ]
    },
    {
     "name": "stdout",
     "output_type": "stream",
     "text": [
      "Rendering frame  29 of 199\n"
     ]
    },
    {
     "name": "stderr",
     "output_type": "stream",
     "text": [
      "/home/nathan/analysis/miniconda3/envs/cellx/lib/python3.9/site-packages/numpy/core/_asarray.py:102: FutureWarning: Private attribute access ('ClippingPlaneList.__array_struct__') in this context (e.g. inside a plugin widget or dock widget) is deprecated and will be unavailable in version 0.5.0\n",
      "  return array(a, dtype, copy=False, order=order)\n",
      "/home/nathan/analysis/miniconda3/envs/cellx/lib/python3.9/site-packages/numpy/core/_asarray.py:102: FutureWarning: Private attribute access ('ClippingPlaneList.__array_interface__') in this context (e.g. inside a plugin widget or dock widget) is deprecated and will be unavailable in version 0.5.0\n",
      "  return array(a, dtype, copy=False, order=order)\n",
      "/home/nathan/analysis/miniconda3/envs/cellx/lib/python3.9/site-packages/numpy/core/_asarray.py:102: FutureWarning: Private attribute access ('ClippingPlaneList.__array__') in this context (e.g. inside a plugin widget or dock widget) is deprecated and will be unavailable in version 0.5.0\n",
      "  return array(a, dtype, copy=False, order=order)\n"
     ]
    },
    {
     "name": "stdout",
     "output_type": "stream",
     "text": [
      "Rendering frame  30 of 199\n"
     ]
    },
    {
     "name": "stderr",
     "output_type": "stream",
     "text": [
      "/home/nathan/analysis/miniconda3/envs/cellx/lib/python3.9/site-packages/numpy/core/_asarray.py:102: FutureWarning: Private attribute access ('ClippingPlaneList.__array_struct__') in this context (e.g. inside a plugin widget or dock widget) is deprecated and will be unavailable in version 0.5.0\n",
      "  return array(a, dtype, copy=False, order=order)\n",
      "/home/nathan/analysis/miniconda3/envs/cellx/lib/python3.9/site-packages/numpy/core/_asarray.py:102: FutureWarning: Private attribute access ('ClippingPlaneList.__array_interface__') in this context (e.g. inside a plugin widget or dock widget) is deprecated and will be unavailable in version 0.5.0\n",
      "  return array(a, dtype, copy=False, order=order)\n",
      "/home/nathan/analysis/miniconda3/envs/cellx/lib/python3.9/site-packages/numpy/core/_asarray.py:102: FutureWarning: Private attribute access ('ClippingPlaneList.__array__') in this context (e.g. inside a plugin widget or dock widget) is deprecated and will be unavailable in version 0.5.0\n",
      "  return array(a, dtype, copy=False, order=order)\n"
     ]
    },
    {
     "name": "stdout",
     "output_type": "stream",
     "text": [
      "Rendering frame  31 of 199\n"
     ]
    },
    {
     "name": "stderr",
     "output_type": "stream",
     "text": [
      "/home/nathan/analysis/miniconda3/envs/cellx/lib/python3.9/site-packages/numpy/core/_asarray.py:102: FutureWarning: Private attribute access ('ClippingPlaneList.__array_struct__') in this context (e.g. inside a plugin widget or dock widget) is deprecated and will be unavailable in version 0.5.0\n",
      "  return array(a, dtype, copy=False, order=order)\n",
      "/home/nathan/analysis/miniconda3/envs/cellx/lib/python3.9/site-packages/numpy/core/_asarray.py:102: FutureWarning: Private attribute access ('ClippingPlaneList.__array_interface__') in this context (e.g. inside a plugin widget or dock widget) is deprecated and will be unavailable in version 0.5.0\n",
      "  return array(a, dtype, copy=False, order=order)\n",
      "/home/nathan/analysis/miniconda3/envs/cellx/lib/python3.9/site-packages/numpy/core/_asarray.py:102: FutureWarning: Private attribute access ('ClippingPlaneList.__array__') in this context (e.g. inside a plugin widget or dock widget) is deprecated and will be unavailable in version 0.5.0\n",
      "  return array(a, dtype, copy=False, order=order)\n"
     ]
    },
    {
     "name": "stdout",
     "output_type": "stream",
     "text": [
      "Rendering frame  32 of 199\n"
     ]
    },
    {
     "name": "stderr",
     "output_type": "stream",
     "text": [
      "/home/nathan/analysis/miniconda3/envs/cellx/lib/python3.9/site-packages/numpy/core/_asarray.py:102: FutureWarning: Private attribute access ('ClippingPlaneList.__array_struct__') in this context (e.g. inside a plugin widget or dock widget) is deprecated and will be unavailable in version 0.5.0\n",
      "  return array(a, dtype, copy=False, order=order)\n",
      "/home/nathan/analysis/miniconda3/envs/cellx/lib/python3.9/site-packages/numpy/core/_asarray.py:102: FutureWarning: Private attribute access ('ClippingPlaneList.__array_interface__') in this context (e.g. inside a plugin widget or dock widget) is deprecated and will be unavailable in version 0.5.0\n",
      "  return array(a, dtype, copy=False, order=order)\n",
      "/home/nathan/analysis/miniconda3/envs/cellx/lib/python3.9/site-packages/numpy/core/_asarray.py:102: FutureWarning: Private attribute access ('ClippingPlaneList.__array__') in this context (e.g. inside a plugin widget or dock widget) is deprecated and will be unavailable in version 0.5.0\n",
      "  return array(a, dtype, copy=False, order=order)\n"
     ]
    },
    {
     "name": "stdout",
     "output_type": "stream",
     "text": [
      "Rendering frame  33 of 199\n"
     ]
    },
    {
     "name": "stderr",
     "output_type": "stream",
     "text": [
      "/home/nathan/analysis/miniconda3/envs/cellx/lib/python3.9/site-packages/numpy/core/_asarray.py:102: FutureWarning: Private attribute access ('ClippingPlaneList.__array_struct__') in this context (e.g. inside a plugin widget or dock widget) is deprecated and will be unavailable in version 0.5.0\n",
      "  return array(a, dtype, copy=False, order=order)\n",
      "/home/nathan/analysis/miniconda3/envs/cellx/lib/python3.9/site-packages/numpy/core/_asarray.py:102: FutureWarning: Private attribute access ('ClippingPlaneList.__array_interface__') in this context (e.g. inside a plugin widget or dock widget) is deprecated and will be unavailable in version 0.5.0\n",
      "  return array(a, dtype, copy=False, order=order)\n",
      "/home/nathan/analysis/miniconda3/envs/cellx/lib/python3.9/site-packages/numpy/core/_asarray.py:102: FutureWarning: Private attribute access ('ClippingPlaneList.__array__') in this context (e.g. inside a plugin widget or dock widget) is deprecated and will be unavailable in version 0.5.0\n",
      "  return array(a, dtype, copy=False, order=order)\n"
     ]
    },
    {
     "name": "stdout",
     "output_type": "stream",
     "text": [
      "Rendering frame  34 of 199\n"
     ]
    },
    {
     "name": "stderr",
     "output_type": "stream",
     "text": [
      "/home/nathan/analysis/miniconda3/envs/cellx/lib/python3.9/site-packages/numpy/core/_asarray.py:102: FutureWarning: Private attribute access ('ClippingPlaneList.__array_struct__') in this context (e.g. inside a plugin widget or dock widget) is deprecated and will be unavailable in version 0.5.0\n",
      "  return array(a, dtype, copy=False, order=order)\n",
      "/home/nathan/analysis/miniconda3/envs/cellx/lib/python3.9/site-packages/numpy/core/_asarray.py:102: FutureWarning: Private attribute access ('ClippingPlaneList.__array_interface__') in this context (e.g. inside a plugin widget or dock widget) is deprecated and will be unavailable in version 0.5.0\n",
      "  return array(a, dtype, copy=False, order=order)\n",
      "/home/nathan/analysis/miniconda3/envs/cellx/lib/python3.9/site-packages/numpy/core/_asarray.py:102: FutureWarning: Private attribute access ('ClippingPlaneList.__array__') in this context (e.g. inside a plugin widget or dock widget) is deprecated and will be unavailable in version 0.5.0\n",
      "  return array(a, dtype, copy=False, order=order)\n"
     ]
    },
    {
     "name": "stdout",
     "output_type": "stream",
     "text": [
      "Rendering frame  35 of 199\n"
     ]
    },
    {
     "name": "stderr",
     "output_type": "stream",
     "text": [
      "/home/nathan/analysis/miniconda3/envs/cellx/lib/python3.9/site-packages/numpy/core/_asarray.py:102: FutureWarning: Private attribute access ('ClippingPlaneList.__array_struct__') in this context (e.g. inside a plugin widget or dock widget) is deprecated and will be unavailable in version 0.5.0\n",
      "  return array(a, dtype, copy=False, order=order)\n",
      "/home/nathan/analysis/miniconda3/envs/cellx/lib/python3.9/site-packages/numpy/core/_asarray.py:102: FutureWarning: Private attribute access ('ClippingPlaneList.__array_interface__') in this context (e.g. inside a plugin widget or dock widget) is deprecated and will be unavailable in version 0.5.0\n",
      "  return array(a, dtype, copy=False, order=order)\n",
      "/home/nathan/analysis/miniconda3/envs/cellx/lib/python3.9/site-packages/numpy/core/_asarray.py:102: FutureWarning: Private attribute access ('ClippingPlaneList.__array__') in this context (e.g. inside a plugin widget or dock widget) is deprecated and will be unavailable in version 0.5.0\n",
      "  return array(a, dtype, copy=False, order=order)\n"
     ]
    },
    {
     "name": "stdout",
     "output_type": "stream",
     "text": [
      "Rendering frame  36 of 199\n"
     ]
    },
    {
     "name": "stderr",
     "output_type": "stream",
     "text": [
      "/home/nathan/analysis/miniconda3/envs/cellx/lib/python3.9/site-packages/numpy/core/_asarray.py:102: FutureWarning: Private attribute access ('ClippingPlaneList.__array_struct__') in this context (e.g. inside a plugin widget or dock widget) is deprecated and will be unavailable in version 0.5.0\n",
      "  return array(a, dtype, copy=False, order=order)\n",
      "/home/nathan/analysis/miniconda3/envs/cellx/lib/python3.9/site-packages/numpy/core/_asarray.py:102: FutureWarning: Private attribute access ('ClippingPlaneList.__array_interface__') in this context (e.g. inside a plugin widget or dock widget) is deprecated and will be unavailable in version 0.5.0\n",
      "  return array(a, dtype, copy=False, order=order)\n",
      "/home/nathan/analysis/miniconda3/envs/cellx/lib/python3.9/site-packages/numpy/core/_asarray.py:102: FutureWarning: Private attribute access ('ClippingPlaneList.__array__') in this context (e.g. inside a plugin widget or dock widget) is deprecated and will be unavailable in version 0.5.0\n",
      "  return array(a, dtype, copy=False, order=order)\n"
     ]
    },
    {
     "name": "stdout",
     "output_type": "stream",
     "text": [
      "Rendering frame  37 of 199\n"
     ]
    },
    {
     "name": "stderr",
     "output_type": "stream",
     "text": [
      "/home/nathan/analysis/miniconda3/envs/cellx/lib/python3.9/site-packages/numpy/core/_asarray.py:102: FutureWarning: Private attribute access ('ClippingPlaneList.__array_struct__') in this context (e.g. inside a plugin widget or dock widget) is deprecated and will be unavailable in version 0.5.0\n",
      "  return array(a, dtype, copy=False, order=order)\n",
      "/home/nathan/analysis/miniconda3/envs/cellx/lib/python3.9/site-packages/numpy/core/_asarray.py:102: FutureWarning: Private attribute access ('ClippingPlaneList.__array_interface__') in this context (e.g. inside a plugin widget or dock widget) is deprecated and will be unavailable in version 0.5.0\n",
      "  return array(a, dtype, copy=False, order=order)\n",
      "/home/nathan/analysis/miniconda3/envs/cellx/lib/python3.9/site-packages/numpy/core/_asarray.py:102: FutureWarning: Private attribute access ('ClippingPlaneList.__array__') in this context (e.g. inside a plugin widget or dock widget) is deprecated and will be unavailable in version 0.5.0\n",
      "  return array(a, dtype, copy=False, order=order)\n"
     ]
    },
    {
     "name": "stdout",
     "output_type": "stream",
     "text": [
      "Rendering frame  38 of 199\n"
     ]
    },
    {
     "name": "stderr",
     "output_type": "stream",
     "text": [
      "/home/nathan/analysis/miniconda3/envs/cellx/lib/python3.9/site-packages/numpy/core/_asarray.py:102: FutureWarning: Private attribute access ('ClippingPlaneList.__array_struct__') in this context (e.g. inside a plugin widget or dock widget) is deprecated and will be unavailable in version 0.5.0\n",
      "  return array(a, dtype, copy=False, order=order)\n",
      "/home/nathan/analysis/miniconda3/envs/cellx/lib/python3.9/site-packages/numpy/core/_asarray.py:102: FutureWarning: Private attribute access ('ClippingPlaneList.__array_interface__') in this context (e.g. inside a plugin widget or dock widget) is deprecated and will be unavailable in version 0.5.0\n",
      "  return array(a, dtype, copy=False, order=order)\n",
      "/home/nathan/analysis/miniconda3/envs/cellx/lib/python3.9/site-packages/numpy/core/_asarray.py:102: FutureWarning: Private attribute access ('ClippingPlaneList.__array__') in this context (e.g. inside a plugin widget or dock widget) is deprecated and will be unavailable in version 0.5.0\n",
      "  return array(a, dtype, copy=False, order=order)\n"
     ]
    },
    {
     "name": "stdout",
     "output_type": "stream",
     "text": [
      "Rendering frame  39 of 199\n"
     ]
    },
    {
     "name": "stderr",
     "output_type": "stream",
     "text": [
      "/home/nathan/analysis/miniconda3/envs/cellx/lib/python3.9/site-packages/numpy/core/_asarray.py:102: FutureWarning: Private attribute access ('ClippingPlaneList.__array_struct__') in this context (e.g. inside a plugin widget or dock widget) is deprecated and will be unavailable in version 0.5.0\n",
      "  return array(a, dtype, copy=False, order=order)\n",
      "/home/nathan/analysis/miniconda3/envs/cellx/lib/python3.9/site-packages/numpy/core/_asarray.py:102: FutureWarning: Private attribute access ('ClippingPlaneList.__array_interface__') in this context (e.g. inside a plugin widget or dock widget) is deprecated and will be unavailable in version 0.5.0\n",
      "  return array(a, dtype, copy=False, order=order)\n",
      "/home/nathan/analysis/miniconda3/envs/cellx/lib/python3.9/site-packages/numpy/core/_asarray.py:102: FutureWarning: Private attribute access ('ClippingPlaneList.__array__') in this context (e.g. inside a plugin widget or dock widget) is deprecated and will be unavailable in version 0.5.0\n",
      "  return array(a, dtype, copy=False, order=order)\n"
     ]
    },
    {
     "name": "stdout",
     "output_type": "stream",
     "text": [
      "Rendering frame  40 of 199\n"
     ]
    },
    {
     "name": "stderr",
     "output_type": "stream",
     "text": [
      "/home/nathan/analysis/miniconda3/envs/cellx/lib/python3.9/site-packages/numpy/core/_asarray.py:102: FutureWarning: Private attribute access ('ClippingPlaneList.__array_struct__') in this context (e.g. inside a plugin widget or dock widget) is deprecated and will be unavailable in version 0.5.0\n",
      "  return array(a, dtype, copy=False, order=order)\n",
      "/home/nathan/analysis/miniconda3/envs/cellx/lib/python3.9/site-packages/numpy/core/_asarray.py:102: FutureWarning: Private attribute access ('ClippingPlaneList.__array_interface__') in this context (e.g. inside a plugin widget or dock widget) is deprecated and will be unavailable in version 0.5.0\n",
      "  return array(a, dtype, copy=False, order=order)\n",
      "/home/nathan/analysis/miniconda3/envs/cellx/lib/python3.9/site-packages/numpy/core/_asarray.py:102: FutureWarning: Private attribute access ('ClippingPlaneList.__array__') in this context (e.g. inside a plugin widget or dock widget) is deprecated and will be unavailable in version 0.5.0\n",
      "  return array(a, dtype, copy=False, order=order)\n"
     ]
    },
    {
     "name": "stdout",
     "output_type": "stream",
     "text": [
      "Rendering frame  41 of 199\n"
     ]
    },
    {
     "name": "stderr",
     "output_type": "stream",
     "text": [
      "/home/nathan/analysis/miniconda3/envs/cellx/lib/python3.9/site-packages/numpy/core/_asarray.py:102: FutureWarning: Private attribute access ('ClippingPlaneList.__array_struct__') in this context (e.g. inside a plugin widget or dock widget) is deprecated and will be unavailable in version 0.5.0\n",
      "  return array(a, dtype, copy=False, order=order)\n",
      "/home/nathan/analysis/miniconda3/envs/cellx/lib/python3.9/site-packages/numpy/core/_asarray.py:102: FutureWarning: Private attribute access ('ClippingPlaneList.__array_interface__') in this context (e.g. inside a plugin widget or dock widget) is deprecated and will be unavailable in version 0.5.0\n",
      "  return array(a, dtype, copy=False, order=order)\n",
      "/home/nathan/analysis/miniconda3/envs/cellx/lib/python3.9/site-packages/numpy/core/_asarray.py:102: FutureWarning: Private attribute access ('ClippingPlaneList.__array__') in this context (e.g. inside a plugin widget or dock widget) is deprecated and will be unavailable in version 0.5.0\n",
      "  return array(a, dtype, copy=False, order=order)\n"
     ]
    },
    {
     "name": "stdout",
     "output_type": "stream",
     "text": [
      "Rendering frame  42 of 199\n"
     ]
    },
    {
     "name": "stderr",
     "output_type": "stream",
     "text": [
      "/home/nathan/analysis/miniconda3/envs/cellx/lib/python3.9/site-packages/numpy/core/_asarray.py:102: FutureWarning: Private attribute access ('ClippingPlaneList.__array_struct__') in this context (e.g. inside a plugin widget or dock widget) is deprecated and will be unavailable in version 0.5.0\n",
      "  return array(a, dtype, copy=False, order=order)\n",
      "/home/nathan/analysis/miniconda3/envs/cellx/lib/python3.9/site-packages/numpy/core/_asarray.py:102: FutureWarning: Private attribute access ('ClippingPlaneList.__array_interface__') in this context (e.g. inside a plugin widget or dock widget) is deprecated and will be unavailable in version 0.5.0\n",
      "  return array(a, dtype, copy=False, order=order)\n",
      "/home/nathan/analysis/miniconda3/envs/cellx/lib/python3.9/site-packages/numpy/core/_asarray.py:102: FutureWarning: Private attribute access ('ClippingPlaneList.__array__') in this context (e.g. inside a plugin widget or dock widget) is deprecated and will be unavailable in version 0.5.0\n",
      "  return array(a, dtype, copy=False, order=order)\n"
     ]
    },
    {
     "name": "stdout",
     "output_type": "stream",
     "text": [
      "Rendering frame  43 of 199\n"
     ]
    },
    {
     "name": "stderr",
     "output_type": "stream",
     "text": [
      "/home/nathan/analysis/miniconda3/envs/cellx/lib/python3.9/site-packages/numpy/core/_asarray.py:102: FutureWarning: Private attribute access ('ClippingPlaneList.__array_struct__') in this context (e.g. inside a plugin widget or dock widget) is deprecated and will be unavailable in version 0.5.0\n",
      "  return array(a, dtype, copy=False, order=order)\n",
      "/home/nathan/analysis/miniconda3/envs/cellx/lib/python3.9/site-packages/numpy/core/_asarray.py:102: FutureWarning: Private attribute access ('ClippingPlaneList.__array_interface__') in this context (e.g. inside a plugin widget or dock widget) is deprecated and will be unavailable in version 0.5.0\n",
      "  return array(a, dtype, copy=False, order=order)\n",
      "/home/nathan/analysis/miniconda3/envs/cellx/lib/python3.9/site-packages/numpy/core/_asarray.py:102: FutureWarning: Private attribute access ('ClippingPlaneList.__array__') in this context (e.g. inside a plugin widget or dock widget) is deprecated and will be unavailable in version 0.5.0\n",
      "  return array(a, dtype, copy=False, order=order)\n"
     ]
    },
    {
     "name": "stdout",
     "output_type": "stream",
     "text": [
      "Rendering frame  44 of 199\n"
     ]
    },
    {
     "name": "stderr",
     "output_type": "stream",
     "text": [
      "/home/nathan/analysis/miniconda3/envs/cellx/lib/python3.9/site-packages/numpy/core/_asarray.py:102: FutureWarning: Private attribute access ('ClippingPlaneList.__array_struct__') in this context (e.g. inside a plugin widget or dock widget) is deprecated and will be unavailable in version 0.5.0\n",
      "  return array(a, dtype, copy=False, order=order)\n",
      "/home/nathan/analysis/miniconda3/envs/cellx/lib/python3.9/site-packages/numpy/core/_asarray.py:102: FutureWarning: Private attribute access ('ClippingPlaneList.__array_interface__') in this context (e.g. inside a plugin widget or dock widget) is deprecated and will be unavailable in version 0.5.0\n",
      "  return array(a, dtype, copy=False, order=order)\n",
      "/home/nathan/analysis/miniconda3/envs/cellx/lib/python3.9/site-packages/numpy/core/_asarray.py:102: FutureWarning: Private attribute access ('ClippingPlaneList.__array__') in this context (e.g. inside a plugin widget or dock widget) is deprecated and will be unavailable in version 0.5.0\n",
      "  return array(a, dtype, copy=False, order=order)\n"
     ]
    },
    {
     "name": "stdout",
     "output_type": "stream",
     "text": [
      "Rendering frame  45 of 199\n"
     ]
    },
    {
     "name": "stderr",
     "output_type": "stream",
     "text": [
      "/home/nathan/analysis/miniconda3/envs/cellx/lib/python3.9/site-packages/numpy/core/_asarray.py:102: FutureWarning: Private attribute access ('ClippingPlaneList.__array_struct__') in this context (e.g. inside a plugin widget or dock widget) is deprecated and will be unavailable in version 0.5.0\n",
      "  return array(a, dtype, copy=False, order=order)\n",
      "/home/nathan/analysis/miniconda3/envs/cellx/lib/python3.9/site-packages/numpy/core/_asarray.py:102: FutureWarning: Private attribute access ('ClippingPlaneList.__array_interface__') in this context (e.g. inside a plugin widget or dock widget) is deprecated and will be unavailable in version 0.5.0\n",
      "  return array(a, dtype, copy=False, order=order)\n",
      "/home/nathan/analysis/miniconda3/envs/cellx/lib/python3.9/site-packages/numpy/core/_asarray.py:102: FutureWarning: Private attribute access ('ClippingPlaneList.__array__') in this context (e.g. inside a plugin widget or dock widget) is deprecated and will be unavailable in version 0.5.0\n",
      "  return array(a, dtype, copy=False, order=order)\n"
     ]
    },
    {
     "name": "stdout",
     "output_type": "stream",
     "text": [
      "Rendering frame  46 of 199\n"
     ]
    },
    {
     "name": "stderr",
     "output_type": "stream",
     "text": [
      "/home/nathan/analysis/miniconda3/envs/cellx/lib/python3.9/site-packages/numpy/core/_asarray.py:102: FutureWarning: Private attribute access ('ClippingPlaneList.__array_struct__') in this context (e.g. inside a plugin widget or dock widget) is deprecated and will be unavailable in version 0.5.0\n",
      "  return array(a, dtype, copy=False, order=order)\n",
      "/home/nathan/analysis/miniconda3/envs/cellx/lib/python3.9/site-packages/numpy/core/_asarray.py:102: FutureWarning: Private attribute access ('ClippingPlaneList.__array_interface__') in this context (e.g. inside a plugin widget or dock widget) is deprecated and will be unavailable in version 0.5.0\n",
      "  return array(a, dtype, copy=False, order=order)\n",
      "/home/nathan/analysis/miniconda3/envs/cellx/lib/python3.9/site-packages/numpy/core/_asarray.py:102: FutureWarning: Private attribute access ('ClippingPlaneList.__array__') in this context (e.g. inside a plugin widget or dock widget) is deprecated and will be unavailable in version 0.5.0\n",
      "  return array(a, dtype, copy=False, order=order)\n"
     ]
    },
    {
     "name": "stdout",
     "output_type": "stream",
     "text": [
      "Rendering frame  47 of 199\n"
     ]
    },
    {
     "name": "stderr",
     "output_type": "stream",
     "text": [
      "/home/nathan/analysis/miniconda3/envs/cellx/lib/python3.9/site-packages/numpy/core/_asarray.py:102: FutureWarning: Private attribute access ('ClippingPlaneList.__array_struct__') in this context (e.g. inside a plugin widget or dock widget) is deprecated and will be unavailable in version 0.5.0\n",
      "  return array(a, dtype, copy=False, order=order)\n",
      "/home/nathan/analysis/miniconda3/envs/cellx/lib/python3.9/site-packages/numpy/core/_asarray.py:102: FutureWarning: Private attribute access ('ClippingPlaneList.__array_interface__') in this context (e.g. inside a plugin widget or dock widget) is deprecated and will be unavailable in version 0.5.0\n",
      "  return array(a, dtype, copy=False, order=order)\n",
      "/home/nathan/analysis/miniconda3/envs/cellx/lib/python3.9/site-packages/numpy/core/_asarray.py:102: FutureWarning: Private attribute access ('ClippingPlaneList.__array__') in this context (e.g. inside a plugin widget or dock widget) is deprecated and will be unavailable in version 0.5.0\n",
      "  return array(a, dtype, copy=False, order=order)\n"
     ]
    },
    {
     "name": "stdout",
     "output_type": "stream",
     "text": [
      "Rendering frame  48 of 199\n"
     ]
    },
    {
     "name": "stderr",
     "output_type": "stream",
     "text": [
      "/home/nathan/analysis/miniconda3/envs/cellx/lib/python3.9/site-packages/numpy/core/_asarray.py:102: FutureWarning: Private attribute access ('ClippingPlaneList.__array_struct__') in this context (e.g. inside a plugin widget or dock widget) is deprecated and will be unavailable in version 0.5.0\n",
      "  return array(a, dtype, copy=False, order=order)\n",
      "/home/nathan/analysis/miniconda3/envs/cellx/lib/python3.9/site-packages/numpy/core/_asarray.py:102: FutureWarning: Private attribute access ('ClippingPlaneList.__array_interface__') in this context (e.g. inside a plugin widget or dock widget) is deprecated and will be unavailable in version 0.5.0\n",
      "  return array(a, dtype, copy=False, order=order)\n",
      "/home/nathan/analysis/miniconda3/envs/cellx/lib/python3.9/site-packages/numpy/core/_asarray.py:102: FutureWarning: Private attribute access ('ClippingPlaneList.__array__') in this context (e.g. inside a plugin widget or dock widget) is deprecated and will be unavailable in version 0.5.0\n",
      "  return array(a, dtype, copy=False, order=order)\n"
     ]
    },
    {
     "name": "stdout",
     "output_type": "stream",
     "text": [
      "Rendering frame  49 of 199\n"
     ]
    },
    {
     "name": "stderr",
     "output_type": "stream",
     "text": [
      "/home/nathan/analysis/miniconda3/envs/cellx/lib/python3.9/site-packages/numpy/core/_asarray.py:102: FutureWarning: Private attribute access ('ClippingPlaneList.__array_struct__') in this context (e.g. inside a plugin widget or dock widget) is deprecated and will be unavailable in version 0.5.0\n",
      "  return array(a, dtype, copy=False, order=order)\n",
      "/home/nathan/analysis/miniconda3/envs/cellx/lib/python3.9/site-packages/numpy/core/_asarray.py:102: FutureWarning: Private attribute access ('ClippingPlaneList.__array_interface__') in this context (e.g. inside a plugin widget or dock widget) is deprecated and will be unavailable in version 0.5.0\n",
      "  return array(a, dtype, copy=False, order=order)\n",
      "/home/nathan/analysis/miniconda3/envs/cellx/lib/python3.9/site-packages/numpy/core/_asarray.py:102: FutureWarning: Private attribute access ('ClippingPlaneList.__array__') in this context (e.g. inside a plugin widget or dock widget) is deprecated and will be unavailable in version 0.5.0\n",
      "  return array(a, dtype, copy=False, order=order)\n"
     ]
    },
    {
     "name": "stdout",
     "output_type": "stream",
     "text": [
      "Rendering frame  50 of 199\n"
     ]
    },
    {
     "name": "stderr",
     "output_type": "stream",
     "text": [
      "/home/nathan/analysis/miniconda3/envs/cellx/lib/python3.9/site-packages/numpy/core/_asarray.py:102: FutureWarning: Private attribute access ('ClippingPlaneList.__array_struct__') in this context (e.g. inside a plugin widget or dock widget) is deprecated and will be unavailable in version 0.5.0\n",
      "  return array(a, dtype, copy=False, order=order)\n",
      "/home/nathan/analysis/miniconda3/envs/cellx/lib/python3.9/site-packages/numpy/core/_asarray.py:102: FutureWarning: Private attribute access ('ClippingPlaneList.__array_interface__') in this context (e.g. inside a plugin widget or dock widget) is deprecated and will be unavailable in version 0.5.0\n",
      "  return array(a, dtype, copy=False, order=order)\n",
      "/home/nathan/analysis/miniconda3/envs/cellx/lib/python3.9/site-packages/numpy/core/_asarray.py:102: FutureWarning: Private attribute access ('ClippingPlaneList.__array__') in this context (e.g. inside a plugin widget or dock widget) is deprecated and will be unavailable in version 0.5.0\n",
      "  return array(a, dtype, copy=False, order=order)\n"
     ]
    },
    {
     "name": "stdout",
     "output_type": "stream",
     "text": [
      "Rendering frame  51 of 199\n"
     ]
    },
    {
     "name": "stderr",
     "output_type": "stream",
     "text": [
      "/home/nathan/analysis/miniconda3/envs/cellx/lib/python3.9/site-packages/numpy/core/_asarray.py:102: FutureWarning: Private attribute access ('ClippingPlaneList.__array_struct__') in this context (e.g. inside a plugin widget or dock widget) is deprecated and will be unavailable in version 0.5.0\n",
      "  return array(a, dtype, copy=False, order=order)\n",
      "/home/nathan/analysis/miniconda3/envs/cellx/lib/python3.9/site-packages/numpy/core/_asarray.py:102: FutureWarning: Private attribute access ('ClippingPlaneList.__array_interface__') in this context (e.g. inside a plugin widget or dock widget) is deprecated and will be unavailable in version 0.5.0\n",
      "  return array(a, dtype, copy=False, order=order)\n",
      "/home/nathan/analysis/miniconda3/envs/cellx/lib/python3.9/site-packages/numpy/core/_asarray.py:102: FutureWarning: Private attribute access ('ClippingPlaneList.__array__') in this context (e.g. inside a plugin widget or dock widget) is deprecated and will be unavailable in version 0.5.0\n",
      "  return array(a, dtype, copy=False, order=order)\n"
     ]
    },
    {
     "name": "stdout",
     "output_type": "stream",
     "text": [
      "Rendering frame  52 of 199\n"
     ]
    },
    {
     "name": "stderr",
     "output_type": "stream",
     "text": [
      "/home/nathan/analysis/miniconda3/envs/cellx/lib/python3.9/site-packages/numpy/core/_asarray.py:102: FutureWarning: Private attribute access ('ClippingPlaneList.__array_struct__') in this context (e.g. inside a plugin widget or dock widget) is deprecated and will be unavailable in version 0.5.0\n",
      "  return array(a, dtype, copy=False, order=order)\n",
      "/home/nathan/analysis/miniconda3/envs/cellx/lib/python3.9/site-packages/numpy/core/_asarray.py:102: FutureWarning: Private attribute access ('ClippingPlaneList.__array_interface__') in this context (e.g. inside a plugin widget or dock widget) is deprecated and will be unavailable in version 0.5.0\n",
      "  return array(a, dtype, copy=False, order=order)\n",
      "/home/nathan/analysis/miniconda3/envs/cellx/lib/python3.9/site-packages/numpy/core/_asarray.py:102: FutureWarning: Private attribute access ('ClippingPlaneList.__array__') in this context (e.g. inside a plugin widget or dock widget) is deprecated and will be unavailable in version 0.5.0\n",
      "  return array(a, dtype, copy=False, order=order)\n"
     ]
    },
    {
     "name": "stdout",
     "output_type": "stream",
     "text": [
      "Rendering frame  53 of 199\n"
     ]
    },
    {
     "name": "stderr",
     "output_type": "stream",
     "text": [
      "/home/nathan/analysis/miniconda3/envs/cellx/lib/python3.9/site-packages/numpy/core/_asarray.py:102: FutureWarning: Private attribute access ('ClippingPlaneList.__array_struct__') in this context (e.g. inside a plugin widget or dock widget) is deprecated and will be unavailable in version 0.5.0\n",
      "  return array(a, dtype, copy=False, order=order)\n",
      "/home/nathan/analysis/miniconda3/envs/cellx/lib/python3.9/site-packages/numpy/core/_asarray.py:102: FutureWarning: Private attribute access ('ClippingPlaneList.__array_interface__') in this context (e.g. inside a plugin widget or dock widget) is deprecated and will be unavailable in version 0.5.0\n",
      "  return array(a, dtype, copy=False, order=order)\n",
      "/home/nathan/analysis/miniconda3/envs/cellx/lib/python3.9/site-packages/numpy/core/_asarray.py:102: FutureWarning: Private attribute access ('ClippingPlaneList.__array__') in this context (e.g. inside a plugin widget or dock widget) is deprecated and will be unavailable in version 0.5.0\n",
      "  return array(a, dtype, copy=False, order=order)\n"
     ]
    },
    {
     "name": "stdout",
     "output_type": "stream",
     "text": [
      "Rendering frame  54 of 199\n"
     ]
    },
    {
     "name": "stderr",
     "output_type": "stream",
     "text": [
      "/home/nathan/analysis/miniconda3/envs/cellx/lib/python3.9/site-packages/numpy/core/_asarray.py:102: FutureWarning: Private attribute access ('ClippingPlaneList.__array_struct__') in this context (e.g. inside a plugin widget or dock widget) is deprecated and will be unavailable in version 0.5.0\n",
      "  return array(a, dtype, copy=False, order=order)\n",
      "/home/nathan/analysis/miniconda3/envs/cellx/lib/python3.9/site-packages/numpy/core/_asarray.py:102: FutureWarning: Private attribute access ('ClippingPlaneList.__array_interface__') in this context (e.g. inside a plugin widget or dock widget) is deprecated and will be unavailable in version 0.5.0\n",
      "  return array(a, dtype, copy=False, order=order)\n",
      "/home/nathan/analysis/miniconda3/envs/cellx/lib/python3.9/site-packages/numpy/core/_asarray.py:102: FutureWarning: Private attribute access ('ClippingPlaneList.__array__') in this context (e.g. inside a plugin widget or dock widget) is deprecated and will be unavailable in version 0.5.0\n",
      "  return array(a, dtype, copy=False, order=order)\n"
     ]
    },
    {
     "name": "stdout",
     "output_type": "stream",
     "text": [
      "Rendering frame  55 of 199\n"
     ]
    },
    {
     "name": "stderr",
     "output_type": "stream",
     "text": [
      "/home/nathan/analysis/miniconda3/envs/cellx/lib/python3.9/site-packages/numpy/core/_asarray.py:102: FutureWarning: Private attribute access ('ClippingPlaneList.__array_struct__') in this context (e.g. inside a plugin widget or dock widget) is deprecated and will be unavailable in version 0.5.0\n",
      "  return array(a, dtype, copy=False, order=order)\n",
      "/home/nathan/analysis/miniconda3/envs/cellx/lib/python3.9/site-packages/numpy/core/_asarray.py:102: FutureWarning: Private attribute access ('ClippingPlaneList.__array_interface__') in this context (e.g. inside a plugin widget or dock widget) is deprecated and will be unavailable in version 0.5.0\n",
      "  return array(a, dtype, copy=False, order=order)\n",
      "/home/nathan/analysis/miniconda3/envs/cellx/lib/python3.9/site-packages/numpy/core/_asarray.py:102: FutureWarning: Private attribute access ('ClippingPlaneList.__array__') in this context (e.g. inside a plugin widget or dock widget) is deprecated and will be unavailable in version 0.5.0\n",
      "  return array(a, dtype, copy=False, order=order)\n"
     ]
    },
    {
     "name": "stdout",
     "output_type": "stream",
     "text": [
      "Rendering frame  56 of 199\n"
     ]
    },
    {
     "name": "stderr",
     "output_type": "stream",
     "text": [
      "/home/nathan/analysis/miniconda3/envs/cellx/lib/python3.9/site-packages/numpy/core/_asarray.py:102: FutureWarning: Private attribute access ('ClippingPlaneList.__array_struct__') in this context (e.g. inside a plugin widget or dock widget) is deprecated and will be unavailable in version 0.5.0\n",
      "  return array(a, dtype, copy=False, order=order)\n",
      "/home/nathan/analysis/miniconda3/envs/cellx/lib/python3.9/site-packages/numpy/core/_asarray.py:102: FutureWarning: Private attribute access ('ClippingPlaneList.__array_interface__') in this context (e.g. inside a plugin widget or dock widget) is deprecated and will be unavailable in version 0.5.0\n",
      "  return array(a, dtype, copy=False, order=order)\n",
      "/home/nathan/analysis/miniconda3/envs/cellx/lib/python3.9/site-packages/numpy/core/_asarray.py:102: FutureWarning: Private attribute access ('ClippingPlaneList.__array__') in this context (e.g. inside a plugin widget or dock widget) is deprecated and will be unavailable in version 0.5.0\n",
      "  return array(a, dtype, copy=False, order=order)\n"
     ]
    },
    {
     "name": "stdout",
     "output_type": "stream",
     "text": [
      "Rendering frame  57 of 199\n"
     ]
    },
    {
     "name": "stderr",
     "output_type": "stream",
     "text": [
      "/home/nathan/analysis/miniconda3/envs/cellx/lib/python3.9/site-packages/numpy/core/_asarray.py:102: FutureWarning: Private attribute access ('ClippingPlaneList.__array_struct__') in this context (e.g. inside a plugin widget or dock widget) is deprecated and will be unavailable in version 0.5.0\n",
      "  return array(a, dtype, copy=False, order=order)\n",
      "/home/nathan/analysis/miniconda3/envs/cellx/lib/python3.9/site-packages/numpy/core/_asarray.py:102: FutureWarning: Private attribute access ('ClippingPlaneList.__array_interface__') in this context (e.g. inside a plugin widget or dock widget) is deprecated and will be unavailable in version 0.5.0\n",
      "  return array(a, dtype, copy=False, order=order)\n",
      "/home/nathan/analysis/miniconda3/envs/cellx/lib/python3.9/site-packages/numpy/core/_asarray.py:102: FutureWarning: Private attribute access ('ClippingPlaneList.__array__') in this context (e.g. inside a plugin widget or dock widget) is deprecated and will be unavailable in version 0.5.0\n",
      "  return array(a, dtype, copy=False, order=order)\n"
     ]
    },
    {
     "name": "stdout",
     "output_type": "stream",
     "text": [
      "Rendering frame  58 of 199\n"
     ]
    },
    {
     "name": "stderr",
     "output_type": "stream",
     "text": [
      "/home/nathan/analysis/miniconda3/envs/cellx/lib/python3.9/site-packages/numpy/core/_asarray.py:102: FutureWarning: Private attribute access ('ClippingPlaneList.__array_struct__') in this context (e.g. inside a plugin widget or dock widget) is deprecated and will be unavailable in version 0.5.0\n",
      "  return array(a, dtype, copy=False, order=order)\n",
      "/home/nathan/analysis/miniconda3/envs/cellx/lib/python3.9/site-packages/numpy/core/_asarray.py:102: FutureWarning: Private attribute access ('ClippingPlaneList.__array_interface__') in this context (e.g. inside a plugin widget or dock widget) is deprecated and will be unavailable in version 0.5.0\n",
      "  return array(a, dtype, copy=False, order=order)\n",
      "/home/nathan/analysis/miniconda3/envs/cellx/lib/python3.9/site-packages/numpy/core/_asarray.py:102: FutureWarning: Private attribute access ('ClippingPlaneList.__array__') in this context (e.g. inside a plugin widget or dock widget) is deprecated and will be unavailable in version 0.5.0\n",
      "  return array(a, dtype, copy=False, order=order)\n"
     ]
    },
    {
     "name": "stdout",
     "output_type": "stream",
     "text": [
      "Rendering frame  59 of 199\n"
     ]
    },
    {
     "name": "stderr",
     "output_type": "stream",
     "text": [
      "/home/nathan/analysis/miniconda3/envs/cellx/lib/python3.9/site-packages/numpy/core/_asarray.py:102: FutureWarning: Private attribute access ('ClippingPlaneList.__array_struct__') in this context (e.g. inside a plugin widget or dock widget) is deprecated and will be unavailable in version 0.5.0\n",
      "  return array(a, dtype, copy=False, order=order)\n",
      "/home/nathan/analysis/miniconda3/envs/cellx/lib/python3.9/site-packages/numpy/core/_asarray.py:102: FutureWarning: Private attribute access ('ClippingPlaneList.__array_interface__') in this context (e.g. inside a plugin widget or dock widget) is deprecated and will be unavailable in version 0.5.0\n",
      "  return array(a, dtype, copy=False, order=order)\n",
      "/home/nathan/analysis/miniconda3/envs/cellx/lib/python3.9/site-packages/numpy/core/_asarray.py:102: FutureWarning: Private attribute access ('ClippingPlaneList.__array__') in this context (e.g. inside a plugin widget or dock widget) is deprecated and will be unavailable in version 0.5.0\n",
      "  return array(a, dtype, copy=False, order=order)\n"
     ]
    },
    {
     "name": "stdout",
     "output_type": "stream",
     "text": [
      "Rendering frame  60 of 199\n"
     ]
    },
    {
     "name": "stderr",
     "output_type": "stream",
     "text": [
      "/home/nathan/analysis/miniconda3/envs/cellx/lib/python3.9/site-packages/numpy/core/_asarray.py:102: FutureWarning: Private attribute access ('ClippingPlaneList.__array_struct__') in this context (e.g. inside a plugin widget or dock widget) is deprecated and will be unavailable in version 0.5.0\n",
      "  return array(a, dtype, copy=False, order=order)\n",
      "/home/nathan/analysis/miniconda3/envs/cellx/lib/python3.9/site-packages/numpy/core/_asarray.py:102: FutureWarning: Private attribute access ('ClippingPlaneList.__array_interface__') in this context (e.g. inside a plugin widget or dock widget) is deprecated and will be unavailable in version 0.5.0\n",
      "  return array(a, dtype, copy=False, order=order)\n",
      "/home/nathan/analysis/miniconda3/envs/cellx/lib/python3.9/site-packages/numpy/core/_asarray.py:102: FutureWarning: Private attribute access ('ClippingPlaneList.__array__') in this context (e.g. inside a plugin widget or dock widget) is deprecated and will be unavailable in version 0.5.0\n",
      "  return array(a, dtype, copy=False, order=order)\n"
     ]
    },
    {
     "name": "stdout",
     "output_type": "stream",
     "text": [
      "Rendering frame  61 of 199\n"
     ]
    },
    {
     "name": "stderr",
     "output_type": "stream",
     "text": [
      "/home/nathan/analysis/miniconda3/envs/cellx/lib/python3.9/site-packages/numpy/core/_asarray.py:102: FutureWarning: Private attribute access ('ClippingPlaneList.__array_struct__') in this context (e.g. inside a plugin widget or dock widget) is deprecated and will be unavailable in version 0.5.0\n",
      "  return array(a, dtype, copy=False, order=order)\n",
      "/home/nathan/analysis/miniconda3/envs/cellx/lib/python3.9/site-packages/numpy/core/_asarray.py:102: FutureWarning: Private attribute access ('ClippingPlaneList.__array_interface__') in this context (e.g. inside a plugin widget or dock widget) is deprecated and will be unavailable in version 0.5.0\n",
      "  return array(a, dtype, copy=False, order=order)\n",
      "/home/nathan/analysis/miniconda3/envs/cellx/lib/python3.9/site-packages/numpy/core/_asarray.py:102: FutureWarning: Private attribute access ('ClippingPlaneList.__array__') in this context (e.g. inside a plugin widget or dock widget) is deprecated and will be unavailable in version 0.5.0\n",
      "  return array(a, dtype, copy=False, order=order)\n"
     ]
    },
    {
     "name": "stdout",
     "output_type": "stream",
     "text": [
      "Rendering frame  62 of 199\n"
     ]
    },
    {
     "name": "stderr",
     "output_type": "stream",
     "text": [
      "/home/nathan/analysis/miniconda3/envs/cellx/lib/python3.9/site-packages/numpy/core/_asarray.py:102: FutureWarning: Private attribute access ('ClippingPlaneList.__array_struct__') in this context (e.g. inside a plugin widget or dock widget) is deprecated and will be unavailable in version 0.5.0\n",
      "  return array(a, dtype, copy=False, order=order)\n",
      "/home/nathan/analysis/miniconda3/envs/cellx/lib/python3.9/site-packages/numpy/core/_asarray.py:102: FutureWarning: Private attribute access ('ClippingPlaneList.__array_interface__') in this context (e.g. inside a plugin widget or dock widget) is deprecated and will be unavailable in version 0.5.0\n",
      "  return array(a, dtype, copy=False, order=order)\n",
      "/home/nathan/analysis/miniconda3/envs/cellx/lib/python3.9/site-packages/numpy/core/_asarray.py:102: FutureWarning: Private attribute access ('ClippingPlaneList.__array__') in this context (e.g. inside a plugin widget or dock widget) is deprecated and will be unavailable in version 0.5.0\n",
      "  return array(a, dtype, copy=False, order=order)\n"
     ]
    },
    {
     "name": "stdout",
     "output_type": "stream",
     "text": [
      "Rendering frame  63 of 199\n"
     ]
    },
    {
     "name": "stderr",
     "output_type": "stream",
     "text": [
      "/home/nathan/analysis/miniconda3/envs/cellx/lib/python3.9/site-packages/numpy/core/_asarray.py:102: FutureWarning: Private attribute access ('ClippingPlaneList.__array_struct__') in this context (e.g. inside a plugin widget or dock widget) is deprecated and will be unavailable in version 0.5.0\n",
      "  return array(a, dtype, copy=False, order=order)\n",
      "/home/nathan/analysis/miniconda3/envs/cellx/lib/python3.9/site-packages/numpy/core/_asarray.py:102: FutureWarning: Private attribute access ('ClippingPlaneList.__array_interface__') in this context (e.g. inside a plugin widget or dock widget) is deprecated and will be unavailable in version 0.5.0\n",
      "  return array(a, dtype, copy=False, order=order)\n",
      "/home/nathan/analysis/miniconda3/envs/cellx/lib/python3.9/site-packages/numpy/core/_asarray.py:102: FutureWarning: Private attribute access ('ClippingPlaneList.__array__') in this context (e.g. inside a plugin widget or dock widget) is deprecated and will be unavailable in version 0.5.0\n",
      "  return array(a, dtype, copy=False, order=order)\n"
     ]
    },
    {
     "name": "stdout",
     "output_type": "stream",
     "text": [
      "Rendering frame  64 of 199\n"
     ]
    },
    {
     "name": "stderr",
     "output_type": "stream",
     "text": [
      "/home/nathan/analysis/miniconda3/envs/cellx/lib/python3.9/site-packages/numpy/core/_asarray.py:102: FutureWarning: Private attribute access ('ClippingPlaneList.__array_struct__') in this context (e.g. inside a plugin widget or dock widget) is deprecated and will be unavailable in version 0.5.0\n",
      "  return array(a, dtype, copy=False, order=order)\n",
      "/home/nathan/analysis/miniconda3/envs/cellx/lib/python3.9/site-packages/numpy/core/_asarray.py:102: FutureWarning: Private attribute access ('ClippingPlaneList.__array_interface__') in this context (e.g. inside a plugin widget or dock widget) is deprecated and will be unavailable in version 0.5.0\n",
      "  return array(a, dtype, copy=False, order=order)\n",
      "/home/nathan/analysis/miniconda3/envs/cellx/lib/python3.9/site-packages/numpy/core/_asarray.py:102: FutureWarning: Private attribute access ('ClippingPlaneList.__array__') in this context (e.g. inside a plugin widget or dock widget) is deprecated and will be unavailable in version 0.5.0\n",
      "  return array(a, dtype, copy=False, order=order)\n"
     ]
    },
    {
     "name": "stdout",
     "output_type": "stream",
     "text": [
      "Rendering frame  65 of 199\n"
     ]
    },
    {
     "name": "stderr",
     "output_type": "stream",
     "text": [
      "/home/nathan/analysis/miniconda3/envs/cellx/lib/python3.9/site-packages/numpy/core/_asarray.py:102: FutureWarning: Private attribute access ('ClippingPlaneList.__array_struct__') in this context (e.g. inside a plugin widget or dock widget) is deprecated and will be unavailable in version 0.5.0\n",
      "  return array(a, dtype, copy=False, order=order)\n",
      "/home/nathan/analysis/miniconda3/envs/cellx/lib/python3.9/site-packages/numpy/core/_asarray.py:102: FutureWarning: Private attribute access ('ClippingPlaneList.__array_interface__') in this context (e.g. inside a plugin widget or dock widget) is deprecated and will be unavailable in version 0.5.0\n",
      "  return array(a, dtype, copy=False, order=order)\n",
      "/home/nathan/analysis/miniconda3/envs/cellx/lib/python3.9/site-packages/numpy/core/_asarray.py:102: FutureWarning: Private attribute access ('ClippingPlaneList.__array__') in this context (e.g. inside a plugin widget or dock widget) is deprecated and will be unavailable in version 0.5.0\n",
      "  return array(a, dtype, copy=False, order=order)\n"
     ]
    },
    {
     "name": "stdout",
     "output_type": "stream",
     "text": [
      "Rendering frame  66 of 199\n"
     ]
    },
    {
     "name": "stderr",
     "output_type": "stream",
     "text": [
      "/home/nathan/analysis/miniconda3/envs/cellx/lib/python3.9/site-packages/numpy/core/_asarray.py:102: FutureWarning: Private attribute access ('ClippingPlaneList.__array_struct__') in this context (e.g. inside a plugin widget or dock widget) is deprecated and will be unavailable in version 0.5.0\n",
      "  return array(a, dtype, copy=False, order=order)\n",
      "/home/nathan/analysis/miniconda3/envs/cellx/lib/python3.9/site-packages/numpy/core/_asarray.py:102: FutureWarning: Private attribute access ('ClippingPlaneList.__array_interface__') in this context (e.g. inside a plugin widget or dock widget) is deprecated and will be unavailable in version 0.5.0\n",
      "  return array(a, dtype, copy=False, order=order)\n",
      "/home/nathan/analysis/miniconda3/envs/cellx/lib/python3.9/site-packages/numpy/core/_asarray.py:102: FutureWarning: Private attribute access ('ClippingPlaneList.__array__') in this context (e.g. inside a plugin widget or dock widget) is deprecated and will be unavailable in version 0.5.0\n",
      "  return array(a, dtype, copy=False, order=order)\n"
     ]
    },
    {
     "name": "stdout",
     "output_type": "stream",
     "text": [
      "Rendering frame  67 of 199\n"
     ]
    },
    {
     "name": "stderr",
     "output_type": "stream",
     "text": [
      "/home/nathan/analysis/miniconda3/envs/cellx/lib/python3.9/site-packages/numpy/core/_asarray.py:102: FutureWarning: Private attribute access ('ClippingPlaneList.__array_struct__') in this context (e.g. inside a plugin widget or dock widget) is deprecated and will be unavailable in version 0.5.0\n",
      "  return array(a, dtype, copy=False, order=order)\n",
      "/home/nathan/analysis/miniconda3/envs/cellx/lib/python3.9/site-packages/numpy/core/_asarray.py:102: FutureWarning: Private attribute access ('ClippingPlaneList.__array_interface__') in this context (e.g. inside a plugin widget or dock widget) is deprecated and will be unavailable in version 0.5.0\n",
      "  return array(a, dtype, copy=False, order=order)\n",
      "/home/nathan/analysis/miniconda3/envs/cellx/lib/python3.9/site-packages/numpy/core/_asarray.py:102: FutureWarning: Private attribute access ('ClippingPlaneList.__array__') in this context (e.g. inside a plugin widget or dock widget) is deprecated and will be unavailable in version 0.5.0\n",
      "  return array(a, dtype, copy=False, order=order)\n"
     ]
    },
    {
     "name": "stdout",
     "output_type": "stream",
     "text": [
      "Rendering frame  68 of 199\n"
     ]
    },
    {
     "name": "stderr",
     "output_type": "stream",
     "text": [
      "/home/nathan/analysis/miniconda3/envs/cellx/lib/python3.9/site-packages/numpy/core/_asarray.py:102: FutureWarning: Private attribute access ('ClippingPlaneList.__array_struct__') in this context (e.g. inside a plugin widget or dock widget) is deprecated and will be unavailable in version 0.5.0\n",
      "  return array(a, dtype, copy=False, order=order)\n",
      "/home/nathan/analysis/miniconda3/envs/cellx/lib/python3.9/site-packages/numpy/core/_asarray.py:102: FutureWarning: Private attribute access ('ClippingPlaneList.__array_interface__') in this context (e.g. inside a plugin widget or dock widget) is deprecated and will be unavailable in version 0.5.0\n",
      "  return array(a, dtype, copy=False, order=order)\n",
      "/home/nathan/analysis/miniconda3/envs/cellx/lib/python3.9/site-packages/numpy/core/_asarray.py:102: FutureWarning: Private attribute access ('ClippingPlaneList.__array__') in this context (e.g. inside a plugin widget or dock widget) is deprecated and will be unavailable in version 0.5.0\n",
      "  return array(a, dtype, copy=False, order=order)\n"
     ]
    },
    {
     "name": "stdout",
     "output_type": "stream",
     "text": [
      "Rendering frame  69 of 199\n"
     ]
    },
    {
     "name": "stderr",
     "output_type": "stream",
     "text": [
      "/home/nathan/analysis/miniconda3/envs/cellx/lib/python3.9/site-packages/numpy/core/_asarray.py:102: FutureWarning: Private attribute access ('ClippingPlaneList.__array_struct__') in this context (e.g. inside a plugin widget or dock widget) is deprecated and will be unavailable in version 0.5.0\n",
      "  return array(a, dtype, copy=False, order=order)\n",
      "/home/nathan/analysis/miniconda3/envs/cellx/lib/python3.9/site-packages/numpy/core/_asarray.py:102: FutureWarning: Private attribute access ('ClippingPlaneList.__array_interface__') in this context (e.g. inside a plugin widget or dock widget) is deprecated and will be unavailable in version 0.5.0\n",
      "  return array(a, dtype, copy=False, order=order)\n",
      "/home/nathan/analysis/miniconda3/envs/cellx/lib/python3.9/site-packages/numpy/core/_asarray.py:102: FutureWarning: Private attribute access ('ClippingPlaneList.__array__') in this context (e.g. inside a plugin widget or dock widget) is deprecated and will be unavailable in version 0.5.0\n",
      "  return array(a, dtype, copy=False, order=order)\n"
     ]
    },
    {
     "name": "stdout",
     "output_type": "stream",
     "text": [
      "Rendering frame  70 of 199\n"
     ]
    },
    {
     "name": "stderr",
     "output_type": "stream",
     "text": [
      "/home/nathan/analysis/miniconda3/envs/cellx/lib/python3.9/site-packages/numpy/core/_asarray.py:102: FutureWarning: Private attribute access ('ClippingPlaneList.__array_struct__') in this context (e.g. inside a plugin widget or dock widget) is deprecated and will be unavailable in version 0.5.0\n",
      "  return array(a, dtype, copy=False, order=order)\n",
      "/home/nathan/analysis/miniconda3/envs/cellx/lib/python3.9/site-packages/numpy/core/_asarray.py:102: FutureWarning: Private attribute access ('ClippingPlaneList.__array_interface__') in this context (e.g. inside a plugin widget or dock widget) is deprecated and will be unavailable in version 0.5.0\n",
      "  return array(a, dtype, copy=False, order=order)\n",
      "/home/nathan/analysis/miniconda3/envs/cellx/lib/python3.9/site-packages/numpy/core/_asarray.py:102: FutureWarning: Private attribute access ('ClippingPlaneList.__array__') in this context (e.g. inside a plugin widget or dock widget) is deprecated and will be unavailable in version 0.5.0\n",
      "  return array(a, dtype, copy=False, order=order)\n"
     ]
    },
    {
     "name": "stdout",
     "output_type": "stream",
     "text": [
      "Rendering frame  71 of 199\n"
     ]
    },
    {
     "name": "stderr",
     "output_type": "stream",
     "text": [
      "/home/nathan/analysis/miniconda3/envs/cellx/lib/python3.9/site-packages/numpy/core/_asarray.py:102: FutureWarning: Private attribute access ('ClippingPlaneList.__array_struct__') in this context (e.g. inside a plugin widget or dock widget) is deprecated and will be unavailable in version 0.5.0\n",
      "  return array(a, dtype, copy=False, order=order)\n",
      "/home/nathan/analysis/miniconda3/envs/cellx/lib/python3.9/site-packages/numpy/core/_asarray.py:102: FutureWarning: Private attribute access ('ClippingPlaneList.__array_interface__') in this context (e.g. inside a plugin widget or dock widget) is deprecated and will be unavailable in version 0.5.0\n",
      "  return array(a, dtype, copy=False, order=order)\n",
      "/home/nathan/analysis/miniconda3/envs/cellx/lib/python3.9/site-packages/numpy/core/_asarray.py:102: FutureWarning: Private attribute access ('ClippingPlaneList.__array__') in this context (e.g. inside a plugin widget or dock widget) is deprecated and will be unavailable in version 0.5.0\n",
      "  return array(a, dtype, copy=False, order=order)\n"
     ]
    },
    {
     "name": "stdout",
     "output_type": "stream",
     "text": [
      "Rendering frame  72 of 199\n"
     ]
    },
    {
     "name": "stderr",
     "output_type": "stream",
     "text": [
      "/home/nathan/analysis/miniconda3/envs/cellx/lib/python3.9/site-packages/numpy/core/_asarray.py:102: FutureWarning: Private attribute access ('ClippingPlaneList.__array_struct__') in this context (e.g. inside a plugin widget or dock widget) is deprecated and will be unavailable in version 0.5.0\n",
      "  return array(a, dtype, copy=False, order=order)\n",
      "/home/nathan/analysis/miniconda3/envs/cellx/lib/python3.9/site-packages/numpy/core/_asarray.py:102: FutureWarning: Private attribute access ('ClippingPlaneList.__array_interface__') in this context (e.g. inside a plugin widget or dock widget) is deprecated and will be unavailable in version 0.5.0\n",
      "  return array(a, dtype, copy=False, order=order)\n",
      "/home/nathan/analysis/miniconda3/envs/cellx/lib/python3.9/site-packages/numpy/core/_asarray.py:102: FutureWarning: Private attribute access ('ClippingPlaneList.__array__') in this context (e.g. inside a plugin widget or dock widget) is deprecated and will be unavailable in version 0.5.0\n",
      "  return array(a, dtype, copy=False, order=order)\n"
     ]
    },
    {
     "name": "stdout",
     "output_type": "stream",
     "text": [
      "Rendering frame  73 of 199\n"
     ]
    },
    {
     "name": "stderr",
     "output_type": "stream",
     "text": [
      "/home/nathan/analysis/miniconda3/envs/cellx/lib/python3.9/site-packages/numpy/core/_asarray.py:102: FutureWarning: Private attribute access ('ClippingPlaneList.__array_struct__') in this context (e.g. inside a plugin widget or dock widget) is deprecated and will be unavailable in version 0.5.0\n",
      "  return array(a, dtype, copy=False, order=order)\n",
      "/home/nathan/analysis/miniconda3/envs/cellx/lib/python3.9/site-packages/numpy/core/_asarray.py:102: FutureWarning: Private attribute access ('ClippingPlaneList.__array_interface__') in this context (e.g. inside a plugin widget or dock widget) is deprecated and will be unavailable in version 0.5.0\n",
      "  return array(a, dtype, copy=False, order=order)\n",
      "/home/nathan/analysis/miniconda3/envs/cellx/lib/python3.9/site-packages/numpy/core/_asarray.py:102: FutureWarning: Private attribute access ('ClippingPlaneList.__array__') in this context (e.g. inside a plugin widget or dock widget) is deprecated and will be unavailable in version 0.5.0\n",
      "  return array(a, dtype, copy=False, order=order)\n"
     ]
    },
    {
     "name": "stdout",
     "output_type": "stream",
     "text": [
      "Rendering frame  74 of 199\n"
     ]
    },
    {
     "name": "stderr",
     "output_type": "stream",
     "text": [
      "/home/nathan/analysis/miniconda3/envs/cellx/lib/python3.9/site-packages/numpy/core/_asarray.py:102: FutureWarning: Private attribute access ('ClippingPlaneList.__array_struct__') in this context (e.g. inside a plugin widget or dock widget) is deprecated and will be unavailable in version 0.5.0\n",
      "  return array(a, dtype, copy=False, order=order)\n",
      "/home/nathan/analysis/miniconda3/envs/cellx/lib/python3.9/site-packages/numpy/core/_asarray.py:102: FutureWarning: Private attribute access ('ClippingPlaneList.__array_interface__') in this context (e.g. inside a plugin widget or dock widget) is deprecated and will be unavailable in version 0.5.0\n",
      "  return array(a, dtype, copy=False, order=order)\n",
      "/home/nathan/analysis/miniconda3/envs/cellx/lib/python3.9/site-packages/numpy/core/_asarray.py:102: FutureWarning: Private attribute access ('ClippingPlaneList.__array__') in this context (e.g. inside a plugin widget or dock widget) is deprecated and will be unavailable in version 0.5.0\n",
      "  return array(a, dtype, copy=False, order=order)\n"
     ]
    },
    {
     "name": "stdout",
     "output_type": "stream",
     "text": [
      "Rendering frame  75 of 199\n"
     ]
    },
    {
     "name": "stderr",
     "output_type": "stream",
     "text": [
      "/home/nathan/analysis/miniconda3/envs/cellx/lib/python3.9/site-packages/numpy/core/_asarray.py:102: FutureWarning: Private attribute access ('ClippingPlaneList.__array_struct__') in this context (e.g. inside a plugin widget or dock widget) is deprecated and will be unavailable in version 0.5.0\n",
      "  return array(a, dtype, copy=False, order=order)\n",
      "/home/nathan/analysis/miniconda3/envs/cellx/lib/python3.9/site-packages/numpy/core/_asarray.py:102: FutureWarning: Private attribute access ('ClippingPlaneList.__array_interface__') in this context (e.g. inside a plugin widget or dock widget) is deprecated and will be unavailable in version 0.5.0\n",
      "  return array(a, dtype, copy=False, order=order)\n",
      "/home/nathan/analysis/miniconda3/envs/cellx/lib/python3.9/site-packages/numpy/core/_asarray.py:102: FutureWarning: Private attribute access ('ClippingPlaneList.__array__') in this context (e.g. inside a plugin widget or dock widget) is deprecated and will be unavailable in version 0.5.0\n",
      "  return array(a, dtype, copy=False, order=order)\n"
     ]
    },
    {
     "name": "stdout",
     "output_type": "stream",
     "text": [
      "Rendering frame  76 of 199\n"
     ]
    },
    {
     "name": "stderr",
     "output_type": "stream",
     "text": [
      "/home/nathan/analysis/miniconda3/envs/cellx/lib/python3.9/site-packages/numpy/core/_asarray.py:102: FutureWarning: Private attribute access ('ClippingPlaneList.__array_struct__') in this context (e.g. inside a plugin widget or dock widget) is deprecated and will be unavailable in version 0.5.0\n",
      "  return array(a, dtype, copy=False, order=order)\n",
      "/home/nathan/analysis/miniconda3/envs/cellx/lib/python3.9/site-packages/numpy/core/_asarray.py:102: FutureWarning: Private attribute access ('ClippingPlaneList.__array_interface__') in this context (e.g. inside a plugin widget or dock widget) is deprecated and will be unavailable in version 0.5.0\n",
      "  return array(a, dtype, copy=False, order=order)\n",
      "/home/nathan/analysis/miniconda3/envs/cellx/lib/python3.9/site-packages/numpy/core/_asarray.py:102: FutureWarning: Private attribute access ('ClippingPlaneList.__array__') in this context (e.g. inside a plugin widget or dock widget) is deprecated and will be unavailable in version 0.5.0\n",
      "  return array(a, dtype, copy=False, order=order)\n"
     ]
    },
    {
     "name": "stdout",
     "output_type": "stream",
     "text": [
      "Rendering frame  77 of 199\n"
     ]
    },
    {
     "name": "stderr",
     "output_type": "stream",
     "text": [
      "/home/nathan/analysis/miniconda3/envs/cellx/lib/python3.9/site-packages/numpy/core/_asarray.py:102: FutureWarning: Private attribute access ('ClippingPlaneList.__array_struct__') in this context (e.g. inside a plugin widget or dock widget) is deprecated and will be unavailable in version 0.5.0\n",
      "  return array(a, dtype, copy=False, order=order)\n",
      "/home/nathan/analysis/miniconda3/envs/cellx/lib/python3.9/site-packages/numpy/core/_asarray.py:102: FutureWarning: Private attribute access ('ClippingPlaneList.__array_interface__') in this context (e.g. inside a plugin widget or dock widget) is deprecated and will be unavailable in version 0.5.0\n",
      "  return array(a, dtype, copy=False, order=order)\n",
      "/home/nathan/analysis/miniconda3/envs/cellx/lib/python3.9/site-packages/numpy/core/_asarray.py:102: FutureWarning: Private attribute access ('ClippingPlaneList.__array__') in this context (e.g. inside a plugin widget or dock widget) is deprecated and will be unavailable in version 0.5.0\n",
      "  return array(a, dtype, copy=False, order=order)\n"
     ]
    },
    {
     "name": "stdout",
     "output_type": "stream",
     "text": [
      "Rendering frame  78 of 199\n"
     ]
    },
    {
     "name": "stderr",
     "output_type": "stream",
     "text": [
      "/home/nathan/analysis/miniconda3/envs/cellx/lib/python3.9/site-packages/numpy/core/_asarray.py:102: FutureWarning: Private attribute access ('ClippingPlaneList.__array_struct__') in this context (e.g. inside a plugin widget or dock widget) is deprecated and will be unavailable in version 0.5.0\n",
      "  return array(a, dtype, copy=False, order=order)\n",
      "/home/nathan/analysis/miniconda3/envs/cellx/lib/python3.9/site-packages/numpy/core/_asarray.py:102: FutureWarning: Private attribute access ('ClippingPlaneList.__array_interface__') in this context (e.g. inside a plugin widget or dock widget) is deprecated and will be unavailable in version 0.5.0\n",
      "  return array(a, dtype, copy=False, order=order)\n",
      "/home/nathan/analysis/miniconda3/envs/cellx/lib/python3.9/site-packages/numpy/core/_asarray.py:102: FutureWarning: Private attribute access ('ClippingPlaneList.__array__') in this context (e.g. inside a plugin widget or dock widget) is deprecated and will be unavailable in version 0.5.0\n",
      "  return array(a, dtype, copy=False, order=order)\n"
     ]
    },
    {
     "name": "stdout",
     "output_type": "stream",
     "text": [
      "Rendering frame  79 of 199\n"
     ]
    },
    {
     "name": "stderr",
     "output_type": "stream",
     "text": [
      "/home/nathan/analysis/miniconda3/envs/cellx/lib/python3.9/site-packages/numpy/core/_asarray.py:102: FutureWarning: Private attribute access ('ClippingPlaneList.__array_struct__') in this context (e.g. inside a plugin widget or dock widget) is deprecated and will be unavailable in version 0.5.0\n",
      "  return array(a, dtype, copy=False, order=order)\n",
      "/home/nathan/analysis/miniconda3/envs/cellx/lib/python3.9/site-packages/numpy/core/_asarray.py:102: FutureWarning: Private attribute access ('ClippingPlaneList.__array_interface__') in this context (e.g. inside a plugin widget or dock widget) is deprecated and will be unavailable in version 0.5.0\n",
      "  return array(a, dtype, copy=False, order=order)\n",
      "/home/nathan/analysis/miniconda3/envs/cellx/lib/python3.9/site-packages/numpy/core/_asarray.py:102: FutureWarning: Private attribute access ('ClippingPlaneList.__array__') in this context (e.g. inside a plugin widget or dock widget) is deprecated and will be unavailable in version 0.5.0\n",
      "  return array(a, dtype, copy=False, order=order)\n"
     ]
    },
    {
     "name": "stdout",
     "output_type": "stream",
     "text": [
      "Rendering frame  80 of 199\n"
     ]
    },
    {
     "name": "stderr",
     "output_type": "stream",
     "text": [
      "/home/nathan/analysis/miniconda3/envs/cellx/lib/python3.9/site-packages/numpy/core/_asarray.py:102: FutureWarning: Private attribute access ('ClippingPlaneList.__array_struct__') in this context (e.g. inside a plugin widget or dock widget) is deprecated and will be unavailable in version 0.5.0\n",
      "  return array(a, dtype, copy=False, order=order)\n",
      "/home/nathan/analysis/miniconda3/envs/cellx/lib/python3.9/site-packages/numpy/core/_asarray.py:102: FutureWarning: Private attribute access ('ClippingPlaneList.__array_interface__') in this context (e.g. inside a plugin widget or dock widget) is deprecated and will be unavailable in version 0.5.0\n",
      "  return array(a, dtype, copy=False, order=order)\n",
      "/home/nathan/analysis/miniconda3/envs/cellx/lib/python3.9/site-packages/numpy/core/_asarray.py:102: FutureWarning: Private attribute access ('ClippingPlaneList.__array__') in this context (e.g. inside a plugin widget or dock widget) is deprecated and will be unavailable in version 0.5.0\n",
      "  return array(a, dtype, copy=False, order=order)\n"
     ]
    },
    {
     "name": "stdout",
     "output_type": "stream",
     "text": [
      "Rendering frame  81 of 199\n"
     ]
    },
    {
     "name": "stderr",
     "output_type": "stream",
     "text": [
      "/home/nathan/analysis/miniconda3/envs/cellx/lib/python3.9/site-packages/numpy/core/_asarray.py:102: FutureWarning: Private attribute access ('ClippingPlaneList.__array_struct__') in this context (e.g. inside a plugin widget or dock widget) is deprecated and will be unavailable in version 0.5.0\n",
      "  return array(a, dtype, copy=False, order=order)\n",
      "/home/nathan/analysis/miniconda3/envs/cellx/lib/python3.9/site-packages/numpy/core/_asarray.py:102: FutureWarning: Private attribute access ('ClippingPlaneList.__array_interface__') in this context (e.g. inside a plugin widget or dock widget) is deprecated and will be unavailable in version 0.5.0\n",
      "  return array(a, dtype, copy=False, order=order)\n",
      "/home/nathan/analysis/miniconda3/envs/cellx/lib/python3.9/site-packages/numpy/core/_asarray.py:102: FutureWarning: Private attribute access ('ClippingPlaneList.__array__') in this context (e.g. inside a plugin widget or dock widget) is deprecated and will be unavailable in version 0.5.0\n",
      "  return array(a, dtype, copy=False, order=order)\n"
     ]
    },
    {
     "name": "stdout",
     "output_type": "stream",
     "text": [
      "Rendering frame  82 of 199\n"
     ]
    },
    {
     "name": "stderr",
     "output_type": "stream",
     "text": [
      "/home/nathan/analysis/miniconda3/envs/cellx/lib/python3.9/site-packages/numpy/core/_asarray.py:102: FutureWarning: Private attribute access ('ClippingPlaneList.__array_struct__') in this context (e.g. inside a plugin widget or dock widget) is deprecated and will be unavailable in version 0.5.0\n",
      "  return array(a, dtype, copy=False, order=order)\n",
      "/home/nathan/analysis/miniconda3/envs/cellx/lib/python3.9/site-packages/numpy/core/_asarray.py:102: FutureWarning: Private attribute access ('ClippingPlaneList.__array_interface__') in this context (e.g. inside a plugin widget or dock widget) is deprecated and will be unavailable in version 0.5.0\n",
      "  return array(a, dtype, copy=False, order=order)\n",
      "/home/nathan/analysis/miniconda3/envs/cellx/lib/python3.9/site-packages/numpy/core/_asarray.py:102: FutureWarning: Private attribute access ('ClippingPlaneList.__array__') in this context (e.g. inside a plugin widget or dock widget) is deprecated and will be unavailable in version 0.5.0\n",
      "  return array(a, dtype, copy=False, order=order)\n"
     ]
    },
    {
     "name": "stdout",
     "output_type": "stream",
     "text": [
      "Rendering frame  83 of 199\n"
     ]
    },
    {
     "name": "stderr",
     "output_type": "stream",
     "text": [
      "/home/nathan/analysis/miniconda3/envs/cellx/lib/python3.9/site-packages/numpy/core/_asarray.py:102: FutureWarning: Private attribute access ('ClippingPlaneList.__array_struct__') in this context (e.g. inside a plugin widget or dock widget) is deprecated and will be unavailable in version 0.5.0\n",
      "  return array(a, dtype, copy=False, order=order)\n",
      "/home/nathan/analysis/miniconda3/envs/cellx/lib/python3.9/site-packages/numpy/core/_asarray.py:102: FutureWarning: Private attribute access ('ClippingPlaneList.__array_interface__') in this context (e.g. inside a plugin widget or dock widget) is deprecated and will be unavailable in version 0.5.0\n",
      "  return array(a, dtype, copy=False, order=order)\n",
      "/home/nathan/analysis/miniconda3/envs/cellx/lib/python3.9/site-packages/numpy/core/_asarray.py:102: FutureWarning: Private attribute access ('ClippingPlaneList.__array__') in this context (e.g. inside a plugin widget or dock widget) is deprecated and will be unavailable in version 0.5.0\n",
      "  return array(a, dtype, copy=False, order=order)\n"
     ]
    },
    {
     "name": "stdout",
     "output_type": "stream",
     "text": [
      "Rendering frame  84 of 199\n"
     ]
    },
    {
     "name": "stderr",
     "output_type": "stream",
     "text": [
      "/home/nathan/analysis/miniconda3/envs/cellx/lib/python3.9/site-packages/numpy/core/_asarray.py:102: FutureWarning: Private attribute access ('ClippingPlaneList.__array_struct__') in this context (e.g. inside a plugin widget or dock widget) is deprecated and will be unavailable in version 0.5.0\n",
      "  return array(a, dtype, copy=False, order=order)\n",
      "/home/nathan/analysis/miniconda3/envs/cellx/lib/python3.9/site-packages/numpy/core/_asarray.py:102: FutureWarning: Private attribute access ('ClippingPlaneList.__array_interface__') in this context (e.g. inside a plugin widget or dock widget) is deprecated and will be unavailable in version 0.5.0\n",
      "  return array(a, dtype, copy=False, order=order)\n",
      "/home/nathan/analysis/miniconda3/envs/cellx/lib/python3.9/site-packages/numpy/core/_asarray.py:102: FutureWarning: Private attribute access ('ClippingPlaneList.__array__') in this context (e.g. inside a plugin widget or dock widget) is deprecated and will be unavailable in version 0.5.0\n",
      "  return array(a, dtype, copy=False, order=order)\n",
      "/home/nathan/analysis/miniconda3/envs/cellx/lib/python3.9/site-packages/numpy/core/_asarray.py:102: FutureWarning: Private attribute access ('ClippingPlaneList.__array_struct__') in this context (e.g. inside a plugin widget or dock widget) is deprecated and will be unavailable in version 0.5.0\n",
      "  return array(a, dtype, copy=False, order=order)\n",
      "/home/nathan/analysis/miniconda3/envs/cellx/lib/python3.9/site-packages/numpy/core/_asarray.py:102: FutureWarning: Private attribute access ('ClippingPlaneList.__array_interface__') in this context (e.g. inside a plugin widget or dock widget) is deprecated and will be unavailable in version 0.5.0\n",
      "  return array(a, dtype, copy=False, order=order)\n",
      "/home/nathan/analysis/miniconda3/envs/cellx/lib/python3.9/site-packages/numpy/core/_asarray.py:102: FutureWarning: Private attribute access ('ClippingPlaneList.__array__') in this context (e.g. inside a plugin widget or dock widget) is deprecated and will be unavailable in version 0.5.0\n",
      "  return array(a, dtype, copy=False, order=order)\n"
     ]
    },
    {
     "name": "stdout",
     "output_type": "stream",
     "text": [
      "Rendering frame  85 of 199\n",
      "Rendering frame  86 of 199\n"
     ]
    },
    {
     "name": "stderr",
     "output_type": "stream",
     "text": [
      "/home/nathan/analysis/miniconda3/envs/cellx/lib/python3.9/site-packages/numpy/core/_asarray.py:102: FutureWarning: Private attribute access ('ClippingPlaneList.__array_struct__') in this context (e.g. inside a plugin widget or dock widget) is deprecated and will be unavailable in version 0.5.0\n",
      "  return array(a, dtype, copy=False, order=order)\n",
      "/home/nathan/analysis/miniconda3/envs/cellx/lib/python3.9/site-packages/numpy/core/_asarray.py:102: FutureWarning: Private attribute access ('ClippingPlaneList.__array_interface__') in this context (e.g. inside a plugin widget or dock widget) is deprecated and will be unavailable in version 0.5.0\n",
      "  return array(a, dtype, copy=False, order=order)\n",
      "/home/nathan/analysis/miniconda3/envs/cellx/lib/python3.9/site-packages/numpy/core/_asarray.py:102: FutureWarning: Private attribute access ('ClippingPlaneList.__array__') in this context (e.g. inside a plugin widget or dock widget) is deprecated and will be unavailable in version 0.5.0\n",
      "  return array(a, dtype, copy=False, order=order)\n"
     ]
    },
    {
     "name": "stdout",
     "output_type": "stream",
     "text": [
      "Rendering frame  87 of 199\n"
     ]
    },
    {
     "name": "stderr",
     "output_type": "stream",
     "text": [
      "/home/nathan/analysis/miniconda3/envs/cellx/lib/python3.9/site-packages/numpy/core/_asarray.py:102: FutureWarning: Private attribute access ('ClippingPlaneList.__array_struct__') in this context (e.g. inside a plugin widget or dock widget) is deprecated and will be unavailable in version 0.5.0\n",
      "  return array(a, dtype, copy=False, order=order)\n",
      "/home/nathan/analysis/miniconda3/envs/cellx/lib/python3.9/site-packages/numpy/core/_asarray.py:102: FutureWarning: Private attribute access ('ClippingPlaneList.__array_interface__') in this context (e.g. inside a plugin widget or dock widget) is deprecated and will be unavailable in version 0.5.0\n",
      "  return array(a, dtype, copy=False, order=order)\n",
      "/home/nathan/analysis/miniconda3/envs/cellx/lib/python3.9/site-packages/numpy/core/_asarray.py:102: FutureWarning: Private attribute access ('ClippingPlaneList.__array__') in this context (e.g. inside a plugin widget or dock widget) is deprecated and will be unavailable in version 0.5.0\n",
      "  return array(a, dtype, copy=False, order=order)\n"
     ]
    },
    {
     "name": "stdout",
     "output_type": "stream",
     "text": [
      "Rendering frame  88 of 199\n"
     ]
    },
    {
     "name": "stderr",
     "output_type": "stream",
     "text": [
      "/home/nathan/analysis/miniconda3/envs/cellx/lib/python3.9/site-packages/numpy/core/_asarray.py:102: FutureWarning: Private attribute access ('ClippingPlaneList.__array_struct__') in this context (e.g. inside a plugin widget or dock widget) is deprecated and will be unavailable in version 0.5.0\n",
      "  return array(a, dtype, copy=False, order=order)\n",
      "/home/nathan/analysis/miniconda3/envs/cellx/lib/python3.9/site-packages/numpy/core/_asarray.py:102: FutureWarning: Private attribute access ('ClippingPlaneList.__array_interface__') in this context (e.g. inside a plugin widget or dock widget) is deprecated and will be unavailable in version 0.5.0\n",
      "  return array(a, dtype, copy=False, order=order)\n",
      "/home/nathan/analysis/miniconda3/envs/cellx/lib/python3.9/site-packages/numpy/core/_asarray.py:102: FutureWarning: Private attribute access ('ClippingPlaneList.__array__') in this context (e.g. inside a plugin widget or dock widget) is deprecated and will be unavailable in version 0.5.0\n",
      "  return array(a, dtype, copy=False, order=order)\n"
     ]
    },
    {
     "name": "stdout",
     "output_type": "stream",
     "text": [
      "Rendering frame  89 of 199\n"
     ]
    },
    {
     "name": "stderr",
     "output_type": "stream",
     "text": [
      "/home/nathan/analysis/miniconda3/envs/cellx/lib/python3.9/site-packages/numpy/core/_asarray.py:102: FutureWarning: Private attribute access ('ClippingPlaneList.__array_struct__') in this context (e.g. inside a plugin widget or dock widget) is deprecated and will be unavailable in version 0.5.0\n",
      "  return array(a, dtype, copy=False, order=order)\n",
      "/home/nathan/analysis/miniconda3/envs/cellx/lib/python3.9/site-packages/numpy/core/_asarray.py:102: FutureWarning: Private attribute access ('ClippingPlaneList.__array_interface__') in this context (e.g. inside a plugin widget or dock widget) is deprecated and will be unavailable in version 0.5.0\n",
      "  return array(a, dtype, copy=False, order=order)\n",
      "/home/nathan/analysis/miniconda3/envs/cellx/lib/python3.9/site-packages/numpy/core/_asarray.py:102: FutureWarning: Private attribute access ('ClippingPlaneList.__array__') in this context (e.g. inside a plugin widget or dock widget) is deprecated and will be unavailable in version 0.5.0\n",
      "  return array(a, dtype, copy=False, order=order)\n"
     ]
    },
    {
     "name": "stdout",
     "output_type": "stream",
     "text": [
      "Rendering frame  90 of 199\n"
     ]
    },
    {
     "name": "stderr",
     "output_type": "stream",
     "text": [
      "/home/nathan/analysis/miniconda3/envs/cellx/lib/python3.9/site-packages/numpy/core/_asarray.py:102: FutureWarning: Private attribute access ('ClippingPlaneList.__array_struct__') in this context (e.g. inside a plugin widget or dock widget) is deprecated and will be unavailable in version 0.5.0\n",
      "  return array(a, dtype, copy=False, order=order)\n",
      "/home/nathan/analysis/miniconda3/envs/cellx/lib/python3.9/site-packages/numpy/core/_asarray.py:102: FutureWarning: Private attribute access ('ClippingPlaneList.__array_interface__') in this context (e.g. inside a plugin widget or dock widget) is deprecated and will be unavailable in version 0.5.0\n",
      "  return array(a, dtype, copy=False, order=order)\n",
      "/home/nathan/analysis/miniconda3/envs/cellx/lib/python3.9/site-packages/numpy/core/_asarray.py:102: FutureWarning: Private attribute access ('ClippingPlaneList.__array__') in this context (e.g. inside a plugin widget or dock widget) is deprecated and will be unavailable in version 0.5.0\n",
      "  return array(a, dtype, copy=False, order=order)\n"
     ]
    },
    {
     "name": "stdout",
     "output_type": "stream",
     "text": [
      "Rendering frame  91 of 199\n"
     ]
    },
    {
     "name": "stderr",
     "output_type": "stream",
     "text": [
      "/home/nathan/analysis/miniconda3/envs/cellx/lib/python3.9/site-packages/numpy/core/_asarray.py:102: FutureWarning: Private attribute access ('ClippingPlaneList.__array_struct__') in this context (e.g. inside a plugin widget or dock widget) is deprecated and will be unavailable in version 0.5.0\n",
      "  return array(a, dtype, copy=False, order=order)\n",
      "/home/nathan/analysis/miniconda3/envs/cellx/lib/python3.9/site-packages/numpy/core/_asarray.py:102: FutureWarning: Private attribute access ('ClippingPlaneList.__array_interface__') in this context (e.g. inside a plugin widget or dock widget) is deprecated and will be unavailable in version 0.5.0\n",
      "  return array(a, dtype, copy=False, order=order)\n",
      "/home/nathan/analysis/miniconda3/envs/cellx/lib/python3.9/site-packages/numpy/core/_asarray.py:102: FutureWarning: Private attribute access ('ClippingPlaneList.__array__') in this context (e.g. inside a plugin widget or dock widget) is deprecated and will be unavailable in version 0.5.0\n",
      "  return array(a, dtype, copy=False, order=order)\n"
     ]
    },
    {
     "name": "stdout",
     "output_type": "stream",
     "text": [
      "Rendering frame  92 of 199\n"
     ]
    },
    {
     "name": "stderr",
     "output_type": "stream",
     "text": [
      "/home/nathan/analysis/miniconda3/envs/cellx/lib/python3.9/site-packages/numpy/core/_asarray.py:102: FutureWarning: Private attribute access ('ClippingPlaneList.__array_struct__') in this context (e.g. inside a plugin widget or dock widget) is deprecated and will be unavailable in version 0.5.0\n",
      "  return array(a, dtype, copy=False, order=order)\n",
      "/home/nathan/analysis/miniconda3/envs/cellx/lib/python3.9/site-packages/numpy/core/_asarray.py:102: FutureWarning: Private attribute access ('ClippingPlaneList.__array_interface__') in this context (e.g. inside a plugin widget or dock widget) is deprecated and will be unavailable in version 0.5.0\n",
      "  return array(a, dtype, copy=False, order=order)\n",
      "/home/nathan/analysis/miniconda3/envs/cellx/lib/python3.9/site-packages/numpy/core/_asarray.py:102: FutureWarning: Private attribute access ('ClippingPlaneList.__array__') in this context (e.g. inside a plugin widget or dock widget) is deprecated and will be unavailable in version 0.5.0\n",
      "  return array(a, dtype, copy=False, order=order)\n"
     ]
    },
    {
     "name": "stdout",
     "output_type": "stream",
     "text": [
      "Rendering frame  93 of 199\n"
     ]
    },
    {
     "name": "stderr",
     "output_type": "stream",
     "text": [
      "/home/nathan/analysis/miniconda3/envs/cellx/lib/python3.9/site-packages/numpy/core/_asarray.py:102: FutureWarning: Private attribute access ('ClippingPlaneList.__array_struct__') in this context (e.g. inside a plugin widget or dock widget) is deprecated and will be unavailable in version 0.5.0\n",
      "  return array(a, dtype, copy=False, order=order)\n",
      "/home/nathan/analysis/miniconda3/envs/cellx/lib/python3.9/site-packages/numpy/core/_asarray.py:102: FutureWarning: Private attribute access ('ClippingPlaneList.__array_interface__') in this context (e.g. inside a plugin widget or dock widget) is deprecated and will be unavailable in version 0.5.0\n",
      "  return array(a, dtype, copy=False, order=order)\n",
      "/home/nathan/analysis/miniconda3/envs/cellx/lib/python3.9/site-packages/numpy/core/_asarray.py:102: FutureWarning: Private attribute access ('ClippingPlaneList.__array__') in this context (e.g. inside a plugin widget or dock widget) is deprecated and will be unavailable in version 0.5.0\n",
      "  return array(a, dtype, copy=False, order=order)\n"
     ]
    },
    {
     "name": "stdout",
     "output_type": "stream",
     "text": [
      "Rendering frame  94 of 199\n"
     ]
    },
    {
     "name": "stderr",
     "output_type": "stream",
     "text": [
      "/home/nathan/analysis/miniconda3/envs/cellx/lib/python3.9/site-packages/numpy/core/_asarray.py:102: FutureWarning: Private attribute access ('ClippingPlaneList.__array_struct__') in this context (e.g. inside a plugin widget or dock widget) is deprecated and will be unavailable in version 0.5.0\n",
      "  return array(a, dtype, copy=False, order=order)\n",
      "/home/nathan/analysis/miniconda3/envs/cellx/lib/python3.9/site-packages/numpy/core/_asarray.py:102: FutureWarning: Private attribute access ('ClippingPlaneList.__array_interface__') in this context (e.g. inside a plugin widget or dock widget) is deprecated and will be unavailable in version 0.5.0\n",
      "  return array(a, dtype, copy=False, order=order)\n",
      "/home/nathan/analysis/miniconda3/envs/cellx/lib/python3.9/site-packages/numpy/core/_asarray.py:102: FutureWarning: Private attribute access ('ClippingPlaneList.__array__') in this context (e.g. inside a plugin widget or dock widget) is deprecated and will be unavailable in version 0.5.0\n",
      "  return array(a, dtype, copy=False, order=order)\n"
     ]
    },
    {
     "name": "stdout",
     "output_type": "stream",
     "text": [
      "Rendering frame  95 of 199\n"
     ]
    },
    {
     "name": "stderr",
     "output_type": "stream",
     "text": [
      "/home/nathan/analysis/miniconda3/envs/cellx/lib/python3.9/site-packages/numpy/core/_asarray.py:102: FutureWarning: Private attribute access ('ClippingPlaneList.__array_struct__') in this context (e.g. inside a plugin widget or dock widget) is deprecated and will be unavailable in version 0.5.0\n",
      "  return array(a, dtype, copy=False, order=order)\n",
      "/home/nathan/analysis/miniconda3/envs/cellx/lib/python3.9/site-packages/numpy/core/_asarray.py:102: FutureWarning: Private attribute access ('ClippingPlaneList.__array_interface__') in this context (e.g. inside a plugin widget or dock widget) is deprecated and will be unavailable in version 0.5.0\n",
      "  return array(a, dtype, copy=False, order=order)\n",
      "/home/nathan/analysis/miniconda3/envs/cellx/lib/python3.9/site-packages/numpy/core/_asarray.py:102: FutureWarning: Private attribute access ('ClippingPlaneList.__array__') in this context (e.g. inside a plugin widget or dock widget) is deprecated and will be unavailable in version 0.5.0\n",
      "  return array(a, dtype, copy=False, order=order)\n"
     ]
    },
    {
     "name": "stdout",
     "output_type": "stream",
     "text": [
      "Rendering frame  96 of 199\n"
     ]
    },
    {
     "name": "stderr",
     "output_type": "stream",
     "text": [
      "/home/nathan/analysis/miniconda3/envs/cellx/lib/python3.9/site-packages/numpy/core/_asarray.py:102: FutureWarning: Private attribute access ('ClippingPlaneList.__array_struct__') in this context (e.g. inside a plugin widget or dock widget) is deprecated and will be unavailable in version 0.5.0\n",
      "  return array(a, dtype, copy=False, order=order)\n",
      "/home/nathan/analysis/miniconda3/envs/cellx/lib/python3.9/site-packages/numpy/core/_asarray.py:102: FutureWarning: Private attribute access ('ClippingPlaneList.__array_interface__') in this context (e.g. inside a plugin widget or dock widget) is deprecated and will be unavailable in version 0.5.0\n",
      "  return array(a, dtype, copy=False, order=order)\n",
      "/home/nathan/analysis/miniconda3/envs/cellx/lib/python3.9/site-packages/numpy/core/_asarray.py:102: FutureWarning: Private attribute access ('ClippingPlaneList.__array__') in this context (e.g. inside a plugin widget or dock widget) is deprecated and will be unavailable in version 0.5.0\n",
      "  return array(a, dtype, copy=False, order=order)\n"
     ]
    },
    {
     "name": "stdout",
     "output_type": "stream",
     "text": [
      "Rendering frame  97 of 199\n"
     ]
    },
    {
     "name": "stderr",
     "output_type": "stream",
     "text": [
      "/home/nathan/analysis/miniconda3/envs/cellx/lib/python3.9/site-packages/numpy/core/_asarray.py:102: FutureWarning: Private attribute access ('ClippingPlaneList.__array_struct__') in this context (e.g. inside a plugin widget or dock widget) is deprecated and will be unavailable in version 0.5.0\n",
      "  return array(a, dtype, copy=False, order=order)\n",
      "/home/nathan/analysis/miniconda3/envs/cellx/lib/python3.9/site-packages/numpy/core/_asarray.py:102: FutureWarning: Private attribute access ('ClippingPlaneList.__array_interface__') in this context (e.g. inside a plugin widget or dock widget) is deprecated and will be unavailable in version 0.5.0\n",
      "  return array(a, dtype, copy=False, order=order)\n",
      "/home/nathan/analysis/miniconda3/envs/cellx/lib/python3.9/site-packages/numpy/core/_asarray.py:102: FutureWarning: Private attribute access ('ClippingPlaneList.__array__') in this context (e.g. inside a plugin widget or dock widget) is deprecated and will be unavailable in version 0.5.0\n",
      "  return array(a, dtype, copy=False, order=order)\n"
     ]
    },
    {
     "name": "stdout",
     "output_type": "stream",
     "text": [
      "Rendering frame  98 of 199\n"
     ]
    },
    {
     "name": "stderr",
     "output_type": "stream",
     "text": [
      "/home/nathan/analysis/miniconda3/envs/cellx/lib/python3.9/site-packages/numpy/core/_asarray.py:102: FutureWarning: Private attribute access ('ClippingPlaneList.__array_struct__') in this context (e.g. inside a plugin widget or dock widget) is deprecated and will be unavailable in version 0.5.0\n",
      "  return array(a, dtype, copy=False, order=order)\n",
      "/home/nathan/analysis/miniconda3/envs/cellx/lib/python3.9/site-packages/numpy/core/_asarray.py:102: FutureWarning: Private attribute access ('ClippingPlaneList.__array_interface__') in this context (e.g. inside a plugin widget or dock widget) is deprecated and will be unavailable in version 0.5.0\n",
      "  return array(a, dtype, copy=False, order=order)\n",
      "/home/nathan/analysis/miniconda3/envs/cellx/lib/python3.9/site-packages/numpy/core/_asarray.py:102: FutureWarning: Private attribute access ('ClippingPlaneList.__array__') in this context (e.g. inside a plugin widget or dock widget) is deprecated and will be unavailable in version 0.5.0\n",
      "  return array(a, dtype, copy=False, order=order)\n"
     ]
    },
    {
     "name": "stdout",
     "output_type": "stream",
     "text": [
      "Rendering frame  99 of 199\n"
     ]
    },
    {
     "name": "stderr",
     "output_type": "stream",
     "text": [
      "/home/nathan/analysis/miniconda3/envs/cellx/lib/python3.9/site-packages/numpy/core/_asarray.py:102: FutureWarning: Private attribute access ('ClippingPlaneList.__array_struct__') in this context (e.g. inside a plugin widget or dock widget) is deprecated and will be unavailable in version 0.5.0\n",
      "  return array(a, dtype, copy=False, order=order)\n",
      "/home/nathan/analysis/miniconda3/envs/cellx/lib/python3.9/site-packages/numpy/core/_asarray.py:102: FutureWarning: Private attribute access ('ClippingPlaneList.__array_interface__') in this context (e.g. inside a plugin widget or dock widget) is deprecated and will be unavailable in version 0.5.0\n",
      "  return array(a, dtype, copy=False, order=order)\n",
      "/home/nathan/analysis/miniconda3/envs/cellx/lib/python3.9/site-packages/numpy/core/_asarray.py:102: FutureWarning: Private attribute access ('ClippingPlaneList.__array__') in this context (e.g. inside a plugin widget or dock widget) is deprecated and will be unavailable in version 0.5.0\n",
      "  return array(a, dtype, copy=False, order=order)\n",
      "/home/nathan/analysis/miniconda3/envs/cellx/lib/python3.9/site-packages/numpy/core/_asarray.py:102: FutureWarning: Private attribute access ('ClippingPlaneList.__array_struct__') in this context (e.g. inside a plugin widget or dock widget) is deprecated and will be unavailable in version 0.5.0\n",
      "  return array(a, dtype, copy=False, order=order)\n",
      "/home/nathan/analysis/miniconda3/envs/cellx/lib/python3.9/site-packages/numpy/core/_asarray.py:102: FutureWarning: Private attribute access ('ClippingPlaneList.__array_interface__') in this context (e.g. inside a plugin widget or dock widget) is deprecated and will be unavailable in version 0.5.0\n",
      "  return array(a, dtype, copy=False, order=order)\n",
      "/home/nathan/analysis/miniconda3/envs/cellx/lib/python3.9/site-packages/numpy/core/_asarray.py:102: FutureWarning: Private attribute access ('ClippingPlaneList.__array__') in this context (e.g. inside a plugin widget or dock widget) is deprecated and will be unavailable in version 0.5.0\n",
      "  return array(a, dtype, copy=False, order=order)\n"
     ]
    },
    {
     "name": "stdout",
     "output_type": "stream",
     "text": [
      "Rendering frame  100 of 199\n",
      "Rendering frame  101 of 199\n"
     ]
    },
    {
     "name": "stderr",
     "output_type": "stream",
     "text": [
      "/home/nathan/analysis/miniconda3/envs/cellx/lib/python3.9/site-packages/numpy/core/_asarray.py:102: FutureWarning: Private attribute access ('ClippingPlaneList.__array_struct__') in this context (e.g. inside a plugin widget or dock widget) is deprecated and will be unavailable in version 0.5.0\n",
      "  return array(a, dtype, copy=False, order=order)\n",
      "/home/nathan/analysis/miniconda3/envs/cellx/lib/python3.9/site-packages/numpy/core/_asarray.py:102: FutureWarning: Private attribute access ('ClippingPlaneList.__array_interface__') in this context (e.g. inside a plugin widget or dock widget) is deprecated and will be unavailable in version 0.5.0\n",
      "  return array(a, dtype, copy=False, order=order)\n",
      "/home/nathan/analysis/miniconda3/envs/cellx/lib/python3.9/site-packages/numpy/core/_asarray.py:102: FutureWarning: Private attribute access ('ClippingPlaneList.__array__') in this context (e.g. inside a plugin widget or dock widget) is deprecated and will be unavailable in version 0.5.0\n",
      "  return array(a, dtype, copy=False, order=order)\n"
     ]
    },
    {
     "name": "stdout",
     "output_type": "stream",
     "text": [
      "Rendering frame  102 of 199\n"
     ]
    },
    {
     "name": "stderr",
     "output_type": "stream",
     "text": [
      "/home/nathan/analysis/miniconda3/envs/cellx/lib/python3.9/site-packages/numpy/core/_asarray.py:102: FutureWarning: Private attribute access ('ClippingPlaneList.__array_struct__') in this context (e.g. inside a plugin widget or dock widget) is deprecated and will be unavailable in version 0.5.0\n",
      "  return array(a, dtype, copy=False, order=order)\n",
      "/home/nathan/analysis/miniconda3/envs/cellx/lib/python3.9/site-packages/numpy/core/_asarray.py:102: FutureWarning: Private attribute access ('ClippingPlaneList.__array_interface__') in this context (e.g. inside a plugin widget or dock widget) is deprecated and will be unavailable in version 0.5.0\n",
      "  return array(a, dtype, copy=False, order=order)\n",
      "/home/nathan/analysis/miniconda3/envs/cellx/lib/python3.9/site-packages/numpy/core/_asarray.py:102: FutureWarning: Private attribute access ('ClippingPlaneList.__array__') in this context (e.g. inside a plugin widget or dock widget) is deprecated and will be unavailable in version 0.5.0\n",
      "  return array(a, dtype, copy=False, order=order)\n"
     ]
    },
    {
     "name": "stdout",
     "output_type": "stream",
     "text": [
      "Rendering frame  103 of 199\n"
     ]
    },
    {
     "name": "stderr",
     "output_type": "stream",
     "text": [
      "/home/nathan/analysis/miniconda3/envs/cellx/lib/python3.9/site-packages/numpy/core/_asarray.py:102: FutureWarning: Private attribute access ('ClippingPlaneList.__array_struct__') in this context (e.g. inside a plugin widget or dock widget) is deprecated and will be unavailable in version 0.5.0\n",
      "  return array(a, dtype, copy=False, order=order)\n",
      "/home/nathan/analysis/miniconda3/envs/cellx/lib/python3.9/site-packages/numpy/core/_asarray.py:102: FutureWarning: Private attribute access ('ClippingPlaneList.__array_interface__') in this context (e.g. inside a plugin widget or dock widget) is deprecated and will be unavailable in version 0.5.0\n",
      "  return array(a, dtype, copy=False, order=order)\n",
      "/home/nathan/analysis/miniconda3/envs/cellx/lib/python3.9/site-packages/numpy/core/_asarray.py:102: FutureWarning: Private attribute access ('ClippingPlaneList.__array__') in this context (e.g. inside a plugin widget or dock widget) is deprecated and will be unavailable in version 0.5.0\n",
      "  return array(a, dtype, copy=False, order=order)\n"
     ]
    },
    {
     "name": "stdout",
     "output_type": "stream",
     "text": [
      "Rendering frame  104 of 199\n"
     ]
    },
    {
     "name": "stderr",
     "output_type": "stream",
     "text": [
      "/home/nathan/analysis/miniconda3/envs/cellx/lib/python3.9/site-packages/numpy/core/_asarray.py:102: FutureWarning: Private attribute access ('ClippingPlaneList.__array_struct__') in this context (e.g. inside a plugin widget or dock widget) is deprecated and will be unavailable in version 0.5.0\n",
      "  return array(a, dtype, copy=False, order=order)\n",
      "/home/nathan/analysis/miniconda3/envs/cellx/lib/python3.9/site-packages/numpy/core/_asarray.py:102: FutureWarning: Private attribute access ('ClippingPlaneList.__array_interface__') in this context (e.g. inside a plugin widget or dock widget) is deprecated and will be unavailable in version 0.5.0\n",
      "  return array(a, dtype, copy=False, order=order)\n",
      "/home/nathan/analysis/miniconda3/envs/cellx/lib/python3.9/site-packages/numpy/core/_asarray.py:102: FutureWarning: Private attribute access ('ClippingPlaneList.__array__') in this context (e.g. inside a plugin widget or dock widget) is deprecated and will be unavailable in version 0.5.0\n",
      "  return array(a, dtype, copy=False, order=order)\n"
     ]
    },
    {
     "name": "stdout",
     "output_type": "stream",
     "text": [
      "Rendering frame  105 of 199\n"
     ]
    },
    {
     "name": "stderr",
     "output_type": "stream",
     "text": [
      "/home/nathan/analysis/miniconda3/envs/cellx/lib/python3.9/site-packages/numpy/core/_asarray.py:102: FutureWarning: Private attribute access ('ClippingPlaneList.__array_struct__') in this context (e.g. inside a plugin widget or dock widget) is deprecated and will be unavailable in version 0.5.0\n",
      "  return array(a, dtype, copy=False, order=order)\n",
      "/home/nathan/analysis/miniconda3/envs/cellx/lib/python3.9/site-packages/numpy/core/_asarray.py:102: FutureWarning: Private attribute access ('ClippingPlaneList.__array_interface__') in this context (e.g. inside a plugin widget or dock widget) is deprecated and will be unavailable in version 0.5.0\n",
      "  return array(a, dtype, copy=False, order=order)\n",
      "/home/nathan/analysis/miniconda3/envs/cellx/lib/python3.9/site-packages/numpy/core/_asarray.py:102: FutureWarning: Private attribute access ('ClippingPlaneList.__array__') in this context (e.g. inside a plugin widget or dock widget) is deprecated and will be unavailable in version 0.5.0\n",
      "  return array(a, dtype, copy=False, order=order)\n"
     ]
    },
    {
     "name": "stdout",
     "output_type": "stream",
     "text": [
      "Rendering frame  106 of 199\n"
     ]
    },
    {
     "name": "stderr",
     "output_type": "stream",
     "text": [
      "/home/nathan/analysis/miniconda3/envs/cellx/lib/python3.9/site-packages/numpy/core/_asarray.py:102: FutureWarning: Private attribute access ('ClippingPlaneList.__array_struct__') in this context (e.g. inside a plugin widget or dock widget) is deprecated and will be unavailable in version 0.5.0\n",
      "  return array(a, dtype, copy=False, order=order)\n",
      "/home/nathan/analysis/miniconda3/envs/cellx/lib/python3.9/site-packages/numpy/core/_asarray.py:102: FutureWarning: Private attribute access ('ClippingPlaneList.__array_interface__') in this context (e.g. inside a plugin widget or dock widget) is deprecated and will be unavailable in version 0.5.0\n",
      "  return array(a, dtype, copy=False, order=order)\n",
      "/home/nathan/analysis/miniconda3/envs/cellx/lib/python3.9/site-packages/numpy/core/_asarray.py:102: FutureWarning: Private attribute access ('ClippingPlaneList.__array__') in this context (e.g. inside a plugin widget or dock widget) is deprecated and will be unavailable in version 0.5.0\n",
      "  return array(a, dtype, copy=False, order=order)\n"
     ]
    },
    {
     "name": "stdout",
     "output_type": "stream",
     "text": [
      "Rendering frame  107 of 199\n"
     ]
    },
    {
     "name": "stderr",
     "output_type": "stream",
     "text": [
      "/home/nathan/analysis/miniconda3/envs/cellx/lib/python3.9/site-packages/numpy/core/_asarray.py:102: FutureWarning: Private attribute access ('ClippingPlaneList.__array_struct__') in this context (e.g. inside a plugin widget or dock widget) is deprecated and will be unavailable in version 0.5.0\n",
      "  return array(a, dtype, copy=False, order=order)\n",
      "/home/nathan/analysis/miniconda3/envs/cellx/lib/python3.9/site-packages/numpy/core/_asarray.py:102: FutureWarning: Private attribute access ('ClippingPlaneList.__array_interface__') in this context (e.g. inside a plugin widget or dock widget) is deprecated and will be unavailable in version 0.5.0\n",
      "  return array(a, dtype, copy=False, order=order)\n",
      "/home/nathan/analysis/miniconda3/envs/cellx/lib/python3.9/site-packages/numpy/core/_asarray.py:102: FutureWarning: Private attribute access ('ClippingPlaneList.__array__') in this context (e.g. inside a plugin widget or dock widget) is deprecated and will be unavailable in version 0.5.0\n",
      "  return array(a, dtype, copy=False, order=order)\n"
     ]
    },
    {
     "name": "stdout",
     "output_type": "stream",
     "text": [
      "Rendering frame  108 of 199\n"
     ]
    },
    {
     "name": "stderr",
     "output_type": "stream",
     "text": [
      "/home/nathan/analysis/miniconda3/envs/cellx/lib/python3.9/site-packages/numpy/core/_asarray.py:102: FutureWarning: Private attribute access ('ClippingPlaneList.__array_struct__') in this context (e.g. inside a plugin widget or dock widget) is deprecated and will be unavailable in version 0.5.0\n",
      "  return array(a, dtype, copy=False, order=order)\n",
      "/home/nathan/analysis/miniconda3/envs/cellx/lib/python3.9/site-packages/numpy/core/_asarray.py:102: FutureWarning: Private attribute access ('ClippingPlaneList.__array_interface__') in this context (e.g. inside a plugin widget or dock widget) is deprecated and will be unavailable in version 0.5.0\n",
      "  return array(a, dtype, copy=False, order=order)\n",
      "/home/nathan/analysis/miniconda3/envs/cellx/lib/python3.9/site-packages/numpy/core/_asarray.py:102: FutureWarning: Private attribute access ('ClippingPlaneList.__array__') in this context (e.g. inside a plugin widget or dock widget) is deprecated and will be unavailable in version 0.5.0\n",
      "  return array(a, dtype, copy=False, order=order)\n"
     ]
    },
    {
     "name": "stdout",
     "output_type": "stream",
     "text": [
      "Rendering frame  109 of 199\n"
     ]
    },
    {
     "name": "stderr",
     "output_type": "stream",
     "text": [
      "/home/nathan/analysis/miniconda3/envs/cellx/lib/python3.9/site-packages/numpy/core/_asarray.py:102: FutureWarning: Private attribute access ('ClippingPlaneList.__array_struct__') in this context (e.g. inside a plugin widget or dock widget) is deprecated and will be unavailable in version 0.5.0\n",
      "  return array(a, dtype, copy=False, order=order)\n",
      "/home/nathan/analysis/miniconda3/envs/cellx/lib/python3.9/site-packages/numpy/core/_asarray.py:102: FutureWarning: Private attribute access ('ClippingPlaneList.__array_interface__') in this context (e.g. inside a plugin widget or dock widget) is deprecated and will be unavailable in version 0.5.0\n",
      "  return array(a, dtype, copy=False, order=order)\n",
      "/home/nathan/analysis/miniconda3/envs/cellx/lib/python3.9/site-packages/numpy/core/_asarray.py:102: FutureWarning: Private attribute access ('ClippingPlaneList.__array__') in this context (e.g. inside a plugin widget or dock widget) is deprecated and will be unavailable in version 0.5.0\n",
      "  return array(a, dtype, copy=False, order=order)\n"
     ]
    },
    {
     "name": "stdout",
     "output_type": "stream",
     "text": [
      "Rendering frame  110 of 199\n"
     ]
    },
    {
     "name": "stderr",
     "output_type": "stream",
     "text": [
      "/home/nathan/analysis/miniconda3/envs/cellx/lib/python3.9/site-packages/numpy/core/_asarray.py:102: FutureWarning: Private attribute access ('ClippingPlaneList.__array_struct__') in this context (e.g. inside a plugin widget or dock widget) is deprecated and will be unavailable in version 0.5.0\n",
      "  return array(a, dtype, copy=False, order=order)\n",
      "/home/nathan/analysis/miniconda3/envs/cellx/lib/python3.9/site-packages/numpy/core/_asarray.py:102: FutureWarning: Private attribute access ('ClippingPlaneList.__array_interface__') in this context (e.g. inside a plugin widget or dock widget) is deprecated and will be unavailable in version 0.5.0\n",
      "  return array(a, dtype, copy=False, order=order)\n",
      "/home/nathan/analysis/miniconda3/envs/cellx/lib/python3.9/site-packages/numpy/core/_asarray.py:102: FutureWarning: Private attribute access ('ClippingPlaneList.__array__') in this context (e.g. inside a plugin widget or dock widget) is deprecated and will be unavailable in version 0.5.0\n",
      "  return array(a, dtype, copy=False, order=order)\n"
     ]
    },
    {
     "name": "stdout",
     "output_type": "stream",
     "text": [
      "Rendering frame  111 of 199\n"
     ]
    },
    {
     "name": "stderr",
     "output_type": "stream",
     "text": [
      "/home/nathan/analysis/miniconda3/envs/cellx/lib/python3.9/site-packages/numpy/core/_asarray.py:102: FutureWarning: Private attribute access ('ClippingPlaneList.__array_struct__') in this context (e.g. inside a plugin widget or dock widget) is deprecated and will be unavailable in version 0.5.0\n",
      "  return array(a, dtype, copy=False, order=order)\n",
      "/home/nathan/analysis/miniconda3/envs/cellx/lib/python3.9/site-packages/numpy/core/_asarray.py:102: FutureWarning: Private attribute access ('ClippingPlaneList.__array_interface__') in this context (e.g. inside a plugin widget or dock widget) is deprecated and will be unavailable in version 0.5.0\n",
      "  return array(a, dtype, copy=False, order=order)\n",
      "/home/nathan/analysis/miniconda3/envs/cellx/lib/python3.9/site-packages/numpy/core/_asarray.py:102: FutureWarning: Private attribute access ('ClippingPlaneList.__array__') in this context (e.g. inside a plugin widget or dock widget) is deprecated and will be unavailable in version 0.5.0\n",
      "  return array(a, dtype, copy=False, order=order)\n"
     ]
    },
    {
     "name": "stdout",
     "output_type": "stream",
     "text": [
      "Rendering frame  112 of 199\n"
     ]
    },
    {
     "name": "stderr",
     "output_type": "stream",
     "text": [
      "/home/nathan/analysis/miniconda3/envs/cellx/lib/python3.9/site-packages/numpy/core/_asarray.py:102: FutureWarning: Private attribute access ('ClippingPlaneList.__array_struct__') in this context (e.g. inside a plugin widget or dock widget) is deprecated and will be unavailable in version 0.5.0\n",
      "  return array(a, dtype, copy=False, order=order)\n",
      "/home/nathan/analysis/miniconda3/envs/cellx/lib/python3.9/site-packages/numpy/core/_asarray.py:102: FutureWarning: Private attribute access ('ClippingPlaneList.__array_interface__') in this context (e.g. inside a plugin widget or dock widget) is deprecated and will be unavailable in version 0.5.0\n",
      "  return array(a, dtype, copy=False, order=order)\n",
      "/home/nathan/analysis/miniconda3/envs/cellx/lib/python3.9/site-packages/numpy/core/_asarray.py:102: FutureWarning: Private attribute access ('ClippingPlaneList.__array__') in this context (e.g. inside a plugin widget or dock widget) is deprecated and will be unavailable in version 0.5.0\n",
      "  return array(a, dtype, copy=False, order=order)\n"
     ]
    },
    {
     "name": "stdout",
     "output_type": "stream",
     "text": [
      "Rendering frame  113 of 199\n"
     ]
    },
    {
     "name": "stderr",
     "output_type": "stream",
     "text": [
      "/home/nathan/analysis/miniconda3/envs/cellx/lib/python3.9/site-packages/numpy/core/_asarray.py:102: FutureWarning: Private attribute access ('ClippingPlaneList.__array_struct__') in this context (e.g. inside a plugin widget or dock widget) is deprecated and will be unavailable in version 0.5.0\n",
      "  return array(a, dtype, copy=False, order=order)\n",
      "/home/nathan/analysis/miniconda3/envs/cellx/lib/python3.9/site-packages/numpy/core/_asarray.py:102: FutureWarning: Private attribute access ('ClippingPlaneList.__array_interface__') in this context (e.g. inside a plugin widget or dock widget) is deprecated and will be unavailable in version 0.5.0\n",
      "  return array(a, dtype, copy=False, order=order)\n",
      "/home/nathan/analysis/miniconda3/envs/cellx/lib/python3.9/site-packages/numpy/core/_asarray.py:102: FutureWarning: Private attribute access ('ClippingPlaneList.__array__') in this context (e.g. inside a plugin widget or dock widget) is deprecated and will be unavailable in version 0.5.0\n",
      "  return array(a, dtype, copy=False, order=order)\n"
     ]
    },
    {
     "name": "stdout",
     "output_type": "stream",
     "text": [
      "Rendering frame  114 of 199\n"
     ]
    },
    {
     "name": "stderr",
     "output_type": "stream",
     "text": [
      "/home/nathan/analysis/miniconda3/envs/cellx/lib/python3.9/site-packages/numpy/core/_asarray.py:102: FutureWarning: Private attribute access ('ClippingPlaneList.__array_struct__') in this context (e.g. inside a plugin widget or dock widget) is deprecated and will be unavailable in version 0.5.0\n",
      "  return array(a, dtype, copy=False, order=order)\n",
      "/home/nathan/analysis/miniconda3/envs/cellx/lib/python3.9/site-packages/numpy/core/_asarray.py:102: FutureWarning: Private attribute access ('ClippingPlaneList.__array_interface__') in this context (e.g. inside a plugin widget or dock widget) is deprecated and will be unavailable in version 0.5.0\n",
      "  return array(a, dtype, copy=False, order=order)\n",
      "/home/nathan/analysis/miniconda3/envs/cellx/lib/python3.9/site-packages/numpy/core/_asarray.py:102: FutureWarning: Private attribute access ('ClippingPlaneList.__array__') in this context (e.g. inside a plugin widget or dock widget) is deprecated and will be unavailable in version 0.5.0\n",
      "  return array(a, dtype, copy=False, order=order)\n"
     ]
    },
    {
     "name": "stdout",
     "output_type": "stream",
     "text": [
      "Rendering frame  115 of 199\n"
     ]
    },
    {
     "name": "stderr",
     "output_type": "stream",
     "text": [
      "/home/nathan/analysis/miniconda3/envs/cellx/lib/python3.9/site-packages/numpy/core/_asarray.py:102: FutureWarning: Private attribute access ('ClippingPlaneList.__array_struct__') in this context (e.g. inside a plugin widget or dock widget) is deprecated and will be unavailable in version 0.5.0\n",
      "  return array(a, dtype, copy=False, order=order)\n",
      "/home/nathan/analysis/miniconda3/envs/cellx/lib/python3.9/site-packages/numpy/core/_asarray.py:102: FutureWarning: Private attribute access ('ClippingPlaneList.__array_interface__') in this context (e.g. inside a plugin widget or dock widget) is deprecated and will be unavailable in version 0.5.0\n",
      "  return array(a, dtype, copy=False, order=order)\n",
      "/home/nathan/analysis/miniconda3/envs/cellx/lib/python3.9/site-packages/numpy/core/_asarray.py:102: FutureWarning: Private attribute access ('ClippingPlaneList.__array__') in this context (e.g. inside a plugin widget or dock widget) is deprecated and will be unavailable in version 0.5.0\n",
      "  return array(a, dtype, copy=False, order=order)\n"
     ]
    },
    {
     "name": "stdout",
     "output_type": "stream",
     "text": [
      "Rendering frame  116 of 199\n"
     ]
    },
    {
     "name": "stderr",
     "output_type": "stream",
     "text": [
      "/home/nathan/analysis/miniconda3/envs/cellx/lib/python3.9/site-packages/numpy/core/_asarray.py:102: FutureWarning: Private attribute access ('ClippingPlaneList.__array_struct__') in this context (e.g. inside a plugin widget or dock widget) is deprecated and will be unavailable in version 0.5.0\n",
      "  return array(a, dtype, copy=False, order=order)\n",
      "/home/nathan/analysis/miniconda3/envs/cellx/lib/python3.9/site-packages/numpy/core/_asarray.py:102: FutureWarning: Private attribute access ('ClippingPlaneList.__array_interface__') in this context (e.g. inside a plugin widget or dock widget) is deprecated and will be unavailable in version 0.5.0\n",
      "  return array(a, dtype, copy=False, order=order)\n",
      "/home/nathan/analysis/miniconda3/envs/cellx/lib/python3.9/site-packages/numpy/core/_asarray.py:102: FutureWarning: Private attribute access ('ClippingPlaneList.__array__') in this context (e.g. inside a plugin widget or dock widget) is deprecated and will be unavailable in version 0.5.0\n",
      "  return array(a, dtype, copy=False, order=order)\n"
     ]
    },
    {
     "name": "stdout",
     "output_type": "stream",
     "text": [
      "Rendering frame  117 of 199\n"
     ]
    },
    {
     "name": "stderr",
     "output_type": "stream",
     "text": [
      "/home/nathan/analysis/miniconda3/envs/cellx/lib/python3.9/site-packages/numpy/core/_asarray.py:102: FutureWarning: Private attribute access ('ClippingPlaneList.__array_struct__') in this context (e.g. inside a plugin widget or dock widget) is deprecated and will be unavailable in version 0.5.0\n",
      "  return array(a, dtype, copy=False, order=order)\n",
      "/home/nathan/analysis/miniconda3/envs/cellx/lib/python3.9/site-packages/numpy/core/_asarray.py:102: FutureWarning: Private attribute access ('ClippingPlaneList.__array_interface__') in this context (e.g. inside a plugin widget or dock widget) is deprecated and will be unavailable in version 0.5.0\n",
      "  return array(a, dtype, copy=False, order=order)\n",
      "/home/nathan/analysis/miniconda3/envs/cellx/lib/python3.9/site-packages/numpy/core/_asarray.py:102: FutureWarning: Private attribute access ('ClippingPlaneList.__array__') in this context (e.g. inside a plugin widget or dock widget) is deprecated and will be unavailable in version 0.5.0\n",
      "  return array(a, dtype, copy=False, order=order)\n"
     ]
    },
    {
     "name": "stdout",
     "output_type": "stream",
     "text": [
      "Rendering frame  118 of 199\n"
     ]
    },
    {
     "name": "stderr",
     "output_type": "stream",
     "text": [
      "/home/nathan/analysis/miniconda3/envs/cellx/lib/python3.9/site-packages/numpy/core/_asarray.py:102: FutureWarning: Private attribute access ('ClippingPlaneList.__array_struct__') in this context (e.g. inside a plugin widget or dock widget) is deprecated and will be unavailable in version 0.5.0\n",
      "  return array(a, dtype, copy=False, order=order)\n",
      "/home/nathan/analysis/miniconda3/envs/cellx/lib/python3.9/site-packages/numpy/core/_asarray.py:102: FutureWarning: Private attribute access ('ClippingPlaneList.__array_interface__') in this context (e.g. inside a plugin widget or dock widget) is deprecated and will be unavailable in version 0.5.0\n",
      "  return array(a, dtype, copy=False, order=order)\n",
      "/home/nathan/analysis/miniconda3/envs/cellx/lib/python3.9/site-packages/numpy/core/_asarray.py:102: FutureWarning: Private attribute access ('ClippingPlaneList.__array__') in this context (e.g. inside a plugin widget or dock widget) is deprecated and will be unavailable in version 0.5.0\n",
      "  return array(a, dtype, copy=False, order=order)\n"
     ]
    },
    {
     "name": "stdout",
     "output_type": "stream",
     "text": [
      "Rendering frame  119 of 199\n"
     ]
    },
    {
     "name": "stderr",
     "output_type": "stream",
     "text": [
      "/home/nathan/analysis/miniconda3/envs/cellx/lib/python3.9/site-packages/numpy/core/_asarray.py:102: FutureWarning: Private attribute access ('ClippingPlaneList.__array_struct__') in this context (e.g. inside a plugin widget or dock widget) is deprecated and will be unavailable in version 0.5.0\n",
      "  return array(a, dtype, copy=False, order=order)\n",
      "/home/nathan/analysis/miniconda3/envs/cellx/lib/python3.9/site-packages/numpy/core/_asarray.py:102: FutureWarning: Private attribute access ('ClippingPlaneList.__array_interface__') in this context (e.g. inside a plugin widget or dock widget) is deprecated and will be unavailable in version 0.5.0\n",
      "  return array(a, dtype, copy=False, order=order)\n",
      "/home/nathan/analysis/miniconda3/envs/cellx/lib/python3.9/site-packages/numpy/core/_asarray.py:102: FutureWarning: Private attribute access ('ClippingPlaneList.__array__') in this context (e.g. inside a plugin widget or dock widget) is deprecated and will be unavailable in version 0.5.0\n",
      "  return array(a, dtype, copy=False, order=order)\n"
     ]
    },
    {
     "name": "stdout",
     "output_type": "stream",
     "text": [
      "Rendering frame  120 of 199\n"
     ]
    },
    {
     "name": "stderr",
     "output_type": "stream",
     "text": [
      "/home/nathan/analysis/miniconda3/envs/cellx/lib/python3.9/site-packages/numpy/core/_asarray.py:102: FutureWarning: Private attribute access ('ClippingPlaneList.__array_struct__') in this context (e.g. inside a plugin widget or dock widget) is deprecated and will be unavailable in version 0.5.0\n",
      "  return array(a, dtype, copy=False, order=order)\n",
      "/home/nathan/analysis/miniconda3/envs/cellx/lib/python3.9/site-packages/numpy/core/_asarray.py:102: FutureWarning: Private attribute access ('ClippingPlaneList.__array_interface__') in this context (e.g. inside a plugin widget or dock widget) is deprecated and will be unavailable in version 0.5.0\n",
      "  return array(a, dtype, copy=False, order=order)\n",
      "/home/nathan/analysis/miniconda3/envs/cellx/lib/python3.9/site-packages/numpy/core/_asarray.py:102: FutureWarning: Private attribute access ('ClippingPlaneList.__array__') in this context (e.g. inside a plugin widget or dock widget) is deprecated and will be unavailable in version 0.5.0\n",
      "  return array(a, dtype, copy=False, order=order)\n"
     ]
    },
    {
     "name": "stdout",
     "output_type": "stream",
     "text": [
      "Rendering frame  121 of 199\n"
     ]
    },
    {
     "name": "stderr",
     "output_type": "stream",
     "text": [
      "/home/nathan/analysis/miniconda3/envs/cellx/lib/python3.9/site-packages/numpy/core/_asarray.py:102: FutureWarning: Private attribute access ('ClippingPlaneList.__array_struct__') in this context (e.g. inside a plugin widget or dock widget) is deprecated and will be unavailable in version 0.5.0\n",
      "  return array(a, dtype, copy=False, order=order)\n",
      "/home/nathan/analysis/miniconda3/envs/cellx/lib/python3.9/site-packages/numpy/core/_asarray.py:102: FutureWarning: Private attribute access ('ClippingPlaneList.__array_interface__') in this context (e.g. inside a plugin widget or dock widget) is deprecated and will be unavailable in version 0.5.0\n",
      "  return array(a, dtype, copy=False, order=order)\n",
      "/home/nathan/analysis/miniconda3/envs/cellx/lib/python3.9/site-packages/numpy/core/_asarray.py:102: FutureWarning: Private attribute access ('ClippingPlaneList.__array__') in this context (e.g. inside a plugin widget or dock widget) is deprecated and will be unavailable in version 0.5.0\n",
      "  return array(a, dtype, copy=False, order=order)\n"
     ]
    },
    {
     "name": "stdout",
     "output_type": "stream",
     "text": [
      "Rendering frame  122 of 199\n"
     ]
    },
    {
     "name": "stderr",
     "output_type": "stream",
     "text": [
      "/home/nathan/analysis/miniconda3/envs/cellx/lib/python3.9/site-packages/numpy/core/_asarray.py:102: FutureWarning: Private attribute access ('ClippingPlaneList.__array_struct__') in this context (e.g. inside a plugin widget or dock widget) is deprecated and will be unavailable in version 0.5.0\n",
      "  return array(a, dtype, copy=False, order=order)\n",
      "/home/nathan/analysis/miniconda3/envs/cellx/lib/python3.9/site-packages/numpy/core/_asarray.py:102: FutureWarning: Private attribute access ('ClippingPlaneList.__array_interface__') in this context (e.g. inside a plugin widget or dock widget) is deprecated and will be unavailable in version 0.5.0\n",
      "  return array(a, dtype, copy=False, order=order)\n",
      "/home/nathan/analysis/miniconda3/envs/cellx/lib/python3.9/site-packages/numpy/core/_asarray.py:102: FutureWarning: Private attribute access ('ClippingPlaneList.__array__') in this context (e.g. inside a plugin widget or dock widget) is deprecated and will be unavailable in version 0.5.0\n",
      "  return array(a, dtype, copy=False, order=order)\n"
     ]
    },
    {
     "name": "stdout",
     "output_type": "stream",
     "text": [
      "Rendering frame  123 of 199\n"
     ]
    },
    {
     "name": "stderr",
     "output_type": "stream",
     "text": [
      "/home/nathan/analysis/miniconda3/envs/cellx/lib/python3.9/site-packages/numpy/core/_asarray.py:102: FutureWarning: Private attribute access ('ClippingPlaneList.__array_struct__') in this context (e.g. inside a plugin widget or dock widget) is deprecated and will be unavailable in version 0.5.0\n",
      "  return array(a, dtype, copy=False, order=order)\n",
      "/home/nathan/analysis/miniconda3/envs/cellx/lib/python3.9/site-packages/numpy/core/_asarray.py:102: FutureWarning: Private attribute access ('ClippingPlaneList.__array_interface__') in this context (e.g. inside a plugin widget or dock widget) is deprecated and will be unavailable in version 0.5.0\n",
      "  return array(a, dtype, copy=False, order=order)\n",
      "/home/nathan/analysis/miniconda3/envs/cellx/lib/python3.9/site-packages/numpy/core/_asarray.py:102: FutureWarning: Private attribute access ('ClippingPlaneList.__array__') in this context (e.g. inside a plugin widget or dock widget) is deprecated and will be unavailable in version 0.5.0\n",
      "  return array(a, dtype, copy=False, order=order)\n"
     ]
    },
    {
     "name": "stdout",
     "output_type": "stream",
     "text": [
      "Rendering frame  124 of 199\n"
     ]
    },
    {
     "name": "stderr",
     "output_type": "stream",
     "text": [
      "/home/nathan/analysis/miniconda3/envs/cellx/lib/python3.9/site-packages/numpy/core/_asarray.py:102: FutureWarning: Private attribute access ('ClippingPlaneList.__array_struct__') in this context (e.g. inside a plugin widget or dock widget) is deprecated and will be unavailable in version 0.5.0\n",
      "  return array(a, dtype, copy=False, order=order)\n",
      "/home/nathan/analysis/miniconda3/envs/cellx/lib/python3.9/site-packages/numpy/core/_asarray.py:102: FutureWarning: Private attribute access ('ClippingPlaneList.__array_interface__') in this context (e.g. inside a plugin widget or dock widget) is deprecated and will be unavailable in version 0.5.0\n",
      "  return array(a, dtype, copy=False, order=order)\n",
      "/home/nathan/analysis/miniconda3/envs/cellx/lib/python3.9/site-packages/numpy/core/_asarray.py:102: FutureWarning: Private attribute access ('ClippingPlaneList.__array__') in this context (e.g. inside a plugin widget or dock widget) is deprecated and will be unavailable in version 0.5.0\n",
      "  return array(a, dtype, copy=False, order=order)\n"
     ]
    },
    {
     "name": "stdout",
     "output_type": "stream",
     "text": [
      "Rendering frame  125 of 199\n"
     ]
    },
    {
     "name": "stderr",
     "output_type": "stream",
     "text": [
      "/home/nathan/analysis/miniconda3/envs/cellx/lib/python3.9/site-packages/numpy/core/_asarray.py:102: FutureWarning: Private attribute access ('ClippingPlaneList.__array_struct__') in this context (e.g. inside a plugin widget or dock widget) is deprecated and will be unavailable in version 0.5.0\n",
      "  return array(a, dtype, copy=False, order=order)\n",
      "/home/nathan/analysis/miniconda3/envs/cellx/lib/python3.9/site-packages/numpy/core/_asarray.py:102: FutureWarning: Private attribute access ('ClippingPlaneList.__array_interface__') in this context (e.g. inside a plugin widget or dock widget) is deprecated and will be unavailable in version 0.5.0\n",
      "  return array(a, dtype, copy=False, order=order)\n",
      "/home/nathan/analysis/miniconda3/envs/cellx/lib/python3.9/site-packages/numpy/core/_asarray.py:102: FutureWarning: Private attribute access ('ClippingPlaneList.__array__') in this context (e.g. inside a plugin widget or dock widget) is deprecated and will be unavailable in version 0.5.0\n",
      "  return array(a, dtype, copy=False, order=order)\n"
     ]
    },
    {
     "name": "stdout",
     "output_type": "stream",
     "text": [
      "Rendering frame  126 of 199\n"
     ]
    },
    {
     "name": "stderr",
     "output_type": "stream",
     "text": [
      "/home/nathan/analysis/miniconda3/envs/cellx/lib/python3.9/site-packages/numpy/core/_asarray.py:102: FutureWarning: Private attribute access ('ClippingPlaneList.__array_struct__') in this context (e.g. inside a plugin widget or dock widget) is deprecated and will be unavailable in version 0.5.0\n",
      "  return array(a, dtype, copy=False, order=order)\n",
      "/home/nathan/analysis/miniconda3/envs/cellx/lib/python3.9/site-packages/numpy/core/_asarray.py:102: FutureWarning: Private attribute access ('ClippingPlaneList.__array_interface__') in this context (e.g. inside a plugin widget or dock widget) is deprecated and will be unavailable in version 0.5.0\n",
      "  return array(a, dtype, copy=False, order=order)\n",
      "/home/nathan/analysis/miniconda3/envs/cellx/lib/python3.9/site-packages/numpy/core/_asarray.py:102: FutureWarning: Private attribute access ('ClippingPlaneList.__array__') in this context (e.g. inside a plugin widget or dock widget) is deprecated and will be unavailable in version 0.5.0\n",
      "  return array(a, dtype, copy=False, order=order)\n"
     ]
    },
    {
     "name": "stdout",
     "output_type": "stream",
     "text": [
      "Rendering frame  127 of 199\n"
     ]
    },
    {
     "name": "stderr",
     "output_type": "stream",
     "text": [
      "/home/nathan/analysis/miniconda3/envs/cellx/lib/python3.9/site-packages/numpy/core/_asarray.py:102: FutureWarning: Private attribute access ('ClippingPlaneList.__array_struct__') in this context (e.g. inside a plugin widget or dock widget) is deprecated and will be unavailable in version 0.5.0\n",
      "  return array(a, dtype, copy=False, order=order)\n",
      "/home/nathan/analysis/miniconda3/envs/cellx/lib/python3.9/site-packages/numpy/core/_asarray.py:102: FutureWarning: Private attribute access ('ClippingPlaneList.__array_interface__') in this context (e.g. inside a plugin widget or dock widget) is deprecated and will be unavailable in version 0.5.0\n",
      "  return array(a, dtype, copy=False, order=order)\n",
      "/home/nathan/analysis/miniconda3/envs/cellx/lib/python3.9/site-packages/numpy/core/_asarray.py:102: FutureWarning: Private attribute access ('ClippingPlaneList.__array__') in this context (e.g. inside a plugin widget or dock widget) is deprecated and will be unavailable in version 0.5.0\n",
      "  return array(a, dtype, copy=False, order=order)\n"
     ]
    },
    {
     "name": "stdout",
     "output_type": "stream",
     "text": [
      "Rendering frame  128 of 199\n"
     ]
    },
    {
     "name": "stderr",
     "output_type": "stream",
     "text": [
      "/home/nathan/analysis/miniconda3/envs/cellx/lib/python3.9/site-packages/numpy/core/_asarray.py:102: FutureWarning: Private attribute access ('ClippingPlaneList.__array_struct__') in this context (e.g. inside a plugin widget or dock widget) is deprecated and will be unavailable in version 0.5.0\n",
      "  return array(a, dtype, copy=False, order=order)\n",
      "/home/nathan/analysis/miniconda3/envs/cellx/lib/python3.9/site-packages/numpy/core/_asarray.py:102: FutureWarning: Private attribute access ('ClippingPlaneList.__array_interface__') in this context (e.g. inside a plugin widget or dock widget) is deprecated and will be unavailable in version 0.5.0\n",
      "  return array(a, dtype, copy=False, order=order)\n",
      "/home/nathan/analysis/miniconda3/envs/cellx/lib/python3.9/site-packages/numpy/core/_asarray.py:102: FutureWarning: Private attribute access ('ClippingPlaneList.__array__') in this context (e.g. inside a plugin widget or dock widget) is deprecated and will be unavailable in version 0.5.0\n",
      "  return array(a, dtype, copy=False, order=order)\n"
     ]
    },
    {
     "name": "stdout",
     "output_type": "stream",
     "text": [
      "Rendering frame  129 of 199\n"
     ]
    },
    {
     "name": "stderr",
     "output_type": "stream",
     "text": [
      "/home/nathan/analysis/miniconda3/envs/cellx/lib/python3.9/site-packages/numpy/core/_asarray.py:102: FutureWarning: Private attribute access ('ClippingPlaneList.__array_struct__') in this context (e.g. inside a plugin widget or dock widget) is deprecated and will be unavailable in version 0.5.0\n",
      "  return array(a, dtype, copy=False, order=order)\n",
      "/home/nathan/analysis/miniconda3/envs/cellx/lib/python3.9/site-packages/numpy/core/_asarray.py:102: FutureWarning: Private attribute access ('ClippingPlaneList.__array_interface__') in this context (e.g. inside a plugin widget or dock widget) is deprecated and will be unavailable in version 0.5.0\n",
      "  return array(a, dtype, copy=False, order=order)\n",
      "/home/nathan/analysis/miniconda3/envs/cellx/lib/python3.9/site-packages/numpy/core/_asarray.py:102: FutureWarning: Private attribute access ('ClippingPlaneList.__array__') in this context (e.g. inside a plugin widget or dock widget) is deprecated and will be unavailable in version 0.5.0\n",
      "  return array(a, dtype, copy=False, order=order)\n"
     ]
    },
    {
     "name": "stdout",
     "output_type": "stream",
     "text": [
      "Rendering frame  130 of 199\n"
     ]
    },
    {
     "name": "stderr",
     "output_type": "stream",
     "text": [
      "/home/nathan/analysis/miniconda3/envs/cellx/lib/python3.9/site-packages/numpy/core/_asarray.py:102: FutureWarning: Private attribute access ('ClippingPlaneList.__array_struct__') in this context (e.g. inside a plugin widget or dock widget) is deprecated and will be unavailable in version 0.5.0\n",
      "  return array(a, dtype, copy=False, order=order)\n",
      "/home/nathan/analysis/miniconda3/envs/cellx/lib/python3.9/site-packages/numpy/core/_asarray.py:102: FutureWarning: Private attribute access ('ClippingPlaneList.__array_interface__') in this context (e.g. inside a plugin widget or dock widget) is deprecated and will be unavailable in version 0.5.0\n",
      "  return array(a, dtype, copy=False, order=order)\n",
      "/home/nathan/analysis/miniconda3/envs/cellx/lib/python3.9/site-packages/numpy/core/_asarray.py:102: FutureWarning: Private attribute access ('ClippingPlaneList.__array__') in this context (e.g. inside a plugin widget or dock widget) is deprecated and will be unavailable in version 0.5.0\n",
      "  return array(a, dtype, copy=False, order=order)\n"
     ]
    },
    {
     "name": "stdout",
     "output_type": "stream",
     "text": [
      "Rendering frame  131 of 199\n"
     ]
    },
    {
     "name": "stderr",
     "output_type": "stream",
     "text": [
      "/home/nathan/analysis/miniconda3/envs/cellx/lib/python3.9/site-packages/numpy/core/_asarray.py:102: FutureWarning: Private attribute access ('ClippingPlaneList.__array_struct__') in this context (e.g. inside a plugin widget or dock widget) is deprecated and will be unavailable in version 0.5.0\n",
      "  return array(a, dtype, copy=False, order=order)\n",
      "/home/nathan/analysis/miniconda3/envs/cellx/lib/python3.9/site-packages/numpy/core/_asarray.py:102: FutureWarning: Private attribute access ('ClippingPlaneList.__array_interface__') in this context (e.g. inside a plugin widget or dock widget) is deprecated and will be unavailable in version 0.5.0\n",
      "  return array(a, dtype, copy=False, order=order)\n",
      "/home/nathan/analysis/miniconda3/envs/cellx/lib/python3.9/site-packages/numpy/core/_asarray.py:102: FutureWarning: Private attribute access ('ClippingPlaneList.__array__') in this context (e.g. inside a plugin widget or dock widget) is deprecated and will be unavailable in version 0.5.0\n",
      "  return array(a, dtype, copy=False, order=order)\n"
     ]
    },
    {
     "name": "stdout",
     "output_type": "stream",
     "text": [
      "Rendering frame  132 of 199\n"
     ]
    },
    {
     "name": "stderr",
     "output_type": "stream",
     "text": [
      "/home/nathan/analysis/miniconda3/envs/cellx/lib/python3.9/site-packages/numpy/core/_asarray.py:102: FutureWarning: Private attribute access ('ClippingPlaneList.__array_struct__') in this context (e.g. inside a plugin widget or dock widget) is deprecated and will be unavailable in version 0.5.0\n",
      "  return array(a, dtype, copy=False, order=order)\n",
      "/home/nathan/analysis/miniconda3/envs/cellx/lib/python3.9/site-packages/numpy/core/_asarray.py:102: FutureWarning: Private attribute access ('ClippingPlaneList.__array_interface__') in this context (e.g. inside a plugin widget or dock widget) is deprecated and will be unavailable in version 0.5.0\n",
      "  return array(a, dtype, copy=False, order=order)\n",
      "/home/nathan/analysis/miniconda3/envs/cellx/lib/python3.9/site-packages/numpy/core/_asarray.py:102: FutureWarning: Private attribute access ('ClippingPlaneList.__array__') in this context (e.g. inside a plugin widget or dock widget) is deprecated and will be unavailable in version 0.5.0\n",
      "  return array(a, dtype, copy=False, order=order)\n"
     ]
    },
    {
     "name": "stdout",
     "output_type": "stream",
     "text": [
      "Rendering frame  133 of 199\n"
     ]
    },
    {
     "name": "stderr",
     "output_type": "stream",
     "text": [
      "/home/nathan/analysis/miniconda3/envs/cellx/lib/python3.9/site-packages/numpy/core/_asarray.py:102: FutureWarning: Private attribute access ('ClippingPlaneList.__array_struct__') in this context (e.g. inside a plugin widget or dock widget) is deprecated and will be unavailable in version 0.5.0\n",
      "  return array(a, dtype, copy=False, order=order)\n",
      "/home/nathan/analysis/miniconda3/envs/cellx/lib/python3.9/site-packages/numpy/core/_asarray.py:102: FutureWarning: Private attribute access ('ClippingPlaneList.__array_interface__') in this context (e.g. inside a plugin widget or dock widget) is deprecated and will be unavailable in version 0.5.0\n",
      "  return array(a, dtype, copy=False, order=order)\n",
      "/home/nathan/analysis/miniconda3/envs/cellx/lib/python3.9/site-packages/numpy/core/_asarray.py:102: FutureWarning: Private attribute access ('ClippingPlaneList.__array__') in this context (e.g. inside a plugin widget or dock widget) is deprecated and will be unavailable in version 0.5.0\n",
      "  return array(a, dtype, copy=False, order=order)\n"
     ]
    },
    {
     "name": "stdout",
     "output_type": "stream",
     "text": [
      "Rendering frame  134 of 199\n"
     ]
    },
    {
     "name": "stderr",
     "output_type": "stream",
     "text": [
      "/home/nathan/analysis/miniconda3/envs/cellx/lib/python3.9/site-packages/numpy/core/_asarray.py:102: FutureWarning: Private attribute access ('ClippingPlaneList.__array_struct__') in this context (e.g. inside a plugin widget or dock widget) is deprecated and will be unavailable in version 0.5.0\n",
      "  return array(a, dtype, copy=False, order=order)\n",
      "/home/nathan/analysis/miniconda3/envs/cellx/lib/python3.9/site-packages/numpy/core/_asarray.py:102: FutureWarning: Private attribute access ('ClippingPlaneList.__array_interface__') in this context (e.g. inside a plugin widget or dock widget) is deprecated and will be unavailable in version 0.5.0\n",
      "  return array(a, dtype, copy=False, order=order)\n",
      "/home/nathan/analysis/miniconda3/envs/cellx/lib/python3.9/site-packages/numpy/core/_asarray.py:102: FutureWarning: Private attribute access ('ClippingPlaneList.__array__') in this context (e.g. inside a plugin widget or dock widget) is deprecated and will be unavailable in version 0.5.0\n",
      "  return array(a, dtype, copy=False, order=order)\n"
     ]
    },
    {
     "name": "stdout",
     "output_type": "stream",
     "text": [
      "Rendering frame  135 of 199\n"
     ]
    },
    {
     "name": "stderr",
     "output_type": "stream",
     "text": [
      "/home/nathan/analysis/miniconda3/envs/cellx/lib/python3.9/site-packages/numpy/core/_asarray.py:102: FutureWarning: Private attribute access ('ClippingPlaneList.__array_struct__') in this context (e.g. inside a plugin widget or dock widget) is deprecated and will be unavailable in version 0.5.0\n",
      "  return array(a, dtype, copy=False, order=order)\n",
      "/home/nathan/analysis/miniconda3/envs/cellx/lib/python3.9/site-packages/numpy/core/_asarray.py:102: FutureWarning: Private attribute access ('ClippingPlaneList.__array_interface__') in this context (e.g. inside a plugin widget or dock widget) is deprecated and will be unavailable in version 0.5.0\n",
      "  return array(a, dtype, copy=False, order=order)\n",
      "/home/nathan/analysis/miniconda3/envs/cellx/lib/python3.9/site-packages/numpy/core/_asarray.py:102: FutureWarning: Private attribute access ('ClippingPlaneList.__array__') in this context (e.g. inside a plugin widget or dock widget) is deprecated and will be unavailable in version 0.5.0\n",
      "  return array(a, dtype, copy=False, order=order)\n"
     ]
    },
    {
     "name": "stdout",
     "output_type": "stream",
     "text": [
      "Rendering frame  136 of 199\n"
     ]
    },
    {
     "name": "stderr",
     "output_type": "stream",
     "text": [
      "/home/nathan/analysis/miniconda3/envs/cellx/lib/python3.9/site-packages/numpy/core/_asarray.py:102: FutureWarning: Private attribute access ('ClippingPlaneList.__array_struct__') in this context (e.g. inside a plugin widget or dock widget) is deprecated and will be unavailable in version 0.5.0\n",
      "  return array(a, dtype, copy=False, order=order)\n",
      "/home/nathan/analysis/miniconda3/envs/cellx/lib/python3.9/site-packages/numpy/core/_asarray.py:102: FutureWarning: Private attribute access ('ClippingPlaneList.__array_interface__') in this context (e.g. inside a plugin widget or dock widget) is deprecated and will be unavailable in version 0.5.0\n",
      "  return array(a, dtype, copy=False, order=order)\n",
      "/home/nathan/analysis/miniconda3/envs/cellx/lib/python3.9/site-packages/numpy/core/_asarray.py:102: FutureWarning: Private attribute access ('ClippingPlaneList.__array__') in this context (e.g. inside a plugin widget or dock widget) is deprecated and will be unavailable in version 0.5.0\n",
      "  return array(a, dtype, copy=False, order=order)\n"
     ]
    },
    {
     "name": "stdout",
     "output_type": "stream",
     "text": [
      "Rendering frame  137 of 199\n"
     ]
    },
    {
     "name": "stderr",
     "output_type": "stream",
     "text": [
      "/home/nathan/analysis/miniconda3/envs/cellx/lib/python3.9/site-packages/numpy/core/_asarray.py:102: FutureWarning: Private attribute access ('ClippingPlaneList.__array_struct__') in this context (e.g. inside a plugin widget or dock widget) is deprecated and will be unavailable in version 0.5.0\n",
      "  return array(a, dtype, copy=False, order=order)\n",
      "/home/nathan/analysis/miniconda3/envs/cellx/lib/python3.9/site-packages/numpy/core/_asarray.py:102: FutureWarning: Private attribute access ('ClippingPlaneList.__array_interface__') in this context (e.g. inside a plugin widget or dock widget) is deprecated and will be unavailable in version 0.5.0\n",
      "  return array(a, dtype, copy=False, order=order)\n",
      "/home/nathan/analysis/miniconda3/envs/cellx/lib/python3.9/site-packages/numpy/core/_asarray.py:102: FutureWarning: Private attribute access ('ClippingPlaneList.__array__') in this context (e.g. inside a plugin widget or dock widget) is deprecated and will be unavailable in version 0.5.0\n",
      "  return array(a, dtype, copy=False, order=order)\n"
     ]
    },
    {
     "name": "stdout",
     "output_type": "stream",
     "text": [
      "Rendering frame  138 of 199\n"
     ]
    },
    {
     "name": "stderr",
     "output_type": "stream",
     "text": [
      "/home/nathan/analysis/miniconda3/envs/cellx/lib/python3.9/site-packages/numpy/core/_asarray.py:102: FutureWarning: Private attribute access ('ClippingPlaneList.__array_struct__') in this context (e.g. inside a plugin widget or dock widget) is deprecated and will be unavailable in version 0.5.0\n",
      "  return array(a, dtype, copy=False, order=order)\n",
      "/home/nathan/analysis/miniconda3/envs/cellx/lib/python3.9/site-packages/numpy/core/_asarray.py:102: FutureWarning: Private attribute access ('ClippingPlaneList.__array_interface__') in this context (e.g. inside a plugin widget or dock widget) is deprecated and will be unavailable in version 0.5.0\n",
      "  return array(a, dtype, copy=False, order=order)\n",
      "/home/nathan/analysis/miniconda3/envs/cellx/lib/python3.9/site-packages/numpy/core/_asarray.py:102: FutureWarning: Private attribute access ('ClippingPlaneList.__array__') in this context (e.g. inside a plugin widget or dock widget) is deprecated and will be unavailable in version 0.5.0\n",
      "  return array(a, dtype, copy=False, order=order)\n"
     ]
    },
    {
     "name": "stdout",
     "output_type": "stream",
     "text": [
      "Rendering frame  139 of 199\n"
     ]
    },
    {
     "name": "stderr",
     "output_type": "stream",
     "text": [
      "/home/nathan/analysis/miniconda3/envs/cellx/lib/python3.9/site-packages/numpy/core/_asarray.py:102: FutureWarning: Private attribute access ('ClippingPlaneList.__array_struct__') in this context (e.g. inside a plugin widget or dock widget) is deprecated and will be unavailable in version 0.5.0\n",
      "  return array(a, dtype, copy=False, order=order)\n",
      "/home/nathan/analysis/miniconda3/envs/cellx/lib/python3.9/site-packages/numpy/core/_asarray.py:102: FutureWarning: Private attribute access ('ClippingPlaneList.__array_interface__') in this context (e.g. inside a plugin widget or dock widget) is deprecated and will be unavailable in version 0.5.0\n",
      "  return array(a, dtype, copy=False, order=order)\n",
      "/home/nathan/analysis/miniconda3/envs/cellx/lib/python3.9/site-packages/numpy/core/_asarray.py:102: FutureWarning: Private attribute access ('ClippingPlaneList.__array__') in this context (e.g. inside a plugin widget or dock widget) is deprecated and will be unavailable in version 0.5.0\n",
      "  return array(a, dtype, copy=False, order=order)\n"
     ]
    },
    {
     "name": "stdout",
     "output_type": "stream",
     "text": [
      "Rendering frame  140 of 199\n"
     ]
    },
    {
     "name": "stderr",
     "output_type": "stream",
     "text": [
      "/home/nathan/analysis/miniconda3/envs/cellx/lib/python3.9/site-packages/numpy/core/_asarray.py:102: FutureWarning: Private attribute access ('ClippingPlaneList.__array_struct__') in this context (e.g. inside a plugin widget or dock widget) is deprecated and will be unavailable in version 0.5.0\n",
      "  return array(a, dtype, copy=False, order=order)\n",
      "/home/nathan/analysis/miniconda3/envs/cellx/lib/python3.9/site-packages/numpy/core/_asarray.py:102: FutureWarning: Private attribute access ('ClippingPlaneList.__array_interface__') in this context (e.g. inside a plugin widget or dock widget) is deprecated and will be unavailable in version 0.5.0\n",
      "  return array(a, dtype, copy=False, order=order)\n",
      "/home/nathan/analysis/miniconda3/envs/cellx/lib/python3.9/site-packages/numpy/core/_asarray.py:102: FutureWarning: Private attribute access ('ClippingPlaneList.__array__') in this context (e.g. inside a plugin widget or dock widget) is deprecated and will be unavailable in version 0.5.0\n",
      "  return array(a, dtype, copy=False, order=order)\n"
     ]
    },
    {
     "name": "stdout",
     "output_type": "stream",
     "text": [
      "Rendering frame  141 of 199\n"
     ]
    },
    {
     "name": "stderr",
     "output_type": "stream",
     "text": [
      "/home/nathan/analysis/miniconda3/envs/cellx/lib/python3.9/site-packages/numpy/core/_asarray.py:102: FutureWarning: Private attribute access ('ClippingPlaneList.__array_struct__') in this context (e.g. inside a plugin widget or dock widget) is deprecated and will be unavailable in version 0.5.0\n",
      "  return array(a, dtype, copy=False, order=order)\n",
      "/home/nathan/analysis/miniconda3/envs/cellx/lib/python3.9/site-packages/numpy/core/_asarray.py:102: FutureWarning: Private attribute access ('ClippingPlaneList.__array_interface__') in this context (e.g. inside a plugin widget or dock widget) is deprecated and will be unavailable in version 0.5.0\n",
      "  return array(a, dtype, copy=False, order=order)\n",
      "/home/nathan/analysis/miniconda3/envs/cellx/lib/python3.9/site-packages/numpy/core/_asarray.py:102: FutureWarning: Private attribute access ('ClippingPlaneList.__array__') in this context (e.g. inside a plugin widget or dock widget) is deprecated and will be unavailable in version 0.5.0\n",
      "  return array(a, dtype, copy=False, order=order)\n"
     ]
    },
    {
     "name": "stdout",
     "output_type": "stream",
     "text": [
      "Rendering frame  142 of 199\n"
     ]
    },
    {
     "name": "stderr",
     "output_type": "stream",
     "text": [
      "/home/nathan/analysis/miniconda3/envs/cellx/lib/python3.9/site-packages/numpy/core/_asarray.py:102: FutureWarning: Private attribute access ('ClippingPlaneList.__array_struct__') in this context (e.g. inside a plugin widget or dock widget) is deprecated and will be unavailable in version 0.5.0\n",
      "  return array(a, dtype, copy=False, order=order)\n",
      "/home/nathan/analysis/miniconda3/envs/cellx/lib/python3.9/site-packages/numpy/core/_asarray.py:102: FutureWarning: Private attribute access ('ClippingPlaneList.__array_interface__') in this context (e.g. inside a plugin widget or dock widget) is deprecated and will be unavailable in version 0.5.0\n",
      "  return array(a, dtype, copy=False, order=order)\n",
      "/home/nathan/analysis/miniconda3/envs/cellx/lib/python3.9/site-packages/numpy/core/_asarray.py:102: FutureWarning: Private attribute access ('ClippingPlaneList.__array__') in this context (e.g. inside a plugin widget or dock widget) is deprecated and will be unavailable in version 0.5.0\n",
      "  return array(a, dtype, copy=False, order=order)\n"
     ]
    },
    {
     "name": "stdout",
     "output_type": "stream",
     "text": [
      "Rendering frame  143 of 199\n"
     ]
    },
    {
     "name": "stderr",
     "output_type": "stream",
     "text": [
      "/home/nathan/analysis/miniconda3/envs/cellx/lib/python3.9/site-packages/numpy/core/_asarray.py:102: FutureWarning: Private attribute access ('ClippingPlaneList.__array_struct__') in this context (e.g. inside a plugin widget or dock widget) is deprecated and will be unavailable in version 0.5.0\n",
      "  return array(a, dtype, copy=False, order=order)\n",
      "/home/nathan/analysis/miniconda3/envs/cellx/lib/python3.9/site-packages/numpy/core/_asarray.py:102: FutureWarning: Private attribute access ('ClippingPlaneList.__array_interface__') in this context (e.g. inside a plugin widget or dock widget) is deprecated and will be unavailable in version 0.5.0\n",
      "  return array(a, dtype, copy=False, order=order)\n",
      "/home/nathan/analysis/miniconda3/envs/cellx/lib/python3.9/site-packages/numpy/core/_asarray.py:102: FutureWarning: Private attribute access ('ClippingPlaneList.__array__') in this context (e.g. inside a plugin widget or dock widget) is deprecated and will be unavailable in version 0.5.0\n",
      "  return array(a, dtype, copy=False, order=order)\n"
     ]
    },
    {
     "name": "stdout",
     "output_type": "stream",
     "text": [
      "Rendering frame  144 of 199\n"
     ]
    },
    {
     "name": "stderr",
     "output_type": "stream",
     "text": [
      "/home/nathan/analysis/miniconda3/envs/cellx/lib/python3.9/site-packages/numpy/core/_asarray.py:102: FutureWarning: Private attribute access ('ClippingPlaneList.__array_struct__') in this context (e.g. inside a plugin widget or dock widget) is deprecated and will be unavailable in version 0.5.0\n",
      "  return array(a, dtype, copy=False, order=order)\n",
      "/home/nathan/analysis/miniconda3/envs/cellx/lib/python3.9/site-packages/numpy/core/_asarray.py:102: FutureWarning: Private attribute access ('ClippingPlaneList.__array_interface__') in this context (e.g. inside a plugin widget or dock widget) is deprecated and will be unavailable in version 0.5.0\n",
      "  return array(a, dtype, copy=False, order=order)\n",
      "/home/nathan/analysis/miniconda3/envs/cellx/lib/python3.9/site-packages/numpy/core/_asarray.py:102: FutureWarning: Private attribute access ('ClippingPlaneList.__array__') in this context (e.g. inside a plugin widget or dock widget) is deprecated and will be unavailable in version 0.5.0\n",
      "  return array(a, dtype, copy=False, order=order)\n"
     ]
    },
    {
     "name": "stdout",
     "output_type": "stream",
     "text": [
      "Rendering frame  145 of 199\n"
     ]
    },
    {
     "name": "stderr",
     "output_type": "stream",
     "text": [
      "/home/nathan/analysis/miniconda3/envs/cellx/lib/python3.9/site-packages/numpy/core/_asarray.py:102: FutureWarning: Private attribute access ('ClippingPlaneList.__array_struct__') in this context (e.g. inside a plugin widget or dock widget) is deprecated and will be unavailable in version 0.5.0\n",
      "  return array(a, dtype, copy=False, order=order)\n",
      "/home/nathan/analysis/miniconda3/envs/cellx/lib/python3.9/site-packages/numpy/core/_asarray.py:102: FutureWarning: Private attribute access ('ClippingPlaneList.__array_interface__') in this context (e.g. inside a plugin widget or dock widget) is deprecated and will be unavailable in version 0.5.0\n",
      "  return array(a, dtype, copy=False, order=order)\n",
      "/home/nathan/analysis/miniconda3/envs/cellx/lib/python3.9/site-packages/numpy/core/_asarray.py:102: FutureWarning: Private attribute access ('ClippingPlaneList.__array__') in this context (e.g. inside a plugin widget or dock widget) is deprecated and will be unavailable in version 0.5.0\n",
      "  return array(a, dtype, copy=False, order=order)\n"
     ]
    },
    {
     "name": "stdout",
     "output_type": "stream",
     "text": [
      "Rendering frame  146 of 199\n"
     ]
    },
    {
     "name": "stderr",
     "output_type": "stream",
     "text": [
      "/home/nathan/analysis/miniconda3/envs/cellx/lib/python3.9/site-packages/numpy/core/_asarray.py:102: FutureWarning: Private attribute access ('ClippingPlaneList.__array_struct__') in this context (e.g. inside a plugin widget or dock widget) is deprecated and will be unavailable in version 0.5.0\n",
      "  return array(a, dtype, copy=False, order=order)\n",
      "/home/nathan/analysis/miniconda3/envs/cellx/lib/python3.9/site-packages/numpy/core/_asarray.py:102: FutureWarning: Private attribute access ('ClippingPlaneList.__array_interface__') in this context (e.g. inside a plugin widget or dock widget) is deprecated and will be unavailable in version 0.5.0\n",
      "  return array(a, dtype, copy=False, order=order)\n",
      "/home/nathan/analysis/miniconda3/envs/cellx/lib/python3.9/site-packages/numpy/core/_asarray.py:102: FutureWarning: Private attribute access ('ClippingPlaneList.__array__') in this context (e.g. inside a plugin widget or dock widget) is deprecated and will be unavailable in version 0.5.0\n",
      "  return array(a, dtype, copy=False, order=order)\n"
     ]
    },
    {
     "name": "stdout",
     "output_type": "stream",
     "text": [
      "Rendering frame  147 of 199\n"
     ]
    },
    {
     "name": "stderr",
     "output_type": "stream",
     "text": [
      "/home/nathan/analysis/miniconda3/envs/cellx/lib/python3.9/site-packages/numpy/core/_asarray.py:102: FutureWarning: Private attribute access ('ClippingPlaneList.__array_struct__') in this context (e.g. inside a plugin widget or dock widget) is deprecated and will be unavailable in version 0.5.0\n",
      "  return array(a, dtype, copy=False, order=order)\n",
      "/home/nathan/analysis/miniconda3/envs/cellx/lib/python3.9/site-packages/numpy/core/_asarray.py:102: FutureWarning: Private attribute access ('ClippingPlaneList.__array_interface__') in this context (e.g. inside a plugin widget or dock widget) is deprecated and will be unavailable in version 0.5.0\n",
      "  return array(a, dtype, copy=False, order=order)\n",
      "/home/nathan/analysis/miniconda3/envs/cellx/lib/python3.9/site-packages/numpy/core/_asarray.py:102: FutureWarning: Private attribute access ('ClippingPlaneList.__array__') in this context (e.g. inside a plugin widget or dock widget) is deprecated and will be unavailable in version 0.5.0\n",
      "  return array(a, dtype, copy=False, order=order)\n"
     ]
    },
    {
     "name": "stdout",
     "output_type": "stream",
     "text": [
      "Rendering frame  148 of 199\n"
     ]
    },
    {
     "name": "stderr",
     "output_type": "stream",
     "text": [
      "/home/nathan/analysis/miniconda3/envs/cellx/lib/python3.9/site-packages/numpy/core/_asarray.py:102: FutureWarning: Private attribute access ('ClippingPlaneList.__array_struct__') in this context (e.g. inside a plugin widget or dock widget) is deprecated and will be unavailable in version 0.5.0\n",
      "  return array(a, dtype, copy=False, order=order)\n",
      "/home/nathan/analysis/miniconda3/envs/cellx/lib/python3.9/site-packages/numpy/core/_asarray.py:102: FutureWarning: Private attribute access ('ClippingPlaneList.__array_interface__') in this context (e.g. inside a plugin widget or dock widget) is deprecated and will be unavailable in version 0.5.0\n",
      "  return array(a, dtype, copy=False, order=order)\n",
      "/home/nathan/analysis/miniconda3/envs/cellx/lib/python3.9/site-packages/numpy/core/_asarray.py:102: FutureWarning: Private attribute access ('ClippingPlaneList.__array__') in this context (e.g. inside a plugin widget or dock widget) is deprecated and will be unavailable in version 0.5.0\n",
      "  return array(a, dtype, copy=False, order=order)\n"
     ]
    },
    {
     "name": "stdout",
     "output_type": "stream",
     "text": [
      "Rendering frame  149 of 199\n"
     ]
    },
    {
     "name": "stderr",
     "output_type": "stream",
     "text": [
      "/home/nathan/analysis/miniconda3/envs/cellx/lib/python3.9/site-packages/numpy/core/_asarray.py:102: FutureWarning: Private attribute access ('ClippingPlaneList.__array_struct__') in this context (e.g. inside a plugin widget or dock widget) is deprecated and will be unavailable in version 0.5.0\n",
      "  return array(a, dtype, copy=False, order=order)\n",
      "/home/nathan/analysis/miniconda3/envs/cellx/lib/python3.9/site-packages/numpy/core/_asarray.py:102: FutureWarning: Private attribute access ('ClippingPlaneList.__array_interface__') in this context (e.g. inside a plugin widget or dock widget) is deprecated and will be unavailable in version 0.5.0\n",
      "  return array(a, dtype, copy=False, order=order)\n",
      "/home/nathan/analysis/miniconda3/envs/cellx/lib/python3.9/site-packages/numpy/core/_asarray.py:102: FutureWarning: Private attribute access ('ClippingPlaneList.__array__') in this context (e.g. inside a plugin widget or dock widget) is deprecated and will be unavailable in version 0.5.0\n",
      "  return array(a, dtype, copy=False, order=order)\n"
     ]
    },
    {
     "name": "stdout",
     "output_type": "stream",
     "text": [
      "Rendering frame  150 of 199\n"
     ]
    },
    {
     "name": "stderr",
     "output_type": "stream",
     "text": [
      "/home/nathan/analysis/miniconda3/envs/cellx/lib/python3.9/site-packages/numpy/core/_asarray.py:102: FutureWarning: Private attribute access ('ClippingPlaneList.__array_struct__') in this context (e.g. inside a plugin widget or dock widget) is deprecated and will be unavailable in version 0.5.0\n",
      "  return array(a, dtype, copy=False, order=order)\n",
      "/home/nathan/analysis/miniconda3/envs/cellx/lib/python3.9/site-packages/numpy/core/_asarray.py:102: FutureWarning: Private attribute access ('ClippingPlaneList.__array_interface__') in this context (e.g. inside a plugin widget or dock widget) is deprecated and will be unavailable in version 0.5.0\n",
      "  return array(a, dtype, copy=False, order=order)\n",
      "/home/nathan/analysis/miniconda3/envs/cellx/lib/python3.9/site-packages/numpy/core/_asarray.py:102: FutureWarning: Private attribute access ('ClippingPlaneList.__array__') in this context (e.g. inside a plugin widget or dock widget) is deprecated and will be unavailable in version 0.5.0\n",
      "  return array(a, dtype, copy=False, order=order)\n"
     ]
    },
    {
     "name": "stdout",
     "output_type": "stream",
     "text": [
      "Rendering frame  151 of 199\n"
     ]
    },
    {
     "name": "stderr",
     "output_type": "stream",
     "text": [
      "/home/nathan/analysis/miniconda3/envs/cellx/lib/python3.9/site-packages/numpy/core/_asarray.py:102: FutureWarning: Private attribute access ('ClippingPlaneList.__array_struct__') in this context (e.g. inside a plugin widget or dock widget) is deprecated and will be unavailable in version 0.5.0\n",
      "  return array(a, dtype, copy=False, order=order)\n",
      "/home/nathan/analysis/miniconda3/envs/cellx/lib/python3.9/site-packages/numpy/core/_asarray.py:102: FutureWarning: Private attribute access ('ClippingPlaneList.__array_interface__') in this context (e.g. inside a plugin widget or dock widget) is deprecated and will be unavailable in version 0.5.0\n",
      "  return array(a, dtype, copy=False, order=order)\n",
      "/home/nathan/analysis/miniconda3/envs/cellx/lib/python3.9/site-packages/numpy/core/_asarray.py:102: FutureWarning: Private attribute access ('ClippingPlaneList.__array__') in this context (e.g. inside a plugin widget or dock widget) is deprecated and will be unavailable in version 0.5.0\n",
      "  return array(a, dtype, copy=False, order=order)\n"
     ]
    },
    {
     "name": "stdout",
     "output_type": "stream",
     "text": [
      "Rendering frame  152 of 199\n"
     ]
    },
    {
     "name": "stderr",
     "output_type": "stream",
     "text": [
      "/home/nathan/analysis/miniconda3/envs/cellx/lib/python3.9/site-packages/numpy/core/_asarray.py:102: FutureWarning: Private attribute access ('ClippingPlaneList.__array_struct__') in this context (e.g. inside a plugin widget or dock widget) is deprecated and will be unavailable in version 0.5.0\n",
      "  return array(a, dtype, copy=False, order=order)\n",
      "/home/nathan/analysis/miniconda3/envs/cellx/lib/python3.9/site-packages/numpy/core/_asarray.py:102: FutureWarning: Private attribute access ('ClippingPlaneList.__array_interface__') in this context (e.g. inside a plugin widget or dock widget) is deprecated and will be unavailable in version 0.5.0\n",
      "  return array(a, dtype, copy=False, order=order)\n",
      "/home/nathan/analysis/miniconda3/envs/cellx/lib/python3.9/site-packages/numpy/core/_asarray.py:102: FutureWarning: Private attribute access ('ClippingPlaneList.__array__') in this context (e.g. inside a plugin widget or dock widget) is deprecated and will be unavailable in version 0.5.0\n",
      "  return array(a, dtype, copy=False, order=order)\n"
     ]
    },
    {
     "name": "stdout",
     "output_type": "stream",
     "text": [
      "Rendering frame  153 of 199\n"
     ]
    },
    {
     "name": "stderr",
     "output_type": "stream",
     "text": [
      "/home/nathan/analysis/miniconda3/envs/cellx/lib/python3.9/site-packages/numpy/core/_asarray.py:102: FutureWarning: Private attribute access ('ClippingPlaneList.__array_struct__') in this context (e.g. inside a plugin widget or dock widget) is deprecated and will be unavailable in version 0.5.0\n",
      "  return array(a, dtype, copy=False, order=order)\n",
      "/home/nathan/analysis/miniconda3/envs/cellx/lib/python3.9/site-packages/numpy/core/_asarray.py:102: FutureWarning: Private attribute access ('ClippingPlaneList.__array_interface__') in this context (e.g. inside a plugin widget or dock widget) is deprecated and will be unavailable in version 0.5.0\n",
      "  return array(a, dtype, copy=False, order=order)\n",
      "/home/nathan/analysis/miniconda3/envs/cellx/lib/python3.9/site-packages/numpy/core/_asarray.py:102: FutureWarning: Private attribute access ('ClippingPlaneList.__array__') in this context (e.g. inside a plugin widget or dock widget) is deprecated and will be unavailable in version 0.5.0\n",
      "  return array(a, dtype, copy=False, order=order)\n"
     ]
    },
    {
     "name": "stdout",
     "output_type": "stream",
     "text": [
      "Rendering frame  154 of 199\n"
     ]
    },
    {
     "name": "stderr",
     "output_type": "stream",
     "text": [
      "/home/nathan/analysis/miniconda3/envs/cellx/lib/python3.9/site-packages/numpy/core/_asarray.py:102: FutureWarning: Private attribute access ('ClippingPlaneList.__array_struct__') in this context (e.g. inside a plugin widget or dock widget) is deprecated and will be unavailable in version 0.5.0\n",
      "  return array(a, dtype, copy=False, order=order)\n",
      "/home/nathan/analysis/miniconda3/envs/cellx/lib/python3.9/site-packages/numpy/core/_asarray.py:102: FutureWarning: Private attribute access ('ClippingPlaneList.__array_interface__') in this context (e.g. inside a plugin widget or dock widget) is deprecated and will be unavailable in version 0.5.0\n",
      "  return array(a, dtype, copy=False, order=order)\n",
      "/home/nathan/analysis/miniconda3/envs/cellx/lib/python3.9/site-packages/numpy/core/_asarray.py:102: FutureWarning: Private attribute access ('ClippingPlaneList.__array__') in this context (e.g. inside a plugin widget or dock widget) is deprecated and will be unavailable in version 0.5.0\n",
      "  return array(a, dtype, copy=False, order=order)\n"
     ]
    },
    {
     "name": "stdout",
     "output_type": "stream",
     "text": [
      "Rendering frame  155 of 199\n"
     ]
    },
    {
     "name": "stderr",
     "output_type": "stream",
     "text": [
      "/home/nathan/analysis/miniconda3/envs/cellx/lib/python3.9/site-packages/numpy/core/_asarray.py:102: FutureWarning: Private attribute access ('ClippingPlaneList.__array_struct__') in this context (e.g. inside a plugin widget or dock widget) is deprecated and will be unavailable in version 0.5.0\n",
      "  return array(a, dtype, copy=False, order=order)\n",
      "/home/nathan/analysis/miniconda3/envs/cellx/lib/python3.9/site-packages/numpy/core/_asarray.py:102: FutureWarning: Private attribute access ('ClippingPlaneList.__array_interface__') in this context (e.g. inside a plugin widget or dock widget) is deprecated and will be unavailable in version 0.5.0\n",
      "  return array(a, dtype, copy=False, order=order)\n",
      "/home/nathan/analysis/miniconda3/envs/cellx/lib/python3.9/site-packages/numpy/core/_asarray.py:102: FutureWarning: Private attribute access ('ClippingPlaneList.__array__') in this context (e.g. inside a plugin widget or dock widget) is deprecated and will be unavailable in version 0.5.0\n",
      "  return array(a, dtype, copy=False, order=order)\n"
     ]
    },
    {
     "name": "stdout",
     "output_type": "stream",
     "text": [
      "Rendering frame  156 of 199\n"
     ]
    },
    {
     "name": "stderr",
     "output_type": "stream",
     "text": [
      "/home/nathan/analysis/miniconda3/envs/cellx/lib/python3.9/site-packages/numpy/core/_asarray.py:102: FutureWarning: Private attribute access ('ClippingPlaneList.__array_struct__') in this context (e.g. inside a plugin widget or dock widget) is deprecated and will be unavailable in version 0.5.0\n",
      "  return array(a, dtype, copy=False, order=order)\n",
      "/home/nathan/analysis/miniconda3/envs/cellx/lib/python3.9/site-packages/numpy/core/_asarray.py:102: FutureWarning: Private attribute access ('ClippingPlaneList.__array_interface__') in this context (e.g. inside a plugin widget or dock widget) is deprecated and will be unavailable in version 0.5.0\n",
      "  return array(a, dtype, copy=False, order=order)\n",
      "/home/nathan/analysis/miniconda3/envs/cellx/lib/python3.9/site-packages/numpy/core/_asarray.py:102: FutureWarning: Private attribute access ('ClippingPlaneList.__array__') in this context (e.g. inside a plugin widget or dock widget) is deprecated and will be unavailable in version 0.5.0\n",
      "  return array(a, dtype, copy=False, order=order)\n"
     ]
    },
    {
     "name": "stdout",
     "output_type": "stream",
     "text": [
      "Rendering frame  157 of 199\n"
     ]
    },
    {
     "name": "stderr",
     "output_type": "stream",
     "text": [
      "/home/nathan/analysis/miniconda3/envs/cellx/lib/python3.9/site-packages/numpy/core/_asarray.py:102: FutureWarning: Private attribute access ('ClippingPlaneList.__array_struct__') in this context (e.g. inside a plugin widget or dock widget) is deprecated and will be unavailable in version 0.5.0\n",
      "  return array(a, dtype, copy=False, order=order)\n",
      "/home/nathan/analysis/miniconda3/envs/cellx/lib/python3.9/site-packages/numpy/core/_asarray.py:102: FutureWarning: Private attribute access ('ClippingPlaneList.__array_interface__') in this context (e.g. inside a plugin widget or dock widget) is deprecated and will be unavailable in version 0.5.0\n",
      "  return array(a, dtype, copy=False, order=order)\n",
      "/home/nathan/analysis/miniconda3/envs/cellx/lib/python3.9/site-packages/numpy/core/_asarray.py:102: FutureWarning: Private attribute access ('ClippingPlaneList.__array__') in this context (e.g. inside a plugin widget or dock widget) is deprecated and will be unavailable in version 0.5.0\n",
      "  return array(a, dtype, copy=False, order=order)\n"
     ]
    },
    {
     "name": "stdout",
     "output_type": "stream",
     "text": [
      "Rendering frame  158 of 199\n"
     ]
    },
    {
     "name": "stderr",
     "output_type": "stream",
     "text": [
      "/home/nathan/analysis/miniconda3/envs/cellx/lib/python3.9/site-packages/numpy/core/_asarray.py:102: FutureWarning: Private attribute access ('ClippingPlaneList.__array_struct__') in this context (e.g. inside a plugin widget or dock widget) is deprecated and will be unavailable in version 0.5.0\n",
      "  return array(a, dtype, copy=False, order=order)\n",
      "/home/nathan/analysis/miniconda3/envs/cellx/lib/python3.9/site-packages/numpy/core/_asarray.py:102: FutureWarning: Private attribute access ('ClippingPlaneList.__array_interface__') in this context (e.g. inside a plugin widget or dock widget) is deprecated and will be unavailable in version 0.5.0\n",
      "  return array(a, dtype, copy=False, order=order)\n",
      "/home/nathan/analysis/miniconda3/envs/cellx/lib/python3.9/site-packages/numpy/core/_asarray.py:102: FutureWarning: Private attribute access ('ClippingPlaneList.__array__') in this context (e.g. inside a plugin widget or dock widget) is deprecated and will be unavailable in version 0.5.0\n",
      "  return array(a, dtype, copy=False, order=order)\n"
     ]
    },
    {
     "name": "stdout",
     "output_type": "stream",
     "text": [
      "Rendering frame  159 of 199\n"
     ]
    },
    {
     "name": "stderr",
     "output_type": "stream",
     "text": [
      "/home/nathan/analysis/miniconda3/envs/cellx/lib/python3.9/site-packages/numpy/core/_asarray.py:102: FutureWarning: Private attribute access ('ClippingPlaneList.__array_struct__') in this context (e.g. inside a plugin widget or dock widget) is deprecated and will be unavailable in version 0.5.0\n",
      "  return array(a, dtype, copy=False, order=order)\n",
      "/home/nathan/analysis/miniconda3/envs/cellx/lib/python3.9/site-packages/numpy/core/_asarray.py:102: FutureWarning: Private attribute access ('ClippingPlaneList.__array_interface__') in this context (e.g. inside a plugin widget or dock widget) is deprecated and will be unavailable in version 0.5.0\n",
      "  return array(a, dtype, copy=False, order=order)\n",
      "/home/nathan/analysis/miniconda3/envs/cellx/lib/python3.9/site-packages/numpy/core/_asarray.py:102: FutureWarning: Private attribute access ('ClippingPlaneList.__array__') in this context (e.g. inside a plugin widget or dock widget) is deprecated and will be unavailable in version 0.5.0\n",
      "  return array(a, dtype, copy=False, order=order)\n"
     ]
    },
    {
     "name": "stdout",
     "output_type": "stream",
     "text": [
      "Rendering frame  160 of 199\n"
     ]
    },
    {
     "name": "stderr",
     "output_type": "stream",
     "text": [
      "/home/nathan/analysis/miniconda3/envs/cellx/lib/python3.9/site-packages/numpy/core/_asarray.py:102: FutureWarning: Private attribute access ('ClippingPlaneList.__array_struct__') in this context (e.g. inside a plugin widget or dock widget) is deprecated and will be unavailable in version 0.5.0\n",
      "  return array(a, dtype, copy=False, order=order)\n",
      "/home/nathan/analysis/miniconda3/envs/cellx/lib/python3.9/site-packages/numpy/core/_asarray.py:102: FutureWarning: Private attribute access ('ClippingPlaneList.__array_interface__') in this context (e.g. inside a plugin widget or dock widget) is deprecated and will be unavailable in version 0.5.0\n",
      "  return array(a, dtype, copy=False, order=order)\n",
      "/home/nathan/analysis/miniconda3/envs/cellx/lib/python3.9/site-packages/numpy/core/_asarray.py:102: FutureWarning: Private attribute access ('ClippingPlaneList.__array__') in this context (e.g. inside a plugin widget or dock widget) is deprecated and will be unavailable in version 0.5.0\n",
      "  return array(a, dtype, copy=False, order=order)\n"
     ]
    },
    {
     "name": "stdout",
     "output_type": "stream",
     "text": [
      "Rendering frame  161 of 199\n"
     ]
    },
    {
     "name": "stderr",
     "output_type": "stream",
     "text": [
      "/home/nathan/analysis/miniconda3/envs/cellx/lib/python3.9/site-packages/numpy/core/_asarray.py:102: FutureWarning: Private attribute access ('ClippingPlaneList.__array_struct__') in this context (e.g. inside a plugin widget or dock widget) is deprecated and will be unavailable in version 0.5.0\n",
      "  return array(a, dtype, copy=False, order=order)\n",
      "/home/nathan/analysis/miniconda3/envs/cellx/lib/python3.9/site-packages/numpy/core/_asarray.py:102: FutureWarning: Private attribute access ('ClippingPlaneList.__array_interface__') in this context (e.g. inside a plugin widget or dock widget) is deprecated and will be unavailable in version 0.5.0\n",
      "  return array(a, dtype, copy=False, order=order)\n",
      "/home/nathan/analysis/miniconda3/envs/cellx/lib/python3.9/site-packages/numpy/core/_asarray.py:102: FutureWarning: Private attribute access ('ClippingPlaneList.__array__') in this context (e.g. inside a plugin widget or dock widget) is deprecated and will be unavailable in version 0.5.0\n",
      "  return array(a, dtype, copy=False, order=order)\n"
     ]
    },
    {
     "name": "stdout",
     "output_type": "stream",
     "text": [
      "Rendering frame  162 of 199\n"
     ]
    },
    {
     "name": "stderr",
     "output_type": "stream",
     "text": [
      "/home/nathan/analysis/miniconda3/envs/cellx/lib/python3.9/site-packages/numpy/core/_asarray.py:102: FutureWarning: Private attribute access ('ClippingPlaneList.__array_struct__') in this context (e.g. inside a plugin widget or dock widget) is deprecated and will be unavailable in version 0.5.0\n",
      "  return array(a, dtype, copy=False, order=order)\n",
      "/home/nathan/analysis/miniconda3/envs/cellx/lib/python3.9/site-packages/numpy/core/_asarray.py:102: FutureWarning: Private attribute access ('ClippingPlaneList.__array_interface__') in this context (e.g. inside a plugin widget or dock widget) is deprecated and will be unavailable in version 0.5.0\n",
      "  return array(a, dtype, copy=False, order=order)\n",
      "/home/nathan/analysis/miniconda3/envs/cellx/lib/python3.9/site-packages/numpy/core/_asarray.py:102: FutureWarning: Private attribute access ('ClippingPlaneList.__array__') in this context (e.g. inside a plugin widget or dock widget) is deprecated and will be unavailable in version 0.5.0\n",
      "  return array(a, dtype, copy=False, order=order)\n"
     ]
    },
    {
     "name": "stdout",
     "output_type": "stream",
     "text": [
      "Rendering frame  163 of 199\n"
     ]
    },
    {
     "name": "stderr",
     "output_type": "stream",
     "text": [
      "/home/nathan/analysis/miniconda3/envs/cellx/lib/python3.9/site-packages/numpy/core/_asarray.py:102: FutureWarning: Private attribute access ('ClippingPlaneList.__array_struct__') in this context (e.g. inside a plugin widget or dock widget) is deprecated and will be unavailable in version 0.5.0\n",
      "  return array(a, dtype, copy=False, order=order)\n",
      "/home/nathan/analysis/miniconda3/envs/cellx/lib/python3.9/site-packages/numpy/core/_asarray.py:102: FutureWarning: Private attribute access ('ClippingPlaneList.__array_interface__') in this context (e.g. inside a plugin widget or dock widget) is deprecated and will be unavailable in version 0.5.0\n",
      "  return array(a, dtype, copy=False, order=order)\n",
      "/home/nathan/analysis/miniconda3/envs/cellx/lib/python3.9/site-packages/numpy/core/_asarray.py:102: FutureWarning: Private attribute access ('ClippingPlaneList.__array__') in this context (e.g. inside a plugin widget or dock widget) is deprecated and will be unavailable in version 0.5.0\n",
      "  return array(a, dtype, copy=False, order=order)\n"
     ]
    },
    {
     "name": "stdout",
     "output_type": "stream",
     "text": [
      "Rendering frame  164 of 199\n"
     ]
    },
    {
     "name": "stderr",
     "output_type": "stream",
     "text": [
      "/home/nathan/analysis/miniconda3/envs/cellx/lib/python3.9/site-packages/numpy/core/_asarray.py:102: FutureWarning: Private attribute access ('ClippingPlaneList.__array_struct__') in this context (e.g. inside a plugin widget or dock widget) is deprecated and will be unavailable in version 0.5.0\n",
      "  return array(a, dtype, copy=False, order=order)\n",
      "/home/nathan/analysis/miniconda3/envs/cellx/lib/python3.9/site-packages/numpy/core/_asarray.py:102: FutureWarning: Private attribute access ('ClippingPlaneList.__array_interface__') in this context (e.g. inside a plugin widget or dock widget) is deprecated and will be unavailable in version 0.5.0\n",
      "  return array(a, dtype, copy=False, order=order)\n",
      "/home/nathan/analysis/miniconda3/envs/cellx/lib/python3.9/site-packages/numpy/core/_asarray.py:102: FutureWarning: Private attribute access ('ClippingPlaneList.__array__') in this context (e.g. inside a plugin widget or dock widget) is deprecated and will be unavailable in version 0.5.0\n",
      "  return array(a, dtype, copy=False, order=order)\n"
     ]
    },
    {
     "name": "stdout",
     "output_type": "stream",
     "text": [
      "Rendering frame  165 of 199\n"
     ]
    },
    {
     "name": "stderr",
     "output_type": "stream",
     "text": [
      "/home/nathan/analysis/miniconda3/envs/cellx/lib/python3.9/site-packages/numpy/core/_asarray.py:102: FutureWarning: Private attribute access ('ClippingPlaneList.__array_struct__') in this context (e.g. inside a plugin widget or dock widget) is deprecated and will be unavailable in version 0.5.0\n",
      "  return array(a, dtype, copy=False, order=order)\n",
      "/home/nathan/analysis/miniconda3/envs/cellx/lib/python3.9/site-packages/numpy/core/_asarray.py:102: FutureWarning: Private attribute access ('ClippingPlaneList.__array_interface__') in this context (e.g. inside a plugin widget or dock widget) is deprecated and will be unavailable in version 0.5.0\n",
      "  return array(a, dtype, copy=False, order=order)\n",
      "/home/nathan/analysis/miniconda3/envs/cellx/lib/python3.9/site-packages/numpy/core/_asarray.py:102: FutureWarning: Private attribute access ('ClippingPlaneList.__array__') in this context (e.g. inside a plugin widget or dock widget) is deprecated and will be unavailable in version 0.5.0\n",
      "  return array(a, dtype, copy=False, order=order)\n"
     ]
    },
    {
     "name": "stdout",
     "output_type": "stream",
     "text": [
      "Rendering frame  166 of 199\n"
     ]
    },
    {
     "name": "stderr",
     "output_type": "stream",
     "text": [
      "/home/nathan/analysis/miniconda3/envs/cellx/lib/python3.9/site-packages/numpy/core/_asarray.py:102: FutureWarning: Private attribute access ('ClippingPlaneList.__array_struct__') in this context (e.g. inside a plugin widget or dock widget) is deprecated and will be unavailable in version 0.5.0\n",
      "  return array(a, dtype, copy=False, order=order)\n",
      "/home/nathan/analysis/miniconda3/envs/cellx/lib/python3.9/site-packages/numpy/core/_asarray.py:102: FutureWarning: Private attribute access ('ClippingPlaneList.__array_interface__') in this context (e.g. inside a plugin widget or dock widget) is deprecated and will be unavailable in version 0.5.0\n",
      "  return array(a, dtype, copy=False, order=order)\n",
      "/home/nathan/analysis/miniconda3/envs/cellx/lib/python3.9/site-packages/numpy/core/_asarray.py:102: FutureWarning: Private attribute access ('ClippingPlaneList.__array__') in this context (e.g. inside a plugin widget or dock widget) is deprecated and will be unavailable in version 0.5.0\n",
      "  return array(a, dtype, copy=False, order=order)\n"
     ]
    },
    {
     "name": "stdout",
     "output_type": "stream",
     "text": [
      "Rendering frame  167 of 199\n"
     ]
    },
    {
     "name": "stderr",
     "output_type": "stream",
     "text": [
      "/home/nathan/analysis/miniconda3/envs/cellx/lib/python3.9/site-packages/numpy/core/_asarray.py:102: FutureWarning: Private attribute access ('ClippingPlaneList.__array_struct__') in this context (e.g. inside a plugin widget or dock widget) is deprecated and will be unavailable in version 0.5.0\n",
      "  return array(a, dtype, copy=False, order=order)\n",
      "/home/nathan/analysis/miniconda3/envs/cellx/lib/python3.9/site-packages/numpy/core/_asarray.py:102: FutureWarning: Private attribute access ('ClippingPlaneList.__array_interface__') in this context (e.g. inside a plugin widget or dock widget) is deprecated and will be unavailable in version 0.5.0\n",
      "  return array(a, dtype, copy=False, order=order)\n",
      "/home/nathan/analysis/miniconda3/envs/cellx/lib/python3.9/site-packages/numpy/core/_asarray.py:102: FutureWarning: Private attribute access ('ClippingPlaneList.__array__') in this context (e.g. inside a plugin widget or dock widget) is deprecated and will be unavailable in version 0.5.0\n",
      "  return array(a, dtype, copy=False, order=order)\n"
     ]
    },
    {
     "name": "stdout",
     "output_type": "stream",
     "text": [
      "Rendering frame  168 of 199\n"
     ]
    },
    {
     "name": "stderr",
     "output_type": "stream",
     "text": [
      "/home/nathan/analysis/miniconda3/envs/cellx/lib/python3.9/site-packages/numpy/core/_asarray.py:102: FutureWarning: Private attribute access ('ClippingPlaneList.__array_struct__') in this context (e.g. inside a plugin widget or dock widget) is deprecated and will be unavailable in version 0.5.0\n",
      "  return array(a, dtype, copy=False, order=order)\n",
      "/home/nathan/analysis/miniconda3/envs/cellx/lib/python3.9/site-packages/numpy/core/_asarray.py:102: FutureWarning: Private attribute access ('ClippingPlaneList.__array_interface__') in this context (e.g. inside a plugin widget or dock widget) is deprecated and will be unavailable in version 0.5.0\n",
      "  return array(a, dtype, copy=False, order=order)\n",
      "/home/nathan/analysis/miniconda3/envs/cellx/lib/python3.9/site-packages/numpy/core/_asarray.py:102: FutureWarning: Private attribute access ('ClippingPlaneList.__array__') in this context (e.g. inside a plugin widget or dock widget) is deprecated and will be unavailable in version 0.5.0\n",
      "  return array(a, dtype, copy=False, order=order)\n"
     ]
    },
    {
     "name": "stdout",
     "output_type": "stream",
     "text": [
      "Rendering frame  169 of 199\n"
     ]
    },
    {
     "name": "stderr",
     "output_type": "stream",
     "text": [
      "/home/nathan/analysis/miniconda3/envs/cellx/lib/python3.9/site-packages/numpy/core/_asarray.py:102: FutureWarning: Private attribute access ('ClippingPlaneList.__array_struct__') in this context (e.g. inside a plugin widget or dock widget) is deprecated and will be unavailable in version 0.5.0\n",
      "  return array(a, dtype, copy=False, order=order)\n",
      "/home/nathan/analysis/miniconda3/envs/cellx/lib/python3.9/site-packages/numpy/core/_asarray.py:102: FutureWarning: Private attribute access ('ClippingPlaneList.__array_interface__') in this context (e.g. inside a plugin widget or dock widget) is deprecated and will be unavailable in version 0.5.0\n",
      "  return array(a, dtype, copy=False, order=order)\n",
      "/home/nathan/analysis/miniconda3/envs/cellx/lib/python3.9/site-packages/numpy/core/_asarray.py:102: FutureWarning: Private attribute access ('ClippingPlaneList.__array__') in this context (e.g. inside a plugin widget or dock widget) is deprecated and will be unavailable in version 0.5.0\n",
      "  return array(a, dtype, copy=False, order=order)\n"
     ]
    },
    {
     "name": "stdout",
     "output_type": "stream",
     "text": [
      "Rendering frame  170 of 199\n"
     ]
    },
    {
     "name": "stderr",
     "output_type": "stream",
     "text": [
      "/home/nathan/analysis/miniconda3/envs/cellx/lib/python3.9/site-packages/numpy/core/_asarray.py:102: FutureWarning: Private attribute access ('ClippingPlaneList.__array_struct__') in this context (e.g. inside a plugin widget or dock widget) is deprecated and will be unavailable in version 0.5.0\n",
      "  return array(a, dtype, copy=False, order=order)\n",
      "/home/nathan/analysis/miniconda3/envs/cellx/lib/python3.9/site-packages/numpy/core/_asarray.py:102: FutureWarning: Private attribute access ('ClippingPlaneList.__array_interface__') in this context (e.g. inside a plugin widget or dock widget) is deprecated and will be unavailable in version 0.5.0\n",
      "  return array(a, dtype, copy=False, order=order)\n",
      "/home/nathan/analysis/miniconda3/envs/cellx/lib/python3.9/site-packages/numpy/core/_asarray.py:102: FutureWarning: Private attribute access ('ClippingPlaneList.__array__') in this context (e.g. inside a plugin widget or dock widget) is deprecated and will be unavailable in version 0.5.0\n",
      "  return array(a, dtype, copy=False, order=order)\n"
     ]
    },
    {
     "name": "stdout",
     "output_type": "stream",
     "text": [
      "Rendering frame  171 of 199\n"
     ]
    },
    {
     "name": "stderr",
     "output_type": "stream",
     "text": [
      "/home/nathan/analysis/miniconda3/envs/cellx/lib/python3.9/site-packages/numpy/core/_asarray.py:102: FutureWarning: Private attribute access ('ClippingPlaneList.__array_struct__') in this context (e.g. inside a plugin widget or dock widget) is deprecated and will be unavailable in version 0.5.0\n",
      "  return array(a, dtype, copy=False, order=order)\n",
      "/home/nathan/analysis/miniconda3/envs/cellx/lib/python3.9/site-packages/numpy/core/_asarray.py:102: FutureWarning: Private attribute access ('ClippingPlaneList.__array_interface__') in this context (e.g. inside a plugin widget or dock widget) is deprecated and will be unavailable in version 0.5.0\n",
      "  return array(a, dtype, copy=False, order=order)\n",
      "/home/nathan/analysis/miniconda3/envs/cellx/lib/python3.9/site-packages/numpy/core/_asarray.py:102: FutureWarning: Private attribute access ('ClippingPlaneList.__array__') in this context (e.g. inside a plugin widget or dock widget) is deprecated and will be unavailable in version 0.5.0\n",
      "  return array(a, dtype, copy=False, order=order)\n"
     ]
    },
    {
     "name": "stdout",
     "output_type": "stream",
     "text": [
      "Rendering frame  172 of 199\n"
     ]
    },
    {
     "name": "stderr",
     "output_type": "stream",
     "text": [
      "/home/nathan/analysis/miniconda3/envs/cellx/lib/python3.9/site-packages/numpy/core/_asarray.py:102: FutureWarning: Private attribute access ('ClippingPlaneList.__array_struct__') in this context (e.g. inside a plugin widget or dock widget) is deprecated and will be unavailable in version 0.5.0\n",
      "  return array(a, dtype, copy=False, order=order)\n",
      "/home/nathan/analysis/miniconda3/envs/cellx/lib/python3.9/site-packages/numpy/core/_asarray.py:102: FutureWarning: Private attribute access ('ClippingPlaneList.__array_interface__') in this context (e.g. inside a plugin widget or dock widget) is deprecated and will be unavailable in version 0.5.0\n",
      "  return array(a, dtype, copy=False, order=order)\n",
      "/home/nathan/analysis/miniconda3/envs/cellx/lib/python3.9/site-packages/numpy/core/_asarray.py:102: FutureWarning: Private attribute access ('ClippingPlaneList.__array__') in this context (e.g. inside a plugin widget or dock widget) is deprecated and will be unavailable in version 0.5.0\n",
      "  return array(a, dtype, copy=False, order=order)\n"
     ]
    },
    {
     "name": "stdout",
     "output_type": "stream",
     "text": [
      "Rendering frame  173 of 199\n"
     ]
    },
    {
     "name": "stderr",
     "output_type": "stream",
     "text": [
      "/home/nathan/analysis/miniconda3/envs/cellx/lib/python3.9/site-packages/numpy/core/_asarray.py:102: FutureWarning: Private attribute access ('ClippingPlaneList.__array_struct__') in this context (e.g. inside a plugin widget or dock widget) is deprecated and will be unavailable in version 0.5.0\n",
      "  return array(a, dtype, copy=False, order=order)\n",
      "/home/nathan/analysis/miniconda3/envs/cellx/lib/python3.9/site-packages/numpy/core/_asarray.py:102: FutureWarning: Private attribute access ('ClippingPlaneList.__array_interface__') in this context (e.g. inside a plugin widget or dock widget) is deprecated and will be unavailable in version 0.5.0\n",
      "  return array(a, dtype, copy=False, order=order)\n",
      "/home/nathan/analysis/miniconda3/envs/cellx/lib/python3.9/site-packages/numpy/core/_asarray.py:102: FutureWarning: Private attribute access ('ClippingPlaneList.__array__') in this context (e.g. inside a plugin widget or dock widget) is deprecated and will be unavailable in version 0.5.0\n",
      "  return array(a, dtype, copy=False, order=order)\n"
     ]
    },
    {
     "name": "stdout",
     "output_type": "stream",
     "text": [
      "Rendering frame  174 of 199\n"
     ]
    },
    {
     "name": "stderr",
     "output_type": "stream",
     "text": [
      "/home/nathan/analysis/miniconda3/envs/cellx/lib/python3.9/site-packages/numpy/core/_asarray.py:102: FutureWarning: Private attribute access ('ClippingPlaneList.__array_struct__') in this context (e.g. inside a plugin widget or dock widget) is deprecated and will be unavailable in version 0.5.0\n",
      "  return array(a, dtype, copy=False, order=order)\n",
      "/home/nathan/analysis/miniconda3/envs/cellx/lib/python3.9/site-packages/numpy/core/_asarray.py:102: FutureWarning: Private attribute access ('ClippingPlaneList.__array_interface__') in this context (e.g. inside a plugin widget or dock widget) is deprecated and will be unavailable in version 0.5.0\n",
      "  return array(a, dtype, copy=False, order=order)\n",
      "/home/nathan/analysis/miniconda3/envs/cellx/lib/python3.9/site-packages/numpy/core/_asarray.py:102: FutureWarning: Private attribute access ('ClippingPlaneList.__array__') in this context (e.g. inside a plugin widget or dock widget) is deprecated and will be unavailable in version 0.5.0\n",
      "  return array(a, dtype, copy=False, order=order)\n"
     ]
    },
    {
     "name": "stdout",
     "output_type": "stream",
     "text": [
      "Rendering frame  175 of 199\n"
     ]
    },
    {
     "name": "stderr",
     "output_type": "stream",
     "text": [
      "/home/nathan/analysis/miniconda3/envs/cellx/lib/python3.9/site-packages/numpy/core/_asarray.py:102: FutureWarning: Private attribute access ('ClippingPlaneList.__array_struct__') in this context (e.g. inside a plugin widget or dock widget) is deprecated and will be unavailable in version 0.5.0\n",
      "  return array(a, dtype, copy=False, order=order)\n",
      "/home/nathan/analysis/miniconda3/envs/cellx/lib/python3.9/site-packages/numpy/core/_asarray.py:102: FutureWarning: Private attribute access ('ClippingPlaneList.__array_interface__') in this context (e.g. inside a plugin widget or dock widget) is deprecated and will be unavailable in version 0.5.0\n",
      "  return array(a, dtype, copy=False, order=order)\n",
      "/home/nathan/analysis/miniconda3/envs/cellx/lib/python3.9/site-packages/numpy/core/_asarray.py:102: FutureWarning: Private attribute access ('ClippingPlaneList.__array__') in this context (e.g. inside a plugin widget or dock widget) is deprecated and will be unavailable in version 0.5.0\n",
      "  return array(a, dtype, copy=False, order=order)\n"
     ]
    },
    {
     "name": "stdout",
     "output_type": "stream",
     "text": [
      "Rendering frame  176 of 199\n"
     ]
    },
    {
     "name": "stderr",
     "output_type": "stream",
     "text": [
      "/home/nathan/analysis/miniconda3/envs/cellx/lib/python3.9/site-packages/numpy/core/_asarray.py:102: FutureWarning: Private attribute access ('ClippingPlaneList.__array_struct__') in this context (e.g. inside a plugin widget or dock widget) is deprecated and will be unavailable in version 0.5.0\n",
      "  return array(a, dtype, copy=False, order=order)\n",
      "/home/nathan/analysis/miniconda3/envs/cellx/lib/python3.9/site-packages/numpy/core/_asarray.py:102: FutureWarning: Private attribute access ('ClippingPlaneList.__array_interface__') in this context (e.g. inside a plugin widget or dock widget) is deprecated and will be unavailable in version 0.5.0\n",
      "  return array(a, dtype, copy=False, order=order)\n",
      "/home/nathan/analysis/miniconda3/envs/cellx/lib/python3.9/site-packages/numpy/core/_asarray.py:102: FutureWarning: Private attribute access ('ClippingPlaneList.__array__') in this context (e.g. inside a plugin widget or dock widget) is deprecated and will be unavailable in version 0.5.0\n",
      "  return array(a, dtype, copy=False, order=order)\n"
     ]
    },
    {
     "name": "stdout",
     "output_type": "stream",
     "text": [
      "Rendering frame  177 of 199\n"
     ]
    },
    {
     "name": "stderr",
     "output_type": "stream",
     "text": [
      "/home/nathan/analysis/miniconda3/envs/cellx/lib/python3.9/site-packages/numpy/core/_asarray.py:102: FutureWarning: Private attribute access ('ClippingPlaneList.__array_struct__') in this context (e.g. inside a plugin widget or dock widget) is deprecated and will be unavailable in version 0.5.0\n",
      "  return array(a, dtype, copy=False, order=order)\n",
      "/home/nathan/analysis/miniconda3/envs/cellx/lib/python3.9/site-packages/numpy/core/_asarray.py:102: FutureWarning: Private attribute access ('ClippingPlaneList.__array_interface__') in this context (e.g. inside a plugin widget or dock widget) is deprecated and will be unavailable in version 0.5.0\n",
      "  return array(a, dtype, copy=False, order=order)\n",
      "/home/nathan/analysis/miniconda3/envs/cellx/lib/python3.9/site-packages/numpy/core/_asarray.py:102: FutureWarning: Private attribute access ('ClippingPlaneList.__array__') in this context (e.g. inside a plugin widget or dock widget) is deprecated and will be unavailable in version 0.5.0\n",
      "  return array(a, dtype, copy=False, order=order)\n"
     ]
    },
    {
     "name": "stdout",
     "output_type": "stream",
     "text": [
      "Rendering frame  178 of 199\n"
     ]
    },
    {
     "name": "stderr",
     "output_type": "stream",
     "text": [
      "/home/nathan/analysis/miniconda3/envs/cellx/lib/python3.9/site-packages/numpy/core/_asarray.py:102: FutureWarning: Private attribute access ('ClippingPlaneList.__array_struct__') in this context (e.g. inside a plugin widget or dock widget) is deprecated and will be unavailable in version 0.5.0\n",
      "  return array(a, dtype, copy=False, order=order)\n",
      "/home/nathan/analysis/miniconda3/envs/cellx/lib/python3.9/site-packages/numpy/core/_asarray.py:102: FutureWarning: Private attribute access ('ClippingPlaneList.__array_interface__') in this context (e.g. inside a plugin widget or dock widget) is deprecated and will be unavailable in version 0.5.0\n",
      "  return array(a, dtype, copy=False, order=order)\n",
      "/home/nathan/analysis/miniconda3/envs/cellx/lib/python3.9/site-packages/numpy/core/_asarray.py:102: FutureWarning: Private attribute access ('ClippingPlaneList.__array__') in this context (e.g. inside a plugin widget or dock widget) is deprecated and will be unavailable in version 0.5.0\n",
      "  return array(a, dtype, copy=False, order=order)\n"
     ]
    },
    {
     "name": "stdout",
     "output_type": "stream",
     "text": [
      "Rendering frame  179 of 199\n"
     ]
    },
    {
     "name": "stderr",
     "output_type": "stream",
     "text": [
      "/home/nathan/analysis/miniconda3/envs/cellx/lib/python3.9/site-packages/numpy/core/_asarray.py:102: FutureWarning: Private attribute access ('ClippingPlaneList.__array_struct__') in this context (e.g. inside a plugin widget or dock widget) is deprecated and will be unavailable in version 0.5.0\n",
      "  return array(a, dtype, copy=False, order=order)\n",
      "/home/nathan/analysis/miniconda3/envs/cellx/lib/python3.9/site-packages/numpy/core/_asarray.py:102: FutureWarning: Private attribute access ('ClippingPlaneList.__array_interface__') in this context (e.g. inside a plugin widget or dock widget) is deprecated and will be unavailable in version 0.5.0\n",
      "  return array(a, dtype, copy=False, order=order)\n",
      "/home/nathan/analysis/miniconda3/envs/cellx/lib/python3.9/site-packages/numpy/core/_asarray.py:102: FutureWarning: Private attribute access ('ClippingPlaneList.__array__') in this context (e.g. inside a plugin widget or dock widget) is deprecated and will be unavailable in version 0.5.0\n",
      "  return array(a, dtype, copy=False, order=order)\n"
     ]
    },
    {
     "name": "stdout",
     "output_type": "stream",
     "text": [
      "Rendering frame  180 of 199\n"
     ]
    },
    {
     "name": "stderr",
     "output_type": "stream",
     "text": [
      "/home/nathan/analysis/miniconda3/envs/cellx/lib/python3.9/site-packages/numpy/core/_asarray.py:102: FutureWarning: Private attribute access ('ClippingPlaneList.__array_struct__') in this context (e.g. inside a plugin widget or dock widget) is deprecated and will be unavailable in version 0.5.0\n",
      "  return array(a, dtype, copy=False, order=order)\n",
      "/home/nathan/analysis/miniconda3/envs/cellx/lib/python3.9/site-packages/numpy/core/_asarray.py:102: FutureWarning: Private attribute access ('ClippingPlaneList.__array_interface__') in this context (e.g. inside a plugin widget or dock widget) is deprecated and will be unavailable in version 0.5.0\n",
      "  return array(a, dtype, copy=False, order=order)\n",
      "/home/nathan/analysis/miniconda3/envs/cellx/lib/python3.9/site-packages/numpy/core/_asarray.py:102: FutureWarning: Private attribute access ('ClippingPlaneList.__array__') in this context (e.g. inside a plugin widget or dock widget) is deprecated and will be unavailable in version 0.5.0\n",
      "  return array(a, dtype, copy=False, order=order)\n"
     ]
    },
    {
     "name": "stdout",
     "output_type": "stream",
     "text": [
      "Rendering frame  181 of 199\n"
     ]
    },
    {
     "name": "stderr",
     "output_type": "stream",
     "text": [
      "/home/nathan/analysis/miniconda3/envs/cellx/lib/python3.9/site-packages/numpy/core/_asarray.py:102: FutureWarning: Private attribute access ('ClippingPlaneList.__array_struct__') in this context (e.g. inside a plugin widget or dock widget) is deprecated and will be unavailable in version 0.5.0\n",
      "  return array(a, dtype, copy=False, order=order)\n",
      "/home/nathan/analysis/miniconda3/envs/cellx/lib/python3.9/site-packages/numpy/core/_asarray.py:102: FutureWarning: Private attribute access ('ClippingPlaneList.__array_interface__') in this context (e.g. inside a plugin widget or dock widget) is deprecated and will be unavailable in version 0.5.0\n",
      "  return array(a, dtype, copy=False, order=order)\n",
      "/home/nathan/analysis/miniconda3/envs/cellx/lib/python3.9/site-packages/numpy/core/_asarray.py:102: FutureWarning: Private attribute access ('ClippingPlaneList.__array__') in this context (e.g. inside a plugin widget or dock widget) is deprecated and will be unavailable in version 0.5.0\n",
      "  return array(a, dtype, copy=False, order=order)\n"
     ]
    },
    {
     "name": "stdout",
     "output_type": "stream",
     "text": [
      "Rendering frame  182 of 199\n"
     ]
    },
    {
     "name": "stderr",
     "output_type": "stream",
     "text": [
      "/home/nathan/analysis/miniconda3/envs/cellx/lib/python3.9/site-packages/numpy/core/_asarray.py:102: FutureWarning: Private attribute access ('ClippingPlaneList.__array_struct__') in this context (e.g. inside a plugin widget or dock widget) is deprecated and will be unavailable in version 0.5.0\n",
      "  return array(a, dtype, copy=False, order=order)\n",
      "/home/nathan/analysis/miniconda3/envs/cellx/lib/python3.9/site-packages/numpy/core/_asarray.py:102: FutureWarning: Private attribute access ('ClippingPlaneList.__array_interface__') in this context (e.g. inside a plugin widget or dock widget) is deprecated and will be unavailable in version 0.5.0\n",
      "  return array(a, dtype, copy=False, order=order)\n",
      "/home/nathan/analysis/miniconda3/envs/cellx/lib/python3.9/site-packages/numpy/core/_asarray.py:102: FutureWarning: Private attribute access ('ClippingPlaneList.__array__') in this context (e.g. inside a plugin widget or dock widget) is deprecated and will be unavailable in version 0.5.0\n",
      "  return array(a, dtype, copy=False, order=order)\n"
     ]
    },
    {
     "name": "stdout",
     "output_type": "stream",
     "text": [
      "Rendering frame  183 of 199\n"
     ]
    },
    {
     "name": "stderr",
     "output_type": "stream",
     "text": [
      "/home/nathan/analysis/miniconda3/envs/cellx/lib/python3.9/site-packages/numpy/core/_asarray.py:102: FutureWarning: Private attribute access ('ClippingPlaneList.__array_struct__') in this context (e.g. inside a plugin widget or dock widget) is deprecated and will be unavailable in version 0.5.0\n",
      "  return array(a, dtype, copy=False, order=order)\n",
      "/home/nathan/analysis/miniconda3/envs/cellx/lib/python3.9/site-packages/numpy/core/_asarray.py:102: FutureWarning: Private attribute access ('ClippingPlaneList.__array_interface__') in this context (e.g. inside a plugin widget or dock widget) is deprecated and will be unavailable in version 0.5.0\n",
      "  return array(a, dtype, copy=False, order=order)\n",
      "/home/nathan/analysis/miniconda3/envs/cellx/lib/python3.9/site-packages/numpy/core/_asarray.py:102: FutureWarning: Private attribute access ('ClippingPlaneList.__array__') in this context (e.g. inside a plugin widget or dock widget) is deprecated and will be unavailable in version 0.5.0\n",
      "  return array(a, dtype, copy=False, order=order)\n"
     ]
    },
    {
     "name": "stdout",
     "output_type": "stream",
     "text": [
      "Rendering frame  184 of 199\n"
     ]
    },
    {
     "name": "stderr",
     "output_type": "stream",
     "text": [
      "/home/nathan/analysis/miniconda3/envs/cellx/lib/python3.9/site-packages/numpy/core/_asarray.py:102: FutureWarning: Private attribute access ('ClippingPlaneList.__array_struct__') in this context (e.g. inside a plugin widget or dock widget) is deprecated and will be unavailable in version 0.5.0\n",
      "  return array(a, dtype, copy=False, order=order)\n",
      "/home/nathan/analysis/miniconda3/envs/cellx/lib/python3.9/site-packages/numpy/core/_asarray.py:102: FutureWarning: Private attribute access ('ClippingPlaneList.__array_interface__') in this context (e.g. inside a plugin widget or dock widget) is deprecated and will be unavailable in version 0.5.0\n",
      "  return array(a, dtype, copy=False, order=order)\n",
      "/home/nathan/analysis/miniconda3/envs/cellx/lib/python3.9/site-packages/numpy/core/_asarray.py:102: FutureWarning: Private attribute access ('ClippingPlaneList.__array__') in this context (e.g. inside a plugin widget or dock widget) is deprecated and will be unavailable in version 0.5.0\n",
      "  return array(a, dtype, copy=False, order=order)\n"
     ]
    },
    {
     "name": "stdout",
     "output_type": "stream",
     "text": [
      "Rendering frame  185 of 199\n"
     ]
    },
    {
     "name": "stderr",
     "output_type": "stream",
     "text": [
      "/home/nathan/analysis/miniconda3/envs/cellx/lib/python3.9/site-packages/numpy/core/_asarray.py:102: FutureWarning: Private attribute access ('ClippingPlaneList.__array_struct__') in this context (e.g. inside a plugin widget or dock widget) is deprecated and will be unavailable in version 0.5.0\n",
      "  return array(a, dtype, copy=False, order=order)\n",
      "/home/nathan/analysis/miniconda3/envs/cellx/lib/python3.9/site-packages/numpy/core/_asarray.py:102: FutureWarning: Private attribute access ('ClippingPlaneList.__array_interface__') in this context (e.g. inside a plugin widget or dock widget) is deprecated and will be unavailable in version 0.5.0\n",
      "  return array(a, dtype, copy=False, order=order)\n",
      "/home/nathan/analysis/miniconda3/envs/cellx/lib/python3.9/site-packages/numpy/core/_asarray.py:102: FutureWarning: Private attribute access ('ClippingPlaneList.__array__') in this context (e.g. inside a plugin widget or dock widget) is deprecated and will be unavailable in version 0.5.0\n",
      "  return array(a, dtype, copy=False, order=order)\n"
     ]
    },
    {
     "name": "stdout",
     "output_type": "stream",
     "text": [
      "Rendering frame  186 of 199\n"
     ]
    },
    {
     "name": "stderr",
     "output_type": "stream",
     "text": [
      "/home/nathan/analysis/miniconda3/envs/cellx/lib/python3.9/site-packages/numpy/core/_asarray.py:102: FutureWarning: Private attribute access ('ClippingPlaneList.__array_struct__') in this context (e.g. inside a plugin widget or dock widget) is deprecated and will be unavailable in version 0.5.0\n",
      "  return array(a, dtype, copy=False, order=order)\n",
      "/home/nathan/analysis/miniconda3/envs/cellx/lib/python3.9/site-packages/numpy/core/_asarray.py:102: FutureWarning: Private attribute access ('ClippingPlaneList.__array_interface__') in this context (e.g. inside a plugin widget or dock widget) is deprecated and will be unavailable in version 0.5.0\n",
      "  return array(a, dtype, copy=False, order=order)\n",
      "/home/nathan/analysis/miniconda3/envs/cellx/lib/python3.9/site-packages/numpy/core/_asarray.py:102: FutureWarning: Private attribute access ('ClippingPlaneList.__array__') in this context (e.g. inside a plugin widget or dock widget) is deprecated and will be unavailable in version 0.5.0\n",
      "  return array(a, dtype, copy=False, order=order)\n"
     ]
    },
    {
     "name": "stdout",
     "output_type": "stream",
     "text": [
      "Rendering frame  187 of 199\n"
     ]
    },
    {
     "name": "stderr",
     "output_type": "stream",
     "text": [
      "/home/nathan/analysis/miniconda3/envs/cellx/lib/python3.9/site-packages/numpy/core/_asarray.py:102: FutureWarning: Private attribute access ('ClippingPlaneList.__array_struct__') in this context (e.g. inside a plugin widget or dock widget) is deprecated and will be unavailable in version 0.5.0\n",
      "  return array(a, dtype, copy=False, order=order)\n",
      "/home/nathan/analysis/miniconda3/envs/cellx/lib/python3.9/site-packages/numpy/core/_asarray.py:102: FutureWarning: Private attribute access ('ClippingPlaneList.__array_interface__') in this context (e.g. inside a plugin widget or dock widget) is deprecated and will be unavailable in version 0.5.0\n",
      "  return array(a, dtype, copy=False, order=order)\n",
      "/home/nathan/analysis/miniconda3/envs/cellx/lib/python3.9/site-packages/numpy/core/_asarray.py:102: FutureWarning: Private attribute access ('ClippingPlaneList.__array__') in this context (e.g. inside a plugin widget or dock widget) is deprecated and will be unavailable in version 0.5.0\n",
      "  return array(a, dtype, copy=False, order=order)\n"
     ]
    },
    {
     "name": "stdout",
     "output_type": "stream",
     "text": [
      "Rendering frame  188 of 199\n"
     ]
    },
    {
     "name": "stderr",
     "output_type": "stream",
     "text": [
      "/home/nathan/analysis/miniconda3/envs/cellx/lib/python3.9/site-packages/numpy/core/_asarray.py:102: FutureWarning: Private attribute access ('ClippingPlaneList.__array_struct__') in this context (e.g. inside a plugin widget or dock widget) is deprecated and will be unavailable in version 0.5.0\n",
      "  return array(a, dtype, copy=False, order=order)\n",
      "/home/nathan/analysis/miniconda3/envs/cellx/lib/python3.9/site-packages/numpy/core/_asarray.py:102: FutureWarning: Private attribute access ('ClippingPlaneList.__array_interface__') in this context (e.g. inside a plugin widget or dock widget) is deprecated and will be unavailable in version 0.5.0\n",
      "  return array(a, dtype, copy=False, order=order)\n",
      "/home/nathan/analysis/miniconda3/envs/cellx/lib/python3.9/site-packages/numpy/core/_asarray.py:102: FutureWarning: Private attribute access ('ClippingPlaneList.__array__') in this context (e.g. inside a plugin widget or dock widget) is deprecated and will be unavailable in version 0.5.0\n",
      "  return array(a, dtype, copy=False, order=order)\n"
     ]
    },
    {
     "name": "stdout",
     "output_type": "stream",
     "text": [
      "Rendering frame  189 of 199\n"
     ]
    },
    {
     "name": "stderr",
     "output_type": "stream",
     "text": [
      "/home/nathan/analysis/miniconda3/envs/cellx/lib/python3.9/site-packages/numpy/core/_asarray.py:102: FutureWarning: Private attribute access ('ClippingPlaneList.__array_struct__') in this context (e.g. inside a plugin widget or dock widget) is deprecated and will be unavailable in version 0.5.0\n",
      "  return array(a, dtype, copy=False, order=order)\n",
      "/home/nathan/analysis/miniconda3/envs/cellx/lib/python3.9/site-packages/numpy/core/_asarray.py:102: FutureWarning: Private attribute access ('ClippingPlaneList.__array_interface__') in this context (e.g. inside a plugin widget or dock widget) is deprecated and will be unavailable in version 0.5.0\n",
      "  return array(a, dtype, copy=False, order=order)\n",
      "/home/nathan/analysis/miniconda3/envs/cellx/lib/python3.9/site-packages/numpy/core/_asarray.py:102: FutureWarning: Private attribute access ('ClippingPlaneList.__array__') in this context (e.g. inside a plugin widget or dock widget) is deprecated and will be unavailable in version 0.5.0\n",
      "  return array(a, dtype, copy=False, order=order)\n"
     ]
    },
    {
     "name": "stdout",
     "output_type": "stream",
     "text": [
      "Rendering frame  190 of 199\n"
     ]
    },
    {
     "name": "stderr",
     "output_type": "stream",
     "text": [
      "/home/nathan/analysis/miniconda3/envs/cellx/lib/python3.9/site-packages/numpy/core/_asarray.py:102: FutureWarning: Private attribute access ('ClippingPlaneList.__array_struct__') in this context (e.g. inside a plugin widget or dock widget) is deprecated and will be unavailable in version 0.5.0\n",
      "  return array(a, dtype, copy=False, order=order)\n",
      "/home/nathan/analysis/miniconda3/envs/cellx/lib/python3.9/site-packages/numpy/core/_asarray.py:102: FutureWarning: Private attribute access ('ClippingPlaneList.__array_interface__') in this context (e.g. inside a plugin widget or dock widget) is deprecated and will be unavailable in version 0.5.0\n",
      "  return array(a, dtype, copy=False, order=order)\n",
      "/home/nathan/analysis/miniconda3/envs/cellx/lib/python3.9/site-packages/numpy/core/_asarray.py:102: FutureWarning: Private attribute access ('ClippingPlaneList.__array__') in this context (e.g. inside a plugin widget or dock widget) is deprecated and will be unavailable in version 0.5.0\n",
      "  return array(a, dtype, copy=False, order=order)\n"
     ]
    },
    {
     "name": "stdout",
     "output_type": "stream",
     "text": [
      "Rendering frame  191 of 199\n"
     ]
    },
    {
     "name": "stderr",
     "output_type": "stream",
     "text": [
      "/home/nathan/analysis/miniconda3/envs/cellx/lib/python3.9/site-packages/numpy/core/_asarray.py:102: FutureWarning: Private attribute access ('ClippingPlaneList.__array_struct__') in this context (e.g. inside a plugin widget or dock widget) is deprecated and will be unavailable in version 0.5.0\n",
      "  return array(a, dtype, copy=False, order=order)\n",
      "/home/nathan/analysis/miniconda3/envs/cellx/lib/python3.9/site-packages/numpy/core/_asarray.py:102: FutureWarning: Private attribute access ('ClippingPlaneList.__array_interface__') in this context (e.g. inside a plugin widget or dock widget) is deprecated and will be unavailable in version 0.5.0\n",
      "  return array(a, dtype, copy=False, order=order)\n",
      "/home/nathan/analysis/miniconda3/envs/cellx/lib/python3.9/site-packages/numpy/core/_asarray.py:102: FutureWarning: Private attribute access ('ClippingPlaneList.__array__') in this context (e.g. inside a plugin widget or dock widget) is deprecated and will be unavailable in version 0.5.0\n",
      "  return array(a, dtype, copy=False, order=order)\n"
     ]
    },
    {
     "name": "stdout",
     "output_type": "stream",
     "text": [
      "Rendering frame  192 of 199\n"
     ]
    },
    {
     "name": "stderr",
     "output_type": "stream",
     "text": [
      "/home/nathan/analysis/miniconda3/envs/cellx/lib/python3.9/site-packages/numpy/core/_asarray.py:102: FutureWarning: Private attribute access ('ClippingPlaneList.__array_struct__') in this context (e.g. inside a plugin widget or dock widget) is deprecated and will be unavailable in version 0.5.0\n",
      "  return array(a, dtype, copy=False, order=order)\n",
      "/home/nathan/analysis/miniconda3/envs/cellx/lib/python3.9/site-packages/numpy/core/_asarray.py:102: FutureWarning: Private attribute access ('ClippingPlaneList.__array_interface__') in this context (e.g. inside a plugin widget or dock widget) is deprecated and will be unavailable in version 0.5.0\n",
      "  return array(a, dtype, copy=False, order=order)\n",
      "/home/nathan/analysis/miniconda3/envs/cellx/lib/python3.9/site-packages/numpy/core/_asarray.py:102: FutureWarning: Private attribute access ('ClippingPlaneList.__array__') in this context (e.g. inside a plugin widget or dock widget) is deprecated and will be unavailable in version 0.5.0\n",
      "  return array(a, dtype, copy=False, order=order)\n"
     ]
    },
    {
     "name": "stdout",
     "output_type": "stream",
     "text": [
      "Rendering frame  193 of 199\n"
     ]
    },
    {
     "name": "stderr",
     "output_type": "stream",
     "text": [
      "/home/nathan/analysis/miniconda3/envs/cellx/lib/python3.9/site-packages/numpy/core/_asarray.py:102: FutureWarning: Private attribute access ('ClippingPlaneList.__array_struct__') in this context (e.g. inside a plugin widget or dock widget) is deprecated and will be unavailable in version 0.5.0\n",
      "  return array(a, dtype, copy=False, order=order)\n",
      "/home/nathan/analysis/miniconda3/envs/cellx/lib/python3.9/site-packages/numpy/core/_asarray.py:102: FutureWarning: Private attribute access ('ClippingPlaneList.__array_interface__') in this context (e.g. inside a plugin widget or dock widget) is deprecated and will be unavailable in version 0.5.0\n",
      "  return array(a, dtype, copy=False, order=order)\n",
      "/home/nathan/analysis/miniconda3/envs/cellx/lib/python3.9/site-packages/numpy/core/_asarray.py:102: FutureWarning: Private attribute access ('ClippingPlaneList.__array__') in this context (e.g. inside a plugin widget or dock widget) is deprecated and will be unavailable in version 0.5.0\n",
      "  return array(a, dtype, copy=False, order=order)\n"
     ]
    },
    {
     "name": "stdout",
     "output_type": "stream",
     "text": [
      "Rendering frame  194 of 199\n"
     ]
    },
    {
     "name": "stderr",
     "output_type": "stream",
     "text": [
      "/home/nathan/analysis/miniconda3/envs/cellx/lib/python3.9/site-packages/numpy/core/_asarray.py:102: FutureWarning: Private attribute access ('ClippingPlaneList.__array_struct__') in this context (e.g. inside a plugin widget or dock widget) is deprecated and will be unavailable in version 0.5.0\n",
      "  return array(a, dtype, copy=False, order=order)\n",
      "/home/nathan/analysis/miniconda3/envs/cellx/lib/python3.9/site-packages/numpy/core/_asarray.py:102: FutureWarning: Private attribute access ('ClippingPlaneList.__array_interface__') in this context (e.g. inside a plugin widget or dock widget) is deprecated and will be unavailable in version 0.5.0\n",
      "  return array(a, dtype, copy=False, order=order)\n",
      "/home/nathan/analysis/miniconda3/envs/cellx/lib/python3.9/site-packages/numpy/core/_asarray.py:102: FutureWarning: Private attribute access ('ClippingPlaneList.__array__') in this context (e.g. inside a plugin widget or dock widget) is deprecated and will be unavailable in version 0.5.0\n",
      "  return array(a, dtype, copy=False, order=order)\n"
     ]
    },
    {
     "name": "stdout",
     "output_type": "stream",
     "text": [
      "Rendering frame  195 of 199\n"
     ]
    },
    {
     "name": "stderr",
     "output_type": "stream",
     "text": [
      "/home/nathan/analysis/miniconda3/envs/cellx/lib/python3.9/site-packages/numpy/core/_asarray.py:102: FutureWarning: Private attribute access ('ClippingPlaneList.__array_struct__') in this context (e.g. inside a plugin widget or dock widget) is deprecated and will be unavailable in version 0.5.0\n",
      "  return array(a, dtype, copy=False, order=order)\n",
      "/home/nathan/analysis/miniconda3/envs/cellx/lib/python3.9/site-packages/numpy/core/_asarray.py:102: FutureWarning: Private attribute access ('ClippingPlaneList.__array_interface__') in this context (e.g. inside a plugin widget or dock widget) is deprecated and will be unavailable in version 0.5.0\n",
      "  return array(a, dtype, copy=False, order=order)\n",
      "/home/nathan/analysis/miniconda3/envs/cellx/lib/python3.9/site-packages/numpy/core/_asarray.py:102: FutureWarning: Private attribute access ('ClippingPlaneList.__array__') in this context (e.g. inside a plugin widget or dock widget) is deprecated and will be unavailable in version 0.5.0\n",
      "  return array(a, dtype, copy=False, order=order)\n"
     ]
    },
    {
     "name": "stdout",
     "output_type": "stream",
     "text": [
      "Rendering frame  196 of 199\n"
     ]
    },
    {
     "name": "stderr",
     "output_type": "stream",
     "text": [
      "/home/nathan/analysis/miniconda3/envs/cellx/lib/python3.9/site-packages/numpy/core/_asarray.py:102: FutureWarning: Private attribute access ('ClippingPlaneList.__array_struct__') in this context (e.g. inside a plugin widget or dock widget) is deprecated and will be unavailable in version 0.5.0\n",
      "  return array(a, dtype, copy=False, order=order)\n",
      "/home/nathan/analysis/miniconda3/envs/cellx/lib/python3.9/site-packages/numpy/core/_asarray.py:102: FutureWarning: Private attribute access ('ClippingPlaneList.__array_interface__') in this context (e.g. inside a plugin widget or dock widget) is deprecated and will be unavailable in version 0.5.0\n",
      "  return array(a, dtype, copy=False, order=order)\n",
      "/home/nathan/analysis/miniconda3/envs/cellx/lib/python3.9/site-packages/numpy/core/_asarray.py:102: FutureWarning: Private attribute access ('ClippingPlaneList.__array__') in this context (e.g. inside a plugin widget or dock widget) is deprecated and will be unavailable in version 0.5.0\n",
      "  return array(a, dtype, copy=False, order=order)\n"
     ]
    },
    {
     "name": "stdout",
     "output_type": "stream",
     "text": [
      "Rendering frame  197 of 199\n"
     ]
    },
    {
     "name": "stderr",
     "output_type": "stream",
     "text": [
      "/home/nathan/analysis/miniconda3/envs/cellx/lib/python3.9/site-packages/numpy/core/_asarray.py:102: FutureWarning: Private attribute access ('ClippingPlaneList.__array_struct__') in this context (e.g. inside a plugin widget or dock widget) is deprecated and will be unavailable in version 0.5.0\n",
      "  return array(a, dtype, copy=False, order=order)\n",
      "/home/nathan/analysis/miniconda3/envs/cellx/lib/python3.9/site-packages/numpy/core/_asarray.py:102: FutureWarning: Private attribute access ('ClippingPlaneList.__array_interface__') in this context (e.g. inside a plugin widget or dock widget) is deprecated and will be unavailable in version 0.5.0\n",
      "  return array(a, dtype, copy=False, order=order)\n",
      "/home/nathan/analysis/miniconda3/envs/cellx/lib/python3.9/site-packages/numpy/core/_asarray.py:102: FutureWarning: Private attribute access ('ClippingPlaneList.__array__') in this context (e.g. inside a plugin widget or dock widget) is deprecated and will be unavailable in version 0.5.0\n",
      "  return array(a, dtype, copy=False, order=order)\n"
     ]
    },
    {
     "name": "stdout",
     "output_type": "stream",
     "text": [
      "Rendering frame  198 of 199\n"
     ]
    },
    {
     "name": "stderr",
     "output_type": "stream",
     "text": [
      "/home/nathan/analysis/miniconda3/envs/cellx/lib/python3.9/site-packages/numpy/core/_asarray.py:102: FutureWarning: Private attribute access ('ClippingPlaneList.__array_struct__') in this context (e.g. inside a plugin widget or dock widget) is deprecated and will be unavailable in version 0.5.0\n",
      "  return array(a, dtype, copy=False, order=order)\n",
      "/home/nathan/analysis/miniconda3/envs/cellx/lib/python3.9/site-packages/numpy/core/_asarray.py:102: FutureWarning: Private attribute access ('ClippingPlaneList.__array_interface__') in this context (e.g. inside a plugin widget or dock widget) is deprecated and will be unavailable in version 0.5.0\n",
      "  return array(a, dtype, copy=False, order=order)\n",
      "/home/nathan/analysis/miniconda3/envs/cellx/lib/python3.9/site-packages/numpy/core/_asarray.py:102: FutureWarning: Private attribute access ('ClippingPlaneList.__array__') in this context (e.g. inside a plugin widget or dock widget) is deprecated and will be unavailable in version 0.5.0\n",
      "  return array(a, dtype, copy=False, order=order)\n"
     ]
    },
    {
     "name": "stdout",
     "output_type": "stream",
     "text": [
      "Rendering frame  199 of 199\n"
     ]
    },
    {
     "name": "stderr",
     "output_type": "stream",
     "text": [
      "/home/nathan/analysis/miniconda3/envs/cellx/lib/python3.9/site-packages/numpy/core/_asarray.py:102: FutureWarning: Private attribute access ('ClippingPlaneList.__array_struct__') in this context (e.g. inside a plugin widget or dock widget) is deprecated and will be unavailable in version 0.5.0\n",
      "  return array(a, dtype, copy=False, order=order)\n",
      "/home/nathan/analysis/miniconda3/envs/cellx/lib/python3.9/site-packages/numpy/core/_asarray.py:102: FutureWarning: Private attribute access ('ClippingPlaneList.__array_interface__') in this context (e.g. inside a plugin widget or dock widget) is deprecated and will be unavailable in version 0.5.0\n",
      "  return array(a, dtype, copy=False, order=order)\n",
      "/home/nathan/analysis/miniconda3/envs/cellx/lib/python3.9/site-packages/numpy/core/_asarray.py:102: FutureWarning: Private attribute access ('ClippingPlaneList.__array__') in this context (e.g. inside a plugin widget or dock widget) is deprecated and will be unavailable in version 0.5.0\n",
      "  return array(a, dtype, copy=False, order=order)\n",
      "/home/nathan/analysis/miniconda3/envs/cellx/lib/python3.9/site-packages/numpy/core/_asarray.py:102: FutureWarning: Private attribute access ('ClippingPlaneList.__array_struct__') in this context (e.g. inside a plugin widget or dock widget) is deprecated and will be unavailable in version 0.5.0\n",
      "  return array(a, dtype, copy=False, order=order)\n",
      "/home/nathan/analysis/miniconda3/envs/cellx/lib/python3.9/site-packages/numpy/core/_asarray.py:102: FutureWarning: Private attribute access ('ClippingPlaneList.__array_interface__') in this context (e.g. inside a plugin widget or dock widget) is deprecated and will be unavailable in version 0.5.0\n",
      "  return array(a, dtype, copy=False, order=order)\n",
      "/home/nathan/analysis/miniconda3/envs/cellx/lib/python3.9/site-packages/numpy/core/_asarray.py:102: FutureWarning: Private attribute access ('ClippingPlaneList.__array__') in this context (e.g. inside a plugin widget or dock widget) is deprecated and will be unavailable in version 0.5.0\n",
      "  return array(a, dtype, copy=False, order=order)\n"
     ]
    }
   ],
   "source": [
    "\n",
    "\n",
    "root_dir = '/home/nathan/data/kraken/ras'\n",
    "expt_list = sorted([expt for expt in os.listdir(root_dir) \n",
    "                    if 'ND' in expt and os.path.isdir(os.path.join(root_dir, expt))], \n",
    "                    key = lambda x: [int(y) for y in re.findall(r'\\d+', x)])\n",
    "for expt in expt_list:\n",
    "    expt_dir = os.path.join(root_dir, expt)\n",
    "    if os.path.exists(expt_dir):\n",
    "        positions = sorted([pos for pos in os.listdir(expt_dir) \n",
    "                            if pos.startswith('Pos') \n",
    "                            and os.path.isdir(os.path.join(expt_dir, pos))], \n",
    "                            key = lambda x: [int(y) for y in re.findall(r'\\d+', x)])\n",
    "        for pos in positions:\n",
    "\n",
    "            print('Loading', expt, pos)\n",
    "            ### define image path\n",
    "            image_path = os.path.join(root_dir, expt, pos, f'{pos}_images')\n",
    "            ### check if alignment is to be applied\n",
    "\n",
    "            transform_path = os.path.join(root_dir, expt, pos, 'mask_reversed_clipped_transform_tensor.npy')\n",
    "\n",
    "            ### load images\n",
    "            images = DaskOctopusLiteLoader(image_path, \n",
    "                                           transforms = transform_path,\n",
    "                                           crop = (1200,1600))\n",
    "            ### launch the napari viewer\n",
    "            viewer = napari.Viewer()\n",
    "            viewer.add_image(images['gfp'].astype(np.uint8), colormap= 'green', name= 'gfp', \n",
    "                             blending = 'additive', contrast_limits = [0,150])\n",
    "            viewer.add_image(images['rfp'].astype(np.uint8), colormap= 'red', name='rfp', \n",
    "                             blending = 'additive', contrast_limits = [0,32])\n",
    "            viewer.add_image(images['irfp'].astype(np.uint8), colormap= 'blue', name='irfp', \n",
    "                             blending = 'additive')\n",
    "            viewer.add_labels(images['mask'].astype(np.uint8), name = f'{expt, pos} masks')\n",
    "            \n",
    "            \n",
    "            ### check if tracks are to be added too\n",
    "#             if tracks:\n",
    "#                 tracks_path = ''\n",
    "#                 with btrack.dataio.HDF5FileHandler(tracks_path, 'r',obj_type=obj_type) as h:\n",
    "#                     tracks = h.tracks\n",
    "#                 ### need to configure this\n",
    "#                 data, properties, graph = btrack.utils.tracks_to_napari(tracks, ndim=2)\n",
    "#                 tracker_layer = viewer.add_tracks(data, properties=properties,graph=graph,name='tracks_1')\n",
    "# #                 points_layer = ...\n",
    "            viewer.dims.current_step = (0,0,0)\n",
    "            viewer.show(block=True)"
   ]
  },
  {
   "cell_type": "code",
   "execution_count": null,
   "id": "92e9a662",
   "metadata": {},
   "outputs": [],
   "source": [
    "transforms.append('')\n",
    "for transform_path in transforms:\n",
    "    transform_fn = os.path.basename(transform_path)\n",
    "    \n",
    "    images = DaskOctopusLiteLoader(image_path, \n",
    "                                   remove_background=False, \n",
    "                                   transforms=transform_path,)\n",
    "                                   #crop = (1200, 1600))\n",
    "    \n",
    "    viewer = napari.Viewer()\n",
    "    viewer.add_image(images['brightfield'].astype(np.uint8), name= 'bf', \n",
    "                                 blending = 'additive', contrast_limits = [0,255])\n",
    "    viewer.add_image(images['gfp'].astype(np.uint8), colormap= 'green', name= 'gfp', \n",
    "                                 blending = 'additive', contrast_limits = [0,150])\n",
    "    viewer.add_image(images['rfp'].astype(np.uint8), colormap= 'red', name='rfp', \n",
    "                     blending = 'additive', contrast_limits = [0,32])\n",
    "    viewer.add_image(images['irfp'].astype(np.uint8), colormap= 'cyan', name='irfp', \n",
    "                     blending = 'additive')\n",
    "    viewer.add_labels(images['mask'].astype(int), name = f'{transform_fn} masks')\n",
    "    break\n",
    "    #viewer.show(block=True)"
   ]
  },
  {
   "cell_type": "code",
   "execution_count": null,
   "id": "1b0fb00e",
   "metadata": {},
   "outputs": [],
   "source": [
    "images['mask'][0].astype(np.uint8).compute()"
   ]
  },
  {
   "cell_type": "markdown",
   "id": "ed58b008",
   "metadata": {},
   "source": [
    "# is it the images that cause the massive jumps?"
   ]
  },
  {
   "cell_type": "code",
   "execution_count": null,
   "id": "8b935a30",
   "metadata": {},
   "outputs": [],
   "source": [
    "for n, image in enumerate(images['gfp']):\n",
    "    print(n, np.mean(image).compute())"
   ]
  },
  {
   "cell_type": "code",
   "execution_count": null,
   "id": "54cf6b2d",
   "metadata": {},
   "outputs": [],
   "source": [
    "trans = numpy.load(transform_path)\n"
   ]
  },
  {
   "cell_type": "code",
   "execution_count": null,
   "id": "f34b15ae",
   "metadata": {},
   "outputs": [],
   "source": [
    "trans"
   ]
  },
  {
   "cell_type": "code",
   "execution_count": null,
   "id": "bc4f1fa0",
   "metadata": {},
   "outputs": [],
   "source": [
    "trans = numpy.load(transform_path)"
   ]
  },
  {
   "cell_type": "code",
   "execution_count": null,
   "id": "ed60f44c",
   "metadata": {},
   "outputs": [],
   "source": [
    "transform_path = f'/home/nathan/data/kraken/ras/{expt}/{pos}/gfp_transform_tensor_14.npy'\n"
   ]
  },
  {
   "cell_type": "code",
   "execution_count": null,
   "id": "7fe51fe7",
   "metadata": {},
   "outputs": [],
   "source": [
    "trans_13[115:125, :2, -1]"
   ]
  },
  {
   "cell_type": "code",
   "execution_count": null,
   "id": "6692c85c",
   "metadata": {},
   "outputs": [],
   "source": [
    "trans_14[115:125, :2, -1]"
   ]
  },
  {
   "cell_type": "code",
   "execution_count": null,
   "id": "8aae5b69",
   "metadata": {},
   "outputs": [],
   "source": [
    "sum(trans_14[119,:2, -1])"
   ]
  },
  {
   "cell_type": "code",
   "execution_count": null,
   "id": "f3368720",
   "metadata": {},
   "outputs": [],
   "source": [
    "if trans_14[119,:2, -1] == [0,0]:\n",
    "    print(True)"
   ]
  },
  {
   "cell_type": "code",
   "execution_count": null,
   "id": "ea64894d",
   "metadata": {},
   "outputs": [],
   "source": [
    "i_list = []\n",
    "for i in range(len(trans)):\n",
    "    if sum(trans[i,:2, -1]) == 0:\n",
    "        print(i)\n",
    "        i_list.append(i)\n",
    "edit = np.delete(trans, i_list, 0)"
   ]
  },
  {
   "cell_type": "code",
   "execution_count": null,
   "id": "eeea36ad",
   "metadata": {},
   "outputs": [],
   "source": [
    "len(edit)"
   ]
  },
  {
   "cell_type": "code",
   "execution_count": null,
   "id": "657378c6",
   "metadata": {},
   "outputs": [],
   "source": [
    "np.save(f'/home/nathan/data/kraken/ras/{expt}/{pos}/gfp_transform_tensor_16.npy', edit)"
   ]
  },
  {
   "cell_type": "code",
   "execution_count": null,
   "id": "7712b557",
   "metadata": {},
   "outputs": [],
   "source": [
    "len(trans)"
   ]
  },
  {
   "cell_type": "code",
   "execution_count": null,
   "id": "419272ff",
   "metadata": {},
   "outputs": [],
   "source": [
    "import numpy as np"
   ]
  },
  {
   "cell_type": "code",
   "execution_count": null,
   "id": "e076d36e",
   "metadata": {},
   "outputs": [],
   "source": [
    "np.s_[119::]"
   ]
  },
  {
   "cell_type": "code",
   "execution_count": null,
   "id": "5c6f3e3e",
   "metadata": {},
   "outputs": [],
   "source": [
    "len(np.delete(trans, [119], 0))"
   ]
  },
  {
   "cell_type": "markdown",
   "id": "9cc54637",
   "metadata": {},
   "source": [
    "# Load images"
   ]
  },
  {
   "cell_type": "code",
   "execution_count": null,
   "id": "5206859a",
   "metadata": {
    "scrolled": true
   },
   "outputs": [],
   "source": [
    "# define experiment ID and select a position\n",
    "expt = 'ND0010'\n",
    "pos = 'Pos0'\n",
    "# point to where the data is\n",
    "root_dir = '/home/nathan/data/kraken/ras'\n",
    "image_path = f'{root_dir}/{expt}/{pos}/{pos}_images'\n",
    "transform_path = f'{root_dir}/{expt}/{pos}/gfp_transform_tensor.npy'\n",
    "tracks_path = f'{root_dir}/{expt}/{pos}/tracks.h5'\n",
    "# lazily load images\n",
    "images = DaskOctopusLiteLoader(image_path, \n",
    "                               transforms = transform_path,\n",
    "                               crop = (1200,1600),\n",
    "                               remove_background = False)\n",
    "images.channels"
   ]
  },
  {
   "cell_type": "code",
   "execution_count": null,
   "id": "6921a651",
   "metadata": {},
   "outputs": [],
   "source": [
    "gfp = images['gfp']\n",
    "rfp = images['rfp']\n",
    "irfp = images['irfp']\n",
    "masks = images['mask']"
   ]
  },
  {
   "cell_type": "code",
   "execution_count": null,
   "id": "a1858262",
   "metadata": {},
   "outputs": [],
   "source": [
    "import numpy as np\n",
    "for i in rfp[1109:1113]:\n",
    "    print(np.mean(i.compute()))"
   ]
  },
  {
   "cell_type": "markdown",
   "id": "5c17659d",
   "metadata": {},
   "source": [
    "### Add tracks"
   ]
  },
  {
   "cell_type": "code",
   "execution_count": null,
   "id": "568a2f65",
   "metadata": {},
   "outputs": [],
   "source": [
    "import btrack\n",
    "from btrack.utils import tracks_to_napari"
   ]
  },
  {
   "cell_type": "markdown",
   "id": "bc41789f",
   "metadata": {},
   "source": [
    "#### iRFP tracks"
   ]
  },
  {
   "cell_type": "code",
   "execution_count": null,
   "id": "0612ea14",
   "metadata": {
    "scrolled": true
   },
   "outputs": [],
   "source": [
    "with btrack.dataio.HDF5FileHandler(tracks_path, \n",
    "                                   'r', obj_type='obj_type_1'\n",
    "                                  ) as h:\n",
    "    irfp_tracks = h.tracks"
   ]
  },
  {
   "cell_type": "code",
   "execution_count": null,
   "id": "2b98d28c",
   "metadata": {},
   "outputs": [],
   "source": [
    "irfp_tracks, irfp_properties, irfp_graph = tracks_to_napari(irfp_tracks, ndim = 2)"
   ]
  },
  {
   "cell_type": "markdown",
   "id": "4b0d99aa",
   "metadata": {},
   "source": [
    "#### RFP tracks"
   ]
  },
  {
   "cell_type": "code",
   "execution_count": null,
   "id": "8be591f3",
   "metadata": {
    "scrolled": true
   },
   "outputs": [],
   "source": [
    "with btrack.dataio.HDF5FileHandler(tracks_path, \n",
    "                                   'r', obj_type='obj_type_2'\n",
    "                                  ) as h:\n",
    "    rfp_tracks = h.tracks"
   ]
  },
  {
   "cell_type": "code",
   "execution_count": null,
   "id": "43a9ba3c",
   "metadata": {},
   "outputs": [],
   "source": [
    "rfp_tracks, rfp_properties, rfp_graph = tracks_to_napari(rfp_tracks, ndim = 2)"
   ]
  },
  {
   "cell_type": "markdown",
   "id": "603b486b",
   "metadata": {},
   "source": [
    "# Launch viewer"
   ]
  },
  {
   "cell_type": "code",
   "execution_count": null,
   "id": "8ffa3640",
   "metadata": {},
   "outputs": [],
   "source": [
    "viewer = napari.Viewer()\n",
    "viewer.add_image(gfp, name=\"gfp\", \n",
    "                 contrast_limits=[0,255],\n",
    "                 blending = 'additive', colormap = 'green')#, is_pyramid=False)\n",
    "viewer.add_image(rfp, name=\"rfp\", \n",
    "                 contrast_limits=[0,55], \n",
    "                 blending = 'additive', colormap = 'magenta')#, is_pyramid=False)\n",
    "viewer.add_image(irfp, name=\"irfp\", \n",
    "                 contrast_limits=[0,255], \n",
    "                 blending = 'additive', colormap = 'cyan')#\n",
    "viewer.add_image(masks, name = 'masks',\n",
    "                contrast_limits=[0,255],\n",
    "               blending = 'additive',)\n",
    "viewer.add_tracks(irfp_tracks)\n",
    "viewer.add_tracks(rfp_tracks)"
   ]
  }
 ],
 "metadata": {
  "kernelspec": {
   "display_name": "CellX",
   "language": "python",
   "name": "cellx"
  },
  "language_info": {
   "codemirror_mode": {
    "name": "ipython",
    "version": 3
   },
   "file_extension": ".py",
   "mimetype": "text/x-python",
   "name": "python",
   "nbconvert_exporter": "python",
   "pygments_lexer": "ipython3",
   "version": "3.9.7"
  }
 },
 "nbformat": 4,
 "nbformat_minor": 5
}
