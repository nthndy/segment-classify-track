{
 "cells": [
  {
   "cell_type": "markdown",
   "id": "1cada0f4",
   "metadata": {},
   "source": [
    "# Phenotype classifcation using CellX \n",
    "\n",
    "This notebook shows how to take segmented time lapse microscopy images and use h2b fluorescence markers to classfiy mitotic state of the cell cycle. \n",
    "\n",
    "The sections of this notebook are as follows:\n",
    "\n",
    "1. Load images\n",
    "2. Localise the objects\n",
    "3. Classify the objects\n",
    "4. Batch process\n",
    "\n",
    "The data used in this notebook is timelapse microscopy data with h2b-gfp/rfp markers that show the spatial extent of the nucleus and it's mitotic state. \n",
    "\n",
    "This notebook uses the dask octopuslite image loader from the CellX/Lowe lab project."
   ]
  },
  {
   "cell_type": "code",
   "execution_count": 1,
   "id": "c311e3db",
   "metadata": {},
   "outputs": [],
   "source": [
    "from octopuslite import DaskOctopusLiteLoader\n",
    "import btrack\n",
    "from tqdm.auto import tqdm\n",
    "import numpy as np\n",
    "from scipy.special import softmax\n",
    "import os\n",
    "import matplotlib.pyplot as plt\n",
    "from skimage.io import imread, imshow\n",
    "from cellx import load_model\n",
    "from cellx.tools.image import InfinitePaddedImage\n",
    "from skimage.transform import resize\n",
    "import glob\n",
    "%matplotlib inline\n",
    "plt.rcParams['figure.figsize'] = [18,8]"
   ]
  },
  {
   "cell_type": "markdown",
   "id": "28a5906f",
   "metadata": {},
   "source": [
    "## 1. Load segmentation images\n",
    "\n",
    "#### *Important:* from this point on you will need to be consistent with the use of cropping and alignment. \n",
    "Using a previously generated alignment transformation will aid greatly in the tracking notebook, which depends on the object localisation performed in this notebook. Cropping your images will ensure that no border effects from the translational shift are seen. "
   ]
  },
  {
   "cell_type": "code",
   "execution_count": 7,
   "id": "67ee9d2e",
   "metadata": {},
   "outputs": [
    {
     "name": "stdout",
     "output_type": "stream",
     "text": [
      "Using cropping: (1200, 1600)\n"
     ]
    }
   ],
   "source": [
    "# load images\n",
    "expt = 'ND0012'\n",
    "pos = 'Pos5'\n",
    "root_dir = '/home/nathan/data/kraken/ras'\n",
    "image_path = f'{root_dir}/{expt}/{pos}/{pos}_images'\n",
    "transform_path = f'{root_dir}/{expt}/{pos}/gfp_transform_tensor.npy'\n",
    "images = DaskOctopusLiteLoader(image_path, \n",
    "                               transforms=transform_path,\n",
    "                               crop=(1200,1600), \n",
    "                               remove_background=False)"
   ]
  },
  {
   "cell_type": "markdown",
   "id": "dfccac2e",
   "metadata": {},
   "source": [
    "## 2. Localise the objects\n",
    "We need to also measure the mean intensity regionprops parameter in order to differentiate object class, for which we need to provide an image to measure. This means we need to provide the segmentation images twice: once to find the centroid and once to measure the pixel intensity. "
   ]
  },
  {
   "cell_type": "code",
   "execution_count": 7,
   "id": "b5f3d937",
   "metadata": {
    "scrolled": true
   },
   "outputs": [
    {
     "name": "stderr",
     "output_type": "stream",
     "text": [
      "[INFO][2022/02/04 10:18:09 AM] Localizing objects from segmentation...\n",
      "[INFO][2022/02/04 10:18:09 AM] Found intensity_image data\n",
      "[INFO][2022/02/04 10:18:09 AM] Calculating weighted centroids using intensity_image\n",
      "[INFO][2022/02/04 10:28:10 AM] Objects are of type: <class 'dict'>\n",
      "[INFO][2022/02/04 10:28:10 AM] ...Found 9566 objects in 1738 frames.\n"
     ]
    }
   ],
   "source": [
    "objects = btrack.utils.segmentation_to_objects(\n",
    "    images['mask'], images['mask'],\n",
    "    properties = ('area', 'max_intensity', ),\n",
    ")"
   ]
  },
  {
   "cell_type": "markdown",
   "id": "4fa49b7b",
   "metadata": {},
   "source": [
    "#### Can also assign measured values from raw image to each segment using `skimage.measure.regionprops` parameters\n",
    "But also need to load the raw images to be measured first. Cannot currently save out `intensity_image` parameter to object file."
   ]
  },
  {
   "cell_type": "code",
   "execution_count": null,
   "id": "a4548905",
   "metadata": {},
   "outputs": [],
   "source": [
    "detailed_objects = btrack.utils.segmentation_to_objects(\n",
    "    images['mask'], \n",
    "    images['gfp'],\n",
    "    properties = ('area', 'mean_intensity', 'intensity_image'), \n",
    ")"
   ]
  },
  {
   "cell_type": "code",
   "execution_count": null,
   "id": "91e2efcf",
   "metadata": {},
   "outputs": [],
   "source": [
    "detailed_objects[0]"
   ]
  },
  {
   "cell_type": "markdown",
   "id": "63775a4c",
   "metadata": {},
   "source": [
    "Example image showing PCNA-iRFP morphology "
   ]
  },
  {
   "cell_type": "code",
   "execution_count": null,
   "id": "03d3a75b",
   "metadata": {},
   "outputs": [],
   "source": [
    "imshow(detailed_objects[0].properties['intensity_image'])"
   ]
  },
  {
   "cell_type": "markdown",
   "id": "08114355",
   "metadata": {},
   "source": [
    "## 2b. Differentiate the objects based on class ID"
   ]
  },
  {
   "cell_type": "code",
   "execution_count": null,
   "id": "583c2fdc",
   "metadata": {},
   "outputs": [],
   "source": [
    "objects_gfp = [obj for obj in objects if obj.properties['max_intensity'] == 1]\n",
    "objects_rfp = [obj for obj in objects if obj.properties['max_intensity'] == 2]"
   ]
  },
  {
   "cell_type": "markdown",
   "id": "cbc05b98",
   "metadata": {},
   "source": [
    "## 3. Classify the objects "
   ]
  },
  {
   "cell_type": "markdown",
   "id": "e1725583",
   "metadata": {},
   "source": [
    "Load model"
   ]
  },
  {
   "cell_type": "code",
   "execution_count": 2,
   "id": "10cd85e0",
   "metadata": {},
   "outputs": [],
   "source": [
    "model = load_model('../models/cellx_classifier_stardist.h5')"
   ]
  },
  {
   "cell_type": "markdown",
   "id": "3bce619f",
   "metadata": {},
   "source": [
    "Define normalisation functions"
   ]
  },
  {
   "cell_type": "code",
   "execution_count": 3,
   "id": "92d135ad",
   "metadata": {},
   "outputs": [],
   "source": [
    "def normalize_channels(x):\n",
    "\n",
    "    for dim in range(x.shape[-1]):\n",
    "        x[..., dim] = normalize(x[..., dim])\n",
    "        \n",
    "    return x\n",
    "\n",
    "def normalize(x):\n",
    "\n",
    "    xf = x.astype(np.float32)\n",
    "    mx = np.mean(xf)\n",
    "    sd = np.max([np.std(xf), 1./np.prod(x.shape)])\n",
    "\n",
    "    return (xf - mx) / sd"
   ]
  },
  {
   "cell_type": "markdown",
   "id": "3bb8428f",
   "metadata": {},
   "source": [
    "Define classifier function"
   ]
  },
  {
   "cell_type": "code",
   "execution_count": 4,
   "id": "41184a4e",
   "metadata": {},
   "outputs": [],
   "source": [
    "def classify_objects(image,  gfp, rfp, objects, obj_type):\n",
    "    \n",
    "    # define stages of cell cycle to classify (dependent on model type)\n",
    "    LABELS = [\"interphase\", \"prometaphase\", \"metaphase\", \"anaphase\", \"apoptosis\"]\n",
    "    \n",
    "    # iterate over frames\n",
    "    for n in tqdm(range(image.shape[0])):\n",
    "        \n",
    "        # only select objects if in frame\n",
    "        _objects = [o for o in objects if o.t == n]\n",
    "        \n",
    "        # empty placeholder arrays\n",
    "        crops = []\n",
    "        to_update = []\n",
    "        \n",
    "        # select h2b channel to aid in classification\n",
    "        fp = gfp if obj_type == 1 else rfp\n",
    "        \n",
    "        # create stack by computing each frame of dask array input\n",
    "        frame = np.stack(\n",
    "            [image[n, ...].compute(), fp[n, ...].compute()], \n",
    "            axis=-1,) \n",
    "        \n",
    "        # create padded image for network\n",
    "        vol = InfinitePaddedImage(frame, mode = 'reflect')\n",
    "        \n",
    "        # iterate over objects \n",
    "        for obj in _objects:\n",
    "            \n",
    "            # create coords for image slice\n",
    "            xs = slice(int(obj.x-40), int(obj.x+40), 1)\n",
    "            ys = slice(int(obj.y-40), int(obj.y+40), 1)\n",
    "            \n",
    "            # crop image\n",
    "            crop = vol[ys, xs, :]\n",
    "            crop = resize(crop, (64, 64), preserve_range=True).astype(np.float32)\n",
    "            \n",
    "            # normalise image\n",
    "            if crop.shape == (64 ,64, 2):\n",
    "                crops.append(normalize_channels(crop))\n",
    "                to_update.append(obj)\n",
    "            else:\n",
    "                print(crop.shape)\n",
    "                \n",
    "        if not crops:\n",
    "            continue\n",
    "            \n",
    "        # use classifcation model to predict\n",
    "        pred = model.predict(np.stack(crops, axis=0))\n",
    "        \n",
    "        # check correct number of predictions\n",
    "        assert pred.shape[0] == len(_objects)\n",
    "        \n",
    "        # assign labels to objects\n",
    "        for idx in range(pred.shape[0]):\n",
    "            obj = _objects[idx]\n",
    "            \n",
    "            # assigning details of prediction\n",
    "            pred_label = np.argmax(pred[idx, ...])\n",
    "            pred_softmax = softmax(pred[idx, ...])\n",
    "            logits = {f\"prob_{k}\": pred_softmax[ki] for ki, k in enumerate(LABELS)}\n",
    "            \n",
    "            # write out\n",
    "            obj.label = pred_label\n",
    "            obj.properties = logits\n",
    "\n",
    "    return objects"
   ]
  },
  {
   "cell_type": "markdown",
   "id": "db8781b4",
   "metadata": {},
   "source": [
    "#### Load raw images for classifier, a colour channel dependent on `obj_type` needed too (i.e. GFP is `obj_type = 1`, RFP is `obj_type = 2`"
   ]
  },
  {
   "cell_type": "code",
   "execution_count": null,
   "id": "657771d0",
   "metadata": {},
   "outputs": [],
   "source": [
    "bf = images['brightfield']\n",
    "gfp = images['gfp']\n",
    "rfp = images['rfp']"
   ]
  },
  {
   "cell_type": "markdown",
   "id": "30835a86",
   "metadata": {},
   "source": [
    "#### Classify objects"
   ]
  },
  {
   "cell_type": "code",
   "execution_count": null,
   "id": "420e84c8",
   "metadata": {},
   "outputs": [],
   "source": [
    "objects_gfp = classify_objects(bf, objects_gfp, obj_type = 1)\n",
    "objects_rfp = classify_objects(bf, objects_rfp, obj_type = 2)"
   ]
  },
  {
   "cell_type": "markdown",
   "id": "c70646be",
   "metadata": {},
   "source": [
    "#### Inspect an example object"
   ]
  },
  {
   "cell_type": "code",
   "execution_count": null,
   "id": "aec4f611",
   "metadata": {},
   "outputs": [],
   "source": [
    "objects_gfp[0]"
   ]
  },
  {
   "cell_type": "markdown",
   "id": "65c5c716",
   "metadata": {},
   "source": [
    "#### Save out classified GFP objects"
   ]
  },
  {
   "cell_type": "code",
   "execution_count": null,
   "id": "796afd43",
   "metadata": {},
   "outputs": [],
   "source": [
    "with btrack.dataio.HDF5FileHandler(\n",
    "    f'{root_dir}/{expt}/{pos}/objects_type_1.h5', 'w', obj_type='obj_type_1',\n",
    ") as hdf:\n",
    "    #hdf.write_segmentation(masks['mask'])\n",
    "    hdf.write_objects(objects_gfp)"
   ]
  },
  {
   "cell_type": "markdown",
   "id": "9fdb0274",
   "metadata": {},
   "source": [
    "#### Save out classified RFP objects"
   ]
  },
  {
   "cell_type": "code",
   "execution_count": null,
   "id": "71de0f83",
   "metadata": {},
   "outputs": [],
   "source": [
    "with btrack.dataio.HDF5FileHandler(\n",
    "    f'{root_dir}/{expt}/{pos}/objects_type_2.h5', 'w', obj_type='obj_type_2',\n",
    ") as hdf:\n",
    "    #hdf.write_segmentation(masks['mask'])\n",
    "    hdf.write_objects(objects_rfp)"
   ]
  },
  {
   "cell_type": "markdown",
   "id": "1b2e10e7",
   "metadata": {},
   "source": [
    "# 4. Batch process\n",
    "Iterate over many experiments and positions (need to ensure you define normalisation and classification functions above first)"
   ]
  },
  {
   "cell_type": "code",
   "execution_count": 39,
   "id": "b1792133",
   "metadata": {
    "scrolled": true
   },
   "outputs": [
    {
     "data": {
      "application/vnd.jupyter.widget-view+json": {
       "model_id": "daa18a0633e844909da3ddc065d86a94",
       "version_major": 2,
       "version_minor": 0
      },
      "text/plain": [
       "  0%|          | 0/1 [00:00<?, ?it/s]"
      ]
     },
     "metadata": {},
     "output_type": "display_data"
    },
    {
     "data": {
      "application/vnd.jupyter.widget-view+json": {
       "model_id": "257c2dd32ef644ceb6c1d48c935976cb",
       "version_major": 2,
       "version_minor": 0
      },
      "text/plain": [
       "  0%|          | 0/12 [00:00<?, ?it/s]"
      ]
     },
     "metadata": {},
     "output_type": "display_data"
    },
    {
     "name": "stdout",
     "output_type": "stream",
     "text": [
      "['/home/nathan/data/kraken/ras/ND0012/Pos0/untrans_no_bg_objects_type_2.h5', '/home/nathan/data/kraken/ras/ND0012/Pos0/untrans_no_bg_objects_type_1.h5'] file found, skipping ND0012/Pos0\n",
      "['/home/nathan/data/kraken/ras/ND0012/Pos1/untrans_no_bg_objects_type_2.h5', '/home/nathan/data/kraken/ras/ND0012/Pos1/untrans_no_bg_objects_type_1.h5'] file found, skipping ND0012/Pos1\n",
      "ND0012 Pos2 enough masks\n",
      "Starting ND0012/Pos2\n"
     ]
    },
    {
     "name": "stderr",
     "output_type": "stream",
     "text": [
      "[INFO][2022/02/23 12:22:18 PM] Localizing objects from segmentation...\n",
      "[INFO][2022/02/23 12:26:20 PM] Objects are of type: <class 'dict'>\n",
      "[INFO][2022/02/23 12:26:23 PM] ...Found 478183 objects in 1738 frames.\n"
     ]
    },
    {
     "name": "stdout",
     "output_type": "stream",
     "text": [
      "Classifying objects\n"
     ]
    },
    {
     "data": {
      "application/vnd.jupyter.widget-view+json": {
       "model_id": "8a99e48510664898a332c50173bd96bb",
       "version_major": 2,
       "version_minor": 0
      },
      "text/plain": [
       "  0%|          | 0/1738 [00:00<?, ?it/s]"
      ]
     },
     "metadata": {},
     "output_type": "display_data"
    },
    {
     "data": {
      "application/vnd.jupyter.widget-view+json": {
       "model_id": "90db83683ec4448e9f8bb3025f0f422c",
       "version_major": 2,
       "version_minor": 0
      },
      "text/plain": [
       "  0%|          | 0/1738 [00:00<?, ?it/s]"
      ]
     },
     "metadata": {},
     "output_type": "display_data"
    },
    {
     "name": "stderr",
     "output_type": "stream",
     "text": [
      "[INFO][2022/02/23 01:06:53 PM] Opening HDF file: /home/nathan/data/kraken/ras/ND0012/Pos2/untrans_objects_type_1.h5...\n",
      "[INFO][2022/02/23 01:06:57 PM] Writing objects/obj_type_1\n",
      "[INFO][2022/02/23 01:06:57 PM] Writing labels/obj_type_1\n",
      "[INFO][2022/02/23 01:06:57 PM] Loading objects/obj_type_1 (402085, 5) (402085 filtered: None)\n",
      "[INFO][2022/02/23 01:07:03 PM] Writing properties/obj_type_1/area (402085,)\n",
      "[INFO][2022/02/23 01:07:03 PM] Writing properties/obj_type_1/class id (402085,)\n",
      "[INFO][2022/02/23 01:07:03 PM] Writing properties/obj_type_1/prob_interphase (402085,)\n",
      "[INFO][2022/02/23 01:07:03 PM] Writing properties/obj_type_1/prob_prometaphase (402085,)\n",
      "[INFO][2022/02/23 01:07:03 PM] Writing properties/obj_type_1/prob_metaphase (402085,)\n",
      "[INFO][2022/02/23 01:07:03 PM] Writing properties/obj_type_1/prob_anaphase (402085,)\n",
      "[INFO][2022/02/23 01:07:03 PM] Writing properties/obj_type_1/prob_apoptosis (402085,)\n",
      "[INFO][2022/02/23 01:07:03 PM] Closing HDF file: /home/nathan/data/kraken/ras/ND0012/Pos2/untrans_objects_type_1.h5\n",
      "[INFO][2022/02/23 01:07:03 PM] Opening HDF file: /home/nathan/data/kraken/ras/ND0012/Pos2/untrans_objects_type_2.h5...\n",
      "[INFO][2022/02/23 01:07:04 PM] Writing objects/obj_type_2\n",
      "[INFO][2022/02/23 01:07:04 PM] Writing labels/obj_type_2\n",
      "[INFO][2022/02/23 01:07:04 PM] Loading objects/obj_type_2 (76098, 5) (76098 filtered: None)\n",
      "[INFO][2022/02/23 01:07:05 PM] Writing properties/obj_type_2/area (76098,)\n",
      "[INFO][2022/02/23 01:07:05 PM] Writing properties/obj_type_2/class id (76098,)\n",
      "[INFO][2022/02/23 01:07:05 PM] Writing properties/obj_type_2/prob_interphase (76098,)\n",
      "[INFO][2022/02/23 01:07:05 PM] Writing properties/obj_type_2/prob_prometaphase (76098,)\n",
      "[INFO][2022/02/23 01:07:05 PM] Writing properties/obj_type_2/prob_metaphase (76098,)\n",
      "[INFO][2022/02/23 01:07:05 PM] Writing properties/obj_type_2/prob_anaphase (76098,)\n",
      "[INFO][2022/02/23 01:07:05 PM] Writing properties/obj_type_2/prob_apoptosis (76098,)\n",
      "[INFO][2022/02/23 01:07:05 PM] Closing HDF file: /home/nathan/data/kraken/ras/ND0012/Pos2/untrans_objects_type_2.h5\n"
     ]
    },
    {
     "name": "stdout",
     "output_type": "stream",
     "text": [
      "['/home/nathan/data/kraken/ras/ND0012/Pos3/untrans_no_bg_objects_type_2.h5', '/home/nathan/data/kraken/ras/ND0012/Pos3/untrans_no_bg_objects_type_1.h5'] file found, skipping ND0012/Pos3\n",
      "ND0012 Pos4 enough masks\n",
      "Starting ND0012/Pos4\n"
     ]
    },
    {
     "name": "stderr",
     "output_type": "stream",
     "text": [
      "[INFO][2022/02/23 01:07:07 PM] Localizing objects from segmentation...\n",
      "[INFO][2022/02/23 01:11:15 PM] Objects are of type: <class 'dict'>\n",
      "[INFO][2022/02/23 01:11:18 PM] ...Found 463361 objects in 1742 frames.\n"
     ]
    },
    {
     "name": "stdout",
     "output_type": "stream",
     "text": [
      "Classifying objects\n"
     ]
    },
    {
     "data": {
      "application/vnd.jupyter.widget-view+json": {
       "model_id": "808a152018e84401ba463c091fd84f62",
       "version_major": 2,
       "version_minor": 0
      },
      "text/plain": [
       "  0%|          | 0/1742 [00:00<?, ?it/s]"
      ]
     },
     "metadata": {},
     "output_type": "display_data"
    },
    {
     "data": {
      "application/vnd.jupyter.widget-view+json": {
       "model_id": "7efc8646d57049498cde864f704f5012",
       "version_major": 2,
       "version_minor": 0
      },
      "text/plain": [
       "  0%|          | 0/1742 [00:00<?, ?it/s]"
      ]
     },
     "metadata": {},
     "output_type": "display_data"
    },
    {
     "name": "stderr",
     "output_type": "stream",
     "text": [
      "[INFO][2022/02/23 01:46:38 PM] Opening HDF file: /home/nathan/data/kraken/ras/ND0012/Pos4/untrans_objects_type_1.h5...\n",
      "[INFO][2022/02/23 01:46:41 PM] Writing objects/obj_type_1\n",
      "[INFO][2022/02/23 01:46:41 PM] Writing labels/obj_type_1\n",
      "[INFO][2022/02/23 01:46:41 PM] Loading objects/obj_type_1 (353635, 5) (353635 filtered: None)\n",
      "[INFO][2022/02/23 01:46:45 PM] Writing properties/obj_type_1/area (353635,)\n",
      "[INFO][2022/02/23 01:46:45 PM] Writing properties/obj_type_1/class id (353635,)\n",
      "[INFO][2022/02/23 01:46:45 PM] Writing properties/obj_type_1/prob_interphase (353635,)\n",
      "[INFO][2022/02/23 01:46:45 PM] Writing properties/obj_type_1/prob_prometaphase (353635,)\n",
      "[INFO][2022/02/23 01:46:45 PM] Writing properties/obj_type_1/prob_metaphase (353635,)\n",
      "[INFO][2022/02/23 01:46:45 PM] Writing properties/obj_type_1/prob_anaphase (353635,)\n",
      "[INFO][2022/02/23 01:46:45 PM] Writing properties/obj_type_1/prob_apoptosis (353635,)\n",
      "[INFO][2022/02/23 01:46:45 PM] Closing HDF file: /home/nathan/data/kraken/ras/ND0012/Pos4/untrans_objects_type_1.h5\n",
      "[INFO][2022/02/23 01:46:45 PM] Opening HDF file: /home/nathan/data/kraken/ras/ND0012/Pos4/untrans_objects_type_2.h5...\n",
      "[INFO][2022/02/23 01:46:46 PM] Writing objects/obj_type_2\n",
      "[INFO][2022/02/23 01:46:46 PM] Writing labels/obj_type_2\n",
      "[INFO][2022/02/23 01:46:46 PM] Loading objects/obj_type_2 (109726, 5) (109726 filtered: None)\n",
      "[INFO][2022/02/23 01:46:48 PM] Writing properties/obj_type_2/area (109726,)\n",
      "[INFO][2022/02/23 01:46:48 PM] Writing properties/obj_type_2/class id (109726,)\n",
      "[INFO][2022/02/23 01:46:48 PM] Writing properties/obj_type_2/prob_interphase (109726,)\n",
      "[INFO][2022/02/23 01:46:48 PM] Writing properties/obj_type_2/prob_prometaphase (109726,)\n",
      "[INFO][2022/02/23 01:46:48 PM] Writing properties/obj_type_2/prob_metaphase (109726,)\n",
      "[INFO][2022/02/23 01:46:48 PM] Writing properties/obj_type_2/prob_anaphase (109726,)\n",
      "[INFO][2022/02/23 01:46:48 PM] Writing properties/obj_type_2/prob_apoptosis (109726,)\n",
      "[INFO][2022/02/23 01:46:48 PM] Closing HDF file: /home/nathan/data/kraken/ras/ND0012/Pos4/untrans_objects_type_2.h5\n"
     ]
    },
    {
     "name": "stdout",
     "output_type": "stream",
     "text": [
      "['/home/nathan/data/kraken/ras/ND0012/Pos5/untrans_no_bg_objects_type_2.h5', '/home/nathan/data/kraken/ras/ND0012/Pos5/untrans_no_bg_objects_type_1.h5'] file found, skipping ND0012/Pos5\n",
      "ND0012 Pos6 enough masks\n",
      "Starting ND0012/Pos6\n"
     ]
    },
    {
     "name": "stderr",
     "output_type": "stream",
     "text": [
      "[INFO][2022/02/23 01:46:50 PM] Localizing objects from segmentation...\n",
      "[INFO][2022/02/23 01:50:01 PM] Objects are of type: <class 'dict'>\n",
      "[INFO][2022/02/23 01:50:03 PM] ...Found 171930 objects in 1744 frames.\n"
     ]
    },
    {
     "name": "stdout",
     "output_type": "stream",
     "text": [
      "Classifying objects\n"
     ]
    },
    {
     "data": {
      "application/vnd.jupyter.widget-view+json": {
       "model_id": "9950540cf3aa44e298ad7e8a84941262",
       "version_major": 2,
       "version_minor": 0
      },
      "text/plain": [
       "  0%|          | 0/1744 [00:00<?, ?it/s]"
      ]
     },
     "metadata": {},
     "output_type": "display_data"
    },
    {
     "data": {
      "application/vnd.jupyter.widget-view+json": {
       "model_id": "547778fc910541769f59dd155c8a4a65",
       "version_major": 2,
       "version_minor": 0
      },
      "text/plain": [
       "  0%|          | 0/1744 [00:00<?, ?it/s]"
      ]
     },
     "metadata": {},
     "output_type": "display_data"
    },
    {
     "name": "stderr",
     "output_type": "stream",
     "text": [
      "[INFO][2022/02/23 02:12:15 PM] Opening HDF file: /home/nathan/data/kraken/ras/ND0012/Pos6/untrans_objects_type_1.h5...\n",
      "[INFO][2022/02/23 02:12:17 PM] Writing objects/obj_type_1\n",
      "[INFO][2022/02/23 02:12:17 PM] Writing labels/obj_type_1\n",
      "[INFO][2022/02/23 02:12:17 PM] Loading objects/obj_type_1 (148023, 5) (148023 filtered: None)\n",
      "[INFO][2022/02/23 02:12:19 PM] Writing properties/obj_type_1/area (148023,)\n",
      "[INFO][2022/02/23 02:12:19 PM] Writing properties/obj_type_1/class id (148023,)\n",
      "[INFO][2022/02/23 02:12:19 PM] Writing properties/obj_type_1/prob_interphase (148023,)\n",
      "[INFO][2022/02/23 02:12:19 PM] Writing properties/obj_type_1/prob_prometaphase (148023,)\n",
      "[INFO][2022/02/23 02:12:19 PM] Writing properties/obj_type_1/prob_metaphase (148023,)\n",
      "[INFO][2022/02/23 02:12:19 PM] Writing properties/obj_type_1/prob_anaphase (148023,)\n",
      "[INFO][2022/02/23 02:12:19 PM] Writing properties/obj_type_1/prob_apoptosis (148023,)\n",
      "[INFO][2022/02/23 02:12:19 PM] Closing HDF file: /home/nathan/data/kraken/ras/ND0012/Pos6/untrans_objects_type_1.h5\n",
      "[INFO][2022/02/23 02:12:19 PM] Opening HDF file: /home/nathan/data/kraken/ras/ND0012/Pos6/untrans_objects_type_2.h5...\n",
      "[INFO][2022/02/23 02:12:19 PM] Writing objects/obj_type_2\n",
      "[INFO][2022/02/23 02:12:19 PM] Writing labels/obj_type_2\n",
      "[INFO][2022/02/23 02:12:19 PM] Loading objects/obj_type_2 (23907, 5) (23907 filtered: None)\n",
      "[INFO][2022/02/23 02:12:19 PM] Writing properties/obj_type_2/area (23907,)\n",
      "[INFO][2022/02/23 02:12:19 PM] Writing properties/obj_type_2/class id (23907,)\n",
      "[INFO][2022/02/23 02:12:19 PM] Writing properties/obj_type_2/prob_interphase (23907,)\n",
      "[INFO][2022/02/23 02:12:19 PM] Writing properties/obj_type_2/prob_prometaphase (23907,)\n",
      "[INFO][2022/02/23 02:12:19 PM] Writing properties/obj_type_2/prob_metaphase (23907,)\n",
      "[INFO][2022/02/23 02:12:19 PM] Writing properties/obj_type_2/prob_anaphase (23907,)\n",
      "[INFO][2022/02/23 02:12:19 PM] Writing properties/obj_type_2/prob_apoptosis (23907,)\n",
      "[INFO][2022/02/23 02:12:19 PM] Closing HDF file: /home/nathan/data/kraken/ras/ND0012/Pos6/untrans_objects_type_2.h5\n"
     ]
    },
    {
     "name": "stdout",
     "output_type": "stream",
     "text": [
      "ND0012 Pos7 enough masks\n",
      "Starting ND0012/Pos7\n"
     ]
    },
    {
     "name": "stderr",
     "output_type": "stream",
     "text": [
      "[INFO][2022/02/23 02:12:21 PM] Localizing objects from segmentation...\n",
      "[INFO][2022/02/23 02:15:45 PM] Objects are of type: <class 'dict'>\n",
      "[INFO][2022/02/23 02:15:46 PM] ...Found 161508 objects in 1741 frames.\n"
     ]
    },
    {
     "name": "stdout",
     "output_type": "stream",
     "text": [
      "Classifying objects\n"
     ]
    },
    {
     "data": {
      "application/vnd.jupyter.widget-view+json": {
       "model_id": "1149c12aa1e7449cb706c16d919c56e0",
       "version_major": 2,
       "version_minor": 0
      },
      "text/plain": [
       "  0%|          | 0/1741 [00:00<?, ?it/s]"
      ]
     },
     "metadata": {},
     "output_type": "display_data"
    },
    {
     "data": {
      "application/vnd.jupyter.widget-view+json": {
       "model_id": "7391def081a14938ba2be2f9d5be3a6b",
       "version_major": 2,
       "version_minor": 0
      },
      "text/plain": [
       "  0%|          | 0/1741 [00:00<?, ?it/s]"
      ]
     },
     "metadata": {},
     "output_type": "display_data"
    },
    {
     "name": "stderr",
     "output_type": "stream",
     "text": [
      "[INFO][2022/02/23 02:36:45 PM] Opening HDF file: /home/nathan/data/kraken/ras/ND0012/Pos7/untrans_objects_type_1.h5...\n",
      "[INFO][2022/02/23 02:36:46 PM] Writing objects/obj_type_1\n",
      "[INFO][2022/02/23 02:36:46 PM] Writing labels/obj_type_1\n",
      "[INFO][2022/02/23 02:36:46 PM] Loading objects/obj_type_1 (140437, 5) (140437 filtered: None)\n",
      "[INFO][2022/02/23 02:36:48 PM] Writing properties/obj_type_1/area (140437,)\n",
      "[INFO][2022/02/23 02:36:48 PM] Writing properties/obj_type_1/class id (140437,)\n",
      "[INFO][2022/02/23 02:36:48 PM] Writing properties/obj_type_1/prob_interphase (140437,)\n",
      "[INFO][2022/02/23 02:36:48 PM] Writing properties/obj_type_1/prob_prometaphase (140437,)\n",
      "[INFO][2022/02/23 02:36:48 PM] Writing properties/obj_type_1/prob_metaphase (140437,)\n",
      "[INFO][2022/02/23 02:36:48 PM] Writing properties/obj_type_1/prob_anaphase (140437,)\n",
      "[INFO][2022/02/23 02:36:48 PM] Writing properties/obj_type_1/prob_apoptosis (140437,)\n",
      "[INFO][2022/02/23 02:36:48 PM] Closing HDF file: /home/nathan/data/kraken/ras/ND0012/Pos7/untrans_objects_type_1.h5\n",
      "[INFO][2022/02/23 02:36:48 PM] Opening HDF file: /home/nathan/data/kraken/ras/ND0012/Pos7/untrans_objects_type_2.h5...\n",
      "[INFO][2022/02/23 02:36:48 PM] Writing objects/obj_type_2\n",
      "[INFO][2022/02/23 02:36:48 PM] Writing labels/obj_type_2\n",
      "[INFO][2022/02/23 02:36:48 PM] Loading objects/obj_type_2 (21071, 5) (21071 filtered: None)\n",
      "[INFO][2022/02/23 02:36:48 PM] Writing properties/obj_type_2/area (21071,)\n",
      "[INFO][2022/02/23 02:36:48 PM] Writing properties/obj_type_2/class id (21071,)\n",
      "[INFO][2022/02/23 02:36:48 PM] Writing properties/obj_type_2/prob_interphase (21071,)\n",
      "[INFO][2022/02/23 02:36:48 PM] Writing properties/obj_type_2/prob_prometaphase (21071,)\n",
      "[INFO][2022/02/23 02:36:49 PM] Writing properties/obj_type_2/prob_metaphase (21071,)\n",
      "[INFO][2022/02/23 02:36:49 PM] Writing properties/obj_type_2/prob_anaphase (21071,)\n",
      "[INFO][2022/02/23 02:36:49 PM] Writing properties/obj_type_2/prob_apoptosis (21071,)\n",
      "[INFO][2022/02/23 02:36:49 PM] Closing HDF file: /home/nathan/data/kraken/ras/ND0012/Pos7/untrans_objects_type_2.h5\n"
     ]
    },
    {
     "name": "stdout",
     "output_type": "stream",
     "text": [
      "['/home/nathan/data/kraken/ras/ND0012/Pos8/untrans_no_bg_objects_type_2.h5', '/home/nathan/data/kraken/ras/ND0012/Pos8/untrans_no_bg_objects_type_1.h5'] file found, skipping ND0012/Pos8\n",
      "ND0012 Pos9 enough masks\n",
      "Starting ND0012/Pos9\n"
     ]
    },
    {
     "name": "stderr",
     "output_type": "stream",
     "text": [
      "[INFO][2022/02/23 02:36:51 PM] Localizing objects from segmentation...\n",
      "[INFO][2022/02/23 02:41:35 PM] Objects are of type: <class 'dict'>\n",
      "[INFO][2022/02/23 02:41:41 PM] ...Found 679446 objects in 1740 frames.\n"
     ]
    },
    {
     "name": "stdout",
     "output_type": "stream",
     "text": [
      "Classifying objects\n"
     ]
    },
    {
     "data": {
      "application/vnd.jupyter.widget-view+json": {
       "model_id": "8fa0b883b70f42adb2c8add99913ff18",
       "version_major": 2,
       "version_minor": 0
      },
      "text/plain": [
       "  0%|          | 0/1740 [00:00<?, ?it/s]"
      ]
     },
     "metadata": {},
     "output_type": "display_data"
    },
    {
     "data": {
      "application/vnd.jupyter.widget-view+json": {
       "model_id": "8a6342ad622a47f1b69ea939097a33d7",
       "version_major": 2,
       "version_minor": 0
      },
      "text/plain": [
       "  0%|          | 0/1740 [00:00<?, ?it/s]"
      ]
     },
     "metadata": {},
     "output_type": "display_data"
    },
    {
     "name": "stderr",
     "output_type": "stream",
     "text": [
      "[INFO][2022/02/23 03:28:57 PM] Opening HDF file: /home/nathan/data/kraken/ras/ND0012/Pos9/untrans_objects_type_1.h5...\n",
      "[INFO][2022/02/23 03:29:01 PM] Writing objects/obj_type_1\n",
      "[INFO][2022/02/23 03:29:01 PM] Writing labels/obj_type_1\n",
      "[INFO][2022/02/23 03:29:01 PM] Loading objects/obj_type_1 (499755, 5) (499755 filtered: None)\n",
      "[INFO][2022/02/23 03:29:07 PM] Writing properties/obj_type_1/area (499755,)\n",
      "[INFO][2022/02/23 03:29:07 PM] Writing properties/obj_type_1/class id (499755,)\n",
      "[INFO][2022/02/23 03:29:07 PM] Writing properties/obj_type_1/prob_interphase (499755,)\n",
      "[INFO][2022/02/23 03:29:08 PM] Writing properties/obj_type_1/prob_prometaphase (499755,)\n",
      "[INFO][2022/02/23 03:29:08 PM] Writing properties/obj_type_1/prob_metaphase (499755,)\n",
      "[INFO][2022/02/23 03:29:08 PM] Writing properties/obj_type_1/prob_anaphase (499755,)\n",
      "[INFO][2022/02/23 03:29:08 PM] Writing properties/obj_type_1/prob_apoptosis (499755,)\n",
      "[INFO][2022/02/23 03:29:08 PM] Closing HDF file: /home/nathan/data/kraken/ras/ND0012/Pos9/untrans_objects_type_1.h5\n",
      "[INFO][2022/02/23 03:29:08 PM] Opening HDF file: /home/nathan/data/kraken/ras/ND0012/Pos9/untrans_objects_type_2.h5...\n",
      "[INFO][2022/02/23 03:29:09 PM] Writing objects/obj_type_2\n",
      "[INFO][2022/02/23 03:29:09 PM] Writing labels/obj_type_2\n",
      "[INFO][2022/02/23 03:29:09 PM] Loading objects/obj_type_2 (179691, 5) (179691 filtered: None)\n",
      "[INFO][2022/02/23 03:29:11 PM] Writing properties/obj_type_2/area (179691,)\n",
      "[INFO][2022/02/23 03:29:11 PM] Writing properties/obj_type_2/class id (179691,)\n",
      "[INFO][2022/02/23 03:29:11 PM] Writing properties/obj_type_2/prob_interphase (179691,)\n",
      "[INFO][2022/02/23 03:29:11 PM] Writing properties/obj_type_2/prob_prometaphase (179691,)\n",
      "[INFO][2022/02/23 03:29:11 PM] Writing properties/obj_type_2/prob_metaphase (179691,)\n",
      "[INFO][2022/02/23 03:29:11 PM] Writing properties/obj_type_2/prob_anaphase (179691,)\n",
      "[INFO][2022/02/23 03:29:11 PM] Writing properties/obj_type_2/prob_apoptosis (179691,)\n",
      "[INFO][2022/02/23 03:29:11 PM] Closing HDF file: /home/nathan/data/kraken/ras/ND0012/Pos9/untrans_objects_type_2.h5\n"
     ]
    },
    {
     "name": "stdout",
     "output_type": "stream",
     "text": [
      "['/home/nathan/data/kraken/ras/ND0012/Pos10/untrans_no_bg_objects_type_2.h5', '/home/nathan/data/kraken/ras/ND0012/Pos10/untrans_no_bg_objects_type_1.h5'] file found, skipping ND0012/Pos10\n",
      "['/home/nathan/data/kraken/ras/ND0012/Pos11/untrans_no_bg_objects_type_2.h5', '/home/nathan/data/kraken/ras/ND0012/Pos11/untrans_no_bg_objects_type_1.h5'] file found, skipping ND0012/Pos11\n"
     ]
    },
    {
     "data": {
      "application/vnd.jupyter.widget-view+json": {
       "model_id": "9f8cf532c78b42e39d10aa7a1f83bab2",
       "version_major": 2,
       "version_minor": 0
      },
      "text/plain": [
       "  0%|          | 0/1 [00:00<?, ?it/s]"
      ]
     },
     "metadata": {},
     "output_type": "display_data"
    },
    {
     "data": {
      "application/vnd.jupyter.widget-view+json": {
       "model_id": "217f598b9a144aae83cb2049e4a402c5",
       "version_major": 2,
       "version_minor": 0
      },
      "text/plain": [
       "  0%|          | 0/12 [00:00<?, ?it/s]"
      ]
     },
     "metadata": {},
     "output_type": "display_data"
    },
    {
     "name": "stdout",
     "output_type": "stream",
     "text": [
      "['/home/nathan/data/kraken/ras/ND0012/Pos0/untrans_no_bg_objects_type_2.h5', '/home/nathan/data/kraken/ras/ND0012/Pos0/untrans_no_bg_objects_type_1.h5'] file found, skipping ND0012/Pos0\n",
      "['/home/nathan/data/kraken/ras/ND0012/Pos1/untrans_no_bg_objects_type_2.h5', '/home/nathan/data/kraken/ras/ND0012/Pos1/untrans_no_bg_objects_type_1.h5'] file found, skipping ND0012/Pos1\n",
      "['/home/nathan/data/kraken/ras/ND0012/Pos2/untrans_no_bg_objects_type_2.h5', '/home/nathan/data/kraken/ras/ND0012/Pos2/untrans_no_bg_objects_type_1.h5'] file found, skipping ND0012/Pos2\n",
      "['/home/nathan/data/kraken/ras/ND0012/Pos3/untrans_no_bg_objects_type_2.h5', '/home/nathan/data/kraken/ras/ND0012/Pos3/untrans_no_bg_objects_type_1.h5'] file found, skipping ND0012/Pos3\n",
      "ND0012 Pos4 enough masks\n",
      "Starting ND0012/Pos4\n"
     ]
    },
    {
     "name": "stderr",
     "output_type": "stream",
     "text": [
      "[INFO][2022/02/23 03:29:14 PM] Localizing objects from segmentation...\n",
      "[INFO][2022/02/23 03:33:03 PM] Objects are of type: <class 'dict'>\n",
      "[INFO][2022/02/23 03:33:05 PM] ...Found 463361 objects in 1742 frames.\n"
     ]
    },
    {
     "name": "stdout",
     "output_type": "stream",
     "text": [
      "Classifying objects\n"
     ]
    },
    {
     "data": {
      "application/vnd.jupyter.widget-view+json": {
       "model_id": "6df0f098cc1049dbb5692a98d1d8f2fc",
       "version_major": 2,
       "version_minor": 0
      },
      "text/plain": [
       "  0%|          | 0/1742 [00:00<?, ?it/s]"
      ]
     },
     "metadata": {},
     "output_type": "display_data"
    },
    {
     "data": {
      "application/vnd.jupyter.widget-view+json": {
       "model_id": "dd47b28236b24254a0e27b8e18b829fb",
       "version_major": 2,
       "version_minor": 0
      },
      "text/plain": [
       "  0%|          | 0/1742 [00:00<?, ?it/s]"
      ]
     },
     "metadata": {},
     "output_type": "display_data"
    },
    {
     "name": "stderr",
     "output_type": "stream",
     "text": [
      "[INFO][2022/02/23 04:07:19 PM] Opening HDF file: /home/nathan/data/kraken/ras/ND0012/Pos4/untrans_objects_type_1.h5...\n",
      "[INFO][2022/02/23 04:07:22 PM] Writing objects/obj_type_1\n",
      "[INFO][2022/02/23 04:07:22 PM] Writing labels/obj_type_1\n",
      "[INFO][2022/02/23 04:07:22 PM] Loading objects/obj_type_1 (353635, 5) (353635 filtered: None)\n",
      "[INFO][2022/02/23 04:07:26 PM] Writing properties/obj_type_1/area (353635,)\n",
      "[INFO][2022/02/23 04:07:26 PM] Writing properties/obj_type_1/class id (353635,)\n",
      "[INFO][2022/02/23 04:07:26 PM] Writing properties/obj_type_1/prob_interphase (353635,)\n",
      "[INFO][2022/02/23 04:07:26 PM] Writing properties/obj_type_1/prob_prometaphase (353635,)\n",
      "[INFO][2022/02/23 04:07:26 PM] Writing properties/obj_type_1/prob_metaphase (353635,)\n",
      "[INFO][2022/02/23 04:07:27 PM] Writing properties/obj_type_1/prob_anaphase (353635,)\n",
      "[INFO][2022/02/23 04:07:27 PM] Writing properties/obj_type_1/prob_apoptosis (353635,)\n",
      "[INFO][2022/02/23 04:07:27 PM] Closing HDF file: /home/nathan/data/kraken/ras/ND0012/Pos4/untrans_objects_type_1.h5\n",
      "[INFO][2022/02/23 04:07:27 PM] Opening HDF file: /home/nathan/data/kraken/ras/ND0012/Pos4/untrans_objects_type_2.h5...\n",
      "[INFO][2022/02/23 04:07:28 PM] Writing objects/obj_type_2\n",
      "[INFO][2022/02/23 04:07:28 PM] Writing labels/obj_type_2\n",
      "[INFO][2022/02/23 04:07:28 PM] Loading objects/obj_type_2 (109726, 5) (109726 filtered: None)\n",
      "[INFO][2022/02/23 04:07:29 PM] Writing properties/obj_type_2/area (109726,)\n",
      "[INFO][2022/02/23 04:07:29 PM] Writing properties/obj_type_2/class id (109726,)\n",
      "[INFO][2022/02/23 04:07:29 PM] Writing properties/obj_type_2/prob_interphase (109726,)\n",
      "[INFO][2022/02/23 04:07:29 PM] Writing properties/obj_type_2/prob_prometaphase (109726,)\n",
      "[INFO][2022/02/23 04:07:29 PM] Writing properties/obj_type_2/prob_metaphase (109726,)\n",
      "[INFO][2022/02/23 04:07:29 PM] Writing properties/obj_type_2/prob_anaphase (109726,)\n",
      "[INFO][2022/02/23 04:07:29 PM] Writing properties/obj_type_2/prob_apoptosis (109726,)\n",
      "[INFO][2022/02/23 04:07:29 PM] Closing HDF file: /home/nathan/data/kraken/ras/ND0012/Pos4/untrans_objects_type_2.h5\n"
     ]
    },
    {
     "name": "stdout",
     "output_type": "stream",
     "text": [
      "['/home/nathan/data/kraken/ras/ND0012/Pos5/untrans_no_bg_objects_type_2.h5', '/home/nathan/data/kraken/ras/ND0012/Pos5/untrans_no_bg_objects_type_1.h5'] file found, skipping ND0012/Pos5\n",
      "['/home/nathan/data/kraken/ras/ND0012/Pos6/untrans_no_bg_objects_type_2.h5', '/home/nathan/data/kraken/ras/ND0012/Pos6/untrans_no_bg_objects_type_1.h5'] file found, skipping ND0012/Pos6\n",
      "['/home/nathan/data/kraken/ras/ND0012/Pos7/untrans_no_bg_objects_type_2.h5', '/home/nathan/data/kraken/ras/ND0012/Pos7/untrans_no_bg_objects_type_1.h5'] file found, skipping ND0012/Pos7\n",
      "['/home/nathan/data/kraken/ras/ND0012/Pos8/untrans_no_bg_objects_type_2.h5', '/home/nathan/data/kraken/ras/ND0012/Pos8/untrans_no_bg_objects_type_1.h5'] file found, skipping ND0012/Pos8\n",
      "ND0012 Pos9 enough masks\n",
      "Starting ND0012/Pos9\n"
     ]
    },
    {
     "name": "stderr",
     "output_type": "stream",
     "text": [
      "[INFO][2022/02/23 04:07:31 PM] Localizing objects from segmentation...\n",
      "[INFO][2022/02/23 04:12:14 PM] Objects are of type: <class 'dict'>\n",
      "[INFO][2022/02/23 04:12:19 PM] ...Found 679446 objects in 1740 frames.\n"
     ]
    },
    {
     "name": "stdout",
     "output_type": "stream",
     "text": [
      "Classifying objects\n"
     ]
    },
    {
     "data": {
      "application/vnd.jupyter.widget-view+json": {
       "model_id": "7afb19abe29d4ff083e4d314c128bea7",
       "version_major": 2,
       "version_minor": 0
      },
      "text/plain": [
       "  0%|          | 0/1740 [00:00<?, ?it/s]"
      ]
     },
     "metadata": {},
     "output_type": "display_data"
    },
    {
     "data": {
      "application/vnd.jupyter.widget-view+json": {
       "model_id": "8c563aa00a944978b3f497354fe0935e",
       "version_major": 2,
       "version_minor": 0
      },
      "text/plain": [
       "  0%|          | 0/1740 [00:00<?, ?it/s]"
      ]
     },
     "metadata": {},
     "output_type": "display_data"
    },
    {
     "name": "stderr",
     "output_type": "stream",
     "text": [
      "[INFO][2022/02/23 04:57:32 PM] Opening HDF file: /home/nathan/data/kraken/ras/ND0012/Pos9/untrans_objects_type_1.h5...\n",
      "[INFO][2022/02/23 04:57:36 PM] Writing objects/obj_type_1\n",
      "[INFO][2022/02/23 04:57:36 PM] Writing labels/obj_type_1\n",
      "[INFO][2022/02/23 04:57:36 PM] Loading objects/obj_type_1 (499755, 5) (499755 filtered: None)\n",
      "[INFO][2022/02/23 04:57:41 PM] Writing properties/obj_type_1/area (499755,)\n",
      "[INFO][2022/02/23 04:57:41 PM] Writing properties/obj_type_1/class id (499755,)\n",
      "[INFO][2022/02/23 04:57:41 PM] Writing properties/obj_type_1/prob_interphase (499755,)\n",
      "[INFO][2022/02/23 04:57:41 PM] Writing properties/obj_type_1/prob_prometaphase (499755,)\n",
      "[INFO][2022/02/23 04:57:41 PM] Writing properties/obj_type_1/prob_metaphase (499755,)\n",
      "[INFO][2022/02/23 04:57:41 PM] Writing properties/obj_type_1/prob_anaphase (499755,)\n",
      "[INFO][2022/02/23 04:57:41 PM] Writing properties/obj_type_1/prob_apoptosis (499755,)\n",
      "[INFO][2022/02/23 04:57:41 PM] Closing HDF file: /home/nathan/data/kraken/ras/ND0012/Pos9/untrans_objects_type_1.h5\n",
      "[INFO][2022/02/23 04:57:42 PM] Opening HDF file: /home/nathan/data/kraken/ras/ND0012/Pos9/untrans_objects_type_2.h5...\n",
      "[INFO][2022/02/23 04:57:43 PM] Writing objects/obj_type_2\n",
      "[INFO][2022/02/23 04:57:43 PM] Writing labels/obj_type_2\n",
      "[INFO][2022/02/23 04:57:43 PM] Loading objects/obj_type_2 (179691, 5) (179691 filtered: None)\n",
      "[INFO][2022/02/23 04:57:46 PM] Writing properties/obj_type_2/area (179691,)\n",
      "[INFO][2022/02/23 04:57:46 PM] Writing properties/obj_type_2/class id (179691,)\n",
      "[INFO][2022/02/23 04:57:46 PM] Writing properties/obj_type_2/prob_interphase (179691,)\n",
      "[INFO][2022/02/23 04:57:46 PM] Writing properties/obj_type_2/prob_prometaphase (179691,)\n",
      "[INFO][2022/02/23 04:57:46 PM] Writing properties/obj_type_2/prob_metaphase (179691,)\n",
      "[INFO][2022/02/23 04:57:46 PM] Writing properties/obj_type_2/prob_anaphase (179691,)\n",
      "[INFO][2022/02/23 04:57:46 PM] Writing properties/obj_type_2/prob_apoptosis (179691,)\n",
      "[INFO][2022/02/23 04:57:46 PM] Closing HDF file: /home/nathan/data/kraken/ras/ND0012/Pos9/untrans_objects_type_2.h5\n"
     ]
    },
    {
     "name": "stdout",
     "output_type": "stream",
     "text": [
      "['/home/nathan/data/kraken/ras/ND0012/Pos10/untrans_no_bg_objects_type_2.h5', '/home/nathan/data/kraken/ras/ND0012/Pos10/untrans_no_bg_objects_type_1.h5'] file found, skipping ND0012/Pos10\n",
      "['/home/nathan/data/kraken/ras/ND0012/Pos11/untrans_no_bg_objects_type_2.h5', '/home/nathan/data/kraken/ras/ND0012/Pos11/untrans_no_bg_objects_type_1.h5'] file found, skipping ND0012/Pos11\n"
     ]
    },
    {
     "data": {
      "application/vnd.jupyter.widget-view+json": {
       "model_id": "57fa5eefbdd142ec9c175fc76b54d618",
       "version_major": 2,
       "version_minor": 0
      },
      "text/plain": [
       "  0%|          | 0/1 [00:00<?, ?it/s]"
      ]
     },
     "metadata": {},
     "output_type": "display_data"
    },
    {
     "data": {
      "application/vnd.jupyter.widget-view+json": {
       "model_id": "f9acdad064044c7bb5bec250017c4d6f",
       "version_major": 2,
       "version_minor": 0
      },
      "text/plain": [
       "  0%|          | 0/12 [00:00<?, ?it/s]"
      ]
     },
     "metadata": {},
     "output_type": "display_data"
    },
    {
     "name": "stdout",
     "output_type": "stream",
     "text": [
      "['/home/nathan/data/kraken/ras/ND0012/Pos0/untrans_no_bg_objects_type_2.h5', '/home/nathan/data/kraken/ras/ND0012/Pos0/untrans_no_bg_objects_type_1.h5'] file found, skipping ND0012/Pos0\n",
      "['/home/nathan/data/kraken/ras/ND0012/Pos1/untrans_no_bg_objects_type_2.h5', '/home/nathan/data/kraken/ras/ND0012/Pos1/untrans_no_bg_objects_type_1.h5'] file found, skipping ND0012/Pos1\n",
      "['/home/nathan/data/kraken/ras/ND0012/Pos2/untrans_no_bg_objects_type_2.h5', '/home/nathan/data/kraken/ras/ND0012/Pos2/untrans_no_bg_objects_type_1.h5'] file found, skipping ND0012/Pos2\n",
      "['/home/nathan/data/kraken/ras/ND0012/Pos3/untrans_no_bg_objects_type_2.h5', '/home/nathan/data/kraken/ras/ND0012/Pos3/untrans_no_bg_objects_type_1.h5'] file found, skipping ND0012/Pos3\n",
      "ND0012 Pos4 enough masks\n",
      "Starting ND0012/Pos4\n"
     ]
    },
    {
     "name": "stderr",
     "output_type": "stream",
     "text": [
      "[INFO][2022/02/23 04:57:48 PM] Localizing objects from segmentation...\n",
      "[INFO][2022/02/23 05:01:57 PM] Objects are of type: <class 'dict'>\n",
      "[INFO][2022/02/23 05:01:59 PM] ...Found 463361 objects in 1742 frames.\n"
     ]
    },
    {
     "name": "stdout",
     "output_type": "stream",
     "text": [
      "Classifying objects\n"
     ]
    },
    {
     "data": {
      "application/vnd.jupyter.widget-view+json": {
       "model_id": "f945962c59ff4333b5912208c5ebf9cd",
       "version_major": 2,
       "version_minor": 0
      },
      "text/plain": [
       "  0%|          | 0/1742 [00:00<?, ?it/s]"
      ]
     },
     "metadata": {},
     "output_type": "display_data"
    },
    {
     "data": {
      "application/vnd.jupyter.widget-view+json": {
       "model_id": "a90066055e5b4a0ab4a650ccb9ae725c",
       "version_major": 2,
       "version_minor": 0
      },
      "text/plain": [
       "  0%|          | 0/1742 [00:00<?, ?it/s]"
      ]
     },
     "metadata": {},
     "output_type": "display_data"
    },
    {
     "name": "stderr",
     "output_type": "stream",
     "text": [
      "[INFO][2022/02/23 05:39:47 PM] Opening HDF file: /home/nathan/data/kraken/ras/ND0012/Pos4/untrans_objects_type_1.h5...\n",
      "[INFO][2022/02/23 05:39:50 PM] Writing objects/obj_type_1\n",
      "[INFO][2022/02/23 05:39:50 PM] Writing labels/obj_type_1\n",
      "[INFO][2022/02/23 05:39:50 PM] Loading objects/obj_type_1 (353635, 5) (353635 filtered: None)\n",
      "[INFO][2022/02/23 05:39:55 PM] Writing properties/obj_type_1/area (353635,)\n",
      "[INFO][2022/02/23 05:39:55 PM] Writing properties/obj_type_1/class id (353635,)\n",
      "[INFO][2022/02/23 05:39:55 PM] Writing properties/obj_type_1/prob_interphase (353635,)\n",
      "[INFO][2022/02/23 05:39:55 PM] Writing properties/obj_type_1/prob_prometaphase (353635,)\n",
      "[INFO][2022/02/23 05:39:56 PM] Writing properties/obj_type_1/prob_metaphase (353635,)\n",
      "[INFO][2022/02/23 05:39:56 PM] Writing properties/obj_type_1/prob_anaphase (353635,)\n",
      "[INFO][2022/02/23 05:39:56 PM] Writing properties/obj_type_1/prob_apoptosis (353635,)\n",
      "[INFO][2022/02/23 05:39:56 PM] Closing HDF file: /home/nathan/data/kraken/ras/ND0012/Pos4/untrans_objects_type_1.h5\n",
      "[INFO][2022/02/23 05:39:56 PM] Opening HDF file: /home/nathan/data/kraken/ras/ND0012/Pos4/untrans_objects_type_2.h5...\n",
      "[INFO][2022/02/23 05:39:57 PM] Writing objects/obj_type_2\n",
      "[INFO][2022/02/23 05:39:57 PM] Writing labels/obj_type_2\n",
      "[INFO][2022/02/23 05:39:57 PM] Loading objects/obj_type_2 (109726, 5) (109726 filtered: None)\n",
      "[INFO][2022/02/23 05:39:58 PM] Writing properties/obj_type_2/area (109726,)\n",
      "[INFO][2022/02/23 05:39:58 PM] Writing properties/obj_type_2/class id (109726,)\n",
      "[INFO][2022/02/23 05:39:58 PM] Writing properties/obj_type_2/prob_interphase (109726,)\n",
      "[INFO][2022/02/23 05:39:58 PM] Writing properties/obj_type_2/prob_prometaphase (109726,)\n",
      "[INFO][2022/02/23 05:39:58 PM] Writing properties/obj_type_2/prob_metaphase (109726,)\n",
      "[INFO][2022/02/23 05:39:58 PM] Writing properties/obj_type_2/prob_anaphase (109726,)\n",
      "[INFO][2022/02/23 05:39:58 PM] Writing properties/obj_type_2/prob_apoptosis (109726,)\n",
      "[INFO][2022/02/23 05:39:58 PM] Closing HDF file: /home/nathan/data/kraken/ras/ND0012/Pos4/untrans_objects_type_2.h5\n"
     ]
    },
    {
     "name": "stdout",
     "output_type": "stream",
     "text": [
      "['/home/nathan/data/kraken/ras/ND0012/Pos5/untrans_no_bg_objects_type_2.h5', '/home/nathan/data/kraken/ras/ND0012/Pos5/untrans_no_bg_objects_type_1.h5'] file found, skipping ND0012/Pos5\n",
      "['/home/nathan/data/kraken/ras/ND0012/Pos6/untrans_no_bg_objects_type_2.h5', '/home/nathan/data/kraken/ras/ND0012/Pos6/untrans_no_bg_objects_type_1.h5'] file found, skipping ND0012/Pos6\n",
      "['/home/nathan/data/kraken/ras/ND0012/Pos7/untrans_no_bg_objects_type_2.h5', '/home/nathan/data/kraken/ras/ND0012/Pos7/untrans_no_bg_objects_type_1.h5'] file found, skipping ND0012/Pos7\n",
      "['/home/nathan/data/kraken/ras/ND0012/Pos8/untrans_no_bg_objects_type_2.h5', '/home/nathan/data/kraken/ras/ND0012/Pos8/untrans_no_bg_objects_type_1.h5'] file found, skipping ND0012/Pos8\n",
      "['/home/nathan/data/kraken/ras/ND0012/Pos9/untrans_no_bg_objects_type_2.h5', '/home/nathan/data/kraken/ras/ND0012/Pos9/untrans_no_bg_objects_type_1.h5'] file found, skipping ND0012/Pos9\n",
      "['/home/nathan/data/kraken/ras/ND0012/Pos10/untrans_no_bg_objects_type_2.h5', '/home/nathan/data/kraken/ras/ND0012/Pos10/untrans_no_bg_objects_type_1.h5'] file found, skipping ND0012/Pos10\n",
      "['/home/nathan/data/kraken/ras/ND0012/Pos11/untrans_no_bg_objects_type_2.h5', '/home/nathan/data/kraken/ras/ND0012/Pos11/untrans_no_bg_objects_type_1.h5'] file found, skipping ND0012/Pos11\n"
     ]
    },
    {
     "data": {
      "application/vnd.jupyter.widget-view+json": {
       "model_id": "47a0fad5218f45418e78a0f127538fe5",
       "version_major": 2,
       "version_minor": 0
      },
      "text/plain": [
       "  0%|          | 0/1 [00:00<?, ?it/s]"
      ]
     },
     "metadata": {},
     "output_type": "display_data"
    },
    {
     "data": {
      "application/vnd.jupyter.widget-view+json": {
       "model_id": "d7a3dd9777ca4a848f502e7bdc5a7fa3",
       "version_major": 2,
       "version_minor": 0
      },
      "text/plain": [
       "  0%|          | 0/12 [00:00<?, ?it/s]"
      ]
     },
     "metadata": {},
     "output_type": "display_data"
    },
    {
     "name": "stdout",
     "output_type": "stream",
     "text": [
      "['/home/nathan/data/kraken/ras/ND0012/Pos0/untrans_no_bg_objects_type_2.h5', '/home/nathan/data/kraken/ras/ND0012/Pos0/untrans_no_bg_objects_type_1.h5'] file found, skipping ND0012/Pos0\n",
      "['/home/nathan/data/kraken/ras/ND0012/Pos1/untrans_no_bg_objects_type_2.h5', '/home/nathan/data/kraken/ras/ND0012/Pos1/untrans_no_bg_objects_type_1.h5'] file found, skipping ND0012/Pos1\n",
      "['/home/nathan/data/kraken/ras/ND0012/Pos2/untrans_no_bg_objects_type_2.h5', '/home/nathan/data/kraken/ras/ND0012/Pos2/untrans_no_bg_objects_type_1.h5'] file found, skipping ND0012/Pos2\n",
      "['/home/nathan/data/kraken/ras/ND0012/Pos3/untrans_no_bg_objects_type_2.h5', '/home/nathan/data/kraken/ras/ND0012/Pos3/untrans_no_bg_objects_type_1.h5'] file found, skipping ND0012/Pos3\n",
      "ND0012 Pos4 enough masks\n",
      "Starting ND0012/Pos4\n"
     ]
    },
    {
     "name": "stderr",
     "output_type": "stream",
     "text": [
      "[INFO][2022/02/23 05:40:00 PM] Localizing objects from segmentation...\n",
      "[INFO][2022/02/23 05:43:52 PM] Objects are of type: <class 'dict'>\n",
      "[INFO][2022/02/23 05:43:54 PM] ...Found 463361 objects in 1742 frames.\n"
     ]
    },
    {
     "name": "stdout",
     "output_type": "stream",
     "text": [
      "Classifying objects\n"
     ]
    },
    {
     "data": {
      "application/vnd.jupyter.widget-view+json": {
       "model_id": "916fee563af14fba93bf4bab13588c38",
       "version_major": 2,
       "version_minor": 0
      },
      "text/plain": [
       "  0%|          | 0/1742 [00:00<?, ?it/s]"
      ]
     },
     "metadata": {},
     "output_type": "display_data"
    },
    {
     "data": {
      "application/vnd.jupyter.widget-view+json": {
       "model_id": "1fe529af84664c8faed97da1dec8f905",
       "version_major": 2,
       "version_minor": 0
      },
      "text/plain": [
       "  0%|          | 0/1742 [00:00<?, ?it/s]"
      ]
     },
     "metadata": {},
     "output_type": "display_data"
    },
    {
     "name": "stderr",
     "output_type": "stream",
     "text": [
      "[INFO][2022/02/23 06:22:05 PM] Opening HDF file: /home/nathan/data/kraken/ras/ND0012/Pos4/untrans_objects_type_1.h5...\n",
      "[INFO][2022/02/23 06:22:08 PM] Writing objects/obj_type_1\n",
      "[INFO][2022/02/23 06:22:08 PM] Writing labels/obj_type_1\n",
      "[INFO][2022/02/23 06:22:08 PM] Loading objects/obj_type_1 (353635, 5) (353635 filtered: None)\n",
      "[INFO][2022/02/23 06:22:13 PM] Writing properties/obj_type_1/area (353635,)\n",
      "[INFO][2022/02/23 06:22:13 PM] Writing properties/obj_type_1/class id (353635,)\n",
      "[INFO][2022/02/23 06:22:13 PM] Writing properties/obj_type_1/prob_interphase (353635,)\n",
      "[INFO][2022/02/23 06:22:13 PM] Writing properties/obj_type_1/prob_prometaphase (353635,)\n",
      "[INFO][2022/02/23 06:22:14 PM] Writing properties/obj_type_1/prob_metaphase (353635,)\n",
      "[INFO][2022/02/23 06:22:14 PM] Writing properties/obj_type_1/prob_anaphase (353635,)\n",
      "[INFO][2022/02/23 06:22:14 PM] Writing properties/obj_type_1/prob_apoptosis (353635,)\n",
      "[INFO][2022/02/23 06:22:14 PM] Closing HDF file: /home/nathan/data/kraken/ras/ND0012/Pos4/untrans_objects_type_1.h5\n",
      "[INFO][2022/02/23 06:22:14 PM] Opening HDF file: /home/nathan/data/kraken/ras/ND0012/Pos4/untrans_objects_type_2.h5...\n",
      "[INFO][2022/02/23 06:22:15 PM] Writing objects/obj_type_2\n",
      "[INFO][2022/02/23 06:22:15 PM] Writing labels/obj_type_2\n",
      "[INFO][2022/02/23 06:22:15 PM] Loading objects/obj_type_2 (109726, 5) (109726 filtered: None)\n",
      "[INFO][2022/02/23 06:22:16 PM] Writing properties/obj_type_2/area (109726,)\n",
      "[INFO][2022/02/23 06:22:16 PM] Writing properties/obj_type_2/class id (109726,)\n",
      "[INFO][2022/02/23 06:22:16 PM] Writing properties/obj_type_2/prob_interphase (109726,)\n",
      "[INFO][2022/02/23 06:22:16 PM] Writing properties/obj_type_2/prob_prometaphase (109726,)\n",
      "[INFO][2022/02/23 06:22:16 PM] Writing properties/obj_type_2/prob_metaphase (109726,)\n",
      "[INFO][2022/02/23 06:22:17 PM] Writing properties/obj_type_2/prob_anaphase (109726,)\n",
      "[INFO][2022/02/23 06:22:17 PM] Writing properties/obj_type_2/prob_apoptosis (109726,)\n",
      "[INFO][2022/02/23 06:22:17 PM] Closing HDF file: /home/nathan/data/kraken/ras/ND0012/Pos4/untrans_objects_type_2.h5\n"
     ]
    },
    {
     "name": "stdout",
     "output_type": "stream",
     "text": [
      "['/home/nathan/data/kraken/ras/ND0012/Pos5/untrans_no_bg_objects_type_2.h5', '/home/nathan/data/kraken/ras/ND0012/Pos5/untrans_no_bg_objects_type_1.h5'] file found, skipping ND0012/Pos5\n",
      "['/home/nathan/data/kraken/ras/ND0012/Pos6/untrans_no_bg_objects_type_2.h5', '/home/nathan/data/kraken/ras/ND0012/Pos6/untrans_no_bg_objects_type_1.h5'] file found, skipping ND0012/Pos6\n",
      "['/home/nathan/data/kraken/ras/ND0012/Pos7/untrans_no_bg_objects_type_2.h5', '/home/nathan/data/kraken/ras/ND0012/Pos7/untrans_no_bg_objects_type_1.h5'] file found, skipping ND0012/Pos7\n",
      "['/home/nathan/data/kraken/ras/ND0012/Pos8/untrans_no_bg_objects_type_2.h5', '/home/nathan/data/kraken/ras/ND0012/Pos8/untrans_no_bg_objects_type_1.h5'] file found, skipping ND0012/Pos8\n",
      "['/home/nathan/data/kraken/ras/ND0012/Pos9/untrans_no_bg_objects_type_2.h5', '/home/nathan/data/kraken/ras/ND0012/Pos9/untrans_no_bg_objects_type_1.h5'] file found, skipping ND0012/Pos9\n",
      "['/home/nathan/data/kraken/ras/ND0012/Pos10/untrans_no_bg_objects_type_2.h5', '/home/nathan/data/kraken/ras/ND0012/Pos10/untrans_no_bg_objects_type_1.h5'] file found, skipping ND0012/Pos10\n",
      "['/home/nathan/data/kraken/ras/ND0012/Pos11/untrans_no_bg_objects_type_2.h5', '/home/nathan/data/kraken/ras/ND0012/Pos11/untrans_no_bg_objects_type_1.h5'] file found, skipping ND0012/Pos11\n"
     ]
    },
    {
     "data": {
      "application/vnd.jupyter.widget-view+json": {
       "model_id": "d67ce4962acf4526aac0f976f40d94dd",
       "version_major": 2,
       "version_minor": 0
      },
      "text/plain": [
       "  0%|          | 0/1 [00:00<?, ?it/s]"
      ]
     },
     "metadata": {},
     "output_type": "display_data"
    },
    {
     "data": {
      "application/vnd.jupyter.widget-view+json": {
       "model_id": "60cf7aa4454c4022a5bc5e0f2a3a53c8",
       "version_major": 2,
       "version_minor": 0
      },
      "text/plain": [
       "  0%|          | 0/12 [00:00<?, ?it/s]"
      ]
     },
     "metadata": {},
     "output_type": "display_data"
    },
    {
     "name": "stdout",
     "output_type": "stream",
     "text": [
      "['/home/nathan/data/kraken/ras/ND0012/Pos0/untrans_no_bg_objects_type_2.h5', '/home/nathan/data/kraken/ras/ND0012/Pos0/untrans_no_bg_objects_type_1.h5'] file found, skipping ND0012/Pos0\n",
      "['/home/nathan/data/kraken/ras/ND0012/Pos1/untrans_no_bg_objects_type_2.h5', '/home/nathan/data/kraken/ras/ND0012/Pos1/untrans_no_bg_objects_type_1.h5'] file found, skipping ND0012/Pos1\n",
      "['/home/nathan/data/kraken/ras/ND0012/Pos2/untrans_no_bg_objects_type_2.h5', '/home/nathan/data/kraken/ras/ND0012/Pos2/untrans_no_bg_objects_type_1.h5'] file found, skipping ND0012/Pos2\n",
      "['/home/nathan/data/kraken/ras/ND0012/Pos3/untrans_no_bg_objects_type_2.h5', '/home/nathan/data/kraken/ras/ND0012/Pos3/untrans_no_bg_objects_type_1.h5'] file found, skipping ND0012/Pos3\n",
      "ND0012 Pos4 enough masks\n",
      "Starting ND0012/Pos4\n"
     ]
    },
    {
     "name": "stderr",
     "output_type": "stream",
     "text": [
      "[INFO][2022/02/23 06:22:19 PM] Localizing objects from segmentation...\n",
      "[INFO][2022/02/23 06:27:01 PM] Objects are of type: <class 'dict'>\n",
      "[INFO][2022/02/23 06:27:03 PM] ...Found 463361 objects in 1742 frames.\n"
     ]
    },
    {
     "name": "stdout",
     "output_type": "stream",
     "text": [
      "Classifying objects\n"
     ]
    },
    {
     "data": {
      "application/vnd.jupyter.widget-view+json": {
       "model_id": "ad77dda6969c407f9503fa3038aae066",
       "version_major": 2,
       "version_minor": 0
      },
      "text/plain": [
       "  0%|          | 0/1742 [00:00<?, ?it/s]"
      ]
     },
     "metadata": {},
     "output_type": "display_data"
    },
    {
     "data": {
      "application/vnd.jupyter.widget-view+json": {
       "model_id": "03329ff6c1a94e23a4546e2ba78dab6d",
       "version_major": 2,
       "version_minor": 0
      },
      "text/plain": [
       "  0%|          | 0/1742 [00:00<?, ?it/s]"
      ]
     },
     "metadata": {},
     "output_type": "display_data"
    },
    {
     "name": "stderr",
     "output_type": "stream",
     "text": [
      "[INFO][2022/02/23 07:05:00 PM] Opening HDF file: /home/nathan/data/kraken/ras/ND0012/Pos4/untrans_objects_type_1.h5...\n",
      "[INFO][2022/02/23 07:05:02 PM] Writing objects/obj_type_1\n",
      "[INFO][2022/02/23 07:05:02 PM] Writing labels/obj_type_1\n",
      "[INFO][2022/02/23 07:05:02 PM] Loading objects/obj_type_1 (353635, 5) (353635 filtered: None)\n",
      "[INFO][2022/02/23 07:05:07 PM] Writing properties/obj_type_1/area (353635,)\n",
      "[INFO][2022/02/23 07:05:07 PM] Writing properties/obj_type_1/class id (353635,)\n",
      "[INFO][2022/02/23 07:05:07 PM] Writing properties/obj_type_1/prob_interphase (353635,)\n",
      "[INFO][2022/02/23 07:05:07 PM] Writing properties/obj_type_1/prob_prometaphase (353635,)\n",
      "[INFO][2022/02/23 07:05:07 PM] Writing properties/obj_type_1/prob_metaphase (353635,)\n",
      "[INFO][2022/02/23 07:05:07 PM] Writing properties/obj_type_1/prob_anaphase (353635,)\n",
      "[INFO][2022/02/23 07:05:07 PM] Writing properties/obj_type_1/prob_apoptosis (353635,)\n",
      "[INFO][2022/02/23 07:05:07 PM] Closing HDF file: /home/nathan/data/kraken/ras/ND0012/Pos4/untrans_objects_type_1.h5\n",
      "[INFO][2022/02/23 07:05:08 PM] Opening HDF file: /home/nathan/data/kraken/ras/ND0012/Pos4/untrans_objects_type_2.h5...\n",
      "[INFO][2022/02/23 07:05:08 PM] Writing objects/obj_type_2\n",
      "[INFO][2022/02/23 07:05:08 PM] Writing labels/obj_type_2\n",
      "[INFO][2022/02/23 07:05:08 PM] Loading objects/obj_type_2 (109726, 5) (109726 filtered: None)\n",
      "[INFO][2022/02/23 07:05:09 PM] Writing properties/obj_type_2/area (109726,)\n",
      "[INFO][2022/02/23 07:05:09 PM] Writing properties/obj_type_2/class id (109726,)\n",
      "[INFO][2022/02/23 07:05:10 PM] Writing properties/obj_type_2/prob_interphase (109726,)\n",
      "[INFO][2022/02/23 07:05:10 PM] Writing properties/obj_type_2/prob_prometaphase (109726,)\n",
      "[INFO][2022/02/23 07:05:10 PM] Writing properties/obj_type_2/prob_metaphase (109726,)\n",
      "[INFO][2022/02/23 07:05:10 PM] Writing properties/obj_type_2/prob_anaphase (109726,)\n",
      "[INFO][2022/02/23 07:05:10 PM] Writing properties/obj_type_2/prob_apoptosis (109726,)\n",
      "[INFO][2022/02/23 07:05:10 PM] Closing HDF file: /home/nathan/data/kraken/ras/ND0012/Pos4/untrans_objects_type_2.h5\n"
     ]
    },
    {
     "name": "stdout",
     "output_type": "stream",
     "text": [
      "['/home/nathan/data/kraken/ras/ND0012/Pos5/untrans_no_bg_objects_type_2.h5', '/home/nathan/data/kraken/ras/ND0012/Pos5/untrans_no_bg_objects_type_1.h5'] file found, skipping ND0012/Pos5\n",
      "['/home/nathan/data/kraken/ras/ND0012/Pos6/untrans_no_bg_objects_type_2.h5', '/home/nathan/data/kraken/ras/ND0012/Pos6/untrans_no_bg_objects_type_1.h5'] file found, skipping ND0012/Pos6\n",
      "['/home/nathan/data/kraken/ras/ND0012/Pos7/untrans_no_bg_objects_type_2.h5', '/home/nathan/data/kraken/ras/ND0012/Pos7/untrans_no_bg_objects_type_1.h5'] file found, skipping ND0012/Pos7\n",
      "['/home/nathan/data/kraken/ras/ND0012/Pos8/untrans_no_bg_objects_type_2.h5', '/home/nathan/data/kraken/ras/ND0012/Pos8/untrans_no_bg_objects_type_1.h5'] file found, skipping ND0012/Pos8\n",
      "['/home/nathan/data/kraken/ras/ND0012/Pos9/untrans_no_bg_objects_type_2.h5', '/home/nathan/data/kraken/ras/ND0012/Pos9/untrans_no_bg_objects_type_1.h5'] file found, skipping ND0012/Pos9\n",
      "['/home/nathan/data/kraken/ras/ND0012/Pos10/untrans_no_bg_objects_type_2.h5', '/home/nathan/data/kraken/ras/ND0012/Pos10/untrans_no_bg_objects_type_1.h5'] file found, skipping ND0012/Pos10\n",
      "['/home/nathan/data/kraken/ras/ND0012/Pos11/untrans_no_bg_objects_type_2.h5', '/home/nathan/data/kraken/ras/ND0012/Pos11/untrans_no_bg_objects_type_1.h5'] file found, skipping ND0012/Pos11\n"
     ]
    },
    {
     "data": {
      "application/vnd.jupyter.widget-view+json": {
       "model_id": "7a4f9ec89ce34601aa8d5e9e28c1123f",
       "version_major": 2,
       "version_minor": 0
      },
      "text/plain": [
       "  0%|          | 0/1 [00:00<?, ?it/s]"
      ]
     },
     "metadata": {},
     "output_type": "display_data"
    },
    {
     "data": {
      "application/vnd.jupyter.widget-view+json": {
       "model_id": "12b8c0ecce874a69993a09905ad1e71c",
       "version_major": 2,
       "version_minor": 0
      },
      "text/plain": [
       "  0%|          | 0/12 [00:00<?, ?it/s]"
      ]
     },
     "metadata": {},
     "output_type": "display_data"
    },
    {
     "name": "stdout",
     "output_type": "stream",
     "text": [
      "['/home/nathan/data/kraken/ras/ND0012/Pos0/untrans_no_bg_objects_type_2.h5', '/home/nathan/data/kraken/ras/ND0012/Pos0/untrans_no_bg_objects_type_1.h5'] file found, skipping ND0012/Pos0\n",
      "['/home/nathan/data/kraken/ras/ND0012/Pos1/untrans_no_bg_objects_type_2.h5', '/home/nathan/data/kraken/ras/ND0012/Pos1/untrans_no_bg_objects_type_1.h5'] file found, skipping ND0012/Pos1\n",
      "['/home/nathan/data/kraken/ras/ND0012/Pos2/untrans_no_bg_objects_type_2.h5', '/home/nathan/data/kraken/ras/ND0012/Pos2/untrans_no_bg_objects_type_1.h5'] file found, skipping ND0012/Pos2\n",
      "['/home/nathan/data/kraken/ras/ND0012/Pos3/untrans_no_bg_objects_type_2.h5', '/home/nathan/data/kraken/ras/ND0012/Pos3/untrans_no_bg_objects_type_1.h5'] file found, skipping ND0012/Pos3\n",
      "['/home/nathan/data/kraken/ras/ND0012/Pos4/untrans_no_bg_objects_type_2.h5', '/home/nathan/data/kraken/ras/ND0012/Pos4/untrans_no_bg_objects_type_1.h5'] file found, skipping ND0012/Pos4\n",
      "['/home/nathan/data/kraken/ras/ND0012/Pos5/untrans_no_bg_objects_type_2.h5', '/home/nathan/data/kraken/ras/ND0012/Pos5/untrans_no_bg_objects_type_1.h5'] file found, skipping ND0012/Pos5\n",
      "['/home/nathan/data/kraken/ras/ND0012/Pos6/untrans_no_bg_objects_type_2.h5', '/home/nathan/data/kraken/ras/ND0012/Pos6/untrans_no_bg_objects_type_1.h5'] file found, skipping ND0012/Pos6\n",
      "['/home/nathan/data/kraken/ras/ND0012/Pos7/untrans_no_bg_objects_type_2.h5', '/home/nathan/data/kraken/ras/ND0012/Pos7/untrans_no_bg_objects_type_1.h5'] file found, skipping ND0012/Pos7\n",
      "['/home/nathan/data/kraken/ras/ND0012/Pos8/untrans_no_bg_objects_type_2.h5', '/home/nathan/data/kraken/ras/ND0012/Pos8/untrans_no_bg_objects_type_1.h5'] file found, skipping ND0012/Pos8\n",
      "['/home/nathan/data/kraken/ras/ND0012/Pos9/untrans_no_bg_objects_type_2.h5', '/home/nathan/data/kraken/ras/ND0012/Pos9/untrans_no_bg_objects_type_1.h5'] file found, skipping ND0012/Pos9\n",
      "['/home/nathan/data/kraken/ras/ND0012/Pos10/untrans_no_bg_objects_type_2.h5', '/home/nathan/data/kraken/ras/ND0012/Pos10/untrans_no_bg_objects_type_1.h5'] file found, skipping ND0012/Pos10\n",
      "['/home/nathan/data/kraken/ras/ND0012/Pos11/untrans_no_bg_objects_type_2.h5', '/home/nathan/data/kraken/ras/ND0012/Pos11/untrans_no_bg_objects_type_1.h5'] file found, skipping ND0012/Pos11\n"
     ]
    },
    {
     "data": {
      "application/vnd.jupyter.widget-view+json": {
       "model_id": "e17e2e9ea70d472bb2b61889fede71fa",
       "version_major": 2,
       "version_minor": 0
      },
      "text/plain": [
       "  0%|          | 0/1 [00:00<?, ?it/s]"
      ]
     },
     "metadata": {},
     "output_type": "display_data"
    },
    {
     "data": {
      "application/vnd.jupyter.widget-view+json": {
       "model_id": "e4807082e5bd4591ae793a39401fe155",
       "version_major": 2,
       "version_minor": 0
      },
      "text/plain": [
       "  0%|          | 0/12 [00:00<?, ?it/s]"
      ]
     },
     "metadata": {},
     "output_type": "display_data"
    },
    {
     "name": "stdout",
     "output_type": "stream",
     "text": [
      "['/home/nathan/data/kraken/ras/ND0012/Pos0/untrans_no_bg_objects_type_2.h5', '/home/nathan/data/kraken/ras/ND0012/Pos0/untrans_no_bg_objects_type_1.h5'] file found, skipping ND0012/Pos0\n",
      "['/home/nathan/data/kraken/ras/ND0012/Pos1/untrans_no_bg_objects_type_2.h5', '/home/nathan/data/kraken/ras/ND0012/Pos1/untrans_no_bg_objects_type_1.h5'] file found, skipping ND0012/Pos1\n",
      "['/home/nathan/data/kraken/ras/ND0012/Pos2/untrans_no_bg_objects_type_2.h5', '/home/nathan/data/kraken/ras/ND0012/Pos2/untrans_no_bg_objects_type_1.h5'] file found, skipping ND0012/Pos2\n",
      "['/home/nathan/data/kraken/ras/ND0012/Pos3/untrans_no_bg_objects_type_2.h5', '/home/nathan/data/kraken/ras/ND0012/Pos3/untrans_no_bg_objects_type_1.h5'] file found, skipping ND0012/Pos3\n",
      "['/home/nathan/data/kraken/ras/ND0012/Pos4/untrans_no_bg_objects_type_2.h5', '/home/nathan/data/kraken/ras/ND0012/Pos4/untrans_no_bg_objects_type_1.h5'] file found, skipping ND0012/Pos4\n",
      "['/home/nathan/data/kraken/ras/ND0012/Pos5/untrans_no_bg_objects_type_2.h5', '/home/nathan/data/kraken/ras/ND0012/Pos5/untrans_no_bg_objects_type_1.h5'] file found, skipping ND0012/Pos5\n",
      "['/home/nathan/data/kraken/ras/ND0012/Pos6/untrans_no_bg_objects_type_2.h5', '/home/nathan/data/kraken/ras/ND0012/Pos6/untrans_no_bg_objects_type_1.h5'] file found, skipping ND0012/Pos6\n",
      "['/home/nathan/data/kraken/ras/ND0012/Pos7/untrans_no_bg_objects_type_2.h5', '/home/nathan/data/kraken/ras/ND0012/Pos7/untrans_no_bg_objects_type_1.h5'] file found, skipping ND0012/Pos7\n",
      "['/home/nathan/data/kraken/ras/ND0012/Pos8/untrans_no_bg_objects_type_2.h5', '/home/nathan/data/kraken/ras/ND0012/Pos8/untrans_no_bg_objects_type_1.h5'] file found, skipping ND0012/Pos8\n",
      "['/home/nathan/data/kraken/ras/ND0012/Pos9/untrans_no_bg_objects_type_2.h5', '/home/nathan/data/kraken/ras/ND0012/Pos9/untrans_no_bg_objects_type_1.h5'] file found, skipping ND0012/Pos9\n",
      "['/home/nathan/data/kraken/ras/ND0012/Pos10/untrans_no_bg_objects_type_2.h5', '/home/nathan/data/kraken/ras/ND0012/Pos10/untrans_no_bg_objects_type_1.h5'] file found, skipping ND0012/Pos10\n",
      "['/home/nathan/data/kraken/ras/ND0012/Pos11/untrans_no_bg_objects_type_2.h5', '/home/nathan/data/kraken/ras/ND0012/Pos11/untrans_no_bg_objects_type_1.h5'] file found, skipping ND0012/Pos11\n"
     ]
    },
    {
     "data": {
      "application/vnd.jupyter.widget-view+json": {
       "model_id": "460963aaa056449ebd087eb439efa7bb",
       "version_major": 2,
       "version_minor": 0
      },
      "text/plain": [
       "  0%|          | 0/1 [00:00<?, ?it/s]"
      ]
     },
     "metadata": {},
     "output_type": "display_data"
    },
    {
     "data": {
      "application/vnd.jupyter.widget-view+json": {
       "model_id": "fe10fd246ee448f3b9d7f2dced16df14",
       "version_major": 2,
       "version_minor": 0
      },
      "text/plain": [
       "  0%|          | 0/12 [00:00<?, ?it/s]"
      ]
     },
     "metadata": {},
     "output_type": "display_data"
    },
    {
     "name": "stdout",
     "output_type": "stream",
     "text": [
      "['/home/nathan/data/kraken/ras/ND0012/Pos0/untrans_no_bg_objects_type_2.h5', '/home/nathan/data/kraken/ras/ND0012/Pos0/untrans_no_bg_objects_type_1.h5'] file found, skipping ND0012/Pos0\n",
      "['/home/nathan/data/kraken/ras/ND0012/Pos1/untrans_no_bg_objects_type_2.h5', '/home/nathan/data/kraken/ras/ND0012/Pos1/untrans_no_bg_objects_type_1.h5'] file found, skipping ND0012/Pos1\n",
      "['/home/nathan/data/kraken/ras/ND0012/Pos2/untrans_no_bg_objects_type_2.h5', '/home/nathan/data/kraken/ras/ND0012/Pos2/untrans_no_bg_objects_type_1.h5'] file found, skipping ND0012/Pos2\n",
      "['/home/nathan/data/kraken/ras/ND0012/Pos3/untrans_no_bg_objects_type_2.h5', '/home/nathan/data/kraken/ras/ND0012/Pos3/untrans_no_bg_objects_type_1.h5'] file found, skipping ND0012/Pos3\n",
      "['/home/nathan/data/kraken/ras/ND0012/Pos4/untrans_no_bg_objects_type_2.h5', '/home/nathan/data/kraken/ras/ND0012/Pos4/untrans_no_bg_objects_type_1.h5'] file found, skipping ND0012/Pos4\n",
      "['/home/nathan/data/kraken/ras/ND0012/Pos5/untrans_no_bg_objects_type_2.h5', '/home/nathan/data/kraken/ras/ND0012/Pos5/untrans_no_bg_objects_type_1.h5'] file found, skipping ND0012/Pos5\n",
      "['/home/nathan/data/kraken/ras/ND0012/Pos6/untrans_no_bg_objects_type_2.h5', '/home/nathan/data/kraken/ras/ND0012/Pos6/untrans_no_bg_objects_type_1.h5'] file found, skipping ND0012/Pos6\n",
      "['/home/nathan/data/kraken/ras/ND0012/Pos7/untrans_no_bg_objects_type_2.h5', '/home/nathan/data/kraken/ras/ND0012/Pos7/untrans_no_bg_objects_type_1.h5'] file found, skipping ND0012/Pos7\n",
      "['/home/nathan/data/kraken/ras/ND0012/Pos8/untrans_no_bg_objects_type_2.h5', '/home/nathan/data/kraken/ras/ND0012/Pos8/untrans_no_bg_objects_type_1.h5'] file found, skipping ND0012/Pos8\n",
      "['/home/nathan/data/kraken/ras/ND0012/Pos9/untrans_no_bg_objects_type_2.h5', '/home/nathan/data/kraken/ras/ND0012/Pos9/untrans_no_bg_objects_type_1.h5'] file found, skipping ND0012/Pos9\n",
      "['/home/nathan/data/kraken/ras/ND0012/Pos10/untrans_no_bg_objects_type_2.h5', '/home/nathan/data/kraken/ras/ND0012/Pos10/untrans_no_bg_objects_type_1.h5'] file found, skipping ND0012/Pos10\n",
      "['/home/nathan/data/kraken/ras/ND0012/Pos11/untrans_no_bg_objects_type_2.h5', '/home/nathan/data/kraken/ras/ND0012/Pos11/untrans_no_bg_objects_type_1.h5'] file found, skipping ND0012/Pos11\n",
      "The slowest run took 91814.28 times longer than the fastest. This could mean that an intermediate result is being cached.\n",
      "30min 51s ± 30min 41s per loop (mean ± std. dev. of 7 runs, 1 loop each)\n"
     ]
    }
   ],
   "source": [
    "%%timeit\n",
    "root_dir = '/home/nathan/data/kraken/ras'\n",
    "expt_list = [#'ND0010', 'ND0011', \n",
    "    'ND0012', \n",
    "    #'ND0013'\n",
    "]\n",
    "#expt_list = [expt for expt in os.listdir(root_dir) if len(expt) == 6]\n",
    "\n",
    "pos_list = 'all'\n",
    "overwrite = False\n",
    "\n",
    "for expt in tqdm(expt_list):\n",
    "    try:\n",
    "        # Find all positions in that experiment, if pos_list is all then it finds all positions\n",
    "        if pos_list == 'all':\n",
    "            pos_list = [pos for pos in os.listdir(f'{root_dir}/{expt}') \n",
    "                    if 'Pos' in pos \n",
    "                    and os.path.isdir(f'{root_dir}/{expt}/{pos}')]  \n",
    "\n",
    "        ### Iterate over all positions in that experiment\n",
    "        for pos in tqdm(natsorted(pos_list)):\n",
    "\n",
    "            ### check if overwrite param is false check if raw directory already created and if type of transform file already exists and decide whether to skip pos\n",
    "            if not overwrite and glob.glob(f'{root_dir}/{expt}/{pos}/*untrans_no_bg_objects_type*.h5'):\n",
    "                print(glob.glob(f'{root_dir}/{expt}/{pos}/**untrans_no_bg_objects_type*.h5'), f'file found, skipping {expt}/{pos}')\n",
    "                continue\n",
    "\n",
    "            #check seg is complete\n",
    "            mask_path = f'{root_dir}/{expt}/{pos}/{pos}_images/*channel099*'\n",
    "            if glob.glob(mask_path) and len(glob.glob(mask_path)) == len(glob.glob(f'{root_dir}/{expt}/{pos}/{pos}_images/*channel001*')):\n",
    "                print(expt, pos, 'enough masks')\n",
    "\n",
    "                print(f'Starting {expt}/{pos}')\n",
    "                # load segmentation images and apply necessary transforms and crops\n",
    "                image_path = f'{root_dir}/{expt}/{pos}/{pos}_images'\n",
    "                #transform_path = f'{root_dir}/{expt}/{pos}/gfp_transform_tensor.npy'\n",
    "                images = DaskOctopusLiteLoader(image_path, \n",
    "                                   #transforms=transform_path,\n",
    "                                   #crop=(1200,1600), \n",
    "                                   remove_background=False)\n",
    "\n",
    "                # ID the objects in each segmentation image and assign option properties to them\n",
    "                objects = btrack.utils.segmentation_to_objects(\n",
    "                    images['mask'], \n",
    "                    properties = ('area',),\n",
    "                    assign_class_ID = True\n",
    "                )\n",
    "\n",
    "                # differentiate the objects based on class ID\n",
    "                objects_gfp = [obj for obj in objects if obj.properties['class id'] == 1]\n",
    "                objects_rfp = [obj for obj in objects if obj.properties['class id'] == 2]\n",
    "\n",
    "                # load classifcation model and define labels\n",
    "                model = load_model('../models/cellx_classifier_stardist.h5')\n",
    "                LABELS = [\"interphase\", \"prometaphase\", \"metaphase\", \"anaphase\", \"apoptosis\"]\n",
    "\n",
    "                # load images for classifcation\n",
    "                bf = images['brightfield']\n",
    "                gfp = images['gfp']\n",
    "                rfp = images['rfp']\n",
    "\n",
    "                # classify objects\n",
    "                print(\"Classifying objects\")\n",
    "                objects_gfp = classify_objects(bf, gfp, rfp, objects_gfp, obj_type = 1)\n",
    "                objects_rfp = classify_objects(bf, gfp, rfp, objects_rfp, obj_type = 2)\n",
    "\n",
    "                # save out classified objects as segmentation h5 file\n",
    "                with btrack.dataio.HDF5FileHandler(\n",
    "                    f'{root_dir}/{expt}/{pos}/untrans_objects_type_1.h5', 'w', obj_type='obj_type_1',\n",
    "                ) as hdf:\n",
    "                    #hdf.write_segmentation(masks['mask'])\n",
    "                    hdf.write_objects(objects_gfp)\n",
    "                with btrack.dataio.HDF5FileHandler(\n",
    "                    f'{root_dir}/{expt}/{pos}/untrans_objects_type_2.h5', 'w', obj_type='obj_type_2',\n",
    "                ) as hdf:\n",
    "                    #hdf.write_segmentation(masks['mask'])\n",
    "                    hdf.write_objects(objects_rfp)  \n",
    "    except Exception as e: \n",
    "        print(e)\n",
    "        #print(pos, expt, 'failed probably due to zero cell count')"
   ]
  },
  {
   "cell_type": "markdown",
   "id": "60834000",
   "metadata": {},
   "source": [
    "# ND11 and ND12 processing"
   ]
  },
  {
   "cell_type": "code",
   "execution_count": 40,
   "id": "965c8987",
   "metadata": {},
   "outputs": [
    {
     "data": {
      "application/vnd.jupyter.widget-view+json": {
       "model_id": "187b1e2c7ce4440d880c8515128eaa5c",
       "version_major": 2,
       "version_minor": 0
      },
      "text/plain": [
       "  0%|          | 0/1 [00:00<?, ?it/s]"
      ]
     },
     "metadata": {},
     "output_type": "display_data"
    },
    {
     "data": {
      "application/vnd.jupyter.widget-view+json": {
       "model_id": "cd12d2d9884440b9a62d4e61d77a7491",
       "version_major": 2,
       "version_minor": 0
      },
      "text/plain": [
       "  0%|          | 0/12 [00:00<?, ?it/s]"
      ]
     },
     "metadata": {},
     "output_type": "display_data"
    },
    {
     "name": "stdout",
     "output_type": "stream",
     "text": [
      "ND0011 Pos0 enough masks\n",
      "Starting ND0011/Pos0\n"
     ]
    },
    {
     "name": "stderr",
     "output_type": "stream",
     "text": [
      "[INFO][2022/02/23 07:05:15 PM] Localizing objects from segmentation...\n",
      "[INFO][2022/02/23 07:08:08 PM] Objects are of type: <class 'dict'>\n",
      "[INFO][2022/02/23 07:08:10 PM] ...Found 222287 objects in 1637 frames.\n"
     ]
    },
    {
     "name": "stdout",
     "output_type": "stream",
     "text": [
      "Classifying objects\n"
     ]
    },
    {
     "data": {
      "application/vnd.jupyter.widget-view+json": {
       "model_id": "a1fc1d9fda0941cebb8b41691c42e69b",
       "version_major": 2,
       "version_minor": 0
      },
      "text/plain": [
       "  0%|          | 0/1637 [00:00<?, ?it/s]"
      ]
     },
     "metadata": {},
     "output_type": "display_data"
    },
    {
     "data": {
      "application/vnd.jupyter.widget-view+json": {
       "model_id": "28167422e55948f8affa6f14fcdf1db7",
       "version_major": 2,
       "version_minor": 0
      },
      "text/plain": [
       "  0%|          | 0/1637 [00:00<?, ?it/s]"
      ]
     },
     "metadata": {},
     "output_type": "display_data"
    },
    {
     "name": "stderr",
     "output_type": "stream",
     "text": [
      "[INFO][2022/02/23 07:30:59 PM] Opening HDF file: /home/nathan/data/kraken/ras/ND0011/Pos0/untrans_objects_type_1.h5...\n",
      "[INFO][2022/02/23 07:31:00 PM] Writing objects/obj_type_1\n",
      "[INFO][2022/02/23 07:31:00 PM] Writing labels/obj_type_1\n",
      "[INFO][2022/02/23 07:31:00 PM] Loading objects/obj_type_1 (866, 5) (866 filtered: None)\n",
      "[INFO][2022/02/23 07:31:00 PM] Writing properties/obj_type_1/area (866,)\n",
      "[INFO][2022/02/23 07:31:00 PM] Writing properties/obj_type_1/class id (866,)\n",
      "[INFO][2022/02/23 07:31:00 PM] Writing properties/obj_type_1/prob_interphase (866,)\n",
      "[INFO][2022/02/23 07:31:00 PM] Writing properties/obj_type_1/prob_prometaphase (866,)\n",
      "[INFO][2022/02/23 07:31:00 PM] Writing properties/obj_type_1/prob_metaphase (866,)\n",
      "[INFO][2022/02/23 07:31:00 PM] Writing properties/obj_type_1/prob_anaphase (866,)\n",
      "[INFO][2022/02/23 07:31:00 PM] Writing properties/obj_type_1/prob_apoptosis (866,)\n",
      "[INFO][2022/02/23 07:31:00 PM] Closing HDF file: /home/nathan/data/kraken/ras/ND0011/Pos0/untrans_objects_type_1.h5\n",
      "[INFO][2022/02/23 07:31:00 PM] Opening HDF file: /home/nathan/data/kraken/ras/ND0011/Pos0/untrans_objects_type_2.h5...\n",
      "[INFO][2022/02/23 07:31:02 PM] Writing objects/obj_type_2\n",
      "[INFO][2022/02/23 07:31:02 PM] Writing labels/obj_type_2\n",
      "[INFO][2022/02/23 07:31:02 PM] Loading objects/obj_type_2 (221421, 5) (221421 filtered: None)\n",
      "[INFO][2022/02/23 07:31:04 PM] Writing properties/obj_type_2/area (221421,)\n",
      "[INFO][2022/02/23 07:31:04 PM] Writing properties/obj_type_2/class id (221421,)\n",
      "[INFO][2022/02/23 07:31:05 PM] Writing properties/obj_type_2/prob_interphase (221421,)\n",
      "[INFO][2022/02/23 07:31:05 PM] Writing properties/obj_type_2/prob_prometaphase (221421,)\n",
      "[INFO][2022/02/23 07:31:05 PM] Writing properties/obj_type_2/prob_metaphase (221421,)\n",
      "[INFO][2022/02/23 07:31:05 PM] Writing properties/obj_type_2/prob_anaphase (221421,)\n",
      "[INFO][2022/02/23 07:31:05 PM] Writing properties/obj_type_2/prob_apoptosis (221421,)\n",
      "[INFO][2022/02/23 07:31:05 PM] Closing HDF file: /home/nathan/data/kraken/ras/ND0011/Pos0/untrans_objects_type_2.h5\n"
     ]
    },
    {
     "name": "stdout",
     "output_type": "stream",
     "text": [
      "ND0011 Pos1 enough masks\n",
      "Starting ND0011/Pos1\n"
     ]
    },
    {
     "name": "stderr",
     "output_type": "stream",
     "text": [
      "[INFO][2022/02/23 07:31:06 PM] Localizing objects from segmentation...\n",
      "[INFO][2022/02/23 07:34:14 PM] Objects are of type: <class 'dict'>\n",
      "[INFO][2022/02/23 07:34:16 PM] ...Found 281844 objects in 1640 frames.\n"
     ]
    },
    {
     "name": "stdout",
     "output_type": "stream",
     "text": [
      "Classifying objects\n"
     ]
    },
    {
     "data": {
      "application/vnd.jupyter.widget-view+json": {
       "model_id": "84dc1f2a41dc4357ac4eb985e3a7aa39",
       "version_major": 2,
       "version_minor": 0
      },
      "text/plain": [
       "  0%|          | 0/1640 [00:00<?, ?it/s]"
      ]
     },
     "metadata": {},
     "output_type": "display_data"
    },
    {
     "data": {
      "application/vnd.jupyter.widget-view+json": {
       "model_id": "f2ddc51604264c0a9e7b69f987bab611",
       "version_major": 2,
       "version_minor": 0
      },
      "text/plain": [
       "  0%|          | 0/1640 [00:00<?, ?it/s]"
      ]
     },
     "metadata": {},
     "output_type": "display_data"
    },
    {
     "name": "stderr",
     "output_type": "stream",
     "text": [
      "[INFO][2022/02/23 08:01:44 PM] Opening HDF file: /home/nathan/data/kraken/ras/ND0011/Pos1/untrans_objects_type_1.h5...\n",
      "[INFO][2022/02/23 08:01:44 PM] Writing objects/obj_type_1\n",
      "[INFO][2022/02/23 08:01:44 PM] Writing labels/obj_type_1\n",
      "[INFO][2022/02/23 08:01:44 PM] Loading objects/obj_type_1 (542, 5) (542 filtered: None)\n",
      "[INFO][2022/02/23 08:01:44 PM] Writing properties/obj_type_1/area (542,)\n",
      "[INFO][2022/02/23 08:01:44 PM] Writing properties/obj_type_1/class id (542,)\n",
      "[INFO][2022/02/23 08:01:44 PM] Writing properties/obj_type_1/prob_interphase (542,)\n",
      "[INFO][2022/02/23 08:01:44 PM] Writing properties/obj_type_1/prob_prometaphase (542,)\n",
      "[INFO][2022/02/23 08:01:44 PM] Writing properties/obj_type_1/prob_metaphase (542,)\n",
      "[INFO][2022/02/23 08:01:44 PM] Writing properties/obj_type_1/prob_anaphase (542,)\n",
      "[INFO][2022/02/23 08:01:44 PM] Writing properties/obj_type_1/prob_apoptosis (542,)\n",
      "[INFO][2022/02/23 08:01:44 PM] Closing HDF file: /home/nathan/data/kraken/ras/ND0011/Pos1/untrans_objects_type_1.h5\n",
      "[INFO][2022/02/23 08:01:44 PM] Opening HDF file: /home/nathan/data/kraken/ras/ND0011/Pos1/untrans_objects_type_2.h5...\n",
      "[INFO][2022/02/23 08:01:47 PM] Writing objects/obj_type_2\n",
      "[INFO][2022/02/23 08:01:47 PM] Writing labels/obj_type_2\n",
      "[INFO][2022/02/23 08:01:47 PM] Loading objects/obj_type_2 (281302, 5) (281302 filtered: None)\n",
      "[INFO][2022/02/23 08:01:51 PM] Writing properties/obj_type_2/area (281302,)\n",
      "[INFO][2022/02/23 08:01:51 PM] Writing properties/obj_type_2/class id (281302,)\n",
      "[INFO][2022/02/23 08:01:51 PM] Writing properties/obj_type_2/prob_interphase (281302,)\n",
      "[INFO][2022/02/23 08:01:51 PM] Writing properties/obj_type_2/prob_prometaphase (281302,)\n",
      "[INFO][2022/02/23 08:01:51 PM] Writing properties/obj_type_2/prob_metaphase (281302,)\n",
      "[INFO][2022/02/23 08:01:51 PM] Writing properties/obj_type_2/prob_anaphase (281302,)\n",
      "[INFO][2022/02/23 08:01:51 PM] Writing properties/obj_type_2/prob_apoptosis (281302,)\n",
      "[INFO][2022/02/23 08:01:51 PM] Closing HDF file: /home/nathan/data/kraken/ras/ND0011/Pos1/untrans_objects_type_2.h5\n"
     ]
    },
    {
     "name": "stdout",
     "output_type": "stream",
     "text": [
      "ND0011 Pos2 enough masks\n",
      "Starting ND0011/Pos2\n"
     ]
    },
    {
     "name": "stderr",
     "output_type": "stream",
     "text": [
      "[INFO][2022/02/23 08:01:53 PM] Localizing objects from segmentation...\n",
      "[INFO][2022/02/23 08:05:52 PM] Objects are of type: <class 'dict'>\n",
      "[INFO][2022/02/23 08:05:58 PM] ...Found 678907 objects in 1636 frames.\n"
     ]
    },
    {
     "name": "stdout",
     "output_type": "stream",
     "text": [
      "Classifying objects\n"
     ]
    },
    {
     "data": {
      "application/vnd.jupyter.widget-view+json": {
       "model_id": "e1182e586fb44fefad1ffaba933d6ebf",
       "version_major": 2,
       "version_minor": 0
      },
      "text/plain": [
       "  0%|          | 0/1636 [00:00<?, ?it/s]"
      ]
     },
     "metadata": {},
     "output_type": "display_data"
    },
    {
     "data": {
      "application/vnd.jupyter.widget-view+json": {
       "model_id": "7cd56cccde96408cb51d93b5f6645f35",
       "version_major": 2,
       "version_minor": 0
      },
      "text/plain": [
       "  0%|          | 0/1636 [00:00<?, ?it/s]"
      ]
     },
     "metadata": {},
     "output_type": "display_data"
    },
    {
     "name": "stderr",
     "output_type": "stream",
     "text": [
      "[INFO][2022/02/23 08:56:42 PM] Opening HDF file: /home/nathan/data/kraken/ras/ND0011/Pos2/untrans_objects_type_1.h5...\n",
      "[INFO][2022/02/23 08:56:42 PM] Writing objects/obj_type_1\n",
      "[INFO][2022/02/23 08:56:42 PM] Writing labels/obj_type_1\n",
      "[INFO][2022/02/23 08:56:42 PM] Loading objects/obj_type_1 (1208, 5) (1208 filtered: None)\n",
      "[INFO][2022/02/23 08:56:42 PM] Writing properties/obj_type_1/area (1208,)\n",
      "[INFO][2022/02/23 08:56:42 PM] Writing properties/obj_type_1/class id (1208,)\n",
      "[INFO][2022/02/23 08:56:42 PM] Writing properties/obj_type_1/prob_interphase (1208,)\n",
      "[INFO][2022/02/23 08:56:42 PM] Writing properties/obj_type_1/prob_prometaphase (1208,)\n",
      "[INFO][2022/02/23 08:56:42 PM] Writing properties/obj_type_1/prob_metaphase (1208,)\n",
      "[INFO][2022/02/23 08:56:42 PM] Writing properties/obj_type_1/prob_anaphase (1208,)\n",
      "[INFO][2022/02/23 08:56:42 PM] Writing properties/obj_type_1/prob_apoptosis (1208,)\n",
      "[INFO][2022/02/23 08:56:42 PM] Closing HDF file: /home/nathan/data/kraken/ras/ND0011/Pos2/untrans_objects_type_1.h5\n",
      "[INFO][2022/02/23 08:56:42 PM] Opening HDF file: /home/nathan/data/kraken/ras/ND0011/Pos2/untrans_objects_type_2.h5...\n",
      "[INFO][2022/02/23 08:56:49 PM] Writing objects/obj_type_2\n",
      "[INFO][2022/02/23 08:56:49 PM] Writing labels/obj_type_2\n",
      "[INFO][2022/02/23 08:56:49 PM] Loading objects/obj_type_2 (677699, 5) (677699 filtered: None)\n",
      "[INFO][2022/02/23 08:56:58 PM] Writing properties/obj_type_2/area (677699,)\n",
      "[INFO][2022/02/23 08:56:58 PM] Writing properties/obj_type_2/class id (677699,)\n",
      "[INFO][2022/02/23 08:56:58 PM] Writing properties/obj_type_2/prob_interphase (677699,)\n",
      "[INFO][2022/02/23 08:56:58 PM] Writing properties/obj_type_2/prob_prometaphase (677699,)\n",
      "[INFO][2022/02/23 08:56:59 PM] Writing properties/obj_type_2/prob_metaphase (677699,)\n",
      "[INFO][2022/02/23 08:56:59 PM] Writing properties/obj_type_2/prob_anaphase (677699,)\n",
      "[INFO][2022/02/23 08:56:59 PM] Writing properties/obj_type_2/prob_apoptosis (677699,)\n",
      "[INFO][2022/02/23 08:56:59 PM] Closing HDF file: /home/nathan/data/kraken/ras/ND0011/Pos2/untrans_objects_type_2.h5\n"
     ]
    },
    {
     "name": "stdout",
     "output_type": "stream",
     "text": [
      "ND0011 Pos4 enough masks\n",
      "Starting ND0011/Pos4\n"
     ]
    },
    {
     "name": "stderr",
     "output_type": "stream",
     "text": [
      "[INFO][2022/02/23 08:57:02 PM] Localizing objects from segmentation...\n",
      "[INFO][2022/02/23 09:01:28 PM] Objects are of type: <class 'dict'>\n",
      "[INFO][2022/02/23 09:01:33 PM] ...Found 619816 objects in 1640 frames.\n"
     ]
    },
    {
     "name": "stdout",
     "output_type": "stream",
     "text": [
      "Classifying objects\n"
     ]
    },
    {
     "data": {
      "application/vnd.jupyter.widget-view+json": {
       "model_id": "029a470f18e548578ff9e4e9f324d15f",
       "version_major": 2,
       "version_minor": 0
      },
      "text/plain": [
       "  0%|          | 0/1640 [00:00<?, ?it/s]"
      ]
     },
     "metadata": {},
     "output_type": "display_data"
    },
    {
     "data": {
      "application/vnd.jupyter.widget-view+json": {
       "model_id": "8e80cd853aa047c7b9252281f0e911cd",
       "version_major": 2,
       "version_minor": 0
      },
      "text/plain": [
       "  0%|          | 0/1640 [00:00<?, ?it/s]"
      ]
     },
     "metadata": {},
     "output_type": "display_data"
    },
    {
     "name": "stderr",
     "output_type": "stream",
     "text": [
      "[INFO][2022/02/23 09:48:58 PM] Opening HDF file: /home/nathan/data/kraken/ras/ND0011/Pos4/untrans_objects_type_1.h5...\n",
      "[INFO][2022/02/23 09:49:03 PM] Writing objects/obj_type_1\n",
      "[INFO][2022/02/23 09:49:03 PM] Writing labels/obj_type_1\n",
      "[INFO][2022/02/23 09:49:03 PM] Loading objects/obj_type_1 (553131, 5) (553131 filtered: None)\n",
      "[INFO][2022/02/23 09:49:10 PM] Writing properties/obj_type_1/area (553131,)\n",
      "[INFO][2022/02/23 09:49:10 PM] Writing properties/obj_type_1/class id (553131,)\n",
      "[INFO][2022/02/23 09:49:10 PM] Writing properties/obj_type_1/prob_interphase (553131,)\n",
      "[INFO][2022/02/23 09:49:10 PM] Writing properties/obj_type_1/prob_prometaphase (553131,)\n",
      "[INFO][2022/02/23 09:49:10 PM] Writing properties/obj_type_1/prob_metaphase (553131,)\n",
      "[INFO][2022/02/23 09:49:11 PM] Writing properties/obj_type_1/prob_anaphase (553131,)\n",
      "[INFO][2022/02/23 09:49:11 PM] Writing properties/obj_type_1/prob_apoptosis (553131,)\n",
      "[INFO][2022/02/23 09:49:11 PM] Closing HDF file: /home/nathan/data/kraken/ras/ND0011/Pos4/untrans_objects_type_1.h5\n",
      "[INFO][2022/02/23 09:49:11 PM] Opening HDF file: /home/nathan/data/kraken/ras/ND0011/Pos4/untrans_objects_type_2.h5...\n",
      "[INFO][2022/02/23 09:49:12 PM] Writing objects/obj_type_2\n",
      "[INFO][2022/02/23 09:49:12 PM] Writing labels/obj_type_2\n",
      "[INFO][2022/02/23 09:49:12 PM] Loading objects/obj_type_2 (66685, 5) (66685 filtered: None)\n",
      "[INFO][2022/02/23 09:49:12 PM] Writing properties/obj_type_2/area (66685,)\n",
      "[INFO][2022/02/23 09:49:12 PM] Writing properties/obj_type_2/class id (66685,)\n",
      "[INFO][2022/02/23 09:49:12 PM] Writing properties/obj_type_2/prob_interphase (66685,)\n",
      "[INFO][2022/02/23 09:49:12 PM] Writing properties/obj_type_2/prob_prometaphase (66685,)\n",
      "[INFO][2022/02/23 09:49:12 PM] Writing properties/obj_type_2/prob_metaphase (66685,)\n",
      "[INFO][2022/02/23 09:49:12 PM] Writing properties/obj_type_2/prob_anaphase (66685,)\n",
      "[INFO][2022/02/23 09:49:12 PM] Writing properties/obj_type_2/prob_apoptosis (66685,)\n",
      "[INFO][2022/02/23 09:49:12 PM] Closing HDF file: /home/nathan/data/kraken/ras/ND0011/Pos4/untrans_objects_type_2.h5\n"
     ]
    },
    {
     "name": "stdout",
     "output_type": "stream",
     "text": [
      "['/home/nathan/data/kraken/ras/ND0011/Pos5/untrans_no_bg_objects_type_2.h5', '/home/nathan/data/kraken/ras/ND0011/Pos5/untrans_no_bg_objects_type_1.h5'] file found, skipping ND0011/Pos5\n",
      "ND0011 Pos6 enough masks\n",
      "Starting ND0011/Pos6\n"
     ]
    },
    {
     "name": "stderr",
     "output_type": "stream",
     "text": [
      "[INFO][2022/02/23 09:49:15 PM] Localizing objects from segmentation...\n",
      "[INFO][2022/02/23 09:52:28 PM] Objects are of type: <class 'dict'>\n",
      "[INFO][2022/02/23 09:52:30 PM] ...Found 314385 objects in 1638 frames.\n"
     ]
    },
    {
     "name": "stdout",
     "output_type": "stream",
     "text": [
      "Classifying objects\n"
     ]
    },
    {
     "data": {
      "application/vnd.jupyter.widget-view+json": {
       "model_id": "e44d61b8c1174f02a0bccaab979cb1bb",
       "version_major": 2,
       "version_minor": 0
      },
      "text/plain": [
       "  0%|          | 0/1638 [00:00<?, ?it/s]"
      ]
     },
     "metadata": {},
     "output_type": "display_data"
    },
    {
     "data": {
      "application/vnd.jupyter.widget-view+json": {
       "model_id": "c14e55f08d614817aa6e77c5b552b6fc",
       "version_major": 2,
       "version_minor": 0
      },
      "text/plain": [
       "  0%|          | 0/1638 [00:00<?, ?it/s]"
      ]
     },
     "metadata": {},
     "output_type": "display_data"
    },
    {
     "name": "stderr",
     "output_type": "stream",
     "text": [
      "[INFO][2022/02/23 10:22:12 PM] Opening HDF file: /home/nathan/data/kraken/ras/ND0011/Pos6/untrans_objects_type_1.h5...\n",
      "[INFO][2022/02/23 10:22:14 PM] Writing objects/obj_type_1\n",
      "[INFO][2022/02/23 10:22:14 PM] Writing labels/obj_type_1\n",
      "[INFO][2022/02/23 10:22:14 PM] Loading objects/obj_type_1 (275452, 5) (275452 filtered: None)\n",
      "[INFO][2022/02/23 10:22:17 PM] Writing properties/obj_type_1/area (275452,)\n",
      "[INFO][2022/02/23 10:22:17 PM] Writing properties/obj_type_1/class id (275452,)\n",
      "[INFO][2022/02/23 10:22:17 PM] Writing properties/obj_type_1/prob_interphase (275452,)\n",
      "[INFO][2022/02/23 10:22:17 PM] Writing properties/obj_type_1/prob_prometaphase (275452,)\n",
      "[INFO][2022/02/23 10:22:17 PM] Writing properties/obj_type_1/prob_metaphase (275452,)\n",
      "[INFO][2022/02/23 10:22:17 PM] Writing properties/obj_type_1/prob_anaphase (275452,)\n",
      "[INFO][2022/02/23 10:22:17 PM] Writing properties/obj_type_1/prob_apoptosis (275452,)\n",
      "[INFO][2022/02/23 10:22:17 PM] Closing HDF file: /home/nathan/data/kraken/ras/ND0011/Pos6/untrans_objects_type_1.h5\n",
      "[INFO][2022/02/23 10:22:18 PM] Opening HDF file: /home/nathan/data/kraken/ras/ND0011/Pos6/untrans_objects_type_2.h5...\n",
      "[INFO][2022/02/23 10:22:18 PM] Writing objects/obj_type_2\n",
      "[INFO][2022/02/23 10:22:18 PM] Writing labels/obj_type_2\n",
      "[INFO][2022/02/23 10:22:18 PM] Loading objects/obj_type_2 (38933, 5) (38933 filtered: None)\n",
      "[INFO][2022/02/23 10:22:18 PM] Writing properties/obj_type_2/area (38933,)\n",
      "[INFO][2022/02/23 10:22:18 PM] Writing properties/obj_type_2/class id (38933,)\n",
      "[INFO][2022/02/23 10:22:18 PM] Writing properties/obj_type_2/prob_interphase (38933,)\n",
      "[INFO][2022/02/23 10:22:18 PM] Writing properties/obj_type_2/prob_prometaphase (38933,)\n",
      "[INFO][2022/02/23 10:22:18 PM] Writing properties/obj_type_2/prob_metaphase (38933,)\n",
      "[INFO][2022/02/23 10:22:18 PM] Writing properties/obj_type_2/prob_anaphase (38933,)\n",
      "[INFO][2022/02/23 10:22:18 PM] Writing properties/obj_type_2/prob_apoptosis (38933,)\n",
      "[INFO][2022/02/23 10:22:18 PM] Closing HDF file: /home/nathan/data/kraken/ras/ND0011/Pos6/untrans_objects_type_2.h5\n"
     ]
    },
    {
     "name": "stdout",
     "output_type": "stream",
     "text": [
      "ND0011 Pos7 enough masks\n",
      "Starting ND0011/Pos7\n"
     ]
    },
    {
     "name": "stderr",
     "output_type": "stream",
     "text": [
      "[INFO][2022/02/23 10:22:21 PM] Localizing objects from segmentation...\n",
      "[INFO][2022/02/23 10:25:43 PM] Objects are of type: <class 'dict'>\n",
      "[INFO][2022/02/23 10:25:47 PM] ...Found 358794 objects in 1646 frames.\n"
     ]
    },
    {
     "name": "stdout",
     "output_type": "stream",
     "text": [
      "Classifying objects\n"
     ]
    },
    {
     "data": {
      "application/vnd.jupyter.widget-view+json": {
       "model_id": "f2e26c8373cf4f78afa7417ba0760fcb",
       "version_major": 2,
       "version_minor": 0
      },
      "text/plain": [
       "  0%|          | 0/1646 [00:00<?, ?it/s]"
      ]
     },
     "metadata": {},
     "output_type": "display_data"
    },
    {
     "data": {
      "application/vnd.jupyter.widget-view+json": {
       "model_id": "ff398fd7360740bba050f2378a4c27c7",
       "version_major": 2,
       "version_minor": 0
      },
      "text/plain": [
       "  0%|          | 0/1646 [00:00<?, ?it/s]"
      ]
     },
     "metadata": {},
     "output_type": "display_data"
    },
    {
     "name": "stderr",
     "output_type": "stream",
     "text": [
      "[INFO][2022/02/23 10:58:49 PM] Opening HDF file: /home/nathan/data/kraken/ras/ND0011/Pos7/untrans_objects_type_1.h5...\n",
      "[INFO][2022/02/23 10:58:53 PM] Writing objects/obj_type_1\n",
      "[INFO][2022/02/23 10:58:53 PM] Writing labels/obj_type_1\n",
      "[INFO][2022/02/23 10:58:53 PM] Loading objects/obj_type_1 (326972, 5) (326972 filtered: None)\n",
      "[INFO][2022/02/23 10:58:57 PM] Writing properties/obj_type_1/area (326972,)\n",
      "[INFO][2022/02/23 10:58:57 PM] Writing properties/obj_type_1/class id (326972,)\n",
      "[INFO][2022/02/23 10:58:57 PM] Writing properties/obj_type_1/prob_interphase (326972,)\n",
      "[INFO][2022/02/23 10:58:57 PM] Writing properties/obj_type_1/prob_prometaphase (326972,)\n",
      "[INFO][2022/02/23 10:58:57 PM] Writing properties/obj_type_1/prob_metaphase (326972,)\n",
      "[INFO][2022/02/23 10:58:57 PM] Writing properties/obj_type_1/prob_anaphase (326972,)\n",
      "[INFO][2022/02/23 10:58:57 PM] Writing properties/obj_type_1/prob_apoptosis (326972,)\n",
      "[INFO][2022/02/23 10:58:58 PM] Closing HDF file: /home/nathan/data/kraken/ras/ND0011/Pos7/untrans_objects_type_1.h5\n",
      "[INFO][2022/02/23 10:58:58 PM] Opening HDF file: /home/nathan/data/kraken/ras/ND0011/Pos7/untrans_objects_type_2.h5...\n",
      "[INFO][2022/02/23 10:58:58 PM] Writing objects/obj_type_2\n",
      "[INFO][2022/02/23 10:58:58 PM] Writing labels/obj_type_2\n",
      "[INFO][2022/02/23 10:58:58 PM] Loading objects/obj_type_2 (31822, 5) (31822 filtered: None)\n",
      "[INFO][2022/02/23 10:58:58 PM] Writing properties/obj_type_2/area (31822,)\n",
      "[INFO][2022/02/23 10:58:58 PM] Writing properties/obj_type_2/class id (31822,)\n",
      "[INFO][2022/02/23 10:58:58 PM] Writing properties/obj_type_2/prob_interphase (31822,)\n",
      "[INFO][2022/02/23 10:58:58 PM] Writing properties/obj_type_2/prob_prometaphase (31822,)\n",
      "[INFO][2022/02/23 10:58:58 PM] Writing properties/obj_type_2/prob_metaphase (31822,)\n",
      "[INFO][2022/02/23 10:58:58 PM] Writing properties/obj_type_2/prob_anaphase (31822,)\n",
      "[INFO][2022/02/23 10:58:58 PM] Writing properties/obj_type_2/prob_apoptosis (31822,)\n",
      "[INFO][2022/02/23 10:58:58 PM] Closing HDF file: /home/nathan/data/kraken/ras/ND0011/Pos7/untrans_objects_type_2.h5\n"
     ]
    },
    {
     "name": "stdout",
     "output_type": "stream",
     "text": [
      "ND0011 Pos8 enough masks\n",
      "Starting ND0011/Pos8\n"
     ]
    },
    {
     "name": "stderr",
     "output_type": "stream",
     "text": [
      "[INFO][2022/02/23 10:59:00 PM] Localizing objects from segmentation...\n",
      "[INFO][2022/02/23 11:01:28 PM] Objects are of type: <class 'dict'>\n",
      "[INFO][2022/02/23 11:01:28 PM] ...Found 2502 objects in 1645 frames.\n"
     ]
    },
    {
     "name": "stdout",
     "output_type": "stream",
     "text": [
      "Classifying objects\n"
     ]
    },
    {
     "data": {
      "application/vnd.jupyter.widget-view+json": {
       "model_id": "55612d36a0004c8687e193b5456e6226",
       "version_major": 2,
       "version_minor": 0
      },
      "text/plain": [
       "  0%|          | 0/1645 [00:00<?, ?it/s]"
      ]
     },
     "metadata": {},
     "output_type": "display_data"
    },
    {
     "data": {
      "application/vnd.jupyter.widget-view+json": {
       "model_id": "7516dda537a64d7dac3dc5a80fd3b907",
       "version_major": 2,
       "version_minor": 0
      },
      "text/plain": [
       "  0%|          | 0/1645 [00:00<?, ?it/s]"
      ]
     },
     "metadata": {},
     "output_type": "display_data"
    },
    {
     "name": "stderr",
     "output_type": "stream",
     "text": [
      "[INFO][2022/02/23 11:12:28 PM] Opening HDF file: /home/nathan/data/kraken/ras/ND0011/Pos8/untrans_objects_type_1.h5...\n",
      "[INFO][2022/02/23 11:12:29 PM] Writing objects/obj_type_1\n",
      "[INFO][2022/02/23 11:12:29 PM] Writing labels/obj_type_1\n",
      "[INFO][2022/02/23 11:12:29 PM] Loading objects/obj_type_1 (2491, 5) (2491 filtered: None)\n",
      "[INFO][2022/02/23 11:12:29 PM] Writing properties/obj_type_1/area (2491,)\n",
      "[INFO][2022/02/23 11:12:29 PM] Writing properties/obj_type_1/class id (2491,)\n",
      "[INFO][2022/02/23 11:12:29 PM] Writing properties/obj_type_1/prob_interphase (2491,)\n",
      "[INFO][2022/02/23 11:12:29 PM] Writing properties/obj_type_1/prob_prometaphase (2491,)\n",
      "[INFO][2022/02/23 11:12:29 PM] Writing properties/obj_type_1/prob_metaphase (2491,)\n",
      "[INFO][2022/02/23 11:12:29 PM] Writing properties/obj_type_1/prob_anaphase (2491,)\n",
      "[INFO][2022/02/23 11:12:29 PM] Writing properties/obj_type_1/prob_apoptosis (2491,)\n",
      "[INFO][2022/02/23 11:12:29 PM] Closing HDF file: /home/nathan/data/kraken/ras/ND0011/Pos8/untrans_objects_type_1.h5\n",
      "[INFO][2022/02/23 11:12:29 PM] Opening HDF file: /home/nathan/data/kraken/ras/ND0011/Pos8/untrans_objects_type_2.h5...\n",
      "[INFO][2022/02/23 11:12:29 PM] Writing objects/obj_type_2\n",
      "[INFO][2022/02/23 11:12:29 PM] Writing labels/obj_type_2\n",
      "[INFO][2022/02/23 11:12:29 PM] Loading objects/obj_type_2 (11, 5) (11 filtered: None)\n",
      "[INFO][2022/02/23 11:12:29 PM] Writing properties/obj_type_2/area (11,)\n",
      "[INFO][2022/02/23 11:12:29 PM] Writing properties/obj_type_2/class id (11,)\n",
      "[INFO][2022/02/23 11:12:29 PM] Writing properties/obj_type_2/prob_interphase (11,)\n",
      "[INFO][2022/02/23 11:12:29 PM] Writing properties/obj_type_2/prob_prometaphase (11,)\n",
      "[INFO][2022/02/23 11:12:29 PM] Writing properties/obj_type_2/prob_metaphase (11,)\n",
      "[INFO][2022/02/23 11:12:29 PM] Writing properties/obj_type_2/prob_anaphase (11,)\n",
      "[INFO][2022/02/23 11:12:29 PM] Writing properties/obj_type_2/prob_apoptosis (11,)\n",
      "[INFO][2022/02/23 11:12:29 PM] Closing HDF file: /home/nathan/data/kraken/ras/ND0011/Pos8/untrans_objects_type_2.h5\n"
     ]
    },
    {
     "name": "stdout",
     "output_type": "stream",
     "text": [
      "ND0011 Pos9 enough masks\n",
      "Starting ND0011/Pos9\n"
     ]
    },
    {
     "name": "stderr",
     "output_type": "stream",
     "text": [
      "[INFO][2022/02/23 11:12:31 PM] Localizing objects from segmentation...\n",
      "[INFO][2022/02/23 11:14:56 PM] Objects are of type: <class 'dict'>\n",
      "[INFO][2022/02/23 11:14:56 PM] ...Found 2761 objects in 1646 frames.\n"
     ]
    },
    {
     "name": "stdout",
     "output_type": "stream",
     "text": [
      "Classifying objects\n"
     ]
    },
    {
     "data": {
      "application/vnd.jupyter.widget-view+json": {
       "model_id": "aa476413ce2a4cde9f9875162dc91210",
       "version_major": 2,
       "version_minor": 0
      },
      "text/plain": [
       "  0%|          | 0/1646 [00:00<?, ?it/s]"
      ]
     },
     "metadata": {},
     "output_type": "display_data"
    },
    {
     "data": {
      "application/vnd.jupyter.widget-view+json": {
       "model_id": "9148139cf73347c38f6598c846a3beb7",
       "version_major": 2,
       "version_minor": 0
      },
      "text/plain": [
       "  0%|          | 0/1646 [00:00<?, ?it/s]"
      ]
     },
     "metadata": {},
     "output_type": "display_data"
    },
    {
     "name": "stderr",
     "output_type": "stream",
     "text": [
      "[INFO][2022/02/23 11:27:36 PM] Opening HDF file: /home/nathan/data/kraken/ras/ND0011/Pos9/untrans_objects_type_1.h5...\n",
      "[INFO][2022/02/23 11:27:36 PM] Writing objects/obj_type_1\n",
      "[INFO][2022/02/23 11:27:36 PM] Writing labels/obj_type_1\n",
      "[INFO][2022/02/23 11:27:36 PM] Loading objects/obj_type_1 (2754, 5) (2754 filtered: None)\n",
      "[INFO][2022/02/23 11:27:36 PM] Writing properties/obj_type_1/area (2754,)\n",
      "[INFO][2022/02/23 11:27:36 PM] Writing properties/obj_type_1/class id (2754,)\n",
      "[INFO][2022/02/23 11:27:36 PM] Writing properties/obj_type_1/prob_interphase (2754,)\n",
      "[INFO][2022/02/23 11:27:36 PM] Writing properties/obj_type_1/prob_prometaphase (2754,)\n",
      "[INFO][2022/02/23 11:27:36 PM] Writing properties/obj_type_1/prob_metaphase (2754,)\n",
      "[INFO][2022/02/23 11:27:36 PM] Writing properties/obj_type_1/prob_anaphase (2754,)\n",
      "[INFO][2022/02/23 11:27:36 PM] Writing properties/obj_type_1/prob_apoptosis (2754,)\n",
      "[INFO][2022/02/23 11:27:36 PM] Closing HDF file: /home/nathan/data/kraken/ras/ND0011/Pos9/untrans_objects_type_1.h5\n",
      "[INFO][2022/02/23 11:27:36 PM] Opening HDF file: /home/nathan/data/kraken/ras/ND0011/Pos9/untrans_objects_type_2.h5...\n",
      "[INFO][2022/02/23 11:27:36 PM] Writing objects/obj_type_2\n",
      "[INFO][2022/02/23 11:27:36 PM] Writing labels/obj_type_2\n",
      "[INFO][2022/02/23 11:27:36 PM] Loading objects/obj_type_2 (7, 5) (7 filtered: None)\n",
      "[INFO][2022/02/23 11:27:36 PM] Writing properties/obj_type_2/area (7,)\n",
      "[INFO][2022/02/23 11:27:36 PM] Writing properties/obj_type_2/class id (7,)\n",
      "[INFO][2022/02/23 11:27:36 PM] Writing properties/obj_type_2/prob_interphase (7,)\n",
      "[INFO][2022/02/23 11:27:36 PM] Writing properties/obj_type_2/prob_prometaphase (7,)\n",
      "[INFO][2022/02/23 11:27:36 PM] Writing properties/obj_type_2/prob_metaphase (7,)\n",
      "[INFO][2022/02/23 11:27:36 PM] Writing properties/obj_type_2/prob_anaphase (7,)\n",
      "[INFO][2022/02/23 11:27:36 PM] Writing properties/obj_type_2/prob_apoptosis (7,)\n",
      "[INFO][2022/02/23 11:27:36 PM] Closing HDF file: /home/nathan/data/kraken/ras/ND0011/Pos9/untrans_objects_type_2.h5\n"
     ]
    },
    {
     "name": "stdout",
     "output_type": "stream",
     "text": [
      "ND0011 Pos10 enough masks\n",
      "Starting ND0011/Pos10\n"
     ]
    },
    {
     "name": "stderr",
     "output_type": "stream",
     "text": [
      "[INFO][2022/02/23 11:27:37 PM] Localizing objects from segmentation...\n",
      "[INFO][2022/02/23 11:29:35 PM] Objects are of type: <class 'dict'>\n",
      "[INFO][2022/02/23 11:29:35 PM] ...Found 1174 objects in 1615 frames.\n"
     ]
    },
    {
     "name": "stdout",
     "output_type": "stream",
     "text": [
      "Classifying objects\n"
     ]
    },
    {
     "data": {
      "application/vnd.jupyter.widget-view+json": {
       "model_id": "a643906aa4ec44d7908857d6d6e92ece",
       "version_major": 2,
       "version_minor": 0
      },
      "text/plain": [
       "  0%|          | 0/1640 [00:00<?, ?it/s]"
      ]
     },
     "metadata": {},
     "output_type": "display_data"
    },
    {
     "data": {
      "application/vnd.jupyter.widget-view+json": {
       "model_id": "a5c0a72af99842768e291d5dfd99c507",
       "version_major": 2,
       "version_minor": 0
      },
      "text/plain": [
       "  0%|          | 0/1640 [00:00<?, ?it/s]"
      ]
     },
     "metadata": {},
     "output_type": "display_data"
    },
    {
     "name": "stderr",
     "output_type": "stream",
     "text": [
      "[INFO][2022/02/23 11:40:15 PM] Opening HDF file: /home/nathan/data/kraken/ras/ND0011/Pos10/untrans_objects_type_1.h5...\n",
      "[INFO][2022/02/23 11:40:15 PM] Writing objects/obj_type_1\n",
      "[INFO][2022/02/23 11:40:15 PM] Writing labels/obj_type_1\n",
      "[INFO][2022/02/23 11:40:15 PM] Loading objects/obj_type_1 (1168, 5) (1168 filtered: None)\n",
      "[INFO][2022/02/23 11:40:15 PM] Writing properties/obj_type_1/area (1168,)\n",
      "[INFO][2022/02/23 11:40:15 PM] Writing properties/obj_type_1/class id (1168,)\n",
      "[INFO][2022/02/23 11:40:15 PM] Writing properties/obj_type_1/prob_interphase (1168,)\n",
      "[INFO][2022/02/23 11:40:15 PM] Writing properties/obj_type_1/prob_prometaphase (1168,)\n",
      "[INFO][2022/02/23 11:40:15 PM] Writing properties/obj_type_1/prob_metaphase (1168,)\n",
      "[INFO][2022/02/23 11:40:15 PM] Writing properties/obj_type_1/prob_anaphase (1168,)\n",
      "[INFO][2022/02/23 11:40:15 PM] Writing properties/obj_type_1/prob_apoptosis (1168,)\n",
      "[INFO][2022/02/23 11:40:15 PM] Closing HDF file: /home/nathan/data/kraken/ras/ND0011/Pos10/untrans_objects_type_1.h5\n",
      "[INFO][2022/02/23 11:40:15 PM] Opening HDF file: /home/nathan/data/kraken/ras/ND0011/Pos10/untrans_objects_type_2.h5...\n",
      "[INFO][2022/02/23 11:40:15 PM] Writing objects/obj_type_2\n",
      "[INFO][2022/02/23 11:40:15 PM] Writing labels/obj_type_2\n",
      "[INFO][2022/02/23 11:40:15 PM] Loading objects/obj_type_2 (6, 5) (6 filtered: None)\n",
      "[INFO][2022/02/23 11:40:15 PM] Writing properties/obj_type_2/area (6,)\n",
      "[INFO][2022/02/23 11:40:15 PM] Writing properties/obj_type_2/class id (6,)\n",
      "[INFO][2022/02/23 11:40:15 PM] Writing properties/obj_type_2/prob_interphase (6,)\n",
      "[INFO][2022/02/23 11:40:15 PM] Writing properties/obj_type_2/prob_prometaphase (6,)\n",
      "[INFO][2022/02/23 11:40:15 PM] Writing properties/obj_type_2/prob_metaphase (6,)\n",
      "[INFO][2022/02/23 11:40:15 PM] Writing properties/obj_type_2/prob_anaphase (6,)\n",
      "[INFO][2022/02/23 11:40:15 PM] Writing properties/obj_type_2/prob_apoptosis (6,)\n",
      "[INFO][2022/02/23 11:40:15 PM] Closing HDF file: /home/nathan/data/kraken/ras/ND0011/Pos10/untrans_objects_type_2.h5\n"
     ]
    },
    {
     "name": "stdout",
     "output_type": "stream",
     "text": [
      "['/home/nathan/data/kraken/ras/ND0011/Pos11/untrans_no_bg_objects_type_2.h5', '/home/nathan/data/kraken/ras/ND0011/Pos11/untrans_no_bg_objects_type_1.h5'] file found, skipping ND0011/Pos11\n"
     ]
    },
    {
     "data": {
      "application/vnd.jupyter.widget-view+json": {
       "model_id": "e0d488c6357b41e6ae9062d50daf4e9b",
       "version_major": 2,
       "version_minor": 0
      },
      "text/plain": [
       "  0%|          | 0/1 [00:00<?, ?it/s]"
      ]
     },
     "metadata": {},
     "output_type": "display_data"
    },
    {
     "data": {
      "application/vnd.jupyter.widget-view+json": {
       "model_id": "52adb7fad88446dda6c9875cc92e6228",
       "version_major": 2,
       "version_minor": 0
      },
      "text/plain": [
       "  0%|          | 0/12 [00:00<?, ?it/s]"
      ]
     },
     "metadata": {},
     "output_type": "display_data"
    },
    {
     "name": "stdout",
     "output_type": "stream",
     "text": [
      "ND0011 Pos0 enough masks\n",
      "Starting ND0011/Pos0\n"
     ]
    },
    {
     "name": "stderr",
     "output_type": "stream",
     "text": [
      "[INFO][2022/02/23 11:40:17 PM] Localizing objects from segmentation...\n",
      "[INFO][2022/02/23 11:43:31 PM] Objects are of type: <class 'dict'>\n",
      "[INFO][2022/02/23 11:43:32 PM] ...Found 222287 objects in 1637 frames.\n"
     ]
    },
    {
     "name": "stdout",
     "output_type": "stream",
     "text": [
      "Classifying objects\n"
     ]
    },
    {
     "data": {
      "application/vnd.jupyter.widget-view+json": {
       "model_id": "3b6e3d82632543cab33035b2d38b2509",
       "version_major": 2,
       "version_minor": 0
      },
      "text/plain": [
       "  0%|          | 0/1637 [00:00<?, ?it/s]"
      ]
     },
     "metadata": {},
     "output_type": "display_data"
    },
    {
     "data": {
      "application/vnd.jupyter.widget-view+json": {
       "model_id": "21e3dbcf13ab4af9b1d8fcbb300f4ffc",
       "version_major": 2,
       "version_minor": 0
      },
      "text/plain": [
       "  0%|          | 0/1637 [00:00<?, ?it/s]"
      ]
     },
     "metadata": {},
     "output_type": "display_data"
    },
    {
     "name": "stderr",
     "output_type": "stream",
     "text": [
      "[INFO][2022/02/24 12:08:05 AM] Opening HDF file: /home/nathan/data/kraken/ras/ND0011/Pos0/untrans_objects_type_1.h5...\n",
      "[INFO][2022/02/24 12:08:05 AM] Writing objects/obj_type_1\n",
      "[INFO][2022/02/24 12:08:05 AM] Writing labels/obj_type_1\n",
      "[INFO][2022/02/24 12:08:05 AM] Loading objects/obj_type_1 (866, 5) (866 filtered: None)\n",
      "[INFO][2022/02/24 12:08:05 AM] Writing properties/obj_type_1/area (866,)\n",
      "[INFO][2022/02/24 12:08:05 AM] Writing properties/obj_type_1/class id (866,)\n",
      "[INFO][2022/02/24 12:08:05 AM] Writing properties/obj_type_1/prob_interphase (866,)\n",
      "[INFO][2022/02/24 12:08:05 AM] Writing properties/obj_type_1/prob_prometaphase (866,)\n",
      "[INFO][2022/02/24 12:08:05 AM] Writing properties/obj_type_1/prob_metaphase (866,)\n",
      "[INFO][2022/02/24 12:08:05 AM] Writing properties/obj_type_1/prob_anaphase (866,)\n",
      "[INFO][2022/02/24 12:08:05 AM] Writing properties/obj_type_1/prob_apoptosis (866,)\n",
      "[INFO][2022/02/24 12:08:05 AM] Closing HDF file: /home/nathan/data/kraken/ras/ND0011/Pos0/untrans_objects_type_1.h5\n",
      "[INFO][2022/02/24 12:08:05 AM] Opening HDF file: /home/nathan/data/kraken/ras/ND0011/Pos0/untrans_objects_type_2.h5...\n",
      "[INFO][2022/02/24 12:08:07 AM] Writing objects/obj_type_2\n",
      "[INFO][2022/02/24 12:08:07 AM] Writing labels/obj_type_2\n",
      "[INFO][2022/02/24 12:08:07 AM] Loading objects/obj_type_2 (221421, 5) (221421 filtered: None)\n",
      "[INFO][2022/02/24 12:08:11 AM] Writing properties/obj_type_2/area (221421,)\n",
      "[INFO][2022/02/24 12:08:11 AM] Writing properties/obj_type_2/class id (221421,)\n",
      "[INFO][2022/02/24 12:08:11 AM] Writing properties/obj_type_2/prob_interphase (221421,)\n",
      "[INFO][2022/02/24 12:08:11 AM] Writing properties/obj_type_2/prob_prometaphase (221421,)\n",
      "[INFO][2022/02/24 12:08:11 AM] Writing properties/obj_type_2/prob_metaphase (221421,)\n",
      "[INFO][2022/02/24 12:08:11 AM] Writing properties/obj_type_2/prob_anaphase (221421,)\n",
      "[INFO][2022/02/24 12:08:11 AM] Writing properties/obj_type_2/prob_apoptosis (221421,)\n",
      "[INFO][2022/02/24 12:08:11 AM] Closing HDF file: /home/nathan/data/kraken/ras/ND0011/Pos0/untrans_objects_type_2.h5\n"
     ]
    },
    {
     "name": "stdout",
     "output_type": "stream",
     "text": [
      "['/home/nathan/data/kraken/ras/ND0011/Pos1/untrans_no_bg_objects_type_2.h5', '/home/nathan/data/kraken/ras/ND0011/Pos1/untrans_no_bg_objects_type_1.h5'] file found, skipping ND0011/Pos1\n",
      "ND0011 Pos2 enough masks\n",
      "Starting ND0011/Pos2\n"
     ]
    },
    {
     "name": "stderr",
     "output_type": "stream",
     "text": [
      "[INFO][2022/02/24 12:08:13 AM] Localizing objects from segmentation...\n",
      "[INFO][2022/02/24 12:12:20 AM] Objects are of type: <class 'dict'>\n",
      "[INFO][2022/02/24 12:12:27 AM] ...Found 678907 objects in 1636 frames.\n"
     ]
    },
    {
     "name": "stdout",
     "output_type": "stream",
     "text": [
      "Classifying objects\n"
     ]
    },
    {
     "data": {
      "application/vnd.jupyter.widget-view+json": {
       "model_id": "612497a0775b4f6bb0dfb575e74a6ea1",
       "version_major": 2,
       "version_minor": 0
      },
      "text/plain": [
       "  0%|          | 0/1636 [00:00<?, ?it/s]"
      ]
     },
     "metadata": {},
     "output_type": "display_data"
    },
    {
     "data": {
      "application/vnd.jupyter.widget-view+json": {
       "model_id": "b5b2a5414829482e98c5c6336e2f34ad",
       "version_major": 2,
       "version_minor": 0
      },
      "text/plain": [
       "  0%|          | 0/1636 [00:00<?, ?it/s]"
      ]
     },
     "metadata": {},
     "output_type": "display_data"
    },
    {
     "name": "stderr",
     "output_type": "stream",
     "text": [
      "[INFO][2022/02/24 01:02:06 AM] Opening HDF file: /home/nathan/data/kraken/ras/ND0011/Pos2/untrans_objects_type_1.h5...\n",
      "[INFO][2022/02/24 01:02:06 AM] Writing objects/obj_type_1\n",
      "[INFO][2022/02/24 01:02:06 AM] Writing labels/obj_type_1\n",
      "[INFO][2022/02/24 01:02:06 AM] Loading objects/obj_type_1 (1208, 5) (1208 filtered: None)\n",
      "[INFO][2022/02/24 01:02:06 AM] Writing properties/obj_type_1/area (1208,)\n",
      "[INFO][2022/02/24 01:02:06 AM] Writing properties/obj_type_1/class id (1208,)\n",
      "[INFO][2022/02/24 01:02:06 AM] Writing properties/obj_type_1/prob_interphase (1208,)\n",
      "[INFO][2022/02/24 01:02:06 AM] Writing properties/obj_type_1/prob_prometaphase (1208,)\n",
      "[INFO][2022/02/24 01:02:06 AM] Writing properties/obj_type_1/prob_metaphase (1208,)\n",
      "[INFO][2022/02/24 01:02:06 AM] Writing properties/obj_type_1/prob_anaphase (1208,)\n",
      "[INFO][2022/02/24 01:02:06 AM] Writing properties/obj_type_1/prob_apoptosis (1208,)\n",
      "[INFO][2022/02/24 01:02:06 AM] Closing HDF file: /home/nathan/data/kraken/ras/ND0011/Pos2/untrans_objects_type_1.h5\n",
      "[INFO][2022/02/24 01:02:06 AM] Opening HDF file: /home/nathan/data/kraken/ras/ND0011/Pos2/untrans_objects_type_2.h5...\n",
      "[INFO][2022/02/24 01:02:12 AM] Writing objects/obj_type_2\n",
      "[INFO][2022/02/24 01:02:12 AM] Writing labels/obj_type_2\n",
      "[INFO][2022/02/24 01:02:12 AM] Loading objects/obj_type_2 (677699, 5) (677699 filtered: None)\n",
      "[INFO][2022/02/24 01:02:21 AM] Writing properties/obj_type_2/area (677699,)\n",
      "[INFO][2022/02/24 01:02:21 AM] Writing properties/obj_type_2/class id (677699,)\n",
      "[INFO][2022/02/24 01:02:21 AM] Writing properties/obj_type_2/prob_interphase (677699,)\n",
      "[INFO][2022/02/24 01:02:21 AM] Writing properties/obj_type_2/prob_prometaphase (677699,)\n",
      "[INFO][2022/02/24 01:02:21 AM] Writing properties/obj_type_2/prob_metaphase (677699,)\n",
      "[INFO][2022/02/24 01:02:21 AM] Writing properties/obj_type_2/prob_anaphase (677699,)\n",
      "[INFO][2022/02/24 01:02:21 AM] Writing properties/obj_type_2/prob_apoptosis (677699,)\n",
      "[INFO][2022/02/24 01:02:21 AM] Closing HDF file: /home/nathan/data/kraken/ras/ND0011/Pos2/untrans_objects_type_2.h5\n"
     ]
    },
    {
     "name": "stdout",
     "output_type": "stream",
     "text": [
      "ND0011 Pos4 enough masks\n",
      "Starting ND0011/Pos4\n"
     ]
    },
    {
     "name": "stderr",
     "output_type": "stream",
     "text": [
      "[INFO][2022/02/24 01:02:23 AM] Localizing objects from segmentation...\n",
      "[INFO][2022/02/24 01:06:37 AM] Objects are of type: <class 'dict'>\n",
      "[INFO][2022/02/24 01:06:41 AM] ...Found 619816 objects in 1640 frames.\n"
     ]
    },
    {
     "name": "stdout",
     "output_type": "stream",
     "text": [
      "Classifying objects\n"
     ]
    },
    {
     "data": {
      "application/vnd.jupyter.widget-view+json": {
       "model_id": "fc1e8543e47349758d936ffc89595b92",
       "version_major": 2,
       "version_minor": 0
      },
      "text/plain": [
       "  0%|          | 0/1640 [00:00<?, ?it/s]"
      ]
     },
     "metadata": {},
     "output_type": "display_data"
    },
    {
     "data": {
      "application/vnd.jupyter.widget-view+json": {
       "model_id": "3028818e4a754b8587b84b7c004ed6eb",
       "version_major": 2,
       "version_minor": 0
      },
      "text/plain": [
       "  0%|          | 0/1640 [00:00<?, ?it/s]"
      ]
     },
     "metadata": {},
     "output_type": "display_data"
    },
    {
     "name": "stderr",
     "output_type": "stream",
     "text": [
      "[INFO][2022/02/24 01:52:58 AM] Opening HDF file: /home/nathan/data/kraken/ras/ND0011/Pos4/untrans_objects_type_1.h5...\n",
      "[INFO][2022/02/24 01:53:04 AM] Writing objects/obj_type_1\n",
      "[INFO][2022/02/24 01:53:04 AM] Writing labels/obj_type_1\n",
      "[INFO][2022/02/24 01:53:04 AM] Loading objects/obj_type_1 (553131, 5) (553131 filtered: None)\n",
      "[INFO][2022/02/24 01:53:12 AM] Writing properties/obj_type_1/area (553131,)\n",
      "[INFO][2022/02/24 01:53:12 AM] Writing properties/obj_type_1/class id (553131,)\n",
      "[INFO][2022/02/24 01:53:12 AM] Writing properties/obj_type_1/prob_interphase (553131,)\n",
      "[INFO][2022/02/24 01:53:12 AM] Writing properties/obj_type_1/prob_prometaphase (553131,)\n",
      "[INFO][2022/02/24 01:53:13 AM] Writing properties/obj_type_1/prob_metaphase (553131,)\n",
      "[INFO][2022/02/24 01:53:13 AM] Writing properties/obj_type_1/prob_anaphase (553131,)\n",
      "[INFO][2022/02/24 01:53:13 AM] Writing properties/obj_type_1/prob_apoptosis (553131,)\n",
      "[INFO][2022/02/24 01:53:13 AM] Closing HDF file: /home/nathan/data/kraken/ras/ND0011/Pos4/untrans_objects_type_1.h5\n",
      "[INFO][2022/02/24 01:53:13 AM] Opening HDF file: /home/nathan/data/kraken/ras/ND0011/Pos4/untrans_objects_type_2.h5...\n",
      "[INFO][2022/02/24 01:53:14 AM] Writing objects/obj_type_2\n",
      "[INFO][2022/02/24 01:53:14 AM] Writing labels/obj_type_2\n",
      "[INFO][2022/02/24 01:53:14 AM] Loading objects/obj_type_2 (66685, 5) (66685 filtered: None)\n",
      "[INFO][2022/02/24 01:53:14 AM] Writing properties/obj_type_2/area (66685,)\n",
      "[INFO][2022/02/24 01:53:15 AM] Writing properties/obj_type_2/class id (66685,)\n",
      "[INFO][2022/02/24 01:53:15 AM] Writing properties/obj_type_2/prob_interphase (66685,)\n",
      "[INFO][2022/02/24 01:53:15 AM] Writing properties/obj_type_2/prob_prometaphase (66685,)\n",
      "[INFO][2022/02/24 01:53:15 AM] Writing properties/obj_type_2/prob_metaphase (66685,)\n",
      "[INFO][2022/02/24 01:53:15 AM] Writing properties/obj_type_2/prob_anaphase (66685,)\n",
      "[INFO][2022/02/24 01:53:15 AM] Writing properties/obj_type_2/prob_apoptosis (66685,)\n",
      "[INFO][2022/02/24 01:53:15 AM] Closing HDF file: /home/nathan/data/kraken/ras/ND0011/Pos4/untrans_objects_type_2.h5\n"
     ]
    },
    {
     "name": "stdout",
     "output_type": "stream",
     "text": [
      "['/home/nathan/data/kraken/ras/ND0011/Pos5/untrans_no_bg_objects_type_2.h5', '/home/nathan/data/kraken/ras/ND0011/Pos5/untrans_no_bg_objects_type_1.h5'] file found, skipping ND0011/Pos5\n",
      "ND0011 Pos6 enough masks\n",
      "Starting ND0011/Pos6\n"
     ]
    },
    {
     "name": "stderr",
     "output_type": "stream",
     "text": [
      "[INFO][2022/02/24 01:53:17 AM] Localizing objects from segmentation...\n",
      "[INFO][2022/02/24 01:56:41 AM] Objects are of type: <class 'dict'>\n",
      "[INFO][2022/02/24 01:56:43 AM] ...Found 314385 objects in 1638 frames.\n"
     ]
    },
    {
     "name": "stdout",
     "output_type": "stream",
     "text": [
      "Classifying objects\n"
     ]
    },
    {
     "data": {
      "application/vnd.jupyter.widget-view+json": {
       "model_id": "60d3ad816d784a94b451844ee0a1fffa",
       "version_major": 2,
       "version_minor": 0
      },
      "text/plain": [
       "  0%|          | 0/1638 [00:00<?, ?it/s]"
      ]
     },
     "metadata": {},
     "output_type": "display_data"
    },
    {
     "data": {
      "application/vnd.jupyter.widget-view+json": {
       "model_id": "1b83cbef83ab4b55b28fa58a46b9d19c",
       "version_major": 2,
       "version_minor": 0
      },
      "text/plain": [
       "  0%|          | 0/1638 [00:00<?, ?it/s]"
      ]
     },
     "metadata": {},
     "output_type": "display_data"
    },
    {
     "name": "stderr",
     "output_type": "stream",
     "text": [
      "[INFO][2022/02/24 02:26:50 AM] Opening HDF file: /home/nathan/data/kraken/ras/ND0011/Pos6/untrans_objects_type_1.h5...\n",
      "[INFO][2022/02/24 02:26:52 AM] Writing objects/obj_type_1\n",
      "[INFO][2022/02/24 02:26:52 AM] Writing labels/obj_type_1\n",
      "[INFO][2022/02/24 02:26:52 AM] Loading objects/obj_type_1 (275452, 5) (275452 filtered: None)\n",
      "[INFO][2022/02/24 02:26:56 AM] Writing properties/obj_type_1/area (275452,)\n",
      "[INFO][2022/02/24 02:26:56 AM] Writing properties/obj_type_1/class id (275452,)\n",
      "[INFO][2022/02/24 02:26:56 AM] Writing properties/obj_type_1/prob_interphase (275452,)\n",
      "[INFO][2022/02/24 02:26:56 AM] Writing properties/obj_type_1/prob_prometaphase (275452,)\n",
      "[INFO][2022/02/24 02:26:56 AM] Writing properties/obj_type_1/prob_metaphase (275452,)\n",
      "[INFO][2022/02/24 02:26:56 AM] Writing properties/obj_type_1/prob_anaphase (275452,)\n",
      "[INFO][2022/02/24 02:26:56 AM] Writing properties/obj_type_1/prob_apoptosis (275452,)\n",
      "[INFO][2022/02/24 02:26:56 AM] Closing HDF file: /home/nathan/data/kraken/ras/ND0011/Pos6/untrans_objects_type_1.h5\n",
      "[INFO][2022/02/24 02:26:57 AM] Opening HDF file: /home/nathan/data/kraken/ras/ND0011/Pos6/untrans_objects_type_2.h5...\n",
      "[INFO][2022/02/24 02:26:57 AM] Writing objects/obj_type_2\n",
      "[INFO][2022/02/24 02:26:57 AM] Writing labels/obj_type_2\n",
      "[INFO][2022/02/24 02:26:57 AM] Loading objects/obj_type_2 (38933, 5) (38933 filtered: None)\n",
      "[INFO][2022/02/24 02:26:57 AM] Writing properties/obj_type_2/area (38933,)\n",
      "[INFO][2022/02/24 02:26:57 AM] Writing properties/obj_type_2/class id (38933,)\n",
      "[INFO][2022/02/24 02:26:57 AM] Writing properties/obj_type_2/prob_interphase (38933,)\n",
      "[INFO][2022/02/24 02:26:57 AM] Writing properties/obj_type_2/prob_prometaphase (38933,)\n",
      "[INFO][2022/02/24 02:26:57 AM] Writing properties/obj_type_2/prob_metaphase (38933,)\n",
      "[INFO][2022/02/24 02:26:57 AM] Writing properties/obj_type_2/prob_anaphase (38933,)\n",
      "[INFO][2022/02/24 02:26:57 AM] Writing properties/obj_type_2/prob_apoptosis (38933,)\n",
      "[INFO][2022/02/24 02:26:57 AM] Closing HDF file: /home/nathan/data/kraken/ras/ND0011/Pos6/untrans_objects_type_2.h5\n"
     ]
    },
    {
     "name": "stdout",
     "output_type": "stream",
     "text": [
      "ND0011 Pos7 enough masks\n",
      "Starting ND0011/Pos7\n"
     ]
    },
    {
     "name": "stderr",
     "output_type": "stream",
     "text": [
      "[INFO][2022/02/24 02:27:00 AM] Localizing objects from segmentation...\n",
      "[INFO][2022/02/24 02:29:56 AM] Objects are of type: <class 'dict'>\n",
      "[INFO][2022/02/24 02:29:59 AM] ...Found 358794 objects in 1646 frames.\n"
     ]
    },
    {
     "name": "stdout",
     "output_type": "stream",
     "text": [
      "Classifying objects\n"
     ]
    },
    {
     "data": {
      "application/vnd.jupyter.widget-view+json": {
       "model_id": "a6f80380b790445ea62b96f8b0dc9799",
       "version_major": 2,
       "version_minor": 0
      },
      "text/plain": [
       "  0%|          | 0/1646 [00:00<?, ?it/s]"
      ]
     },
     "metadata": {},
     "output_type": "display_data"
    },
    {
     "data": {
      "application/vnd.jupyter.widget-view+json": {
       "model_id": "9a6c79bd119244d28aca8a820615a55e",
       "version_major": 2,
       "version_minor": 0
      },
      "text/plain": [
       "  0%|          | 0/1646 [00:00<?, ?it/s]"
      ]
     },
     "metadata": {},
     "output_type": "display_data"
    },
    {
     "name": "stderr",
     "output_type": "stream",
     "text": [
      "[INFO][2022/02/24 03:01:17 AM] Opening HDF file: /home/nathan/data/kraken/ras/ND0011/Pos7/untrans_objects_type_1.h5...\n",
      "[INFO][2022/02/24 03:01:19 AM] Writing objects/obj_type_1\n",
      "[INFO][2022/02/24 03:01:19 AM] Writing labels/obj_type_1\n",
      "[INFO][2022/02/24 03:01:19 AM] Loading objects/obj_type_1 (326972, 5) (326972 filtered: None)\n",
      "[INFO][2022/02/24 03:01:24 AM] Writing properties/obj_type_1/area (326972,)\n",
      "[INFO][2022/02/24 03:01:24 AM] Writing properties/obj_type_1/class id (326972,)\n",
      "[INFO][2022/02/24 03:01:24 AM] Writing properties/obj_type_1/prob_interphase (326972,)\n",
      "[INFO][2022/02/24 03:01:24 AM] Writing properties/obj_type_1/prob_prometaphase (326972,)\n",
      "[INFO][2022/02/24 03:01:24 AM] Writing properties/obj_type_1/prob_metaphase (326972,)\n",
      "[INFO][2022/02/24 03:01:24 AM] Writing properties/obj_type_1/prob_anaphase (326972,)\n",
      "[INFO][2022/02/24 03:01:24 AM] Writing properties/obj_type_1/prob_apoptosis (326972,)\n",
      "[INFO][2022/02/24 03:01:24 AM] Closing HDF file: /home/nathan/data/kraken/ras/ND0011/Pos7/untrans_objects_type_1.h5\n",
      "[INFO][2022/02/24 03:01:24 AM] Opening HDF file: /home/nathan/data/kraken/ras/ND0011/Pos7/untrans_objects_type_2.h5...\n",
      "[INFO][2022/02/24 03:01:24 AM] Writing objects/obj_type_2\n",
      "[INFO][2022/02/24 03:01:24 AM] Writing labels/obj_type_2\n",
      "[INFO][2022/02/24 03:01:24 AM] Loading objects/obj_type_2 (31822, 5) (31822 filtered: None)\n",
      "[INFO][2022/02/24 03:01:25 AM] Writing properties/obj_type_2/area (31822,)\n",
      "[INFO][2022/02/24 03:01:25 AM] Writing properties/obj_type_2/class id (31822,)\n",
      "[INFO][2022/02/24 03:01:25 AM] Writing properties/obj_type_2/prob_interphase (31822,)\n",
      "[INFO][2022/02/24 03:01:25 AM] Writing properties/obj_type_2/prob_prometaphase (31822,)\n",
      "[INFO][2022/02/24 03:01:25 AM] Writing properties/obj_type_2/prob_metaphase (31822,)\n",
      "[INFO][2022/02/24 03:01:25 AM] Writing properties/obj_type_2/prob_anaphase (31822,)\n",
      "[INFO][2022/02/24 03:01:25 AM] Writing properties/obj_type_2/prob_apoptosis (31822,)\n",
      "[INFO][2022/02/24 03:01:25 AM] Closing HDF file: /home/nathan/data/kraken/ras/ND0011/Pos7/untrans_objects_type_2.h5\n"
     ]
    },
    {
     "name": "stdout",
     "output_type": "stream",
     "text": [
      "['/home/nathan/data/kraken/ras/ND0011/Pos8/untrans_no_bg_objects_type_2.h5', '/home/nathan/data/kraken/ras/ND0011/Pos8/untrans_no_bg_objects_type_1.h5'] file found, skipping ND0011/Pos8\n",
      "ND0011 Pos9 enough masks\n",
      "Starting ND0011/Pos9\n"
     ]
    },
    {
     "name": "stderr",
     "output_type": "stream",
     "text": [
      "[INFO][2022/02/24 03:01:27 AM] Localizing objects from segmentation...\n",
      "[INFO][2022/02/24 03:03:50 AM] Objects are of type: <class 'dict'>\n",
      "[INFO][2022/02/24 03:03:50 AM] ...Found 2761 objects in 1646 frames.\n"
     ]
    },
    {
     "name": "stdout",
     "output_type": "stream",
     "text": [
      "Classifying objects\n"
     ]
    },
    {
     "data": {
      "application/vnd.jupyter.widget-view+json": {
       "model_id": "0a32849809f845e29ae0472e738d7b0d",
       "version_major": 2,
       "version_minor": 0
      },
      "text/plain": [
       "  0%|          | 0/1646 [00:00<?, ?it/s]"
      ]
     },
     "metadata": {},
     "output_type": "display_data"
    },
    {
     "data": {
      "application/vnd.jupyter.widget-view+json": {
       "model_id": "1dc7e86160914969979e128fbdc75dd6",
       "version_major": 2,
       "version_minor": 0
      },
      "text/plain": [
       "  0%|          | 0/1646 [00:00<?, ?it/s]"
      ]
     },
     "metadata": {},
     "output_type": "display_data"
    },
    {
     "name": "stderr",
     "output_type": "stream",
     "text": [
      "[INFO][2022/02/24 03:15:59 AM] Opening HDF file: /home/nathan/data/kraken/ras/ND0011/Pos9/untrans_objects_type_1.h5...\n",
      "[INFO][2022/02/24 03:15:59 AM] Writing objects/obj_type_1\n",
      "[INFO][2022/02/24 03:15:59 AM] Writing labels/obj_type_1\n",
      "[INFO][2022/02/24 03:15:59 AM] Loading objects/obj_type_1 (2754, 5) (2754 filtered: None)\n",
      "[INFO][2022/02/24 03:15:59 AM] Writing properties/obj_type_1/area (2754,)\n",
      "[INFO][2022/02/24 03:15:59 AM] Writing properties/obj_type_1/class id (2754,)\n",
      "[INFO][2022/02/24 03:15:59 AM] Writing properties/obj_type_1/prob_interphase (2754,)\n",
      "[INFO][2022/02/24 03:15:59 AM] Writing properties/obj_type_1/prob_prometaphase (2754,)\n",
      "[INFO][2022/02/24 03:15:59 AM] Writing properties/obj_type_1/prob_metaphase (2754,)\n",
      "[INFO][2022/02/24 03:15:59 AM] Writing properties/obj_type_1/prob_anaphase (2754,)\n",
      "[INFO][2022/02/24 03:15:59 AM] Writing properties/obj_type_1/prob_apoptosis (2754,)\n",
      "[INFO][2022/02/24 03:15:59 AM] Closing HDF file: /home/nathan/data/kraken/ras/ND0011/Pos9/untrans_objects_type_1.h5\n",
      "[INFO][2022/02/24 03:15:59 AM] Opening HDF file: /home/nathan/data/kraken/ras/ND0011/Pos9/untrans_objects_type_2.h5...\n",
      "[INFO][2022/02/24 03:15:59 AM] Writing objects/obj_type_2\n",
      "[INFO][2022/02/24 03:15:59 AM] Writing labels/obj_type_2\n",
      "[INFO][2022/02/24 03:15:59 AM] Loading objects/obj_type_2 (7, 5) (7 filtered: None)\n",
      "[INFO][2022/02/24 03:15:59 AM] Writing properties/obj_type_2/area (7,)\n",
      "[INFO][2022/02/24 03:15:59 AM] Writing properties/obj_type_2/class id (7,)\n",
      "[INFO][2022/02/24 03:15:59 AM] Writing properties/obj_type_2/prob_interphase (7,)\n",
      "[INFO][2022/02/24 03:15:59 AM] Writing properties/obj_type_2/prob_prometaphase (7,)\n",
      "[INFO][2022/02/24 03:15:59 AM] Writing properties/obj_type_2/prob_metaphase (7,)\n",
      "[INFO][2022/02/24 03:15:59 AM] Writing properties/obj_type_2/prob_anaphase (7,)\n",
      "[INFO][2022/02/24 03:15:59 AM] Writing properties/obj_type_2/prob_apoptosis (7,)\n",
      "[INFO][2022/02/24 03:15:59 AM] Closing HDF file: /home/nathan/data/kraken/ras/ND0011/Pos9/untrans_objects_type_2.h5\n"
     ]
    },
    {
     "name": "stdout",
     "output_type": "stream",
     "text": [
      "['/home/nathan/data/kraken/ras/ND0011/Pos10/untrans_no_bg_objects_type_2.h5', '/home/nathan/data/kraken/ras/ND0011/Pos10/untrans_no_bg_objects_type_1.h5'] file found, skipping ND0011/Pos10\n",
      "['/home/nathan/data/kraken/ras/ND0011/Pos11/untrans_no_bg_objects_type_2.h5', '/home/nathan/data/kraken/ras/ND0011/Pos11/untrans_no_bg_objects_type_1.h5'] file found, skipping ND0011/Pos11\n"
     ]
    },
    {
     "data": {
      "application/vnd.jupyter.widget-view+json": {
       "model_id": "7ad3568091814f3a9c01e87d052be3f8",
       "version_major": 2,
       "version_minor": 0
      },
      "text/plain": [
       "  0%|          | 0/1 [00:00<?, ?it/s]"
      ]
     },
     "metadata": {},
     "output_type": "display_data"
    },
    {
     "data": {
      "application/vnd.jupyter.widget-view+json": {
       "model_id": "5dacd4ba154d401baa31077a2d672bd5",
       "version_major": 2,
       "version_minor": 0
      },
      "text/plain": [
       "  0%|          | 0/12 [00:00<?, ?it/s]"
      ]
     },
     "metadata": {},
     "output_type": "display_data"
    },
    {
     "name": "stdout",
     "output_type": "stream",
     "text": [
      "['/home/nathan/data/kraken/ras/ND0011/Pos0/untrans_no_bg_objects_type_2.h5', '/home/nathan/data/kraken/ras/ND0011/Pos0/untrans_no_bg_objects_type_1.h5'] file found, skipping ND0011/Pos0\n",
      "['/home/nathan/data/kraken/ras/ND0011/Pos1/untrans_no_bg_objects_type_2.h5', '/home/nathan/data/kraken/ras/ND0011/Pos1/untrans_no_bg_objects_type_1.h5'] file found, skipping ND0011/Pos1\n",
      "['/home/nathan/data/kraken/ras/ND0011/Pos2/untrans_no_bg_objects_type_2.h5', '/home/nathan/data/kraken/ras/ND0011/Pos2/untrans_no_bg_objects_type_1.h5'] file found, skipping ND0011/Pos2\n",
      "ND0011 Pos4 enough masks\n",
      "Starting ND0011/Pos4\n"
     ]
    },
    {
     "name": "stderr",
     "output_type": "stream",
     "text": [
      "[INFO][2022/02/24 03:16:01 AM] Localizing objects from segmentation...\n",
      "[INFO][2022/02/24 03:20:06 AM] Objects are of type: <class 'dict'>\n",
      "[INFO][2022/02/24 03:20:09 AM] ...Found 619816 objects in 1640 frames.\n"
     ]
    },
    {
     "name": "stdout",
     "output_type": "stream",
     "text": [
      "Classifying objects\n"
     ]
    },
    {
     "data": {
      "application/vnd.jupyter.widget-view+json": {
       "model_id": "c145cb036bc54364b7501a6b264b4aaf",
       "version_major": 2,
       "version_minor": 0
      },
      "text/plain": [
       "  0%|          | 0/1640 [00:00<?, ?it/s]"
      ]
     },
     "metadata": {},
     "output_type": "display_data"
    },
    {
     "data": {
      "application/vnd.jupyter.widget-view+json": {
       "model_id": "30e96f8c3d334d108d5c10a73f68ab78",
       "version_major": 2,
       "version_minor": 0
      },
      "text/plain": [
       "  0%|          | 0/1640 [00:00<?, ?it/s]"
      ]
     },
     "metadata": {},
     "output_type": "display_data"
    },
    {
     "name": "stderr",
     "output_type": "stream",
     "text": [
      "[INFO][2022/02/24 04:06:38 AM] Opening HDF file: /home/nathan/data/kraken/ras/ND0011/Pos4/untrans_objects_type_1.h5...\n",
      "[INFO][2022/02/24 04:06:44 AM] Writing objects/obj_type_1\n",
      "[INFO][2022/02/24 04:06:44 AM] Writing labels/obj_type_1\n",
      "[INFO][2022/02/24 04:06:44 AM] Loading objects/obj_type_1 (553131, 5) (553131 filtered: None)\n",
      "[INFO][2022/02/24 04:06:51 AM] Writing properties/obj_type_1/area (553131,)\n",
      "[INFO][2022/02/24 04:06:51 AM] Writing properties/obj_type_1/class id (553131,)\n",
      "[INFO][2022/02/24 04:06:51 AM] Writing properties/obj_type_1/prob_interphase (553131,)\n",
      "[INFO][2022/02/24 04:06:51 AM] Writing properties/obj_type_1/prob_prometaphase (553131,)\n",
      "[INFO][2022/02/24 04:06:51 AM] Writing properties/obj_type_1/prob_metaphase (553131,)\n",
      "[INFO][2022/02/24 04:06:52 AM] Writing properties/obj_type_1/prob_anaphase (553131,)\n",
      "[INFO][2022/02/24 04:06:52 AM] Writing properties/obj_type_1/prob_apoptosis (553131,)\n",
      "[INFO][2022/02/24 04:06:52 AM] Closing HDF file: /home/nathan/data/kraken/ras/ND0011/Pos4/untrans_objects_type_1.h5\n",
      "[INFO][2022/02/24 04:06:52 AM] Opening HDF file: /home/nathan/data/kraken/ras/ND0011/Pos4/untrans_objects_type_2.h5...\n",
      "[INFO][2022/02/24 04:06:53 AM] Writing objects/obj_type_2\n",
      "[INFO][2022/02/24 04:06:53 AM] Writing labels/obj_type_2\n",
      "[INFO][2022/02/24 04:06:53 AM] Loading objects/obj_type_2 (66685, 5) (66685 filtered: None)\n",
      "[INFO][2022/02/24 04:06:53 AM] Writing properties/obj_type_2/area (66685,)\n",
      "[INFO][2022/02/24 04:06:53 AM] Writing properties/obj_type_2/class id (66685,)\n",
      "[INFO][2022/02/24 04:06:53 AM] Writing properties/obj_type_2/prob_interphase (66685,)\n",
      "[INFO][2022/02/24 04:06:53 AM] Writing properties/obj_type_2/prob_prometaphase (66685,)\n",
      "[INFO][2022/02/24 04:06:53 AM] Writing properties/obj_type_2/prob_metaphase (66685,)\n",
      "[INFO][2022/02/24 04:06:53 AM] Writing properties/obj_type_2/prob_anaphase (66685,)\n",
      "[INFO][2022/02/24 04:06:53 AM] Writing properties/obj_type_2/prob_apoptosis (66685,)\n",
      "[INFO][2022/02/24 04:06:53 AM] Closing HDF file: /home/nathan/data/kraken/ras/ND0011/Pos4/untrans_objects_type_2.h5\n"
     ]
    },
    {
     "name": "stdout",
     "output_type": "stream",
     "text": [
      "['/home/nathan/data/kraken/ras/ND0011/Pos5/untrans_no_bg_objects_type_2.h5', '/home/nathan/data/kraken/ras/ND0011/Pos5/untrans_no_bg_objects_type_1.h5'] file found, skipping ND0011/Pos5\n",
      "ND0011 Pos6 enough masks\n",
      "Starting ND0011/Pos6\n"
     ]
    },
    {
     "name": "stderr",
     "output_type": "stream",
     "text": [
      "[INFO][2022/02/24 04:06:55 AM] Localizing objects from segmentation...\n",
      "[INFO][2022/02/24 04:10:22 AM] Objects are of type: <class 'dict'>\n",
      "[INFO][2022/02/24 04:10:24 AM] ...Found 314385 objects in 1638 frames.\n"
     ]
    },
    {
     "name": "stdout",
     "output_type": "stream",
     "text": [
      "Classifying objects\n"
     ]
    },
    {
     "data": {
      "application/vnd.jupyter.widget-view+json": {
       "model_id": "616b646d183e4f6bb644ab639ffe5f39",
       "version_major": 2,
       "version_minor": 0
      },
      "text/plain": [
       "  0%|          | 0/1638 [00:00<?, ?it/s]"
      ]
     },
     "metadata": {},
     "output_type": "display_data"
    },
    {
     "data": {
      "application/vnd.jupyter.widget-view+json": {
       "model_id": "b6229f723a8b4de9ac79116982bb9dd2",
       "version_major": 2,
       "version_minor": 0
      },
      "text/plain": [
       "  0%|          | 0/1638 [00:00<?, ?it/s]"
      ]
     },
     "metadata": {},
     "output_type": "display_data"
    },
    {
     "name": "stderr",
     "output_type": "stream",
     "text": [
      "[INFO][2022/02/24 04:40:39 AM] Opening HDF file: /home/nathan/data/kraken/ras/ND0011/Pos6/untrans_objects_type_1.h5...\n",
      "[INFO][2022/02/24 04:40:41 AM] Writing objects/obj_type_1\n",
      "[INFO][2022/02/24 04:40:41 AM] Writing labels/obj_type_1\n",
      "[INFO][2022/02/24 04:40:41 AM] Loading objects/obj_type_1 (275452, 5) (275452 filtered: None)\n",
      "[INFO][2022/02/24 04:40:45 AM] Writing properties/obj_type_1/area (275452,)\n",
      "[INFO][2022/02/24 04:40:45 AM] Writing properties/obj_type_1/class id (275452,)\n",
      "[INFO][2022/02/24 04:40:45 AM] Writing properties/obj_type_1/prob_interphase (275452,)\n",
      "[INFO][2022/02/24 04:40:45 AM] Writing properties/obj_type_1/prob_prometaphase (275452,)\n",
      "[INFO][2022/02/24 04:40:45 AM] Writing properties/obj_type_1/prob_metaphase (275452,)\n",
      "[INFO][2022/02/24 04:40:45 AM] Writing properties/obj_type_1/prob_anaphase (275452,)\n",
      "[INFO][2022/02/24 04:40:45 AM] Writing properties/obj_type_1/prob_apoptosis (275452,)\n",
      "[INFO][2022/02/24 04:40:45 AM] Closing HDF file: /home/nathan/data/kraken/ras/ND0011/Pos6/untrans_objects_type_1.h5\n",
      "[INFO][2022/02/24 04:40:45 AM] Opening HDF file: /home/nathan/data/kraken/ras/ND0011/Pos6/untrans_objects_type_2.h5...\n",
      "[INFO][2022/02/24 04:40:45 AM] Writing objects/obj_type_2\n",
      "[INFO][2022/02/24 04:40:45 AM] Writing labels/obj_type_2\n",
      "[INFO][2022/02/24 04:40:45 AM] Loading objects/obj_type_2 (38933, 5) (38933 filtered: None)\n",
      "[INFO][2022/02/24 04:40:46 AM] Writing properties/obj_type_2/area (38933,)\n",
      "[INFO][2022/02/24 04:40:46 AM] Writing properties/obj_type_2/class id (38933,)\n",
      "[INFO][2022/02/24 04:40:46 AM] Writing properties/obj_type_2/prob_interphase (38933,)\n",
      "[INFO][2022/02/24 04:40:46 AM] Writing properties/obj_type_2/prob_prometaphase (38933,)\n",
      "[INFO][2022/02/24 04:40:46 AM] Writing properties/obj_type_2/prob_metaphase (38933,)\n",
      "[INFO][2022/02/24 04:40:46 AM] Writing properties/obj_type_2/prob_anaphase (38933,)\n",
      "[INFO][2022/02/24 04:40:46 AM] Writing properties/obj_type_2/prob_apoptosis (38933,)\n",
      "[INFO][2022/02/24 04:40:46 AM] Closing HDF file: /home/nathan/data/kraken/ras/ND0011/Pos6/untrans_objects_type_2.h5\n"
     ]
    },
    {
     "name": "stdout",
     "output_type": "stream",
     "text": [
      "ND0011 Pos7 enough masks\n",
      "Starting ND0011/Pos7\n"
     ]
    },
    {
     "name": "stderr",
     "output_type": "stream",
     "text": [
      "[INFO][2022/02/24 04:40:47 AM] Localizing objects from segmentation...\n",
      "[INFO][2022/02/24 04:43:57 AM] Objects are of type: <class 'dict'>\n",
      "[INFO][2022/02/24 04:44:00 AM] ...Found 358794 objects in 1646 frames.\n"
     ]
    },
    {
     "name": "stdout",
     "output_type": "stream",
     "text": [
      "Classifying objects\n"
     ]
    },
    {
     "data": {
      "application/vnd.jupyter.widget-view+json": {
       "model_id": "9c283ba18a8845f9b598f67c22401abf",
       "version_major": 2,
       "version_minor": 0
      },
      "text/plain": [
       "  0%|          | 0/1646 [00:00<?, ?it/s]"
      ]
     },
     "metadata": {},
     "output_type": "display_data"
    },
    {
     "data": {
      "application/vnd.jupyter.widget-view+json": {
       "model_id": "f1fc1a938b784872b761136f33acfaf8",
       "version_major": 2,
       "version_minor": 0
      },
      "text/plain": [
       "  0%|          | 0/1646 [00:00<?, ?it/s]"
      ]
     },
     "metadata": {},
     "output_type": "display_data"
    },
    {
     "name": "stderr",
     "output_type": "stream",
     "text": [
      "[INFO][2022/02/24 05:14:54 AM] Opening HDF file: /home/nathan/data/kraken/ras/ND0011/Pos7/untrans_objects_type_1.h5...\n",
      "[INFO][2022/02/24 05:14:57 AM] Writing objects/obj_type_1\n",
      "[INFO][2022/02/24 05:14:57 AM] Writing labels/obj_type_1\n",
      "[INFO][2022/02/24 05:14:57 AM] Loading objects/obj_type_1 (326972, 5) (326972 filtered: None)\n",
      "[INFO][2022/02/24 05:15:02 AM] Writing properties/obj_type_1/area (326972,)\n",
      "[INFO][2022/02/24 05:15:02 AM] Writing properties/obj_type_1/class id (326972,)\n",
      "[INFO][2022/02/24 05:15:02 AM] Writing properties/obj_type_1/prob_interphase (326972,)\n",
      "[INFO][2022/02/24 05:15:02 AM] Writing properties/obj_type_1/prob_prometaphase (326972,)\n",
      "[INFO][2022/02/24 05:15:02 AM] Writing properties/obj_type_1/prob_metaphase (326972,)\n",
      "[INFO][2022/02/24 05:15:02 AM] Writing properties/obj_type_1/prob_anaphase (326972,)\n",
      "[INFO][2022/02/24 05:15:02 AM] Writing properties/obj_type_1/prob_apoptosis (326972,)\n",
      "[INFO][2022/02/24 05:15:02 AM] Closing HDF file: /home/nathan/data/kraken/ras/ND0011/Pos7/untrans_objects_type_1.h5\n",
      "[INFO][2022/02/24 05:15:02 AM] Opening HDF file: /home/nathan/data/kraken/ras/ND0011/Pos7/untrans_objects_type_2.h5...\n",
      "[INFO][2022/02/24 05:15:03 AM] Writing objects/obj_type_2\n",
      "[INFO][2022/02/24 05:15:03 AM] Writing labels/obj_type_2\n",
      "[INFO][2022/02/24 05:15:03 AM] Loading objects/obj_type_2 (31822, 5) (31822 filtered: None)\n",
      "[INFO][2022/02/24 05:15:03 AM] Writing properties/obj_type_2/area (31822,)\n",
      "[INFO][2022/02/24 05:15:03 AM] Writing properties/obj_type_2/class id (31822,)\n",
      "[INFO][2022/02/24 05:15:03 AM] Writing properties/obj_type_2/prob_interphase (31822,)\n",
      "[INFO][2022/02/24 05:15:03 AM] Writing properties/obj_type_2/prob_prometaphase (31822,)\n",
      "[INFO][2022/02/24 05:15:03 AM] Writing properties/obj_type_2/prob_metaphase (31822,)\n",
      "[INFO][2022/02/24 05:15:03 AM] Writing properties/obj_type_2/prob_anaphase (31822,)\n",
      "[INFO][2022/02/24 05:15:03 AM] Writing properties/obj_type_2/prob_apoptosis (31822,)\n",
      "[INFO][2022/02/24 05:15:03 AM] Closing HDF file: /home/nathan/data/kraken/ras/ND0011/Pos7/untrans_objects_type_2.h5\n"
     ]
    },
    {
     "name": "stdout",
     "output_type": "stream",
     "text": [
      "['/home/nathan/data/kraken/ras/ND0011/Pos8/untrans_no_bg_objects_type_2.h5', '/home/nathan/data/kraken/ras/ND0011/Pos8/untrans_no_bg_objects_type_1.h5'] file found, skipping ND0011/Pos8\n",
      "ND0011 Pos9 enough masks\n",
      "Starting ND0011/Pos9\n"
     ]
    },
    {
     "name": "stderr",
     "output_type": "stream",
     "text": [
      "[INFO][2022/02/24 05:15:05 AM] Localizing objects from segmentation...\n",
      "[INFO][2022/02/24 05:17:29 AM] Objects are of type: <class 'dict'>\n",
      "[INFO][2022/02/24 05:17:29 AM] ...Found 2761 objects in 1646 frames.\n"
     ]
    },
    {
     "name": "stdout",
     "output_type": "stream",
     "text": [
      "Classifying objects\n"
     ]
    },
    {
     "data": {
      "application/vnd.jupyter.widget-view+json": {
       "model_id": "3fd5d5731b16448b8f3f96789bb887ce",
       "version_major": 2,
       "version_minor": 0
      },
      "text/plain": [
       "  0%|          | 0/1646 [00:00<?, ?it/s]"
      ]
     },
     "metadata": {},
     "output_type": "display_data"
    },
    {
     "data": {
      "application/vnd.jupyter.widget-view+json": {
       "model_id": "1179de665ece4aa08c7bffd66c00bc45",
       "version_major": 2,
       "version_minor": 0
      },
      "text/plain": [
       "  0%|          | 0/1646 [00:00<?, ?it/s]"
      ]
     },
     "metadata": {},
     "output_type": "display_data"
    },
    {
     "name": "stderr",
     "output_type": "stream",
     "text": [
      "[INFO][2022/02/24 05:30:03 AM] Opening HDF file: /home/nathan/data/kraken/ras/ND0011/Pos9/untrans_objects_type_1.h5...\n",
      "[INFO][2022/02/24 05:30:03 AM] Writing objects/obj_type_1\n",
      "[INFO][2022/02/24 05:30:03 AM] Writing labels/obj_type_1\n",
      "[INFO][2022/02/24 05:30:04 AM] Loading objects/obj_type_1 (2754, 5) (2754 filtered: None)\n",
      "[INFO][2022/02/24 05:30:04 AM] Writing properties/obj_type_1/area (2754,)\n",
      "[INFO][2022/02/24 05:30:04 AM] Writing properties/obj_type_1/class id (2754,)\n",
      "[INFO][2022/02/24 05:30:04 AM] Writing properties/obj_type_1/prob_interphase (2754,)\n",
      "[INFO][2022/02/24 05:30:04 AM] Writing properties/obj_type_1/prob_prometaphase (2754,)\n",
      "[INFO][2022/02/24 05:30:04 AM] Writing properties/obj_type_1/prob_metaphase (2754,)\n",
      "[INFO][2022/02/24 05:30:04 AM] Writing properties/obj_type_1/prob_anaphase (2754,)\n",
      "[INFO][2022/02/24 05:30:04 AM] Writing properties/obj_type_1/prob_apoptosis (2754,)\n",
      "[INFO][2022/02/24 05:30:04 AM] Closing HDF file: /home/nathan/data/kraken/ras/ND0011/Pos9/untrans_objects_type_1.h5\n",
      "[INFO][2022/02/24 05:30:04 AM] Opening HDF file: /home/nathan/data/kraken/ras/ND0011/Pos9/untrans_objects_type_2.h5...\n",
      "[INFO][2022/02/24 05:30:04 AM] Writing objects/obj_type_2\n",
      "[INFO][2022/02/24 05:30:04 AM] Writing labels/obj_type_2\n",
      "[INFO][2022/02/24 05:30:04 AM] Loading objects/obj_type_2 (7, 5) (7 filtered: None)\n",
      "[INFO][2022/02/24 05:30:04 AM] Writing properties/obj_type_2/area (7,)\n",
      "[INFO][2022/02/24 05:30:04 AM] Writing properties/obj_type_2/class id (7,)\n",
      "[INFO][2022/02/24 05:30:04 AM] Writing properties/obj_type_2/prob_interphase (7,)\n",
      "[INFO][2022/02/24 05:30:04 AM] Writing properties/obj_type_2/prob_prometaphase (7,)\n",
      "[INFO][2022/02/24 05:30:04 AM] Writing properties/obj_type_2/prob_metaphase (7,)\n",
      "[INFO][2022/02/24 05:30:04 AM] Writing properties/obj_type_2/prob_anaphase (7,)\n",
      "[INFO][2022/02/24 05:30:04 AM] Writing properties/obj_type_2/prob_apoptosis (7,)\n",
      "[INFO][2022/02/24 05:30:04 AM] Closing HDF file: /home/nathan/data/kraken/ras/ND0011/Pos9/untrans_objects_type_2.h5\n"
     ]
    },
    {
     "name": "stdout",
     "output_type": "stream",
     "text": [
      "['/home/nathan/data/kraken/ras/ND0011/Pos10/untrans_no_bg_objects_type_2.h5', '/home/nathan/data/kraken/ras/ND0011/Pos10/untrans_no_bg_objects_type_1.h5'] file found, skipping ND0011/Pos10\n",
      "['/home/nathan/data/kraken/ras/ND0011/Pos11/untrans_no_bg_objects_type_2.h5', '/home/nathan/data/kraken/ras/ND0011/Pos11/untrans_no_bg_objects_type_1.h5'] file found, skipping ND0011/Pos11\n"
     ]
    },
    {
     "data": {
      "application/vnd.jupyter.widget-view+json": {
       "model_id": "d466424828d04d7f92ef2edb7ded2014",
       "version_major": 2,
       "version_minor": 0
      },
      "text/plain": [
       "  0%|          | 0/1 [00:00<?, ?it/s]"
      ]
     },
     "metadata": {},
     "output_type": "display_data"
    },
    {
     "data": {
      "application/vnd.jupyter.widget-view+json": {
       "model_id": "e8f2e664c5ef457d8cea63d20a852768",
       "version_major": 2,
       "version_minor": 0
      },
      "text/plain": [
       "  0%|          | 0/12 [00:00<?, ?it/s]"
      ]
     },
     "metadata": {},
     "output_type": "display_data"
    },
    {
     "name": "stdout",
     "output_type": "stream",
     "text": [
      "['/home/nathan/data/kraken/ras/ND0011/Pos0/untrans_no_bg_objects_type_2.h5', '/home/nathan/data/kraken/ras/ND0011/Pos0/untrans_no_bg_objects_type_1.h5'] file found, skipping ND0011/Pos0\n",
      "['/home/nathan/data/kraken/ras/ND0011/Pos1/untrans_no_bg_objects_type_2.h5', '/home/nathan/data/kraken/ras/ND0011/Pos1/untrans_no_bg_objects_type_1.h5'] file found, skipping ND0011/Pos1\n",
      "['/home/nathan/data/kraken/ras/ND0011/Pos2/untrans_no_bg_objects_type_2.h5', '/home/nathan/data/kraken/ras/ND0011/Pos2/untrans_no_bg_objects_type_1.h5'] file found, skipping ND0011/Pos2\n",
      "ND0011 Pos4 enough masks\n",
      "Starting ND0011/Pos4\n"
     ]
    },
    {
     "name": "stderr",
     "output_type": "stream",
     "text": [
      "[INFO][2022/02/24 05:30:06 AM] Localizing objects from segmentation...\n",
      "[INFO][2022/02/24 05:34:20 AM] Objects are of type: <class 'dict'>\n",
      "[INFO][2022/02/24 05:34:23 AM] ...Found 619816 objects in 1640 frames.\n"
     ]
    },
    {
     "name": "stdout",
     "output_type": "stream",
     "text": [
      "Classifying objects\n"
     ]
    },
    {
     "data": {
      "application/vnd.jupyter.widget-view+json": {
       "model_id": "486da41ccd2d466ba8509accb7602b4b",
       "version_major": 2,
       "version_minor": 0
      },
      "text/plain": [
       "  0%|          | 0/1640 [00:00<?, ?it/s]"
      ]
     },
     "metadata": {},
     "output_type": "display_data"
    },
    {
     "data": {
      "application/vnd.jupyter.widget-view+json": {
       "model_id": "8c9e7476455d4066b934082ef4376ddc",
       "version_major": 2,
       "version_minor": 0
      },
      "text/plain": [
       "  0%|          | 0/1640 [00:00<?, ?it/s]"
      ]
     },
     "metadata": {},
     "output_type": "display_data"
    },
    {
     "name": "stderr",
     "output_type": "stream",
     "text": [
      "[INFO][2022/02/24 06:23:38 AM] Opening HDF file: /home/nathan/data/kraken/ras/ND0011/Pos4/untrans_objects_type_1.h5...\n",
      "[INFO][2022/02/24 06:23:43 AM] Writing objects/obj_type_1\n",
      "[INFO][2022/02/24 06:23:43 AM] Writing labels/obj_type_1\n",
      "[INFO][2022/02/24 06:23:43 AM] Loading objects/obj_type_1 (553131, 5) (553131 filtered: None)\n",
      "[INFO][2022/02/24 06:23:50 AM] Writing properties/obj_type_1/area (553131,)\n",
      "[INFO][2022/02/24 06:23:50 AM] Writing properties/obj_type_1/class id (553131,)\n",
      "[INFO][2022/02/24 06:23:50 AM] Writing properties/obj_type_1/prob_interphase (553131,)\n",
      "[INFO][2022/02/24 06:23:51 AM] Writing properties/obj_type_1/prob_prometaphase (553131,)\n",
      "[INFO][2022/02/24 06:23:51 AM] Writing properties/obj_type_1/prob_metaphase (553131,)\n",
      "[INFO][2022/02/24 06:23:51 AM] Writing properties/obj_type_1/prob_anaphase (553131,)\n",
      "[INFO][2022/02/24 06:23:51 AM] Writing properties/obj_type_1/prob_apoptosis (553131,)\n",
      "[INFO][2022/02/24 06:23:51 AM] Closing HDF file: /home/nathan/data/kraken/ras/ND0011/Pos4/untrans_objects_type_1.h5\n",
      "[INFO][2022/02/24 06:23:51 AM] Opening HDF file: /home/nathan/data/kraken/ras/ND0011/Pos4/untrans_objects_type_2.h5...\n",
      "[INFO][2022/02/24 06:23:52 AM] Writing objects/obj_type_2\n",
      "[INFO][2022/02/24 06:23:52 AM] Writing labels/obj_type_2\n",
      "[INFO][2022/02/24 06:23:52 AM] Loading objects/obj_type_2 (66685, 5) (66685 filtered: None)\n",
      "[INFO][2022/02/24 06:23:53 AM] Writing properties/obj_type_2/area (66685,)\n",
      "[INFO][2022/02/24 06:23:53 AM] Writing properties/obj_type_2/class id (66685,)\n",
      "[INFO][2022/02/24 06:23:53 AM] Writing properties/obj_type_2/prob_interphase (66685,)\n",
      "[INFO][2022/02/24 06:23:53 AM] Writing properties/obj_type_2/prob_prometaphase (66685,)\n",
      "[INFO][2022/02/24 06:23:53 AM] Writing properties/obj_type_2/prob_metaphase (66685,)\n",
      "[INFO][2022/02/24 06:23:53 AM] Writing properties/obj_type_2/prob_anaphase (66685,)\n",
      "[INFO][2022/02/24 06:23:53 AM] Writing properties/obj_type_2/prob_apoptosis (66685,)\n",
      "[INFO][2022/02/24 06:23:53 AM] Closing HDF file: /home/nathan/data/kraken/ras/ND0011/Pos4/untrans_objects_type_2.h5\n"
     ]
    },
    {
     "name": "stdout",
     "output_type": "stream",
     "text": [
      "['/home/nathan/data/kraken/ras/ND0011/Pos5/untrans_no_bg_objects_type_2.h5', '/home/nathan/data/kraken/ras/ND0011/Pos5/untrans_no_bg_objects_type_1.h5'] file found, skipping ND0011/Pos5\n",
      "['/home/nathan/data/kraken/ras/ND0011/Pos6/untrans_no_bg_objects_type_2.h5', '/home/nathan/data/kraken/ras/ND0011/Pos6/untrans_no_bg_objects_type_1.h5'] file found, skipping ND0011/Pos6\n",
      "['/home/nathan/data/kraken/ras/ND0011/Pos7/untrans_no_bg_objects_type_2.h5', '/home/nathan/data/kraken/ras/ND0011/Pos7/untrans_no_bg_objects_type_1.h5'] file found, skipping ND0011/Pos7\n",
      "['/home/nathan/data/kraken/ras/ND0011/Pos8/untrans_no_bg_objects_type_2.h5', '/home/nathan/data/kraken/ras/ND0011/Pos8/untrans_no_bg_objects_type_1.h5'] file found, skipping ND0011/Pos8\n",
      "ND0011 Pos9 enough masks\n",
      "Starting ND0011/Pos9\n"
     ]
    },
    {
     "name": "stderr",
     "output_type": "stream",
     "text": [
      "[INFO][2022/02/24 06:23:55 AM] Localizing objects from segmentation...\n",
      "[INFO][2022/02/24 06:26:12 AM] Objects are of type: <class 'dict'>\n",
      "[INFO][2022/02/24 06:26:12 AM] ...Found 2761 objects in 1646 frames.\n"
     ]
    },
    {
     "name": "stdout",
     "output_type": "stream",
     "text": [
      "Classifying objects\n"
     ]
    },
    {
     "data": {
      "application/vnd.jupyter.widget-view+json": {
       "model_id": "0d7fe44ff5bc44bc85f09e1d9683adb6",
       "version_major": 2,
       "version_minor": 0
      },
      "text/plain": [
       "  0%|          | 0/1646 [00:00<?, ?it/s]"
      ]
     },
     "metadata": {},
     "output_type": "display_data"
    },
    {
     "data": {
      "application/vnd.jupyter.widget-view+json": {
       "model_id": "3a4908412f0d4ef898aa44ba3655f54f",
       "version_major": 2,
       "version_minor": 0
      },
      "text/plain": [
       "  0%|          | 0/1646 [00:00<?, ?it/s]"
      ]
     },
     "metadata": {},
     "output_type": "display_data"
    },
    {
     "name": "stderr",
     "output_type": "stream",
     "text": [
      "[INFO][2022/02/24 06:37:11 AM] Opening HDF file: /home/nathan/data/kraken/ras/ND0011/Pos9/untrans_objects_type_1.h5...\n",
      "[INFO][2022/02/24 06:37:11 AM] Writing objects/obj_type_1\n",
      "[INFO][2022/02/24 06:37:11 AM] Writing labels/obj_type_1\n",
      "[INFO][2022/02/24 06:37:11 AM] Loading objects/obj_type_1 (2754, 5) (2754 filtered: None)\n",
      "[INFO][2022/02/24 06:37:12 AM] Writing properties/obj_type_1/area (2754,)\n",
      "[INFO][2022/02/24 06:37:12 AM] Writing properties/obj_type_1/class id (2754,)\n",
      "[INFO][2022/02/24 06:37:12 AM] Writing properties/obj_type_1/prob_interphase (2754,)\n",
      "[INFO][2022/02/24 06:37:12 AM] Writing properties/obj_type_1/prob_prometaphase (2754,)\n",
      "[INFO][2022/02/24 06:37:12 AM] Writing properties/obj_type_1/prob_metaphase (2754,)\n",
      "[INFO][2022/02/24 06:37:12 AM] Writing properties/obj_type_1/prob_anaphase (2754,)\n",
      "[INFO][2022/02/24 06:37:12 AM] Writing properties/obj_type_1/prob_apoptosis (2754,)\n",
      "[INFO][2022/02/24 06:37:12 AM] Closing HDF file: /home/nathan/data/kraken/ras/ND0011/Pos9/untrans_objects_type_1.h5\n",
      "[INFO][2022/02/24 06:37:12 AM] Opening HDF file: /home/nathan/data/kraken/ras/ND0011/Pos9/untrans_objects_type_2.h5...\n",
      "[INFO][2022/02/24 06:37:12 AM] Writing objects/obj_type_2\n",
      "[INFO][2022/02/24 06:37:12 AM] Writing labels/obj_type_2\n",
      "[INFO][2022/02/24 06:37:12 AM] Loading objects/obj_type_2 (7, 5) (7 filtered: None)\n",
      "[INFO][2022/02/24 06:37:12 AM] Writing properties/obj_type_2/area (7,)\n",
      "[INFO][2022/02/24 06:37:12 AM] Writing properties/obj_type_2/class id (7,)\n",
      "[INFO][2022/02/24 06:37:12 AM] Writing properties/obj_type_2/prob_interphase (7,)\n",
      "[INFO][2022/02/24 06:37:12 AM] Writing properties/obj_type_2/prob_prometaphase (7,)\n",
      "[INFO][2022/02/24 06:37:12 AM] Writing properties/obj_type_2/prob_metaphase (7,)\n",
      "[INFO][2022/02/24 06:37:12 AM] Writing properties/obj_type_2/prob_anaphase (7,)\n",
      "[INFO][2022/02/24 06:37:12 AM] Writing properties/obj_type_2/prob_apoptosis (7,)\n",
      "[INFO][2022/02/24 06:37:12 AM] Closing HDF file: /home/nathan/data/kraken/ras/ND0011/Pos9/untrans_objects_type_2.h5\n"
     ]
    },
    {
     "name": "stdout",
     "output_type": "stream",
     "text": [
      "['/home/nathan/data/kraken/ras/ND0011/Pos10/untrans_no_bg_objects_type_2.h5', '/home/nathan/data/kraken/ras/ND0011/Pos10/untrans_no_bg_objects_type_1.h5'] file found, skipping ND0011/Pos10\n",
      "['/home/nathan/data/kraken/ras/ND0011/Pos11/untrans_no_bg_objects_type_2.h5', '/home/nathan/data/kraken/ras/ND0011/Pos11/untrans_no_bg_objects_type_1.h5'] file found, skipping ND0011/Pos11\n"
     ]
    },
    {
     "data": {
      "application/vnd.jupyter.widget-view+json": {
       "model_id": "bb0ca08163874c348ddb58da913b8d04",
       "version_major": 2,
       "version_minor": 0
      },
      "text/plain": [
       "  0%|          | 0/1 [00:00<?, ?it/s]"
      ]
     },
     "metadata": {},
     "output_type": "display_data"
    },
    {
     "data": {
      "application/vnd.jupyter.widget-view+json": {
       "model_id": "0990bdda4bec4edc96e4b68d9bc114cc",
       "version_major": 2,
       "version_minor": 0
      },
      "text/plain": [
       "  0%|          | 0/12 [00:00<?, ?it/s]"
      ]
     },
     "metadata": {},
     "output_type": "display_data"
    },
    {
     "name": "stdout",
     "output_type": "stream",
     "text": [
      "['/home/nathan/data/kraken/ras/ND0011/Pos0/untrans_no_bg_objects_type_2.h5', '/home/nathan/data/kraken/ras/ND0011/Pos0/untrans_no_bg_objects_type_1.h5'] file found, skipping ND0011/Pos0\n",
      "['/home/nathan/data/kraken/ras/ND0011/Pos1/untrans_no_bg_objects_type_2.h5', '/home/nathan/data/kraken/ras/ND0011/Pos1/untrans_no_bg_objects_type_1.h5'] file found, skipping ND0011/Pos1\n",
      "['/home/nathan/data/kraken/ras/ND0011/Pos2/untrans_no_bg_objects_type_2.h5', '/home/nathan/data/kraken/ras/ND0011/Pos2/untrans_no_bg_objects_type_1.h5'] file found, skipping ND0011/Pos2\n",
      "ND0011 Pos4 enough masks\n",
      "Starting ND0011/Pos4\n"
     ]
    },
    {
     "name": "stderr",
     "output_type": "stream",
     "text": [
      "[INFO][2022/02/24 06:37:14 AM] Localizing objects from segmentation...\n",
      "[INFO][2022/02/24 06:40:56 AM] Objects are of type: <class 'dict'>\n",
      "[INFO][2022/02/24 06:41:00 AM] ...Found 619816 objects in 1640 frames.\n"
     ]
    },
    {
     "name": "stdout",
     "output_type": "stream",
     "text": [
      "Classifying objects\n"
     ]
    },
    {
     "data": {
      "application/vnd.jupyter.widget-view+json": {
       "model_id": "fbbbd8c744ee400384336d196c290725",
       "version_major": 2,
       "version_minor": 0
      },
      "text/plain": [
       "  0%|          | 0/1640 [00:00<?, ?it/s]"
      ]
     },
     "metadata": {},
     "output_type": "display_data"
    },
    {
     "data": {
      "application/vnd.jupyter.widget-view+json": {
       "model_id": "db4243bb6ee842b388f686c36081dd55",
       "version_major": 2,
       "version_minor": 0
      },
      "text/plain": [
       "  0%|          | 0/1640 [00:00<?, ?it/s]"
      ]
     },
     "metadata": {},
     "output_type": "display_data"
    },
    {
     "name": "stderr",
     "output_type": "stream",
     "text": [
      "[INFO][2022/02/24 07:26:18 AM] Opening HDF file: /home/nathan/data/kraken/ras/ND0011/Pos4/untrans_objects_type_1.h5...\n",
      "[INFO][2022/02/24 07:26:23 AM] Writing objects/obj_type_1\n",
      "[INFO][2022/02/24 07:26:23 AM] Writing labels/obj_type_1\n",
      "[INFO][2022/02/24 07:26:23 AM] Loading objects/obj_type_1 (553131, 5) (553131 filtered: None)\n",
      "[INFO][2022/02/24 07:26:30 AM] Writing properties/obj_type_1/area (553131,)\n",
      "[INFO][2022/02/24 07:26:30 AM] Writing properties/obj_type_1/class id (553131,)\n",
      "[INFO][2022/02/24 07:26:31 AM] Writing properties/obj_type_1/prob_interphase (553131,)\n",
      "[INFO][2022/02/24 07:26:31 AM] Writing properties/obj_type_1/prob_prometaphase (553131,)\n",
      "[INFO][2022/02/24 07:26:31 AM] Writing properties/obj_type_1/prob_metaphase (553131,)\n",
      "[INFO][2022/02/24 07:26:31 AM] Writing properties/obj_type_1/prob_anaphase (553131,)\n",
      "[INFO][2022/02/24 07:26:31 AM] Writing properties/obj_type_1/prob_apoptosis (553131,)\n",
      "[INFO][2022/02/24 07:26:31 AM] Closing HDF file: /home/nathan/data/kraken/ras/ND0011/Pos4/untrans_objects_type_1.h5\n",
      "[INFO][2022/02/24 07:26:32 AM] Opening HDF file: /home/nathan/data/kraken/ras/ND0011/Pos4/untrans_objects_type_2.h5...\n",
      "[INFO][2022/02/24 07:26:32 AM] Writing objects/obj_type_2\n",
      "[INFO][2022/02/24 07:26:32 AM] Writing labels/obj_type_2\n",
      "[INFO][2022/02/24 07:26:32 AM] Loading objects/obj_type_2 (66685, 5) (66685 filtered: None)\n",
      "[INFO][2022/02/24 07:26:33 AM] Writing properties/obj_type_2/area (66685,)\n",
      "[INFO][2022/02/24 07:26:33 AM] Writing properties/obj_type_2/class id (66685,)\n",
      "[INFO][2022/02/24 07:26:33 AM] Writing properties/obj_type_2/prob_interphase (66685,)\n",
      "[INFO][2022/02/24 07:26:33 AM] Writing properties/obj_type_2/prob_prometaphase (66685,)\n",
      "[INFO][2022/02/24 07:26:33 AM] Writing properties/obj_type_2/prob_metaphase (66685,)\n",
      "[INFO][2022/02/24 07:26:33 AM] Writing properties/obj_type_2/prob_anaphase (66685,)\n",
      "[INFO][2022/02/24 07:26:33 AM] Writing properties/obj_type_2/prob_apoptosis (66685,)\n",
      "[INFO][2022/02/24 07:26:33 AM] Closing HDF file: /home/nathan/data/kraken/ras/ND0011/Pos4/untrans_objects_type_2.h5\n"
     ]
    },
    {
     "name": "stdout",
     "output_type": "stream",
     "text": [
      "['/home/nathan/data/kraken/ras/ND0011/Pos5/untrans_no_bg_objects_type_2.h5', '/home/nathan/data/kraken/ras/ND0011/Pos5/untrans_no_bg_objects_type_1.h5'] file found, skipping ND0011/Pos5\n",
      "['/home/nathan/data/kraken/ras/ND0011/Pos6/untrans_no_bg_objects_type_2.h5', '/home/nathan/data/kraken/ras/ND0011/Pos6/untrans_no_bg_objects_type_1.h5'] file found, skipping ND0011/Pos6\n",
      "['/home/nathan/data/kraken/ras/ND0011/Pos7/untrans_no_bg_objects_type_2.h5', '/home/nathan/data/kraken/ras/ND0011/Pos7/untrans_no_bg_objects_type_1.h5'] file found, skipping ND0011/Pos7\n",
      "['/home/nathan/data/kraken/ras/ND0011/Pos8/untrans_no_bg_objects_type_2.h5', '/home/nathan/data/kraken/ras/ND0011/Pos8/untrans_no_bg_objects_type_1.h5'] file found, skipping ND0011/Pos8\n",
      "['/home/nathan/data/kraken/ras/ND0011/Pos9/untrans_no_bg_objects_type_2.h5', '/home/nathan/data/kraken/ras/ND0011/Pos9/untrans_no_bg_objects_type_1.h5'] file found, skipping ND0011/Pos9\n",
      "['/home/nathan/data/kraken/ras/ND0011/Pos10/untrans_no_bg_objects_type_2.h5', '/home/nathan/data/kraken/ras/ND0011/Pos10/untrans_no_bg_objects_type_1.h5'] file found, skipping ND0011/Pos10\n",
      "['/home/nathan/data/kraken/ras/ND0011/Pos11/untrans_no_bg_objects_type_2.h5', '/home/nathan/data/kraken/ras/ND0011/Pos11/untrans_no_bg_objects_type_1.h5'] file found, skipping ND0011/Pos11\n"
     ]
    },
    {
     "data": {
      "application/vnd.jupyter.widget-view+json": {
       "model_id": "2a619791fb564610872703a2a615f520",
       "version_major": 2,
       "version_minor": 0
      },
      "text/plain": [
       "  0%|          | 0/1 [00:00<?, ?it/s]"
      ]
     },
     "metadata": {},
     "output_type": "display_data"
    },
    {
     "data": {
      "application/vnd.jupyter.widget-view+json": {
       "model_id": "a7cc6887b22f4cb2a14925e0ea210e68",
       "version_major": 2,
       "version_minor": 0
      },
      "text/plain": [
       "  0%|          | 0/12 [00:00<?, ?it/s]"
      ]
     },
     "metadata": {},
     "output_type": "display_data"
    },
    {
     "name": "stdout",
     "output_type": "stream",
     "text": [
      "['/home/nathan/data/kraken/ras/ND0011/Pos0/untrans_no_bg_objects_type_2.h5', '/home/nathan/data/kraken/ras/ND0011/Pos0/untrans_no_bg_objects_type_1.h5'] file found, skipping ND0011/Pos0\n",
      "['/home/nathan/data/kraken/ras/ND0011/Pos1/untrans_no_bg_objects_type_2.h5', '/home/nathan/data/kraken/ras/ND0011/Pos1/untrans_no_bg_objects_type_1.h5'] file found, skipping ND0011/Pos1\n",
      "['/home/nathan/data/kraken/ras/ND0011/Pos2/untrans_no_bg_objects_type_2.h5', '/home/nathan/data/kraken/ras/ND0011/Pos2/untrans_no_bg_objects_type_1.h5'] file found, skipping ND0011/Pos2\n",
      "ND0011 Pos4 enough masks\n",
      "Starting ND0011/Pos4\n"
     ]
    },
    {
     "name": "stderr",
     "output_type": "stream",
     "text": [
      "[INFO][2022/02/24 07:26:36 AM] Localizing objects from segmentation...\n",
      "[INFO][2022/02/24 07:30:24 AM] Objects are of type: <class 'dict'>\n",
      "[INFO][2022/02/24 07:30:27 AM] ...Found 619816 objects in 1640 frames.\n"
     ]
    },
    {
     "name": "stdout",
     "output_type": "stream",
     "text": [
      "Classifying objects\n"
     ]
    },
    {
     "data": {
      "application/vnd.jupyter.widget-view+json": {
       "model_id": "f79c97ea7075428288bd1664d28afc65",
       "version_major": 2,
       "version_minor": 0
      },
      "text/plain": [
       "  0%|          | 0/1640 [00:00<?, ?it/s]"
      ]
     },
     "metadata": {},
     "output_type": "display_data"
    },
    {
     "data": {
      "application/vnd.jupyter.widget-view+json": {
       "model_id": "182eb5d7482d46339987fc030b2cce7e",
       "version_major": 2,
       "version_minor": 0
      },
      "text/plain": [
       "  0%|          | 0/1640 [00:00<?, ?it/s]"
      ]
     },
     "metadata": {},
     "output_type": "display_data"
    },
    {
     "name": "stderr",
     "output_type": "stream",
     "text": [
      "[INFO][2022/02/24 08:16:06 AM] Opening HDF file: /home/nathan/data/kraken/ras/ND0011/Pos4/untrans_objects_type_1.h5...\n",
      "[INFO][2022/02/24 08:16:11 AM] Writing objects/obj_type_1\n",
      "[INFO][2022/02/24 08:16:11 AM] Writing labels/obj_type_1\n",
      "[INFO][2022/02/24 08:16:11 AM] Loading objects/obj_type_1 (553131, 5) (553131 filtered: None)\n",
      "[INFO][2022/02/24 08:16:17 AM] Writing properties/obj_type_1/area (553131,)\n",
      "[INFO][2022/02/24 08:16:17 AM] Writing properties/obj_type_1/class id (553131,)\n",
      "[INFO][2022/02/24 08:16:17 AM] Writing properties/obj_type_1/prob_interphase (553131,)\n",
      "[INFO][2022/02/24 08:16:17 AM] Writing properties/obj_type_1/prob_prometaphase (553131,)\n",
      "[INFO][2022/02/24 08:16:17 AM] Writing properties/obj_type_1/prob_metaphase (553131,)\n",
      "[INFO][2022/02/24 08:16:17 AM] Writing properties/obj_type_1/prob_anaphase (553131,)\n",
      "[INFO][2022/02/24 08:16:17 AM] Writing properties/obj_type_1/prob_apoptosis (553131,)\n",
      "[INFO][2022/02/24 08:16:17 AM] Closing HDF file: /home/nathan/data/kraken/ras/ND0011/Pos4/untrans_objects_type_1.h5\n",
      "[INFO][2022/02/24 08:16:17 AM] Opening HDF file: /home/nathan/data/kraken/ras/ND0011/Pos4/untrans_objects_type_2.h5...\n",
      "[INFO][2022/02/24 08:16:18 AM] Writing objects/obj_type_2\n",
      "[INFO][2022/02/24 08:16:18 AM] Writing labels/obj_type_2\n",
      "[INFO][2022/02/24 08:16:18 AM] Loading objects/obj_type_2 (66685, 5) (66685 filtered: None)\n",
      "[INFO][2022/02/24 08:16:19 AM] Writing properties/obj_type_2/area (66685,)\n",
      "[INFO][2022/02/24 08:16:19 AM] Writing properties/obj_type_2/class id (66685,)\n",
      "[INFO][2022/02/24 08:16:19 AM] Writing properties/obj_type_2/prob_interphase (66685,)\n",
      "[INFO][2022/02/24 08:16:19 AM] Writing properties/obj_type_2/prob_prometaphase (66685,)\n",
      "[INFO][2022/02/24 08:16:19 AM] Writing properties/obj_type_2/prob_metaphase (66685,)\n",
      "[INFO][2022/02/24 08:16:19 AM] Writing properties/obj_type_2/prob_anaphase (66685,)\n",
      "[INFO][2022/02/24 08:16:19 AM] Writing properties/obj_type_2/prob_apoptosis (66685,)\n",
      "[INFO][2022/02/24 08:16:19 AM] Closing HDF file: /home/nathan/data/kraken/ras/ND0011/Pos4/untrans_objects_type_2.h5\n"
     ]
    },
    {
     "name": "stdout",
     "output_type": "stream",
     "text": [
      "['/home/nathan/data/kraken/ras/ND0011/Pos5/untrans_no_bg_objects_type_2.h5', '/home/nathan/data/kraken/ras/ND0011/Pos5/untrans_no_bg_objects_type_1.h5'] file found, skipping ND0011/Pos5\n",
      "['/home/nathan/data/kraken/ras/ND0011/Pos6/untrans_no_bg_objects_type_2.h5', '/home/nathan/data/kraken/ras/ND0011/Pos6/untrans_no_bg_objects_type_1.h5'] file found, skipping ND0011/Pos6\n",
      "['/home/nathan/data/kraken/ras/ND0011/Pos7/untrans_no_bg_objects_type_2.h5', '/home/nathan/data/kraken/ras/ND0011/Pos7/untrans_no_bg_objects_type_1.h5'] file found, skipping ND0011/Pos7\n",
      "['/home/nathan/data/kraken/ras/ND0011/Pos8/untrans_no_bg_objects_type_2.h5', '/home/nathan/data/kraken/ras/ND0011/Pos8/untrans_no_bg_objects_type_1.h5'] file found, skipping ND0011/Pos8\n",
      "['/home/nathan/data/kraken/ras/ND0011/Pos9/untrans_no_bg_objects_type_2.h5', '/home/nathan/data/kraken/ras/ND0011/Pos9/untrans_no_bg_objects_type_1.h5'] file found, skipping ND0011/Pos9\n",
      "['/home/nathan/data/kraken/ras/ND0011/Pos10/untrans_no_bg_objects_type_2.h5', '/home/nathan/data/kraken/ras/ND0011/Pos10/untrans_no_bg_objects_type_1.h5'] file found, skipping ND0011/Pos10\n",
      "['/home/nathan/data/kraken/ras/ND0011/Pos11/untrans_no_bg_objects_type_2.h5', '/home/nathan/data/kraken/ras/ND0011/Pos11/untrans_no_bg_objects_type_1.h5'] file found, skipping ND0011/Pos11\n"
     ]
    },
    {
     "data": {
      "application/vnd.jupyter.widget-view+json": {
       "model_id": "e3c6b8b2b5de45b2bd5d310e5d19c870",
       "version_major": 2,
       "version_minor": 0
      },
      "text/plain": [
       "  0%|          | 0/1 [00:00<?, ?it/s]"
      ]
     },
     "metadata": {},
     "output_type": "display_data"
    },
    {
     "data": {
      "application/vnd.jupyter.widget-view+json": {
       "model_id": "b76480bdd6144acfb64af7f6ebad46e8",
       "version_major": 2,
       "version_minor": 0
      },
      "text/plain": [
       "  0%|          | 0/12 [00:00<?, ?it/s]"
      ]
     },
     "metadata": {},
     "output_type": "display_data"
    },
    {
     "name": "stdout",
     "output_type": "stream",
     "text": [
      "['/home/nathan/data/kraken/ras/ND0011/Pos0/untrans_no_bg_objects_type_2.h5', '/home/nathan/data/kraken/ras/ND0011/Pos0/untrans_no_bg_objects_type_1.h5'] file found, skipping ND0011/Pos0\n",
      "['/home/nathan/data/kraken/ras/ND0011/Pos1/untrans_no_bg_objects_type_2.h5', '/home/nathan/data/kraken/ras/ND0011/Pos1/untrans_no_bg_objects_type_1.h5'] file found, skipping ND0011/Pos1\n",
      "['/home/nathan/data/kraken/ras/ND0011/Pos2/untrans_no_bg_objects_type_2.h5', '/home/nathan/data/kraken/ras/ND0011/Pos2/untrans_no_bg_objects_type_1.h5'] file found, skipping ND0011/Pos2\n",
      "['/home/nathan/data/kraken/ras/ND0011/Pos4/untrans_no_bg_objects_type_2.h5', '/home/nathan/data/kraken/ras/ND0011/Pos4/untrans_no_bg_objects_type_1.h5'] file found, skipping ND0011/Pos4\n",
      "['/home/nathan/data/kraken/ras/ND0011/Pos5/untrans_no_bg_objects_type_2.h5', '/home/nathan/data/kraken/ras/ND0011/Pos5/untrans_no_bg_objects_type_1.h5'] file found, skipping ND0011/Pos5\n",
      "['/home/nathan/data/kraken/ras/ND0011/Pos6/untrans_no_bg_objects_type_2.h5', '/home/nathan/data/kraken/ras/ND0011/Pos6/untrans_no_bg_objects_type_1.h5'] file found, skipping ND0011/Pos6\n",
      "['/home/nathan/data/kraken/ras/ND0011/Pos7/untrans_no_bg_objects_type_2.h5', '/home/nathan/data/kraken/ras/ND0011/Pos7/untrans_no_bg_objects_type_1.h5'] file found, skipping ND0011/Pos7\n",
      "['/home/nathan/data/kraken/ras/ND0011/Pos8/untrans_no_bg_objects_type_2.h5', '/home/nathan/data/kraken/ras/ND0011/Pos8/untrans_no_bg_objects_type_1.h5'] file found, skipping ND0011/Pos8\n",
      "['/home/nathan/data/kraken/ras/ND0011/Pos9/untrans_no_bg_objects_type_2.h5', '/home/nathan/data/kraken/ras/ND0011/Pos9/untrans_no_bg_objects_type_1.h5'] file found, skipping ND0011/Pos9\n",
      "['/home/nathan/data/kraken/ras/ND0011/Pos10/untrans_no_bg_objects_type_2.h5', '/home/nathan/data/kraken/ras/ND0011/Pos10/untrans_no_bg_objects_type_1.h5'] file found, skipping ND0011/Pos10\n",
      "['/home/nathan/data/kraken/ras/ND0011/Pos11/untrans_no_bg_objects_type_2.h5', '/home/nathan/data/kraken/ras/ND0011/Pos11/untrans_no_bg_objects_type_1.h5'] file found, skipping ND0011/Pos11\n"
     ]
    },
    {
     "data": {
      "application/vnd.jupyter.widget-view+json": {
       "model_id": "c276f16e85ba46aabdaaad771b9dc1e4",
       "version_major": 2,
       "version_minor": 0
      },
      "text/plain": [
       "  0%|          | 0/1 [00:00<?, ?it/s]"
      ]
     },
     "metadata": {},
     "output_type": "display_data"
    },
    {
     "data": {
      "application/vnd.jupyter.widget-view+json": {
       "model_id": "3ba7888fe9ef47f8a9b5def2f6496565",
       "version_major": 2,
       "version_minor": 0
      },
      "text/plain": [
       "  0%|          | 0/12 [00:00<?, ?it/s]"
      ]
     },
     "metadata": {},
     "output_type": "display_data"
    },
    {
     "name": "stdout",
     "output_type": "stream",
     "text": [
      "['/home/nathan/data/kraken/ras/ND0011/Pos0/untrans_no_bg_objects_type_2.h5', '/home/nathan/data/kraken/ras/ND0011/Pos0/untrans_no_bg_objects_type_1.h5'] file found, skipping ND0011/Pos0\n",
      "['/home/nathan/data/kraken/ras/ND0011/Pos1/untrans_no_bg_objects_type_2.h5', '/home/nathan/data/kraken/ras/ND0011/Pos1/untrans_no_bg_objects_type_1.h5'] file found, skipping ND0011/Pos1\n",
      "['/home/nathan/data/kraken/ras/ND0011/Pos2/untrans_no_bg_objects_type_2.h5', '/home/nathan/data/kraken/ras/ND0011/Pos2/untrans_no_bg_objects_type_1.h5'] file found, skipping ND0011/Pos2\n",
      "['/home/nathan/data/kraken/ras/ND0011/Pos4/untrans_no_bg_objects_type_2.h5', '/home/nathan/data/kraken/ras/ND0011/Pos4/untrans_no_bg_objects_type_1.h5'] file found, skipping ND0011/Pos4\n",
      "['/home/nathan/data/kraken/ras/ND0011/Pos5/untrans_no_bg_objects_type_2.h5', '/home/nathan/data/kraken/ras/ND0011/Pos5/untrans_no_bg_objects_type_1.h5'] file found, skipping ND0011/Pos5\n",
      "['/home/nathan/data/kraken/ras/ND0011/Pos6/untrans_no_bg_objects_type_2.h5', '/home/nathan/data/kraken/ras/ND0011/Pos6/untrans_no_bg_objects_type_1.h5'] file found, skipping ND0011/Pos6\n",
      "['/home/nathan/data/kraken/ras/ND0011/Pos7/untrans_no_bg_objects_type_2.h5', '/home/nathan/data/kraken/ras/ND0011/Pos7/untrans_no_bg_objects_type_1.h5'] file found, skipping ND0011/Pos7\n",
      "['/home/nathan/data/kraken/ras/ND0011/Pos8/untrans_no_bg_objects_type_2.h5', '/home/nathan/data/kraken/ras/ND0011/Pos8/untrans_no_bg_objects_type_1.h5'] file found, skipping ND0011/Pos8\n",
      "['/home/nathan/data/kraken/ras/ND0011/Pos9/untrans_no_bg_objects_type_2.h5', '/home/nathan/data/kraken/ras/ND0011/Pos9/untrans_no_bg_objects_type_1.h5'] file found, skipping ND0011/Pos9\n",
      "['/home/nathan/data/kraken/ras/ND0011/Pos10/untrans_no_bg_objects_type_2.h5', '/home/nathan/data/kraken/ras/ND0011/Pos10/untrans_no_bg_objects_type_1.h5'] file found, skipping ND0011/Pos10\n",
      "['/home/nathan/data/kraken/ras/ND0011/Pos11/untrans_no_bg_objects_type_2.h5', '/home/nathan/data/kraken/ras/ND0011/Pos11/untrans_no_bg_objects_type_1.h5'] file found, skipping ND0011/Pos11\n",
      "The slowest run took 164040.96 times longer than the fastest. This could mean that an intermediate result is being cached.\n",
      "1h 13min 43s ± 1h 11min 36s per loop (mean ± std. dev. of 7 runs, 1 loop each)\n"
     ]
    }
   ],
   "source": [
    "%%timeit\n",
    "root_dir = '/home/nathan/data/kraken/ras'\n",
    "expt_list = [#'ND0010', 'ND0011', \n",
    "    'ND0011', \n",
    "    #'ND0013'\n",
    "]\n",
    "#expt_list = [expt for expt in os.listdir(root_dir) if len(expt) == 6]\n",
    "\n",
    "pos_list = 'all'\n",
    "overwrite = False\n",
    "\n",
    "for expt in tqdm(expt_list):\n",
    "    try:\n",
    "        # Find all positions in that experiment, if pos_list is all then it finds all positions\n",
    "        if pos_list == 'all':\n",
    "            pos_list = [pos for pos in os.listdir(f'{root_dir}/{expt}') \n",
    "                    if 'Pos' in pos \n",
    "                    and os.path.isdir(f'{root_dir}/{expt}/{pos}')]  \n",
    "\n",
    "        ### Iterate over all positions in that experiment\n",
    "        for pos in tqdm(natsorted(pos_list)):\n",
    "\n",
    "            ### check if overwrite param is false check if raw directory already created and if type of transform file already exists and decide whether to skip pos\n",
    "            if not overwrite and glob.glob(f'{root_dir}/{expt}/{pos}/*untrans_no_bg_objects_type*.h5'):\n",
    "                print(glob.glob(f'{root_dir}/{expt}/{pos}/**untrans_no_bg_objects_type*.h5'), f'file found, skipping {expt}/{pos}')\n",
    "                continue\n",
    "\n",
    "            #check seg is complete\n",
    "            mask_path = f'{root_dir}/{expt}/{pos}/{pos}_images/*channel099*'\n",
    "            if glob.glob(mask_path) and len(glob.glob(mask_path)) == len(glob.glob(f'{root_dir}/{expt}/{pos}/{pos}_images/*channel001*')):\n",
    "                print(expt, pos, 'enough masks')\n",
    "\n",
    "                print(f'Starting {expt}/{pos}')\n",
    "                # load segmentation images and apply necessary transforms and crops\n",
    "                image_path = f'{root_dir}/{expt}/{pos}/{pos}_images'\n",
    "                #transform_path = f'{root_dir}/{expt}/{pos}/gfp_transform_tensor.npy'\n",
    "                images = DaskOctopusLiteLoader(image_path, \n",
    "                                   #transforms=transform_path,\n",
    "                                   #crop=(1200,1600), \n",
    "                                   remove_background=False)\n",
    "\n",
    "                # ID the objects in each segmentation image and assign option properties to them\n",
    "                objects = btrack.utils.segmentation_to_objects(\n",
    "                    images['mask'], \n",
    "                    properties = ('area',),\n",
    "                    assign_class_ID = True\n",
    "                )\n",
    "\n",
    "                # differentiate the objects based on class ID\n",
    "                objects_gfp = [obj for obj in objects if obj.properties['class id'] == 1]\n",
    "                objects_rfp = [obj for obj in objects if obj.properties['class id'] == 2]\n",
    "\n",
    "                # load classifcation model and define labels\n",
    "                model = load_model('../models/cellx_classifier_stardist.h5')\n",
    "                LABELS = [\"interphase\", \"prometaphase\", \"metaphase\", \"anaphase\", \"apoptosis\"]\n",
    "\n",
    "                # load images for classifcation\n",
    "                bf = images['brightfield']\n",
    "                gfp = images['gfp']\n",
    "                rfp = images['rfp']\n",
    "\n",
    "                # classify objects\n",
    "                print(\"Classifying objects\")\n",
    "                objects_gfp = classify_objects(bf, gfp, rfp, objects_gfp, obj_type = 1)\n",
    "                objects_rfp = classify_objects(bf, gfp, rfp, objects_rfp, obj_type = 2)\n",
    "\n",
    "                # save out classified objects as segmentation h5 file\n",
    "                with btrack.dataio.HDF5FileHandler(\n",
    "                    f'{root_dir}/{expt}/{pos}/untrans_objects_type_1.h5', 'w', obj_type='obj_type_1',\n",
    "                ) as hdf:\n",
    "                    #hdf.write_segmentation(masks['mask'])\n",
    "                    hdf.write_objects(objects_gfp)\n",
    "                with btrack.dataio.HDF5FileHandler(\n",
    "                    f'{root_dir}/{expt}/{pos}/untrans_objects_type_2.h5', 'w', obj_type='obj_type_2',\n",
    "                ) as hdf:\n",
    "                    #hdf.write_segmentation(masks['mask'])\n",
    "                    hdf.write_objects(objects_rfp)  \n",
    "    except Exception as e: \n",
    "        print(e)\n",
    "        #print(pos, expt, 'failed probably due to zero cell count')"
   ]
  },
  {
   "cell_type": "markdown",
   "id": "9e2a7268",
   "metadata": {},
   "source": [
    "# copying all h5 files to temp directory to transfer home"
   ]
  },
  {
   "cell_type": "code",
   "execution_count": null,
   "id": "69099977",
   "metadata": {},
   "outputs": [],
   "source": [
    "root_dir = '/home/nathan/data/kraken/ras'\n"
   ]
  },
  {
   "cell_type": "code",
   "execution_count": 18,
   "id": "b33e25d9",
   "metadata": {},
   "outputs": [],
   "source": [
    "file_list = glob.glob( f'{root_dir}/*/*/untrans_no_bg_objects_type_2.h5')"
   ]
  },
  {
   "cell_type": "code",
   "execution_count": 20,
   "id": "4dd78549",
   "metadata": {},
   "outputs": [],
   "source": [
    "from natsort import natsorted"
   ]
  },
  {
   "cell_type": "code",
   "execution_count": 21,
   "id": "5cf4e101",
   "metadata": {},
   "outputs": [
    {
     "data": {
      "text/plain": [
       "['/home/nathan/data/kraken/ras/ND0010/Pos0/untrans_no_bg_objects_type_2.h5',\n",
       " '/home/nathan/data/kraken/ras/ND0010/Pos1/untrans_no_bg_objects_type_2.h5',\n",
       " '/home/nathan/data/kraken/ras/ND0010/Pos2/untrans_no_bg_objects_type_2.h5',\n",
       " '/home/nathan/data/kraken/ras/ND0010/Pos4/untrans_no_bg_objects_type_2.h5',\n",
       " '/home/nathan/data/kraken/ras/ND0010/Pos5/untrans_no_bg_objects_type_2.h5',\n",
       " '/home/nathan/data/kraken/ras/ND0010/Pos6/untrans_no_bg_objects_type_2.h5',\n",
       " '/home/nathan/data/kraken/ras/ND0010/Pos7/untrans_no_bg_objects_type_2.h5',\n",
       " '/home/nathan/data/kraken/ras/ND0010/Pos8/untrans_no_bg_objects_type_2.h5',\n",
       " '/home/nathan/data/kraken/ras/ND0010/Pos9/untrans_no_bg_objects_type_2.h5',\n",
       " '/home/nathan/data/kraken/ras/ND0010/Pos10/untrans_no_bg_objects_type_2.h5',\n",
       " '/home/nathan/data/kraken/ras/ND0010/Pos11/untrans_no_bg_objects_type_2.h5',\n",
       " '/home/nathan/data/kraken/ras/ND0012/Pos0/untrans_no_bg_objects_type_2.h5',\n",
       " '/home/nathan/data/kraken/ras/ND0012/Pos1/untrans_no_bg_objects_type_2.h5',\n",
       " '/home/nathan/data/kraken/ras/ND0012/Pos3/untrans_no_bg_objects_type_2.h5',\n",
       " '/home/nathan/data/kraken/ras/ND0012/Pos5/untrans_no_bg_objects_type_2.h5',\n",
       " '/home/nathan/data/kraken/ras/ND0012/Pos8/untrans_no_bg_objects_type_2.h5',\n",
       " '/home/nathan/data/kraken/ras/ND0012/Pos10/untrans_no_bg_objects_type_2.h5',\n",
       " '/home/nathan/data/kraken/ras/ND0012/Pos11/untrans_no_bg_objects_type_2.h5',\n",
       " '/home/nathan/data/kraken/ras/ND0013/Pos0/untrans_no_bg_objects_type_2.h5',\n",
       " '/home/nathan/data/kraken/ras/ND0013/Pos1/untrans_no_bg_objects_type_2.h5',\n",
       " '/home/nathan/data/kraken/ras/ND0013/Pos2/untrans_no_bg_objects_type_2.h5',\n",
       " '/home/nathan/data/kraken/ras/ND0013/Pos3/untrans_no_bg_objects_type_2.h5',\n",
       " '/home/nathan/data/kraken/ras/ND0013/Pos4/untrans_no_bg_objects_type_2.h5',\n",
       " '/home/nathan/data/kraken/ras/ND0013/Pos5/untrans_no_bg_objects_type_2.h5',\n",
       " '/home/nathan/data/kraken/ras/ND0013/Pos6/untrans_no_bg_objects_type_2.h5',\n",
       " '/home/nathan/data/kraken/ras/ND0013/Pos7/untrans_no_bg_objects_type_2.h5',\n",
       " '/home/nathan/data/kraken/ras/ND0013/Pos8/untrans_no_bg_objects_type_2.h5',\n",
       " '/home/nathan/data/kraken/ras/ND0013/Pos9/untrans_no_bg_objects_type_2.h5',\n",
       " '/home/nathan/data/kraken/ras/ND0013/Pos10/untrans_no_bg_objects_type_2.h5',\n",
       " '/home/nathan/data/kraken/ras/ND0013/Pos11/untrans_no_bg_objects_type_2.h5',\n",
       " '/home/nathan/data/kraken/ras/ND0013/Pos12/untrans_no_bg_objects_type_2.h5',\n",
       " '/home/nathan/data/kraken/ras/ND0013/Pos13/untrans_no_bg_objects_type_2.h5',\n",
       " '/home/nathan/data/kraken/ras/ND0013/Pos14/untrans_no_bg_objects_type_2.h5',\n",
       " '/home/nathan/data/kraken/ras/ND0014/Pos0/untrans_no_bg_objects_type_2.h5',\n",
       " '/home/nathan/data/kraken/ras/ND0014/Pos1/untrans_no_bg_objects_type_2.h5',\n",
       " '/home/nathan/data/kraken/ras/ND0014/Pos2/untrans_no_bg_objects_type_2.h5',\n",
       " '/home/nathan/data/kraken/ras/ND0014/Pos3/untrans_no_bg_objects_type_2.h5',\n",
       " '/home/nathan/data/kraken/ras/ND0014/Pos4/untrans_no_bg_objects_type_2.h5',\n",
       " '/home/nathan/data/kraken/ras/ND0014/Pos5/untrans_no_bg_objects_type_2.h5',\n",
       " '/home/nathan/data/kraken/ras/ND0014/Pos6/untrans_no_bg_objects_type_2.h5',\n",
       " '/home/nathan/data/kraken/ras/ND0014/Pos7/untrans_no_bg_objects_type_2.h5',\n",
       " '/home/nathan/data/kraken/ras/ND0014/Pos8/untrans_no_bg_objects_type_2.h5',\n",
       " '/home/nathan/data/kraken/ras/ND0014/Pos9/untrans_no_bg_objects_type_2.h5',\n",
       " '/home/nathan/data/kraken/ras/ND0014/Pos10/untrans_no_bg_objects_type_2.h5',\n",
       " '/home/nathan/data/kraken/ras/ND0014/Pos11/untrans_no_bg_objects_type_2.h5',\n",
       " '/home/nathan/data/kraken/ras/ND0014/Pos12/untrans_no_bg_objects_type_2.h5',\n",
       " '/home/nathan/data/kraken/ras/ND0014/Pos13/untrans_no_bg_objects_type_2.h5']"
      ]
     },
     "execution_count": 21,
     "metadata": {},
     "output_type": "execute_result"
    }
   ],
   "source": [
    "natsorted(file_list)"
   ]
  },
  {
   "cell_type": "code",
   "execution_count": 25,
   "id": "952e4805",
   "metadata": {},
   "outputs": [],
   "source": [
    "import shutil, os"
   ]
  },
  {
   "cell_type": "code",
   "execution_count": 26,
   "id": "b2a12203",
   "metadata": {},
   "outputs": [],
   "source": [
    "os.mkdir('/home/nathan/data/test/')"
   ]
  },
  {
   "cell_type": "code",
   "execution_count": 32,
   "id": "968508ff",
   "metadata": {},
   "outputs": [
    {
     "data": {
      "application/vnd.jupyter.widget-view+json": {
       "model_id": "70666e5227dd43a69e827bb4435375b0",
       "version_major": 2,
       "version_minor": 0
      },
      "text/plain": [
       "  0%|          | 0/47 [00:00<?, ?it/s]"
      ]
     },
     "metadata": {},
     "output_type": "display_data"
    },
    {
     "name": "stdout",
     "output_type": "stream",
     "text": [
      "/home/nathan/data/kraken/ras/ND0010/Pos0/untrans_no_bg_objects_type_2.h5\n",
      "/home/nathan/data/kraken/ras/ND0010/Pos0\n",
      "untrans_no_bg_objects_type_2.h5\n",
      "/home/nathan/temp/data/kraken/ras/ND0010/Pos0\n",
      "/home/nathan/temp/data/kraken/ras/ND0010/Pos0/untrans_no_bg_objects_type_2.h5\n",
      "/home/nathan/data/kraken/ras/ND0010/Pos1/untrans_no_bg_objects_type_2.h5\n",
      "/home/nathan/data/kraken/ras/ND0010/Pos1\n",
      "untrans_no_bg_objects_type_2.h5\n",
      "/home/nathan/temp/data/kraken/ras/ND0010/Pos1\n",
      "/home/nathan/temp/data/kraken/ras/ND0010/Pos1/untrans_no_bg_objects_type_2.h5\n",
      "/home/nathan/data/kraken/ras/ND0010/Pos2/untrans_no_bg_objects_type_2.h5\n",
      "/home/nathan/data/kraken/ras/ND0010/Pos2\n",
      "untrans_no_bg_objects_type_2.h5\n",
      "/home/nathan/temp/data/kraken/ras/ND0010/Pos2\n",
      "/home/nathan/temp/data/kraken/ras/ND0010/Pos2/untrans_no_bg_objects_type_2.h5\n",
      "/home/nathan/data/kraken/ras/ND0010/Pos4/untrans_no_bg_objects_type_2.h5\n",
      "/home/nathan/data/kraken/ras/ND0010/Pos4\n",
      "untrans_no_bg_objects_type_2.h5\n",
      "/home/nathan/temp/data/kraken/ras/ND0010/Pos4\n",
      "/home/nathan/temp/data/kraken/ras/ND0010/Pos4/untrans_no_bg_objects_type_2.h5\n",
      "/home/nathan/data/kraken/ras/ND0010/Pos5/untrans_no_bg_objects_type_2.h5\n",
      "/home/nathan/data/kraken/ras/ND0010/Pos5\n",
      "untrans_no_bg_objects_type_2.h5\n",
      "/home/nathan/temp/data/kraken/ras/ND0010/Pos5\n",
      "/home/nathan/temp/data/kraken/ras/ND0010/Pos5/untrans_no_bg_objects_type_2.h5\n",
      "/home/nathan/data/kraken/ras/ND0010/Pos6/untrans_no_bg_objects_type_2.h5\n",
      "/home/nathan/data/kraken/ras/ND0010/Pos6\n",
      "untrans_no_bg_objects_type_2.h5\n",
      "/home/nathan/temp/data/kraken/ras/ND0010/Pos6\n",
      "/home/nathan/temp/data/kraken/ras/ND0010/Pos6/untrans_no_bg_objects_type_2.h5\n",
      "/home/nathan/data/kraken/ras/ND0010/Pos7/untrans_no_bg_objects_type_2.h5\n",
      "/home/nathan/data/kraken/ras/ND0010/Pos7\n",
      "untrans_no_bg_objects_type_2.h5\n",
      "/home/nathan/temp/data/kraken/ras/ND0010/Pos7\n",
      "/home/nathan/temp/data/kraken/ras/ND0010/Pos7/untrans_no_bg_objects_type_2.h5\n",
      "/home/nathan/data/kraken/ras/ND0010/Pos8/untrans_no_bg_objects_type_2.h5\n",
      "/home/nathan/data/kraken/ras/ND0010/Pos8\n",
      "untrans_no_bg_objects_type_2.h5\n",
      "/home/nathan/temp/data/kraken/ras/ND0010/Pos8\n",
      "/home/nathan/temp/data/kraken/ras/ND0010/Pos8/untrans_no_bg_objects_type_2.h5\n",
      "/home/nathan/data/kraken/ras/ND0010/Pos9/untrans_no_bg_objects_type_2.h5\n",
      "/home/nathan/data/kraken/ras/ND0010/Pos9\n",
      "untrans_no_bg_objects_type_2.h5\n",
      "/home/nathan/temp/data/kraken/ras/ND0010/Pos9\n",
      "/home/nathan/temp/data/kraken/ras/ND0010/Pos9/untrans_no_bg_objects_type_2.h5\n",
      "/home/nathan/data/kraken/ras/ND0010/Pos10/untrans_no_bg_objects_type_2.h5\n",
      "/home/nathan/data/kraken/ras/ND0010/Pos10\n",
      "untrans_no_bg_objects_type_2.h5\n",
      "/home/nathan/temp/data/kraken/ras/ND0010/Pos10\n",
      "/home/nathan/temp/data/kraken/ras/ND0010/Pos10/untrans_no_bg_objects_type_2.h5\n",
      "/home/nathan/data/kraken/ras/ND0010/Pos11/untrans_no_bg_objects_type_2.h5\n",
      "/home/nathan/data/kraken/ras/ND0010/Pos11\n",
      "untrans_no_bg_objects_type_2.h5\n",
      "/home/nathan/temp/data/kraken/ras/ND0010/Pos11\n",
      "/home/nathan/temp/data/kraken/ras/ND0010/Pos11/untrans_no_bg_objects_type_2.h5\n",
      "/home/nathan/data/kraken/ras/ND0012/Pos0/untrans_no_bg_objects_type_2.h5\n",
      "/home/nathan/data/kraken/ras/ND0012/Pos0\n",
      "untrans_no_bg_objects_type_2.h5\n",
      "/home/nathan/temp/data/kraken/ras/ND0012/Pos0\n",
      "/home/nathan/temp/data/kraken/ras/ND0012/Pos0/untrans_no_bg_objects_type_2.h5\n",
      "/home/nathan/data/kraken/ras/ND0012/Pos1/untrans_no_bg_objects_type_2.h5\n",
      "/home/nathan/data/kraken/ras/ND0012/Pos1\n",
      "untrans_no_bg_objects_type_2.h5\n",
      "/home/nathan/temp/data/kraken/ras/ND0012/Pos1\n",
      "/home/nathan/temp/data/kraken/ras/ND0012/Pos1/untrans_no_bg_objects_type_2.h5\n",
      "/home/nathan/data/kraken/ras/ND0012/Pos3/untrans_no_bg_objects_type_2.h5\n",
      "/home/nathan/data/kraken/ras/ND0012/Pos3\n",
      "untrans_no_bg_objects_type_2.h5\n",
      "/home/nathan/temp/data/kraken/ras/ND0012/Pos3\n",
      "/home/nathan/temp/data/kraken/ras/ND0012/Pos3/untrans_no_bg_objects_type_2.h5\n",
      "/home/nathan/data/kraken/ras/ND0012/Pos5/untrans_no_bg_objects_type_2.h5\n",
      "/home/nathan/data/kraken/ras/ND0012/Pos5\n",
      "untrans_no_bg_objects_type_2.h5\n",
      "/home/nathan/temp/data/kraken/ras/ND0012/Pos5\n",
      "/home/nathan/temp/data/kraken/ras/ND0012/Pos5/untrans_no_bg_objects_type_2.h5\n",
      "/home/nathan/data/kraken/ras/ND0012/Pos8/untrans_no_bg_objects_type_2.h5\n",
      "/home/nathan/data/kraken/ras/ND0012/Pos8\n",
      "untrans_no_bg_objects_type_2.h5\n",
      "/home/nathan/temp/data/kraken/ras/ND0012/Pos8\n",
      "/home/nathan/temp/data/kraken/ras/ND0012/Pos8/untrans_no_bg_objects_type_2.h5\n",
      "/home/nathan/data/kraken/ras/ND0012/Pos10/untrans_no_bg_objects_type_2.h5\n",
      "/home/nathan/data/kraken/ras/ND0012/Pos10\n",
      "untrans_no_bg_objects_type_2.h5\n",
      "/home/nathan/temp/data/kraken/ras/ND0012/Pos10\n",
      "/home/nathan/temp/data/kraken/ras/ND0012/Pos10/untrans_no_bg_objects_type_2.h5\n",
      "/home/nathan/data/kraken/ras/ND0012/Pos11/untrans_no_bg_objects_type_2.h5\n",
      "/home/nathan/data/kraken/ras/ND0012/Pos11\n",
      "untrans_no_bg_objects_type_2.h5\n",
      "/home/nathan/temp/data/kraken/ras/ND0012/Pos11\n",
      "/home/nathan/temp/data/kraken/ras/ND0012/Pos11/untrans_no_bg_objects_type_2.h5\n",
      "/home/nathan/data/kraken/ras/ND0013/Pos0/untrans_no_bg_objects_type_2.h5\n",
      "/home/nathan/data/kraken/ras/ND0013/Pos0\n",
      "untrans_no_bg_objects_type_2.h5\n",
      "/home/nathan/temp/data/kraken/ras/ND0013/Pos0\n",
      "/home/nathan/temp/data/kraken/ras/ND0013/Pos0/untrans_no_bg_objects_type_2.h5\n",
      "/home/nathan/data/kraken/ras/ND0013/Pos1/untrans_no_bg_objects_type_2.h5\n",
      "/home/nathan/data/kraken/ras/ND0013/Pos1\n",
      "untrans_no_bg_objects_type_2.h5\n",
      "/home/nathan/temp/data/kraken/ras/ND0013/Pos1\n",
      "/home/nathan/temp/data/kraken/ras/ND0013/Pos1/untrans_no_bg_objects_type_2.h5\n",
      "/home/nathan/data/kraken/ras/ND0013/Pos2/untrans_no_bg_objects_type_2.h5\n",
      "/home/nathan/data/kraken/ras/ND0013/Pos2\n",
      "untrans_no_bg_objects_type_2.h5\n",
      "/home/nathan/temp/data/kraken/ras/ND0013/Pos2\n",
      "/home/nathan/temp/data/kraken/ras/ND0013/Pos2/untrans_no_bg_objects_type_2.h5\n",
      "/home/nathan/data/kraken/ras/ND0013/Pos3/untrans_no_bg_objects_type_2.h5\n",
      "/home/nathan/data/kraken/ras/ND0013/Pos3\n",
      "untrans_no_bg_objects_type_2.h5\n",
      "/home/nathan/temp/data/kraken/ras/ND0013/Pos3\n",
      "/home/nathan/temp/data/kraken/ras/ND0013/Pos3/untrans_no_bg_objects_type_2.h5\n",
      "/home/nathan/data/kraken/ras/ND0013/Pos4/untrans_no_bg_objects_type_2.h5\n",
      "/home/nathan/data/kraken/ras/ND0013/Pos4\n",
      "untrans_no_bg_objects_type_2.h5\n",
      "/home/nathan/temp/data/kraken/ras/ND0013/Pos4\n",
      "/home/nathan/temp/data/kraken/ras/ND0013/Pos4/untrans_no_bg_objects_type_2.h5\n",
      "/home/nathan/data/kraken/ras/ND0013/Pos5/untrans_no_bg_objects_type_2.h5\n",
      "/home/nathan/data/kraken/ras/ND0013/Pos5\n",
      "untrans_no_bg_objects_type_2.h5\n",
      "/home/nathan/temp/data/kraken/ras/ND0013/Pos5\n",
      "/home/nathan/temp/data/kraken/ras/ND0013/Pos5/untrans_no_bg_objects_type_2.h5\n",
      "/home/nathan/data/kraken/ras/ND0013/Pos6/untrans_no_bg_objects_type_2.h5\n",
      "/home/nathan/data/kraken/ras/ND0013/Pos6\n",
      "untrans_no_bg_objects_type_2.h5\n",
      "/home/nathan/temp/data/kraken/ras/ND0013/Pos6\n",
      "/home/nathan/temp/data/kraken/ras/ND0013/Pos6/untrans_no_bg_objects_type_2.h5\n",
      "/home/nathan/data/kraken/ras/ND0013/Pos7/untrans_no_bg_objects_type_2.h5\n",
      "/home/nathan/data/kraken/ras/ND0013/Pos7\n",
      "untrans_no_bg_objects_type_2.h5\n",
      "/home/nathan/temp/data/kraken/ras/ND0013/Pos7\n",
      "/home/nathan/temp/data/kraken/ras/ND0013/Pos7/untrans_no_bg_objects_type_2.h5\n",
      "/home/nathan/data/kraken/ras/ND0013/Pos8/untrans_no_bg_objects_type_2.h5\n",
      "/home/nathan/data/kraken/ras/ND0013/Pos8\n",
      "untrans_no_bg_objects_type_2.h5\n",
      "/home/nathan/temp/data/kraken/ras/ND0013/Pos8\n",
      "/home/nathan/temp/data/kraken/ras/ND0013/Pos8/untrans_no_bg_objects_type_2.h5\n",
      "/home/nathan/data/kraken/ras/ND0013/Pos9/untrans_no_bg_objects_type_2.h5\n",
      "/home/nathan/data/kraken/ras/ND0013/Pos9\n",
      "untrans_no_bg_objects_type_2.h5\n",
      "/home/nathan/temp/data/kraken/ras/ND0013/Pos9\n",
      "/home/nathan/temp/data/kraken/ras/ND0013/Pos9/untrans_no_bg_objects_type_2.h5\n",
      "/home/nathan/data/kraken/ras/ND0013/Pos10/untrans_no_bg_objects_type_2.h5\n",
      "/home/nathan/data/kraken/ras/ND0013/Pos10\n",
      "untrans_no_bg_objects_type_2.h5\n",
      "/home/nathan/temp/data/kraken/ras/ND0013/Pos10\n",
      "/home/nathan/temp/data/kraken/ras/ND0013/Pos10/untrans_no_bg_objects_type_2.h5\n",
      "/home/nathan/data/kraken/ras/ND0013/Pos11/untrans_no_bg_objects_type_2.h5\n",
      "/home/nathan/data/kraken/ras/ND0013/Pos11\n",
      "untrans_no_bg_objects_type_2.h5\n",
      "/home/nathan/temp/data/kraken/ras/ND0013/Pos11\n",
      "/home/nathan/temp/data/kraken/ras/ND0013/Pos11/untrans_no_bg_objects_type_2.h5\n",
      "/home/nathan/data/kraken/ras/ND0013/Pos12/untrans_no_bg_objects_type_2.h5\n",
      "/home/nathan/data/kraken/ras/ND0013/Pos12\n",
      "untrans_no_bg_objects_type_2.h5\n",
      "/home/nathan/temp/data/kraken/ras/ND0013/Pos12\n",
      "/home/nathan/temp/data/kraken/ras/ND0013/Pos12/untrans_no_bg_objects_type_2.h5\n"
     ]
    },
    {
     "name": "stdout",
     "output_type": "stream",
     "text": [
      "/home/nathan/data/kraken/ras/ND0013/Pos13/untrans_no_bg_objects_type_2.h5\n",
      "/home/nathan/data/kraken/ras/ND0013/Pos13\n",
      "untrans_no_bg_objects_type_2.h5\n",
      "/home/nathan/temp/data/kraken/ras/ND0013/Pos13\n",
      "/home/nathan/temp/data/kraken/ras/ND0013/Pos13/untrans_no_bg_objects_type_2.h5\n",
      "/home/nathan/data/kraken/ras/ND0013/Pos14/untrans_no_bg_objects_type_2.h5\n",
      "/home/nathan/data/kraken/ras/ND0013/Pos14\n",
      "untrans_no_bg_objects_type_2.h5\n",
      "/home/nathan/temp/data/kraken/ras/ND0013/Pos14\n",
      "/home/nathan/temp/data/kraken/ras/ND0013/Pos14/untrans_no_bg_objects_type_2.h5\n",
      "/home/nathan/data/kraken/ras/ND0014/Pos0/untrans_no_bg_objects_type_2.h5\n",
      "/home/nathan/data/kraken/ras/ND0014/Pos0\n",
      "untrans_no_bg_objects_type_2.h5\n",
      "/home/nathan/temp/data/kraken/ras/ND0014/Pos0\n",
      "/home/nathan/temp/data/kraken/ras/ND0014/Pos0/untrans_no_bg_objects_type_2.h5\n",
      "/home/nathan/data/kraken/ras/ND0014/Pos1/untrans_no_bg_objects_type_2.h5\n",
      "/home/nathan/data/kraken/ras/ND0014/Pos1\n",
      "untrans_no_bg_objects_type_2.h5\n",
      "/home/nathan/temp/data/kraken/ras/ND0014/Pos1\n",
      "/home/nathan/temp/data/kraken/ras/ND0014/Pos1/untrans_no_bg_objects_type_2.h5\n",
      "/home/nathan/data/kraken/ras/ND0014/Pos2/untrans_no_bg_objects_type_2.h5\n",
      "/home/nathan/data/kraken/ras/ND0014/Pos2\n",
      "untrans_no_bg_objects_type_2.h5\n",
      "/home/nathan/temp/data/kraken/ras/ND0014/Pos2\n",
      "/home/nathan/temp/data/kraken/ras/ND0014/Pos2/untrans_no_bg_objects_type_2.h5\n",
      "/home/nathan/data/kraken/ras/ND0014/Pos3/untrans_no_bg_objects_type_2.h5\n",
      "/home/nathan/data/kraken/ras/ND0014/Pos3\n",
      "untrans_no_bg_objects_type_2.h5\n",
      "/home/nathan/temp/data/kraken/ras/ND0014/Pos3\n",
      "/home/nathan/temp/data/kraken/ras/ND0014/Pos3/untrans_no_bg_objects_type_2.h5\n",
      "/home/nathan/data/kraken/ras/ND0014/Pos4/untrans_no_bg_objects_type_2.h5\n",
      "/home/nathan/data/kraken/ras/ND0014/Pos4\n",
      "untrans_no_bg_objects_type_2.h5\n",
      "/home/nathan/temp/data/kraken/ras/ND0014/Pos4\n",
      "/home/nathan/temp/data/kraken/ras/ND0014/Pos4/untrans_no_bg_objects_type_2.h5\n",
      "/home/nathan/data/kraken/ras/ND0014/Pos5/untrans_no_bg_objects_type_2.h5\n",
      "/home/nathan/data/kraken/ras/ND0014/Pos5\n",
      "untrans_no_bg_objects_type_2.h5\n",
      "/home/nathan/temp/data/kraken/ras/ND0014/Pos5\n",
      "/home/nathan/temp/data/kraken/ras/ND0014/Pos5/untrans_no_bg_objects_type_2.h5\n",
      "/home/nathan/data/kraken/ras/ND0014/Pos6/untrans_no_bg_objects_type_2.h5\n",
      "/home/nathan/data/kraken/ras/ND0014/Pos6\n",
      "untrans_no_bg_objects_type_2.h5\n",
      "/home/nathan/temp/data/kraken/ras/ND0014/Pos6\n",
      "/home/nathan/temp/data/kraken/ras/ND0014/Pos6/untrans_no_bg_objects_type_2.h5\n",
      "/home/nathan/data/kraken/ras/ND0014/Pos7/untrans_no_bg_objects_type_2.h5\n",
      "/home/nathan/data/kraken/ras/ND0014/Pos7\n",
      "untrans_no_bg_objects_type_2.h5\n",
      "/home/nathan/temp/data/kraken/ras/ND0014/Pos7\n",
      "/home/nathan/temp/data/kraken/ras/ND0014/Pos7/untrans_no_bg_objects_type_2.h5\n",
      "/home/nathan/data/kraken/ras/ND0014/Pos8/untrans_no_bg_objects_type_2.h5\n",
      "/home/nathan/data/kraken/ras/ND0014/Pos8\n",
      "untrans_no_bg_objects_type_2.h5\n",
      "/home/nathan/temp/data/kraken/ras/ND0014/Pos8\n",
      "/home/nathan/temp/data/kraken/ras/ND0014/Pos8/untrans_no_bg_objects_type_2.h5\n",
      "/home/nathan/data/kraken/ras/ND0014/Pos9/untrans_no_bg_objects_type_2.h5\n",
      "/home/nathan/data/kraken/ras/ND0014/Pos9\n",
      "untrans_no_bg_objects_type_2.h5\n",
      "/home/nathan/temp/data/kraken/ras/ND0014/Pos9\n",
      "/home/nathan/temp/data/kraken/ras/ND0014/Pos9/untrans_no_bg_objects_type_2.h5\n",
      "/home/nathan/data/kraken/ras/ND0014/Pos10/untrans_no_bg_objects_type_2.h5\n",
      "/home/nathan/data/kraken/ras/ND0014/Pos10\n",
      "untrans_no_bg_objects_type_2.h5\n",
      "/home/nathan/temp/data/kraken/ras/ND0014/Pos10\n",
      "/home/nathan/temp/data/kraken/ras/ND0014/Pos10/untrans_no_bg_objects_type_2.h5\n",
      "/home/nathan/data/kraken/ras/ND0014/Pos11/untrans_no_bg_objects_type_2.h5\n",
      "/home/nathan/data/kraken/ras/ND0014/Pos11\n",
      "untrans_no_bg_objects_type_2.h5\n",
      "/home/nathan/temp/data/kraken/ras/ND0014/Pos11\n",
      "/home/nathan/temp/data/kraken/ras/ND0014/Pos11/untrans_no_bg_objects_type_2.h5\n",
      "/home/nathan/data/kraken/ras/ND0014/Pos12/untrans_no_bg_objects_type_2.h5\n",
      "/home/nathan/data/kraken/ras/ND0014/Pos12\n",
      "untrans_no_bg_objects_type_2.h5\n",
      "/home/nathan/temp/data/kraken/ras/ND0014/Pos12\n",
      "/home/nathan/temp/data/kraken/ras/ND0014/Pos12/untrans_no_bg_objects_type_2.h5\n",
      "/home/nathan/data/kraken/ras/ND0014/Pos13/untrans_no_bg_objects_type_2.h5\n",
      "/home/nathan/data/kraken/ras/ND0014/Pos13\n",
      "untrans_no_bg_objects_type_2.h5\n",
      "/home/nathan/temp/data/kraken/ras/ND0014/Pos13\n",
      "/home/nathan/temp/data/kraken/ras/ND0014/Pos13/untrans_no_bg_objects_type_2.h5\n"
     ]
    }
   ],
   "source": [
    "for file in tqdm(natsorted(file_list)):\n",
    "    ##get path\n",
    "    path = os.path.split(file)[0]\n",
    "    filename = os.path.split(file)[-1]\n",
    "    ## new path\n",
    "    new_path = path.replace('/home/nathan/', '/home/nathan/temp/')\n",
    "    ## create new directory structure\n",
    "    os.makedirs(new_path)\n",
    "    new_file = os.path.join(new_path, filename)\n",
    "    ## copy file to new location\n",
    "    print(file)\n",
    "    print(path)\n",
    "    print(filename)\n",
    "    print(new_path)\n",
    "    print(new_file)\n",
    "    shutil.copyfile(file, new_file)"
   ]
  },
  {
   "cell_type": "markdown",
   "id": "ebcf8188",
   "metadata": {},
   "source": [
    "# need to do other set of files (with bg)"
   ]
  },
  {
   "cell_type": "code",
   "execution_count": 11,
   "id": "b3e112d1",
   "metadata": {},
   "outputs": [
    {
     "data": {
      "text/plain": [
       "'/home/nathan/data/kraken/ras/*untrans_objects_type_2.h5'"
      ]
     },
     "execution_count": 11,
     "metadata": {},
     "output_type": "execute_result"
    }
   ],
   "source": [
    "for file in file_list:\n",
    "    "
   ]
  },
  {
   "cell_type": "markdown",
   "id": "c8e99e9a",
   "metadata": {},
   "source": [
    "# Parallel batch process"
   ]
  },
  {
   "cell_type": "code",
   "execution_count": 5,
   "id": "4eb3bf55",
   "metadata": {},
   "outputs": [],
   "source": [
    "def classify(pos):\n",
    "    ### check if overwrite param is false check if raw directory already created and if type of transform file already exists and decide whether to skip pos\n",
    "    \n",
    "\n",
    "    print(f'Starting {expt}/{pos}')\n",
    "    # load segmentation images and apply necessary transforms and crops\n",
    "    image_path = f'{root_dir}/{expt}/{pos}/{pos}_images'\n",
    "    #transform_path = f'{root_dir}/{expt}/{pos}/gfp_transform_tensor.npy'\n",
    "    images = DaskOctopusLiteLoader(image_path, \n",
    "                       #transforms=transform_path,\n",
    "                       #crop=(1200,1600), \n",
    "                       remove_background=False)\n",
    "\n",
    "    # ID the objects in each segmentation image and assign option properties to them\n",
    "    objects = btrack.utils.segmentation_to_objects(\n",
    "        images['mask'], images['mask'],\n",
    "        properties = ('area', 'max_intensity', ),\n",
    "    )\n",
    "\n",
    "    # differentiate the objects based on class ID\n",
    "    objects_gfp = [obj for obj in objects if obj.properties['max_intensity'] == 1]\n",
    "    objects_rfp = [obj for obj in objects if obj.properties['max_intensity'] == 2]\n",
    "\n",
    "    # load classifcation model and define labels\n",
    "    model = load_model('../models/cellx_classifier_stardist.h5')\n",
    "    LABELS = [\"interphase\", \"prometaphase\", \"metaphase\", \"anaphase\", \"apoptosis\"]\n",
    "\n",
    "    # load images for classifcation\n",
    "    bf = images['brightfield']\n",
    "    gfp = images['gfp']\n",
    "    rfp = images['rfp']\n",
    "\n",
    "    # classify objects\n",
    "    print(\"Classifying objects\")\n",
    "    objects_gfp = classify_objects(bf, objects_gfp, obj_type = 1)\n",
    "    objects_rfp = classify_objects(bf, objects_rfp, obj_type = 2)\n",
    "\n",
    "    # save out classified objects as segmentation h5 file\n",
    "    with btrack.dataio.HDF5FileHandler(\n",
    "        f'{root_dir}/{expt}/{pos}/objects_type_1_untrans.h5', 'w', obj_type='obj_type_1',\n",
    "    ) as hdf:\n",
    "        #hdf.write_segmentation(masks['mask'])\n",
    "        hdf.write_objects(objects_gfp)\n",
    "    with btrack.dataio.HDF5FileHandler(\n",
    "        f'{root_dir}/{expt}/{pos}/objects_type_2_untrans.h5', 'w', obj_type='obj_type_2',\n",
    "    ) as hdf:\n",
    "        #hdf.write_segmentation(masks['mask'])\n",
    "        hdf.write_objects(objects_rfp)     \n",
    "\n",
    "    return"
   ]
  },
  {
   "cell_type": "code",
   "execution_count": 6,
   "id": "5bc24d95",
   "metadata": {},
   "outputs": [
    {
     "data": {
      "text/plain": [
       "12"
      ]
     },
     "execution_count": 6,
     "metadata": {},
     "output_type": "execute_result"
    }
   ],
   "source": [
    "from multiprocessing import Pool\n",
    "cpus = os.cpu_count()\n",
    "cpus"
   ]
  },
  {
   "cell_type": "code",
   "execution_count": 11,
   "id": "4e276356",
   "metadata": {},
   "outputs": [
    {
     "data": {
      "text/plain": [
       "['Pos5',\n",
       " 'Pos11',\n",
       " 'Pos3',\n",
       " 'Pos1',\n",
       " 'Pos8',\n",
       " 'Pos10',\n",
       " 'Pos0',\n",
       " 'Pos2',\n",
       " 'Pos6',\n",
       " 'Pos7',\n",
       " 'Pos9',\n",
       " 'Pos4']"
      ]
     },
     "execution_count": 11,
     "metadata": {},
     "output_type": "execute_result"
    }
   ],
   "source": [
    "pos_list = [pos for pos in os.listdir(f'{root_dir}/{expt}') \n",
    "                    if 'Pos' in pos \n",
    "                    and os.path.isdir(f'{root_dir}/{expt}/{pos}')]\n",
    "pos_list"
   ]
  },
  {
   "cell_type": "code",
   "execution_count": 10,
   "id": "74aeb131",
   "metadata": {
    "scrolled": true
   },
   "outputs": [
    {
     "name": "stdout",
     "output_type": "stream",
     "text": [
      "Starting ND0013/Pos13Starting ND0013/Pos11Starting ND0013/Pos8Starting ND0013/Pos1Starting ND0013/Pos10\n",
      "Starting ND0013/Pos0\n",
      "Starting ND0013/Pos2\n",
      "\n",
      "Starting ND0013/Pos5\n",
      "Starting ND0013/Pos3\n",
      "\n",
      "\n",
      "\n",
      "Starting ND0013/Pos7\n",
      "Starting ND0013/Pos6Starting ND0013/Pos14\n",
      "\n"
     ]
    },
    {
     "name": "stderr",
     "output_type": "stream",
     "text": [
      "[INFO][2022/02/12 02:53:37 PM] Localizing objects from segmentation...\n",
      "[INFO][2022/02/12 02:53:37 PM] Found intensity_image data\n",
      "[INFO][2022/02/12 02:53:37 PM] Calculating weighted centroids using intensity_image\n",
      "[INFO][2022/02/12 02:53:38 PM] Objects are of type: <class 'dict'>\n",
      "[INFO][2022/02/12 02:53:38 PM] ...Found 46 objects in 2 frames.\n",
      "[INFO][2022/02/12 02:53:39 PM] Localizing objects from segmentation...\n",
      "[INFO][2022/02/12 02:53:39 PM] Found intensity_image data\n",
      "[INFO][2022/02/12 02:53:39 PM] Calculating weighted centroids using intensity_image\n",
      "[INFO][2022/02/12 02:53:40 PM] Localizing objects from segmentation...\n",
      "[INFO][2022/02/12 02:53:40 PM] Found intensity_image data\n",
      "[INFO][2022/02/12 02:53:40 PM] Calculating weighted centroids using intensity_image\n",
      "[INFO][2022/02/12 02:53:41 PM] Localizing objects from segmentation...\n",
      "[INFO][2022/02/12 02:53:41 PM] Found intensity_image data\n",
      "[INFO][2022/02/12 02:53:41 PM] Calculating weighted centroids using intensity_image\n",
      "[INFO][2022/02/12 02:53:41 PM] Localizing objects from segmentation...\n",
      "[INFO][2022/02/12 02:53:42 PM] Found intensity_image data\n",
      "[INFO][2022/02/12 02:53:42 PM] Calculating weighted centroids using intensity_image\n",
      "[INFO][2022/02/12 02:53:42 PM] Localizing objects from segmentation...\n",
      "[INFO][2022/02/12 02:53:42 PM] Found intensity_image data\n",
      "[INFO][2022/02/12 02:53:42 PM] Calculating weighted centroids using intensity_image\n",
      "[INFO][2022/02/12 02:53:42 PM] Localizing objects from segmentation...\n",
      "[INFO][2022/02/12 02:53:42 PM] Found intensity_image data\n",
      "[INFO][2022/02/12 02:53:42 PM] Calculating weighted centroids using intensity_image\n",
      "[INFO][2022/02/12 02:53:42 PM] Localizing objects from segmentation...\n",
      "[INFO][2022/02/12 02:53:42 PM] Found intensity_image data\n",
      "[INFO][2022/02/12 02:53:42 PM] Calculating weighted centroids using intensity_image\n"
     ]
    },
    {
     "name": "stdout",
     "output_type": "stream",
     "text": [
      "Starting ND0013/Pos9\n"
     ]
    },
    {
     "name": "stderr",
     "output_type": "stream",
     "text": [
      "[INFO][2022/02/12 02:53:42 PM] Localizing objects from segmentation...\n",
      "[INFO][2022/02/12 02:53:42 PM] Found intensity_image data\n",
      "[INFO][2022/02/12 02:53:42 PM] Calculating weighted centroids using intensity_image\n",
      "[INFO][2022/02/12 02:53:43 PM] Localizing objects from segmentation...\n",
      "[INFO][2022/02/12 02:53:43 PM] Found intensity_image data\n",
      "[INFO][2022/02/12 02:53:43 PM] Calculating weighted centroids using intensity_image\n",
      "[INFO][2022/02/12 02:53:43 PM] Localizing objects from segmentation...\n",
      "[INFO][2022/02/12 02:53:43 PM] Found intensity_image data\n",
      "[INFO][2022/02/12 02:53:43 PM] Calculating weighted centroids using intensity_image\n",
      "[INFO][2022/02/12 02:53:56 PM] Localizing objects from segmentation...\n",
      "[INFO][2022/02/12 02:53:56 PM] Found intensity_image data\n",
      "[INFO][2022/02/12 02:53:56 PM] Calculating weighted centroids using intensity_image\n",
      "Process ForkPoolWorker-10:\n"
     ]
    },
    {
     "ename": "KeyboardInterrupt",
     "evalue": "",
     "output_type": "error",
     "traceback": [
      "\u001b[0;31m---------------------------------------------------------------------------\u001b[0m",
      "\u001b[0;31mKeyboardInterrupt\u001b[0m                         Traceback (most recent call last)",
      "\u001b[0;32m<ipython-input-10-23492c392ce4>\u001b[0m in \u001b[0;36m<module>\u001b[0;34m\u001b[0m\n\u001b[1;32m      9\u001b[0m         \u001b[0;32mwith\u001b[0m \u001b[0mPool\u001b[0m\u001b[0;34m(\u001b[0m\u001b[0mcpus\u001b[0m\u001b[0;34m)\u001b[0m \u001b[0;32mas\u001b[0m \u001b[0mp\u001b[0m\u001b[0;34m:\u001b[0m\u001b[0;34m\u001b[0m\u001b[0;34m\u001b[0m\u001b[0m\n\u001b[0;32m---> 10\u001b[0;31m             \u001b[0mp\u001b[0m\u001b[0;34m.\u001b[0m\u001b[0mmap\u001b[0m\u001b[0;34m(\u001b[0m\u001b[0mclassify\u001b[0m\u001b[0;34m,\u001b[0m \u001b[0mpos_list\u001b[0m\u001b[0;34m)\u001b[0m\u001b[0;34m\u001b[0m\u001b[0;34m\u001b[0m\u001b[0m\n\u001b[0m",
      "\u001b[0;32m~/analysis/miniconda3/envs/cellx/lib/python3.9/multiprocessing/pool.py\u001b[0m in \u001b[0;36mmap\u001b[0;34m(self, func, iterable, chunksize)\u001b[0m\n\u001b[1;32m    363\u001b[0m         '''\n\u001b[0;32m--> 364\u001b[0;31m         \u001b[0;32mreturn\u001b[0m \u001b[0mself\u001b[0m\u001b[0;34m.\u001b[0m\u001b[0m_map_async\u001b[0m\u001b[0;34m(\u001b[0m\u001b[0mfunc\u001b[0m\u001b[0;34m,\u001b[0m \u001b[0miterable\u001b[0m\u001b[0;34m,\u001b[0m \u001b[0mmapstar\u001b[0m\u001b[0;34m,\u001b[0m \u001b[0mchunksize\u001b[0m\u001b[0;34m)\u001b[0m\u001b[0;34m.\u001b[0m\u001b[0mget\u001b[0m\u001b[0;34m(\u001b[0m\u001b[0;34m)\u001b[0m\u001b[0;34m\u001b[0m\u001b[0;34m\u001b[0m\u001b[0m\n\u001b[0m\u001b[1;32m    365\u001b[0m \u001b[0;34m\u001b[0m\u001b[0m\n",
      "\u001b[0;32m~/analysis/miniconda3/envs/cellx/lib/python3.9/multiprocessing/pool.py\u001b[0m in \u001b[0;36mget\u001b[0;34m(self, timeout)\u001b[0m\n\u001b[1;32m    764\u001b[0m     \u001b[0;32mdef\u001b[0m \u001b[0mget\u001b[0m\u001b[0;34m(\u001b[0m\u001b[0mself\u001b[0m\u001b[0;34m,\u001b[0m \u001b[0mtimeout\u001b[0m\u001b[0;34m=\u001b[0m\u001b[0;32mNone\u001b[0m\u001b[0;34m)\u001b[0m\u001b[0;34m:\u001b[0m\u001b[0;34m\u001b[0m\u001b[0;34m\u001b[0m\u001b[0m\n\u001b[0;32m--> 765\u001b[0;31m         \u001b[0mself\u001b[0m\u001b[0;34m.\u001b[0m\u001b[0mwait\u001b[0m\u001b[0;34m(\u001b[0m\u001b[0mtimeout\u001b[0m\u001b[0;34m)\u001b[0m\u001b[0;34m\u001b[0m\u001b[0;34m\u001b[0m\u001b[0m\n\u001b[0m\u001b[1;32m    766\u001b[0m         \u001b[0;32mif\u001b[0m \u001b[0;32mnot\u001b[0m \u001b[0mself\u001b[0m\u001b[0;34m.\u001b[0m\u001b[0mready\u001b[0m\u001b[0;34m(\u001b[0m\u001b[0;34m)\u001b[0m\u001b[0;34m:\u001b[0m\u001b[0;34m\u001b[0m\u001b[0;34m\u001b[0m\u001b[0m\n",
      "\u001b[0;32m~/analysis/miniconda3/envs/cellx/lib/python3.9/multiprocessing/pool.py\u001b[0m in \u001b[0;36mwait\u001b[0;34m(self, timeout)\u001b[0m\n\u001b[1;32m    761\u001b[0m     \u001b[0;32mdef\u001b[0m \u001b[0mwait\u001b[0m\u001b[0;34m(\u001b[0m\u001b[0mself\u001b[0m\u001b[0;34m,\u001b[0m \u001b[0mtimeout\u001b[0m\u001b[0;34m=\u001b[0m\u001b[0;32mNone\u001b[0m\u001b[0;34m)\u001b[0m\u001b[0;34m:\u001b[0m\u001b[0;34m\u001b[0m\u001b[0;34m\u001b[0m\u001b[0m\n\u001b[0;32m--> 762\u001b[0;31m         \u001b[0mself\u001b[0m\u001b[0;34m.\u001b[0m\u001b[0m_event\u001b[0m\u001b[0;34m.\u001b[0m\u001b[0mwait\u001b[0m\u001b[0;34m(\u001b[0m\u001b[0mtimeout\u001b[0m\u001b[0;34m)\u001b[0m\u001b[0;34m\u001b[0m\u001b[0;34m\u001b[0m\u001b[0m\n\u001b[0m\u001b[1;32m    763\u001b[0m \u001b[0;34m\u001b[0m\u001b[0m\n",
      "\u001b[0;32m~/analysis/miniconda3/envs/cellx/lib/python3.9/threading.py\u001b[0m in \u001b[0;36mwait\u001b[0;34m(self, timeout)\u001b[0m\n\u001b[1;32m    573\u001b[0m             \u001b[0;32mif\u001b[0m \u001b[0;32mnot\u001b[0m \u001b[0msignaled\u001b[0m\u001b[0;34m:\u001b[0m\u001b[0;34m\u001b[0m\u001b[0;34m\u001b[0m\u001b[0m\n\u001b[0;32m--> 574\u001b[0;31m                 \u001b[0msignaled\u001b[0m \u001b[0;34m=\u001b[0m \u001b[0mself\u001b[0m\u001b[0;34m.\u001b[0m\u001b[0m_cond\u001b[0m\u001b[0;34m.\u001b[0m\u001b[0mwait\u001b[0m\u001b[0;34m(\u001b[0m\u001b[0mtimeout\u001b[0m\u001b[0;34m)\u001b[0m\u001b[0;34m\u001b[0m\u001b[0;34m\u001b[0m\u001b[0m\n\u001b[0m\u001b[1;32m    575\u001b[0m             \u001b[0;32mreturn\u001b[0m \u001b[0msignaled\u001b[0m\u001b[0;34m\u001b[0m\u001b[0;34m\u001b[0m\u001b[0m\n",
      "\u001b[0;32m~/analysis/miniconda3/envs/cellx/lib/python3.9/threading.py\u001b[0m in \u001b[0;36mwait\u001b[0;34m(self, timeout)\u001b[0m\n\u001b[1;32m    311\u001b[0m             \u001b[0;32mif\u001b[0m \u001b[0mtimeout\u001b[0m \u001b[0;32mis\u001b[0m \u001b[0;32mNone\u001b[0m\u001b[0;34m:\u001b[0m\u001b[0;34m\u001b[0m\u001b[0;34m\u001b[0m\u001b[0m\n\u001b[0;32m--> 312\u001b[0;31m                 \u001b[0mwaiter\u001b[0m\u001b[0;34m.\u001b[0m\u001b[0macquire\u001b[0m\u001b[0;34m(\u001b[0m\u001b[0;34m)\u001b[0m\u001b[0;34m\u001b[0m\u001b[0;34m\u001b[0m\u001b[0m\n\u001b[0m\u001b[1;32m    313\u001b[0m                 \u001b[0mgotit\u001b[0m \u001b[0;34m=\u001b[0m \u001b[0;32mTrue\u001b[0m\u001b[0;34m\u001b[0m\u001b[0;34m\u001b[0m\u001b[0m\n",
      "\u001b[0;31mKeyboardInterrupt\u001b[0m: ",
      "\nDuring handling of the above exception, another exception occurred:\n",
      "\u001b[0;31mKeyboardInterrupt\u001b[0m                         Traceback (most recent call last)",
      "    \u001b[0;31m[... skipping hidden 1 frame]\u001b[0m\n",
      "\u001b[0;32m<ipython-input-10-23492c392ce4>\u001b[0m in \u001b[0;36m<module>\u001b[0;34m\u001b[0m\n\u001b[1;32m      9\u001b[0m         \u001b[0;32mwith\u001b[0m \u001b[0mPool\u001b[0m\u001b[0;34m(\u001b[0m\u001b[0mcpus\u001b[0m\u001b[0;34m)\u001b[0m \u001b[0;32mas\u001b[0m \u001b[0mp\u001b[0m\u001b[0;34m:\u001b[0m\u001b[0;34m\u001b[0m\u001b[0;34m\u001b[0m\u001b[0m\n\u001b[0;32m---> 10\u001b[0;31m             \u001b[0mp\u001b[0m\u001b[0;34m.\u001b[0m\u001b[0mmap\u001b[0m\u001b[0;34m(\u001b[0m\u001b[0mclassify\u001b[0m\u001b[0;34m,\u001b[0m \u001b[0mpos_list\u001b[0m\u001b[0;34m)\u001b[0m\u001b[0;34m\u001b[0m\u001b[0;34m\u001b[0m\u001b[0m\n\u001b[0m",
      "\u001b[0;32m~/analysis/miniconda3/envs/cellx/lib/python3.9/multiprocessing/pool.py\u001b[0m in \u001b[0;36m__exit__\u001b[0;34m(self, exc_type, exc_val, exc_tb)\u001b[0m\n\u001b[1;32m    735\u001b[0m     \u001b[0;32mdef\u001b[0m \u001b[0m__exit__\u001b[0m\u001b[0;34m(\u001b[0m\u001b[0mself\u001b[0m\u001b[0;34m,\u001b[0m \u001b[0mexc_type\u001b[0m\u001b[0;34m,\u001b[0m \u001b[0mexc_val\u001b[0m\u001b[0;34m,\u001b[0m \u001b[0mexc_tb\u001b[0m\u001b[0;34m)\u001b[0m\u001b[0;34m:\u001b[0m\u001b[0;34m\u001b[0m\u001b[0;34m\u001b[0m\u001b[0m\n\u001b[0;32m--> 736\u001b[0;31m         \u001b[0mself\u001b[0m\u001b[0;34m.\u001b[0m\u001b[0mterminate\u001b[0m\u001b[0;34m(\u001b[0m\u001b[0;34m)\u001b[0m\u001b[0;34m\u001b[0m\u001b[0;34m\u001b[0m\u001b[0m\n\u001b[0m\u001b[1;32m    737\u001b[0m \u001b[0;34m\u001b[0m\u001b[0m\n",
      "\u001b[0;32m~/analysis/miniconda3/envs/cellx/lib/python3.9/multiprocessing/pool.py\u001b[0m in \u001b[0;36mterminate\u001b[0;34m(self)\u001b[0m\n\u001b[1;32m    653\u001b[0m         \u001b[0mself\u001b[0m\u001b[0;34m.\u001b[0m\u001b[0m_state\u001b[0m \u001b[0;34m=\u001b[0m \u001b[0mTERMINATE\u001b[0m\u001b[0;34m\u001b[0m\u001b[0;34m\u001b[0m\u001b[0m\n\u001b[0;32m--> 654\u001b[0;31m         \u001b[0mself\u001b[0m\u001b[0;34m.\u001b[0m\u001b[0m_terminate\u001b[0m\u001b[0;34m(\u001b[0m\u001b[0;34m)\u001b[0m\u001b[0;34m\u001b[0m\u001b[0;34m\u001b[0m\u001b[0m\n\u001b[0m\u001b[1;32m    655\u001b[0m \u001b[0;34m\u001b[0m\u001b[0m\n",
      "\u001b[0;32m~/analysis/miniconda3/envs/cellx/lib/python3.9/multiprocessing/util.py\u001b[0m in \u001b[0;36m__call__\u001b[0;34m(self, wr, _finalizer_registry, sub_debug, getpid)\u001b[0m\n\u001b[1;32m    223\u001b[0m                           self._callback, self._args, self._kwargs)\n\u001b[0;32m--> 224\u001b[0;31m                 \u001b[0mres\u001b[0m \u001b[0;34m=\u001b[0m \u001b[0mself\u001b[0m\u001b[0;34m.\u001b[0m\u001b[0m_callback\u001b[0m\u001b[0;34m(\u001b[0m\u001b[0;34m*\u001b[0m\u001b[0mself\u001b[0m\u001b[0;34m.\u001b[0m\u001b[0m_args\u001b[0m\u001b[0;34m,\u001b[0m \u001b[0;34m**\u001b[0m\u001b[0mself\u001b[0m\u001b[0;34m.\u001b[0m\u001b[0m_kwargs\u001b[0m\u001b[0;34m)\u001b[0m\u001b[0;34m\u001b[0m\u001b[0;34m\u001b[0m\u001b[0m\n\u001b[0m\u001b[1;32m    225\u001b[0m             \u001b[0mself\u001b[0m\u001b[0;34m.\u001b[0m\u001b[0m_weakref\u001b[0m \u001b[0;34m=\u001b[0m \u001b[0mself\u001b[0m\u001b[0;34m.\u001b[0m\u001b[0m_callback\u001b[0m \u001b[0;34m=\u001b[0m \u001b[0mself\u001b[0m\u001b[0;34m.\u001b[0m\u001b[0m_args\u001b[0m \u001b[0;34m=\u001b[0m\u001b[0;31m \u001b[0m\u001b[0;31m\\\u001b[0m\u001b[0;34m\u001b[0m\u001b[0;34m\u001b[0m\u001b[0m\n",
      "\u001b[0;32m~/analysis/miniconda3/envs/cellx/lib/python3.9/multiprocessing/pool.py\u001b[0m in \u001b[0;36m_terminate_pool\u001b[0;34m(cls, taskqueue, inqueue, outqueue, pool, change_notifier, worker_handler, task_handler, result_handler, cache)\u001b[0m\n\u001b[1;32m    686\u001b[0m         \u001b[0mworker_handler\u001b[0m\u001b[0;34m.\u001b[0m\u001b[0m_state\u001b[0m \u001b[0;34m=\u001b[0m \u001b[0mTERMINATE\u001b[0m\u001b[0;34m\u001b[0m\u001b[0;34m\u001b[0m\u001b[0m\n\u001b[0;32m--> 687\u001b[0;31m         \u001b[0mchange_notifier\u001b[0m\u001b[0;34m.\u001b[0m\u001b[0mput\u001b[0m\u001b[0;34m(\u001b[0m\u001b[0;32mNone\u001b[0m\u001b[0;34m)\u001b[0m\u001b[0;34m\u001b[0m\u001b[0;34m\u001b[0m\u001b[0m\n\u001b[0m\u001b[1;32m    688\u001b[0m \u001b[0;34m\u001b[0m\u001b[0m\n",
      "\u001b[0;32m~/analysis/miniconda3/envs/cellx/lib/python3.9/multiprocessing/queues.py\u001b[0m in \u001b[0;36mput\u001b[0;34m(self, obj)\u001b[0m\n\u001b[1;32m    371\u001b[0m         \u001b[0;31m# serialize the data before acquiring the lock\u001b[0m\u001b[0;34m\u001b[0m\u001b[0;34m\u001b[0m\u001b[0m\n\u001b[0;32m--> 372\u001b[0;31m         \u001b[0mobj\u001b[0m \u001b[0;34m=\u001b[0m \u001b[0m_ForkingPickler\u001b[0m\u001b[0;34m.\u001b[0m\u001b[0mdumps\u001b[0m\u001b[0;34m(\u001b[0m\u001b[0mobj\u001b[0m\u001b[0;34m)\u001b[0m\u001b[0;34m\u001b[0m\u001b[0;34m\u001b[0m\u001b[0m\n\u001b[0m\u001b[1;32m    373\u001b[0m         \u001b[0;32mif\u001b[0m \u001b[0mself\u001b[0m\u001b[0;34m.\u001b[0m\u001b[0m_wlock\u001b[0m \u001b[0;32mis\u001b[0m \u001b[0;32mNone\u001b[0m\u001b[0;34m:\u001b[0m\u001b[0;34m\u001b[0m\u001b[0;34m\u001b[0m\u001b[0m\n",
      "\u001b[0;31mKeyboardInterrupt\u001b[0m: ",
      "\nDuring handling of the above exception, another exception occurred:\n",
      "\u001b[0;31mKeyboardInterrupt\u001b[0m                         Traceback (most recent call last)",
      "\u001b[0;32m~/analysis/miniconda3/envs/cellx/lib/python3.9/site-packages/IPython/core/interactiveshell.py\u001b[0m in \u001b[0;36mrun_code\u001b[0;34m(self, code_obj, result, async_)\u001b[0m\n\u001b[1;32m   3458\u001b[0m         \u001b[0;32mexcept\u001b[0m\u001b[0;34m:\u001b[0m\u001b[0;34m\u001b[0m\u001b[0;34m\u001b[0m\u001b[0m\n\u001b[1;32m   3459\u001b[0m             \u001b[0;32mif\u001b[0m \u001b[0mresult\u001b[0m \u001b[0;32mis\u001b[0m \u001b[0;32mnot\u001b[0m \u001b[0;32mNone\u001b[0m\u001b[0;34m:\u001b[0m\u001b[0;34m\u001b[0m\u001b[0;34m\u001b[0m\u001b[0m\n\u001b[0;32m-> 3460\u001b[0;31m                 \u001b[0mresult\u001b[0m\u001b[0;34m.\u001b[0m\u001b[0merror_in_exec\u001b[0m \u001b[0;34m=\u001b[0m \u001b[0msys\u001b[0m\u001b[0;34m.\u001b[0m\u001b[0mexc_info\u001b[0m\u001b[0;34m(\u001b[0m\u001b[0;34m)\u001b[0m\u001b[0;34m[\u001b[0m\u001b[0;36m1\u001b[0m\u001b[0;34m]\u001b[0m\u001b[0;34m\u001b[0m\u001b[0;34m\u001b[0m\u001b[0m\n\u001b[0m\u001b[1;32m   3461\u001b[0m             \u001b[0mself\u001b[0m\u001b[0;34m.\u001b[0m\u001b[0mshowtraceback\u001b[0m\u001b[0;34m(\u001b[0m\u001b[0mrunning_compiled_code\u001b[0m\u001b[0;34m=\u001b[0m\u001b[0;32mTrue\u001b[0m\u001b[0;34m)\u001b[0m\u001b[0;34m\u001b[0m\u001b[0;34m\u001b[0m\u001b[0m\n\u001b[1;32m   3462\u001b[0m         \u001b[0;32melse\u001b[0m\u001b[0;34m:\u001b[0m\u001b[0;34m\u001b[0m\u001b[0;34m\u001b[0m\u001b[0m\n",
      "\u001b[0;31mKeyboardInterrupt\u001b[0m: "
     ]
    },
    {
     "name": "stderr",
     "output_type": "stream",
     "text": [
      "Traceback (most recent call last):\n",
      "  File \"/home/nathan/analysis/miniconda3/envs/cellx/lib/python3.9/threading.py\", line 312, in wait\n",
      "    waiter.acquire()\n",
      "KeyboardInterrupt\n",
      "\n",
      "During handling of the above exception, another exception occurred:\n",
      "\n",
      "Traceback (most recent call last):\n",
      "  File \"/home/nathan/analysis/miniconda3/envs/cellx/lib/python3.9/queue.py\", line 171, in get\n",
      "    self.not_empty.wait()\n",
      "  File \"/home/nathan/analysis/miniconda3/envs/cellx/lib/python3.9/threading.py\", line 312, in wait\n",
      "    waiter.acquire()\n",
      "KeyboardInterrupt\n",
      "\n",
      "During handling of the above exception, another exception occurred:\n",
      "\n",
      "Traceback (most recent call last):\n",
      "  File \"/home/nathan/analysis/miniconda3/envs/cellx/lib/python3.9/multiprocessing/pool.py\", line 125, in worker\n",
      "    result = (True, func(*args, **kwds))\n",
      "  File \"/home/nathan/analysis/miniconda3/envs/cellx/lib/python3.9/multiprocessing/pool.py\", line 48, in mapstar\n",
      "    return list(map(*args))\n",
      "  File \"<ipython-input-5-b55b09ea950c>\", line 15, in classify\n",
      "    objects = btrack.utils.segmentation_to_objects(\n",
      "  File \"/home/nathan/analysis/BayesianTracker/btrack/_localization.py\", line 258, in segmentation_to_objects\n",
      "    seg = segmentation[frame, ...].compute()\n",
      "  File \"/home/nathan/analysis/miniconda3/envs/cellx/lib/python3.9/site-packages/dask/base.py\", line 288, in compute\n",
      "    (result,) = compute(self, traverse=False, **kwargs)\n",
      "  File \"/home/nathan/analysis/miniconda3/envs/cellx/lib/python3.9/site-packages/dask/base.py\", line 570, in compute\n",
      "    results = schedule(dsk, keys, **kwargs)\n",
      "  File \"/home/nathan/analysis/miniconda3/envs/cellx/lib/python3.9/site-packages/dask/threaded.py\", line 79, in get\n",
      "    results = get_async(\n",
      "  File \"/home/nathan/analysis/miniconda3/envs/cellx/lib/python3.9/site-packages/dask/local.py\", line 496, in get_async\n",
      "    for key, res_info, failed in queue_get(queue).result():\n",
      "  File \"/home/nathan/analysis/miniconda3/envs/cellx/lib/python3.9/site-packages/dask/local.py\", line 134, in queue_get\n",
      "    return q.get()\n",
      "  File \"/home/nathan/analysis/miniconda3/envs/cellx/lib/python3.9/queue.py\", line 183, in get\n",
      "    return item\n",
      "  File \"/home/nathan/analysis/miniconda3/envs/cellx/lib/python3.9/threading.py\", line 260, in __exit__\n",
      "    return self._lock.__exit__(*args)\n",
      "RuntimeError: release unlocked lock\n",
      "\n",
      "During handling of the above exception, another exception occurred:\n",
      "\n",
      "Traceback (most recent call last):\n",
      "  File \"/home/nathan/analysis/miniconda3/envs/cellx/lib/python3.9/multiprocessing/process.py\", line 315, in _bootstrap\n",
      "    self.run()\n",
      "  File \"/home/nathan/analysis/miniconda3/envs/cellx/lib/python3.9/multiprocessing/process.py\", line 108, in run\n",
      "    self._target(*self._args, **self._kwargs)\n",
      "  File \"/home/nathan/analysis/miniconda3/envs/cellx/lib/python3.9/multiprocessing/pool.py\", line 128, in worker\n",
      "    e = ExceptionWithTraceback(e, e.__traceback__)\n",
      "  File \"/home/nathan/analysis/miniconda3/envs/cellx/lib/python3.9/multiprocessing/pool.py\", line 65, in __init__\n",
      "    tb = traceback.format_exception(type(exc), exc, tb)\n",
      "  File \"/home/nathan/analysis/miniconda3/envs/cellx/lib/python3.9/traceback.py\", line 120, in format_exception\n",
      "    return list(TracebackException(\n",
      "  File \"/home/nathan/analysis/miniconda3/envs/cellx/lib/python3.9/traceback.py\", line 468, in __init__\n",
      "    def __init__(self, exc_type, exc_value, exc_traceback, *, limit=None,\n",
      "KeyboardInterrupt\n",
      "\n",
      "During handling of the above exception, another exception occurred:\n",
      "\n",
      "Traceback (most recent call last):\n",
      "  File \"/home/nathan/analysis/miniconda3/envs/cellx/lib/python3.9/multiprocessing/process.py\", line 318, in _bootstrap\n",
      "    util._exit_function()\n",
      "KeyboardInterrupt\n"
     ]
    }
   ],
   "source": [
    "root_dir = '/home/nathan/data/kraken/ras'\n",
    "expt_list = [expt for expt in os.listdir(root_dir) if len(expt) == 6]\n",
    "\n",
    "for expt in expt_list:\n",
    "    pos_list = [pos for pos in os.listdir(f'{root_dir}/{expt}') \n",
    "                    if 'Pos' in pos \n",
    "                    and os.path.isdir(f'{root_dir}/{expt}/{pos}')]\n",
    "    if __name__ == '__main__':\n",
    "        with Pool(cpus) as p:\n",
    "            p.map(classify, pos_list)"
   ]
  },
  {
   "cell_type": "code",
   "execution_count": null,
   "id": "00ad500c",
   "metadata": {},
   "outputs": [],
   "source": []
  }
 ],
 "metadata": {
  "kernelspec": {
   "display_name": "CellX",
   "language": "python",
   "name": "cellx"
  },
  "language_info": {
   "codemirror_mode": {
    "name": "ipython",
    "version": 3
   },
   "file_extension": ".py",
   "mimetype": "text/x-python",
   "name": "python",
   "nbconvert_exporter": "python",
   "pygments_lexer": "ipython3",
   "version": "3.9.7"
  }
 },
 "nbformat": 4,
 "nbformat_minor": 5
}
