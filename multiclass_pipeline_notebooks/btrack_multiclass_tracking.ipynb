{
 "cells": [
  {
   "cell_type": "markdown",
   "id": "1cada0f4",
   "metadata": {},
   "source": [
    "# Object tracking using Bayesian Tracker\n",
    "\n",
    "This notebook shows how to previously localised and classified objects from a series of mask images and unite them over time using Bayesian multi-object tracking (btrack). \n",
    "\n",
    "The sections of this notebook are as follows:\n",
    "\n",
    "1. Load segmentation objects and filter based on size\n",
    "2. Run btrack, uniting the objects locations over time\n",
    "3. Batch process\n",
    "\n",
    "The data used in this notebook is timelapse microscopy data with h2b-gfp/rfp markers that show the spatial extent of the nucleus and it's mitotic state. "
   ]
  },
  {
   "cell_type": "code",
   "execution_count": 32,
   "id": "c311e3db",
   "metadata": {},
   "outputs": [],
   "source": [
    "import btrack\n",
    "from tqdm import tqdm\n",
    "import os\n",
    "import glob"
   ]
  },
  {
   "cell_type": "markdown",
   "id": "28a5906f",
   "metadata": {},
   "source": [
    "## 1. Load segmentation objects"
   ]
  },
  {
   "cell_type": "code",
   "execution_count": 43,
   "id": "67ee9d2e",
   "metadata": {},
   "outputs": [],
   "source": [
    "expt = 'ND0018'\n",
    "pos = 'Pos11'\n",
    "root_dir = '/home/nathan/data/kraken/ras/'"
   ]
  },
  {
   "cell_type": "code",
   "execution_count": 44,
   "id": "c022ba17",
   "metadata": {},
   "outputs": [
    {
     "name": "stderr",
     "output_type": "stream",
     "text": [
      "[INFO][2022/04/06 06:24:44 PM] Opening HDF file: /home/nathan/data/kraken/ras//ND0018/Pos11/objects.h5...\n",
      "[INFO][2022/04/06 06:24:44 PM] Loading objects/obj_type_1 (95322, 5) (95322 filtered: None)\n",
      "[INFO][2022/04/06 06:24:45 PM] Closing HDF file: /home/nathan/data/kraken/ras//ND0018/Pos11/objects.h5\n",
      "[INFO][2022/04/06 06:24:45 PM] Opening HDF file: /home/nathan/data/kraken/ras//ND0018/Pos11/objects.h5...\n",
      "[INFO][2022/04/06 06:24:45 PM] Loading objects/obj_type_2 (8772, 5) (8772 filtered: None)\n",
      "[INFO][2022/04/06 06:24:45 PM] Closing HDF file: /home/nathan/data/kraken/ras//ND0018/Pos11/objects.h5\n"
     ]
    }
   ],
   "source": [
    "with btrack.dataio.HDF5FileHandler(\n",
    "     f'{root_dir}/{expt}/{pos}/objects.h5', 'r', obj_type='obj_type_1',\n",
    ") as hdf:\n",
    "    objects_gfp = hdf.objects\n",
    "with btrack.dataio.HDF5FileHandler(\n",
    "     f'{root_dir}/{expt}/{pos}/objects.h5', 'r', obj_type='obj_type_2',\n",
    ") as hdf:\n",
    "    objects_rfp = hdf.objects"
   ]
  },
  {
   "cell_type": "markdown",
   "id": "18ccc69d",
   "metadata": {},
   "source": [
    "Check objects feature classification"
   ]
  },
  {
   "cell_type": "code",
   "execution_count": 45,
   "id": "c634e631",
   "metadata": {},
   "outputs": [
    {
     "data": {
      "text/html": [
       "<table border=\"1\" class=\"dataframe\">\n",
       "  <thead>\n",
       "    <tr style=\"text-align: right;\">\n",
       "      <th></th>\n",
       "      <th>ID</th>\n",
       "      <th>x</th>\n",
       "      <th>y</th>\n",
       "      <th>z</th>\n",
       "      <th>t</th>\n",
       "      <th>dummy</th>\n",
       "      <th>states</th>\n",
       "      <th>label</th>\n",
       "      <th>prob</th>\n",
       "      <th>area</th>\n",
       "      <th>class id</th>\n",
       "      <th>eccentricity</th>\n",
       "      <th>mean_intensity</th>\n",
       "      <th>prob_anaphase</th>\n",
       "      <th>prob_apoptosis</th>\n",
       "      <th>prob_interphase</th>\n",
       "      <th>prob_metaphase</th>\n",
       "      <th>prob_prometaphase</th>\n",
       "    </tr>\n",
       "  </thead>\n",
       "  <tbody>\n",
       "    <tr>\n",
       "      <th>0</th>\n",
       "      <td>0</td>\n",
       "      <td>138.212021</td>\n",
       "      <td>12.807616</td>\n",
       "      <td>0.0</td>\n",
       "      <td>0</td>\n",
       "      <td>False</td>\n",
       "      <td>0</td>\n",
       "      <td>0</td>\n",
       "      <td>0.0</td>\n",
       "      <td>843.0</td>\n",
       "      <td>1.0</td>\n",
       "      <td>0.654944</td>\n",
       "      <td>56.600571</td>\n",
       "      <td>1.738166e-14</td>\n",
       "      <td>3.886758e-13</td>\n",
       "      <td>1.0</td>\n",
       "      <td>5.071339e-13</td>\n",
       "      <td>4.484330e-08</td>\n",
       "    </tr>\n",
       "  </tbody>\n",
       "</table>"
      ],
      "text/plain": [
       "{'ID': 0, 'x': 138.21202087402344, 'y': 12.807616233825684, 'z': 0.0, 't': 0, 'dummy': False, 'states': 0, 'label': 0, 'prob': 0.0, 'area': 843.0, 'class id': 1.0, 'eccentricity': 0.6549439, 'mean_intensity': 56.60057, 'prob_anaphase': 1.7381656e-14, 'prob_apoptosis': 3.8867583e-13, 'prob_interphase': 1.0, 'prob_metaphase': 5.071339e-13, 'prob_prometaphase': 4.4843297e-08}"
      ]
     },
     "execution_count": 45,
     "metadata": {},
     "output_type": "execute_result"
    }
   ],
   "source": [
    "objects_gfp[0]"
   ]
  },
  {
   "cell_type": "code",
   "execution_count": 46,
   "id": "31fe546b",
   "metadata": {
    "scrolled": false
   },
   "outputs": [
    {
     "data": {
      "text/html": [
       "<table border=\"1\" class=\"dataframe\">\n",
       "  <thead>\n",
       "    <tr style=\"text-align: right;\">\n",
       "      <th></th>\n",
       "      <th>ID</th>\n",
       "      <th>x</th>\n",
       "      <th>y</th>\n",
       "      <th>z</th>\n",
       "      <th>t</th>\n",
       "      <th>dummy</th>\n",
       "      <th>states</th>\n",
       "      <th>label</th>\n",
       "      <th>prob</th>\n",
       "      <th>area</th>\n",
       "      <th>class id</th>\n",
       "      <th>eccentricity</th>\n",
       "      <th>mean_intensity</th>\n",
       "      <th>prob_anaphase</th>\n",
       "      <th>prob_apoptosis</th>\n",
       "      <th>prob_interphase</th>\n",
       "      <th>prob_metaphase</th>\n",
       "      <th>prob_prometaphase</th>\n",
       "    </tr>\n",
       "  </thead>\n",
       "  <tbody>\n",
       "    <tr>\n",
       "      <th>0</th>\n",
       "      <td>0</td>\n",
       "      <td>717.844116</td>\n",
       "      <td>5.424145</td>\n",
       "      <td>0.0</td>\n",
       "      <td>0</td>\n",
       "      <td>False</td>\n",
       "      <td>0</td>\n",
       "      <td>4</td>\n",
       "      <td>0.0</td>\n",
       "      <td>111.0</td>\n",
       "      <td>2.0</td>\n",
       "      <td>0.83552</td>\n",
       "      <td>9.51628</td>\n",
       "      <td>3.693429e-18</td>\n",
       "      <td>1.0</td>\n",
       "      <td>2.401866e-18</td>\n",
       "      <td>4.545976e-18</td>\n",
       "      <td>1.577422e-22</td>\n",
       "    </tr>\n",
       "  </tbody>\n",
       "</table>"
      ],
      "text/plain": [
       "{'ID': 0, 'x': 717.8441162109375, 'y': 5.424144744873047, 'z': 0.0, 't': 0, 'dummy': False, 'states': 0, 'label': 4, 'prob': 0.0, 'area': 111.0, 'class id': 2.0, 'eccentricity': 0.83552045, 'mean_intensity': 9.51628, 'prob_anaphase': 3.693429e-18, 'prob_apoptosis': 1.0, 'prob_interphase': 2.401866e-18, 'prob_metaphase': 4.545976e-18, 'prob_prometaphase': 1.5774217e-22}"
      ]
     },
     "execution_count": 46,
     "metadata": {},
     "output_type": "execute_result"
    }
   ],
   "source": [
    "objects_rfp[0]"
   ]
  },
  {
   "cell_type": "markdown",
   "id": "59b1696a",
   "metadata": {},
   "source": [
    "Excluding segments that are too small to feasibly be cells"
   ]
  },
  {
   "cell_type": "code",
   "execution_count": 25,
   "id": "62f660dc",
   "metadata": {},
   "outputs": [],
   "source": [
    "objects_gfp = [o for o in objects_gfp if o.properties['area']>=100.]\n",
    "objects_rfp = [o for o in objects_rfp if o.properties['area']>=100.]"
   ]
  },
  {
   "cell_type": "markdown",
   "id": "ed0da53a",
   "metadata": {},
   "source": [
    "# Checking dist of classes"
   ]
  },
  {
   "cell_type": "code",
   "execution_count": 47,
   "id": "cb3a46b0",
   "metadata": {},
   "outputs": [],
   "source": [
    "import pandas as pd"
   ]
  },
  {
   "cell_type": "code",
   "execution_count": 48,
   "id": "924150da",
   "metadata": {},
   "outputs": [],
   "source": [
    "objects = objects_gfp+objects_rfp\n",
    "labels = []\n",
    "for i in range(len(objects)):\n",
    "    labels.append(objects[i].label)\n",
    "df = pd.DataFrame(labels)"
   ]
  },
  {
   "cell_type": "code",
   "execution_count": 49,
   "id": "1e348b8c",
   "metadata": {},
   "outputs": [],
   "source": [
    "import seaborn as sb\n",
    "%matplotlib inline"
   ]
  },
  {
   "cell_type": "code",
   "execution_count": 50,
   "id": "7a2cf6f4",
   "metadata": {},
   "outputs": [
    {
     "data": {
      "text/plain": [
       "<AxesSubplot:ylabel='Count'>"
      ]
     },
     "execution_count": 50,
     "metadata": {},
     "output_type": "execute_result"
    },
    {
     "data": {
      "image/png": "[encoded data removed]",
      "text/plain": [
       "<Figure size 432x288 with 1 Axes>"
      ]
     },
     "metadata": {
      "needs_background": "light"
     },
     "output_type": "display_data"
    }
   ],
   "source": [
    "### \n",
    "sb.histplot(df)"
   ]
  },
  {
   "cell_type": "markdown",
   "id": "e64ac4ae",
   "metadata": {},
   "source": [
    "## 2. Run btrack  \n",
    "\n",
    "Unite each object with it's subsequent position at the following time point and export as a tracking file. Note that you may need different btrack configurations for different populations."
   ]
  },
  {
   "cell_type": "markdown",
   "id": "e456e142",
   "metadata": {},
   "source": [
    "#### For GFP objects"
   ]
  },
  {
   "cell_type": "code",
   "execution_count": 51,
   "id": "bdb6623e",
   "metadata": {
    "scrolled": false
   },
   "outputs": [
    {
     "name": "stderr",
     "output_type": "stream",
     "text": [
      "[INFO][2022/04/06 06:24:53 PM] Loaded btrack: /home/nathan/analysis/BayesianTracker/btrack/libs/libtracker.so\n",
      "[INFO][2022/04/06 06:24:53 PM] btrack (v0.4.3) library imported\n",
      "[INFO][2022/04/06 06:24:53 PM] Setting max XYZ search radius to: 100\n",
      "[INFO][2022/04/06 06:24:53 PM] Starting BayesianTracker session\n",
      "[INFO][2022/04/06 06:24:53 PM] Loading configuration file: ../models/MDCK_config_wildtype.json\n",
      "[INFO][2022/04/06 06:24:53 PM] Loading motion model: MDCK_motion\n",
      "[INFO][2022/04/06 06:24:53 PM] Setting max XYZ search radius to: 40\n",
      "[INFO][2022/04/06 06:24:53 PM] Objects are of type: <class 'list'>\n",
      "[INFO][2022/04/06 06:24:53 PM] Set volume to ((0, 1600), (0, 1200), (-100000.0, 100000.0))\n",
      "[INFO][2022/04/06 06:24:53 PM] Starting tracking... \n",
      "[INFO][2022/04/06 06:24:53 PM] Tracking objects in frames 0 to 99 (of 394)...\n",
      "[INFO][2022/04/06 06:24:55 PM]  - Timing (Bayesian updates: 14.94ms, Linking: 1.06ms)\n",
      "[INFO][2022/04/06 06:24:55 PM]  - Probabilities (Link: 1.00000, Lost: 0.99504)\n",
      "[INFO][2022/04/06 06:24:55 PM]  - Stats (Active: 261, Lost: 2899, Conflicts resolved: 891)\n",
      "[INFO][2022/04/06 06:24:55 PM] Tracking objects in frames 100 to 199 (of 394)...\n",
      "[INFO][2022/04/06 06:24:56 PM]  - Timing (Bayesian updates: 15.19ms, Linking: 0.82ms)\n",
      "[INFO][2022/04/06 06:24:56 PM]  - Probabilities (Link: 1.00000, Lost: 1.00000)\n",
      "[INFO][2022/04/06 06:24:56 PM]  - Stats (Active: 274, Lost: 6039, Conflicts resolved: 1857)\n",
      "[INFO][2022/04/06 06:24:56 PM] Tracking objects in frames 200 to 299 (of 394)...\n",
      "[INFO][2022/04/06 06:24:58 PM]  - Timing (Bayesian updates: 20.11ms, Linking: 1.19ms)\n",
      "[INFO][2022/04/06 06:24:58 PM]  - Probabilities (Link: 1.00000, Lost: 1.00000)\n",
      "[INFO][2022/04/06 06:24:58 PM]  - Stats (Active: 304, Lost: 9719, Conflicts resolved: 2783)\n",
      "[INFO][2022/04/06 06:24:58 PM] Tracking objects in frames 300 to 394 (of 394)...\n",
      "[INFO][2022/04/06 06:25:01 PM]  - Timing (Bayesian updates: 30.55ms, Linking: 1.20ms)\n",
      "[INFO][2022/04/06 06:25:01 PM]  - Probabilities (Link: 1.00000, Lost: 0.99993)\n",
      "[INFO][2022/04/06 06:25:01 PM] SUCCESS.\n",
      "[INFO][2022/04/06 06:25:01 PM]  - Found 2962 tracks in 394 frames (in 0.0s)\n",
      "[INFO][2022/04/06 06:25:01 PM]  - Inserted 3057 dummy objects to fill tracking gaps\n",
      "[INFO][2022/04/06 06:25:01 PM] Loading hypothesis model: MDCK_hypothesis_wildtype\n",
      "[INFO][2022/04/06 06:25:01 PM] Calculating hypotheses (relax: True)...\n",
      "[INFO][2022/04/06 06:25:01 PM] Setting up constraints matrix for global optimisation...\n",
      "[INFO][2022/04/06 06:25:01 PM] Optimizing...\n",
      "[INFO][2022/04/06 06:25:01 PM] Optimization complete. (Solution: optimal)\n",
      "[INFO][2022/04/06 06:25:01 PM]  - Fates.FALSE_POSITIVE: 2962 (of 2962)\n",
      "[INFO][2022/04/06 06:25:01 PM]  - TOTAL: 2962 hypotheses\n",
      "[INFO][2022/04/06 06:25:01 PM] Completed optimization with 2962 tracks\n",
      "[INFO][2022/04/06 06:25:01 PM] Opening HDF file: /home/nathan/data/kraken/ras//ND0018/Pos11/tracks.h5...\n",
      "[INFO][2022/04/06 06:25:01 PM] Writing tracks/obj_type_1\n",
      "[WARNING][2022/04/06 06:25:01 PM] Removing tracks/obj_type_1.\n",
      "[INFO][2022/04/06 06:25:01 PM] Writing dummies/obj_type_1\n",
      "[INFO][2022/04/06 06:25:01 PM] Writing LBEP/obj_type_1\n",
      "[INFO][2022/04/06 06:25:01 PM] Writing fates/obj_type_1\n",
      "[INFO][2022/04/06 06:25:01 PM] Closing HDF file: /home/nathan/data/kraken/ras//ND0018/Pos11/tracks.h5\n",
      "[INFO][2022/04/06 06:25:02 PM] Ending BayesianTracker session\n"
     ]
    }
   ],
   "source": [
    "# initialise a tracker session using a context manager\n",
    "with btrack.BayesianTracker() as tracker:\n",
    "\n",
    "    # configure the tracker using a config file\n",
    "    tracker.configure_from_file(\n",
    "        '../models/MDCK_config_wildtype.json'\n",
    "    )\n",
    "    tracker.max_search_radius = 40\n",
    "\n",
    "    # append the objects to be tracked\n",
    "    tracker.append(objects_gfp)\n",
    "\n",
    "    # set the volume\n",
    "    tracker.volume=((0, 1600), (0, 1200), (-1e5, 1e5))\n",
    "\n",
    "    # track them (in interactive mode)\n",
    "    tracker.track_interactive(step_size=100)\n",
    "\n",
    "    # generate hypotheses and run the global optimizer\n",
    "    tracker.optimize()\n",
    "\n",
    "    tracker.export(f'{root_dir}/{expt}/{pos}/tracks.h5', obj_type='obj_type_1')\n",
    "\n",
    "    # get the tracks in a format for napari visualization (optional)\n",
    "    visaulise_tracks, properties, graph = tracker.to_napari(ndim=2)\n",
    "    \n",
    "    gfp_tracks = tracker.tracks"
   ]
  },
  {
   "cell_type": "markdown",
   "id": "3e418844",
   "metadata": {},
   "source": [
    "#### For RFP objects"
   ]
  },
  {
   "cell_type": "code",
   "execution_count": 52,
   "id": "a76bb469",
   "metadata": {},
   "outputs": [
    {
     "name": "stderr",
     "output_type": "stream",
     "text": [
      "[INFO][2022/04/06 06:25:02 PM] Loaded btrack: /home/nathan/analysis/BayesianTracker/btrack/libs/libtracker.so\n",
      "[INFO][2022/04/06 06:25:02 PM] btrack (v0.4.3) library imported\n",
      "[INFO][2022/04/06 06:25:02 PM] Setting max XYZ search radius to: 100\n",
      "[INFO][2022/04/06 06:25:02 PM] Starting BayesianTracker session\n",
      "[INFO][2022/04/06 06:25:02 PM] Loading configuration file: ../models/MDCK_config_scribble_sparse.json\n",
      "[INFO][2022/04/06 06:25:02 PM] Loading motion model: MDCK_motion\n",
      "[INFO][2022/04/06 06:25:02 PM] Setting max XYZ search radius to: 40\n",
      "[INFO][2022/04/06 06:25:02 PM] Objects are of type: <class 'list'>\n",
      "[INFO][2022/04/06 06:25:02 PM] Set volume to ((0, 1200), (0, 1600), (-100000.0, 100000.0))\n",
      "[INFO][2022/04/06 06:25:02 PM] Starting tracking... \n",
      "[INFO][2022/04/06 06:25:02 PM] Tracking objects in frames 0 to 99 (of 394)...\n",
      "[INFO][2022/04/06 06:25:02 PM]  - Timing (Bayesian updates: 0.07ms, Linking: 0.05ms)\n",
      "[INFO][2022/04/06 06:25:02 PM]  - Probabilities (Link: 0.99954, Lost: 0.50746)\n",
      "[INFO][2022/04/06 06:25:02 PM]  - Stats (Active: 27, Lost: 1528, Conflicts resolved: 114)\n",
      "[INFO][2022/04/06 06:25:02 PM] Tracking objects in frames 100 to 199 (of 394)...\n",
      "[INFO][2022/04/06 06:25:02 PM]  - Timing (Bayesian updates: 0.12ms, Linking: 0.07ms)\n",
      "[INFO][2022/04/06 06:25:02 PM]  - Probabilities (Link: 1.00000, Lost: 1.00000)\n",
      "[INFO][2022/04/06 06:25:02 PM]  - Stats (Active: 33, Lost: 2582, Conflicts resolved: 195)\n",
      "[INFO][2022/04/06 06:25:02 PM] Tracking objects in frames 200 to 299 (of 394)...\n",
      "[INFO][2022/04/06 06:25:02 PM]  - Timing (Bayesian updates: 0.17ms, Linking: 0.09ms)\n",
      "[INFO][2022/04/06 06:25:02 PM]  - Probabilities (Link: 1.00000, Lost: 1.00000)\n",
      "[INFO][2022/04/06 06:25:02 PM]  - Stats (Active: 40, Lost: 3510, Conflicts resolved: 284)\n",
      "[INFO][2022/04/06 06:25:02 PM] Tracking objects in frames 300 to 394 (of 394)...\n",
      "[INFO][2022/04/06 06:25:02 PM]  - Timing (Bayesian updates: 0.16ms, Linking: 0.08ms)\n",
      "[INFO][2022/04/06 06:25:02 PM]  - Probabilities (Link: 1.00000, Lost: 1.00000)\n",
      "[INFO][2022/04/06 06:25:02 PM] SUCCESS.\n",
      "[INFO][2022/04/06 06:25:02 PM]  - Found 1158 tracks in 394 frames (in 0.0s)\n",
      "[INFO][2022/04/06 06:25:02 PM]  - Inserted 290 dummy objects to fill tracking gaps\n",
      "[INFO][2022/04/06 06:25:02 PM] Loading hypothesis model: MDCK_hypothesis_scribble_sparse\n",
      "[INFO][2022/04/06 06:25:02 PM] Calculating hypotheses (relax: True)...\n",
      "[INFO][2022/04/06 06:25:02 PM] Setting up constraints matrix for global optimisation...\n",
      "[INFO][2022/04/06 06:25:02 PM] Optimizing...\n",
      "[INFO][2022/04/06 06:25:02 PM] Optimization complete. (Solution: optimal)\n",
      "[INFO][2022/04/06 06:25:02 PM]  - Fates.FALSE_POSITIVE: 1158 (of 1158)\n",
      "[INFO][2022/04/06 06:25:02 PM]  - TOTAL: 1158 hypotheses\n",
      "[INFO][2022/04/06 06:25:02 PM] Completed optimization with 1158 tracks\n",
      "[INFO][2022/04/06 06:25:02 PM] Opening HDF file: /home/nathan/data/kraken/ras//ND0018/Pos11/tracks.h5...\n",
      "[INFO][2022/04/06 06:25:03 PM] Writing tracks/obj_type_2\n",
      "[WARNING][2022/04/06 06:25:03 PM] Removing tracks/obj_type_2.\n",
      "[INFO][2022/04/06 06:25:03 PM] Writing dummies/obj_type_2\n",
      "[INFO][2022/04/06 06:25:03 PM] Writing LBEP/obj_type_2\n",
      "[INFO][2022/04/06 06:25:03 PM] Writing fates/obj_type_2\n",
      "[INFO][2022/04/06 06:25:03 PM] Closing HDF file: /home/nathan/data/kraken/ras//ND0018/Pos11/tracks.h5\n",
      "[INFO][2022/04/06 06:25:03 PM] Ending BayesianTracker session\n"
     ]
    }
   ],
   "source": [
    "# initialise a tracker session using a context manager\n",
    "with btrack.BayesianTracker() as tracker:\n",
    "\n",
    "    # configure the tracker using a config file\n",
    "    tracker.configure_from_file(\n",
    "        '../models/MDCK_config_scribble_sparse.json'\n",
    "    )\n",
    "    tracker.max_search_radius = 40\n",
    "\n",
    "    # append the objects to be tracked\n",
    "    tracker.append(objects_rfp)\n",
    "\n",
    "    # set the volume\n",
    "    tracker.volume=((0, 1200), (0, 1600), (-1e5, 1e5))\n",
    "\n",
    "    # track them (in interactive mode)\n",
    "    tracker.track_interactive(step_size=100)\n",
    "\n",
    "    # generate hypotheses and run the global optimizer\n",
    "    tracker.optimize()\n",
    "\n",
    "    tracker.export(f'{root_dir}/{expt}/{pos}/tracks.h5', obj_type='obj_type_2')\n",
    "\n",
    "    # get the tracks in a format for napari visualization (optional)\n",
    "    visaulise_tracks, properties, graph = tracker.to_napari(ndim=2)\n",
    "    \n",
    "    rfp_tracks = tracker.tracks"
   ]
  },
  {
   "cell_type": "markdown",
   "id": "1b2e10e7",
   "metadata": {},
   "source": [
    "# 6. Batch process\n",
    "Iterate over many experiments and positions (need to ensure you define normalisation and classification functions above first)"
   ]
  },
  {
   "cell_type": "code",
   "execution_count": null,
   "id": "b1792133",
   "metadata": {},
   "outputs": [],
   "source": [
    "root_dir = '/home/nathan/data'\n",
    "expt_list = ['ND0009', 'ND0010', 'ND0011']\n",
    "pos_list = 'all'\n",
    "overwrite = False\n",
    "\n",
    "for expt in expt_list:\n",
    "    \n",
    "        # Find all positions in that experiment, if pos_list is all then it finds all positions\n",
    "        if pos_list == 'all':\n",
    "            pos_list = [pos for pos in os.listdir(f'{root_dir}/{expt}') \n",
    "                    if 'Pos' in pos \n",
    "                    and os.path.isdir(f'{root_dir}/{expt}/{pos}')]  \n",
    "            \n",
    "        ### Iterate over all positions in that experiment\n",
    "        for pos in pos_list:\n",
    "            \n",
    "            ### check if overwrite param is false check if raw directory already created and if type of transform file already exists and decide whether to skip pos\n",
    "            if not overwrite and glob.glob(f'{root_dir}/{expt}/{pos}/*tracks*.h5'):\n",
    "                print(glob.glob(f'{root_dir}/{expt}/{pos}/*tracks*.h5'), f'file found, skipping {expt}/{pos}')\n",
    "                continue\n",
    "                \n",
    "            print(f'Starting {expt}/{pos}')\n",
    "            # load gfp objects\n",
    "            with btrack.dataio.HDF5FileHandler(\n",
    "                 f'{root_dir}/{expt}/{pos}/objects.h5', 'r', obj_type='obj_type_1',\n",
    "            ) as hdf:\n",
    "                objects_gfp = hdf.objects\n",
    "            # load rfp objects\n",
    "            with btrack.dataio.HDF5FileHandler(\n",
    "                 f'{root_dir}/{expt}/{pos}/objects.h5', 'r', obj_type='obj_type_1',\n",
    "            ) as hdf:\n",
    "                objects_rfp = hdf.objects\n",
    "            \n",
    "            # filter objects for non-cell type sizes\n",
    "            objects_gfp = [o for o in objects_gfp if o.properties['area']>100.]\n",
    "            objects_rfp = [o for o in objects_rfp if o.properties['area']>100.]\n",
    "            \n",
    "            # initialise a tracker session using a context manager for gfp\n",
    "            with btrack.BayesianTracker() as tracker:\n",
    "\n",
    "                # configure the tracker using a config file\n",
    "                tracker.configure_from_file(\n",
    "                    './models/MDCK_config_wildtype.json'\n",
    "                )\n",
    "                tracker.max_search_radius = 40\n",
    "\n",
    "                # append the objects to be tracked\n",
    "                tracker.append(objects_gfp)\n",
    "\n",
    "                # set the volume\n",
    "                tracker.volume=((0, 1200), (0, 1600), (-1e5, 1e5))\n",
    "\n",
    "                # track them (in interactive mode)\n",
    "                tracker.track_interactive(step_size=100)\n",
    "\n",
    "                # generate hypotheses and run the global optimizer\n",
    "                tracker.optimize()\n",
    "\n",
    "                tracker.export(f'{root_dir}/{expt}/{pos}/tracks.h5', obj_type='obj_type_1')\n",
    "\n",
    "            # initialise a tracker session using a context manager for rfp\n",
    "            with btrack.BayesianTracker() as tracker:\n",
    "\n",
    "                # configure the tracker using a config file\n",
    "                tracker.configure_from_file(\n",
    "                    './models/.json'\n",
    "                )\n",
    "                tracker.max_search_radius = 40\n",
    "\n",
    "                # append the objects to be tracked\n",
    "                tracker.append(objects_rfp)\n",
    "\n",
    "                # set the volume\n",
    "                tracker.volume=((0, 1200), (0, 1600), (-1e5, 1e5))\n",
    "\n",
    "                # track them (in interactive mode)\n",
    "                tracker.track_interactive(step_size=100)\n",
    "\n",
    "                # generate hypotheses and run the global optimizer\n",
    "                tracker.optimize()\n",
    "\n",
    "                tracker.export(f'{root_dir}/{expt}/{pos}/tracks.h5', obj_type='obj_type_2')\n",
    "                \n",
    "            print(f'Finished {expt}/{pos}')"
   ]
  }
 ],
 "metadata": {
  "kernelspec": {
   "display_name": "CellX",
   "language": "python",
   "name": "cellx"
  },
  "language_info": {
   "codemirror_mode": {
    "name": "ipython",
    "version": 3
   },
   "file_extension": ".py",
   "mimetype": "text/x-python",
   "name": "python",
   "nbconvert_exporter": "python",
   "pygments_lexer": "ipython3",
   "version": "3.9.7"
  }
 },
 "nbformat": 4,
 "nbformat_minor": 5
}
