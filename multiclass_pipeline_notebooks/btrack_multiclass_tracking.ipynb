{
 "cells": [
  {
   "cell_type": "markdown",
   "id": "1cada0f4",
   "metadata": {},
   "source": [
    "# Object tracking using Bayesian Tracker\n",
    "\n",
    "This notebook shows how to previously localised and classified objects from a series of mask images and unite them over time using Bayesian multi-object tracking (btrack). \n",
    "\n",
    "The sections of this notebook are as follows:\n",
    "\n",
    "1. Load segmentation objects and filter based on size\n",
    "2. Run btrack, uniting the objects locations over time\n",
    "3. Batch process\n",
    "\n",
    "The data used in this notebook is timelapse microscopy data with h2b-gfp/rfp markers that show the spatial extent of the nucleus and it's mitotic state. "
   ]
  },
  {
   "cell_type": "code",
   "execution_count": 1,
   "id": "c311e3db",
   "metadata": {},
   "outputs": [],
   "source": [
    "import btrack\n",
    "from tqdm import tqdm\n",
    "import os\n",
    "import glob"
   ]
  },
  {
   "cell_type": "markdown",
   "id": "28a5906f",
   "metadata": {},
   "source": [
    "## 1. Load segmentation objects"
   ]
  },
  {
   "cell_type": "code",
   "execution_count": 2,
   "id": "67ee9d2e",
   "metadata": {},
   "outputs": [],
   "source": [
    "expt = 'ND0022'\n",
    "pos = 'Pos12'\n",
    "root_dir = '/home/nathan/data/kraken/ras/'"
   ]
  },
  {
   "cell_type": "code",
   "execution_count": 31,
   "id": "c022ba17",
   "metadata": {},
   "outputs": [
    {
     "name": "stderr",
     "output_type": "stream",
     "text": [
      "[INFO][2022/03/30 06:28:45 PM] Opening HDF file: /home/nathan/data/kraken/ras//ND0022/Pos12/objects.h5...\n",
      "[INFO][2022/03/30 06:28:45 PM] Loading objects/obj_type_1 (386145, 5) (386145 filtered: None)\n",
      "[INFO][2022/03/30 06:28:51 PM] Closing HDF file: /home/nathan/data/kraken/ras//ND0022/Pos12/objects.h5\n",
      "[INFO][2022/03/30 06:28:51 PM] Opening HDF file: /home/nathan/data/kraken/ras//ND0022/Pos12/objects.h5...\n",
      "[INFO][2022/03/30 06:28:51 PM] Loading objects/obj_type_2 (38765, 5) (38765 filtered: None)\n",
      "[INFO][2022/03/30 06:28:52 PM] Closing HDF file: /home/nathan/data/kraken/ras//ND0022/Pos12/objects.h5\n"
     ]
    }
   ],
   "source": [
    "with btrack.dataio.HDF5FileHandler(\n",
    "     f'{root_dir}/{expt}/{pos}/objects.h5', 'r', obj_type='obj_type_1',\n",
    ") as hdf:\n",
    "    objects_gfp = hdf.objects\n",
    "with btrack.dataio.HDF5FileHandler(\n",
    "     f'{root_dir}/{expt}/{pos}/objects.h5', 'r', obj_type='obj_type_2',\n",
    ") as hdf:\n",
    "    objects_rfp = hdf.objects"
   ]
  },
  {
   "cell_type": "markdown",
   "id": "18ccc69d",
   "metadata": {},
   "source": [
    "Check objects feature classification"
   ]
  },
  {
   "cell_type": "code",
   "execution_count": 39,
   "id": "c634e631",
   "metadata": {},
   "outputs": [
    {
     "data": {
      "text/html": [
       "<table border=\"1\" class=\"dataframe\">\n",
       "  <thead>\n",
       "    <tr style=\"text-align: right;\">\n",
       "      <th></th>\n",
       "      <th>ID</th>\n",
       "      <th>x</th>\n",
       "      <th>y</th>\n",
       "      <th>z</th>\n",
       "      <th>t</th>\n",
       "      <th>dummy</th>\n",
       "      <th>states</th>\n",
       "      <th>label</th>\n",
       "      <th>prob</th>\n",
       "      <th>area</th>\n",
       "      <th>class id</th>\n",
       "      <th>prob_anaphase</th>\n",
       "      <th>prob_apoptosis</th>\n",
       "      <th>prob_interphase</th>\n",
       "      <th>prob_metaphase</th>\n",
       "      <th>prob_prometaphase</th>\n",
       "    </tr>\n",
       "  </thead>\n",
       "  <tbody>\n",
       "    <tr>\n",
       "      <th>0</th>\n",
       "      <td>0</td>\n",
       "      <td>160.435898</td>\n",
       "      <td>4.226496</td>\n",
       "      <td>0.0</td>\n",
       "      <td>0</td>\n",
       "      <td>False</td>\n",
       "      <td>0</td>\n",
       "      <td>0</td>\n",
       "      <td>0.0</td>\n",
       "      <td>234.0</td>\n",
       "      <td>1.0</td>\n",
       "      <td>2.379132e-11</td>\n",
       "      <td>9.544462e-10</td>\n",
       "      <td>1.0</td>\n",
       "      <td>1.602896e-10</td>\n",
       "      <td>1.944189e-10</td>\n",
       "    </tr>\n",
       "  </tbody>\n",
       "</table>"
      ],
      "text/plain": [
       "{'ID': 0, 'x': 160.43589782714844, 'y': 4.226495742797852, 'z': 0.0, 't': 0, 'dummy': False, 'states': 0, 'label': 0, 'prob': 0.0, 'area': 234.0, 'class id': 1.0, 'prob_anaphase': 2.3791316e-11, 'prob_apoptosis': 9.544462e-10, 'prob_interphase': 1.0, 'prob_metaphase': 1.602896e-10, 'prob_prometaphase': 1.9441894e-10}"
      ]
     },
     "execution_count": 39,
     "metadata": {},
     "output_type": "execute_result"
    }
   ],
   "source": [
    "objects_gfp[0]"
   ]
  },
  {
   "cell_type": "code",
   "execution_count": 38,
   "id": "31fe546b",
   "metadata": {},
   "outputs": [
    {
     "data": {
      "text/html": [
       "<table border=\"1\" class=\"dataframe\">\n",
       "  <thead>\n",
       "    <tr style=\"text-align: right;\">\n",
       "      <th></th>\n",
       "      <th>ID</th>\n",
       "      <th>x</th>\n",
       "      <th>y</th>\n",
       "      <th>z</th>\n",
       "      <th>t</th>\n",
       "      <th>dummy</th>\n",
       "      <th>states</th>\n",
       "      <th>label</th>\n",
       "      <th>prob</th>\n",
       "      <th>area</th>\n",
       "      <th>class id</th>\n",
       "      <th>prob_anaphase</th>\n",
       "      <th>prob_apoptosis</th>\n",
       "      <th>prob_interphase</th>\n",
       "      <th>prob_metaphase</th>\n",
       "      <th>prob_prometaphase</th>\n",
       "    </tr>\n",
       "  </thead>\n",
       "  <tbody>\n",
       "    <tr>\n",
       "      <th>0</th>\n",
       "      <td>0</td>\n",
       "      <td>1377.099976</td>\n",
       "      <td>10.2</td>\n",
       "      <td>0.0</td>\n",
       "      <td>0</td>\n",
       "      <td>False</td>\n",
       "      <td>0</td>\n",
       "      <td>4</td>\n",
       "      <td>0.0</td>\n",
       "      <td>10.0</td>\n",
       "      <td>2.0</td>\n",
       "      <td>0.000172</td>\n",
       "      <td>0.992246</td>\n",
       "      <td>0.006708</td>\n",
       "      <td>0.000041</td>\n",
       "      <td>0.000834</td>\n",
       "    </tr>\n",
       "  </tbody>\n",
       "</table>"
      ],
      "text/plain": [
       "{'ID': 0, 'x': 1377.0999755859375, 'y': 10.199999809265137, 'z': 0.0, 't': 0, 'dummy': False, 'states': 0, 'label': 4, 'prob': 0.0, 'area': 10.0, 'class id': 2.0, 'prob_anaphase': 0.00017206295, 'prob_apoptosis': 0.9922456, 'prob_interphase': 0.0067075863, 'prob_metaphase': 4.1209103e-05, 'prob_prometaphase': 0.0008335491}"
      ]
     },
     "execution_count": 38,
     "metadata": {},
     "output_type": "execute_result"
    }
   ],
   "source": [
    "objects_rfp[0]"
   ]
  },
  {
   "cell_type": "code",
   "execution_count": 45,
   "id": "94784e52",
   "metadata": {},
   "outputs": [],
   "source": [
    "objects = objects_rfp + objects_gfp"
   ]
  },
  {
   "cell_type": "code",
   "execution_count": 48,
   "id": "a01e05da",
   "metadata": {},
   "outputs": [
    {
     "data": {
      "text/html": [
       "<table border=\"1\" class=\"dataframe\">\n",
       "  <thead>\n",
       "    <tr style=\"text-align: right;\">\n",
       "      <th></th>\n",
       "      <th>ID</th>\n",
       "      <th>x</th>\n",
       "      <th>y</th>\n",
       "      <th>z</th>\n",
       "      <th>t</th>\n",
       "      <th>dummy</th>\n",
       "      <th>states</th>\n",
       "      <th>label</th>\n",
       "      <th>prob</th>\n",
       "      <th>area</th>\n",
       "      <th>class id</th>\n",
       "      <th>prob_anaphase</th>\n",
       "      <th>prob_apoptosis</th>\n",
       "      <th>prob_interphase</th>\n",
       "      <th>prob_metaphase</th>\n",
       "      <th>prob_prometaphase</th>\n",
       "    </tr>\n",
       "  </thead>\n",
       "  <tbody>\n",
       "    <tr>\n",
       "      <th>0</th>\n",
       "      <td>235</td>\n",
       "      <td>118.348221</td>\n",
       "      <td>192.405441</td>\n",
       "      <td>0.0</td>\n",
       "      <td>1</td>\n",
       "      <td>False</td>\n",
       "      <td>0</td>\n",
       "      <td>0</td>\n",
       "      <td>0.0</td>\n",
       "      <td>1433.0</td>\n",
       "      <td>1.0</td>\n",
       "      <td>2.980596e-18</td>\n",
       "      <td>2.792009e-12</td>\n",
       "      <td>1.0</td>\n",
       "      <td>1.672726e-14</td>\n",
       "      <td>1.031321e-10</td>\n",
       "    </tr>\n",
       "  </tbody>\n",
       "</table>"
      ],
      "text/plain": [
       "{'ID': 235, 'x': 118.34822082519531, 'y': 192.4054412841797, 'z': 0.0, 't': 1, 'dummy': False, 'states': 0, 'label': 0, 'prob': 0.0, 'area': 1433.0, 'class id': 1.0, 'prob_anaphase': 2.9805964e-18, 'prob_apoptosis': 2.7920095e-12, 'prob_interphase': 1.0, 'prob_metaphase': 1.6727256e-14, 'prob_prometaphase': 1.0313211e-10}"
      ]
     },
     "execution_count": 48,
     "metadata": {},
     "output_type": "execute_result"
    }
   ],
   "source": [
    "objects[39000]"
   ]
  },
  {
   "cell_type": "code",
   "execution_count": 44,
   "id": "fc0bd198",
   "metadata": {},
   "outputs": [
    {
     "data": {
      "text/plain": [
       "38765"
      ]
     },
     "execution_count": 44,
     "metadata": {},
     "output_type": "execute_result"
    }
   ],
   "source": [
    "len(objects_rfp)"
   ]
  },
  {
   "cell_type": "code",
   "execution_count": 9,
   "id": "8ddaf9d0",
   "metadata": {},
   "outputs": [
    {
     "data": {
      "text/html": [
       "<table border=\"1\" class=\"dataframe\">\n",
       "  <thead>\n",
       "    <tr style=\"text-align: right;\">\n",
       "      <th></th>\n",
       "      <th>ID</th>\n",
       "      <th>x</th>\n",
       "      <th>y</th>\n",
       "      <th>z</th>\n",
       "      <th>t</th>\n",
       "      <th>dummy</th>\n",
       "      <th>states</th>\n",
       "      <th>label</th>\n",
       "      <th>prob</th>\n",
       "      <th>area</th>\n",
       "      <th>class id</th>\n",
       "      <th>prob_anaphase</th>\n",
       "      <th>prob_apoptosis</th>\n",
       "      <th>prob_interphase</th>\n",
       "      <th>prob_metaphase</th>\n",
       "      <th>prob_prometaphase</th>\n",
       "    </tr>\n",
       "  </thead>\n",
       "  <tbody>\n",
       "    <tr>\n",
       "      <th>0</th>\n",
       "      <td>0</td>\n",
       "      <td>160.435898</td>\n",
       "      <td>4.226496</td>\n",
       "      <td>0.0</td>\n",
       "      <td>0</td>\n",
       "      <td>False</td>\n",
       "      <td>0</td>\n",
       "      <td>0</td>\n",
       "      <td>0.0</td>\n",
       "      <td>234.0</td>\n",
       "      <td>1.0</td>\n",
       "      <td>2.379132e-11</td>\n",
       "      <td>9.544462e-10</td>\n",
       "      <td>1.0</td>\n",
       "      <td>1.602896e-10</td>\n",
       "      <td>1.944189e-10</td>\n",
       "    </tr>\n",
       "  </tbody>\n",
       "</table>"
      ],
      "text/plain": [
       "{'ID': 0, 'x': 160.43589782714844, 'y': 4.226495742797852, 'z': 0.0, 't': 0, 'dummy': False, 'states': 0, 'label': 0, 'prob': 0.0, 'area': 234.0, 'class id': 1.0, 'prob_anaphase': 2.3791316e-11, 'prob_apoptosis': 9.544462e-10, 'prob_interphase': 1.0, 'prob_metaphase': 1.602896e-10, 'prob_prometaphase': 1.9441894e-10}"
      ]
     },
     "execution_count": 9,
     "metadata": {},
     "output_type": "execute_result"
    }
   ],
   "source": [
    "objects[0]"
   ]
  },
  {
   "cell_type": "markdown",
   "id": "59b1696a",
   "metadata": {},
   "source": [
    "Excluding segments that are too small to feasibly be cells"
   ]
  },
  {
   "cell_type": "code",
   "execution_count": 24,
   "id": "62f660dc",
   "metadata": {},
   "outputs": [],
   "source": [
    "objects = [o for o in objects if o.properties['area']>100.]"
   ]
  },
  {
   "cell_type": "markdown",
   "id": "ed0da53a",
   "metadata": {},
   "source": [
    "# Checking dist of classes"
   ]
  },
  {
   "cell_type": "code",
   "execution_count": 17,
   "id": "cb3a46b0",
   "metadata": {},
   "outputs": [],
   "source": [
    "import pandas as pd"
   ]
  },
  {
   "cell_type": "code",
   "execution_count": 18,
   "id": "924150da",
   "metadata": {},
   "outputs": [],
   "source": [
    "labels = []\n",
    "for i in range(len(objects)):\n",
    "    labels.append(objects[i].label)\n",
    "df = pd.DataFrame(labels)"
   ]
  },
  {
   "cell_type": "code",
   "execution_count": 22,
   "id": "1e348b8c",
   "metadata": {},
   "outputs": [],
   "source": [
    "import seaborn as sb\n",
    "%matplotlib inline"
   ]
  },
  {
   "cell_type": "code",
   "execution_count": 23,
   "id": "7a2cf6f4",
   "metadata": {},
   "outputs": [
    {
     "data": {
      "text/plain": [
       "<AxesSubplot:ylabel='Count'>"
      ]
     },
     "execution_count": 23,
     "metadata": {},
     "output_type": "execute_result"
    },
    {
     "data": {
      "image/png": "[encoded data removed]",
      "text/plain": [
       "<Figure size 432x288 with 1 Axes>"
      ]
     },
     "metadata": {
      "needs_background": "light"
     },
     "output_type": "display_data"
    }
   ],
   "source": [
    "sb.histplot(df)"
   ]
  },
  {
   "cell_type": "markdown",
   "id": "e64ac4ae",
   "metadata": {},
   "source": [
    "## 2. Run btrack  \n",
    "\n",
    "Unite each object with it's subsequent position at the following time point and export as a tracking file. Note that you may need different btrack configurations for different populations."
   ]
  },
  {
   "cell_type": "markdown",
   "id": "e456e142",
   "metadata": {},
   "source": [
    "#### For GFP objects"
   ]
  },
  {
   "cell_type": "code",
   "execution_count": 27,
   "id": "bdb6623e",
   "metadata": {
    "scrolled": false
   },
   "outputs": [
    {
     "name": "stderr",
     "output_type": "stream",
     "text": [
      "[INFO][2022/03/30 01:46:34 PM] Loaded btrack: /home/nathan/analysis/BayesianTracker/btrack/libs/libtracker.so\n",
      "[INFO][2022/03/30 01:46:34 PM] btrack (v0.4.3) library imported\n",
      "[INFO][2022/03/30 01:46:34 PM] Setting max XYZ search radius to: 100\n",
      "[INFO][2022/03/30 01:46:34 PM] Starting BayesianTracker session\n",
      "[INFO][2022/03/30 01:46:34 PM] Loading configuration file: ../models/MDCK_config_wildtype.json\n",
      "[INFO][2022/03/30 01:46:34 PM] Loading motion model: MDCK_motion\n",
      "[INFO][2022/03/30 01:46:34 PM] Setting max XYZ search radius to: 40\n",
      "[INFO][2022/03/30 01:46:34 PM] Objects are of type: <class 'list'>\n",
      "[INFO][2022/03/30 01:46:35 PM] Set volume to ((0, 1600), (0, 1200), (-100000.0, 100000.0))\n",
      "[INFO][2022/03/30 01:46:35 PM] Starting tracking... \n",
      "[INFO][2022/03/30 01:46:35 PM] Tracking objects in frames 0 to 99 (of 1098)...\n",
      "[INFO][2022/03/30 01:46:36 PM]  - Timing (Bayesian updates: 12.68ms, Linking: 1.71ms)\n",
      "[INFO][2022/03/30 01:46:36 PM]  - Probabilities (Link: 1.00000, Lost: 1.00000)\n",
      "[INFO][2022/03/30 01:46:36 PM]  - Stats (Active: 196, Lost: 1358, Conflicts resolved: 455)\n",
      "[INFO][2022/03/30 01:46:36 PM] Tracking objects in frames 100 to 199 (of 1098)...\n",
      "[INFO][2022/03/30 01:46:38 PM]  - Timing (Bayesian updates: 15.29ms, Linking: 1.13ms)\n",
      "[INFO][2022/03/30 01:46:38 PM]  - Probabilities (Link: 1.00000, Lost: 0.86983)\n",
      "[INFO][2022/03/30 01:46:38 PM]  - Stats (Active: 237, Lost: 3083, Conflicts resolved: 978)\n",
      "[INFO][2022/03/30 01:46:38 PM] Tracking objects in frames 200 to 299 (of 1098)...\n",
      "[INFO][2022/03/30 01:46:40 PM]  - Timing (Bayesian updates: 25.34ms, Linking: 2.19ms)\n",
      "[INFO][2022/03/30 01:46:40 PM]  - Probabilities (Link: 1.00000, Lost: 0.99882)\n",
      "[INFO][2022/03/30 01:46:40 PM]  - Stats (Active: 268, Lost: 5097, Conflicts resolved: 1588)\n",
      "[INFO][2022/03/30 01:46:40 PM] Tracking objects in frames 300 to 399 (of 1098)...\n",
      "[INFO][2022/03/30 01:46:43 PM]  - Timing (Bayesian updates: 43.92ms, Linking: 2.67ms)\n",
      "[INFO][2022/03/30 01:46:43 PM]  - Probabilities (Link: 1.00000, Lost: 0.66781)\n",
      "[INFO][2022/03/30 01:46:43 PM]  - Stats (Active: 291, Lost: 7278, Conflicts resolved: 2343)\n",
      "[INFO][2022/03/30 01:46:43 PM] Tracking objects in frames 400 to 499 (of 1098)...\n",
      "[INFO][2022/03/30 01:46:47 PM]  - Timing (Bayesian updates: 39.12ms, Linking: 2.14ms)\n",
      "[INFO][2022/03/30 01:46:47 PM]  - Probabilities (Link: 1.00000, Lost: 0.97192)\n",
      "[INFO][2022/03/30 01:46:47 PM]  - Stats (Active: 319, Lost: 9621, Conflicts resolved: 3152)\n",
      "[INFO][2022/03/30 01:46:47 PM] Tracking objects in frames 500 to 599 (of 1098)...\n",
      "[INFO][2022/03/30 01:46:51 PM]  - Timing (Bayesian updates: 29.17ms, Linking: 1.59ms)\n",
      "[INFO][2022/03/30 01:46:51 PM]  - Probabilities (Link: 1.00000, Lost: 1.00000)\n",
      "[INFO][2022/03/30 01:46:51 PM]  - Stats (Active: 339, Lost: 12014, Conflicts resolved: 3926)\n",
      "[INFO][2022/03/30 01:46:51 PM] Tracking objects in frames 600 to 699 (of 1098)...\n",
      "[INFO][2022/03/30 01:46:56 PM]  - Timing (Bayesian updates: 39.47ms, Linking: 3.74ms)\n",
      "[INFO][2022/03/30 01:46:56 PM]  - Probabilities (Link: 1.00000, Lost: 0.96888)\n",
      "[INFO][2022/03/30 01:46:56 PM]  - Stats (Active: 363, Lost: 14140, Conflicts resolved: 4644)\n",
      "[INFO][2022/03/30 01:46:56 PM] Tracking objects in frames 700 to 799 (of 1098)...\n",
      "[INFO][2022/03/30 01:47:01 PM]  - Timing (Bayesian updates: 60.30ms, Linking: 2.79ms)\n",
      "[INFO][2022/03/30 01:47:01 PM]  - Probabilities (Link: 0.99998, Lost: 1.00000)\n",
      "[INFO][2022/03/30 01:47:01 PM]  - Stats (Active: 367, Lost: 15700, Conflicts resolved: 5335)\n",
      "[INFO][2022/03/30 01:47:01 PM] Tracking objects in frames 800 to 899 (of 1098)...\n",
      "[INFO][2022/03/30 01:47:08 PM]  - Timing (Bayesian updates: 61.09ms, Linking: 5.30ms)\n",
      "[INFO][2022/03/30 01:47:08 PM]  - Probabilities (Link: 1.00000, Lost: 0.95627)\n",
      "[INFO][2022/03/30 01:47:08 PM]  - Stats (Active: 379, Lost: 17303, Conflicts resolved: 6024)\n",
      "[INFO][2022/03/30 01:47:08 PM] Tracking objects in frames 900 to 999 (of 1098)...\n",
      "[INFO][2022/03/30 01:47:15 PM]  - Timing (Bayesian updates: 36.75ms, Linking: 1.93ms)\n",
      "[INFO][2022/03/30 01:47:15 PM]  - Probabilities (Link: 1.00000, Lost: 1.00000)\n",
      "[INFO][2022/03/30 01:47:15 PM]  - Stats (Active: 312, Lost: 19503, Conflicts resolved: 6774)\n",
      "[INFO][2022/03/30 01:47:15 PM] Tracking objects in frames 1000 to 1098 (of 1098)...\n",
      "[INFO][2022/03/30 01:47:19 PM]  - Timing (Bayesian updates: 35.20ms, Linking: 2.35ms)\n",
      "[INFO][2022/03/30 01:47:19 PM]  - Probabilities (Link: 1.00000, Lost: 0.93747)\n",
      "[INFO][2022/03/30 01:47:19 PM] SUCCESS.\n",
      "[INFO][2022/03/30 01:47:19 PM]  - Found 4535 tracks in 1098 frames (in 0.0s)\n",
      "[INFO][2022/03/30 01:47:19 PM]  - Inserted 4968 dummy objects to fill tracking gaps\n",
      "[INFO][2022/03/30 01:47:19 PM] Loading hypothesis model: MDCK_hypothesis_wildtype\n",
      "[INFO][2022/03/30 01:47:19 PM] Calculating hypotheses (relax: True)...\n",
      "[INFO][2022/03/30 01:47:19 PM] Setting up constraints matrix for global optimisation...\n",
      "[INFO][2022/03/30 01:47:19 PM] Optimizing...\n",
      "[INFO][2022/03/30 01:47:19 PM] Optimization complete. (Solution: optimal)\n",
      "[INFO][2022/03/30 01:47:19 PM]  - Fates.FALSE_POSITIVE: 4535 (of 4535)\n",
      "[INFO][2022/03/30 01:47:19 PM]  - TOTAL: 4535 hypotheses\n",
      "[INFO][2022/03/30 01:47:19 PM] Completed optimization with 4535 tracks\n",
      "[INFO][2022/03/30 01:47:19 PM] Opening HDF file: /home/nathan/data/kraken/ras//ND0022/Pos12/tracks.h5...\n",
      "[INFO][2022/03/30 01:47:21 PM] Writing tracks/obj_type_1\n",
      "[WARNING][2022/03/30 01:47:21 PM] Removing tracks/obj_type_1.\n",
      "[INFO][2022/03/30 01:47:21 PM] Writing dummies/obj_type_1\n",
      "[INFO][2022/03/30 01:47:21 PM] Writing LBEP/obj_type_1\n",
      "[INFO][2022/03/30 01:47:21 PM] Writing fates/obj_type_1\n",
      "[INFO][2022/03/30 01:47:21 PM] Closing HDF file: /home/nathan/data/kraken/ras//ND0022/Pos12/tracks.h5\n",
      "[INFO][2022/03/30 01:47:27 PM] Ending BayesianTracker session\n"
     ]
    }
   ],
   "source": [
    "# initialise a tracker session using a context manager\n",
    "with btrack.BayesianTracker() as tracker:\n",
    "\n",
    "    # configure the tracker using a config file\n",
    "    tracker.configure_from_file(\n",
    "        '../models/MDCK_config_wildtype.json'\n",
    "    )\n",
    "    tracker.max_search_radius = 40\n",
    "\n",
    "    # append the objects to be tracked\n",
    "    tracker.append(objects_gfp)\n",
    "\n",
    "    # set the volume\n",
    "    tracker.volume=((0, 1600), (0, 1200), (-1e5, 1e5))\n",
    "\n",
    "    # track them (in interactive mode)\n",
    "    tracker.track_interactive(step_size=100)\n",
    "\n",
    "    # generate hypotheses and run the global optimizer\n",
    "    tracker.optimize()\n",
    "\n",
    "    tracker.export(f'{root_dir}/{expt}/{pos}/tracks.h5', obj_type='obj_type_1')\n",
    "\n",
    "    # get the tracks in a format for napari visualization (optional)\n",
    "    visaulise_tracks, properties, graph = tracker.to_napari(ndim=2)\n",
    "    \n",
    "    gfp_tracks = tracker.tracks"
   ]
  },
  {
   "cell_type": "markdown",
   "id": "3e418844",
   "metadata": {},
   "source": [
    "#### For RFP objects"
   ]
  },
  {
   "cell_type": "code",
   "execution_count": 30,
   "id": "a76bb469",
   "metadata": {},
   "outputs": [
    {
     "name": "stderr",
     "output_type": "stream",
     "text": [
      "[INFO][2022/03/30 02:39:28 PM] Loaded btrack: /home/nathan/analysis/BayesianTracker/btrack/libs/libtracker.so\n",
      "[INFO][2022/03/30 02:39:28 PM] btrack (v0.4.3) library imported\n",
      "[INFO][2022/03/30 02:39:28 PM] Setting max XYZ search radius to: 100\n",
      "[INFO][2022/03/30 02:39:28 PM] Starting BayesianTracker session\n",
      "[INFO][2022/03/30 02:39:28 PM] Loading configuration file: ../models/MDCK_config_scribble_sparse.json\n",
      "[INFO][2022/03/30 02:39:28 PM] Loading motion model: MDCK_motion\n",
      "[INFO][2022/03/30 02:39:28 PM] Setting max XYZ search radius to: 40\n",
      "[INFO][2022/03/30 02:39:28 PM] Objects are of type: <class 'list'>\n",
      "[INFO][2022/03/30 02:39:28 PM] Set volume to ((0, 1200), (0, 1600), (-100000.0, 100000.0))\n",
      "[INFO][2022/03/30 02:39:28 PM] Starting tracking... \n",
      "[INFO][2022/03/30 02:39:28 PM] Tracking objects in frames 0 to 99 (of 1098)...\n",
      "[INFO][2022/03/30 02:39:28 PM]  - Timing (Bayesian updates: 0.37ms, Linking: 0.15ms)\n",
      "[INFO][2022/03/30 02:39:28 PM]  - Probabilities (Link: 1.00000, Lost: 0.99958)\n",
      "[INFO][2022/03/30 02:39:28 PM]  - Stats (Active: 43, Lost: 2457, Conflicts resolved: 161)\n",
      "[INFO][2022/03/30 02:39:28 PM] Tracking objects in frames 100 to 199 (of 1098)...\n",
      "[INFO][2022/03/30 02:39:28 PM]  - Timing (Bayesian updates: 0.23ms, Linking: 0.09ms)\n",
      "[INFO][2022/03/30 02:39:28 PM]  - Probabilities (Link: 0.99945, Lost: 1.00000)\n",
      "[INFO][2022/03/30 02:39:28 PM]  - Stats (Active: 45, Lost: 5034, Conflicts resolved: 346)\n",
      "[INFO][2022/03/30 02:39:28 PM] Tracking objects in frames 200 to 299 (of 1098)...\n",
      "[INFO][2022/03/30 02:39:29 PM]  - Timing (Bayesian updates: 0.38ms, Linking: 0.17ms)\n",
      "[INFO][2022/03/30 02:39:29 PM]  - Probabilities (Link: 1.00000, Lost: 1.00000)\n",
      "[INFO][2022/03/30 02:39:29 PM]  - Stats (Active: 55, Lost: 7708, Conflicts resolved: 552)\n",
      "[INFO][2022/03/30 02:39:29 PM] Tracking objects in frames 300 to 399 (of 1098)...\n",
      "[INFO][2022/03/30 02:39:29 PM]  - Timing (Bayesian updates: 0.58ms, Linking: 0.13ms)\n",
      "[INFO][2022/03/30 02:39:29 PM]  - Probabilities (Link: 0.99519, Lost: 0.63314)\n",
      "[INFO][2022/03/30 02:39:29 PM]  - Stats (Active: 59, Lost: 10479, Conflicts resolved: 726)\n",
      "[INFO][2022/03/30 02:39:29 PM] Tracking objects in frames 400 to 499 (of 1098)...\n",
      "[INFO][2022/03/30 02:39:29 PM]  - Timing (Bayesian updates: 0.48ms, Linking: 0.23ms)\n",
      "[INFO][2022/03/30 02:39:29 PM]  - Probabilities (Link: 1.00000, Lost: 1.00000)\n",
      "[INFO][2022/03/30 02:39:29 PM]  - Stats (Active: 45, Lost: 13151, Conflicts resolved: 886)\n",
      "[INFO][2022/03/30 02:39:29 PM] Tracking objects in frames 500 to 599 (of 1098)...\n",
      "[INFO][2022/03/30 02:39:29 PM]  - Timing (Bayesian updates: 0.54ms, Linking: 0.24ms)\n",
      "[INFO][2022/03/30 02:39:29 PM]  - Probabilities (Link: 1.00000, Lost: 1.00000)\n",
      "[INFO][2022/03/30 02:39:29 PM]  - Stats (Active: 48, Lost: 15867, Conflicts resolved: 1025)\n",
      "[INFO][2022/03/30 02:39:30 PM] Tracking objects in frames 600 to 699 (of 1098)...\n",
      "[INFO][2022/03/30 02:39:30 PM]  - Timing (Bayesian updates: 0.73ms, Linking: 0.27ms)\n",
      "[INFO][2022/03/30 02:39:30 PM]  - Probabilities (Link: 0.99867, Lost: 0.71322)\n",
      "[INFO][2022/03/30 02:39:30 PM]  - Stats (Active: 50, Lost: 18427, Conflicts resolved: 1173)\n",
      "[INFO][2022/03/30 02:39:30 PM] Tracking objects in frames 700 to 799 (of 1098)...\n",
      "[INFO][2022/03/30 02:39:30 PM]  - Timing (Bayesian updates: 0.88ms, Linking: 0.49ms)\n",
      "[INFO][2022/03/30 02:39:30 PM]  - Probabilities (Link: 0.99996, Lost: 1.00000)\n",
      "[INFO][2022/03/30 02:39:30 PM]  - Stats (Active: 56, Lost: 21225, Conflicts resolved: 1377)\n",
      "[INFO][2022/03/30 02:39:30 PM] Tracking objects in frames 800 to 899 (of 1098)...\n",
      "[INFO][2022/03/30 02:39:31 PM]  - Timing (Bayesian updates: 0.55ms, Linking: 0.20ms)\n",
      "[INFO][2022/03/30 02:39:31 PM]  - Probabilities (Link: 0.99999, Lost: 1.00000)\n",
      "[INFO][2022/03/30 02:39:31 PM]  - Stats (Active: 46, Lost: 23683, Conflicts resolved: 1506)\n",
      "[INFO][2022/03/30 02:39:31 PM] Tracking objects in frames 900 to 999 (of 1098)...\n",
      "[INFO][2022/03/30 02:39:32 PM]  - Timing (Bayesian updates: 0.02ms, Linking: 0.02ms)\n",
      "[INFO][2022/03/30 02:39:32 PM]  - Probabilities (Link: 1.00000, Lost: 0.99890)\n",
      "[INFO][2022/03/30 02:39:32 PM]  - Stats (Active: 2, Lost: 26155, Conflicts resolved: 1629)\n",
      "[INFO][2022/03/30 02:39:32 PM] Tracking objects in frames 1000 to 1098 (of 1098)...\n",
      "[INFO][2022/03/30 02:39:32 PM]  - Timing (Bayesian updates: 0.05ms, Linking: 0.06ms)\n",
      "[INFO][2022/03/30 02:39:32 PM]  - Probabilities (Link: 1.00000, Lost: 1.00000)\n",
      "[INFO][2022/03/30 02:39:32 PM] SUCCESS.\n",
      "[INFO][2022/03/30 02:39:32 PM]  - Found 17065 tracks in 1098 frames (in 0.0s)\n",
      "[INFO][2022/03/30 02:39:32 PM]  - Inserted 2246 dummy objects to fill tracking gaps\n",
      "[INFO][2022/03/30 02:39:32 PM] Loading hypothesis model: MDCK_hypothesis_scribble_sparse\n",
      "[INFO][2022/03/30 02:39:32 PM] Calculating hypotheses (relax: True)...\n",
      "[INFO][2022/03/30 02:39:32 PM] Setting up constraints matrix for global optimisation...\n",
      "[INFO][2022/03/30 02:39:33 PM] Optimizing...\n",
      "[INFO][2022/03/30 02:39:33 PM] Optimization complete. (Solution: optimal)\n",
      "[INFO][2022/03/30 02:39:33 PM]  - Fates.FALSE_POSITIVE: 17065 (of 17065)\n",
      "[INFO][2022/03/30 02:39:33 PM]  - TOTAL: 17065 hypotheses\n",
      "[INFO][2022/03/30 02:39:33 PM] Completed optimization with 17065 tracks\n",
      "[INFO][2022/03/30 02:39:33 PM] Opening HDF file: /home/nathan/data/kraken/ras//ND0022/Pos12/tracks.h5...\n",
      "[INFO][2022/03/30 02:39:33 PM] Writing objects/obj_type_2\n",
      "[INFO][2022/03/30 02:39:33 PM] Writing labels/obj_type_2\n",
      "[INFO][2022/03/30 02:39:33 PM] Loading objects/obj_type_2 (38765, 5) (38765 filtered: None)\n",
      "[INFO][2022/03/30 02:39:34 PM] Writing properties/obj_type_2/area (38765,)\n",
      "[INFO][2022/03/30 02:39:34 PM] Writing properties/obj_type_2/class id (38765,)\n",
      "[INFO][2022/03/30 02:39:34 PM] Writing properties/obj_type_2/prob_anaphase (38765,)\n",
      "[INFO][2022/03/30 02:39:34 PM] Writing properties/obj_type_2/prob_apoptosis (38765,)\n",
      "[INFO][2022/03/30 02:39:34 PM] Writing properties/obj_type_2/prob_interphase (38765,)\n",
      "[INFO][2022/03/30 02:39:34 PM] Writing properties/obj_type_2/prob_metaphase (38765,)\n",
      "[INFO][2022/03/30 02:39:34 PM] Writing properties/obj_type_2/prob_prometaphase (38765,)\n",
      "[INFO][2022/03/30 02:39:36 PM] Writing tracks/obj_type_2\n",
      "[INFO][2022/03/30 02:39:36 PM] Writing dummies/obj_type_2\n",
      "[INFO][2022/03/30 02:39:36 PM] Writing LBEP/obj_type_2\n",
      "[INFO][2022/03/30 02:39:36 PM] Writing fates/obj_type_2\n",
      "[INFO][2022/03/30 02:39:36 PM] Closing HDF file: /home/nathan/data/kraken/ras//ND0022/Pos12/tracks.h5\n",
      "[INFO][2022/03/30 02:39:39 PM] Ending BayesianTracker session\n"
     ]
    }
   ],
   "source": [
    "# initialise a tracker session using a context manager\n",
    "with btrack.BayesianTracker() as tracker:\n",
    "\n",
    "    # configure the tracker using a config file\n",
    "    tracker.configure_from_file(\n",
    "        '../models/MDCK_config_scribble_sparse.json'\n",
    "    )\n",
    "    tracker.max_search_radius = 40\n",
    "\n",
    "    # append the objects to be tracked\n",
    "    tracker.append(objects_rfp)\n",
    "\n",
    "    # set the volume\n",
    "    tracker.volume=((0, 1200), (0, 1600), (-1e5, 1e5))\n",
    "\n",
    "    # track them (in interactive mode)\n",
    "    tracker.track_interactive(step_size=100)\n",
    "\n",
    "    # generate hypotheses and run the global optimizer\n",
    "    tracker.optimize()\n",
    "\n",
    "    tracker.export(f'{root_dir}/{expt}/{pos}/tracks.h5', obj_type='obj_type_2')\n",
    "\n",
    "    # get the tracks in a format for napari visualization (optional)\n",
    "    visaulise_tracks, properties, graph = tracker.to_napari(ndim=2)\n",
    "    \n",
    "    rfp_tracks = tracker.tracks"
   ]
  },
  {
   "cell_type": "markdown",
   "id": "1b2e10e7",
   "metadata": {},
   "source": [
    "# 6. Batch process\n",
    "Iterate over many experiments and positions (need to ensure you define normalisation and classification functions above first)"
   ]
  },
  {
   "cell_type": "code",
   "execution_count": null,
   "id": "b1792133",
   "metadata": {},
   "outputs": [],
   "source": [
    "root_dir = '/home/nathan/data'\n",
    "expt_list = ['ND0009', 'ND0010', 'ND0011']\n",
    "pos_list = 'all'\n",
    "overwrite = False\n",
    "\n",
    "for expt in expt_list:\n",
    "    \n",
    "        # Find all positions in that experiment, if pos_list is all then it finds all positions\n",
    "        if pos_list == 'all':\n",
    "            pos_list = [pos for pos in os.listdir(f'{root_dir}/{expt}') \n",
    "                    if 'Pos' in pos \n",
    "                    and os.path.isdir(f'{root_dir}/{expt}/{pos}')]  \n",
    "            \n",
    "        ### Iterate over all positions in that experiment\n",
    "        for pos in pos_list:\n",
    "            \n",
    "            ### check if overwrite param is false check if raw directory already created and if type of transform file already exists and decide whether to skip pos\n",
    "            if not overwrite and glob.glob(f'{root_dir}/{expt}/{pos}/*tracks*.h5'):\n",
    "                print(glob.glob(f'{root_dir}/{expt}/{pos}/*tracks*.h5'), f'file found, skipping {expt}/{pos}')\n",
    "                continue\n",
    "                \n",
    "            print(f'Starting {expt}/{pos}')\n",
    "            # load gfp objects\n",
    "            with btrack.dataio.HDF5FileHandler(\n",
    "                 f'{root_dir}/{expt}/{pos}/objects.h5', 'r', obj_type='obj_type_1',\n",
    "            ) as hdf:\n",
    "                objects_gfp = hdf.objects\n",
    "            # load rfp objects\n",
    "            with btrack.dataio.HDF5FileHandler(\n",
    "                 f'{root_dir}/{expt}/{pos}/objects.h5', 'r', obj_type='obj_type_1',\n",
    "            ) as hdf:\n",
    "                objects_rfp = hdf.objects\n",
    "            \n",
    "            # filter objects for non-cell type sizes\n",
    "            objects_gfp = [o for o in objects_gfp if o.properties['area']>100.]\n",
    "            objects_rfp = [o for o in objects_rfp if o.properties['area']>100.]\n",
    "            \n",
    "            # initialise a tracker session using a context manager for gfp\n",
    "            with btrack.BayesianTracker() as tracker:\n",
    "\n",
    "                # configure the tracker using a config file\n",
    "                tracker.configure_from_file(\n",
    "                    './models/MDCK_config_wildtype.json'\n",
    "                )\n",
    "                tracker.max_search_radius = 40\n",
    "\n",
    "                # append the objects to be tracked\n",
    "                tracker.append(objects_gfp)\n",
    "\n",
    "                # set the volume\n",
    "                tracker.volume=((0, 1200), (0, 1600), (-1e5, 1e5))\n",
    "\n",
    "                # track them (in interactive mode)\n",
    "                tracker.track_interactive(step_size=100)\n",
    "\n",
    "                # generate hypotheses and run the global optimizer\n",
    "                tracker.optimize()\n",
    "\n",
    "                tracker.export(f'{root_dir}/{expt}/{pos}/tracks.h5', obj_type='obj_type_1')\n",
    "\n",
    "            # initialise a tracker session using a context manager for rfp\n",
    "            with btrack.BayesianTracker() as tracker:\n",
    "\n",
    "                # configure the tracker using a config file\n",
    "                tracker.configure_from_file(\n",
    "                    './models/.json'\n",
    "                )\n",
    "                tracker.max_search_radius = 40\n",
    "\n",
    "                # append the objects to be tracked\n",
    "                tracker.append(objects_rfp)\n",
    "\n",
    "                # set the volume\n",
    "                tracker.volume=((0, 1200), (0, 1600), (-1e5, 1e5))\n",
    "\n",
    "                # track them (in interactive mode)\n",
    "                tracker.track_interactive(step_size=100)\n",
    "\n",
    "                # generate hypotheses and run the global optimizer\n",
    "                tracker.optimize()\n",
    "\n",
    "                tracker.export(f'{root_dir}/{expt}/{pos}/tracks.h5', obj_type='obj_type_2')\n",
    "                \n",
    "            print(f'Finished {expt}/{pos}')"
   ]
  }
 ],
 "metadata": {
  "kernelspec": {
   "display_name": "CellX",
   "language": "python",
   "name": "cellx"
  },
  "language_info": {
   "codemirror_mode": {
    "name": "ipython",
    "version": 3
   },
   "file_extension": ".py",
   "mimetype": "text/x-python",
   "name": "python",
   "nbconvert_exporter": "python",
   "pygments_lexer": "ipython3",
   "version": "3.9.7"
  }
 },
 "nbformat": 4,
 "nbformat_minor": 5
}
