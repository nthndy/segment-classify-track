{
 "cells": [
  {
   "cell_type": "markdown",
   "id": "a4cf9a6b",
   "metadata": {},
   "source": [
    "# Napari image viewer\n",
    "\n",
    "Uses the octopuslite dask image loader to automatically sort and load images from multichannel time lapse experiments. Can also use btrack to load associated tracks and segmentation images."
   ]
  },
  {
   "cell_type": "code",
   "execution_count": 1,
   "id": "3a23b02f",
   "metadata": {},
   "outputs": [],
   "source": [
    "import napari\n",
    "from octopuslite import DaskOctopusLiteLoader"
   ]
  },
  {
   "cell_type": "code",
   "execution_count": 6,
   "id": "1cd56587",
   "metadata": {},
   "outputs": [],
   "source": [
    "import numpy"
   ]
  },
  {
   "cell_type": "markdown",
   "id": "96c1a1c1",
   "metadata": {},
   "source": [
    "# testing transform implementation"
   ]
  },
  {
   "cell_type": "code",
   "execution_count": null,
   "id": "92e9a662",
   "metadata": {},
   "outputs": [
    {
     "name": "stdout",
     "output_type": "stream",
     "text": [
      "ND0010 Pos0\n",
      "Using cropping: (1200, 1600)\n"
     ]
    }
   ],
   "source": [
    "import os\n",
    "\n",
    "expt = 'ND0010'\n",
    "pos = 'Pos0'\n",
    "image_path = f'/home/nathan/data/kraken/ras/{expt}/{pos}/{pos}_images'\n",
    "transform_path = f'/home/nathan/data/kraken/ras/{expt}/{pos}/gfp_transform_tensor_14.npy'\n",
    "if os.path.exists(image_path):\n",
    "    print(expt, pos)\n",
    "#     trans = numpy.load(transform_path)\n",
    "#     if len(trans.shape) == 4:\n",
    "#         print('reshape')\n",
    "#         numpy.save(transform_path, numpy.reshape(trans, (len(trans)*len(trans[0]), 3, 3)))\n",
    "    images = DaskOctopusLiteLoader(image_path, remove_background=False, \n",
    "                                   transforms=transform_path,\n",
    "                                   crop = (1200, 1600))\n",
    "    gfp = images['gfp']\n",
    "#     rfp = images['rfp']\n",
    "#     irfp = images['irfp']\n",
    "    masks = images['mask'].astype(int)\n",
    "    viewer = napari.Viewer()\n",
    "    viewer.add_image(gfp,\n",
    "                     contrast_limits=[0,255],\n",
    "                     blending = 'additive', \n",
    "                     colormap = 'green',\n",
    "                    name = f'transform_{14}')#, is_pyramid=False)\n",
    "#     viewer.add_image(rfp, name=\"rfp\", \n",
    "#                      contrast_limits=[0,55], \n",
    "#                      blending = 'additive', colormap = 'magenta')#, is_pyramid=False)\n",
    "#     viewer.add_image(irfp, name=\"irfp\", \n",
    "#          contrast_limits=[0,255], \n",
    "#          blending = 'additive', colormap = 'cyan')#\n",
    "    viewer.add_labels(masks, name = f'trans{expt}/{pos}',\n",
    "                   )\n",
    "    viewer.show(block=True)"
   ]
  },
  {
   "cell_type": "code",
   "execution_count": 12,
   "id": "e3fbec00",
   "metadata": {},
   "outputs": [
    {
     "data": {
      "text/plain": [
       "array([[[ 1.00000000e+00,  0.00000000e+00,  0.00000000e+00],\n",
       "        [ 0.00000000e+00,  1.00000000e+00,  0.00000000e+00],\n",
       "        [ 0.00000000e+00,  0.00000000e+00,  1.00000000e+00]],\n",
       "\n",
       "       [[ 1.00000000e+00,  0.00000000e+00, -2.23294164e+02],\n",
       "        [ 0.00000000e+00,  1.00000000e+00,  8.28624883e+01],\n",
       "        [ 0.00000000e+00,  0.00000000e+00,  1.00000000e+00]],\n",
       "\n",
       "       [[ 1.00000000e+00,  0.00000000e+00, -6.60374175e+01],\n",
       "        [ 0.00000000e+00,  1.00000000e+00, -1.08065656e+02],\n",
       "        [ 0.00000000e+00,  0.00000000e+00,  1.00000000e+00]],\n",
       "\n",
       "       ...,\n",
       "\n",
       "       [[ 1.00000000e+00,  0.00000000e+00,  0.00000000e+00],\n",
       "        [ 0.00000000e+00,  1.00000000e+00,  0.00000000e+00],\n",
       "        [ 0.00000000e+00,  0.00000000e+00,  1.00000000e+00]],\n",
       "\n",
       "       [[ 1.00000000e+00,  0.00000000e+00, -2.84351028e+00],\n",
       "        [ 0.00000000e+00,  1.00000000e+00, -1.21357058e+00],\n",
       "        [ 0.00000000e+00,  0.00000000e+00,  1.00000000e+00]],\n",
       "\n",
       "       [[ 1.00000000e+00,  0.00000000e+00, -1.81824139e+00],\n",
       "        [ 0.00000000e+00,  1.00000000e+00,  3.95343877e-02],\n",
       "        [ 0.00000000e+00,  0.00000000e+00,  1.00000000e+00]]])"
      ]
     },
     "execution_count": 12,
     "metadata": {},
     "output_type": "execute_result"
    }
   ],
   "source": [
    "trans"
   ]
  },
  {
   "cell_type": "markdown",
   "id": "9cc54637",
   "metadata": {},
   "source": [
    "# Load images"
   ]
  },
  {
   "cell_type": "code",
   "execution_count": null,
   "id": "5206859a",
   "metadata": {
    "scrolled": true
   },
   "outputs": [],
   "source": [
    "# define experiment ID and select a position\n",
    "expt = 'ND0010'\n",
    "pos = 'Pos0'\n",
    "# point to where the data is\n",
    "root_dir = '/home/nathan/data/kraken/ras'\n",
    "image_path = f'{root_dir}/{expt}/{pos}/{pos}_images'\n",
    "transform_path = f'{root_dir}/{expt}/{pos}/gfp_transform_tensor.npy'\n",
    "tracks_path = f'{root_dir}/{expt}/{pos}/tracks.h5'\n",
    "# lazily load images\n",
    "images = DaskOctopusLiteLoader(image_path, \n",
    "                               transforms = transform_path,\n",
    "                               crop = (1200,1600),\n",
    "                               remove_background = False)\n",
    "images.channels"
   ]
  },
  {
   "cell_type": "code",
   "execution_count": null,
   "id": "6921a651",
   "metadata": {},
   "outputs": [],
   "source": [
    "gfp = images['gfp']\n",
    "rfp = images['rfp']\n",
    "irfp = images['irfp']\n",
    "masks = images['mask']"
   ]
  },
  {
   "cell_type": "code",
   "execution_count": null,
   "id": "a1858262",
   "metadata": {},
   "outputs": [],
   "source": [
    "import numpy as np\n",
    "for i in rfp[1109:1113]:\n",
    "    print(np.mean(i.compute()))"
   ]
  },
  {
   "cell_type": "markdown",
   "id": "5c17659d",
   "metadata": {},
   "source": [
    "### Add tracks"
   ]
  },
  {
   "cell_type": "code",
   "execution_count": null,
   "id": "568a2f65",
   "metadata": {},
   "outputs": [],
   "source": [
    "import btrack\n",
    "from btrack.utils import tracks_to_napari"
   ]
  },
  {
   "cell_type": "markdown",
   "id": "bc41789f",
   "metadata": {},
   "source": [
    "#### iRFP tracks"
   ]
  },
  {
   "cell_type": "code",
   "execution_count": null,
   "id": "0612ea14",
   "metadata": {
    "scrolled": true
   },
   "outputs": [],
   "source": [
    "with btrack.dataio.HDF5FileHandler(tracks_path, \n",
    "                                   'r', obj_type='obj_type_1'\n",
    "                                  ) as h:\n",
    "    irfp_tracks = h.tracks"
   ]
  },
  {
   "cell_type": "code",
   "execution_count": null,
   "id": "2b98d28c",
   "metadata": {},
   "outputs": [],
   "source": [
    "irfp_tracks, irfp_properties, irfp_graph = tracks_to_napari(irfp_tracks, ndim = 2)"
   ]
  },
  {
   "cell_type": "markdown",
   "id": "4b0d99aa",
   "metadata": {},
   "source": [
    "#### RFP tracks"
   ]
  },
  {
   "cell_type": "code",
   "execution_count": null,
   "id": "8be591f3",
   "metadata": {
    "scrolled": true
   },
   "outputs": [],
   "source": [
    "with btrack.dataio.HDF5FileHandler(tracks_path, \n",
    "                                   'r', obj_type='obj_type_2'\n",
    "                                  ) as h:\n",
    "    rfp_tracks = h.tracks"
   ]
  },
  {
   "cell_type": "code",
   "execution_count": null,
   "id": "43a9ba3c",
   "metadata": {},
   "outputs": [],
   "source": [
    "rfp_tracks, rfp_properties, rfp_graph = tracks_to_napari(rfp_tracks, ndim = 2)"
   ]
  },
  {
   "cell_type": "markdown",
   "id": "603b486b",
   "metadata": {},
   "source": [
    "# Launch viewer"
   ]
  },
  {
   "cell_type": "code",
   "execution_count": null,
   "id": "8ffa3640",
   "metadata": {},
   "outputs": [],
   "source": [
    "viewer = napari.Viewer()\n",
    "viewer.add_image(gfp, name=\"gfp\", \n",
    "                 contrast_limits=[0,255],\n",
    "                 blending = 'additive', colormap = 'green')#, is_pyramid=False)\n",
    "viewer.add_image(rfp, name=\"rfp\", \n",
    "                 contrast_limits=[0,55], \n",
    "                 blending = 'additive', colormap = 'magenta')#, is_pyramid=False)\n",
    "viewer.add_image(irfp, name=\"irfp\", \n",
    "                 contrast_limits=[0,255], \n",
    "                 blending = 'additive', colormap = 'cyan')#\n",
    "viewer.add_image(masks, name = 'masks',\n",
    "                contrast_limits=[0,255],\n",
    "               blending = 'additive',)\n",
    "viewer.add_tracks(irfp_tracks)\n",
    "viewer.add_tracks(rfp_tracks)"
   ]
  }
 ],
 "metadata": {
  "kernelspec": {
   "display_name": "CellX",
   "language": "python",
   "name": "cellx"
  },
  "language_info": {
   "codemirror_mode": {
    "name": "ipython",
    "version": 3
   },
   "file_extension": ".py",
   "mimetype": "text/x-python",
   "name": "python",
   "nbconvert_exporter": "python",
   "pygments_lexer": "ipython3",
   "version": "3.9.7"
  }
 },
 "nbformat": 4,
 "nbformat_minor": 5
}
