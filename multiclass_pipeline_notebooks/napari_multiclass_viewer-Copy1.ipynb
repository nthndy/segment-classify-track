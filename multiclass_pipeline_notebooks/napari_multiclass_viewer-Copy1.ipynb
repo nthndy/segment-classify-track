{
 "cells": [
  {
   "cell_type": "markdown",
   "id": "a4cf9a6b",
   "metadata": {},
   "source": [
    "# Napari image viewer\n",
    "\n",
    "Uses the octopuslite dask image loader to automatically sort and load images from multichannel time lapse experiments. Can also use btrack to load associated tracks and segmentation images."
   ]
  },
  {
   "cell_type": "code",
   "execution_count": 1,
   "id": "3a23b02f",
   "metadata": {},
   "outputs": [],
   "source": [
    "import napari\n",
    "from octopuslite import DaskOctopusLiteLoader"
   ]
  },
  {
   "cell_type": "code",
   "execution_count": 6,
   "id": "312ff47a",
   "metadata": {},
   "outputs": [],
   "source": [
    "import numpy"
   ]
  },
  {
   "cell_type": "markdown",
   "id": "96c1a1c1",
   "metadata": {},
   "source": [
    "# testing transform implementation"
   ]
  },
  {
   "cell_type": "code",
   "execution_count": 92,
   "id": "92e9a662",
   "metadata": {},
   "outputs": [
    {
     "name": "stdout",
     "output_type": "stream",
     "text": [
      "ND0010 Pos0\n"
     ]
    }
   ],
   "source": [
    "import os\n",
    "\n",
    "expt = 'ND0010'\n",
    "pos = 'Pos0'\n",
    "image_path = f'/home/nathan/data/kraken/ras/{expt}/{pos}/{pos}_images'\n",
    "transform_path = '/home/nathan/data/kraken/ras/ND0010/Pos0/temp_transform.npy'#f'/home/nathan/data/kraken/ras/{expt}/{pos}/iterative_transform.npy'\n",
    "if os.path.exists(image_path):\n",
    "    print(expt, pos)\n",
    "#     trans = numpy.load(transform_path)\n",
    "#     if len(trans.shape) == 4:\n",
    "#         print('reshape')\n",
    "#         numpy.save(transform_path, numpy.reshape(trans, (len(trans)*len(trans[0]), 3, 3)))\n",
    "    images = DaskOctopusLiteLoader(image_path, \n",
    "                                   remove_background=False, \n",
    "                                   #transforms=transform_path,\n",
    "                                  )\n",
    "                                   #crop = (1200, 1600))\n",
    "    gfp = images['gfp']\n",
    "    rfp = images['rfp']\n",
    "    irfp = images['irfp']\n",
    "    masks = images['mask'].astype(int)\n",
    "    viewer = napari.Viewer()\n",
    "    viewer.add_image(gfp,\n",
    "                     contrast_limits=[0,255],\n",
    "                     blending = 'additive', \n",
    "                     colormap = 'green',\n",
    "                    name = f'transform_{14}')#, is_pyramid=False)\n",
    "    viewer.add_image(rfp, name=\"rfp\", \n",
    "                     contrast_limits=[0,55], \n",
    "                     blending = 'additive', colormap = 'red')#, is_pyramid=False)\n",
    "    viewer.add_image(irfp, name=\"irfp\", \n",
    "         contrast_limits=[0,255], \n",
    "         blending = 'additive', colormap = 'cyan')#\n",
    "    viewer.add_labels(masks, name = f'trans{expt}/{pos}',\n",
    "                   )\n",
    "    viewer.show(block=True)"
   ]
  },
  {
   "cell_type": "markdown",
   "id": "ed58b008",
   "metadata": {},
   "source": [
    "# is it the images that cause the massive jumps?"
   ]
  },
  {
   "cell_type": "code",
   "execution_count": 88,
   "id": "8b935a30",
   "metadata": {},
   "outputs": [
    {
     "name": "stdout",
     "output_type": "stream",
     "text": [
      "0 15.4322605\n",
      "1 11.780591\n",
      "2 11.119329\n",
      "3 10.935321\n",
      "4 11.155198\n",
      "5 12.417566\n",
      "6 13.679379\n",
      "7 12.470558\n",
      "8 12.841653\n",
      "9 13.887493\n",
      "10 11.692173\n",
      "11 11.017481\n",
      "12 11.372049\n",
      "13 1.0642898\n",
      "14 12.422448\n",
      "15 12.252353\n",
      "16 41.53194\n",
      "17 12.366822\n",
      "18 14.320434\n",
      "19 12.4483595\n",
      "20 13.416701\n",
      "21 12.227288\n",
      "22 12.652968\n",
      "23 12.251566\n",
      "24 11.320794\n",
      "25 14.1039095\n",
      "26 11.694571\n",
      "27 13.35243\n",
      "28 11.828862\n",
      "29 12.928663\n",
      "30 11.561797\n",
      "31 11.12086\n",
      "32 11.756085\n",
      "33 12.761567\n",
      "34 11.105466\n",
      "35 11.729833\n",
      "36 13.486223\n",
      "37 12.216016\n",
      "38 11.924616\n",
      "39 13.180549\n",
      "40 12.991628\n",
      "41 10.929079\n",
      "42 12.929986\n",
      "43 12.1659\n",
      "44 11.747186\n"
     ]
    },
    {
     "ename": "KeyboardInterrupt",
     "evalue": "",
     "output_type": "error",
     "traceback": [
      "\u001b[0;31m---------------------------------------------------------------------------\u001b[0m",
      "\u001b[0;31mKeyboardInterrupt\u001b[0m                         Traceback (most recent call last)",
      "\u001b[0;32m<ipython-input-88-3e8d3dfb22e6>\u001b[0m in \u001b[0;36m<module>\u001b[0;34m\u001b[0m\n\u001b[1;32m      1\u001b[0m \u001b[0;32mfor\u001b[0m \u001b[0mn\u001b[0m\u001b[0;34m,\u001b[0m \u001b[0mimage\u001b[0m \u001b[0;32min\u001b[0m \u001b[0menumerate\u001b[0m\u001b[0;34m(\u001b[0m\u001b[0mimages\u001b[0m\u001b[0;34m[\u001b[0m\u001b[0;34m'gfp'\u001b[0m\u001b[0;34m]\u001b[0m\u001b[0;34m)\u001b[0m\u001b[0;34m:\u001b[0m\u001b[0;34m\u001b[0m\u001b[0;34m\u001b[0m\u001b[0m\n\u001b[0;32m----> 2\u001b[0;31m     \u001b[0mprint\u001b[0m\u001b[0;34m(\u001b[0m\u001b[0mn\u001b[0m\u001b[0;34m,\u001b[0m \u001b[0mnp\u001b[0m\u001b[0;34m.\u001b[0m\u001b[0mmean\u001b[0m\u001b[0;34m(\u001b[0m\u001b[0mimage\u001b[0m\u001b[0;34m)\u001b[0m\u001b[0;34m.\u001b[0m\u001b[0mcompute\u001b[0m\u001b[0;34m(\u001b[0m\u001b[0;34m)\u001b[0m\u001b[0;34m)\u001b[0m\u001b[0;34m\u001b[0m\u001b[0;34m\u001b[0m\u001b[0m\n\u001b[0m",
      "\u001b[0;32m~/analysis/miniconda3/envs/cellx/lib/python3.9/site-packages/dask/base.py\u001b[0m in \u001b[0;36mcompute\u001b[0;34m(self, **kwargs)\u001b[0m\n\u001b[1;32m    286\u001b[0m         \u001b[0mdask\u001b[0m\u001b[0;34m.\u001b[0m\u001b[0mbase\u001b[0m\u001b[0;34m.\u001b[0m\u001b[0mcompute\u001b[0m\u001b[0;34m\u001b[0m\u001b[0;34m\u001b[0m\u001b[0m\n\u001b[1;32m    287\u001b[0m         \"\"\"\n\u001b[0;32m--> 288\u001b[0;31m         \u001b[0;34m(\u001b[0m\u001b[0mresult\u001b[0m\u001b[0;34m,\u001b[0m\u001b[0;34m)\u001b[0m \u001b[0;34m=\u001b[0m \u001b[0mcompute\u001b[0m\u001b[0;34m(\u001b[0m\u001b[0mself\u001b[0m\u001b[0;34m,\u001b[0m \u001b[0mtraverse\u001b[0m\u001b[0;34m=\u001b[0m\u001b[0;32mFalse\u001b[0m\u001b[0;34m,\u001b[0m \u001b[0;34m**\u001b[0m\u001b[0mkwargs\u001b[0m\u001b[0;34m)\u001b[0m\u001b[0;34m\u001b[0m\u001b[0;34m\u001b[0m\u001b[0m\n\u001b[0m\u001b[1;32m    289\u001b[0m         \u001b[0;32mreturn\u001b[0m \u001b[0mresult\u001b[0m\u001b[0;34m\u001b[0m\u001b[0;34m\u001b[0m\u001b[0m\n\u001b[1;32m    290\u001b[0m \u001b[0;34m\u001b[0m\u001b[0m\n",
      "\u001b[0;32m~/analysis/miniconda3/envs/cellx/lib/python3.9/site-packages/dask/base.py\u001b[0m in \u001b[0;36mcompute\u001b[0;34m(*args, **kwargs)\u001b[0m\n\u001b[1;32m    568\u001b[0m         \u001b[0mpostcomputes\u001b[0m\u001b[0;34m.\u001b[0m\u001b[0mappend\u001b[0m\u001b[0;34m(\u001b[0m\u001b[0mx\u001b[0m\u001b[0;34m.\u001b[0m\u001b[0m__dask_postcompute__\u001b[0m\u001b[0;34m(\u001b[0m\u001b[0;34m)\u001b[0m\u001b[0;34m)\u001b[0m\u001b[0;34m\u001b[0m\u001b[0;34m\u001b[0m\u001b[0m\n\u001b[1;32m    569\u001b[0m \u001b[0;34m\u001b[0m\u001b[0m\n\u001b[0;32m--> 570\u001b[0;31m     \u001b[0mresults\u001b[0m \u001b[0;34m=\u001b[0m \u001b[0mschedule\u001b[0m\u001b[0;34m(\u001b[0m\u001b[0mdsk\u001b[0m\u001b[0;34m,\u001b[0m \u001b[0mkeys\u001b[0m\u001b[0;34m,\u001b[0m \u001b[0;34m**\u001b[0m\u001b[0mkwargs\u001b[0m\u001b[0;34m)\u001b[0m\u001b[0;34m\u001b[0m\u001b[0;34m\u001b[0m\u001b[0m\n\u001b[0m\u001b[1;32m    571\u001b[0m     \u001b[0;32mreturn\u001b[0m \u001b[0mrepack\u001b[0m\u001b[0;34m(\u001b[0m\u001b[0;34m[\u001b[0m\u001b[0mf\u001b[0m\u001b[0;34m(\u001b[0m\u001b[0mr\u001b[0m\u001b[0;34m,\u001b[0m \u001b[0;34m*\u001b[0m\u001b[0ma\u001b[0m\u001b[0;34m)\u001b[0m \u001b[0;32mfor\u001b[0m \u001b[0mr\u001b[0m\u001b[0;34m,\u001b[0m \u001b[0;34m(\u001b[0m\u001b[0mf\u001b[0m\u001b[0;34m,\u001b[0m \u001b[0ma\u001b[0m\u001b[0;34m)\u001b[0m \u001b[0;32min\u001b[0m \u001b[0mzip\u001b[0m\u001b[0;34m(\u001b[0m\u001b[0mresults\u001b[0m\u001b[0;34m,\u001b[0m \u001b[0mpostcomputes\u001b[0m\u001b[0;34m)\u001b[0m\u001b[0;34m]\u001b[0m\u001b[0;34m)\u001b[0m\u001b[0;34m\u001b[0m\u001b[0;34m\u001b[0m\u001b[0m\n\u001b[1;32m    572\u001b[0m \u001b[0;34m\u001b[0m\u001b[0m\n",
      "\u001b[0;32m~/analysis/miniconda3/envs/cellx/lib/python3.9/site-packages/dask/threaded.py\u001b[0m in \u001b[0;36mget\u001b[0;34m(dsk, result, cache, num_workers, pool, **kwargs)\u001b[0m\n\u001b[1;32m     77\u001b[0m             \u001b[0mpool\u001b[0m \u001b[0;34m=\u001b[0m \u001b[0mMultiprocessingPoolExecutor\u001b[0m\u001b[0;34m(\u001b[0m\u001b[0mpool\u001b[0m\u001b[0;34m)\u001b[0m\u001b[0;34m\u001b[0m\u001b[0;34m\u001b[0m\u001b[0m\n\u001b[1;32m     78\u001b[0m \u001b[0;34m\u001b[0m\u001b[0m\n\u001b[0;32m---> 79\u001b[0;31m     results = get_async(\n\u001b[0m\u001b[1;32m     80\u001b[0m         \u001b[0mpool\u001b[0m\u001b[0;34m.\u001b[0m\u001b[0msubmit\u001b[0m\u001b[0;34m,\u001b[0m\u001b[0;34m\u001b[0m\u001b[0;34m\u001b[0m\u001b[0m\n\u001b[1;32m     81\u001b[0m         \u001b[0mpool\u001b[0m\u001b[0;34m.\u001b[0m\u001b[0m_max_workers\u001b[0m\u001b[0;34m,\u001b[0m\u001b[0;34m\u001b[0m\u001b[0;34m\u001b[0m\u001b[0m\n",
      "\u001b[0;32m~/analysis/miniconda3/envs/cellx/lib/python3.9/site-packages/dask/local.py\u001b[0m in \u001b[0;36mget_async\u001b[0;34m(submit, num_workers, dsk, result, cache, get_id, rerun_exceptions_locally, pack_exception, raise_exception, callbacks, dumps, loads, chunksize, **kwargs)\u001b[0m\n\u001b[1;32m    494\u001b[0m             \u001b[0;32mwhile\u001b[0m \u001b[0mstate\u001b[0m\u001b[0;34m[\u001b[0m\u001b[0;34m\"waiting\"\u001b[0m\u001b[0;34m]\u001b[0m \u001b[0;32mor\u001b[0m \u001b[0mstate\u001b[0m\u001b[0;34m[\u001b[0m\u001b[0;34m\"ready\"\u001b[0m\u001b[0;34m]\u001b[0m \u001b[0;32mor\u001b[0m \u001b[0mstate\u001b[0m\u001b[0;34m[\u001b[0m\u001b[0;34m\"running\"\u001b[0m\u001b[0;34m]\u001b[0m\u001b[0;34m:\u001b[0m\u001b[0;34m\u001b[0m\u001b[0;34m\u001b[0m\u001b[0m\n\u001b[1;32m    495\u001b[0m                 \u001b[0mfire_tasks\u001b[0m\u001b[0;34m(\u001b[0m\u001b[0mchunksize\u001b[0m\u001b[0;34m)\u001b[0m\u001b[0;34m\u001b[0m\u001b[0;34m\u001b[0m\u001b[0m\n\u001b[0;32m--> 496\u001b[0;31m                 \u001b[0;32mfor\u001b[0m \u001b[0mkey\u001b[0m\u001b[0;34m,\u001b[0m \u001b[0mres_info\u001b[0m\u001b[0;34m,\u001b[0m \u001b[0mfailed\u001b[0m \u001b[0;32min\u001b[0m \u001b[0mqueue_get\u001b[0m\u001b[0;34m(\u001b[0m\u001b[0mqueue\u001b[0m\u001b[0;34m)\u001b[0m\u001b[0;34m.\u001b[0m\u001b[0mresult\u001b[0m\u001b[0;34m(\u001b[0m\u001b[0;34m)\u001b[0m\u001b[0;34m:\u001b[0m\u001b[0;34m\u001b[0m\u001b[0;34m\u001b[0m\u001b[0m\n\u001b[0m\u001b[1;32m    497\u001b[0m                     \u001b[0;32mif\u001b[0m \u001b[0mfailed\u001b[0m\u001b[0;34m:\u001b[0m\u001b[0;34m\u001b[0m\u001b[0;34m\u001b[0m\u001b[0m\n\u001b[1;32m    498\u001b[0m                         \u001b[0mexc\u001b[0m\u001b[0;34m,\u001b[0m \u001b[0mtb\u001b[0m \u001b[0;34m=\u001b[0m \u001b[0mloads\u001b[0m\u001b[0;34m(\u001b[0m\u001b[0mres_info\u001b[0m\u001b[0;34m)\u001b[0m\u001b[0;34m\u001b[0m\u001b[0;34m\u001b[0m\u001b[0m\n",
      "\u001b[0;32m~/analysis/miniconda3/envs/cellx/lib/python3.9/site-packages/dask/local.py\u001b[0m in \u001b[0;36mqueue_get\u001b[0;34m(q)\u001b[0m\n\u001b[1;32m    132\u001b[0m \u001b[0;34m\u001b[0m\u001b[0m\n\u001b[1;32m    133\u001b[0m     \u001b[0;32mdef\u001b[0m \u001b[0mqueue_get\u001b[0m\u001b[0;34m(\u001b[0m\u001b[0mq\u001b[0m\u001b[0;34m)\u001b[0m\u001b[0;34m:\u001b[0m\u001b[0;34m\u001b[0m\u001b[0;34m\u001b[0m\u001b[0m\n\u001b[0;32m--> 134\u001b[0;31m         \u001b[0;32mreturn\u001b[0m \u001b[0mq\u001b[0m\u001b[0;34m.\u001b[0m\u001b[0mget\u001b[0m\u001b[0;34m(\u001b[0m\u001b[0;34m)\u001b[0m\u001b[0;34m\u001b[0m\u001b[0;34m\u001b[0m\u001b[0m\n\u001b[0m\u001b[1;32m    135\u001b[0m \u001b[0;34m\u001b[0m\u001b[0m\n\u001b[1;32m    136\u001b[0m \u001b[0;34m\u001b[0m\u001b[0m\n",
      "\u001b[0;32m~/analysis/miniconda3/envs/cellx/lib/python3.9/queue.py\u001b[0m in \u001b[0;36mget\u001b[0;34m(self, block, timeout)\u001b[0m\n\u001b[1;32m    169\u001b[0m             \u001b[0;32melif\u001b[0m \u001b[0mtimeout\u001b[0m \u001b[0;32mis\u001b[0m \u001b[0;32mNone\u001b[0m\u001b[0;34m:\u001b[0m\u001b[0;34m\u001b[0m\u001b[0;34m\u001b[0m\u001b[0m\n\u001b[1;32m    170\u001b[0m                 \u001b[0;32mwhile\u001b[0m \u001b[0;32mnot\u001b[0m \u001b[0mself\u001b[0m\u001b[0;34m.\u001b[0m\u001b[0m_qsize\u001b[0m\u001b[0;34m(\u001b[0m\u001b[0;34m)\u001b[0m\u001b[0;34m:\u001b[0m\u001b[0;34m\u001b[0m\u001b[0;34m\u001b[0m\u001b[0m\n\u001b[0;32m--> 171\u001b[0;31m                     \u001b[0mself\u001b[0m\u001b[0;34m.\u001b[0m\u001b[0mnot_empty\u001b[0m\u001b[0;34m.\u001b[0m\u001b[0mwait\u001b[0m\u001b[0;34m(\u001b[0m\u001b[0;34m)\u001b[0m\u001b[0;34m\u001b[0m\u001b[0;34m\u001b[0m\u001b[0m\n\u001b[0m\u001b[1;32m    172\u001b[0m             \u001b[0;32melif\u001b[0m \u001b[0mtimeout\u001b[0m \u001b[0;34m<\u001b[0m \u001b[0;36m0\u001b[0m\u001b[0;34m:\u001b[0m\u001b[0;34m\u001b[0m\u001b[0;34m\u001b[0m\u001b[0m\n\u001b[1;32m    173\u001b[0m                 \u001b[0;32mraise\u001b[0m \u001b[0mValueError\u001b[0m\u001b[0;34m(\u001b[0m\u001b[0;34m\"'timeout' must be a non-negative number\"\u001b[0m\u001b[0;34m)\u001b[0m\u001b[0;34m\u001b[0m\u001b[0;34m\u001b[0m\u001b[0m\n",
      "\u001b[0;32m~/analysis/miniconda3/envs/cellx/lib/python3.9/threading.py\u001b[0m in \u001b[0;36mwait\u001b[0;34m(self, timeout)\u001b[0m\n\u001b[1;32m    310\u001b[0m         \u001b[0;32mtry\u001b[0m\u001b[0;34m:\u001b[0m    \u001b[0;31m# restore state no matter what (e.g., KeyboardInterrupt)\u001b[0m\u001b[0;34m\u001b[0m\u001b[0;34m\u001b[0m\u001b[0m\n\u001b[1;32m    311\u001b[0m             \u001b[0;32mif\u001b[0m \u001b[0mtimeout\u001b[0m \u001b[0;32mis\u001b[0m \u001b[0;32mNone\u001b[0m\u001b[0;34m:\u001b[0m\u001b[0;34m\u001b[0m\u001b[0;34m\u001b[0m\u001b[0m\n\u001b[0;32m--> 312\u001b[0;31m                 \u001b[0mwaiter\u001b[0m\u001b[0;34m.\u001b[0m\u001b[0macquire\u001b[0m\u001b[0;34m(\u001b[0m\u001b[0;34m)\u001b[0m\u001b[0;34m\u001b[0m\u001b[0;34m\u001b[0m\u001b[0m\n\u001b[0m\u001b[1;32m    313\u001b[0m                 \u001b[0mgotit\u001b[0m \u001b[0;34m=\u001b[0m \u001b[0;32mTrue\u001b[0m\u001b[0;34m\u001b[0m\u001b[0;34m\u001b[0m\u001b[0m\n\u001b[1;32m    314\u001b[0m             \u001b[0;32melse\u001b[0m\u001b[0;34m:\u001b[0m\u001b[0;34m\u001b[0m\u001b[0;34m\u001b[0m\u001b[0m\n",
      "\u001b[0;31mKeyboardInterrupt\u001b[0m: "
     ]
    }
   ],
   "source": [
    "for n, image in enumerate(images['gfp']):\n",
    "    print(n, np.mean(image).compute())"
   ]
  },
  {
   "cell_type": "code",
   "execution_count": 82,
   "id": "54cf6b2d",
   "metadata": {},
   "outputs": [],
   "source": [
    "trans = numpy.load(transform_path)\n"
   ]
  },
  {
   "cell_type": "code",
   "execution_count": 83,
   "id": "f34b15ae",
   "metadata": {},
   "outputs": [
    {
     "data": {
      "text/plain": [
       "array([[[ 0.        ,  0.        ,  0.        ],\n",
       "        [ 0.        ,  0.        ,  0.        ],\n",
       "        [ 0.        ,  0.        ,  0.        ]],\n",
       "\n",
       "       [[ 1.        ,  0.        ,  3.71679573],\n",
       "        [ 0.        ,  1.        , -0.10582626],\n",
       "        [ 0.        ,  0.        ,  1.        ]],\n",
       "\n",
       "       [[ 1.        ,  0.        , -3.12161405],\n",
       "        [ 0.        ,  1.        , -0.85222994],\n",
       "        [ 0.        ,  0.        ,  1.        ]],\n",
       "\n",
       "       ...,\n",
       "\n",
       "       [[ 1.        ,  0.        , -0.45174181],\n",
       "        [ 0.        ,  1.        , -0.15151465],\n",
       "        [ 0.        ,  0.        ,  1.        ]],\n",
       "\n",
       "       [[ 1.        ,  0.        , -2.67100944],\n",
       "        [ 0.        ,  1.        , -0.47319341],\n",
       "        [ 0.        ,  0.        ,  1.        ]],\n",
       "\n",
       "       [[ 1.        ,  0.        ,  4.61640401],\n",
       "        [ 0.        ,  1.        ,  0.630193  ],\n",
       "        [ 0.        ,  0.        ,  1.        ]]])"
      ]
     },
     "execution_count": 83,
     "metadata": {},
     "output_type": "execute_result"
    }
   ],
   "source": [
    "trans"
   ]
  },
  {
   "cell_type": "code",
   "execution_count": 26,
   "id": "bc4f1fa0",
   "metadata": {},
   "outputs": [],
   "source": [
    "trans = numpy.load(transform_path)"
   ]
  },
  {
   "cell_type": "code",
   "execution_count": 29,
   "id": "ed60f44c",
   "metadata": {},
   "outputs": [],
   "source": [
    "transform_path = f'/home/nathan/data/kraken/ras/{expt}/{pos}/gfp_transform_tensor_14.npy'\n"
   ]
  },
  {
   "cell_type": "code",
   "execution_count": 41,
   "id": "7fe51fe7",
   "metadata": {},
   "outputs": [
    {
     "data": {
      "text/plain": [
       "array([[-7.64561612e+01, -4.70585977e+02],\n",
       "       [-7.57575709e+01, -4.70382052e+02],\n",
       "       [-7.46870318e+01, -4.70267907e+02],\n",
       "       [-7.77721680e+01, -4.70393597e+02],\n",
       "       [ 0.00000000e+00,  0.00000000e+00],\n",
       "       [ 1.45408388e+00, -4.30155860e+00],\n",
       "       [-4.98507831e-01, -2.32258565e+00],\n",
       "       [ 2.20540161e+00, -3.94122041e+00],\n",
       "       [-8.59118685e-02, -3.27027988e+00],\n",
       "       [-7.60416375e-01, -3.32813527e+00]])"
      ]
     },
     "execution_count": 41,
     "metadata": {},
     "output_type": "execute_result"
    }
   ],
   "source": [
    "trans_13[115:125, :2, -1]"
   ]
  },
  {
   "cell_type": "code",
   "execution_count": 42,
   "id": "6692c85c",
   "metadata": {},
   "outputs": [
    {
     "data": {
      "text/plain": [
       "array([[-7.64561612e+01, -4.70585977e+02],\n",
       "       [-7.57575709e+01, -4.70382052e+02],\n",
       "       [-7.46870318e+01, -4.70267907e+02],\n",
       "       [-7.77721680e+01, -4.70393597e+02],\n",
       "       [ 0.00000000e+00,  0.00000000e+00],\n",
       "       [ 1.45408388e+00, -4.30155860e+00],\n",
       "       [-4.98507831e-01, -2.32258565e+00],\n",
       "       [ 2.20540161e+00, -3.94122041e+00],\n",
       "       [-8.59118685e-02, -3.27027988e+00],\n",
       "       [-7.60416375e-01, -3.32813527e+00]])"
      ]
     },
     "execution_count": 42,
     "metadata": {},
     "output_type": "execute_result"
    }
   ],
   "source": [
    "trans_14[115:125, :2, -1]"
   ]
  },
  {
   "cell_type": "code",
   "execution_count": 49,
   "id": "8aae5b69",
   "metadata": {},
   "outputs": [
    {
     "data": {
      "text/plain": [
       "0.0"
      ]
     },
     "execution_count": 49,
     "metadata": {},
     "output_type": "execute_result"
    }
   ],
   "source": [
    "sum(trans_14[119,:2, -1])"
   ]
  },
  {
   "cell_type": "code",
   "execution_count": 47,
   "id": "f3368720",
   "metadata": {},
   "outputs": [
    {
     "ename": "ValueError",
     "evalue": "The truth value of an array with more than one element is ambiguous. Use a.any() or a.all()",
     "output_type": "error",
     "traceback": [
      "\u001b[0;31m---------------------------------------------------------------------------\u001b[0m",
      "\u001b[0;31mValueError\u001b[0m                                Traceback (most recent call last)",
      "\u001b[0;32m<ipython-input-47-db3a513fa893>\u001b[0m in \u001b[0;36m<module>\u001b[0;34m\u001b[0m\n\u001b[0;32m----> 1\u001b[0;31m \u001b[0;32mif\u001b[0m \u001b[0mtrans_14\u001b[0m\u001b[0;34m[\u001b[0m\u001b[0;36m119\u001b[0m\u001b[0;34m,\u001b[0m\u001b[0;34m:\u001b[0m\u001b[0;36m2\u001b[0m\u001b[0;34m,\u001b[0m \u001b[0;34m-\u001b[0m\u001b[0;36m1\u001b[0m\u001b[0;34m]\u001b[0m \u001b[0;34m==\u001b[0m \u001b[0;34m[\u001b[0m\u001b[0;36m0\u001b[0m\u001b[0;34m,\u001b[0m\u001b[0;36m0\u001b[0m\u001b[0;34m]\u001b[0m\u001b[0;34m:\u001b[0m\u001b[0;34m\u001b[0m\u001b[0;34m\u001b[0m\u001b[0m\n\u001b[0m\u001b[1;32m      2\u001b[0m     \u001b[0mprint\u001b[0m\u001b[0;34m(\u001b[0m\u001b[0;32mTrue\u001b[0m\u001b[0;34m)\u001b[0m\u001b[0;34m\u001b[0m\u001b[0;34m\u001b[0m\u001b[0m\n",
      "\u001b[0;31mValueError\u001b[0m: The truth value of an array with more than one element is ambiguous. Use a.any() or a.all()"
     ]
    }
   ],
   "source": [
    "if trans_14[119,:2, -1] == [0,0]:\n",
    "    print(True)"
   ]
  },
  {
   "cell_type": "code",
   "execution_count": 69,
   "id": "ea64894d",
   "metadata": {},
   "outputs": [
    {
     "name": "stdout",
     "output_type": "stream",
     "text": [
      "0\n",
      "119\n",
      "238\n",
      "357\n",
      "476\n",
      "595\n",
      "714\n",
      "833\n",
      "952\n",
      "1071\n"
     ]
    }
   ],
   "source": [
    "i_list = []\n",
    "for i in range(len(trans)):\n",
    "    if sum(trans[i,:2, -1]) == 0:\n",
    "        print(i)\n",
    "        i_list.append(i)\n",
    "edit = np.delete(trans, i_list, 0)"
   ]
  },
  {
   "cell_type": "code",
   "execution_count": 71,
   "id": "eeea36ad",
   "metadata": {},
   "outputs": [
    {
     "data": {
      "text/plain": [
       "1180"
      ]
     },
     "execution_count": 71,
     "metadata": {},
     "output_type": "execute_result"
    }
   ],
   "source": [
    "len(edit)"
   ]
  },
  {
   "cell_type": "code",
   "execution_count": 72,
   "id": "657378c6",
   "metadata": {},
   "outputs": [],
   "source": [
    "np.save(f'/home/nathan/data/kraken/ras/{expt}/{pos}/gfp_transform_tensor_16.npy', edit)"
   ]
  },
  {
   "cell_type": "code",
   "execution_count": 57,
   "id": "7712b557",
   "metadata": {},
   "outputs": [
    {
     "data": {
      "text/plain": [
       "1190"
      ]
     },
     "execution_count": 57,
     "metadata": {},
     "output_type": "execute_result"
    }
   ],
   "source": [
    "len(trans)"
   ]
  },
  {
   "cell_type": "code",
   "execution_count": 59,
   "id": "419272ff",
   "metadata": {},
   "outputs": [],
   "source": [
    "import numpy as np"
   ]
  },
  {
   "cell_type": "code",
   "execution_count": 65,
   "id": "e076d36e",
   "metadata": {},
   "outputs": [
    {
     "data": {
      "text/plain": [
       "slice(119, None, None)"
      ]
     },
     "execution_count": 65,
     "metadata": {},
     "output_type": "execute_result"
    }
   ],
   "source": [
    "np.s_[119::]"
   ]
  },
  {
   "cell_type": "code",
   "execution_count": 68,
   "id": "5c6f3e3e",
   "metadata": {},
   "outputs": [
    {
     "data": {
      "text/plain": [
       "1189"
      ]
     },
     "execution_count": 68,
     "metadata": {},
     "output_type": "execute_result"
    }
   ],
   "source": [
    "len(np.delete(trans, [119], 0))"
   ]
  },
  {
   "cell_type": "markdown",
   "id": "9cc54637",
   "metadata": {},
   "source": [
    "# Load images"
   ]
  },
  {
   "cell_type": "code",
   "execution_count": null,
   "id": "5206859a",
   "metadata": {
    "scrolled": true
   },
   "outputs": [],
   "source": [
    "# define experiment ID and select a position\n",
    "expt = 'ND0010'\n",
    "pos = 'Pos0'\n",
    "# point to where the data is\n",
    "root_dir = '/home/nathan/data/kraken/ras'\n",
    "image_path = f'{root_dir}/{expt}/{pos}/{pos}_images'\n",
    "transform_path = f'{root_dir}/{expt}/{pos}/gfp_transform_tensor.npy'\n",
    "tracks_path = f'{root_dir}/{expt}/{pos}/tracks.h5'\n",
    "# lazily load images\n",
    "images = DaskOctopusLiteLoader(image_path, \n",
    "                               transforms = transform_path,\n",
    "                               crop = (1200,1600),\n",
    "                               remove_background = False)\n",
    "images.channels"
   ]
  },
  {
   "cell_type": "code",
   "execution_count": null,
   "id": "6921a651",
   "metadata": {},
   "outputs": [],
   "source": [
    "gfp = images['gfp']\n",
    "rfp = images['rfp']\n",
    "irfp = images['irfp']\n",
    "masks = images['mask']"
   ]
  },
  {
   "cell_type": "code",
   "execution_count": null,
   "id": "a1858262",
   "metadata": {},
   "outputs": [],
   "source": [
    "import numpy as np\n",
    "for i in rfp[1109:1113]:\n",
    "    print(np.mean(i.compute()))"
   ]
  },
  {
   "cell_type": "markdown",
   "id": "5c17659d",
   "metadata": {},
   "source": [
    "### Add tracks"
   ]
  },
  {
   "cell_type": "code",
   "execution_count": null,
   "id": "568a2f65",
   "metadata": {},
   "outputs": [],
   "source": [
    "import btrack\n",
    "from btrack.utils import tracks_to_napari"
   ]
  },
  {
   "cell_type": "markdown",
   "id": "bc41789f",
   "metadata": {},
   "source": [
    "#### iRFP tracks"
   ]
  },
  {
   "cell_type": "code",
   "execution_count": null,
   "id": "0612ea14",
   "metadata": {
    "scrolled": true
   },
   "outputs": [],
   "source": [
    "with btrack.dataio.HDF5FileHandler(tracks_path, \n",
    "                                   'r', obj_type='obj_type_1'\n",
    "                                  ) as h:\n",
    "    irfp_tracks = h.tracks"
   ]
  },
  {
   "cell_type": "code",
   "execution_count": null,
   "id": "2b98d28c",
   "metadata": {},
   "outputs": [],
   "source": [
    "irfp_tracks, irfp_properties, irfp_graph = tracks_to_napari(irfp_tracks, ndim = 2)"
   ]
  },
  {
   "cell_type": "markdown",
   "id": "4b0d99aa",
   "metadata": {},
   "source": [
    "#### RFP tracks"
   ]
  },
  {
   "cell_type": "code",
   "execution_count": null,
   "id": "8be591f3",
   "metadata": {
    "scrolled": true
   },
   "outputs": [],
   "source": [
    "with btrack.dataio.HDF5FileHandler(tracks_path, \n",
    "                                   'r', obj_type='obj_type_2'\n",
    "                                  ) as h:\n",
    "    rfp_tracks = h.tracks"
   ]
  },
  {
   "cell_type": "code",
   "execution_count": null,
   "id": "43a9ba3c",
   "metadata": {},
   "outputs": [],
   "source": [
    "rfp_tracks, rfp_properties, rfp_graph = tracks_to_napari(rfp_tracks, ndim = 2)"
   ]
  },
  {
   "cell_type": "markdown",
   "id": "603b486b",
   "metadata": {},
   "source": [
    "# Launch viewer"
   ]
  },
  {
   "cell_type": "code",
   "execution_count": null,
   "id": "8ffa3640",
   "metadata": {},
   "outputs": [],
   "source": [
    "viewer = napari.Viewer()\n",
    "viewer.add_image(gfp, name=\"gfp\", \n",
    "                 contrast_limits=[0,255],\n",
    "                 blending = 'additive', colormap = 'green')#, is_pyramid=False)\n",
    "viewer.add_image(rfp, name=\"rfp\", \n",
    "                 contrast_limits=[0,55], \n",
    "                 blending = 'additive', colormap = 'magenta')#, is_pyramid=False)\n",
    "viewer.add_image(irfp, name=\"irfp\", \n",
    "                 contrast_limits=[0,255], \n",
    "                 blending = 'additive', colormap = 'cyan')#\n",
    "viewer.add_image(masks, name = 'masks',\n",
    "                contrast_limits=[0,255],\n",
    "               blending = 'additive',)\n",
    "viewer.add_tracks(irfp_tracks)\n",
    "viewer.add_tracks(rfp_tracks)"
   ]
  }
 ],
 "metadata": {
  "kernelspec": {
   "display_name": "CellX",
   "language": "python",
   "name": "cellx"
  },
  "language_info": {
   "codemirror_mode": {
    "name": "ipython",
    "version": 3
   },
   "file_extension": ".py",
   "mimetype": "text/x-python",
   "name": "python",
   "nbconvert_exporter": "python",
   "pygments_lexer": "ipython3",
   "version": "3.9.7"
  }
 },
 "nbformat": 4,
 "nbformat_minor": 5
}
