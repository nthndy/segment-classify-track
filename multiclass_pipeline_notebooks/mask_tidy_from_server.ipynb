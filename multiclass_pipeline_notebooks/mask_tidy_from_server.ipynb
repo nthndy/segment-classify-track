{
 "cells": [
  {
   "cell_type": "markdown",
   "id": "8463c989",
   "metadata": {},
   "source": [
    "# Mask tidier from server\n",
    "\n",
    "This notebook performs same mask post-processing but pulls masks already segmented and saved on server and then tidies them and saves them locally. "
   ]
  },
  {
   "cell_type": "code",
   "execution_count": 39,
   "id": "e55f0530",
   "metadata": {},
   "outputs": [],
   "source": [
    "import glob, os\n",
    "import numpy as np\n",
    "from skimage.io import imread, imsave\n",
    "from skimage.morphology import remove_small_objects, remove_small_holes\n",
    "from skimage.measure import label, regionprops\n",
    "from tqdm.auto import tqdm\n",
    "from natsort import natsorted"
   ]
  },
  {
   "cell_type": "markdown",
   "id": "86fc7a17",
   "metadata": {},
   "source": [
    "Just doing ND0025 for now"
   ]
  },
  {
   "cell_type": "code",
   "execution_count": 19,
   "id": "2d15ef1c",
   "metadata": {},
   "outputs": [],
   "source": [
    "files = glob.glob('/run/user/1000/gvfs/smb-share:server=lowe-sn00.biochem.ucl.ac.uk,share=lowegrp/Data/Nathan/kraken/ras/preprocessed/ND0025/Pos*/Pos*_images/*channel099*')"
   ]
  },
  {
   "cell_type": "code",
   "execution_count": 20,
   "id": "dda63795",
   "metadata": {},
   "outputs": [
    {
     "data": {
      "text/plain": [
       "11839"
      ]
     },
     "execution_count": 20,
     "metadata": {},
     "output_type": "execute_result"
    }
   ],
   "source": [
    "len(files)"
   ]
  },
  {
   "cell_type": "code",
   "execution_count": 52,
   "id": "0d4e7543",
   "metadata": {},
   "outputs": [
    {
     "data": {
      "application/vnd.jupyter.widget-view+json": {
       "model_id": "e9a8537503124024ad4f7c3102ae426d",
       "version_major": 2,
       "version_minor": 0
      },
      "text/plain": [
       "  0%|          | 0/11839 [00:00<?, ?it/s]"
      ]
     },
     "metadata": {},
     "output_type": "display_data"
    }
   ],
   "source": [
    "for fn in tqdm(natsorted(files)):\n",
    "    mask = imread(fn)\n",
    "    mask_orig = mask\n",
    "    gfp_mask = mask == 1\n",
    "    rfp_mask = mask == 2\n",
    "    \n",
    "    rfp_mask = remove_small_objects(rfp_mask, min_size=150).astype(np.uint8)*2\n",
    "    gfp_mask = label(remove_small_objects(remove_small_holes(gfp_mask), min_size=150))\n",
    "\n",
    "    for i in range(1, np.amax(gfp_mask)+1):\n",
    "        #DOEESNT- already eroded ## needs erosion step to stop merging of labels\n",
    "        segment = gfp_mask == i\n",
    "        seg_props = regionprops(label(segment))[0]\n",
    "        if 3000 <= seg_props.area or seg_props.eccentricity > 0.95 or seg_props.area < (0.9*seg_props.filled_area):\n",
    "            #segment = binary_erosion(segment)\n",
    "            gfp_mask[segment] = 3\n",
    "        else:\n",
    "            #segment = binary_erosion(segment)\n",
    "            gfp_mask[segment] = 1\n",
    "    \n",
    "    mask = gfp_mask.astype(np.uint8) + rfp_mask.astype(np.uint8)\n",
    "    \n",
    "    imsave(fn, mask.astype(np.uint8), check_contrast=False)\n",
    "    "
   ]
  },
  {
   "cell_type": "markdown",
   "id": "18aa8d88",
   "metadata": {},
   "source": [
    "# Once the above has finished then copy whole folder across to local drive\n",
    "\n",
    "If it fails then can do if 3 in mask to find already processed images"
   ]
  },
  {
   "cell_type": "markdown",
   "id": "81992e4c",
   "metadata": {},
   "source": [
    "## Realised I need to copy everything across because I haven't filtered out local blanks"
   ]
  },
  {
   "cell_type": "code",
   "execution_count": 21,
   "id": "2faeaf69",
   "metadata": {},
   "outputs": [],
   "source": [
    "### first copy transformation matrices across\n",
    "trans_files = glob.glob('/run/user/1000/gvfs/smb-share:server=lowe-sn00.biochem.ucl.ac.uk,share=lowegrp/Data/Nathan/kraken/ras/preprocessed/ND0025/Pos*/*.npy')"
   ]
  },
  {
   "cell_type": "code",
   "execution_count": 24,
   "id": "fcdc9a0b",
   "metadata": {},
   "outputs": [],
   "source": [
    "server_path = '/run/user/1000/gvfs/smb-share:server=lowe-sn00.biochem.ucl.ac.uk,share=lowegrp/Data/Nathan/kraken/ras/preprocessed/'\n",
    "local_path = '/home/nathan/data/kraken/ras/'"
   ]
  },
  {
   "cell_type": "code",
   "execution_count": 25,
   "id": "ec7b7e8c",
   "metadata": {},
   "outputs": [
    {
     "data": {
      "text/plain": [
       "'/home/nathan/data/kraken/ras/ND0025/Pos7/transform_tensor.npy'"
      ]
     },
     "execution_count": 25,
     "metadata": {},
     "output_type": "execute_result"
    }
   ],
   "source": [
    "fn.replace(server_path, local_path)"
   ]
  },
  {
   "cell_type": "code",
   "execution_count": 22,
   "id": "c4377122",
   "metadata": {},
   "outputs": [
    {
     "data": {
      "text/plain": [
       "['/run/user/1000/gvfs/smb-share:server=lowe-sn00.biochem.ucl.ac.uk,share=lowegrp/Data/Nathan/kraken/ras/preprocessed/ND0025/Pos7/transform_tensor.npy',\n",
       " '/run/user/1000/gvfs/smb-share:server=lowe-sn00.biochem.ucl.ac.uk,share=lowegrp/Data/Nathan/kraken/ras/preprocessed/ND0025/Pos5/transform_tensor.npy',\n",
       " '/run/user/1000/gvfs/smb-share:server=lowe-sn00.biochem.ucl.ac.uk,share=lowegrp/Data/Nathan/kraken/ras/preprocessed/ND0025/Pos12/transform_tensor.npy',\n",
       " '/run/user/1000/gvfs/smb-share:server=lowe-sn00.biochem.ucl.ac.uk,share=lowegrp/Data/Nathan/kraken/ras/preprocessed/ND0025/Pos4/transform_tensor.npy',\n",
       " '/run/user/1000/gvfs/smb-share:server=lowe-sn00.biochem.ucl.ac.uk,share=lowegrp/Data/Nathan/kraken/ras/preprocessed/ND0025/Pos13/transform_tensor.npy',\n",
       " '/run/user/1000/gvfs/smb-share:server=lowe-sn00.biochem.ucl.ac.uk,share=lowegrp/Data/Nathan/kraken/ras/preprocessed/ND0025/Pos11/transform_tensor.npy',\n",
       " '/run/user/1000/gvfs/smb-share:server=lowe-sn00.biochem.ucl.ac.uk,share=lowegrp/Data/Nathan/kraken/ras/preprocessed/ND0025/Pos10/transform_tensor.npy',\n",
       " '/run/user/1000/gvfs/smb-share:server=lowe-sn00.biochem.ucl.ac.uk,share=lowegrp/Data/Nathan/kraken/ras/preprocessed/ND0025/Pos3/transform_tensor.npy',\n",
       " '/run/user/1000/gvfs/smb-share:server=lowe-sn00.biochem.ucl.ac.uk,share=lowegrp/Data/Nathan/kraken/ras/preprocessed/ND0025/Pos6/transform_tensor.npy',\n",
       " '/run/user/1000/gvfs/smb-share:server=lowe-sn00.biochem.ucl.ac.uk,share=lowegrp/Data/Nathan/kraken/ras/preprocessed/ND0025/Pos9/transform_tensor.npy']"
      ]
     },
     "execution_count": 22,
     "metadata": {},
     "output_type": "execute_result"
    }
   ],
   "source": [
    "for fn in trans_files:\n",
    "    fn = fn.replace(server_path, local_path)"
   ]
  }
 ],
 "metadata": {
  "kernelspec": {
   "display_name": "CellX",
   "language": "python",
   "name": "cellx"
  },
  "language_info": {
   "codemirror_mode": {
    "name": "ipython",
    "version": 3
   },
   "file_extension": ".py",
   "mimetype": "text/x-python",
   "name": "python",
   "nbconvert_exporter": "python",
   "pygments_lexer": "ipython3",
   "version": "3.9.7"
  }
 },
 "nbformat": 4,
 "nbformat_minor": 5
}
