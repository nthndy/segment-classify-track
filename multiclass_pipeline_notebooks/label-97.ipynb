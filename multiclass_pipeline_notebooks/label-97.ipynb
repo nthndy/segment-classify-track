{
 "cells": [
  {
   "cell_type": "markdown",
   "id": "a18649de",
   "metadata": {},
   "source": [
    "# Complete pre-analysis cell labelling pipeline\n",
    "\n",
    "1. Alignment\n",
    "2. Segmentation\n",
    "3. Object localisation\n",
    "4. Tracking\n"
   ]
  },
  {
   "cell_type": "code",
   "execution_count": 1,
   "id": "cca1b454",
   "metadata": {},
   "outputs": [
    {
     "name": "stdout",
     "output_type": "stream",
     "text": [
      "Found model '2D_versatile_fluo' for 'StarDist2D'.\n",
      "Loading network weights from 'weights_best.h5'.\n",
      "Loading thresholds from 'thresholds.json'.\n",
      "Using default values: prob_thresh=0.479071, nms_thresh=0.3.\n"
     ]
    }
   ],
   "source": [
    "import os\n",
    "import glob\n",
    "import enum\n",
    "import re\n",
    "import numpy as np\n",
    "import btrack\n",
    "import pandas as pd\n",
    "from pystackreg import StackReg\n",
    "from skimage.io import imsave, imread\n",
    "from tqdm.auto import tqdm\n",
    "from octopuslite import DaskOctopusLiteLoader\n",
    "from skimage import transform as tf\n",
    "from skimage.transform import resize ### tidy up these dependencies\n",
    "from stardist.models import StarDist2D \n",
    "from stardist.plot import render_label\n",
    "from csbdeep.utils import normalize\n",
    "from scipy import ndimage as nd\n",
    "from scipy.special import softmax\n",
    "from cellx import load_model\n",
    "from cellx.tools.image import InfinitePaddedImage\n",
    "from skimage.measure import label, regionprops\n",
    "from skimage.morphology import binary_erosion, remove_small_objects\n",
    "from natsort import natsorted\n",
    "\n",
    "seg_model = StarDist2D.from_pretrained('2D_versatile_fluo')\n",
    "\n",
    "def image_generator(files, crop = None):\n",
    "    \n",
    "    if crop is None:\n",
    "        for filename in files:\n",
    "            img = imread(filename)\n",
    "            yield img\n",
    "    else:\n",
    "        for filename in files:\n",
    "            img = imread(filename)\n",
    "            img = crop_image(img, crop)\n",
    "            yield img\n",
    "\n",
    "def normalize_channels(x):\n",
    "\n",
    "    for dim in range(x.shape[-1]):\n",
    "        x[..., dim] = normalize(x[..., dim])\n",
    "        \n",
    "    return x\n",
    "\n",
    "def normalize(x):\n",
    "\n",
    "    xf = x.astype(np.float32)\n",
    "    mx = np.mean(xf)\n",
    "    sd = np.max([np.std(xf), 1./np.prod(x.shape)])\n",
    "\n",
    "    return (xf - mx) / sd\n",
    "\n",
    "def classify_objects(image,  gfp, rfp, objects, obj_type):\n",
    "    \n",
    "    # define stages of cell cycle to classify (dependent on model type)\n",
    "    LABELS = [\"interphase\", \"prometaphase\", \"metaphase\", \"anaphase\", \"apoptosis\"]\n",
    "    \n",
    "    # iterate over frames\n",
    "    for n in tqdm(range(image.shape[0])):\n",
    "        \n",
    "        # only select objects if in frame\n",
    "        _objects = [o for o in objects if o.t == n]\n",
    "        \n",
    "        # empty placeholder arrays\n",
    "        crops = []\n",
    "        to_update = []\n",
    "        \n",
    "        # select h2b channel to aid in classification\n",
    "        fp = gfp if obj_type == 1 else rfp\n",
    "        \n",
    "        # create stack by computing each frame of dask array input\n",
    "        frame = np.stack(\n",
    "            [image[n, ...].compute(), fp[n, ...].compute()], \n",
    "            axis=-1,) \n",
    "        \n",
    "        # create padded image for network\n",
    "        vol = InfinitePaddedImage(frame, mode = 'reflect')\n",
    "        \n",
    "        # iterate over objects \n",
    "        for obj in _objects:\n",
    "            \n",
    "            # create coords for image slice\n",
    "            xs = slice(int(obj.x-40), int(obj.x+40), 1)\n",
    "            ys = slice(int(obj.y-40), int(obj.y+40), 1)\n",
    "            \n",
    "            # crop image\n",
    "            crop = vol[ys, xs, :]\n",
    "            crop = resize(crop, (64, 64), preserve_range=True).astype(np.float32)\n",
    "            \n",
    "            # normalise image\n",
    "            if crop.shape == (64 ,64, 2):\n",
    "                crops.append(normalize_channels(crop))\n",
    "                to_update.append(obj)\n",
    "            else:\n",
    "                print(crop.shape)\n",
    "                \n",
    "        if not crops:\n",
    "            continue\n",
    "            \n",
    "        # use classifcation model to predict\n",
    "        pred = model.predict(np.stack(crops, axis=0))\n",
    "        \n",
    "        # check correct number of predictions\n",
    "        assert pred.shape[0] == len(_objects)\n",
    "        \n",
    "        # assign labels to objects\n",
    "        for idx in range(pred.shape[0]):\n",
    "            obj = _objects[idx]\n",
    "            \n",
    "            # assigning details of prediction\n",
    "            pred_label = np.argmax(pred[idx, ...])\n",
    "            pred_softmax = softmax(pred[idx, ...])\n",
    "            logits = {f\"prob_{k}\": pred_softmax[ki] for ki, k in enumerate(LABELS)}\n",
    "            \n",
    "            # write out\n",
    "            obj.label = pred_label\n",
    "            obj.properties = logits\n",
    "\n",
    "    return objects"
   ]
  },
  {
   "cell_type": "markdown",
   "id": "c293c3cb",
   "metadata": {},
   "source": [
    "# Experiment info"
   ]
  },
  {
   "cell_type": "code",
   "execution_count": 2,
   "id": "aa7aedc2",
   "metadata": {},
   "outputs": [],
   "source": [
    "expt_info = pd.read_csv('/home/nathan/data/kraken/ras/experiment_info_april22.csv')\n",
    "del expt_info['Unnamed: 0']"
   ]
  },
  {
   "cell_type": "markdown",
   "id": "cf62abb2",
   "metadata": {},
   "source": [
    "##### Just 97.5:2.5 expts"
   ]
  },
  {
   "cell_type": "code",
   "execution_count": 3,
   "id": "90c8e97a",
   "metadata": {
    "scrolled": true
   },
   "outputs": [
    {
     "data": {
      "text/html": [
       "<div>\n",
       "<style scoped>\n",
       "    .dataframe tbody tr th:only-of-type {\n",
       "        vertical-align: middle;\n",
       "    }\n",
       "\n",
       "    .dataframe tbody tr th {\n",
       "        vertical-align: top;\n",
       "    }\n",
       "\n",
       "    .dataframe thead th {\n",
       "        text-align: right;\n",
       "    }\n",
       "</style>\n",
       "<table border=\"1\" class=\"dataframe\">\n",
       "  <thead>\n",
       "    <tr style=\"text-align: right;\">\n",
       "      <th></th>\n",
       "      <th>Unnamed: 0</th>\n",
       "      <th>Experiments</th>\n",
       "      <th>Positions</th>\n",
       "      <th>Condition</th>\n",
       "      <th>Position notes</th>\n",
       "      <th>Experiment Notes</th>\n",
       "      <th>Usable?</th>\n",
       "    </tr>\n",
       "  </thead>\n",
       "  <tbody>\n",
       "    <tr>\n",
       "      <th>294</th>\n",
       "      <td>294</td>\n",
       "      <td>ND0022</td>\n",
       "      <td>Pos9</td>\n",
       "      <td>97.5:2.5 wt:ras+</td>\n",
       "      <td>induced 3x seed dens</td>\n",
       "      <td>NaN</td>\n",
       "      <td>True</td>\n",
       "    </tr>\n",
       "    <tr>\n",
       "      <th>295</th>\n",
       "      <td>295</td>\n",
       "      <td>ND0022</td>\n",
       "      <td>Pos10</td>\n",
       "      <td>97.5:2.5 wt:ras+</td>\n",
       "      <td>induced 3x seed dens</td>\n",
       "      <td>NaN</td>\n",
       "      <td>True</td>\n",
       "    </tr>\n",
       "    <tr>\n",
       "      <th>296</th>\n",
       "      <td>296</td>\n",
       "      <td>ND0022</td>\n",
       "      <td>Pos11</td>\n",
       "      <td>97.5:2.5 wt:ras+</td>\n",
       "      <td>induced 3x seed dens</td>\n",
       "      <td>NaN</td>\n",
       "      <td>True</td>\n",
       "    </tr>\n",
       "    <tr>\n",
       "      <th>297</th>\n",
       "      <td>297</td>\n",
       "      <td>ND0022</td>\n",
       "      <td>Pos12</td>\n",
       "      <td>97.5:2.5 wt:ras+</td>\n",
       "      <td>induced 3x seed dens</td>\n",
       "      <td>NaN</td>\n",
       "      <td>True</td>\n",
       "    </tr>\n",
       "    <tr>\n",
       "      <th>298</th>\n",
       "      <td>298</td>\n",
       "      <td>ND0022</td>\n",
       "      <td>Pos13</td>\n",
       "      <td>97.5:2.5 wt:ras+</td>\n",
       "      <td>induced 3x seed dens</td>\n",
       "      <td>.</td>\n",
       "      <td>True</td>\n",
       "    </tr>\n",
       "    <tr>\n",
       "      <th>322</th>\n",
       "      <td>322</td>\n",
       "      <td>ND0024</td>\n",
       "      <td>Pos9</td>\n",
       "      <td>97.5:2.5 wt:ras+</td>\n",
       "      <td>induced 3x seed dens</td>\n",
       "      <td>NaN</td>\n",
       "      <td>True</td>\n",
       "    </tr>\n",
       "    <tr>\n",
       "      <th>323</th>\n",
       "      <td>323</td>\n",
       "      <td>ND0024</td>\n",
       "      <td>Pos10</td>\n",
       "      <td>97.5:2.5 wt:ras+</td>\n",
       "      <td>induced 3x seed dens</td>\n",
       "      <td>NaN</td>\n",
       "      <td>True</td>\n",
       "    </tr>\n",
       "    <tr>\n",
       "      <th>324</th>\n",
       "      <td>324</td>\n",
       "      <td>ND0024</td>\n",
       "      <td>Pos11</td>\n",
       "      <td>97.5:2.5 wt:ras+</td>\n",
       "      <td>induced 3x seed dens</td>\n",
       "      <td>NaN</td>\n",
       "      <td>True</td>\n",
       "    </tr>\n",
       "    <tr>\n",
       "      <th>325</th>\n",
       "      <td>325</td>\n",
       "      <td>ND0024</td>\n",
       "      <td>Pos12</td>\n",
       "      <td>97.5:2.5 wt:ras+</td>\n",
       "      <td>induced 3x seed dens</td>\n",
       "      <td>NaN</td>\n",
       "      <td>True</td>\n",
       "    </tr>\n",
       "    <tr>\n",
       "      <th>326</th>\n",
       "      <td>326</td>\n",
       "      <td>ND0024</td>\n",
       "      <td>Pos13</td>\n",
       "      <td>97.5:2.5 wt:ras+</td>\n",
       "      <td>induced 3x seed dens</td>\n",
       "      <td>.</td>\n",
       "      <td>True</td>\n",
       "    </tr>\n",
       "    <tr>\n",
       "      <th>336</th>\n",
       "      <td>336</td>\n",
       "      <td>ND0025</td>\n",
       "      <td>Pos9</td>\n",
       "      <td>97.5:2.5 wt:ras+</td>\n",
       "      <td>induced 3x seed dens</td>\n",
       "      <td>NaN</td>\n",
       "      <td>True</td>\n",
       "    </tr>\n",
       "    <tr>\n",
       "      <th>337</th>\n",
       "      <td>337</td>\n",
       "      <td>ND0025</td>\n",
       "      <td>Pos10</td>\n",
       "      <td>97.5:2.5 wt:ras+</td>\n",
       "      <td>induced 3x seed dens</td>\n",
       "      <td>NaN</td>\n",
       "      <td>True</td>\n",
       "    </tr>\n",
       "    <tr>\n",
       "      <th>338</th>\n",
       "      <td>338</td>\n",
       "      <td>ND0025</td>\n",
       "      <td>Pos11</td>\n",
       "      <td>97.5:2.5 wt:ras+</td>\n",
       "      <td>induced 3x seed dens</td>\n",
       "      <td>NaN</td>\n",
       "      <td>True</td>\n",
       "    </tr>\n",
       "    <tr>\n",
       "      <th>339</th>\n",
       "      <td>339</td>\n",
       "      <td>ND0025</td>\n",
       "      <td>Pos12</td>\n",
       "      <td>97.5:2.5 wt:ras+</td>\n",
       "      <td>induced 3x seed dens</td>\n",
       "      <td>NaN</td>\n",
       "      <td>True</td>\n",
       "    </tr>\n",
       "    <tr>\n",
       "      <th>340</th>\n",
       "      <td>340</td>\n",
       "      <td>ND0025</td>\n",
       "      <td>Pos13</td>\n",
       "      <td>97.5:2.5 wt:ras+</td>\n",
       "      <td>induced 3x seed dens</td>\n",
       "      <td>.</td>\n",
       "      <td>True</td>\n",
       "    </tr>\n",
       "  </tbody>\n",
       "</table>\n",
       "</div>"
      ],
      "text/plain": [
       "     Unnamed: 0 Experiments Positions         Condition        Position notes  \\\n",
       "294         294      ND0022      Pos9  97.5:2.5 wt:ras+  induced 3x seed dens   \n",
       "295         295      ND0022     Pos10  97.5:2.5 wt:ras+  induced 3x seed dens   \n",
       "296         296      ND0022     Pos11  97.5:2.5 wt:ras+  induced 3x seed dens   \n",
       "297         297      ND0022     Pos12  97.5:2.5 wt:ras+  induced 3x seed dens   \n",
       "298         298      ND0022     Pos13  97.5:2.5 wt:ras+  induced 3x seed dens   \n",
       "322         322      ND0024      Pos9  97.5:2.5 wt:ras+  induced 3x seed dens   \n",
       "323         323      ND0024     Pos10  97.5:2.5 wt:ras+  induced 3x seed dens   \n",
       "324         324      ND0024     Pos11  97.5:2.5 wt:ras+  induced 3x seed dens   \n",
       "325         325      ND0024     Pos12  97.5:2.5 wt:ras+  induced 3x seed dens   \n",
       "326         326      ND0024     Pos13  97.5:2.5 wt:ras+  induced 3x seed dens   \n",
       "336         336      ND0025      Pos9  97.5:2.5 wt:ras+  induced 3x seed dens   \n",
       "337         337      ND0025     Pos10  97.5:2.5 wt:ras+  induced 3x seed dens   \n",
       "338         338      ND0025     Pos11  97.5:2.5 wt:ras+  induced 3x seed dens   \n",
       "339         339      ND0025     Pos12  97.5:2.5 wt:ras+  induced 3x seed dens   \n",
       "340         340      ND0025     Pos13  97.5:2.5 wt:ras+  induced 3x seed dens   \n",
       "\n",
       "    Experiment Notes Usable?  \n",
       "294              NaN    True  \n",
       "295              NaN    True  \n",
       "296              NaN    True  \n",
       "297              NaN    True  \n",
       "298                .    True  \n",
       "322              NaN    True  \n",
       "323              NaN    True  \n",
       "324              NaN    True  \n",
       "325              NaN    True  \n",
       "326                .    True  \n",
       "336              NaN    True  \n",
       "337              NaN    True  \n",
       "338              NaN    True  \n",
       "339              NaN    True  \n",
       "340                .    True  "
      ]
     },
     "execution_count": 3,
     "metadata": {},
     "output_type": "execute_result"
    }
   ],
   "source": [
    "expt_pos_list = expt_info.loc[(expt_info['Usable?'] == True) & \n",
    "                              (expt_info['Condition'] == \"97.5:2.5 wt:ras+\" ) &\n",
    "                              (expt_info['Experiments'] != \"ND0023\" ) ]\n",
    "expt_pos_list\n",
    "# expt_pos_list = expt_info.loc[(expt_info['Useable (in radial analysis)'] == True) & \n",
    "#                               (expt_info['CELL TYPE'] == \"97.5:2.5 wt:ras+\" ) &\n",
    "#                               (expt_info['EXP n˚'] != \"ND0023\" ) ][['EXP n˚','POSITION', 'CELL TYPE', 'FRAMES n˚']]\n",
    "# expt_pos_list"
   ]
  },
  {
   "cell_type": "code",
   "execution_count": 4,
   "id": "864d44d9",
   "metadata": {},
   "outputs": [],
   "source": [
    "# ### sort by fewer frames first\n",
    "# expt_pos_list = expt_pos_list.sort_values(by=['FRAMES n˚'])\n",
    "# expt_pos_list"
   ]
  },
  {
   "cell_type": "code",
   "execution_count": 5,
   "id": "a2625540",
   "metadata": {
    "scrolled": true
   },
   "outputs": [
    {
     "data": {
      "application/vnd.jupyter.widget-view+json": {
       "model_id": "b721f961f3c548fba9ea363d4cc20fdd",
       "version_major": 2,
       "version_minor": 0
      },
      "text/plain": [
       "Progress of experiment annotation:   0%|          | 0/15 [00:00<?, ?it/s]"
      ]
     },
     "metadata": {},
     "output_type": "display_data"
    },
    {
     "name": "stdout",
     "output_type": "stream",
     "text": [
      "Starting alignment for ND0022/Pos9\n",
      "Starting segmentation for ND0022 Pos9\n"
     ]
    },
    {
     "data": {
      "application/vnd.jupyter.widget-view+json": {
       "model_id": "751a7a4d90044c56a0fddae4da7322f5",
       "version_major": 2,
       "version_minor": 0
      },
      "text/plain": [
       "  0%|          | 0/1477 [00:00<?, ?it/s]"
      ]
     },
     "metadata": {},
     "output_type": "display_data"
    },
    {
     "name": "stdout",
     "output_type": "stream",
     "text": [
      "Segmentation complete for ND0022 Pos9\n",
      "Starting object localisation for ND0022 Pos9\n",
      "Starting alignment for ND0022/Pos10\n",
      "Starting segmentation for ND0022 Pos10\n"
     ]
    },
    {
     "data": {
      "application/vnd.jupyter.widget-view+json": {
       "model_id": "9ffa7c3a4dcb42719015cb609daf81a8",
       "version_major": 2,
       "version_minor": 0
      },
      "text/plain": [
       "  0%|          | 0/1477 [00:00<?, ?it/s]"
      ]
     },
     "metadata": {},
     "output_type": "display_data"
    },
    {
     "name": "stdout",
     "output_type": "stream",
     "text": [
      "Segmentation complete for ND0022 Pos10\n",
      "Starting object localisation for ND0022 Pos10\n",
      "Starting alignment for ND0022/Pos11\n",
      "Starting segmentation for ND0022 Pos11\n"
     ]
    },
    {
     "data": {
      "application/vnd.jupyter.widget-view+json": {
       "model_id": "9d4558237ba5468d9025e8327a4ce2ae",
       "version_major": 2,
       "version_minor": 0
      },
      "text/plain": [
       "  0%|          | 0/1477 [00:00<?, ?it/s]"
      ]
     },
     "metadata": {},
     "output_type": "display_data"
    },
    {
     "name": "stdout",
     "output_type": "stream",
     "text": [
      "Segmentation complete for ND0022 Pos11\n",
      "Starting object localisation for ND0022 Pos11\n",
      "Starting alignment for ND0022/Pos12\n",
      "Starting segmentation for ND0022 Pos12\n"
     ]
    },
    {
     "data": {
      "application/vnd.jupyter.widget-view+json": {
       "model_id": "f54da3d5c1b34588b1a27b28dbb13cd8",
       "version_major": 2,
       "version_minor": 0
      },
      "text/plain": [
       "  0%|          | 0/1098 [00:00<?, ?it/s]"
      ]
     },
     "metadata": {},
     "output_type": "display_data"
    },
    {
     "name": "stdout",
     "output_type": "stream",
     "text": [
      "Segmentation complete for ND0022 Pos12\n",
      "Starting object localisation for ND0022 Pos12\n",
      "Using cropping: (1200, 1600)\n"
     ]
    },
    {
     "name": "stderr",
     "output_type": "stream",
     "text": [
      "[INFO][2022/04/14 09:47:30 PM] Localizing objects from segmentation...\n",
      "[INFO][2022/04/14 09:47:30 PM] Found intensity_image data\n",
      "[INFO][2022/04/14 09:47:30 PM] Calculating weighted centroids using intensity_image\n",
      "[INFO][2022/04/14 10:00:56 PM] Objects are of type: <class 'dict'>\n",
      "[INFO][2022/04/14 10:00:59 PM] ...Found 315435 objects in 1098 frames.\n",
      "[INFO][2022/04/14 10:00:59 PM] Localizing objects from segmentation...\n",
      "[INFO][2022/04/14 10:00:59 PM] Found intensity_image data\n",
      "[INFO][2022/04/14 10:00:59 PM] Calculating weighted centroids using intensity_image\n",
      "[INFO][2022/04/14 10:12:54 PM] Objects are of type: <class 'dict'>\n",
      "[INFO][2022/04/14 10:12:54 PM] ...Found 9017 objects in 1098 frames.\n"
     ]
    },
    {
     "name": "stdout",
     "output_type": "stream",
     "text": [
      "Classifying objects in ND0022 Pos12\n"
     ]
    },
    {
     "data": {
      "application/vnd.jupyter.widget-view+json": {
       "model_id": "96137699d90c4b18943b951a01b8b51a",
       "version_major": 2,
       "version_minor": 0
      },
      "text/plain": [
       "  0%|          | 0/1098 [00:00<?, ?it/s]"
      ]
     },
     "metadata": {},
     "output_type": "display_data"
    },
    {
     "data": {
      "application/vnd.jupyter.widget-view+json": {
       "model_id": "9f051b78e7014886a8f88b76313b32d6",
       "version_major": 2,
       "version_minor": 0
      },
      "text/plain": [
       "  0%|          | 0/1098 [00:00<?, ?it/s]"
      ]
     },
     "metadata": {},
     "output_type": "display_data"
    },
    {
     "name": "stderr",
     "output_type": "stream",
     "text": [
      "[INFO][2022/04/14 11:13:24 PM] Opening HDF file: /home/nathan/data/kraken/ras/ND0022/Pos12/objects_type_1.h5...\n",
      "[INFO][2022/04/14 11:13:28 PM] Writing objects/obj_type_1\n",
      "[INFO][2022/04/14 11:13:28 PM] Writing labels/obj_type_1\n",
      "[INFO][2022/04/14 11:13:28 PM] Loading objects/obj_type_1 (315435, 5) (315435 filtered: None)\n",
      "[INFO][2022/04/14 11:13:32 PM] Writing properties/obj_type_1/area (315435,)\n",
      "[INFO][2022/04/14 11:13:32 PM] Writing properties/obj_type_1/eccentricity (315435,)\n",
      "[INFO][2022/04/14 11:13:32 PM] Writing properties/obj_type_1/mean_intensity (315435,)\n",
      "[INFO][2022/04/14 11:13:32 PM] Writing properties/obj_type_1/class id (315435,)\n",
      "[INFO][2022/04/14 11:13:32 PM] Writing properties/obj_type_1/prob_interphase (315435,)\n",
      "[INFO][2022/04/14 11:13:32 PM] Writing properties/obj_type_1/prob_prometaphase (315435,)\n",
      "[INFO][2022/04/14 11:13:32 PM] Writing properties/obj_type_1/prob_metaphase (315435,)\n",
      "[INFO][2022/04/14 11:13:33 PM] Writing properties/obj_type_1/prob_anaphase (315435,)\n",
      "[INFO][2022/04/14 11:13:33 PM] Writing properties/obj_type_1/prob_apoptosis (315435,)\n",
      "[INFO][2022/04/14 11:13:33 PM] Closing HDF file: /home/nathan/data/kraken/ras/ND0022/Pos12/objects_type_1.h5\n",
      "[INFO][2022/04/14 11:13:33 PM] Opening HDF file: /home/nathan/data/kraken/ras/ND0022/Pos12/objects_type_2.h5...\n",
      "[INFO][2022/04/14 11:13:33 PM] Writing objects/obj_type_2\n",
      "[INFO][2022/04/14 11:13:33 PM] Writing labels/obj_type_2\n",
      "[INFO][2022/04/14 11:13:33 PM] Loading objects/obj_type_2 (9017, 5) (9017 filtered: None)\n",
      "[INFO][2022/04/14 11:13:33 PM] Writing properties/obj_type_2/area (9017,)\n",
      "[INFO][2022/04/14 11:13:33 PM] Writing properties/obj_type_2/eccentricity (9017,)\n",
      "[INFO][2022/04/14 11:13:33 PM] Writing properties/obj_type_2/mean_intensity (9017,)\n",
      "[INFO][2022/04/14 11:13:33 PM] Writing properties/obj_type_2/class id (9017,)\n",
      "[INFO][2022/04/14 11:13:33 PM] Writing properties/obj_type_2/prob_interphase (9017,)\n",
      "[INFO][2022/04/14 11:13:33 PM] Writing properties/obj_type_2/prob_prometaphase (9017,)\n",
      "[INFO][2022/04/14 11:13:33 PM] Writing properties/obj_type_2/prob_metaphase (9017,)\n",
      "[INFO][2022/04/14 11:13:33 PM] Writing properties/obj_type_2/prob_anaphase (9017,)\n",
      "[INFO][2022/04/14 11:13:33 PM] Writing properties/obj_type_2/prob_apoptosis (9017,)\n",
      "[INFO][2022/04/14 11:13:33 PM] Closing HDF file: /home/nathan/data/kraken/ras/ND0022/Pos12/objects_type_2.h5\n",
      "[INFO][2022/04/14 11:13:33 PM] Opening HDF file: /home/nathan/data/kraken/ras/ND0022/Pos12/objects.h5...\n",
      "[INFO][2022/04/14 11:13:36 PM] Writing objects/obj_type_1\n",
      "[INFO][2022/04/14 11:13:36 PM] Writing labels/obj_type_1\n",
      "[INFO][2022/04/14 11:13:36 PM] Loading objects/obj_type_1 (315435, 5) (315435 filtered: None)\n",
      "[INFO][2022/04/14 11:13:40 PM] Writing properties/obj_type_1/area (315435,)\n",
      "[INFO][2022/04/14 11:13:40 PM] Writing properties/obj_type_1/eccentricity (315435,)\n",
      "[INFO][2022/04/14 11:13:40 PM] Writing properties/obj_type_1/mean_intensity (315435,)\n",
      "[INFO][2022/04/14 11:13:40 PM] Writing properties/obj_type_1/class id (315435,)\n",
      "[INFO][2022/04/14 11:13:40 PM] Writing properties/obj_type_1/prob_interphase (315435,)\n",
      "[INFO][2022/04/14 11:13:40 PM] Writing properties/obj_type_1/prob_prometaphase (315435,)\n",
      "[INFO][2022/04/14 11:13:41 PM] Writing properties/obj_type_1/prob_metaphase (315435,)\n",
      "[INFO][2022/04/14 11:13:41 PM] Writing properties/obj_type_1/prob_anaphase (315435,)\n",
      "[INFO][2022/04/14 11:13:41 PM] Writing properties/obj_type_1/prob_apoptosis (315435,)\n",
      "[INFO][2022/04/14 11:13:41 PM] Closing HDF file: /home/nathan/data/kraken/ras/ND0022/Pos12/objects.h5\n",
      "[INFO][2022/04/14 11:13:41 PM] Opening HDF file: /home/nathan/data/kraken/ras/ND0022/Pos12/objects.h5...\n",
      "[INFO][2022/04/14 11:13:41 PM] Writing objects/obj_type_2\n",
      "[INFO][2022/04/14 11:13:41 PM] Writing labels/obj_type_2\n",
      "[INFO][2022/04/14 11:13:41 PM] Loading objects/obj_type_2 (9017, 5) (9017 filtered: None)\n",
      "[INFO][2022/04/14 11:13:41 PM] Writing properties/obj_type_2/area (9017,)\n",
      "[INFO][2022/04/14 11:13:41 PM] Writing properties/obj_type_2/eccentricity (9017,)\n",
      "[INFO][2022/04/14 11:13:41 PM] Writing properties/obj_type_2/mean_intensity (9017,)\n",
      "[INFO][2022/04/14 11:13:41 PM] Writing properties/obj_type_2/class id (9017,)\n",
      "[INFO][2022/04/14 11:13:41 PM] Writing properties/obj_type_2/prob_interphase (9017,)\n",
      "[INFO][2022/04/14 11:13:41 PM] Writing properties/obj_type_2/prob_prometaphase (9017,)\n",
      "[INFO][2022/04/14 11:13:41 PM] Writing properties/obj_type_2/prob_metaphase (9017,)\n",
      "[INFO][2022/04/14 11:13:41 PM] Writing properties/obj_type_2/prob_anaphase (9017,)\n",
      "[INFO][2022/04/14 11:13:41 PM] Writing properties/obj_type_2/prob_apoptosis (9017,)\n",
      "[INFO][2022/04/14 11:13:41 PM] Closing HDF file: /home/nathan/data/kraken/ras/ND0022/Pos12/objects.h5\n"
     ]
    },
    {
     "name": "stdout",
     "output_type": "stream",
     "text": [
      "Object localisation complete for ND0022 Pos12\n",
      "Starting tracking for ND0022 Pos12\n"
     ]
    },
    {
     "name": "stderr",
     "output_type": "stream",
     "text": [
      "[INFO][2022/04/14 11:13:42 PM] Loaded btrack: /home/nathan/analysis/BayesianTracker/btrack/libs/libtracker.so\n",
      "[INFO][2022/04/14 11:13:42 PM] btrack (v0.4.3) library imported\n",
      "[INFO][2022/04/14 11:13:42 PM] Setting max XYZ search radius to: 100\n",
      "[INFO][2022/04/14 11:13:42 PM] Starting BayesianTracker session\n",
      "[INFO][2022/04/14 11:13:42 PM] Loading configuration file: ../models/MDCK_config_wildtype.json\n",
      "[INFO][2022/04/14 11:13:42 PM] Loading motion model: MDCK_motion\n",
      "[INFO][2022/04/14 11:13:42 PM] Setting max XYZ search radius to: 40\n",
      "[INFO][2022/04/14 11:13:42 PM] Objects are of type: <class 'list'>\n",
      "[INFO][2022/04/14 11:13:42 PM] Set volume to ((0, 1600), (0, 1200), (-100000.0, 100000.0))\n",
      "[INFO][2022/04/14 11:13:42 PM] Starting tracking... \n",
      "[INFO][2022/04/14 11:13:42 PM] Tracking objects in frames 0 to 99 (of 1098)...\n",
      "[INFO][2022/04/14 11:13:43 PM]  - Timing (Bayesian updates: 7.47ms, Linking: 0.62ms)\n",
      "[INFO][2022/04/14 11:13:43 PM]  - Probabilities (Link: 1.00000, Lost: 0.98413)\n",
      "[INFO][2022/04/14 11:13:43 PM]  - Stats (Active: 198, Lost: 1431, Conflicts resolved: 416)\n",
      "[INFO][2022/04/14 11:13:43 PM] Tracking objects in frames 100 to 199 (of 1098)...\n",
      "[INFO][2022/04/14 11:13:44 PM]  - Timing (Bayesian updates: 10.47ms, Linking: 0.76ms)\n",
      "[INFO][2022/04/14 11:13:44 PM]  - Probabilities (Link: 1.00000, Lost: 1.00000)\n",
      "[INFO][2022/04/14 11:13:44 PM]  - Stats (Active: 228, Lost: 3102, Conflicts resolved: 848)\n",
      "[INFO][2022/04/14 11:13:44 PM] Tracking objects in frames 200 to 299 (of 1098)...\n",
      "[INFO][2022/04/14 11:13:46 PM]  - Timing (Bayesian updates: 18.18ms, Linking: 0.93ms)\n",
      "[INFO][2022/04/14 11:13:46 PM]  - Probabilities (Link: 1.00000, Lost: 1.00000)\n",
      "[INFO][2022/04/14 11:13:46 PM]  - Stats (Active: 251, Lost: 4801, Conflicts resolved: 1313)\n",
      "[INFO][2022/04/14 11:13:46 PM] Tracking objects in frames 300 to 399 (of 1098)...\n",
      "[INFO][2022/04/14 11:13:48 PM]  - Timing (Bayesian updates: 18.20ms, Linking: 1.02ms)\n",
      "[INFO][2022/04/14 11:13:48 PM]  - Probabilities (Link: 1.00000, Lost: 1.00000)\n",
      "[INFO][2022/04/14 11:13:48 PM]  - Stats (Active: 285, Lost: 7101, Conflicts resolved: 1986)\n",
      "[INFO][2022/04/14 11:13:48 PM] Tracking objects in frames 400 to 499 (of 1098)...\n",
      "[INFO][2022/04/14 11:13:51 PM]  - Timing (Bayesian updates: 23.33ms, Linking: 1.21ms)\n",
      "[INFO][2022/04/14 11:13:51 PM]  - Probabilities (Link: 1.00000, Lost: 0.91355)\n",
      "[INFO][2022/04/14 11:13:51 PM]  - Stats (Active: 309, Lost: 9551, Conflicts resolved: 2737)\n",
      "[INFO][2022/04/14 11:13:51 PM] Tracking objects in frames 500 to 599 (of 1098)...\n",
      "[INFO][2022/04/14 11:13:54 PM]  - Timing (Bayesian updates: 29.39ms, Linking: 1.38ms)\n",
      "[INFO][2022/04/14 11:13:54 PM]  - Probabilities (Link: 1.00000, Lost: 0.94571)\n",
      "[INFO][2022/04/14 11:13:54 PM]  - Stats (Active: 338, Lost: 11985, Conflicts resolved: 3476)\n",
      "[INFO][2022/04/14 11:13:54 PM] Tracking objects in frames 600 to 699 (of 1098)...\n",
      "[INFO][2022/04/14 11:13:58 PM]  - Timing (Bayesian updates: 30.84ms, Linking: 1.34ms)\n",
      "[INFO][2022/04/14 11:13:58 PM]  - Probabilities (Link: 1.00000, Lost: 0.55677)\n",
      "[INFO][2022/04/14 11:13:58 PM]  - Stats (Active: 346, Lost: 14001, Conflicts resolved: 4144)\n",
      "[INFO][2022/04/14 11:13:58 PM] Tracking objects in frames 700 to 799 (of 1098)...\n",
      "[INFO][2022/04/14 11:14:02 PM]  - Timing (Bayesian updates: 76.06ms, Linking: 3.13ms)\n",
      "[INFO][2022/04/14 11:14:02 PM]  - Probabilities (Link: 1.00000, Lost: 1.00000)\n",
      "[INFO][2022/04/14 11:14:02 PM]  - Stats (Active: 371, Lost: 15525, Conflicts resolved: 4729)\n",
      "[INFO][2022/04/14 11:14:02 PM] Tracking objects in frames 800 to 899 (of 1098)...\n",
      "[INFO][2022/04/14 11:14:07 PM]  - Timing (Bayesian updates: 38.72ms, Linking: 2.00ms)\n",
      "[INFO][2022/04/14 11:14:07 PM]  - Probabilities (Link: 1.00000, Lost: 0.98493)\n",
      "[INFO][2022/04/14 11:14:07 PM]  - Stats (Active: 373, Lost: 17048, Conflicts resolved: 5294)\n",
      "[INFO][2022/04/14 11:14:07 PM] Tracking objects in frames 900 to 999 (of 1098)...\n",
      "[INFO][2022/04/14 11:14:12 PM]  - Timing (Bayesian updates: 45.15ms, Linking: 1.80ms)\n",
      "[INFO][2022/04/14 11:14:12 PM]  - Probabilities (Link: 1.00000, Lost: 0.86164)\n",
      "[INFO][2022/04/14 11:14:12 PM]  - Stats (Active: 397, Lost: 18517, Conflicts resolved: 5811)\n",
      "[INFO][2022/04/14 11:14:12 PM] Tracking objects in frames 1000 to 1098 (of 1098)...\n",
      "[INFO][2022/04/14 11:14:17 PM]  - Timing (Bayesian updates: 46.58ms, Linking: 1.95ms)\n",
      "[INFO][2022/04/14 11:14:17 PM]  - Probabilities (Link: 1.00000, Lost: 1.00000)\n",
      "[INFO][2022/04/14 11:14:17 PM] SUCCESS.\n",
      "[INFO][2022/04/14 11:14:17 PM]  - Found 4323 tracks in 1098 frames (in 0.0s)\n",
      "[INFO][2022/04/14 11:14:17 PM]  - Inserted 4418 dummy objects to fill tracking gaps\n",
      "[INFO][2022/04/14 11:14:17 PM] Loading hypothesis model: MDCK_hypothesis_wildtype\n",
      "[INFO][2022/04/14 11:14:17 PM] Calculating hypotheses (relax: True)...\n",
      "[INFO][2022/04/14 11:14:17 PM] Setting up constraints matrix for global optimisation...\n",
      "[INFO][2022/04/14 11:14:17 PM] Optimizing...\n",
      "[INFO][2022/04/14 11:14:17 PM] Optimization complete. (Solution: optimal)\n",
      "[INFO][2022/04/14 11:14:18 PM]  - Fates.FALSE_POSITIVE: 4323 (of 4323)\n",
      "[INFO][2022/04/14 11:14:18 PM]  - TOTAL: 4323 hypotheses\n",
      "[INFO][2022/04/14 11:14:18 PM] Completed optimization with 4323 tracks\n",
      "[INFO][2022/04/14 11:14:18 PM] Opening HDF file: /home/nathan/data/kraken/ras/ND0022/Pos12/tracks.h5...\n",
      "[INFO][2022/04/14 11:14:21 PM] Writing objects/obj_type_1\n",
      "[INFO][2022/04/14 11:14:21 PM] Writing labels/obj_type_1\n",
      "[INFO][2022/04/14 11:14:21 PM] Loading objects/obj_type_1 (315435, 5) (315435 filtered: None)\n",
      "[INFO][2022/04/14 11:14:25 PM] Writing properties/obj_type_1/area (315435,)\n",
      "[INFO][2022/04/14 11:14:25 PM] Writing properties/obj_type_1/eccentricity (315435,)\n",
      "[INFO][2022/04/14 11:14:25 PM] Writing properties/obj_type_1/mean_intensity (315435,)\n",
      "[INFO][2022/04/14 11:14:25 PM] Writing properties/obj_type_1/class id (315435,)\n",
      "[INFO][2022/04/14 11:14:25 PM] Writing properties/obj_type_1/prob_interphase (315435,)\n",
      "[INFO][2022/04/14 11:14:25 PM] Writing properties/obj_type_1/prob_prometaphase (315435,)\n",
      "[INFO][2022/04/14 11:14:25 PM] Writing properties/obj_type_1/prob_metaphase (315435,)\n",
      "[INFO][2022/04/14 11:14:25 PM] Writing properties/obj_type_1/prob_anaphase (315435,)\n",
      "[INFO][2022/04/14 11:14:25 PM] Writing properties/obj_type_1/prob_apoptosis (315435,)\n",
      "[INFO][2022/04/14 11:14:26 PM] Writing tracks/obj_type_1\n",
      "[INFO][2022/04/14 11:14:26 PM] Writing dummies/obj_type_1\n",
      "[INFO][2022/04/14 11:14:26 PM] Writing LBEP/obj_type_1\n",
      "[INFO][2022/04/14 11:14:26 PM] Writing fates/obj_type_1\n",
      "[INFO][2022/04/14 11:14:26 PM] Closing HDF file: /home/nathan/data/kraken/ras/ND0022/Pos12/tracks.h5\n",
      "[INFO][2022/04/14 11:14:26 PM] Ending BayesianTracker session\n",
      "[INFO][2022/04/14 11:14:27 PM] Loaded btrack: /home/nathan/analysis/BayesianTracker/btrack/libs/libtracker.so\n",
      "[INFO][2022/04/14 11:14:27 PM] btrack (v0.4.3) library imported\n",
      "[INFO][2022/04/14 11:14:27 PM] Setting max XYZ search radius to: 100\n",
      "[INFO][2022/04/14 11:14:27 PM] Starting BayesianTracker session\n",
      "[INFO][2022/04/14 11:14:27 PM] Loading configuration file: ../models/MDCK_config_scribble_sparse.json\n",
      "[INFO][2022/04/14 11:14:27 PM] Loading motion model: MDCK_motion\n",
      "[INFO][2022/04/14 11:14:27 PM] Setting max XYZ search radius to: 40\n",
      "[INFO][2022/04/14 11:14:27 PM] Objects are of type: <class 'list'>\n",
      "[INFO][2022/04/14 11:14:27 PM] Set volume to ((0, 1600), (0, 1200), (-100000.0, 100000.0))\n",
      "[INFO][2022/04/14 11:14:27 PM] Starting tracking... \n",
      "[INFO][2022/04/14 11:14:27 PM] Tracking objects in frames 0 to 99 (of 1098)...\n",
      "[INFO][2022/04/14 11:14:27 PM]  - Timing (Bayesian updates: 0.01ms, Linking: 0.02ms)\n",
      "[INFO][2022/04/14 11:14:27 PM]  - Probabilities (Link: 1.00000, Lost: 0.96916)\n",
      "[INFO][2022/04/14 11:14:27 PM]  - Stats (Active: 8, Lost: 387, Conflicts resolved: 6)\n",
      "[INFO][2022/04/14 11:14:27 PM] Tracking objects in frames 100 to 199 (of 1098)...\n",
      "[INFO][2022/04/14 11:14:27 PM]  - Timing (Bayesian updates: 0.01ms, Linking: 0.01ms)\n",
      "[INFO][2022/04/14 11:14:27 PM]  - Probabilities (Link: 0.77034, Lost: 1.00000)\n",
      "[INFO][2022/04/14 11:14:27 PM]  - Stats (Active: 6, Lost: 782, Conflicts resolved: 12)\n",
      "[INFO][2022/04/14 11:14:27 PM] Tracking objects in frames 200 to 299 (of 1098)...\n",
      "[INFO][2022/04/14 11:14:27 PM]  - Timing (Bayesian updates: 0.01ms, Linking: 0.02ms)\n",
      "[INFO][2022/04/14 11:14:27 PM]  - Probabilities (Link: 1.00000, Lost: 1.00000)\n"
     ]
    },
    {
     "name": "stderr",
     "output_type": "stream",
     "text": [
      "[INFO][2022/04/14 11:14:27 PM]  - Stats (Active: 8, Lost: 1198, Conflicts resolved: 13)\n",
      "[INFO][2022/04/14 11:14:27 PM] Tracking objects in frames 300 to 399 (of 1098)...\n",
      "[INFO][2022/04/14 11:14:27 PM]  - Timing (Bayesian updates: 0.03ms, Linking: 0.03ms)\n",
      "[INFO][2022/04/14 11:14:27 PM]  - Probabilities (Link: 1.00000, Lost: 1.00000)\n",
      "[INFO][2022/04/14 11:14:27 PM]  - Stats (Active: 13, Lost: 1796, Conflicts resolved: 20)\n",
      "[INFO][2022/04/14 11:14:27 PM] Tracking objects in frames 400 to 499 (of 1098)...\n",
      "[INFO][2022/04/14 11:14:27 PM]  - Timing (Bayesian updates: 0.02ms, Linking: 0.03ms)\n",
      "[INFO][2022/04/14 11:14:27 PM]  - Probabilities (Link: 1.00000, Lost: 1.00000)\n",
      "[INFO][2022/04/14 11:14:27 PM]  - Stats (Active: 11, Lost: 2452, Conflicts resolved: 31)\n",
      "[INFO][2022/04/14 11:14:27 PM] Tracking objects in frames 500 to 599 (of 1098)...\n",
      "[INFO][2022/04/14 11:14:27 PM]  - Timing (Bayesian updates: 0.02ms, Linking: 0.02ms)\n",
      "[INFO][2022/04/14 11:14:27 PM]  - Probabilities (Link: 1.00000, Lost: 0.99104)\n",
      "[INFO][2022/04/14 11:14:27 PM]  - Stats (Active: 12, Lost: 3162, Conflicts resolved: 39)\n",
      "[INFO][2022/04/14 11:14:27 PM] Tracking objects in frames 600 to 699 (of 1098)...\n",
      "[INFO][2022/04/14 11:14:27 PM]  - Timing (Bayesian updates: 0.02ms, Linking: 0.02ms)\n",
      "[INFO][2022/04/14 11:14:27 PM]  - Probabilities (Link: 1.00000, Lost: 1.00000)\n",
      "[INFO][2022/04/14 11:14:27 PM]  - Stats (Active: 10, Lost: 3700, Conflicts resolved: 51)\n",
      "[INFO][2022/04/14 11:14:27 PM] Tracking objects in frames 700 to 799 (of 1098)...\n",
      "[INFO][2022/04/14 11:14:27 PM]  - Timing (Bayesian updates: 0.03ms, Linking: 0.03ms)\n",
      "[INFO][2022/04/14 11:14:27 PM]  - Probabilities (Link: 1.00000, Lost: 1.00000)\n",
      "[INFO][2022/04/14 11:14:27 PM]  - Stats (Active: 16, Lost: 4326, Conflicts resolved: 105)\n",
      "[INFO][2022/04/14 11:14:27 PM] Tracking objects in frames 800 to 899 (of 1098)...\n",
      "[INFO][2022/04/14 11:14:27 PM]  - Timing (Bayesian updates: 0.02ms, Linking: 0.03ms)\n",
      "[INFO][2022/04/14 11:14:27 PM]  - Probabilities (Link: 1.00000, Lost: 0.81510)\n",
      "[INFO][2022/04/14 11:14:27 PM]  - Stats (Active: 12, Lost: 4852, Conflicts resolved: 139)\n",
      "[INFO][2022/04/14 11:14:27 PM] Tracking objects in frames 900 to 999 (of 1098)...\n",
      "[INFO][2022/04/14 11:14:27 PM]  - Timing (Bayesian updates: 0.03ms, Linking: 0.03ms)\n",
      "[INFO][2022/04/14 11:14:27 PM]  - Probabilities (Link: 1.00000, Lost: 1.00000)\n",
      "[INFO][2022/04/14 11:14:27 PM]  - Stats (Active: 17, Lost: 5460, Conflicts resolved: 175)\n",
      "[INFO][2022/04/14 11:14:27 PM] Tracking objects in frames 1000 to 1098 (of 1098)...\n",
      "[INFO][2022/04/14 11:14:27 PM]  - Timing (Bayesian updates: 0.04ms, Linking: 0.03ms)\n",
      "[INFO][2022/04/14 11:14:27 PM]  - Probabilities (Link: 1.00000, Lost: 1.00000)\n",
      "[INFO][2022/04/14 11:14:27 PM] SUCCESS.\n",
      "[INFO][2022/04/14 11:14:27 PM]  - Found 1026 tracks in 1098 frames (in 0.0s)\n",
      "[INFO][2022/04/14 11:14:27 PM]  - Inserted 303 dummy objects to fill tracking gaps\n",
      "[INFO][2022/04/14 11:14:27 PM] Loading hypothesis model: MDCK_hypothesis_scribble_sparse\n",
      "[INFO][2022/04/14 11:14:27 PM] Calculating hypotheses (relax: True)...\n",
      "[INFO][2022/04/14 11:14:27 PM] Setting up constraints matrix for global optimisation...\n",
      "[INFO][2022/04/14 11:14:27 PM] Optimizing...\n",
      "[INFO][2022/04/14 11:14:27 PM] Optimization complete. (Solution: optimal)\n",
      "[INFO][2022/04/14 11:14:27 PM]  - Fates.FALSE_POSITIVE: 1026 (of 1026)\n",
      "[INFO][2022/04/14 11:14:27 PM]  - TOTAL: 1026 hypotheses\n",
      "[INFO][2022/04/14 11:14:27 PM] Completed optimization with 1026 tracks\n",
      "[INFO][2022/04/14 11:14:27 PM] Opening HDF file: /home/nathan/data/kraken/ras/ND0022/Pos12/tracks.h5...\n",
      "[INFO][2022/04/14 11:14:27 PM] Writing objects/obj_type_2\n",
      "[INFO][2022/04/14 11:14:27 PM] Writing labels/obj_type_2\n",
      "[INFO][2022/04/14 11:14:27 PM] Loading objects/obj_type_2 (9017, 5) (9017 filtered: None)\n",
      "[INFO][2022/04/14 11:14:27 PM] Writing properties/obj_type_2/area (9017,)\n",
      "[INFO][2022/04/14 11:14:27 PM] Writing properties/obj_type_2/eccentricity (9017,)\n",
      "[INFO][2022/04/14 11:14:27 PM] Writing properties/obj_type_2/mean_intensity (9017,)\n",
      "[INFO][2022/04/14 11:14:27 PM] Writing properties/obj_type_2/class id (9017,)\n",
      "[INFO][2022/04/14 11:14:27 PM] Writing properties/obj_type_2/prob_interphase (9017,)\n",
      "[INFO][2022/04/14 11:14:27 PM] Writing properties/obj_type_2/prob_prometaphase (9017,)\n",
      "[INFO][2022/04/14 11:14:27 PM] Writing properties/obj_type_2/prob_metaphase (9017,)\n",
      "[INFO][2022/04/14 11:14:27 PM] Writing properties/obj_type_2/prob_anaphase (9017,)\n",
      "[INFO][2022/04/14 11:14:27 PM] Writing properties/obj_type_2/prob_apoptosis (9017,)\n",
      "[INFO][2022/04/14 11:14:27 PM] Writing tracks/obj_type_2\n",
      "[INFO][2022/04/14 11:14:27 PM] Writing dummies/obj_type_2\n",
      "[INFO][2022/04/14 11:14:27 PM] Writing LBEP/obj_type_2\n",
      "[INFO][2022/04/14 11:14:27 PM] Writing fates/obj_type_2\n",
      "[INFO][2022/04/14 11:14:27 PM] Closing HDF file: /home/nathan/data/kraken/ras/ND0022/Pos12/tracks.h5\n",
      "[INFO][2022/04/14 11:14:27 PM] Ending BayesianTracker session\n"
     ]
    },
    {
     "name": "stdout",
     "output_type": "stream",
     "text": [
      "Starting alignment for ND0022/Pos13\n",
      "Starting segmentation for ND0022 Pos13\n"
     ]
    },
    {
     "data": {
      "application/vnd.jupyter.widget-view+json": {
       "model_id": "920081f356114979bf2929858f8e8b85",
       "version_major": 2,
       "version_minor": 0
      },
      "text/plain": [
       "  0%|          | 0/1099 [00:00<?, ?it/s]"
      ]
     },
     "metadata": {},
     "output_type": "display_data"
    },
    {
     "name": "stdout",
     "output_type": "stream",
     "text": [
      "Segmentation complete for ND0022 Pos13\n",
      "Starting object localisation for ND0022 Pos13\n",
      "Using cropping: (1200, 1600)\n"
     ]
    },
    {
     "name": "stderr",
     "output_type": "stream",
     "text": [
      "[INFO][2022/04/14 11:14:30 PM] Localizing objects from segmentation...\n",
      "[INFO][2022/04/14 11:14:30 PM] Found intensity_image data\n",
      "[INFO][2022/04/14 11:14:30 PM] Calculating weighted centroids using intensity_image\n",
      "[INFO][2022/04/14 11:31:09 PM] Objects are of type: <class 'dict'>\n",
      "[INFO][2022/04/14 11:31:16 PM] ...Found 778305 objects in 1099 frames.\n",
      "[INFO][2022/04/14 11:31:16 PM] Localizing objects from segmentation...\n",
      "[INFO][2022/04/14 11:31:16 PM] Found intensity_image data\n",
      "[INFO][2022/04/14 11:31:16 PM] Calculating weighted centroids using intensity_image\n",
      "[INFO][2022/04/14 11:43:59 PM] Objects are of type: <class 'dict'>\n",
      "[INFO][2022/04/14 11:43:59 PM] ...Found 10739 objects in 1099 frames.\n"
     ]
    },
    {
     "name": "stdout",
     "output_type": "stream",
     "text": [
      "Classifying objects in ND0022 Pos13\n"
     ]
    },
    {
     "data": {
      "application/vnd.jupyter.widget-view+json": {
       "model_id": "e3f8745d284e4b899bd3a282db1bc6da",
       "version_major": 2,
       "version_minor": 0
      },
      "text/plain": [
       "  0%|          | 0/1099 [00:00<?, ?it/s]"
      ]
     },
     "metadata": {},
     "output_type": "display_data"
    },
    {
     "data": {
      "application/vnd.jupyter.widget-view+json": {
       "model_id": "f283a1b1a0084e479c75ae2a23743629",
       "version_major": 2,
       "version_minor": 0
      },
      "text/plain": [
       "  0%|          | 0/1099 [00:00<?, ?it/s]"
      ]
     },
     "metadata": {},
     "output_type": "display_data"
    },
    {
     "name": "stderr",
     "output_type": "stream",
     "text": [
      "[INFO][2022/04/15 01:17:18 AM] Opening HDF file: /home/nathan/data/kraken/ras/ND0022/Pos13/objects_type_1.h5...\n",
      "[INFO][2022/04/15 01:17:26 AM] Writing objects/obj_type_1\n",
      "[INFO][2022/04/15 01:17:26 AM] Writing labels/obj_type_1\n",
      "[INFO][2022/04/15 01:17:26 AM] Loading objects/obj_type_1 (778305, 5) (778305 filtered: None)\n",
      "[INFO][2022/04/15 01:17:37 AM] Writing properties/obj_type_1/area (778305,)\n",
      "[INFO][2022/04/15 01:17:37 AM] Writing properties/obj_type_1/eccentricity (778305,)\n",
      "[INFO][2022/04/15 01:17:37 AM] Writing properties/obj_type_1/mean_intensity (778305,)\n",
      "[INFO][2022/04/15 01:17:37 AM] Writing properties/obj_type_1/class id (778305,)\n",
      "[INFO][2022/04/15 01:17:37 AM] Writing properties/obj_type_1/prob_interphase (778305,)\n",
      "[INFO][2022/04/15 01:17:37 AM] Writing properties/obj_type_1/prob_prometaphase (778305,)\n",
      "[INFO][2022/04/15 01:17:38 AM] Writing properties/obj_type_1/prob_metaphase (778305,)\n",
      "[INFO][2022/04/15 01:17:38 AM] Writing properties/obj_type_1/prob_anaphase (778305,)\n",
      "[INFO][2022/04/15 01:17:38 AM] Writing properties/obj_type_1/prob_apoptosis (778305,)\n",
      "[INFO][2022/04/15 01:17:38 AM] Closing HDF file: /home/nathan/data/kraken/ras/ND0022/Pos13/objects_type_1.h5\n",
      "[INFO][2022/04/15 01:17:38 AM] Opening HDF file: /home/nathan/data/kraken/ras/ND0022/Pos13/objects_type_2.h5...\n",
      "[INFO][2022/04/15 01:17:38 AM] Writing objects/obj_type_2\n",
      "[INFO][2022/04/15 01:17:38 AM] Writing labels/obj_type_2\n",
      "[INFO][2022/04/15 01:17:38 AM] Loading objects/obj_type_2 (10739, 5) (10739 filtered: None)\n",
      "[INFO][2022/04/15 01:17:38 AM] Writing properties/obj_type_2/area (10739,)\n",
      "[INFO][2022/04/15 01:17:38 AM] Writing properties/obj_type_2/eccentricity (10739,)\n",
      "[INFO][2022/04/15 01:17:38 AM] Writing properties/obj_type_2/mean_intensity (10739,)\n",
      "[INFO][2022/04/15 01:17:38 AM] Writing properties/obj_type_2/class id (10739,)\n",
      "[INFO][2022/04/15 01:17:38 AM] Writing properties/obj_type_2/prob_interphase (10739,)\n",
      "[INFO][2022/04/15 01:17:38 AM] Writing properties/obj_type_2/prob_prometaphase (10739,)\n",
      "[INFO][2022/04/15 01:17:38 AM] Writing properties/obj_type_2/prob_metaphase (10739,)\n",
      "[INFO][2022/04/15 01:17:38 AM] Writing properties/obj_type_2/prob_anaphase (10739,)\n",
      "[INFO][2022/04/15 01:17:38 AM] Writing properties/obj_type_2/prob_apoptosis (10739,)\n",
      "[INFO][2022/04/15 01:17:38 AM] Closing HDF file: /home/nathan/data/kraken/ras/ND0022/Pos13/objects_type_2.h5\n",
      "[INFO][2022/04/15 01:17:38 AM] Opening HDF file: /home/nathan/data/kraken/ras/ND0022/Pos13/objects.h5...\n",
      "[INFO][2022/04/15 01:17:46 AM] Writing objects/obj_type_1\n",
      "[INFO][2022/04/15 01:17:46 AM] Writing labels/obj_type_1\n",
      "[INFO][2022/04/15 01:17:46 AM] Loading objects/obj_type_1 (778305, 5) (778305 filtered: None)\n",
      "[INFO][2022/04/15 01:17:56 AM] Writing properties/obj_type_1/area (778305,)\n",
      "[INFO][2022/04/15 01:17:57 AM] Writing properties/obj_type_1/eccentricity (778305,)\n",
      "[INFO][2022/04/15 01:17:57 AM] Writing properties/obj_type_1/mean_intensity (778305,)\n",
      "[INFO][2022/04/15 01:17:57 AM] Writing properties/obj_type_1/class id (778305,)\n",
      "[INFO][2022/04/15 01:17:57 AM] Writing properties/obj_type_1/prob_interphase (778305,)\n",
      "[INFO][2022/04/15 01:17:57 AM] Writing properties/obj_type_1/prob_prometaphase (778305,)\n",
      "[INFO][2022/04/15 01:17:57 AM] Writing properties/obj_type_1/prob_metaphase (778305,)\n",
      "[INFO][2022/04/15 01:17:57 AM] Writing properties/obj_type_1/prob_anaphase (778305,)\n",
      "[INFO][2022/04/15 01:17:57 AM] Writing properties/obj_type_1/prob_apoptosis (778305,)\n",
      "[INFO][2022/04/15 01:17:58 AM] Closing HDF file: /home/nathan/data/kraken/ras/ND0022/Pos13/objects.h5\n",
      "[INFO][2022/04/15 01:17:58 AM] Opening HDF file: /home/nathan/data/kraken/ras/ND0022/Pos13/objects.h5...\n",
      "[INFO][2022/04/15 01:17:58 AM] Writing objects/obj_type_2\n",
      "[INFO][2022/04/15 01:17:58 AM] Writing labels/obj_type_2\n",
      "[INFO][2022/04/15 01:17:58 AM] Loading objects/obj_type_2 (10739, 5) (10739 filtered: None)\n",
      "[INFO][2022/04/15 01:17:58 AM] Writing properties/obj_type_2/area (10739,)\n",
      "[INFO][2022/04/15 01:17:58 AM] Writing properties/obj_type_2/eccentricity (10739,)\n",
      "[INFO][2022/04/15 01:17:58 AM] Writing properties/obj_type_2/mean_intensity (10739,)\n",
      "[INFO][2022/04/15 01:17:58 AM] Writing properties/obj_type_2/class id (10739,)\n",
      "[INFO][2022/04/15 01:17:58 AM] Writing properties/obj_type_2/prob_interphase (10739,)\n",
      "[INFO][2022/04/15 01:17:58 AM] Writing properties/obj_type_2/prob_prometaphase (10739,)\n",
      "[INFO][2022/04/15 01:17:58 AM] Writing properties/obj_type_2/prob_metaphase (10739,)\n",
      "[INFO][2022/04/15 01:17:58 AM] Writing properties/obj_type_2/prob_anaphase (10739,)\n",
      "[INFO][2022/04/15 01:17:58 AM] Writing properties/obj_type_2/prob_apoptosis (10739,)\n",
      "[INFO][2022/04/15 01:17:58 AM] Closing HDF file: /home/nathan/data/kraken/ras/ND0022/Pos13/objects.h5\n"
     ]
    },
    {
     "name": "stdout",
     "output_type": "stream",
     "text": [
      "Object localisation complete for ND0022 Pos13\n",
      "Starting tracking for ND0022 Pos13\n"
     ]
    },
    {
     "name": "stderr",
     "output_type": "stream",
     "text": [
      "[INFO][2022/04/15 01:17:58 AM] Loaded btrack: /home/nathan/analysis/BayesianTracker/btrack/libs/libtracker.so\n",
      "[INFO][2022/04/15 01:17:58 AM] btrack (v0.4.3) library imported\n",
      "[INFO][2022/04/15 01:17:58 AM] Setting max XYZ search radius to: 100\n",
      "[INFO][2022/04/15 01:17:58 AM] Starting BayesianTracker session\n",
      "[INFO][2022/04/15 01:17:59 AM] Loading configuration file: ../models/MDCK_config_wildtype.json\n",
      "[INFO][2022/04/15 01:17:59 AM] Loading motion model: MDCK_motion\n",
      "[INFO][2022/04/15 01:17:59 AM] Setting max XYZ search radius to: 40\n",
      "[INFO][2022/04/15 01:17:59 AM] Objects are of type: <class 'list'>\n",
      "[INFO][2022/04/15 01:18:00 AM] Set volume to ((0, 1600), (0, 1200), (-100000.0, 100000.0))\n",
      "[INFO][2022/04/15 01:18:00 AM] Starting tracking... \n",
      "[INFO][2022/04/15 01:18:00 AM] Tracking objects in frames 0 to 99 (of 1099)...\n",
      "[INFO][2022/04/15 01:18:06 AM]  - Timing (Bayesian updates: 101.92ms, Linking: 1.82ms)\n",
      "[INFO][2022/04/15 01:18:06 AM]  - Probabilities (Link: 1.00000, Lost: 1.00000)\n",
      "[INFO][2022/04/15 01:18:06 AM]  - Stats (Active: 431, Lost: 1715, Conflicts resolved: 440)\n",
      "[INFO][2022/04/15 01:18:06 AM] Tracking objects in frames 100 to 199 (of 1099)...\n",
      "[INFO][2022/04/15 01:18:14 AM]  - Timing (Bayesian updates: 86.42ms, Linking: 2.35ms)\n",
      "[INFO][2022/04/15 01:18:14 AM]  - Probabilities (Link: 1.00000, Lost: 1.00000)\n",
      "[INFO][2022/04/15 01:18:14 AM]  - Stats (Active: 509, Lost: 4045, Conflicts resolved: 1106)\n",
      "[INFO][2022/04/15 01:18:14 AM] Tracking objects in frames 200 to 299 (of 1099)...\n",
      "[INFO][2022/04/15 01:18:27 AM]  - Timing (Bayesian updates: 112.80ms, Linking: 2.71ms)\n",
      "[INFO][2022/04/15 01:18:27 AM]  - Probabilities (Link: 1.00000, Lost: 1.00000)\n",
      "[INFO][2022/04/15 01:18:27 AM]  - Stats (Active: 570, Lost: 5877, Conflicts resolved: 1776)\n",
      "[INFO][2022/04/15 01:18:27 AM] Tracking objects in frames 300 to 399 (of 1099)...\n",
      "[INFO][2022/04/15 01:18:43 AM]  - Timing (Bayesian updates: 220.04ms, Linking: 3.61ms)\n",
      "[INFO][2022/04/15 01:18:43 AM]  - Probabilities (Link: 1.00000, Lost: 0.89820)\n",
      "[INFO][2022/04/15 01:18:43 AM]  - Stats (Active: 666, Lost: 7998, Conflicts resolved: 2565)\n",
      "[INFO][2022/04/15 01:18:43 AM] Tracking objects in frames 400 to 499 (of 1099)...\n",
      "[INFO][2022/04/15 01:19:08 AM]  - Timing (Bayesian updates: 296.57ms, Linking: 4.66ms)\n",
      "[INFO][2022/04/15 01:19:08 AM]  - Probabilities (Link: 1.00000, Lost: 1.00000)\n",
      "[INFO][2022/04/15 01:19:08 AM]  - Stats (Active: 759, Lost: 11071, Conflicts resolved: 3807)\n",
      "[INFO][2022/04/15 01:19:08 AM] Tracking objects in frames 500 to 599 (of 1099)...\n",
      "[INFO][2022/04/15 01:19:40 AM]  - Timing (Bayesian updates: 366.70ms, Linking: 7.83ms)\n",
      "[INFO][2022/04/15 01:19:40 AM]  - Probabilities (Link: 1.00000, Lost: 1.00000)\n",
      "[INFO][2022/04/15 01:19:40 AM]  - Stats (Active: 816, Lost: 14047, Conflicts resolved: 5009)\n",
      "[INFO][2022/04/15 01:19:40 AM] Tracking objects in frames 600 to 699 (of 1099)...\n",
      "[INFO][2022/04/15 01:20:20 AM]  - Timing (Bayesian updates: 360.77ms, Linking: 5.28ms)\n",
      "[INFO][2022/04/15 01:20:20 AM]  - Probabilities (Link: 1.00000, Lost: 1.00000)\n",
      "[INFO][2022/04/15 01:20:20 AM]  - Stats (Active: 881, Lost: 17087, Conflicts resolved: 6379)\n",
      "[INFO][2022/04/15 01:20:20 AM] Tracking objects in frames 700 to 799 (of 1099)...\n",
      "[INFO][2022/04/15 01:21:07 AM]  - Timing (Bayesian updates: 457.90ms, Linking: 5.48ms)\n",
      "[INFO][2022/04/15 01:21:07 AM]  - Probabilities (Link: 1.00000, Lost: 1.00000)\n",
      "[INFO][2022/04/15 01:21:07 AM]  - Stats (Active: 922, Lost: 21125, Conflicts resolved: 8214)\n",
      "[INFO][2022/04/15 01:21:07 AM] Tracking objects in frames 800 to 899 (of 1099)...\n",
      "[INFO][2022/04/15 01:21:58 AM]  - Timing (Bayesian updates: 439.11ms, Linking: 6.15ms)\n",
      "[INFO][2022/04/15 01:21:58 AM]  - Probabilities (Link: 1.00000, Lost: 1.00000)\n",
      "[INFO][2022/04/15 01:21:58 AM]  - Stats (Active: 955, Lost: 25035, Conflicts resolved: 10191)\n",
      "[INFO][2022/04/15 01:21:58 AM] Tracking objects in frames 900 to 999 (of 1099)...\n",
      "[INFO][2022/04/15 01:22:54 AM]  - Timing (Bayesian updates: 519.46ms, Linking: 6.33ms)\n",
      "[INFO][2022/04/15 01:22:54 AM]  - Probabilities (Link: 1.00000, Lost: 0.55865)\n",
      "[INFO][2022/04/15 01:22:54 AM]  - Stats (Active: 1003, Lost: 30042, Conflicts resolved: 12798)\n",
      "[INFO][2022/04/15 01:22:54 AM] Tracking objects in frames 1000 to 1099 (of 1099)...\n",
      "[INFO][2022/04/15 01:23:50 AM]  - Timing (Bayesian updates: 504.01ms, Linking: 6.91ms)\n",
      "[INFO][2022/04/15 01:23:50 AM]  - Probabilities (Link: 1.00000, Lost: 0.51824)\n",
      "[INFO][2022/04/15 01:23:50 AM] SUCCESS.\n",
      "[INFO][2022/04/15 01:23:50 AM]  - Found 8623 tracks in 1099 frames (in 0.0s)\n",
      "[INFO][2022/04/15 01:23:51 AM]  - Inserted 9076 dummy objects to fill tracking gaps\n",
      "[INFO][2022/04/15 01:23:51 AM] Loading hypothesis model: MDCK_hypothesis_wildtype\n",
      "[INFO][2022/04/15 01:23:51 AM] Calculating hypotheses (relax: True)...\n",
      "[INFO][2022/04/15 01:23:51 AM] Setting up constraints matrix for global optimisation...\n",
      "[INFO][2022/04/15 01:23:51 AM] Optimizing...\n",
      "[INFO][2022/04/15 01:23:51 AM] Optimization complete. (Solution: optimal)\n",
      "[INFO][2022/04/15 01:23:51 AM]  - Fates.FALSE_POSITIVE: 8623 (of 8623)\n",
      "[INFO][2022/04/15 01:23:51 AM]  - TOTAL: 8623 hypotheses\n",
      "[INFO][2022/04/15 01:23:51 AM] Completed optimization with 8623 tracks\n",
      "[INFO][2022/04/15 01:23:51 AM] Opening HDF file: /home/nathan/data/kraken/ras/ND0022/Pos13/tracks.h5...\n",
      "[INFO][2022/04/15 01:23:59 AM] Writing objects/obj_type_1\n",
      "[INFO][2022/04/15 01:23:59 AM] Writing labels/obj_type_1\n",
      "[INFO][2022/04/15 01:23:59 AM] Loading objects/obj_type_1 (778305, 5) (778305 filtered: None)\n",
      "[INFO][2022/04/15 01:24:11 AM] Writing properties/obj_type_1/area (778305,)\n",
      "[INFO][2022/04/15 01:24:11 AM] Writing properties/obj_type_1/eccentricity (778305,)\n",
      "[INFO][2022/04/15 01:24:11 AM] Writing properties/obj_type_1/mean_intensity (778305,)\n",
      "[INFO][2022/04/15 01:24:11 AM] Writing properties/obj_type_1/class id (778305,)\n",
      "[INFO][2022/04/15 01:24:11 AM] Writing properties/obj_type_1/prob_interphase (778305,)\n",
      "[INFO][2022/04/15 01:24:11 AM] Writing properties/obj_type_1/prob_prometaphase (778305,)\n",
      "[INFO][2022/04/15 01:24:11 AM] Writing properties/obj_type_1/prob_metaphase (778305,)\n",
      "[INFO][2022/04/15 01:24:12 AM] Writing properties/obj_type_1/prob_anaphase (778305,)\n",
      "[INFO][2022/04/15 01:24:12 AM] Writing properties/obj_type_1/prob_apoptosis (778305,)\n",
      "[INFO][2022/04/15 01:24:14 AM] Writing tracks/obj_type_1\n",
      "[INFO][2022/04/15 01:24:14 AM] Writing dummies/obj_type_1\n",
      "[INFO][2022/04/15 01:24:14 AM] Writing LBEP/obj_type_1\n",
      "[INFO][2022/04/15 01:24:14 AM] Writing fates/obj_type_1\n",
      "[INFO][2022/04/15 01:24:15 AM] Closing HDF file: /home/nathan/data/kraken/ras/ND0022/Pos13/tracks.h5\n",
      "[INFO][2022/04/15 01:24:15 AM] Ending BayesianTracker session\n",
      "[INFO][2022/04/15 01:24:16 AM] Loaded btrack: /home/nathan/analysis/BayesianTracker/btrack/libs/libtracker.so\n",
      "[INFO][2022/04/15 01:24:16 AM] btrack (v0.4.3) library imported\n",
      "[INFO][2022/04/15 01:24:16 AM] Setting max XYZ search radius to: 100\n",
      "[INFO][2022/04/15 01:24:16 AM] Starting BayesianTracker session\n",
      "[INFO][2022/04/15 01:24:16 AM] Loading configuration file: ../models/MDCK_config_scribble_sparse.json\n",
      "[INFO][2022/04/15 01:24:16 AM] Loading motion model: MDCK_motion\n",
      "[INFO][2022/04/15 01:24:16 AM] Setting max XYZ search radius to: 40\n",
      "[INFO][2022/04/15 01:24:16 AM] Objects are of type: <class 'list'>\n",
      "[INFO][2022/04/15 01:24:16 AM] Set volume to ((0, 1600), (0, 1200), (-100000.0, 100000.0))\n",
      "[INFO][2022/04/15 01:24:16 AM] Starting tracking... \n",
      "[INFO][2022/04/15 01:24:16 AM] Tracking objects in frames 0 to 99 (of 1099)...\n",
      "[INFO][2022/04/15 01:24:16 AM]  - Timing (Bayesian updates: 0.01ms, Linking: 0.02ms)\n",
      "[INFO][2022/04/15 01:24:16 AM]  - Probabilities (Link: 1.00000, Lost: 1.00000)\n",
      "[INFO][2022/04/15 01:24:16 AM]  - Stats (Active: 9, Lost: 561, Conflicts resolved: 1)\n",
      "[INFO][2022/04/15 01:24:16 AM] Tracking objects in frames 100 to 199 (of 1099)...\n",
      "[INFO][2022/04/15 01:24:16 AM]  - Timing (Bayesian updates: 0.02ms, Linking: 0.03ms)\n",
      "[INFO][2022/04/15 01:24:16 AM]  - Probabilities (Link: 0.79318, Lost: 0.99894)\n",
      "[INFO][2022/04/15 01:24:16 AM]  - Stats (Active: 12, Lost: 1264, Conflicts resolved: 6)\n",
      "[INFO][2022/04/15 01:24:16 AM] Tracking objects in frames 200 to 299 (of 1099)...\n",
      "[INFO][2022/04/15 01:24:16 AM]  - Timing (Bayesian updates: 0.03ms, Linking: 0.05ms)\n"
     ]
    },
    {
     "name": "stderr",
     "output_type": "stream",
     "text": [
      "[INFO][2022/04/15 01:24:16 AM]  - Probabilities (Link: 1.00000, Lost: 1.00000)\n",
      "[INFO][2022/04/15 01:24:16 AM]  - Stats (Active: 11, Lost: 1909, Conflicts resolved: 13)\n",
      "[INFO][2022/04/15 01:24:16 AM] Tracking objects in frames 300 to 399 (of 1099)...\n",
      "[INFO][2022/04/15 01:24:16 AM]  - Timing (Bayesian updates: 0.02ms, Linking: 0.03ms)\n",
      "[INFO][2022/04/15 01:24:16 AM]  - Probabilities (Link: 1.00000, Lost: 1.00000)\n",
      "[INFO][2022/04/15 01:24:16 AM]  - Stats (Active: 16, Lost: 2551, Conflicts resolved: 19)\n",
      "[INFO][2022/04/15 01:24:16 AM] Tracking objects in frames 400 to 499 (of 1099)...\n",
      "[INFO][2022/04/15 01:24:16 AM]  - Timing (Bayesian updates: 0.03ms, Linking: 0.04ms)\n",
      "[INFO][2022/04/15 01:24:16 AM]  - Probabilities (Link: 1.00000, Lost: 1.00000)\n",
      "[INFO][2022/04/15 01:24:16 AM]  - Stats (Active: 20, Lost: 3495, Conflicts resolved: 28)\n",
      "[INFO][2022/04/15 01:24:16 AM] Tracking objects in frames 500 to 599 (of 1099)...\n",
      "[INFO][2022/04/15 01:24:16 AM]  - Timing (Bayesian updates: 0.02ms, Linking: 0.03ms)\n",
      "[INFO][2022/04/15 01:24:16 AM]  - Probabilities (Link: 1.00000, Lost: 0.94238)\n",
      "[INFO][2022/04/15 01:24:16 AM]  - Stats (Active: 12, Lost: 4357, Conflicts resolved: 36)\n",
      "[INFO][2022/04/15 01:24:16 AM] Tracking objects in frames 600 to 699 (of 1099)...\n",
      "[INFO][2022/04/15 01:24:16 AM]  - Timing (Bayesian updates: 0.05ms, Linking: 0.05ms)\n",
      "[INFO][2022/04/15 01:24:16 AM]  - Probabilities (Link: 0.99885, Lost: 1.00000)\n",
      "[INFO][2022/04/15 01:24:16 AM]  - Stats (Active: 22, Lost: 5268, Conflicts resolved: 62)\n",
      "[INFO][2022/04/15 01:24:16 AM] Tracking objects in frames 700 to 799 (of 1099)...\n",
      "[INFO][2022/04/15 01:24:16 AM]  - Timing (Bayesian updates: 0.06ms, Linking: 0.05ms)\n",
      "[INFO][2022/04/15 01:24:16 AM]  - Probabilities (Link: 1.00000, Lost: 1.00000)\n",
      "[INFO][2022/04/15 01:24:16 AM]  - Stats (Active: 34, Lost: 6492, Conflicts resolved: 98)\n",
      "[INFO][2022/04/15 01:24:16 AM] Tracking objects in frames 800 to 899 (of 1099)...\n",
      "[INFO][2022/04/15 01:24:16 AM]  - Timing (Bayesian updates: 0.07ms, Linking: 0.06ms)\n",
      "[INFO][2022/04/15 01:24:16 AM]  - Probabilities (Link: 0.79618, Lost: 1.00000)\n",
      "[INFO][2022/04/15 01:24:16 AM]  - Stats (Active: 33, Lost: 8298, Conflicts resolved: 150)\n",
      "[INFO][2022/04/15 01:24:16 AM] Tracking objects in frames 900 to 999 (of 1099)...\n",
      "[INFO][2022/04/15 01:24:16 AM]  - Timing (Bayesian updates: 0.13ms, Linking: 0.08ms)\n",
      "[INFO][2022/04/15 01:24:16 AM]  - Probabilities (Link: 0.99904, Lost: 1.00000)\n",
      "[INFO][2022/04/15 01:24:16 AM]  - Stats (Active: 42, Lost: 10605, Conflicts resolved: 250)\n",
      "[INFO][2022/04/15 01:24:16 AM] Tracking objects in frames 1000 to 1099 (of 1099)...\n",
      "[INFO][2022/04/15 01:24:16 AM]  - Timing (Bayesian updates: 0.13ms, Linking: 0.09ms)\n",
      "[INFO][2022/04/15 01:24:16 AM]  - Probabilities (Link: 1.00000, Lost: 1.00000)\n",
      "[INFO][2022/04/15 01:24:16 AM] SUCCESS.\n",
      "[INFO][2022/04/15 01:24:16 AM]  - Found 2240 tracks in 1099 frames (in 0.0s)\n",
      "[INFO][2022/04/15 01:24:16 AM]  - Inserted 576 dummy objects to fill tracking gaps\n",
      "[INFO][2022/04/15 01:24:16 AM] Loading hypothesis model: MDCK_hypothesis_scribble_sparse\n",
      "[INFO][2022/04/15 01:24:16 AM] Calculating hypotheses (relax: True)...\n",
      "[INFO][2022/04/15 01:24:16 AM] Setting up constraints matrix for global optimisation...\n",
      "[INFO][2022/04/15 01:24:16 AM] Optimizing...\n",
      "[INFO][2022/04/15 01:24:16 AM] Optimization complete. (Solution: optimal)\n",
      "[INFO][2022/04/15 01:24:16 AM]  - Fates.FALSE_POSITIVE: 2240 (of 2240)\n",
      "[INFO][2022/04/15 01:24:16 AM]  - TOTAL: 2240 hypotheses\n",
      "[INFO][2022/04/15 01:24:16 AM] Completed optimization with 2240 tracks\n",
      "[INFO][2022/04/15 01:24:16 AM] Opening HDF file: /home/nathan/data/kraken/ras/ND0022/Pos13/tracks.h5...\n",
      "[INFO][2022/04/15 01:24:16 AM] Writing objects/obj_type_2\n",
      "[INFO][2022/04/15 01:24:16 AM] Writing labels/obj_type_2\n",
      "[INFO][2022/04/15 01:24:16 AM] Loading objects/obj_type_2 (10739, 5) (10739 filtered: None)\n",
      "[INFO][2022/04/15 01:24:16 AM] Writing properties/obj_type_2/area (10739,)\n",
      "[INFO][2022/04/15 01:24:16 AM] Writing properties/obj_type_2/eccentricity (10739,)\n",
      "[INFO][2022/04/15 01:24:16 AM] Writing properties/obj_type_2/mean_intensity (10739,)\n",
      "[INFO][2022/04/15 01:24:16 AM] Writing properties/obj_type_2/class id (10739,)\n",
      "[INFO][2022/04/15 01:24:16 AM] Writing properties/obj_type_2/prob_interphase (10739,)\n",
      "[INFO][2022/04/15 01:24:16 AM] Writing properties/obj_type_2/prob_prometaphase (10739,)\n",
      "[INFO][2022/04/15 01:24:16 AM] Writing properties/obj_type_2/prob_metaphase (10739,)\n",
      "[INFO][2022/04/15 01:24:16 AM] Writing properties/obj_type_2/prob_anaphase (10739,)\n",
      "[INFO][2022/04/15 01:24:16 AM] Writing properties/obj_type_2/prob_apoptosis (10739,)\n",
      "[INFO][2022/04/15 01:24:16 AM] Writing tracks/obj_type_2\n",
      "[INFO][2022/04/15 01:24:16 AM] Writing dummies/obj_type_2\n",
      "[INFO][2022/04/15 01:24:16 AM] Writing LBEP/obj_type_2\n",
      "[INFO][2022/04/15 01:24:16 AM] Writing fates/obj_type_2\n",
      "[INFO][2022/04/15 01:24:16 AM] Closing HDF file: /home/nathan/data/kraken/ras/ND0022/Pos13/tracks.h5\n",
      "[INFO][2022/04/15 01:24:16 AM] Ending BayesianTracker session\n"
     ]
    },
    {
     "name": "stdout",
     "output_type": "stream",
     "text": [
      "Starting alignment for ND0024/Pos9\n",
      "Starting segmentation for ND0024 Pos9\n"
     ]
    },
    {
     "data": {
      "application/vnd.jupyter.widget-view+json": {
       "model_id": "7f18729a1a944f81a2e206f7f14a3d96",
       "version_major": 2,
       "version_minor": 0
      },
      "text/plain": [
       "  0%|          | 0/1277 [00:00<?, ?it/s]"
      ]
     },
     "metadata": {},
     "output_type": "display_data"
    },
    {
     "name": "stdout",
     "output_type": "stream",
     "text": [
      "Segmentation complete for ND0024 Pos9\n",
      "Starting object localisation for ND0024 Pos9\n",
      "Starting alignment for ND0024/Pos10\n",
      "Starting segmentation for ND0024 Pos10\n"
     ]
    },
    {
     "data": {
      "application/vnd.jupyter.widget-view+json": {
       "model_id": "2c7fcc6797f447abbcdfd47d7250a648",
       "version_major": 2,
       "version_minor": 0
      },
      "text/plain": [
       "  0%|          | 0/1275 [00:00<?, ?it/s]"
      ]
     },
     "metadata": {},
     "output_type": "display_data"
    },
    {
     "name": "stdout",
     "output_type": "stream",
     "text": [
      "Segmentation complete for ND0024 Pos10\n",
      "Starting object localisation for ND0024 Pos10\n",
      "Starting alignment for ND0024/Pos11\n",
      "Starting segmentation for ND0024 Pos11\n"
     ]
    },
    {
     "data": {
      "application/vnd.jupyter.widget-view+json": {
       "model_id": "e7f2931a7e73440394aa05757a10b2bd",
       "version_major": 2,
       "version_minor": 0
      },
      "text/plain": [
       "  0%|          | 0/1272 [00:00<?, ?it/s]"
      ]
     },
     "metadata": {},
     "output_type": "display_data"
    },
    {
     "name": "stdout",
     "output_type": "stream",
     "text": [
      "Segmentation complete for ND0024 Pos11\n",
      "Starting object localisation for ND0024 Pos11\n",
      "Starting alignment for ND0024/Pos12\n",
      "Starting segmentation for ND0024 Pos12\n"
     ]
    },
    {
     "data": {
      "application/vnd.jupyter.widget-view+json": {
       "model_id": "ea946fe699764be4bd46891e2f15978a",
       "version_major": 2,
       "version_minor": 0
      },
      "text/plain": [
       "  0%|          | 0/1267 [00:00<?, ?it/s]"
      ]
     },
     "metadata": {},
     "output_type": "display_data"
    },
    {
     "name": "stdout",
     "output_type": "stream",
     "text": [
      "Segmentation complete for ND0024 Pos12\n",
      "Starting object localisation for ND0024 Pos12\n",
      "Starting alignment for ND0024/Pos13\n",
      "Starting segmentation for ND0024 Pos13\n"
     ]
    },
    {
     "data": {
      "application/vnd.jupyter.widget-view+json": {
       "model_id": "f775413d097c4ed5bf7f196093c00bee",
       "version_major": 2,
       "version_minor": 0
      },
      "text/plain": [
       "  0%|          | 0/1268 [00:00<?, ?it/s]"
      ]
     },
     "metadata": {},
     "output_type": "display_data"
    },
    {
     "name": "stdout",
     "output_type": "stream",
     "text": [
      "Segmentation complete for ND0024 Pos13\n",
      "Starting object localisation for ND0024 Pos13\n",
      "Starting alignment for ND0025/Pos9\n",
      "Starting segmentation for ND0025 Pos9\n"
     ]
    },
    {
     "data": {
      "application/vnd.jupyter.widget-view+json": {
       "model_id": "33f49ac2ed634fc58f757c3b8d857624",
       "version_major": 2,
       "version_minor": 0
      },
      "text/plain": [
       "  0%|          | 0/1185 [00:00<?, ?it/s]"
      ]
     },
     "metadata": {},
     "output_type": "display_data"
    },
    {
     "name": "stdout",
     "output_type": "stream",
     "text": [
      "Segmentation complete for ND0025 Pos9\n",
      "Starting object localisation for ND0025 Pos9\n",
      "Starting alignment for ND0025/Pos10\n",
      "Starting segmentation for ND0025 Pos10\n"
     ]
    },
    {
     "data": {
      "application/vnd.jupyter.widget-view+json": {
       "model_id": "0a9355d5f5dc47159dbd78441f922bc6",
       "version_major": 2,
       "version_minor": 0
      },
      "text/plain": [
       "  0%|          | 0/1190 [00:00<?, ?it/s]"
      ]
     },
     "metadata": {},
     "output_type": "display_data"
    },
    {
     "name": "stdout",
     "output_type": "stream",
     "text": [
      "Segmentation complete for ND0025 Pos10\n",
      "Starting object localisation for ND0025 Pos10\n",
      "Starting alignment for ND0025/Pos11\n",
      "Starting segmentation for ND0025 Pos11\n"
     ]
    },
    {
     "data": {
      "application/vnd.jupyter.widget-view+json": {
       "model_id": "dcc890247eb74095bfac98e4b68a1c3b",
       "version_major": 2,
       "version_minor": 0
      },
      "text/plain": [
       "  0%|          | 0/1184 [00:00<?, ?it/s]"
      ]
     },
     "metadata": {},
     "output_type": "display_data"
    },
    {
     "name": "stdout",
     "output_type": "stream",
     "text": [
      "Segmentation complete for ND0025 Pos11\n",
      "Starting object localisation for ND0025 Pos11\n",
      "Starting alignment for ND0025/Pos12\n",
      "Starting segmentation for ND0025 Pos12\n"
     ]
    },
    {
     "data": {
      "application/vnd.jupyter.widget-view+json": {
       "model_id": "5f1153e4bd39445eb5edcc6d25c550e6",
       "version_major": 2,
       "version_minor": 0
      },
      "text/plain": [
       "  0%|          | 0/1185 [00:00<?, ?it/s]"
      ]
     },
     "metadata": {},
     "output_type": "display_data"
    },
    {
     "name": "stdout",
     "output_type": "stream",
     "text": [
      "Segmentation complete for ND0025 Pos12\n",
      "Starting object localisation for ND0025 Pos12\n",
      "Starting alignment for ND0025/Pos13\n",
      "Starting segmentation for ND0025 Pos13\n"
     ]
    },
    {
     "data": {
      "application/vnd.jupyter.widget-view+json": {
       "model_id": "e24cba293b2446e699245057975f8ef1",
       "version_major": 2,
       "version_minor": 0
      },
      "text/plain": [
       "  0%|          | 0/1186 [00:00<?, ?it/s]"
      ]
     },
     "metadata": {},
     "output_type": "display_data"
    },
    {
     "name": "stdout",
     "output_type": "stream",
     "text": [
      "Segmentation complete for ND0025 Pos13\n",
      "Starting object localisation for ND0025 Pos13\n"
     ]
    }
   ],
   "source": [
    "root_dir = '/home/nathan/data/kraken/ras'\n",
    "\n",
    "for i, expt_pos in tqdm(expt_pos_list.iterrows(), desc = 'Progress of experiment annotation', total = len(expt_pos_list)):    \n",
    "    expt = expt_pos['Experiments']\n",
    "    pos = expt_pos['Positions']\n",
    "\n",
    "    print(f'Starting alignment for {expt}/{pos}')\n",
    "\n",
    "    ### create new subdir of for raw files and move them all there\n",
    "    image_path = f'{root_dir}/{expt}/{pos}/{pos}_images'\n",
    "    if not os.path.exists(image_path):\n",
    "        os.mkdir(image_path)\n",
    "        files = sorted(glob.glob(f'{root_dir}/{expt}/{pos}/*.tif'))\n",
    "        for file in files:\n",
    "            os.rename(file, file.replace(f'{pos}', f'{pos}/{pos}_images'))\n",
    "\n",
    "    # check if blanks dir exists and make if not and move\n",
    "    if not os.path.exists(f'{root_dir}/{expt}/{pos}/{pos}_blanks'):\n",
    "        os.mkdir(f'{root_dir}/{expt}/{pos}/{pos}_blanks')\n",
    "        ### pre load files from raw file dir \n",
    "        images = DaskOctopusLiteLoader(image_path, remove_background= False)\n",
    "\n",
    "        ### measure mean pixel value arrays and use to find under/over-exposed frames\n",
    "        max_pixel = 200\n",
    "        min_pixel = 2\n",
    "        # set empty dict arrays for mean values \n",
    "        mean_arrays = {}\n",
    "        # set for dodgy frames (only unique entries)\n",
    "        dodgy_frame_list = set([])\n",
    "        #iterate over channels\n",
    "        for channel in tqdm(images.channels, desc = f'Finding mean values of image channels'):\n",
    "            if 'MASK' in channel.name:\n",
    "                continue\n",
    "            # find mean value of each frame in each channel\n",
    "            mean_arrays[channel.name] = [np.mean(img) for img in image_generator(images.files(channel.name))]\n",
    "            # iterate over frames\n",
    "            for frame, mean_value in enumerate(mean_arrays[channel.name]):\n",
    "                # check to see if mean frame pixel value meets criteria\n",
    "                if max_pixel < mean_value or mean_value < min_pixel:\n",
    "                    # if so add to delete list\n",
    "                    dodgy_frame_list.add(frame)\n",
    "        # format delete list to only include single values\n",
    "        dodgy_frame_list = list(dodgy_frame_list)\n",
    "        print('Number of under/over-exposed frames:', len(dodgy_frame_list))\n",
    "\n",
    "        # move blank images into this directory\n",
    "        for channel in images.channels:\n",
    "            for f in images.files(channel.name):\n",
    "                for i in dodgy_frame_list:\n",
    "                    if str(i).zfill(9) in f:\n",
    "                        os.rename(f, f.replace('_images', '_blanks'))\n",
    "\n",
    "    if not os.path.exists(f'{root_dir}/{expt}/{pos}/transform_tensor.npy'):\n",
    "        # crop central window out of reference image with blanks removed\n",
    "        reference_image = DaskOctopusLiteLoader(image_path, \n",
    "                                                crop = (500, 500)\n",
    "                                               )['gfp'].compute() \n",
    "\n",
    "\n",
    "        ### Register alignment\n",
    "        print('Registering alignment for', pos, expt)\n",
    "        # create operator using transformation type (translation)\n",
    "        sr = StackReg(StackReg.TRANSLATION) \n",
    "        # register each frame to the previous as transformation matrices/tensor\n",
    "        transform_tensor = sr.register_stack(reference_image, reference = 'previous', )\n",
    "\n",
    "        ### clip transformation tensor to eliminate any rare jumps, (1688-1600)/2=44\n",
    "        transform_tensor = np.clip(transform_tensor, a_max= 44, a_min = -44)\n",
    "\n",
    "        # save out transform tensor\n",
    "        np.save(f'{root_dir}/{expt}/{pos}/transform_tensor.npy', transform_tensor)\n",
    "\n",
    "        print('Alignment complete for', expt, pos)\n",
    "\n",
    "\n",
    "\n",
    "    print('Starting segmentation for', expt, pos)\n",
    "    # load images\n",
    "    images = DaskOctopusLiteLoader(image_path, \n",
    "                                   remove_background = True)\n",
    "    \n",
    "    \n",
    "    # iterate over images filenames \n",
    "    for frame, fn in tqdm(enumerate(images.files('gfp')),total = len(images.files('gfp'))):\n",
    "        # load two seperate images\n",
    "        if os.path.exists(fn.replace('channel001', 'channel099')):\n",
    "            continue\n",
    "        gfp = imread(fn)\n",
    "        # predict gfp labels with a higher threshold as the fl. signal is strong\n",
    "        labels, details = seg_model.predict_instances(normalize(gfp), prob_thresh=0.75)\n",
    "        # create empty mask image\n",
    "        mask = np.zeros(labels.shape, dtype = np.uint8)\n",
    "        # remove any small, unrealistically nuclear objects from seg output\n",
    "        labels = remove_small_objects(labels, min_size = 200)\n",
    "        ### image post processing, start at 1 to skip background label\n",
    "        for i in range(1, np.amax(labels)):\n",
    "            #needs erosion step to stop merging of labels\n",
    "            segment = labels == i\n",
    "            seg_props = regionprops(label(segment), cache = False)\n",
    "            ### if segment exists, subject to exclusion criteria\n",
    "            if seg_props:\n",
    "                ### if segment area is large and elliptical it is probably a missclassified ras cyto (keeping for future use)\n",
    "                if 3000 <= seg_props[0].area or seg_props[0].eccentricity > 0.95: \n",
    "                    ## below condition has been applied on some post processing but cannot be applied here as gpf mask will not have rfp hole in yet, should not matter though as most large gfp masks will be caught by size alone\n",
    "                    # or seg_props.area < (0.9*seg_props.filled_area):\n",
    "                    ### dont bother eroding the large ras cyto masks as will add time\n",
    "                    #segment = binary_erosion(segment)\n",
    "                    mask[segment] = 3\n",
    "                else:\n",
    "                    segment = binary_erosion(segment)\n",
    "                    mask[segment] = 1\n",
    "\n",
    "        # now do the same for the rfp channel\n",
    "        rfp = imread(fn.replace('channel001', 'channel002'))   \n",
    "        # predict labels a much lower threshold as rfp signal is dim\n",
    "        labels, details = seg_model.predict_instances(normalize(rfp), prob_thresh=0.2)\n",
    "\n",
    "        ### remove small objects (low thresh picks up hot pixels) also reduce number of iterations needed for individual binary erosion\n",
    "        labels = remove_small_objects(labels, min_size = 200)\n",
    "\n",
    "        ### iterate over individual segments, eroding and reassigning label to not merge\n",
    "        for i in range(1, np.amax(labels)):\n",
    "            #needs erosion step to stop merging of labels\n",
    "            segment = labels == i\n",
    "            segment = binary_erosion(segment)\n",
    "            ## add to main mask\n",
    "            mask[segment] = 2\n",
    "\n",
    "        # set filename as mask format (channel099)\n",
    "        fn = ((images.files('gfp')[frame])).replace('channel001', 'channel099')\n",
    "        #save out labelled image\n",
    "        imsave(fn, mask.astype(np.uint8), check_contrast=False)\n",
    "        \n",
    "    print('Segmentation complete for', expt, pos)\n",
    "\n",
    "    \n",
    "    print('Starting object localisation for', expt, pos)\n",
    "    \n",
    "    if not os.path.exists(f'{root_dir}/{expt}/{pos}/objects.h5'):\n",
    "        transform_path = f'{root_dir}/{expt}/{pos}/transform_tensor.npy'\n",
    "        images = DaskOctopusLiteLoader(image_path, \n",
    "                                       transforms=transform_path,\n",
    "                                       crop=(1200,1600), \n",
    "                                       remove_background=True)\n",
    "\n",
    "        ## loading seperate instances of objects so that fl. intensities can be measured\n",
    "        objects_gfp = btrack.utils.segmentation_to_objects(\n",
    "            images['mask']==1,\n",
    "            images['gfp'],\n",
    "            properties = ('area', 'eccentricity', 'mean_intensity'),\n",
    "            assign_class_ID = True,\n",
    "        )\n",
    "        objects_rfp = btrack.utils.segmentation_to_objects(\n",
    "            (images['mask']==2)*2,\n",
    "            images['rfp'],\n",
    "            properties = ('area', 'eccentricity', 'mean_intensity'),\n",
    "            assign_class_ID = True,\n",
    "        )\n",
    "        ### filter for size\n",
    "        ### probably redundant two lines but just keeping as insurance\n",
    "    #         objects_gfp = [o for o in objects_gfp if 4000.>o.properties['area']>100.]\n",
    "    #         objects_rfp = [o for o in objects_rfp if 4000.>o.properties['area']>100.]\n",
    "    #         objects_gfp = [obj for obj in objects_gfp if obj.properties['class id'] == 1]\n",
    "    #         objects_rfp = [obj for obj in objects_rfp if obj.properties['class id'] == 2]\n",
    "\n",
    "        model = load_model('../models/cellx_classifier_stardist.h5')\n",
    "\n",
    "        bf = images['brightfield']\n",
    "        gfp = images['gfp']\n",
    "        rfp = images['rfp']\n",
    "\n",
    "        print('Classifying objects in', expt, pos)\n",
    "        objects_gfp = classify_objects(bf, gfp, rfp, objects_gfp, obj_type = 1)\n",
    "        objects_rfp = classify_objects(bf, gfp, rfp, objects_rfp, obj_type = 2)\n",
    "\n",
    "        with btrack.dataio.HDF5FileHandler(\n",
    "            f'{root_dir}/{expt}/{pos}/objects_type_1.h5', 'w', obj_type='obj_type_1',\n",
    "        ) as hdf:\n",
    "            #hdf.write_segmentation(masks['mask'])\n",
    "            hdf.write_objects(objects_gfp)    \n",
    "\n",
    "        with btrack.dataio.HDF5FileHandler(\n",
    "            f'{root_dir}/{expt}/{pos}/objects_type_2.h5', 'w', obj_type='obj_type_2',\n",
    "        ) as hdf:\n",
    "            #hdf.write_segmentation(masks['mask'])\n",
    "            hdf.write_objects(objects_rfp)\n",
    "\n",
    "        with btrack.dataio.HDF5FileHandler(\n",
    "            f'{root_dir}/{expt}/{pos}/objects.h5', 'w', obj_type='obj_type_1',\n",
    "        ) as hdf:\n",
    "            #hdf.write_segmentation(masks['mask'])\n",
    "            hdf.write_objects(objects_gfp)\n",
    "\n",
    "        with btrack.dataio.HDF5FileHandler(\n",
    "            f'{root_dir}/{expt}/{pos}/objects.h5', 'a', obj_type='obj_type_2',\n",
    "        ) as hdf:\n",
    "            #hdf.write_segmentation(masks['mask'])\n",
    "            hdf.write_objects(objects_rfp)\n",
    "\n",
    "        print('Object localisation complete for', expt, pos)\n",
    "\n",
    "    print('Starting tracking for', expt, pos)\n",
    "\n",
    "    if not os.path.exists(f'{root_dir}/{expt}/{pos}/tracks.h5'):\n",
    "        # initialise a tracker session using a context manager\n",
    "        with btrack.BayesianTracker() as tracker:\n",
    "\n",
    "            # configure the tracker using a config file\n",
    "            tracker.configure_from_file(\n",
    "                '../models/MDCK_config_wildtype.json'\n",
    "            )\n",
    "            tracker.max_search_radius = 40\n",
    "\n",
    "            # append the objects to be tracked\n",
    "            tracker.append(objects_gfp)\n",
    "\n",
    "            # set the volume\n",
    "            tracker.volume=((0, 1600), (0, 1200), (-1e5, 1e5))\n",
    "\n",
    "            # track them (in interactive mode)\n",
    "            tracker.track_interactive(step_size=100)\n",
    "\n",
    "            # generate hypotheses and run the global optimizer\n",
    "            tracker.optimize()\n",
    "\n",
    "            tracker.export(f'{root_dir}/{expt}/{pos}/tracks.h5', obj_type='obj_type_1')\n",
    "\n",
    "            # get the tracks in a format for napari visualization (optional)\n",
    "    #         visaulise_tracks, properties, graph = tracker.to_napari(ndim=2)\n",
    "\n",
    "    #         gfp_tracks = tracker.tracks\n",
    "\n",
    "        # initialise a tracker session using a context manager\n",
    "        with btrack.BayesianTracker() as tracker:\n",
    "\n",
    "            # configure the tracker using a config file\n",
    "            tracker.configure_from_file(\n",
    "                '../models/MDCK_config_scribble_sparse.json'\n",
    "            )\n",
    "            tracker.max_search_radius = 40\n",
    "\n",
    "            # append the objects to be tracked\n",
    "            tracker.append(objects_rfp)\n",
    "\n",
    "            # set the volume\n",
    "            tracker.volume=((0, 1600), (0, 1200), (-1e5, 1e5))\n",
    "\n",
    "            # track them (in interactive mode)\n",
    "            tracker.track_interactive(step_size=100)\n",
    "\n",
    "            # generate hypotheses and run the global optimizer\n",
    "            tracker.optimize()\n",
    "\n",
    "            tracker.export(f'{root_dir}/{expt}/{pos}/tracks.h5', obj_type='obj_type_2')\n",
    "\n",
    "    #         # get the tracks in a format for napari visualization (optional)\n",
    "    #         visaulise_tracks, properties, graph = tracker.to_napari(ndim=2)\n",
    "\n",
    "    #         rfp_tracks = tracker.tracks"
   ]
  }
 ],
 "metadata": {
  "kernelspec": {
   "display_name": "CellX",
   "language": "python",
   "name": "cellx"
  },
  "language_info": {
   "codemirror_mode": {
    "name": "ipython",
    "version": 3
   },
   "file_extension": ".py",
   "mimetype": "text/x-python",
   "name": "python",
   "nbconvert_exporter": "python",
   "pygments_lexer": "ipython3",
   "version": "3.9.7"
  }
 },
 "nbformat": 4,
 "nbformat_minor": 5
}
