{
 "cells": [
  {
   "cell_type": "markdown",
   "id": "1cada0f4",
   "metadata": {},
   "source": [
    "# Phenotype classifcation using CellX \n",
    "\n",
    "This notebook shows how to take segmented time lapse microscopy images and use h2b fluorescence markers to classfiy mitotic state of the cell cycle. \n",
    "\n",
    "The sections of this notebook are as follows:\n",
    "\n",
    "1. Load images\n",
    "2. Localise the objects\n",
    "3. Classify the objects\n",
    "4. Batch process\n",
    "\n",
    "The data used in this notebook is timelapse microscopy data with h2b-gfp/rfp markers that show the spatial extent of the nucleus and it's mitotic state. \n",
    "\n",
    "This notebook uses the dask octopuslite image loader from the CellX/Lowe lab project."
   ]
  },
  {
   "cell_type": "code",
   "execution_count": 1,
   "id": "c311e3db",
   "metadata": {},
   "outputs": [],
   "source": [
    "from octopuslite import DaskOctopusLiteLoader\n",
    "import btrack\n",
    "from tqdm.auto import tqdm\n",
    "import numpy as np\n",
    "from scipy.special import softmax\n",
    "import os\n",
    "import matplotlib.pyplot as plt\n",
    "from skimage.io import imread, imshow\n",
    "from cellx import load_model\n",
    "from cellx.tools.image import InfinitePaddedImage\n",
    "from skimage.transform import resize\n",
    "import glob\n",
    "%matplotlib inline\n",
    "plt.rcParams['figure.figsize'] = [18,8]"
   ]
  },
  {
   "cell_type": "markdown",
   "id": "28a5906f",
   "metadata": {},
   "source": [
    "## 1. Load segmentation images\n",
    "\n",
    "#### *Important:* from this point on you will need to be consistent with the use of cropping and alignment. \n",
    "Using a previously generated alignment transformation will aid greatly in the tracking notebook, which depends on the object localisation performed in this notebook. Cropping your images will ensure that no border effects from the translational shift are seen. "
   ]
  },
  {
   "cell_type": "code",
   "execution_count": 7,
   "id": "67ee9d2e",
   "metadata": {},
   "outputs": [
    {
     "name": "stdout",
     "output_type": "stream",
     "text": [
      "Using cropping: (1200, 1600)\n"
     ]
    }
   ],
   "source": [
    "# load images\n",
    "expt = 'ND0012'\n",
    "pos = 'Pos5'\n",
    "root_dir = '/home/nathan/data/kraken/ras'\n",
    "image_path = f'{root_dir}/{expt}/{pos}/{pos}_images'\n",
    "transform_path = f'{root_dir}/{expt}/{pos}/gfp_transform_tensor.npy'\n",
    "images = DaskOctopusLiteLoader(image_path, \n",
    "                               transforms=transform_path,\n",
    "                               crop=(1200,1600), \n",
    "                               remove_background=False)"
   ]
  },
  {
   "cell_type": "markdown",
   "id": "dfccac2e",
   "metadata": {},
   "source": [
    "## 2. Localise the objects\n",
    "We need to also measure the mean intensity regionprops parameter in order to differentiate object class, for which we need to provide an image to measure. This means we need to provide the segmentation images twice: once to find the centroid and once to measure the pixel intensity. "
   ]
  },
  {
   "cell_type": "code",
   "execution_count": 7,
   "id": "b5f3d937",
   "metadata": {
    "scrolled": true
   },
   "outputs": [
    {
     "name": "stderr",
     "output_type": "stream",
     "text": [
      "[INFO][2022/02/04 10:18:09 AM] Localizing objects from segmentation...\n",
      "[INFO][2022/02/04 10:18:09 AM] Found intensity_image data\n",
      "[INFO][2022/02/04 10:18:09 AM] Calculating weighted centroids using intensity_image\n",
      "[INFO][2022/02/04 10:28:10 AM] Objects are of type: <class 'dict'>\n",
      "[INFO][2022/02/04 10:28:10 AM] ...Found 9566 objects in 1738 frames.\n"
     ]
    }
   ],
   "source": [
    "objects = btrack.utils.segmentation_to_objects(\n",
    "    images['mask'], images['mask'],\n",
    "    properties = ('area', 'max_intensity', ),\n",
    ")"
   ]
  },
  {
   "cell_type": "code",
   "execution_count": 3,
   "id": "51114aca",
   "metadata": {},
   "outputs": [
    {
     "name": "stderr",
     "output_type": "stream",
     "text": [
      "[INFO][2022/02/04 03:54:11 PM] Localizing objects from segmentation...\n",
      "[INFO][2022/02/04 03:54:11 PM] Found intensity_image data\n",
      "[INFO][2022/02/04 03:54:11 PM] Calculating weighted centroids using intensity_image\n",
      "[INFO][2022/02/04 04:04:55 PM] Objects are of type: <class 'dict'>\n",
      "[INFO][2022/02/04 04:05:02 PM] ...Found 1018877 objects in 1738 frames.\n"
     ]
    }
   ],
   "source": [
    "objects = btrack.utils.segmentation_to_objects(\n",
    "    images['mask'], images['mask'],\n",
    "    properties = ('area', 'max_intensity', ),\n",
    ")"
   ]
  },
  {
   "cell_type": "markdown",
   "id": "afe1f178",
   "metadata": {},
   "source": [
    "# 5 objects per frame doesnt sound right"
   ]
  },
  {
   "cell_type": "code",
   "execution_count": 8,
   "id": "fcfd49f7",
   "metadata": {},
   "outputs": [
    {
     "data": {
      "text/plain": [
       "5.504027617951668"
      ]
     },
     "execution_count": 8,
     "metadata": {},
     "output_type": "execute_result"
    }
   ],
   "source": [
    "9566/1738"
   ]
  },
  {
   "cell_type": "markdown",
   "id": "ac1f957b",
   "metadata": {},
   "source": [
    "# is it image crop and transform?"
   ]
  },
  {
   "cell_type": "code",
   "execution_count": 10,
   "id": "fa3f9492",
   "metadata": {},
   "outputs": [],
   "source": [
    "import scipy.ndimage as nd"
   ]
  },
  {
   "cell_type": "code",
   "execution_count": 11,
   "id": "f3d3654d",
   "metadata": {},
   "outputs": [],
   "source": [
    "count_gfp, count_rfp = 0, 0\n",
    "for i in images['mask']:\n",
    "        count_gfp += nd.label(i == 1)[-1]\n",
    "        count_rfp += nd.label(i == 2)[-1]"
   ]
  },
  {
   "cell_type": "code",
   "execution_count": 12,
   "id": "903bd40b",
   "metadata": {},
   "outputs": [
    {
     "data": {
      "text/plain": [
       "(749627, 33193)"
      ]
     },
     "execution_count": 12,
     "metadata": {},
     "output_type": "execute_result"
    }
   ],
   "source": [
    "count_gfp, count_rfp"
   ]
  },
  {
   "cell_type": "markdown",
   "id": "94702801",
   "metadata": {},
   "source": [
    "# no it is not crop and transform"
   ]
  },
  {
   "cell_type": "markdown",
   "id": "c74f6632",
   "metadata": {},
   "source": [
    "# testing on ten frames"
   ]
  },
  {
   "cell_type": "code",
   "execution_count": 13,
   "id": "78598e6e",
   "metadata": {},
   "outputs": [
    {
     "data": {
      "application/vnd.jupyter.widget-view+json": {
       "model_id": "1dc053b5298a421abfcb8822ebc672af",
       "version_major": 2,
       "version_minor": 0
      },
      "text/plain": [
       "  0%|          | 0/10 [00:00<?, ?it/s]"
      ]
     },
     "metadata": {},
     "output_type": "display_data"
    }
   ],
   "source": [
    "count_gfp, count_rfp = 0, 0\n",
    "for i in tqdm(images['mask'][0:10]):\n",
    "        count_gfp += nd.label(i == 1)[-1]\n",
    "        count_rfp += nd.label(i == 2)[-1]"
   ]
  },
  {
   "cell_type": "code",
   "execution_count": 14,
   "id": "332eef85",
   "metadata": {},
   "outputs": [
    {
     "data": {
      "text/plain": [
       "(1020, 29)"
      ]
     },
     "execution_count": 14,
     "metadata": {},
     "output_type": "execute_result"
    }
   ],
   "source": [
    "count_gfp, count_rfp"
   ]
  },
  {
   "cell_type": "markdown",
   "id": "c1931222",
   "metadata": {},
   "source": [
    "# trying with just single image, no props"
   ]
  },
  {
   "cell_type": "code",
   "execution_count": 16,
   "id": "478d24c9",
   "metadata": {},
   "outputs": [
    {
     "name": "stderr",
     "output_type": "stream",
     "text": [
      "[INFO][2022/02/04 11:50:39 AM] Localizing objects from segmentation...\n",
      "[INFO][2022/02/04 11:50:40 AM] Objects are of type: <class 'dict'>\n",
      "[INFO][2022/02/04 11:50:40 AM] ...Found 20 objects in 10 frames.\n"
     ]
    }
   ],
   "source": [
    "objects = btrack.utils.segmentation_to_objects(\n",
    "    images['mask'][0:10],\n",
    "    properties = ('area', ),\n",
    ")"
   ]
  },
  {
   "cell_type": "markdown",
   "id": "0ab82ab8",
   "metadata": {},
   "source": [
    "# trying with unique id in each image segment"
   ]
  },
  {
   "cell_type": "code",
   "execution_count": 41,
   "id": "00f37385",
   "metadata": {},
   "outputs": [],
   "source": [
    "unique_stack = []\n",
    "for i in images['mask'][0:10]:\n",
    "    unique = nd.label(images['mask'][0])[0]\n",
    "    unique_stack.append(unique)\n",
    "unique_stack = np.stack(unique_stack)"
   ]
  },
  {
   "cell_type": "code",
   "execution_count": 42,
   "id": "d9b3115c",
   "metadata": {
    "scrolled": false
   },
   "outputs": [
    {
     "name": "stderr",
     "output_type": "stream",
     "text": [
      "/home/nathan/analysis/miniconda3/envs/cellx/lib/python3.9/site-packages/skimage/io/_plugins/matplotlib_plugin.py:150: UserWarning: Low image data range; displaying image with stretched contrast.\n",
      "  lo, hi, cmap = _get_display_range(image)\n"
     ]
    },
    {
     "data": {
      "text/plain": [
       "<matplotlib.image.AxesImage at 0x7f769cbee2e0>"
      ]
     },
     "execution_count": 42,
     "metadata": {},
     "output_type": "execute_result"
    },
    {
     "data": {
      "image/png": "[encoded data removed]",
      "text/plain": [
       "<Figure size 1296x576 with 2 Axes>"
      ]
     },
     "metadata": {
      "needs_background": "light"
     },
     "output_type": "display_data"
    }
   ],
   "source": [
    "imshow(unique_stack[0])"
   ]
  },
  {
   "cell_type": "code",
   "execution_count": 43,
   "id": "cf79467d",
   "metadata": {},
   "outputs": [
    {
     "name": "stderr",
     "output_type": "stream",
     "text": [
      "[INFO][2022/02/04 12:02:22 PM] Localizing objects from segmentation...\n",
      "[INFO][2022/02/04 12:02:22 PM] Objects are of type: <class 'dict'>\n",
      "[INFO][2022/02/04 12:02:22 PM] ...Found 1090 objects in 10 frames.\n"
     ]
    }
   ],
   "source": [
    "objects = btrack.utils.segmentation_to_objects(\n",
    "    unique_stack,\n",
    "    properties = ('area', ),\n",
    ")"
   ]
  },
  {
   "cell_type": "markdown",
   "id": "d03c4d32",
   "metadata": {},
   "source": [
    "# seems like its either stack or uniqueness"
   ]
  },
  {
   "cell_type": "code",
   "execution_count": 44,
   "id": "b4ca0b50",
   "metadata": {},
   "outputs": [],
   "source": [
    "stack = images['mask'][0:10].compute()"
   ]
  },
  {
   "cell_type": "code",
   "execution_count": 50,
   "id": "e560b185",
   "metadata": {},
   "outputs": [],
   "source": [
    "stack = stack.astype(int)"
   ]
  },
  {
   "cell_type": "code",
   "execution_count": 51,
   "id": "60f56acd",
   "metadata": {},
   "outputs": [
    {
     "name": "stderr",
     "output_type": "stream",
     "text": [
      "[INFO][2022/02/04 12:05:07 PM] Localizing objects from segmentation...\n",
      "[INFO][2022/02/04 12:05:07 PM] Objects are of type: <class 'dict'>\n",
      "[INFO][2022/02/04 12:05:07 PM] ...Found 20 objects in 10 frames.\n"
     ]
    }
   ],
   "source": [
    "objects = btrack.utils.segmentation_to_objects(\n",
    "    stack,\n",
    "    properties = ('area', ),\n",
    ")"
   ]
  },
  {
   "cell_type": "markdown",
   "id": "33a65d1e",
   "metadata": {},
   "source": [
    "# the issue is lack of ternary segmentation input in localisation"
   ]
  },
  {
   "cell_type": "code",
   "execution_count": 52,
   "id": "8465e3a0",
   "metadata": {},
   "outputs": [],
   "source": [
    "segmentation = images['mask'][0:10]"
   ]
  },
  {
   "cell_type": "code",
   "execution_count": 54,
   "id": "787a8bcf",
   "metadata": {},
   "outputs": [
    {
     "data": {
      "text/plain": [
       "615494"
      ]
     },
     "execution_count": 54,
     "metadata": {},
     "output_type": "execute_result"
    }
   ],
   "source": [
    "np.sum(segmentation).compute()"
   ]
  },
  {
   "cell_type": "code",
   "execution_count": 55,
   "id": "53f2285e",
   "metadata": {},
   "outputs": [],
   "source": [
    "def _is_binary(x: np.ndarray) -> bool:\n",
    "        return ((x == 0) | (x == 1)).all()"
   ]
  },
  {
   "cell_type": "code",
   "execution_count": 57,
   "id": "d7a58b60",
   "metadata": {},
   "outputs": [
    {
     "data": {
      "text/plain": [
       "False"
      ]
     },
     "execution_count": 57,
     "metadata": {},
     "output_type": "execute_result"
    }
   ],
   "source": [
    "_is_binary(segmentation.compute())"
   ]
  },
  {
   "cell_type": "code",
   "execution_count": 58,
   "id": "42785154",
   "metadata": {},
   "outputs": [],
   "source": [
    "def _is_ternary(x: np.ndarray) -> bool:\n",
    "        return ((x == 0) | (x == 1) | (x == 2)).all()"
   ]
  },
  {
   "cell_type": "code",
   "execution_count": 63,
   "id": "bce7485e",
   "metadata": {},
   "outputs": [
    {
     "name": "stderr",
     "output_type": "stream",
     "text": [
      "/home/nathan/analysis/miniconda3/envs/cellx/lib/python3.9/site-packages/skimage/io/_plugins/matplotlib_plugin.py:150: UserWarning: Float image out of standard range; displaying image with stretched contrast.\n",
      "  lo, hi, cmap = _get_display_range(image)\n"
     ]
    },
    {
     "data": {
      "text/plain": [
       "<matplotlib.image.AxesImage at 0x7f76a2d653d0>"
      ]
     },
     "execution_count": 63,
     "metadata": {},
     "output_type": "execute_result"
    },
    {
     "data": {
      "image/png": "[encoded data removed]",
      "text/plain": [
       "<Figure size 1296x576 with 2 Axes>"
      ]
     },
     "metadata": {
      "needs_background": "light"
     },
     "output_type": "display_data"
    }
   ],
   "source": [
    "imshow(segmentation.compute()[0])"
   ]
  },
  {
   "cell_type": "code",
   "execution_count": 60,
   "id": "8398637f",
   "metadata": {},
   "outputs": [
    {
     "data": {
      "text/plain": [
       "False"
      ]
     },
     "execution_count": 60,
     "metadata": {},
     "output_type": "execute_result"
    }
   ],
   "source": [
    "_is_ternary(segmentation.compute())"
   ]
  },
  {
   "cell_type": "code",
   "execution_count": 5,
   "id": "94c6c9fa",
   "metadata": {},
   "outputs": [],
   "source": [
    "from skimage.measure import label, regionprops_table"
   ]
  },
  {
   "cell_type": "code",
   "execution_count": 8,
   "id": "db795096",
   "metadata": {},
   "outputs": [],
   "source": [
    "image = images['mask'][0].compute().astype(int)"
   ]
  },
  {
   "cell_type": "code",
   "execution_count": 9,
   "id": "a9bae70e",
   "metadata": {},
   "outputs": [
    {
     "name": "stderr",
     "output_type": "stream",
     "text": [
      "/home/nathan/analysis/miniconda3/envs/cellx/lib/python3.9/site-packages/skimage/io/_plugins/matplotlib_plugin.py:150: UserWarning: Low image data range; displaying image with stretched contrast.\n",
      "  lo, hi, cmap = _get_display_range(image)\n"
     ]
    },
    {
     "data": {
      "text/plain": [
       "<matplotlib.image.AxesImage at 0x7fee01e23220>"
      ]
     },
     "execution_count": 9,
     "metadata": {},
     "output_type": "execute_result"
    },
    {
     "data": {
      "image/png": "[encoded data removed]",
      "text/plain": [
       "<Figure size 1296x576 with 2 Axes>"
      ]
     },
     "metadata": {
      "needs_background": "light"
     },
     "output_type": "display_data"
    }
   ],
   "source": [
    "imshow(image)"
   ]
  },
  {
   "cell_type": "code",
   "execution_count": 75,
   "id": "1cb392a9",
   "metadata": {},
   "outputs": [
    {
     "data": {
      "text/plain": [
       "<matplotlib.image.AxesImage at 0x7f769cd31ca0>"
      ]
     },
     "execution_count": 75,
     "metadata": {},
     "output_type": "execute_result"
    },
    {
     "data": {
      "image/png": "[encoded data removed]",
      "text/plain": [
       "<Figure size 1296x576 with 2 Axes>"
      ]
     },
     "metadata": {
      "needs_background": "light"
     },
     "output_type": "display_data"
    }
   ],
   "source": [
    "imshow(label(image))"
   ]
  },
  {
   "cell_type": "code",
   "execution_count": 73,
   "id": "eda9cbbc",
   "metadata": {},
   "outputs": [
    {
     "data": {
      "text/plain": [
       "True"
      ]
     },
     "execution_count": 73,
     "metadata": {},
     "output_type": "execute_result"
    }
   ],
   "source": [
    "_is_ternary(image)"
   ]
  },
  {
   "cell_type": "code",
   "execution_count": 76,
   "id": "e31cd857",
   "metadata": {},
   "outputs": [
    {
     "data": {
      "text/plain": [
       "False"
      ]
     },
     "execution_count": 76,
     "metadata": {},
     "output_type": "execute_result"
    }
   ],
   "source": [
    "_is_ternary(label(image))"
   ]
  },
  {
   "cell_type": "code",
   "execution_count": 77,
   "id": "21bd8a05",
   "metadata": {},
   "outputs": [
    {
     "data": {
      "text/plain": [
       "False"
      ]
     },
     "execution_count": 77,
     "metadata": {},
     "output_type": "execute_result"
    }
   ],
   "source": [
    "_is_binary(label(image))"
   ]
  },
  {
   "cell_type": "code",
   "execution_count": 79,
   "id": "9a78e3ba",
   "metadata": {},
   "outputs": [
    {
     "name": "stderr",
     "output_type": "stream",
     "text": [
      "/home/nathan/analysis/miniconda3/envs/cellx/lib/python3.9/site-packages/skimage/io/_plugins/matplotlib_plugin.py:150: UserWarning: Low image data range; displaying image with stretched contrast.\n",
      "  lo, hi, cmap = _get_display_range(image)\n"
     ]
    },
    {
     "data": {
      "text/plain": [
       "<matplotlib.image.AxesImage at 0x7f769ccab760>"
      ]
     },
     "execution_count": 79,
     "metadata": {},
     "output_type": "execute_result"
    },
    {
     "data": {
      "image/png": "[encoded data removed]",
      "text/plain": [
       "<Figure size 1296x576 with 2 Axes>"
      ]
     },
     "metadata": {
      "needs_background": "light"
     },
     "output_type": "display_data"
    }
   ],
   "source": [
    "imshow(label(label(image)))"
   ]
  },
  {
   "cell_type": "code",
   "execution_count": 72,
   "id": "19a939c4",
   "metadata": {},
   "outputs": [
    {
     "data": {
      "text/plain": [
       "{'label': array([1, 2]),\n",
       " 'bbox-0': array([  0, 305]),\n",
       " 'bbox-1': array([  0, 220]),\n",
       " 'bbox-2': array([1194,  819]),\n",
       " 'bbox-3': array([1590, 1043])}"
      ]
     },
     "execution_count": 72,
     "metadata": {},
     "output_type": "execute_result"
    }
   ],
   "source": [
    "regionprops_table(image)"
   ]
  },
  {
   "cell_type": "code",
   "execution_count": 80,
   "id": "27ecc7ea",
   "metadata": {},
   "outputs": [
    {
     "data": {
      "text/plain": [
       "<matplotlib.image.AxesImage at 0x7f769cad5430>"
      ]
     },
     "execution_count": 80,
     "metadata": {},
     "output_type": "execute_result"
    },
    {
     "data": {
      "image/png": "[encoded data removed]",
      "text/plain": [
       "<Figure size 1296x576 with 2 Axes>"
      ]
     },
     "metadata": {
      "needs_background": "light"
     },
     "output_type": "display_data"
    }
   ],
   "source": [
    "imshow(image)"
   ]
  },
  {
   "cell_type": "code",
   "execution_count": 91,
   "id": "225ae20f",
   "metadata": {},
   "outputs": [
    {
     "data": {
      "text/plain": [
       "True"
      ]
     },
     "execution_count": 91,
     "metadata": {},
     "output_type": "execute_result"
    }
   ],
   "source": [
    "((image != 0) | (image != 1)).any()"
   ]
  },
  {
   "cell_type": "code",
   "execution_count": null,
   "id": "671a3f69",
   "metadata": {},
   "outputs": [],
   "source": [
    "# if more than one segment pixel value is similar "
   ]
  },
  {
   "cell_type": "code",
   "execution_count": 113,
   "id": "0e74311e",
   "metadata": {},
   "outputs": [
    {
     "data": {
      "text/plain": [
       "2"
      ]
     },
     "execution_count": 113,
     "metadata": {},
     "output_type": "execute_result"
    }
   ],
   "source": [
    "# max label value in image\n",
    "np.unique(image).max()"
   ]
  },
  {
   "cell_type": "code",
   "execution_count": 117,
   "id": "5f6c7131",
   "metadata": {},
   "outputs": [
    {
     "data": {
      "text/plain": [
       "(array([0, 1, 2]), array([1854465,   63821,    1714]))"
      ]
     },
     "execution_count": 117,
     "metadata": {},
     "output_type": "execute_result"
    }
   ],
   "source": [
    "np.unique(image, return_counts=True)"
   ]
  },
  {
   "cell_type": "code",
   "execution_count": 118,
   "id": "b79f6298",
   "metadata": {},
   "outputs": [
    {
     "data": {
      "text/plain": [
       "(array([  0,   1,   2,   3,   4,   5,   6,   7,   8,   9,  10,  11,  12,\n",
       "         13,  14,  15,  16,  17,  18,  19,  20,  21,  22,  23,  24,  25,\n",
       "         26,  27,  28,  29,  30,  31,  32,  33,  34,  35,  36,  37,  38,\n",
       "         39,  40,  41,  42,  43,  44,  45,  46,  47,  48,  49,  50,  51,\n",
       "         52,  53,  54,  55,  56,  57,  58,  59,  60,  61,  62,  63,  64,\n",
       "         65,  66,  67,  68,  69,  70,  71,  72,  73,  74,  75,  76,  77,\n",
       "         78,  79,  80,  81,  82,  83,  84,  85,  86,  87,  88,  89,  90,\n",
       "         91,  92,  93,  94,  95,  96,  97,  98,  99, 100, 101, 102, 103,\n",
       "        104, 105, 106, 107, 108, 109]),\n",
       " array([1854465,     152,     143,      57,     123,     365,     463,\n",
       "            554,     550,     369,     345,     528,     781,     505,\n",
       "            535,     626,    1148,     569,     355,     804,     700,\n",
       "            472,    1184,     814,     926,     445,     942,     401,\n",
       "            942,     652,     607,     903,     648,     922,     307,\n",
       "            195,     416,     450,     203,     304,     413,     472,\n",
       "            702,     750,     551,     241,     736,     765,    1013,\n",
       "            619,     436,     505,     465,     495,     894,     490,\n",
       "            274,     539,     836,     211,     550,     688,     539,\n",
       "            300,     466,     312,     483,     464,     469,     804,\n",
       "            803,     536,     598,     491,    1407,     787,     555,\n",
       "            554,     962,     971,     565,    1206,     933,     468,\n",
       "           1084,     548,     587,     406,    1218,    1065,     603,\n",
       "            826,     848,    1117,     698,     463,     552,     646,\n",
       "            507,     498,     560,     399,     697,     486,     479,\n",
       "            920,     650,     400,     391,     164]))"
      ]
     },
     "execution_count": 118,
     "metadata": {},
     "output_type": "execute_result"
    }
   ],
   "source": [
    "np.unique(label(image), return_counts=True)"
   ]
  },
  {
   "cell_type": "code",
   "execution_count": 121,
   "id": "0ddb9386",
   "metadata": {},
   "outputs": [
    {
     "data": {
      "text/plain": [
       "(array([[0, 0, 0, ..., 0, 0, 0],\n",
       "        [0, 0, 0, ..., 0, 0, 0],\n",
       "        [0, 0, 0, ..., 0, 0, 0],\n",
       "        ...,\n",
       "        [0, 0, 0, ..., 0, 0, 0],\n",
       "        [0, 0, 0, ..., 0, 0, 0],\n",
       "        [0, 0, 0, ..., 0, 0, 0]]),\n",
       " 109)"
      ]
     },
     "execution_count": 121,
     "metadata": {},
     "output_type": "execute_result"
    }
   ],
   "source": [
    "# number of segments in an image\n",
    "label(image, return_num=True)"
   ]
  },
  {
   "cell_type": "code",
   "execution_count": 130,
   "id": "bd597699",
   "metadata": {},
   "outputs": [
    {
     "data": {
      "text/plain": [
       "True"
      ]
     },
     "execution_count": 130,
     "metadata": {},
     "output_type": "execute_result"
    }
   ],
   "source": [
    "label(image).max() is not image.max()"
   ]
  },
  {
   "cell_type": "code",
   "execution_count": 132,
   "id": "e217670c",
   "metadata": {},
   "outputs": [
    {
     "data": {
      "text/plain": [
       "109"
      ]
     },
     "execution_count": 132,
     "metadata": {},
     "output_type": "execute_result"
    }
   ],
   "source": [
    "label(image).max()"
   ]
  },
  {
   "cell_type": "code",
   "execution_count": 131,
   "id": "1ba398e0",
   "metadata": {},
   "outputs": [
    {
     "data": {
      "text/plain": [
       "109"
      ]
     },
     "execution_count": 131,
     "metadata": {},
     "output_type": "execute_result"
    }
   ],
   "source": [
    "label(image, return_num=True)[-1]"
   ]
  },
  {
   "cell_type": "code",
   "execution_count": 170,
   "id": "85a05339",
   "metadata": {},
   "outputs": [],
   "source": [
    "def _is_multiclass(x: np.ndarray) -> bool:\n",
    "        # check if image is not uniquely labelled \n",
    "        # test to see number unique labels is not the same as the max label\n",
    "        return np.max(label(x)) != np.max(x)"
   ]
  },
  {
   "cell_type": "code",
   "execution_count": 171,
   "id": "e472aa2d",
   "metadata": {},
   "outputs": [
    {
     "data": {
      "text/plain": [
       "False"
      ]
     },
     "execution_count": 171,
     "metadata": {},
     "output_type": "execute_result"
    }
   ],
   "source": [
    "_is_multiclass(label(image))"
   ]
  },
  {
   "cell_type": "code",
   "execution_count": 172,
   "id": "f41c4bf7",
   "metadata": {},
   "outputs": [
    {
     "data": {
      "text/plain": [
       "True"
      ]
     },
     "execution_count": 172,
     "metadata": {},
     "output_type": "execute_result"
    }
   ],
   "source": [
    "_is_multiclass(image)"
   ]
  },
  {
   "cell_type": "code",
   "execution_count": 173,
   "id": "a7354ce5",
   "metadata": {},
   "outputs": [
    {
     "data": {
      "text/plain": [
       "True"
      ]
     },
     "execution_count": 173,
     "metadata": {},
     "output_type": "execute_result"
    }
   ],
   "source": [
    "_is_multiclass(image==1)"
   ]
  },
  {
   "cell_type": "code",
   "execution_count": 138,
   "id": "64024596",
   "metadata": {},
   "outputs": [
    {
     "name": "stderr",
     "output_type": "stream",
     "text": [
      "/home/nathan/analysis/miniconda3/envs/cellx/lib/python3.9/site-packages/skimage/io/_plugins/matplotlib_plugin.py:150: UserWarning: Low image data range; displaying image with stretched contrast.\n",
      "  lo, hi, cmap = _get_display_range(image)\n"
     ]
    },
    {
     "data": {
      "text/plain": [
       "<matplotlib.image.AxesImage at 0x7f76980230a0>"
      ]
     },
     "execution_count": 138,
     "metadata": {},
     "output_type": "execute_result"
    },
    {
     "data": {
      "image/png": "[encoded data removed]",
      "text/plain": [
       "<Figure size 1296x576 with 2 Axes>"
      ]
     },
     "metadata": {
      "needs_background": "light"
     },
     "output_type": "display_data"
    }
   ],
   "source": [
    "imshow(label(image))"
   ]
  },
  {
   "cell_type": "code",
   "execution_count": 139,
   "id": "1023e044",
   "metadata": {},
   "outputs": [
    {
     "data": {
      "text/plain": [
       "109"
      ]
     },
     "execution_count": 139,
     "metadata": {},
     "output_type": "execute_result"
    }
   ],
   "source": [
    "label(label(image)).max()"
   ]
  },
  {
   "cell_type": "code",
   "execution_count": 141,
   "id": "17c3e753",
   "metadata": {},
   "outputs": [
    {
     "data": {
      "text/plain": [
       "109"
      ]
     },
     "execution_count": 141,
     "metadata": {},
     "output_type": "execute_result"
    }
   ],
   "source": [
    "label(image).max()"
   ]
  },
  {
   "cell_type": "code",
   "execution_count": 154,
   "id": "07d32551",
   "metadata": {},
   "outputs": [
    {
     "name": "stderr",
     "output_type": "stream",
     "text": [
      "/home/nathan/analysis/miniconda3/envs/cellx/lib/python3.9/site-packages/skimage/io/_plugins/matplotlib_plugin.py:150: UserWarning: Low image data range; displaying image with stretched contrast.\n",
      "  lo, hi, cmap = _get_display_range(image)\n"
     ]
    },
    {
     "data": {
      "text/plain": [
       "<matplotlib.image.AxesImage at 0x7f7698111220>"
      ]
     },
     "execution_count": 154,
     "metadata": {},
     "output_type": "execute_result"
    },
    {
     "data": {
      "image/png": "[encoded data removed]",
      "text/plain": [
       "<Figure size 1296x576 with 2 Axes>"
      ]
     },
     "metadata": {
      "needs_background": "light"
     },
     "output_type": "display_data"
    }
   ],
   "source": [
    "imshow(image)"
   ]
  },
  {
   "cell_type": "code",
   "execution_count": 159,
   "id": "17c2ab6f",
   "metadata": {},
   "outputs": [
    {
     "data": {
      "text/plain": [
       "True"
      ]
     },
     "execution_count": 159,
     "metadata": {},
     "output_type": "execute_result"
    }
   ],
   "source": [
    "_is_multiclass(image)"
   ]
  },
  {
   "cell_type": "code",
   "execution_count": 150,
   "id": "1d938de8",
   "metadata": {},
   "outputs": [],
   "source": [
    "unique_image =[0] label(image)"
   ]
  },
  {
   "cell_type": "code",
   "execution_count": 156,
   "id": "06816fb9",
   "metadata": {},
   "outputs": [
    {
     "data": {
      "text/plain": [
       "<matplotlib.image.AxesImage at 0x7f76916d5df0>"
      ]
     },
     "execution_count": 156,
     "metadata": {},
     "output_type": "execute_result"
    },
    {
     "data": {
      "image/png": "[encoded data removed]",
      "text/plain": [
       "<Figure size 1296x576 with 2 Axes>"
      ]
     },
     "metadata": {
      "needs_background": "light"
     },
     "output_type": "display_data"
    }
   ],
   "source": [
    "imshow(label(image))"
   ]
  },
  {
   "cell_type": "code",
   "execution_count": 151,
   "id": "3215ec07",
   "metadata": {},
   "outputs": [
    {
     "data": {
      "text/plain": [
       "(109, 109)"
      ]
     },
     "execution_count": 151,
     "metadata": {},
     "output_type": "execute_result"
    }
   ],
   "source": [
    "label(unique_image).max(), unique_image.max()"
   ]
  },
  {
   "cell_type": "code",
   "execution_count": 152,
   "id": "c39d2d2a",
   "metadata": {},
   "outputs": [
    {
     "data": {
      "text/plain": [
       "True"
      ]
     },
     "execution_count": 152,
     "metadata": {},
     "output_type": "execute_result"
    }
   ],
   "source": [
    "label(unique_image).max() is not unique_image.max()"
   ]
  },
  {
   "cell_type": "code",
   "execution_count": 153,
   "id": "60834f1e",
   "metadata": {},
   "outputs": [
    {
     "data": {
      "text/plain": [
       "False"
      ]
     },
     "execution_count": 153,
     "metadata": {},
     "output_type": "execute_result"
    }
   ],
   "source": [
    "label(unique_image).max() != unique_image.max()"
   ]
  },
  {
   "cell_type": "code",
   "execution_count": 165,
   "id": "f140dd1a",
   "metadata": {},
   "outputs": [
    {
     "name": "stderr",
     "output_type": "stream",
     "text": [
      "<ipython-input-165-2e20c816e3ca>:1: DeprecationWarning: elementwise comparison failed; this will raise an error in the future.\n",
      "  np.unique(image) != label(image)\n"
     ]
    },
    {
     "data": {
      "text/plain": [
       "True"
      ]
     },
     "execution_count": 165,
     "metadata": {},
     "output_type": "execute_result"
    }
   ],
   "source": [
    "np.unique(image) != label(image)"
   ]
  },
  {
   "cell_type": "code",
   "execution_count": 168,
   "id": "f98fcd27",
   "metadata": {},
   "outputs": [
    {
     "data": {
      "text/plain": [
       "(110, 109)"
      ]
     },
     "execution_count": 168,
     "metadata": {},
     "output_type": "execute_result"
    }
   ],
   "source": [
    "len(np.unique(label(image))), np.max(label(image))"
   ]
  },
  {
   "cell_type": "markdown",
   "id": "224a92e3",
   "metadata": {},
   "source": [
    "# adding class label to obj properties"
   ]
  },
  {
   "cell_type": "code",
   "execution_count": 15,
   "id": "daf9d989",
   "metadata": {},
   "outputs": [],
   "source": [
    "labeled = label(image)"
   ]
  },
  {
   "cell_type": "code",
   "execution_count": 17,
   "id": "d84ce2b9",
   "metadata": {},
   "outputs": [
    {
     "data": {
      "text/plain": [
       "{'label': array([  1,   2,   3,   4,   5,   6,   7,   8,   9,  10,  11,  12,  13,\n",
       "         14,  15,  16,  17,  18,  19,  20,  21,  22,  23,  24,  25,  26,\n",
       "         27,  28,  29,  30,  31,  32,  33,  34,  35,  36,  37,  38,  39,\n",
       "         40,  41,  42,  43,  44,  45,  46,  47,  48,  49,  50,  51,  52,\n",
       "         53,  54,  55,  56,  57,  58,  59,  60,  61,  62,  63,  64,  65,\n",
       "         66,  67,  68,  69,  70,  71,  72,  73,  74,  75,  76,  77,  78,\n",
       "         79,  80,  81,  82,  83,  84,  85,  86,  87,  88,  89,  90,  91,\n",
       "         92,  93,  94,  95,  96,  97,  98,  99, 100, 101, 102, 103, 104,\n",
       "        105, 106, 107, 108, 109]),\n",
       " 'bbox-0': array([   0,    0,    0,    0,    1,   10,   18,   20,   36,   36,   72,\n",
       "          98,  101,  123,  126,  139,  148,  159,  159,  165,  183,  189,\n",
       "         192,  195,  198,  216,  222,  223,  228,  229,  269,  291,  295,\n",
       "         305,  334,  336,  337,  351,  358,  378,  384,  388,  394,  406,\n",
       "         429,  429,  438,  444,  450,  458,  463,  469,  482,  484,  485,\n",
       "         487,  488,  562,  587,  589,  618,  621,  624,  635,  670,  673,\n",
       "         676,  685,  691,  694,  696,  727,  733,  771,  794,  802,  805,\n",
       "         826,  830,  851,  857,  870,  871,  879,  901,  906,  941,  949,\n",
       "         951,  957,  961,  977,  984,  987,  989, 1000, 1002, 1003, 1003,\n",
       "        1012, 1016, 1037, 1057, 1057, 1073, 1074, 1076, 1158, 1179]),\n",
       " 'bbox-1': array([ 517,  736,  794, 1437, 1467,  843,  676,  806, 1242, 1473, 1425,\n",
       "        1471, 1261, 1321, 1117, 1369,  640,  593, 1500, 1056, 1094,  277,\n",
       "         636,  551, 1129, 1468,    0, 1527, 1055,  653, 1550,  674, 1486,\n",
       "         220,  416,  394, 1445,    0, 1489, 1460,  549,  601,   26,  661,\n",
       "         447,  578,  512,  689,   14,  473,  745,  547,  501,  256,  810,\n",
       "         153,  704,  288,   81,  150,  264,  160,  189,    4,  188,    8,\n",
       "         857,  523, 1041,  209,  549,  555,  517, 1004, 1398, 1271, 1230,\n",
       "         448,  345,  396, 1219,  904,  436,  334, 1228,   12, 1213,  629,\n",
       "         263, 1260,  836,  314,  583,  761, 1211,  385,  821,  440,  700,\n",
       "        1452, 1487, 1540, 1029, 1476,  975, 1559, 1485,  615,  662]),\n",
       " 'bbox-2': array([  10,    9,    4,    6,   21,   36,   44,   48,   57,   54,  101,\n",
       "         127,  131,  150,  154,  172,  173,  180,  187,  196,  210,  226,\n",
       "         221,  231,  223,  249,  249,  267,  272,  260,  307,  325,  327,\n",
       "         321,  350,  368,  364,  375,  377,  402,  410,  415,  426,  433,\n",
       "         447,  457,  465,  478,  485,  482,  495,  493,  507,  523,  517,\n",
       "         507,  517,  591,  603,  616,  647,  655,  642,  657,  691,  698,\n",
       "         701,  717,  722,  722,  724,  753,  756,  819,  821,  832,  829,\n",
       "         866,  861,  877,  891,  906,  895,  924,  933,  939,  967,  982,\n",
       "         985,  984,  986, 1009, 1022, 1016, 1007, 1026, 1032, 1027, 1027,\n",
       "        1041, 1041, 1065, 1081, 1081, 1108, 1099, 1097, 1176, 1194]),\n",
       " 'bbox-3': array([ 538,  757,  812, 1464, 1494,  865,  704,  830, 1266, 1499, 1449,\n",
       "        1507, 1283, 1347, 1146, 1414,  669,  615, 1537, 1085, 1121,  318,\n",
       "         671,  584, 1154, 1504,   18, 1554, 1075,  678, 1580,  698, 1523,\n",
       "         246,  431,  410, 1472,   11, 1509, 1482,  571,  634,   58,  688,\n",
       "         472,  612,  547,  731,   45,  499,  768,  571,  526,  285,  829,\n",
       "         170,  729,  327,   97,  179,  296,  180,  209,   30,  206,   33,\n",
       "         882,  544, 1074,  248,  574,  589,  543, 1043, 1436, 1297, 1260,\n",
       "         479,  385,  423, 1266,  938,  461,  364, 1249,   38, 1232,  676,\n",
       "         302, 1288,  877,  347,  620,  792, 1243,  413,  850,  466,  727,\n",
       "        1476, 1512, 1571, 1057, 1506, 1009, 1590, 1511,  642,  678])}"
      ]
     },
     "execution_count": 17,
     "metadata": {},
     "output_type": "execute_result"
    }
   ],
   "source": [
    "regionprops_table(labeled)"
   ]
  },
  {
   "cell_type": "code",
   "execution_count": 14,
   "id": "6b9d8ca8",
   "metadata": {},
   "outputs": [
    {
     "data": {
      "text/plain": [
       "array([1, 2])"
      ]
     },
     "execution_count": 14,
     "metadata": {},
     "output_type": "execute_result"
    }
   ],
   "source": [
    "regionprops_table(image)['label']"
   ]
  },
  {
   "cell_type": "markdown",
   "id": "4fa49b7b",
   "metadata": {},
   "source": [
    "#### Can also assign measured values from raw image to each segment using `skimage.measure.regionprops` parameters\n",
    "But also need to load the raw images to be measured first. Cannot currently save out `intensity_image` parameter to object file."
   ]
  },
  {
   "cell_type": "code",
   "execution_count": null,
   "id": "a4548905",
   "metadata": {},
   "outputs": [],
   "source": [
    "detailed_objects = btrack.utils.segmentation_to_objects(\n",
    "    images['mask'], \n",
    "    images['gfp'],\n",
    "    properties = ('area', 'mean_intensity', 'intensity_image'), \n",
    ")"
   ]
  },
  {
   "cell_type": "code",
   "execution_count": null,
   "id": "91e2efcf",
   "metadata": {},
   "outputs": [],
   "source": [
    "detailed_objects[0]"
   ]
  },
  {
   "cell_type": "markdown",
   "id": "63775a4c",
   "metadata": {},
   "source": [
    "Example image showing PCNA-iRFP morphology "
   ]
  },
  {
   "cell_type": "code",
   "execution_count": null,
   "id": "03d3a75b",
   "metadata": {},
   "outputs": [],
   "source": [
    "imshow(detailed_objects[0].properties['intensity_image'])"
   ]
  },
  {
   "cell_type": "markdown",
   "id": "08114355",
   "metadata": {},
   "source": [
    "## 2b. Differentiate the objects based on class ID"
   ]
  },
  {
   "cell_type": "code",
   "execution_count": null,
   "id": "583c2fdc",
   "metadata": {},
   "outputs": [],
   "source": [
    "objects_gfp = [obj for obj in objects if obj.properties['max_intensity'] == 1]\n",
    "objects_rfp = [obj for obj in objects if obj.properties['max_intensity'] == 2]"
   ]
  },
  {
   "cell_type": "markdown",
   "id": "cbc05b98",
   "metadata": {},
   "source": [
    "## 3. Classify the objects "
   ]
  },
  {
   "cell_type": "markdown",
   "id": "e1725583",
   "metadata": {},
   "source": [
    "Load model"
   ]
  },
  {
   "cell_type": "code",
   "execution_count": 2,
   "id": "10cd85e0",
   "metadata": {},
   "outputs": [],
   "source": [
    "model = load_model('../models/cellx_classifier_stardist.h5')"
   ]
  },
  {
   "cell_type": "markdown",
   "id": "3bce619f",
   "metadata": {},
   "source": [
    "Define normalisation functions"
   ]
  },
  {
   "cell_type": "code",
   "execution_count": 3,
   "id": "92d135ad",
   "metadata": {},
   "outputs": [],
   "source": [
    "def normalize_channels(x):\n",
    "\n",
    "    for dim in range(x.shape[-1]):\n",
    "        x[..., dim] = normalize(x[..., dim])\n",
    "        \n",
    "    return x\n",
    "\n",
    "def normalize(x):\n",
    "\n",
    "    xf = x.astype(np.float32)\n",
    "    mx = np.mean(xf)\n",
    "    sd = np.max([np.std(xf), 1./np.prod(x.shape)])\n",
    "\n",
    "    return (xf - mx) / sd"
   ]
  },
  {
   "cell_type": "markdown",
   "id": "3bb8428f",
   "metadata": {},
   "source": [
    "Define classifier function"
   ]
  },
  {
   "cell_type": "code",
   "execution_count": 4,
   "id": "41184a4e",
   "metadata": {},
   "outputs": [],
   "source": [
    "def classify_objects(image, objects, obj_type):\n",
    "    \n",
    "    # define stages of cell cycle to classify (dependent on model type)\n",
    "    LABELS = [\"interphase\", \"prometaphase\", \"metaphase\", \"anaphase\", \"apoptosis\"]\n",
    "    \n",
    "    # iterate over frames\n",
    "    for n in tqdm(range(image.shape[0])):\n",
    "        \n",
    "        # only select objects if in frame\n",
    "        _objects = [o for o in objects if o.t == n]\n",
    "        \n",
    "        # empty placeholder arrays\n",
    "        crops = []\n",
    "        to_update = []\n",
    "        \n",
    "        # select h2b channel to aid in classification\n",
    "        fp = gfp if obj_type == 1 else rfp\n",
    "        \n",
    "        # create stack by computing each frame of dask array input\n",
    "        frame = np.stack(\n",
    "            [image[n, ...].compute(), fp[n, ...].compute()], \n",
    "            axis=-1,) \n",
    "        \n",
    "        # create padded image for network\n",
    "        vol = InfinitePaddedImage(frame, mode = 'reflect')\n",
    "        \n",
    "        # iterate over objects \n",
    "        for obj in _objects:\n",
    "            \n",
    "            # create coords for image slice\n",
    "            xs = slice(int(obj.x-40), int(obj.x+40), 1)\n",
    "            ys = slice(int(obj.y-40), int(obj.y+40), 1)\n",
    "            \n",
    "            # crop image\n",
    "            crop = vol[ys, xs, :]\n",
    "            crop = resize(crop, (64, 64), preserve_range=True).astype(np.float32)\n",
    "            \n",
    "            # normalise image\n",
    "            if crop.shape == (64 ,64, 2):\n",
    "                crops.append(normalize_channels(crop))\n",
    "                to_update.append(obj)\n",
    "            else:\n",
    "                print(crop.shape)\n",
    "                \n",
    "        if not crops:\n",
    "            continue\n",
    "            \n",
    "        # use classifcation model to predict\n",
    "        pred = model.predict(np.stack(crops, axis=0))\n",
    "        \n",
    "        # check correct number of predictions\n",
    "        assert pred.shape[0] == len(_objects)\n",
    "        \n",
    "        # assign labels to objects\n",
    "        for idx in range(pred.shape[0]):\n",
    "            obj = _objects[idx]\n",
    "            \n",
    "            # assigning details of prediction\n",
    "            pred_label = np.argmax(pred[idx, ...])\n",
    "            pred_softmax = softmax(pred[idx, ...])\n",
    "            logits = {f\"prob_{k}\": pred_softmax[ki] for ki, k in enumerate(LABELS)}\n",
    "            \n",
    "            # write out\n",
    "            obj.label = pred_label\n",
    "            obj.properties = logits\n",
    "\n",
    "    return objects"
   ]
  },
  {
   "cell_type": "markdown",
   "id": "db8781b4",
   "metadata": {},
   "source": [
    "#### Load raw images for classifier, a colour channel dependent on `obj_type` needed too (i.e. GFP is `obj_type = 1`, RFP is `obj_type = 2`"
   ]
  },
  {
   "cell_type": "code",
   "execution_count": null,
   "id": "657771d0",
   "metadata": {},
   "outputs": [],
   "source": [
    "bf = images['brightfield']\n",
    "gfp = images['gfp']\n",
    "rfp = images['rfp']"
   ]
  },
  {
   "cell_type": "markdown",
   "id": "30835a86",
   "metadata": {},
   "source": [
    "#### Classify objects"
   ]
  },
  {
   "cell_type": "code",
   "execution_count": null,
   "id": "420e84c8",
   "metadata": {},
   "outputs": [],
   "source": [
    "objects_gfp = classify_objects(bf, objects_gfp, obj_type = 1)\n",
    "objects_rfp = classify_objects(bf, objects_rfp, obj_type = 2)"
   ]
  },
  {
   "cell_type": "markdown",
   "id": "c70646be",
   "metadata": {},
   "source": [
    "#### Inspect an example object"
   ]
  },
  {
   "cell_type": "code",
   "execution_count": null,
   "id": "aec4f611",
   "metadata": {},
   "outputs": [],
   "source": [
    "objects_gfp[0]"
   ]
  },
  {
   "cell_type": "markdown",
   "id": "65c5c716",
   "metadata": {},
   "source": [
    "#### Save out classified GFP objects"
   ]
  },
  {
   "cell_type": "code",
   "execution_count": null,
   "id": "796afd43",
   "metadata": {},
   "outputs": [],
   "source": [
    "with btrack.dataio.HDF5FileHandler(\n",
    "    f'{root_dir}/{expt}/{pos}/objects_type_1.h5', 'w', obj_type='obj_type_1',\n",
    ") as hdf:\n",
    "    #hdf.write_segmentation(masks['mask'])\n",
    "    hdf.write_objects(objects_gfp)"
   ]
  },
  {
   "cell_type": "markdown",
   "id": "9fdb0274",
   "metadata": {},
   "source": [
    "#### Save out classified RFP objects"
   ]
  },
  {
   "cell_type": "code",
   "execution_count": null,
   "id": "71de0f83",
   "metadata": {},
   "outputs": [],
   "source": [
    "with btrack.dataio.HDF5FileHandler(\n",
    "    f'{root_dir}/{expt}/{pos}/objects_type_2.h5', 'w', obj_type='obj_type_2',\n",
    ") as hdf:\n",
    "    #hdf.write_segmentation(masks['mask'])\n",
    "    hdf.write_objects(objects_rfp)"
   ]
  },
  {
   "cell_type": "markdown",
   "id": "1b2e10e7",
   "metadata": {},
   "source": [
    "# 4. Batch process\n",
    "Iterate over many experiments and positions (need to ensure you define normalisation and classification functions above first)"
   ]
  },
  {
   "cell_type": "code",
   "execution_count": 5,
   "id": "b1792133",
   "metadata": {
    "scrolled": true
   },
   "outputs": [
    {
     "data": {
      "application/vnd.jupyter.widget-view+json": {
       "model_id": "70308a1a45fe439192b4cb4b0df82880",
       "version_major": 2,
       "version_minor": 0
      },
      "text/plain": [
       "  0%|          | 0/3 [00:00<?, ?it/s]"
      ]
     },
     "metadata": {},
     "output_type": "display_data"
    },
    {
     "data": {
      "application/vnd.jupyter.widget-view+json": {
       "model_id": "34430ea734ad4c118fb828f603ba2ee4",
       "version_major": 2,
       "version_minor": 0
      },
      "text/plain": [
       "  0%|          | 0/12 [00:00<?, ?it/s]"
      ]
     },
     "metadata": {},
     "output_type": "display_data"
    },
    {
     "name": "stdout",
     "output_type": "stream",
     "text": [
      "Starting ND0010/Pos5\n",
      "Using cropping: (1200, 1600)\n"
     ]
    },
    {
     "name": "stderr",
     "output_type": "stream",
     "text": [
      "[INFO][2022/02/03 08:25:55 PM] Localizing objects from segmentation...\n",
      "[INFO][2022/02/03 08:25:55 PM] Found intensity_image data\n",
      "[INFO][2022/02/03 08:25:55 PM] Calculating weighted centroids using intensity_image\n",
      "[INFO][2022/02/03 08:31:04 PM] Objects are of type: <class 'dict'>\n",
      "[INFO][2022/02/03 08:31:04 PM] ...Found 3579 objects in 1193 frames.\n"
     ]
    },
    {
     "name": "stdout",
     "output_type": "stream",
     "text": [
      "Classifying objects\n"
     ]
    },
    {
     "data": {
      "application/vnd.jupyter.widget-view+json": {
       "model_id": "c3f0bf8ad0774eb8afceb6f28ccfdc2f",
       "version_major": 2,
       "version_minor": 0
      },
      "text/plain": [
       "  0%|          | 0/1193 [00:00<?, ?it/s]"
      ]
     },
     "metadata": {},
     "output_type": "display_data"
    },
    {
     "data": {
      "application/vnd.jupyter.widget-view+json": {
       "model_id": "c5a16cd066fd4acb9245938a025d2d71",
       "version_major": 2,
       "version_minor": 0
      },
      "text/plain": [
       "  0%|          | 0/1193 [00:00<?, ?it/s]"
      ]
     },
     "metadata": {},
     "output_type": "display_data"
    },
    {
     "name": "stderr",
     "output_type": "stream",
     "text": [
      "[INFO][2022/02/03 08:47:28 PM] Opening HDF file: /home/nathan/data/kraken/ras/ND0010/Pos5/objects_type_1.h5...\n",
      "[INFO][2022/02/03 08:47:28 PM] Writing objects/obj_type_1\n",
      "[INFO][2022/02/03 08:47:28 PM] Writing labels/obj_type_1\n",
      "[INFO][2022/02/03 08:47:28 PM] Loading objects/obj_type_1 (2391, 5) (2391 filtered: None)\n",
      "[INFO][2022/02/03 08:47:28 PM] Writing properties/obj_type_1/area (2391,)\n",
      "[INFO][2022/02/03 08:47:28 PM] Writing properties/obj_type_1/max_intensity (2391,)\n",
      "[INFO][2022/02/03 08:47:28 PM] Writing properties/obj_type_1/prob_interphase (2391,)\n",
      "[INFO][2022/02/03 08:47:28 PM] Writing properties/obj_type_1/prob_prometaphase (2391,)\n",
      "[INFO][2022/02/03 08:47:28 PM] Writing properties/obj_type_1/prob_metaphase (2391,)\n",
      "[INFO][2022/02/03 08:47:28 PM] Writing properties/obj_type_1/prob_anaphase (2391,)\n",
      "[INFO][2022/02/03 08:47:28 PM] Writing properties/obj_type_1/prob_apoptosis (2391,)\n",
      "[INFO][2022/02/03 08:47:28 PM] Closing HDF file: /home/nathan/data/kraken/ras/ND0010/Pos5/objects_type_1.h5\n",
      "[INFO][2022/02/03 08:47:28 PM] Opening HDF file: /home/nathan/data/kraken/ras/ND0010/Pos5/objects_type_2.h5...\n",
      "[INFO][2022/02/03 08:47:28 PM] Writing objects/obj_type_2\n",
      "[INFO][2022/02/03 08:47:28 PM] Writing labels/obj_type_2\n",
      "[INFO][2022/02/03 08:47:28 PM] Loading objects/obj_type_2 (1188, 5) (1188 filtered: None)\n",
      "[INFO][2022/02/03 08:47:28 PM] Writing properties/obj_type_2/area (1188,)\n",
      "[INFO][2022/02/03 08:47:28 PM] Writing properties/obj_type_2/max_intensity (1188,)\n",
      "[INFO][2022/02/03 08:47:28 PM] Writing properties/obj_type_2/prob_interphase (1188,)\n",
      "[INFO][2022/02/03 08:47:28 PM] Writing properties/obj_type_2/prob_prometaphase (1188,)\n",
      "[INFO][2022/02/03 08:47:28 PM] Writing properties/obj_type_2/prob_metaphase (1188,)\n",
      "[INFO][2022/02/03 08:47:28 PM] Writing properties/obj_type_2/prob_anaphase (1188,)\n",
      "[INFO][2022/02/03 08:47:28 PM] Writing properties/obj_type_2/prob_apoptosis (1188,)\n",
      "[INFO][2022/02/03 08:47:28 PM] Closing HDF file: /home/nathan/data/kraken/ras/ND0010/Pos5/objects_type_2.h5\n"
     ]
    },
    {
     "name": "stdout",
     "output_type": "stream",
     "text": [
      "Starting ND0010/Pos11\n",
      "Using cropping: (1200, 1600)\n"
     ]
    },
    {
     "name": "stderr",
     "output_type": "stream",
     "text": [
      "[INFO][2022/02/03 08:47:31 PM] Localizing objects from segmentation...\n",
      "[INFO][2022/02/03 08:47:31 PM] Found intensity_image data\n",
      "[INFO][2022/02/03 08:47:31 PM] Calculating weighted centroids using intensity_image\n",
      "[INFO][2022/02/03 08:54:01 PM] Objects are of type: <class 'dict'>\n",
      "[INFO][2022/02/03 08:54:01 PM] ...Found 2540 objects in 1191 frames.\n"
     ]
    },
    {
     "name": "stdout",
     "output_type": "stream",
     "text": [
      "Classifying objects\n"
     ]
    },
    {
     "data": {
      "application/vnd.jupyter.widget-view+json": {
       "model_id": "4ec49fd9fcf94cfcb38de0e64214a402",
       "version_major": 2,
       "version_minor": 0
      },
      "text/plain": [
       "  0%|          | 0/1191 [00:00<?, ?it/s]"
      ]
     },
     "metadata": {},
     "output_type": "display_data"
    },
    {
     "data": {
      "application/vnd.jupyter.widget-view+json": {
       "model_id": "e6c57d4676164673a2b84796a44cc51d",
       "version_major": 2,
       "version_minor": 0
      },
      "text/plain": [
       "  0%|          | 0/1191 [00:00<?, ?it/s]"
      ]
     },
     "metadata": {},
     "output_type": "display_data"
    },
    {
     "name": "stderr",
     "output_type": "stream",
     "text": [
      "[INFO][2022/02/03 09:09:33 PM] Opening HDF file: /home/nathan/data/kraken/ras/ND0010/Pos11/objects_type_1.h5...\n",
      "[INFO][2022/02/03 09:09:33 PM] Writing objects/obj_type_1\n",
      "[INFO][2022/02/03 09:09:33 PM] Writing labels/obj_type_1\n",
      "[INFO][2022/02/03 09:09:33 PM] Loading objects/obj_type_1 (1351, 5) (1351 filtered: None)\n",
      "[INFO][2022/02/03 09:09:33 PM] Writing properties/obj_type_1/area (1351,)\n",
      "[INFO][2022/02/03 09:09:33 PM] Writing properties/obj_type_1/max_intensity (1351,)\n",
      "[INFO][2022/02/03 09:09:33 PM] Writing properties/obj_type_1/prob_interphase (1351,)\n",
      "[INFO][2022/02/03 09:09:33 PM] Writing properties/obj_type_1/prob_prometaphase (1351,)\n",
      "[INFO][2022/02/03 09:09:33 PM] Writing properties/obj_type_1/prob_metaphase (1351,)\n",
      "[INFO][2022/02/03 09:09:33 PM] Writing properties/obj_type_1/prob_anaphase (1351,)\n",
      "[INFO][2022/02/03 09:09:33 PM] Writing properties/obj_type_1/prob_apoptosis (1351,)\n",
      "[INFO][2022/02/03 09:09:33 PM] Closing HDF file: /home/nathan/data/kraken/ras/ND0010/Pos11/objects_type_1.h5\n",
      "[INFO][2022/02/03 09:09:33 PM] Opening HDF file: /home/nathan/data/kraken/ras/ND0010/Pos11/objects_type_2.h5...\n",
      "[INFO][2022/02/03 09:09:33 PM] Writing objects/obj_type_2\n",
      "[INFO][2022/02/03 09:09:33 PM] Writing labels/obj_type_2\n",
      "[INFO][2022/02/03 09:09:33 PM] Loading objects/obj_type_2 (1189, 5) (1189 filtered: None)\n",
      "[INFO][2022/02/03 09:09:33 PM] Writing properties/obj_type_2/area (1189,)\n",
      "[INFO][2022/02/03 09:09:33 PM] Writing properties/obj_type_2/max_intensity (1189,)\n",
      "[INFO][2022/02/03 09:09:33 PM] Writing properties/obj_type_2/prob_interphase (1189,)\n",
      "[INFO][2022/02/03 09:09:33 PM] Writing properties/obj_type_2/prob_prometaphase (1189,)\n",
      "[INFO][2022/02/03 09:09:33 PM] Writing properties/obj_type_2/prob_metaphase (1189,)\n",
      "[INFO][2022/02/03 09:09:33 PM] Writing properties/obj_type_2/prob_anaphase (1189,)\n",
      "[INFO][2022/02/03 09:09:33 PM] Writing properties/obj_type_2/prob_apoptosis (1189,)\n",
      "[INFO][2022/02/03 09:09:33 PM] Closing HDF file: /home/nathan/data/kraken/ras/ND0010/Pos11/objects_type_2.h5\n"
     ]
    },
    {
     "name": "stdout",
     "output_type": "stream",
     "text": [
      "Starting ND0010/Pos3\n",
      "Using cropping: (1200, 1600)\n"
     ]
    },
    {
     "name": "stderr",
     "output_type": "stream",
     "text": [
      "[INFO][2022/02/03 09:09:34 PM] Localizing objects from segmentation...\n",
      "[INFO][2022/02/03 09:09:34 PM] Found intensity_image data\n",
      "[INFO][2022/02/03 09:09:34 PM] Calculating weighted centroids using intensity_image\n",
      "[INFO][2022/02/03 09:15:45 PM] Objects are of type: <class 'dict'>\n",
      "[INFO][2022/02/03 09:15:45 PM] ...Found 2367 objects in 1189 frames.\n"
     ]
    },
    {
     "name": "stdout",
     "output_type": "stream",
     "text": [
      "Classifying objects\n"
     ]
    },
    {
     "data": {
      "application/vnd.jupyter.widget-view+json": {
       "model_id": "16d2d600a25b4bc7af70f9009c849947",
       "version_major": 2,
       "version_minor": 0
      },
      "text/plain": [
       "  0%|          | 0/1189 [00:00<?, ?it/s]"
      ]
     },
     "metadata": {},
     "output_type": "display_data"
    },
    {
     "data": {
      "application/vnd.jupyter.widget-view+json": {
       "model_id": "9f552bf5abd74baeb3c83fd81e6c0122",
       "version_major": 2,
       "version_minor": 0
      },
      "text/plain": [
       "  0%|          | 0/1189 [00:00<?, ?it/s]"
      ]
     },
     "metadata": {},
     "output_type": "display_data"
    },
    {
     "name": "stderr",
     "output_type": "stream",
     "text": [
      "[INFO][2022/02/03 09:31:02 PM] Opening HDF file: /home/nathan/data/kraken/ras/ND0010/Pos3/objects_type_1.h5...\n",
      "[INFO][2022/02/03 09:31:02 PM] Writing objects/obj_type_1\n",
      "[INFO][2022/02/03 09:31:02 PM] Writing labels/obj_type_1\n",
      "[INFO][2022/02/03 09:31:02 PM] Loading objects/obj_type_1 (1183, 5) (1183 filtered: None)\n",
      "[INFO][2022/02/03 09:31:02 PM] Writing properties/obj_type_1/area (1183,)\n",
      "[INFO][2022/02/03 09:31:02 PM] Writing properties/obj_type_1/max_intensity (1183,)\n",
      "[INFO][2022/02/03 09:31:02 PM] Writing properties/obj_type_1/prob_interphase (1183,)\n",
      "[INFO][2022/02/03 09:31:02 PM] Writing properties/obj_type_1/prob_prometaphase (1183,)\n",
      "[INFO][2022/02/03 09:31:02 PM] Writing properties/obj_type_1/prob_metaphase (1183,)\n",
      "[INFO][2022/02/03 09:31:02 PM] Writing properties/obj_type_1/prob_anaphase (1183,)\n",
      "[INFO][2022/02/03 09:31:02 PM] Writing properties/obj_type_1/prob_apoptosis (1183,)\n",
      "[INFO][2022/02/03 09:31:02 PM] Closing HDF file: /home/nathan/data/kraken/ras/ND0010/Pos3/objects_type_1.h5\n",
      "[INFO][2022/02/03 09:31:02 PM] Opening HDF file: /home/nathan/data/kraken/ras/ND0010/Pos3/objects_type_2.h5...\n",
      "[INFO][2022/02/03 09:31:02 PM] Writing objects/obj_type_2\n",
      "[INFO][2022/02/03 09:31:02 PM] Writing labels/obj_type_2\n",
      "[INFO][2022/02/03 09:31:02 PM] Loading objects/obj_type_2 (1184, 5) (1184 filtered: None)\n",
      "[INFO][2022/02/03 09:31:02 PM] Writing properties/obj_type_2/area (1184,)\n",
      "[INFO][2022/02/03 09:31:02 PM] Writing properties/obj_type_2/max_intensity (1184,)\n",
      "[INFO][2022/02/03 09:31:02 PM] Writing properties/obj_type_2/prob_interphase (1184,)\n",
      "[INFO][2022/02/03 09:31:02 PM] Writing properties/obj_type_2/prob_prometaphase (1184,)\n",
      "[INFO][2022/02/03 09:31:02 PM] Writing properties/obj_type_2/prob_metaphase (1184,)\n",
      "[INFO][2022/02/03 09:31:02 PM] Writing properties/obj_type_2/prob_anaphase (1184,)\n",
      "[INFO][2022/02/03 09:31:02 PM] Writing properties/obj_type_2/prob_apoptosis (1184,)\n",
      "[INFO][2022/02/03 09:31:02 PM] Closing HDF file: /home/nathan/data/kraken/ras/ND0010/Pos3/objects_type_2.h5\n"
     ]
    },
    {
     "name": "stdout",
     "output_type": "stream",
     "text": [
      "Starting ND0010/Pos1\n",
      "Using cropping: (1200, 1600)\n"
     ]
    },
    {
     "name": "stderr",
     "output_type": "stream",
     "text": [
      "[INFO][2022/02/03 09:31:04 PM] Localizing objects from segmentation...\n",
      "[INFO][2022/02/03 09:31:04 PM] Found intensity_image data\n",
      "[INFO][2022/02/03 09:31:04 PM] Calculating weighted centroids using intensity_image\n",
      "[INFO][2022/02/03 09:37:17 PM] Objects are of type: <class 'dict'>\n",
      "[INFO][2022/02/03 09:37:17 PM] ...Found 2384 objects in 1193 frames.\n"
     ]
    },
    {
     "name": "stdout",
     "output_type": "stream",
     "text": [
      "Classifying objects\n"
     ]
    },
    {
     "data": {
      "application/vnd.jupyter.widget-view+json": {
       "model_id": "9de49507deca42fea81a3e504718d6a0",
       "version_major": 2,
       "version_minor": 0
      },
      "text/plain": [
       "  0%|          | 0/1193 [00:00<?, ?it/s]"
      ]
     },
     "metadata": {},
     "output_type": "display_data"
    },
    {
     "data": {
      "application/vnd.jupyter.widget-view+json": {
       "model_id": "9772d588d4a844209bc86ff559d05619",
       "version_major": 2,
       "version_minor": 0
      },
      "text/plain": [
       "  0%|          | 0/1193 [00:00<?, ?it/s]"
      ]
     },
     "metadata": {},
     "output_type": "display_data"
    },
    {
     "name": "stderr",
     "output_type": "stream",
     "text": [
      "[INFO][2022/02/03 09:54:05 PM] Opening HDF file: /home/nathan/data/kraken/ras/ND0010/Pos1/objects_type_1.h5...\n",
      "[INFO][2022/02/03 09:54:05 PM] Writing objects/obj_type_1\n",
      "[INFO][2022/02/03 09:54:05 PM] Writing labels/obj_type_1\n",
      "[INFO][2022/02/03 09:54:05 PM] Loading objects/obj_type_1 (1192, 5) (1192 filtered: None)\n",
      "[INFO][2022/02/03 09:54:05 PM] Writing properties/obj_type_1/area (1192,)\n",
      "[INFO][2022/02/03 09:54:05 PM] Writing properties/obj_type_1/max_intensity (1192,)\n",
      "[INFO][2022/02/03 09:54:05 PM] Writing properties/obj_type_1/prob_interphase (1192,)\n",
      "[INFO][2022/02/03 09:54:05 PM] Writing properties/obj_type_1/prob_prometaphase (1192,)\n",
      "[INFO][2022/02/03 09:54:05 PM] Writing properties/obj_type_1/prob_metaphase (1192,)\n",
      "[INFO][2022/02/03 09:54:05 PM] Writing properties/obj_type_1/prob_anaphase (1192,)\n",
      "[INFO][2022/02/03 09:54:05 PM] Writing properties/obj_type_1/prob_apoptosis (1192,)\n",
      "[INFO][2022/02/03 09:54:05 PM] Closing HDF file: /home/nathan/data/kraken/ras/ND0010/Pos1/objects_type_1.h5\n",
      "[INFO][2022/02/03 09:54:05 PM] Opening HDF file: /home/nathan/data/kraken/ras/ND0010/Pos1/objects_type_2.h5...\n",
      "[INFO][2022/02/03 09:54:05 PM] Writing objects/obj_type_2\n",
      "[INFO][2022/02/03 09:54:05 PM] Writing labels/obj_type_2\n",
      "[INFO][2022/02/03 09:54:05 PM] Loading objects/obj_type_2 (1192, 5) (1192 filtered: None)\n",
      "[INFO][2022/02/03 09:54:05 PM] Writing properties/obj_type_2/area (1192,)\n",
      "[INFO][2022/02/03 09:54:05 PM] Writing properties/obj_type_2/max_intensity (1192,)\n",
      "[INFO][2022/02/03 09:54:05 PM] Writing properties/obj_type_2/prob_interphase (1192,)\n",
      "[INFO][2022/02/03 09:54:05 PM] Writing properties/obj_type_2/prob_prometaphase (1192,)\n",
      "[INFO][2022/02/03 09:54:05 PM] Writing properties/obj_type_2/prob_metaphase (1192,)\n",
      "[INFO][2022/02/03 09:54:05 PM] Writing properties/obj_type_2/prob_anaphase (1192,)\n",
      "[INFO][2022/02/03 09:54:05 PM] Writing properties/obj_type_2/prob_apoptosis (1192,)\n",
      "[INFO][2022/02/03 09:54:05 PM] Closing HDF file: /home/nathan/data/kraken/ras/ND0010/Pos1/objects_type_2.h5\n"
     ]
    },
    {
     "name": "stdout",
     "output_type": "stream",
     "text": [
      "Starting ND0010/Pos8\n",
      "Using cropping: (1200, 1600)\n"
     ]
    },
    {
     "name": "stderr",
     "output_type": "stream",
     "text": [
      "[INFO][2022/02/03 09:54:06 PM] Localizing objects from segmentation...\n",
      "[INFO][2022/02/03 09:54:06 PM] Found intensity_image data\n",
      "[INFO][2022/02/03 09:54:06 PM] Calculating weighted centroids using intensity_image\n",
      "[INFO][2022/02/03 10:01:19 PM] Objects are of type: <class 'dict'>\n",
      "[INFO][2022/02/03 10:01:20 PM] ...Found 3128 objects in 1193 frames.\n"
     ]
    },
    {
     "name": "stdout",
     "output_type": "stream",
     "text": [
      "Classifying objects\n"
     ]
    },
    {
     "data": {
      "application/vnd.jupyter.widget-view+json": {
       "model_id": "fed5c5a5dd594fb6afd0a5a4ebfdf7f9",
       "version_major": 2,
       "version_minor": 0
      },
      "text/plain": [
       "  0%|          | 0/1193 [00:00<?, ?it/s]"
      ]
     },
     "metadata": {},
     "output_type": "display_data"
    },
    {
     "data": {
      "application/vnd.jupyter.widget-view+json": {
       "model_id": "c5942c51453449509a7db02006218305",
       "version_major": 2,
       "version_minor": 0
      },
      "text/plain": [
       "  0%|          | 0/1193 [00:00<?, ?it/s]"
      ]
     },
     "metadata": {},
     "output_type": "display_data"
    },
    {
     "name": "stderr",
     "output_type": "stream",
     "text": [
      "[INFO][2022/02/03 10:15:41 PM] Opening HDF file: /home/nathan/data/kraken/ras/ND0010/Pos8/objects_type_1.h5...\n",
      "[INFO][2022/02/03 10:15:41 PM] Writing objects/obj_type_1\n",
      "[INFO][2022/02/03 10:15:41 PM] Writing labels/obj_type_1\n",
      "[INFO][2022/02/03 10:15:41 PM] Loading objects/obj_type_1 (1939, 5) (1939 filtered: None)\n",
      "[INFO][2022/02/03 10:15:41 PM] Writing properties/obj_type_1/area (1939,)\n",
      "[INFO][2022/02/03 10:15:41 PM] Writing properties/obj_type_1/max_intensity (1939,)\n",
      "[INFO][2022/02/03 10:15:41 PM] Writing properties/obj_type_1/prob_interphase (1939,)\n",
      "[INFO][2022/02/03 10:15:41 PM] Writing properties/obj_type_1/prob_prometaphase (1939,)\n",
      "[INFO][2022/02/03 10:15:41 PM] Writing properties/obj_type_1/prob_metaphase (1939,)\n",
      "[INFO][2022/02/03 10:15:41 PM] Writing properties/obj_type_1/prob_anaphase (1939,)\n",
      "[INFO][2022/02/03 10:15:41 PM] Writing properties/obj_type_1/prob_apoptosis (1939,)\n",
      "[INFO][2022/02/03 10:15:41 PM] Closing HDF file: /home/nathan/data/kraken/ras/ND0010/Pos8/objects_type_1.h5\n",
      "[INFO][2022/02/03 10:15:41 PM] Opening HDF file: /home/nathan/data/kraken/ras/ND0010/Pos8/objects_type_2.h5...\n",
      "[INFO][2022/02/03 10:15:41 PM] Writing objects/obj_type_2\n",
      "[INFO][2022/02/03 10:15:41 PM] Writing labels/obj_type_2\n",
      "[INFO][2022/02/03 10:15:41 PM] Loading objects/obj_type_2 (1189, 5) (1189 filtered: None)\n",
      "[INFO][2022/02/03 10:15:41 PM] Writing properties/obj_type_2/area (1189,)\n",
      "[INFO][2022/02/03 10:15:41 PM] Writing properties/obj_type_2/max_intensity (1189,)\n",
      "[INFO][2022/02/03 10:15:41 PM] Writing properties/obj_type_2/prob_interphase (1189,)\n",
      "[INFO][2022/02/03 10:15:41 PM] Writing properties/obj_type_2/prob_prometaphase (1189,)\n",
      "[INFO][2022/02/03 10:15:41 PM] Writing properties/obj_type_2/prob_metaphase (1189,)\n",
      "[INFO][2022/02/03 10:15:41 PM] Writing properties/obj_type_2/prob_anaphase (1189,)\n",
      "[INFO][2022/02/03 10:15:41 PM] Writing properties/obj_type_2/prob_apoptosis (1189,)\n",
      "[INFO][2022/02/03 10:15:41 PM] Closing HDF file: /home/nathan/data/kraken/ras/ND0010/Pos8/objects_type_2.h5\n"
     ]
    },
    {
     "name": "stdout",
     "output_type": "stream",
     "text": [
      "Starting ND0010/Pos10\n",
      "Using cropping: (1200, 1600)\n"
     ]
    },
    {
     "name": "stderr",
     "output_type": "stream",
     "text": [
      "[INFO][2022/02/03 10:15:42 PM] Localizing objects from segmentation...\n",
      "[INFO][2022/02/03 10:15:42 PM] Found intensity_image data\n",
      "[INFO][2022/02/03 10:15:42 PM] Calculating weighted centroids using intensity_image\n",
      "[INFO][2022/02/03 10:20:32 PM] Objects are of type: <class 'dict'>\n",
      "[INFO][2022/02/03 10:20:32 PM] ...Found 2850 objects in 1194 frames.\n"
     ]
    },
    {
     "name": "stdout",
     "output_type": "stream",
     "text": [
      "Classifying objects\n"
     ]
    },
    {
     "data": {
      "application/vnd.jupyter.widget-view+json": {
       "model_id": "af50a4eb8fae4420be7a32b292a87989",
       "version_major": 2,
       "version_minor": 0
      },
      "text/plain": [
       "  0%|          | 0/1194 [00:00<?, ?it/s]"
      ]
     },
     "metadata": {},
     "output_type": "display_data"
    },
    {
     "data": {
      "application/vnd.jupyter.widget-view+json": {
       "model_id": "526c4b85a1fa478883c8c8c6a4eef2e2",
       "version_major": 2,
       "version_minor": 0
      },
      "text/plain": [
       "  0%|          | 0/1194 [00:00<?, ?it/s]"
      ]
     },
     "metadata": {},
     "output_type": "display_data"
    },
    {
     "name": "stderr",
     "output_type": "stream",
     "text": [
      "[INFO][2022/02/03 10:32:23 PM] Opening HDF file: /home/nathan/data/kraken/ras/ND0010/Pos10/objects_type_1.h5...\n",
      "[INFO][2022/02/03 10:32:23 PM] Writing objects/obj_type_1\n",
      "[INFO][2022/02/03 10:32:23 PM] Writing labels/obj_type_1\n",
      "[INFO][2022/02/03 10:32:23 PM] Loading objects/obj_type_1 (1659, 5) (1659 filtered: None)\n",
      "[INFO][2022/02/03 10:32:23 PM] Writing properties/obj_type_1/area (1659,)\n",
      "[INFO][2022/02/03 10:32:23 PM] Writing properties/obj_type_1/max_intensity (1659,)\n",
      "[INFO][2022/02/03 10:32:23 PM] Writing properties/obj_type_1/prob_interphase (1659,)\n",
      "[INFO][2022/02/03 10:32:23 PM] Writing properties/obj_type_1/prob_prometaphase (1659,)\n",
      "[INFO][2022/02/03 10:32:23 PM] Writing properties/obj_type_1/prob_metaphase (1659,)\n",
      "[INFO][2022/02/03 10:32:23 PM] Writing properties/obj_type_1/prob_anaphase (1659,)\n",
      "[INFO][2022/02/03 10:32:23 PM] Writing properties/obj_type_1/prob_apoptosis (1659,)\n",
      "[INFO][2022/02/03 10:32:23 PM] Closing HDF file: /home/nathan/data/kraken/ras/ND0010/Pos10/objects_type_1.h5\n",
      "[INFO][2022/02/03 10:32:23 PM] Opening HDF file: /home/nathan/data/kraken/ras/ND0010/Pos10/objects_type_2.h5...\n",
      "[INFO][2022/02/03 10:32:23 PM] Writing objects/obj_type_2\n",
      "[INFO][2022/02/03 10:32:23 PM] Writing labels/obj_type_2\n",
      "[INFO][2022/02/03 10:32:23 PM] Loading objects/obj_type_2 (1191, 5) (1191 filtered: None)\n",
      "[INFO][2022/02/03 10:32:23 PM] Writing properties/obj_type_2/area (1191,)\n",
      "[INFO][2022/02/03 10:32:23 PM] Writing properties/obj_type_2/max_intensity (1191,)\n",
      "[INFO][2022/02/03 10:32:23 PM] Writing properties/obj_type_2/prob_interphase (1191,)\n",
      "[INFO][2022/02/03 10:32:23 PM] Writing properties/obj_type_2/prob_prometaphase (1191,)\n",
      "[INFO][2022/02/03 10:32:23 PM] Writing properties/obj_type_2/prob_metaphase (1191,)\n",
      "[INFO][2022/02/03 10:32:23 PM] Writing properties/obj_type_2/prob_anaphase (1191,)\n",
      "[INFO][2022/02/03 10:32:23 PM] Writing properties/obj_type_2/prob_apoptosis (1191,)\n",
      "[INFO][2022/02/03 10:32:23 PM] Closing HDF file: /home/nathan/data/kraken/ras/ND0010/Pos10/objects_type_2.h5\n"
     ]
    },
    {
     "name": "stdout",
     "output_type": "stream",
     "text": [
      "Starting ND0010/Pos0\n",
      "Using cropping: (1200, 1600)\n"
     ]
    },
    {
     "name": "stderr",
     "output_type": "stream",
     "text": [
      "[INFO][2022/02/03 10:32:25 PM] Localizing objects from segmentation...\n",
      "[INFO][2022/02/03 10:32:25 PM] Found intensity_image data\n",
      "[INFO][2022/02/03 10:32:25 PM] Calculating weighted centroids using intensity_image\n",
      "[INFO][2022/02/03 10:37:07 PM] Objects are of type: <class 'dict'>\n",
      "[INFO][2022/02/03 10:37:07 PM] ...Found 2378 objects in 1190 frames.\n"
     ]
    },
    {
     "name": "stdout",
     "output_type": "stream",
     "text": [
      "Classifying objects\n"
     ]
    },
    {
     "data": {
      "application/vnd.jupyter.widget-view+json": {
       "model_id": "bccffce1bb0c4598b61f217a0c8d7ead",
       "version_major": 2,
       "version_minor": 0
      },
      "text/plain": [
       "  0%|          | 0/1190 [00:00<?, ?it/s]"
      ]
     },
     "metadata": {},
     "output_type": "display_data"
    },
    {
     "data": {
      "application/vnd.jupyter.widget-view+json": {
       "model_id": "8d39dd8a451241149155d2b320f5558c",
       "version_major": 2,
       "version_minor": 0
      },
      "text/plain": [
       "  0%|          | 0/1190 [00:00<?, ?it/s]"
      ]
     },
     "metadata": {},
     "output_type": "display_data"
    },
    {
     "name": "stderr",
     "output_type": "stream",
     "text": [
      "[INFO][2022/02/03 10:49:04 PM] Opening HDF file: /home/nathan/data/kraken/ras/ND0010/Pos0/objects_type_1.h5...\n",
      "[INFO][2022/02/03 10:49:04 PM] Writing objects/obj_type_1\n",
      "[INFO][2022/02/03 10:49:04 PM] Writing labels/obj_type_1\n",
      "[INFO][2022/02/03 10:49:04 PM] Loading objects/obj_type_1 (1191, 5) (1191 filtered: None)\n",
      "[INFO][2022/02/03 10:49:04 PM] Writing properties/obj_type_1/area (1191,)\n",
      "[INFO][2022/02/03 10:49:04 PM] Writing properties/obj_type_1/max_intensity (1191,)\n",
      "[INFO][2022/02/03 10:49:04 PM] Writing properties/obj_type_1/prob_interphase (1191,)\n",
      "[INFO][2022/02/03 10:49:04 PM] Writing properties/obj_type_1/prob_prometaphase (1191,)\n",
      "[INFO][2022/02/03 10:49:04 PM] Writing properties/obj_type_1/prob_metaphase (1191,)\n",
      "[INFO][2022/02/03 10:49:04 PM] Writing properties/obj_type_1/prob_anaphase (1191,)\n",
      "[INFO][2022/02/03 10:49:04 PM] Writing properties/obj_type_1/prob_apoptosis (1191,)\n",
      "[INFO][2022/02/03 10:49:04 PM] Closing HDF file: /home/nathan/data/kraken/ras/ND0010/Pos0/objects_type_1.h5\n",
      "[INFO][2022/02/03 10:49:04 PM] Opening HDF file: /home/nathan/data/kraken/ras/ND0010/Pos0/objects_type_2.h5...\n",
      "[INFO][2022/02/03 10:49:04 PM] Writing objects/obj_type_2\n",
      "[INFO][2022/02/03 10:49:04 PM] Writing labels/obj_type_2\n",
      "[INFO][2022/02/03 10:49:04 PM] Loading objects/obj_type_2 (1187, 5) (1187 filtered: None)\n",
      "[INFO][2022/02/03 10:49:04 PM] Writing properties/obj_type_2/area (1187,)\n",
      "[INFO][2022/02/03 10:49:04 PM] Writing properties/obj_type_2/max_intensity (1187,)\n",
      "[INFO][2022/02/03 10:49:04 PM] Writing properties/obj_type_2/prob_interphase (1187,)\n",
      "[INFO][2022/02/03 10:49:04 PM] Writing properties/obj_type_2/prob_prometaphase (1187,)\n",
      "[INFO][2022/02/03 10:49:04 PM] Writing properties/obj_type_2/prob_metaphase (1187,)\n",
      "[INFO][2022/02/03 10:49:04 PM] Writing properties/obj_type_2/prob_anaphase (1187,)\n",
      "[INFO][2022/02/03 10:49:04 PM] Writing properties/obj_type_2/prob_apoptosis (1187,)\n",
      "[INFO][2022/02/03 10:49:04 PM] Closing HDF file: /home/nathan/data/kraken/ras/ND0010/Pos0/objects_type_2.h5\n"
     ]
    },
    {
     "name": "stdout",
     "output_type": "stream",
     "text": [
      "Starting ND0010/Pos2\n",
      "Using cropping: (1200, 1600)\n"
     ]
    },
    {
     "name": "stderr",
     "output_type": "stream",
     "text": [
      "[INFO][2022/02/03 10:49:06 PM] Localizing objects from segmentation...\n",
      "[INFO][2022/02/03 10:49:06 PM] Found intensity_image data\n",
      "[INFO][2022/02/03 10:49:06 PM] Calculating weighted centroids using intensity_image\n",
      "[INFO][2022/02/03 10:53:46 PM] Objects are of type: <class 'dict'>\n",
      "[INFO][2022/02/03 10:53:46 PM] ...Found 2374 objects in 1189 frames.\n"
     ]
    },
    {
     "name": "stdout",
     "output_type": "stream",
     "text": [
      "Classifying objects\n"
     ]
    },
    {
     "data": {
      "application/vnd.jupyter.widget-view+json": {
       "model_id": "f49f38716cd5401986b853ee37391e4b",
       "version_major": 2,
       "version_minor": 0
      },
      "text/plain": [
       "  0%|          | 0/1189 [00:00<?, ?it/s]"
      ]
     },
     "metadata": {},
     "output_type": "display_data"
    },
    {
     "data": {
      "application/vnd.jupyter.widget-view+json": {
       "model_id": "a07e54c368dc4b36bb6b7042a1a80459",
       "version_major": 2,
       "version_minor": 0
      },
      "text/plain": [
       "  0%|          | 0/1189 [00:00<?, ?it/s]"
      ]
     },
     "metadata": {},
     "output_type": "display_data"
    },
    {
     "name": "stderr",
     "output_type": "stream",
     "text": [
      "[INFO][2022/02/03 11:06:01 PM] Opening HDF file: /home/nathan/data/kraken/ras/ND0010/Pos2/objects_type_1.h5...\n",
      "[INFO][2022/02/03 11:06:01 PM] Writing objects/obj_type_1\n",
      "[INFO][2022/02/03 11:06:01 PM] Writing labels/obj_type_1\n",
      "[INFO][2022/02/03 11:06:01 PM] Loading objects/obj_type_1 (1188, 5) (1188 filtered: None)\n",
      "[INFO][2022/02/03 11:06:01 PM] Writing properties/obj_type_1/area (1188,)\n",
      "[INFO][2022/02/03 11:06:01 PM] Writing properties/obj_type_1/max_intensity (1188,)\n",
      "[INFO][2022/02/03 11:06:01 PM] Writing properties/obj_type_1/prob_interphase (1188,)\n",
      "[INFO][2022/02/03 11:06:01 PM] Writing properties/obj_type_1/prob_prometaphase (1188,)\n",
      "[INFO][2022/02/03 11:06:01 PM] Writing properties/obj_type_1/prob_metaphase (1188,)\n",
      "[INFO][2022/02/03 11:06:01 PM] Writing properties/obj_type_1/prob_anaphase (1188,)\n",
      "[INFO][2022/02/03 11:06:01 PM] Writing properties/obj_type_1/prob_apoptosis (1188,)\n",
      "[INFO][2022/02/03 11:06:01 PM] Closing HDF file: /home/nathan/data/kraken/ras/ND0010/Pos2/objects_type_1.h5\n",
      "[INFO][2022/02/03 11:06:01 PM] Opening HDF file: /home/nathan/data/kraken/ras/ND0010/Pos2/objects_type_2.h5...\n",
      "[INFO][2022/02/03 11:06:01 PM] Writing objects/obj_type_2\n",
      "[INFO][2022/02/03 11:06:01 PM] Writing labels/obj_type_2\n",
      "[INFO][2022/02/03 11:06:01 PM] Loading objects/obj_type_2 (1186, 5) (1186 filtered: None)\n",
      "[INFO][2022/02/03 11:06:01 PM] Writing properties/obj_type_2/area (1186,)\n",
      "[INFO][2022/02/03 11:06:01 PM] Writing properties/obj_type_2/max_intensity (1186,)\n",
      "[INFO][2022/02/03 11:06:01 PM] Writing properties/obj_type_2/prob_interphase (1186,)\n",
      "[INFO][2022/02/03 11:06:01 PM] Writing properties/obj_type_2/prob_prometaphase (1186,)\n",
      "[INFO][2022/02/03 11:06:01 PM] Writing properties/obj_type_2/prob_metaphase (1186,)\n",
      "[INFO][2022/02/03 11:06:01 PM] Writing properties/obj_type_2/prob_anaphase (1186,)\n",
      "[INFO][2022/02/03 11:06:01 PM] Writing properties/obj_type_2/prob_apoptosis (1186,)\n",
      "[INFO][2022/02/03 11:06:01 PM] Closing HDF file: /home/nathan/data/kraken/ras/ND0010/Pos2/objects_type_2.h5\n"
     ]
    },
    {
     "name": "stdout",
     "output_type": "stream",
     "text": [
      "Starting ND0010/Pos6\n",
      "Using cropping: (1200, 1600)\n"
     ]
    },
    {
     "name": "stderr",
     "output_type": "stream",
     "text": [
      "[INFO][2022/02/03 11:06:02 PM] Localizing objects from segmentation...\n",
      "[INFO][2022/02/03 11:06:02 PM] Found intensity_image data\n",
      "[INFO][2022/02/03 11:06:02 PM] Calculating weighted centroids using intensity_image\n",
      "[INFO][2022/02/03 11:10:38 PM] Objects are of type: <class 'dict'>\n",
      "[INFO][2022/02/03 11:10:38 PM] ...Found 2960 objects in 1188 frames.\n"
     ]
    },
    {
     "name": "stdout",
     "output_type": "stream",
     "text": [
      "Classifying objects\n"
     ]
    },
    {
     "data": {
      "application/vnd.jupyter.widget-view+json": {
       "model_id": "2568ba5f7c634b379f505db6df889daa",
       "version_major": 2,
       "version_minor": 0
      },
      "text/plain": [
       "  0%|          | 0/1188 [00:00<?, ?it/s]"
      ]
     },
     "metadata": {},
     "output_type": "display_data"
    },
    {
     "data": {
      "application/vnd.jupyter.widget-view+json": {
       "model_id": "fb9f7da739984121a5db751ad033500b",
       "version_major": 2,
       "version_minor": 0
      },
      "text/plain": [
       "  0%|          | 0/1188 [00:00<?, ?it/s]"
      ]
     },
     "metadata": {},
     "output_type": "display_data"
    },
    {
     "name": "stderr",
     "output_type": "stream",
     "text": [
      "[INFO][2022/02/03 11:22:36 PM] Opening HDF file: /home/nathan/data/kraken/ras/ND0010/Pos6/objects_type_1.h5...\n",
      "[INFO][2022/02/03 11:22:36 PM] Writing objects/obj_type_1\n",
      "[INFO][2022/02/03 11:22:36 PM] Writing labels/obj_type_1\n",
      "[INFO][2022/02/03 11:22:36 PM] Loading objects/obj_type_1 (1776, 5) (1776 filtered: None)\n",
      "[INFO][2022/02/03 11:22:36 PM] Writing properties/obj_type_1/area (1776,)\n",
      "[INFO][2022/02/03 11:22:36 PM] Writing properties/obj_type_1/max_intensity (1776,)\n",
      "[INFO][2022/02/03 11:22:36 PM] Writing properties/obj_type_1/prob_interphase (1776,)\n",
      "[INFO][2022/02/03 11:22:36 PM] Writing properties/obj_type_1/prob_prometaphase (1776,)\n",
      "[INFO][2022/02/03 11:22:36 PM] Writing properties/obj_type_1/prob_metaphase (1776,)\n",
      "[INFO][2022/02/03 11:22:36 PM] Writing properties/obj_type_1/prob_anaphase (1776,)\n",
      "[INFO][2022/02/03 11:22:36 PM] Writing properties/obj_type_1/prob_apoptosis (1776,)\n",
      "[INFO][2022/02/03 11:22:36 PM] Closing HDF file: /home/nathan/data/kraken/ras/ND0010/Pos6/objects_type_1.h5\n",
      "[INFO][2022/02/03 11:22:36 PM] Opening HDF file: /home/nathan/data/kraken/ras/ND0010/Pos6/objects_type_2.h5...\n",
      "[INFO][2022/02/03 11:22:37 PM] Writing objects/obj_type_2\n",
      "[INFO][2022/02/03 11:22:37 PM] Writing labels/obj_type_2\n",
      "[INFO][2022/02/03 11:22:37 PM] Loading objects/obj_type_2 (1184, 5) (1184 filtered: None)\n",
      "[INFO][2022/02/03 11:22:37 PM] Writing properties/obj_type_2/area (1184,)\n",
      "[INFO][2022/02/03 11:22:37 PM] Writing properties/obj_type_2/max_intensity (1184,)\n",
      "[INFO][2022/02/03 11:22:37 PM] Writing properties/obj_type_2/prob_interphase (1184,)\n",
      "[INFO][2022/02/03 11:22:37 PM] Writing properties/obj_type_2/prob_prometaphase (1184,)\n",
      "[INFO][2022/02/03 11:22:37 PM] Writing properties/obj_type_2/prob_metaphase (1184,)\n",
      "[INFO][2022/02/03 11:22:37 PM] Writing properties/obj_type_2/prob_anaphase (1184,)\n",
      "[INFO][2022/02/03 11:22:37 PM] Writing properties/obj_type_2/prob_apoptosis (1184,)\n",
      "[INFO][2022/02/03 11:22:37 PM] Closing HDF file: /home/nathan/data/kraken/ras/ND0010/Pos6/objects_type_2.h5\n"
     ]
    },
    {
     "name": "stdout",
     "output_type": "stream",
     "text": [
      "Starting ND0010/Pos7\n",
      "Using cropping: (1200, 1600)\n"
     ]
    },
    {
     "name": "stderr",
     "output_type": "stream",
     "text": [
      "[INFO][2022/02/03 11:22:38 PM] Localizing objects from segmentation...\n",
      "[INFO][2022/02/03 11:22:38 PM] Found intensity_image data\n",
      "[INFO][2022/02/03 11:22:38 PM] Calculating weighted centroids using intensity_image\n",
      "[INFO][2022/02/03 11:27:12 PM] Objects are of type: <class 'dict'>\n",
      "[INFO][2022/02/03 11:27:12 PM] ...Found 3100 objects in 1195 frames.\n"
     ]
    },
    {
     "name": "stdout",
     "output_type": "stream",
     "text": [
      "Classifying objects\n"
     ]
    },
    {
     "data": {
      "application/vnd.jupyter.widget-view+json": {
       "model_id": "1cbd613d3945404a890689122dbc8b6a",
       "version_major": 2,
       "version_minor": 0
      },
      "text/plain": [
       "  0%|          | 0/1195 [00:00<?, ?it/s]"
      ]
     },
     "metadata": {},
     "output_type": "display_data"
    },
    {
     "data": {
      "application/vnd.jupyter.widget-view+json": {
       "model_id": "1144d643984d452eba6712f965553642",
       "version_major": 2,
       "version_minor": 0
      },
      "text/plain": [
       "  0%|          | 0/1195 [00:00<?, ?it/s]"
      ]
     },
     "metadata": {},
     "output_type": "display_data"
    },
    {
     "name": "stderr",
     "output_type": "stream",
     "text": [
      "[INFO][2022/02/03 11:39:29 PM] Opening HDF file: /home/nathan/data/kraken/ras/ND0010/Pos7/objects_type_1.h5...\n",
      "[INFO][2022/02/03 11:39:29 PM] Writing objects/obj_type_1\n",
      "[INFO][2022/02/03 11:39:29 PM] Writing labels/obj_type_1\n",
      "[INFO][2022/02/03 11:39:29 PM] Loading objects/obj_type_1 (1908, 5) (1908 filtered: None)\n",
      "[INFO][2022/02/03 11:39:29 PM] Writing properties/obj_type_1/area (1908,)\n",
      "[INFO][2022/02/03 11:39:29 PM] Writing properties/obj_type_1/max_intensity (1908,)\n",
      "[INFO][2022/02/03 11:39:29 PM] Writing properties/obj_type_1/prob_interphase (1908,)\n",
      "[INFO][2022/02/03 11:39:29 PM] Writing properties/obj_type_1/prob_prometaphase (1908,)\n",
      "[INFO][2022/02/03 11:39:29 PM] Writing properties/obj_type_1/prob_metaphase (1908,)\n",
      "[INFO][2022/02/03 11:39:29 PM] Writing properties/obj_type_1/prob_anaphase (1908,)\n",
      "[INFO][2022/02/03 11:39:29 PM] Writing properties/obj_type_1/prob_apoptosis (1908,)\n",
      "[INFO][2022/02/03 11:39:29 PM] Closing HDF file: /home/nathan/data/kraken/ras/ND0010/Pos7/objects_type_1.h5\n",
      "[INFO][2022/02/03 11:39:29 PM] Opening HDF file: /home/nathan/data/kraken/ras/ND0010/Pos7/objects_type_2.h5...\n",
      "[INFO][2022/02/03 11:39:29 PM] Writing objects/obj_type_2\n",
      "[INFO][2022/02/03 11:39:29 PM] Writing labels/obj_type_2\n",
      "[INFO][2022/02/03 11:39:29 PM] Loading objects/obj_type_2 (1192, 5) (1192 filtered: None)\n",
      "[INFO][2022/02/03 11:39:29 PM] Writing properties/obj_type_2/area (1192,)\n",
      "[INFO][2022/02/03 11:39:29 PM] Writing properties/obj_type_2/max_intensity (1192,)\n",
      "[INFO][2022/02/03 11:39:29 PM] Writing properties/obj_type_2/prob_interphase (1192,)\n",
      "[INFO][2022/02/03 11:39:29 PM] Writing properties/obj_type_2/prob_prometaphase (1192,)\n",
      "[INFO][2022/02/03 11:39:29 PM] Writing properties/obj_type_2/prob_metaphase (1192,)\n",
      "[INFO][2022/02/03 11:39:29 PM] Writing properties/obj_type_2/prob_anaphase (1192,)\n",
      "[INFO][2022/02/03 11:39:29 PM] Writing properties/obj_type_2/prob_apoptosis (1192,)\n",
      "[INFO][2022/02/03 11:39:29 PM] Closing HDF file: /home/nathan/data/kraken/ras/ND0010/Pos7/objects_type_2.h5\n"
     ]
    },
    {
     "name": "stdout",
     "output_type": "stream",
     "text": [
      "Starting ND0010/Pos9\n",
      "Using cropping: (1200, 1600)\n"
     ]
    },
    {
     "name": "stderr",
     "output_type": "stream",
     "text": [
      "[INFO][2022/02/03 11:39:30 PM] Localizing objects from segmentation...\n",
      "[INFO][2022/02/03 11:39:30 PM] Found intensity_image data\n",
      "[INFO][2022/02/03 11:39:30 PM] Calculating weighted centroids using intensity_image\n",
      "[INFO][2022/02/03 11:44:16 PM] Objects are of type: <class 'dict'>\n",
      "[INFO][2022/02/03 11:44:16 PM] ...Found 2682 objects in 1190 frames.\n"
     ]
    },
    {
     "name": "stdout",
     "output_type": "stream",
     "text": [
      "Classifying objects\n"
     ]
    },
    {
     "data": {
      "application/vnd.jupyter.widget-view+json": {
       "model_id": "ea4dd53e471e4c58a503bc6681785bb9",
       "version_major": 2,
       "version_minor": 0
      },
      "text/plain": [
       "  0%|          | 0/1190 [00:00<?, ?it/s]"
      ]
     },
     "metadata": {},
     "output_type": "display_data"
    },
    {
     "data": {
      "application/vnd.jupyter.widget-view+json": {
       "model_id": "cac98f257c974f5588ae9754d2a1b9a9",
       "version_major": 2,
       "version_minor": 0
      },
      "text/plain": [
       "  0%|          | 0/1190 [00:00<?, ?it/s]"
      ]
     },
     "metadata": {},
     "output_type": "display_data"
    },
    {
     "name": "stderr",
     "output_type": "stream",
     "text": [
      "[INFO][2022/02/03 11:56:10 PM] Opening HDF file: /home/nathan/data/kraken/ras/ND0010/Pos9/objects_type_1.h5...\n",
      "[INFO][2022/02/03 11:56:11 PM] Writing objects/obj_type_1\n",
      "[INFO][2022/02/03 11:56:11 PM] Writing labels/obj_type_1\n",
      "[INFO][2022/02/03 11:56:11 PM] Loading objects/obj_type_1 (1496, 5) (1496 filtered: None)\n",
      "[INFO][2022/02/03 11:56:11 PM] Writing properties/obj_type_1/area (1496,)\n",
      "[INFO][2022/02/03 11:56:11 PM] Writing properties/obj_type_1/max_intensity (1496,)\n",
      "[INFO][2022/02/03 11:56:11 PM] Writing properties/obj_type_1/prob_interphase (1496,)\n",
      "[INFO][2022/02/03 11:56:11 PM] Writing properties/obj_type_1/prob_prometaphase (1496,)\n",
      "[INFO][2022/02/03 11:56:11 PM] Writing properties/obj_type_1/prob_metaphase (1496,)\n",
      "[INFO][2022/02/03 11:56:11 PM] Writing properties/obj_type_1/prob_anaphase (1496,)\n",
      "[INFO][2022/02/03 11:56:11 PM] Writing properties/obj_type_1/prob_apoptosis (1496,)\n",
      "[INFO][2022/02/03 11:56:11 PM] Closing HDF file: /home/nathan/data/kraken/ras/ND0010/Pos9/objects_type_1.h5\n",
      "[INFO][2022/02/03 11:56:11 PM] Opening HDF file: /home/nathan/data/kraken/ras/ND0010/Pos9/objects_type_2.h5...\n",
      "[INFO][2022/02/03 11:56:11 PM] Writing objects/obj_type_2\n",
      "[INFO][2022/02/03 11:56:11 PM] Writing labels/obj_type_2\n",
      "[INFO][2022/02/03 11:56:11 PM] Loading objects/obj_type_2 (1186, 5) (1186 filtered: None)\n",
      "[INFO][2022/02/03 11:56:11 PM] Writing properties/obj_type_2/area (1186,)\n",
      "[INFO][2022/02/03 11:56:11 PM] Writing properties/obj_type_2/max_intensity (1186,)\n",
      "[INFO][2022/02/03 11:56:11 PM] Writing properties/obj_type_2/prob_interphase (1186,)\n",
      "[INFO][2022/02/03 11:56:11 PM] Writing properties/obj_type_2/prob_prometaphase (1186,)\n",
      "[INFO][2022/02/03 11:56:11 PM] Writing properties/obj_type_2/prob_metaphase (1186,)\n",
      "[INFO][2022/02/03 11:56:11 PM] Writing properties/obj_type_2/prob_anaphase (1186,)\n",
      "[INFO][2022/02/03 11:56:11 PM] Writing properties/obj_type_2/prob_apoptosis (1186,)\n",
      "[INFO][2022/02/03 11:56:11 PM] Closing HDF file: /home/nathan/data/kraken/ras/ND0010/Pos9/objects_type_2.h5\n"
     ]
    },
    {
     "name": "stdout",
     "output_type": "stream",
     "text": [
      "Starting ND0010/Pos4\n",
      "Using cropping: (1200, 1600)\n"
     ]
    },
    {
     "name": "stderr",
     "output_type": "stream",
     "text": [
      "[INFO][2022/02/03 11:56:12 PM] Localizing objects from segmentation...\n",
      "[INFO][2022/02/03 11:56:12 PM] Found intensity_image data\n",
      "[INFO][2022/02/03 11:56:12 PM] Calculating weighted centroids using intensity_image\n",
      "[INFO][2022/02/04 12:00:41 AM] Objects are of type: <class 'dict'>\n",
      "[INFO][2022/02/04 12:00:41 AM] ...Found 3611 objects in 1191 frames.\n"
     ]
    },
    {
     "name": "stdout",
     "output_type": "stream",
     "text": [
      "Classifying objects\n"
     ]
    },
    {
     "data": {
      "application/vnd.jupyter.widget-view+json": {
       "model_id": "16fa00969ee747ecad88790fcbdb1451",
       "version_major": 2,
       "version_minor": 0
      },
      "text/plain": [
       "  0%|          | 0/1191 [00:00<?, ?it/s]"
      ]
     },
     "metadata": {},
     "output_type": "display_data"
    },
    {
     "data": {
      "application/vnd.jupyter.widget-view+json": {
       "model_id": "5ccfc85f0b504f3cbc192847da590374",
       "version_major": 2,
       "version_minor": 0
      },
      "text/plain": [
       "  0%|          | 0/1191 [00:00<?, ?it/s]"
      ]
     },
     "metadata": {},
     "output_type": "display_data"
    },
    {
     "name": "stderr",
     "output_type": "stream",
     "text": [
      "[INFO][2022/02/04 12:12:58 AM] Opening HDF file: /home/nathan/data/kraken/ras/ND0010/Pos4/objects_type_1.h5...\n",
      "[INFO][2022/02/04 12:12:58 AM] Writing objects/obj_type_1\n",
      "[INFO][2022/02/04 12:12:58 AM] Writing labels/obj_type_1\n",
      "[INFO][2022/02/04 12:12:58 AM] Loading objects/obj_type_1 (2424, 5) (2424 filtered: None)\n",
      "[INFO][2022/02/04 12:12:58 AM] Writing properties/obj_type_1/area (2424,)\n",
      "[INFO][2022/02/04 12:12:58 AM] Writing properties/obj_type_1/max_intensity (2424,)\n",
      "[INFO][2022/02/04 12:12:58 AM] Writing properties/obj_type_1/prob_interphase (2424,)\n",
      "[INFO][2022/02/04 12:12:58 AM] Writing properties/obj_type_1/prob_prometaphase (2424,)\n",
      "[INFO][2022/02/04 12:12:58 AM] Writing properties/obj_type_1/prob_metaphase (2424,)\n",
      "[INFO][2022/02/04 12:12:58 AM] Writing properties/obj_type_1/prob_anaphase (2424,)\n",
      "[INFO][2022/02/04 12:12:58 AM] Writing properties/obj_type_1/prob_apoptosis (2424,)\n",
      "[INFO][2022/02/04 12:12:58 AM] Closing HDF file: /home/nathan/data/kraken/ras/ND0010/Pos4/objects_type_1.h5\n",
      "[INFO][2022/02/04 12:12:58 AM] Opening HDF file: /home/nathan/data/kraken/ras/ND0010/Pos4/objects_type_2.h5...\n",
      "[INFO][2022/02/04 12:12:58 AM] Writing objects/obj_type_2\n",
      "[INFO][2022/02/04 12:12:58 AM] Writing labels/obj_type_2\n",
      "[INFO][2022/02/04 12:12:58 AM] Loading objects/obj_type_2 (1187, 5) (1187 filtered: None)\n",
      "[INFO][2022/02/04 12:12:58 AM] Writing properties/obj_type_2/area (1187,)\n",
      "[INFO][2022/02/04 12:12:58 AM] Writing properties/obj_type_2/max_intensity (1187,)\n",
      "[INFO][2022/02/04 12:12:58 AM] Writing properties/obj_type_2/prob_interphase (1187,)\n",
      "[INFO][2022/02/04 12:12:58 AM] Writing properties/obj_type_2/prob_prometaphase (1187,)\n",
      "[INFO][2022/02/04 12:12:58 AM] Writing properties/obj_type_2/prob_metaphase (1187,)\n",
      "[INFO][2022/02/04 12:12:58 AM] Writing properties/obj_type_2/prob_anaphase (1187,)\n",
      "[INFO][2022/02/04 12:12:58 AM] Writing properties/obj_type_2/prob_apoptosis (1187,)\n",
      "[INFO][2022/02/04 12:12:58 AM] Closing HDF file: /home/nathan/data/kraken/ras/ND0010/Pos4/objects_type_2.h5\n"
     ]
    },
    {
     "data": {
      "application/vnd.jupyter.widget-view+json": {
       "model_id": "cb86a25ed29a4b259b0f3c922f326347",
       "version_major": 2,
       "version_minor": 0
      },
      "text/plain": [
       "  0%|          | 0/12 [00:00<?, ?it/s]"
      ]
     },
     "metadata": {},
     "output_type": "display_data"
    },
    {
     "name": "stdout",
     "output_type": "stream",
     "text": [
      "Starting ND0011/Pos5\n",
      "Using cropping: (1200, 1600)\n"
     ]
    },
    {
     "name": "stderr",
     "output_type": "stream",
     "text": [
      "[INFO][2022/02/04 12:12:59 AM] Localizing objects from segmentation...\n",
      "[INFO][2022/02/04 12:12:59 AM] Found intensity_image data\n",
      "[INFO][2022/02/04 12:12:59 AM] Calculating weighted centroids using intensity_image\n",
      "[INFO][2022/02/04 12:20:20 AM] Objects are of type: <class 'dict'>\n",
      "[INFO][2022/02/04 12:20:20 AM] ...Found 3278 objects in 1639 frames.\n"
     ]
    },
    {
     "name": "stdout",
     "output_type": "stream",
     "text": [
      "Classifying objects\n"
     ]
    },
    {
     "data": {
      "application/vnd.jupyter.widget-view+json": {
       "model_id": "0affe22e0a894c39aaf96586935d67c6",
       "version_major": 2,
       "version_minor": 0
      },
      "text/plain": [
       "  0%|          | 0/1639 [00:00<?, ?it/s]"
      ]
     },
     "metadata": {},
     "output_type": "display_data"
    },
    {
     "data": {
      "application/vnd.jupyter.widget-view+json": {
       "model_id": "349518dbe37445e2812aca80192cd037",
       "version_major": 2,
       "version_minor": 0
      },
      "text/plain": [
       "  0%|          | 0/1639 [00:00<?, ?it/s]"
      ]
     },
     "metadata": {},
     "output_type": "display_data"
    },
    {
     "name": "stderr",
     "output_type": "stream",
     "text": [
      "[INFO][2022/02/04 12:38:24 AM] Opening HDF file: /home/nathan/data/kraken/ras/ND0011/Pos5/objects_type_1.h5...\n",
      "[INFO][2022/02/04 12:38:24 AM] Writing objects/obj_type_1\n",
      "[INFO][2022/02/04 12:38:24 AM] Writing labels/obj_type_1\n",
      "[INFO][2022/02/04 12:38:24 AM] Loading objects/obj_type_1 (1639, 5) (1639 filtered: None)\n",
      "[INFO][2022/02/04 12:38:24 AM] Writing properties/obj_type_1/area (1639,)\n",
      "[INFO][2022/02/04 12:38:24 AM] Writing properties/obj_type_1/max_intensity (1639,)\n",
      "[INFO][2022/02/04 12:38:24 AM] Writing properties/obj_type_1/prob_interphase (1639,)\n",
      "[INFO][2022/02/04 12:38:24 AM] Writing properties/obj_type_1/prob_prometaphase (1639,)\n",
      "[INFO][2022/02/04 12:38:24 AM] Writing properties/obj_type_1/prob_metaphase (1639,)\n",
      "[INFO][2022/02/04 12:38:24 AM] Writing properties/obj_type_1/prob_anaphase (1639,)\n",
      "[INFO][2022/02/04 12:38:24 AM] Writing properties/obj_type_1/prob_apoptosis (1639,)\n",
      "[INFO][2022/02/04 12:38:24 AM] Closing HDF file: /home/nathan/data/kraken/ras/ND0011/Pos5/objects_type_1.h5\n",
      "[INFO][2022/02/04 12:38:24 AM] Opening HDF file: /home/nathan/data/kraken/ras/ND0011/Pos5/objects_type_2.h5...\n",
      "[INFO][2022/02/04 12:38:24 AM] Writing objects/obj_type_2\n",
      "[INFO][2022/02/04 12:38:24 AM] Writing labels/obj_type_2\n",
      "[INFO][2022/02/04 12:38:24 AM] Loading objects/obj_type_2 (1639, 5) (1639 filtered: None)\n",
      "[INFO][2022/02/04 12:38:24 AM] Writing properties/obj_type_2/area (1639,)\n",
      "[INFO][2022/02/04 12:38:24 AM] Writing properties/obj_type_2/max_intensity (1639,)\n",
      "[INFO][2022/02/04 12:38:24 AM] Writing properties/obj_type_2/prob_interphase (1639,)\n",
      "[INFO][2022/02/04 12:38:24 AM] Writing properties/obj_type_2/prob_prometaphase (1639,)\n",
      "[INFO][2022/02/04 12:38:24 AM] Writing properties/obj_type_2/prob_metaphase (1639,)\n",
      "[INFO][2022/02/04 12:38:24 AM] Writing properties/obj_type_2/prob_anaphase (1639,)\n",
      "[INFO][2022/02/04 12:38:24 AM] Writing properties/obj_type_2/prob_apoptosis (1639,)\n",
      "[INFO][2022/02/04 12:38:24 AM] Closing HDF file: /home/nathan/data/kraken/ras/ND0011/Pos5/objects_type_2.h5\n"
     ]
    },
    {
     "name": "stdout",
     "output_type": "stream",
     "text": [
      "Starting ND0011/Pos11\n",
      "Using cropping: (1200, 1600)\n"
     ]
    },
    {
     "name": "stderr",
     "output_type": "stream",
     "text": [
      "[INFO][2022/02/04 12:38:26 AM] Localizing objects from segmentation...\n",
      "[INFO][2022/02/04 12:38:26 AM] Found intensity_image data\n",
      "[INFO][2022/02/04 12:38:26 AM] Calculating weighted centroids using intensity_image\n",
      "[INFO][2022/02/04 12:44:42 AM] Objects are of type: <class 'dict'>\n",
      "[INFO][2022/02/04 12:44:42 AM] ...Found 2234 objects in 1644 frames.\n"
     ]
    },
    {
     "name": "stdout",
     "output_type": "stream",
     "text": [
      "Classifying objects\n"
     ]
    },
    {
     "data": {
      "application/vnd.jupyter.widget-view+json": {
       "model_id": "d96e42919df64a598d21f2e81833fed0",
       "version_major": 2,
       "version_minor": 0
      },
      "text/plain": [
       "  0%|          | 0/1644 [00:00<?, ?it/s]"
      ]
     },
     "metadata": {},
     "output_type": "display_data"
    },
    {
     "data": {
      "application/vnd.jupyter.widget-view+json": {
       "model_id": "ab8dbe5e054d41669f75e688aab343d9",
       "version_major": 2,
       "version_minor": 0
      },
      "text/plain": [
       "  0%|          | 0/1644 [00:00<?, ?it/s]"
      ]
     },
     "metadata": {},
     "output_type": "display_data"
    },
    {
     "name": "stderr",
     "output_type": "stream",
     "text": [
      "[INFO][2022/02/04 01:02:18 AM] Opening HDF file: /home/nathan/data/kraken/ras/ND0011/Pos11/objects_type_1.h5...\n",
      "[INFO][2022/02/04 01:02:18 AM] Writing objects/obj_type_1\n",
      "[INFO][2022/02/04 01:02:18 AM] Writing labels/obj_type_1\n",
      "[INFO][2022/02/04 01:02:18 AM] Loading objects/obj_type_1 (2229, 5) (2229 filtered: None)\n",
      "[INFO][2022/02/04 01:02:18 AM] Writing properties/obj_type_1/area (2229,)\n",
      "[INFO][2022/02/04 01:02:18 AM] Writing properties/obj_type_1/max_intensity (2229,)\n",
      "[INFO][2022/02/04 01:02:18 AM] Writing properties/obj_type_1/prob_interphase (2229,)\n",
      "[INFO][2022/02/04 01:02:18 AM] Writing properties/obj_type_1/prob_prometaphase (2229,)\n",
      "[INFO][2022/02/04 01:02:18 AM] Writing properties/obj_type_1/prob_metaphase (2229,)\n",
      "[INFO][2022/02/04 01:02:18 AM] Writing properties/obj_type_1/prob_anaphase (2229,)\n",
      "[INFO][2022/02/04 01:02:18 AM] Writing properties/obj_type_1/prob_apoptosis (2229,)\n",
      "[INFO][2022/02/04 01:02:18 AM] Closing HDF file: /home/nathan/data/kraken/ras/ND0011/Pos11/objects_type_1.h5\n",
      "[INFO][2022/02/04 01:02:18 AM] Opening HDF file: /home/nathan/data/kraken/ras/ND0011/Pos11/objects_type_2.h5...\n",
      "[INFO][2022/02/04 01:02:18 AM] Writing objects/obj_type_2\n",
      "[INFO][2022/02/04 01:02:18 AM] Writing labels/obj_type_2\n",
      "[INFO][2022/02/04 01:02:18 AM] Loading objects/obj_type_2 (5, 5) (5 filtered: None)\n",
      "[INFO][2022/02/04 01:02:18 AM] Writing properties/obj_type_2/area (5,)\n",
      "[INFO][2022/02/04 01:02:18 AM] Writing properties/obj_type_2/max_intensity (5,)\n",
      "[INFO][2022/02/04 01:02:18 AM] Writing properties/obj_type_2/prob_interphase (5,)\n",
      "[INFO][2022/02/04 01:02:18 AM] Writing properties/obj_type_2/prob_prometaphase (5,)\n",
      "[INFO][2022/02/04 01:02:18 AM] Writing properties/obj_type_2/prob_metaphase (5,)\n",
      "[INFO][2022/02/04 01:02:18 AM] Writing properties/obj_type_2/prob_anaphase (5,)\n",
      "[INFO][2022/02/04 01:02:18 AM] Writing properties/obj_type_2/prob_apoptosis (5,)\n",
      "[INFO][2022/02/04 01:02:18 AM] Closing HDF file: /home/nathan/data/kraken/ras/ND0011/Pos11/objects_type_2.h5\n"
     ]
    },
    {
     "name": "stdout",
     "output_type": "stream",
     "text": [
      "Starting ND0011/Pos3\n",
      "Using cropping: (1200, 1600)\n"
     ]
    },
    {
     "name": "stderr",
     "output_type": "stream",
     "text": [
      "[INFO][2022/02/04 01:02:20 AM] Localizing objects from segmentation...\n",
      "[INFO][2022/02/04 01:02:20 AM] Found intensity_image data\n",
      "[INFO][2022/02/04 01:02:20 AM] Calculating weighted centroids using intensity_image\n",
      "[INFO][2022/02/04 01:09:53 AM] Objects are of type: <class 'dict'>\n",
      "[INFO][2022/02/04 01:09:53 AM] ...Found 3276 objects in 1638 frames.\n"
     ]
    },
    {
     "name": "stdout",
     "output_type": "stream",
     "text": [
      "Classifying objects\n"
     ]
    },
    {
     "data": {
      "application/vnd.jupyter.widget-view+json": {
       "model_id": "fd5baa692f4c487a9038bba2998b2480",
       "version_major": 2,
       "version_minor": 0
      },
      "text/plain": [
       "  0%|          | 0/1638 [00:00<?, ?it/s]"
      ]
     },
     "metadata": {},
     "output_type": "display_data"
    },
    {
     "data": {
      "application/vnd.jupyter.widget-view+json": {
       "model_id": "f29c2ff12c134e23a446ed48eac4067d",
       "version_major": 2,
       "version_minor": 0
      },
      "text/plain": [
       "  0%|          | 0/1638 [00:00<?, ?it/s]"
      ]
     },
     "metadata": {},
     "output_type": "display_data"
    },
    {
     "name": "stderr",
     "output_type": "stream",
     "text": [
      "[INFO][2022/02/04 01:27:56 AM] Opening HDF file: /home/nathan/data/kraken/ras/ND0011/Pos3/objects_type_1.h5...\n",
      "[INFO][2022/02/04 01:27:56 AM] Writing objects/obj_type_1\n",
      "[INFO][2022/02/04 01:27:56 AM] Writing labels/obj_type_1\n",
      "[INFO][2022/02/04 01:27:56 AM] Loading objects/obj_type_1 (1638, 5) (1638 filtered: None)\n",
      "[INFO][2022/02/04 01:27:56 AM] Writing properties/obj_type_1/area (1638,)\n",
      "[INFO][2022/02/04 01:27:56 AM] Writing properties/obj_type_1/max_intensity (1638,)\n",
      "[INFO][2022/02/04 01:27:56 AM] Writing properties/obj_type_1/prob_interphase (1638,)\n",
      "[INFO][2022/02/04 01:27:56 AM] Writing properties/obj_type_1/prob_prometaphase (1638,)\n",
      "[INFO][2022/02/04 01:27:56 AM] Writing properties/obj_type_1/prob_metaphase (1638,)\n",
      "[INFO][2022/02/04 01:27:56 AM] Writing properties/obj_type_1/prob_anaphase (1638,)\n",
      "[INFO][2022/02/04 01:27:56 AM] Writing properties/obj_type_1/prob_apoptosis (1638,)\n",
      "[INFO][2022/02/04 01:27:57 AM] Closing HDF file: /home/nathan/data/kraken/ras/ND0011/Pos3/objects_type_1.h5\n",
      "[INFO][2022/02/04 01:27:57 AM] Opening HDF file: /home/nathan/data/kraken/ras/ND0011/Pos3/objects_type_2.h5...\n",
      "[INFO][2022/02/04 01:27:57 AM] Writing objects/obj_type_2\n",
      "[INFO][2022/02/04 01:27:57 AM] Writing labels/obj_type_2\n",
      "[INFO][2022/02/04 01:27:57 AM] Loading objects/obj_type_2 (1638, 5) (1638 filtered: None)\n",
      "[INFO][2022/02/04 01:27:57 AM] Writing properties/obj_type_2/area (1638,)\n",
      "[INFO][2022/02/04 01:27:57 AM] Writing properties/obj_type_2/max_intensity (1638,)\n",
      "[INFO][2022/02/04 01:27:57 AM] Writing properties/obj_type_2/prob_interphase (1638,)\n",
      "[INFO][2022/02/04 01:27:57 AM] Writing properties/obj_type_2/prob_prometaphase (1638,)\n",
      "[INFO][2022/02/04 01:27:57 AM] Writing properties/obj_type_2/prob_metaphase (1638,)\n",
      "[INFO][2022/02/04 01:27:57 AM] Writing properties/obj_type_2/prob_anaphase (1638,)\n",
      "[INFO][2022/02/04 01:27:57 AM] Writing properties/obj_type_2/prob_apoptosis (1638,)\n",
      "[INFO][2022/02/04 01:27:57 AM] Closing HDF file: /home/nathan/data/kraken/ras/ND0011/Pos3/objects_type_2.h5\n"
     ]
    },
    {
     "name": "stdout",
     "output_type": "stream",
     "text": [
      "Starting ND0011/Pos1\n",
      "Using cropping: (1200, 1600)\n"
     ]
    },
    {
     "name": "stderr",
     "output_type": "stream",
     "text": [
      "[INFO][2022/02/04 01:27:58 AM] Localizing objects from segmentation...\n",
      "[INFO][2022/02/04 01:27:58 AM] Found intensity_image data\n",
      "[INFO][2022/02/04 01:27:58 AM] Calculating weighted centroids using intensity_image\n",
      "[INFO][2022/02/04 01:34:55 AM] Objects are of type: <class 'dict'>\n",
      "[INFO][2022/02/04 01:34:55 AM] ...Found 3142 objects in 1640 frames.\n"
     ]
    },
    {
     "name": "stdout",
     "output_type": "stream",
     "text": [
      "Classifying objects\n"
     ]
    },
    {
     "data": {
      "application/vnd.jupyter.widget-view+json": {
       "model_id": "e79598018def402ea7cd7a22a04f33ac",
       "version_major": 2,
       "version_minor": 0
      },
      "text/plain": [
       "  0%|          | 0/1640 [00:00<?, ?it/s]"
      ]
     },
     "metadata": {},
     "output_type": "display_data"
    },
    {
     "data": {
      "application/vnd.jupyter.widget-view+json": {
       "model_id": "ba14e016e7bf473cb4231366f12d0f44",
       "version_major": 2,
       "version_minor": 0
      },
      "text/plain": [
       "  0%|          | 0/1640 [00:00<?, ?it/s]"
      ]
     },
     "metadata": {},
     "output_type": "display_data"
    },
    {
     "name": "stderr",
     "output_type": "stream",
     "text": [
      "[INFO][2022/02/04 01:58:44 AM] Opening HDF file: /home/nathan/data/kraken/ras/ND0011/Pos1/objects_type_1.h5...\n",
      "[INFO][2022/02/04 01:58:44 AM] Writing objects/obj_type_1\n",
      "[INFO][2022/02/04 01:58:44 AM] Writing labels/obj_type_1\n",
      "[INFO][2022/02/04 01:58:44 AM] Loading objects/obj_type_1 (1573, 5) (1573 filtered: None)\n",
      "[INFO][2022/02/04 01:58:44 AM] Writing properties/obj_type_1/area (1573,)\n",
      "[INFO][2022/02/04 01:58:44 AM] Writing properties/obj_type_1/max_intensity (1573,)\n",
      "[INFO][2022/02/04 01:58:44 AM] Writing properties/obj_type_1/prob_interphase (1573,)\n",
      "[INFO][2022/02/04 01:58:44 AM] Writing properties/obj_type_1/prob_prometaphase (1573,)\n",
      "[INFO][2022/02/04 01:58:44 AM] Writing properties/obj_type_1/prob_metaphase (1573,)\n",
      "[INFO][2022/02/04 01:58:44 AM] Writing properties/obj_type_1/prob_anaphase (1573,)\n",
      "[INFO][2022/02/04 01:58:44 AM] Writing properties/obj_type_1/prob_apoptosis (1573,)\n",
      "[INFO][2022/02/04 01:58:44 AM] Closing HDF file: /home/nathan/data/kraken/ras/ND0011/Pos1/objects_type_1.h5\n",
      "[INFO][2022/02/04 01:58:44 AM] Opening HDF file: /home/nathan/data/kraken/ras/ND0011/Pos1/objects_type_2.h5...\n",
      "[INFO][2022/02/04 01:58:44 AM] Writing objects/obj_type_2\n",
      "[INFO][2022/02/04 01:58:44 AM] Writing labels/obj_type_2\n",
      "[INFO][2022/02/04 01:58:44 AM] Loading objects/obj_type_2 (1569, 5) (1569 filtered: None)\n",
      "[INFO][2022/02/04 01:58:44 AM] Writing properties/obj_type_2/area (1569,)\n",
      "[INFO][2022/02/04 01:58:44 AM] Writing properties/obj_type_2/max_intensity (1569,)\n",
      "[INFO][2022/02/04 01:58:44 AM] Writing properties/obj_type_2/prob_interphase (1569,)\n",
      "[INFO][2022/02/04 01:58:44 AM] Writing properties/obj_type_2/prob_prometaphase (1569,)\n",
      "[INFO][2022/02/04 01:58:44 AM] Writing properties/obj_type_2/prob_metaphase (1569,)\n",
      "[INFO][2022/02/04 01:58:44 AM] Writing properties/obj_type_2/prob_anaphase (1569,)\n",
      "[INFO][2022/02/04 01:58:44 AM] Writing properties/obj_type_2/prob_apoptosis (1569,)\n",
      "[INFO][2022/02/04 01:58:44 AM] Closing HDF file: /home/nathan/data/kraken/ras/ND0011/Pos1/objects_type_2.h5\n"
     ]
    },
    {
     "name": "stdout",
     "output_type": "stream",
     "text": [
      "Starting ND0011/Pos8\n",
      "Using cropping: (1200, 1600)\n"
     ]
    },
    {
     "name": "stderr",
     "output_type": "stream",
     "text": [
      "[INFO][2022/02/04 01:58:47 AM] Localizing objects from segmentation...\n",
      "[INFO][2022/02/04 01:58:47 AM] Found intensity_image data\n",
      "[INFO][2022/02/04 01:58:47 AM] Calculating weighted centroids using intensity_image\n",
      "[INFO][2022/02/04 02:08:32 AM] Objects are of type: <class 'dict'>\n",
      "[INFO][2022/02/04 02:08:32 AM] ...Found 2498 objects in 1645 frames.\n"
     ]
    },
    {
     "name": "stdout",
     "output_type": "stream",
     "text": [
      "Classifying objects\n"
     ]
    },
    {
     "data": {
      "application/vnd.jupyter.widget-view+json": {
       "model_id": "c471588695704fce86c91be202c87a74",
       "version_major": 2,
       "version_minor": 0
      },
      "text/plain": [
       "  0%|          | 0/1645 [00:00<?, ?it/s]"
      ]
     },
     "metadata": {},
     "output_type": "display_data"
    },
    {
     "data": {
      "application/vnd.jupyter.widget-view+json": {
       "model_id": "20236062e0b545f98cc6780b09d5d588",
       "version_major": 2,
       "version_minor": 0
      },
      "text/plain": [
       "  0%|          | 0/1645 [00:00<?, ?it/s]"
      ]
     },
     "metadata": {},
     "output_type": "display_data"
    },
    {
     "name": "stderr",
     "output_type": "stream",
     "text": [
      "[INFO][2022/02/04 02:31:47 AM] Opening HDF file: /home/nathan/data/kraken/ras/ND0011/Pos8/objects_type_1.h5...\n",
      "[INFO][2022/02/04 02:31:47 AM] Writing objects/obj_type_1\n",
      "[INFO][2022/02/04 02:31:47 AM] Writing labels/obj_type_1\n",
      "[INFO][2022/02/04 02:31:47 AM] Loading objects/obj_type_1 (2494, 5) (2494 filtered: None)\n",
      "[INFO][2022/02/04 02:31:47 AM] Writing properties/obj_type_1/area (2494,)\n",
      "[INFO][2022/02/04 02:31:47 AM] Writing properties/obj_type_1/max_intensity (2494,)\n",
      "[INFO][2022/02/04 02:31:47 AM] Writing properties/obj_type_1/prob_interphase (2494,)\n",
      "[INFO][2022/02/04 02:31:47 AM] Writing properties/obj_type_1/prob_prometaphase (2494,)\n",
      "[INFO][2022/02/04 02:31:47 AM] Writing properties/obj_type_1/prob_metaphase (2494,)\n",
      "[INFO][2022/02/04 02:31:47 AM] Writing properties/obj_type_1/prob_anaphase (2494,)\n",
      "[INFO][2022/02/04 02:31:47 AM] Writing properties/obj_type_1/prob_apoptosis (2494,)\n",
      "[INFO][2022/02/04 02:31:47 AM] Closing HDF file: /home/nathan/data/kraken/ras/ND0011/Pos8/objects_type_1.h5\n",
      "[INFO][2022/02/04 02:31:47 AM] Opening HDF file: /home/nathan/data/kraken/ras/ND0011/Pos8/objects_type_2.h5...\n",
      "[INFO][2022/02/04 02:31:47 AM] Writing objects/obj_type_2\n",
      "[INFO][2022/02/04 02:31:47 AM] Writing labels/obj_type_2\n",
      "[INFO][2022/02/04 02:31:47 AM] Loading objects/obj_type_2 (4, 5) (4 filtered: None)\n",
      "[INFO][2022/02/04 02:31:47 AM] Writing properties/obj_type_2/area (4,)\n",
      "[INFO][2022/02/04 02:31:47 AM] Writing properties/obj_type_2/max_intensity (4,)\n",
      "[INFO][2022/02/04 02:31:47 AM] Writing properties/obj_type_2/prob_interphase (4,)\n",
      "[INFO][2022/02/04 02:31:47 AM] Writing properties/obj_type_2/prob_prometaphase (4,)\n",
      "[INFO][2022/02/04 02:31:47 AM] Writing properties/obj_type_2/prob_metaphase (4,)\n",
      "[INFO][2022/02/04 02:31:47 AM] Writing properties/obj_type_2/prob_anaphase (4,)\n",
      "[INFO][2022/02/04 02:31:47 AM] Writing properties/obj_type_2/prob_apoptosis (4,)\n",
      "[INFO][2022/02/04 02:31:47 AM] Closing HDF file: /home/nathan/data/kraken/ras/ND0011/Pos8/objects_type_2.h5\n"
     ]
    },
    {
     "name": "stdout",
     "output_type": "stream",
     "text": [
      "Starting ND0011/Pos10\n",
      "Using cropping: (1200, 1600)\n"
     ]
    },
    {
     "name": "stderr",
     "output_type": "stream",
     "text": [
      "[INFO][2022/02/04 02:31:51 AM] Localizing objects from segmentation...\n",
      "[INFO][2022/02/04 02:31:51 AM] Found intensity_image data\n",
      "[INFO][2022/02/04 02:31:51 AM] Calculating weighted centroids using intensity_image\n",
      "[INFO][2022/02/04 02:41:55 AM] Objects are of type: <class 'dict'>\n",
      "[INFO][2022/02/04 02:41:55 AM] ...Found 1127 objects in 810 frames.\n"
     ]
    },
    {
     "name": "stdout",
     "output_type": "stream",
     "text": [
      "Classifying objects\n"
     ]
    },
    {
     "data": {
      "application/vnd.jupyter.widget-view+json": {
       "model_id": "35470396f4c0442998dc88a76c27651d",
       "version_major": 2,
       "version_minor": 0
      },
      "text/plain": [
       "  0%|          | 0/1640 [00:00<?, ?it/s]"
      ]
     },
     "metadata": {},
     "output_type": "display_data"
    },
    {
     "data": {
      "application/vnd.jupyter.widget-view+json": {
       "model_id": "3a64e08b09ec4854a7cfd5a3aa402348",
       "version_major": 2,
       "version_minor": 0
      },
      "text/plain": [
       "  0%|          | 0/1640 [00:00<?, ?it/s]"
      ]
     },
     "metadata": {},
     "output_type": "display_data"
    },
    {
     "name": "stderr",
     "output_type": "stream",
     "text": [
      "[INFO][2022/02/04 03:06:21 AM] Opening HDF file: /home/nathan/data/kraken/ras/ND0011/Pos10/objects_type_1.h5...\n",
      "[INFO][2022/02/04 03:06:21 AM] Writing objects/obj_type_1\n",
      "[INFO][2022/02/04 03:06:21 AM] Writing labels/obj_type_1\n",
      "[INFO][2022/02/04 03:06:21 AM] Loading objects/obj_type_1 (1123, 5) (1123 filtered: None)\n",
      "[INFO][2022/02/04 03:06:21 AM] Writing properties/obj_type_1/area (1123,)\n",
      "[INFO][2022/02/04 03:06:21 AM] Writing properties/obj_type_1/max_intensity (1123,)\n",
      "[INFO][2022/02/04 03:06:21 AM] Writing properties/obj_type_1/prob_interphase (1123,)\n",
      "[INFO][2022/02/04 03:06:21 AM] Writing properties/obj_type_1/prob_prometaphase (1123,)\n",
      "[INFO][2022/02/04 03:06:21 AM] Writing properties/obj_type_1/prob_metaphase (1123,)\n",
      "[INFO][2022/02/04 03:06:21 AM] Writing properties/obj_type_1/prob_anaphase (1123,)\n",
      "[INFO][2022/02/04 03:06:21 AM] Writing properties/obj_type_1/prob_apoptosis (1123,)\n",
      "[INFO][2022/02/04 03:06:21 AM] Closing HDF file: /home/nathan/data/kraken/ras/ND0011/Pos10/objects_type_1.h5\n",
      "[INFO][2022/02/04 03:06:21 AM] Opening HDF file: /home/nathan/data/kraken/ras/ND0011/Pos10/objects_type_2.h5...\n",
      "[INFO][2022/02/04 03:06:21 AM] Writing objects/obj_type_2\n",
      "[INFO][2022/02/04 03:06:21 AM] Writing labels/obj_type_2\n",
      "[INFO][2022/02/04 03:06:21 AM] Loading objects/obj_type_2 (4, 5) (4 filtered: None)\n",
      "[INFO][2022/02/04 03:06:21 AM] Writing properties/obj_type_2/area (4,)\n",
      "[INFO][2022/02/04 03:06:21 AM] Writing properties/obj_type_2/max_intensity (4,)\n",
      "[INFO][2022/02/04 03:06:21 AM] Writing properties/obj_type_2/prob_interphase (4,)\n",
      "[INFO][2022/02/04 03:06:21 AM] Writing properties/obj_type_2/prob_prometaphase (4,)\n",
      "[INFO][2022/02/04 03:06:21 AM] Writing properties/obj_type_2/prob_metaphase (4,)\n",
      "[INFO][2022/02/04 03:06:21 AM] Writing properties/obj_type_2/prob_anaphase (4,)\n",
      "[INFO][2022/02/04 03:06:21 AM] Writing properties/obj_type_2/prob_apoptosis (4,)\n",
      "[INFO][2022/02/04 03:06:21 AM] Closing HDF file: /home/nathan/data/kraken/ras/ND0011/Pos10/objects_type_2.h5\n"
     ]
    },
    {
     "name": "stdout",
     "output_type": "stream",
     "text": [
      "Starting ND0011/Pos0\n",
      "Using cropping: (1200, 1600)\n"
     ]
    },
    {
     "name": "stderr",
     "output_type": "stream",
     "text": [
      "[INFO][2022/02/04 03:06:23 AM] Localizing objects from segmentation...\n",
      "[INFO][2022/02/04 03:06:23 AM] Found intensity_image data\n",
      "[INFO][2022/02/04 03:06:23 AM] Calculating weighted centroids using intensity_image\n",
      "[INFO][2022/02/04 03:15:20 AM] Objects are of type: <class 'dict'>\n",
      "[INFO][2022/02/04 03:15:20 AM] ...Found 1133 objects in 567 frames.\n"
     ]
    },
    {
     "name": "stdout",
     "output_type": "stream",
     "text": [
      "Classifying objects\n"
     ]
    },
    {
     "data": {
      "application/vnd.jupyter.widget-view+json": {
       "model_id": "94a0659ab5024468ad4f3f54048a0b9b",
       "version_major": 2,
       "version_minor": 0
      },
      "text/plain": [
       "  0%|          | 0/1637 [00:00<?, ?it/s]"
      ]
     },
     "metadata": {},
     "output_type": "display_data"
    },
    {
     "data": {
      "application/vnd.jupyter.widget-view+json": {
       "model_id": "e989cf25b723432a983fd51bec1694b0",
       "version_major": 2,
       "version_minor": 0
      },
      "text/plain": [
       "  0%|          | 0/1637 [00:00<?, ?it/s]"
      ]
     },
     "metadata": {},
     "output_type": "display_data"
    },
    {
     "name": "stderr",
     "output_type": "stream",
     "text": [
      "[INFO][2022/02/04 03:39:29 AM] Opening HDF file: /home/nathan/data/kraken/ras/ND0011/Pos0/objects_type_1.h5...\n",
      "[INFO][2022/02/04 03:39:29 AM] Writing objects/obj_type_1\n",
      "[INFO][2022/02/04 03:39:29 AM] Writing labels/obj_type_1\n",
      "[INFO][2022/02/04 03:39:29 AM] Loading objects/obj_type_1 (566, 5) (566 filtered: None)\n",
      "[INFO][2022/02/04 03:39:29 AM] Writing properties/obj_type_1/area (566,)\n",
      "[INFO][2022/02/04 03:39:29 AM] Writing properties/obj_type_1/max_intensity (566,)\n",
      "[INFO][2022/02/04 03:39:29 AM] Writing properties/obj_type_1/prob_interphase (566,)\n",
      "[INFO][2022/02/04 03:39:29 AM] Writing properties/obj_type_1/prob_prometaphase (566,)\n",
      "[INFO][2022/02/04 03:39:29 AM] Writing properties/obj_type_1/prob_metaphase (566,)\n",
      "[INFO][2022/02/04 03:39:29 AM] Writing properties/obj_type_1/prob_anaphase (566,)\n",
      "[INFO][2022/02/04 03:39:29 AM] Writing properties/obj_type_1/prob_apoptosis (566,)\n",
      "[INFO][2022/02/04 03:39:29 AM] Closing HDF file: /home/nathan/data/kraken/ras/ND0011/Pos0/objects_type_1.h5\n",
      "[INFO][2022/02/04 03:39:29 AM] Opening HDF file: /home/nathan/data/kraken/ras/ND0011/Pos0/objects_type_2.h5...\n",
      "[INFO][2022/02/04 03:39:29 AM] Writing objects/obj_type_2\n",
      "[INFO][2022/02/04 03:39:29 AM] Writing labels/obj_type_2\n",
      "[INFO][2022/02/04 03:39:29 AM] Loading objects/obj_type_2 (567, 5) (567 filtered: None)\n",
      "[INFO][2022/02/04 03:39:29 AM] Writing properties/obj_type_2/area (567,)\n",
      "[INFO][2022/02/04 03:39:29 AM] Writing properties/obj_type_2/max_intensity (567,)\n",
      "[INFO][2022/02/04 03:39:29 AM] Writing properties/obj_type_2/prob_interphase (567,)\n",
      "[INFO][2022/02/04 03:39:29 AM] Writing properties/obj_type_2/prob_prometaphase (567,)\n",
      "[INFO][2022/02/04 03:39:29 AM] Writing properties/obj_type_2/prob_metaphase (567,)\n",
      "[INFO][2022/02/04 03:39:29 AM] Writing properties/obj_type_2/prob_anaphase (567,)\n",
      "[INFO][2022/02/04 03:39:29 AM] Writing properties/obj_type_2/prob_apoptosis (567,)\n",
      "[INFO][2022/02/04 03:39:29 AM] Closing HDF file: /home/nathan/data/kraken/ras/ND0011/Pos0/objects_type_2.h5\n"
     ]
    },
    {
     "name": "stdout",
     "output_type": "stream",
     "text": [
      "Starting ND0011/Pos2\n",
      "Using cropping: (1200, 1600)\n"
     ]
    },
    {
     "name": "stderr",
     "output_type": "stream",
     "text": [
      "[INFO][2022/02/04 03:39:31 AM] Localizing objects from segmentation...\n",
      "[INFO][2022/02/04 03:39:31 AM] Found intensity_image data\n",
      "[INFO][2022/02/04 03:39:31 AM] Calculating weighted centroids using intensity_image\n",
      "[INFO][2022/02/04 03:48:59 AM] Objects are of type: <class 'dict'>\n",
      "[INFO][2022/02/04 03:48:59 AM] ...Found 3272 objects in 1636 frames.\n"
     ]
    },
    {
     "name": "stdout",
     "output_type": "stream",
     "text": [
      "Classifying objects\n"
     ]
    },
    {
     "data": {
      "application/vnd.jupyter.widget-view+json": {
       "model_id": "65bba017827a40518e9bcbdcd9c44a52",
       "version_major": 2,
       "version_minor": 0
      },
      "text/plain": [
       "  0%|          | 0/1636 [00:00<?, ?it/s]"
      ]
     },
     "metadata": {},
     "output_type": "display_data"
    },
    {
     "data": {
      "application/vnd.jupyter.widget-view+json": {
       "model_id": "3d71bd0a23b44cd38d1a2986188e68a7",
       "version_major": 2,
       "version_minor": 0
      },
      "text/plain": [
       "  0%|          | 0/1636 [00:00<?, ?it/s]"
      ]
     },
     "metadata": {},
     "output_type": "display_data"
    },
    {
     "name": "stderr",
     "output_type": "stream",
     "text": [
      "[INFO][2022/02/04 04:17:56 AM] Opening HDF file: /home/nathan/data/kraken/ras/ND0011/Pos2/objects_type_1.h5...\n",
      "[INFO][2022/02/04 04:17:56 AM] Writing objects/obj_type_1\n",
      "[INFO][2022/02/04 04:17:56 AM] Writing labels/obj_type_1\n",
      "[INFO][2022/02/04 04:17:56 AM] Loading objects/obj_type_1 (1636, 5) (1636 filtered: None)\n",
      "[INFO][2022/02/04 04:17:56 AM] Writing properties/obj_type_1/area (1636,)\n",
      "[INFO][2022/02/04 04:17:56 AM] Writing properties/obj_type_1/max_intensity (1636,)\n",
      "[INFO][2022/02/04 04:17:56 AM] Writing properties/obj_type_1/prob_interphase (1636,)\n",
      "[INFO][2022/02/04 04:17:56 AM] Writing properties/obj_type_1/prob_prometaphase (1636,)\n",
      "[INFO][2022/02/04 04:17:56 AM] Writing properties/obj_type_1/prob_metaphase (1636,)\n",
      "[INFO][2022/02/04 04:17:56 AM] Writing properties/obj_type_1/prob_anaphase (1636,)\n",
      "[INFO][2022/02/04 04:17:56 AM] Writing properties/obj_type_1/prob_apoptosis (1636,)\n",
      "[INFO][2022/02/04 04:17:56 AM] Closing HDF file: /home/nathan/data/kraken/ras/ND0011/Pos2/objects_type_1.h5\n",
      "[INFO][2022/02/04 04:17:56 AM] Opening HDF file: /home/nathan/data/kraken/ras/ND0011/Pos2/objects_type_2.h5...\n",
      "[INFO][2022/02/04 04:17:56 AM] Writing objects/obj_type_2\n",
      "[INFO][2022/02/04 04:17:56 AM] Writing labels/obj_type_2\n",
      "[INFO][2022/02/04 04:17:56 AM] Loading objects/obj_type_2 (1636, 5) (1636 filtered: None)\n",
      "[INFO][2022/02/04 04:17:56 AM] Writing properties/obj_type_2/area (1636,)\n",
      "[INFO][2022/02/04 04:17:56 AM] Writing properties/obj_type_2/max_intensity (1636,)\n",
      "[INFO][2022/02/04 04:17:56 AM] Writing properties/obj_type_2/prob_interphase (1636,)\n",
      "[INFO][2022/02/04 04:17:56 AM] Writing properties/obj_type_2/prob_prometaphase (1636,)\n",
      "[INFO][2022/02/04 04:17:56 AM] Writing properties/obj_type_2/prob_metaphase (1636,)\n",
      "[INFO][2022/02/04 04:17:56 AM] Writing properties/obj_type_2/prob_anaphase (1636,)\n",
      "[INFO][2022/02/04 04:17:56 AM] Writing properties/obj_type_2/prob_apoptosis (1636,)\n",
      "[INFO][2022/02/04 04:17:56 AM] Closing HDF file: /home/nathan/data/kraken/ras/ND0011/Pos2/objects_type_2.h5\n"
     ]
    },
    {
     "name": "stdout",
     "output_type": "stream",
     "text": [
      "Starting ND0011/Pos6\n",
      "Using cropping: (1200, 1600)\n"
     ]
    },
    {
     "name": "stderr",
     "output_type": "stream",
     "text": [
      "[INFO][2022/02/04 04:17:58 AM] Localizing objects from segmentation...\n",
      "[INFO][2022/02/04 04:17:58 AM] Found intensity_image data\n",
      "[INFO][2022/02/04 04:17:58 AM] Calculating weighted centroids using intensity_image\n",
      "[INFO][2022/02/04 04:28:48 AM] Objects are of type: <class 'dict'>\n",
      "[INFO][2022/02/04 04:28:48 AM] ...Found 3276 objects in 1638 frames.\n"
     ]
    },
    {
     "name": "stdout",
     "output_type": "stream",
     "text": [
      "Classifying objects\n"
     ]
    },
    {
     "data": {
      "application/vnd.jupyter.widget-view+json": {
       "model_id": "c7f326714ef040b3962ad607ca6b79e3",
       "version_major": 2,
       "version_minor": 0
      },
      "text/plain": [
       "  0%|          | 0/1638 [00:00<?, ?it/s]"
      ]
     },
     "metadata": {},
     "output_type": "display_data"
    },
    {
     "data": {
      "application/vnd.jupyter.widget-view+json": {
       "model_id": "e2721d3fc3fc40d29c880e34d3537305",
       "version_major": 2,
       "version_minor": 0
      },
      "text/plain": [
       "  0%|          | 0/1638 [00:00<?, ?it/s]"
      ]
     },
     "metadata": {},
     "output_type": "display_data"
    },
    {
     "name": "stderr",
     "output_type": "stream",
     "text": [
      "[INFO][2022/02/04 04:58:05 AM] Opening HDF file: /home/nathan/data/kraken/ras/ND0011/Pos6/objects_type_1.h5...\n",
      "[INFO][2022/02/04 04:58:06 AM] Writing objects/obj_type_1\n",
      "[INFO][2022/02/04 04:58:06 AM] Writing labels/obj_type_1\n",
      "[INFO][2022/02/04 04:58:06 AM] Loading objects/obj_type_1 (1638, 5) (1638 filtered: None)\n",
      "[INFO][2022/02/04 04:58:06 AM] Writing properties/obj_type_1/area (1638,)\n",
      "[INFO][2022/02/04 04:58:06 AM] Writing properties/obj_type_1/max_intensity (1638,)\n",
      "[INFO][2022/02/04 04:58:06 AM] Writing properties/obj_type_1/prob_interphase (1638,)\n",
      "[INFO][2022/02/04 04:58:06 AM] Writing properties/obj_type_1/prob_prometaphase (1638,)\n",
      "[INFO][2022/02/04 04:58:06 AM] Writing properties/obj_type_1/prob_metaphase (1638,)\n",
      "[INFO][2022/02/04 04:58:06 AM] Writing properties/obj_type_1/prob_anaphase (1638,)\n",
      "[INFO][2022/02/04 04:58:06 AM] Writing properties/obj_type_1/prob_apoptosis (1638,)\n",
      "[INFO][2022/02/04 04:58:06 AM] Closing HDF file: /home/nathan/data/kraken/ras/ND0011/Pos6/objects_type_1.h5\n",
      "[INFO][2022/02/04 04:58:06 AM] Opening HDF file: /home/nathan/data/kraken/ras/ND0011/Pos6/objects_type_2.h5...\n",
      "[INFO][2022/02/04 04:58:06 AM] Writing objects/obj_type_2\n",
      "[INFO][2022/02/04 04:58:06 AM] Writing labels/obj_type_2\n",
      "[INFO][2022/02/04 04:58:06 AM] Loading objects/obj_type_2 (1638, 5) (1638 filtered: None)\n",
      "[INFO][2022/02/04 04:58:06 AM] Writing properties/obj_type_2/area (1638,)\n",
      "[INFO][2022/02/04 04:58:06 AM] Writing properties/obj_type_2/max_intensity (1638,)\n",
      "[INFO][2022/02/04 04:58:06 AM] Writing properties/obj_type_2/prob_interphase (1638,)\n",
      "[INFO][2022/02/04 04:58:06 AM] Writing properties/obj_type_2/prob_prometaphase (1638,)\n",
      "[INFO][2022/02/04 04:58:06 AM] Writing properties/obj_type_2/prob_metaphase (1638,)\n",
      "[INFO][2022/02/04 04:58:06 AM] Writing properties/obj_type_2/prob_anaphase (1638,)\n",
      "[INFO][2022/02/04 04:58:06 AM] Writing properties/obj_type_2/prob_apoptosis (1638,)\n",
      "[INFO][2022/02/04 04:58:06 AM] Closing HDF file: /home/nathan/data/kraken/ras/ND0011/Pos6/objects_type_2.h5\n"
     ]
    },
    {
     "name": "stdout",
     "output_type": "stream",
     "text": [
      "Starting ND0011/Pos7\n",
      "Using cropping: (1200, 1600)\n"
     ]
    },
    {
     "name": "stderr",
     "output_type": "stream",
     "text": [
      "[INFO][2022/02/04 04:58:08 AM] Localizing objects from segmentation...\n",
      "[INFO][2022/02/04 04:58:08 AM] Found intensity_image data\n",
      "[INFO][2022/02/04 04:58:08 AM] Calculating weighted centroids using intensity_image\n",
      "[INFO][2022/02/04 05:09:38 AM] Objects are of type: <class 'dict'>\n",
      "[INFO][2022/02/04 05:09:38 AM] ...Found 3292 objects in 1646 frames.\n"
     ]
    },
    {
     "name": "stdout",
     "output_type": "stream",
     "text": [
      "Classifying objects\n"
     ]
    },
    {
     "data": {
      "application/vnd.jupyter.widget-view+json": {
       "model_id": "f41dbd9d9a534851a819ac4adff65cba",
       "version_major": 2,
       "version_minor": 0
      },
      "text/plain": [
       "  0%|          | 0/1646 [00:00<?, ?it/s]"
      ]
     },
     "metadata": {},
     "output_type": "display_data"
    },
    {
     "data": {
      "application/vnd.jupyter.widget-view+json": {
       "model_id": "4d7b75ebb9514ad48da074fadf9cc7f2",
       "version_major": 2,
       "version_minor": 0
      },
      "text/plain": [
       "  0%|          | 0/1646 [00:00<?, ?it/s]"
      ]
     },
     "metadata": {},
     "output_type": "display_data"
    },
    {
     "name": "stderr",
     "output_type": "stream",
     "text": [
      "[INFO][2022/02/04 05:39:41 AM] Opening HDF file: /home/nathan/data/kraken/ras/ND0011/Pos7/objects_type_1.h5...\n",
      "[INFO][2022/02/04 05:39:41 AM] Writing objects/obj_type_1\n",
      "[INFO][2022/02/04 05:39:41 AM] Writing labels/obj_type_1\n",
      "[INFO][2022/02/04 05:39:41 AM] Loading objects/obj_type_1 (1646, 5) (1646 filtered: None)\n",
      "[INFO][2022/02/04 05:39:41 AM] Writing properties/obj_type_1/area (1646,)\n",
      "[INFO][2022/02/04 05:39:41 AM] Writing properties/obj_type_1/max_intensity (1646,)\n",
      "[INFO][2022/02/04 05:39:41 AM] Writing properties/obj_type_1/prob_interphase (1646,)\n",
      "[INFO][2022/02/04 05:39:41 AM] Writing properties/obj_type_1/prob_prometaphase (1646,)\n",
      "[INFO][2022/02/04 05:39:41 AM] Writing properties/obj_type_1/prob_metaphase (1646,)\n",
      "[INFO][2022/02/04 05:39:41 AM] Writing properties/obj_type_1/prob_anaphase (1646,)\n",
      "[INFO][2022/02/04 05:39:41 AM] Writing properties/obj_type_1/prob_apoptosis (1646,)\n",
      "[INFO][2022/02/04 05:39:41 AM] Closing HDF file: /home/nathan/data/kraken/ras/ND0011/Pos7/objects_type_1.h5\n",
      "[INFO][2022/02/04 05:39:41 AM] Opening HDF file: /home/nathan/data/kraken/ras/ND0011/Pos7/objects_type_2.h5...\n",
      "[INFO][2022/02/04 05:39:42 AM] Writing objects/obj_type_2\n",
      "[INFO][2022/02/04 05:39:42 AM] Writing labels/obj_type_2\n",
      "[INFO][2022/02/04 05:39:42 AM] Loading objects/obj_type_2 (1646, 5) (1646 filtered: None)\n",
      "[INFO][2022/02/04 05:39:42 AM] Writing properties/obj_type_2/area (1646,)\n",
      "[INFO][2022/02/04 05:39:42 AM] Writing properties/obj_type_2/max_intensity (1646,)\n",
      "[INFO][2022/02/04 05:39:42 AM] Writing properties/obj_type_2/prob_interphase (1646,)\n",
      "[INFO][2022/02/04 05:39:42 AM] Writing properties/obj_type_2/prob_prometaphase (1646,)\n",
      "[INFO][2022/02/04 05:39:42 AM] Writing properties/obj_type_2/prob_metaphase (1646,)\n",
      "[INFO][2022/02/04 05:39:42 AM] Writing properties/obj_type_2/prob_anaphase (1646,)\n",
      "[INFO][2022/02/04 05:39:42 AM] Writing properties/obj_type_2/prob_apoptosis (1646,)\n",
      "[INFO][2022/02/04 05:39:42 AM] Closing HDF file: /home/nathan/data/kraken/ras/ND0011/Pos7/objects_type_2.h5\n"
     ]
    },
    {
     "name": "stdout",
     "output_type": "stream",
     "text": [
      "Starting ND0011/Pos9\n",
      "Using cropping: (1200, 1600)\n"
     ]
    },
    {
     "name": "stderr",
     "output_type": "stream",
     "text": [
      "[INFO][2022/02/04 05:39:44 AM] Localizing objects from segmentation...\n",
      "[INFO][2022/02/04 05:39:44 AM] Found intensity_image data\n",
      "[INFO][2022/02/04 05:39:44 AM] Calculating weighted centroids using intensity_image\n",
      "[INFO][2022/02/04 05:50:01 AM] Objects are of type: <class 'dict'>\n",
      "[INFO][2022/02/04 05:50:01 AM] ...Found 2308 objects in 1139 frames.\n"
     ]
    },
    {
     "name": "stdout",
     "output_type": "stream",
     "text": [
      "Classifying objects\n"
     ]
    },
    {
     "data": {
      "application/vnd.jupyter.widget-view+json": {
       "model_id": "1ede3e9f47364eb89c1666bf22f212ad",
       "version_major": 2,
       "version_minor": 0
      },
      "text/plain": [
       "  0%|          | 0/1646 [00:00<?, ?it/s]"
      ]
     },
     "metadata": {},
     "output_type": "display_data"
    },
    {
     "data": {
      "application/vnd.jupyter.widget-view+json": {
       "model_id": "ac552175deea4e72a98a73e4e66cf02e",
       "version_major": 2,
       "version_minor": 0
      },
      "text/plain": [
       "  0%|          | 0/1646 [00:00<?, ?it/s]"
      ]
     },
     "metadata": {},
     "output_type": "display_data"
    },
    {
     "name": "stderr",
     "output_type": "stream",
     "text": [
      "[INFO][2022/02/04 06:11:35 AM] Opening HDF file: /home/nathan/data/kraken/ras/ND0011/Pos9/objects_type_1.h5...\n",
      "[INFO][2022/02/04 06:11:35 AM] Writing objects/obj_type_1\n",
      "[INFO][2022/02/04 06:11:35 AM] Writing labels/obj_type_1\n",
      "[INFO][2022/02/04 06:11:35 AM] Loading objects/obj_type_1 (2305, 5) (2305 filtered: None)\n",
      "[INFO][2022/02/04 06:11:35 AM] Writing properties/obj_type_1/area (2305,)\n",
      "[INFO][2022/02/04 06:11:35 AM] Writing properties/obj_type_1/max_intensity (2305,)\n",
      "[INFO][2022/02/04 06:11:35 AM] Writing properties/obj_type_1/prob_interphase (2305,)\n",
      "[INFO][2022/02/04 06:11:35 AM] Writing properties/obj_type_1/prob_prometaphase (2305,)\n",
      "[INFO][2022/02/04 06:11:35 AM] Writing properties/obj_type_1/prob_metaphase (2305,)\n",
      "[INFO][2022/02/04 06:11:35 AM] Writing properties/obj_type_1/prob_anaphase (2305,)\n",
      "[INFO][2022/02/04 06:11:35 AM] Writing properties/obj_type_1/prob_apoptosis (2305,)\n",
      "[INFO][2022/02/04 06:11:35 AM] Closing HDF file: /home/nathan/data/kraken/ras/ND0011/Pos9/objects_type_1.h5\n",
      "[INFO][2022/02/04 06:11:35 AM] Opening HDF file: /home/nathan/data/kraken/ras/ND0011/Pos9/objects_type_2.h5...\n",
      "[INFO][2022/02/04 06:11:35 AM] Writing objects/obj_type_2\n",
      "[INFO][2022/02/04 06:11:35 AM] Writing labels/obj_type_2\n",
      "[INFO][2022/02/04 06:11:35 AM] Loading objects/obj_type_2 (3, 5) (3 filtered: None)\n",
      "[INFO][2022/02/04 06:11:35 AM] Writing properties/obj_type_2/area (3,)\n",
      "[INFO][2022/02/04 06:11:35 AM] Writing properties/obj_type_2/max_intensity (3,)\n",
      "[INFO][2022/02/04 06:11:35 AM] Writing properties/obj_type_2/prob_interphase (3,)\n",
      "[INFO][2022/02/04 06:11:35 AM] Writing properties/obj_type_2/prob_prometaphase (3,)\n",
      "[INFO][2022/02/04 06:11:35 AM] Writing properties/obj_type_2/prob_metaphase (3,)\n",
      "[INFO][2022/02/04 06:11:35 AM] Writing properties/obj_type_2/prob_anaphase (3,)\n",
      "[INFO][2022/02/04 06:11:35 AM] Writing properties/obj_type_2/prob_apoptosis (3,)\n",
      "[INFO][2022/02/04 06:11:35 AM] Closing HDF file: /home/nathan/data/kraken/ras/ND0011/Pos9/objects_type_2.h5\n"
     ]
    },
    {
     "name": "stdout",
     "output_type": "stream",
     "text": [
      "Starting ND0011/Pos4\n",
      "Using cropping: (1200, 1600)\n"
     ]
    },
    {
     "name": "stderr",
     "output_type": "stream",
     "text": [
      "[INFO][2022/02/04 06:11:36 AM] Localizing objects from segmentation...\n",
      "[INFO][2022/02/04 06:11:36 AM] Found intensity_image data\n",
      "[INFO][2022/02/04 06:11:36 AM] Calculating weighted centroids using intensity_image\n",
      "[INFO][2022/02/04 06:20:14 AM] Objects are of type: <class 'dict'>\n",
      "[INFO][2022/02/04 06:20:14 AM] ...Found 3280 objects in 1640 frames.\n"
     ]
    },
    {
     "name": "stdout",
     "output_type": "stream",
     "text": [
      "Classifying objects\n"
     ]
    },
    {
     "data": {
      "application/vnd.jupyter.widget-view+json": {
       "model_id": "922e12c034204bb2a9a0ecb1c1733c37",
       "version_major": 2,
       "version_minor": 0
      },
      "text/plain": [
       "  0%|          | 0/1640 [00:00<?, ?it/s]"
      ]
     },
     "metadata": {},
     "output_type": "display_data"
    },
    {
     "data": {
      "application/vnd.jupyter.widget-view+json": {
       "model_id": "65a6d631c3b64043b103fab1cacdf9e8",
       "version_major": 2,
       "version_minor": 0
      },
      "text/plain": [
       "  0%|          | 0/1640 [00:00<?, ?it/s]"
      ]
     },
     "metadata": {},
     "output_type": "display_data"
    },
    {
     "name": "stderr",
     "output_type": "stream",
     "text": [
      "[INFO][2022/02/04 06:41:37 AM] Opening HDF file: /home/nathan/data/kraken/ras/ND0011/Pos4/objects_type_1.h5...\n",
      "[INFO][2022/02/04 06:41:37 AM] Writing objects/obj_type_1\n",
      "[INFO][2022/02/04 06:41:37 AM] Writing labels/obj_type_1\n",
      "[INFO][2022/02/04 06:41:37 AM] Loading objects/obj_type_1 (1640, 5) (1640 filtered: None)\n",
      "[INFO][2022/02/04 06:41:37 AM] Writing properties/obj_type_1/area (1640,)\n",
      "[INFO][2022/02/04 06:41:37 AM] Writing properties/obj_type_1/max_intensity (1640,)\n",
      "[INFO][2022/02/04 06:41:37 AM] Writing properties/obj_type_1/prob_interphase (1640,)\n",
      "[INFO][2022/02/04 06:41:37 AM] Writing properties/obj_type_1/prob_prometaphase (1640,)\n",
      "[INFO][2022/02/04 06:41:37 AM] Writing properties/obj_type_1/prob_metaphase (1640,)\n",
      "[INFO][2022/02/04 06:41:37 AM] Writing properties/obj_type_1/prob_anaphase (1640,)\n",
      "[INFO][2022/02/04 06:41:37 AM] Writing properties/obj_type_1/prob_apoptosis (1640,)\n",
      "[INFO][2022/02/04 06:41:37 AM] Closing HDF file: /home/nathan/data/kraken/ras/ND0011/Pos4/objects_type_1.h5\n",
      "[INFO][2022/02/04 06:41:37 AM] Opening HDF file: /home/nathan/data/kraken/ras/ND0011/Pos4/objects_type_2.h5...\n",
      "[INFO][2022/02/04 06:41:37 AM] Writing objects/obj_type_2\n",
      "[INFO][2022/02/04 06:41:37 AM] Writing labels/obj_type_2\n",
      "[INFO][2022/02/04 06:41:37 AM] Loading objects/obj_type_2 (1640, 5) (1640 filtered: None)\n",
      "[INFO][2022/02/04 06:41:37 AM] Writing properties/obj_type_2/area (1640,)\n",
      "[INFO][2022/02/04 06:41:37 AM] Writing properties/obj_type_2/max_intensity (1640,)\n",
      "[INFO][2022/02/04 06:41:37 AM] Writing properties/obj_type_2/prob_interphase (1640,)\n",
      "[INFO][2022/02/04 06:41:37 AM] Writing properties/obj_type_2/prob_prometaphase (1640,)\n",
      "[INFO][2022/02/04 06:41:37 AM] Writing properties/obj_type_2/prob_metaphase (1640,)\n",
      "[INFO][2022/02/04 06:41:37 AM] Writing properties/obj_type_2/prob_anaphase (1640,)\n",
      "[INFO][2022/02/04 06:41:37 AM] Writing properties/obj_type_2/prob_apoptosis (1640,)\n",
      "[INFO][2022/02/04 06:41:37 AM] Closing HDF file: /home/nathan/data/kraken/ras/ND0011/Pos4/objects_type_2.h5\n"
     ]
    },
    {
     "data": {
      "application/vnd.jupyter.widget-view+json": {
       "model_id": "de4e829f847b4537bdaac2775a8e0b69",
       "version_major": 2,
       "version_minor": 0
      },
      "text/plain": [
       "  0%|          | 0/12 [00:00<?, ?it/s]"
      ]
     },
     "metadata": {},
     "output_type": "display_data"
    },
    {
     "name": "stdout",
     "output_type": "stream",
     "text": [
      "Starting ND0012/Pos5\n",
      "Using cropping: (1200, 1600)\n"
     ]
    },
    {
     "name": "stderr",
     "output_type": "stream",
     "text": [
      "[INFO][2022/02/04 06:41:39 AM] Localizing objects from segmentation...\n",
      "[INFO][2022/02/04 06:41:39 AM] Found intensity_image data\n",
      "[INFO][2022/02/04 06:41:39 AM] Calculating weighted centroids using intensity_image\n",
      "[INFO][2022/02/04 06:50:57 AM] Objects are of type: <class 'dict'>\n",
      "[INFO][2022/02/04 06:50:57 AM] ...Found 9566 objects in 1738 frames.\n"
     ]
    },
    {
     "name": "stdout",
     "output_type": "stream",
     "text": [
      "Classifying objects\n"
     ]
    },
    {
     "data": {
      "application/vnd.jupyter.widget-view+json": {
       "model_id": "9962775dd71f400c98f1602849e3bfa0",
       "version_major": 2,
       "version_minor": 0
      },
      "text/plain": [
       "  0%|          | 0/1738 [00:00<?, ?it/s]"
      ]
     },
     "metadata": {},
     "output_type": "display_data"
    },
    {
     "data": {
      "application/vnd.jupyter.widget-view+json": {
       "model_id": "c85bae4522544b64834a6742bf8c2878",
       "version_major": 2,
       "version_minor": 0
      },
      "text/plain": [
       "  0%|          | 0/1738 [00:00<?, ?it/s]"
      ]
     },
     "metadata": {},
     "output_type": "display_data"
    },
    {
     "name": "stderr",
     "output_type": "stream",
     "text": [
      "[INFO][2022/02/04 07:13:22 AM] Opening HDF file: /home/nathan/data/kraken/ras/ND0012/Pos5/objects_type_1.h5...\n",
      "[INFO][2022/02/04 07:13:22 AM] Writing objects/obj_type_1\n",
      "[INFO][2022/02/04 07:13:22 AM] Writing labels/obj_type_1\n",
      "[INFO][2022/02/04 07:13:22 AM] Loading objects/obj_type_1 (7863, 5) (7863 filtered: None)\n",
      "[INFO][2022/02/04 07:13:22 AM] Writing properties/obj_type_1/area (7863,)\n",
      "[INFO][2022/02/04 07:13:22 AM] Writing properties/obj_type_1/max_intensity (7863,)\n",
      "[INFO][2022/02/04 07:13:22 AM] Writing properties/obj_type_1/prob_interphase (7863,)\n",
      "[INFO][2022/02/04 07:13:22 AM] Writing properties/obj_type_1/prob_prometaphase (7863,)\n",
      "[INFO][2022/02/04 07:13:22 AM] Writing properties/obj_type_1/prob_metaphase (7863,)\n",
      "[INFO][2022/02/04 07:13:22 AM] Writing properties/obj_type_1/prob_anaphase (7863,)\n",
      "[INFO][2022/02/04 07:13:22 AM] Writing properties/obj_type_1/prob_apoptosis (7863,)\n",
      "[INFO][2022/02/04 07:13:22 AM] Closing HDF file: /home/nathan/data/kraken/ras/ND0012/Pos5/objects_type_1.h5\n",
      "[INFO][2022/02/04 07:13:22 AM] Opening HDF file: /home/nathan/data/kraken/ras/ND0012/Pos5/objects_type_2.h5...\n",
      "[INFO][2022/02/04 07:13:22 AM] Writing objects/obj_type_2\n",
      "[INFO][2022/02/04 07:13:22 AM] Writing labels/obj_type_2\n",
      "[INFO][2022/02/04 07:13:22 AM] Loading objects/obj_type_2 (1703, 5) (1703 filtered: None)\n",
      "[INFO][2022/02/04 07:13:22 AM] Writing properties/obj_type_2/area (1703,)\n",
      "[INFO][2022/02/04 07:13:22 AM] Writing properties/obj_type_2/max_intensity (1703,)\n",
      "[INFO][2022/02/04 07:13:22 AM] Writing properties/obj_type_2/prob_interphase (1703,)\n",
      "[INFO][2022/02/04 07:13:22 AM] Writing properties/obj_type_2/prob_prometaphase (1703,)\n",
      "[INFO][2022/02/04 07:13:22 AM] Writing properties/obj_type_2/prob_metaphase (1703,)\n",
      "[INFO][2022/02/04 07:13:22 AM] Writing properties/obj_type_2/prob_anaphase (1703,)\n",
      "[INFO][2022/02/04 07:13:22 AM] Writing properties/obj_type_2/prob_apoptosis (1703,)\n",
      "[INFO][2022/02/04 07:13:22 AM] Closing HDF file: /home/nathan/data/kraken/ras/ND0012/Pos5/objects_type_2.h5\n"
     ]
    },
    {
     "name": "stdout",
     "output_type": "stream",
     "text": [
      "Starting ND0012/Pos11\n",
      "Using cropping: (1200, 1600)\n"
     ]
    },
    {
     "name": "stderr",
     "output_type": "stream",
     "text": [
      "[INFO][2022/02/04 07:13:24 AM] Localizing objects from segmentation...\n",
      "[INFO][2022/02/04 07:13:24 AM] Found intensity_image data\n",
      "[INFO][2022/02/04 07:13:24 AM] Calculating weighted centroids using intensity_image\n",
      "[INFO][2022/02/04 07:21:20 AM] Objects are of type: <class 'dict'>\n",
      "[INFO][2022/02/04 07:21:20 AM] ...Found 166 objects in 163 frames.\n"
     ]
    },
    {
     "name": "stdout",
     "output_type": "stream",
     "text": [
      "Classifying objects\n"
     ]
    },
    {
     "data": {
      "application/vnd.jupyter.widget-view+json": {
       "model_id": "192f97babca346ed9a15ae0a765ce9e6",
       "version_major": 2,
       "version_minor": 0
      },
      "text/plain": [
       "  0%|          | 0/1740 [00:00<?, ?it/s]"
      ]
     },
     "metadata": {},
     "output_type": "display_data"
    },
    {
     "data": {
      "application/vnd.jupyter.widget-view+json": {
       "model_id": "eec8d88cd32d441cad612d2758fc8793",
       "version_major": 2,
       "version_minor": 0
      },
      "text/plain": [
       "  0%|          | 0/1740 [00:00<?, ?it/s]"
      ]
     },
     "metadata": {},
     "output_type": "display_data"
    },
    {
     "name": "stderr",
     "output_type": "stream",
     "text": [
      "[INFO][2022/02/04 07:38:22 AM] Opening HDF file: /home/nathan/data/kraken/ras/ND0012/Pos11/objects_type_1.h5...\n",
      "[INFO][2022/02/04 07:38:22 AM] Writing objects/obj_type_1\n",
      "[INFO][2022/02/04 07:38:23 AM] Writing labels/obj_type_1\n",
      "[INFO][2022/02/04 07:38:23 AM] Loading objects/obj_type_1 (166, 5) (166 filtered: None)\n",
      "[INFO][2022/02/04 07:38:23 AM] Writing properties/obj_type_1/area (166,)\n",
      "[INFO][2022/02/04 07:38:23 AM] Writing properties/obj_type_1/max_intensity (166,)\n",
      "[INFO][2022/02/04 07:38:23 AM] Writing properties/obj_type_1/prob_interphase (166,)\n",
      "[INFO][2022/02/04 07:38:23 AM] Writing properties/obj_type_1/prob_prometaphase (166,)\n",
      "[INFO][2022/02/04 07:38:23 AM] Writing properties/obj_type_1/prob_metaphase (166,)\n",
      "[INFO][2022/02/04 07:38:23 AM] Writing properties/obj_type_1/prob_anaphase (166,)\n",
      "[INFO][2022/02/04 07:38:23 AM] Writing properties/obj_type_1/prob_apoptosis (166,)\n",
      "[INFO][2022/02/04 07:38:23 AM] Closing HDF file: /home/nathan/data/kraken/ras/ND0012/Pos11/objects_type_1.h5\n",
      "[INFO][2022/02/04 07:38:23 AM] Opening HDF file: /home/nathan/data/kraken/ras/ND0012/Pos11/objects_type_2.h5...\n",
      "[INFO][2022/02/04 07:38:23 AM] Closing HDF file: /home/nathan/data/kraken/ras/ND0012/Pos11/objects_type_2.h5\n"
     ]
    },
    {
     "ename": "IndexError",
     "evalue": "list index out of range",
     "output_type": "error",
     "traceback": [
      "\u001b[0;31m---------------------------------------------------------------------------\u001b[0m",
      "\u001b[0;31mIndexError\u001b[0m                                Traceback (most recent call last)",
      "\u001b[0;32m<ipython-input-5-1c81032578d7>\u001b[0m in \u001b[0;36m<module>\u001b[0;34m\u001b[0m\n\u001b[1;32m     64\u001b[0m             ) as hdf:\n\u001b[1;32m     65\u001b[0m                 \u001b[0;31m#hdf.write_segmentation(masks['mask'])\u001b[0m\u001b[0;34m\u001b[0m\u001b[0;34m\u001b[0m\u001b[0m\n\u001b[0;32m---> 66\u001b[0;31m                 \u001b[0mhdf\u001b[0m\u001b[0;34m.\u001b[0m\u001b[0mwrite_objects\u001b[0m\u001b[0;34m(\u001b[0m\u001b[0mobjects_rfp\u001b[0m\u001b[0;34m)\u001b[0m\u001b[0;34m\u001b[0m\u001b[0;34m\u001b[0m\u001b[0m\n\u001b[0m",
      "\u001b[0;32m~/analysis/BayesianTracker/btrack/dataio.py\u001b[0m in \u001b[0;36mwrite_objects\u001b[0;34m(self, data)\u001b[0m\n\u001b[1;32m    538\u001b[0m             \u001b[0mself\u001b[0m\u001b[0;34m.\u001b[0m\u001b[0m_hdf\u001b[0m\u001b[0;34m.\u001b[0m\u001b[0mcreate_group\u001b[0m\u001b[0;34m(\u001b[0m\u001b[0;34m'objects'\u001b[0m\u001b[0;34m)\u001b[0m\u001b[0;34m\u001b[0m\u001b[0;34m\u001b[0m\u001b[0m\n\u001b[1;32m    539\u001b[0m         \u001b[0mgrp\u001b[0m \u001b[0;34m=\u001b[0m \u001b[0mself\u001b[0m\u001b[0;34m.\u001b[0m\u001b[0m_hdf\u001b[0m\u001b[0;34m[\u001b[0m\u001b[0;34m'objects'\u001b[0m\u001b[0;34m]\u001b[0m\u001b[0;34m.\u001b[0m\u001b[0mcreate_group\u001b[0m\u001b[0;34m(\u001b[0m\u001b[0mself\u001b[0m\u001b[0;34m.\u001b[0m\u001b[0mobject_type\u001b[0m\u001b[0;34m)\u001b[0m\u001b[0;34m\u001b[0m\u001b[0;34m\u001b[0m\u001b[0m\n\u001b[0;32m--> 540\u001b[0;31m         \u001b[0mprops\u001b[0m \u001b[0;34m=\u001b[0m \u001b[0;34m{\u001b[0m\u001b[0mk\u001b[0m\u001b[0;34m:\u001b[0m \u001b[0;34m[\u001b[0m\u001b[0;34m]\u001b[0m \u001b[0;32mfor\u001b[0m \u001b[0mk\u001b[0m \u001b[0;32min\u001b[0m \u001b[0mobjects\u001b[0m\u001b[0;34m[\u001b[0m\u001b[0;36m0\u001b[0m\u001b[0;34m]\u001b[0m\u001b[0;34m.\u001b[0m\u001b[0mproperties\u001b[0m\u001b[0;34m.\u001b[0m\u001b[0mkeys\u001b[0m\u001b[0;34m(\u001b[0m\u001b[0;34m)\u001b[0m\u001b[0;34m}\u001b[0m\u001b[0;34m\u001b[0m\u001b[0;34m\u001b[0m\u001b[0m\n\u001b[0m\u001b[1;32m    541\u001b[0m \u001b[0;34m\u001b[0m\u001b[0m\n\u001b[1;32m    542\u001b[0m         \u001b[0mn_objects\u001b[0m \u001b[0;34m=\u001b[0m \u001b[0mlen\u001b[0m\u001b[0;34m(\u001b[0m\u001b[0mobjects\u001b[0m\u001b[0;34m)\u001b[0m\u001b[0;34m\u001b[0m\u001b[0;34m\u001b[0m\u001b[0m\n",
      "\u001b[0;31mIndexError\u001b[0m: list index out of range"
     ]
    }
   ],
   "source": [
    "root_dir = '/home/nathan/data/kraken/ras'\n",
    "expt_list = ['ND0010', 'ND0011', 'ND0012']\n",
    "pos_list = 'all'\n",
    "overwrite = True\n",
    "\n",
    "for expt in tqdm(expt_list, position = 0, leave = True):\n",
    "    \n",
    "        # Find all positions in that experiment, if pos_list is all then it finds all positions\n",
    "        if pos_list == 'all':\n",
    "            pos_list = [pos for pos in os.listdir(f'{root_dir}/{expt}') \n",
    "                    if 'Pos' in pos \n",
    "                    and os.path.isdir(f'{root_dir}/{expt}/{pos}')]  \n",
    "            \n",
    "            \n",
    "        ### Iterate over all positions in that experiment\n",
    "        for pos in tqdm(pos_list, position = 0, leave = True):\n",
    "            \n",
    "            ### check if overwrite param is false check if raw directory already created and if type of transform file already exists and decide whether to skip pos\n",
    "            if not overwrite and glob.glob(f'{root_dir}/{expt}/{pos}/*objects*.h5'):\n",
    "                print(glob.glob(f'{root_dir}/{expt}/{pos}/*objects*.h5'), f'file found, skipping {expt}/{pos}')\n",
    "                continue\n",
    "                \n",
    "            print(f'Starting {expt}/{pos}')\n",
    "            # load segmentation images and apply necessary transforms and crops\n",
    "            image_path = f'{root_dir}/{expt}/{pos}/{pos}_images'\n",
    "            transform_path = f'{root_dir}/{expt}/{pos}/gfp_transform_tensor.npy'\n",
    "            images = DaskOctopusLiteLoader(image_path, \n",
    "                               transforms=transform_path,\n",
    "                               crop=(1200,1600), \n",
    "                               remove_background=False)\n",
    "            \n",
    "            # ID the objects in each segmentation image and assign option properties to them\n",
    "            objects = btrack.utils.segmentation_to_objects(\n",
    "                images['mask'], images['mask'],\n",
    "                properties = ('area', 'max_intensity', ),\n",
    "            )\n",
    "            \n",
    "            # differentiate the objects based on class ID\n",
    "            objects_gfp = [obj for obj in objects if obj.properties['max_intensity'] == 1]\n",
    "            objects_rfp = [obj for obj in objects if obj.properties['max_intensity'] == 2]\n",
    "            \n",
    "            # load classifcation model and define labels\n",
    "            model = load_model('../models/cellx_classifier_stardist.h5')\n",
    "            LABELS = [\"interphase\", \"prometaphase\", \"metaphase\", \"anaphase\", \"apoptosis\"]\n",
    "\n",
    "            # load images for classifcation\n",
    "            bf = images['brightfield']\n",
    "            gfp = images['gfp']\n",
    "            rfp = images['rfp']\n",
    "            \n",
    "            # classify objects\n",
    "            print(\"Classifying objects\")\n",
    "            objects_gfp = classify_objects(bf, objects_gfp, obj_type = 1)\n",
    "            objects_rfp = classify_objects(bf, objects_rfp, obj_type = 2)\n",
    "            \n",
    "            # save out classified objects as segmentation h5 file\n",
    "            with btrack.dataio.HDF5FileHandler(\n",
    "                f'{root_dir}/{expt}/{pos}/objects_type_1.h5', 'w', obj_type='obj_type_1',\n",
    "            ) as hdf:\n",
    "                #hdf.write_segmentation(masks['mask'])\n",
    "                hdf.write_objects(objects_gfp)\n",
    "            with btrack.dataio.HDF5FileHandler(\n",
    "                f'{root_dir}/{expt}/{pos}/objects_type_2.h5', 'w', obj_type='obj_type_2',\n",
    "            ) as hdf:\n",
    "                #hdf.write_segmentation(masks['mask'])\n",
    "                hdf.write_objects(objects_rfp)     "
   ]
  },
  {
   "cell_type": "code",
   "execution_count": null,
   "id": "beda841a",
   "metadata": {},
   "outputs": [],
   "source": []
  }
 ],
 "metadata": {
  "kernelspec": {
   "display_name": "CellX",
   "language": "python",
   "name": "cellx"
  },
  "language_info": {
   "codemirror_mode": {
    "name": "ipython",
    "version": 3
   },
   "file_extension": ".py",
   "mimetype": "text/x-python",
   "name": "python",
   "nbconvert_exporter": "python",
   "pygments_lexer": "ipython3",
   "version": "3.9.7"
  }
 },
 "nbformat": 4,
 "nbformat_minor": 5
}
