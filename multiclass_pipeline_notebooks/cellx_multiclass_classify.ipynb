{
 "cells": [
  {
   "cell_type": "markdown",
   "id": "1cada0f4",
   "metadata": {},
   "source": [
    "# Phenotype classifcation using CellX \n",
    "\n",
    "This notebook shows how to take segmented time lapse microscopy images and use h2b fluorescence markers to classfiy mitotic state of the cell cycle. \n",
    "\n",
    "The sections of this notebook are as follows:\n",
    "\n",
    "1. Load images\n",
    "2. Localise the objects\n",
    "3. Classify the objects\n",
    "4. Batch process\n",
    "\n",
    "The data used in this notebook is timelapse microscopy data with h2b-gfp/rfp markers that show the spatial extent of the nucleus and it's mitotic state. \n",
    "\n",
    "This notebook uses the dask octopuslite image loader from the CellX/Lowe lab project."
   ]
  },
  {
   "cell_type": "code",
   "execution_count": 1,
   "id": "c311e3db",
   "metadata": {},
   "outputs": [],
   "source": [
    "from octopuslite import DaskOctopusLiteLoader\n",
    "import btrack\n",
    "from tqdm.auto import tqdm\n",
    "import numpy as np\n",
    "from scipy.special import softmax\n",
    "import os\n",
    "import matplotlib.pyplot as plt\n",
    "from skimage.io import imread, imshow\n",
    "from cellx import load_model\n",
    "from cellx.tools.image import InfinitePaddedImage\n",
    "from skimage.transform import resize\n",
    "import glob\n",
    "%matplotlib inline\n",
    "plt.rcParams['figure.figsize'] = [18,8]"
   ]
  },
  {
   "cell_type": "markdown",
   "id": "28a5906f",
   "metadata": {},
   "source": [
    "## 1. Load segmentation images\n",
    "\n",
    "#### *Important:* from this point on you will need to be consistent with the use of cropping and alignment. \n",
    "Using a previously generated alignment transformation will aid greatly in the tracking notebook, which depends on the object localisation performed in this notebook. Cropping your images will ensure that no border effects from the translational shift are seen. "
   ]
  },
  {
   "cell_type": "code",
   "execution_count": 7,
   "id": "67ee9d2e",
   "metadata": {},
   "outputs": [
    {
     "name": "stdout",
     "output_type": "stream",
     "text": [
      "Using cropping: (1200, 1600)\n"
     ]
    }
   ],
   "source": [
    "# load images\n",
    "expt = 'ND0012'\n",
    "pos = 'Pos5'\n",
    "root_dir = '/home/nathan/data/kraken/ras'\n",
    "image_path = f'{root_dir}/{expt}/{pos}/{pos}_images'\n",
    "transform_path = f'{root_dir}/{expt}/{pos}/gfp_transform_tensor.npy'\n",
    "images = DaskOctopusLiteLoader(image_path, \n",
    "                               transforms=transform_path,\n",
    "                               crop=(1200,1600), \n",
    "                               remove_background=False)"
   ]
  },
  {
   "cell_type": "markdown",
   "id": "dfccac2e",
   "metadata": {},
   "source": [
    "## 2. Localise the objects\n",
    "We need to also measure the mean intensity regionprops parameter in order to differentiate object class, for which we need to provide an image to measure. This means we need to provide the segmentation images twice: once to find the centroid and once to measure the pixel intensity. "
   ]
  },
  {
   "cell_type": "code",
   "execution_count": 7,
   "id": "b5f3d937",
   "metadata": {
    "scrolled": true
   },
   "outputs": [
    {
     "name": "stderr",
     "output_type": "stream",
     "text": [
      "[INFO][2022/02/04 10:18:09 AM] Localizing objects from segmentation...\n",
      "[INFO][2022/02/04 10:18:09 AM] Found intensity_image data\n",
      "[INFO][2022/02/04 10:18:09 AM] Calculating weighted centroids using intensity_image\n",
      "[INFO][2022/02/04 10:28:10 AM] Objects are of type: <class 'dict'>\n",
      "[INFO][2022/02/04 10:28:10 AM] ...Found 9566 objects in 1738 frames.\n"
     ]
    }
   ],
   "source": [
    "objects = btrack.utils.segmentation_to_objects(\n",
    "    images['mask'], images['mask'],\n",
    "    properties = ('area', 'max_intensity', ),\n",
    ")"
   ]
  },
  {
   "cell_type": "markdown",
   "id": "4fa49b7b",
   "metadata": {},
   "source": [
    "#### Can also assign measured values from raw image to each segment using `skimage.measure.regionprops` parameters\n",
    "But also need to load the raw images to be measured first. Cannot currently save out `intensity_image` parameter to object file."
   ]
  },
  {
   "cell_type": "code",
   "execution_count": null,
   "id": "a4548905",
   "metadata": {},
   "outputs": [],
   "source": [
    "detailed_objects = btrack.utils.segmentation_to_objects(\n",
    "    images['mask'], \n",
    "    images['gfp'],\n",
    "    properties = ('area', 'mean_intensity', 'intensity_image'), \n",
    ")"
   ]
  },
  {
   "cell_type": "code",
   "execution_count": null,
   "id": "91e2efcf",
   "metadata": {},
   "outputs": [],
   "source": [
    "detailed_objects[0]"
   ]
  },
  {
   "cell_type": "markdown",
   "id": "63775a4c",
   "metadata": {},
   "source": [
    "Example image showing PCNA-iRFP morphology "
   ]
  },
  {
   "cell_type": "code",
   "execution_count": null,
   "id": "03d3a75b",
   "metadata": {},
   "outputs": [],
   "source": [
    "imshow(detailed_objects[0].properties['intensity_image'])"
   ]
  },
  {
   "cell_type": "markdown",
   "id": "08114355",
   "metadata": {},
   "source": [
    "## 2b. Differentiate the objects based on class ID"
   ]
  },
  {
   "cell_type": "code",
   "execution_count": null,
   "id": "583c2fdc",
   "metadata": {},
   "outputs": [],
   "source": [
    "objects_gfp = [obj for obj in objects if obj.properties['max_intensity'] == 1]\n",
    "objects_rfp = [obj for obj in objects if obj.properties['max_intensity'] == 2]"
   ]
  },
  {
   "cell_type": "markdown",
   "id": "cbc05b98",
   "metadata": {},
   "source": [
    "## 3. Classify the objects "
   ]
  },
  {
   "cell_type": "markdown",
   "id": "e1725583",
   "metadata": {},
   "source": [
    "Load model"
   ]
  },
  {
   "cell_type": "code",
   "execution_count": 2,
   "id": "10cd85e0",
   "metadata": {},
   "outputs": [],
   "source": [
    "model = load_model('../models/cellx_classifier_stardist.h5')"
   ]
  },
  {
   "cell_type": "markdown",
   "id": "3bce619f",
   "metadata": {},
   "source": [
    "Define normalisation functions"
   ]
  },
  {
   "cell_type": "code",
   "execution_count": 3,
   "id": "92d135ad",
   "metadata": {},
   "outputs": [],
   "source": [
    "def normalize_channels(x):\n",
    "\n",
    "    for dim in range(x.shape[-1]):\n",
    "        x[..., dim] = normalize(x[..., dim])\n",
    "        \n",
    "    return x\n",
    "\n",
    "def normalize(x):\n",
    "\n",
    "    xf = x.astype(np.float32)\n",
    "    mx = np.mean(xf)\n",
    "    sd = np.max([np.std(xf), 1./np.prod(x.shape)])\n",
    "\n",
    "    return (xf - mx) / sd"
   ]
  },
  {
   "cell_type": "markdown",
   "id": "3bb8428f",
   "metadata": {},
   "source": [
    "Define classifier function"
   ]
  },
  {
   "cell_type": "code",
   "execution_count": 12,
   "id": "41184a4e",
   "metadata": {},
   "outputs": [],
   "source": [
    "def classify_objects(image,  gfp, rfp, objects, obj_type):\n",
    "    \n",
    "    # define stages of cell cycle to classify (dependent on model type)\n",
    "    LABELS = [\"interphase\", \"prometaphase\", \"metaphase\", \"anaphase\", \"apoptosis\"]\n",
    "    \n",
    "    # iterate over frames\n",
    "    for n in tqdm(range(image.shape[0])):\n",
    "        \n",
    "        # only select objects if in frame\n",
    "        _objects = [o for o in objects if o.t == n]\n",
    "        \n",
    "        # empty placeholder arrays\n",
    "        crops = []\n",
    "        to_update = []\n",
    "        \n",
    "        # select h2b channel to aid in classification\n",
    "        fp = gfp if obj_type == 1 else rfp\n",
    "        \n",
    "        # create stack by computing each frame of dask array input\n",
    "        frame = np.stack(\n",
    "            [image[n, ...].compute(), fp[n, ...].compute()], \n",
    "            axis=-1,) \n",
    "        \n",
    "        # create padded image for network\n",
    "        vol = InfinitePaddedImage(frame, mode = 'reflect')\n",
    "        \n",
    "        # iterate over objects \n",
    "        for obj in _objects:\n",
    "            \n",
    "            # create coords for image slice\n",
    "            xs = slice(int(obj.x-40), int(obj.x+40), 1)\n",
    "            ys = slice(int(obj.y-40), int(obj.y+40), 1)\n",
    "            \n",
    "            # crop image\n",
    "            crop = vol[ys, xs, :]\n",
    "            crop = resize(crop, (64, 64), preserve_range=True).astype(np.float32)\n",
    "            \n",
    "            # normalise image\n",
    "            if crop.shape == (64 ,64, 2):\n",
    "                crops.append(normalize_channels(crop))\n",
    "                to_update.append(obj)\n",
    "            else:\n",
    "                print(crop.shape)\n",
    "                \n",
    "        if not crops:\n",
    "            continue\n",
    "            \n",
    "        # use classifcation model to predict\n",
    "        pred = model.predict(np.stack(crops, axis=0))\n",
    "        \n",
    "        # check correct number of predictions\n",
    "        assert pred.shape[0] == len(_objects)\n",
    "        \n",
    "        # assign labels to objects\n",
    "        for idx in range(pred.shape[0]):\n",
    "            obj = _objects[idx]\n",
    "            \n",
    "            # assigning details of prediction\n",
    "            pred_label = np.argmax(pred[idx, ...])\n",
    "            pred_softmax = softmax(pred[idx, ...])\n",
    "            logits = {f\"prob_{k}\": pred_softmax[ki] for ki, k in enumerate(LABELS)}\n",
    "            \n",
    "            # write out\n",
    "            obj.label = pred_label\n",
    "            obj.properties = logits\n",
    "\n",
    "    return objects"
   ]
  },
  {
   "cell_type": "markdown",
   "id": "db8781b4",
   "metadata": {},
   "source": [
    "#### Load raw images for classifier, a colour channel dependent on `obj_type` needed too (i.e. GFP is `obj_type = 1`, RFP is `obj_type = 2`"
   ]
  },
  {
   "cell_type": "code",
   "execution_count": null,
   "id": "657771d0",
   "metadata": {},
   "outputs": [],
   "source": [
    "bf = images['brightfield']\n",
    "gfp = images['gfp']\n",
    "rfp = images['rfp']"
   ]
  },
  {
   "cell_type": "markdown",
   "id": "30835a86",
   "metadata": {},
   "source": [
    "#### Classify objects"
   ]
  },
  {
   "cell_type": "code",
   "execution_count": null,
   "id": "420e84c8",
   "metadata": {},
   "outputs": [],
   "source": [
    "objects_gfp = classify_objects(bf, objects_gfp, obj_type = 1)\n",
    "objects_rfp = classify_objects(bf, objects_rfp, obj_type = 2)"
   ]
  },
  {
   "cell_type": "markdown",
   "id": "c70646be",
   "metadata": {},
   "source": [
    "#### Inspect an example object"
   ]
  },
  {
   "cell_type": "code",
   "execution_count": null,
   "id": "aec4f611",
   "metadata": {},
   "outputs": [],
   "source": [
    "objects_gfp[0]"
   ]
  },
  {
   "cell_type": "markdown",
   "id": "65c5c716",
   "metadata": {},
   "source": [
    "#### Save out classified GFP objects"
   ]
  },
  {
   "cell_type": "code",
   "execution_count": null,
   "id": "796afd43",
   "metadata": {},
   "outputs": [],
   "source": [
    "with btrack.dataio.HDF5FileHandler(\n",
    "    f'{root_dir}/{expt}/{pos}/objects_type_1.h5', 'w', obj_type='obj_type_1',\n",
    ") as hdf:\n",
    "    #hdf.write_segmentation(masks['mask'])\n",
    "    hdf.write_objects(objects_gfp)"
   ]
  },
  {
   "cell_type": "markdown",
   "id": "9fdb0274",
   "metadata": {},
   "source": [
    "#### Save out classified RFP objects"
   ]
  },
  {
   "cell_type": "code",
   "execution_count": null,
   "id": "71de0f83",
   "metadata": {},
   "outputs": [],
   "source": [
    "with btrack.dataio.HDF5FileHandler(\n",
    "    f'{root_dir}/{expt}/{pos}/objects_type_2.h5', 'w', obj_type='obj_type_2',\n",
    ") as hdf:\n",
    "    #hdf.write_segmentation(masks['mask'])\n",
    "    hdf.write_objects(objects_rfp)"
   ]
  },
  {
   "cell_type": "markdown",
   "id": "1b2e10e7",
   "metadata": {},
   "source": [
    "# 4. Batch process\n",
    "Iterate over many experiments and positions (need to ensure you define normalisation and classification functions above first)"
   ]
  },
  {
   "cell_type": "code",
   "execution_count": null,
   "id": "b1792133",
   "metadata": {
    "scrolled": true
   },
   "outputs": [
    {
     "data": {
      "application/vnd.jupyter.widget-view+json": {
       "model_id": "3f6966e59ded4c75abd89791885e58e8",
       "version_major": 2,
       "version_minor": 0
      },
      "text/plain": [
       "  0%|          | 0/4 [00:00<?, ?it/s]"
      ]
     },
     "metadata": {},
     "output_type": "display_data"
    },
    {
     "data": {
      "application/vnd.jupyter.widget-view+json": {
       "model_id": "1b5aa75b454648f08682a3d81efcd837",
       "version_major": 2,
       "version_minor": 0
      },
      "text/plain": [
       "  0%|          | 0/12 [00:00<?, ?it/s]"
      ]
     },
     "metadata": {},
     "output_type": "display_data"
    },
    {
     "name": "stdout",
     "output_type": "stream",
     "text": [
      "Starting ND0010/Pos5\n",
      "Using cropping: (1200, 1600)\n"
     ]
    },
    {
     "name": "stderr",
     "output_type": "stream",
     "text": [
      "[INFO][2022/02/07 09:38:15 PM] Localizing objects from segmentation...\n",
      "[INFO][2022/02/07 09:41:18 PM] Objects are of type: <class 'dict'>\n",
      "[INFO][2022/02/07 09:41:19 PM] ...Found 363732 objects in 1193 frames.\n"
     ]
    },
    {
     "name": "stdout",
     "output_type": "stream",
     "text": [
      "Classifying objects\n"
     ]
    },
    {
     "data": {
      "application/vnd.jupyter.widget-view+json": {
       "model_id": "ad2059e3584c405696d600783ebefa2e",
       "version_major": 2,
       "version_minor": 0
      },
      "text/plain": [
       "  0%|          | 0/1193 [00:00<?, ?it/s]"
      ]
     },
     "metadata": {},
     "output_type": "display_data"
    },
    {
     "data": {
      "application/vnd.jupyter.widget-view+json": {
       "model_id": "874b38ad85f4461db025fa6fe9448531",
       "version_major": 2,
       "version_minor": 0
      },
      "text/plain": [
       "  0%|          | 0/1193 [00:00<?, ?it/s]"
      ]
     },
     "metadata": {},
     "output_type": "display_data"
    },
    {
     "name": "stderr",
     "output_type": "stream",
     "text": [
      "[INFO][2022/02/07 10:09:05 PM] Opening HDF file: /home/nathan/data/kraken/ras/ND0010/Pos5/objects_type_1.h5...\n",
      "[INFO][2022/02/07 10:09:07 PM] Writing objects/obj_type_1\n",
      "[INFO][2022/02/07 10:09:07 PM] Writing labels/obj_type_1\n",
      "[INFO][2022/02/07 10:09:07 PM] Loading objects/obj_type_1 (354738, 5) (354738 filtered: None)\n",
      "[INFO][2022/02/07 10:09:11 PM] Writing properties/obj_type_1/area (354738,)\n",
      "[INFO][2022/02/07 10:09:11 PM] Writing properties/obj_type_1/class id (354738,)\n",
      "[INFO][2022/02/07 10:09:11 PM] Writing properties/obj_type_1/prob_interphase (354738,)\n",
      "[INFO][2022/02/07 10:09:11 PM] Writing properties/obj_type_1/prob_prometaphase (354738,)\n",
      "[INFO][2022/02/07 10:09:11 PM] Writing properties/obj_type_1/prob_metaphase (354738,)\n",
      "[INFO][2022/02/07 10:09:11 PM] Writing properties/obj_type_1/prob_anaphase (354738,)\n",
      "[INFO][2022/02/07 10:09:11 PM] Writing properties/obj_type_1/prob_apoptosis (354738,)\n",
      "[INFO][2022/02/07 10:09:11 PM] Closing HDF file: /home/nathan/data/kraken/ras/ND0010/Pos5/objects_type_1.h5\n",
      "[INFO][2022/02/07 10:09:12 PM] Opening HDF file: /home/nathan/data/kraken/ras/ND0010/Pos5/objects_type_2.h5...\n",
      "[INFO][2022/02/07 10:09:12 PM] Writing objects/obj_type_2\n",
      "[INFO][2022/02/07 10:09:12 PM] Writing labels/obj_type_2\n",
      "[INFO][2022/02/07 10:09:12 PM] Loading objects/obj_type_2 (8994, 5) (8994 filtered: None)\n",
      "[INFO][2022/02/07 10:09:12 PM] Writing properties/obj_type_2/area (8994,)\n",
      "[INFO][2022/02/07 10:09:12 PM] Writing properties/obj_type_2/class id (8994,)\n",
      "[INFO][2022/02/07 10:09:12 PM] Writing properties/obj_type_2/prob_interphase (8994,)\n",
      "[INFO][2022/02/07 10:09:12 PM] Writing properties/obj_type_2/prob_prometaphase (8994,)\n",
      "[INFO][2022/02/07 10:09:12 PM] Writing properties/obj_type_2/prob_metaphase (8994,)\n",
      "[INFO][2022/02/07 10:09:12 PM] Writing properties/obj_type_2/prob_anaphase (8994,)\n",
      "[INFO][2022/02/07 10:09:12 PM] Writing properties/obj_type_2/prob_apoptosis (8994,)\n",
      "[INFO][2022/02/07 10:09:12 PM] Closing HDF file: /home/nathan/data/kraken/ras/ND0010/Pos5/objects_type_2.h5\n"
     ]
    },
    {
     "name": "stdout",
     "output_type": "stream",
     "text": [
      "Starting ND0010/Pos11\n",
      "Using cropping: (1200, 1600)\n"
     ]
    },
    {
     "name": "stderr",
     "output_type": "stream",
     "text": [
      "[INFO][2022/02/07 10:09:13 PM] Localizing objects from segmentation...\n",
      "[INFO][2022/02/07 10:12:50 PM] Objects are of type: <class 'dict'>\n",
      "[INFO][2022/02/07 10:12:52 PM] ...Found 282601 objects in 1191 frames.\n"
     ]
    },
    {
     "name": "stdout",
     "output_type": "stream",
     "text": [
      "Classifying objects\n"
     ]
    },
    {
     "data": {
      "application/vnd.jupyter.widget-view+json": {
       "model_id": "c87f1a96f97d4978a58a5f15ea94e0ea",
       "version_major": 2,
       "version_minor": 0
      },
      "text/plain": [
       "  0%|          | 0/1191 [00:00<?, ?it/s]"
      ]
     },
     "metadata": {},
     "output_type": "display_data"
    },
    {
     "data": {
      "application/vnd.jupyter.widget-view+json": {
       "model_id": "e6069349226f427eb77b80bcf4562e8d",
       "version_major": 2,
       "version_minor": 0
      },
      "text/plain": [
       "  0%|          | 0/1191 [00:00<?, ?it/s]"
      ]
     },
     "metadata": {},
     "output_type": "display_data"
    },
    {
     "name": "stderr",
     "output_type": "stream",
     "text": [
      "[INFO][2022/02/07 10:37:09 PM] Opening HDF file: /home/nathan/data/kraken/ras/ND0010/Pos11/objects_type_1.h5...\n",
      "[INFO][2022/02/07 10:37:11 PM] Writing objects/obj_type_1\n",
      "[INFO][2022/02/07 10:37:11 PM] Writing labels/obj_type_1\n",
      "[INFO][2022/02/07 10:37:11 PM] Loading objects/obj_type_1 (268853, 5) (268853 filtered: None)\n",
      "[INFO][2022/02/07 10:37:14 PM] Writing properties/obj_type_1/area (268853,)\n",
      "[INFO][2022/02/07 10:37:14 PM] Writing properties/obj_type_1/class id (268853,)\n",
      "[INFO][2022/02/07 10:37:14 PM] Writing properties/obj_type_1/prob_interphase (268853,)\n",
      "[INFO][2022/02/07 10:37:14 PM] Writing properties/obj_type_1/prob_prometaphase (268853,)\n",
      "[INFO][2022/02/07 10:37:14 PM] Writing properties/obj_type_1/prob_metaphase (268853,)\n",
      "[INFO][2022/02/07 10:37:14 PM] Writing properties/obj_type_1/prob_anaphase (268853,)\n",
      "[INFO][2022/02/07 10:37:14 PM] Writing properties/obj_type_1/prob_apoptosis (268853,)\n",
      "[INFO][2022/02/07 10:37:14 PM] Closing HDF file: /home/nathan/data/kraken/ras/ND0010/Pos11/objects_type_1.h5\n",
      "[INFO][2022/02/07 10:37:14 PM] Opening HDF file: /home/nathan/data/kraken/ras/ND0010/Pos11/objects_type_2.h5...\n",
      "[INFO][2022/02/07 10:37:15 PM] Writing objects/obj_type_2\n",
      "[INFO][2022/02/07 10:37:15 PM] Writing labels/obj_type_2\n",
      "[INFO][2022/02/07 10:37:15 PM] Loading objects/obj_type_2 (13748, 5) (13748 filtered: None)\n",
      "[INFO][2022/02/07 10:37:15 PM] Writing properties/obj_type_2/area (13748,)\n",
      "[INFO][2022/02/07 10:37:15 PM] Writing properties/obj_type_2/class id (13748,)\n",
      "[INFO][2022/02/07 10:37:15 PM] Writing properties/obj_type_2/prob_interphase (13748,)\n",
      "[INFO][2022/02/07 10:37:15 PM] Writing properties/obj_type_2/prob_prometaphase (13748,)\n",
      "[INFO][2022/02/07 10:37:15 PM] Writing properties/obj_type_2/prob_metaphase (13748,)\n",
      "[INFO][2022/02/07 10:37:15 PM] Writing properties/obj_type_2/prob_anaphase (13748,)\n",
      "[INFO][2022/02/07 10:37:15 PM] Writing properties/obj_type_2/prob_apoptosis (13748,)\n",
      "[INFO][2022/02/07 10:37:15 PM] Closing HDF file: /home/nathan/data/kraken/ras/ND0010/Pos11/objects_type_2.h5\n"
     ]
    },
    {
     "name": "stdout",
     "output_type": "stream",
     "text": [
      "Starting ND0010/Pos3\n",
      "Using cropping: (1200, 1600)\n"
     ]
    },
    {
     "name": "stderr",
     "output_type": "stream",
     "text": [
      "[INFO][2022/02/07 10:37:16 PM] Localizing objects from segmentation...\n",
      "[INFO][2022/02/07 10:46:34 PM] Objects are of type: <class 'dict'>\n",
      "[INFO][2022/02/07 10:47:07 PM] ...Found 5376489 objects in 1189 frames.\n"
     ]
    },
    {
     "name": "stdout",
     "output_type": "stream",
     "text": [
      "Classifying objects\n"
     ]
    },
    {
     "data": {
      "application/vnd.jupyter.widget-view+json": {
       "model_id": "e0f6f2acb9cb4752af0c63b911b9a11c",
       "version_major": 2,
       "version_minor": 0
      },
      "text/plain": [
       "  0%|          | 0/1189 [00:00<?, ?it/s]"
      ]
     },
     "metadata": {},
     "output_type": "display_data"
    },
    {
     "data": {
      "application/vnd.jupyter.widget-view+json": {
       "model_id": "4aa3269a81ec45e09bf1d3bc5c67b8a7",
       "version_major": 2,
       "version_minor": 0
      },
      "text/plain": [
       "  0%|          | 0/1189 [00:00<?, ?it/s]"
      ]
     },
     "metadata": {},
     "output_type": "display_data"
    },
    {
     "name": "stderr",
     "output_type": "stream",
     "text": [
      "[INFO][2022/02/08 02:58:14 AM] Opening HDF file: /home/nathan/data/kraken/ras/ND0010/Pos3/objects_type_1.h5...\n",
      "[INFO][2022/02/08 02:58:49 AM] Writing objects/obj_type_1\n",
      "[INFO][2022/02/08 02:58:49 AM] Writing labels/obj_type_1\n",
      "[INFO][2022/02/08 02:58:49 AM] Loading objects/obj_type_1 (4755514, 5) (4755514 filtered: None)\n",
      "[INFO][2022/02/08 02:59:41 AM] Writing properties/obj_type_1/area (4755514,)\n",
      "[INFO][2022/02/08 02:59:41 AM] Writing properties/obj_type_1/class id (4755514,)\n",
      "[INFO][2022/02/08 02:59:42 AM] Writing properties/obj_type_1/prob_interphase (4755514,)\n",
      "[INFO][2022/02/08 02:59:42 AM] Writing properties/obj_type_1/prob_prometaphase (4755514,)\n",
      "[INFO][2022/02/08 02:59:43 AM] Writing properties/obj_type_1/prob_metaphase (4755514,)\n",
      "[INFO][2022/02/08 02:59:44 AM] Writing properties/obj_type_1/prob_anaphase (4755514,)\n",
      "[INFO][2022/02/08 02:59:44 AM] Writing properties/obj_type_1/prob_apoptosis (4755514,)\n",
      "[INFO][2022/02/08 02:59:45 AM] Closing HDF file: /home/nathan/data/kraken/ras/ND0010/Pos3/objects_type_1.h5\n",
      "[INFO][2022/02/08 02:59:46 AM] Opening HDF file: /home/nathan/data/kraken/ras/ND0010/Pos3/objects_type_2.h5...\n",
      "[INFO][2022/02/08 02:59:51 AM] Writing objects/obj_type_2\n",
      "[INFO][2022/02/08 02:59:51 AM] Writing labels/obj_type_2\n",
      "[INFO][2022/02/08 02:59:51 AM] Loading objects/obj_type_2 (620975, 5) (620975 filtered: None)\n",
      "[INFO][2022/02/08 02:59:56 AM] Writing properties/obj_type_2/area (620975,)\n",
      "[INFO][2022/02/08 02:59:56 AM] Writing properties/obj_type_2/class id (620975,)\n",
      "[INFO][2022/02/08 02:59:56 AM] Writing properties/obj_type_2/prob_interphase (620975,)\n",
      "[INFO][2022/02/08 02:59:56 AM] Writing properties/obj_type_2/prob_prometaphase (620975,)\n",
      "[INFO][2022/02/08 02:59:57 AM] Writing properties/obj_type_2/prob_metaphase (620975,)\n",
      "[INFO][2022/02/08 02:59:57 AM] Writing properties/obj_type_2/prob_anaphase (620975,)\n",
      "[INFO][2022/02/08 02:59:57 AM] Writing properties/obj_type_2/prob_apoptosis (620975,)\n",
      "[INFO][2022/02/08 02:59:57 AM] Closing HDF file: /home/nathan/data/kraken/ras/ND0010/Pos3/objects_type_2.h5\n"
     ]
    },
    {
     "name": "stdout",
     "output_type": "stream",
     "text": [
      "Starting ND0010/Pos1\n",
      "Using cropping: (1200, 1600)\n"
     ]
    },
    {
     "name": "stderr",
     "output_type": "stream",
     "text": [
      "[INFO][2022/02/08 02:59:58 AM] Localizing objects from segmentation...\n",
      "[INFO][2022/02/08 03:08:52 AM] Objects are of type: <class 'dict'>\n",
      "[INFO][2022/02/08 03:09:25 AM] ...Found 5418421 objects in 1193 frames.\n"
     ]
    },
    {
     "name": "stdout",
     "output_type": "stream",
     "text": [
      "Classifying objects\n"
     ]
    },
    {
     "data": {
      "application/vnd.jupyter.widget-view+json": {
       "model_id": "9536d156f9fb4dec834e41776e5af459",
       "version_major": 2,
       "version_minor": 0
      },
      "text/plain": [
       "  0%|          | 0/1193 [00:00<?, ?it/s]"
      ]
     },
     "metadata": {},
     "output_type": "display_data"
    },
    {
     "data": {
      "application/vnd.jupyter.widget-view+json": {
       "model_id": "1df56201f4ca49dfb8353353b6843b64",
       "version_major": 2,
       "version_minor": 0
      },
      "text/plain": [
       "  0%|          | 0/1193 [00:00<?, ?it/s]"
      ]
     },
     "metadata": {},
     "output_type": "display_data"
    },
    {
     "name": "stderr",
     "output_type": "stream",
     "text": [
      "[INFO][2022/02/08 07:25:47 AM] Opening HDF file: /home/nathan/data/kraken/ras/ND0010/Pos1/objects_type_1.h5...\n",
      "[INFO][2022/02/08 07:26:22 AM] Writing objects/obj_type_1\n",
      "[INFO][2022/02/08 07:26:22 AM] Writing labels/obj_type_1\n",
      "[INFO][2022/02/08 07:26:22 AM] Loading objects/obj_type_1 (4777445, 5) (4777445 filtered: None)\n",
      "[INFO][2022/02/08 07:27:15 AM] Writing properties/obj_type_1/area (4777445,)\n",
      "[INFO][2022/02/08 07:27:16 AM] Writing properties/obj_type_1/class id (4777445,)\n",
      "[INFO][2022/02/08 07:27:16 AM] Writing properties/obj_type_1/prob_interphase (4777445,)\n",
      "[INFO][2022/02/08 07:27:17 AM] Writing properties/obj_type_1/prob_prometaphase (4777445,)\n",
      "[INFO][2022/02/08 07:27:18 AM] Writing properties/obj_type_1/prob_metaphase (4777445,)\n",
      "[INFO][2022/02/08 07:27:18 AM] Writing properties/obj_type_1/prob_anaphase (4777445,)\n",
      "[INFO][2022/02/08 07:27:19 AM] Writing properties/obj_type_1/prob_apoptosis (4777445,)\n",
      "[INFO][2022/02/08 07:27:20 AM] Closing HDF file: /home/nathan/data/kraken/ras/ND0010/Pos1/objects_type_1.h5\n",
      "[INFO][2022/02/08 07:27:20 AM] Opening HDF file: /home/nathan/data/kraken/ras/ND0010/Pos1/objects_type_2.h5...\n",
      "[INFO][2022/02/08 07:27:25 AM] Writing objects/obj_type_2\n",
      "[INFO][2022/02/08 07:27:25 AM] Writing labels/obj_type_2\n",
      "[INFO][2022/02/08 07:27:25 AM] Loading objects/obj_type_2 (640976, 5) (640976 filtered: None)\n",
      "[INFO][2022/02/08 07:27:31 AM] Writing properties/obj_type_2/area (640976,)\n",
      "[INFO][2022/02/08 07:27:31 AM] Writing properties/obj_type_2/class id (640976,)\n",
      "[INFO][2022/02/08 07:27:31 AM] Writing properties/obj_type_2/prob_interphase (640976,)\n",
      "[INFO][2022/02/08 07:27:31 AM] Writing properties/obj_type_2/prob_prometaphase (640976,)\n",
      "[INFO][2022/02/08 07:27:32 AM] Writing properties/obj_type_2/prob_metaphase (640976,)\n",
      "[INFO][2022/02/08 07:27:32 AM] Writing properties/obj_type_2/prob_anaphase (640976,)\n",
      "[INFO][2022/02/08 07:27:32 AM] Writing properties/obj_type_2/prob_apoptosis (640976,)\n",
      "[INFO][2022/02/08 07:27:32 AM] Closing HDF file: /home/nathan/data/kraken/ras/ND0010/Pos1/objects_type_2.h5\n"
     ]
    },
    {
     "name": "stdout",
     "output_type": "stream",
     "text": [
      "Starting ND0010/Pos8\n",
      "Using cropping: (1200, 1600)\n"
     ]
    },
    {
     "name": "stderr",
     "output_type": "stream",
     "text": [
      "[INFO][2022/02/08 07:27:33 AM] Localizing objects from segmentation...\n",
      "[INFO][2022/02/08 07:31:18 AM] Objects are of type: <class 'dict'>\n",
      "[INFO][2022/02/08 07:31:21 AM] ...Found 744483 objects in 1193 frames.\n"
     ]
    },
    {
     "name": "stdout",
     "output_type": "stream",
     "text": [
      "Classifying objects\n"
     ]
    },
    {
     "data": {
      "application/vnd.jupyter.widget-view+json": {
       "model_id": "afc505fcfa14469581d483340ac25ec7",
       "version_major": 2,
       "version_minor": 0
      },
      "text/plain": [
       "  0%|          | 0/1193 [00:00<?, ?it/s]"
      ]
     },
     "metadata": {},
     "output_type": "display_data"
    },
    {
     "data": {
      "application/vnd.jupyter.widget-view+json": {
       "model_id": "e429877671ff4e189c527c7c348d942f",
       "version_major": 2,
       "version_minor": 0
      },
      "text/plain": [
       "  0%|          | 0/1193 [00:00<?, ?it/s]"
      ]
     },
     "metadata": {},
     "output_type": "display_data"
    },
    {
     "name": "stderr",
     "output_type": "stream",
     "text": [
      "[INFO][2022/02/08 08:18:19 AM] Opening HDF file: /home/nathan/data/kraken/ras/ND0010/Pos8/objects_type_1.h5...\n",
      "[INFO][2022/02/08 08:18:24 AM] Writing objects/obj_type_1\n",
      "[INFO][2022/02/08 08:18:24 AM] Writing labels/obj_type_1\n",
      "[INFO][2022/02/08 08:18:24 AM] Loading objects/obj_type_1 (676693, 5) (676693 filtered: None)\n",
      "[INFO][2022/02/08 08:18:30 AM] Writing properties/obj_type_1/area (676693,)\n",
      "[INFO][2022/02/08 08:18:30 AM] Writing properties/obj_type_1/class id (676693,)\n",
      "[INFO][2022/02/08 08:18:31 AM] Writing properties/obj_type_1/prob_interphase (676693,)\n",
      "[INFO][2022/02/08 08:18:31 AM] Writing properties/obj_type_1/prob_prometaphase (676693,)\n",
      "[INFO][2022/02/08 08:18:31 AM] Writing properties/obj_type_1/prob_metaphase (676693,)\n",
      "[INFO][2022/02/08 08:18:31 AM] Writing properties/obj_type_1/prob_anaphase (676693,)\n",
      "[INFO][2022/02/08 08:18:31 AM] Writing properties/obj_type_1/prob_apoptosis (676693,)\n",
      "[INFO][2022/02/08 08:18:31 AM] Closing HDF file: /home/nathan/data/kraken/ras/ND0010/Pos8/objects_type_1.h5\n",
      "[INFO][2022/02/08 08:18:31 AM] Opening HDF file: /home/nathan/data/kraken/ras/ND0010/Pos8/objects_type_2.h5...\n",
      "[INFO][2022/02/08 08:18:32 AM] Writing objects/obj_type_2\n",
      "[INFO][2022/02/08 08:18:32 AM] Writing labels/obj_type_2\n",
      "[INFO][2022/02/08 08:18:32 AM] Loading objects/obj_type_2 (67790, 5) (67790 filtered: None)\n",
      "[INFO][2022/02/08 08:18:33 AM] Writing properties/obj_type_2/area (67790,)\n",
      "[INFO][2022/02/08 08:18:33 AM] Writing properties/obj_type_2/class id (67790,)\n",
      "[INFO][2022/02/08 08:18:33 AM] Writing properties/obj_type_2/prob_interphase (67790,)\n",
      "[INFO][2022/02/08 08:18:33 AM] Writing properties/obj_type_2/prob_prometaphase (67790,)\n",
      "[INFO][2022/02/08 08:18:33 AM] Writing properties/obj_type_2/prob_metaphase (67790,)\n",
      "[INFO][2022/02/08 08:18:33 AM] Writing properties/obj_type_2/prob_anaphase (67790,)\n",
      "[INFO][2022/02/08 08:18:33 AM] Writing properties/obj_type_2/prob_apoptosis (67790,)\n",
      "[INFO][2022/02/08 08:18:33 AM] Closing HDF file: /home/nathan/data/kraken/ras/ND0010/Pos8/objects_type_2.h5\n"
     ]
    },
    {
     "name": "stdout",
     "output_type": "stream",
     "text": [
      "Starting ND0010/Pos10\n",
      "Using cropping: (1200, 1600)\n"
     ]
    },
    {
     "name": "stderr",
     "output_type": "stream",
     "text": [
      "[INFO][2022/02/08 08:18:34 AM] Localizing objects from segmentation...\n",
      "[INFO][2022/02/08 08:21:39 AM] Objects are of type: <class 'dict'>\n",
      "[INFO][2022/02/08 08:21:41 AM] ...Found 334273 objects in 1194 frames.\n"
     ]
    },
    {
     "name": "stdout",
     "output_type": "stream",
     "text": [
      "Classifying objects\n"
     ]
    },
    {
     "data": {
      "application/vnd.jupyter.widget-view+json": {
       "model_id": "272a14d7141f499a917188075d2600ca",
       "version_major": 2,
       "version_minor": 0
      },
      "text/plain": [
       "  0%|          | 0/1194 [00:00<?, ?it/s]"
      ]
     },
     "metadata": {},
     "output_type": "display_data"
    },
    {
     "data": {
      "application/vnd.jupyter.widget-view+json": {
       "model_id": "bb215ed866b34c10b94ee06993916008",
       "version_major": 2,
       "version_minor": 0
      },
      "text/plain": [
       "  0%|          | 0/1194 [00:00<?, ?it/s]"
      ]
     },
     "metadata": {},
     "output_type": "display_data"
    },
    {
     "name": "stderr",
     "output_type": "stream",
     "text": [
      "[INFO][2022/02/08 08:49:19 AM] Opening HDF file: /home/nathan/data/kraken/ras/ND0010/Pos10/objects_type_1.h5...\n",
      "[INFO][2022/02/08 08:49:21 AM] Writing objects/obj_type_1\n",
      "[INFO][2022/02/08 08:49:21 AM] Writing labels/obj_type_1\n",
      "[INFO][2022/02/08 08:49:21 AM] Loading objects/obj_type_1 (318277, 5) (318277 filtered: None)\n",
      "[INFO][2022/02/08 08:49:25 AM] Writing properties/obj_type_1/area (318277,)\n",
      "[INFO][2022/02/08 08:49:25 AM] Writing properties/obj_type_1/class id (318277,)\n",
      "[INFO][2022/02/08 08:49:25 AM] Writing properties/obj_type_1/prob_interphase (318277,)\n",
      "[INFO][2022/02/08 08:49:25 AM] Writing properties/obj_type_1/prob_prometaphase (318277,)\n",
      "[INFO][2022/02/08 08:49:25 AM] Writing properties/obj_type_1/prob_metaphase (318277,)\n",
      "[INFO][2022/02/08 08:49:26 AM] Writing properties/obj_type_1/prob_anaphase (318277,)\n",
      "[INFO][2022/02/08 08:49:26 AM] Writing properties/obj_type_1/prob_apoptosis (318277,)\n",
      "[INFO][2022/02/08 08:49:26 AM] Closing HDF file: /home/nathan/data/kraken/ras/ND0010/Pos10/objects_type_1.h5\n",
      "[INFO][2022/02/08 08:49:26 AM] Opening HDF file: /home/nathan/data/kraken/ras/ND0010/Pos10/objects_type_2.h5...\n",
      "[INFO][2022/02/08 08:49:26 AM] Writing objects/obj_type_2\n",
      "[INFO][2022/02/08 08:49:26 AM] Writing labels/obj_type_2\n",
      "[INFO][2022/02/08 08:49:26 AM] Loading objects/obj_type_2 (15996, 5) (15996 filtered: None)\n",
      "[INFO][2022/02/08 08:49:26 AM] Writing properties/obj_type_2/area (15996,)\n",
      "[INFO][2022/02/08 08:49:26 AM] Writing properties/obj_type_2/class id (15996,)\n",
      "[INFO][2022/02/08 08:49:26 AM] Writing properties/obj_type_2/prob_interphase (15996,)\n",
      "[INFO][2022/02/08 08:49:26 AM] Writing properties/obj_type_2/prob_prometaphase (15996,)\n",
      "[INFO][2022/02/08 08:49:26 AM] Writing properties/obj_type_2/prob_metaphase (15996,)\n",
      "[INFO][2022/02/08 08:49:26 AM] Writing properties/obj_type_2/prob_anaphase (15996,)\n",
      "[INFO][2022/02/08 08:49:26 AM] Writing properties/obj_type_2/prob_apoptosis (15996,)\n",
      "[INFO][2022/02/08 08:49:26 AM] Closing HDF file: /home/nathan/data/kraken/ras/ND0010/Pos10/objects_type_2.h5\n"
     ]
    },
    {
     "name": "stdout",
     "output_type": "stream",
     "text": [
      "Starting ND0010/Pos0\n",
      "Using cropping: (1200, 1600)\n"
     ]
    },
    {
     "name": "stderr",
     "output_type": "stream",
     "text": [
      "[INFO][2022/02/08 08:49:28 AM] Localizing objects from segmentation...\n",
      "[INFO][2022/02/08 08:55:00 AM] Objects are of type: <class 'dict'>\n",
      "[INFO][2022/02/08 08:55:17 AM] ...Found 2630064 objects in 1190 frames.\n"
     ]
    },
    {
     "name": "stdout",
     "output_type": "stream",
     "text": [
      "Classifying objects\n"
     ]
    },
    {
     "data": {
      "application/vnd.jupyter.widget-view+json": {
       "model_id": "30d0c76224404d03953f616453bce629",
       "version_major": 2,
       "version_minor": 0
      },
      "text/plain": [
       "  0%|          | 0/1190 [00:00<?, ?it/s]"
      ]
     },
     "metadata": {},
     "output_type": "display_data"
    },
    {
     "data": {
      "application/vnd.jupyter.widget-view+json": {
       "model_id": "a2c826ff4c6343568baaa4394084fcc5",
       "version_major": 2,
       "version_minor": 0
      },
      "text/plain": [
       "  0%|          | 0/1190 [00:00<?, ?it/s]"
      ]
     },
     "metadata": {},
     "output_type": "display_data"
    },
    {
     "name": "stderr",
     "output_type": "stream",
     "text": [
      "[INFO][2022/02/08 11:07:07 AM] Opening HDF file: /home/nathan/data/kraken/ras/ND0010/Pos0/objects_type_1.h5...\n",
      "[INFO][2022/02/08 11:07:24 AM] Writing objects/obj_type_1\n",
      "[INFO][2022/02/08 11:07:24 AM] Writing labels/obj_type_1\n",
      "[INFO][2022/02/08 11:07:24 AM] Loading objects/obj_type_1 (2346248, 5) (2346248 filtered: None)\n",
      "[INFO][2022/02/08 11:07:51 AM] Writing properties/obj_type_1/area (2346248,)\n",
      "[INFO][2022/02/08 11:07:51 AM] Writing properties/obj_type_1/class id (2346248,)\n",
      "[INFO][2022/02/08 11:07:51 AM] Writing properties/obj_type_1/prob_interphase (2346248,)\n",
      "[INFO][2022/02/08 11:07:52 AM] Writing properties/obj_type_1/prob_prometaphase (2346248,)\n",
      "[INFO][2022/02/08 11:07:52 AM] Writing properties/obj_type_1/prob_metaphase (2346248,)\n",
      "[INFO][2022/02/08 11:07:52 AM] Writing properties/obj_type_1/prob_anaphase (2346248,)\n",
      "[INFO][2022/02/08 11:07:52 AM] Writing properties/obj_type_1/prob_apoptosis (2346248,)\n",
      "[INFO][2022/02/08 11:07:53 AM] Closing HDF file: /home/nathan/data/kraken/ras/ND0010/Pos0/objects_type_1.h5\n",
      "[INFO][2022/02/08 11:07:53 AM] Opening HDF file: /home/nathan/data/kraken/ras/ND0010/Pos0/objects_type_2.h5...\n",
      "[INFO][2022/02/08 11:07:55 AM] Writing objects/obj_type_2\n",
      "[INFO][2022/02/08 11:07:55 AM] Writing labels/obj_type_2\n",
      "[INFO][2022/02/08 11:07:55 AM] Loading objects/obj_type_2 (283816, 5) (283816 filtered: None)\n",
      "[INFO][2022/02/08 11:07:58 AM] Writing properties/obj_type_2/area (283816,)\n",
      "[INFO][2022/02/08 11:07:58 AM] Writing properties/obj_type_2/class id (283816,)\n",
      "[INFO][2022/02/08 11:07:58 AM] Writing properties/obj_type_2/prob_interphase (283816,)\n",
      "[INFO][2022/02/08 11:07:58 AM] Writing properties/obj_type_2/prob_prometaphase (283816,)\n",
      "[INFO][2022/02/08 11:07:58 AM] Writing properties/obj_type_2/prob_metaphase (283816,)\n",
      "[INFO][2022/02/08 11:07:58 AM] Writing properties/obj_type_2/prob_anaphase (283816,)\n",
      "[INFO][2022/02/08 11:07:58 AM] Writing properties/obj_type_2/prob_apoptosis (283816,)\n",
      "[INFO][2022/02/08 11:07:58 AM] Closing HDF file: /home/nathan/data/kraken/ras/ND0010/Pos0/objects_type_2.h5\n"
     ]
    },
    {
     "name": "stdout",
     "output_type": "stream",
     "text": [
      "Starting ND0010/Pos2\n",
      "Using cropping: (1200, 1600)\n"
     ]
    },
    {
     "name": "stderr",
     "output_type": "stream",
     "text": [
      "[INFO][2022/02/08 11:07:59 AM] Localizing objects from segmentation...\n",
      "[INFO][2022/02/08 11:14:17 AM] Objects are of type: <class 'dict'>\n",
      "[INFO][2022/02/08 11:14:37 AM] ...Found 3070256 objects in 1189 frames.\n"
     ]
    },
    {
     "name": "stdout",
     "output_type": "stream",
     "text": [
      "Classifying objects\n"
     ]
    },
    {
     "data": {
      "application/vnd.jupyter.widget-view+json": {
       "model_id": "f733f18511cd471895e2dda890e8f8df",
       "version_major": 2,
       "version_minor": 0
      },
      "text/plain": [
       "  0%|          | 0/1189 [00:00<?, ?it/s]"
      ]
     },
     "metadata": {},
     "output_type": "display_data"
    }
   ],
   "source": [
    "%%timeit\n",
    "root_dir = '/home/nathan/data/kraken/ras'\n",
    "expt_list = ['ND0010', 'ND0011', 'ND0012', 'ND0013']\n",
    "pos_list = 'all'\n",
    "overwrite = True\n",
    "\n",
    "for expt in tqdm(expt_list):\n",
    "    \n",
    "    # Find all positions in that experiment, if pos_list is all then it finds all positions\n",
    "    if pos_list == 'all':\n",
    "        pos_list = [pos for pos in os.listdir(f'{root_dir}/{expt}') \n",
    "                if 'Pos' in pos \n",
    "                and os.path.isdir(f'{root_dir}/{expt}/{pos}')]  \n",
    "\n",
    "    ### Iterate over all positions in that experiment\n",
    "    for pos in tqdm(pos_list):\n",
    "\n",
    "        ### check if overwrite param is false check if raw directory already created and if type of transform file already exists and decide whether to skip pos\n",
    "        if not overwrite and glob.glob(f'{root_dir}/{expt}/{pos}/*objects*.h5'):\n",
    "            print(glob.glob(f'{root_dir}/{expt}/{pos}/*objects*.h5'), f'file found, skipping {expt}/{pos}')\n",
    "            continue\n",
    "\n",
    "        print(f'Starting {expt}/{pos}')\n",
    "        # load segmentation images and apply necessary transforms and crops\n",
    "        image_path = f'{root_dir}/{expt}/{pos}/{pos}_images'\n",
    "        transform_path = f'{root_dir}/{expt}/{pos}/gfp_transform_tensor.npy'\n",
    "        images = DaskOctopusLiteLoader(image_path, \n",
    "                           transforms=transform_path,\n",
    "                           crop=(1200,1600), \n",
    "                           remove_background=False)\n",
    "\n",
    "        # ID the objects in each segmentation image and assign option properties to them\n",
    "        objects = btrack.utils.segmentation_to_objects(\n",
    "            images['mask'], \n",
    "            properties = ('area',),\n",
    "            assign_class_ID = True\n",
    "        )\n",
    "\n",
    "        # differentiate the objects based on class ID\n",
    "        objects_gfp = [obj for obj in objects if obj.properties['class id'] == 1]\n",
    "        objects_rfp = [obj for obj in objects if obj.properties['class id'] == 2]\n",
    "\n",
    "        # load classifcation model and define labels\n",
    "        model = load_model('../models/cellx_classifier_stardist.h5')\n",
    "        LABELS = [\"interphase\", \"prometaphase\", \"metaphase\", \"anaphase\", \"apoptosis\"]\n",
    "        \n",
    "        # load images for classifcation\n",
    "        bf = images['brightfield']\n",
    "        gfp = images['gfp']\n",
    "        rfp = images['rfp']\n",
    "\n",
    "        # classify objects\n",
    "        print(\"Classifying objects\")\n",
    "        objects_gfp = classify_objects(bf, gfp, rfp, objects_gfp, obj_type = 1)\n",
    "        objects_rfp = classify_objects(bf, gfp, rfp, objects_rfp, obj_type = 2)\n",
    "\n",
    "        # save out classified objects as segmentation h5 file\n",
    "        with btrack.dataio.HDF5FileHandler(\n",
    "            f'{root_dir}/{expt}/{pos}/objects_type_1.h5', 'w', obj_type='obj_type_1',\n",
    "        ) as hdf:\n",
    "            #hdf.write_segmentation(masks['mask'])\n",
    "            hdf.write_objects(objects_gfp)\n",
    "        with btrack.dataio.HDF5FileHandler(\n",
    "            f'{root_dir}/{expt}/{pos}/objects_type_2.h5', 'w', obj_type='obj_type_2',\n",
    "        ) as hdf:\n",
    "            #hdf.write_segmentation(masks['mask'])\n",
    "            hdf.write_objects(objects_rfp)     "
   ]
  },
  {
   "cell_type": "markdown",
   "id": "c8e99e9a",
   "metadata": {},
   "source": [
    "# Parallel batch process"
   ]
  },
  {
   "cell_type": "code",
   "execution_count": 7,
   "id": "4eb3bf55",
   "metadata": {},
   "outputs": [],
   "source": [
    "def classify(pos):\n",
    "    ### check if overwrite param is false check if raw directory already created and if type of transform file already exists and decide whether to skip pos\n",
    "    if not overwrite and glob.glob(f'{root_dir}/{expt}/{pos}/*objects*.h5'):\n",
    "        print(glob.glob(f'{root_dir}/{expt}/{pos}/*objects*.h5'), f'file found, skipping {expt}/{pos}')\n",
    "        return\n",
    "\n",
    "    print(f'Starting {expt}/{pos}')\n",
    "    # load segmentation images and apply necessary transforms and crops\n",
    "    image_path = f'{root_dir}/{expt}/{pos}/{pos}_images'\n",
    "    transform_path = f'{root_dir}/{expt}/{pos}/gfp_transform_tensor.npy'\n",
    "    images = DaskOctopusLiteLoader(image_path, \n",
    "                       transforms=transform_path,\n",
    "                       crop=(1200,1600), \n",
    "                       remove_background=False)\n",
    "\n",
    "    # ID the objects in each segmentation image and assign option properties to them\n",
    "    objects = btrack.utils.segmentation_to_objects(\n",
    "        images['mask'], images['mask'],\n",
    "        properties = ('area', 'max_intensity', ),\n",
    "    )\n",
    "\n",
    "    # differentiate the objects based on class ID\n",
    "    objects_gfp = [obj for obj in objects if obj.properties['max_intensity'] == 1]\n",
    "    objects_rfp = [obj for obj in objects if obj.properties['max_intensity'] == 2]\n",
    "\n",
    "    # load classifcation model and define labels\n",
    "    model = load_model('../models/cellx_classifier_stardist.h5')\n",
    "    LABELS = [\"interphase\", \"prometaphase\", \"metaphase\", \"anaphase\", \"apoptosis\"]\n",
    "\n",
    "    # load images for classifcation\n",
    "    bf = images['brightfield']\n",
    "    gfp = images['gfp']\n",
    "    rfp = images['rfp']\n",
    "\n",
    "    # classify objects\n",
    "    print(\"Classifying objects\")\n",
    "    objects_gfp = classify_objects(bf, objects_gfp, obj_type = 1)\n",
    "    objects_rfp = classify_objects(bf, objects_rfp, obj_type = 2)\n",
    "\n",
    "    # save out classified objects as segmentation h5 file\n",
    "    with btrack.dataio.HDF5FileHandler(\n",
    "        f'{root_dir}/{expt}/{pos}/objects_type_1.h5', 'w', obj_type='obj_type_1',\n",
    "    ) as hdf:\n",
    "        #hdf.write_segmentation(masks['mask'])\n",
    "        hdf.write_objects(objects_gfp)\n",
    "    with btrack.dataio.HDF5FileHandler(\n",
    "        f'{root_dir}/{expt}/{pos}/objects_type_2.h5', 'w', obj_type='obj_type_2',\n",
    "    ) as hdf:\n",
    "        #hdf.write_segmentation(masks['mask'])\n",
    "        hdf.write_objects(objects_rfp)     \n",
    "\n",
    "    return"
   ]
  },
  {
   "cell_type": "code",
   "execution_count": 8,
   "id": "5bc24d95",
   "metadata": {},
   "outputs": [
    {
     "data": {
      "text/plain": [
       "12"
      ]
     },
     "execution_count": 8,
     "metadata": {},
     "output_type": "execute_result"
    }
   ],
   "source": [
    "from multiprocessing import Pool\n",
    "cpus = os.cpu_count()\n",
    "cpus"
   ]
  },
  {
   "cell_type": "code",
   "execution_count": 11,
   "id": "4e276356",
   "metadata": {},
   "outputs": [
    {
     "data": {
      "text/plain": [
       "['Pos5',\n",
       " 'Pos11',\n",
       " 'Pos3',\n",
       " 'Pos1',\n",
       " 'Pos8',\n",
       " 'Pos10',\n",
       " 'Pos0',\n",
       " 'Pos2',\n",
       " 'Pos6',\n",
       " 'Pos7',\n",
       " 'Pos9',\n",
       " 'Pos4']"
      ]
     },
     "execution_count": 11,
     "metadata": {},
     "output_type": "execute_result"
    }
   ],
   "source": [
    "pos_list = [pos for pos in os.listdir(f'{root_dir}/{expt}') \n",
    "                    if 'Pos' in pos \n",
    "                    and os.path.isdir(f'{root_dir}/{expt}/{pos}')]\n",
    "pos_list"
   ]
  },
  {
   "cell_type": "code",
   "execution_count": 13,
   "id": "74aeb131",
   "metadata": {
    "scrolled": true
   },
   "outputs": [
    {
     "name": "stdout",
     "output_type": "stream",
     "text": [
      "Starting ND0010/Pos3Starting ND0010/Pos4Starting ND0010/Pos11Starting ND0010/Pos5Starting ND0010/Pos7Starting ND0010/Pos1Starting ND0010/Pos10Starting ND0010/Pos0Starting ND0010/Pos8\n",
      "Starting ND0010/Pos2\n",
      "Starting ND0010/Pos9\n",
      "\n",
      "Starting ND0010/Pos6\n",
      "\n",
      "\n",
      "Using cropping: (1200, 1600)Using cropping: (1200, 1600)\n",
      "\n",
      "Using cropping: (1200, 1600)Using cropping: (1200, 1600)Using cropping: (1200, 1600)Using cropping: (1200, 1600)\n",
      "Using cropping: (1200, 1600)\n",
      "\n",
      "Using cropping: (1200, 1600)\n",
      "\n",
      "\n",
      "\n",
      "\n",
      "Using cropping: (1200, 1600)\n",
      "Using cropping: (1200, 1600)\n",
      "\n",
      "Using cropping: (1200, 1600)\n",
      "\n",
      "Using cropping: (1200, 1600)\n",
      "\n"
     ]
    },
    {
     "name": "stderr",
     "output_type": "stream",
     "text": [
      "[INFO][2022/02/07 05:18:20 PM] Localizing objects from segmentation...\n",
      "[INFO][2022/02/07 05:18:20 PM] Found intensity_image data\n",
      "[INFO][2022/02/07 05:18:20 PM] Localizing objects from segmentation...\n",
      "[INFO][2022/02/07 05:18:20 PM] Calculating weighted centroids using intensity_image\n",
      "[INFO][2022/02/07 05:18:20 PM] Localizing objects from segmentation...\n",
      "[INFO][2022/02/07 05:18:20 PM] Found intensity_image data\n",
      "[INFO][2022/02/07 05:18:20 PM] Calculating weighted centroids using intensity_image\n",
      "[INFO][2022/02/07 05:18:20 PM] Localizing objects from segmentation...\n",
      "[INFO][2022/02/07 05:18:20 PM] Found intensity_image data\n",
      "[INFO][2022/02/07 05:18:20 PM] Found intensity_image data\n",
      "[INFO][2022/02/07 05:18:20 PM] Calculating weighted centroids using intensity_image\n",
      "[INFO][2022/02/07 05:18:20 PM] Localizing objects from segmentation...\n",
      "[INFO][2022/02/07 05:18:20 PM] Calculating weighted centroids using intensity_image\n",
      "[INFO][2022/02/07 05:18:20 PM] Localizing objects from segmentation...\n",
      "[INFO][2022/02/07 05:18:20 PM] Found intensity_image data\n",
      "[INFO][2022/02/07 05:18:20 PM] Calculating weighted centroids using intensity_image\n",
      "[INFO][2022/02/07 05:18:20 PM] Found intensity_image data\n",
      "[INFO][2022/02/07 05:18:20 PM] Localizing objects from segmentation...\n",
      "[INFO][2022/02/07 05:18:20 PM] Calculating weighted centroids using intensity_image\n",
      "[INFO][2022/02/07 05:18:20 PM] Found intensity_image data\n",
      "[INFO][2022/02/07 05:18:20 PM] Localizing objects from segmentation...\n",
      "[INFO][2022/02/07 05:18:20 PM] Found intensity_image data\n",
      "[INFO][2022/02/07 05:18:20 PM] Calculating weighted centroids using intensity_image\n",
      "[INFO][2022/02/07 05:18:20 PM] Calculating weighted centroids using intensity_image\n",
      "[INFO][2022/02/07 05:18:20 PM] Localizing objects from segmentation...\n",
      "[INFO][2022/02/07 05:18:20 PM] Found intensity_image data\n",
      "[INFO][2022/02/07 05:18:20 PM] Calculating weighted centroids using intensity_image\n",
      "[INFO][2022/02/07 05:18:20 PM] Localizing objects from segmentation...\n",
      "[INFO][2022/02/07 05:18:20 PM] Found intensity_image data\n",
      "[INFO][2022/02/07 05:18:20 PM] Calculating weighted centroids using intensity_image\n",
      "[INFO][2022/02/07 05:18:20 PM] Localizing objects from segmentation...\n",
      "[INFO][2022/02/07 05:18:20 PM] Found intensity_image data\n",
      "[INFO][2022/02/07 05:18:20 PM] Calculating weighted centroids using intensity_image\n",
      "[INFO][2022/02/07 05:18:20 PM] Localizing objects from segmentation...\n",
      "[INFO][2022/02/07 05:18:20 PM] Found intensity_image data\n",
      "[INFO][2022/02/07 05:18:20 PM] Calculating weighted centroids using intensity_image\n",
      "Process ForkPoolWorker-18:\n",
      "Process ForkPoolWorker-24:\n",
      "Process ForkPoolWorker-17:\n",
      "Process ForkPoolWorker-23:\n",
      "Process ForkPoolWorker-20:\n",
      "Process ForkPoolWorker-22:\n",
      "Process ForkPoolWorker-19:\n",
      "Process ForkPoolWorker-21:\n"
     ]
    },
    {
     "ename": "KeyboardInterrupt",
     "evalue": "",
     "output_type": "error",
     "traceback": [
      "\u001b[0;31m---------------------------------------------------------------------------\u001b[0m",
      "\u001b[0;31mKeyboardInterrupt\u001b[0m                         Traceback (most recent call last)",
      "\u001b[0;32m<ipython-input-13-f2b6c6875a03>\u001b[0m in \u001b[0;36m<module>\u001b[0;34m\u001b[0m\n\u001b[1;32m      2\u001b[0m     \u001b[0;32mif\u001b[0m \u001b[0m__name__\u001b[0m \u001b[0;34m==\u001b[0m \u001b[0;34m'__main__'\u001b[0m\u001b[0;34m:\u001b[0m\u001b[0;34m\u001b[0m\u001b[0;34m\u001b[0m\u001b[0m\n\u001b[1;32m      3\u001b[0m         \u001b[0;32mwith\u001b[0m \u001b[0mPool\u001b[0m\u001b[0;34m(\u001b[0m\u001b[0mcpus\u001b[0m\u001b[0;34m)\u001b[0m \u001b[0;32mas\u001b[0m \u001b[0mp\u001b[0m\u001b[0;34m:\u001b[0m\u001b[0;34m\u001b[0m\u001b[0;34m\u001b[0m\u001b[0m\n\u001b[0;32m----> 4\u001b[0;31m             \u001b[0mp\u001b[0m\u001b[0;34m.\u001b[0m\u001b[0mmap\u001b[0m\u001b[0;34m(\u001b[0m\u001b[0mclassify\u001b[0m\u001b[0;34m,\u001b[0m \u001b[0mpos_list\u001b[0m\u001b[0;34m)\u001b[0m\u001b[0;34m\u001b[0m\u001b[0;34m\u001b[0m\u001b[0m\n\u001b[0m",
      "\u001b[0;32m~/analysis/miniconda3/envs/cellx/lib/python3.9/multiprocessing/pool.py\u001b[0m in \u001b[0;36mmap\u001b[0;34m(self, func, iterable, chunksize)\u001b[0m\n\u001b[1;32m    362\u001b[0m         \u001b[0;32min\u001b[0m \u001b[0ma\u001b[0m \u001b[0mlist\u001b[0m \u001b[0mthat\u001b[0m \u001b[0;32mis\u001b[0m \u001b[0mreturned\u001b[0m\u001b[0;34m.\u001b[0m\u001b[0;34m\u001b[0m\u001b[0;34m\u001b[0m\u001b[0m\n\u001b[1;32m    363\u001b[0m         '''\n\u001b[0;32m--> 364\u001b[0;31m         \u001b[0;32mreturn\u001b[0m \u001b[0mself\u001b[0m\u001b[0;34m.\u001b[0m\u001b[0m_map_async\u001b[0m\u001b[0;34m(\u001b[0m\u001b[0mfunc\u001b[0m\u001b[0;34m,\u001b[0m \u001b[0miterable\u001b[0m\u001b[0;34m,\u001b[0m \u001b[0mmapstar\u001b[0m\u001b[0;34m,\u001b[0m \u001b[0mchunksize\u001b[0m\u001b[0;34m)\u001b[0m\u001b[0;34m.\u001b[0m\u001b[0mget\u001b[0m\u001b[0;34m(\u001b[0m\u001b[0;34m)\u001b[0m\u001b[0;34m\u001b[0m\u001b[0;34m\u001b[0m\u001b[0m\n\u001b[0m\u001b[1;32m    365\u001b[0m \u001b[0;34m\u001b[0m\u001b[0m\n\u001b[1;32m    366\u001b[0m     \u001b[0;32mdef\u001b[0m \u001b[0mstarmap\u001b[0m\u001b[0;34m(\u001b[0m\u001b[0mself\u001b[0m\u001b[0;34m,\u001b[0m \u001b[0mfunc\u001b[0m\u001b[0;34m,\u001b[0m \u001b[0miterable\u001b[0m\u001b[0;34m,\u001b[0m \u001b[0mchunksize\u001b[0m\u001b[0;34m=\u001b[0m\u001b[0;32mNone\u001b[0m\u001b[0;34m)\u001b[0m\u001b[0;34m:\u001b[0m\u001b[0;34m\u001b[0m\u001b[0;34m\u001b[0m\u001b[0m\n",
      "\u001b[0;32m~/analysis/miniconda3/envs/cellx/lib/python3.9/multiprocessing/pool.py\u001b[0m in \u001b[0;36mget\u001b[0;34m(self, timeout)\u001b[0m\n\u001b[1;32m    763\u001b[0m \u001b[0;34m\u001b[0m\u001b[0m\n\u001b[1;32m    764\u001b[0m     \u001b[0;32mdef\u001b[0m \u001b[0mget\u001b[0m\u001b[0;34m(\u001b[0m\u001b[0mself\u001b[0m\u001b[0;34m,\u001b[0m \u001b[0mtimeout\u001b[0m\u001b[0;34m=\u001b[0m\u001b[0;32mNone\u001b[0m\u001b[0;34m)\u001b[0m\u001b[0;34m:\u001b[0m\u001b[0;34m\u001b[0m\u001b[0;34m\u001b[0m\u001b[0m\n\u001b[0;32m--> 765\u001b[0;31m         \u001b[0mself\u001b[0m\u001b[0;34m.\u001b[0m\u001b[0mwait\u001b[0m\u001b[0;34m(\u001b[0m\u001b[0mtimeout\u001b[0m\u001b[0;34m)\u001b[0m\u001b[0;34m\u001b[0m\u001b[0;34m\u001b[0m\u001b[0m\n\u001b[0m\u001b[1;32m    766\u001b[0m         \u001b[0;32mif\u001b[0m \u001b[0;32mnot\u001b[0m \u001b[0mself\u001b[0m\u001b[0;34m.\u001b[0m\u001b[0mready\u001b[0m\u001b[0;34m(\u001b[0m\u001b[0;34m)\u001b[0m\u001b[0;34m:\u001b[0m\u001b[0;34m\u001b[0m\u001b[0;34m\u001b[0m\u001b[0m\n\u001b[1;32m    767\u001b[0m             \u001b[0;32mraise\u001b[0m \u001b[0mTimeoutError\u001b[0m\u001b[0;34m\u001b[0m\u001b[0;34m\u001b[0m\u001b[0m\n",
      "\u001b[0;32m~/analysis/miniconda3/envs/cellx/lib/python3.9/multiprocessing/pool.py\u001b[0m in \u001b[0;36mwait\u001b[0;34m(self, timeout)\u001b[0m\n\u001b[1;32m    760\u001b[0m \u001b[0;34m\u001b[0m\u001b[0m\n\u001b[1;32m    761\u001b[0m     \u001b[0;32mdef\u001b[0m \u001b[0mwait\u001b[0m\u001b[0;34m(\u001b[0m\u001b[0mself\u001b[0m\u001b[0;34m,\u001b[0m \u001b[0mtimeout\u001b[0m\u001b[0;34m=\u001b[0m\u001b[0;32mNone\u001b[0m\u001b[0;34m)\u001b[0m\u001b[0;34m:\u001b[0m\u001b[0;34m\u001b[0m\u001b[0;34m\u001b[0m\u001b[0m\n\u001b[0;32m--> 762\u001b[0;31m         \u001b[0mself\u001b[0m\u001b[0;34m.\u001b[0m\u001b[0m_event\u001b[0m\u001b[0;34m.\u001b[0m\u001b[0mwait\u001b[0m\u001b[0;34m(\u001b[0m\u001b[0mtimeout\u001b[0m\u001b[0;34m)\u001b[0m\u001b[0;34m\u001b[0m\u001b[0;34m\u001b[0m\u001b[0m\n\u001b[0m\u001b[1;32m    763\u001b[0m \u001b[0;34m\u001b[0m\u001b[0m\n\u001b[1;32m    764\u001b[0m     \u001b[0;32mdef\u001b[0m \u001b[0mget\u001b[0m\u001b[0;34m(\u001b[0m\u001b[0mself\u001b[0m\u001b[0;34m,\u001b[0m \u001b[0mtimeout\u001b[0m\u001b[0;34m=\u001b[0m\u001b[0;32mNone\u001b[0m\u001b[0;34m)\u001b[0m\u001b[0;34m:\u001b[0m\u001b[0;34m\u001b[0m\u001b[0;34m\u001b[0m\u001b[0m\n",
      "\u001b[0;32m~/analysis/miniconda3/envs/cellx/lib/python3.9/threading.py\u001b[0m in \u001b[0;36mwait\u001b[0;34m(self, timeout)\u001b[0m\n\u001b[1;32m    572\u001b[0m             \u001b[0msignaled\u001b[0m \u001b[0;34m=\u001b[0m \u001b[0mself\u001b[0m\u001b[0;34m.\u001b[0m\u001b[0m_flag\u001b[0m\u001b[0;34m\u001b[0m\u001b[0;34m\u001b[0m\u001b[0m\n\u001b[1;32m    573\u001b[0m             \u001b[0;32mif\u001b[0m \u001b[0;32mnot\u001b[0m \u001b[0msignaled\u001b[0m\u001b[0;34m:\u001b[0m\u001b[0;34m\u001b[0m\u001b[0;34m\u001b[0m\u001b[0m\n\u001b[0;32m--> 574\u001b[0;31m                 \u001b[0msignaled\u001b[0m \u001b[0;34m=\u001b[0m \u001b[0mself\u001b[0m\u001b[0;34m.\u001b[0m\u001b[0m_cond\u001b[0m\u001b[0;34m.\u001b[0m\u001b[0mwait\u001b[0m\u001b[0;34m(\u001b[0m\u001b[0mtimeout\u001b[0m\u001b[0;34m)\u001b[0m\u001b[0;34m\u001b[0m\u001b[0;34m\u001b[0m\u001b[0m\n\u001b[0m\u001b[1;32m    575\u001b[0m             \u001b[0;32mreturn\u001b[0m \u001b[0msignaled\u001b[0m\u001b[0;34m\u001b[0m\u001b[0;34m\u001b[0m\u001b[0m\n\u001b[1;32m    576\u001b[0m \u001b[0;34m\u001b[0m\u001b[0m\n",
      "\u001b[0;32m~/analysis/miniconda3/envs/cellx/lib/python3.9/threading.py\u001b[0m in \u001b[0;36mwait\u001b[0;34m(self, timeout)\u001b[0m\n\u001b[1;32m    310\u001b[0m         \u001b[0;32mtry\u001b[0m\u001b[0;34m:\u001b[0m    \u001b[0;31m# restore state no matter what (e.g., KeyboardInterrupt)\u001b[0m\u001b[0;34m\u001b[0m\u001b[0;34m\u001b[0m\u001b[0m\n\u001b[1;32m    311\u001b[0m             \u001b[0;32mif\u001b[0m \u001b[0mtimeout\u001b[0m \u001b[0;32mis\u001b[0m \u001b[0;32mNone\u001b[0m\u001b[0;34m:\u001b[0m\u001b[0;34m\u001b[0m\u001b[0;34m\u001b[0m\u001b[0m\n\u001b[0;32m--> 312\u001b[0;31m                 \u001b[0mwaiter\u001b[0m\u001b[0;34m.\u001b[0m\u001b[0macquire\u001b[0m\u001b[0;34m(\u001b[0m\u001b[0;34m)\u001b[0m\u001b[0;34m\u001b[0m\u001b[0;34m\u001b[0m\u001b[0m\n\u001b[0m\u001b[1;32m    313\u001b[0m                 \u001b[0mgotit\u001b[0m \u001b[0;34m=\u001b[0m \u001b[0;32mTrue\u001b[0m\u001b[0;34m\u001b[0m\u001b[0;34m\u001b[0m\u001b[0m\n\u001b[1;32m    314\u001b[0m             \u001b[0;32melse\u001b[0m\u001b[0;34m:\u001b[0m\u001b[0;34m\u001b[0m\u001b[0;34m\u001b[0m\u001b[0m\n",
      "\u001b[0;31mKeyboardInterrupt\u001b[0m: "
     ]
    }
   ],
   "source": [
    "for expt in expt_list:\n",
    "    if __name__ == '__main__':\n",
    "        with Pool(cpus) as p:\n",
    "            p.map(classify, pos_list)"
   ]
  }
 ],
 "metadata": {
  "kernelspec": {
   "display_name": "CellX",
   "language": "python",
   "name": "cellx"
  },
  "language_info": {
   "codemirror_mode": {
    "name": "ipython",
    "version": 3
   },
   "file_extension": ".py",
   "mimetype": "text/x-python",
   "name": "python",
   "nbconvert_exporter": "python",
   "pygments_lexer": "ipython3",
   "version": "3.9.7"
  }
 },
 "nbformat": 4,
 "nbformat_minor": 5
}
