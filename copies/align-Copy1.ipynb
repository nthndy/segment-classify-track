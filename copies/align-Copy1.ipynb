{
 "cells": [
  {
   "cell_type": "markdown",
   "id": "127b5eb3",
   "metadata": {},
   "source": [
    "# Align and remove under/overexposed images\n",
    "\n",
    "This notebook removes any under/overexposed frames from timelapse experiments and aligns the images. \n",
    "\n",
    "### The aligned images will be used later in the object localisation and tracking steps. \n",
    "\n",
    "The structure of this notebook is:\n",
    "\n",
    "1. Load images using the octopuslite dask loader.\n",
    "2. Find over/underexposed images by measuring each channel and frame for average pixel intensity.\n",
    "3. Select a reference channel to center the alignment on\n",
    "4. Register alignment and save out transformation tensor\n",
    "5. (Optional) Apply transformation matrix to all channels and save out images\n",
    "6. Check images using Napari\n",
    "7. Function to iterate over many experiments, many positions"
   ]
  },
  {
   "cell_type": "code",
   "execution_count": 7,
   "id": "f7859805",
   "metadata": {},
   "outputs": [],
   "source": [
    "import os\n",
    "import glob\n",
    "import enum\n",
    "import numpy as np\n",
    "from pystackreg import StackReg\n",
    "from skimage.io import imsave\n",
    "from tqdm.auto import tqdm\n",
    "from octopuslite import DaskOctopusLiteLoader\n",
    "from skimage import transform as tf\n",
    "from tqdm.auto import tqdm\n",
    "from skimage.io import imread"
   ]
  },
  {
   "cell_type": "code",
   "execution_count": 2,
   "id": "e43fda2a",
   "metadata": {},
   "outputs": [],
   "source": [
    "def image_generator(files, crop = None):\n",
    "    \"\"\"\n",
    "    Generator function for iterative procesessing of image files\n",
    "    \"\"\"\n",
    "    \n",
    "    if crop is None:\n",
    "        for filename in files:\n",
    "            img = imread(filename)\n",
    "            yield img\n",
    "    else:\n",
    "        for filename in files:\n",
    "            img = imread(filename)\n",
    "            img = crop_image(img, crop)\n",
    "            yield img"
   ]
  },
  {
   "cell_type": "markdown",
   "id": "b349a8a0",
   "metadata": {},
   "source": [
    "## 1. Find images, organise and load using octopuslite"
   ]
  },
  {
   "cell_type": "markdown",
   "id": "e8155bde",
   "metadata": {},
   "source": [
    "Define root directory and specific experiment and location to align"
   ]
  },
  {
   "cell_type": "code",
   "execution_count": 3,
   "id": "bbeda8c1",
   "metadata": {},
   "outputs": [],
   "source": [
    "root_dir = '/home/nathan/data/kraken/ras'\n",
    "expt = 'ND0013'\n",
    "pos = 'Pos13'"
   ]
  },
  {
   "cell_type": "markdown",
   "id": "7a7def82",
   "metadata": {},
   "source": [
    "Create new subdir for image files and move them all there. This is so that the miscelleanous non-image files (such as transformation matrices and tracking files) are easy to access later on and not lost amongst many single frame timelapse images."
   ]
  },
  {
   "cell_type": "code",
   "execution_count": 9,
   "id": "894fb819",
   "metadata": {},
   "outputs": [],
   "source": [
    "image_path = f'{root_dir}/{expt}/{pos}/{pos}_images'\n",
    "if not os.path.exists(image_path):\n",
    "    os.mkdir(image_path)\n",
    "    files = sorted(glob.glob(f'{root_dir}/{expt}/{pos}/*.tif'))\n",
    "    for file in files:\n",
    "        os.rename(file, file.replace(f'{pos}', f'{pos}/{pos}_images'))"
   ]
  },
  {
   "cell_type": "markdown",
   "id": "e3403f8d",
   "metadata": {},
   "source": [
    "Lazily load image array and associated information using dask octopuslite-loader and display channels found. Note the optional background removal is not invoked at this stage."
   ]
  },
  {
   "cell_type": "code",
   "execution_count": 24,
   "id": "5a3d0870",
   "metadata": {},
   "outputs": [
    {
     "name": "stdout",
     "output_type": "stream",
     "text": [
      "['BRIGHTFIELD', 'GFP', 'RFP', 'IRFP', 'MASK']\n"
     ]
    }
   ],
   "source": [
    "images = DaskOctopusLiteLoader(image_path, remove_background = False)\n",
    "print([channel.name for channel in images.channels])"
   ]
  },
  {
   "cell_type": "markdown",
   "id": "ff4314a4",
   "metadata": {},
   "source": [
    "## 2. Identify under/overexposed images and display average channel brightness"
   ]
  },
  {
   "cell_type": "code",
   "execution_count": 25,
   "id": "54fd5092",
   "metadata": {},
   "outputs": [
    {
     "data": {
      "text/html": [
       "<table>\n",
       "    <tr>\n",
       "        <td>\n",
       "            <table>\n",
       "                <thead>\n",
       "                    <tr>\n",
       "                        <td> </td>\n",
       "                        <th> Array </th>\n",
       "                        <th> Chunk </th>\n",
       "                    </tr>\n",
       "                </thead>\n",
       "                <tbody>\n",
       "                    \n",
       "                    <tr>\n",
       "                        <th> Bytes </th>\n",
       "                        <td> 5.98 GiB </td>\n",
       "                        <td> 2.18 MiB </td>\n",
       "                    </tr>\n",
       "                    \n",
       "                    <tr>\n",
       "                        <th> Shape </th>\n",
       "                        <td> (2813, 1352, 1688) </td>\n",
       "                        <td> (1, 1352, 1688) </td>\n",
       "                    </tr>\n",
       "                    <tr>\n",
       "                        <th> Count </th>\n",
       "                        <td> 8439 Tasks </td>\n",
       "                        <td> 2813 Chunks </td>\n",
       "                    </tr>\n",
       "                    <tr>\n",
       "                    <th> Type </th>\n",
       "                    <td> uint8 </td>\n",
       "                    <td> numpy.ndarray </td>\n",
       "                    </tr>\n",
       "                </tbody>\n",
       "            </table>\n",
       "        </td>\n",
       "        <td>\n",
       "        <svg width=\"202\" height=\"178\" style=\"stroke:rgb(0,0,0);stroke-width:1\" >\n",
       "\n",
       "  <!-- Horizontal lines -->\n",
       "  <line x1=\"10\" y1=\"0\" x2=\"80\" y2=\"70\" style=\"stroke-width:2\" />\n",
       "  <line x1=\"10\" y1=\"57\" x2=\"80\" y2=\"128\" style=\"stroke-width:2\" />\n",
       "\n",
       "  <!-- Vertical lines -->\n",
       "  <line x1=\"10\" y1=\"0\" x2=\"10\" y2=\"57\" style=\"stroke-width:2\" />\n",
       "  <line x1=\"13\" y1=\"3\" x2=\"13\" y2=\"61\" />\n",
       "  <line x1=\"17\" y1=\"7\" x2=\"17\" y2=\"65\" />\n",
       "  <line x1=\"21\" y1=\"11\" x2=\"21\" y2=\"68\" />\n",
       "  <line x1=\"24\" y1=\"14\" x2=\"24\" y2=\"72\" />\n",
       "  <line x1=\"28\" y1=\"18\" x2=\"28\" y2=\"76\" />\n",
       "  <line x1=\"32\" y1=\"22\" x2=\"32\" y2=\"79\" />\n",
       "  <line x1=\"35\" y1=\"25\" x2=\"35\" y2=\"83\" />\n",
       "  <line x1=\"39\" y1=\"29\" x2=\"39\" y2=\"87\" />\n",
       "  <line x1=\"43\" y1=\"33\" x2=\"43\" y2=\"91\" />\n",
       "  <line x1=\"47\" y1=\"37\" x2=\"47\" y2=\"94\" />\n",
       "  <line x1=\"50\" y1=\"40\" x2=\"50\" y2=\"98\" />\n",
       "  <line x1=\"54\" y1=\"44\" x2=\"54\" y2=\"102\" />\n",
       "  <line x1=\"58\" y1=\"48\" x2=\"58\" y2=\"105\" />\n",
       "  <line x1=\"61\" y1=\"51\" x2=\"61\" y2=\"109\" />\n",
       "  <line x1=\"65\" y1=\"55\" x2=\"65\" y2=\"113\" />\n",
       "  <line x1=\"69\" y1=\"59\" x2=\"69\" y2=\"117\" />\n",
       "  <line x1=\"73\" y1=\"63\" x2=\"73\" y2=\"120\" />\n",
       "  <line x1=\"76\" y1=\"66\" x2=\"76\" y2=\"124\" />\n",
       "  <line x1=\"80\" y1=\"70\" x2=\"80\" y2=\"128\" style=\"stroke-width:2\" />\n",
       "\n",
       "  <!-- Colored Rectangle -->\n",
       "  <polygon points=\"10.0,0.0 80.58823529411765,70.58823529411765 80.58823529411765,128.26331527989797 10.0,57.67507998578031\" style=\"fill:#8B4903A0;stroke-width:0\"/>\n",
       "\n",
       "  <!-- Horizontal lines -->\n",
       "  <line x1=\"10\" y1=\"0\" x2=\"82\" y2=\"0\" style=\"stroke-width:2\" />\n",
       "  <line x1=\"13\" y1=\"3\" x2=\"85\" y2=\"3\" />\n",
       "  <line x1=\"17\" y1=\"7\" x2=\"89\" y2=\"7\" />\n",
       "  <line x1=\"21\" y1=\"11\" x2=\"93\" y2=\"11\" />\n",
       "  <line x1=\"24\" y1=\"14\" x2=\"96\" y2=\"14\" />\n",
       "  <line x1=\"28\" y1=\"18\" x2=\"100\" y2=\"18\" />\n",
       "  <line x1=\"32\" y1=\"22\" x2=\"104\" y2=\"22\" />\n",
       "  <line x1=\"35\" y1=\"25\" x2=\"108\" y2=\"25\" />\n",
       "  <line x1=\"39\" y1=\"29\" x2=\"111\" y2=\"29\" />\n",
       "  <line x1=\"43\" y1=\"33\" x2=\"115\" y2=\"33\" />\n",
       "  <line x1=\"47\" y1=\"37\" x2=\"119\" y2=\"37\" />\n",
       "  <line x1=\"50\" y1=\"40\" x2=\"122\" y2=\"40\" />\n",
       "  <line x1=\"54\" y1=\"44\" x2=\"126\" y2=\"44\" />\n",
       "  <line x1=\"58\" y1=\"48\" x2=\"130\" y2=\"48\" />\n",
       "  <line x1=\"61\" y1=\"51\" x2=\"134\" y2=\"51\" />\n",
       "  <line x1=\"65\" y1=\"55\" x2=\"137\" y2=\"55\" />\n",
       "  <line x1=\"69\" y1=\"59\" x2=\"141\" y2=\"59\" />\n",
       "  <line x1=\"73\" y1=\"63\" x2=\"145\" y2=\"63\" />\n",
       "  <line x1=\"76\" y1=\"66\" x2=\"148\" y2=\"66\" />\n",
       "  <line x1=\"80\" y1=\"70\" x2=\"152\" y2=\"70\" style=\"stroke-width:2\" />\n",
       "\n",
       "  <!-- Vertical lines -->\n",
       "  <line x1=\"10\" y1=\"0\" x2=\"80\" y2=\"70\" style=\"stroke-width:2\" />\n",
       "  <line x1=\"82\" y1=\"0\" x2=\"152\" y2=\"70\" style=\"stroke-width:2\" />\n",
       "\n",
       "  <!-- Colored Rectangle -->\n",
       "  <polygon points=\"10.0,0.0 82.00853181656593,0.0 152.59676711068357,70.58823529411765 80.58823529411765,70.58823529411765\" style=\"fill:#8B4903A0;stroke-width:0\"/>\n",
       "\n",
       "  <!-- Horizontal lines -->\n",
       "  <line x1=\"80\" y1=\"70\" x2=\"152\" y2=\"70\" style=\"stroke-width:2\" />\n",
       "  <line x1=\"80\" y1=\"128\" x2=\"152\" y2=\"128\" style=\"stroke-width:2\" />\n",
       "\n",
       "  <!-- Vertical lines -->\n",
       "  <line x1=\"80\" y1=\"70\" x2=\"80\" y2=\"128\" style=\"stroke-width:2\" />\n",
       "  <line x1=\"152\" y1=\"70\" x2=\"152\" y2=\"128\" style=\"stroke-width:2\" />\n",
       "\n",
       "  <!-- Colored Rectangle -->\n",
       "  <polygon points=\"80.58823529411765,70.58823529411765 152.59676711068357,70.58823529411765 152.59676711068357,128.26331527989797 80.58823529411765,128.26331527989797\" style=\"fill:#ECB172A0;stroke-width:0\"/>\n",
       "\n",
       "  <!-- Text -->\n",
       "  <text x=\"116.592501\" y=\"148.263315\" font-size=\"1.0rem\" font-weight=\"100\" text-anchor=\"middle\" >1688</text>\n",
       "  <text x=\"172.596767\" y=\"99.425775\" font-size=\"1.0rem\" font-weight=\"100\" text-anchor=\"middle\" transform=\"rotate(-90,172.596767,99.425775)\">1352</text>\n",
       "  <text x=\"35.294118\" y=\"112.969198\" font-size=\"1.0rem\" font-weight=\"100\" text-anchor=\"middle\" transform=\"rotate(45,35.294118,112.969198)\">2813</text>\n",
       "</svg>\n",
       "        </td>\n",
       "    </tr>\n",
       "</table>"
      ],
      "text/plain": [
       "dask.array<stack, shape=(2813, 1352, 1688), dtype=uint8, chunksize=(1, 1352, 1688), chunktype=numpy.ndarray>"
      ]
     },
     "execution_count": 25,
     "metadata": {},
     "output_type": "execute_result"
    }
   ],
   "source": [
    "images['brightfield']"
   ]
  },
  {
   "cell_type": "code",
   "execution_count": 26,
   "id": "57e3d185",
   "metadata": {
    "scrolled": true
   },
   "outputs": [
    {
     "data": {
      "application/vnd.jupyter.widget-view+json": {
       "model_id": "2253cfa8d6e845beb2847a9d8b310ef5",
       "version_major": 2,
       "version_minor": 0
      },
      "text/plain": [
       "Finding mean values of image channels:   0%|          | 0/5 [00:00<?, ?it/s]"
      ]
     },
     "metadata": {},
     "output_type": "display_data"
    },
    {
     "name": "stdout",
     "output_type": "stream",
     "text": [
      "BRIGHTFIELD\n"
     ]
    },
    {
     "data": {
      "application/vnd.jupyter.widget-view+json": {
       "model_id": "849c4986fddc4ff7816657c47055251f",
       "version_major": 2,
       "version_minor": 0
      },
      "text/plain": [
       "  0%|          | 0/2813 [00:00<?, ?it/s]"
      ]
     },
     "metadata": {},
     "output_type": "display_data"
    },
    {
     "name": "stdout",
     "output_type": "stream",
     "text": [
      "GFP\n"
     ]
    },
    {
     "data": {
      "application/vnd.jupyter.widget-view+json": {
       "model_id": "91451acb5920460c9f64d2bae6f47c41",
       "version_major": 2,
       "version_minor": 0
      },
      "text/plain": [
       "  0%|          | 0/2813 [00:00<?, ?it/s]"
      ]
     },
     "metadata": {},
     "output_type": "display_data"
    },
    {
     "name": "stdout",
     "output_type": "stream",
     "text": [
      "RFP\n"
     ]
    },
    {
     "data": {
      "application/vnd.jupyter.widget-view+json": {
       "model_id": "df4232a169684b5c98b2030910738399",
       "version_major": 2,
       "version_minor": 0
      },
      "text/plain": [
       "  0%|          | 0/2813 [00:00<?, ?it/s]"
      ]
     },
     "metadata": {},
     "output_type": "display_data"
    },
    {
     "name": "stdout",
     "output_type": "stream",
     "text": [
      "IRFP\n"
     ]
    },
    {
     "data": {
      "application/vnd.jupyter.widget-view+json": {
       "model_id": "4fccc449526f444b8b4993ea061dfdbf",
       "version_major": 2,
       "version_minor": 0
      },
      "text/plain": [
       "  0%|          | 0/2813 [00:00<?, ?it/s]"
      ]
     },
     "metadata": {},
     "output_type": "display_data"
    },
    {
     "name": "stdout",
     "output_type": "stream",
     "text": [
      "MASK\n",
      "Number of under/over-exposed frames: 21\n",
      "CPU times: user 49.6 s, sys: 21.6 s, total: 1min 11s\n",
      "Wall time: 8min 31s\n"
     ]
    }
   ],
   "source": [
    "%%time\n",
    "# pixel range criteria\n",
    "max_pixel, min_pixel = 200, 2\n",
    "# set empty dict arrays for mean values \n",
    "mean_arrays = {}\n",
    "# set for dodgy frames (only unique entries)\n",
    "dodgy_frame_list = set([])\n",
    "#iterate over channels\n",
    "for channel in tqdm(images.channels, desc = f'Finding mean values of image channels'):\n",
    "    # find mean value of each frame in each channel\n",
    "    print(channel.name)\n",
    "    if channel.name == 'MASK':\n",
    "        continue\n",
    "    mean_arrays[channel.name] = [np.mean(img) for img in tqdm(image_generator(images.files(channel.name)), position = 0, total =len(images.files(channel.name)))]\n",
    "    # iterate over frames\n",
    "    for frame, mean_value in (enumerate(mean_arrays[channel.name])):\n",
    "        # check to see if mean frame pixel value meets criteria\n",
    "        if max_pixel < mean_value or mean_value < min_pixel:\n",
    "            # if so add to delete list\n",
    "            dodgy_frame_list.add(frame)\n",
    "# format delete list to only include single values\n",
    "dodgy_frame_list = list(dodgy_frame_list)\n",
    "print('Number of under/over-exposed frames:', len(dodgy_frame_list))"
   ]
  },
  {
   "cell_type": "markdown",
   "id": "cc235269",
   "metadata": {},
   "source": [
    "### 2a. Filter blanks from main image folder into separate directory\n",
    "\n",
    "This step is optional as there is a parameter within `DaskOctopusLiteLoader` that filters the images, but employing that every time you load images is time consuming for large data sets"
   ]
  },
  {
   "cell_type": "code",
   "execution_count": 20,
   "id": "4c7dd6bd",
   "metadata": {},
   "outputs": [
    {
     "data": {
      "text/html": [
       "<table>\n",
       "    <tr>\n",
       "        <td>\n",
       "            <table>\n",
       "                <thead>\n",
       "                    <tr>\n",
       "                        <td> </td>\n",
       "                        <th> Array </th>\n",
       "                        <th> Chunk </th>\n",
       "                    </tr>\n",
       "                </thead>\n",
       "                <tbody>\n",
       "                    \n",
       "                    <tr>\n",
       "                        <th> Bytes </th>\n",
       "                        <td> 2.32 GiB </td>\n",
       "                        <td> 2.18 MiB </td>\n",
       "                    </tr>\n",
       "                    \n",
       "                    <tr>\n",
       "                        <th> Shape </th>\n",
       "                        <td> (1092, 1352, 1688) </td>\n",
       "                        <td> (1, 1352, 1688) </td>\n",
       "                    </tr>\n",
       "                    <tr>\n",
       "                        <th> Count </th>\n",
       "                        <td> 3276 Tasks </td>\n",
       "                        <td> 1092 Chunks </td>\n",
       "                    </tr>\n",
       "                    <tr>\n",
       "                    <th> Type </th>\n",
       "                    <td> uint8 </td>\n",
       "                    <td> numpy.ndarray </td>\n",
       "                    </tr>\n",
       "                </tbody>\n",
       "            </table>\n",
       "        </td>\n",
       "        <td>\n",
       "        <svg width=\"225\" height=\"191\" style=\"stroke:rgb(0,0,0);stroke-width:1\" >\n",
       "\n",
       "  <!-- Horizontal lines -->\n",
       "  <line x1=\"10\" y1=\"0\" x2=\"55\" y2=\"45\" style=\"stroke-width:2\" />\n",
       "  <line x1=\"10\" y1=\"96\" x2=\"55\" y2=\"141\" style=\"stroke-width:2\" />\n",
       "\n",
       "  <!-- Vertical lines -->\n",
       "  <line x1=\"10\" y1=\"0\" x2=\"10\" y2=\"96\" style=\"stroke-width:2\" />\n",
       "  <line x1=\"12\" y1=\"2\" x2=\"12\" y2=\"98\" />\n",
       "  <line x1=\"14\" y1=\"4\" x2=\"14\" y2=\"100\" />\n",
       "  <line x1=\"17\" y1=\"7\" x2=\"17\" y2=\"103\" />\n",
       "  <line x1=\"19\" y1=\"9\" x2=\"19\" y2=\"105\" />\n",
       "  <line x1=\"22\" y1=\"12\" x2=\"22\" y2=\"108\" />\n",
       "  <line x1=\"24\" y1=\"14\" x2=\"24\" y2=\"110\" />\n",
       "  <line x1=\"26\" y1=\"16\" x2=\"26\" y2=\"112\" />\n",
       "  <line x1=\"29\" y1=\"19\" x2=\"29\" y2=\"115\" />\n",
       "  <line x1=\"31\" y1=\"21\" x2=\"31\" y2=\"117\" />\n",
       "  <line x1=\"34\" y1=\"24\" x2=\"34\" y2=\"120\" />\n",
       "  <line x1=\"36\" y1=\"26\" x2=\"36\" y2=\"122\" />\n",
       "  <line x1=\"38\" y1=\"28\" x2=\"38\" y2=\"124\" />\n",
       "  <line x1=\"41\" y1=\"31\" x2=\"41\" y2=\"127\" />\n",
       "  <line x1=\"43\" y1=\"33\" x2=\"43\" y2=\"129\" />\n",
       "  <line x1=\"46\" y1=\"36\" x2=\"46\" y2=\"132\" />\n",
       "  <line x1=\"48\" y1=\"38\" x2=\"48\" y2=\"134\" />\n",
       "  <line x1=\"50\" y1=\"40\" x2=\"50\" y2=\"136\" />\n",
       "  <line x1=\"53\" y1=\"43\" x2=\"53\" y2=\"139\" />\n",
       "  <line x1=\"55\" y1=\"45\" x2=\"55\" y2=\"141\" style=\"stroke-width:2\" />\n",
       "\n",
       "  <!-- Colored Rectangle -->\n",
       "  <polygon points=\"10.0,0.0 55.66490103150265,45.66490103150265 55.66490103150265,141.77864510733204 10.0,96.11374407582939\" style=\"fill:#8B4903A0;stroke-width:0\"/>\n",
       "\n",
       "  <!-- Horizontal lines -->\n",
       "  <line x1=\"10\" y1=\"0\" x2=\"130\" y2=\"0\" style=\"stroke-width:2\" />\n",
       "  <line x1=\"12\" y1=\"2\" x2=\"132\" y2=\"2\" />\n",
       "  <line x1=\"14\" y1=\"4\" x2=\"134\" y2=\"4\" />\n",
       "  <line x1=\"17\" y1=\"7\" x2=\"137\" y2=\"7\" />\n",
       "  <line x1=\"19\" y1=\"9\" x2=\"139\" y2=\"9\" />\n",
       "  <line x1=\"22\" y1=\"12\" x2=\"142\" y2=\"12\" />\n",
       "  <line x1=\"24\" y1=\"14\" x2=\"144\" y2=\"14\" />\n",
       "  <line x1=\"26\" y1=\"16\" x2=\"146\" y2=\"16\" />\n",
       "  <line x1=\"29\" y1=\"19\" x2=\"149\" y2=\"19\" />\n",
       "  <line x1=\"31\" y1=\"21\" x2=\"151\" y2=\"21\" />\n",
       "  <line x1=\"34\" y1=\"24\" x2=\"154\" y2=\"24\" />\n",
       "  <line x1=\"36\" y1=\"26\" x2=\"156\" y2=\"26\" />\n",
       "  <line x1=\"38\" y1=\"28\" x2=\"158\" y2=\"28\" />\n",
       "  <line x1=\"41\" y1=\"31\" x2=\"161\" y2=\"31\" />\n",
       "  <line x1=\"43\" y1=\"33\" x2=\"163\" y2=\"33\" />\n",
       "  <line x1=\"46\" y1=\"36\" x2=\"166\" y2=\"36\" />\n",
       "  <line x1=\"48\" y1=\"38\" x2=\"168\" y2=\"38\" />\n",
       "  <line x1=\"50\" y1=\"40\" x2=\"170\" y2=\"40\" />\n",
       "  <line x1=\"53\" y1=\"43\" x2=\"173\" y2=\"43\" />\n",
       "  <line x1=\"55\" y1=\"45\" x2=\"175\" y2=\"45\" style=\"stroke-width:2\" />\n",
       "\n",
       "  <!-- Vertical lines -->\n",
       "  <line x1=\"10\" y1=\"0\" x2=\"55\" y2=\"45\" style=\"stroke-width:2\" />\n",
       "  <line x1=\"130\" y1=\"0\" x2=\"175\" y2=\"45\" style=\"stroke-width:2\" />\n",
       "\n",
       "  <!-- Colored Rectangle -->\n",
       "  <polygon points=\"10.0,0.0 130.0,0.0 175.66490103150267,45.66490103150265 55.66490103150265,45.66490103150265\" style=\"fill:#8B4903A0;stroke-width:0\"/>\n",
       "\n",
       "  <!-- Horizontal lines -->\n",
       "  <line x1=\"55\" y1=\"45\" x2=\"175\" y2=\"45\" style=\"stroke-width:2\" />\n",
       "  <line x1=\"55\" y1=\"141\" x2=\"175\" y2=\"141\" style=\"stroke-width:2\" />\n",
       "\n",
       "  <!-- Vertical lines -->\n",
       "  <line x1=\"55\" y1=\"45\" x2=\"55\" y2=\"141\" style=\"stroke-width:2\" />\n",
       "  <line x1=\"175\" y1=\"45\" x2=\"175\" y2=\"141\" style=\"stroke-width:2\" />\n",
       "\n",
       "  <!-- Colored Rectangle -->\n",
       "  <polygon points=\"55.66490103150265,45.66490103150265 175.66490103150267,45.66490103150265 175.66490103150267,141.77864510733204 55.66490103150265,141.77864510733204\" style=\"fill:#ECB172A0;stroke-width:0\"/>\n",
       "\n",
       "  <!-- Text -->\n",
       "  <text x=\"115.664901\" y=\"161.778645\" font-size=\"1.0rem\" font-weight=\"100\" text-anchor=\"middle\" >1688</text>\n",
       "  <text x=\"195.664901\" y=\"93.721773\" font-size=\"1.0rem\" font-weight=\"100\" text-anchor=\"middle\" transform=\"rotate(-90,195.664901,93.721773)\">1352</text>\n",
       "  <text x=\"22.832451\" y=\"138.946195\" font-size=\"1.0rem\" font-weight=\"100\" text-anchor=\"middle\" transform=\"rotate(45,22.832451,138.946195)\">1092</text>\n",
       "</svg>\n",
       "        </td>\n",
       "    </tr>\n",
       "</table>"
      ],
      "text/plain": [
       "dask.array<stack, shape=(1092, 1352, 1688), dtype=uint8, chunksize=(1, 1352, 1688), chunktype=numpy.ndarray>"
      ]
     },
     "execution_count": 20,
     "metadata": {},
     "output_type": "execute_result"
    }
   ],
   "source": [
    "# check if blanks dir exists and make if not\n",
    "if not os.path.exists(f'{root_dir}/{expt}/{pos}/{pos}_blanks'):\n",
    "    os.mkdir(f'{root_dir}/{expt}/{pos}/{pos}_blanks')\n",
    "# move blank images into this directory\n",
    "for channel in images.channels:\n",
    "    for f in images.files(channel.name):\n",
    "        for i in dodgy_frame_list:\n",
    "            if str(i).zfill(9) in f:\n",
    "                os.rename(f, f.replace('_images', '_blanks'))\n",
    "# reload image arrays now that blanks filtered\n",
    "images = DaskOctopusLiteLoader(image_path, remove_background = False)\n",
    "images['gfp']"
   ]
  },
  {
   "cell_type": "markdown",
   "id": "e6686782",
   "metadata": {},
   "source": [
    "## 3. Select reference image to base alignment around\n",
    "\n",
    "Display the average intensities of each channel. The automatically-measured brightest channel isn't necessarily the best."
   ]
  },
  {
   "cell_type": "code",
   "execution_count": 21,
   "id": "8011e037",
   "metadata": {},
   "outputs": [
    {
     "name": "stdout",
     "output_type": "stream",
     "text": [
      "Average channel brightness for selection of reference image:\n",
      "0: BRIGHTFIELD: 33.73191891389588\n",
      "1: GFP: 44.73332040857405\n",
      "2: RFP: 10.141309319858602\n",
      "3: IRFP: 48.061873736351735\n",
      "99: MASK: 0.017825675435708743\n"
     ]
    }
   ],
   "source": [
    "print('Average channel brightness for selection of reference image:')\n",
    "for channel in images.channels:\n",
    "    print(f'{channel.value}: {channel.name}:', np.mean(mean_arrays[channel.name]))"
   ]
  },
  {
   "cell_type": "code",
   "execution_count": 22,
   "id": "e83d0329",
   "metadata": {},
   "outputs": [
    {
     "data": {
      "text/plain": [
       "'MASK'"
      ]
     },
     "execution_count": 22,
     "metadata": {},
     "output_type": "execute_result"
    }
   ],
   "source": [
    "# manually select reference channel by adding index\n",
    "reference_channel = images.channels[4]\n",
    "# automatically select reference channel from max average pixel value (ie. brightest channel)\n",
    "#reference_channel = images.channels[max([(channel.value, np.mean(mean_arrays[channel.name])) for channel in images.channels])[0]]\n",
    "reference_channel.name"
   ]
  },
  {
   "cell_type": "markdown",
   "id": "b286dc16",
   "metadata": {},
   "source": [
    "#### 3a. Set cropped area of reference image to base alignment around \n",
    "Cropping as alignment struggles on large arrays such as `shape = (1200,1353,1682)`, this step is optional but you will still need to run `.compute()` on the dask array to load the image into memory to perform the alignment."
   ]
  },
  {
   "cell_type": "code",
   "execution_count": 37,
   "id": "7cf2f6bb",
   "metadata": {},
   "outputs": [
    {
     "name": "stdout",
     "output_type": "stream",
     "text": [
      "Using cropping: (500, 500)\n",
      "CPU times: user 4min 53s, sys: 3min 39s, total: 8min 32s\n",
      "Wall time: 55.6 s\n"
     ]
    },
    {
     "data": {
      "text/plain": [
       "(1638, 500, 500)"
      ]
     },
     "execution_count": 37,
     "metadata": {},
     "output_type": "execute_result"
    }
   ],
   "source": [
    "%%time\n",
    "# crop central window out of reference image\n",
    "reference_image = DaskOctopusLiteLoader(image_path, \n",
    "                                        crop = (500, 500)\n",
    "                                       )[reference_channel.name].compute()\n",
    "reference_image.shape"
   ]
  },
  {
   "cell_type": "markdown",
   "id": "466ad46f",
   "metadata": {},
   "source": [
    "## 4. Register alignment and save out transformation tensor\n",
    "Transformation tensor is a 3D series of transformation matrices over time"
   ]
  },
  {
   "cell_type": "code",
   "execution_count": 42,
   "id": "59ebe809",
   "metadata": {},
   "outputs": [
    {
     "name": "stderr",
     "output_type": "stream",
     "text": [
      "/home/nathan/analysis/miniconda3/envs/cellx/lib/python3.9/site-packages/pystackreg/pystackreg.py:379: UserWarning: Detected axis 2 as the possible time axis for the stack due to its low variability, but axis 0 was supplied for registration. Are you sure you supplied the correct axis?\n",
      "  warnings.warn(\n"
     ]
    },
    {
     "name": "stdout",
     "output_type": "stream",
     "text": [
      "CPU times: user 3min 19s, sys: 3.78 s, total: 3min 23s\n",
      "Wall time: 3min 23s\n"
     ]
    }
   ],
   "source": [
    "%%time\n",
    "# create operator using transformation type (translation)\n",
    "sr = StackReg(StackReg.TRANSLATION) \n",
    "\n",
    "# register each frame to the previous as transformation matrices/tensor\n",
    "transform_tensor = sr.register_stack(reference_image, reference = 'previous')\n",
    "\n",
    "# save out transform tensor\n",
    "np.save(f'{root_dir}/{expt}/{pos}/{reference_channel.name.lower()}_transform_tensor.npy', transform_tensor)"
   ]
  },
  {
   "cell_type": "code",
   "execution_count": 47,
   "id": "8c5c334e",
   "metadata": {},
   "outputs": [
    {
     "data": {
      "text/plain": [
       "(1638, 3, 3)"
      ]
     },
     "execution_count": 47,
     "metadata": {},
     "output_type": "execute_result"
    }
   ],
   "source": [
    "transform_tensor.shape"
   ]
  },
  {
   "cell_type": "markdown",
   "id": "6d310e7d",
   "metadata": {},
   "source": [
    "## 5. (Optional) Apply transformation matrix to all channels and save out images in separate directory\n",
    "\n",
    "Consumes a lot of time and space to replicate images with minor translational shifts, it is advised to just use the transform parameter in the `DaskOctopusLiteLoader`. "
   ]
  },
  {
   "cell_type": "code",
   "execution_count": 14,
   "id": "6ae81366",
   "metadata": {},
   "outputs": [
    {
     "name": "stderr",
     "output_type": "stream",
     "text": [
      "Aligning brightfield channel 1/4: 100%|██████████| 1067/1067 [02:46<00:00,  6.42it/s]\n",
      "Aligning gfp channel 2/4: 100%|██████████| 1067/1067 [02:48<00:00,  6.32it/s]\n",
      "Aligning rfp channel 3/4: 100%|██████████| 1067/1067 [03:06<00:00,  5.72it/s]\n",
      "Aligning irfp channel 4/4: 100%|██████████| 1067/1067 [03:04<00:00,  5.79it/s]"
     ]
    },
    {
     "name": "stdout",
     "output_type": "stream",
     "text": [
      "CPU times: user 5min 24s, sys: 51.4 s, total: 6min 15s\n",
      "Wall time: 11min 45s\n"
     ]
    },
    {
     "name": "stderr",
     "output_type": "stream",
     "text": [
      "\n"
     ]
    }
   ],
   "source": [
    "%%time\n",
    "### iterating over channels\n",
    "# create aligned image dir if does not exist \n",
    "if not os.path.exists(f'{root_dir}/{expt}/{pos}/{pos}_aligned'):\n",
    "    os.mkdir(f'{root_dir}/{expt}/{pos}/{pos}_aligned')\n",
    "# iterate over channels\n",
    "for channel in images.channels:\n",
    "    #iterate over all images in channel\n",
    "    for i in tqdm(range(len(transform_tensor)), \n",
    "                  desc = f'Aligning {channel.name.lower()} channel {channel.value+1}/{len(images.channels)}'):\n",
    "        # load specific transform matrix for that frame\n",
    "        transform_matrix = tf.EuclideanTransform(matrix = transform_tensor[i,...],\n",
    "                                                 rotation = None)\n",
    "        # transform image\n",
    "        transformed_image = (tf.warp(images[channel.name][i,...].compute(), \n",
    "                                     transform_matrix, preserve_range=True)).astype(np.uint8)\n",
    "        # set transformed image pathname by editing base dir\n",
    "        fn = images.files(channel.name)[i].replace('_images', '_aligned')\n",
    "        # save trans image out\n",
    "        imsave(fn, transformed_image, check_contrast=False)"
   ]
  },
  {
   "cell_type": "markdown",
   "id": "918491e2",
   "metadata": {},
   "source": [
    "## 6. Check alignment using Napari"
   ]
  },
  {
   "cell_type": "code",
   "execution_count": 53,
   "id": "262a10b9",
   "metadata": {},
   "outputs": [],
   "source": [
    "import napari"
   ]
  },
  {
   "cell_type": "code",
   "execution_count": 56,
   "id": "798b9d72",
   "metadata": {},
   "outputs": [],
   "source": [
    "aligned_images = DaskOctopusLiteLoader(image_path, \n",
    "                                       #crop = (1200,1600), \n",
    "                                       transforms = f'{root_dir}/{expt}/{pos}/gfp_transform_tensor.npy',\n",
    "                                       remove_background=False)\n",
    "viewer = napari.Viewer()\n",
    "for channel in aligned_images.channels:\n",
    "    viewer.add_image(aligned_images[channel.name], \n",
    "                     name = channel.name, \n",
    "                     blending = 'additive', \n",
    "                     contrast_limits = [0,255])"
   ]
  },
  {
   "cell_type": "markdown",
   "id": "b3aac445",
   "metadata": {},
   "source": [
    "## Batch execute\n",
    "\n",
    "Do all of the above but for many experiment IDs and many positions"
   ]
  },
  {
   "cell_type": "code",
   "execution_count": 74,
   "id": "444579e1",
   "metadata": {},
   "outputs": [],
   "source": [
    "import re"
   ]
  },
  {
   "cell_type": "code",
   "execution_count": 77,
   "id": "5fc821c1",
   "metadata": {},
   "outputs": [],
   "source": [
    "root_dir = '/home/nathan/data/kraken/ras'\n",
    "expt_list = sorted([expt for expt in os.listdir(root_dir) \n",
    "                    if 'ND' in expt and os.path.isdir(os.path.join(root_dir, expt))], \n",
    "                    key = lambda x: [int(y) for y in re.findall(r'\\d+', x)])\n",
    "max_pixel = 200 \n",
    "min_pixel = 2\n",
    "alignment_channel = 'mask'\n",
    "crop_area = 500\n",
    "save_out_images = False ### this does not save out a copy of the images, only the transformation matrix\n",
    "overwrite = True ### this checks for any prexisting transformations and does not overwrite\n",
    "frame_removal = False ### this boolean choice is for blank frame removal"
   ]
  },
  {
   "cell_type": "code",
   "execution_count": 76,
   "id": "1579ffcc",
   "metadata": {},
   "outputs": [
    {
     "data": {
      "text/plain": [
       "['ND0013',\n",
       " 'ND0014',\n",
       " 'ND0016',\n",
       " 'ND0017',\n",
       " 'ND0018',\n",
       " 'ND0019',\n",
       " 'ND0020',\n",
       " 'ND0021']"
      ]
     },
     "execution_count": 76,
     "metadata": {},
     "output_type": "execute_result"
    }
   ],
   "source": [
    "expt_list"
   ]
  },
  {
   "cell_type": "code",
   "execution_count": 78,
   "id": "eea9708c",
   "metadata": {},
   "outputs": [
    {
     "data": {
      "application/vnd.jupyter.widget-view+json": {
       "model_id": "d08d680087ad4af7a21d583cbdc28954",
       "version_major": 2,
       "version_minor": 0
      },
      "text/plain": [
       "  0%|          | 0/8 [00:00<?, ?it/s]"
      ]
     },
     "metadata": {},
     "output_type": "display_data"
    },
    {
     "data": {
      "application/vnd.jupyter.widget-view+json": {
       "model_id": "ccb1da6d76144269b35e0eae91967e0b",
       "version_major": 2,
       "version_minor": 0
      },
      "text/plain": [
       "  0%|          | 0/14 [00:00<?, ?it/s]"
      ]
     },
     "metadata": {},
     "output_type": "display_data"
    },
    {
     "name": "stdout",
     "output_type": "stream",
     "text": [
      "Starting ND0013/Pos13\n",
      "Using cropping: (500, 500)\n",
      "Registering alignment for Pos13 ND0013\n"
     ]
    },
    {
     "name": "stderr",
     "output_type": "stream",
     "text": [
      "/home/nathan/analysis/miniconda3/envs/cellx/lib/python3.9/site-packages/pystackreg/pystackreg.py:379: UserWarning: Detected axis 1 as the possible time axis for the stack due to its low variability, but axis 0 was supplied for registration. Are you sure you supplied the correct axis?\n",
      "  warnings.warn(\n"
     ]
    },
    {
     "name": "stdout",
     "output_type": "stream",
     "text": [
      "Starting ND0013/Pos5\n",
      "Using cropping: (500, 500)\n",
      "Registering alignment for Pos5 ND0013\n"
     ]
    },
    {
     "name": "stderr",
     "output_type": "stream",
     "text": [
      "/home/nathan/analysis/miniconda3/envs/cellx/lib/python3.9/site-packages/pystackreg/pystackreg.py:379: UserWarning: Detected axis 2 as the possible time axis for the stack due to its low variability, but axis 0 was supplied for registration. Are you sure you supplied the correct axis?\n",
      "  warnings.warn(\n"
     ]
    },
    {
     "name": "stdout",
     "output_type": "stream",
     "text": [
      "Starting ND0013/Pos11\n",
      "Using cropping: (500, 500)\n",
      "Registering alignment for Pos11 ND0013\n",
      "Starting ND0013/Pos3\n",
      "Using cropping: (500, 500)\n",
      "Registering alignment for Pos3 ND0013\n",
      "Starting ND0013/Pos1\n",
      "Using cropping: (500, 500)\n",
      "Registering alignment for Pos1 ND0013\n",
      "Starting ND0013/Pos8\n",
      "Using cropping: (500, 500)\n",
      "Registering alignment for Pos8 ND0013\n",
      "Starting ND0013/Pos10\n",
      "Using cropping: (500, 500)\n",
      "Registering alignment for Pos10 ND0013\n",
      "Starting ND0013/Pos0\n",
      "Using cropping: (500, 500)\n",
      "Registering alignment for Pos0 ND0013\n",
      "Starting ND0013/Pos2\n",
      "Using cropping: (500, 500)\n",
      "Registering alignment for Pos2 ND0013\n",
      "Starting ND0013/Pos6\n",
      "Using cropping: (500, 500)\n",
      "Registering alignment for Pos6 ND0013\n",
      "Starting ND0013/Pos7\n",
      "Using cropping: (500, 500)\n",
      "Registering alignment for Pos7 ND0013\n",
      "Starting ND0013/Pos9\n",
      "Using cropping: (500, 500)\n",
      "Registering alignment for Pos9 ND0013\n",
      "Starting ND0013/Pos4\n",
      "Using cropping: (500, 500)\n",
      "Registering alignment for Pos4 ND0013\n",
      "Starting ND0013/Pos12\n",
      "Using cropping: (500, 500)\n",
      "Registering alignment for Pos12 ND0013\n"
     ]
    },
    {
     "data": {
      "application/vnd.jupyter.widget-view+json": {
       "model_id": "66cc49d48ec74b30b57bcad9be376a34",
       "version_major": 2,
       "version_minor": 0
      },
      "text/plain": [
       "  0%|          | 0/14 [00:00<?, ?it/s]"
      ]
     },
     "metadata": {},
     "output_type": "display_data"
    },
    {
     "name": "stdout",
     "output_type": "stream",
     "text": [
      "Starting ND0014/Pos13\n",
      "Using cropping: (500, 500)\n",
      "Registering alignment for Pos13 ND0014\n",
      "Starting ND0014/Pos5\n",
      "Using cropping: (500, 500)\n",
      "Registering alignment for Pos5 ND0014\n",
      "Starting ND0014/Pos11\n",
      "Using cropping: (500, 500)\n",
      "Registering alignment for Pos11 ND0014\n",
      "Starting ND0014/Pos3\n",
      "Using cropping: (500, 500)\n",
      "Registering alignment for Pos3 ND0014\n",
      "Starting ND0014/Pos1\n",
      "Using cropping: (500, 500)\n",
      "Registering alignment for Pos1 ND0014\n",
      "Starting ND0014/Pos8\n",
      "Using cropping: (500, 500)\n",
      "Registering alignment for Pos8 ND0014\n",
      "Starting ND0014/Pos10\n",
      "Using cropping: (500, 500)\n",
      "Registering alignment for Pos10 ND0014\n",
      "Starting ND0014/Pos0\n",
      "Using cropping: (500, 500)\n",
      "Registering alignment for Pos0 ND0014\n",
      "Starting ND0014/Pos2\n",
      "Using cropping: (500, 500)\n",
      "Registering alignment for Pos2 ND0014\n",
      "Starting ND0014/Pos6\n",
      "Using cropping: (500, 500)\n",
      "Registering alignment for Pos6 ND0014\n",
      "Starting ND0014/Pos7\n",
      "Using cropping: (500, 500)\n",
      "Registering alignment for Pos7 ND0014\n",
      "Starting ND0014/Pos9\n",
      "Using cropping: (500, 500)\n",
      "Registering alignment for Pos9 ND0014\n",
      "Starting ND0014/Pos4\n",
      "Using cropping: (500, 500)\n",
      "Registering alignment for Pos4 ND0014\n",
      "Starting ND0014/Pos12\n",
      "Using cropping: (500, 500)\n",
      "Registering alignment for Pos12 ND0014\n"
     ]
    },
    {
     "data": {
      "application/vnd.jupyter.widget-view+json": {
       "model_id": "a3282ff0b6bc49c6abb78e5b59a34bd8",
       "version_major": 2,
       "version_minor": 0
      },
      "text/plain": [
       "  0%|          | 0/14 [00:00<?, ?it/s]"
      ]
     },
     "metadata": {},
     "output_type": "display_data"
    },
    {
     "name": "stdout",
     "output_type": "stream",
     "text": [
      "Starting ND0016/Pos13\n",
      "Using cropping: (500, 500)\n",
      "Registering alignment for Pos13 ND0016\n",
      "Starting ND0016/Pos5\n",
      "Using cropping: (500, 500)\n",
      "Registering alignment for Pos5 ND0016\n",
      "Starting ND0016/Pos11\n",
      "Using cropping: (500, 500)\n",
      "Registering alignment for Pos11 ND0016\n",
      "Starting ND0016/Pos3\n",
      "Using cropping: (500, 500)\n",
      "Registering alignment for Pos3 ND0016\n",
      "Starting ND0016/Pos1\n",
      "Using cropping: (500, 500)\n",
      "Registering alignment for Pos1 ND0016\n",
      "Starting ND0016/Pos8\n",
      "Using cropping: (500, 500)\n",
      "Registering alignment for Pos8 ND0016\n",
      "Starting ND0016/Pos10\n",
      "Using cropping: (500, 500)\n",
      "Registering alignment for Pos10 ND0016\n",
      "Starting ND0016/Pos0\n",
      "Using cropping: (500, 500)\n",
      "Registering alignment for Pos0 ND0016\n",
      "Starting ND0016/Pos2\n",
      "Using cropping: (500, 500)\n",
      "Registering alignment for Pos2 ND0016\n",
      "Starting ND0016/Pos6\n",
      "Using cropping: (500, 500)\n",
      "Registering alignment for Pos6 ND0016\n",
      "Starting ND0016/Pos7\n",
      "Using cropping: (500, 500)\n",
      "Registering alignment for Pos7 ND0016\n",
      "Starting ND0016/Pos9\n",
      "Using cropping: (500, 500)\n",
      "Registering alignment for Pos9 ND0016\n",
      "Starting ND0016/Pos4\n",
      "Using cropping: (500, 500)\n",
      "Registering alignment for Pos4 ND0016\n",
      "Starting ND0016/Pos12\n",
      "Using cropping: (500, 500)\n",
      "Registering alignment for Pos12 ND0016\n"
     ]
    },
    {
     "data": {
      "application/vnd.jupyter.widget-view+json": {
       "model_id": "ed7803d4f8de4b5c8ae0d05f715f7557",
       "version_major": 2,
       "version_minor": 0
      },
      "text/plain": [
       "  0%|          | 0/14 [00:00<?, ?it/s]"
      ]
     },
     "metadata": {},
     "output_type": "display_data"
    },
    {
     "name": "stdout",
     "output_type": "stream",
     "text": [
      "Starting ND0017/Pos13\n",
      "Using cropping: (500, 500)\n",
      "Registering alignment for Pos13 ND0017\n",
      "Starting ND0017/Pos5\n",
      "Using cropping: (500, 500)\n",
      "Registering alignment for Pos5 ND0017\n",
      "Starting ND0017/Pos11\n",
      "Using cropping: (500, 500)\n",
      "Registering alignment for Pos11 ND0017\n",
      "Starting ND0017/Pos3\n",
      "Using cropping: (500, 500)\n",
      "Registering alignment for Pos3 ND0017\n",
      "Starting ND0017/Pos1\n",
      "Using cropping: (500, 500)\n",
      "Registering alignment for Pos1 ND0017\n",
      "Starting ND0017/Pos8\n",
      "Using cropping: (500, 500)\n",
      "Registering alignment for Pos8 ND0017\n",
      "Starting ND0017/Pos10\n",
      "Using cropping: (500, 500)\n",
      "Registering alignment for Pos10 ND0017\n",
      "Starting ND0017/Pos0\n",
      "Using cropping: (500, 500)\n",
      "Registering alignment for Pos0 ND0017\n",
      "Starting ND0017/Pos2\n",
      "Using cropping: (500, 500)\n",
      "Registering alignment for Pos2 ND0017\n",
      "Starting ND0017/Pos6\n",
      "Using cropping: (500, 500)\n",
      "Registering alignment for Pos6 ND0017\n",
      "Starting ND0017/Pos7\n",
      "Using cropping: (500, 500)\n",
      "Registering alignment for Pos7 ND0017\n",
      "Starting ND0017/Pos9\n",
      "Using cropping: (500, 500)\n",
      "Registering alignment for Pos9 ND0017\n",
      "Starting ND0017/Pos4\n",
      "Using cropping: (500, 500)\n",
      "Registering alignment for Pos4 ND0017\n",
      "Starting ND0017/Pos12\n",
      "Using cropping: (500, 500)\n",
      "Registering alignment for Pos12 ND0017\n"
     ]
    },
    {
     "data": {
      "application/vnd.jupyter.widget-view+json": {
       "model_id": "f762043d69f2406f81b4a567443bc6e9",
       "version_major": 2,
       "version_minor": 0
      },
      "text/plain": [
       "  0%|          | 0/14 [00:00<?, ?it/s]"
      ]
     },
     "metadata": {},
     "output_type": "display_data"
    },
    {
     "name": "stdout",
     "output_type": "stream",
     "text": [
      "Starting ND0018/Pos13\n",
      "Using cropping: (500, 500)\n",
      "Registering alignment for Pos13 ND0018\n",
      "Starting ND0018/Pos5\n",
      "Using cropping: (500, 500)\n",
      "Registering alignment for Pos5 ND0018\n",
      "Starting ND0018/Pos11\n",
      "Using cropping: (500, 500)\n",
      "Registering alignment for Pos11 ND0018\n",
      "Starting ND0018/Pos3\n",
      "Using cropping: (500, 500)\n",
      "Registering alignment for Pos3 ND0018\n",
      "Starting ND0018/Pos1\n",
      "Using cropping: (500, 500)\n",
      "Registering alignment for Pos1 ND0018\n",
      "Starting ND0018/Pos8\n",
      "Using cropping: (500, 500)\n",
      "Registering alignment for Pos8 ND0018\n",
      "Starting ND0018/Pos10\n",
      "Using cropping: (500, 500)\n",
      "Registering alignment for Pos10 ND0018\n",
      "Starting ND0018/Pos0\n",
      "Using cropping: (500, 500)\n",
      "Registering alignment for Pos0 ND0018\n",
      "Starting ND0018/Pos2\n",
      "Using cropping: (500, 500)\n",
      "Registering alignment for Pos2 ND0018\n",
      "Starting ND0018/Pos6\n",
      "Using cropping: (500, 500)\n",
      "Registering alignment for Pos6 ND0018\n",
      "Starting ND0018/Pos7\n",
      "Using cropping: (500, 500)\n",
      "Registering alignment for Pos7 ND0018\n",
      "Starting ND0018/Pos9\n",
      "Using cropping: (500, 500)\n",
      "Registering alignment for Pos9 ND0018\n",
      "Starting ND0018/Pos4\n",
      "Using cropping: (500, 500)\n",
      "Registering alignment for Pos4 ND0018\n",
      "Starting ND0018/Pos12\n",
      "Using cropping: (500, 500)\n",
      "Registering alignment for Pos12 ND0018\n"
     ]
    },
    {
     "data": {
      "application/vnd.jupyter.widget-view+json": {
       "model_id": "d0f9a1e1f4a241a8ae73a1fb35d4174e",
       "version_major": 2,
       "version_minor": 0
      },
      "text/plain": [
       "  0%|          | 0/14 [00:00<?, ?it/s]"
      ]
     },
     "metadata": {},
     "output_type": "display_data"
    },
    {
     "name": "stdout",
     "output_type": "stream",
     "text": [
      "Starting ND0019/Pos13\n",
      "Using cropping: (500, 500)\n",
      "Registering alignment for Pos13 ND0019\n",
      "Starting ND0019/Pos5\n",
      "Using cropping: (500, 500)\n",
      "Registering alignment for Pos5 ND0019\n",
      "Starting ND0019/Pos11\n",
      "Using cropping: (500, 500)\n",
      "Registering alignment for Pos11 ND0019\n",
      "Starting ND0019/Pos3\n",
      "Using cropping: (500, 500)\n",
      "Registering alignment for Pos3 ND0019\n",
      "Starting ND0019/Pos1\n",
      "Using cropping: (500, 500)\n",
      "Registering alignment for Pos1 ND0019\n",
      "Starting ND0019/Pos8\n",
      "Using cropping: (500, 500)\n",
      "Registering alignment for Pos8 ND0019\n",
      "Starting ND0019/Pos10\n",
      "Using cropping: (500, 500)\n",
      "Registering alignment for Pos10 ND0019\n",
      "Starting ND0019/Pos0\n",
      "Using cropping: (500, 500)\n",
      "Registering alignment for Pos0 ND0019\n",
      "Starting ND0019/Pos2\n",
      "Using cropping: (500, 500)\n",
      "Registering alignment for Pos2 ND0019\n",
      "Starting ND0019/Pos6\n",
      "Using cropping: (500, 500)\n",
      "Registering alignment for Pos6 ND0019\n",
      "Starting ND0019/Pos7\n",
      "Using cropping: (500, 500)\n",
      "Registering alignment for Pos7 ND0019\n",
      "Starting ND0019/Pos9\n",
      "Using cropping: (500, 500)\n",
      "Registering alignment for Pos9 ND0019\n",
      "Starting ND0019/Pos4\n",
      "Using cropping: (500, 500)\n",
      "Registering alignment for Pos4 ND0019\n",
      "Starting ND0019/Pos12\n",
      "Using cropping: (500, 500)\n",
      "Registering alignment for Pos12 ND0019\n"
     ]
    },
    {
     "data": {
      "application/vnd.jupyter.widget-view+json": {
       "model_id": "92e2da36f83141b9b2f08b3f598c957e",
       "version_major": 2,
       "version_minor": 0
      },
      "text/plain": [
       "  0%|          | 0/14 [00:00<?, ?it/s]"
      ]
     },
     "metadata": {},
     "output_type": "display_data"
    },
    {
     "name": "stdout",
     "output_type": "stream",
     "text": [
      "Starting ND0020/Pos13\n",
      "Using cropping: (500, 500)\n"
     ]
    },
    {
     "ename": "ValueError",
     "evalue": "Channel Channels.MASK not found in /home/nathan/data/kraken/ras/ND0020/Pos13/Pos13_images",
     "output_type": "error",
     "traceback": [
      "\u001b[0;31m---------------------------------------------------------------------------\u001b[0m",
      "\u001b[0;31mValueError\u001b[0m                                Traceback (most recent call last)",
      "\u001b[0;32m<ipython-input-78-36db382e161b>\u001b[0m in \u001b[0;36m<module>\u001b[0;34m\u001b[0m\n\u001b[1;32m     57\u001b[0m \u001b[0;34m\u001b[0m\u001b[0m\n\u001b[1;32m     58\u001b[0m         \u001b[0;31m# crop central window out of reference image with blanks removed\u001b[0m\u001b[0;34m\u001b[0m\u001b[0;34m\u001b[0m\u001b[0m\n\u001b[0;32m---> 59\u001b[0;31m         reference_image = DaskOctopusLiteLoader(image_path, \n\u001b[0m\u001b[1;32m     60\u001b[0m                                                 \u001b[0mcrop\u001b[0m \u001b[0;34m=\u001b[0m \u001b[0;34m(\u001b[0m\u001b[0mcrop_area\u001b[0m\u001b[0;34m,\u001b[0m \u001b[0mcrop_area\u001b[0m\u001b[0;34m)\u001b[0m\u001b[0;34m\u001b[0m\u001b[0;34m\u001b[0m\u001b[0m\n\u001b[1;32m     61\u001b[0m                                                )[alignment_channel].compute() \n",
      "\u001b[0;32m~/analysis/octopuslite-reader/octopuslite/reader.py\u001b[0m in \u001b[0;36m__getitem__\u001b[0;34m(self, channel_name)\u001b[0m\n\u001b[1;32m    103\u001b[0m \u001b[0;34m\u001b[0m\u001b[0m\n\u001b[1;32m    104\u001b[0m         \u001b[0;32mif\u001b[0m \u001b[0mchannel_name\u001b[0m \u001b[0;32mnot\u001b[0m \u001b[0;32min\u001b[0m \u001b[0mself\u001b[0m\u001b[0;34m.\u001b[0m\u001b[0mchannels\u001b[0m\u001b[0;34m:\u001b[0m\u001b[0;34m\u001b[0m\u001b[0;34m\u001b[0m\u001b[0m\n\u001b[0;32m--> 105\u001b[0;31m             \u001b[0;32mraise\u001b[0m \u001b[0mValueError\u001b[0m\u001b[0;34m(\u001b[0m\u001b[0;34mf\"Channel {channel_name} not found in {self.path}\"\u001b[0m\u001b[0;34m)\u001b[0m\u001b[0;34m\u001b[0m\u001b[0;34m\u001b[0m\u001b[0m\n\u001b[0m\u001b[1;32m    106\u001b[0m \u001b[0;34m\u001b[0m\u001b[0m\n\u001b[1;32m    107\u001b[0m         \u001b[0;32mreturn\u001b[0m \u001b[0mself\u001b[0m\u001b[0;34m.\u001b[0m\u001b[0m_lazy_arrays\u001b[0m\u001b[0;34m[\u001b[0m\u001b[0mchannel_name\u001b[0m\u001b[0;34m]\u001b[0m\u001b[0;34m\u001b[0m\u001b[0;34m\u001b[0m\u001b[0m\n",
      "\u001b[0;31mValueError\u001b[0m: Channel Channels.MASK not found in /home/nathan/data/kraken/ras/ND0020/Pos13/Pos13_images"
     ]
    }
   ],
   "source": [
    "### Iterate over all experiments defined in expt_list\n",
    "for expt in tqdm(expt_list):\n",
    "    # Find all positions in that experiment\n",
    "    pos_list = [pos for pos in os.listdir(f'{root_dir}/{expt}') \n",
    "                if 'Pos' in pos \n",
    "                and os.path.isdir(f'{root_dir}/{expt}/{pos}')]        \n",
    "    ### Iterate over all positions in that experiment\n",
    "    for pos in tqdm(pos_list):\n",
    "        \n",
    "        ### check if overwrite param is false check if raw directory already created and if type of transform file already exists and decide whether to skip pos\n",
    "        if not overwrite and os.path.exists (f'{root_dir}/{expt}/{pos}/{pos}_images') and glob.glob(f'{root_dir}/{expt}/{pos}/*transform*.npy'):\n",
    "            print(glob.glob(f'{root_dir}/{expt}/{pos}/*transform*.npy'), f'file found, skipping {expt}/{pos}')\n",
    "            continue\n",
    "\n",
    "        print(f'Starting {expt}/{pos}')\n",
    "        \n",
    "        ### create new subdir of for raw files and move them all there\n",
    "        image_path = f'{root_dir}/{expt}/{pos}/{pos}_images'\n",
    "        if not os.path.exists(image_path):\n",
    "            os.mkdir(image_path)\n",
    "            files = sorted(glob.glob(f'{root_dir}/{expt}/{pos}/*.tif'))\n",
    "            for file in files:\n",
    "                os.rename(file, file.replace(f'{pos}', f'{pos}/{pos}_images'))\n",
    "        \n",
    "        if frame_removal:\n",
    "            ### pre load files from raw file dir \n",
    "            images = DaskOctopusLiteLoader(image_path, remove_background= False)\n",
    "\n",
    "            ### measure mean pixel value arrays and use to find under/over-exposed frames\n",
    "            # set empty dict arrays for mean values \n",
    "            mean_arrays = {}\n",
    "            # set for dodgy frames (only unique entries)\n",
    "            dodgy_frame_list = set([])\n",
    "            #iterate over channels\n",
    "            for channel in tqdm(images.channels, desc = f'Finding mean values of image channels'):\n",
    "                # find mean value of each frame in each channel\n",
    "                mean_arrays[channel.name] = [np.mean(img) for img in image_generator(images.files(channel.name))]\n",
    "                # iterate over frames\n",
    "                for frame, mean_value in enumerate(mean_arrays[channel.name]):\n",
    "                    # check to see if mean frame pixel value meets criteria\n",
    "                    if max_pixel < mean_value or mean_value < min_pixel:\n",
    "                        # if so add to delete list\n",
    "                        dodgy_frame_list.add(frame)\n",
    "            # format delete list to only include single values\n",
    "            dodgy_frame_list = list(dodgy_frame_list)\n",
    "            print('Number of under/over-exposed frames:', len(dodgy_frame_list))\n",
    "\n",
    "            # check if blanks dir exists and make if not\n",
    "            if not os.path.exists(f'{root_dir}/{expt}/{pos}/{pos}_blanks'):\n",
    "                os.mkdir(f'{root_dir}/{expt}/{pos}/{pos}_blanks')\n",
    "            # move blank images into this directory\n",
    "            for channel in images.channels:\n",
    "                for f in images.files(channel.name):\n",
    "                    for i in dodgy_frame_list:\n",
    "                        if str(i).zfill(9) in f:\n",
    "                            os.rename(f, f.replace('_images', '_blanks'))\n",
    "\n",
    "        # crop central window out of reference image with blanks removed\n",
    "        reference_image = DaskOctopusLiteLoader(image_path, \n",
    "                                                crop = (crop_area, crop_area)\n",
    "                                               )[alignment_channel].compute() \n",
    "        ### just gfp masks\n",
    "        #reference_image = (reference_image == 1).astype(np.uint8)\n",
    "        ### reverse order of image\n",
    "        reference_image = np.flip(reference_image, axis = 0)\n",
    "        \n",
    "        ### Register alignment\n",
    "        print('Registering alignment for', pos, expt)\n",
    "        # create operator using transformation type (translation)\n",
    "        sr = StackReg(StackReg.TRANSLATION) \n",
    "        # register each frame to the previous as transformation matrices/tensor\n",
    "        transform_tensor = sr.register_stack(reference_image, reference = 'previous')\n",
    "        \n",
    "        ### switch orientation again back to norm\n",
    "        transform_tensor = np.flip(transform_tensor, axis = 0)\n",
    "        \n",
    "        # save out transform tensor\n",
    "        np.save(f'{root_dir}/{expt}/{pos}/{alignment_channel}_reversed_clipped_transform_tensor.npy', transform_tensor)\n",
    "\n",
    "        if save_out_images:\n",
    "            ### Perform alignment\n",
    "            # create aligned image dir if does not exist \n",
    "            if not os.path.exists(f'{root_dir}/{expt}/{pos}/{pos}_aligned'):\n",
    "                os.mkdir(f'{root_dir}/{expt}/{pos}/{pos}_aligned')\n",
    "            # iterate over channels\n",
    "            for channel in images.channels:\n",
    "                #iterate over all images in channel\n",
    "                for i in tqdm(range(len(transform_tensor)), \n",
    "                              desc = f'Aligning {channel.name.lower()} channel {channel.value+1}/{len(images.channels)}'):\n",
    "                    # load specific transform matrix for that frame\n",
    "                    transform_matrix = tf.EuclideanTransform(matrix = transform_tensor[i,...],\n",
    "                                                             rotation = None)\n",
    "                    # transform image\n",
    "                    transformed_image = (tf.warp(filtered_images[channel.name][i,...].compute(), \n",
    "                                                 transform_matrix, preserve_range=True)).astype(np.uint8)\n",
    "                    # set transformed image pathname by editing base dir\n",
    "                    fn = images.files(channel.name)[i].replace('_images', '_aligned')\n",
    "                    # save trans image out\n",
    "                    imsave(fn, transformed_image, check_contrast=False)"
   ]
  },
  {
   "cell_type": "code",
   "execution_count": 61,
   "id": "9581b767",
   "metadata": {},
   "outputs": [
    {
     "data": {
      "text/plain": [
       "['/home/nathan/data/kraken/ras/ND0013/Pos4/gfp_transform_tensor.npy',\n",
       " '/home/nathan/data/kraken/ras/ND0013/Pos4/gfp_transform_tensor_clipped_clipped.npy',\n",
       " '/home/nathan/data/kraken/ras/ND0013/Pos4/gfp_transform_tensor_clipped.npy']"
      ]
     },
     "execution_count": 61,
     "metadata": {},
     "output_type": "execute_result"
    }
   ],
   "source": [
    "glob.glob(f'{root_dir}/{expt}/Pos4/*.npy')"
   ]
  },
  {
   "cell_type": "code",
   "execution_count": 55,
   "id": "3904ddab",
   "metadata": {},
   "outputs": [
    {
     "data": {
      "text/plain": [
       "['Pos13',\n",
       " 'Pos5',\n",
       " 'Pos11',\n",
       " 'Pos3',\n",
       " 'Pos1',\n",
       " 'Pos8',\n",
       " 'Pos10',\n",
       " 'Pos0',\n",
       " 'Pos2',\n",
       " 'Pos6',\n",
       " 'Pos7',\n",
       " 'Pos9',\n",
       " 'Pos4',\n",
       " 'Pos12']"
      ]
     },
     "execution_count": 55,
     "metadata": {},
     "output_type": "execute_result"
    }
   ],
   "source": [
    "pos_list"
   ]
  },
  {
   "cell_type": "code",
   "execution_count": 59,
   "id": "b49c345d",
   "metadata": {},
   "outputs": [
    {
     "name": "stdout",
     "output_type": "stream",
     "text": [
      "/home/nathan/data/kraken/ras/ND0013/Pos4/gfp_transform_tensor.npy\n",
      "/home/nathan/data/kraken/ras/ND0013/Pos4/gfp_transform_tensor_clipped.npy\n"
     ]
    }
   ],
   "source": [
    "for pos in ['Pos4']:\n",
    "    for fn in glob.glob(f'{root_dir}/{expt}/{pos}/*.npy'):\n",
    "        tens = np.load(fn)\n",
    "        print(fn)\n",
    "        clip_tens = np.clip(tens, a_max= 10, a_min = None)\n",
    "\n",
    "        np.save(fn.replace('.npy', '_clipped.npy'), clip_tens)"
   ]
  },
  {
   "cell_type": "code",
   "execution_count": 49,
   "id": "407a3bec",
   "metadata": {},
   "outputs": [],
   "source": [
    "clipped = np.clip(transform_tensor, a_max= 10, a_min = None)"
   ]
  },
  {
   "cell_type": "code",
   "execution_count": 47,
   "id": "c1c142e7",
   "metadata": {},
   "outputs": [],
   "source": [
    "np.save(f'{root_dir}/{expt}/Pos3/{alignment_channel}_reversed_clipped_transform_tensor.npy', clipped)\n"
   ]
  },
  {
   "cell_type": "code",
   "execution_count": 46,
   "id": "9da77c9e",
   "metadata": {},
   "outputs": [
    {
     "data": {
      "text/plain": [
       "'/home/nathan/data/kraken/ras/ND0013/Pos12/mask_reversed_clipped_transform_tensor.npy'"
      ]
     },
     "execution_count": 46,
     "metadata": {},
     "output_type": "execute_result"
    }
   ],
   "source": [
    "f'{root_dir}/{expt}/{pos}/{alignment_channel}_reversed_clipped_transform_tensor.npy'"
   ]
  },
  {
   "cell_type": "code",
   "execution_count": 27,
   "id": "c9af7764",
   "metadata": {},
   "outputs": [],
   "source": [
    "import matplotlib.pyplot as plt"
   ]
  },
  {
   "cell_type": "code",
   "execution_count": 37,
   "id": "a1d5cc8c",
   "metadata": {},
   "outputs": [
    {
     "data": {
      "image/png": "[encoded data removed]",
      "text/plain": [
       "<Figure size 640x480 with 1 Axes>"
      ]
     },
     "metadata": {},
     "output_type": "display_data"
    }
   ],
   "source": [
    "plt.imshow(reference_image[-1])\n",
    "plt.show()"
   ]
  },
  {
   "cell_type": "code",
   "execution_count": 34,
   "id": "772167cb",
   "metadata": {},
   "outputs": [],
   "source": [
    "r_ref = np.flip(reference_image, axis = 0)"
   ]
  },
  {
   "cell_type": "code",
   "execution_count": 36,
   "id": "4a1cc100",
   "metadata": {},
   "outputs": [
    {
     "data": {
      "image/png": "[encoded data removed]",
      "text/plain": [
       "<Figure size 640x480 with 1 Axes>"
      ]
     },
     "metadata": {},
     "output_type": "display_data"
    }
   ],
   "source": [
    "plt.imshow(r_ref[0])\n",
    "plt.show()"
   ]
  }
 ],
 "metadata": {
  "kernelspec": {
   "display_name": "CellX",
   "language": "python",
   "name": "cellx"
  },
  "language_info": {
   "codemirror_mode": {
    "name": "ipython",
    "version": 3
   },
   "file_extension": ".py",
   "mimetype": "text/x-python",
   "name": "python",
   "nbconvert_exporter": "python",
   "pygments_lexer": "ipython3",
   "version": "3.9.7"
  }
 },
 "nbformat": 4,
 "nbformat_minor": 5
}
