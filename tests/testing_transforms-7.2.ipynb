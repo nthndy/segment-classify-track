{
 "cells": [
  {
   "cell_type": "code",
   "execution_count": 2,
   "id": "d029b8af",
   "metadata": {},
   "outputs": [],
   "source": [
    "import numpy as np"
   ]
  },
  {
   "cell_type": "code",
   "execution_count": 3,
   "id": "cf0bf403",
   "metadata": {},
   "outputs": [],
   "source": [
    "from octopuslite import DaskOctopusLiteLoader"
   ]
  },
  {
   "cell_type": "code",
   "execution_count": 52,
   "id": "0cc59af6",
   "metadata": {},
   "outputs": [],
   "source": [
    "import napari, os"
   ]
  },
  {
   "cell_type": "markdown",
   "id": "1b6c059c",
   "metadata": {},
   "source": [
    "# testing batches of transforms "
   ]
  },
  {
   "cell_type": "code",
   "execution_count": 5,
   "id": "c81371ab",
   "metadata": {},
   "outputs": [],
   "source": [
    "### image size versus typical crop (1200, 1600)"
   ]
  },
  {
   "cell_type": "code",
   "execution_count": 58,
   "id": "f3aae178",
   "metadata": {},
   "outputs": [],
   "source": [
    "expt_dict = {}\n",
    "for n in range(10,14):    \n",
    "    expt_dict[f'ND00{n}']=[f'Pos{i}' for i in range(14)]"
   ]
  },
  {
   "cell_type": "code",
   "execution_count": 59,
   "id": "91074790",
   "metadata": {
    "scrolled": true
   },
   "outputs": [
    {
     "data": {
      "text/plain": [
       "{'ND0010': ['Pos0',\n",
       "  'Pos1',\n",
       "  'Pos2',\n",
       "  'Pos3',\n",
       "  'Pos4',\n",
       "  'Pos5',\n",
       "  'Pos6',\n",
       "  'Pos7',\n",
       "  'Pos8',\n",
       "  'Pos9',\n",
       "  'Pos10',\n",
       "  'Pos11',\n",
       "  'Pos12',\n",
       "  'Pos13'],\n",
       " 'ND0011': ['Pos0',\n",
       "  'Pos1',\n",
       "  'Pos2',\n",
       "  'Pos3',\n",
       "  'Pos4',\n",
       "  'Pos5',\n",
       "  'Pos6',\n",
       "  'Pos7',\n",
       "  'Pos8',\n",
       "  'Pos9',\n",
       "  'Pos10',\n",
       "  'Pos11',\n",
       "  'Pos12',\n",
       "  'Pos13'],\n",
       " 'ND0012': ['Pos0',\n",
       "  'Pos1',\n",
       "  'Pos2',\n",
       "  'Pos3',\n",
       "  'Pos4',\n",
       "  'Pos5',\n",
       "  'Pos6',\n",
       "  'Pos7',\n",
       "  'Pos8',\n",
       "  'Pos9',\n",
       "  'Pos10',\n",
       "  'Pos11',\n",
       "  'Pos12',\n",
       "  'Pos13'],\n",
       " 'ND0013': ['Pos0',\n",
       "  'Pos1',\n",
       "  'Pos2',\n",
       "  'Pos3',\n",
       "  'Pos4',\n",
       "  'Pos5',\n",
       "  'Pos6',\n",
       "  'Pos7',\n",
       "  'Pos8',\n",
       "  'Pos9',\n",
       "  'Pos10',\n",
       "  'Pos11',\n",
       "  'Pos12',\n",
       "  'Pos13']}"
      ]
     },
     "execution_count": 59,
     "metadata": {},
     "output_type": "execute_result"
    }
   ],
   "source": [
    "expt_dict"
   ]
  },
  {
   "cell_type": "code",
   "execution_count": 60,
   "id": "53ce8574",
   "metadata": {
    "scrolled": true
   },
   "outputs": [
    {
     "name": "stdout",
     "output_type": "stream",
     "text": [
      "ND0010 Pos0 (1190, 1200, 1600)\n",
      "ND0010 Pos1 (1193, 1352, 1688)\n",
      "ND0010 Pos2 (1189, 1352, 1688)\n",
      "ND0010 Pos3 (1189, 1352, 1688)\n",
      "ND0010 Pos4 (1191, 1200, 1600)\n",
      "ND0010 Pos5 (1193, 1352, 1688)\n",
      "ND0010 Pos6 (1188, 1352, 1688)\n",
      "ND0010 Pos7 (1195, 1352, 1688)\n",
      "ND0010 Pos8 (1193, 1352, 1688)\n",
      "ND0010 Pos9 (1190, 1352, 1688)\n",
      "ND0010 Pos10 (1194, 1200, 1600)\n",
      "ND0010 Pos11 (1191, 1352, 1688)\n",
      "ND0010 Pos12 removing from dict\n",
      "ND0011 Pos0 (1637, 1352, 1688)\n",
      "ND0011 Pos1 (1640, 1352, 1688)\n",
      "ND0011 Pos2 (1636, 1352, 1688)\n",
      "ND0011 Pos3 (1638, 1352, 1688)\n",
      "ND0011 Pos4 (1640, 1200, 1600)\n",
      "ND0011 Pos5 (1639, 1352, 1688)\n",
      "ND0011 Pos6 (1638, 1352, 1688)\n",
      "ND0011 Pos7 (1646, 1352, 1688)\n",
      "ND0011 Pos8 (1645, 1352, 1688)\n",
      "ND0011 Pos9 (1646, 1352, 1688)\n",
      "ND0011 Pos10 (1640, 1200, 1600)\n",
      "ND0011 Pos11 (1644, 1352, 1688)\n",
      "ND0011 Pos12 removing from dict\n",
      "ND0012 Pos0 (1735, 1352, 1688)\n",
      "ND0012 Pos1 (1735, 1352, 1688)\n",
      "ND0012 Pos2 (1738, 1352, 1688)\n",
      "ND0012 Pos3 (1744, 1352, 1688)\n",
      "ND0012 Pos4 (1742, 1352, 1688)\n",
      "ND0012 Pos5 (1738, 1352, 1688)\n",
      "ND0012 Pos6 (1744, 1352, 1688)\n",
      "ND0012 Pos7 (1741, 1352, 1688)\n",
      "ND0012 Pos8 (1737, 1352, 1688)\n",
      "ND0012 Pos9 (1740, 1352, 1688)\n",
      "ND0012 Pos10 (1735, 1352, 1688)\n",
      "ND0012 Pos11 (1740, 1352, 1688)\n",
      "ND0012 Pos12 removing from dict\n",
      "ND0013 Pos0 (2785, 1352, 1688)\n",
      "ND0013 Pos1 (2777, 1352, 1688)\n",
      "ND0013 Pos2 (2775, 1352, 1688)\n",
      "ND0013 Pos3 (2788, 1352, 1688)\n",
      "ND0013 Pos4 (2780, 1352, 1688)\n",
      "ND0013 Pos5 (2788, 1352, 1688)\n",
      "ND0013 Pos6 (2787, 1352, 1688)\n",
      "ND0013 Pos7 (2797, 1352, 1688)\n",
      "ND0013 Pos8 (2796, 1352, 1688)\n",
      "ND0013 Pos9 (2791, 1352, 1688)\n",
      "ND0013 Pos10 (2791, 1352, 1688)\n",
      "ND0013 Pos11 (2787, 1352, 1688)\n",
      "ND0013 Pos12 (2791, 1352, 1688)\n",
      "ND0013 Pos13 (1713, 1352, 1688)\n"
     ]
    }
   ],
   "source": [
    "for i in expt_dict:\n",
    "    for j in expt_dict[i]:\n",
    "        image_path = f'/home/nathan/data/kraken/ras/{i}/{j}/{j}_images'\n",
    "        if os.path.exists(image_path):\n",
    "            images = DaskOctopusLiteLoader(image_path, crop = None)\n",
    "            print(i, j, images['gfp'].shape)\n",
    "        else:\n",
    "            print(i, j, 'removing from dict')\n",
    "            del expt_dict[i][int(j.replace('Pos',''))]"
   ]
  },
  {
   "cell_type": "code",
   "execution_count": 62,
   "id": "bdcf0018",
   "metadata": {},
   "outputs": [],
   "source": [
    "image_size = (1353, 1688)\n",
    "crop = (1200, 1600)\n",
    "max_drift = [image_size[i] - crop[i] for i in range(2)]"
   ]
  },
  {
   "cell_type": "code",
   "execution_count": 63,
   "id": "2df1d11f",
   "metadata": {},
   "outputs": [
    {
     "data": {
      "text/plain": [
       "[153, 88]"
      ]
     },
     "execution_count": 63,
     "metadata": {},
     "output_type": "execute_result"
    }
   ],
   "source": [
    "max_drift"
   ]
  },
  {
   "cell_type": "markdown",
   "id": "c143e20a",
   "metadata": {},
   "source": [
    "# maximum drift should be approx 153 in x and 88 in y"
   ]
  },
  {
   "cell_type": "code",
   "execution_count": 64,
   "id": "a98be3bf",
   "metadata": {},
   "outputs": [],
   "source": [
    "import glob"
   ]
  },
  {
   "cell_type": "code",
   "execution_count": 117,
   "id": "c45d2c9d",
   "metadata": {},
   "outputs": [
    {
     "name": "stdout",
     "output_type": "stream",
     "text": [
      "ND0010 Pos0  max x shift:  -177.96385094299026  index:  10\n",
      "seemingly alright: ND0010 Pos1\n",
      "ND0010 Pos2  max y shift:  -135.2117620494767  index:  23\n",
      "seemingly alright: ND0010 Pos3\n",
      "ND0010 Pos4  max y shift:  -111.63856353102344  index:  18\n",
      "seemingly alright: ND0010 Pos5\n",
      "ND0010 Pos6  max y shift:  -207.14021728980026  index:  16\n",
      "seemingly alright: ND0010 Pos7\n",
      "ND0010 Pos8  max y shift:  -104.08257550662097  index:  17\n",
      "seemingly alright: ND0010 Pos9\n",
      "seemingly alright: ND0010 Pos10\n",
      "seemingly alright: ND0010 Pos11\n",
      "ND0011 Pos0  max x shift:  -1516.329338569617  index:  93\n",
      "ND0011 Pos1  max x shift:  -1062.5368306329117  index:  58\n",
      "ND0011 Pos2  max y shift:  -431.464483932121  index:  19\n",
      "ND0011 Pos3  max x shift:  162.79976371558251  index:  1453\n",
      "seemingly alright: ND0011 Pos4\n",
      "ND0011 Pos5  max y shift:  -147.61055446667908  index:  332\n",
      "ND0011 Pos6  max y shift:  -199.43521374243508  index:  268\n",
      "ND0011 Pos7  max x shift:  159.80635655851353  index:  1512\n",
      "seemingly alright: ND0011 Pos8\n",
      "ND0011 Pos9  max x shift:  787.2546531168136  index:  1645\n",
      "ND0011 Pos10  max x shift:  1461.546308291992  index:  1634\n",
      "ND0011 Pos11  max x shift:  192.28602355305205  index:  1005\n",
      "ND0012 Pos0  max y shift:  -169.30775300714157  index:  459\n",
      "ND0012 Pos1  max y shift:  -120.67916619807258  index:  487\n",
      "seemingly alright: ND0012 Pos2\n",
      "ND0012 Pos3  max y shift:  -206.90217127359674  index:  396\n",
      "ND0012 Pos4  max x shift:  154.10271525675094  index:  1728\n",
      "seemingly alright: ND0012 Pos5\n",
      "ND0012 Pos6  max x shift:  -228.5879732243585  index:  149\n",
      "seemingly alright: ND0012 Pos7\n",
      "seemingly alright: ND0012 Pos8\n",
      "ND0012 Pos9  max x shift:  293.3791110706212  index:  1380\n",
      "ND0012 Pos10  max x shift:  281.1176708278031  index:  1680\n",
      "ND0012 Pos11  max x shift:  -631.8073478365568  index:  0\n",
      "ND0013 Pos0  max y shift:  -247.89179704004763  index:  215\n",
      "ND0013 Pos1  max y shift:  175.41424215977173  index:  2766\n",
      "ND0013 Pos2  max y shift:  -213.89150404652364  index:  561\n",
      "ND0013 Pos3  max y shift:  -605.9761083840978  index:  223\n",
      "ND0013 Pos4  max x shift:  -154.3431436439944  index:  154\n",
      "seemingly alright: ND0013 Pos5\n",
      "seemingly alright: ND0013 Pos6\n",
      "ND0013 Pos7  max x shift:  209.32015962246737  index:  2694\n",
      "ND0013 Pos8  max y shift:  193.46957440192222  index:  2765\n",
      "ND0013 Pos9  max x shift:  -221.92647029564506  index:  268\n",
      "ND0013 Pos10  max x shift:  -180.11457537731482  index:  221\n",
      "ND0013 Pos11  max x shift:  258.1238481592068  index:  2783\n",
      "ND0013 Pos12  max y shift:  -343.61875879150483  index:  738\n",
      "ND0013 Pos13  max x shift:  330.221782383854  index:  1708\n"
     ]
    }
   ],
   "source": [
    "for i in expt_dict:\n",
    "    for j in expt_dict[i]:\n",
    "        transform_path = glob.glob(f'/home/nathan/data/kraken/ras/{i}/{j}/*.npy')\n",
    "        if transform_path:\n",
    "            transform = np.load(transform_path[0])\n",
    "            x = transform[:,0,2]\n",
    "            y = transform[:,1,2]\n",
    "            if abs(max(x, key=abs)) > 153:\n",
    "                print(i, j, ' max x shift: ', max(x, key=abs), ' index: ',np.argmax(x))\n",
    "#             else:\n",
    "#                 print(i, j, ' max x shift: ', max(x, key=abs), ' index: ',np.argmin(x))\n",
    "            elif abs(max(y, key=abs)) > 88:   \n",
    "                print(i, j, ' max y shift: ', max(y, key=abs), ' index: ',np.argmax(y))\n",
    "#             else:\n",
    "#                 print(i, j, ' max y shift: ', max(y, key=abs), ' index: ',np.argmin(y))\n",
    "            else:\n",
    "                print('seemingly alright:',i, j)"
   ]
  },
  {
   "cell_type": "markdown",
   "id": "516631e6",
   "metadata": {},
   "source": [
    "# "
   ]
  }
 ],
 "metadata": {
  "kernelspec": {
   "display_name": "CellX",
   "language": "python",
   "name": "cellx"
  },
  "language_info": {
   "codemirror_mode": {
    "name": "ipython",
    "version": 3
   },
   "file_extension": ".py",
   "mimetype": "text/x-python",
   "name": "python",
   "nbconvert_exporter": "python",
   "pygments_lexer": "ipython3",
   "version": "3.9.7"
  }
 },
 "nbformat": 4,
 "nbformat_minor": 5
}
