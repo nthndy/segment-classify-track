{
 "cells": [
  {
   "cell_type": "markdown",
   "id": "a4cf9a6b",
   "metadata": {},
   "source": [
    "# Napari image viewer\n",
    "\n",
    "Uses the octopuslite dask image loader to automatically sort and load images from multichannel time lapse experiments. Can also use btrack to load associated tracks and segmentation images."
   ]
  },
  {
   "cell_type": "code",
   "execution_count": 1,
   "id": "3a23b02f",
   "metadata": {},
   "outputs": [],
   "source": [
    "import napari\n",
    "from octopuslite import DaskOctopusLiteLoader"
   ]
  },
  {
   "cell_type": "code",
   "execution_count": 6,
   "id": "9b787311",
   "metadata": {},
   "outputs": [],
   "source": [
    "import numpy"
   ]
  },
  {
   "cell_type": "markdown",
   "id": "96c1a1c1",
   "metadata": {},
   "source": [
    "# testing transform implementation"
   ]
  },
  {
   "cell_type": "code",
   "execution_count": 79,
   "id": "92e9a662",
   "metadata": {},
   "outputs": [
    {
     "name": "stdout",
     "output_type": "stream",
     "text": [
      "ND0012 Pos0\n",
      "Using cropping: (1200, 1600)\n"
     ]
    }
   ],
   "source": [
    "import os\n",
    "\n",
    "expt = 'ND0012'\n",
    "pos = 'Pos0'\n",
    "image_path = f'/home/nathan/data/kraken/ras/{expt}/{pos}/{pos}_images'\n",
    "transform_path = f'/home/nathan/data/kraken/ras/{expt}/{pos}/gfp_transform_tensor.npy'\n",
    "if os.path.exists(image_path):\n",
    "    print(expt, pos)\n",
    "#     trans = numpy.load(transform_path)\n",
    "#     if len(trans.shape) == 4:\n",
    "#         print('reshape')\n",
    "#         numpy.save(transform_path, numpy.reshape(trans, (len(trans)*len(trans[0]), 3, 3)))\n",
    "    images = DaskOctopusLiteLoader(image_path, remove_background=True, \n",
    "                                   transforms=transform_path,\n",
    "                                   crop = (1200, 1600))\n",
    "    gfp = images['gfp']\n",
    "    rfp = images['rfp']\n",
    "    irfp = images['irfp']\n",
    "    masks = images['mask'].astype(int)\n",
    "    viewer = napari.Viewer()\n",
    "    viewer.add_image(gfp,\n",
    "                     contrast_limits=[0,255],\n",
    "                     blending = 'additive', \n",
    "                     colormap = 'green',\n",
    "                    name = f'transform_{14}')#, is_pyramid=False)\n",
    "    viewer.add_image(rfp, name=\"rfp\", \n",
    "                     contrast_limits=[0,55], \n",
    "                     blending = 'additive', colormap = 'red')#, is_pyramid=False)\n",
    "    viewer.add_image(irfp, name=\"irfp\", \n",
    "         contrast_limits=[0,255], \n",
    "         blending = 'additive', colormap = 'cyan')#\n",
    "    viewer.add_labels(masks, name = f'trans{expt}/{pos}',\n",
    "                   )\n",
    "    viewer.show(block=True)"
   ]
  },
  {
   "cell_type": "code",
   "execution_count": 26,
   "id": "5ab27a3c",
   "metadata": {},
   "outputs": [],
   "source": [
    "trans = numpy.load(transform_path)"
   ]
  },
  {
   "cell_type": "code",
   "execution_count": 29,
   "id": "4d46090a",
   "metadata": {},
   "outputs": [],
   "source": [
    "transform_path = f'/home/nathan/data/kraken/ras/{expt}/{pos}/gfp_transform_tensor_14.npy'\n"
   ]
  },
  {
   "cell_type": "code",
   "execution_count": 41,
   "id": "d389bf65",
   "metadata": {},
   "outputs": [
    {
     "data": {
      "text/plain": [
       "array([[-7.64561612e+01, -4.70585977e+02],\n",
       "       [-7.57575709e+01, -4.70382052e+02],\n",
       "       [-7.46870318e+01, -4.70267907e+02],\n",
       "       [-7.77721680e+01, -4.70393597e+02],\n",
       "       [ 0.00000000e+00,  0.00000000e+00],\n",
       "       [ 1.45408388e+00, -4.30155860e+00],\n",
       "       [-4.98507831e-01, -2.32258565e+00],\n",
       "       [ 2.20540161e+00, -3.94122041e+00],\n",
       "       [-8.59118685e-02, -3.27027988e+00],\n",
       "       [-7.60416375e-01, -3.32813527e+00]])"
      ]
     },
     "execution_count": 41,
     "metadata": {},
     "output_type": "execute_result"
    }
   ],
   "source": [
    "trans_13[115:125, :2, -1]"
   ]
  },
  {
   "cell_type": "code",
   "execution_count": 42,
   "id": "fa175201",
   "metadata": {},
   "outputs": [
    {
     "data": {
      "text/plain": [
       "array([[-7.64561612e+01, -4.70585977e+02],\n",
       "       [-7.57575709e+01, -4.70382052e+02],\n",
       "       [-7.46870318e+01, -4.70267907e+02],\n",
       "       [-7.77721680e+01, -4.70393597e+02],\n",
       "       [ 0.00000000e+00,  0.00000000e+00],\n",
       "       [ 1.45408388e+00, -4.30155860e+00],\n",
       "       [-4.98507831e-01, -2.32258565e+00],\n",
       "       [ 2.20540161e+00, -3.94122041e+00],\n",
       "       [-8.59118685e-02, -3.27027988e+00],\n",
       "       [-7.60416375e-01, -3.32813527e+00]])"
      ]
     },
     "execution_count": 42,
     "metadata": {},
     "output_type": "execute_result"
    }
   ],
   "source": [
    "trans_14[115:125, :2, -1]"
   ]
  },
  {
   "cell_type": "code",
   "execution_count": 49,
   "id": "113bca7e",
   "metadata": {},
   "outputs": [
    {
     "data": {
      "text/plain": [
       "0.0"
      ]
     },
     "execution_count": 49,
     "metadata": {},
     "output_type": "execute_result"
    }
   ],
   "source": [
    "sum(trans_14[119,:2, -1])"
   ]
  },
  {
   "cell_type": "code",
   "execution_count": 47,
   "id": "9e697699",
   "metadata": {},
   "outputs": [
    {
     "ename": "ValueError",
     "evalue": "The truth value of an array with more than one element is ambiguous. Use a.any() or a.all()",
     "output_type": "error",
     "traceback": [
      "\u001b[0;31m---------------------------------------------------------------------------\u001b[0m",
      "\u001b[0;31mValueError\u001b[0m                                Traceback (most recent call last)",
      "\u001b[0;32m<ipython-input-47-db3a513fa893>\u001b[0m in \u001b[0;36m<module>\u001b[0;34m\u001b[0m\n\u001b[0;32m----> 1\u001b[0;31m \u001b[0;32mif\u001b[0m \u001b[0mtrans_14\u001b[0m\u001b[0;34m[\u001b[0m\u001b[0;36m119\u001b[0m\u001b[0;34m,\u001b[0m\u001b[0;34m:\u001b[0m\u001b[0;36m2\u001b[0m\u001b[0;34m,\u001b[0m \u001b[0;34m-\u001b[0m\u001b[0;36m1\u001b[0m\u001b[0;34m]\u001b[0m \u001b[0;34m==\u001b[0m \u001b[0;34m[\u001b[0m\u001b[0;36m0\u001b[0m\u001b[0;34m,\u001b[0m\u001b[0;36m0\u001b[0m\u001b[0;34m]\u001b[0m\u001b[0;34m:\u001b[0m\u001b[0;34m\u001b[0m\u001b[0;34m\u001b[0m\u001b[0m\n\u001b[0m\u001b[1;32m      2\u001b[0m     \u001b[0mprint\u001b[0m\u001b[0;34m(\u001b[0m\u001b[0;32mTrue\u001b[0m\u001b[0;34m)\u001b[0m\u001b[0;34m\u001b[0m\u001b[0;34m\u001b[0m\u001b[0m\n",
      "\u001b[0;31mValueError\u001b[0m: The truth value of an array with more than one element is ambiguous. Use a.any() or a.all()"
     ]
    }
   ],
   "source": [
    "if trans_14[119,:2, -1] == [0,0]:\n",
    "    print(True)"
   ]
  },
  {
   "cell_type": "code",
   "execution_count": 69,
   "id": "bc6d202a",
   "metadata": {},
   "outputs": [
    {
     "name": "stdout",
     "output_type": "stream",
     "text": [
      "0\n",
      "119\n",
      "238\n",
      "357\n",
      "476\n",
      "595\n",
      "714\n",
      "833\n",
      "952\n",
      "1071\n"
     ]
    }
   ],
   "source": [
    "i_list = []\n",
    "for i in range(len(trans)):\n",
    "    if sum(trans[i,:2, -1]) == 0:\n",
    "        print(i)\n",
    "        i_list.append(i)\n",
    "edit = np.delete(trans, i_list, 0)"
   ]
  },
  {
   "cell_type": "code",
   "execution_count": 71,
   "id": "ba2fcef6",
   "metadata": {},
   "outputs": [
    {
     "data": {
      "text/plain": [
       "1180"
      ]
     },
     "execution_count": 71,
     "metadata": {},
     "output_type": "execute_result"
    }
   ],
   "source": [
    "len(edit)"
   ]
  },
  {
   "cell_type": "code",
   "execution_count": 72,
   "id": "3af80adc",
   "metadata": {},
   "outputs": [],
   "source": [
    "np.save(f'/home/nathan/data/kraken/ras/{expt}/{pos}/gfp_transform_tensor_16.npy', edit)"
   ]
  },
  {
   "cell_type": "code",
   "execution_count": 57,
   "id": "47ff6d0b",
   "metadata": {},
   "outputs": [
    {
     "data": {
      "text/plain": [
       "1190"
      ]
     },
     "execution_count": 57,
     "metadata": {},
     "output_type": "execute_result"
    }
   ],
   "source": [
    "len(trans)"
   ]
  },
  {
   "cell_type": "code",
   "execution_count": 59,
   "id": "e18dee5a",
   "metadata": {},
   "outputs": [],
   "source": [
    "import numpy as np"
   ]
  },
  {
   "cell_type": "code",
   "execution_count": 65,
   "id": "6faf0651",
   "metadata": {},
   "outputs": [
    {
     "data": {
      "text/plain": [
       "slice(119, None, None)"
      ]
     },
     "execution_count": 65,
     "metadata": {},
     "output_type": "execute_result"
    }
   ],
   "source": [
    "np.s_[119::]"
   ]
  },
  {
   "cell_type": "code",
   "execution_count": 68,
   "id": "693fbceb",
   "metadata": {},
   "outputs": [
    {
     "data": {
      "text/plain": [
       "1189"
      ]
     },
     "execution_count": 68,
     "metadata": {},
     "output_type": "execute_result"
    }
   ],
   "source": [
    "len(np.delete(trans, [119], 0))"
   ]
  },
  {
   "cell_type": "markdown",
   "id": "9cc54637",
   "metadata": {},
   "source": [
    "# Load images"
   ]
  },
  {
   "cell_type": "code",
   "execution_count": null,
   "id": "5206859a",
   "metadata": {
    "scrolled": true
   },
   "outputs": [],
   "source": [
    "# define experiment ID and select a position\n",
    "expt = 'ND0010'\n",
    "pos = 'Pos0'\n",
    "# point to where the data is\n",
    "root_dir = '/home/nathan/data/kraken/ras'\n",
    "image_path = f'{root_dir}/{expt}/{pos}/{pos}_images'\n",
    "transform_path = f'{root_dir}/{expt}/{pos}/gfp_transform_tensor.npy'\n",
    "tracks_path = f'{root_dir}/{expt}/{pos}/tracks.h5'\n",
    "# lazily load images\n",
    "images = DaskOctopusLiteLoader(image_path, \n",
    "                               transforms = transform_path,\n",
    "                               crop = (1200,1600),\n",
    "                               remove_background = False)\n",
    "images.channels"
   ]
  },
  {
   "cell_type": "code",
   "execution_count": null,
   "id": "6921a651",
   "metadata": {},
   "outputs": [],
   "source": [
    "gfp = images['gfp']\n",
    "rfp = images['rfp']\n",
    "irfp = images['irfp']\n",
    "masks = images['mask']"
   ]
  },
  {
   "cell_type": "code",
   "execution_count": null,
   "id": "a1858262",
   "metadata": {},
   "outputs": [],
   "source": [
    "import numpy as np\n",
    "for i in rfp[1109:1113]:\n",
    "    print(np.mean(i.compute()))"
   ]
  },
  {
   "cell_type": "markdown",
   "id": "5c17659d",
   "metadata": {},
   "source": [
    "### Add tracks"
   ]
  },
  {
   "cell_type": "code",
   "execution_count": null,
   "id": "568a2f65",
   "metadata": {},
   "outputs": [],
   "source": [
    "import btrack\n",
    "from btrack.utils import tracks_to_napari"
   ]
  },
  {
   "cell_type": "markdown",
   "id": "bc41789f",
   "metadata": {},
   "source": [
    "#### iRFP tracks"
   ]
  },
  {
   "cell_type": "code",
   "execution_count": null,
   "id": "0612ea14",
   "metadata": {
    "scrolled": true
   },
   "outputs": [],
   "source": [
    "with btrack.dataio.HDF5FileHandler(tracks_path, \n",
    "                                   'r', obj_type='obj_type_1'\n",
    "                                  ) as h:\n",
    "    irfp_tracks = h.tracks"
   ]
  },
  {
   "cell_type": "code",
   "execution_count": null,
   "id": "2b98d28c",
   "metadata": {},
   "outputs": [],
   "source": [
    "irfp_tracks, irfp_properties, irfp_graph = tracks_to_napari(irfp_tracks, ndim = 2)"
   ]
  },
  {
   "cell_type": "markdown",
   "id": "4b0d99aa",
   "metadata": {},
   "source": [
    "#### RFP tracks"
   ]
  },
  {
   "cell_type": "code",
   "execution_count": null,
   "id": "8be591f3",
   "metadata": {
    "scrolled": true
   },
   "outputs": [],
   "source": [
    "with btrack.dataio.HDF5FileHandler(tracks_path, \n",
    "                                   'r', obj_type='obj_type_2'\n",
    "                                  ) as h:\n",
    "    rfp_tracks = h.tracks"
   ]
  },
  {
   "cell_type": "code",
   "execution_count": null,
   "id": "43a9ba3c",
   "metadata": {},
   "outputs": [],
   "source": [
    "rfp_tracks, rfp_properties, rfp_graph = tracks_to_napari(rfp_tracks, ndim = 2)"
   ]
  },
  {
   "cell_type": "markdown",
   "id": "603b486b",
   "metadata": {},
   "source": [
    "# Launch viewer"
   ]
  },
  {
   "cell_type": "code",
   "execution_count": null,
   "id": "8ffa3640",
   "metadata": {},
   "outputs": [],
   "source": [
    "viewer = napari.Viewer()\n",
    "viewer.add_image(gfp, name=\"gfp\", \n",
    "                 contrast_limits=[0,255],\n",
    "                 blending = 'additive', colormap = 'green')#, is_pyramid=False)\n",
    "viewer.add_image(rfp, name=\"rfp\", \n",
    "                 contrast_limits=[0,55], \n",
    "                 blending = 'additive', colormap = 'magenta')#, is_pyramid=False)\n",
    "viewer.add_image(irfp, name=\"irfp\", \n",
    "                 contrast_limits=[0,255], \n",
    "                 blending = 'additive', colormap = 'cyan')#\n",
    "viewer.add_image(masks, name = 'masks',\n",
    "                contrast_limits=[0,255],\n",
    "               blending = 'additive',)\n",
    "viewer.add_tracks(irfp_tracks)\n",
    "viewer.add_tracks(rfp_tracks)"
   ]
  }
 ],
 "metadata": {
  "kernelspec": {
   "display_name": "CellX",
   "language": "python",
   "name": "cellx"
  },
  "language_info": {
   "codemirror_mode": {
    "name": "ipython",
    "version": 3
   },
   "file_extension": ".py",
   "mimetype": "text/x-python",
   "name": "python",
   "nbconvert_exporter": "python",
   "pygments_lexer": "ipython3",
   "version": "3.9.7"
  }
 },
 "nbformat": 4,
 "nbformat_minor": 5
}
