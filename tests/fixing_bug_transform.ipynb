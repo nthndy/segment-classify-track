{
 "cells": [
  {
   "cell_type": "markdown",
   "id": "a4cf9a6b",
   "metadata": {},
   "source": [
    "# Napari image viewer\n",
    "\n",
    "Uses the octopuslite dask image loader to automatically sort and load images from multichannel time lapse experiments. Can also use btrack to load associated tracks and segmentation images."
   ]
  },
  {
   "cell_type": "code",
   "execution_count": 1,
   "id": "3a23b02f",
   "metadata": {},
   "outputs": [],
   "source": [
    "import napari\n",
    "from octopuslite import DaskOctopusLiteLoader\n",
    "import os"
   ]
  },
  {
   "cell_type": "markdown",
   "id": "11fde16b",
   "metadata": {},
   "source": [
    "# testing transform implementation"
   ]
  },
  {
   "cell_type": "code",
   "execution_count": 4,
   "id": "6459cb71",
   "metadata": {
    "scrolled": false
   },
   "outputs": [],
   "source": [
    "\n",
    "expt = 'ND0010'\n",
    "pos = 'Pos0'\n",
    "image_path = f'/home/nathan/data/kraken/ras/{expt}/{pos}/{pos}_images'\n",
    "transform_path = f'/home/nathan/data/kraken/ras/{expt}/{pos}/gfp_transform_tensor_6.npy'\n",
    "\n"
   ]
  },
  {
   "cell_type": "code",
   "execution_count": 5,
   "id": "a50dc0c5",
   "metadata": {},
   "outputs": [
    {
     "name": "stdout",
     "output_type": "stream",
     "text": [
      "Channels.GFP /home/nathan/data/kraken/ras/ND0010/Pos0/Pos0_images/img_channel001_position000_time000000000_z000.tif\n"
     ]
    },
    {
     "name": "stderr",
     "output_type": "stream",
     "text": [
      "Exception in callback BaseAsyncIOLoop._handle_events(114, 1)\n",
      "handle: <Handle BaseAsyncIOLoop._handle_events(114, 1)>\n",
      "Traceback (most recent call last):\n",
      "  File \"/home/nathan/analysis/miniconda3/envs/cellx/lib/python3.9/asyncio/events.py\", line 80, in _run\n",
      "    self._context.run(self._callback, *self._args)\n",
      "  File \"/home/nathan/analysis/miniconda3/envs/cellx/lib/python3.9/site-packages/tornado/platform/asyncio.py\", line 189, in _handle_events\n",
      "    handler_func(fileobj, events)\n",
      "  File \"/home/nathan/analysis/miniconda3/envs/cellx/lib/python3.9/site-packages/zmq/eventloop/zmqstream.py\", line 452, in _handle_events\n",
      "    self._handle_recv()\n",
      "  File \"/home/nathan/analysis/miniconda3/envs/cellx/lib/python3.9/site-packages/zmq/eventloop/zmqstream.py\", line 481, in _handle_recv\n",
      "    self._run_callback(callback, msg)\n",
      "  File \"/home/nathan/analysis/miniconda3/envs/cellx/lib/python3.9/site-packages/zmq/eventloop/zmqstream.py\", line 431, in _run_callback\n",
      "    callback(*args, **kwargs)\n",
      "  File \"/home/nathan/analysis/miniconda3/envs/cellx/lib/python3.9/site-packages/jupyter_client/threaded.py\", line 121, in _handle_recv\n",
      "    msg_list = self.ioloop._asyncio_event_loop.run_until_complete(get_msg(future_msg))\n",
      "  File \"/home/nathan/analysis/miniconda3/envs/cellx/lib/python3.9/asyncio/base_events.py\", line 618, in run_until_complete\n",
      "    self._check_running()\n",
      "  File \"/home/nathan/analysis/miniconda3/envs/cellx/lib/python3.9/asyncio/base_events.py\", line 580, in _check_running\n",
      "    raise RuntimeError(\n",
      "RuntimeError: Cannot run the event loop while another loop is running\n",
      "/home/nathan/analysis/miniconda3/envs/cellx/lib/python3.9/site-packages/dask/highlevelgraph.py:537: RuntimeWarning: coroutine 'get_msg' was never awaited\n",
      "  super().__init__(annotations=annotations)\n",
      "RuntimeWarning: Enable tracemalloc to get the object allocation traceback\n"
     ]
    },
    {
     "data": {
      "text/plain": [
       "<Image layer 'Image [2]' at 0x7f2e41782880>"
      ]
     },
     "execution_count": 5,
     "metadata": {},
     "output_type": "execute_result"
    }
   ],
   "source": [
    "viewer = napari.Viewer()\n",
    "viewer.add_image(DaskOctopusLiteLoader(image_path, remove_background=False,transforms=transform_path, )['gfp'],  name='trans', blending = 'additive')\n",
    "viewer.add_image(DaskOctopusLiteLoader(image_path, remove_background=False,transforms= None, )['gfp'], blending = 'additive')\n",
    "viewer.add_image(DaskOctopusLiteLoader(image_path, remove_background=False,transforms= False,)['gfp'], blending = 'additive')\n",
    "viewer.add_image(DaskOctopusLiteLoader(image_path, remove_background=False,)['gfp'], blending = 'additive')"
   ]
  }
 ],
 "metadata": {
  "kernelspec": {
   "display_name": "CellX",
   "language": "python",
   "name": "cellx"
  },
  "language_info": {
   "codemirror_mode": {
    "name": "ipython",
    "version": 3
   },
   "file_extension": ".py",
   "mimetype": "text/x-python",
   "name": "python",
   "nbconvert_exporter": "python",
   "pygments_lexer": "ipython3",
   "version": "3.9.7"
  }
 },
 "nbformat": 4,
 "nbformat_minor": 5
}
