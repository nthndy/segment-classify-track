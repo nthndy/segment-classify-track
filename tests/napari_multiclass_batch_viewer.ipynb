{
 "cells": [
  {
   "cell_type": "markdown",
   "id": "a4cf9a6b",
   "metadata": {},
   "source": [
    "# Napari image viewer\n",
    "\n",
    "Uses the octopuslite dask image loader to automatically sort and load images from multichannel time lapse experiments. Can also use btrack to load associated tracks and segmentation images."
   ]
  },
  {
   "cell_type": "code",
   "execution_count": 1,
   "id": "3a23b02f",
   "metadata": {},
   "outputs": [],
   "source": [
    "import napari\n",
    "from octopuslite import DaskOctopusLiteLoader\n",
    "import os"
   ]
  },
  {
   "cell_type": "code",
   "execution_count": 2,
   "id": "92e9a662",
   "metadata": {},
   "outputs": [],
   "source": [
    "expt_dict = {}\n",
    "for n in range(10,14):    \n",
    "    expt_dict[f'ND00{n}']=[f'Pos{i}' for i in range(14)]"
   ]
  },
  {
   "cell_type": "code",
   "execution_count": null,
   "id": "13765c7f",
   "metadata": {},
   "outputs": [
    {
     "name": "stdout",
     "output_type": "stream",
     "text": [
      "ND0010 Pos0\n",
      "Using cropping: (1200, 1600)\n",
      "ND0010 Pos0\n",
      "Using cropping: (1200, 1600)\n"
     ]
    },
    {
     "name": "stderr",
     "output_type": "stream",
     "text": [
      "Exception in callback BaseAsyncIOLoop._handle_events(84, 1)\n",
      "handle: <Handle BaseAsyncIOLoop._handle_events(84, 1)>\n",
      "Traceback (most recent call last):\n",
      "  File \"/home/nathan/analysis/miniconda3/envs/cellx/lib/python3.9/asyncio/events.py\", line 80, in _run\n",
      "    self._context.run(self._callback, *self._args)\n",
      "  File \"/home/nathan/analysis/miniconda3/envs/cellx/lib/python3.9/site-packages/tornado/platform/asyncio.py\", line 189, in _handle_events\n",
      "    handler_func(fileobj, events)\n",
      "  File \"/home/nathan/analysis/miniconda3/envs/cellx/lib/python3.9/site-packages/zmq/eventloop/zmqstream.py\", line 452, in _handle_events\n",
      "    self._handle_recv()\n",
      "  File \"/home/nathan/analysis/miniconda3/envs/cellx/lib/python3.9/site-packages/zmq/eventloop/zmqstream.py\", line 481, in _handle_recv\n",
      "    self._run_callback(callback, msg)\n",
      "  File \"/home/nathan/analysis/miniconda3/envs/cellx/lib/python3.9/site-packages/zmq/eventloop/zmqstream.py\", line 431, in _run_callback\n",
      "    callback(*args, **kwargs)\n",
      "  File \"/home/nathan/analysis/miniconda3/envs/cellx/lib/python3.9/site-packages/jupyter_client/threaded.py\", line 121, in _handle_recv\n",
      "    msg_list = self.ioloop._asyncio_event_loop.run_until_complete(get_msg(future_msg))\n",
      "  File \"/home/nathan/analysis/miniconda3/envs/cellx/lib/python3.9/asyncio/base_events.py\", line 618, in run_until_complete\n",
      "    self._check_running()\n",
      "  File \"/home/nathan/analysis/miniconda3/envs/cellx/lib/python3.9/asyncio/base_events.py\", line 580, in _check_running\n",
      "    raise RuntimeError(\n",
      "RuntimeError: Cannot run the event loop while another loop is running\n",
      "/home/nathan/analysis/miniconda3/envs/cellx/lib/python3.9/site-packages/dask/core.py:315: RuntimeWarning: coroutine 'get_msg' was never awaited\n",
      "  _add(result[val], k)\n",
      "RuntimeWarning: Enable tracemalloc to get the object allocation traceback\n",
      "Exception in callback BaseAsyncIOLoop._handle_events(114, 1)\n",
      "handle: <Handle BaseAsyncIOLoop._handle_events(114, 1)>\n",
      "Traceback (most recent call last):\n",
      "  File \"/home/nathan/analysis/miniconda3/envs/cellx/lib/python3.9/asyncio/events.py\", line 80, in _run\n",
      "    self._context.run(self._callback, *self._args)\n",
      "  File \"/home/nathan/analysis/miniconda3/envs/cellx/lib/python3.9/site-packages/tornado/platform/asyncio.py\", line 189, in _handle_events\n",
      "    handler_func(fileobj, events)\n",
      "  File \"/home/nathan/analysis/miniconda3/envs/cellx/lib/python3.9/site-packages/zmq/eventloop/zmqstream.py\", line 452, in _handle_events\n",
      "    self._handle_recv()\n",
      "  File \"/home/nathan/analysis/miniconda3/envs/cellx/lib/python3.9/site-packages/zmq/eventloop/zmqstream.py\", line 481, in _handle_recv\n",
      "    self._run_callback(callback, msg)\n",
      "  File \"/home/nathan/analysis/miniconda3/envs/cellx/lib/python3.9/site-packages/zmq/eventloop/zmqstream.py\", line 431, in _run_callback\n",
      "    callback(*args, **kwargs)\n",
      "  File \"/home/nathan/analysis/miniconda3/envs/cellx/lib/python3.9/site-packages/jupyter_client/threaded.py\", line 121, in _handle_recv\n",
      "    msg_list = self.ioloop._asyncio_event_loop.run_until_complete(get_msg(future_msg))\n",
      "  File \"/home/nathan/analysis/miniconda3/envs/cellx/lib/python3.9/asyncio/base_events.py\", line 618, in run_until_complete\n",
      "    self._check_running()\n",
      "  File \"/home/nathan/analysis/miniconda3/envs/cellx/lib/python3.9/asyncio/base_events.py\", line 580, in _check_running\n",
      "    raise RuntimeError(\n",
      "RuntimeError: Cannot run the event loop while another loop is running\n",
      "/home/nathan/analysis/miniconda3/envs/cellx/lib/python3.9/site-packages/dask/core.py:315: RuntimeWarning: coroutine 'get_msg' was never awaited\n",
      "  _add(result[val], k)\n",
      "RuntimeWarning: Enable tracemalloc to get the object allocation traceback\n"
     ]
    },
    {
     "name": "stdout",
     "output_type": "stream",
     "text": [
      "ND0010 Pos1\n",
      "Using cropping: (1200, 1600)\n"
     ]
    }
   ],
   "source": [
    "for expt in ['ND0010']:#expt_dict:\n",
    "    for pos in expt_dict[expt]:\n",
    "        image_path = f'/home/nathan/data/kraken/ras/{expt}/{pos}/{pos}_images'\n",
    "        transform_path = f'/home/nathan/data/kraken/ras/{expt}/{pos}/gfp_transform_tensor_1.npy'\n",
    "        if os.path.exists(image_path):\n",
    "            print(expt, pos)\n",
    "            images = DaskOctopusLiteLoader(image_path, remove_background=False, \n",
    "                                           transforms=transform_path,\n",
    "                                           crop = (1200, 1600))\n",
    "            gfp = images['gfp']\n",
    "            rfp = images['rfp']\n",
    "            irfp = images['irfp']\n",
    "            masks = images['mask']\n",
    "            viewer = napari.Viewer()\n",
    "            viewer.add_image(gfp, name=\"gfp\", \n",
    "                             contrast_limits=[0,255],\n",
    "                             blending = 'additive', colormap = 'green')#, is_pyramid=False)\n",
    "            viewer.add_image(rfp, name=\"rfp\", \n",
    "                             contrast_limits=[0,55], \n",
    "                             blending = 'additive', colormap = 'magenta')#, is_pyramid=False)\n",
    "            viewer.add_image(irfp, name=\"irfp\", \n",
    "                 contrast_limits=[0,255], \n",
    "                 blending = 'additive', colormap = 'cyan')#\n",
    "            viewer.add_image(masks, name = f'trans {expt}/{pos}',\n",
    "                            contrast_limits=[0,2],\n",
    "                           blending = 'additive',)\n",
    "            viewer.show(block=True)\n",
    "        transform_path = f'/home/nathan/data/kraken/ras/{expt}/{pos}/gfp_transform_tensor.npy'\n",
    "        if os.path.exists(image_path):\n",
    "            print(expt, pos)\n",
    "            images = DaskOctopusLiteLoader(image_path, remove_background=False, \n",
    "                                           transforms=transform_path,\n",
    "                                           crop = (1200, 1600))\n",
    "            gfp = images['gfp']\n",
    "            rfp = images['rfp']\n",
    "            irfp = images['irfp']\n",
    "            masks = images['mask']\n",
    "            viewer = napari.Viewer()\n",
    "            viewer.add_image(gfp, name=\"gfp\", \n",
    "                             contrast_limits=[0,255],\n",
    "                             blending = 'additive', colormap = 'green')#, is_pyramid=False)\n",
    "            viewer.add_image(rfp, name=\"rfp\", \n",
    "                             contrast_limits=[0,55], \n",
    "                             blending = 'additive', colormap = 'magenta')#, is_pyramid=False)\n",
    "            viewer.add_image(irfp, name=\"irfp\", \n",
    "                 contrast_limits=[0,255], \n",
    "                 blending = 'additive', colormap = 'cyan')#\n",
    "            viewer.add_image(masks, name = f'/{expt}/{pos}',\n",
    "                            contrast_limits=[0,2],\n",
    "                           blending = 'additive',)\n",
    "            viewer.show(block=True)"
   ]
  },
  {
   "cell_type": "markdown",
   "id": "9cc54637",
   "metadata": {},
   "source": [
    "# Load images"
   ]
  },
  {
   "cell_type": "code",
   "execution_count": 2,
   "id": "5206859a",
   "metadata": {
    "scrolled": true
   },
   "outputs": [
    {
     "name": "stdout",
     "output_type": "stream",
     "text": [
      "Using cropping: (1200, 1600)\n"
     ]
    },
    {
     "data": {
      "text/plain": [
       "[<Channels.BRIGHTFIELD: 0>,\n",
       " <Channels.GFP: 1>,\n",
       " <Channels.RFP: 2>,\n",
       " <Channels.IRFP: 3>,\n",
       " <Channels.MASK: 99>]"
      ]
     },
     "execution_count": 2,
     "metadata": {},
     "output_type": "execute_result"
    }
   ],
   "source": [
    "# define experiment ID and select a position\n",
    "expt = 'ND0011'\n",
    "pos = 'Pos6'\n",
    "# point to where the data is\n",
    "root_dir = '/home/nathan/data'\n",
    "image_path = f'{root_dir}/{expt}/{pos}/{pos}_images'\n",
    "transform_path = f'{root_dir}/{expt}/{pos}/gfp_transform_tensor.npy'\n",
    "tracks_path = f'{root_dir}/{expt}/{pos}/tracks.h5'\n",
    "# lazily load images\n",
    "images = DaskOctopusLiteLoader(image_path, \n",
    "                               transforms = transform_path,\n",
    "                               crop = (1200,1600),\n",
    "                               remove_background = False)\n",
    "images.channels"
   ]
  },
  {
   "cell_type": "code",
   "execution_count": 9,
   "id": "6921a651",
   "metadata": {},
   "outputs": [],
   "source": [
    "gfp = images['gfp']\n",
    "rfp = images['rfp']\n",
    "irfp = images['irfp']\n",
    "masks = images['mask']"
   ]
  },
  {
   "cell_type": "markdown",
   "id": "5c17659d",
   "metadata": {},
   "source": [
    "### Add tracks"
   ]
  },
  {
   "cell_type": "code",
   "execution_count": 4,
   "id": "568a2f65",
   "metadata": {},
   "outputs": [],
   "source": [
    "import btrack\n",
    "from btrack.utils import tracks_to_napari"
   ]
  },
  {
   "cell_type": "markdown",
   "id": "bc41789f",
   "metadata": {},
   "source": [
    "#### iRFP tracks"
   ]
  },
  {
   "cell_type": "code",
   "execution_count": 7,
   "id": "0612ea14",
   "metadata": {
    "scrolled": true
   },
   "outputs": [
    {
     "name": "stderr",
     "output_type": "stream",
     "text": [
      "[INFO][2022/01/13 06:25:36 PM] Opening HDF file: /home/nathan/data/kraken/ras/ND0009/Pos3/gfp_tracks.h5...\n",
      "[INFO][2022/01/13 06:25:36 PM] Loading tracks/obj_type_1\n",
      "[INFO][2022/01/13 06:25:36 PM] Loading objects/obj_type_1 (195987, 5) (195987 filtered: None)\n",
      "[INFO][2022/01/13 06:25:41 PM] Closing HDF file: /home/nathan/data/kraken/ras/ND0009/Pos3/gfp_tracks.h5\n"
     ]
    }
   ],
   "source": [
    "with btrack.dataio.HDF5FileHandler(tracks_path, \n",
    "                                   'r', obj_type='obj_type_1'\n",
    "                                  ) as h:\n",
    "    irfp_tracks = h.tracks"
   ]
  },
  {
   "cell_type": "code",
   "execution_count": 8,
   "id": "2b98d28c",
   "metadata": {},
   "outputs": [],
   "source": [
    "irfp_tracks, irfp_properties, irfp_graph = tracks_to_napari(irfp_tracks, ndim = 2)"
   ]
  },
  {
   "cell_type": "markdown",
   "id": "4b0d99aa",
   "metadata": {},
   "source": [
    "#### RFP tracks"
   ]
  },
  {
   "cell_type": "code",
   "execution_count": 7,
   "id": "8be591f3",
   "metadata": {
    "scrolled": true
   },
   "outputs": [
    {
     "name": "stderr",
     "output_type": "stream",
     "text": [
      "[INFO][2022/01/13 06:25:36 PM] Opening HDF file: /home/nathan/data/kraken/ras/ND0009/Pos3/gfp_tracks.h5...\n",
      "[INFO][2022/01/13 06:25:36 PM] Loading tracks/obj_type_1\n",
      "[INFO][2022/01/13 06:25:36 PM] Loading objects/obj_type_1 (195987, 5) (195987 filtered: None)\n",
      "[INFO][2022/01/13 06:25:41 PM] Closing HDF file: /home/nathan/data/kraken/ras/ND0009/Pos3/gfp_tracks.h5\n"
     ]
    }
   ],
   "source": [
    "with btrack.dataio.HDF5FileHandler(tracks_path, \n",
    "                                   'r', obj_type='obj_type_2'\n",
    "                                  ) as h:\n",
    "    rfp_tracks = h.tracks"
   ]
  },
  {
   "cell_type": "code",
   "execution_count": 8,
   "id": "43a9ba3c",
   "metadata": {},
   "outputs": [],
   "source": [
    "rfp_tracks, rfp_properties, rfp_graph = tracks_to_napari(rfp_tracks, ndim = 2)"
   ]
  },
  {
   "cell_type": "markdown",
   "id": "603b486b",
   "metadata": {},
   "source": [
    "# Launch viewer"
   ]
  },
  {
   "cell_type": "code",
   "execution_count": 12,
   "id": "8ffa3640",
   "metadata": {},
   "outputs": [
    {
     "data": {
      "text/plain": [
       "<Tracks layer 'gfp_tracks' at 0x7f2c4da63910>"
      ]
     },
     "execution_count": 12,
     "metadata": {},
     "output_type": "execute_result"
    }
   ],
   "source": [
    "viewer = napari.Viewer()\n",
    "viewer.add_image(gfp, name=\"gfp\", \n",
    "                 contrast_limits=[0,255],\n",
    "                 blending = 'additive', colormap = 'green')#, is_pyramid=False)\n",
    "viewer.add_image(rfp, name=\"rfp\", \n",
    "                 contrast_limits=[0,55], \n",
    "                 blending = 'additive', colormap = 'magenta')#, is_pyramid=False)\n",
    "viewer.add_image(irfp, name=\"irfp\", \n",
    "                 contrast_limits=[0,255], \n",
    "                 blending = 'additive', colormap = 'cyan')#\n",
    "viewer.add_image(masks, name = 'masks',\n",
    "                contrast_limits=[0,255],\n",
    "               blending = 'additive',)\n",
    "viewer.add_tracks(irfp_tracks)\n",
    "viewer.add_tracks(rfp_tracks)"
   ]
  }
 ],
 "metadata": {
  "kernelspec": {
   "display_name": "CellX",
   "language": "python",
   "name": "cellx"
  },
  "language_info": {
   "codemirror_mode": {
    "name": "ipython",
    "version": 3
   },
   "file_extension": ".py",
   "mimetype": "text/x-python",
   "name": "python",
   "nbconvert_exporter": "python",
   "pygments_lexer": "ipython3",
   "version": "3.9.7"
  }
 },
 "nbformat": 4,
 "nbformat_minor": 5
}
